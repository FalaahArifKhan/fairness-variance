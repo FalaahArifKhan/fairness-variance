{
 "cells": [
  {
   "cell_type": "code",
   "execution_count": 51,
   "id": "248cbed8",
   "metadata": {},
   "outputs": [
    {
     "name": "stdout",
     "output_type": "stream",
     "text": [
      "The autoreload extension is already loaded. To reload it, use:\n",
      "  %reload_ext autoreload\n"
     ]
    }
   ],
   "source": [
    "%matplotlib inline\n",
    "%load_ext autoreload\n",
    "%autoreload 2"
   ]
  },
  {
   "cell_type": "code",
   "execution_count": 52,
   "id": "7ec6cd08",
   "metadata": {},
   "outputs": [],
   "source": [
    "import os\n",
    "import warnings\n",
    "warnings.filterwarnings('ignore')\n",
    "os.environ[\"PYTHONWARNINGS\"] = \"ignore\""
   ]
  },
  {
   "cell_type": "code",
   "execution_count": 53,
   "id": "b8cb69f2",
   "metadata": {},
   "outputs": [
    {
     "name": "stdout",
     "output_type": "stream",
     "text": [
      "Current location:  /home/denys_herasymuk/UCU/4course_2term/Bachelor_Thesis/Code/fairness-variance\n"
     ]
    }
   ],
   "source": [
    "cur_folder_name = os.getcwd().split('/')[-1]\n",
    "if cur_folder_name != \"fairness-variance\":\n",
    "    os.chdir(\"../..\")\n",
    "\n",
    "print('Current location: ', os.getcwd())"
   ]
  },
  {
   "cell_type": "markdown",
   "id": "606df34d",
   "metadata": {},
   "source": [
    "## Import dependencies"
   ]
  },
  {
   "cell_type": "code",
   "execution_count": 54,
   "id": "7a9241de",
   "metadata": {},
   "outputs": [],
   "source": [
    "import os\n",
    "from datetime import datetime, timezone\n",
    "\n",
    "from sklearn.linear_model import LogisticRegression\n",
    "from sklearn.tree import DecisionTreeClassifier\n",
    "\n",
    "from source.utils.custom_initializers import create_config_obj, read_model_metric_dfs\n",
    "from source.custom_classes.data_loaders import CompasWithoutSensitiveAttrsDataset\n",
    "from source.custom_classes.metrics_visualizer import MetricsVisualizer\n",
    "from source.custom_classes.metrics_composer import MetricsComposer\n",
    "from source.user_interfaces.metrics_computation_interfaces import compute_metrics_multiple_runs"
   ]
  },
  {
   "cell_type": "markdown",
   "id": "95f15603",
   "metadata": {},
   "source": [
    "## Create a config object"
   ]
  },
  {
   "cell_type": "code",
   "execution_count": 55,
   "outputs": [],
   "source": [
    "ROOT_DIR = os.path.join('docs', 'examples')\n",
    "config_yaml_path = os.path.join(ROOT_DIR, 'experiment_compas_config.yaml')\n",
    "config_yaml_content = \"\"\"\n",
    "dataset_name: COMPAS_Without_Sensitive_Attributes\n",
    "test_set_fraction: 0.2\n",
    "bootstrap_fraction: 0.8\n",
    "n_estimators: 10\n",
    "#runs_seed_lst: [100]\n",
    "runs_seed_lst: [100, 200, 300, 400, 500, 600]\n",
    "sensitive_attributes_dct: {'sex': 0, 'race': 'Caucasian', 'sex&race': None}\n",
    "\"\"\"\n",
    "\n",
    "with open(config_yaml_path, 'w', encoding='utf-8') as f:\n",
    "    f.write(config_yaml_content)"
   ],
   "metadata": {
    "collapsed": false
   }
  },
  {
   "cell_type": "code",
   "execution_count": 56,
   "id": "71d8f24a",
   "metadata": {},
   "outputs": [],
   "source": [
    "config = create_config_obj(config_yaml_path=config_yaml_path)\n",
    "# TODO: delete 'results' before this notebook execution\n",
    "SAVE_RESULTS_DIR_PATH = os.path.join(ROOT_DIR, 'results',\n",
    "                                     f'{config.dataset_name}_Metrics_{datetime.now(timezone.utc).strftime(\"%Y%m%d__%H%M%S\")}')"
   ]
  },
  {
   "cell_type": "markdown",
   "source": [
    "## Create a models config"
   ],
   "metadata": {
    "collapsed": false
   }
  },
  {
   "cell_type": "code",
   "execution_count": 57,
   "outputs": [],
   "source": [
    "models_config = {\n",
    "    'DecisionTreeClassifier': DecisionTreeClassifier(criterion='gini',\n",
    "                                                     max_depth=20,\n",
    "                                                     max_features=0.6,\n",
    "                                                     min_samples_split=0.1),\n",
    "    'LogisticRegression': LogisticRegression(C=1,\n",
    "                                             max_iter=50,\n",
    "                                             penalty='l2',\n",
    "                                             solver='newton-cg'),\n",
    "}"
   ],
   "metadata": {
    "collapsed": false
   }
  },
  {
   "cell_type": "markdown",
   "id": "5c60057a",
   "metadata": {},
   "source": [
    "## Create a Dataset class"
   ]
  },
  {
   "cell_type": "code",
   "execution_count": 58,
   "id": "3e53fe9a",
   "metadata": {},
   "outputs": [
    {
     "data": {
      "text/plain": "   juv_fel_count  juv_misd_count  juv_other_count  priors_count  \\\n0            0.0       -2.340451              1.0    -15.010999   \n1            0.0        0.000000              0.0      0.000000   \n2            0.0        0.000000              0.0      0.000000   \n3            0.0        0.000000              0.0      6.000000   \n4            0.0        0.000000              0.0      7.513697   \n\n   age_cat_25 - 45  age_cat_Greater than 45  age_cat_Less than 25  \\\n0                1                        0                     0   \n1                1                        0                     0   \n2                0                        0                     1   \n3                1                        0                     0   \n4                1                        0                     0   \n\n   c_charge_degree_F  c_charge_degree_M  \n0                  0                  1  \n1                  1                  0  \n2                  1                  0  \n3                  0                  1  \n4                  1                  0  ",
      "text/html": "<div>\n<style scoped>\n    .dataframe tbody tr th:only-of-type {\n        vertical-align: middle;\n    }\n\n    .dataframe tbody tr th {\n        vertical-align: top;\n    }\n\n    .dataframe thead th {\n        text-align: right;\n    }\n</style>\n<table border=\"1\" class=\"dataframe\">\n  <thead>\n    <tr style=\"text-align: right;\">\n      <th></th>\n      <th>juv_fel_count</th>\n      <th>juv_misd_count</th>\n      <th>juv_other_count</th>\n      <th>priors_count</th>\n      <th>age_cat_25 - 45</th>\n      <th>age_cat_Greater than 45</th>\n      <th>age_cat_Less than 25</th>\n      <th>c_charge_degree_F</th>\n      <th>c_charge_degree_M</th>\n    </tr>\n  </thead>\n  <tbody>\n    <tr>\n      <th>0</th>\n      <td>0.0</td>\n      <td>-2.340451</td>\n      <td>1.0</td>\n      <td>-15.010999</td>\n      <td>1</td>\n      <td>0</td>\n      <td>0</td>\n      <td>0</td>\n      <td>1</td>\n    </tr>\n    <tr>\n      <th>1</th>\n      <td>0.0</td>\n      <td>0.000000</td>\n      <td>0.0</td>\n      <td>0.000000</td>\n      <td>1</td>\n      <td>0</td>\n      <td>0</td>\n      <td>1</td>\n      <td>0</td>\n    </tr>\n    <tr>\n      <th>2</th>\n      <td>0.0</td>\n      <td>0.000000</td>\n      <td>0.0</td>\n      <td>0.000000</td>\n      <td>0</td>\n      <td>0</td>\n      <td>1</td>\n      <td>1</td>\n      <td>0</td>\n    </tr>\n    <tr>\n      <th>3</th>\n      <td>0.0</td>\n      <td>0.000000</td>\n      <td>0.0</td>\n      <td>6.000000</td>\n      <td>1</td>\n      <td>0</td>\n      <td>0</td>\n      <td>0</td>\n      <td>1</td>\n    </tr>\n    <tr>\n      <th>4</th>\n      <td>0.0</td>\n      <td>0.000000</td>\n      <td>0.0</td>\n      <td>7.513697</td>\n      <td>1</td>\n      <td>0</td>\n      <td>0</td>\n      <td>1</td>\n      <td>0</td>\n    </tr>\n  </tbody>\n</table>\n</div>"
     },
     "execution_count": 58,
     "metadata": {},
     "output_type": "execute_result"
    }
   ],
   "source": [
    "dataset = CompasWithoutSensitiveAttrsDataset(dataset_path='data/COMPAS.csv')\n",
    "dataset.X_data.head()"
   ]
  },
  {
   "cell_type": "markdown",
   "source": [
    "## Subgroup Metrics Computation"
   ],
   "metadata": {
    "collapsed": false
   }
  },
  {
   "cell_type": "markdown",
   "id": "c3530f06",
   "metadata": {},
   "source": [
    "## Get metrics for a list of models with a run_metrics_computation_with_config interface and input arguments as a config"
   ]
  },
  {
   "cell_type": "code",
   "execution_count": 59,
   "id": "197eadaa",
   "metadata": {},
   "outputs": [
    {
     "name": "stderr",
     "output_type": "stream",
     "text": [
      "Multiple runs progress:   0%|\u001B[32m          \u001B[0m| 0/3 [00:00<?, ?it/s]\n",
      "Analyze models in one run:   0%|\u001B[31m          \u001B[0m| 0/2 [00:00<?, ?it/s]\u001B[A"
     ]
    },
    {
     "name": "stdout",
     "output_type": "stream",
     "text": [
      "##############################  [Model 1 / 2] Analyze DecisionTreeClassifier  ##############################\n",
      "Model random_state:  101\n",
      "Baseline X_train shape:  (4222, 9)\n",
      "Baseline X_test shape:  (1056, 9)\n",
      "\n",
      "\n"
     ]
    },
    {
     "name": "stderr",
     "output_type": "stream",
     "text": [
      "2023-02-01 01:51:38 abstract_overall_variance_analyzer.py INFO    : Start classifiers testing by bootstrap\n",
      "\n",
      "\n",
      "Classifiers testing by bootstrap: 100%|\u001B[34m██████████\u001B[0m| 10/10 [00:00<00:00, 178.24it/s]"
     ]
    },
    {
     "name": "stdout",
     "output_type": "stream",
     "text": [
      "\n",
      "\n"
     ]
    },
    {
     "name": "stderr",
     "output_type": "stream",
     "text": [
      "\n",
      "2023-02-01 01:51:38 abstract_overall_variance_analyzer.py INFO    : Successfully tested classifiers by bootstrap\n",
      "2023-02-01 01:51:38 abstract_overall_variance_analyzer.py INFO    : Successfully computed predict proba metrics\n",
      "\n",
      "Analyze models in one run:  50%|\u001B[31m█████     \u001B[0m| 1/2 [00:01<00:01,  1.13s/it]\u001B[A"
     ]
    },
    {
     "name": "stdout",
     "output_type": "stream",
     "text": [
      "\n",
      "\n",
      "\n",
      "\n",
      "##############################  [Model 2 / 2] Analyze LogisticRegression  ##############################\n",
      "Model random_state:  102\n",
      "Baseline X_train shape:  (4222, 9)\n",
      "Baseline X_test shape:  (1056, 9)\n",
      "\n",
      "\n"
     ]
    },
    {
     "name": "stderr",
     "output_type": "stream",
     "text": [
      "2023-02-01 01:51:39 abstract_overall_variance_analyzer.py INFO    : Start classifiers testing by bootstrap\n",
      "\n",
      "\n",
      "Classifiers testing by bootstrap: 100%|\u001B[34m██████████\u001B[0m| 10/10 [00:00<00:00, 46.15it/s]"
     ]
    },
    {
     "name": "stdout",
     "output_type": "stream",
     "text": [
      "\n",
      "\n"
     ]
    },
    {
     "name": "stderr",
     "output_type": "stream",
     "text": [
      "\n",
      "2023-02-01 01:51:39 abstract_overall_variance_analyzer.py INFO    : Successfully tested classifiers by bootstrap\n",
      "2023-02-01 01:51:39 abstract_overall_variance_analyzer.py INFO    : Successfully computed predict proba metrics\n",
      "\n",
      "Analyze models in one run: 100%|\u001B[31m██████████\u001B[0m| 2/2 [00:02<00:00,  1.20s/it]\u001B[A\n",
      "Multiple runs progress:  33%|\u001B[32m███▎      \u001B[0m| 1/3 [00:02<00:04,  2.41s/it]"
     ]
    },
    {
     "name": "stdout",
     "output_type": "stream",
     "text": [
      "\n",
      "\n",
      "\n",
      "\n"
     ]
    },
    {
     "name": "stderr",
     "output_type": "stream",
     "text": [
      "\n",
      "Analyze models in one run:   0%|\u001B[31m          \u001B[0m| 0/2 [00:00<?, ?it/s]\u001B[A"
     ]
    },
    {
     "name": "stdout",
     "output_type": "stream",
     "text": [
      "##############################  [Model 1 / 2] Analyze DecisionTreeClassifier  ##############################\n",
      "Model random_state:  201\n",
      "Baseline X_train shape:  (4222, 9)\n",
      "Baseline X_test shape:  (1056, 9)\n",
      "\n",
      "\n"
     ]
    },
    {
     "name": "stderr",
     "output_type": "stream",
     "text": [
      "2023-02-01 01:51:40 abstract_overall_variance_analyzer.py INFO    : Start classifiers testing by bootstrap\n",
      "\n",
      "\n",
      "Classifiers testing by bootstrap: 100%|\u001B[34m██████████\u001B[0m| 10/10 [00:00<00:00, 188.34it/s]"
     ]
    },
    {
     "name": "stdout",
     "output_type": "stream",
     "text": [
      "\n",
      "\n"
     ]
    },
    {
     "name": "stderr",
     "output_type": "stream",
     "text": [
      "\n",
      "2023-02-01 01:51:40 abstract_overall_variance_analyzer.py INFO    : Successfully tested classifiers by bootstrap\n",
      "2023-02-01 01:51:40 abstract_overall_variance_analyzer.py INFO    : Successfully computed predict proba metrics\n",
      "\n",
      "Analyze models in one run:  50%|\u001B[31m█████     \u001B[0m| 1/2 [00:01<00:01,  1.07s/it]\u001B[A"
     ]
    },
    {
     "name": "stdout",
     "output_type": "stream",
     "text": [
      "\n",
      "\n",
      "\n",
      "\n",
      "##############################  [Model 2 / 2] Analyze LogisticRegression  ##############################\n",
      "Model random_state:  202\n",
      "Baseline X_train shape:  (4222, 9)\n",
      "Baseline X_test shape:  (1056, 9)\n",
      "\n",
      "\n"
     ]
    },
    {
     "name": "stderr",
     "output_type": "stream",
     "text": [
      "2023-02-01 01:51:41 abstract_overall_variance_analyzer.py INFO    : Start classifiers testing by bootstrap\n",
      "\n",
      "\n",
      "Classifiers testing by bootstrap: 100%|\u001B[34m██████████\u001B[0m| 10/10 [00:00<00:00, 18.57it/s]"
     ]
    },
    {
     "name": "stdout",
     "output_type": "stream",
     "text": [
      "\n",
      "\n"
     ]
    },
    {
     "name": "stderr",
     "output_type": "stream",
     "text": [
      "\n",
      "2023-02-01 01:51:42 abstract_overall_variance_analyzer.py INFO    : Successfully tested classifiers by bootstrap\n",
      "2023-02-01 01:51:42 abstract_overall_variance_analyzer.py INFO    : Successfully computed predict proba metrics\n",
      "\n",
      "Analyze models in one run: 100%|\u001B[31m██████████\u001B[0m| 2/2 [00:02<00:00,  1.33s/it]\u001B[A\n",
      "Multiple runs progress:  67%|\u001B[32m██████▋   \u001B[0m| 2/3 [00:05<00:02,  2.56s/it]"
     ]
    },
    {
     "name": "stdout",
     "output_type": "stream",
     "text": [
      "\n",
      "\n",
      "\n",
      "\n"
     ]
    },
    {
     "name": "stderr",
     "output_type": "stream",
     "text": [
      "\n",
      "Analyze models in one run:   0%|\u001B[31m          \u001B[0m| 0/2 [00:00<?, ?it/s]\u001B[A"
     ]
    },
    {
     "name": "stdout",
     "output_type": "stream",
     "text": [
      "##############################  [Model 1 / 2] Analyze DecisionTreeClassifier  ##############################\n",
      "Model random_state:  301\n",
      "Baseline X_train shape:  (4222, 9)\n",
      "Baseline X_test shape:  (1056, 9)\n",
      "\n",
      "\n"
     ]
    },
    {
     "name": "stderr",
     "output_type": "stream",
     "text": [
      "2023-02-01 01:51:43 abstract_overall_variance_analyzer.py INFO    : Start classifiers testing by bootstrap\n",
      "\n",
      "\n",
      "Classifiers testing by bootstrap: 100%|\u001B[34m██████████\u001B[0m| 10/10 [00:00<00:00, 229.24it/s]"
     ]
    },
    {
     "name": "stdout",
     "output_type": "stream",
     "text": [
      "\n",
      "\n"
     ]
    },
    {
     "name": "stderr",
     "output_type": "stream",
     "text": [
      "\n",
      "2023-02-01 01:51:43 abstract_overall_variance_analyzer.py INFO    : Successfully tested classifiers by bootstrap\n",
      "2023-02-01 01:51:43 abstract_overall_variance_analyzer.py INFO    : Successfully computed predict proba metrics\n",
      "\n",
      "Analyze models in one run:  50%|\u001B[31m█████     \u001B[0m| 1/2 [00:01<00:01,  1.00s/it]\u001B[A"
     ]
    },
    {
     "name": "stdout",
     "output_type": "stream",
     "text": [
      "\n",
      "\n",
      "\n",
      "\n",
      "##############################  [Model 2 / 2] Analyze LogisticRegression  ##############################\n",
      "Model random_state:  302\n",
      "Baseline X_train shape:  (4222, 9)\n",
      "Baseline X_test shape:  (1056, 9)\n",
      "\n",
      "\n"
     ]
    },
    {
     "name": "stderr",
     "output_type": "stream",
     "text": [
      "2023-02-01 01:51:44 abstract_overall_variance_analyzer.py INFO    : Start classifiers testing by bootstrap\n",
      "\n",
      "\n",
      "Classifiers testing by bootstrap: 100%|\u001B[34m██████████\u001B[0m| 10/10 [00:00<00:00, 44.85it/s]"
     ]
    },
    {
     "name": "stdout",
     "output_type": "stream",
     "text": [
      "\n",
      "\n"
     ]
    },
    {
     "name": "stderr",
     "output_type": "stream",
     "text": [
      "\n",
      "2023-02-01 01:51:44 abstract_overall_variance_analyzer.py INFO    : Successfully tested classifiers by bootstrap\n",
      "2023-02-01 01:51:44 abstract_overall_variance_analyzer.py INFO    : Successfully computed predict proba metrics\n",
      "\n",
      "Analyze models in one run: 100%|\u001B[31m██████████\u001B[0m| 2/2 [00:02<00:00,  1.09s/it]\u001B[A\n",
      "Multiple runs progress: 100%|\u001B[32m██████████\u001B[0m| 3/3 [00:07<00:00,  2.42s/it]"
     ]
    },
    {
     "name": "stdout",
     "output_type": "stream",
     "text": [
      "\n",
      "\n",
      "\n",
      "\n"
     ]
    },
    {
     "name": "stderr",
     "output_type": "stream",
     "text": [
      "\n"
     ]
    }
   ],
   "source": [
    "multiple_run_metrics_dct = compute_metrics_multiple_runs(dataset, config, models_config, SAVE_RESULTS_DIR_PATH, debug_mode=False)"
   ]
  },
  {
   "cell_type": "code",
   "execution_count": 60,
   "outputs": [
    {
     "data": {
      "text/plain": "                 Metric   overall  sex_priv   sex_dis  race_priv  race_dis  \\\n0                  Mean  0.524703  0.566947  0.514893   0.592122  0.478935   \n1                   Std  0.068383  0.083475  0.064879   0.067544  0.068953   \n2                   IQR  0.077179  0.085361  0.075280   0.075003  0.078657   \n3               Entropy  0.000000  0.000000  0.000000   0.000000  0.193654   \n4                Jitter  0.132534  0.168286  0.124232   0.119022  0.141706   \n5   Per_Sample_Accuracy  0.664773  0.663819  0.664994   0.652225  0.673291   \n6       Label_Stability  0.823485  0.769849  0.835939   0.840281  0.812083   \n7                   TPR  0.613963  0.500000  0.633094   0.433962  0.701220   \n8                   TNR  0.722320  0.759690  0.711364   0.798507  0.654485   \n9                   PPV  0.654267  0.530303  0.675192   0.560976  0.688623   \n10                  FNR  0.386037  0.500000  0.366906   0.566038  0.298780   \n11                  FPR  0.277680  0.240310  0.288636   0.201493  0.345515   \n12             Accuracy  0.672348  0.668342  0.673279   0.662763  0.678855   \n13                   F1  0.633475  0.514706  0.653465   0.489362  0.694864   \n14       Selection-Rate  0.432765  0.331658  0.456243   0.288056  0.531002   \n15        Positive-Rate  0.938398  0.942857  0.937650   0.773585  1.018293   \n0                  Mean  0.521030  0.558935  0.512174   0.587793  0.478826   \n1                   Std  0.073537  0.082207  0.071511   0.073042  0.073850   \n2                   IQR  0.080559  0.089782  0.078403   0.084584  0.078014   \n3               Entropy  0.000000  0.000000  0.000000   0.000000  0.000000   \n\n    sex&race_priv  sex&race_dis  Model_Seed              Model_Name Run_Number  \n0        0.594704      0.464791         101  DecisionTreeClassifier      Run_1  \n1        0.091075      0.067132         101  DecisionTreeClassifier      Run_1  \n2        0.087413      0.077569         101  DecisionTreeClassifier      Run_1  \n3        0.000000      0.184195         101  DecisionTreeClassifier      Run_1  \n4        0.156566      0.134020         101  DecisionTreeClassifier      Run_1  \n5        0.620455      0.667954         101  DecisionTreeClassifier      Run_1  \n6        0.790909      0.824710         101  DecisionTreeClassifier      Run_1  \n7        0.280000      0.713781         101  DecisionTreeClassifier      Run_1  \n8        0.761905      0.625532         101  DecisionTreeClassifier      Run_1  \n9        0.318182      0.696552         101  DecisionTreeClassifier      Run_1  \n10       0.720000      0.286219         101  DecisionTreeClassifier      Run_1  \n11       0.238095      0.374468         101  DecisionTreeClassifier      Run_1  \n12       0.625000      0.673745         101  DecisionTreeClassifier      Run_1  \n13       0.297872      0.705061         101  DecisionTreeClassifier      Run_1  \n14       0.250000      0.559846         101  DecisionTreeClassifier      Run_1  \n15       0.880000      1.024735         101  DecisionTreeClassifier      Run_1  \n0        0.601802      0.468858         201  DecisionTreeClassifier      Run_2  \n1        0.089132      0.073210         201  DecisionTreeClassifier      Run_2  \n2        0.101427      0.077421         201  DecisionTreeClassifier      Run_2  \n3        0.000000      0.000000         201  DecisionTreeClassifier      Run_2  ",
      "text/html": "<div>\n<style scoped>\n    .dataframe tbody tr th:only-of-type {\n        vertical-align: middle;\n    }\n\n    .dataframe tbody tr th {\n        vertical-align: top;\n    }\n\n    .dataframe thead th {\n        text-align: right;\n    }\n</style>\n<table border=\"1\" class=\"dataframe\">\n  <thead>\n    <tr style=\"text-align: right;\">\n      <th></th>\n      <th>Metric</th>\n      <th>overall</th>\n      <th>sex_priv</th>\n      <th>sex_dis</th>\n      <th>race_priv</th>\n      <th>race_dis</th>\n      <th>sex&amp;race_priv</th>\n      <th>sex&amp;race_dis</th>\n      <th>Model_Seed</th>\n      <th>Model_Name</th>\n      <th>Run_Number</th>\n    </tr>\n  </thead>\n  <tbody>\n    <tr>\n      <th>0</th>\n      <td>Mean</td>\n      <td>0.524703</td>\n      <td>0.566947</td>\n      <td>0.514893</td>\n      <td>0.592122</td>\n      <td>0.478935</td>\n      <td>0.594704</td>\n      <td>0.464791</td>\n      <td>101</td>\n      <td>DecisionTreeClassifier</td>\n      <td>Run_1</td>\n    </tr>\n    <tr>\n      <th>1</th>\n      <td>Std</td>\n      <td>0.068383</td>\n      <td>0.083475</td>\n      <td>0.064879</td>\n      <td>0.067544</td>\n      <td>0.068953</td>\n      <td>0.091075</td>\n      <td>0.067132</td>\n      <td>101</td>\n      <td>DecisionTreeClassifier</td>\n      <td>Run_1</td>\n    </tr>\n    <tr>\n      <th>2</th>\n      <td>IQR</td>\n      <td>0.077179</td>\n      <td>0.085361</td>\n      <td>0.075280</td>\n      <td>0.075003</td>\n      <td>0.078657</td>\n      <td>0.087413</td>\n      <td>0.077569</td>\n      <td>101</td>\n      <td>DecisionTreeClassifier</td>\n      <td>Run_1</td>\n    </tr>\n    <tr>\n      <th>3</th>\n      <td>Entropy</td>\n      <td>0.000000</td>\n      <td>0.000000</td>\n      <td>0.000000</td>\n      <td>0.000000</td>\n      <td>0.193654</td>\n      <td>0.000000</td>\n      <td>0.184195</td>\n      <td>101</td>\n      <td>DecisionTreeClassifier</td>\n      <td>Run_1</td>\n    </tr>\n    <tr>\n      <th>4</th>\n      <td>Jitter</td>\n      <td>0.132534</td>\n      <td>0.168286</td>\n      <td>0.124232</td>\n      <td>0.119022</td>\n      <td>0.141706</td>\n      <td>0.156566</td>\n      <td>0.134020</td>\n      <td>101</td>\n      <td>DecisionTreeClassifier</td>\n      <td>Run_1</td>\n    </tr>\n    <tr>\n      <th>5</th>\n      <td>Per_Sample_Accuracy</td>\n      <td>0.664773</td>\n      <td>0.663819</td>\n      <td>0.664994</td>\n      <td>0.652225</td>\n      <td>0.673291</td>\n      <td>0.620455</td>\n      <td>0.667954</td>\n      <td>101</td>\n      <td>DecisionTreeClassifier</td>\n      <td>Run_1</td>\n    </tr>\n    <tr>\n      <th>6</th>\n      <td>Label_Stability</td>\n      <td>0.823485</td>\n      <td>0.769849</td>\n      <td>0.835939</td>\n      <td>0.840281</td>\n      <td>0.812083</td>\n      <td>0.790909</td>\n      <td>0.824710</td>\n      <td>101</td>\n      <td>DecisionTreeClassifier</td>\n      <td>Run_1</td>\n    </tr>\n    <tr>\n      <th>7</th>\n      <td>TPR</td>\n      <td>0.613963</td>\n      <td>0.500000</td>\n      <td>0.633094</td>\n      <td>0.433962</td>\n      <td>0.701220</td>\n      <td>0.280000</td>\n      <td>0.713781</td>\n      <td>101</td>\n      <td>DecisionTreeClassifier</td>\n      <td>Run_1</td>\n    </tr>\n    <tr>\n      <th>8</th>\n      <td>TNR</td>\n      <td>0.722320</td>\n      <td>0.759690</td>\n      <td>0.711364</td>\n      <td>0.798507</td>\n      <td>0.654485</td>\n      <td>0.761905</td>\n      <td>0.625532</td>\n      <td>101</td>\n      <td>DecisionTreeClassifier</td>\n      <td>Run_1</td>\n    </tr>\n    <tr>\n      <th>9</th>\n      <td>PPV</td>\n      <td>0.654267</td>\n      <td>0.530303</td>\n      <td>0.675192</td>\n      <td>0.560976</td>\n      <td>0.688623</td>\n      <td>0.318182</td>\n      <td>0.696552</td>\n      <td>101</td>\n      <td>DecisionTreeClassifier</td>\n      <td>Run_1</td>\n    </tr>\n    <tr>\n      <th>10</th>\n      <td>FNR</td>\n      <td>0.386037</td>\n      <td>0.500000</td>\n      <td>0.366906</td>\n      <td>0.566038</td>\n      <td>0.298780</td>\n      <td>0.720000</td>\n      <td>0.286219</td>\n      <td>101</td>\n      <td>DecisionTreeClassifier</td>\n      <td>Run_1</td>\n    </tr>\n    <tr>\n      <th>11</th>\n      <td>FPR</td>\n      <td>0.277680</td>\n      <td>0.240310</td>\n      <td>0.288636</td>\n      <td>0.201493</td>\n      <td>0.345515</td>\n      <td>0.238095</td>\n      <td>0.374468</td>\n      <td>101</td>\n      <td>DecisionTreeClassifier</td>\n      <td>Run_1</td>\n    </tr>\n    <tr>\n      <th>12</th>\n      <td>Accuracy</td>\n      <td>0.672348</td>\n      <td>0.668342</td>\n      <td>0.673279</td>\n      <td>0.662763</td>\n      <td>0.678855</td>\n      <td>0.625000</td>\n      <td>0.673745</td>\n      <td>101</td>\n      <td>DecisionTreeClassifier</td>\n      <td>Run_1</td>\n    </tr>\n    <tr>\n      <th>13</th>\n      <td>F1</td>\n      <td>0.633475</td>\n      <td>0.514706</td>\n      <td>0.653465</td>\n      <td>0.489362</td>\n      <td>0.694864</td>\n      <td>0.297872</td>\n      <td>0.705061</td>\n      <td>101</td>\n      <td>DecisionTreeClassifier</td>\n      <td>Run_1</td>\n    </tr>\n    <tr>\n      <th>14</th>\n      <td>Selection-Rate</td>\n      <td>0.432765</td>\n      <td>0.331658</td>\n      <td>0.456243</td>\n      <td>0.288056</td>\n      <td>0.531002</td>\n      <td>0.250000</td>\n      <td>0.559846</td>\n      <td>101</td>\n      <td>DecisionTreeClassifier</td>\n      <td>Run_1</td>\n    </tr>\n    <tr>\n      <th>15</th>\n      <td>Positive-Rate</td>\n      <td>0.938398</td>\n      <td>0.942857</td>\n      <td>0.937650</td>\n      <td>0.773585</td>\n      <td>1.018293</td>\n      <td>0.880000</td>\n      <td>1.024735</td>\n      <td>101</td>\n      <td>DecisionTreeClassifier</td>\n      <td>Run_1</td>\n    </tr>\n    <tr>\n      <th>0</th>\n      <td>Mean</td>\n      <td>0.521030</td>\n      <td>0.558935</td>\n      <td>0.512174</td>\n      <td>0.587793</td>\n      <td>0.478826</td>\n      <td>0.601802</td>\n      <td>0.468858</td>\n      <td>201</td>\n      <td>DecisionTreeClassifier</td>\n      <td>Run_2</td>\n    </tr>\n    <tr>\n      <th>1</th>\n      <td>Std</td>\n      <td>0.073537</td>\n      <td>0.082207</td>\n      <td>0.071511</td>\n      <td>0.073042</td>\n      <td>0.073850</td>\n      <td>0.089132</td>\n      <td>0.073210</td>\n      <td>201</td>\n      <td>DecisionTreeClassifier</td>\n      <td>Run_2</td>\n    </tr>\n    <tr>\n      <th>2</th>\n      <td>IQR</td>\n      <td>0.080559</td>\n      <td>0.089782</td>\n      <td>0.078403</td>\n      <td>0.084584</td>\n      <td>0.078014</td>\n      <td>0.101427</td>\n      <td>0.077421</td>\n      <td>201</td>\n      <td>DecisionTreeClassifier</td>\n      <td>Run_2</td>\n    </tr>\n    <tr>\n      <th>3</th>\n      <td>Entropy</td>\n      <td>0.000000</td>\n      <td>0.000000</td>\n      <td>0.000000</td>\n      <td>0.000000</td>\n      <td>0.000000</td>\n      <td>0.000000</td>\n      <td>0.000000</td>\n      <td>201</td>\n      <td>DecisionTreeClassifier</td>\n      <td>Run_2</td>\n    </tr>\n  </tbody>\n</table>\n</div>"
     },
     "execution_count": 60,
     "metadata": {},
     "output_type": "execute_result"
    }
   ],
   "source": [
    "multiple_run_metrics_dct[list(models_config.keys())[0]].head(20)"
   ],
   "metadata": {
    "collapsed": false
   }
  },
  {
   "cell_type": "markdown",
   "source": [
    "## Group Metrics Composition"
   ],
   "metadata": {
    "collapsed": false
   }
  },
  {
   "cell_type": "code",
   "execution_count": 61,
   "outputs": [],
   "source": [
    "models_metrics_dct = read_model_metric_dfs(SAVE_RESULTS_DIR_PATH, model_names=list(models_config.keys()))"
   ],
   "metadata": {
    "collapsed": false
   }
  },
  {
   "cell_type": "code",
   "execution_count": 62,
   "outputs": [],
   "source": [
    "metrics_composer = MetricsComposer(models_metrics_dct, config.sensitive_attributes_dct)"
   ],
   "metadata": {
    "collapsed": false
   }
  },
  {
   "cell_type": "code",
   "execution_count": 63,
   "outputs": [],
   "source": [
    "models_composed_metrics_df = metrics_composer.compose_metrics()"
   ],
   "metadata": {
    "collapsed": false
   }
  },
  {
   "cell_type": "markdown",
   "source": [
    "## Metrics Visualizations and Reporting"
   ],
   "metadata": {
    "collapsed": false
   }
  },
  {
   "cell_type": "code",
   "execution_count": 64,
   "outputs": [],
   "source": [
    "visualizer = MetricsVisualizer(models_metrics_dct, models_composed_metrics_df, config.dataset_name,\n",
    "                               model_names=list(models_config.keys()),\n",
    "                               sensitive_attributes_dct=config.sensitive_attributes_dct)"
   ],
   "metadata": {
    "collapsed": false
   }
  },
  {
   "cell_type": "code",
   "execution_count": 65,
   "outputs": [
    {
     "data": {
      "text/plain": "<Figure size 1122.38x900 with 1 Axes>",
      "image/png": "[encoded data removed]"
     },
     "metadata": {},
     "output_type": "display_data"
    }
   ],
   "source": [
    "visualizer.visualize_overall_metrics(\n",
    "    metrics_names=['TPR', 'PPV', 'Accuracy', 'F1', 'Selection-Rate',\n",
    "                   'Per_Sample_Accuracy', 'Label_Stability'],\n",
    "    reversed_metrics_names=['Std', 'IQR', 'Jitter'],\n",
    "    x_label=\"Overall Metrics\"\n",
    ")"
   ],
   "metadata": {
    "collapsed": false
   }
  },
  {
   "cell_type": "code",
   "execution_count": 66,
   "outputs": [
    {
     "data": {
      "text/plain": "<Figure size 1500x800 with 1 Axes>",
      "image/png": "[encoded data removed]"
     },
     "metadata": {},
     "output_type": "display_data"
    }
   ],
   "source": [
    "visualizer.create_boxes_and_whiskers_for_models_multiple_runs(metrics_lst=['Std', 'IQR', 'Jitter', 'FNR','FPR'])"
   ],
   "metadata": {
    "collapsed": false
   }
  },
  {
   "cell_type": "code",
   "execution_count": 67,
   "outputs": [],
   "source": [
    "# visualizer.create_html_report(report_save_path=os.path.join(ROOT_DIR, \"results\", \"reports\"))"
   ],
   "metadata": {
    "collapsed": false
   }
  },
  {
   "cell_type": "code",
   "execution_count": 67,
   "outputs": [],
   "source": [],
   "metadata": {
    "collapsed": false
   }
  }
 ],
 "metadata": {
  "kernelspec": {
   "display_name": "Python 3 (ipykernel)",
   "language": "python",
   "name": "python3"
  },
  "language_info": {
   "codemirror_mode": {
    "name": "ipython",
    "version": 3
   },
   "file_extension": ".py",
   "mimetype": "text/x-python",
   "name": "python",
   "nbconvert_exporter": "python",
   "pygments_lexer": "ipython3",
   "version": "3.8.10"
  }
 },
 "nbformat": 4,
 "nbformat_minor": 5
}
