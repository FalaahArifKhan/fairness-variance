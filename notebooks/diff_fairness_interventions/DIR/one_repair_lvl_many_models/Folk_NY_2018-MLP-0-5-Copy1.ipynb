{
 "cells": [
  {
   "cell_type": "code",
   "execution_count": 15,
   "id": "340ff19a",
   "metadata": {},
   "outputs": [],
   "source": [
    "# !pip install -r ./requirements.txt"
   ]
  },
  {
   "cell_type": "code",
   "execution_count": 2,
   "id": "91b7e914",
   "metadata": {},
   "outputs": [],
   "source": [
    "# !pip uninstall virny -y"
   ]
  },
  {
   "cell_type": "code",
   "execution_count": 4,
   "id": "6981b27a",
   "metadata": {},
   "outputs": [],
   "source": [
    "# Install using an HTTP link\n",
    "# !pip install git+https://github.com/DataResponsibly/Virny.git@development\n",
    "\n",
    "# Install using an SSH link\n",
    "# !pip install git+ssh://git@github.com/DataResponsibly/Virny.git@development"
   ]
  },
  {
   "cell_type": "code",
   "execution_count": 5,
   "id": "0702da93",
   "metadata": {},
   "outputs": [],
   "source": [
    "# !pip install lightgbm==3.3.5"
   ]
  },
  {
   "cell_type": "code",
   "execution_count": 6,
   "id": "9ba864a9",
   "metadata": {},
   "outputs": [],
   "source": [
    "%matplotlib inline\n",
    "%load_ext autoreload\n",
    "%autoreload 2"
   ]
  },
  {
   "cell_type": "code",
   "execution_count": 7,
   "id": "546192dc",
   "metadata": {},
   "outputs": [],
   "source": [
    "import os\n",
    "import warnings\n",
    "warnings.filterwarnings('ignore')\n",
    "os.environ[\"PYTHONWARNINGS\"] = \"ignore\""
   ]
  },
  {
   "cell_type": "code",
   "execution_count": 8,
   "id": "8a708e12",
   "metadata": {},
   "outputs": [
    {
     "name": "stdout",
     "output_type": "stream",
     "text": [
      "Current location:  /home/dh3553/projects/fairness-variance\n"
     ]
    }
   ],
   "source": [
    "cur_folder_name = os.getcwd().split('/')[-1]\n",
    "if cur_folder_name != \"fairness-variance\":\n",
    "    os.chdir(\"../..\")\n",
    "\n",
    "print('Current location: ', os.getcwd())"
   ]
  },
  {
   "cell_type": "markdown",
   "id": "662542c9",
   "metadata": {},
   "source": [
    "## Import dependencies"
   ]
  },
  {
   "cell_type": "code",
   "execution_count": 9,
   "id": "b1aa543b",
   "metadata": {},
   "outputs": [],
   "source": [
    "import os\n",
    "import copy\n",
    "\n",
    "from virny.utils.custom_initializers import create_config_obj\n",
    "from virny.datasets import ACSEmploymentDataset\n",
    "\n",
    "from configs.constants import TEST_SET_FRACTION, EXPERIMENT_SEEDS\n",
    "from configs.models_config_for_tuning import get_folktables_employment_models_params_for_tuning2\n",
    "\n",
    "from source.preprocessing import get_simple_preprocessor, create_extra_test_sets\n",
    "from source.experiment_interface import run_exp_iter_with_mult_set_and_preprocessing_intervention"
   ]
  },
  {
   "cell_type": "markdown",
   "id": "7430684e",
   "metadata": {},
   "source": [
    "## Define Input Variables"
   ]
  },
  {
   "cell_type": "code",
   "execution_count": 10,
   "id": "1aafac04",
   "metadata": {},
   "outputs": [],
   "source": [
    "# ROOT_DIR = os.path.join(os.getcwd(), \"..\", \"..\")\n",
    "ROOT_DIR = os.getcwd()\n",
    "EXPERIMENT_NAME = 'one_repair_lvl_many_models'\n",
    "DB_COLLECTION_NAME = f'exp_{EXPERIMENT_NAME}'\n",
    "SAVE_RESULTS_DIR_PATH = os.path.join(ROOT_DIR, 'results', EXPERIMENT_NAME)\n",
    "FAIR_INTERVENTION_PARAMS_LST = [0.5]\n",
    "\n",
    "config_yaml_path = os.path.join(ROOT_DIR, 'notebooks', EXPERIMENT_NAME, 'folk_ny_2018_config.yaml')\n",
    "metrics_computation_config = create_config_obj(config_yaml_path=config_yaml_path)"
   ]
  },
  {
   "cell_type": "markdown",
   "id": "388dbdd6",
   "metadata": {},
   "source": [
    "## Define a db writer and custom fields to insert into your database"
   ]
  },
  {
   "cell_type": "code",
   "execution_count": 11,
   "id": "32399bd6",
   "metadata": {},
   "outputs": [
    {
     "data": {
      "text/plain": [
       "'fairness_variance'"
      ]
     },
     "execution_count": 11,
     "metadata": {},
     "output_type": "execute_result"
    }
   ],
   "source": [
    "import os\n",
    "from dotenv import load_dotenv\n",
    "\n",
    "load_dotenv('./configs/secrets.env')\n",
    "os.getenv(\"DB_NAME\")"
   ]
  },
  {
   "cell_type": "code",
   "execution_count": 12,
   "id": "15c4463d",
   "metadata": {},
   "outputs": [],
   "source": [
    "from source.utils.db_functions import connect_to_mongodb\n",
    "\n",
    "client, collection_obj, db_writer_func = connect_to_mongodb(DB_COLLECTION_NAME)"
   ]
  },
  {
   "cell_type": "code",
   "execution_count": 13,
   "id": "31e1b929",
   "metadata": {},
   "outputs": [
    {
     "name": "stdout",
     "output_type": "stream",
     "text": [
      "Current session uuid:  42eab82d-3396-491d-a457-6260b1caecae\n"
     ]
    }
   ],
   "source": [
    "import uuid\n",
    "\n",
    "custom_table_fields_dct = {\n",
    "#     'session_uuid': str(uuid.uuid4()),\n",
    "    'session_uuid': '42eab82d-3396-491d-a457-6260b1caecae',\n",
    "}\n",
    "print('Current session uuid: ', custom_table_fields_dct['session_uuid'])"
   ]
  },
  {
   "cell_type": "markdown",
   "id": "7565f174",
   "metadata": {},
   "source": [
    "## Initialize custom objects"
   ]
  },
  {
   "cell_type": "code",
   "execution_count": 14,
   "id": "d7ec11a5",
   "metadata": {},
   "outputs": [
    {
     "data": {
      "text/html": [
       "<div>\n",
       "<style scoped>\n",
       "    .dataframe tbody tr th:only-of-type {\n",
       "        vertical-align: middle;\n",
       "    }\n",
       "\n",
       "    .dataframe tbody tr th {\n",
       "        vertical-align: top;\n",
       "    }\n",
       "\n",
       "    .dataframe thead th {\n",
       "        text-align: right;\n",
       "    }\n",
       "</style>\n",
       "<table border=\"1\" class=\"dataframe\">\n",
       "  <thead>\n",
       "    <tr style=\"text-align: right;\">\n",
       "      <th></th>\n",
       "      <th>MAR</th>\n",
       "      <th>MIL</th>\n",
       "      <th>ESP</th>\n",
       "      <th>MIG</th>\n",
       "      <th>DREM</th>\n",
       "      <th>NATIVITY</th>\n",
       "      <th>DIS</th>\n",
       "      <th>DEAR</th>\n",
       "      <th>DEYE</th>\n",
       "      <th>SEX</th>\n",
       "      <th>RAC1P</th>\n",
       "      <th>RELP</th>\n",
       "      <th>CIT</th>\n",
       "      <th>ANC</th>\n",
       "      <th>SCHL</th>\n",
       "      <th>AGEP</th>\n",
       "    </tr>\n",
       "  </thead>\n",
       "  <tbody>\n",
       "    <tr>\n",
       "      <th>0</th>\n",
       "      <td>5</td>\n",
       "      <td>4</td>\n",
       "      <td>0</td>\n",
       "      <td>1</td>\n",
       "      <td>2</td>\n",
       "      <td>1</td>\n",
       "      <td>2</td>\n",
       "      <td>2</td>\n",
       "      <td>2</td>\n",
       "      <td>1</td>\n",
       "      <td>1</td>\n",
       "      <td>2</td>\n",
       "      <td>1</td>\n",
       "      <td>1</td>\n",
       "      <td>15</td>\n",
       "      <td>42</td>\n",
       "    </tr>\n",
       "    <tr>\n",
       "      <th>1</th>\n",
       "      <td>1</td>\n",
       "      <td>4</td>\n",
       "      <td>0</td>\n",
       "      <td>1</td>\n",
       "      <td>2</td>\n",
       "      <td>1</td>\n",
       "      <td>2</td>\n",
       "      <td>2</td>\n",
       "      <td>2</td>\n",
       "      <td>2</td>\n",
       "      <td>1</td>\n",
       "      <td>0</td>\n",
       "      <td>1</td>\n",
       "      <td>2</td>\n",
       "      <td>21</td>\n",
       "      <td>59</td>\n",
       "    </tr>\n",
       "    <tr>\n",
       "      <th>2</th>\n",
       "      <td>2</td>\n",
       "      <td>4</td>\n",
       "      <td>0</td>\n",
       "      <td>1</td>\n",
       "      <td>2</td>\n",
       "      <td>2</td>\n",
       "      <td>2</td>\n",
       "      <td>2</td>\n",
       "      <td>2</td>\n",
       "      <td>2</td>\n",
       "      <td>1</td>\n",
       "      <td>0</td>\n",
       "      <td>4</td>\n",
       "      <td>4</td>\n",
       "      <td>19</td>\n",
       "      <td>78</td>\n",
       "    </tr>\n",
       "    <tr>\n",
       "      <th>3</th>\n",
       "      <td>5</td>\n",
       "      <td>4</td>\n",
       "      <td>0</td>\n",
       "      <td>1</td>\n",
       "      <td>2</td>\n",
       "      <td>1</td>\n",
       "      <td>2</td>\n",
       "      <td>2</td>\n",
       "      <td>2</td>\n",
       "      <td>1</td>\n",
       "      <td>1</td>\n",
       "      <td>10</td>\n",
       "      <td>1</td>\n",
       "      <td>4</td>\n",
       "      <td>14</td>\n",
       "      <td>19</td>\n",
       "    </tr>\n",
       "    <tr>\n",
       "      <th>4</th>\n",
       "      <td>1</td>\n",
       "      <td>2</td>\n",
       "      <td>0</td>\n",
       "      <td>1</td>\n",
       "      <td>2</td>\n",
       "      <td>1</td>\n",
       "      <td>2</td>\n",
       "      <td>2</td>\n",
       "      <td>2</td>\n",
       "      <td>1</td>\n",
       "      <td>1</td>\n",
       "      <td>0</td>\n",
       "      <td>1</td>\n",
       "      <td>1</td>\n",
       "      <td>17</td>\n",
       "      <td>87</td>\n",
       "    </tr>\n",
       "  </tbody>\n",
       "</table>\n",
       "</div>"
      ],
      "text/plain": [
       "  MAR MIL ESP MIG DREM NATIVITY DIS DEAR DEYE SEX RAC1P RELP CIT ANC SCHL  \\\n",
       "0   5   4   0   1    2        1   2    2    2   1     1    2   1   1   15   \n",
       "1   1   4   0   1    2        1   2    2    2   2     1    0   1   2   21   \n",
       "2   2   4   0   1    2        2   2    2    2   2     1    0   4   4   19   \n",
       "3   5   4   0   1    2        1   2    2    2   1     1   10   1   4   14   \n",
       "4   1   2   0   1    2        1   2    2    2   1     1    0   1   1   17   \n",
       "\n",
       "   AGEP  \n",
       "0    42  \n",
       "1    59  \n",
       "2    78  \n",
       "3    19  \n",
       "4    87  "
      ]
     },
     "execution_count": 14,
     "metadata": {},
     "output_type": "execute_result"
    }
   ],
   "source": [
    "data_loader = ACSEmploymentDataset(state=['NY'], year=2018, with_nulls=False,\n",
    "                                   subsample_size=20_000, subsample_seed=42)\n",
    "data_loader.X_data.head()"
   ]
  },
  {
   "cell_type": "code",
   "execution_count": 15,
   "id": "273a0280",
   "metadata": {},
   "outputs": [
    {
     "data": {
      "text/plain": [
       "(20000, 16)"
      ]
     },
     "execution_count": 15,
     "metadata": {},
     "output_type": "execute_result"
    }
   ],
   "source": [
    "data_loader.X_data.shape"
   ]
  },
  {
   "cell_type": "code",
   "execution_count": 16,
   "id": "e45d374a",
   "metadata": {},
   "outputs": [
    {
     "data": {
      "text/html": [
       "<div>\n",
       "<style scoped>\n",
       "    .dataframe tbody tr th:only-of-type {\n",
       "        vertical-align: middle;\n",
       "    }\n",
       "\n",
       "    .dataframe tbody tr th {\n",
       "        vertical-align: top;\n",
       "    }\n",
       "\n",
       "    .dataframe thead th {\n",
       "        text-align: right;\n",
       "    }\n",
       "</style>\n",
       "<table border=\"1\" class=\"dataframe\">\n",
       "  <thead>\n",
       "    <tr style=\"text-align: right;\">\n",
       "      <th></th>\n",
       "      <th>MAR</th>\n",
       "      <th>MIL</th>\n",
       "      <th>ESP</th>\n",
       "      <th>MIG</th>\n",
       "      <th>DREM</th>\n",
       "      <th>NATIVITY</th>\n",
       "      <th>DIS</th>\n",
       "      <th>DEAR</th>\n",
       "      <th>DEYE</th>\n",
       "      <th>SEX</th>\n",
       "      <th>RAC1P</th>\n",
       "      <th>RELP</th>\n",
       "      <th>CIT</th>\n",
       "      <th>ANC</th>\n",
       "      <th>SCHL</th>\n",
       "      <th>AGEP</th>\n",
       "    </tr>\n",
       "  </thead>\n",
       "  <tbody>\n",
       "    <tr>\n",
       "      <th>0</th>\n",
       "      <td>1</td>\n",
       "      <td>4</td>\n",
       "      <td>0</td>\n",
       "      <td>1</td>\n",
       "      <td>2</td>\n",
       "      <td>2</td>\n",
       "      <td>2</td>\n",
       "      <td>2</td>\n",
       "      <td>2</td>\n",
       "      <td>1</td>\n",
       "      <td>1</td>\n",
       "      <td>1</td>\n",
       "      <td>5</td>\n",
       "      <td>1</td>\n",
       "      <td>19</td>\n",
       "      <td>45</td>\n",
       "    </tr>\n",
       "    <tr>\n",
       "      <th>1</th>\n",
       "      <td>1</td>\n",
       "      <td>4</td>\n",
       "      <td>0</td>\n",
       "      <td>3</td>\n",
       "      <td>2</td>\n",
       "      <td>2</td>\n",
       "      <td>2</td>\n",
       "      <td>2</td>\n",
       "      <td>2</td>\n",
       "      <td>2</td>\n",
       "      <td>6</td>\n",
       "      <td>0</td>\n",
       "      <td>4</td>\n",
       "      <td>1</td>\n",
       "      <td>22</td>\n",
       "      <td>38</td>\n",
       "    </tr>\n",
       "    <tr>\n",
       "      <th>2</th>\n",
       "      <td>5</td>\n",
       "      <td>4</td>\n",
       "      <td>0</td>\n",
       "      <td>1</td>\n",
       "      <td>2</td>\n",
       "      <td>1</td>\n",
       "      <td>2</td>\n",
       "      <td>2</td>\n",
       "      <td>2</td>\n",
       "      <td>1</td>\n",
       "      <td>1</td>\n",
       "      <td>2</td>\n",
       "      <td>1</td>\n",
       "      <td>1</td>\n",
       "      <td>21</td>\n",
       "      <td>26</td>\n",
       "    </tr>\n",
       "    <tr>\n",
       "      <th>3</th>\n",
       "      <td>5</td>\n",
       "      <td>4</td>\n",
       "      <td>0</td>\n",
       "      <td>1</td>\n",
       "      <td>2</td>\n",
       "      <td>2</td>\n",
       "      <td>2</td>\n",
       "      <td>2</td>\n",
       "      <td>2</td>\n",
       "      <td>2</td>\n",
       "      <td>6</td>\n",
       "      <td>0</td>\n",
       "      <td>5</td>\n",
       "      <td>1</td>\n",
       "      <td>16</td>\n",
       "      <td>36</td>\n",
       "    </tr>\n",
       "    <tr>\n",
       "      <th>4</th>\n",
       "      <td>1</td>\n",
       "      <td>4</td>\n",
       "      <td>0</td>\n",
       "      <td>1</td>\n",
       "      <td>2</td>\n",
       "      <td>1</td>\n",
       "      <td>2</td>\n",
       "      <td>2</td>\n",
       "      <td>2</td>\n",
       "      <td>2</td>\n",
       "      <td>1</td>\n",
       "      <td>2</td>\n",
       "      <td>1</td>\n",
       "      <td>1</td>\n",
       "      <td>16</td>\n",
       "      <td>42</td>\n",
       "    </tr>\n",
       "  </tbody>\n",
       "</table>\n",
       "</div>"
      ],
      "text/plain": [
       "  MAR MIL ESP MIG DREM NATIVITY DIS DEAR DEYE SEX RAC1P RELP CIT ANC SCHL  \\\n",
       "0   1   4   0   1    2        2   2    2    2   1     1    1   5   1   19   \n",
       "1   1   4   0   3    2        2   2    2    2   2     6    0   4   1   22   \n",
       "2   5   4   0   1    2        1   2    2    2   1     1    2   1   1   21   \n",
       "3   5   4   0   1    2        2   2    2    2   2     6    0   5   1   16   \n",
       "4   1   4   0   1    2        1   2    2    2   2     1    2   1   1   16   \n",
       "\n",
       "   AGEP  \n",
       "0    45  \n",
       "1    38  \n",
       "2    26  \n",
       "3    36  \n",
       "4    42  "
      ]
     },
     "execution_count": 16,
     "metadata": {},
     "output_type": "execute_result"
    }
   ],
   "source": [
    "data_loader2 = ACSEmploymentDataset(state=['NY'], year=2017, with_nulls=False,\n",
    "                                    subsample_size=20_000, subsample_seed=42)\n",
    "data_loader2.X_data.head()"
   ]
  },
  {
   "cell_type": "code",
   "execution_count": 17,
   "id": "d5b8846f",
   "metadata": {},
   "outputs": [
    {
     "data": {
      "text/plain": [
       "(20000, 16)"
      ]
     },
     "execution_count": 17,
     "metadata": {},
     "output_type": "execute_result"
    }
   ],
   "source": [
    "data_loader2.X_data.shape"
   ]
  },
  {
   "cell_type": "code",
   "execution_count": 18,
   "id": "9a114484",
   "metadata": {},
   "outputs": [
    {
     "data": {
      "text/html": [
       "<div>\n",
       "<style scoped>\n",
       "    .dataframe tbody tr th:only-of-type {\n",
       "        vertical-align: middle;\n",
       "    }\n",
       "\n",
       "    .dataframe tbody tr th {\n",
       "        vertical-align: top;\n",
       "    }\n",
       "\n",
       "    .dataframe thead th {\n",
       "        text-align: right;\n",
       "    }\n",
       "</style>\n",
       "<table border=\"1\" class=\"dataframe\">\n",
       "  <thead>\n",
       "    <tr style=\"text-align: right;\">\n",
       "      <th></th>\n",
       "      <th>MAR</th>\n",
       "      <th>MIL</th>\n",
       "      <th>ESP</th>\n",
       "      <th>MIG</th>\n",
       "      <th>DREM</th>\n",
       "      <th>NATIVITY</th>\n",
       "      <th>DIS</th>\n",
       "      <th>DEAR</th>\n",
       "      <th>DEYE</th>\n",
       "      <th>SEX</th>\n",
       "      <th>RAC1P</th>\n",
       "      <th>RELP</th>\n",
       "      <th>CIT</th>\n",
       "      <th>ANC</th>\n",
       "      <th>SCHL</th>\n",
       "      <th>AGEP</th>\n",
       "    </tr>\n",
       "  </thead>\n",
       "  <tbody>\n",
       "    <tr>\n",
       "      <th>0</th>\n",
       "      <td>5</td>\n",
       "      <td>4</td>\n",
       "      <td>0</td>\n",
       "      <td>3</td>\n",
       "      <td>2</td>\n",
       "      <td>1</td>\n",
       "      <td>2</td>\n",
       "      <td>2</td>\n",
       "      <td>2</td>\n",
       "      <td>2</td>\n",
       "      <td>1</td>\n",
       "      <td>13</td>\n",
       "      <td>1</td>\n",
       "      <td>1</td>\n",
       "      <td>16</td>\n",
       "      <td>28</td>\n",
       "    </tr>\n",
       "    <tr>\n",
       "      <th>1</th>\n",
       "      <td>1</td>\n",
       "      <td>4</td>\n",
       "      <td>0</td>\n",
       "      <td>3</td>\n",
       "      <td>2</td>\n",
       "      <td>1</td>\n",
       "      <td>2</td>\n",
       "      <td>2</td>\n",
       "      <td>2</td>\n",
       "      <td>2</td>\n",
       "      <td>1</td>\n",
       "      <td>1</td>\n",
       "      <td>1</td>\n",
       "      <td>1</td>\n",
       "      <td>19</td>\n",
       "      <td>78</td>\n",
       "    </tr>\n",
       "    <tr>\n",
       "      <th>2</th>\n",
       "      <td>1</td>\n",
       "      <td>4</td>\n",
       "      <td>0</td>\n",
       "      <td>1</td>\n",
       "      <td>2</td>\n",
       "      <td>2</td>\n",
       "      <td>2</td>\n",
       "      <td>2</td>\n",
       "      <td>2</td>\n",
       "      <td>1</td>\n",
       "      <td>1</td>\n",
       "      <td>1</td>\n",
       "      <td>4</td>\n",
       "      <td>1</td>\n",
       "      <td>14</td>\n",
       "      <td>45</td>\n",
       "    </tr>\n",
       "    <tr>\n",
       "      <th>3</th>\n",
       "      <td>1</td>\n",
       "      <td>4</td>\n",
       "      <td>0</td>\n",
       "      <td>1</td>\n",
       "      <td>2</td>\n",
       "      <td>1</td>\n",
       "      <td>2</td>\n",
       "      <td>2</td>\n",
       "      <td>2</td>\n",
       "      <td>2</td>\n",
       "      <td>1</td>\n",
       "      <td>1</td>\n",
       "      <td>1</td>\n",
       "      <td>1</td>\n",
       "      <td>19</td>\n",
       "      <td>71</td>\n",
       "    </tr>\n",
       "    <tr>\n",
       "      <th>4</th>\n",
       "      <td>4</td>\n",
       "      <td>4</td>\n",
       "      <td>0</td>\n",
       "      <td>1</td>\n",
       "      <td>2</td>\n",
       "      <td>2</td>\n",
       "      <td>2</td>\n",
       "      <td>2</td>\n",
       "      <td>2</td>\n",
       "      <td>1</td>\n",
       "      <td>1</td>\n",
       "      <td>0</td>\n",
       "      <td>5</td>\n",
       "      <td>1</td>\n",
       "      <td>21</td>\n",
       "      <td>44</td>\n",
       "    </tr>\n",
       "  </tbody>\n",
       "</table>\n",
       "</div>"
      ],
      "text/plain": [
       "  MAR MIL ESP MIG DREM NATIVITY DIS DEAR DEYE SEX RAC1P RELP CIT ANC SCHL  \\\n",
       "0   5   4   0   3    2        1   2    2    2   2     1   13   1   1   16   \n",
       "1   1   4   0   3    2        1   2    2    2   2     1    1   1   1   19   \n",
       "2   1   4   0   1    2        2   2    2    2   1     1    1   4   1   14   \n",
       "3   1   4   0   1    2        1   2    2    2   2     1    1   1   1   19   \n",
       "4   4   4   0   1    2        2   2    2    2   1     1    0   5   1   21   \n",
       "\n",
       "   AGEP  \n",
       "0    28  \n",
       "1    78  \n",
       "2    45  \n",
       "3    71  \n",
       "4    44  "
      ]
     },
     "execution_count": 18,
     "metadata": {},
     "output_type": "execute_result"
    }
   ],
   "source": [
    "data_loader3 = ACSEmploymentDataset(state=['CA'], year=2018, with_nulls=False,\n",
    "                                    subsample_size=20_000, subsample_seed=42)\n",
    "data_loader3.X_data.head()"
   ]
  },
  {
   "cell_type": "code",
   "execution_count": 19,
   "id": "3e6aff1e",
   "metadata": {},
   "outputs": [
    {
     "data": {
      "text/plain": [
       "(20000, 16)"
      ]
     },
     "execution_count": 19,
     "metadata": {},
     "output_type": "execute_result"
    }
   ],
   "source": [
    "data_loader3.X_data.shape"
   ]
  },
  {
   "cell_type": "code",
   "execution_count": 20,
   "id": "db0c1e1f",
   "metadata": {},
   "outputs": [
    {
     "data": {
      "text/html": [
       "<div>\n",
       "<style scoped>\n",
       "    .dataframe tbody tr th:only-of-type {\n",
       "        vertical-align: middle;\n",
       "    }\n",
       "\n",
       "    .dataframe tbody tr th {\n",
       "        vertical-align: top;\n",
       "    }\n",
       "\n",
       "    .dataframe thead th {\n",
       "        text-align: right;\n",
       "    }\n",
       "</style>\n",
       "<table border=\"1\" class=\"dataframe\">\n",
       "  <thead>\n",
       "    <tr style=\"text-align: right;\">\n",
       "      <th></th>\n",
       "      <th>MAR</th>\n",
       "      <th>MIL</th>\n",
       "      <th>ESP</th>\n",
       "      <th>MIG</th>\n",
       "      <th>DREM</th>\n",
       "      <th>NATIVITY</th>\n",
       "      <th>DIS</th>\n",
       "      <th>DEAR</th>\n",
       "      <th>DEYE</th>\n",
       "      <th>SEX</th>\n",
       "      <th>RAC1P</th>\n",
       "      <th>RELP</th>\n",
       "      <th>CIT</th>\n",
       "      <th>ANC</th>\n",
       "      <th>SCHL</th>\n",
       "      <th>AGEP</th>\n",
       "    </tr>\n",
       "  </thead>\n",
       "  <tbody>\n",
       "    <tr>\n",
       "      <th>0</th>\n",
       "      <td>1</td>\n",
       "      <td>4</td>\n",
       "      <td>0</td>\n",
       "      <td>1</td>\n",
       "      <td>2</td>\n",
       "      <td>2</td>\n",
       "      <td>2</td>\n",
       "      <td>2</td>\n",
       "      <td>2</td>\n",
       "      <td>2</td>\n",
       "      <td>6</td>\n",
       "      <td>0</td>\n",
       "      <td>4</td>\n",
       "      <td>1</td>\n",
       "      <td>21</td>\n",
       "      <td>34</td>\n",
       "    </tr>\n",
       "    <tr>\n",
       "      <th>1</th>\n",
       "      <td>3</td>\n",
       "      <td>4</td>\n",
       "      <td>0</td>\n",
       "      <td>1</td>\n",
       "      <td>2</td>\n",
       "      <td>1</td>\n",
       "      <td>2</td>\n",
       "      <td>2</td>\n",
       "      <td>2</td>\n",
       "      <td>1</td>\n",
       "      <td>1</td>\n",
       "      <td>6</td>\n",
       "      <td>1</td>\n",
       "      <td>1</td>\n",
       "      <td>21</td>\n",
       "      <td>61</td>\n",
       "    </tr>\n",
       "    <tr>\n",
       "      <th>2</th>\n",
       "      <td>1</td>\n",
       "      <td>4</td>\n",
       "      <td>0</td>\n",
       "      <td>1</td>\n",
       "      <td>2</td>\n",
       "      <td>2</td>\n",
       "      <td>2</td>\n",
       "      <td>2</td>\n",
       "      <td>2</td>\n",
       "      <td>1</td>\n",
       "      <td>9</td>\n",
       "      <td>0</td>\n",
       "      <td>4</td>\n",
       "      <td>1</td>\n",
       "      <td>1</td>\n",
       "      <td>66</td>\n",
       "    </tr>\n",
       "    <tr>\n",
       "      <th>3</th>\n",
       "      <td>1</td>\n",
       "      <td>4</td>\n",
       "      <td>0</td>\n",
       "      <td>1</td>\n",
       "      <td>2</td>\n",
       "      <td>1</td>\n",
       "      <td>2</td>\n",
       "      <td>2</td>\n",
       "      <td>2</td>\n",
       "      <td>1</td>\n",
       "      <td>1</td>\n",
       "      <td>1</td>\n",
       "      <td>1</td>\n",
       "      <td>1</td>\n",
       "      <td>19</td>\n",
       "      <td>64</td>\n",
       "    </tr>\n",
       "    <tr>\n",
       "      <th>4</th>\n",
       "      <td>1</td>\n",
       "      <td>4</td>\n",
       "      <td>0</td>\n",
       "      <td>1</td>\n",
       "      <td>2</td>\n",
       "      <td>2</td>\n",
       "      <td>1</td>\n",
       "      <td>2</td>\n",
       "      <td>2</td>\n",
       "      <td>2</td>\n",
       "      <td>1</td>\n",
       "      <td>1</td>\n",
       "      <td>5</td>\n",
       "      <td>1</td>\n",
       "      <td>9</td>\n",
       "      <td>62</td>\n",
       "    </tr>\n",
       "  </tbody>\n",
       "</table>\n",
       "</div>"
      ],
      "text/plain": [
       "  MAR MIL ESP MIG DREM NATIVITY DIS DEAR DEYE SEX RAC1P RELP CIT ANC SCHL  \\\n",
       "0   1   4   0   1    2        2   2    2    2   2     6    0   4   1   21   \n",
       "1   3   4   0   1    2        1   2    2    2   1     1    6   1   1   21   \n",
       "2   1   4   0   1    2        2   2    2    2   1     9    0   4   1    1   \n",
       "3   1   4   0   1    2        1   2    2    2   1     1    1   1   1   19   \n",
       "4   1   4   0   1    2        2   1    2    2   2     1    1   5   1    9   \n",
       "\n",
       "   AGEP  \n",
       "0    34  \n",
       "1    61  \n",
       "2    66  \n",
       "3    64  \n",
       "4    62  "
      ]
     },
     "execution_count": 20,
     "metadata": {},
     "output_type": "execute_result"
    }
   ],
   "source": [
    "data_loader4 = ACSEmploymentDataset(state=['CA'], year=2017, with_nulls=False,\n",
    "                                    subsample_size=20_000, subsample_seed=42)\n",
    "data_loader4.X_data.head()"
   ]
  },
  {
   "cell_type": "code",
   "execution_count": 21,
   "id": "eb041bf8",
   "metadata": {},
   "outputs": [
    {
     "data": {
      "text/plain": [
       "(20000, 16)"
      ]
     },
     "execution_count": 21,
     "metadata": {},
     "output_type": "execute_result"
    }
   ],
   "source": [
    "data_loader4.X_data.shape"
   ]
  },
  {
   "cell_type": "markdown",
   "id": "cc14a259",
   "metadata": {},
   "source": [
    "Create out-of-domain test sets"
   ]
  },
  {
   "cell_type": "code",
   "execution_count": 22,
   "id": "26ff678e",
   "metadata": {},
   "outputs": [],
   "source": [
    "column_transformer = get_simple_preprocessor(data_loader)\n",
    "extra_data_loaders = [data_loader2, data_loader3, data_loader4]\n",
    "extra_test_sets = create_extra_test_sets(extra_data_loaders, column_transformer, TEST_SET_FRACTION, seed=42)"
   ]
  },
  {
   "cell_type": "code",
   "execution_count": 23,
   "id": "be1846f2",
   "metadata": {},
   "outputs": [
    {
     "data": {
      "text/plain": [
       "(2000, 92)"
      ]
     },
     "execution_count": 23,
     "metadata": {},
     "output_type": "execute_result"
    }
   ],
   "source": [
    "extra_test_sets[0][0].shape"
   ]
  },
  {
   "cell_type": "markdown",
   "id": "18761a2b",
   "metadata": {},
   "source": [
    "## Run experiment iterations"
   ]
  },
  {
   "cell_type": "markdown",
   "id": "b7f89ded",
   "metadata": {},
   "source": [
    "### Experiment iteration 1"
   ]
  },
  {
   "cell_type": "code",
   "execution_count": 24,
   "id": "4c12680a",
   "metadata": {},
   "outputs": [],
   "source": [
    "# Configs for an experiment iteration\n",
    "exp_iter_num = 1\n",
    "experiment_seed = EXPERIMENT_SEEDS[exp_iter_num - 1]\n",
    "custom_table_fields_dct['experiment_iteration'] = f'Exp_iter_{exp_iter_num}'\n",
    "\n",
    "exp_iter_data_loader = copy.deepcopy(data_loader)  # Add deepcopy to avoid data leakage\n",
    "exp_iter_extra_test_sets = copy.deepcopy(extra_test_sets)  # Add deepcopy to avoid data leakage\n",
    "models_params_for_tuning = get_folktables_employment_models_params_for_tuning2(experiment_seed)\n",
    "preprocessor = get_simple_preprocessor(exp_iter_data_loader)"
   ]
  },
  {
   "cell_type": "code",
   "execution_count": null,
   "id": "9f2de342",
   "metadata": {},
   "outputs": [
    {
     "name": "stderr",
     "output_type": "stream",
     "text": [
      "2023-07-14 19:43:39 experiment_interface.py INFO    : Start an experiment iteration for the following custom params:\n"
     ]
    },
    {
     "name": "stdout",
     "output_type": "stream",
     "text": [
      "{'dataset_split_seed': 100,\n",
      " 'experiment_iteration': 'Exp_iter_1',\n",
      " 'fair_intervention_params_lst': '[0.0, 0.5]',\n",
      " 'model_init_seed': 100,\n",
      " 'session_uuid': '42eab82d-3396-491d-a457-6260b1caecae'}\n",
      "\n",
      "\n"
     ]
    },
    {
     "name": "stderr",
     "output_type": "stream",
     "text": [
      "2023-07-14 19:43:39 experiment_interface.py INFO    : The dataset is preprocessed\n"
     ]
    },
    {
     "name": "stdout",
     "output_type": "stream",
     "text": [
      "Top indexes of an X_test in a base flow dataset:  Int64Index([ 2917,  2234, 14396,  1781, 11102,   732,  7692, 10589, 16098,\n",
      "             4920,  6601,  7611,  3825, 18755,  6862,  3847,  7256, 13711,\n",
      "            12389,  9772],\n",
      "           dtype='int64')\n",
      "Top indexes of an y_test in a base flow dataset:  Int64Index([ 2917,  2234, 14396,  1781, 11102,   732,  7692, 10589, 16098,\n",
      "             4920,  6601,  7611,  3825, 18755,  6862,  3847,  7256, 13711,\n",
      "            12389,  9772],\n",
      "           dtype='int64')\n"
     ]
    },
    {
     "data": {
      "application/vnd.jupyter.widget-view+json": {
       "model_id": "16a3023c78ac4710ae4b63f4348f9f09",
       "version_major": 2,
       "version_minor": 0
      },
      "text/plain": [
       "Multiple alphas:   0%|          | 0/2 [00:00<?, ?it/s]"
      ]
     },
     "metadata": {},
     "output_type": "display_data"
    },
    {
     "name": "stdout",
     "output_type": "stream",
     "text": [
      "intervention_param:  0.0\n",
      "2023/07/14, 19:43:39: Tuning MLPClassifier...\n"
     ]
    },
    {
     "name": "stderr",
     "output_type": "stream",
     "text": [
      "2023-07-14 19:50:42 experiment_interface.py INFO    : Models are tuned and saved to a file\n"
     ]
    },
    {
     "name": "stdout",
     "output_type": "stream",
     "text": [
      "2023/07/14, 19:50:42: Tuning for MLPClassifier is finished [F1 score = 0.7708615991011859, Accuracy = 0.7813333333333333]\n",
      "\n"
     ]
    },
    {
     "data": {
      "application/vnd.jupyter.widget-view+json": {
       "model_id": "42b7f1b81fb544e4868c21f7eee5f1de",
       "version_major": 2,
       "version_minor": 0
      },
      "text/plain": [
       "Multiple runs progress:   0%|          | 0/1 [00:00<?, ?it/s]"
      ]
     },
     "metadata": {},
     "output_type": "display_data"
    },
    {
     "data": {
      "application/vnd.jupyter.widget-view+json": {
       "model_id": "5611aa76f26640e2bae1170851b67525",
       "version_major": 2,
       "version_minor": 0
      },
      "text/plain": [
       "Analyze models in one run:   0%|          | 0/1 [00:00<?, ?it/s]"
      ]
     },
     "metadata": {},
     "output_type": "display_data"
    },
    {
     "data": {
      "application/vnd.jupyter.widget-view+json": {
       "model_id": "9b755f03a6704f85b6fbff1160605991",
       "version_major": 2,
       "version_minor": 0
      },
      "text/plain": [
       "Classifiers testing by bootstrap:   0%|          | 0/200 [00:00<?, ?it/s]"
      ]
     },
     "metadata": {},
     "output_type": "display_data"
    },
    {
     "name": "stdout",
     "output_type": "stream",
     "text": [
      "intervention_param:  0.5\n",
      "2023/07/15, 01:04:01: Tuning MLPClassifier...\n",
      "2023/07/15, 01:11:19: Tuning for MLPClassifier is finished [F1 score = 0.771845520462305, Accuracy = 0.7823333333333333]\n",
      "\n"
     ]
    },
    {
     "data": {
      "application/vnd.jupyter.widget-view+json": {
       "model_id": "dbff05ce7d354035a252f208d3865f8c",
       "version_major": 2,
       "version_minor": 0
      },
      "text/plain": [
       "Multiple runs progress:   0%|          | 0/1 [00:00<?, ?it/s]"
      ]
     },
     "metadata": {},
     "output_type": "display_data"
    },
    {
     "data": {
      "application/vnd.jupyter.widget-view+json": {
       "model_id": "14b3163d2ad949e78c375b6ba04c4b33",
       "version_major": 2,
       "version_minor": 0
      },
      "text/plain": [
       "Analyze models in one run:   0%|          | 0/1 [00:00<?, ?it/s]"
      ]
     },
     "metadata": {},
     "output_type": "display_data"
    },
    {
     "data": {
      "application/vnd.jupyter.widget-view+json": {
       "model_id": "86f929e1c9ea4b2c8ea20db4136cc1c3",
       "version_major": 2,
       "version_minor": 0
      },
      "text/plain": [
       "Classifiers testing by bootstrap:   0%|          | 0/200 [00:00<?, ?it/s]"
      ]
     },
     "metadata": {},
     "output_type": "display_data"
    }
   ],
   "source": [
    "run_exp_iter_with_mult_set_and_preprocessing_intervention(\n",
    "    data_loader=exp_iter_data_loader,\n",
    "    experiment_seed=experiment_seed,\n",
    "    test_set_fraction=TEST_SET_FRACTION,\n",
    "    db_writer_func=db_writer_func,\n",
    "    fair_intervention_params_lst=FAIR_INTERVENTION_PARAMS_LST,\n",
    "    extra_test_sets=exp_iter_extra_test_sets,\n",
    "    column_transformer=preprocessor,\n",
    "    models_params_for_tuning=models_params_for_tuning,\n",
    "    metrics_computation_config=metrics_computation_config,\n",
    "    custom_table_fields_dct=custom_table_fields_dct,\n",
    "    with_tuning=True,\n",
    "    # with_tuning=False,\n",
    "    # tuned_params_df_paths=tuned_params_df_paths,\n",
    "    save_results_dir_path=SAVE_RESULTS_DIR_PATH,\n",
    "    verbose=True\n",
    ")"
   ]
  },
  {
   "cell_type": "markdown",
   "id": "46694522",
   "metadata": {},
   "source": [
    "### Experiment iteration 2"
   ]
  },
  {
   "cell_type": "code",
   "execution_count": 19,
   "id": "d4c4fccd",
   "metadata": {},
   "outputs": [],
   "source": [
    "# Configs for an experiment iteration\n",
    "exp_iter_num = 2\n",
    "experiment_seed = EXPERIMENT_SEEDS[exp_iter_num - 1]\n",
    "custom_table_fields_dct['experiment_iteration'] = f'Exp_iter_{exp_iter_num}'\n",
    "tuned_params_filenames = [\n",
    "    'tuning_results_Folktables_NY_2018_Employment_alpha_0.5_20230715__051119.csv',\n",
    "]\n",
    "tuned_params_df_paths = [os.path.join(ROOT_DIR, 'results', EXPERIMENT_NAME, tuned_params_filename)\n",
    "                         for tuned_params_filename in tuned_params_filenames]\n",
    "\n",
    "exp_iter_data_loader = copy.deepcopy(data_loader)  # Add deepcopy to avoid data leakage\n",
    "exp_iter_extra_test_sets = copy.deepcopy(extra_test_sets)  # Add deepcopy to avoid data leakage\n",
    "models_params_for_tuning = get_folktables_employment_models_params_for_tuning2(experiment_seed)\n",
    "preprocessor = get_simple_preprocessor(exp_iter_data_loader)"
   ]
  },
  {
   "cell_type": "code",
   "execution_count": 20,
   "id": "a5cd6d3f",
   "metadata": {},
   "outputs": [
    {
     "name": "stderr",
     "output_type": "stream",
     "text": [
      "2023-07-13 23:21:46 experiment_interface.py INFO    : Start an experiment iteration for the following custom params:\n"
     ]
    },
    {
     "name": "stdout",
     "output_type": "stream",
     "text": [
      "{'dataset_split_seed': 200,\n",
      " 'experiment_iteration': 'Exp_iter_2',\n",
      " 'fair_intervention_params_lst': '[0.0, 0.5]',\n",
      " 'model_init_seed': 200,\n",
      " 'session_uuid': 'e12769fb-57b5-4b99-b5e8-35e8b2f952d1'}\n",
      "\n",
      "\n"
     ]
    },
    {
     "name": "stderr",
     "output_type": "stream",
     "text": [
      "2023-07-13 23:21:47 experiment_interface.py INFO    : The dataset is preprocessed\n"
     ]
    },
    {
     "name": "stdout",
     "output_type": "stream",
     "text": [
      "Top indexes of an X_test in a base flow dataset:  Int64Index([ 4298,  9201,   679, 18780,  6955,  8571,  9405, 13699,  3930,\n",
      "            13573,  3774,  9085, 12646, 16782, 13102, 18789,  8042, 19647,\n",
      "            13861,  8780],\n",
      "           dtype='int64')\n",
      "Top indexes of an y_test in a base flow dataset:  Int64Index([ 4298,  9201,   679, 18780,  6955,  8571,  9405, 13699,  3930,\n",
      "            13573,  3774,  9085, 12646, 16782, 13102, 18789,  8042, 19647,\n",
      "            13861,  8780],\n",
      "           dtype='int64')\n"
     ]
    },
    {
     "data": {
      "application/vnd.jupyter.widget-view+json": {
       "model_id": "19395e063e3748408f3252c113e014be",
       "version_major": 2,
       "version_minor": 0
      },
      "text/plain": [
       "Multiple alphas:   0%|          | 0/2 [00:00<?, ?it/s]"
      ]
     },
     "metadata": {},
     "output_type": "display_data"
    },
    {
     "name": "stdout",
     "output_type": "stream",
     "text": [
      "intervention_param:  0.0\n"
     ]
    },
    {
     "name": "stderr",
     "output_type": "stream",
     "text": [
      "2023-07-13 23:21:47 experiment_interface.py INFO    : Models config is loaded from the input file\n"
     ]
    },
    {
     "name": "stdout",
     "output_type": "stream",
     "text": [
      "Path for tuned params:  /home/denys_herasymuk/UCU/4course_2term/Bachelor_Thesis/Code/fairness-variance/results/one_repair_lvl_many_models/tuning_results_Folktables_NY_2018_Employment_alpha_0.0_20230713__200413.csv\n",
      "LogisticRegression:  {'C': 1, 'class_weight': None, 'dual': False, 'fit_intercept': True, 'intercept_scaling': 1, 'l1_ratio': None, 'max_iter': 1000, 'multi_class': 'auto', 'n_jobs': None, 'penalty': 'l2', 'random_state': 200, 'solver': 'lbfgs', 'tol': 0.0001, 'verbose': 0, 'warm_start': False}\n"
     ]
    },
    {
     "data": {
      "application/vnd.jupyter.widget-view+json": {
       "model_id": "b3d9ed6cf7f84c0393d572ae00ac8266",
       "version_major": 2,
       "version_minor": 0
      },
      "text/plain": [
       "Multiple runs progress:   0%|          | 0/1 [00:00<?, ?it/s]"
      ]
     },
     "metadata": {},
     "output_type": "display_data"
    },
    {
     "data": {
      "application/vnd.jupyter.widget-view+json": {
       "model_id": "236195a87fd74502bd3aa0c4d71eb199",
       "version_major": 2,
       "version_minor": 0
      },
      "text/plain": [
       "Analyze models in one run:   0%|          | 0/2 [00:00<?, ?it/s]"
      ]
     },
     "metadata": {},
     "output_type": "display_data"
    },
    {
     "data": {
      "application/vnd.jupyter.widget-view+json": {
       "model_id": "175ded0728f94c3997ab9f38b9ff1db7",
       "version_major": 2,
       "version_minor": 0
      },
      "text/plain": [
       "Classifiers testing by bootstrap:   0%|          | 0/50 [00:00<?, ?it/s]"
      ]
     },
     "metadata": {},
     "output_type": "display_data"
    },
    {
     "data": {
      "application/vnd.jupyter.widget-view+json": {
       "model_id": "5e5c6447c992463bb4594f2123c2f95e",
       "version_major": 2,
       "version_minor": 0
      },
      "text/plain": [
       "Classifiers testing by bootstrap:   0%|          | 0/50 [00:00<?, ?it/s]"
      ]
     },
     "metadata": {},
     "output_type": "display_data"
    },
    {
     "name": "stdout",
     "output_type": "stream",
     "text": [
      "intervention_param:  0.5\n",
      "Path for tuned params:  /home/denys_herasymuk/UCU/4course_2term/Bachelor_Thesis/Code/fairness-variance/results/one_repair_lvl_many_models/tuning_results_Folktables_NY_2018_Employment_alpha_0.5_20230713__201011.csv\n",
      "LogisticRegression:  {'C': 1, 'class_weight': None, 'dual': False, 'fit_intercept': True, 'intercept_scaling': 1, 'l1_ratio': None, 'max_iter': 1000, 'multi_class': 'auto', 'n_jobs': None, 'penalty': 'l2', 'random_state': 200, 'solver': 'lbfgs', 'tol': 0.0001, 'verbose': 0, 'warm_start': False}\n"
     ]
    },
    {
     "data": {
      "application/vnd.jupyter.widget-view+json": {
       "model_id": "230889060aef423c8fd062d29046e8a1",
       "version_major": 2,
       "version_minor": 0
      },
      "text/plain": [
       "Multiple runs progress:   0%|          | 0/1 [00:00<?, ?it/s]"
      ]
     },
     "metadata": {},
     "output_type": "display_data"
    },
    {
     "data": {
      "application/vnd.jupyter.widget-view+json": {
       "model_id": "66fc75367a22431b90bf70620b07c075",
       "version_major": 2,
       "version_minor": 0
      },
      "text/plain": [
       "Analyze models in one run:   0%|          | 0/2 [00:00<?, ?it/s]"
      ]
     },
     "metadata": {},
     "output_type": "display_data"
    },
    {
     "data": {
      "application/vnd.jupyter.widget-view+json": {
       "model_id": "909a13e852384e59a1deb50b17e54eb0",
       "version_major": 2,
       "version_minor": 0
      },
      "text/plain": [
       "Classifiers testing by bootstrap:   0%|          | 0/50 [00:00<?, ?it/s]"
      ]
     },
     "metadata": {},
     "output_type": "display_data"
    },
    {
     "data": {
      "application/vnd.jupyter.widget-view+json": {
       "model_id": "2476c6f86a564092a70d66db53a3e2db",
       "version_major": 2,
       "version_minor": 0
      },
      "text/plain": [
       "Classifiers testing by bootstrap:   0%|          | 0/50 [00:00<?, ?it/s]"
      ]
     },
     "metadata": {},
     "output_type": "display_data"
    }
   ],
   "source": [
    "run_exp_iter_with_mult_set_and_preprocessing_intervention(\n",
    "    data_loader=exp_iter_data_loader,\n",
    "    experiment_seed=experiment_seed,\n",
    "    test_set_fraction=TEST_SET_FRACTION,\n",
    "    db_writer_func=db_writer_func,\n",
    "    fair_intervention_params_lst=FAIR_INTERVENTION_PARAMS_LST,\n",
    "    extra_test_sets=exp_iter_extra_test_sets,\n",
    "    column_transformer=preprocessor,\n",
    "    models_params_for_tuning=models_params_for_tuning,\n",
    "    metrics_computation_config=metrics_computation_config,\n",
    "    custom_table_fields_dct=custom_table_fields_dct,\n",
    "    # with_tuning=True,\n",
    "    with_tuning=False,\n",
    "    tuned_params_df_paths=tuned_params_df_paths,\n",
    "    save_results_dir_path=SAVE_RESULTS_DIR_PATH,\n",
    "    verbose=True\n",
    ")"
   ]
  },
  {
   "cell_type": "markdown",
   "id": "e4a5275c",
   "metadata": {},
   "source": [
    "### Experiment iteration 3"
   ]
  },
  {
   "cell_type": "code",
   "execution_count": 24,
   "id": "9da7bf4b",
   "metadata": {},
   "outputs": [],
   "source": [
    "# Configs for an experiment iteration\n",
    "exp_iter_num = 3\n",
    "experiment_seed = EXPERIMENT_SEEDS[exp_iter_num - 1]\n",
    "custom_table_fields_dct['experiment_iteration'] = f'Exp_iter_{exp_iter_num}'\n",
    "tuned_params_filenames = [\n",
    "    'tuning_results_Folktables_NY_2018_Employment_alpha_0.5_20230715__051119.csv',\n",
    "]\n",
    "tuned_params_df_paths = [os.path.join(ROOT_DIR, 'results', EXPERIMENT_NAME, tuned_params_filename)\n",
    "                         for tuned_params_filename in tuned_params_filenames]\n",
    "\n",
    "exp_iter_data_loader = copy.deepcopy(data_loader)  # Add deepcopy to avoid data leakage\n",
    "exp_iter_extra_test_sets = copy.deepcopy(extra_test_sets)  # Add deepcopy to avoid data leakage\n",
    "models_params_for_tuning = get_folktables_employment_models_params_for_tuning2(experiment_seed)\n",
    "preprocessor = get_simple_preprocessor(exp_iter_data_loader)"
   ]
  },
  {
   "cell_type": "code",
   "execution_count": null,
   "id": "0f1b8545",
   "metadata": {},
   "outputs": [
    {
     "name": "stderr",
     "output_type": "stream",
     "text": [
      "2023-07-15 08:07:31 experiment_interface.py INFO    : Start an experiment iteration for the following custom params:\n"
     ]
    },
    {
     "name": "stdout",
     "output_type": "stream",
     "text": [
      "{'dataset_split_seed': 300,\n",
      " 'experiment_iteration': 'Exp_iter_3',\n",
      " 'fair_intervention_params_lst': '[0.5]',\n",
      " 'model_init_seed': 300,\n",
      " 'session_uuid': '42eab82d-3396-491d-a457-6260b1caecae'}\n",
      "\n",
      "\n"
     ]
    },
    {
     "name": "stderr",
     "output_type": "stream",
     "text": [
      "2023-07-15 08:07:32 experiment_interface.py INFO    : The dataset is preprocessed\n"
     ]
    },
    {
     "name": "stdout",
     "output_type": "stream",
     "text": [
      "Top indexes of an X_test in a base flow dataset:  Int64Index([15600,  9192, 15929,  9841, 13477,  4588, 19303,  3778,  8371,\n",
      "             8013, 11558,  2597, 19554, 13439,  8458, 10642, 11502, 14988,\n",
      "            14354, 10879],\n",
      "           dtype='int64')\n",
      "Top indexes of an y_test in a base flow dataset:  Int64Index([15600,  9192, 15929,  9841, 13477,  4588, 19303,  3778,  8371,\n",
      "             8013, 11558,  2597, 19554, 13439,  8458, 10642, 11502, 14988,\n",
      "            14354, 10879],\n",
      "           dtype='int64')\n"
     ]
    },
    {
     "data": {
      "application/vnd.jupyter.widget-view+json": {
       "model_id": "09cfe78ee8814145a92a7ab6632f9ba7",
       "version_major": 2,
       "version_minor": 0
      },
      "text/plain": [
       "Multiple alphas:   0%|          | 0/1 [00:00<?, ?it/s]"
      ]
     },
     "metadata": {},
     "output_type": "display_data"
    },
    {
     "name": "stdout",
     "output_type": "stream",
     "text": [
      "intervention_param:  0.5\n"
     ]
    },
    {
     "name": "stderr",
     "output_type": "stream",
     "text": [
      "2023-07-15 08:07:32 experiment_interface.py INFO    : Models config is loaded from the input file\n"
     ]
    },
    {
     "name": "stdout",
     "output_type": "stream",
     "text": [
      "Path for tuned params:  /home/dh3553/projects/fairness-variance/results/one_repair_lvl_many_models/tuning_results_Folktables_NY_2018_Employment_alpha_0.5_20230715__051119.csv\n",
      "MLPClassifier:  {'activation': 'tanh', 'alpha': 0.0001, 'batch_size': 'auto', 'beta_1': 0.9, 'beta_2': 0.999, 'early_stopping': False, 'epsilon': 1e-08, 'hidden_layer_sizes': (100, 100), 'learning_rate': 'adaptive', 'learning_rate_init': 0.001, 'max_fun': 15000, 'max_iter': 1000, 'momentum': 0.9, 'n_iter_no_change': 10, 'nesterovs_momentum': True, 'power_t': 0.5, 'random_state': 300, 'shuffle': True, 'solver': 'sgd', 'tol': 0.0001, 'validation_fraction': 0.1, 'verbose': False, 'warm_start': False}\n"
     ]
    },
    {
     "data": {
      "application/vnd.jupyter.widget-view+json": {
       "model_id": "58f4708e8fb042199d96a209f89f7d2d",
       "version_major": 2,
       "version_minor": 0
      },
      "text/plain": [
       "Multiple runs progress:   0%|          | 0/1 [00:00<?, ?it/s]"
      ]
     },
     "metadata": {},
     "output_type": "display_data"
    },
    {
     "data": {
      "application/vnd.jupyter.widget-view+json": {
       "model_id": "5e184b06e5524621b2c212c688a7141c",
       "version_major": 2,
       "version_minor": 0
      },
      "text/plain": [
       "Analyze models in one run:   0%|          | 0/1 [00:00<?, ?it/s]"
      ]
     },
     "metadata": {},
     "output_type": "display_data"
    },
    {
     "data": {
      "application/vnd.jupyter.widget-view+json": {
       "model_id": "24be1826a9ea4d3a83ef582ff880f38a",
       "version_major": 2,
       "version_minor": 0
      },
      "text/plain": [
       "Classifiers testing by bootstrap:   0%|          | 0/200 [00:00<?, ?it/s]"
      ]
     },
     "metadata": {},
     "output_type": "display_data"
    }
   ],
   "source": [
    "run_exp_iter_with_mult_set_and_preprocessing_intervention(\n",
    "    data_loader=exp_iter_data_loader,\n",
    "    experiment_seed=experiment_seed,\n",
    "    test_set_fraction=TEST_SET_FRACTION,\n",
    "    db_writer_func=db_writer_func,\n",
    "    fair_intervention_params_lst=FAIR_INTERVENTION_PARAMS_LST,\n",
    "    extra_test_sets=exp_iter_extra_test_sets,\n",
    "    column_transformer=preprocessor,\n",
    "    models_params_for_tuning=models_params_for_tuning,\n",
    "    metrics_computation_config=metrics_computation_config,\n",
    "    custom_table_fields_dct=custom_table_fields_dct,\n",
    "    # with_tuning=True,\n",
    "    with_tuning=False,\n",
    "    tuned_params_df_paths=tuned_params_df_paths,\n",
    "    save_results_dir_path=SAVE_RESULTS_DIR_PATH,\n",
    "    verbose=True\n",
    ")"
   ]
  },
  {
   "cell_type": "markdown",
   "id": "f71384f1",
   "metadata": {},
   "source": [
    "### Experiment iteration 4"
   ]
  },
  {
   "cell_type": "code",
   "execution_count": null,
   "id": "885a2b96",
   "metadata": {},
   "outputs": [],
   "source": [
    "# Configs for an experiment iteration\n",
    "exp_iter_num = 4\n",
    "experiment_seed = EXPERIMENT_SEEDS[exp_iter_num - 1]\n",
    "custom_table_fields_dct['experiment_iteration'] = f'Exp_iter_{exp_iter_num}'\n",
    "tuned_params_filenames = [\n",
    "    'tuning_results_Folktables_NY_2018_Employment_alpha_0.5_20230715__051119.csv',\n",
    "]\n",
    "tuned_params_df_paths = [os.path.join(ROOT_DIR, 'results', EXPERIMENT_NAME, tuned_params_filename)\n",
    "                         for tuned_params_filename in tuned_params_filenames]\n",
    "\n",
    "exp_iter_data_loader = copy.deepcopy(data_loader)  # Add deepcopy to avoid data leakage\n",
    "exp_iter_extra_test_sets = copy.deepcopy(extra_test_sets)  # Add deepcopy to avoid data leakage\n",
    "models_params_for_tuning = get_folktables_employment_models_params_for_tuning2(experiment_seed)\n",
    "preprocessor = get_simple_preprocessor(exp_iter_data_loader)"
   ]
  },
  {
   "cell_type": "code",
   "execution_count": null,
   "id": "dc92588f",
   "metadata": {},
   "outputs": [],
   "source": [
    "run_exp_iter_with_mult_set_and_preprocessing_intervention(\n",
    "    data_loader=exp_iter_data_loader,\n",
    "    experiment_seed=experiment_seed,\n",
    "    test_set_fraction=TEST_SET_FRACTION,\n",
    "    db_writer_func=db_writer_func,\n",
    "    fair_intervention_params_lst=FAIR_INTERVENTION_PARAMS_LST,\n",
    "    extra_test_sets=exp_iter_extra_test_sets,\n",
    "    column_transformer=preprocessor,\n",
    "    models_params_for_tuning=models_params_for_tuning,\n",
    "    metrics_computation_config=metrics_computation_config,\n",
    "    custom_table_fields_dct=custom_table_fields_dct,\n",
    "    # with_tuning=True,\n",
    "    with_tuning=False,\n",
    "    tuned_params_df_paths=tuned_params_df_paths,\n",
    "    save_results_dir_path=SAVE_RESULTS_DIR_PATH,\n",
    "    verbose=True\n",
    ")"
   ]
  },
  {
   "cell_type": "markdown",
   "id": "92f23eb7",
   "metadata": {},
   "source": [
    "### Experiment iteration 5"
   ]
  },
  {
   "cell_type": "code",
   "execution_count": null,
   "id": "57ecdc09",
   "metadata": {},
   "outputs": [],
   "source": [
    "# Configs for an experiment iteration\n",
    "exp_iter_num = 5\n",
    "experiment_seed = EXPERIMENT_SEEDS[exp_iter_num - 1]\n",
    "custom_table_fields_dct['experiment_iteration'] = f'Exp_iter_{exp_iter_num}'\n",
    "tuned_params_filenames = [\n",
    "    'tuning_results_Folktables_NY_2018_Employment_alpha_0.5_20230715__051119.csv',\n",
    "]\n",
    "tuned_params_df_paths = [os.path.join(ROOT_DIR, 'results', EXPERIMENT_NAME, tuned_params_filename)\n",
    "                         for tuned_params_filename in tuned_params_filenames]\n",
    "\n",
    "exp_iter_data_loader = copy.deepcopy(data_loader)  # Add deepcopy to avoid data leakage\n",
    "exp_iter_extra_test_sets = copy.deepcopy(extra_test_sets)  # Add deepcopy to avoid data leakage\n",
    "models_params_for_tuning = get_folktables_employment_models_params_for_tuning2(experiment_seed)\n",
    "preprocessor = get_simple_preprocessor(exp_iter_data_loader)"
   ]
  },
  {
   "cell_type": "code",
   "execution_count": null,
   "id": "ab520220",
   "metadata": {},
   "outputs": [],
   "source": [
    "run_exp_iter_with_mult_set_and_preprocessing_intervention(\n",
    "    data_loader=exp_iter_data_loader,\n",
    "    experiment_seed=experiment_seed,\n",
    "    test_set_fraction=TEST_SET_FRACTION,\n",
    "    db_writer_func=db_writer_func,\n",
    "    fair_intervention_params_lst=FAIR_INTERVENTION_PARAMS_LST,\n",
    "    extra_test_sets=exp_iter_extra_test_sets,\n",
    "    column_transformer=preprocessor,\n",
    "    models_params_for_tuning=models_params_for_tuning,\n",
    "    metrics_computation_config=metrics_computation_config,\n",
    "    custom_table_fields_dct=custom_table_fields_dct,\n",
    "    # with_tuning=True,\n",
    "    with_tuning=False,\n",
    "    tuned_params_df_paths=tuned_params_df_paths,\n",
    "    save_results_dir_path=SAVE_RESULTS_DIR_PATH,\n",
    "    verbose=True\n",
    ")"
   ]
  },
  {
   "cell_type": "markdown",
   "id": "55d08cfc",
   "metadata": {},
   "source": [
    "### Experiment iteration 6"
   ]
  },
  {
   "cell_type": "code",
   "execution_count": null,
   "id": "ba2938c9",
   "metadata": {},
   "outputs": [],
   "source": [
    "# Configs for an experiment iteration\n",
    "exp_iter_num = 6\n",
    "experiment_seed = EXPERIMENT_SEEDS[exp_iter_num - 1]\n",
    "custom_table_fields_dct['experiment_iteration'] = f'Exp_iter_{exp_iter_num}'\n",
    "tuned_params_filenames = [\n",
    "    'tuning_results_Folktables_NY_2018_Employment_alpha_0.5_20230715__051119.csv',\n",
    "]\n",
    "tuned_params_df_paths = [os.path.join(ROOT_DIR, 'results', EXPERIMENT_NAME, tuned_params_filename)\n",
    "                         for tuned_params_filename in tuned_params_filenames]\n",
    "\n",
    "exp_iter_data_loader = copy.deepcopy(data_loader)  # Add deepcopy to avoid data leakage\n",
    "exp_iter_extra_test_sets = copy.deepcopy(extra_test_sets)  # Add deepcopy to avoid data leakage\n",
    "models_params_for_tuning = get_folktables_employment_models_params_for_tuning2(experiment_seed)\n",
    "preprocessor = get_simple_preprocessor(exp_iter_data_loader)"
   ]
  },
  {
   "cell_type": "code",
   "execution_count": null,
   "id": "293e57bc",
   "metadata": {},
   "outputs": [],
   "source": [
    "run_exp_iter_with_mult_set_and_preprocessing_intervention(\n",
    "    data_loader=exp_iter_data_loader,\n",
    "    experiment_seed=experiment_seed,\n",
    "    test_set_fraction=TEST_SET_FRACTION,\n",
    "    db_writer_func=db_writer_func,\n",
    "    fair_intervention_params_lst=FAIR_INTERVENTION_PARAMS_LST,\n",
    "    extra_test_sets=exp_iter_extra_test_sets,\n",
    "    column_transformer=preprocessor,\n",
    "    models_params_for_tuning=models_params_for_tuning,\n",
    "    metrics_computation_config=metrics_computation_config,\n",
    "    custom_table_fields_dct=custom_table_fields_dct,\n",
    "    # with_tuning=True,\n",
    "    with_tuning=False,\n",
    "    tuned_params_df_paths=tuned_params_df_paths,\n",
    "    save_results_dir_path=SAVE_RESULTS_DIR_PATH,\n",
    "    verbose=True\n",
    ")"
   ]
  },
  {
   "cell_type": "markdown",
   "id": "38ccae37",
   "metadata": {},
   "source": [
    "### Experiment iteration 7"
   ]
  },
  {
   "cell_type": "markdown",
   "id": "9fb95a9d",
   "metadata": {},
   "source": [
    "### Experiment iteration 8"
   ]
  },
  {
   "cell_type": "markdown",
   "id": "a08dfc33",
   "metadata": {},
   "source": [
    "### Experiment iteration 9"
   ]
  },
  {
   "cell_type": "markdown",
   "id": "dc11ab19",
   "metadata": {},
   "source": [
    "### Experiment iteration 10"
   ]
  },
  {
   "cell_type": "code",
   "execution_count": null,
   "id": "9c8580fa",
   "metadata": {},
   "outputs": [],
   "source": []
  }
 ],
 "metadata": {
  "kernelspec": {
   "display_name": "Python 3",
   "language": "python",
   "name": "python3"
  },
  "language_info": {
   "codemirror_mode": {
    "name": "ipython",
    "version": 3
   },
   "file_extension": ".py",
   "mimetype": "text/x-python",
   "name": "python",
   "nbconvert_exporter": "python",
   "pygments_lexer": "ipython3",
   "version": "3.8.5"
  }
 },
 "nbformat": 4,
 "nbformat_minor": 5
}
