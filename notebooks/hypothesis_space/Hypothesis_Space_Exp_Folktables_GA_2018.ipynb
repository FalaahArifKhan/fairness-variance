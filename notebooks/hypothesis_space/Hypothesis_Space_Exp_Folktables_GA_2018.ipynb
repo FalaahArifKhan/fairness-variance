{
 "cells": [
  {
   "cell_type": "code",
   "execution_count": 11,
   "id": "248cbed8",
   "metadata": {},
   "outputs": [
    {
     "name": "stdout",
     "output_type": "stream",
     "text": [
      "The autoreload extension is already loaded. To reload it, use:\n",
      "  %reload_ext autoreload\n"
     ]
    },
    {
     "name": "stderr",
     "output_type": "stream",
     "text": [
      "[autoreload of source.custom_classes.data_loaders failed: Traceback (most recent call last):\n",
      "  File \"/home/denys_herasymuk/UCU/4course_2term/Bachelor_Thesis/Code/fairness-variance/faact_venv/lib/python3.8/site-packages/IPython/extensions/autoreload.py\", line 261, in check\n",
      "    superreload(m, reload, self.old_objects)\n",
      "  File \"/home/denys_herasymuk/UCU/4course_2term/Bachelor_Thesis/Code/fairness-variance/faact_venv/lib/python3.8/site-packages/IPython/extensions/autoreload.py\", line 484, in superreload\n",
      "    update_generic(old_obj, new_obj)\n",
      "  File \"/home/denys_herasymuk/UCU/4course_2term/Bachelor_Thesis/Code/fairness-variance/faact_venv/lib/python3.8/site-packages/IPython/extensions/autoreload.py\", line 381, in update_generic\n",
      "    update(a, b)\n",
      "  File \"/home/denys_herasymuk/UCU/4course_2term/Bachelor_Thesis/Code/fairness-variance/faact_venv/lib/python3.8/site-packages/IPython/extensions/autoreload.py\", line 333, in update_class\n",
      "    if update_generic(old_obj, new_obj):\n",
      "  File \"/home/denys_herasymuk/UCU/4course_2term/Bachelor_Thesis/Code/fairness-variance/faact_venv/lib/python3.8/site-packages/IPython/extensions/autoreload.py\", line 381, in update_generic\n",
      "    update(a, b)\n",
      "  File \"/home/denys_herasymuk/UCU/4course_2term/Bachelor_Thesis/Code/fairness-variance/faact_venv/lib/python3.8/site-packages/IPython/extensions/autoreload.py\", line 293, in update_function\n",
      "    setattr(old, name, getattr(new, name))\n",
      "ValueError: __init__() requires a code object with 0 free vars, not 1\n",
      "]\n"
     ]
    }
   ],
   "source": [
    "%matplotlib inline\n",
    "%load_ext autoreload\n",
    "%autoreload 2"
   ]
  },
  {
   "cell_type": "code",
   "execution_count": 12,
   "id": "7ec6cd08",
   "metadata": {},
   "outputs": [],
   "source": [
    "import os\n",
    "import warnings\n",
    "warnings.filterwarnings('ignore')\n",
    "os.environ[\"PYTHONWARNINGS\"] = \"ignore\""
   ]
  },
  {
   "cell_type": "code",
   "execution_count": 13,
   "id": "b8cb69f2",
   "metadata": {},
   "outputs": [
    {
     "name": "stdout",
     "output_type": "stream",
     "text": [
      "Current location:  /home/denys_herasymuk/UCU/4course_2term/Bachelor_Thesis/Code/fairness-variance\n"
     ]
    }
   ],
   "source": [
    "cur_folder_name = os.getcwd().split('/')[-1]\n",
    "if cur_folder_name != \"fairness-variance\":\n",
    "    os.chdir(\"../..\")\n",
    "\n",
    "print('Current location: ', os.getcwd())"
   ]
  },
  {
   "cell_type": "markdown",
   "id": "606df34d",
   "metadata": {},
   "source": [
    "## Import dependencies"
   ]
  },
  {
   "cell_type": "code",
   "execution_count": 14,
   "id": "7a9241de",
   "metadata": {},
   "outputs": [],
   "source": [
    "import os\n",
    "import pandas as pd\n",
    "from datetime import datetime, timezone\n",
    "\n",
    "from configs.models_config_for_tuning import MODELS_CONFIG\n",
    "from source.utils.custom_initializers import create_config_obj, create_models_config_from_tuned_params_df\n",
    "from source.user_interfaces.metrics_computation_interfaces import compute_metrics_multiple_runs\n",
    "from source.custom_classes.data_loaders import ACSEmploymentDataset"
   ]
  },
  {
   "cell_type": "markdown",
   "id": "95f15603",
   "metadata": {},
   "source": [
    "## Configs"
   ]
  },
  {
   "cell_type": "code",
   "execution_count": 15,
   "id": "71d8f24a",
   "metadata": {},
   "outputs": [],
   "source": [
    "config = create_config_obj(config_yaml_path=os.path.join('configs', 'experiment1_folktables_GA_2018_config.yaml'))\n",
    "\n",
    "TUNED_PARAMS_FILE_PATH = os.path.join('results', 'models_tuning', f'tuning_results_{config.dataset_name}_20230117__023240.csv')\n",
    "SAVE_RESULTS_DIR_PATH = os.path.join('results', 'hypothesis_space',\n",
    "                                     f'{config.dataset_name}_Metrics_{datetime.now(timezone.utc).strftime(\"%Y%m%d__%H%M%S\")}')"
   ]
  },
  {
   "cell_type": "markdown",
   "metadata": {
    "collapsed": false
   },
   "source": [
    "## Models tuned hyper-parameters"
   ]
  },
  {
   "cell_type": "code",
   "execution_count": 16,
   "metadata": {
    "collapsed": false
   },
   "outputs": [
    {
     "data": {
      "text/html": [
       "<div>\n",
       "<style scoped>\n",
       "    .dataframe tbody tr th:only-of-type {\n",
       "        vertical-align: middle;\n",
       "    }\n",
       "\n",
       "    .dataframe tbody tr th {\n",
       "        vertical-align: top;\n",
       "    }\n",
       "\n",
       "    .dataframe thead th {\n",
       "        text-align: right;\n",
       "    }\n",
       "</style>\n",
       "<table border=\"1\" class=\"dataframe\">\n",
       "  <thead>\n",
       "    <tr style=\"text-align: right;\">\n",
       "      <th></th>\n",
       "      <th>Unnamed: 0</th>\n",
       "      <th>Dataset_Name</th>\n",
       "      <th>Model_Name</th>\n",
       "      <th>F1_Score</th>\n",
       "      <th>Accuracy_Score</th>\n",
       "      <th>Model_Best_Params</th>\n",
       "    </tr>\n",
       "  </thead>\n",
       "  <tbody>\n",
       "    <tr>\n",
       "      <th>0</th>\n",
       "      <td>0</td>\n",
       "      <td>Folktables_GA_2018</td>\n",
       "      <td>LogisticRegression</td>\n",
       "      <td>0.8195</td>\n",
       "      <td>0.8203</td>\n",
       "      <td>{'C': 1, 'max_iter': 150, 'penalty': 'l2', 'so...</td>\n",
       "    </tr>\n",
       "    <tr>\n",
       "      <th>1</th>\n",
       "      <td>1</td>\n",
       "      <td>Folktables_GA_2018</td>\n",
       "      <td>DecisionTreeClassifier</td>\n",
       "      <td>0.8304</td>\n",
       "      <td>0.8313</td>\n",
       "      <td>{'criterion': 'gini', 'max_depth': 10, 'max_fe...</td>\n",
       "    </tr>\n",
       "    <tr>\n",
       "      <th>2</th>\n",
       "      <td>2</td>\n",
       "      <td>Folktables_GA_2018</td>\n",
       "      <td>RandomForestClassifier</td>\n",
       "      <td>0.8354</td>\n",
       "      <td>0.8357</td>\n",
       "      <td>{'max_depth': 10, 'max_features': 0.6, 'min_sa...</td>\n",
       "    </tr>\n",
       "    <tr>\n",
       "      <th>3</th>\n",
       "      <td>3</td>\n",
       "      <td>Folktables_GA_2018</td>\n",
       "      <td>XGBClassifier</td>\n",
       "      <td>0.8371</td>\n",
       "      <td>0.8375</td>\n",
       "      <td>{'lambda': 1, 'learning_rate': 0.1, 'max_depth...</td>\n",
       "    </tr>\n",
       "    <tr>\n",
       "      <th>4</th>\n",
       "      <td>4</td>\n",
       "      <td>Folktables_GA_2018</td>\n",
       "      <td>KNeighborsClassifier</td>\n",
       "      <td>0.8136</td>\n",
       "      <td>0.8137</td>\n",
       "      <td>{'metric': 'minkowski', 'n_neighbors': 25, 'we...</td>\n",
       "    </tr>\n",
       "    <tr>\n",
       "      <th>5</th>\n",
       "      <td>5</td>\n",
       "      <td>Folktables_GA_2018</td>\n",
       "      <td>MLPClassifier</td>\n",
       "      <td>0.8345</td>\n",
       "      <td>0.8353</td>\n",
       "      <td>{'activation': 'logistic', 'hidden_layer_sizes...</td>\n",
       "    </tr>\n",
       "  </tbody>\n",
       "</table>\n",
       "</div>"
      ],
      "text/plain": [
       "   Unnamed: 0        Dataset_Name              Model_Name  F1_Score  \\\n",
       "0           0  Folktables_GA_2018      LogisticRegression    0.8195   \n",
       "1           1  Folktables_GA_2018  DecisionTreeClassifier    0.8304   \n",
       "2           2  Folktables_GA_2018  RandomForestClassifier    0.8354   \n",
       "3           3  Folktables_GA_2018           XGBClassifier    0.8371   \n",
       "4           4  Folktables_GA_2018    KNeighborsClassifier    0.8136   \n",
       "5           5  Folktables_GA_2018           MLPClassifier    0.8345   \n",
       "\n",
       "   Accuracy_Score                                  Model_Best_Params  \n",
       "0          0.8203  {'C': 1, 'max_iter': 150, 'penalty': 'l2', 'so...  \n",
       "1          0.8313  {'criterion': 'gini', 'max_depth': 10, 'max_fe...  \n",
       "2          0.8357  {'max_depth': 10, 'max_features': 0.6, 'min_sa...  \n",
       "3          0.8375  {'lambda': 1, 'learning_rate': 0.1, 'max_depth...  \n",
       "4          0.8137  {'metric': 'minkowski', 'n_neighbors': 25, 'we...  \n",
       "5          0.8353  {'activation': 'logistic', 'hidden_layer_sizes...  "
      ]
     },
     "execution_count": 16,
     "metadata": {},
     "output_type": "execute_result"
    }
   ],
   "source": [
    "models_tuned_params_df = pd.read_csv(TUNED_PARAMS_FILE_PATH)\n",
    "models_tuned_params_df"
   ]
  },
  {
   "cell_type": "code",
   "execution_count": 17,
   "metadata": {
    "collapsed": false
   },
   "outputs": [],
   "source": [
    "experiment_models_config = create_models_config_from_tuned_params_df(\n",
    "    models_config_for_tuning=MODELS_CONFIG,\n",
    "    models_tuned_params_df=models_tuned_params_df,\n",
    ")"
   ]
  },
  {
   "cell_type": "code",
   "execution_count": 18,
   "metadata": {
    "collapsed": false
   },
   "outputs": [
    {
     "data": {
      "text/plain": [
       "dict_keys(['DecisionTreeClassifier', 'LogisticRegression'])"
      ]
     },
     "execution_count": 18,
     "metadata": {},
     "output_type": "execute_result"
    }
   ],
   "source": [
    "experiment_models_config.keys()"
   ]
  },
  {
   "cell_type": "markdown",
   "id": "5c60057a",
   "metadata": {},
   "source": [
    "## Load dataset"
   ]
  },
  {
   "cell_type": "code",
   "execution_count": 19,
   "id": "3e53fe9a",
   "metadata": {},
   "outputs": [
    {
     "data": {
      "text/html": [
       "<div>\n",
       "<style scoped>\n",
       "    .dataframe tbody tr th:only-of-type {\n",
       "        vertical-align: middle;\n",
       "    }\n",
       "\n",
       "    .dataframe tbody tr th {\n",
       "        vertical-align: top;\n",
       "    }\n",
       "\n",
       "    .dataframe thead th {\n",
       "        text-align: right;\n",
       "    }\n",
       "</style>\n",
       "<table border=\"1\" class=\"dataframe\">\n",
       "  <thead>\n",
       "    <tr style=\"text-align: right;\">\n",
       "      <th></th>\n",
       "      <th>MAR</th>\n",
       "      <th>MIL</th>\n",
       "      <th>ESP</th>\n",
       "      <th>MIG</th>\n",
       "      <th>DREM</th>\n",
       "      <th>NATIVITY</th>\n",
       "      <th>DIS</th>\n",
       "      <th>DEAR</th>\n",
       "      <th>DEYE</th>\n",
       "      <th>SEX</th>\n",
       "      <th>RAC1P</th>\n",
       "      <th>RELP</th>\n",
       "      <th>CIT</th>\n",
       "      <th>ANC</th>\n",
       "      <th>SCHL</th>\n",
       "      <th>AGEP</th>\n",
       "    </tr>\n",
       "  </thead>\n",
       "  <tbody>\n",
       "    <tr>\n",
       "      <th>82065</th>\n",
       "      <td>5</td>\n",
       "      <td>0</td>\n",
       "      <td>7</td>\n",
       "      <td>1</td>\n",
       "      <td>2</td>\n",
       "      <td>1</td>\n",
       "      <td>2</td>\n",
       "      <td>2</td>\n",
       "      <td>2</td>\n",
       "      <td>2</td>\n",
       "      <td>2</td>\n",
       "      <td>2</td>\n",
       "      <td>1</td>\n",
       "      <td>1</td>\n",
       "      <td>2</td>\n",
       "      <td>6</td>\n",
       "    </tr>\n",
       "    <tr>\n",
       "      <th>90689</th>\n",
       "      <td>1</td>\n",
       "      <td>4</td>\n",
       "      <td>0</td>\n",
       "      <td>3</td>\n",
       "      <td>2</td>\n",
       "      <td>1</td>\n",
       "      <td>2</td>\n",
       "      <td>2</td>\n",
       "      <td>2</td>\n",
       "      <td>1</td>\n",
       "      <td>1</td>\n",
       "      <td>1</td>\n",
       "      <td>1</td>\n",
       "      <td>2</td>\n",
       "      <td>24</td>\n",
       "      <td>35</td>\n",
       "    </tr>\n",
       "    <tr>\n",
       "      <th>66829</th>\n",
       "      <td>3</td>\n",
       "      <td>4</td>\n",
       "      <td>0</td>\n",
       "      <td>1</td>\n",
       "      <td>2</td>\n",
       "      <td>1</td>\n",
       "      <td>2</td>\n",
       "      <td>2</td>\n",
       "      <td>2</td>\n",
       "      <td>2</td>\n",
       "      <td>2</td>\n",
       "      <td>0</td>\n",
       "      <td>1</td>\n",
       "      <td>1</td>\n",
       "      <td>20</td>\n",
       "      <td>38</td>\n",
       "    </tr>\n",
       "    <tr>\n",
       "      <th>94984</th>\n",
       "      <td>1</td>\n",
       "      <td>4</td>\n",
       "      <td>0</td>\n",
       "      <td>1</td>\n",
       "      <td>2</td>\n",
       "      <td>1</td>\n",
       "      <td>2</td>\n",
       "      <td>2</td>\n",
       "      <td>2</td>\n",
       "      <td>2</td>\n",
       "      <td>1</td>\n",
       "      <td>0</td>\n",
       "      <td>1</td>\n",
       "      <td>4</td>\n",
       "      <td>18</td>\n",
       "      <td>36</td>\n",
       "    </tr>\n",
       "    <tr>\n",
       "      <th>90278</th>\n",
       "      <td>5</td>\n",
       "      <td>4</td>\n",
       "      <td>0</td>\n",
       "      <td>3</td>\n",
       "      <td>2</td>\n",
       "      <td>1</td>\n",
       "      <td>2</td>\n",
       "      <td>2</td>\n",
       "      <td>2</td>\n",
       "      <td>1</td>\n",
       "      <td>1</td>\n",
       "      <td>0</td>\n",
       "      <td>1</td>\n",
       "      <td>4</td>\n",
       "      <td>16</td>\n",
       "      <td>43</td>\n",
       "    </tr>\n",
       "  </tbody>\n",
       "</table>\n",
       "</div>"
      ],
      "text/plain": [
       "      MAR MIL ESP MIG DREM NATIVITY DIS DEAR DEYE SEX RAC1P RELP CIT ANC SCHL  \\\n",
       "82065   5   0   7   1    2        1   2    2    2   2     2    2   1   1    2   \n",
       "90689   1   4   0   3    2        1   2    2    2   1     1    1   1   2   24   \n",
       "66829   3   4   0   1    2        1   2    2    2   2     2    0   1   1   20   \n",
       "94984   1   4   0   1    2        1   2    2    2   2     1    0   1   4   18   \n",
       "90278   5   4   0   3    2        1   2    2    2   1     1    0   1   4   16   \n",
       "\n",
       "       AGEP  \n",
       "82065     6  \n",
       "90689    35  \n",
       "66829    38  \n",
       "94984    36  \n",
       "90278    43  "
      ]
     },
     "execution_count": 19,
     "metadata": {},
     "output_type": "execute_result"
    }
   ],
   "source": [
    "dataset = ACSEmploymentDataset(state=['GA'], year=2018, root_dir=os.path.join('data'), with_nulls=False, subsample=20000)\n",
    "dataset.X_data.head()"
   ]
  },
  {
   "cell_type": "markdown",
   "id": "c3530f06",
   "metadata": {},
   "source": [
    "## Run experiments"
   ]
  },
  {
   "cell_type": "code",
   "execution_count": 20,
   "id": "2528579c",
   "metadata": {},
   "outputs": [
    {
     "name": "stderr",
     "output_type": "stream",
     "text": [
      "Multiple runs progress:   0%|\u001b[32m          \u001b[0m| 0/2 [00:00<?, ?it/s]\n",
      "Analyze models in one run:   0%|\u001b[31m          \u001b[0m| 0/2 [00:00<?, ?it/s]\u001b[A"
     ]
    },
    {
     "name": "stdout",
     "output_type": "stream",
     "text": [
      "##############################  [Model 1 / 2] Analyze DecisionTreeClassifier  ##############################\n",
      "Model random_state:  101\n",
      "Baseline X_train shape:  (16000, 16)\n",
      "Baseline X_test shape:  (4000, 16)\n",
      "\n",
      "\n"
     ]
    },
    {
     "name": "stderr",
     "output_type": "stream",
     "text": [
      "2023-01-31 22:49:01 abstract_overall_variance_analyzer.py INFO    : Start classifiers testing by bootstrap\n",
      "\n",
      "\n",
      "Classifiers testing by bootstrap: 100%|\u001b[34m██████████\u001b[0m| 100/100 [00:03<00:00, 31.99it/s]"
     ]
    },
    {
     "name": "stdout",
     "output_type": "stream",
     "text": [
      "\n",
      "\n"
     ]
    },
    {
     "name": "stderr",
     "output_type": "stream",
     "text": [
      "\n",
      "2023-01-31 22:49:04 abstract_overall_variance_analyzer.py INFO    : Successfully tested classifiers by bootstrap\n",
      "2023-01-31 22:49:13 abstract_overall_variance_analyzer.py INFO    : Successfully computed predict proba metrics\n",
      "\n",
      "Analyze models in one run:  50%|\u001b[31m█████     \u001b[0m| 1/2 [00:33<00:33, 33.67s/it]\u001b[A"
     ]
    },
    {
     "name": "stdout",
     "output_type": "stream",
     "text": [
      "\n",
      "\n",
      "\n",
      "\n",
      "##############################  [Model 2 / 2] Analyze LogisticRegression  ##############################\n",
      "Model random_state:  102\n",
      "Baseline X_train shape:  (16000, 16)\n",
      "Baseline X_test shape:  (4000, 16)\n",
      "\n",
      "\n"
     ]
    },
    {
     "name": "stderr",
     "output_type": "stream",
     "text": [
      "2023-01-31 22:49:35 abstract_overall_variance_analyzer.py INFO    : Start classifiers testing by bootstrap\n",
      "\n",
      "\n",
      "Classifiers testing by bootstrap:   0%|\u001b[34m          \u001b[0m| 0/100 [00:00<?, ?it/s]\u001b[A\u001b[A\n",
      "\n",
      "Classifiers testing by bootstrap:  23%|\u001b[34m██▎       \u001b[0m| 23/100 [00:10<00:33,  2.27it/s]\u001b[A\u001b[A\n",
      "\n",
      "Classifiers testing by bootstrap:  46%|\u001b[34m████▌     \u001b[0m| 46/100 [00:20<00:23,  2.27it/s]\u001b[A\u001b[A\n",
      "\n",
      "Classifiers testing by bootstrap:  69%|\u001b[34m██████▉   \u001b[0m| 69/100 [00:33<00:15,  1.99it/s]\u001b[A\u001b[A\n",
      "\n",
      "Classifiers testing by bootstrap: 100%|\u001b[34m██████████\u001b[0m| 100/100 [00:48<00:00,  2.08it/s][A\u001b[A"
     ]
    },
    {
     "name": "stdout",
     "output_type": "stream",
     "text": [
      "\n",
      "\n"
     ]
    },
    {
     "name": "stderr",
     "output_type": "stream",
     "text": [
      "\n",
      "2023-01-31 22:50:23 abstract_overall_variance_analyzer.py INFO    : Successfully tested classifiers by bootstrap\n",
      "2023-01-31 22:50:33 abstract_overall_variance_analyzer.py INFO    : Successfully computed predict proba metrics\n",
      "\n",
      "Analyze models in one run: 100%|\u001b[31m██████████\u001b[0m| 2/2 [01:54<00:00, 57.43s/it]\u001b[A\n",
      "Multiple runs progress:  50%|\u001b[32m█████     \u001b[0m| 1/2 [01:54<01:54, 114.87s/it]"
     ]
    },
    {
     "name": "stdout",
     "output_type": "stream",
     "text": [
      "\n",
      "\n",
      "\n",
      "\n"
     ]
    },
    {
     "name": "stderr",
     "output_type": "stream",
     "text": [
      "\n",
      "Analyze models in one run:   0%|\u001b[31m          \u001b[0m| 0/2 [00:00<?, ?it/s]\u001b[A"
     ]
    },
    {
     "name": "stdout",
     "output_type": "stream",
     "text": [
      "##############################  [Model 1 / 2] Analyze DecisionTreeClassifier  ##############################\n",
      "Model random_state:  201\n",
      "Baseline X_train shape:  (16000, 16)\n",
      "Baseline X_test shape:  (4000, 16)\n",
      "\n",
      "\n"
     ]
    },
    {
     "name": "stderr",
     "output_type": "stream",
     "text": [
      "2023-01-31 22:50:56 abstract_overall_variance_analyzer.py INFO    : Start classifiers testing by bootstrap\n",
      "\n",
      "\n",
      "Classifiers testing by bootstrap: 100%|\u001b[34m██████████\u001b[0m| 100/100 [00:03<00:00, 32.61it/s]"
     ]
    },
    {
     "name": "stdout",
     "output_type": "stream",
     "text": [
      "\n",
      "\n"
     ]
    },
    {
     "name": "stderr",
     "output_type": "stream",
     "text": [
      "\n",
      "2023-01-31 22:50:59 abstract_overall_variance_analyzer.py INFO    : Successfully tested classifiers by bootstrap\n",
      "2023-01-31 22:51:10 abstract_overall_variance_analyzer.py INFO    : Successfully computed predict proba metrics\n",
      "\n",
      "Analyze models in one run:  50%|\u001b[31m█████     \u001b[0m| 1/2 [00:38<00:38, 38.81s/it]\u001b[A"
     ]
    },
    {
     "name": "stdout",
     "output_type": "stream",
     "text": [
      "\n",
      "\n",
      "\n",
      "\n",
      "##############################  [Model 2 / 2] Analyze LogisticRegression  ##############################\n",
      "Model random_state:  202\n",
      "Baseline X_train shape:  (16000, 16)\n",
      "Baseline X_test shape:  (4000, 16)\n",
      "\n",
      "\n"
     ]
    },
    {
     "name": "stderr",
     "output_type": "stream",
     "text": [
      "2023-01-31 22:51:35 abstract_overall_variance_analyzer.py INFO    : Start classifiers testing by bootstrap\n",
      "\n",
      "\n",
      "Classifiers testing by bootstrap:   0%|\u001b[34m          \u001b[0m| 0/100 [00:00<?, ?it/s]\u001b[A\u001b[A\n",
      "\n",
      "Classifiers testing by bootstrap:  24%|\u001b[34m██▍       \u001b[0m| 24/100 [00:10<00:31,  2.38it/s]\u001b[A\u001b[A\n",
      "\n",
      "Classifiers testing by bootstrap:  48%|\u001b[34m████▊     \u001b[0m| 48/100 [00:24<00:27,  1.90it/s]\u001b[A\u001b[A\n",
      "\n",
      "Classifiers testing by bootstrap:  48%|\u001b[34m████▊     \u001b[0m| 48/100 [00:35<00:27,  1.90it/s]\u001b[A\u001b[A\n",
      "\n",
      "Classifiers testing by bootstrap:  64%|\u001b[34m██████▍   \u001b[0m| 64/100 [00:35<00:21,  1.70it/s]\u001b[A\u001b[A\n",
      "\n",
      "Classifiers testing by bootstrap:  79%|\u001b[34m███████▉  \u001b[0m| 79/100 [00:46<00:13,  1.56it/s]\u001b[A\u001b[A\n",
      "\n",
      "Classifiers testing by bootstrap: 100%|\u001b[34m██████████\u001b[0m| 100/100 [01:00<00:00,  1.66it/s][A\u001b[A"
     ]
    },
    {
     "name": "stdout",
     "output_type": "stream",
     "text": [
      "\n",
      "\n"
     ]
    },
    {
     "name": "stderr",
     "output_type": "stream",
     "text": [
      "\n",
      "2023-01-31 22:52:35 abstract_overall_variance_analyzer.py INFO    : Successfully tested classifiers by bootstrap\n",
      "2023-01-31 22:52:46 abstract_overall_variance_analyzer.py INFO    : Successfully computed predict proba metrics\n",
      "\n",
      "Analyze models in one run: 100%|\u001b[31m██████████\u001b[0m| 2/2 [02:21<00:00, 70.81s/it]\u001b[A\n",
      "Multiple runs progress: 100%|\u001b[32m██████████\u001b[0m| 2/2 [04:16<00:00, 128.25s/it]"
     ]
    },
    {
     "name": "stdout",
     "output_type": "stream",
     "text": [
      "\n",
      "\n",
      "\n",
      "\n"
     ]
    },
    {
     "name": "stderr",
     "output_type": "stream",
     "text": [
      "\n"
     ]
    }
   ],
   "source": [
    "multiple_runs_metrics_dct = compute_metrics_multiple_runs(dataset, config, experiment_models_config, SAVE_RESULTS_DIR_PATH, debug_mode=False)"
   ]
  },
  {
   "cell_type": "code",
   "execution_count": 20,
   "id": "197eadaa",
   "metadata": {},
   "outputs": [],
   "source": []
  }
 ],
 "metadata": {
  "kernelspec": {
   "display_name": "Python 3.8.10 ('faact_venv': venv)",
   "language": "python",
   "name": "python3"
  },
  "language_info": {
   "codemirror_mode": {
    "name": "ipython",
    "version": 3
   },
   "file_extension": ".py",
   "mimetype": "text/x-python",
   "name": "python",
   "nbconvert_exporter": "python",
   "pygments_lexer": "ipython3",
   "version": "3.8.10"
  },
  "vscode": {
   "interpreter": {
    "hash": "aeeedfdcfbb7d0bd7e8ae453d9cd04ee7ebd63a67f7841163d9437c8723e8c72"
   }
  }
 },
 "nbformat": 4,
 "nbformat_minor": 5
}
