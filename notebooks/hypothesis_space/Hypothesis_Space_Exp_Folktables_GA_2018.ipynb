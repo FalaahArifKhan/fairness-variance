{
 "cells": [
  {
   "cell_type": "code",
   "execution_count": 40,
   "id": "248cbed8",
   "metadata": {},
   "outputs": [
    {
     "name": "stdout",
     "output_type": "stream",
     "text": [
      "The autoreload extension is already loaded. To reload it, use:\n",
      "  %reload_ext autoreload\n"
     ]
    }
   ],
   "source": [
    "%matplotlib inline\n",
    "%load_ext autoreload\n",
    "%autoreload 2"
   ]
  },
  {
   "cell_type": "code",
   "execution_count": 41,
   "id": "7ec6cd08",
   "metadata": {},
   "outputs": [],
   "source": [
    "import os\n",
    "import warnings\n",
    "warnings.filterwarnings('ignore')\n",
    "os.environ[\"PYTHONWARNINGS\"] = \"ignore\""
   ]
  },
  {
   "cell_type": "code",
   "execution_count": 42,
   "id": "b8cb69f2",
   "metadata": {},
   "outputs": [
    {
     "name": "stdout",
     "output_type": "stream",
     "text": [
      "Current location:  /home/denys_herasymuk/UCU/4course_2term/Bachelor_Thesis/Code/fairness-variance\n"
     ]
    }
   ],
   "source": [
    "cur_folder_name = os.getcwd().split('/')[-1]\n",
    "if cur_folder_name != \"fairness-variance\":\n",
    "    os.chdir(\"../..\")\n",
    "\n",
    "print('Current location: ', os.getcwd())"
   ]
  },
  {
   "cell_type": "markdown",
   "id": "606df34d",
   "metadata": {},
   "source": [
    "## Import dependencies"
   ]
  },
  {
   "cell_type": "code",
   "execution_count": 43,
   "id": "7a9241de",
   "metadata": {},
   "outputs": [],
   "source": [
    "import os\n",
    "import pandas as pd\n",
    "from datetime import datetime, timezone\n",
    "\n",
    "from configs.models_config_for_tuning import MODELS_CONFIG\n",
    "from source.utils.custom_initializers import create_config_obj, create_models_config_from_tuned_params_df\n",
    "from source.user_interfaces.metrics_computation_interfaces import compute_metrics_multiple_runs\n",
    "from source.custom_classes.data_loaders import ACSEmploymentDataset"
   ]
  },
  {
   "cell_type": "markdown",
   "id": "95f15603",
   "metadata": {},
   "source": [
    "## Configs"
   ]
  },
  {
   "cell_type": "code",
   "execution_count": 44,
   "id": "71d8f24a",
   "metadata": {},
   "outputs": [],
   "source": [
    "config = create_config_obj(config_yaml_path=os.path.join('configs', 'experiment1_folktables_GA_2018_config.yaml'))\n",
    "\n",
    "TUNED_PARAMS_FILE_PATH = os.path.join('results', 'models_tuning', f'tuning_results_{config.dataset_name}_20230117__023240.csv')\n",
    "SAVE_RESULTS_DIR_PATH = os.path.join('results', 'hypothesis_space',\n",
    "                                     f'{config.dataset_name}_Metrics_{datetime.now(timezone.utc).strftime(\"%Y%m%d__%H%M%S\")}')"
   ]
  },
  {
   "cell_type": "markdown",
   "source": [
    "## Models tuned hyper-parameters"
   ],
   "metadata": {
    "collapsed": false
   }
  },
  {
   "cell_type": "code",
   "execution_count": 45,
   "outputs": [
    {
     "data": {
      "text/plain": "   Unnamed: 0        Dataset_Name              Model_Name  F1_Score  \\\n0           0  Folktables_GA_2018      LogisticRegression    0.8195   \n1           1  Folktables_GA_2018  DecisionTreeClassifier    0.8304   \n2           2  Folktables_GA_2018  RandomForestClassifier    0.8354   \n3           3  Folktables_GA_2018           XGBClassifier    0.8371   \n4           4  Folktables_GA_2018    KNeighborsClassifier    0.8136   \n5           5  Folktables_GA_2018           MLPClassifier    0.8345   \n\n   Accuracy_Score                                  Model_Best_Params  \n0          0.8203  {'C': 1, 'max_iter': 150, 'penalty': 'l2', 'so...  \n1          0.8313  {'criterion': 'gini', 'max_depth': 10, 'max_fe...  \n2          0.8357  {'max_depth': 10, 'max_features': 0.6, 'min_sa...  \n3          0.8375  {'lambda': 1, 'learning_rate': 0.1, 'max_depth...  \n4          0.8137  {'metric': 'minkowski', 'n_neighbors': 25, 'we...  \n5          0.8353  {'activation': 'logistic', 'hidden_layer_sizes...  ",
      "text/html": "<div>\n<style scoped>\n    .dataframe tbody tr th:only-of-type {\n        vertical-align: middle;\n    }\n\n    .dataframe tbody tr th {\n        vertical-align: top;\n    }\n\n    .dataframe thead th {\n        text-align: right;\n    }\n</style>\n<table border=\"1\" class=\"dataframe\">\n  <thead>\n    <tr style=\"text-align: right;\">\n      <th></th>\n      <th>Unnamed: 0</th>\n      <th>Dataset_Name</th>\n      <th>Model_Name</th>\n      <th>F1_Score</th>\n      <th>Accuracy_Score</th>\n      <th>Model_Best_Params</th>\n    </tr>\n  </thead>\n  <tbody>\n    <tr>\n      <th>0</th>\n      <td>0</td>\n      <td>Folktables_GA_2018</td>\n      <td>LogisticRegression</td>\n      <td>0.8195</td>\n      <td>0.8203</td>\n      <td>{'C': 1, 'max_iter': 150, 'penalty': 'l2', 'so...</td>\n    </tr>\n    <tr>\n      <th>1</th>\n      <td>1</td>\n      <td>Folktables_GA_2018</td>\n      <td>DecisionTreeClassifier</td>\n      <td>0.8304</td>\n      <td>0.8313</td>\n      <td>{'criterion': 'gini', 'max_depth': 10, 'max_fe...</td>\n    </tr>\n    <tr>\n      <th>2</th>\n      <td>2</td>\n      <td>Folktables_GA_2018</td>\n      <td>RandomForestClassifier</td>\n      <td>0.8354</td>\n      <td>0.8357</td>\n      <td>{'max_depth': 10, 'max_features': 0.6, 'min_sa...</td>\n    </tr>\n    <tr>\n      <th>3</th>\n      <td>3</td>\n      <td>Folktables_GA_2018</td>\n      <td>XGBClassifier</td>\n      <td>0.8371</td>\n      <td>0.8375</td>\n      <td>{'lambda': 1, 'learning_rate': 0.1, 'max_depth...</td>\n    </tr>\n    <tr>\n      <th>4</th>\n      <td>4</td>\n      <td>Folktables_GA_2018</td>\n      <td>KNeighborsClassifier</td>\n      <td>0.8136</td>\n      <td>0.8137</td>\n      <td>{'metric': 'minkowski', 'n_neighbors': 25, 'we...</td>\n    </tr>\n    <tr>\n      <th>5</th>\n      <td>5</td>\n      <td>Folktables_GA_2018</td>\n      <td>MLPClassifier</td>\n      <td>0.8345</td>\n      <td>0.8353</td>\n      <td>{'activation': 'logistic', 'hidden_layer_sizes...</td>\n    </tr>\n  </tbody>\n</table>\n</div>"
     },
     "execution_count": 45,
     "metadata": {},
     "output_type": "execute_result"
    }
   ],
   "source": [
    "models_tuned_params_df = pd.read_csv(TUNED_PARAMS_FILE_PATH)\n",
    "models_tuned_params_df"
   ],
   "metadata": {
    "collapsed": false
   }
  },
  {
   "cell_type": "code",
   "execution_count": 46,
   "outputs": [],
   "source": [
    "experiment_models_config = create_models_config_from_tuned_params_df(\n",
    "    models_config_for_tuning=MODELS_CONFIG,\n",
    "    models_tuned_params_df=models_tuned_params_df,\n",
    ")"
   ],
   "metadata": {
    "collapsed": false
   }
  },
  {
   "cell_type": "code",
   "execution_count": 47,
   "outputs": [
    {
     "data": {
      "text/plain": "dict_keys(['DecisionTreeClassifier', 'LogisticRegression', 'RandomForestClassifier', 'XGBClassifier', 'KNeighborsClassifier'])"
     },
     "execution_count": 47,
     "metadata": {},
     "output_type": "execute_result"
    }
   ],
   "source": [
    "experiment_models_config.keys()"
   ],
   "metadata": {
    "collapsed": false
   }
  },
  {
   "cell_type": "markdown",
   "id": "5c60057a",
   "metadata": {},
   "source": [
    "## Load dataset"
   ]
  },
  {
   "cell_type": "code",
   "execution_count": 48,
   "id": "3e53fe9a",
   "metadata": {},
   "outputs": [
    {
     "data": {
      "text/plain": "      MAR MIL ESP MIG DREM NATIVITY DIS DEAR DEYE SEX RAC1P RELP CIT ANC SCHL  \\\n83782   5   0   7   1    2        1   2    2    2   2     1    2   1   1   11   \n62505   1   4   0   3    2        2   2    2    2   1     6    0   5   1   21   \n27600   1   4   0   1    2        2   2    2    2   2     2    1   5   1   19   \n36286   1   4   0   1    2        1   2    2    2   1     1    0   1   1   21   \n40527   5   4   0   1    2        1   2    2    2   2     1    0   1   1   19   \n\n       AGEP  \n83782    15  \n62505    29  \n27600    39  \n36286    56  \n40527    44  ",
      "text/html": "<div>\n<style scoped>\n    .dataframe tbody tr th:only-of-type {\n        vertical-align: middle;\n    }\n\n    .dataframe tbody tr th {\n        vertical-align: top;\n    }\n\n    .dataframe thead th {\n        text-align: right;\n    }\n</style>\n<table border=\"1\" class=\"dataframe\">\n  <thead>\n    <tr style=\"text-align: right;\">\n      <th></th>\n      <th>MAR</th>\n      <th>MIL</th>\n      <th>ESP</th>\n      <th>MIG</th>\n      <th>DREM</th>\n      <th>NATIVITY</th>\n      <th>DIS</th>\n      <th>DEAR</th>\n      <th>DEYE</th>\n      <th>SEX</th>\n      <th>RAC1P</th>\n      <th>RELP</th>\n      <th>CIT</th>\n      <th>ANC</th>\n      <th>SCHL</th>\n      <th>AGEP</th>\n    </tr>\n  </thead>\n  <tbody>\n    <tr>\n      <th>83782</th>\n      <td>5</td>\n      <td>0</td>\n      <td>7</td>\n      <td>1</td>\n      <td>2</td>\n      <td>1</td>\n      <td>2</td>\n      <td>2</td>\n      <td>2</td>\n      <td>2</td>\n      <td>1</td>\n      <td>2</td>\n      <td>1</td>\n      <td>1</td>\n      <td>11</td>\n      <td>15</td>\n    </tr>\n    <tr>\n      <th>62505</th>\n      <td>1</td>\n      <td>4</td>\n      <td>0</td>\n      <td>3</td>\n      <td>2</td>\n      <td>2</td>\n      <td>2</td>\n      <td>2</td>\n      <td>2</td>\n      <td>1</td>\n      <td>6</td>\n      <td>0</td>\n      <td>5</td>\n      <td>1</td>\n      <td>21</td>\n      <td>29</td>\n    </tr>\n    <tr>\n      <th>27600</th>\n      <td>1</td>\n      <td>4</td>\n      <td>0</td>\n      <td>1</td>\n      <td>2</td>\n      <td>2</td>\n      <td>2</td>\n      <td>2</td>\n      <td>2</td>\n      <td>2</td>\n      <td>2</td>\n      <td>1</td>\n      <td>5</td>\n      <td>1</td>\n      <td>19</td>\n      <td>39</td>\n    </tr>\n    <tr>\n      <th>36286</th>\n      <td>1</td>\n      <td>4</td>\n      <td>0</td>\n      <td>1</td>\n      <td>2</td>\n      <td>1</td>\n      <td>2</td>\n      <td>2</td>\n      <td>2</td>\n      <td>1</td>\n      <td>1</td>\n      <td>0</td>\n      <td>1</td>\n      <td>1</td>\n      <td>21</td>\n      <td>56</td>\n    </tr>\n    <tr>\n      <th>40527</th>\n      <td>5</td>\n      <td>4</td>\n      <td>0</td>\n      <td>1</td>\n      <td>2</td>\n      <td>1</td>\n      <td>2</td>\n      <td>2</td>\n      <td>2</td>\n      <td>2</td>\n      <td>1</td>\n      <td>0</td>\n      <td>1</td>\n      <td>1</td>\n      <td>19</td>\n      <td>44</td>\n    </tr>\n  </tbody>\n</table>\n</div>"
     },
     "execution_count": 48,
     "metadata": {},
     "output_type": "execute_result"
    }
   ],
   "source": [
    "dataset = ACSEmploymentDataset(state=['GA'], year=2018, root_dir=os.path.join('data'), with_nulls=False, subsample=20000)\n",
    "dataset.X_data.head()"
   ]
  },
  {
   "cell_type": "markdown",
   "id": "c3530f06",
   "metadata": {},
   "source": [
    "## Run experiments"
   ]
  },
  {
   "cell_type": "code",
   "execution_count": 49,
   "id": "2528579c",
   "metadata": {},
   "outputs": [
    {
     "name": "stderr",
     "output_type": "stream",
     "text": [
      "Analyze models in one run:   0%|          | 0/5 [00:00<?, ?it/s]2023-01-24 01:44:04 abstract_overall_variance_analyzer.py INFO    : Start classifiers testing by bootstrap\n"
     ]
    },
    {
     "name": "stdout",
     "output_type": "stream",
     "text": [
      "##############################  [Model 1 / 5] Analyze DecisionTreeClassifier  ##############################\n",
      "Model random_state:  101\n",
      "Baseline X_train shape:  (16000, 16)\n",
      "Baseline X_test shape:  (4000, 16)\n",
      "\n",
      "\n"
     ]
    },
    {
     "name": "stderr",
     "output_type": "stream",
     "text": [
      "\n",
      "Classifiers testing by bootstrap:   0%|          | 0/10 [00:00<?, ?it/s]\u001B[A\n",
      "Classifiers testing by bootstrap:  30%|███       | 3/10 [00:00<00:00, 27.05it/s]\u001B[A\n",
      "Classifiers testing by bootstrap: 100%|██████████| 10/10 [00:00<00:00, 30.74it/s][A\n",
      "2023-01-24 01:44:04 abstract_overall_variance_analyzer.py INFO    : Successfully tested classifiers by bootstrap\n"
     ]
    },
    {
     "name": "stdout",
     "output_type": "stream",
     "text": [
      "\n",
      "\n"
     ]
    },
    {
     "name": "stderr",
     "output_type": "stream",
     "text": [
      "2023-01-24 01:44:05 abstract_overall_variance_analyzer.py INFO    : Successfully computed predict proba metrics\n"
     ]
    },
    {
     "name": "stdout",
     "output_type": "stream",
     "text": [
      "\n",
      "\n",
      "##############################  Stability metrics  ##############################\n",
      "General Ensemble Accuracy: 0.822\n",
      "Mean: 0.5412\n",
      "Std: 0.0503\n",
      "IQR: 0.0506\n",
      "Entropy: 0.0\n",
      "Jitter: 0.0408\n",
      "Per sample accuracy: 0.8203\n",
      "Label stability: 0.9448\n",
      "\n",
      "\n"
     ]
    },
    {
     "name": "stderr",
     "output_type": "stream",
     "text": [
      "Analyze models in one run:  20%|██        | 1/5 [00:03<00:13,  3.49s/it]2023-01-24 01:44:07 abstract_overall_variance_analyzer.py INFO    : Start classifiers testing by bootstrap\n"
     ]
    },
    {
     "name": "stdout",
     "output_type": "stream",
     "text": [
      "\n",
      "\n",
      "\n",
      "\n",
      "##############################  [Model 2 / 5] Analyze LogisticRegression  ##############################\n",
      "Model random_state:  102\n",
      "Baseline X_train shape:  (16000, 16)\n",
      "Baseline X_test shape:  (4000, 16)\n",
      "\n",
      "\n"
     ]
    },
    {
     "name": "stderr",
     "output_type": "stream",
     "text": [
      "\n",
      "Classifiers testing by bootstrap:   0%|          | 0/10 [00:00<?, ?it/s]\u001B[A\n",
      "Classifiers testing by bootstrap:  10%|█         | 1/10 [00:00<00:06,  1.45it/s]\u001B[A\n",
      "Classifiers testing by bootstrap:  20%|██        | 2/10 [00:01<00:05,  1.50it/s]\u001B[A\n",
      "Classifiers testing by bootstrap:  30%|███       | 3/10 [00:01<00:04,  1.74it/s]\u001B[A\n",
      "Classifiers testing by bootstrap:  40%|████      | 4/10 [00:02<00:03,  1.90it/s]\u001B[A\n",
      "Classifiers testing by bootstrap:  50%|█████     | 5/10 [00:02<00:02,  1.85it/s]\u001B[A\n",
      "Classifiers testing by bootstrap:  60%|██████    | 6/10 [00:03<00:02,  1.91it/s]\u001B[A\n",
      "Classifiers testing by bootstrap:  70%|███████   | 7/10 [00:03<00:01,  2.01it/s]\u001B[A\n",
      "Classifiers testing by bootstrap:  80%|████████  | 8/10 [00:04<00:00,  2.08it/s]\u001B[A\n",
      "Classifiers testing by bootstrap:  90%|█████████ | 9/10 [00:04<00:00,  2.13it/s]\u001B[A\n",
      "Classifiers testing by bootstrap: 100%|██████████| 10/10 [00:05<00:00,  1.95it/s]\u001B[A\n",
      "2023-01-24 01:44:12 abstract_overall_variance_analyzer.py INFO    : Successfully tested classifiers by bootstrap\n"
     ]
    },
    {
     "name": "stdout",
     "output_type": "stream",
     "text": [
      "\n",
      "\n"
     ]
    },
    {
     "name": "stderr",
     "output_type": "stream",
     "text": [
      "2023-01-24 01:44:13 abstract_overall_variance_analyzer.py INFO    : Successfully computed predict proba metrics\n"
     ]
    },
    {
     "name": "stdout",
     "output_type": "stream",
     "text": [
      "\n",
      "\n",
      "##############################  Stability metrics  ##############################\n",
      "General Ensemble Accuracy: 0.821\n",
      "Mean: 0.5588\n",
      "Std: 0.0233\n",
      "IQR: 0.0279\n",
      "Entropy: 0.0\n",
      "Jitter: 0.0364\n",
      "Per sample accuracy: 0.819\n",
      "Label stability: 0.9522\n",
      "\n",
      "\n"
     ]
    },
    {
     "name": "stderr",
     "output_type": "stream",
     "text": [
      "Analyze models in one run:  40%|████      | 2/5 [00:11<00:18,  6.18s/it]2023-01-24 01:44:15 abstract_overall_variance_analyzer.py INFO    : Start classifiers testing by bootstrap\n"
     ]
    },
    {
     "name": "stdout",
     "output_type": "stream",
     "text": [
      "\n",
      "\n",
      "\n",
      "\n",
      "##############################  [Model 3 / 5] Analyze RandomForestClassifier  ##############################\n",
      "Model random_state:  103\n",
      "Baseline X_train shape:  (16000, 16)\n",
      "Baseline X_test shape:  (4000, 16)\n",
      "\n",
      "\n"
     ]
    },
    {
     "name": "stderr",
     "output_type": "stream",
     "text": [
      "\n",
      "Classifiers testing by bootstrap:   0%|          | 0/10 [00:00<?, ?it/s]\u001B[A\n",
      "Classifiers testing by bootstrap:  10%|█         | 1/10 [00:01<00:14,  1.59s/it]\u001B[A\n",
      "Classifiers testing by bootstrap:  20%|██        | 2/10 [00:03<00:12,  1.62s/it]\u001B[A\n",
      "Classifiers testing by bootstrap:  30%|███       | 3/10 [00:05<00:12,  1.79s/it]\u001B[A\n",
      "Classifiers testing by bootstrap:  40%|████      | 4/10 [00:07<00:11,  1.85s/it]\u001B[A\n",
      "Classifiers testing by bootstrap:  50%|█████     | 5/10 [00:08<00:09,  1.81s/it]\u001B[A\n",
      "Classifiers testing by bootstrap:  60%|██████    | 6/10 [00:10<00:07,  1.79s/it]\u001B[A\n",
      "Classifiers testing by bootstrap:  70%|███████   | 7/10 [00:12<00:05,  1.96s/it]\u001B[A\n",
      "Classifiers testing by bootstrap:  80%|████████  | 8/10 [00:14<00:03,  1.97s/it]\u001B[A\n",
      "Classifiers testing by bootstrap:  90%|█████████ | 9/10 [00:16<00:01,  1.93s/it]\u001B[A\n",
      "Classifiers testing by bootstrap: 100%|██████████| 10/10 [00:18<00:00,  1.84s/it]\u001B[A\n",
      "2023-01-24 01:44:34 abstract_overall_variance_analyzer.py INFO    : Successfully tested classifiers by bootstrap\n"
     ]
    },
    {
     "name": "stdout",
     "output_type": "stream",
     "text": [
      "\n",
      "\n"
     ]
    },
    {
     "name": "stderr",
     "output_type": "stream",
     "text": [
      "2023-01-24 01:44:34 abstract_overall_variance_analyzer.py INFO    : Successfully computed predict proba metrics\n"
     ]
    },
    {
     "name": "stdout",
     "output_type": "stream",
     "text": [
      "\n",
      "\n",
      "##############################  Stability metrics  ##############################\n",
      "General Ensemble Accuracy: 0.8282\n",
      "Mean: 0.5447\n",
      "Std: 0.0332\n",
      "IQR: 0.0403\n",
      "Entropy: 0.0\n",
      "Jitter: 0.0412\n",
      "Per sample accuracy: 0.824\n",
      "Label stability: 0.9456\n",
      "\n",
      "\n"
     ]
    },
    {
     "name": "stderr",
     "output_type": "stream",
     "text": [
      "Analyze models in one run:  60%|██████    | 3/5 [00:34<00:27, 13.70s/it]2023-01-24 01:44:38 abstract_overall_variance_analyzer.py INFO    : Start classifiers testing by bootstrap\n"
     ]
    },
    {
     "name": "stdout",
     "output_type": "stream",
     "text": [
      "\n",
      "\n",
      "\n",
      "\n",
      "##############################  [Model 4 / 5] Analyze XGBClassifier  ##############################\n",
      "Model random_state:  104\n",
      "Baseline X_train shape:  (16000, 16)\n",
      "Baseline X_test shape:  (4000, 16)\n",
      "\n",
      "\n"
     ]
    },
    {
     "name": "stderr",
     "output_type": "stream",
     "text": [
      "\n",
      "Classifiers testing by bootstrap:   0%|          | 0/10 [00:00<?, ?it/s]\u001B[A\n",
      "Classifiers testing by bootstrap:  10%|█         | 1/10 [00:02<00:23,  2.67s/it]\u001B[A\n",
      "Classifiers testing by bootstrap:  20%|██        | 2/10 [00:04<00:17,  2.21s/it]\u001B[A\n",
      "Classifiers testing by bootstrap:  30%|███       | 3/10 [00:08<00:20,  2.89s/it]\u001B[A\n",
      "Classifiers testing by bootstrap:  40%|████      | 4/10 [00:12<00:20,  3.40s/it]\u001B[A\n",
      "Classifiers testing by bootstrap:  50%|█████     | 5/10 [00:14<00:15,  3.03s/it]\u001B[A\n",
      "Classifiers testing by bootstrap:  60%|██████    | 6/10 [00:16<00:10,  2.65s/it]\u001B[A\n",
      "Classifiers testing by bootstrap:  70%|███████   | 7/10 [00:19<00:08,  2.70s/it]\u001B[A\n",
      "Classifiers testing by bootstrap:  80%|████████  | 8/10 [00:21<00:05,  2.56s/it]\u001B[A\n",
      "Classifiers testing by bootstrap:  90%|█████████ | 9/10 [00:25<00:03,  3.06s/it]\u001B[A\n",
      "Classifiers testing by bootstrap: 100%|██████████| 10/10 [00:28<00:00,  2.82s/it]\u001B[A\n",
      "2023-01-24 01:45:06 abstract_overall_variance_analyzer.py INFO    : Successfully tested classifiers by bootstrap\n"
     ]
    },
    {
     "name": "stdout",
     "output_type": "stream",
     "text": [
      "\n",
      "\n"
     ]
    },
    {
     "name": "stderr",
     "output_type": "stream",
     "text": [
      "2023-01-24 01:45:07 abstract_overall_variance_analyzer.py INFO    : Successfully computed predict proba metrics\n"
     ]
    },
    {
     "name": "stdout",
     "output_type": "stream",
     "text": [
      "\n",
      "\n",
      "##############################  Stability metrics  ##############################\n",
      "General Ensemble Accuracy: 0.831\n",
      "Mean: 0.5443999767303467\n",
      "Std: 0.029400000348687172\n",
      "IQR: 0.0351\n",
      "Entropy: 0.0\n",
      "Jitter: 0.0341\n",
      "Per sample accuracy: 0.8281\n",
      "Label stability: 0.956\n",
      "\n",
      "\n"
     ]
    },
    {
     "name": "stderr",
     "output_type": "stream",
     "text": [
      "Analyze models in one run:  80%|████████  | 4/5 [01:05<00:20, 20.80s/it]2023-01-24 01:45:10 abstract_overall_variance_analyzer.py INFO    : Start classifiers testing by bootstrap\n"
     ]
    },
    {
     "name": "stdout",
     "output_type": "stream",
     "text": [
      "\n",
      "\n",
      "\n",
      "\n",
      "##############################  [Model 5 / 5] Analyze KNeighborsClassifier  ##############################\n",
      "Model random_state:  None\n",
      "Baseline X_train shape:  (16000, 16)\n",
      "Baseline X_test shape:  (4000, 16)\n",
      "\n",
      "\n"
     ]
    },
    {
     "name": "stderr",
     "output_type": "stream",
     "text": [
      "\n",
      "Classifiers testing by bootstrap:   0%|          | 0/10 [00:00<?, ?it/s]\u001B[A\n",
      "Classifiers testing by bootstrap:  10%|█         | 1/10 [00:00<00:01,  5.90it/s]\u001B[A\n",
      "Classifiers testing by bootstrap:  20%|██        | 2/10 [00:00<00:01,  5.24it/s]\u001B[A\n",
      "Classifiers testing by bootstrap:  30%|███       | 3/10 [00:00<00:01,  4.24it/s]\u001B[A\n",
      "Classifiers testing by bootstrap:  40%|████      | 4/10 [00:00<00:01,  4.22it/s]\u001B[A\n",
      "Classifiers testing by bootstrap:  50%|█████     | 5/10 [00:01<00:01,  4.21it/s]\u001B[A\n",
      "Classifiers testing by bootstrap:  60%|██████    | 6/10 [00:01<00:00,  4.13it/s]\u001B[A\n",
      "Classifiers testing by bootstrap:  70%|███████   | 7/10 [00:01<00:00,  4.17it/s]\u001B[A\n",
      "Classifiers testing by bootstrap:  80%|████████  | 8/10 [00:01<00:00,  4.20it/s]\u001B[A\n",
      "Classifiers testing by bootstrap:  90%|█████████ | 9/10 [00:02<00:00,  4.03it/s]\u001B[A\n",
      "Classifiers testing by bootstrap: 100%|██████████| 10/10 [00:02<00:00,  4.02it/s]\u001B[A\n",
      "2023-01-24 01:45:12 abstract_overall_variance_analyzer.py INFO    : Successfully tested classifiers by bootstrap\n"
     ]
    },
    {
     "name": "stdout",
     "output_type": "stream",
     "text": [
      "\n",
      "\n"
     ]
    },
    {
     "name": "stderr",
     "output_type": "stream",
     "text": [
      "2023-01-24 01:45:13 abstract_overall_variance_analyzer.py INFO    : Successfully computed predict proba metrics\n"
     ]
    },
    {
     "name": "stdout",
     "output_type": "stream",
     "text": [
      "\n",
      "\n",
      "##############################  Stability metrics  ##############################\n",
      "General Ensemble Accuracy: 0.8128\n",
      "Mean: 0.5229\n",
      "Std: 0.0672\n",
      "IQR: 0.0805\n",
      "Entropy: 0.0\n",
      "Jitter: 0.0821\n",
      "Per sample accuracy: 0.8032\n",
      "Label stability: 0.8939\n",
      "\n",
      "\n"
     ]
    },
    {
     "name": "stderr",
     "output_type": "stream",
     "text": [
      "Analyze models in one run: 100%|██████████| 5/5 [01:11<00:00, 14.38s/it]\n"
     ]
    },
    {
     "name": "stdout",
     "output_type": "stream",
     "text": [
      "\n",
      "\n",
      "\n",
      "\n"
     ]
    },
    {
     "name": "stderr",
     "output_type": "stream",
     "text": [
      "Analyze models in one run:   0%|          | 0/5 [00:00<?, ?it/s]2023-01-24 01:45:16 abstract_overall_variance_analyzer.py INFO    : Start classifiers testing by bootstrap\n"
     ]
    },
    {
     "name": "stdout",
     "output_type": "stream",
     "text": [
      "##############################  [Model 1 / 5] Analyze DecisionTreeClassifier  ##############################\n",
      "Model random_state:  201\n",
      "Baseline X_train shape:  (16000, 16)\n",
      "Baseline X_test shape:  (4000, 16)\n",
      "\n",
      "\n"
     ]
    },
    {
     "name": "stderr",
     "output_type": "stream",
     "text": [
      "\n",
      "Classifiers testing by bootstrap:   0%|          | 0/10 [00:00<?, ?it/s]\u001B[A\n",
      "Classifiers testing by bootstrap:  30%|███       | 3/10 [00:00<00:00, 27.75it/s]\u001B[A\n",
      "Classifiers testing by bootstrap: 100%|██████████| 10/10 [00:00<00:00, 31.56it/s][A\n",
      "2023-01-24 01:45:16 abstract_overall_variance_analyzer.py INFO    : Successfully tested classifiers by bootstrap\n"
     ]
    },
    {
     "name": "stdout",
     "output_type": "stream",
     "text": [
      "\n",
      "\n"
     ]
    },
    {
     "name": "stderr",
     "output_type": "stream",
     "text": [
      "2023-01-24 01:45:17 abstract_overall_variance_analyzer.py INFO    : Successfully computed predict proba metrics\n"
     ]
    },
    {
     "name": "stdout",
     "output_type": "stream",
     "text": [
      "\n",
      "\n",
      "##############################  Stability metrics  ##############################\n",
      "General Ensemble Accuracy: 0.8242\n",
      "Mean: 0.5579\n",
      "Std: 0.0516\n",
      "IQR: 0.0606\n",
      "Entropy: 0.0\n",
      "Jitter: 0.0505\n",
      "Per sample accuracy: 0.8214\n",
      "Label stability: 0.932\n",
      "\n",
      "\n"
     ]
    },
    {
     "name": "stderr",
     "output_type": "stream",
     "text": [
      "Analyze models in one run:  20%|██        | 1/5 [00:03<00:13,  3.45s/it]2023-01-24 01:45:19 abstract_overall_variance_analyzer.py INFO    : Start classifiers testing by bootstrap\n"
     ]
    },
    {
     "name": "stdout",
     "output_type": "stream",
     "text": [
      "\n",
      "\n",
      "\n",
      "\n",
      "##############################  [Model 2 / 5] Analyze LogisticRegression  ##############################\n",
      "Model random_state:  202\n",
      "Baseline X_train shape:  (16000, 16)\n",
      "Baseline X_test shape:  (4000, 16)\n",
      "\n",
      "\n"
     ]
    },
    {
     "name": "stderr",
     "output_type": "stream",
     "text": [
      "\n",
      "Classifiers testing by bootstrap:   0%|          | 0/10 [00:00<?, ?it/s]\u001B[A\n",
      "Classifiers testing by bootstrap:  10%|█         | 1/10 [00:00<00:04,  2.09it/s]\u001B[A\n",
      "Classifiers testing by bootstrap:  20%|██        | 2/10 [00:01<00:04,  1.80it/s]\u001B[A\n",
      "Classifiers testing by bootstrap:  30%|███       | 3/10 [00:01<00:04,  1.71it/s]\u001B[A\n",
      "Classifiers testing by bootstrap:  40%|████      | 4/10 [00:02<00:03,  1.64it/s]\u001B[A\n",
      "Classifiers testing by bootstrap:  50%|█████     | 5/10 [00:02<00:03,  1.61it/s]\u001B[A\n",
      "Classifiers testing by bootstrap:  60%|██████    | 6/10 [00:03<00:02,  1.56it/s]\u001B[A\n",
      "Classifiers testing by bootstrap:  70%|███████   | 7/10 [00:04<00:01,  1.61it/s]\u001B[A\n",
      "Classifiers testing by bootstrap:  80%|████████  | 8/10 [00:04<00:01,  1.53it/s]\u001B[A\n",
      "Classifiers testing by bootstrap:  90%|█████████ | 9/10 [00:05<00:00,  1.66it/s]\u001B[A\n",
      "Classifiers testing by bootstrap: 100%|██████████| 10/10 [00:05<00:00,  1.67it/s]\u001B[A\n",
      "2023-01-24 01:45:25 abstract_overall_variance_analyzer.py INFO    : Successfully tested classifiers by bootstrap\n"
     ]
    },
    {
     "name": "stdout",
     "output_type": "stream",
     "text": [
      "\n",
      "\n"
     ]
    },
    {
     "name": "stderr",
     "output_type": "stream",
     "text": [
      "2023-01-24 01:45:26 abstract_overall_variance_analyzer.py INFO    : Successfully computed predict proba metrics\n"
     ]
    },
    {
     "name": "stdout",
     "output_type": "stream",
     "text": [
      "\n",
      "\n",
      "##############################  Stability metrics  ##############################\n",
      "General Ensemble Accuracy: 0.8102\n",
      "Mean: 0.5515\n",
      "Std: 0.0221\n",
      "IQR: 0.0269\n",
      "Entropy: 0.045\n",
      "Jitter: 0.0328\n",
      "Per sample accuracy: 0.8095\n",
      "Label stability: 0.9568\n",
      "\n",
      "\n"
     ]
    },
    {
     "name": "stderr",
     "output_type": "stream",
     "text": [
      "Analyze models in one run:  40%|████      | 2/5 [00:12<00:20,  6.79s/it]2023-01-24 01:45:28 abstract_overall_variance_analyzer.py INFO    : Start classifiers testing by bootstrap\n"
     ]
    },
    {
     "name": "stdout",
     "output_type": "stream",
     "text": [
      "\n",
      "\n",
      "\n",
      "\n",
      "##############################  [Model 3 / 5] Analyze RandomForestClassifier  ##############################\n",
      "Model random_state:  203\n",
      "Baseline X_train shape:  (16000, 16)\n",
      "Baseline X_test shape:  (4000, 16)\n",
      "\n",
      "\n"
     ]
    },
    {
     "name": "stderr",
     "output_type": "stream",
     "text": [
      "\n",
      "Classifiers testing by bootstrap:   0%|          | 0/10 [00:00<?, ?it/s]\u001B[A\n",
      "Classifiers testing by bootstrap:  10%|█         | 1/10 [00:01<00:13,  1.49s/it]\u001B[A\n",
      "Classifiers testing by bootstrap:  20%|██        | 2/10 [00:02<00:11,  1.45s/it]\u001B[A\n",
      "Classifiers testing by bootstrap:  30%|███       | 3/10 [00:04<00:10,  1.44s/it]\u001B[A\n",
      "Classifiers testing by bootstrap:  40%|████      | 4/10 [00:05<00:09,  1.50s/it]\u001B[A\n",
      "Classifiers testing by bootstrap:  50%|█████     | 5/10 [00:07<00:07,  1.51s/it]\u001B[A\n",
      "Classifiers testing by bootstrap:  60%|██████    | 6/10 [00:09<00:06,  1.53s/it]\u001B[A\n",
      "Classifiers testing by bootstrap:  70%|███████   | 7/10 [00:10<00:04,  1.57s/it]\u001B[A\n",
      "Classifiers testing by bootstrap:  80%|████████  | 8/10 [00:12<00:03,  1.68s/it]\u001B[A\n",
      "Classifiers testing by bootstrap:  90%|█████████ | 9/10 [00:14<00:01,  1.64s/it]\u001B[A\n",
      "Classifiers testing by bootstrap: 100%|██████████| 10/10 [00:16<00:00,  1.61s/it]\u001B[A\n",
      "2023-01-24 01:45:44 abstract_overall_variance_analyzer.py INFO    : Successfully tested classifiers by bootstrap\n"
     ]
    },
    {
     "name": "stdout",
     "output_type": "stream",
     "text": [
      "\n",
      "\n"
     ]
    },
    {
     "name": "stderr",
     "output_type": "stream",
     "text": [
      "2023-01-24 01:45:45 abstract_overall_variance_analyzer.py INFO    : Successfully computed predict proba metrics\n"
     ]
    },
    {
     "name": "stdout",
     "output_type": "stream",
     "text": [
      "\n",
      "\n",
      "##############################  Stability metrics  ##############################\n",
      "General Ensemble Accuracy: 0.841\n",
      "Mean: 0.5465\n",
      "Std: 0.0315\n",
      "IQR: 0.0374\n",
      "Entropy: 0.0\n",
      "Jitter: 0.0305\n",
      "Per sample accuracy: 0.8378\n",
      "Label stability: 0.9613\n",
      "\n",
      "\n"
     ]
    },
    {
     "name": "stderr",
     "output_type": "stream",
     "text": [
      "Analyze models in one run:  60%|██████    | 3/5 [00:32<00:25, 12.60s/it]2023-01-24 01:45:48 abstract_overall_variance_analyzer.py INFO    : Start classifiers testing by bootstrap\n"
     ]
    },
    {
     "name": "stdout",
     "output_type": "stream",
     "text": [
      "\n",
      "\n",
      "\n",
      "\n",
      "##############################  [Model 4 / 5] Analyze XGBClassifier  ##############################\n",
      "Model random_state:  204\n",
      "Baseline X_train shape:  (16000, 16)\n",
      "Baseline X_test shape:  (4000, 16)\n",
      "\n",
      "\n"
     ]
    },
    {
     "name": "stderr",
     "output_type": "stream",
     "text": [
      "\n",
      "Classifiers testing by bootstrap:   0%|          | 0/10 [00:00<?, ?it/s]\u001B[A\n",
      "Classifiers testing by bootstrap:  10%|█         | 1/10 [00:02<00:18,  2.05s/it]\u001B[A\n",
      "Classifiers testing by bootstrap:  20%|██        | 2/10 [00:05<00:22,  2.75s/it]\u001B[A\n",
      "Classifiers testing by bootstrap:  30%|███       | 3/10 [00:07<00:16,  2.35s/it]\u001B[A\n",
      "Classifiers testing by bootstrap:  40%|████      | 4/10 [00:08<00:12,  2.11s/it]\u001B[A\n",
      "Classifiers testing by bootstrap:  50%|█████     | 5/10 [00:11<00:11,  2.30s/it]\u001B[A\n",
      "Classifiers testing by bootstrap:  60%|██████    | 6/10 [00:13<00:08,  2.16s/it]\u001B[A\n",
      "Classifiers testing by bootstrap:  70%|███████   | 7/10 [00:18<00:09,  3.02s/it]\u001B[A\n",
      "Classifiers testing by bootstrap:  80%|████████  | 8/10 [00:20<00:05,  2.67s/it]\u001B[A\n",
      "Classifiers testing by bootstrap:  90%|█████████ | 9/10 [00:24<00:03,  3.04s/it]\u001B[A\n",
      "Classifiers testing by bootstrap: 100%|██████████| 10/10 [00:25<00:00,  2.59s/it]\u001B[A\n",
      "2023-01-24 01:46:14 abstract_overall_variance_analyzer.py INFO    : Successfully tested classifiers by bootstrap\n"
     ]
    },
    {
     "name": "stdout",
     "output_type": "stream",
     "text": [
      "\n",
      "\n"
     ]
    },
    {
     "name": "stderr",
     "output_type": "stream",
     "text": [
      "2023-01-24 01:46:15 abstract_overall_variance_analyzer.py INFO    : Successfully computed predict proba metrics\n"
     ]
    },
    {
     "name": "stdout",
     "output_type": "stream",
     "text": [
      "\n",
      "\n",
      "##############################  Stability metrics  ##############################\n",
      "General Ensemble Accuracy: 0.835\n",
      "Mean: 0.5577999949455261\n",
      "Std: 0.0284000001847744\n",
      "IQR: 0.0332\n",
      "Entropy: 0.0\n",
      "Jitter: 0.0296\n",
      "Per sample accuracy: 0.8328\n",
      "Label stability: 0.9624\n",
      "\n",
      "\n"
     ]
    },
    {
     "name": "stderr",
     "output_type": "stream",
     "text": [
      "Analyze models in one run:  80%|████████  | 4/5 [01:01<00:19, 19.27s/it]2023-01-24 01:46:17 abstract_overall_variance_analyzer.py INFO    : Start classifiers testing by bootstrap\n"
     ]
    },
    {
     "name": "stdout",
     "output_type": "stream",
     "text": [
      "\n",
      "\n",
      "\n",
      "\n",
      "##############################  [Model 5 / 5] Analyze KNeighborsClassifier  ##############################\n",
      "Model random_state:  None\n",
      "Baseline X_train shape:  (16000, 16)\n",
      "Baseline X_test shape:  (4000, 16)\n",
      "\n",
      "\n"
     ]
    },
    {
     "name": "stderr",
     "output_type": "stream",
     "text": [
      "\n",
      "Classifiers testing by bootstrap:   0%|          | 0/10 [00:00<?, ?it/s]\u001B[A\n",
      "Classifiers testing by bootstrap:  10%|█         | 1/10 [00:00<00:02,  3.95it/s]\u001B[A\n",
      "Classifiers testing by bootstrap:  20%|██        | 2/10 [00:00<00:01,  4.17it/s]\u001B[A\n",
      "Classifiers testing by bootstrap:  30%|███       | 3/10 [00:00<00:01,  4.03it/s]\u001B[A\n",
      "Classifiers testing by bootstrap:  40%|████      | 4/10 [00:00<00:01,  4.21it/s]\u001B[A\n",
      "Classifiers testing by bootstrap:  50%|█████     | 5/10 [00:01<00:01,  3.91it/s]\u001B[A\n",
      "Classifiers testing by bootstrap:  60%|██████    | 6/10 [00:01<00:01,  3.50it/s]\u001B[A\n",
      "Classifiers testing by bootstrap:  70%|███████   | 7/10 [00:01<00:00,  3.31it/s]\u001B[A\n",
      "Classifiers testing by bootstrap:  80%|████████  | 8/10 [00:02<00:00,  3.49it/s]\u001B[A\n",
      "Classifiers testing by bootstrap:  90%|█████████ | 9/10 [00:02<00:00,  3.51it/s]\u001B[A\n",
      "Classifiers testing by bootstrap: 100%|██████████| 10/10 [00:02<00:00,  3.52it/s]\u001B[A\n",
      "2023-01-24 01:46:20 abstract_overall_variance_analyzer.py INFO    : Successfully tested classifiers by bootstrap\n"
     ]
    },
    {
     "name": "stdout",
     "output_type": "stream",
     "text": [
      "\n",
      "\n"
     ]
    },
    {
     "name": "stderr",
     "output_type": "stream",
     "text": [
      "2023-01-24 01:46:21 abstract_overall_variance_analyzer.py INFO    : Successfully computed predict proba metrics\n"
     ]
    },
    {
     "name": "stdout",
     "output_type": "stream",
     "text": [
      "\n",
      "\n",
      "##############################  Stability metrics  ##############################\n",
      "General Ensemble Accuracy: 0.7985\n",
      "Mean: 0.5187\n",
      "Std: 0.0685\n",
      "IQR: 0.0827\n",
      "Entropy: 0.1199\n",
      "Jitter: 0.0876\n",
      "Per sample accuracy: 0.7909\n",
      "Label stability: 0.8848\n",
      "\n",
      "\n"
     ]
    },
    {
     "name": "stderr",
     "output_type": "stream",
     "text": [
      "Analyze models in one run: 100%|██████████| 5/5 [01:07<00:00, 13.55s/it]\n"
     ]
    },
    {
     "name": "stdout",
     "output_type": "stream",
     "text": [
      "\n",
      "\n",
      "\n",
      "\n"
     ]
    },
    {
     "name": "stderr",
     "output_type": "stream",
     "text": [
      "Analyze models in one run:   0%|          | 0/5 [00:00<?, ?it/s]2023-01-24 01:46:23 abstract_overall_variance_analyzer.py INFO    : Start classifiers testing by bootstrap\n"
     ]
    },
    {
     "name": "stdout",
     "output_type": "stream",
     "text": [
      "##############################  [Model 1 / 5] Analyze DecisionTreeClassifier  ##############################\n",
      "Model random_state:  301\n",
      "Baseline X_train shape:  (16000, 16)\n",
      "Baseline X_test shape:  (4000, 16)\n",
      "\n",
      "\n"
     ]
    },
    {
     "name": "stderr",
     "output_type": "stream",
     "text": [
      "\n",
      "Classifiers testing by bootstrap:   0%|          | 0/10 [00:00<?, ?it/s]\u001B[A\n",
      "Classifiers testing by bootstrap:  40%|████      | 4/10 [00:00<00:00, 33.49it/s]\u001B[A\n",
      "Classifiers testing by bootstrap: 100%|██████████| 10/10 [00:00<00:00, 34.13it/s][A\n",
      "2023-01-24 01:46:24 abstract_overall_variance_analyzer.py INFO    : Successfully tested classifiers by bootstrap\n"
     ]
    },
    {
     "name": "stdout",
     "output_type": "stream",
     "text": [
      "\n",
      "\n"
     ]
    },
    {
     "name": "stderr",
     "output_type": "stream",
     "text": [
      "2023-01-24 01:46:24 abstract_overall_variance_analyzer.py INFO    : Successfully computed predict proba metrics\n"
     ]
    },
    {
     "name": "stdout",
     "output_type": "stream",
     "text": [
      "\n",
      "\n",
      "##############################  Stability metrics  ##############################\n",
      "General Ensemble Accuracy: 0.8168\n",
      "Mean: 0.5589\n",
      "Std: 0.0535\n",
      "IQR: 0.0584\n",
      "Entropy: 0.0\n",
      "Jitter: 0.0462\n",
      "Per sample accuracy: 0.8112\n",
      "Label stability: 0.9428\n",
      "\n",
      "\n"
     ]
    },
    {
     "name": "stderr",
     "output_type": "stream",
     "text": [
      "Analyze models in one run:  20%|██        | 1/5 [00:03<00:13,  3.37s/it]2023-01-24 01:46:27 abstract_overall_variance_analyzer.py INFO    : Start classifiers testing by bootstrap\n"
     ]
    },
    {
     "name": "stdout",
     "output_type": "stream",
     "text": [
      "\n",
      "\n",
      "\n",
      "\n",
      "##############################  [Model 2 / 5] Analyze LogisticRegression  ##############################\n",
      "Model random_state:  302\n",
      "Baseline X_train shape:  (16000, 16)\n",
      "Baseline X_test shape:  (4000, 16)\n",
      "\n",
      "\n"
     ]
    },
    {
     "name": "stderr",
     "output_type": "stream",
     "text": [
      "\n",
      "Classifiers testing by bootstrap:   0%|          | 0/10 [00:00<?, ?it/s]\u001B[A\n",
      "Classifiers testing by bootstrap:  10%|█         | 1/10 [00:00<00:03,  2.27it/s]\u001B[A\n",
      "Classifiers testing by bootstrap:  20%|██        | 2/10 [00:00<00:03,  2.13it/s]\u001B[A\n",
      "Classifiers testing by bootstrap:  30%|███       | 3/10 [00:01<00:03,  1.99it/s]\u001B[A\n",
      "Classifiers testing by bootstrap:  40%|████      | 4/10 [00:02<00:03,  1.92it/s]\u001B[A\n",
      "Classifiers testing by bootstrap:  50%|█████     | 5/10 [00:02<00:03,  1.64it/s]\u001B[A\n",
      "Classifiers testing by bootstrap:  60%|██████    | 6/10 [00:03<00:02,  1.60it/s]\u001B[A\n",
      "Classifiers testing by bootstrap:  70%|███████   | 7/10 [00:05<00:03,  1.01s/it]\u001B[A\n",
      "Classifiers testing by bootstrap:  80%|████████  | 8/10 [00:06<00:01,  1.05it/s]\u001B[A\n",
      "Classifiers testing by bootstrap:  90%|█████████ | 9/10 [00:06<00:00,  1.20it/s]\u001B[A\n",
      "Classifiers testing by bootstrap: 100%|██████████| 10/10 [00:07<00:00,  1.39it/s]\u001B[A\n",
      "2023-01-24 01:46:34 abstract_overall_variance_analyzer.py INFO    : Successfully tested classifiers by bootstrap\n"
     ]
    },
    {
     "name": "stdout",
     "output_type": "stream",
     "text": [
      "\n",
      "\n"
     ]
    },
    {
     "name": "stderr",
     "output_type": "stream",
     "text": [
      "2023-01-24 01:46:35 abstract_overall_variance_analyzer.py INFO    : Successfully computed predict proba metrics\n"
     ]
    },
    {
     "name": "stdout",
     "output_type": "stream",
     "text": [
      "\n",
      "\n",
      "##############################  Stability metrics  ##############################\n",
      "General Ensemble Accuracy: 0.8142\n",
      "Mean: 0.5461\n",
      "Std: 0.0219\n",
      "IQR: 0.0266\n",
      "Entropy: 0.0\n",
      "Jitter: 0.0321\n",
      "Per sample accuracy: 0.8135\n",
      "Label stability: 0.9586\n",
      "\n",
      "\n"
     ]
    },
    {
     "name": "stderr",
     "output_type": "stream",
     "text": [
      "Analyze models in one run:  40%|████      | 2/5 [00:14<00:23,  7.74s/it]2023-01-24 01:46:37 abstract_overall_variance_analyzer.py INFO    : Start classifiers testing by bootstrap\n"
     ]
    },
    {
     "name": "stdout",
     "output_type": "stream",
     "text": [
      "\n",
      "\n",
      "\n",
      "\n",
      "##############################  [Model 3 / 5] Analyze RandomForestClassifier  ##############################\n",
      "Model random_state:  303\n",
      "Baseline X_train shape:  (16000, 16)\n",
      "Baseline X_test shape:  (4000, 16)\n",
      "\n",
      "\n"
     ]
    },
    {
     "name": "stderr",
     "output_type": "stream",
     "text": [
      "\n",
      "Classifiers testing by bootstrap:   0%|          | 0/10 [00:00<?, ?it/s]\u001B[A\n",
      "Classifiers testing by bootstrap:  10%|█         | 1/10 [00:01<00:14,  1.61s/it]\u001B[A\n",
      "Classifiers testing by bootstrap:  20%|██        | 2/10 [00:03<00:14,  1.80s/it]\u001B[A\n",
      "Classifiers testing by bootstrap:  30%|███       | 3/10 [00:05<00:12,  1.79s/it]\u001B[A\n",
      "Classifiers testing by bootstrap:  40%|████      | 4/10 [00:07<00:10,  1.78s/it]\u001B[A\n",
      "Classifiers testing by bootstrap:  50%|█████     | 5/10 [00:09<00:09,  1.87s/it]\u001B[A\n",
      "Classifiers testing by bootstrap:  60%|██████    | 6/10 [00:11<00:07,  1.95s/it]\u001B[A\n",
      "Classifiers testing by bootstrap:  70%|███████   | 7/10 [00:13<00:05,  1.92s/it]\u001B[A\n",
      "Classifiers testing by bootstrap:  80%|████████  | 8/10 [00:15<00:03,  2.00s/it]\u001B[A\n",
      "Classifiers testing by bootstrap:  90%|█████████ | 9/10 [00:17<00:02,  2.08s/it]\u001B[A\n",
      "Classifiers testing by bootstrap: 100%|██████████| 10/10 [00:19<00:00,  1.93s/it]\u001B[A\n",
      "2023-01-24 01:46:57 abstract_overall_variance_analyzer.py INFO    : Successfully tested classifiers by bootstrap\n"
     ]
    },
    {
     "name": "stdout",
     "output_type": "stream",
     "text": [
      "\n",
      "\n"
     ]
    },
    {
     "name": "stderr",
     "output_type": "stream",
     "text": [
      "2023-01-24 01:46:58 abstract_overall_variance_analyzer.py INFO    : Successfully computed predict proba metrics\n"
     ]
    },
    {
     "name": "stdout",
     "output_type": "stream",
     "text": [
      "\n",
      "\n",
      "##############################  Stability metrics  ##############################\n",
      "General Ensemble Accuracy: 0.8385\n",
      "Mean: 0.5481\n",
      "Std: 0.0335\n",
      "IQR: 0.0391\n",
      "Entropy: 0.0\n",
      "Jitter: 0.0334\n",
      "Per sample accuracy: 0.8362\n",
      "Label stability: 0.9571\n",
      "\n",
      "\n"
     ]
    },
    {
     "name": "stderr",
     "output_type": "stream",
     "text": [
      "Analyze models in one run:  60%|██████    | 3/5 [00:36<00:28, 14.38s/it]2023-01-24 01:47:00 abstract_overall_variance_analyzer.py INFO    : Start classifiers testing by bootstrap\n"
     ]
    },
    {
     "name": "stdout",
     "output_type": "stream",
     "text": [
      "\n",
      "\n",
      "\n",
      "\n",
      "##############################  [Model 4 / 5] Analyze XGBClassifier  ##############################\n",
      "Model random_state:  304\n",
      "Baseline X_train shape:  (16000, 16)\n",
      "Baseline X_test shape:  (4000, 16)\n",
      "\n",
      "\n"
     ]
    },
    {
     "name": "stderr",
     "output_type": "stream",
     "text": [
      "\n",
      "Classifiers testing by bootstrap:   0%|          | 0/10 [00:00<?, ?it/s]\u001B[A\n",
      "Classifiers testing by bootstrap:  10%|█         | 1/10 [00:01<00:15,  1.69s/it]\u001B[A\n",
      "Classifiers testing by bootstrap:  20%|██        | 2/10 [00:03<00:16,  2.01s/it]\u001B[A\n",
      "Classifiers testing by bootstrap:  30%|███       | 3/10 [00:06<00:16,  2.38s/it]\u001B[A\n",
      "Classifiers testing by bootstrap:  40%|████      | 4/10 [00:09<00:15,  2.62s/it]\u001B[A\n",
      "Classifiers testing by bootstrap:  50%|█████     | 5/10 [00:13<00:15,  3.03s/it]\u001B[A\n",
      "Classifiers testing by bootstrap:  60%|██████    | 6/10 [00:15<00:10,  2.67s/it]\u001B[A\n",
      "Classifiers testing by bootstrap:  70%|███████   | 7/10 [00:18<00:08,  2.77s/it]\u001B[A\n",
      "Classifiers testing by bootstrap:  80%|████████  | 8/10 [00:20<00:04,  2.42s/it]\u001B[A\n",
      "Classifiers testing by bootstrap:  90%|█████████ | 9/10 [00:24<00:03,  3.13s/it]\u001B[A\n",
      "Classifiers testing by bootstrap: 100%|██████████| 10/10 [00:27<00:00,  2.78s/it]\u001B[A\n",
      "2023-01-24 01:47:28 abstract_overall_variance_analyzer.py INFO    : Successfully tested classifiers by bootstrap\n"
     ]
    },
    {
     "name": "stdout",
     "output_type": "stream",
     "text": [
      "\n",
      "\n"
     ]
    },
    {
     "name": "stderr",
     "output_type": "stream",
     "text": [
      "2023-01-24 01:47:29 abstract_overall_variance_analyzer.py INFO    : Successfully computed predict proba metrics\n"
     ]
    },
    {
     "name": "stdout",
     "output_type": "stream",
     "text": [
      "\n",
      "\n",
      "##############################  Stability metrics  ##############################\n",
      "General Ensemble Accuracy: 0.8255\n",
      "Mean: 0.5392000079154968\n",
      "Std: 0.02810000069439411\n",
      "IQR: 0.0334\n",
      "Entropy: 0.0\n",
      "Jitter: 0.028\n",
      "Per sample accuracy: 0.8249\n",
      "Label stability: 0.964\n",
      "\n",
      "\n"
     ]
    },
    {
     "name": "stderr",
     "output_type": "stream",
     "text": [
      "Analyze models in one run:  80%|████████  | 4/5 [01:07<00:21, 21.07s/it]2023-01-24 01:47:31 abstract_overall_variance_analyzer.py INFO    : Start classifiers testing by bootstrap\n"
     ]
    },
    {
     "name": "stdout",
     "output_type": "stream",
     "text": [
      "\n",
      "\n",
      "\n",
      "\n",
      "##############################  [Model 5 / 5] Analyze KNeighborsClassifier  ##############################\n",
      "Model random_state:  None\n",
      "Baseline X_train shape:  (16000, 16)\n",
      "Baseline X_test shape:  (4000, 16)\n",
      "\n",
      "\n"
     ]
    },
    {
     "name": "stderr",
     "output_type": "stream",
     "text": [
      "\n",
      "Classifiers testing by bootstrap:   0%|          | 0/10 [00:00<?, ?it/s]\u001B[A\n",
      "Classifiers testing by bootstrap:  10%|█         | 1/10 [00:00<00:01,  4.98it/s]\u001B[A\n",
      "Classifiers testing by bootstrap:  20%|██        | 2/10 [00:00<00:01,  4.83it/s]\u001B[A\n",
      "Classifiers testing by bootstrap:  30%|███       | 3/10 [00:00<00:01,  3.86it/s]\u001B[A\n",
      "Classifiers testing by bootstrap:  40%|████      | 4/10 [00:01<00:01,  3.83it/s]\u001B[A\n",
      "Classifiers testing by bootstrap:  50%|█████     | 5/10 [00:01<00:01,  3.53it/s]\u001B[A\n",
      "Classifiers testing by bootstrap:  60%|██████    | 6/10 [00:01<00:01,  3.71it/s]\u001B[A\n",
      "Classifiers testing by bootstrap:  70%|███████   | 7/10 [00:01<00:00,  3.74it/s]\u001B[A\n",
      "Classifiers testing by bootstrap:  80%|████████  | 8/10 [00:02<00:00,  3.65it/s]\u001B[A\n",
      "Classifiers testing by bootstrap:  90%|█████████ | 9/10 [00:02<00:00,  3.36it/s]\u001B[A\n",
      "Classifiers testing by bootstrap: 100%|██████████| 10/10 [00:02<00:00,  3.60it/s]\u001B[A\n",
      "2023-01-24 01:47:34 abstract_overall_variance_analyzer.py INFO    : Successfully tested classifiers by bootstrap\n"
     ]
    },
    {
     "name": "stdout",
     "output_type": "stream",
     "text": [
      "\n",
      "\n"
     ]
    },
    {
     "name": "stderr",
     "output_type": "stream",
     "text": [
      "2023-01-24 01:47:35 abstract_overall_variance_analyzer.py INFO    : Successfully computed predict proba metrics\n"
     ]
    },
    {
     "name": "stdout",
     "output_type": "stream",
     "text": [
      "\n",
      "\n",
      "##############################  Stability metrics  ##############################\n",
      "General Ensemble Accuracy: 0.81\n",
      "Mean: 0.5216\n",
      "Std: 0.0673\n",
      "IQR: 0.0795\n",
      "Entropy: 0.0\n",
      "Jitter: 0.086\n",
      "Per sample accuracy: 0.7994\n",
      "Label stability: 0.8866\n",
      "\n",
      "\n"
     ]
    },
    {
     "name": "stderr",
     "output_type": "stream",
     "text": [
      "Analyze models in one run: 100%|██████████| 5/5 [01:13<00:00, 14.75s/it]\n"
     ]
    },
    {
     "name": "stdout",
     "output_type": "stream",
     "text": [
      "\n",
      "\n",
      "\n",
      "\n"
     ]
    },
    {
     "name": "stderr",
     "output_type": "stream",
     "text": [
      "Analyze models in one run:   0%|          | 0/5 [00:00<?, ?it/s]2023-01-24 01:47:37 abstract_overall_variance_analyzer.py INFO    : Start classifiers testing by bootstrap\n"
     ]
    },
    {
     "name": "stdout",
     "output_type": "stream",
     "text": [
      "##############################  [Model 1 / 5] Analyze DecisionTreeClassifier  ##############################\n",
      "Model random_state:  401\n",
      "Baseline X_train shape:  (16000, 16)\n",
      "Baseline X_test shape:  (4000, 16)\n",
      "\n",
      "\n"
     ]
    },
    {
     "name": "stderr",
     "output_type": "stream",
     "text": [
      "\n",
      "Classifiers testing by bootstrap:   0%|          | 0/10 [00:00<?, ?it/s]\u001B[A\n",
      "Classifiers testing by bootstrap:  30%|███       | 3/10 [00:00<00:00, 29.58it/s]\u001B[A\n",
      "Classifiers testing by bootstrap: 100%|██████████| 10/10 [00:00<00:00, 32.27it/s][A\n",
      "2023-01-24 01:47:37 abstract_overall_variance_analyzer.py INFO    : Successfully tested classifiers by bootstrap\n"
     ]
    },
    {
     "name": "stdout",
     "output_type": "stream",
     "text": [
      "\n",
      "\n"
     ]
    },
    {
     "name": "stderr",
     "output_type": "stream",
     "text": [
      "2023-01-24 01:47:38 abstract_overall_variance_analyzer.py INFO    : Successfully computed predict proba metrics\n"
     ]
    },
    {
     "name": "stdout",
     "output_type": "stream",
     "text": [
      "\n",
      "\n",
      "##############################  Stability metrics  ##############################\n",
      "General Ensemble Accuracy: 0.8225\n",
      "Mean: 0.5587\n",
      "Std: 0.0518\n",
      "IQR: 0.0547\n",
      "Entropy: 0.0\n",
      "Jitter: 0.0496\n",
      "Per sample accuracy: 0.8182\n",
      "Label stability: 0.9364\n",
      "\n",
      "\n"
     ]
    },
    {
     "name": "stderr",
     "output_type": "stream",
     "text": [
      "Analyze models in one run:  20%|██        | 1/5 [00:03<00:13,  3.31s/it]2023-01-24 01:47:40 abstract_overall_variance_analyzer.py INFO    : Start classifiers testing by bootstrap\n"
     ]
    },
    {
     "name": "stdout",
     "output_type": "stream",
     "text": [
      "\n",
      "\n",
      "\n",
      "\n",
      "##############################  [Model 2 / 5] Analyze LogisticRegression  ##############################\n",
      "Model random_state:  402\n",
      "Baseline X_train shape:  (16000, 16)\n",
      "Baseline X_test shape:  (4000, 16)\n",
      "\n",
      "\n"
     ]
    },
    {
     "name": "stderr",
     "output_type": "stream",
     "text": [
      "\n",
      "Classifiers testing by bootstrap:   0%|          | 0/10 [00:00<?, ?it/s]\u001B[A\n",
      "Classifiers testing by bootstrap:  10%|█         | 1/10 [00:00<00:02,  3.02it/s]\u001B[A\n",
      "Classifiers testing by bootstrap:  20%|██        | 2/10 [00:00<00:03,  2.09it/s]\u001B[A\n",
      "Classifiers testing by bootstrap:  30%|███       | 3/10 [00:01<00:03,  1.99it/s]\u001B[A\n",
      "Classifiers testing by bootstrap:  40%|████      | 4/10 [00:02<00:03,  1.79it/s]\u001B[A\n",
      "Classifiers testing by bootstrap:  50%|█████     | 5/10 [00:02<00:02,  1.73it/s]\u001B[A\n",
      "Classifiers testing by bootstrap:  60%|██████    | 6/10 [00:03<00:02,  1.79it/s]\u001B[A\n",
      "Classifiers testing by bootstrap:  70%|███████   | 7/10 [00:03<00:01,  1.82it/s]\u001B[A\n",
      "Classifiers testing by bootstrap:  80%|████████  | 8/10 [00:04<00:01,  1.82it/s]\u001B[A\n",
      "Classifiers testing by bootstrap:  90%|█████████ | 9/10 [00:04<00:00,  1.80it/s]\u001B[A\n",
      "Classifiers testing by bootstrap: 100%|██████████| 10/10 [00:05<00:00,  1.80it/s]\u001B[A\n",
      "2023-01-24 01:47:46 abstract_overall_variance_analyzer.py INFO    : Successfully tested classifiers by bootstrap\n"
     ]
    },
    {
     "name": "stdout",
     "output_type": "stream",
     "text": [
      "\n",
      "\n"
     ]
    },
    {
     "name": "stderr",
     "output_type": "stream",
     "text": [
      "2023-01-24 01:47:47 abstract_overall_variance_analyzer.py INFO    : Successfully computed predict proba metrics\n"
     ]
    },
    {
     "name": "stdout",
     "output_type": "stream",
     "text": [
      "\n",
      "\n",
      "##############################  Stability metrics  ##############################\n",
      "General Ensemble Accuracy: 0.8105\n",
      "Mean: 0.5535\n",
      "Std: 0.0215\n",
      "IQR: 0.0253\n",
      "Entropy: 0.0\n",
      "Jitter: 0.0313\n",
      "Per sample accuracy: 0.8108\n",
      "Label stability: 0.9589\n",
      "\n",
      "\n"
     ]
    },
    {
     "name": "stderr",
     "output_type": "stream",
     "text": [
      "Analyze models in one run:  40%|████      | 2/5 [00:12<00:19,  6.51s/it]2023-01-24 01:47:49 abstract_overall_variance_analyzer.py INFO    : Start classifiers testing by bootstrap\n"
     ]
    },
    {
     "name": "stdout",
     "output_type": "stream",
     "text": [
      "\n",
      "\n",
      "\n",
      "\n",
      "##############################  [Model 3 / 5] Analyze RandomForestClassifier  ##############################\n",
      "Model random_state:  403\n",
      "Baseline X_train shape:  (16000, 16)\n",
      "Baseline X_test shape:  (4000, 16)\n",
      "\n",
      "\n"
     ]
    },
    {
     "name": "stderr",
     "output_type": "stream",
     "text": [
      "\n",
      "Classifiers testing by bootstrap:   0%|          | 0/10 [00:00<?, ?it/s]\u001B[A\n",
      "Classifiers testing by bootstrap:  10%|█         | 1/10 [00:01<00:13,  1.51s/it]\u001B[A\n",
      "Classifiers testing by bootstrap:  20%|██        | 2/10 [00:03<00:12,  1.53s/it]\u001B[A\n",
      "Classifiers testing by bootstrap:  30%|███       | 3/10 [00:04<00:10,  1.52s/it]\u001B[A\n",
      "Classifiers testing by bootstrap:  40%|████      | 4/10 [00:06<00:09,  1.57s/it]\u001B[A\n",
      "Classifiers testing by bootstrap:  50%|█████     | 5/10 [00:07<00:07,  1.55s/it]\u001B[A\n",
      "Classifiers testing by bootstrap:  60%|██████    | 6/10 [00:09<00:06,  1.52s/it]\u001B[A\n",
      "Classifiers testing by bootstrap:  70%|███████   | 7/10 [00:10<00:04,  1.53s/it]\u001B[A\n",
      "Classifiers testing by bootstrap:  80%|████████  | 8/10 [00:12<00:03,  1.59s/it]\u001B[A\n",
      "Classifiers testing by bootstrap:  90%|█████████ | 9/10 [00:14<00:01,  1.61s/it]\u001B[A\n",
      "Classifiers testing by bootstrap: 100%|██████████| 10/10 [00:15<00:00,  1.56s/it]\u001B[A\n",
      "2023-01-24 01:48:05 abstract_overall_variance_analyzer.py INFO    : Successfully tested classifiers by bootstrap\n"
     ]
    },
    {
     "name": "stdout",
     "output_type": "stream",
     "text": [
      "\n",
      "\n"
     ]
    },
    {
     "name": "stderr",
     "output_type": "stream",
     "text": [
      "2023-01-24 01:48:06 abstract_overall_variance_analyzer.py INFO    : Successfully computed predict proba metrics\n"
     ]
    },
    {
     "name": "stdout",
     "output_type": "stream",
     "text": [
      "\n",
      "\n",
      "##############################  Stability metrics  ##############################\n",
      "General Ensemble Accuracy: 0.8258\n",
      "Mean: 0.5502\n",
      "Std: 0.0331\n",
      "IQR: 0.0392\n",
      "Entropy: 0.0\n",
      "Jitter: 0.0358\n",
      "Per sample accuracy: 0.8223\n",
      "Label stability: 0.9542\n",
      "\n",
      "\n"
     ]
    },
    {
     "name": "stderr",
     "output_type": "stream",
     "text": [
      "Analyze models in one run:  60%|██████    | 3/5 [00:30<00:24, 12.14s/it]2023-01-24 01:48:08 abstract_overall_variance_analyzer.py INFO    : Start classifiers testing by bootstrap\n"
     ]
    },
    {
     "name": "stdout",
     "output_type": "stream",
     "text": [
      "\n",
      "\n",
      "\n",
      "\n",
      "##############################  [Model 4 / 5] Analyze XGBClassifier  ##############################\n",
      "Model random_state:  404\n",
      "Baseline X_train shape:  (16000, 16)\n",
      "Baseline X_test shape:  (4000, 16)\n",
      "\n",
      "\n"
     ]
    },
    {
     "name": "stderr",
     "output_type": "stream",
     "text": [
      "\n",
      "Classifiers testing by bootstrap:   0%|          | 0/10 [00:00<?, ?it/s]\u001B[A\n",
      "Classifiers testing by bootstrap:  10%|█         | 1/10 [00:01<00:14,  1.58s/it]\u001B[A\n",
      "Classifiers testing by bootstrap:  20%|██        | 2/10 [00:04<00:17,  2.15s/it]\u001B[A\n",
      "Classifiers testing by bootstrap:  30%|███       | 3/10 [00:06<00:14,  2.06s/it]\u001B[A\n",
      "Classifiers testing by bootstrap:  40%|████      | 4/10 [00:08<00:12,  2.01s/it]\u001B[A\n",
      "Classifiers testing by bootstrap:  50%|█████     | 5/10 [00:10<00:10,  2.09s/it]\u001B[A\n",
      "Classifiers testing by bootstrap:  60%|██████    | 6/10 [00:12<00:08,  2.12s/it]\u001B[A\n",
      "Classifiers testing by bootstrap:  70%|███████   | 7/10 [00:14<00:05,  1.99s/it]\u001B[A\n",
      "Classifiers testing by bootstrap:  80%|████████  | 8/10 [00:15<00:03,  1.93s/it]\u001B[A\n",
      "Classifiers testing by bootstrap:  90%|█████████ | 9/10 [00:18<00:02,  2.15s/it]\u001B[A\n",
      "Classifiers testing by bootstrap: 100%|██████████| 10/10 [00:20<00:00,  2.03s/it]\u001B[A\n",
      "2023-01-24 01:48:28 abstract_overall_variance_analyzer.py INFO    : Successfully tested classifiers by bootstrap\n"
     ]
    },
    {
     "name": "stdout",
     "output_type": "stream",
     "text": [
      "\n",
      "\n"
     ]
    },
    {
     "name": "stderr",
     "output_type": "stream",
     "text": [
      "2023-01-24 01:48:29 abstract_overall_variance_analyzer.py INFO    : Successfully computed predict proba metrics\n"
     ]
    },
    {
     "name": "stdout",
     "output_type": "stream",
     "text": [
      "\n",
      "\n",
      "##############################  Stability metrics  ##############################\n",
      "General Ensemble Accuracy: 0.8358\n",
      "Mean: 0.5471000075340271\n",
      "Std: 0.027899999171495438\n",
      "IQR: 0.0331\n",
      "Entropy: 0.0\n",
      "Jitter: 0.0267\n",
      "Per sample accuracy: 0.8357\n",
      "Label stability: 0.9655\n",
      "\n",
      "\n"
     ]
    },
    {
     "name": "stderr",
     "output_type": "stream",
     "text": [
      "Analyze models in one run:  80%|████████  | 4/5 [00:54<00:16, 16.71s/it]2023-01-24 01:48:32 abstract_overall_variance_analyzer.py INFO    : Start classifiers testing by bootstrap\n"
     ]
    },
    {
     "name": "stdout",
     "output_type": "stream",
     "text": [
      "\n",
      "\n",
      "\n",
      "\n",
      "##############################  [Model 5 / 5] Analyze KNeighborsClassifier  ##############################\n",
      "Model random_state:  None\n",
      "Baseline X_train shape:  (16000, 16)\n",
      "Baseline X_test shape:  (4000, 16)\n",
      "\n",
      "\n"
     ]
    },
    {
     "name": "stderr",
     "output_type": "stream",
     "text": [
      "\n",
      "Classifiers testing by bootstrap:   0%|          | 0/10 [00:00<?, ?it/s]\u001B[A\n",
      "Classifiers testing by bootstrap:  10%|█         | 1/10 [00:00<00:01,  5.27it/s]\u001B[A\n",
      "Classifiers testing by bootstrap:  20%|██        | 2/10 [00:00<00:01,  5.09it/s]\u001B[A\n",
      "Classifiers testing by bootstrap:  30%|███       | 3/10 [00:00<00:01,  4.66it/s]\u001B[A\n",
      "Classifiers testing by bootstrap:  40%|████      | 4/10 [00:00<00:01,  4.45it/s]\u001B[A\n",
      "Classifiers testing by bootstrap:  50%|█████     | 5/10 [00:01<00:01,  4.07it/s]\u001B[A\n",
      "Classifiers testing by bootstrap:  60%|██████    | 6/10 [00:01<00:00,  4.13it/s]\u001B[A\n",
      "Classifiers testing by bootstrap:  70%|███████   | 7/10 [00:01<00:00,  3.99it/s]\u001B[A\n",
      "Classifiers testing by bootstrap:  80%|████████  | 8/10 [00:01<00:00,  4.09it/s]\u001B[A\n",
      "Classifiers testing by bootstrap:  90%|█████████ | 9/10 [00:02<00:00,  3.78it/s]\u001B[A\n",
      "Classifiers testing by bootstrap: 100%|██████████| 10/10 [00:02<00:00,  4.12it/s]\u001B[A\n",
      "2023-01-24 01:48:34 abstract_overall_variance_analyzer.py INFO    : Successfully tested classifiers by bootstrap\n"
     ]
    },
    {
     "name": "stdout",
     "output_type": "stream",
     "text": [
      "\n",
      "\n"
     ]
    },
    {
     "name": "stderr",
     "output_type": "stream",
     "text": [
      "2023-01-24 01:48:35 abstract_overall_variance_analyzer.py INFO    : Successfully computed predict proba metrics\n"
     ]
    },
    {
     "name": "stdout",
     "output_type": "stream",
     "text": [
      "\n",
      "\n",
      "##############################  Stability metrics  ##############################\n",
      "General Ensemble Accuracy: 0.8088\n",
      "Mean: 0.5301\n",
      "Std: 0.0668\n",
      "IQR: 0.0808\n",
      "Entropy: 0.0\n",
      "Jitter: 0.085\n",
      "Per sample accuracy: 0.8002\n",
      "Label stability: 0.8892\n",
      "\n",
      "\n"
     ]
    },
    {
     "name": "stderr",
     "output_type": "stream",
     "text": [
      "Analyze models in one run: 100%|██████████| 5/5 [01:00<00:00, 12.05s/it]\n"
     ]
    },
    {
     "name": "stdout",
     "output_type": "stream",
     "text": [
      "\n",
      "\n",
      "\n",
      "\n"
     ]
    },
    {
     "name": "stderr",
     "output_type": "stream",
     "text": [
      "Analyze models in one run:   0%|          | 0/5 [00:00<?, ?it/s]2023-01-24 01:48:37 abstract_overall_variance_analyzer.py INFO    : Start classifiers testing by bootstrap\n"
     ]
    },
    {
     "name": "stdout",
     "output_type": "stream",
     "text": [
      "##############################  [Model 1 / 5] Analyze DecisionTreeClassifier  ##############################\n",
      "Model random_state:  501\n",
      "Baseline X_train shape:  (16000, 16)\n",
      "Baseline X_test shape:  (4000, 16)\n",
      "\n",
      "\n"
     ]
    },
    {
     "name": "stderr",
     "output_type": "stream",
     "text": [
      "\n",
      "Classifiers testing by bootstrap:   0%|          | 0/10 [00:00<?, ?it/s]\u001B[A\n",
      "Classifiers testing by bootstrap:  40%|████      | 4/10 [00:00<00:00, 33.18it/s]\u001B[A\n",
      "Classifiers testing by bootstrap: 100%|██████████| 10/10 [00:00<00:00, 33.80it/s][A\n",
      "2023-01-24 01:48:38 abstract_overall_variance_analyzer.py INFO    : Successfully tested classifiers by bootstrap\n"
     ]
    },
    {
     "name": "stdout",
     "output_type": "stream",
     "text": [
      "\n",
      "\n"
     ]
    },
    {
     "name": "stderr",
     "output_type": "stream",
     "text": [
      "2023-01-24 01:48:38 abstract_overall_variance_analyzer.py INFO    : Successfully computed predict proba metrics\n"
     ]
    },
    {
     "name": "stdout",
     "output_type": "stream",
     "text": [
      "\n",
      "\n",
      "##############################  Stability metrics  ##############################\n",
      "General Ensemble Accuracy: 0.8168\n",
      "Mean: 0.5526\n",
      "Std: 0.0657\n",
      "IQR: 0.0667\n",
      "Entropy: 0.0\n",
      "Jitter: 0.0671\n",
      "Per sample accuracy: 0.8065\n",
      "Label stability: 0.9138\n",
      "\n",
      "\n"
     ]
    },
    {
     "name": "stderr",
     "output_type": "stream",
     "text": [
      "Analyze models in one run:  20%|██        | 1/5 [00:03<00:12,  3.24s/it]2023-01-24 01:48:41 abstract_overall_variance_analyzer.py INFO    : Start classifiers testing by bootstrap\n"
     ]
    },
    {
     "name": "stdout",
     "output_type": "stream",
     "text": [
      "\n",
      "\n",
      "\n",
      "\n",
      "##############################  [Model 2 / 5] Analyze LogisticRegression  ##############################\n",
      "Model random_state:  502\n",
      "Baseline X_train shape:  (16000, 16)\n",
      "Baseline X_test shape:  (4000, 16)\n",
      "\n",
      "\n"
     ]
    },
    {
     "name": "stderr",
     "output_type": "stream",
     "text": [
      "\n",
      "Classifiers testing by bootstrap:   0%|          | 0/10 [00:00<?, ?it/s]\u001B[A\n",
      "Classifiers testing by bootstrap:  10%|█         | 1/10 [00:00<00:03,  2.67it/s]\u001B[A\n",
      "Classifiers testing by bootstrap:  20%|██        | 2/10 [00:00<00:03,  2.21it/s]\u001B[A\n",
      "Classifiers testing by bootstrap:  30%|███       | 3/10 [00:01<00:03,  2.00it/s]\u001B[A\n",
      "Classifiers testing by bootstrap:  40%|████      | 4/10 [00:02<00:03,  1.55it/s]\u001B[A\n",
      "Classifiers testing by bootstrap:  50%|█████     | 5/10 [00:02<00:03,  1.52it/s]\u001B[A\n",
      "Classifiers testing by bootstrap:  60%|██████    | 6/10 [00:03<00:02,  1.67it/s]\u001B[A\n",
      "Classifiers testing by bootstrap:  70%|███████   | 7/10 [00:04<00:01,  1.73it/s]\u001B[A\n",
      "Classifiers testing by bootstrap:  80%|████████  | 8/10 [00:04<00:01,  1.77it/s]\u001B[A\n",
      "Classifiers testing by bootstrap:  90%|█████████ | 9/10 [00:05<00:00,  1.79it/s]\u001B[A\n",
      "Classifiers testing by bootstrap: 100%|██████████| 10/10 [00:05<00:00,  1.77it/s]\u001B[A\n",
      "2023-01-24 01:48:46 abstract_overall_variance_analyzer.py INFO    : Successfully tested classifiers by bootstrap\n"
     ]
    },
    {
     "name": "stdout",
     "output_type": "stream",
     "text": [
      "\n",
      "\n"
     ]
    },
    {
     "name": "stderr",
     "output_type": "stream",
     "text": [
      "2023-01-24 01:48:47 abstract_overall_variance_analyzer.py INFO    : Successfully computed predict proba metrics\n"
     ]
    },
    {
     "name": "stdout",
     "output_type": "stream",
     "text": [
      "\n",
      "\n",
      "##############################  Stability metrics  ##############################\n",
      "General Ensemble Accuracy: 0.8152\n",
      "Mean: 0.5543\n",
      "Std: 0.0214\n",
      "IQR: 0.0258\n",
      "Entropy: 0.0\n",
      "Jitter: 0.0284\n",
      "Per sample accuracy: 0.8131\n",
      "Label stability: 0.9623\n",
      "\n",
      "\n"
     ]
    },
    {
     "name": "stderr",
     "output_type": "stream",
     "text": [
      "Analyze models in one run:  40%|████      | 2/5 [00:11<00:19,  6.46s/it]2023-01-24 01:48:49 abstract_overall_variance_analyzer.py INFO    : Start classifiers testing by bootstrap\n"
     ]
    },
    {
     "name": "stdout",
     "output_type": "stream",
     "text": [
      "\n",
      "\n",
      "\n",
      "\n",
      "##############################  [Model 3 / 5] Analyze RandomForestClassifier  ##############################\n",
      "Model random_state:  503\n",
      "Baseline X_train shape:  (16000, 16)\n",
      "Baseline X_test shape:  (4000, 16)\n",
      "\n",
      "\n"
     ]
    },
    {
     "name": "stderr",
     "output_type": "stream",
     "text": [
      "\n",
      "Classifiers testing by bootstrap:   0%|          | 0/10 [00:00<?, ?it/s]\u001B[A\n",
      "Classifiers testing by bootstrap:  10%|█         | 1/10 [00:01<00:14,  1.56s/it]\u001B[A\n",
      "Classifiers testing by bootstrap:  20%|██        | 2/10 [00:03<00:12,  1.51s/it]\u001B[A\n",
      "Classifiers testing by bootstrap:  30%|███       | 3/10 [00:04<00:10,  1.49s/it]\u001B[A\n",
      "Classifiers testing by bootstrap:  40%|████      | 4/10 [00:06<00:09,  1.56s/it]\u001B[A\n",
      "Classifiers testing by bootstrap:  50%|█████     | 5/10 [00:07<00:07,  1.58s/it]\u001B[A\n",
      "Classifiers testing by bootstrap:  60%|██████    | 6/10 [00:09<00:06,  1.59s/it]\u001B[A\n",
      "Classifiers testing by bootstrap:  70%|███████   | 7/10 [00:11<00:04,  1.60s/it]\u001B[A\n",
      "Classifiers testing by bootstrap:  80%|████████  | 8/10 [00:12<00:03,  1.62s/it]\u001B[A\n",
      "Classifiers testing by bootstrap:  90%|█████████ | 9/10 [00:14<00:01,  1.58s/it]\u001B[A\n",
      "Classifiers testing by bootstrap: 100%|██████████| 10/10 [00:15<00:00,  1.56s/it]\u001B[A\n",
      "2023-01-24 01:49:05 abstract_overall_variance_analyzer.py INFO    : Successfully tested classifiers by bootstrap\n"
     ]
    },
    {
     "name": "stdout",
     "output_type": "stream",
     "text": [
      "\n",
      "\n"
     ]
    },
    {
     "name": "stderr",
     "output_type": "stream",
     "text": [
      "2023-01-24 01:49:06 abstract_overall_variance_analyzer.py INFO    : Successfully computed predict proba metrics\n"
     ]
    },
    {
     "name": "stdout",
     "output_type": "stream",
     "text": [
      "\n",
      "\n",
      "##############################  Stability metrics  ##############################\n",
      "General Ensemble Accuracy: 0.8358\n",
      "Mean: 0.5482\n",
      "Std: 0.0341\n",
      "IQR: 0.0409\n",
      "Entropy: 0.0\n",
      "Jitter: 0.0353\n",
      "Per sample accuracy: 0.8313\n",
      "Label stability: 0.955\n",
      "\n",
      "\n"
     ]
    },
    {
     "name": "stderr",
     "output_type": "stream",
     "text": [
      "Analyze models in one run:  60%|██████    | 3/5 [00:30<00:24, 12.05s/it]2023-01-24 01:49:08 abstract_overall_variance_analyzer.py INFO    : Start classifiers testing by bootstrap\n"
     ]
    },
    {
     "name": "stdout",
     "output_type": "stream",
     "text": [
      "\n",
      "\n",
      "\n",
      "\n",
      "##############################  [Model 4 / 5] Analyze XGBClassifier  ##############################\n",
      "Model random_state:  504\n",
      "Baseline X_train shape:  (16000, 16)\n",
      "Baseline X_test shape:  (4000, 16)\n",
      "\n",
      "\n"
     ]
    },
    {
     "name": "stderr",
     "output_type": "stream",
     "text": [
      "\n",
      "Classifiers testing by bootstrap:   0%|          | 0/10 [00:00<?, ?it/s]\u001B[A\n",
      "Classifiers testing by bootstrap:  10%|█         | 1/10 [00:01<00:14,  1.61s/it]\u001B[A\n",
      "Classifiers testing by bootstrap:  20%|██        | 2/10 [00:03<00:13,  1.72s/it]\u001B[A\n",
      "Classifiers testing by bootstrap:  30%|███       | 3/10 [00:06<00:17,  2.54s/it]\u001B[A\n",
      "Classifiers testing by bootstrap:  40%|████      | 4/10 [00:08<00:13,  2.21s/it]\u001B[A\n",
      "Classifiers testing by bootstrap:  50%|█████     | 5/10 [00:11<00:12,  2.45s/it]\u001B[A\n",
      "Classifiers testing by bootstrap:  60%|██████    | 6/10 [00:13<00:08,  2.24s/it]\u001B[A\n",
      "Classifiers testing by bootstrap:  70%|███████   | 7/10 [00:15<00:06,  2.07s/it]\u001B[A\n",
      "Classifiers testing by bootstrap:  80%|████████  | 8/10 [00:17<00:04,  2.29s/it]\u001B[A\n",
      "Classifiers testing by bootstrap:  90%|█████████ | 9/10 [00:19<00:02,  2.13s/it]\u001B[A\n",
      "Classifiers testing by bootstrap: 100%|██████████| 10/10 [00:21<00:00,  2.14s/it]\u001B[A\n",
      "2023-01-24 01:49:29 abstract_overall_variance_analyzer.py INFO    : Successfully tested classifiers by bootstrap\n"
     ]
    },
    {
     "name": "stdout",
     "output_type": "stream",
     "text": [
      "\n",
      "\n"
     ]
    },
    {
     "name": "stderr",
     "output_type": "stream",
     "text": [
      "2023-01-24 01:49:30 abstract_overall_variance_analyzer.py INFO    : Successfully computed predict proba metrics\n"
     ]
    },
    {
     "name": "stdout",
     "output_type": "stream",
     "text": [
      "\n",
      "\n",
      "##############################  Stability metrics  ##############################\n",
      "General Ensemble Accuracy: 0.838\n",
      "Mean: 0.555400013923645\n",
      "Std: 0.028699999675154686\n",
      "IQR: 0.0346\n",
      "Entropy: 0.0\n",
      "Jitter: 0.0298\n",
      "Per sample accuracy: 0.8346\n",
      "Label stability: 0.9614\n",
      "\n",
      "\n"
     ]
    },
    {
     "name": "stderr",
     "output_type": "stream",
     "text": [
      "Analyze models in one run:  80%|████████  | 4/5 [00:55<00:17, 17.05s/it]2023-01-24 01:49:33 abstract_overall_variance_analyzer.py INFO    : Start classifiers testing by bootstrap\n"
     ]
    },
    {
     "name": "stdout",
     "output_type": "stream",
     "text": [
      "\n",
      "\n",
      "\n",
      "\n",
      "##############################  [Model 5 / 5] Analyze KNeighborsClassifier  ##############################\n",
      "Model random_state:  None\n",
      "Baseline X_train shape:  (16000, 16)\n",
      "Baseline X_test shape:  (4000, 16)\n",
      "\n",
      "\n"
     ]
    },
    {
     "name": "stderr",
     "output_type": "stream",
     "text": [
      "\n",
      "Classifiers testing by bootstrap:   0%|          | 0/10 [00:00<?, ?it/s]\u001B[A\n",
      "Classifiers testing by bootstrap:  10%|█         | 1/10 [00:00<00:04,  1.98it/s]\u001B[A\n",
      "Classifiers testing by bootstrap:  20%|██        | 2/10 [00:00<00:02,  2.80it/s]\u001B[A\n",
      "Classifiers testing by bootstrap:  30%|███       | 3/10 [00:01<00:02,  3.28it/s]\u001B[A\n",
      "Classifiers testing by bootstrap:  40%|████      | 4/10 [00:01<00:01,  3.50it/s]\u001B[A\n",
      "Classifiers testing by bootstrap:  50%|█████     | 5/10 [00:01<00:01,  3.75it/s]\u001B[A\n",
      "Classifiers testing by bootstrap:  60%|██████    | 6/10 [00:01<00:01,  3.76it/s]\u001B[A\n",
      "Classifiers testing by bootstrap:  70%|███████   | 7/10 [00:01<00:00,  3.91it/s]\u001B[A\n",
      "Classifiers testing by bootstrap:  80%|████████  | 8/10 [00:02<00:00,  3.87it/s]\u001B[A\n",
      "Classifiers testing by bootstrap:  90%|█████████ | 9/10 [00:02<00:00,  4.02it/s]\u001B[A\n",
      "Classifiers testing by bootstrap: 100%|██████████| 10/10 [00:02<00:00,  3.61it/s]\u001B[A\n",
      "2023-01-24 01:49:35 abstract_overall_variance_analyzer.py INFO    : Successfully tested classifiers by bootstrap\n"
     ]
    },
    {
     "name": "stdout",
     "output_type": "stream",
     "text": [
      "\n",
      "\n"
     ]
    },
    {
     "name": "stderr",
     "output_type": "stream",
     "text": [
      "2023-01-24 01:49:36 abstract_overall_variance_analyzer.py INFO    : Successfully computed predict proba metrics\n"
     ]
    },
    {
     "name": "stdout",
     "output_type": "stream",
     "text": [
      "\n",
      "\n",
      "##############################  Stability metrics  ##############################\n",
      "General Ensemble Accuracy: 0.8042\n",
      "Mean: 0.5207\n",
      "Std: 0.068\n",
      "IQR: 0.0817\n",
      "Entropy: 0.0\n",
      "Jitter: 0.0845\n",
      "Per sample accuracy: 0.7961\n",
      "Label stability: 0.8908\n",
      "\n",
      "\n"
     ]
    },
    {
     "name": "stderr",
     "output_type": "stream",
     "text": [
      "Analyze models in one run: 100%|██████████| 5/5 [01:01<00:00, 12.26s/it]\n"
     ]
    },
    {
     "name": "stdout",
     "output_type": "stream",
     "text": [
      "\n",
      "\n",
      "\n",
      "\n"
     ]
    },
    {
     "name": "stderr",
     "output_type": "stream",
     "text": [
      "Analyze models in one run:   0%|          | 0/5 [00:00<?, ?it/s]2023-01-24 01:49:39 abstract_overall_variance_analyzer.py INFO    : Start classifiers testing by bootstrap\n"
     ]
    },
    {
     "name": "stdout",
     "output_type": "stream",
     "text": [
      "##############################  [Model 1 / 5] Analyze DecisionTreeClassifier  ##############################\n",
      "Model random_state:  601\n",
      "Baseline X_train shape:  (16000, 16)\n",
      "Baseline X_test shape:  (4000, 16)\n",
      "\n",
      "\n"
     ]
    },
    {
     "name": "stderr",
     "output_type": "stream",
     "text": [
      "\n",
      "Classifiers testing by bootstrap:   0%|          | 0/10 [00:00<?, ?it/s]\u001B[A\n",
      "Classifiers testing by bootstrap:  40%|████      | 4/10 [00:00<00:00, 31.92it/s]\u001B[A\n",
      "Classifiers testing by bootstrap: 100%|██████████| 10/10 [00:00<00:00, 32.86it/s][A\n",
      "2023-01-24 01:49:39 abstract_overall_variance_analyzer.py INFO    : Successfully tested classifiers by bootstrap\n"
     ]
    },
    {
     "name": "stdout",
     "output_type": "stream",
     "text": [
      "\n",
      "\n"
     ]
    },
    {
     "name": "stderr",
     "output_type": "stream",
     "text": [
      "2023-01-24 01:49:40 abstract_overall_variance_analyzer.py INFO    : Successfully computed predict proba metrics\n"
     ]
    },
    {
     "name": "stdout",
     "output_type": "stream",
     "text": [
      "\n",
      "\n",
      "##############################  Stability metrics  ##############################\n",
      "General Ensemble Accuracy: 0.8215\n",
      "Mean: 0.5443\n",
      "Std: 0.0567\n",
      "IQR: 0.059\n",
      "Entropy: 0.0\n",
      "Jitter: 0.0276\n",
      "Per sample accuracy: 0.8172\n",
      "Label stability: 0.9667\n",
      "\n",
      "\n"
     ]
    },
    {
     "name": "stderr",
     "output_type": "stream",
     "text": [
      "Analyze models in one run:  20%|██        | 1/5 [00:03<00:13,  3.43s/it]2023-01-24 01:49:42 abstract_overall_variance_analyzer.py INFO    : Start classifiers testing by bootstrap\n"
     ]
    },
    {
     "name": "stdout",
     "output_type": "stream",
     "text": [
      "\n",
      "\n",
      "\n",
      "\n",
      "##############################  [Model 2 / 5] Analyze LogisticRegression  ##############################\n",
      "Model random_state:  602\n",
      "Baseline X_train shape:  (16000, 16)\n",
      "Baseline X_test shape:  (4000, 16)\n",
      "\n",
      "\n"
     ]
    },
    {
     "name": "stderr",
     "output_type": "stream",
     "text": [
      "\n",
      "Classifiers testing by bootstrap:   0%|          | 0/10 [00:00<?, ?it/s]\u001B[A\n",
      "Classifiers testing by bootstrap:  10%|█         | 1/10 [00:00<00:06,  1.49it/s]\u001B[A\n",
      "Classifiers testing by bootstrap:  20%|██        | 2/10 [00:01<00:05,  1.49it/s]\u001B[A\n",
      "Classifiers testing by bootstrap:  30%|███       | 3/10 [00:01<00:04,  1.62it/s]\u001B[A\n",
      "Classifiers testing by bootstrap:  40%|████      | 4/10 [00:02<00:03,  1.67it/s]\u001B[A\n",
      "Classifiers testing by bootstrap:  50%|█████     | 5/10 [00:02<00:02,  1.74it/s]\u001B[A\n",
      "Classifiers testing by bootstrap:  60%|██████    | 6/10 [00:03<00:02,  1.81it/s]\u001B[A\n",
      "Classifiers testing by bootstrap:  70%|███████   | 7/10 [00:04<00:01,  1.82it/s]\u001B[A\n",
      "Classifiers testing by bootstrap:  80%|████████  | 8/10 [00:04<00:01,  1.87it/s]\u001B[A\n",
      "Classifiers testing by bootstrap:  90%|█████████ | 9/10 [00:05<00:00,  1.93it/s]\u001B[A\n",
      "Classifiers testing by bootstrap: 100%|██████████| 10/10 [00:05<00:00,  1.80it/s]\u001B[A\n",
      "2023-01-24 01:49:48 abstract_overall_variance_analyzer.py INFO    : Successfully tested classifiers by bootstrap\n"
     ]
    },
    {
     "name": "stdout",
     "output_type": "stream",
     "text": [
      "\n",
      "\n"
     ]
    },
    {
     "name": "stderr",
     "output_type": "stream",
     "text": [
      "2023-01-24 01:49:49 abstract_overall_variance_analyzer.py INFO    : Successfully computed predict proba metrics\n"
     ]
    },
    {
     "name": "stdout",
     "output_type": "stream",
     "text": [
      "\n",
      "\n",
      "##############################  Stability metrics  ##############################\n",
      "General Ensemble Accuracy: 0.8025\n",
      "Mean: 0.5463\n",
      "Std: 0.0238\n",
      "IQR: 0.029\n",
      "Entropy: 0.0\n",
      "Jitter: 0.0317\n",
      "Per sample accuracy: 0.8029\n",
      "Label stability: 0.9589\n",
      "\n",
      "\n"
     ]
    },
    {
     "name": "stderr",
     "output_type": "stream",
     "text": [
      "Analyze models in one run:  40%|████      | 2/5 [00:12<00:19,  6.60s/it]2023-01-24 01:49:51 abstract_overall_variance_analyzer.py INFO    : Start classifiers testing by bootstrap\n"
     ]
    },
    {
     "name": "stdout",
     "output_type": "stream",
     "text": [
      "\n",
      "\n",
      "\n",
      "\n",
      "##############################  [Model 3 / 5] Analyze RandomForestClassifier  ##############################\n",
      "Model random_state:  603\n",
      "Baseline X_train shape:  (16000, 16)\n",
      "Baseline X_test shape:  (4000, 16)\n",
      "\n",
      "\n"
     ]
    },
    {
     "name": "stderr",
     "output_type": "stream",
     "text": [
      "\n",
      "Classifiers testing by bootstrap:   0%|          | 0/10 [00:00<?, ?it/s]\u001B[A\n",
      "Classifiers testing by bootstrap:  10%|█         | 1/10 [00:01<00:13,  1.45s/it]\u001B[A\n",
      "Classifiers testing by bootstrap:  20%|██        | 2/10 [00:03<00:12,  1.52s/it]\u001B[A\n",
      "Classifiers testing by bootstrap:  30%|███       | 3/10 [00:04<00:11,  1.58s/it]\u001B[A\n",
      "Classifiers testing by bootstrap:  40%|████      | 4/10 [00:06<00:09,  1.53s/it]\u001B[A\n",
      "Classifiers testing by bootstrap:  50%|█████     | 5/10 [00:07<00:07,  1.50s/it]\u001B[A\n",
      "Classifiers testing by bootstrap:  60%|██████    | 6/10 [00:09<00:05,  1.49s/it]\u001B[A\n",
      "Classifiers testing by bootstrap:  70%|███████   | 7/10 [00:10<00:04,  1.55s/it]\u001B[A\n",
      "Classifiers testing by bootstrap:  80%|████████  | 8/10 [00:12<00:03,  1.54s/it]\u001B[A\n",
      "Classifiers testing by bootstrap:  90%|█████████ | 9/10 [00:13<00:01,  1.52s/it]\u001B[A\n",
      "Classifiers testing by bootstrap: 100%|██████████| 10/10 [00:15<00:00,  1.52s/it]\u001B[A\n",
      "2023-01-24 01:50:06 abstract_overall_variance_analyzer.py INFO    : Successfully tested classifiers by bootstrap\n"
     ]
    },
    {
     "name": "stdout",
     "output_type": "stream",
     "text": [
      "\n",
      "\n"
     ]
    },
    {
     "name": "stderr",
     "output_type": "stream",
     "text": [
      "2023-01-24 01:50:07 abstract_overall_variance_analyzer.py INFO    : Successfully computed predict proba metrics\n"
     ]
    },
    {
     "name": "stdout",
     "output_type": "stream",
     "text": [
      "\n",
      "\n",
      "##############################  Stability metrics  ##############################\n",
      "General Ensemble Accuracy: 0.8362\n",
      "Mean: 0.5487\n",
      "Std: 0.0344\n",
      "IQR: 0.0409\n",
      "Entropy: 0.0\n",
      "Jitter: 0.0378\n",
      "Per sample accuracy: 0.8303\n",
      "Label stability: 0.9512\n",
      "\n",
      "\n"
     ]
    },
    {
     "name": "stderr",
     "output_type": "stream",
     "text": [
      "Analyze models in one run:  60%|██████    | 3/5 [00:30<00:23, 11.90s/it]2023-01-24 01:50:09 abstract_overall_variance_analyzer.py INFO    : Start classifiers testing by bootstrap\n"
     ]
    },
    {
     "name": "stdout",
     "output_type": "stream",
     "text": [
      "\n",
      "\n",
      "\n",
      "\n",
      "##############################  [Model 4 / 5] Analyze XGBClassifier  ##############################\n",
      "Model random_state:  604\n",
      "Baseline X_train shape:  (16000, 16)\n",
      "Baseline X_test shape:  (4000, 16)\n",
      "\n",
      "\n"
     ]
    },
    {
     "name": "stderr",
     "output_type": "stream",
     "text": [
      "\n",
      "Classifiers testing by bootstrap:   0%|          | 0/10 [00:00<?, ?it/s]\u001B[A\n",
      "Classifiers testing by bootstrap:  10%|█         | 1/10 [00:01<00:14,  1.64s/it]\u001B[A\n",
      "Classifiers testing by bootstrap:  20%|██        | 2/10 [00:04<00:18,  2.31s/it]\u001B[A\n",
      "Classifiers testing by bootstrap:  30%|███       | 3/10 [00:06<00:14,  2.05s/it]\u001B[A\n",
      "Classifiers testing by bootstrap:  40%|████      | 4/10 [00:08<00:11,  1.98s/it]\u001B[A\n",
      "Classifiers testing by bootstrap:  50%|█████     | 5/10 [00:10<00:11,  2.23s/it]\u001B[A\n",
      "Classifiers testing by bootstrap:  60%|██████    | 6/10 [00:12<00:08,  2.06s/it]\u001B[A\n",
      "Classifiers testing by bootstrap:  70%|███████   | 7/10 [00:14<00:06,  2.04s/it]\u001B[A\n",
      "Classifiers testing by bootstrap:  80%|████████  | 8/10 [00:17<00:04,  2.24s/it]\u001B[A\n",
      "Classifiers testing by bootstrap:  90%|█████████ | 9/10 [00:18<00:02,  2.09s/it]\u001B[A\n",
      "Classifiers testing by bootstrap: 100%|██████████| 10/10 [00:20<00:00,  2.06s/it]\u001B[A\n",
      "2023-01-24 01:50:30 abstract_overall_variance_analyzer.py INFO    : Successfully tested classifiers by bootstrap\n"
     ]
    },
    {
     "name": "stdout",
     "output_type": "stream",
     "text": [
      "\n",
      "\n"
     ]
    },
    {
     "name": "stderr",
     "output_type": "stream",
     "text": [
      "2023-01-24 01:50:31 abstract_overall_variance_analyzer.py INFO    : Successfully computed predict proba metrics\n"
     ]
    },
    {
     "name": "stdout",
     "output_type": "stream",
     "text": [
      "\n",
      "\n",
      "##############################  Stability metrics  ##############################\n",
      "General Ensemble Accuracy: 0.8248\n",
      "Mean: 0.5422999858856201\n",
      "Std: 0.028599999845027924\n",
      "IQR: 0.0345\n",
      "Entropy: 0.0\n",
      "Jitter: 0.0296\n",
      "Per sample accuracy: 0.8236\n",
      "Label stability: 0.9626\n",
      "\n",
      "\n"
     ]
    },
    {
     "name": "stderr",
     "output_type": "stream",
     "text": [
      "Analyze models in one run:  80%|████████  | 4/5 [00:54<00:16, 16.64s/it]2023-01-24 01:50:33 abstract_overall_variance_analyzer.py INFO    : Start classifiers testing by bootstrap\n"
     ]
    },
    {
     "name": "stdout",
     "output_type": "stream",
     "text": [
      "\n",
      "\n",
      "\n",
      "\n",
      "##############################  [Model 5 / 5] Analyze KNeighborsClassifier  ##############################\n",
      "Model random_state:  None\n",
      "Baseline X_train shape:  (16000, 16)\n",
      "Baseline X_test shape:  (4000, 16)\n",
      "\n",
      "\n"
     ]
    },
    {
     "name": "stderr",
     "output_type": "stream",
     "text": [
      "\n",
      "Classifiers testing by bootstrap:   0%|          | 0/10 [00:00<?, ?it/s]\u001B[A\n",
      "Classifiers testing by bootstrap:  10%|█         | 1/10 [00:00<00:01,  5.84it/s]\u001B[A\n",
      "Classifiers testing by bootstrap:  20%|██        | 2/10 [00:00<00:01,  4.84it/s]\u001B[A\n",
      "Classifiers testing by bootstrap:  30%|███       | 3/10 [00:00<00:01,  4.73it/s]\u001B[A\n",
      "Classifiers testing by bootstrap:  40%|████      | 4/10 [00:00<00:01,  4.26it/s]\u001B[A\n",
      "Classifiers testing by bootstrap:  50%|█████     | 5/10 [00:01<00:01,  4.19it/s]\u001B[A\n",
      "Classifiers testing by bootstrap:  60%|██████    | 6/10 [00:01<00:01,  3.94it/s]\u001B[A\n",
      "Classifiers testing by bootstrap:  70%|███████   | 7/10 [00:01<00:00,  4.15it/s]\u001B[A\n",
      "Classifiers testing by bootstrap:  80%|████████  | 8/10 [00:01<00:00,  3.94it/s]\u001B[A\n",
      "Classifiers testing by bootstrap:  90%|█████████ | 9/10 [00:02<00:00,  3.85it/s]\u001B[A\n",
      "Classifiers testing by bootstrap: 100%|██████████| 10/10 [00:02<00:00,  4.06it/s]\u001B[A\n",
      "2023-01-24 01:50:35 abstract_overall_variance_analyzer.py INFO    : Successfully tested classifiers by bootstrap\n"
     ]
    },
    {
     "name": "stdout",
     "output_type": "stream",
     "text": [
      "\n",
      "\n"
     ]
    },
    {
     "name": "stderr",
     "output_type": "stream",
     "text": [
      "2023-01-24 01:50:36 abstract_overall_variance_analyzer.py INFO    : Successfully computed predict proba metrics\n"
     ]
    },
    {
     "name": "stdout",
     "output_type": "stream",
     "text": [
      "\n",
      "\n",
      "##############################  Stability metrics  ##############################\n",
      "General Ensemble Accuracy: 0.811\n",
      "Mean: 0.5283\n",
      "Std: 0.0669\n",
      "IQR: 0.0811\n",
      "Entropy: 0.1261\n",
      "Jitter: 0.0916\n",
      "Per sample accuracy: 0.8039\n",
      "Label stability: 0.881\n",
      "\n",
      "\n"
     ]
    },
    {
     "name": "stderr",
     "output_type": "stream",
     "text": [
      "Analyze models in one run: 100%|██████████| 5/5 [01:00<00:00, 12.01s/it]"
     ]
    },
    {
     "name": "stdout",
     "output_type": "stream",
     "text": [
      "\n",
      "\n",
      "\n",
      "\n"
     ]
    },
    {
     "name": "stderr",
     "output_type": "stream",
     "text": [
      "\n"
     ]
    }
   ],
   "source": [
    "multiple_runs_metrics_dct = compute_metrics_multiple_runs(dataset, config, experiment_models_config, SAVE_RESULTS_DIR_PATH, debug_mode=False)"
   ]
  },
  {
   "cell_type": "code",
   "execution_count": 49,
   "id": "197eadaa",
   "metadata": {},
   "outputs": [],
   "source": []
  }
 ],
 "metadata": {
  "kernelspec": {
   "display_name": "Python 3 (ipykernel)",
   "language": "python",
   "name": "python3"
  },
  "language_info": {
   "codemirror_mode": {
    "name": "ipython",
    "version": 3
   },
   "file_extension": ".py",
   "mimetype": "text/x-python",
   "name": "python",
   "nbconvert_exporter": "python",
   "pygments_lexer": "ipython3",
   "version": "3.8.10"
  }
 },
 "nbformat": 4,
 "nbformat_minor": 5
}
