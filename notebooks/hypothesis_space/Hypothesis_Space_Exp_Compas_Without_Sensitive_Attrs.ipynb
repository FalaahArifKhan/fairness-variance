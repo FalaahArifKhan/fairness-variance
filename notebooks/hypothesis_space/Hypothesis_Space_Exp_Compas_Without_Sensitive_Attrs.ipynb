{
 "cells": [
  {
   "cell_type": "code",
   "execution_count": 21,
   "id": "248cbed8",
   "metadata": {},
   "outputs": [
    {
     "name": "stdout",
     "output_type": "stream",
     "text": [
      "The autoreload extension is already loaded. To reload it, use:\n",
      "  %reload_ext autoreload\n"
     ]
    }
   ],
   "source": [
    "%matplotlib inline\n",
    "%load_ext autoreload\n",
    "%autoreload 2"
   ]
  },
  {
   "cell_type": "code",
   "execution_count": 22,
   "id": "7ec6cd08",
   "metadata": {},
   "outputs": [],
   "source": [
    "import os\n",
    "import warnings\n",
    "warnings.filterwarnings('ignore')\n",
    "os.environ[\"PYTHONWARNINGS\"] = \"ignore\""
   ]
  },
  {
   "cell_type": "code",
   "execution_count": 23,
   "id": "b8cb69f2",
   "metadata": {},
   "outputs": [
    {
     "name": "stdout",
     "output_type": "stream",
     "text": [
      "Current location:  /home/denys_herasymuk/UCU/4course_2term/Bachelor_Thesis/Code/fairness-variance\n"
     ]
    }
   ],
   "source": [
    "cur_folder_name = os.getcwd().split('/')[-1]\n",
    "if cur_folder_name != \"fairness-variance\":\n",
    "    os.chdir(\"../..\")\n",
    "\n",
    "print('Current location: ', os.getcwd())"
   ]
  },
  {
   "cell_type": "markdown",
   "id": "606df34d",
   "metadata": {},
   "source": [
    "## Import dependencies"
   ]
  },
  {
   "cell_type": "code",
   "execution_count": 24,
   "id": "7a9241de",
   "metadata": {},
   "outputs": [],
   "source": [
    "import os\n",
    "import pandas as pd\n",
    "from datetime import datetime, timezone\n",
    "\n",
    "from configs.models_config_for_tuning import MODELS_CONFIG\n",
    "from source.custom_initializers import create_config_obj, create_models_config_from_tuned_params_df\n",
    "from source.custom_classes.data_loaders import CompasWithoutSensitiveAttrsDataset\n",
    "from source.metrics_computation_interfaces import compute_metrics_multiple_runs"
   ]
  },
  {
   "cell_type": "markdown",
   "id": "95f15603",
   "metadata": {},
   "source": [
    "## Configs"
   ]
  },
  {
   "cell_type": "code",
   "execution_count": 25,
   "id": "71d8f24a",
   "metadata": {},
   "outputs": [],
   "source": [
    "config = create_config_obj(config_yaml_path=os.path.join('configs', 'experiment1_compas_config.yaml'))\n",
    "\n",
    "TUNED_PARAMS_FILE_PATH = os.path.join('results', 'models_tuning', f'tuning_results_{config.dataset_name}_20230117__012024.csv')\n",
    "SAVE_RESULTS_DIR_PATH = os.path.join('results', 'hypothesis_space',\n",
    "                                     f'{config.dataset_name}_Metrics_{datetime.now(timezone.utc).strftime(\"%Y%m%d__%H%M%S\")}')"
   ]
  },
  {
   "cell_type": "markdown",
   "source": [
    "## Models tuned hyper-parameters"
   ],
   "metadata": {
    "collapsed": false
   }
  },
  {
   "cell_type": "code",
   "execution_count": 26,
   "outputs": [
    {
     "data": {
      "text/plain": "                          Dataset_Name              Model_Name  F1_Score  \\\n0  COMPAS_Without_Sensitive_Attributes      LogisticRegression    0.6785   \n1  COMPAS_Without_Sensitive_Attributes  DecisionTreeClassifier    0.6952   \n2  COMPAS_Without_Sensitive_Attributes  RandomForestClassifier    0.6962   \n3  COMPAS_Without_Sensitive_Attributes           XGBClassifier    0.6971   \n4  COMPAS_Without_Sensitive_Attributes    KNeighborsClassifier    0.7056   \n5  COMPAS_Without_Sensitive_Attributes           MLPClassifier    0.6834   \n\n   Accuracy_Score                                  Model_Best_Params  \n0          0.6837  {'C': 1, 'max_iter': 50, 'penalty': 'l2', 'sol...  \n1          0.6989  {'criterion': 'gini', 'max_depth': 20, 'max_fe...  \n2          0.7008  {'max_depth': 4, 'max_features': 0.6, 'min_sam...  \n3          0.7008  {'lambda': 100, 'learning_rate': 0.1, 'max_dep...  \n4          0.7112  {'metric': 'minkowski', 'n_neighbors': 25, 'we...  \n5          0.6875  {'activation': 'relu', 'hidden_layer_sizes': (...  ",
      "text/html": "<div>\n<style scoped>\n    .dataframe tbody tr th:only-of-type {\n        vertical-align: middle;\n    }\n\n    .dataframe tbody tr th {\n        vertical-align: top;\n    }\n\n    .dataframe thead th {\n        text-align: right;\n    }\n</style>\n<table border=\"1\" class=\"dataframe\">\n  <thead>\n    <tr style=\"text-align: right;\">\n      <th></th>\n      <th>Dataset_Name</th>\n      <th>Model_Name</th>\n      <th>F1_Score</th>\n      <th>Accuracy_Score</th>\n      <th>Model_Best_Params</th>\n    </tr>\n  </thead>\n  <tbody>\n    <tr>\n      <th>0</th>\n      <td>COMPAS_Without_Sensitive_Attributes</td>\n      <td>LogisticRegression</td>\n      <td>0.6785</td>\n      <td>0.6837</td>\n      <td>{'C': 1, 'max_iter': 50, 'penalty': 'l2', 'sol...</td>\n    </tr>\n    <tr>\n      <th>1</th>\n      <td>COMPAS_Without_Sensitive_Attributes</td>\n      <td>DecisionTreeClassifier</td>\n      <td>0.6952</td>\n      <td>0.6989</td>\n      <td>{'criterion': 'gini', 'max_depth': 20, 'max_fe...</td>\n    </tr>\n    <tr>\n      <th>2</th>\n      <td>COMPAS_Without_Sensitive_Attributes</td>\n      <td>RandomForestClassifier</td>\n      <td>0.6962</td>\n      <td>0.7008</td>\n      <td>{'max_depth': 4, 'max_features': 0.6, 'min_sam...</td>\n    </tr>\n    <tr>\n      <th>3</th>\n      <td>COMPAS_Without_Sensitive_Attributes</td>\n      <td>XGBClassifier</td>\n      <td>0.6971</td>\n      <td>0.7008</td>\n      <td>{'lambda': 100, 'learning_rate': 0.1, 'max_dep...</td>\n    </tr>\n    <tr>\n      <th>4</th>\n      <td>COMPAS_Without_Sensitive_Attributes</td>\n      <td>KNeighborsClassifier</td>\n      <td>0.7056</td>\n      <td>0.7112</td>\n      <td>{'metric': 'minkowski', 'n_neighbors': 25, 'we...</td>\n    </tr>\n    <tr>\n      <th>5</th>\n      <td>COMPAS_Without_Sensitive_Attributes</td>\n      <td>MLPClassifier</td>\n      <td>0.6834</td>\n      <td>0.6875</td>\n      <td>{'activation': 'relu', 'hidden_layer_sizes': (...</td>\n    </tr>\n  </tbody>\n</table>\n</div>"
     },
     "execution_count": 26,
     "metadata": {},
     "output_type": "execute_result"
    }
   ],
   "source": [
    "models_tuned_params_df = pd.read_csv(TUNED_PARAMS_FILE_PATH)\n",
    "models_tuned_params_df"
   ],
   "metadata": {
    "collapsed": false
   }
  },
  {
   "cell_type": "code",
   "execution_count": 27,
   "outputs": [],
   "source": [
    "experiment_models_config = create_models_config_from_tuned_params_df(\n",
    "    models_config_for_tuning=MODELS_CONFIG,\n",
    "    models_tuned_params_df=models_tuned_params_df,\n",
    ")"
   ],
   "metadata": {
    "collapsed": false
   }
  },
  {
   "cell_type": "code",
   "execution_count": 28,
   "outputs": [
    {
     "data": {
      "text/plain": "dict_keys(['DecisionTreeClassifier', 'RandomForestClassifier'])"
     },
     "execution_count": 28,
     "metadata": {},
     "output_type": "execute_result"
    }
   ],
   "source": [
    "experiment_models_config.keys()"
   ],
   "metadata": {
    "collapsed": false
   }
  },
  {
   "cell_type": "markdown",
   "id": "5c60057a",
   "metadata": {},
   "source": [
    "## Load dataset"
   ]
  },
  {
   "cell_type": "code",
   "execution_count": 29,
   "id": "3e53fe9a",
   "metadata": {},
   "outputs": [
    {
     "data": {
      "text/plain": "   juv_fel_count  juv_misd_count  juv_other_count  priors_count  \\\n0            0.0       -2.340451              1.0    -15.010999   \n1            0.0        0.000000              0.0      0.000000   \n2            0.0        0.000000              0.0      0.000000   \n3            0.0        0.000000              0.0      6.000000   \n4            0.0        0.000000              0.0      7.513697   \n\n   age_cat_25 - 45  age_cat_Greater than 45  age_cat_Less than 25  \\\n0                1                        0                     0   \n1                1                        0                     0   \n2                0                        0                     1   \n3                1                        0                     0   \n4                1                        0                     0   \n\n   c_charge_degree_F  c_charge_degree_M  \n0                  0                  1  \n1                  1                  0  \n2                  1                  0  \n3                  0                  1  \n4                  1                  0  ",
      "text/html": "<div>\n<style scoped>\n    .dataframe tbody tr th:only-of-type {\n        vertical-align: middle;\n    }\n\n    .dataframe tbody tr th {\n        vertical-align: top;\n    }\n\n    .dataframe thead th {\n        text-align: right;\n    }\n</style>\n<table border=\"1\" class=\"dataframe\">\n  <thead>\n    <tr style=\"text-align: right;\">\n      <th></th>\n      <th>juv_fel_count</th>\n      <th>juv_misd_count</th>\n      <th>juv_other_count</th>\n      <th>priors_count</th>\n      <th>age_cat_25 - 45</th>\n      <th>age_cat_Greater than 45</th>\n      <th>age_cat_Less than 25</th>\n      <th>c_charge_degree_F</th>\n      <th>c_charge_degree_M</th>\n    </tr>\n  </thead>\n  <tbody>\n    <tr>\n      <th>0</th>\n      <td>0.0</td>\n      <td>-2.340451</td>\n      <td>1.0</td>\n      <td>-15.010999</td>\n      <td>1</td>\n      <td>0</td>\n      <td>0</td>\n      <td>0</td>\n      <td>1</td>\n    </tr>\n    <tr>\n      <th>1</th>\n      <td>0.0</td>\n      <td>0.000000</td>\n      <td>0.0</td>\n      <td>0.000000</td>\n      <td>1</td>\n      <td>0</td>\n      <td>0</td>\n      <td>1</td>\n      <td>0</td>\n    </tr>\n    <tr>\n      <th>2</th>\n      <td>0.0</td>\n      <td>0.000000</td>\n      <td>0.0</td>\n      <td>0.000000</td>\n      <td>0</td>\n      <td>0</td>\n      <td>1</td>\n      <td>1</td>\n      <td>0</td>\n    </tr>\n    <tr>\n      <th>3</th>\n      <td>0.0</td>\n      <td>0.000000</td>\n      <td>0.0</td>\n      <td>6.000000</td>\n      <td>1</td>\n      <td>0</td>\n      <td>0</td>\n      <td>0</td>\n      <td>1</td>\n    </tr>\n    <tr>\n      <th>4</th>\n      <td>0.0</td>\n      <td>0.000000</td>\n      <td>0.0</td>\n      <td>7.513697</td>\n      <td>1</td>\n      <td>0</td>\n      <td>0</td>\n      <td>1</td>\n      <td>0</td>\n    </tr>\n  </tbody>\n</table>\n</div>"
     },
     "execution_count": 29,
     "metadata": {},
     "output_type": "execute_result"
    }
   ],
   "source": [
    "dataset = CompasWithoutSensitiveAttrsDataset(dataset_path='data/COMPAS.csv')\n",
    "dataset.X_data.head()"
   ]
  },
  {
   "cell_type": "markdown",
   "id": "c3530f06",
   "metadata": {},
   "source": [
    "## Run experiments"
   ]
  },
  {
   "cell_type": "code",
   "execution_count": 30,
   "id": "2528579c",
   "metadata": {},
   "outputs": [
    {
     "name": "stderr",
     "output_type": "stream",
     "text": [
      "Analyze models in one run:   0%|          | 0/2 [00:00<?, ?it/s]"
     ]
    },
    {
     "name": "stdout",
     "output_type": "stream",
     "text": [
      "##############################  [Model 1 / 2] Analyze DecisionTreeClassifier  ##############################\n",
      "Model random_state:  101\n",
      "Baseline X_train shape:  (4222, 9)\n",
      "Baseline X_test shape:  (1056, 9)\n"
     ]
    },
    {
     "name": "stderr",
     "output_type": "stream",
     "text": [
      "2023-01-24 14:02:41 abstract_overall_variance_analyzer.py INFO    : Start classifiers testing by bootstrap\n"
     ]
    },
    {
     "name": "stdout",
     "output_type": "stream",
     "text": [
      "\n",
      "\n"
     ]
    },
    {
     "name": "stderr",
     "output_type": "stream",
     "text": [
      "\n",
      "Classifiers testing by bootstrap:   0%|          | 0/100 [00:00<?, ?it/s]\u001B[A\n",
      "Classifiers testing by bootstrap:  14%|█▍        | 14/100 [00:00<00:00, 134.67it/s]\u001B[A\n",
      "Classifiers testing by bootstrap:  30%|███       | 30/100 [00:00<00:00, 146.14it/s]\u001B[A\n",
      "Classifiers testing by bootstrap:  48%|████▊     | 48/100 [00:00<00:00, 161.09it/s]\u001B[A\n",
      "Classifiers testing by bootstrap:  65%|██████▌   | 65/100 [00:00<00:00, 158.49it/s]\u001B[A\n",
      "Classifiers testing by bootstrap:  81%|████████  | 81/100 [00:00<00:00, 155.83it/s]\u001B[A\n",
      "Classifiers testing by bootstrap: 100%|██████████| 100/100 [00:00<00:00, 156.38it/s][A\n",
      "2023-01-24 14:02:41 abstract_overall_variance_analyzer.py INFO    : Successfully tested classifiers by bootstrap\n"
     ]
    },
    {
     "name": "stdout",
     "output_type": "stream",
     "text": [
      "\n",
      "\n"
     ]
    },
    {
     "name": "stderr",
     "output_type": "stream",
     "text": [
      "2023-01-24 14:02:44 abstract_overall_variance_analyzer.py INFO    : Successfully computed predict proba metrics\n"
     ]
    },
    {
     "name": "stdout",
     "output_type": "stream",
     "text": [
      "\n",
      "\n",
      "##############################  Stability metrics  ##############################\n",
      "General Ensemble Accuracy: 0.678\n",
      "Mean: 0.5266\n",
      "Std: 0.073\n",
      "IQR: 0.0867\n",
      "Entropy: 0.0\n",
      "Jitter: 0.1194\n",
      "Per sample accuracy: 0.663\n",
      "Label stability: 0.8361\n",
      "\n",
      "\n"
     ]
    },
    {
     "name": "stderr",
     "output_type": "stream",
     "text": [
      "Analyze models in one run:  50%|█████     | 1/2 [00:11<00:11, 11.40s/it]2023-01-24 14:02:52 abstract_overall_variance_analyzer.py INFO    : Start classifiers testing by bootstrap\n"
     ]
    },
    {
     "name": "stdout",
     "output_type": "stream",
     "text": [
      "\n",
      "\n",
      "\n",
      "\n",
      "##############################  [Model 2 / 2] Analyze RandomForestClassifier  ##############################\n",
      "Model random_state:  102\n",
      "Baseline X_train shape:  (4222, 9)\n",
      "Baseline X_test shape:  (1056, 9)\n",
      "\n",
      "\n"
     ]
    },
    {
     "name": "stderr",
     "output_type": "stream",
     "text": [
      "\n",
      "Classifiers testing by bootstrap:   0%|          | 0/100 [00:00<?, ?it/s]\u001B[A\n",
      "Classifiers testing by bootstrap:   1%|          | 1/100 [00:01<01:47,  1.08s/it]\u001B[A\n",
      "Classifiers testing by bootstrap:   2%|▏         | 2/100 [00:02<01:46,  1.09s/it]\u001B[A\n",
      "Classifiers testing by bootstrap:   3%|▎         | 3/100 [00:03<01:44,  1.08s/it]\u001B[A\n",
      "Classifiers testing by bootstrap:   4%|▍         | 4/100 [00:04<01:45,  1.10s/it]\u001B[A\n",
      "Classifiers testing by bootstrap:   5%|▌         | 5/100 [00:05<01:44,  1.10s/it]\u001B[A\n",
      "Classifiers testing by bootstrap:   6%|▌         | 6/100 [00:06<01:42,  1.09s/it]\u001B[A\n",
      "Classifiers testing by bootstrap:   7%|▋         | 7/100 [00:07<01:40,  1.08s/it]\u001B[A\n",
      "Classifiers testing by bootstrap:   8%|▊         | 8/100 [00:08<01:39,  1.08s/it]\u001B[A\n",
      "Classifiers testing by bootstrap:   9%|▉         | 9/100 [00:09<01:39,  1.09s/it]\u001B[A\n",
      "Classifiers testing by bootstrap:  10%|█         | 10/100 [00:10<01:38,  1.10s/it]\u001B[A\n",
      "Classifiers testing by bootstrap:  11%|█         | 11/100 [00:11<01:36,  1.08s/it]\u001B[A\n",
      "Classifiers testing by bootstrap:  12%|█▏        | 12/100 [00:13<01:42,  1.16s/it]\u001B[A\n",
      "Classifiers testing by bootstrap:  13%|█▎        | 13/100 [00:14<01:37,  1.12s/it]\u001B[A\n",
      "Classifiers testing by bootstrap:  14%|█▍        | 14/100 [00:15<01:35,  1.11s/it]\u001B[A\n",
      "Classifiers testing by bootstrap:  15%|█▌        | 15/100 [00:16<01:36,  1.13s/it]\u001B[A\n",
      "Classifiers testing by bootstrap:  16%|█▌        | 16/100 [00:17<01:32,  1.11s/it]\u001B[A\n",
      "Classifiers testing by bootstrap:  17%|█▋        | 17/100 [00:18<01:30,  1.09s/it]\u001B[A\n",
      "Classifiers testing by bootstrap:  18%|█▊        | 18/100 [00:19<01:28,  1.08s/it]\u001B[A\n",
      "Classifiers testing by bootstrap:  19%|█▉        | 19/100 [00:20<01:26,  1.07s/it]\u001B[A\n",
      "Classifiers testing by bootstrap:  20%|██        | 20/100 [00:21<01:27,  1.10s/it]\u001B[A\n",
      "Classifiers testing by bootstrap:  21%|██        | 21/100 [00:23<01:25,  1.09s/it]\u001B[A\n",
      "Classifiers testing by bootstrap:  22%|██▏       | 22/100 [00:24<01:23,  1.07s/it]\u001B[A\n",
      "Classifiers testing by bootstrap:  23%|██▎       | 23/100 [00:25<01:21,  1.06s/it]\u001B[A\n",
      "Classifiers testing by bootstrap:  24%|██▍       | 24/100 [00:26<01:19,  1.04s/it]\u001B[A\n",
      "Classifiers testing by bootstrap:  25%|██▌       | 25/100 [00:27<01:21,  1.09s/it]\u001B[A\n",
      "Classifiers testing by bootstrap:  26%|██▌       | 26/100 [00:29<01:39,  1.35s/it]\u001B[A\n",
      "Classifiers testing by bootstrap:  27%|██▋       | 27/100 [00:30<01:34,  1.29s/it]\u001B[A\n",
      "Classifiers testing by bootstrap:  28%|██▊       | 28/100 [00:31<01:30,  1.25s/it]\u001B[A\n",
      "Classifiers testing by bootstrap:  29%|██▉       | 29/100 [00:32<01:24,  1.20s/it]\u001B[A\n",
      "Classifiers testing by bootstrap:  30%|███       | 30/100 [00:33<01:20,  1.15s/it]\u001B[A\n",
      "Classifiers testing by bootstrap:  31%|███       | 31/100 [00:34<01:19,  1.15s/it]\u001B[A\n",
      "Classifiers testing by bootstrap:  32%|███▏      | 32/100 [00:35<01:17,  1.15s/it]\u001B[A\n",
      "Classifiers testing by bootstrap:  33%|███▎      | 33/100 [00:37<01:17,  1.15s/it]\u001B[A\n",
      "Classifiers testing by bootstrap:  34%|███▍      | 34/100 [00:38<01:14,  1.13s/it]\u001B[A\n",
      "Classifiers testing by bootstrap:  35%|███▌      | 35/100 [00:39<01:10,  1.08s/it]\u001B[A\n",
      "Classifiers testing by bootstrap:  36%|███▌      | 36/100 [00:40<01:07,  1.05s/it]\u001B[A\n",
      "Classifiers testing by bootstrap:  37%|███▋      | 37/100 [00:41<01:06,  1.05s/it]\u001B[A\n",
      "Classifiers testing by bootstrap:  38%|███▊      | 38/100 [00:42<01:02,  1.01s/it]\u001B[A\n",
      "Classifiers testing by bootstrap:  39%|███▉      | 39/100 [00:43<01:00,  1.02it/s]\u001B[A\n",
      "Classifiers testing by bootstrap:  40%|████      | 40/100 [00:44<00:58,  1.03it/s]\u001B[A\n",
      "Classifiers testing by bootstrap:  41%|████      | 41/100 [00:44<00:56,  1.04it/s]\u001B[A\n",
      "Classifiers testing by bootstrap:  42%|████▏     | 42/100 [00:45<00:56,  1.03it/s]\u001B[A\n",
      "Classifiers testing by bootstrap:  43%|████▎     | 43/100 [00:46<00:56,  1.02it/s]\u001B[A\n",
      "Classifiers testing by bootstrap:  44%|████▍     | 44/100 [00:47<00:54,  1.03it/s]\u001B[A\n",
      "Classifiers testing by bootstrap:  45%|████▌     | 45/100 [00:48<00:52,  1.05it/s]\u001B[A\n",
      "Classifiers testing by bootstrap:  46%|████▌     | 46/100 [00:49<00:51,  1.06it/s]\u001B[A\n",
      "Classifiers testing by bootstrap:  47%|████▋     | 47/100 [00:50<00:49,  1.06it/s]\u001B[A\n",
      "Classifiers testing by bootstrap:  48%|████▊     | 48/100 [00:51<00:49,  1.06it/s]\u001B[A\n",
      "Classifiers testing by bootstrap:  49%|████▉     | 49/100 [00:52<00:49,  1.03it/s]\u001B[A\n",
      "Classifiers testing by bootstrap:  50%|█████     | 50/100 [00:53<00:47,  1.04it/s]\u001B[A\n",
      "Classifiers testing by bootstrap:  51%|█████     | 51/100 [00:54<00:46,  1.06it/s]\u001B[A\n",
      "Classifiers testing by bootstrap:  52%|█████▏    | 52/100 [00:55<00:45,  1.06it/s]\u001B[A\n",
      "Classifiers testing by bootstrap:  53%|█████▎    | 53/100 [00:56<00:43,  1.08it/s]\u001B[A\n",
      "Classifiers testing by bootstrap:  54%|█████▍    | 54/100 [00:57<00:42,  1.08it/s]\u001B[A\n",
      "Classifiers testing by bootstrap:  55%|█████▌    | 55/100 [00:58<00:43,  1.03it/s]\u001B[A\n",
      "Classifiers testing by bootstrap:  56%|█████▌    | 56/100 [00:59<00:41,  1.05it/s]\u001B[A\n",
      "Classifiers testing by bootstrap:  57%|█████▋    | 57/100 [01:00<00:40,  1.06it/s]\u001B[A\n",
      "Classifiers testing by bootstrap:  58%|█████▊    | 58/100 [01:01<00:39,  1.07it/s]\u001B[A\n",
      "Classifiers testing by bootstrap:  59%|█████▉    | 59/100 [01:02<00:39,  1.04it/s]\u001B[A\n",
      "Classifiers testing by bootstrap:  60%|██████    | 60/100 [01:03<00:44,  1.10s/it]\u001B[A\n",
      "Classifiers testing by bootstrap:  61%|██████    | 61/100 [01:04<00:44,  1.13s/it]\u001B[A\n",
      "Classifiers testing by bootstrap:  62%|██████▏   | 62/100 [01:05<00:40,  1.07s/it]\u001B[A\n",
      "Classifiers testing by bootstrap:  63%|██████▎   | 63/100 [01:06<00:38,  1.03s/it]\u001B[A\n",
      "Classifiers testing by bootstrap:  64%|██████▍   | 64/100 [01:07<00:36,  1.00s/it]\u001B[A\n",
      "Classifiers testing by bootstrap:  65%|██████▌   | 65/100 [01:08<00:34,  1.02it/s]\u001B[A\n",
      "Classifiers testing by bootstrap:  66%|██████▌   | 66/100 [01:09<00:32,  1.03it/s]\u001B[A\n",
      "Classifiers testing by bootstrap:  67%|██████▋   | 67/100 [01:10<00:33,  1.02s/it]\u001B[A\n",
      "Classifiers testing by bootstrap:  68%|██████▊   | 68/100 [01:11<00:32,  1.01s/it]\u001B[A\n",
      "Classifiers testing by bootstrap:  69%|██████▉   | 69/100 [01:12<00:30,  1.01it/s]\u001B[A\n",
      "Classifiers testing by bootstrap:  70%|███████   | 70/100 [01:13<00:29,  1.02it/s]\u001B[A\n",
      "Classifiers testing by bootstrap:  71%|███████   | 71/100 [01:14<00:28,  1.02it/s]\u001B[A\n",
      "Classifiers testing by bootstrap:  72%|███████▏  | 72/100 [01:15<00:27,  1.02it/s]\u001B[A\n",
      "Classifiers testing by bootstrap:  73%|███████▎  | 73/100 [01:16<00:27,  1.01s/it]\u001B[A\n",
      "Classifiers testing by bootstrap:  74%|███████▍  | 74/100 [01:17<00:27,  1.04s/it]\u001B[A\n",
      "Classifiers testing by bootstrap:  75%|███████▌  | 75/100 [01:18<00:25,  1.02s/it]\u001B[A\n",
      "Classifiers testing by bootstrap:  76%|███████▌  | 76/100 [01:19<00:23,  1.02it/s]\u001B[A\n",
      "Classifiers testing by bootstrap:  77%|███████▋  | 77/100 [01:20<00:22,  1.04it/s]\u001B[A\n",
      "Classifiers testing by bootstrap:  78%|███████▊  | 78/100 [01:21<00:21,  1.03it/s]\u001B[A\n",
      "Classifiers testing by bootstrap:  79%|███████▉  | 79/100 [01:22<00:21,  1.02s/it]\u001B[A\n",
      "Classifiers testing by bootstrap:  80%|████████  | 80/100 [01:23<00:20,  1.03s/it]\u001B[A\n",
      "Classifiers testing by bootstrap:  81%|████████  | 81/100 [01:24<00:19,  1.04s/it]\u001B[A\n",
      "Classifiers testing by bootstrap:  82%|████████▏ | 82/100 [01:25<00:19,  1.06s/it]\u001B[A\n",
      "Classifiers testing by bootstrap:  83%|████████▎ | 83/100 [01:26<00:17,  1.02s/it]\u001B[A\n",
      "Classifiers testing by bootstrap:  84%|████████▍ | 84/100 [01:27<00:17,  1.07s/it]\u001B[A\n",
      "Classifiers testing by bootstrap:  85%|████████▌ | 85/100 [01:28<00:16,  1.08s/it]\u001B[A\n",
      "Classifiers testing by bootstrap:  86%|████████▌ | 86/100 [01:29<00:15,  1.08s/it]\u001B[A\n",
      "Classifiers testing by bootstrap:  87%|████████▋ | 87/100 [01:30<00:13,  1.05s/it]\u001B[A\n",
      "Classifiers testing by bootstrap:  88%|████████▊ | 88/100 [01:32<00:13,  1.10s/it]\u001B[A\n",
      "Classifiers testing by bootstrap:  89%|████████▉ | 89/100 [01:33<00:12,  1.12s/it]\u001B[A\n",
      "Classifiers testing by bootstrap:  90%|█████████ | 90/100 [01:34<00:11,  1.13s/it]\u001B[A\n",
      "Classifiers testing by bootstrap:  91%|█████████ | 91/100 [01:35<00:10,  1.14s/it]\u001B[A\n",
      "Classifiers testing by bootstrap:  92%|█████████▏| 92/100 [01:36<00:09,  1.14s/it]\u001B[A\n",
      "Classifiers testing by bootstrap:  93%|█████████▎| 93/100 [01:37<00:07,  1.14s/it]\u001B[A\n",
      "Classifiers testing by bootstrap:  94%|█████████▍| 94/100 [01:39<00:06,  1.12s/it]\u001B[A\n",
      "Classifiers testing by bootstrap:  95%|█████████▌| 95/100 [01:40<00:05,  1.12s/it]\u001B[A\n",
      "Classifiers testing by bootstrap:  96%|█████████▌| 96/100 [01:41<00:04,  1.08s/it]\u001B[A\n",
      "Classifiers testing by bootstrap:  97%|█████████▋| 97/100 [01:42<00:03,  1.03s/it]\u001B[A\n",
      "Classifiers testing by bootstrap:  98%|█████████▊| 98/100 [01:43<00:02,  1.01s/it]\u001B[A\n",
      "Classifiers testing by bootstrap:  99%|█████████▉| 99/100 [01:44<00:01,  1.01s/it]\u001B[A\n",
      "Classifiers testing by bootstrap: 100%|██████████| 100/100 [01:45<00:00,  1.05s/it]\u001B[A\n",
      "2023-01-24 14:04:37 abstract_overall_variance_analyzer.py INFO    : Successfully tested classifiers by bootstrap\n"
     ]
    },
    {
     "name": "stdout",
     "output_type": "stream",
     "text": [
      "\n",
      "\n"
     ]
    },
    {
     "name": "stderr",
     "output_type": "stream",
     "text": [
      "2023-01-24 14:04:40 abstract_overall_variance_analyzer.py INFO    : Successfully computed predict proba metrics\n"
     ]
    },
    {
     "name": "stdout",
     "output_type": "stream",
     "text": [
      "\n",
      "\n",
      "##############################  Stability metrics  ##############################\n",
      "General Ensemble Accuracy: 0.6932\n",
      "Mean: 0.5365\n",
      "Std: 0.0377\n",
      "IQR: 0.0501\n",
      "Entropy: 0.118\n",
      "Jitter: 0.0721\n",
      "Per sample accuracy: 0.6818\n",
      "Label stability: 0.9002\n",
      "\n",
      "\n"
     ]
    },
    {
     "name": "stderr",
     "output_type": "stream",
     "text": [
      "Analyze models in one run: 100%|██████████| 2/2 [02:05<00:00, 62.90s/it]\n"
     ]
    },
    {
     "name": "stdout",
     "output_type": "stream",
     "text": [
      "\n",
      "\n",
      "\n",
      "\n"
     ]
    },
    {
     "name": "stderr",
     "output_type": "stream",
     "text": [
      "Analyze models in one run:   0%|          | 0/2 [00:00<?, ?it/s]2023-01-24 14:04:46 abstract_overall_variance_analyzer.py INFO    : Start classifiers testing by bootstrap\n"
     ]
    },
    {
     "name": "stdout",
     "output_type": "stream",
     "text": [
      "##############################  [Model 1 / 2] Analyze DecisionTreeClassifier  ##############################\n",
      "Model random_state:  201\n",
      "Baseline X_train shape:  (4222, 9)\n",
      "Baseline X_test shape:  (1056, 9)\n",
      "\n",
      "\n"
     ]
    },
    {
     "name": "stderr",
     "output_type": "stream",
     "text": [
      "\n",
      "Classifiers testing by bootstrap:   0%|          | 0/100 [00:00<?, ?it/s]\u001B[A\n",
      "Classifiers testing by bootstrap:  18%|█▊        | 18/100 [00:00<00:00, 176.86it/s]\u001B[A\n",
      "Classifiers testing by bootstrap:  37%|███▋      | 37/100 [00:00<00:00, 180.47it/s]\u001B[A\n",
      "Classifiers testing by bootstrap:  56%|█████▌    | 56/100 [00:00<00:00, 181.22it/s]\u001B[A\n",
      "Classifiers testing by bootstrap: 100%|██████████| 100/100 [00:00<00:00, 194.96it/s][A\n",
      "2023-01-24 14:04:47 abstract_overall_variance_analyzer.py INFO    : Successfully tested classifiers by bootstrap\n"
     ]
    },
    {
     "name": "stdout",
     "output_type": "stream",
     "text": [
      "\n",
      "\n"
     ]
    },
    {
     "name": "stderr",
     "output_type": "stream",
     "text": [
      "2023-01-24 14:04:50 abstract_overall_variance_analyzer.py INFO    : Successfully computed predict proba metrics\n"
     ]
    },
    {
     "name": "stdout",
     "output_type": "stream",
     "text": [
      "\n",
      "\n",
      "##############################  Stability metrics  ##############################\n",
      "General Ensemble Accuracy: 0.6723\n",
      "Mean: 0.5235\n",
      "Std: 0.072\n",
      "IQR: 0.0834\n",
      "Entropy: 0.0\n",
      "Jitter: 0.1109\n",
      "Per sample accuracy: 0.6663\n",
      "Label stability: 0.8605\n",
      "\n",
      "\n"
     ]
    },
    {
     "name": "stderr",
     "output_type": "stream",
     "text": [
      "Analyze models in one run:  50%|█████     | 1/2 [00:10<00:10, 10.74s/it]2023-01-24 14:04:57 abstract_overall_variance_analyzer.py INFO    : Start classifiers testing by bootstrap\n"
     ]
    },
    {
     "name": "stdout",
     "output_type": "stream",
     "text": [
      "\n",
      "\n",
      "\n",
      "\n",
      "##############################  [Model 2 / 2] Analyze RandomForestClassifier  ##############################\n",
      "Model random_state:  202\n",
      "Baseline X_train shape:  (4222, 9)\n",
      "Baseline X_test shape:  (1056, 9)\n",
      "\n",
      "\n"
     ]
    },
    {
     "name": "stderr",
     "output_type": "stream",
     "text": [
      "\n",
      "Classifiers testing by bootstrap:   0%|          | 0/100 [00:00<?, ?it/s]\u001B[A\n",
      "Classifiers testing by bootstrap:   1%|          | 1/100 [00:00<01:36,  1.02it/s]\u001B[A\n",
      "Classifiers testing by bootstrap:   2%|▏         | 2/100 [00:02<01:39,  1.01s/it]\u001B[A\n",
      "Classifiers testing by bootstrap:   3%|▎         | 3/100 [00:03<01:38,  1.01s/it]\u001B[A\n",
      "Classifiers testing by bootstrap:   4%|▍         | 4/100 [00:04<01:41,  1.05s/it]\u001B[A\n",
      "Classifiers testing by bootstrap:   5%|▌         | 5/100 [00:05<01:36,  1.02s/it]\u001B[A\n",
      "Classifiers testing by bootstrap:   6%|▌         | 6/100 [00:06<01:33,  1.01it/s]\u001B[A\n",
      "Classifiers testing by bootstrap:   7%|▋         | 7/100 [00:06<01:30,  1.03it/s]\u001B[A\n",
      "Classifiers testing by bootstrap:   8%|▊         | 8/100 [00:07<01:27,  1.05it/s]\u001B[A\n",
      "Classifiers testing by bootstrap:   9%|▉         | 9/100 [00:08<01:26,  1.05it/s]\u001B[A\n",
      "Classifiers testing by bootstrap:  10%|█         | 10/100 [00:09<01:29,  1.00it/s]\u001B[A\n",
      "Classifiers testing by bootstrap:  11%|█         | 11/100 [00:10<01:27,  1.02it/s]\u001B[A\n",
      "Classifiers testing by bootstrap:  12%|█▏        | 12/100 [00:11<01:24,  1.04it/s]\u001B[A\n",
      "Classifiers testing by bootstrap:  13%|█▎        | 13/100 [00:12<01:24,  1.03it/s]\u001B[A\n",
      "Classifiers testing by bootstrap:  14%|█▍        | 14/100 [00:13<01:23,  1.03it/s]\u001B[A\n",
      "Classifiers testing by bootstrap:  15%|█▌        | 15/100 [00:14<01:22,  1.02it/s]\u001B[A\n",
      "Classifiers testing by bootstrap:  16%|█▌        | 16/100 [00:15<01:26,  1.03s/it]\u001B[A\n",
      "Classifiers testing by bootstrap:  17%|█▋        | 17/100 [00:16<01:26,  1.04s/it]\u001B[A\n",
      "Classifiers testing by bootstrap:  18%|█▊        | 18/100 [00:18<01:26,  1.05s/it]\u001B[A\n",
      "Classifiers testing by bootstrap:  19%|█▉        | 19/100 [00:19<01:34,  1.17s/it]\u001B[A\n",
      "Classifiers testing by bootstrap:  20%|██        | 20/100 [00:20<01:37,  1.22s/it]\u001B[A\n",
      "Classifiers testing by bootstrap:  21%|██        | 21/100 [00:21<01:31,  1.16s/it]\u001B[A\n",
      "Classifiers testing by bootstrap:  22%|██▏       | 22/100 [00:22<01:27,  1.12s/it]\u001B[A\n",
      "Classifiers testing by bootstrap:  23%|██▎       | 23/100 [00:23<01:21,  1.05s/it]\u001B[A\n",
      "Classifiers testing by bootstrap:  24%|██▍       | 24/100 [00:24<01:17,  1.02s/it]\u001B[A\n",
      "Classifiers testing by bootstrap:  25%|██▌       | 25/100 [00:25<01:14,  1.01it/s]\u001B[A\n",
      "Classifiers testing by bootstrap:  26%|██▌       | 26/100 [00:26<01:10,  1.04it/s]\u001B[A\n",
      "Classifiers testing by bootstrap:  27%|██▋       | 27/100 [00:27<01:12,  1.01it/s]\u001B[A\n",
      "Classifiers testing by bootstrap:  28%|██▊       | 28/100 [00:28<01:10,  1.02it/s]\u001B[A\n",
      "Classifiers testing by bootstrap:  29%|██▉       | 29/100 [00:29<01:09,  1.03it/s]\u001B[A\n",
      "Classifiers testing by bootstrap:  30%|███       | 30/100 [00:30<01:07,  1.04it/s]\u001B[A\n",
      "Classifiers testing by bootstrap:  31%|███       | 31/100 [00:31<01:05,  1.06it/s]\u001B[A\n",
      "Classifiers testing by bootstrap:  32%|███▏      | 32/100 [00:32<01:02,  1.09it/s]\u001B[A\n",
      "Classifiers testing by bootstrap:  33%|███▎      | 33/100 [00:33<01:03,  1.05it/s]\u001B[A\n",
      "Classifiers testing by bootstrap:  34%|███▍      | 34/100 [00:34<01:01,  1.08it/s]\u001B[A\n",
      "Classifiers testing by bootstrap:  35%|███▌      | 35/100 [00:34<00:59,  1.09it/s]\u001B[A\n",
      "Classifiers testing by bootstrap:  36%|███▌      | 36/100 [00:35<00:57,  1.11it/s]\u001B[A\n",
      "Classifiers testing by bootstrap:  37%|███▋      | 37/100 [00:36<00:58,  1.08it/s]\u001B[A\n",
      "Classifiers testing by bootstrap:  38%|███▊      | 38/100 [00:37<00:56,  1.09it/s]\u001B[A\n",
      "Classifiers testing by bootstrap:  39%|███▉      | 39/100 [00:38<00:58,  1.04it/s]\u001B[A\n",
      "Classifiers testing by bootstrap:  40%|████      | 40/100 [00:39<00:58,  1.02it/s]\u001B[A\n",
      "Classifiers testing by bootstrap:  41%|████      | 41/100 [00:40<00:55,  1.06it/s]\u001B[A\n",
      "Classifiers testing by bootstrap:  42%|████▏     | 42/100 [00:41<00:55,  1.05it/s]\u001B[A\n",
      "Classifiers testing by bootstrap:  43%|████▎     | 43/100 [00:42<00:54,  1.04it/s]\u001B[A\n",
      "Classifiers testing by bootstrap:  44%|████▍     | 44/100 [00:43<00:52,  1.07it/s]\u001B[A\n",
      "Classifiers testing by bootstrap:  45%|████▌     | 45/100 [00:44<00:51,  1.06it/s]\u001B[A\n",
      "Classifiers testing by bootstrap:  46%|████▌     | 46/100 [00:45<00:51,  1.05it/s]\u001B[A\n",
      "Classifiers testing by bootstrap:  47%|████▋     | 47/100 [00:46<00:50,  1.05it/s]\u001B[A\n",
      "Classifiers testing by bootstrap:  48%|████▊     | 48/100 [00:47<00:48,  1.07it/s]\u001B[A\n",
      "Classifiers testing by bootstrap:  49%|████▉     | 49/100 [00:48<00:47,  1.07it/s]\u001B[A\n",
      "Classifiers testing by bootstrap:  50%|█████     | 50/100 [00:49<00:46,  1.07it/s]\u001B[A\n",
      "Classifiers testing by bootstrap:  51%|█████     | 51/100 [00:50<00:46,  1.05it/s]\u001B[A\n",
      "Classifiers testing by bootstrap:  52%|█████▏    | 52/100 [00:51<00:47,  1.02it/s]\u001B[A\n",
      "Classifiers testing by bootstrap:  53%|█████▎    | 53/100 [00:52<00:45,  1.03it/s]\u001B[A\n",
      "Classifiers testing by bootstrap:  54%|█████▍    | 54/100 [00:53<00:43,  1.06it/s]\u001B[A\n",
      "Classifiers testing by bootstrap:  55%|█████▌    | 55/100 [00:53<00:41,  1.08it/s]\u001B[A\n",
      "Classifiers testing by bootstrap:  56%|█████▌    | 56/100 [00:54<00:40,  1.09it/s]\u001B[A\n",
      "Classifiers testing by bootstrap:  57%|█████▋    | 57/100 [00:55<00:40,  1.07it/s]\u001B[A\n",
      "Classifiers testing by bootstrap:  58%|█████▊    | 58/100 [00:56<00:40,  1.05it/s]\u001B[A\n",
      "Classifiers testing by bootstrap:  59%|█████▉    | 59/100 [00:57<00:39,  1.04it/s]\u001B[A\n",
      "Classifiers testing by bootstrap:  60%|██████    | 60/100 [00:58<00:37,  1.06it/s]\u001B[A\n",
      "Classifiers testing by bootstrap:  61%|██████    | 61/100 [00:59<00:40,  1.04s/it]\u001B[A\n",
      "Classifiers testing by bootstrap:  62%|██████▏   | 62/100 [01:01<00:42,  1.13s/it]\u001B[A\n",
      "Classifiers testing by bootstrap:  63%|██████▎   | 63/100 [01:02<00:41,  1.13s/it]\u001B[A\n",
      "Classifiers testing by bootstrap:  64%|██████▍   | 64/100 [01:03<00:42,  1.18s/it]\u001B[A\n",
      "Classifiers testing by bootstrap:  65%|██████▌   | 65/100 [01:04<00:39,  1.12s/it]\u001B[A\n",
      "Classifiers testing by bootstrap:  66%|██████▌   | 66/100 [01:05<00:36,  1.09s/it]\u001B[A\n",
      "Classifiers testing by bootstrap:  67%|██████▋   | 67/100 [01:06<00:34,  1.05s/it]\u001B[A\n",
      "Classifiers testing by bootstrap:  68%|██████▊   | 68/100 [01:07<00:34,  1.07s/it]\u001B[A\n",
      "Classifiers testing by bootstrap:  69%|██████▉   | 69/100 [01:08<00:33,  1.08s/it]\u001B[A\n",
      "Classifiers testing by bootstrap:  70%|███████   | 70/100 [01:09<00:32,  1.09s/it]\u001B[A\n",
      "Classifiers testing by bootstrap:  71%|███████   | 71/100 [01:11<00:33,  1.15s/it]\u001B[A\n",
      "Classifiers testing by bootstrap:  72%|███████▏  | 72/100 [01:12<00:31,  1.12s/it]\u001B[A\n",
      "Classifiers testing by bootstrap:  73%|███████▎  | 73/100 [01:13<00:29,  1.11s/it]\u001B[A\n",
      "Classifiers testing by bootstrap:  74%|███████▍  | 74/100 [01:14<00:28,  1.11s/it]\u001B[A\n",
      "Classifiers testing by bootstrap:  75%|███████▌  | 75/100 [01:15<00:26,  1.06s/it]\u001B[A\n",
      "Classifiers testing by bootstrap:  76%|███████▌  | 76/100 [01:16<00:24,  1.00s/it]\u001B[A\n",
      "Classifiers testing by bootstrap:  77%|███████▋  | 77/100 [01:17<00:22,  1.04it/s]\u001B[A\n",
      "Classifiers testing by bootstrap:  78%|███████▊  | 78/100 [01:18<00:21,  1.04it/s]\u001B[A\n",
      "Classifiers testing by bootstrap:  79%|███████▉  | 79/100 [01:19<00:20,  1.03it/s]\u001B[A\n",
      "Classifiers testing by bootstrap:  80%|████████  | 80/100 [01:20<00:20,  1.01s/it]\u001B[A\n",
      "Classifiers testing by bootstrap:  81%|████████  | 81/100 [01:21<00:19,  1.01s/it]\u001B[A\n",
      "Classifiers testing by bootstrap:  82%|████████▏ | 82/100 [01:22<00:17,  1.00it/s]\u001B[A\n",
      "Classifiers testing by bootstrap:  83%|████████▎ | 83/100 [01:23<00:16,  1.02it/s]\u001B[A\n",
      "Classifiers testing by bootstrap:  84%|████████▍ | 84/100 [01:24<00:15,  1.02it/s]\u001B[A\n",
      "Classifiers testing by bootstrap:  85%|████████▌ | 85/100 [01:25<00:14,  1.01it/s]\u001B[A\n",
      "Classifiers testing by bootstrap:  86%|████████▌ | 86/100 [01:26<00:14,  1.02s/it]\u001B[A\n",
      "Classifiers testing by bootstrap:  87%|████████▋ | 87/100 [01:27<00:12,  1.00it/s]\u001B[A\n",
      "Classifiers testing by bootstrap:  88%|████████▊ | 88/100 [01:28<00:11,  1.01it/s]\u001B[A\n",
      "Classifiers testing by bootstrap:  89%|████████▉ | 89/100 [01:29<00:10,  1.05it/s]\u001B[A\n",
      "Classifiers testing by bootstrap:  90%|█████████ | 90/100 [01:30<00:09,  1.02it/s]\u001B[A\n",
      "Classifiers testing by bootstrap:  91%|█████████ | 91/100 [01:31<00:09,  1.00s/it]\u001B[A\n",
      "Classifiers testing by bootstrap:  92%|█████████▏| 92/100 [01:32<00:07,  1.00it/s]\u001B[A\n",
      "Classifiers testing by bootstrap:  93%|█████████▎| 93/100 [01:32<00:06,  1.04it/s]\u001B[A\n",
      "Classifiers testing by bootstrap:  94%|█████████▍| 94/100 [01:33<00:05,  1.07it/s]\u001B[A\n",
      "Classifiers testing by bootstrap:  95%|█████████▌| 95/100 [01:34<00:04,  1.08it/s]\u001B[A\n",
      "Classifiers testing by bootstrap:  96%|█████████▌| 96/100 [01:35<00:03,  1.06it/s]\u001B[A\n",
      "Classifiers testing by bootstrap:  97%|█████████▋| 97/100 [01:36<00:02,  1.08it/s]\u001B[A\n",
      "Classifiers testing by bootstrap:  98%|█████████▊| 98/100 [01:37<00:01,  1.04it/s]\u001B[A\n",
      "Classifiers testing by bootstrap:  99%|█████████▉| 99/100 [01:38<00:00,  1.07it/s]\u001B[A\n",
      "Classifiers testing by bootstrap: 100%|██████████| 100/100 [01:39<00:00,  1.00it/s]\u001B[A\n",
      "2023-01-24 14:06:37 abstract_overall_variance_analyzer.py INFO    : Successfully tested classifiers by bootstrap\n"
     ]
    },
    {
     "name": "stdout",
     "output_type": "stream",
     "text": [
      "\n",
      "\n"
     ]
    },
    {
     "name": "stderr",
     "output_type": "stream",
     "text": [
      "2023-01-24 14:06:39 abstract_overall_variance_analyzer.py INFO    : Successfully computed predict proba metrics\n"
     ]
    },
    {
     "name": "stdout",
     "output_type": "stream",
     "text": [
      "\n",
      "\n",
      "##############################  Stability metrics  ##############################\n",
      "General Ensemble Accuracy: 0.6686\n",
      "Mean: 0.5239\n",
      "Std: 0.0386\n",
      "IQR: 0.0511\n",
      "Entropy: 0.0\n",
      "Jitter: 0.0541\n",
      "Per sample accuracy: 0.6659\n",
      "Label stability: 0.9327\n",
      "\n",
      "\n"
     ]
    },
    {
     "name": "stderr",
     "output_type": "stream",
     "text": [
      "Analyze models in one run: 100%|██████████| 2/2 [01:59<00:00, 59.68s/it]"
     ]
    },
    {
     "name": "stdout",
     "output_type": "stream",
     "text": [
      "\n",
      "\n",
      "\n",
      "\n"
     ]
    },
    {
     "name": "stderr",
     "output_type": "stream",
     "text": [
      "\n"
     ]
    }
   ],
   "source": [
    "multiple_runs_metrics_dct = compute_metrics_multiple_runs(dataset, config, experiment_models_config, SAVE_RESULTS_DIR_PATH, debug_mode=False)"
   ]
  },
  {
   "cell_type": "code",
   "execution_count": 30,
   "id": "197eadaa",
   "metadata": {},
   "outputs": [],
   "source": []
  }
 ],
 "metadata": {
  "kernelspec": {
   "display_name": "Python 3 (ipykernel)",
   "language": "python",
   "name": "python3"
  },
  "language_info": {
   "codemirror_mode": {
    "name": "ipython",
    "version": 3
   },
   "file_extension": ".py",
   "mimetype": "text/x-python",
   "name": "python",
   "nbconvert_exporter": "python",
   "pygments_lexer": "ipython3",
   "version": "3.8.10"
  }
 },
 "nbformat": 4,
 "nbformat_minor": 5
}
