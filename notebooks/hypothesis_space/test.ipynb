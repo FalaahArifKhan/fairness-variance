{
 "cells": [
  {
   "cell_type": "code",
   "execution_count": 45,
   "outputs": [
    {
     "name": "stdout",
     "output_type": "stream",
     "text": [
      "The autoreload extension is already loaded. To reload it, use:\n",
      "  %reload_ext autoreload\n"
     ]
    }
   ],
   "source": [
    "%matplotlib inline\n",
    "%load_ext autoreload\n",
    "%autoreload 2"
   ],
   "metadata": {
    "collapsed": false
   }
  },
  {
   "cell_type": "code",
   "execution_count": 46,
   "metadata": {
    "collapsed": true
   },
   "outputs": [],
   "source": [
    "import os\n",
    "import warnings\n",
    "warnings.filterwarnings('ignore')\n",
    "os.environ[\"PYTHONWARNINGS\"] = \"ignore\""
   ]
  },
  {
   "cell_type": "code",
   "execution_count": 47,
   "outputs": [
    {
     "name": "stdout",
     "output_type": "stream",
     "text": [
      "Current location:  /home/denys_herasymuk/UCU/4course_2term/Bachelor_Thesis/Code/fairness-variance\n"
     ]
    }
   ],
   "source": [
    "cur_folder_name = os.getcwd().split('/')[-1]\n",
    "if cur_folder_name != \"fairness-variance\":\n",
    "    os.chdir(\"../..\")\n",
    "\n",
    "print('Current location: ', os.getcwd())"
   ],
   "metadata": {
    "collapsed": false
   }
  },
  {
   "cell_type": "code",
   "execution_count": 48,
   "outputs": [
    {
     "data": {
      "text/plain": "   AGEP  COW  SCHL  MAR  OCCP  POBP  RELP  WKHP  SEX  RAC1P\n0    51    1    13    5  6260    13    16   0.0    1      2\n1    56    0    16    3     0    17    16   0.0    2      1\n2    23    1    20    5  4760    13    17  20.0    2      2\n3    43    1    17    1  7340    13    16   0.0    1      2\n4    20    1    19    5  4760    13    16  20.0    2      1",
      "text/html": "<div>\n<style scoped>\n    .dataframe tbody tr th:only-of-type {\n        vertical-align: middle;\n    }\n\n    .dataframe tbody tr th {\n        vertical-align: top;\n    }\n\n    .dataframe thead th {\n        text-align: right;\n    }\n</style>\n<table border=\"1\" class=\"dataframe\">\n  <thead>\n    <tr style=\"text-align: right;\">\n      <th></th>\n      <th>AGEP</th>\n      <th>COW</th>\n      <th>SCHL</th>\n      <th>MAR</th>\n      <th>OCCP</th>\n      <th>POBP</th>\n      <th>RELP</th>\n      <th>WKHP</th>\n      <th>SEX</th>\n      <th>RAC1P</th>\n    </tr>\n  </thead>\n  <tbody>\n    <tr>\n      <th>0</th>\n      <td>51</td>\n      <td>1</td>\n      <td>13</td>\n      <td>5</td>\n      <td>6260</td>\n      <td>13</td>\n      <td>16</td>\n      <td>0.0</td>\n      <td>1</td>\n      <td>2</td>\n    </tr>\n    <tr>\n      <th>1</th>\n      <td>56</td>\n      <td>0</td>\n      <td>16</td>\n      <td>3</td>\n      <td>0</td>\n      <td>17</td>\n      <td>16</td>\n      <td>0.0</td>\n      <td>2</td>\n      <td>1</td>\n    </tr>\n    <tr>\n      <th>2</th>\n      <td>23</td>\n      <td>1</td>\n      <td>20</td>\n      <td>5</td>\n      <td>4760</td>\n      <td>13</td>\n      <td>17</td>\n      <td>20.0</td>\n      <td>2</td>\n      <td>2</td>\n    </tr>\n    <tr>\n      <th>3</th>\n      <td>43</td>\n      <td>1</td>\n      <td>17</td>\n      <td>1</td>\n      <td>7340</td>\n      <td>13</td>\n      <td>16</td>\n      <td>0.0</td>\n      <td>1</td>\n      <td>2</td>\n    </tr>\n    <tr>\n      <th>4</th>\n      <td>20</td>\n      <td>1</td>\n      <td>19</td>\n      <td>5</td>\n      <td>4760</td>\n      <td>13</td>\n      <td>16</td>\n      <td>20.0</td>\n      <td>2</td>\n      <td>1</td>\n    </tr>\n  </tbody>\n</table>\n</div>"
     },
     "execution_count": 48,
     "metadata": {},
     "output_type": "execute_result"
    }
   ],
   "source": [
    "from source.custom_classes.data_loaders import ACSDataset_from_demodq\n",
    "\n",
    "dataset = ACSDataset_from_demodq(state=['GA'], year=2018, with_nulls=False)\n",
    "dataset.X_data.head()"
   ],
   "metadata": {
    "collapsed": false
   }
  },
  {
   "cell_type": "code",
   "execution_count": 49,
   "outputs": [
    {
     "data": {
      "text/plain": "0    0\n1    0\n2    0\n3    0\n4    0\nName: PINCP, dtype: int64"
     },
     "execution_count": 49,
     "metadata": {},
     "output_type": "execute_result"
    }
   ],
   "source": [
    "dataset.y_data.head()"
   ],
   "metadata": {
    "collapsed": false
   }
  },
  {
   "cell_type": "code",
   "execution_count": 50,
   "outputs": [
    {
     "data": {
      "text/plain": "  RT       SERIALNO  DIVISION  SPORDER  PUMA  REGION  ST   ADJINC  PWGTP  \\\n0  P  2018GQ0000025         5        1  3700       3  13  1013097     68   \n1  P  2018GQ0000035         5        1  1900       3  13  1013097     69   \n2  P  2018GQ0000043         5        1  4000       3  13  1013097     89   \n3  P  2018GQ0000061         5        1   500       3  13  1013097     10   \n4  P  2018GQ0000076         5        1  4300       3  13  1013097     11   \n\n   AGEP  ...  PWGTP71  PWGTP72  PWGTP73  PWGTP74  PWGTP75  PWGTP76  PWGTP77  \\\n0    51  ...      124       69       65       63      117       66       14   \n1    56  ...       69       69        7        5      119       74       78   \n2    23  ...      166       88       13       13       15       91      163   \n3    43  ...       19       20        3        9       20        3        3   \n4    20  ...       13        2       14        2        1        2        2   \n\n   PWGTP78  PWGTP79  PWGTP80  \n0       68      114      121  \n1       72      127        6  \n2       13       89       98  \n3       10       10       10  \n4       13       14       12  \n\n[5 rows x 286 columns]",
      "text/html": "<div>\n<style scoped>\n    .dataframe tbody tr th:only-of-type {\n        vertical-align: middle;\n    }\n\n    .dataframe tbody tr th {\n        vertical-align: top;\n    }\n\n    .dataframe thead th {\n        text-align: right;\n    }\n</style>\n<table border=\"1\" class=\"dataframe\">\n  <thead>\n    <tr style=\"text-align: right;\">\n      <th></th>\n      <th>RT</th>\n      <th>SERIALNO</th>\n      <th>DIVISION</th>\n      <th>SPORDER</th>\n      <th>PUMA</th>\n      <th>REGION</th>\n      <th>ST</th>\n      <th>ADJINC</th>\n      <th>PWGTP</th>\n      <th>AGEP</th>\n      <th>...</th>\n      <th>PWGTP71</th>\n      <th>PWGTP72</th>\n      <th>PWGTP73</th>\n      <th>PWGTP74</th>\n      <th>PWGTP75</th>\n      <th>PWGTP76</th>\n      <th>PWGTP77</th>\n      <th>PWGTP78</th>\n      <th>PWGTP79</th>\n      <th>PWGTP80</th>\n    </tr>\n  </thead>\n  <tbody>\n    <tr>\n      <th>0</th>\n      <td>P</td>\n      <td>2018GQ0000025</td>\n      <td>5</td>\n      <td>1</td>\n      <td>3700</td>\n      <td>3</td>\n      <td>13</td>\n      <td>1013097</td>\n      <td>68</td>\n      <td>51</td>\n      <td>...</td>\n      <td>124</td>\n      <td>69</td>\n      <td>65</td>\n      <td>63</td>\n      <td>117</td>\n      <td>66</td>\n      <td>14</td>\n      <td>68</td>\n      <td>114</td>\n      <td>121</td>\n    </tr>\n    <tr>\n      <th>1</th>\n      <td>P</td>\n      <td>2018GQ0000035</td>\n      <td>5</td>\n      <td>1</td>\n      <td>1900</td>\n      <td>3</td>\n      <td>13</td>\n      <td>1013097</td>\n      <td>69</td>\n      <td>56</td>\n      <td>...</td>\n      <td>69</td>\n      <td>69</td>\n      <td>7</td>\n      <td>5</td>\n      <td>119</td>\n      <td>74</td>\n      <td>78</td>\n      <td>72</td>\n      <td>127</td>\n      <td>6</td>\n    </tr>\n    <tr>\n      <th>2</th>\n      <td>P</td>\n      <td>2018GQ0000043</td>\n      <td>5</td>\n      <td>1</td>\n      <td>4000</td>\n      <td>3</td>\n      <td>13</td>\n      <td>1013097</td>\n      <td>89</td>\n      <td>23</td>\n      <td>...</td>\n      <td>166</td>\n      <td>88</td>\n      <td>13</td>\n      <td>13</td>\n      <td>15</td>\n      <td>91</td>\n      <td>163</td>\n      <td>13</td>\n      <td>89</td>\n      <td>98</td>\n    </tr>\n    <tr>\n      <th>3</th>\n      <td>P</td>\n      <td>2018GQ0000061</td>\n      <td>5</td>\n      <td>1</td>\n      <td>500</td>\n      <td>3</td>\n      <td>13</td>\n      <td>1013097</td>\n      <td>10</td>\n      <td>43</td>\n      <td>...</td>\n      <td>19</td>\n      <td>20</td>\n      <td>3</td>\n      <td>9</td>\n      <td>20</td>\n      <td>3</td>\n      <td>3</td>\n      <td>10</td>\n      <td>10</td>\n      <td>10</td>\n    </tr>\n    <tr>\n      <th>4</th>\n      <td>P</td>\n      <td>2018GQ0000076</td>\n      <td>5</td>\n      <td>1</td>\n      <td>4300</td>\n      <td>3</td>\n      <td>13</td>\n      <td>1013097</td>\n      <td>11</td>\n      <td>20</td>\n      <td>...</td>\n      <td>13</td>\n      <td>2</td>\n      <td>14</td>\n      <td>2</td>\n      <td>1</td>\n      <td>2</td>\n      <td>2</td>\n      <td>13</td>\n      <td>14</td>\n      <td>12</td>\n    </tr>\n  </tbody>\n</table>\n<p>5 rows × 286 columns</p>\n</div>"
     },
     "execution_count": 50,
     "metadata": {},
     "output_type": "execute_result"
    }
   ],
   "source": [
    "dataset.dataset.head()"
   ],
   "metadata": {
    "collapsed": false
   }
  },
  {
   "cell_type": "code",
   "execution_count": 51,
   "outputs": [
    {
     "name": "stdout",
     "output_type": "stream",
     "text": [
      "dataset.target --  PINCP\n",
      "dataset.features --  ['AGEP', 'COW', 'SCHL', 'MAR', 'OCCP', 'POBP', 'RELP', 'WKHP', 'SEX', 'RAC1P']\n",
      "dataset.numerical_columns --  ['AGEP', 'WKHP']\n",
      "dataset.categorical_columns --  ['COW', 'SCHL', 'MAR', 'OCCP', 'POBP', 'RELP', 'SEX', 'RAC1P']\n",
      "dataset.columns_with_nulls --  []\n"
     ]
    }
   ],
   "source": [
    "print('dataset.target -- ', dataset.target)\n",
    "print('dataset.features -- ', dataset.features)\n",
    "print('dataset.numerical_columns -- ', dataset.numerical_columns)\n",
    "print('dataset.categorical_columns -- ', dataset.categorical_columns)\n",
    "print('dataset.columns_with_nulls -- ', dataset.columns_with_nulls)"
   ],
   "metadata": {
    "collapsed": false
   }
  },
  {
   "cell_type": "code",
   "execution_count": null,
   "outputs": [],
   "source": [],
   "metadata": {
    "collapsed": false
   }
  }
 ],
 "metadata": {
  "kernelspec": {
   "display_name": "Python 3",
   "language": "python",
   "name": "python3"
  },
  "language_info": {
   "codemirror_mode": {
    "name": "ipython",
    "version": 2
   },
   "file_extension": ".py",
   "mimetype": "text/x-python",
   "name": "python",
   "nbconvert_exporter": "python",
   "pygments_lexer": "ipython2",
   "version": "2.7.6"
  }
 },
 "nbformat": 4,
 "nbformat_minor": 0
}
