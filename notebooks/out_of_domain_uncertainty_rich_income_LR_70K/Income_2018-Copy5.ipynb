{
 "cells": [
  {
   "cell_type": "code",
   "execution_count": 1,
   "id": "72a02add",
   "metadata": {
    "ExecuteTime": {
     "end_time": "2023-10-21T14:37:42.270469Z",
     "start_time": "2023-10-21T14:37:42.227893Z"
    }
   },
   "outputs": [],
   "source": [
    "# !pip install -r ./requirements.txt"
   ]
  },
  {
   "cell_type": "code",
   "execution_count": 2,
   "id": "645d4941",
   "metadata": {
    "ExecuteTime": {
     "end_time": "2023-10-21T14:37:42.270732Z",
     "start_time": "2023-10-21T14:37:42.229229Z"
    }
   },
   "outputs": [],
   "source": [
    "# !pip uninstall virny -y"
   ]
  },
  {
   "cell_type": "code",
   "execution_count": 3,
   "id": "16e9f94a",
   "metadata": {
    "ExecuteTime": {
     "end_time": "2023-10-21T14:37:42.270792Z",
     "start_time": "2023-10-21T14:37:42.231308Z"
    }
   },
   "outputs": [],
   "source": [
    "# Install using an HTTP link\n",
    "# !pip install git+https://github.com/DataResponsibly/Virny.git@development\n",
    "\n",
    "# Install using an SSH link\n",
    "# !pip install git+ssh://git@github.com/DataResponsibly/Virny.git@development"
   ]
  },
  {
   "cell_type": "code",
   "execution_count": 4,
   "id": "0a5a6095",
   "metadata": {
    "ExecuteTime": {
     "end_time": "2023-10-21T14:37:42.270840Z",
     "start_time": "2023-10-21T14:37:42.233512Z"
    }
   },
   "outputs": [],
   "source": [
    "# !pip install aif360"
   ]
  },
  {
   "cell_type": "code",
   "execution_count": 5,
   "id": "7aeab0ac",
   "metadata": {
    "ExecuteTime": {
     "end_time": "2023-10-21T14:37:42.270874Z",
     "start_time": "2023-10-21T14:37:42.236557Z"
    }
   },
   "outputs": [],
   "source": [
    "# !pip install BlackBoxAuditing==0.1.54"
   ]
  },
  {
   "cell_type": "code",
   "execution_count": 1,
   "id": "c7afffaa",
   "metadata": {
    "ExecuteTime": {
     "end_time": "2023-10-25T12:25:57.069492Z",
     "start_time": "2023-10-25T12:25:56.682758Z"
    }
   },
   "outputs": [],
   "source": [
    "%matplotlib inline\n",
    "%load_ext autoreload\n",
    "%autoreload 2"
   ]
  },
  {
   "cell_type": "code",
   "execution_count": 2,
   "id": "f40aabb4",
   "metadata": {
    "ExecuteTime": {
     "end_time": "2023-10-25T12:25:57.078509Z",
     "start_time": "2023-10-25T12:25:57.070381Z"
    }
   },
   "outputs": [],
   "source": [
    "import os\n",
    "import warnings\n",
    "warnings.filterwarnings('ignore')\n",
    "os.environ[\"PYTHONWARNINGS\"] = \"ignore\""
   ]
  },
  {
   "cell_type": "code",
   "execution_count": 3,
   "id": "82303ab6",
   "metadata": {
    "ExecuteTime": {
     "end_time": "2023-10-25T12:25:57.090848Z",
     "start_time": "2023-10-25T12:25:57.079401Z"
    }
   },
   "outputs": [
    {
     "name": "stdout",
     "output_type": "stream",
     "text": [
      "Current location:  /home/dh3553/projects/fairness-variance\n"
     ]
    }
   ],
   "source": [
    "cur_folder_name = os.getcwd().split('/')[-1]\n",
    "if cur_folder_name != \"fairness-variance\":\n",
    "    os.chdir(\"../..\")\n",
    "\n",
    "print('Current location: ', os.getcwd())"
   ]
  },
  {
   "cell_type": "markdown",
   "id": "18654e4a",
   "metadata": {},
   "source": [
    "## Import dependencies"
   ]
  },
  {
   "cell_type": "code",
   "execution_count": 4,
   "id": "2251fa9a",
   "metadata": {
    "ExecuteTime": {
     "end_time": "2023-10-25T12:25:59.494619Z",
     "start_time": "2023-10-25T12:25:57.922940Z"
    }
   },
   "outputs": [
    {
     "name": "stderr",
     "output_type": "stream",
     "text": [
      "WARNING:root:No module named 'tempeh': LawSchoolGPADataset will be unavailable. To install, run:\n",
      "pip install 'aif360[LawSchoolGPA]'\n",
      "WARNING:root:No module named 'tensorflow': AdversarialDebiasing will be unavailable. To install, run:\n",
      "pip install 'aif360[AdversarialDebiasing]'\n",
      "WARNING:root:No module named 'tensorflow': AdversarialDebiasing will be unavailable. To install, run:\n",
      "pip install 'aif360[AdversarialDebiasing]'\n"
     ]
    }
   ],
   "source": [
    "import os\n",
    "import copy\n",
    "\n",
    "from virny.utils.custom_initializers import create_config_obj\n",
    "from virny.datasets import ACSIncomeDataset\n",
    "\n",
    "from configs.constants import TEST_SET_FRACTION, EXPERIMENT_SEEDS\n",
    "from configs.models_config_for_tuning import get_folktables_employment_models_params_for_tuning\n",
    "\n",
    "from source.experiment_interface import run_exp_iter_with_disparate_impact_and_mult_sets"
   ]
  },
  {
   "cell_type": "markdown",
   "id": "e13cf511",
   "metadata": {},
   "source": [
    "## Define Input Variables"
   ]
  },
  {
   "cell_type": "code",
   "execution_count": 5,
   "id": "67fd1350",
   "metadata": {
    "ExecuteTime": {
     "end_time": "2023-10-25T12:25:59.520955Z",
     "start_time": "2023-10-25T12:25:59.497496Z"
    }
   },
   "outputs": [],
   "source": [
    "# ROOT_DIR = os.path.join(os.getcwd(), \"..\", \"..\")\n",
    "ROOT_DIR = os.getcwd()\n",
    "EXPERIMENT_NAME = 'out_of_domain_uncertainty_rich_income_LR_70K'\n",
    "DB_COLLECTION_NAME = 'out_of_domain_uncertainty'\n",
    "SAVE_RESULTS_DIR_PATH = os.path.join(ROOT_DIR, 'results', EXPERIMENT_NAME)\n",
    "FAIR_INTERVENTION_PARAMS_LST = [0.0]\n",
    "TRAIN_SET_SUBSAMPLE_SIZE = 70_000\n",
    "\n",
    "config_yaml_path = os.path.join(ROOT_DIR, 'notebooks', EXPERIMENT_NAME, 'rich_income_2018_config.yaml')\n",
    "metrics_computation_config = create_config_obj(config_yaml_path=config_yaml_path)"
   ]
  },
  {
   "cell_type": "markdown",
   "id": "4b737b2c",
   "metadata": {},
   "source": [
    "## Define a db writer and custom fields to insert into your database"
   ]
  },
  {
   "cell_type": "code",
   "execution_count": 6,
   "id": "98ad99c3",
   "metadata": {
    "ExecuteTime": {
     "end_time": "2023-10-25T12:26:00.348893Z",
     "start_time": "2023-10-25T12:26:00.315590Z"
    }
   },
   "outputs": [
    {
     "data": {
      "text/plain": [
       "'fairness_variance'"
      ]
     },
     "execution_count": 6,
     "metadata": {},
     "output_type": "execute_result"
    }
   ],
   "source": [
    "import os\n",
    "from dotenv import load_dotenv\n",
    "\n",
    "load_dotenv('./configs/secrets.env')\n",
    "os.getenv(\"DB_NAME\")"
   ]
  },
  {
   "cell_type": "code",
   "execution_count": 7,
   "id": "c5b5daed",
   "metadata": {
    "ExecuteTime": {
     "end_time": "2023-10-25T12:26:01.513908Z",
     "start_time": "2023-10-25T12:26:01.002614Z"
    }
   },
   "outputs": [],
   "source": [
    "from source.utils.db_functions import connect_to_mongodb\n",
    "\n",
    "client, collection_obj, db_writer_func = connect_to_mongodb(DB_COLLECTION_NAME)"
   ]
  },
  {
   "cell_type": "code",
   "execution_count": 8,
   "id": "da114d6d",
   "metadata": {
    "ExecuteTime": {
     "end_time": "2023-10-25T12:26:23.962524Z",
     "start_time": "2023-10-25T12:26:23.934318Z"
    }
   },
   "outputs": [
    {
     "name": "stdout",
     "output_type": "stream",
     "text": [
      "Current session uuid:  20a516c0-8105-40e7-aae1-7ee97a2dea68\n"
     ]
    }
   ],
   "source": [
    "import uuid\n",
    "\n",
    "custom_table_fields_dct = {\n",
    "#     'session_uuid': str(uuid.uuid4()),\n",
    "    'session_uuid': '20a516c0-8105-40e7-aae1-7ee97a2dea68',\n",
    "}\n",
    "print('Current session uuid: ', custom_table_fields_dct['session_uuid'])"
   ]
  },
  {
   "cell_type": "markdown",
   "id": "ec4f60c7",
   "metadata": {},
   "source": [
    "## Initialize custom objects"
   ]
  },
  {
   "cell_type": "code",
   "execution_count": 9,
   "id": "20984972",
   "metadata": {
    "ExecuteTime": {
     "end_time": "2023-10-25T12:26:29.420462Z",
     "start_time": "2023-10-25T12:26:25.670934Z"
    }
   },
   "outputs": [
    {
     "data": {
      "text/html": [
       "<div>\n",
       "<style scoped>\n",
       "    .dataframe tbody tr th:only-of-type {\n",
       "        vertical-align: middle;\n",
       "    }\n",
       "\n",
       "    .dataframe tbody tr th {\n",
       "        vertical-align: top;\n",
       "    }\n",
       "\n",
       "    .dataframe thead th {\n",
       "        text-align: right;\n",
       "    }\n",
       "</style>\n",
       "<table border=\"1\" class=\"dataframe\">\n",
       "  <thead>\n",
       "    <tr style=\"text-align: right;\">\n",
       "      <th></th>\n",
       "      <th>SCHL</th>\n",
       "      <th>COW</th>\n",
       "      <th>MAR</th>\n",
       "      <th>OCCP</th>\n",
       "      <th>POBP</th>\n",
       "      <th>RELP</th>\n",
       "      <th>SEX</th>\n",
       "      <th>RAC1P</th>\n",
       "      <th>AGEP</th>\n",
       "      <th>WKHP</th>\n",
       "    </tr>\n",
       "  </thead>\n",
       "  <tbody>\n",
       "    <tr>\n",
       "      <th>0</th>\n",
       "      <td>20</td>\n",
       "      <td>1</td>\n",
       "      <td>1</td>\n",
       "      <td>4000</td>\n",
       "      <td>25</td>\n",
       "      <td>1</td>\n",
       "      <td>1</td>\n",
       "      <td>1</td>\n",
       "      <td>44</td>\n",
       "      <td>60.0</td>\n",
       "    </tr>\n",
       "    <tr>\n",
       "      <th>1</th>\n",
       "      <td>15</td>\n",
       "      <td>1</td>\n",
       "      <td>4</td>\n",
       "      <td>4030</td>\n",
       "      <td>329</td>\n",
       "      <td>0</td>\n",
       "      <td>2</td>\n",
       "      <td>8</td>\n",
       "      <td>37</td>\n",
       "      <td>40.0</td>\n",
       "    </tr>\n",
       "    <tr>\n",
       "      <th>2</th>\n",
       "      <td>22</td>\n",
       "      <td>1</td>\n",
       "      <td>1</td>\n",
       "      <td>735</td>\n",
       "      <td>128</td>\n",
       "      <td>0</td>\n",
       "      <td>1</td>\n",
       "      <td>1</td>\n",
       "      <td>64</td>\n",
       "      <td>45.0</td>\n",
       "    </tr>\n",
       "    <tr>\n",
       "      <th>3</th>\n",
       "      <td>21</td>\n",
       "      <td>1</td>\n",
       "      <td>1</td>\n",
       "      <td>4810</td>\n",
       "      <td>51</td>\n",
       "      <td>0</td>\n",
       "      <td>2</td>\n",
       "      <td>1</td>\n",
       "      <td>61</td>\n",
       "      <td>23.0</td>\n",
       "    </tr>\n",
       "    <tr>\n",
       "      <th>4</th>\n",
       "      <td>23</td>\n",
       "      <td>1</td>\n",
       "      <td>1</td>\n",
       "      <td>1760</td>\n",
       "      <td>202</td>\n",
       "      <td>1</td>\n",
       "      <td>1</td>\n",
       "      <td>6</td>\n",
       "      <td>46</td>\n",
       "      <td>45.0</td>\n",
       "    </tr>\n",
       "  </tbody>\n",
       "</table>\n",
       "</div>"
      ],
      "text/plain": [
       "  SCHL COW MAR  OCCP POBP RELP SEX RAC1P  AGEP  WKHP\n",
       "0   20   1   1  4000   25    1   1     1    44  60.0\n",
       "1   15   1   4  4030  329    0   2     8    37  40.0\n",
       "2   22   1   1   735  128    0   1     1    64  45.0\n",
       "3   21   1   1  4810   51    0   2     1    61  23.0\n",
       "4   23   1   1  1760  202    1   1     6    46  45.0"
      ]
     },
     "execution_count": 9,
     "metadata": {},
     "output_type": "execute_result"
    }
   ],
   "source": [
    "data_loader_rich = ACSIncomeDataset(state=['MD', 'NJ', 'MA'], year=2018, with_nulls=False,\n",
    "                                    subsample_size=100_000, subsample_seed=42)\n",
    "data_loader_rich.X_data.head()"
   ]
  },
  {
   "cell_type": "code",
   "execution_count": 10,
   "id": "1eb71906",
   "metadata": {
    "ExecuteTime": {
     "end_time": "2023-10-25T12:26:29.487761Z",
     "start_time": "2023-10-25T12:26:29.422040Z"
    }
   },
   "outputs": [
    {
     "data": {
      "text/plain": [
       "(100000, 10)"
      ]
     },
     "execution_count": 10,
     "metadata": {},
     "output_type": "execute_result"
    }
   ],
   "source": [
    "data_loader_rich.X_data.shape"
   ]
  },
  {
   "cell_type": "code",
   "execution_count": 11,
   "id": "cd82d9e7",
   "metadata": {
    "ExecuteTime": {
     "end_time": "2023-10-25T12:26:33.385057Z",
     "start_time": "2023-10-25T12:26:29.460488Z"
    }
   },
   "outputs": [
    {
     "data": {
      "text/html": [
       "<div>\n",
       "<style scoped>\n",
       "    .dataframe tbody tr th:only-of-type {\n",
       "        vertical-align: middle;\n",
       "    }\n",
       "\n",
       "    .dataframe tbody tr th {\n",
       "        vertical-align: top;\n",
       "    }\n",
       "\n",
       "    .dataframe thead th {\n",
       "        text-align: right;\n",
       "    }\n",
       "</style>\n",
       "<table border=\"1\" class=\"dataframe\">\n",
       "  <thead>\n",
       "    <tr style=\"text-align: right;\">\n",
       "      <th></th>\n",
       "      <th>SCHL</th>\n",
       "      <th>COW</th>\n",
       "      <th>MAR</th>\n",
       "      <th>OCCP</th>\n",
       "      <th>POBP</th>\n",
       "      <th>RELP</th>\n",
       "      <th>SEX</th>\n",
       "      <th>RAC1P</th>\n",
       "      <th>AGEP</th>\n",
       "      <th>WKHP</th>\n",
       "    </tr>\n",
       "  </thead>\n",
       "  <tbody>\n",
       "    <tr>\n",
       "      <th>0</th>\n",
       "      <td>16</td>\n",
       "      <td>1</td>\n",
       "      <td>3</td>\n",
       "      <td>4230</td>\n",
       "      <td>1</td>\n",
       "      <td>0</td>\n",
       "      <td>2</td>\n",
       "      <td>2</td>\n",
       "      <td>61</td>\n",
       "      <td>15.0</td>\n",
       "    </tr>\n",
       "    <tr>\n",
       "      <th>1</th>\n",
       "      <td>23</td>\n",
       "      <td>5</td>\n",
       "      <td>1</td>\n",
       "      <td>3090</td>\n",
       "      <td>134</td>\n",
       "      <td>0</td>\n",
       "      <td>1</td>\n",
       "      <td>1</td>\n",
       "      <td>74</td>\n",
       "      <td>50.0</td>\n",
       "    </tr>\n",
       "    <tr>\n",
       "      <th>2</th>\n",
       "      <td>19</td>\n",
       "      <td>1</td>\n",
       "      <td>3</td>\n",
       "      <td>9645</td>\n",
       "      <td>26</td>\n",
       "      <td>2</td>\n",
       "      <td>1</td>\n",
       "      <td>2</td>\n",
       "      <td>59</td>\n",
       "      <td>40.0</td>\n",
       "    </tr>\n",
       "    <tr>\n",
       "      <th>3</th>\n",
       "      <td>14</td>\n",
       "      <td>2</td>\n",
       "      <td>5</td>\n",
       "      <td>4251</td>\n",
       "      <td>5</td>\n",
       "      <td>16</td>\n",
       "      <td>1</td>\n",
       "      <td>1</td>\n",
       "      <td>17</td>\n",
       "      <td>18.0</td>\n",
       "    </tr>\n",
       "    <tr>\n",
       "      <th>4</th>\n",
       "      <td>21</td>\n",
       "      <td>1</td>\n",
       "      <td>1</td>\n",
       "      <td>1021</td>\n",
       "      <td>217</td>\n",
       "      <td>1</td>\n",
       "      <td>1</td>\n",
       "      <td>6</td>\n",
       "      <td>33</td>\n",
       "      <td>45.0</td>\n",
       "    </tr>\n",
       "  </tbody>\n",
       "</table>\n",
       "</div>"
      ],
      "text/plain": [
       "  SCHL COW MAR  OCCP POBP RELP SEX RAC1P  AGEP  WKHP\n",
       "0   16   1   3  4230    1    0   2     2    61  15.0\n",
       "1   23   5   1  3090  134    0   1     1    74  50.0\n",
       "2   19   1   3  9645   26    2   1     2    59  40.0\n",
       "3   14   2   5  4251    5   16   1     1    17  18.0\n",
       "4   21   1   1  1021  217    1   1     6    33  45.0"
      ]
     },
     "execution_count": 11,
     "metadata": {},
     "output_type": "execute_result"
    }
   ],
   "source": [
    "data_loader_poor = ACSIncomeDataset(state=['WV', 'MS', 'AR', 'NM', 'LA', 'AL', 'KY'], year=2018, with_nulls=False,\n",
    "                                    subsample_size=100_000, subsample_seed=42)\n",
    "data_loader_poor.X_data.head()"
   ]
  },
  {
   "cell_type": "code",
   "execution_count": 12,
   "id": "3be4ff0f",
   "metadata": {
    "ExecuteTime": {
     "end_time": "2023-10-25T12:26:33.455677Z",
     "start_time": "2023-10-25T12:26:33.381698Z"
    }
   },
   "outputs": [
    {
     "data": {
      "text/plain": [
       "(100000, 10)"
      ]
     },
     "execution_count": 12,
     "metadata": {},
     "output_type": "execute_result"
    }
   ],
   "source": [
    "data_loader_poor.X_data.shape"
   ]
  },
  {
   "cell_type": "code",
   "execution_count": 13,
   "id": "b88442c0",
   "metadata": {
    "ExecuteTime": {
     "end_time": "2023-10-25T12:26:33.482843Z",
     "start_time": "2023-10-25T12:26:33.416918Z"
    }
   },
   "outputs": [],
   "source": [
    "extra_data_loaders = [data_loader_poor]"
   ]
  },
  {
   "cell_type": "markdown",
   "id": "67d042a1",
   "metadata": {},
   "source": [
    "## Run experiment iterations"
   ]
  },
  {
   "cell_type": "markdown",
   "id": "4d4d0fd3",
   "metadata": {},
   "source": [
    "### Experiment iteration 1"
   ]
  },
  {
   "cell_type": "code",
   "execution_count": 14,
   "id": "d7c2e07c",
   "metadata": {
    "ExecuteTime": {
     "end_time": "2023-10-25T12:26:33.490077Z",
     "start_time": "2023-10-25T12:26:33.447118Z"
    }
   },
   "outputs": [],
   "source": [
    "# tuned_params_filenames = ['tuning_results_Folktables_NY_2018_Employment_alpha_0.8_20230706__115508.csv']\n",
    "# tuned_params_df_paths = [os.path.join(ROOT_DIR, 'results', EXPERIMENT_NAME, tuned_params_filename)\n",
    "#                          for tuned_params_filename in tuned_params_filenames]"
   ]
  },
  {
   "cell_type": "code",
   "execution_count": 15,
   "id": "f3a5a7a1",
   "metadata": {
    "ExecuteTime": {
     "end_time": "2023-10-25T12:26:33.542401Z",
     "start_time": "2023-10-25T12:26:33.466114Z"
    }
   },
   "outputs": [],
   "source": [
    "# Configs for an experiment iteration\n",
    "exp_iter_num = 1\n",
    "experiment_seed = EXPERIMENT_SEEDS[exp_iter_num - 1]\n",
    "custom_table_fields_dct['experiment_iteration'] = f'Exp_iter_{exp_iter_num}'\n",
    "\n",
    "exp_iter_data_loader = copy.deepcopy(data_loader_rich)  # Add deepcopy to avoid data leakage\n",
    "exp_extra_data_loaders = copy.deepcopy(extra_data_loaders)  # Add deepcopy to avoid data leakage\n",
    "models_params_for_tuning = get_folktables_employment_models_params_for_tuning(experiment_seed)"
   ]
  },
  {
   "cell_type": "code",
   "execution_count": null,
   "id": "ac83d9dc",
   "metadata": {
    "ExecuteTime": {
     "end_time": "2023-10-25T12:29:42.911821Z",
     "start_time": "2023-10-25T12:26:33.531788Z"
    }
   },
   "outputs": [
    {
     "name": "stderr",
     "output_type": "stream",
     "text": [
      "2023-11-23 17:54:19 experiment_interface.py INFO    : Start an experiment iteration for the following custom params:\n",
      "INFO:root:Start an experiment iteration for the following custom params:\n"
     ]
    },
    {
     "name": "stdout",
     "output_type": "stream",
     "text": [
      "{'dataset_split_seed': 100,\n",
      " 'experiment_iteration': 'Exp_iter_1',\n",
      " 'fair_intervention_params_lst': '[0.0]',\n",
      " 'model_init_seed': 100,\n",
      " 'session_uuid': '20a516c0-8105-40e7-aae1-7ee97a2dea68'}\n",
      "\n",
      "\n"
     ]
    },
    {
     "name": "stderr",
     "output_type": "stream",
     "text": [
      "2023-11-23 17:54:19 experiment_interface.py INFO    : Start dataset preprocessing\n",
      "INFO:root:Start dataset preprocessing\n"
     ]
    },
    {
     "name": "stdout",
     "output_type": "stream",
     "text": [
      "Top indexes of X_train_val:  Int64Index([69976, 19372, 34404, 45923, 59143, 57651, 20972, 73179, 93151,\n",
      "              103, 96638, 24826, 89574, 45142, 27782, 47830, 40090, 15074,\n",
      "            40597, 87226],\n",
      "           dtype='int64')\n",
      "Top indexes of y_train_val:  Int64Index([69976, 19372, 34404, 45923, 59143, 57651, 20972, 73179, 93151,\n",
      "              103, 96638, 24826, 89574, 45142, 27782, 47830, 40090, 15074,\n",
      "            40597, 87226],\n",
      "           dtype='int64')\n",
      "\n",
      "\n",
      "\n",
      "In-domain full_df.shape --  (80000, 9)\n",
      "In-domain init_features_df.shape --  (80000, 10)\n",
      "In-domain number of rows in X_train_val --  70000\n",
      "In-domain number of rows in X_test --  10000\n"
     ]
    },
    {
     "name": "stderr",
     "output_type": "stream",
     "text": [
      "2023-11-23 17:54:21 experiment_interface.py INFO    : The dataset is preprocessed\n",
      "INFO:root:The dataset is preprocessed\n"
     ]
    },
    {
     "name": "stdout",
     "output_type": "stream",
     "text": [
      "Out-of-domain 1 init_features_df.shape --  (100000, 10)\n",
      "Out-of-domain 1 number of rows in X_train_val --  0\n",
      "Out-of-domain 1 number of rows in X_test --  10000\n"
     ]
    },
    {
     "data": {
      "application/vnd.jupyter.widget-view+json": {
       "model_id": "315094f8848941a586e69117175be254",
       "version_major": 2,
       "version_minor": 0
      },
      "text/plain": [
       "Multiple alphas:   0%|          | 0/1 [00:00<?, ?it/s]"
      ]
     },
     "metadata": {},
     "output_type": "display_data"
    },
    {
     "name": "stderr",
     "output_type": "stream",
     "text": [
      "2023-11-23 17:54:21 experiment_interface.py INFO    : Start fairness intervention\n",
      "INFO:root:Start fairness intervention\n"
     ]
    },
    {
     "name": "stdout",
     "output_type": "stream",
     "text": [
      "intervention_param:  0.0\n"
     ]
    },
    {
     "name": "stderr",
     "output_type": "stream",
     "text": [
      "2023-11-23 18:02:47 experiment_interface.py INFO    : Fairness intervention is completed\n",
      "INFO:root:Fairness intervention is completed\n"
     ]
    },
    {
     "name": "stdout",
     "output_type": "stream",
     "text": [
      "Number of rows in the in-domain X_test 10000\n",
      "Top indexes of an X_test in an in-domain base flow dataset:  Int64Index([22422, 25747, 13795, 68724, 38923, 43064, 86918, 71138, 82508,\n",
      "            89200, 55279,  7966, 83751, 37701,  2718, 65519, 77797,  8956,\n",
      "            33713, 34621],\n",
      "           dtype='int64')\n",
      "Top indexes of an y_test in an in-domain base flow dataset:  Int64Index([22422, 25747, 13795, 68724, 38923, 43064, 86918, 71138, 82508,\n",
      "            89200, 55279,  7966, 83751, 37701,  2718, 65519, 77797,  8956,\n",
      "            33713, 34621],\n",
      "           dtype='int64')\n"
     ]
    },
    {
     "data": {
      "text/html": [
       "<div>\n",
       "<style scoped>\n",
       "    .dataframe tbody tr th:only-of-type {\n",
       "        vertical-align: middle;\n",
       "    }\n",
       "\n",
       "    .dataframe tbody tr th {\n",
       "        vertical-align: top;\n",
       "    }\n",
       "\n",
       "    .dataframe thead th {\n",
       "        text-align: right;\n",
       "    }\n",
       "</style>\n",
       "<table border=\"1\" class=\"dataframe\">\n",
       "  <thead>\n",
       "    <tr style=\"text-align: right;\">\n",
       "      <th></th>\n",
       "      <th>cat__SCHL_1</th>\n",
       "      <th>cat__SCHL_10</th>\n",
       "      <th>cat__SCHL_11</th>\n",
       "      <th>cat__SCHL_12</th>\n",
       "      <th>cat__SCHL_13</th>\n",
       "      <th>cat__SCHL_14</th>\n",
       "      <th>cat__SCHL_15</th>\n",
       "      <th>cat__SCHL_16</th>\n",
       "      <th>cat__SCHL_17</th>\n",
       "      <th>cat__SCHL_18</th>\n",
       "      <th>...</th>\n",
       "      <th>cat__RELP_2</th>\n",
       "      <th>cat__RELP_3</th>\n",
       "      <th>cat__RELP_4</th>\n",
       "      <th>cat__RELP_5</th>\n",
       "      <th>cat__RELP_6</th>\n",
       "      <th>cat__RELP_7</th>\n",
       "      <th>cat__RELP_8</th>\n",
       "      <th>cat__RELP_9</th>\n",
       "      <th>num__AGEP</th>\n",
       "      <th>num__WKHP</th>\n",
       "    </tr>\n",
       "  </thead>\n",
       "  <tbody>\n",
       "    <tr>\n",
       "      <th>22422</th>\n",
       "      <td>1.0</td>\n",
       "      <td>0.0</td>\n",
       "      <td>0.0</td>\n",
       "      <td>0.0</td>\n",
       "      <td>0.0</td>\n",
       "      <td>0.0</td>\n",
       "      <td>0.0</td>\n",
       "      <td>0.0</td>\n",
       "      <td>0.0</td>\n",
       "      <td>0.0</td>\n",
       "      <td>...</td>\n",
       "      <td>0.0</td>\n",
       "      <td>0.0</td>\n",
       "      <td>0.0</td>\n",
       "      <td>0.0</td>\n",
       "      <td>0.0</td>\n",
       "      <td>0.0</td>\n",
       "      <td>0.0</td>\n",
       "      <td>0.0</td>\n",
       "      <td>1.226749</td>\n",
       "      <td>0.153966</td>\n",
       "    </tr>\n",
       "    <tr>\n",
       "      <th>25747</th>\n",
       "      <td>0.0</td>\n",
       "      <td>0.0</td>\n",
       "      <td>0.0</td>\n",
       "      <td>0.0</td>\n",
       "      <td>0.0</td>\n",
       "      <td>0.0</td>\n",
       "      <td>0.0</td>\n",
       "      <td>1.0</td>\n",
       "      <td>0.0</td>\n",
       "      <td>0.0</td>\n",
       "      <td>...</td>\n",
       "      <td>0.0</td>\n",
       "      <td>0.0</td>\n",
       "      <td>0.0</td>\n",
       "      <td>0.0</td>\n",
       "      <td>0.0</td>\n",
       "      <td>0.0</td>\n",
       "      <td>0.0</td>\n",
       "      <td>0.0</td>\n",
       "      <td>1.486251</td>\n",
       "      <td>-2.322689</td>\n",
       "    </tr>\n",
       "    <tr>\n",
       "      <th>13795</th>\n",
       "      <td>0.0</td>\n",
       "      <td>0.0</td>\n",
       "      <td>0.0</td>\n",
       "      <td>0.0</td>\n",
       "      <td>0.0</td>\n",
       "      <td>0.0</td>\n",
       "      <td>0.0</td>\n",
       "      <td>0.0</td>\n",
       "      <td>0.0</td>\n",
       "      <td>1.0</td>\n",
       "      <td>...</td>\n",
       "      <td>0.0</td>\n",
       "      <td>0.0</td>\n",
       "      <td>0.0</td>\n",
       "      <td>0.0</td>\n",
       "      <td>0.0</td>\n",
       "      <td>0.0</td>\n",
       "      <td>0.0</td>\n",
       "      <td>0.0</td>\n",
       "      <td>0.383368</td>\n",
       "      <td>0.153966</td>\n",
       "    </tr>\n",
       "    <tr>\n",
       "      <th>68724</th>\n",
       "      <td>0.0</td>\n",
       "      <td>0.0</td>\n",
       "      <td>0.0</td>\n",
       "      <td>0.0</td>\n",
       "      <td>0.0</td>\n",
       "      <td>0.0</td>\n",
       "      <td>0.0</td>\n",
       "      <td>0.0</td>\n",
       "      <td>0.0</td>\n",
       "      <td>0.0</td>\n",
       "      <td>...</td>\n",
       "      <td>0.0</td>\n",
       "      <td>0.0</td>\n",
       "      <td>0.0</td>\n",
       "      <td>0.0</td>\n",
       "      <td>0.0</td>\n",
       "      <td>0.0</td>\n",
       "      <td>0.0</td>\n",
       "      <td>0.0</td>\n",
       "      <td>-1.498019</td>\n",
       "      <td>-0.619989</td>\n",
       "    </tr>\n",
       "    <tr>\n",
       "      <th>38923</th>\n",
       "      <td>0.0</td>\n",
       "      <td>0.0</td>\n",
       "      <td>0.0</td>\n",
       "      <td>0.0</td>\n",
       "      <td>0.0</td>\n",
       "      <td>0.0</td>\n",
       "      <td>0.0</td>\n",
       "      <td>1.0</td>\n",
       "      <td>0.0</td>\n",
       "      <td>0.0</td>\n",
       "      <td>...</td>\n",
       "      <td>0.0</td>\n",
       "      <td>0.0</td>\n",
       "      <td>0.0</td>\n",
       "      <td>0.0</td>\n",
       "      <td>0.0</td>\n",
       "      <td>0.0</td>\n",
       "      <td>0.0</td>\n",
       "      <td>0.0</td>\n",
       "      <td>-1.562895</td>\n",
       "      <td>-1.006966</td>\n",
       "    </tr>\n",
       "  </tbody>\n",
       "</table>\n",
       "<p>5 rows × 803 columns</p>\n",
       "</div>"
      ],
      "text/plain": [
       "       cat__SCHL_1  cat__SCHL_10  cat__SCHL_11  cat__SCHL_12  cat__SCHL_13  \\\n",
       "22422          1.0           0.0           0.0           0.0           0.0   \n",
       "25747          0.0           0.0           0.0           0.0           0.0   \n",
       "13795          0.0           0.0           0.0           0.0           0.0   \n",
       "68724          0.0           0.0           0.0           0.0           0.0   \n",
       "38923          0.0           0.0           0.0           0.0           0.0   \n",
       "\n",
       "       cat__SCHL_14  cat__SCHL_15  cat__SCHL_16  cat__SCHL_17  cat__SCHL_18  \\\n",
       "22422           0.0           0.0           0.0           0.0           0.0   \n",
       "25747           0.0           0.0           1.0           0.0           0.0   \n",
       "13795           0.0           0.0           0.0           0.0           1.0   \n",
       "68724           0.0           0.0           0.0           0.0           0.0   \n",
       "38923           0.0           0.0           1.0           0.0           0.0   \n",
       "\n",
       "       ...  cat__RELP_2  cat__RELP_3  cat__RELP_4  cat__RELP_5  cat__RELP_6  \\\n",
       "22422  ...          0.0          0.0          0.0          0.0          0.0   \n",
       "25747  ...          0.0          0.0          0.0          0.0          0.0   \n",
       "13795  ...          0.0          0.0          0.0          0.0          0.0   \n",
       "68724  ...          0.0          0.0          0.0          0.0          0.0   \n",
       "38923  ...          0.0          0.0          0.0          0.0          0.0   \n",
       "\n",
       "       cat__RELP_7  cat__RELP_8  cat__RELP_9  num__AGEP  num__WKHP  \n",
       "22422          0.0          0.0          0.0   1.226749   0.153966  \n",
       "25747          0.0          0.0          0.0   1.486251  -2.322689  \n",
       "13795          0.0          0.0          0.0   0.383368   0.153966  \n",
       "68724          0.0          0.0          0.0  -1.498019  -0.619989  \n",
       "38923          0.0          0.0          0.0  -1.562895  -1.006966  \n",
       "\n",
       "[5 rows x 803 columns]"
      ]
     },
     "metadata": {},
     "output_type": "display_data"
    },
    {
     "name": "stdout",
     "output_type": "stream",
     "text": [
      "\n",
      "\n",
      "\n",
      "Number of rows in the out-of-domain X_test 10000\n",
      "Top indexes of an X_test in an out-of-domain base flow dataset:  Int64Index([22422, 25747, 13795, 68724, 38923, 43064, 86918, 71138, 82508,\n",
      "            89200, 55279,  7966, 83751, 37701,  2718, 65519, 77797,  8956,\n",
      "            33713, 34621],\n",
      "           dtype='int64')\n",
      "Top indexes of an y_test in an out-of-domain base flow dataset:  Int64Index([22422, 25747, 13795, 68724, 38923, 43064, 86918, 71138, 82508,\n",
      "            89200, 55279,  7966, 83751, 37701,  2718, 65519, 77797,  8956,\n",
      "            33713, 34621],\n",
      "           dtype='int64')\n"
     ]
    },
    {
     "data": {
      "text/html": [
       "<div>\n",
       "<style scoped>\n",
       "    .dataframe tbody tr th:only-of-type {\n",
       "        vertical-align: middle;\n",
       "    }\n",
       "\n",
       "    .dataframe tbody tr th {\n",
       "        vertical-align: top;\n",
       "    }\n",
       "\n",
       "    .dataframe thead th {\n",
       "        text-align: right;\n",
       "    }\n",
       "</style>\n",
       "<table border=\"1\" class=\"dataframe\">\n",
       "  <thead>\n",
       "    <tr style=\"text-align: right;\">\n",
       "      <th></th>\n",
       "      <th>cat__SCHL_1</th>\n",
       "      <th>cat__SCHL_10</th>\n",
       "      <th>cat__SCHL_11</th>\n",
       "      <th>cat__SCHL_12</th>\n",
       "      <th>cat__SCHL_13</th>\n",
       "      <th>cat__SCHL_14</th>\n",
       "      <th>cat__SCHL_15</th>\n",
       "      <th>cat__SCHL_16</th>\n",
       "      <th>cat__SCHL_17</th>\n",
       "      <th>cat__SCHL_18</th>\n",
       "      <th>...</th>\n",
       "      <th>cat__RELP_2</th>\n",
       "      <th>cat__RELP_3</th>\n",
       "      <th>cat__RELP_4</th>\n",
       "      <th>cat__RELP_5</th>\n",
       "      <th>cat__RELP_6</th>\n",
       "      <th>cat__RELP_7</th>\n",
       "      <th>cat__RELP_8</th>\n",
       "      <th>cat__RELP_9</th>\n",
       "      <th>num__AGEP</th>\n",
       "      <th>num__WKHP</th>\n",
       "    </tr>\n",
       "  </thead>\n",
       "  <tbody>\n",
       "    <tr>\n",
       "      <th>22422</th>\n",
       "      <td>0.0</td>\n",
       "      <td>0.0</td>\n",
       "      <td>0.0</td>\n",
       "      <td>0.0</td>\n",
       "      <td>0.0</td>\n",
       "      <td>0.0</td>\n",
       "      <td>0.0</td>\n",
       "      <td>1.0</td>\n",
       "      <td>0.0</td>\n",
       "      <td>0.0</td>\n",
       "      <td>...</td>\n",
       "      <td>0.0</td>\n",
       "      <td>0.0</td>\n",
       "      <td>0.0</td>\n",
       "      <td>0.0</td>\n",
       "      <td>0.0</td>\n",
       "      <td>0.0</td>\n",
       "      <td>0.0</td>\n",
       "      <td>0.0</td>\n",
       "      <td>0.837496</td>\n",
       "      <td>0.153966</td>\n",
       "    </tr>\n",
       "    <tr>\n",
       "      <th>25747</th>\n",
       "      <td>0.0</td>\n",
       "      <td>0.0</td>\n",
       "      <td>0.0</td>\n",
       "      <td>0.0</td>\n",
       "      <td>0.0</td>\n",
       "      <td>0.0</td>\n",
       "      <td>0.0</td>\n",
       "      <td>0.0</td>\n",
       "      <td>0.0</td>\n",
       "      <td>0.0</td>\n",
       "      <td>...</td>\n",
       "      <td>0.0</td>\n",
       "      <td>0.0</td>\n",
       "      <td>0.0</td>\n",
       "      <td>0.0</td>\n",
       "      <td>0.0</td>\n",
       "      <td>0.0</td>\n",
       "      <td>0.0</td>\n",
       "      <td>0.0</td>\n",
       "      <td>0.253618</td>\n",
       "      <td>1.314898</td>\n",
       "    </tr>\n",
       "    <tr>\n",
       "      <th>13795</th>\n",
       "      <td>0.0</td>\n",
       "      <td>0.0</td>\n",
       "      <td>0.0</td>\n",
       "      <td>0.0</td>\n",
       "      <td>0.0</td>\n",
       "      <td>0.0</td>\n",
       "      <td>0.0</td>\n",
       "      <td>0.0</td>\n",
       "      <td>0.0</td>\n",
       "      <td>0.0</td>\n",
       "      <td>...</td>\n",
       "      <td>0.0</td>\n",
       "      <td>0.0</td>\n",
       "      <td>0.0</td>\n",
       "      <td>0.0</td>\n",
       "      <td>0.0</td>\n",
       "      <td>0.0</td>\n",
       "      <td>0.0</td>\n",
       "      <td>0.0</td>\n",
       "      <td>-0.979016</td>\n",
       "      <td>0.153966</td>\n",
       "    </tr>\n",
       "    <tr>\n",
       "      <th>68724</th>\n",
       "      <td>0.0</td>\n",
       "      <td>0.0</td>\n",
       "      <td>0.0</td>\n",
       "      <td>0.0</td>\n",
       "      <td>0.0</td>\n",
       "      <td>0.0</td>\n",
       "      <td>0.0</td>\n",
       "      <td>0.0</td>\n",
       "      <td>0.0</td>\n",
       "      <td>0.0</td>\n",
       "      <td>...</td>\n",
       "      <td>0.0</td>\n",
       "      <td>0.0</td>\n",
       "      <td>0.0</td>\n",
       "      <td>0.0</td>\n",
       "      <td>0.0</td>\n",
       "      <td>0.0</td>\n",
       "      <td>0.0</td>\n",
       "      <td>0.0</td>\n",
       "      <td>-0.654639</td>\n",
       "      <td>-2.632271</td>\n",
       "    </tr>\n",
       "    <tr>\n",
       "      <th>38923</th>\n",
       "      <td>0.0</td>\n",
       "      <td>0.0</td>\n",
       "      <td>0.0</td>\n",
       "      <td>0.0</td>\n",
       "      <td>0.0</td>\n",
       "      <td>0.0</td>\n",
       "      <td>0.0</td>\n",
       "      <td>1.0</td>\n",
       "      <td>0.0</td>\n",
       "      <td>0.0</td>\n",
       "      <td>...</td>\n",
       "      <td>0.0</td>\n",
       "      <td>0.0</td>\n",
       "      <td>0.0</td>\n",
       "      <td>0.0</td>\n",
       "      <td>0.0</td>\n",
       "      <td>0.0</td>\n",
       "      <td>0.0</td>\n",
       "      <td>0.0</td>\n",
       "      <td>0.707746</td>\n",
       "      <td>0.540944</td>\n",
       "    </tr>\n",
       "  </tbody>\n",
       "</table>\n",
       "<p>5 rows × 803 columns</p>\n",
       "</div>"
      ],
      "text/plain": [
       "       cat__SCHL_1  cat__SCHL_10  cat__SCHL_11  cat__SCHL_12  cat__SCHL_13  \\\n",
       "22422          0.0           0.0           0.0           0.0           0.0   \n",
       "25747          0.0           0.0           0.0           0.0           0.0   \n",
       "13795          0.0           0.0           0.0           0.0           0.0   \n",
       "68724          0.0           0.0           0.0           0.0           0.0   \n",
       "38923          0.0           0.0           0.0           0.0           0.0   \n",
       "\n",
       "       cat__SCHL_14  cat__SCHL_15  cat__SCHL_16  cat__SCHL_17  cat__SCHL_18  \\\n",
       "22422           0.0           0.0           1.0           0.0           0.0   \n",
       "25747           0.0           0.0           0.0           0.0           0.0   \n",
       "13795           0.0           0.0           0.0           0.0           0.0   \n",
       "68724           0.0           0.0           0.0           0.0           0.0   \n",
       "38923           0.0           0.0           1.0           0.0           0.0   \n",
       "\n",
       "       ...  cat__RELP_2  cat__RELP_3  cat__RELP_4  cat__RELP_5  cat__RELP_6  \\\n",
       "22422  ...          0.0          0.0          0.0          0.0          0.0   \n",
       "25747  ...          0.0          0.0          0.0          0.0          0.0   \n",
       "13795  ...          0.0          0.0          0.0          0.0          0.0   \n",
       "68724  ...          0.0          0.0          0.0          0.0          0.0   \n",
       "38923  ...          0.0          0.0          0.0          0.0          0.0   \n",
       "\n",
       "       cat__RELP_7  cat__RELP_8  cat__RELP_9  num__AGEP  num__WKHP  \n",
       "22422          0.0          0.0          0.0   0.837496   0.153966  \n",
       "25747          0.0          0.0          0.0   0.253618   1.314898  \n",
       "13795          0.0          0.0          0.0  -0.979016   0.153966  \n",
       "68724          0.0          0.0          0.0  -0.654639  -2.632271  \n",
       "38923          0.0          0.0          0.0   0.707746   0.540944  \n",
       "\n",
       "[5 rows x 803 columns]"
      ]
     },
     "metadata": {},
     "output_type": "display_data"
    },
    {
     "name": "stdout",
     "output_type": "stream",
     "text": [
      "2023/11/23, 18:02:47: Tuning LogisticRegression...\n",
      "2023/11/23, 18:06:34: Tuning for LogisticRegression is finished [F1 score = 0.8138649733705994, Accuracy = 0.8139285311491177]\n",
      "\n"
     ]
    },
    {
     "name": "stderr",
     "output_type": "stream",
     "text": [
      "2023-11-23 18:06:34 experiment_interface.py INFO    : Models are tuned and saved to a file\n",
      "INFO:root:Models are tuned and saved to a file\n"
     ]
    },
    {
     "data": {
      "application/vnd.jupyter.widget-view+json": {
       "model_id": "a23e49b4f1ff4379ba9c8b5cf9449172",
       "version_major": 2,
       "version_minor": 0
      },
      "text/plain": [
       "Analyze models in one run:   0%|          | 0/1 [00:00<?, ?it/s]"
      ]
     },
     "metadata": {},
     "output_type": "display_data"
    },
    {
     "data": {
      "application/vnd.jupyter.widget-view+json": {
       "model_id": "6015c54525424c8fa9d5da8d45f83ca4",
       "version_major": 2,
       "version_minor": 0
      },
      "text/plain": [
       "Classifiers testing by bootstrap:   0%|          | 0/200 [00:00<?, ?it/s]"
      ]
     },
     "metadata": {},
     "output_type": "display_data"
    }
   ],
   "source": [
    "run_exp_iter_with_disparate_impact_and_mult_sets(data_loader=exp_iter_data_loader,\n",
    "                                                 extra_data_loaders=exp_extra_data_loaders,\n",
    "                                                 experiment_seed=experiment_seed,\n",
    "                                                 test_set_fraction=TEST_SET_FRACTION,\n",
    "                                                 db_writer_func=db_writer_func,\n",
    "                                                 fair_intervention_params_lst=FAIR_INTERVENTION_PARAMS_LST,\n",
    "                                                 models_params_for_tuning=models_params_for_tuning,\n",
    "                                                 metrics_computation_config=metrics_computation_config,\n",
    "                                                 custom_table_fields_dct=custom_table_fields_dct,\n",
    "                                                 with_tuning=True,\n",
    "                                                 # with_tuning=False,\n",
    "                                                 # tuned_params_df_paths=tuned_params_df_paths,\n",
    "                                                 save_results_dir_path=SAVE_RESULTS_DIR_PATH,\n",
    "                                                 train_set_subsample_size=TRAIN_SET_SUBSAMPLE_SIZE,\n",
    "                                                 verbose=True)"
   ]
  },
  {
   "cell_type": "markdown",
   "id": "8959b910",
   "metadata": {},
   "source": [
    "### Experiment iteration 2"
   ]
  },
  {
   "cell_type": "code",
   "execution_count": 14,
   "id": "0feebfa1",
   "metadata": {},
   "outputs": [],
   "source": [
    "# Configs for an experiment iteration\n",
    "exp_iter_num = 2\n",
    "experiment_seed = EXPERIMENT_SEEDS[exp_iter_num - 1]\n",
    "tuned_params_filenames = [\n",
    "    'tuning_results_Folktables_2018_Income_alpha_0.0_exp_iter_1_20231123__230634.csv'\n",
    "]\n",
    "tuned_params_df_paths = [os.path.join(ROOT_DIR, 'results', EXPERIMENT_NAME, tuned_params_filename)\n",
    "                         for tuned_params_filename in tuned_params_filenames]\n",
    "custom_table_fields_dct['experiment_iteration'] = f'Exp_iter_{exp_iter_num}'\n",
    "\n",
    "exp_iter_data_loader = copy.deepcopy(data_loader_rich)  # Add deepcopy to avoid data leakage\n",
    "exp_extra_data_loaders = copy.deepcopy(extra_data_loaders)  # Add deepcopy to avoid data leakage\n",
    "models_params_for_tuning = get_folktables_employment_models_params_for_tuning(experiment_seed)"
   ]
  },
  {
   "cell_type": "code",
   "execution_count": 15,
   "id": "01076beb",
   "metadata": {},
   "outputs": [
    {
     "name": "stderr",
     "output_type": "stream",
     "text": [
      "2023-11-23 18:34:35 experiment_interface.py INFO    : Start an experiment iteration for the following custom params:\n",
      "INFO:root:Start an experiment iteration for the following custom params:\n"
     ]
    },
    {
     "name": "stdout",
     "output_type": "stream",
     "text": [
      "{'dataset_split_seed': 200,\n",
      " 'experiment_iteration': 'Exp_iter_2',\n",
      " 'fair_intervention_params_lst': '[0.0]',\n",
      " 'model_init_seed': 200,\n",
      " 'session_uuid': '20a516c0-8105-40e7-aae1-7ee97a2dea68'}\n",
      "\n",
      "\n"
     ]
    },
    {
     "name": "stderr",
     "output_type": "stream",
     "text": [
      "2023-11-23 18:34:35 experiment_interface.py INFO    : Start dataset preprocessing\n",
      "INFO:root:Start dataset preprocessing\n"
     ]
    },
    {
     "name": "stdout",
     "output_type": "stream",
     "text": [
      "Top indexes of X_train_val:  Int64Index([ 9060, 86801, 95478, 31350, 67497,  6186, 49762, 89182, 63013,\n",
      "            58581, 91329, 11503, 59768, 54897, 67410, 23214, 38535, 75084,\n",
      "            66792, 73687],\n",
      "           dtype='int64')\n",
      "Top indexes of y_train_val:  Int64Index([ 9060, 86801, 95478, 31350, 67497,  6186, 49762, 89182, 63013,\n",
      "            58581, 91329, 11503, 59768, 54897, 67410, 23214, 38535, 75084,\n",
      "            66792, 73687],\n",
      "           dtype='int64')\n",
      "\n",
      "\n",
      "\n",
      "In-domain full_df.shape --  (80000, 9)\n",
      "In-domain init_features_df.shape --  (80000, 10)\n",
      "In-domain number of rows in X_train_val --  70000\n",
      "In-domain number of rows in X_test --  10000\n"
     ]
    },
    {
     "name": "stderr",
     "output_type": "stream",
     "text": [
      "2023-11-23 18:34:37 experiment_interface.py INFO    : The dataset is preprocessed\n",
      "INFO:root:The dataset is preprocessed\n"
     ]
    },
    {
     "name": "stdout",
     "output_type": "stream",
     "text": [
      "Out-of-domain 1 init_features_df.shape --  (100000, 10)\n",
      "Out-of-domain 1 number of rows in X_train_val --  0\n",
      "Out-of-domain 1 number of rows in X_test --  10000\n"
     ]
    },
    {
     "data": {
      "application/vnd.jupyter.widget-view+json": {
       "model_id": "6b329a35886c473989c7e86dd2743a5c",
       "version_major": 2,
       "version_minor": 0
      },
      "text/plain": [
       "Multiple alphas:   0%|          | 0/1 [00:00<?, ?it/s]"
      ]
     },
     "metadata": {},
     "output_type": "display_data"
    },
    {
     "name": "stderr",
     "output_type": "stream",
     "text": [
      "2023-11-23 18:34:37 experiment_interface.py INFO    : Start fairness intervention\n",
      "INFO:root:Start fairness intervention\n"
     ]
    },
    {
     "name": "stdout",
     "output_type": "stream",
     "text": [
      "intervention_param:  0.0\n"
     ]
    },
    {
     "name": "stderr",
     "output_type": "stream",
     "text": [
      "2023-11-23 18:43:02 experiment_interface.py INFO    : Fairness intervention is completed\n",
      "INFO:root:Fairness intervention is completed\n"
     ]
    },
    {
     "name": "stdout",
     "output_type": "stream",
     "text": [
      "Number of rows in the in-domain X_test 10000\n",
      "Top indexes of an X_test in an in-domain base flow dataset:  Int64Index([71488, 18462,  5190, 49745, 51643, 27862, 11948, 91279, 35299,\n",
      "            93619, 56981, 29774, 30186, 24707, 79785, 88346, 59515, 94368,\n",
      "            19564, 86281],\n",
      "           dtype='int64')\n",
      "Top indexes of an y_test in an in-domain base flow dataset:  Int64Index([71488, 18462,  5190, 49745, 51643, 27862, 11948, 91279, 35299,\n",
      "            93619, 56981, 29774, 30186, 24707, 79785, 88346, 59515, 94368,\n",
      "            19564, 86281],\n",
      "           dtype='int64')\n"
     ]
    },
    {
     "data": {
      "text/html": [
       "<div>\n",
       "<style scoped>\n",
       "    .dataframe tbody tr th:only-of-type {\n",
       "        vertical-align: middle;\n",
       "    }\n",
       "\n",
       "    .dataframe tbody tr th {\n",
       "        vertical-align: top;\n",
       "    }\n",
       "\n",
       "    .dataframe thead th {\n",
       "        text-align: right;\n",
       "    }\n",
       "</style>\n",
       "<table border=\"1\" class=\"dataframe\">\n",
       "  <thead>\n",
       "    <tr style=\"text-align: right;\">\n",
       "      <th></th>\n",
       "      <th>cat__SCHL_1</th>\n",
       "      <th>cat__SCHL_10</th>\n",
       "      <th>cat__SCHL_11</th>\n",
       "      <th>cat__SCHL_12</th>\n",
       "      <th>cat__SCHL_13</th>\n",
       "      <th>cat__SCHL_14</th>\n",
       "      <th>cat__SCHL_15</th>\n",
       "      <th>cat__SCHL_16</th>\n",
       "      <th>cat__SCHL_17</th>\n",
       "      <th>cat__SCHL_18</th>\n",
       "      <th>...</th>\n",
       "      <th>cat__RELP_2</th>\n",
       "      <th>cat__RELP_3</th>\n",
       "      <th>cat__RELP_4</th>\n",
       "      <th>cat__RELP_5</th>\n",
       "      <th>cat__RELP_6</th>\n",
       "      <th>cat__RELP_7</th>\n",
       "      <th>cat__RELP_8</th>\n",
       "      <th>cat__RELP_9</th>\n",
       "      <th>num__AGEP</th>\n",
       "      <th>num__WKHP</th>\n",
       "    </tr>\n",
       "  </thead>\n",
       "  <tbody>\n",
       "    <tr>\n",
       "      <th>71488</th>\n",
       "      <td>0.0</td>\n",
       "      <td>0.0</td>\n",
       "      <td>0.0</td>\n",
       "      <td>0.0</td>\n",
       "      <td>0.0</td>\n",
       "      <td>0.0</td>\n",
       "      <td>0.0</td>\n",
       "      <td>0.0</td>\n",
       "      <td>0.0</td>\n",
       "      <td>0.0</td>\n",
       "      <td>...</td>\n",
       "      <td>0.0</td>\n",
       "      <td>0.0</td>\n",
       "      <td>0.0</td>\n",
       "      <td>0.0</td>\n",
       "      <td>0.0</td>\n",
       "      <td>0.0</td>\n",
       "      <td>0.0</td>\n",
       "      <td>0.0</td>\n",
       "      <td>0.514535</td>\n",
       "      <td>3.245891</td>\n",
       "    </tr>\n",
       "    <tr>\n",
       "      <th>18462</th>\n",
       "      <td>0.0</td>\n",
       "      <td>0.0</td>\n",
       "      <td>0.0</td>\n",
       "      <td>0.0</td>\n",
       "      <td>0.0</td>\n",
       "      <td>0.0</td>\n",
       "      <td>0.0</td>\n",
       "      <td>0.0</td>\n",
       "      <td>0.0</td>\n",
       "      <td>1.0</td>\n",
       "      <td>...</td>\n",
       "      <td>0.0</td>\n",
       "      <td>0.0</td>\n",
       "      <td>0.0</td>\n",
       "      <td>0.0</td>\n",
       "      <td>0.0</td>\n",
       "      <td>0.0</td>\n",
       "      <td>0.0</td>\n",
       "      <td>0.0</td>\n",
       "      <td>-1.431751</td>\n",
       "      <td>-1.008110</td>\n",
       "    </tr>\n",
       "    <tr>\n",
       "      <th>5190</th>\n",
       "      <td>0.0</td>\n",
       "      <td>0.0</td>\n",
       "      <td>0.0</td>\n",
       "      <td>0.0</td>\n",
       "      <td>0.0</td>\n",
       "      <td>0.0</td>\n",
       "      <td>0.0</td>\n",
       "      <td>0.0</td>\n",
       "      <td>0.0</td>\n",
       "      <td>0.0</td>\n",
       "      <td>...</td>\n",
       "      <td>0.0</td>\n",
       "      <td>0.0</td>\n",
       "      <td>0.0</td>\n",
       "      <td>0.0</td>\n",
       "      <td>0.0</td>\n",
       "      <td>0.0</td>\n",
       "      <td>0.0</td>\n",
       "      <td>0.0</td>\n",
       "      <td>0.774040</td>\n",
       "      <td>0.152072</td>\n",
       "    </tr>\n",
       "    <tr>\n",
       "      <th>49745</th>\n",
       "      <td>0.0</td>\n",
       "      <td>0.0</td>\n",
       "      <td>0.0</td>\n",
       "      <td>0.0</td>\n",
       "      <td>0.0</td>\n",
       "      <td>0.0</td>\n",
       "      <td>0.0</td>\n",
       "      <td>0.0</td>\n",
       "      <td>0.0</td>\n",
       "      <td>0.0</td>\n",
       "      <td>...</td>\n",
       "      <td>0.0</td>\n",
       "      <td>1.0</td>\n",
       "      <td>0.0</td>\n",
       "      <td>0.0</td>\n",
       "      <td>0.0</td>\n",
       "      <td>0.0</td>\n",
       "      <td>0.0</td>\n",
       "      <td>0.0</td>\n",
       "      <td>0.060402</td>\n",
       "      <td>0.770836</td>\n",
       "    </tr>\n",
       "    <tr>\n",
       "      <th>51643</th>\n",
       "      <td>0.0</td>\n",
       "      <td>0.0</td>\n",
       "      <td>0.0</td>\n",
       "      <td>0.0</td>\n",
       "      <td>0.0</td>\n",
       "      <td>0.0</td>\n",
       "      <td>0.0</td>\n",
       "      <td>0.0</td>\n",
       "      <td>0.0</td>\n",
       "      <td>0.0</td>\n",
       "      <td>...</td>\n",
       "      <td>0.0</td>\n",
       "      <td>0.0</td>\n",
       "      <td>0.0</td>\n",
       "      <td>0.0</td>\n",
       "      <td>0.0</td>\n",
       "      <td>0.0</td>\n",
       "      <td>0.0</td>\n",
       "      <td>0.0</td>\n",
       "      <td>1.163297</td>\n",
       "      <td>0.925527</td>\n",
       "    </tr>\n",
       "  </tbody>\n",
       "</table>\n",
       "<p>5 rows × 804 columns</p>\n",
       "</div>"
      ],
      "text/plain": [
       "       cat__SCHL_1  cat__SCHL_10  cat__SCHL_11  cat__SCHL_12  cat__SCHL_13  \\\n",
       "71488          0.0           0.0           0.0           0.0           0.0   \n",
       "18462          0.0           0.0           0.0           0.0           0.0   \n",
       "5190           0.0           0.0           0.0           0.0           0.0   \n",
       "49745          0.0           0.0           0.0           0.0           0.0   \n",
       "51643          0.0           0.0           0.0           0.0           0.0   \n",
       "\n",
       "       cat__SCHL_14  cat__SCHL_15  cat__SCHL_16  cat__SCHL_17  cat__SCHL_18  \\\n",
       "71488           0.0           0.0           0.0           0.0           0.0   \n",
       "18462           0.0           0.0           0.0           0.0           1.0   \n",
       "5190            0.0           0.0           0.0           0.0           0.0   \n",
       "49745           0.0           0.0           0.0           0.0           0.0   \n",
       "51643           0.0           0.0           0.0           0.0           0.0   \n",
       "\n",
       "       ...  cat__RELP_2  cat__RELP_3  cat__RELP_4  cat__RELP_5  cat__RELP_6  \\\n",
       "71488  ...          0.0          0.0          0.0          0.0          0.0   \n",
       "18462  ...          0.0          0.0          0.0          0.0          0.0   \n",
       "5190   ...          0.0          0.0          0.0          0.0          0.0   \n",
       "49745  ...          0.0          1.0          0.0          0.0          0.0   \n",
       "51643  ...          0.0          0.0          0.0          0.0          0.0   \n",
       "\n",
       "       cat__RELP_7  cat__RELP_8  cat__RELP_9  num__AGEP  num__WKHP  \n",
       "71488          0.0          0.0          0.0   0.514535   3.245891  \n",
       "18462          0.0          0.0          0.0  -1.431751  -1.008110  \n",
       "5190           0.0          0.0          0.0   0.774040   0.152072  \n",
       "49745          0.0          0.0          0.0   0.060402   0.770836  \n",
       "51643          0.0          0.0          0.0   1.163297   0.925527  \n",
       "\n",
       "[5 rows x 804 columns]"
      ]
     },
     "metadata": {},
     "output_type": "display_data"
    },
    {
     "name": "stdout",
     "output_type": "stream",
     "text": [
      "\n",
      "\n",
      "\n",
      "Number of rows in the out-of-domain X_test 10000\n",
      "Top indexes of an X_test in an out-of-domain base flow dataset:  Int64Index([71488, 18462,  5190, 49745, 51643, 27862, 11948, 91279, 35299,\n",
      "            93619, 56981, 29774, 30186, 24707, 79785, 88346, 59515, 94368,\n",
      "            19564, 86281],\n",
      "           dtype='int64')\n",
      "Top indexes of an y_test in an out-of-domain base flow dataset:  Int64Index([71488, 18462,  5190, 49745, 51643, 27862, 11948, 91279, 35299,\n",
      "            93619, 56981, 29774, 30186, 24707, 79785, 88346, 59515, 94368,\n",
      "            19564, 86281],\n",
      "           dtype='int64')\n"
     ]
    },
    {
     "data": {
      "text/html": [
       "<div>\n",
       "<style scoped>\n",
       "    .dataframe tbody tr th:only-of-type {\n",
       "        vertical-align: middle;\n",
       "    }\n",
       "\n",
       "    .dataframe tbody tr th {\n",
       "        vertical-align: top;\n",
       "    }\n",
       "\n",
       "    .dataframe thead th {\n",
       "        text-align: right;\n",
       "    }\n",
       "</style>\n",
       "<table border=\"1\" class=\"dataframe\">\n",
       "  <thead>\n",
       "    <tr style=\"text-align: right;\">\n",
       "      <th></th>\n",
       "      <th>cat__SCHL_1</th>\n",
       "      <th>cat__SCHL_10</th>\n",
       "      <th>cat__SCHL_11</th>\n",
       "      <th>cat__SCHL_12</th>\n",
       "      <th>cat__SCHL_13</th>\n",
       "      <th>cat__SCHL_14</th>\n",
       "      <th>cat__SCHL_15</th>\n",
       "      <th>cat__SCHL_16</th>\n",
       "      <th>cat__SCHL_17</th>\n",
       "      <th>cat__SCHL_18</th>\n",
       "      <th>...</th>\n",
       "      <th>cat__RELP_2</th>\n",
       "      <th>cat__RELP_3</th>\n",
       "      <th>cat__RELP_4</th>\n",
       "      <th>cat__RELP_5</th>\n",
       "      <th>cat__RELP_6</th>\n",
       "      <th>cat__RELP_7</th>\n",
       "      <th>cat__RELP_8</th>\n",
       "      <th>cat__RELP_9</th>\n",
       "      <th>num__AGEP</th>\n",
       "      <th>num__WKHP</th>\n",
       "    </tr>\n",
       "  </thead>\n",
       "  <tbody>\n",
       "    <tr>\n",
       "      <th>71488</th>\n",
       "      <td>0.0</td>\n",
       "      <td>0.0</td>\n",
       "      <td>0.0</td>\n",
       "      <td>0.0</td>\n",
       "      <td>0.0</td>\n",
       "      <td>0.0</td>\n",
       "      <td>0.0</td>\n",
       "      <td>0.0</td>\n",
       "      <td>0.0</td>\n",
       "      <td>0.0</td>\n",
       "      <td>...</td>\n",
       "      <td>0.0</td>\n",
       "      <td>0.0</td>\n",
       "      <td>0.0</td>\n",
       "      <td>0.0</td>\n",
       "      <td>0.0</td>\n",
       "      <td>0.0</td>\n",
       "      <td>0.0</td>\n",
       "      <td>0.0</td>\n",
       "      <td>-1.301998</td>\n",
       "      <td>0.152072</td>\n",
       "    </tr>\n",
       "    <tr>\n",
       "      <th>18462</th>\n",
       "      <td>0.0</td>\n",
       "      <td>0.0</td>\n",
       "      <td>0.0</td>\n",
       "      <td>0.0</td>\n",
       "      <td>0.0</td>\n",
       "      <td>0.0</td>\n",
       "      <td>0.0</td>\n",
       "      <td>0.0</td>\n",
       "      <td>0.0</td>\n",
       "      <td>0.0</td>\n",
       "      <td>...</td>\n",
       "      <td>0.0</td>\n",
       "      <td>0.0</td>\n",
       "      <td>0.0</td>\n",
       "      <td>0.0</td>\n",
       "      <td>0.0</td>\n",
       "      <td>0.0</td>\n",
       "      <td>0.0</td>\n",
       "      <td>0.0</td>\n",
       "      <td>-0.199103</td>\n",
       "      <td>-0.157310</td>\n",
       "    </tr>\n",
       "    <tr>\n",
       "      <th>5190</th>\n",
       "      <td>0.0</td>\n",
       "      <td>0.0</td>\n",
       "      <td>0.0</td>\n",
       "      <td>0.0</td>\n",
       "      <td>0.0</td>\n",
       "      <td>0.0</td>\n",
       "      <td>0.0</td>\n",
       "      <td>0.0</td>\n",
       "      <td>0.0</td>\n",
       "      <td>0.0</td>\n",
       "      <td>...</td>\n",
       "      <td>0.0</td>\n",
       "      <td>0.0</td>\n",
       "      <td>0.0</td>\n",
       "      <td>0.0</td>\n",
       "      <td>0.0</td>\n",
       "      <td>0.0</td>\n",
       "      <td>0.0</td>\n",
       "      <td>0.0</td>\n",
       "      <td>0.255030</td>\n",
       "      <td>0.925527</td>\n",
       "    </tr>\n",
       "    <tr>\n",
       "      <th>49745</th>\n",
       "      <td>0.0</td>\n",
       "      <td>0.0</td>\n",
       "      <td>0.0</td>\n",
       "      <td>0.0</td>\n",
       "      <td>0.0</td>\n",
       "      <td>0.0</td>\n",
       "      <td>0.0</td>\n",
       "      <td>0.0</td>\n",
       "      <td>0.0</td>\n",
       "      <td>0.0</td>\n",
       "      <td>...</td>\n",
       "      <td>1.0</td>\n",
       "      <td>0.0</td>\n",
       "      <td>0.0</td>\n",
       "      <td>0.0</td>\n",
       "      <td>0.0</td>\n",
       "      <td>0.0</td>\n",
       "      <td>0.0</td>\n",
       "      <td>0.0</td>\n",
       "      <td>-0.847865</td>\n",
       "      <td>-0.234655</td>\n",
       "    </tr>\n",
       "    <tr>\n",
       "      <th>51643</th>\n",
       "      <td>0.0</td>\n",
       "      <td>0.0</td>\n",
       "      <td>0.0</td>\n",
       "      <td>0.0</td>\n",
       "      <td>0.0</td>\n",
       "      <td>0.0</td>\n",
       "      <td>0.0</td>\n",
       "      <td>0.0</td>\n",
       "      <td>0.0</td>\n",
       "      <td>0.0</td>\n",
       "      <td>...</td>\n",
       "      <td>0.0</td>\n",
       "      <td>0.0</td>\n",
       "      <td>0.0</td>\n",
       "      <td>0.0</td>\n",
       "      <td>0.0</td>\n",
       "      <td>0.0</td>\n",
       "      <td>0.0</td>\n",
       "      <td>0.0</td>\n",
       "      <td>-1.431751</td>\n",
       "      <td>0.152072</td>\n",
       "    </tr>\n",
       "  </tbody>\n",
       "</table>\n",
       "<p>5 rows × 804 columns</p>\n",
       "</div>"
      ],
      "text/plain": [
       "       cat__SCHL_1  cat__SCHL_10  cat__SCHL_11  cat__SCHL_12  cat__SCHL_13  \\\n",
       "71488          0.0           0.0           0.0           0.0           0.0   \n",
       "18462          0.0           0.0           0.0           0.0           0.0   \n",
       "5190           0.0           0.0           0.0           0.0           0.0   \n",
       "49745          0.0           0.0           0.0           0.0           0.0   \n",
       "51643          0.0           0.0           0.0           0.0           0.0   \n",
       "\n",
       "       cat__SCHL_14  cat__SCHL_15  cat__SCHL_16  cat__SCHL_17  cat__SCHL_18  \\\n",
       "71488           0.0           0.0           0.0           0.0           0.0   \n",
       "18462           0.0           0.0           0.0           0.0           0.0   \n",
       "5190            0.0           0.0           0.0           0.0           0.0   \n",
       "49745           0.0           0.0           0.0           0.0           0.0   \n",
       "51643           0.0           0.0           0.0           0.0           0.0   \n",
       "\n",
       "       ...  cat__RELP_2  cat__RELP_3  cat__RELP_4  cat__RELP_5  cat__RELP_6  \\\n",
       "71488  ...          0.0          0.0          0.0          0.0          0.0   \n",
       "18462  ...          0.0          0.0          0.0          0.0          0.0   \n",
       "5190   ...          0.0          0.0          0.0          0.0          0.0   \n",
       "49745  ...          1.0          0.0          0.0          0.0          0.0   \n",
       "51643  ...          0.0          0.0          0.0          0.0          0.0   \n",
       "\n",
       "       cat__RELP_7  cat__RELP_8  cat__RELP_9  num__AGEP  num__WKHP  \n",
       "71488          0.0          0.0          0.0  -1.301998   0.152072  \n",
       "18462          0.0          0.0          0.0  -0.199103  -0.157310  \n",
       "5190           0.0          0.0          0.0   0.255030   0.925527  \n",
       "49745          0.0          0.0          0.0  -0.847865  -0.234655  \n",
       "51643          0.0          0.0          0.0  -1.431751   0.152072  \n",
       "\n",
       "[5 rows x 804 columns]"
      ]
     },
     "metadata": {},
     "output_type": "display_data"
    },
    {
     "name": "stderr",
     "output_type": "stream",
     "text": [
      "2023-11-23 18:43:02 experiment_interface.py INFO    : Models config is loaded from the input file\n",
      "INFO:root:Models config is loaded from the input file\n"
     ]
    },
    {
     "name": "stdout",
     "output_type": "stream",
     "text": [
      "Path for tuned params:  /home/dh3553/projects/fairness-variance/results/out_of_domain_uncertainty_rich_income_LR_70K/tuning_results_Folktables_2018_Income_alpha_0.0_exp_iter_1_20231123__230634.csv\n",
      "LogisticRegression:  {'C': 1, 'class_weight': None, 'dual': False, 'fit_intercept': True, 'intercept_scaling': 1, 'l1_ratio': None, 'max_iter': 1000, 'multi_class': 'auto', 'n_jobs': None, 'penalty': 'l1', 'random_state': 200, 'solver': 'saga', 'tol': 0.0001, 'verbose': 0, 'warm_start': False}\n"
     ]
    },
    {
     "data": {
      "application/vnd.jupyter.widget-view+json": {
       "model_id": "dd7e38f33120460481cd0b1124b4a6b9",
       "version_major": 2,
       "version_minor": 0
      },
      "text/plain": [
       "Analyze models in one run:   0%|          | 0/1 [00:00<?, ?it/s]"
      ]
     },
     "metadata": {},
     "output_type": "display_data"
    },
    {
     "data": {
      "application/vnd.jupyter.widget-view+json": {
       "model_id": "2420fc6da6704dd9ba84c599b0684674",
       "version_major": 2,
       "version_minor": 0
      },
      "text/plain": [
       "Classifiers testing by bootstrap:   0%|          | 0/200 [00:00<?, ?it/s]"
      ]
     },
     "metadata": {},
     "output_type": "display_data"
    }
   ],
   "source": [
    "run_exp_iter_with_disparate_impact_and_mult_sets(data_loader=exp_iter_data_loader,\n",
    "                                                 extra_data_loaders=exp_extra_data_loaders,\n",
    "                                                 experiment_seed=experiment_seed,\n",
    "                                                 test_set_fraction=TEST_SET_FRACTION,\n",
    "                                                 db_writer_func=db_writer_func,\n",
    "                                                 fair_intervention_params_lst=FAIR_INTERVENTION_PARAMS_LST,\n",
    "                                                 models_params_for_tuning=models_params_for_tuning,\n",
    "                                                 metrics_computation_config=metrics_computation_config,\n",
    "                                                 custom_table_fields_dct=custom_table_fields_dct,\n",
    "#                                                  with_tuning=True,\n",
    "                                                 with_tuning=False,\n",
    "                                                 tuned_params_df_paths=tuned_params_df_paths,\n",
    "                                                 save_results_dir_path=SAVE_RESULTS_DIR_PATH,\n",
    "                                                 train_set_subsample_size=TRAIN_SET_SUBSAMPLE_SIZE,\n",
    "                                                 verbose=True)"
   ]
  },
  {
   "cell_type": "markdown",
   "id": "b65184b6",
   "metadata": {},
   "source": [
    "### Experiment iteration 3"
   ]
  },
  {
   "cell_type": "code",
   "execution_count": 16,
   "id": "555b7a59",
   "metadata": {},
   "outputs": [],
   "source": [
    "# Configs for an experiment iteration\n",
    "exp_iter_num = 3\n",
    "experiment_seed = EXPERIMENT_SEEDS[exp_iter_num - 1]\n",
    "tuned_params_filenames = [\n",
    "    'tuning_results_Folktables_2018_Income_alpha_0.0_exp_iter_1_20231123__230634.csv'\n",
    "]\n",
    "tuned_params_df_paths = [os.path.join(ROOT_DIR, 'results', EXPERIMENT_NAME, tuned_params_filename)\n",
    "                         for tuned_params_filename in tuned_params_filenames]\n",
    "custom_table_fields_dct['experiment_iteration'] = f'Exp_iter_{exp_iter_num}'\n",
    "\n",
    "exp_iter_data_loader = copy.deepcopy(data_loader_rich)  # Add deepcopy to avoid data leakage\n",
    "exp_extra_data_loaders = copy.deepcopy(extra_data_loaders)  # Add deepcopy to avoid data leakage\n",
    "models_params_for_tuning = get_folktables_employment_models_params_for_tuning(experiment_seed)"
   ]
  },
  {
   "cell_type": "code",
   "execution_count": null,
   "id": "a2c46bfe",
   "metadata": {},
   "outputs": [
    {
     "name": "stderr",
     "output_type": "stream",
     "text": [
      "2023-11-24 02:17:19 experiment_interface.py INFO    : Start an experiment iteration for the following custom params:\n",
      "INFO:root:Start an experiment iteration for the following custom params:\n"
     ]
    },
    {
     "name": "stdout",
     "output_type": "stream",
     "text": [
      "{'dataset_split_seed': 300,\n",
      " 'experiment_iteration': 'Exp_iter_3',\n",
      " 'fair_intervention_params_lst': '[0.0]',\n",
      " 'intervention_param': 0.0,\n",
      " 'model_init_seed': 300,\n",
      " 'session_uuid': '20a516c0-8105-40e7-aae1-7ee97a2dea68'}\n",
      "\n",
      "\n"
     ]
    },
    {
     "name": "stderr",
     "output_type": "stream",
     "text": [
      "2023-11-24 02:17:19 experiment_interface.py INFO    : Start dataset preprocessing\n",
      "INFO:root:Start dataset preprocessing\n"
     ]
    },
    {
     "name": "stdout",
     "output_type": "stream",
     "text": [
      "Top indexes of X_train_val:  Int64Index([68557, 42718, 36434,  9001, 60690, 71256, 46462, 70992, 34888,\n",
      "            30842, 51007, 87189, 81873, 29593, 40408, 89491, 45396, 43655,\n",
      "            14767, 38182],\n",
      "           dtype='int64')\n",
      "Top indexes of y_train_val:  Int64Index([68557, 42718, 36434,  9001, 60690, 71256, 46462, 70992, 34888,\n",
      "            30842, 51007, 87189, 81873, 29593, 40408, 89491, 45396, 43655,\n",
      "            14767, 38182],\n",
      "           dtype='int64')\n",
      "\n",
      "\n",
      "\n",
      "In-domain full_df.shape --  (80000, 9)\n",
      "In-domain init_features_df.shape --  (80000, 10)\n",
      "In-domain number of rows in X_train_val --  70000\n",
      "In-domain number of rows in X_test --  10000\n",
      "Out-of-domain 1 init_features_df.shape --  (100000, 10)\n",
      "Out-of-domain 1 number of rows in X_train_val --  0\n",
      "Out-of-domain 1 number of rows in X_test --  10000\n"
     ]
    },
    {
     "name": "stderr",
     "output_type": "stream",
     "text": [
      "2023-11-24 02:17:21 experiment_interface.py INFO    : The dataset is preprocessed\n",
      "INFO:root:The dataset is preprocessed\n"
     ]
    },
    {
     "data": {
      "application/vnd.jupyter.widget-view+json": {
       "model_id": "d978124ec6234f2c875180e0edc72286",
       "version_major": 2,
       "version_minor": 0
      },
      "text/plain": [
       "Multiple alphas:   0%|          | 0/1 [00:00<?, ?it/s]"
      ]
     },
     "metadata": {},
     "output_type": "display_data"
    },
    {
     "name": "stderr",
     "output_type": "stream",
     "text": [
      "2023-11-24 02:17:21 experiment_interface.py INFO    : Start fairness intervention\n",
      "INFO:root:Start fairness intervention\n"
     ]
    },
    {
     "name": "stdout",
     "output_type": "stream",
     "text": [
      "intervention_param:  0.0\n"
     ]
    },
    {
     "name": "stderr",
     "output_type": "stream",
     "text": [
      "2023-11-24 02:25:48 experiment_interface.py INFO    : Fairness intervention is completed\n",
      "INFO:root:Fairness intervention is completed\n"
     ]
    },
    {
     "name": "stdout",
     "output_type": "stream",
     "text": [
      "Number of rows in the in-domain X_test 10000\n",
      "Top indexes of an X_test in an in-domain base flow dataset:  Int64Index([96427, 28431, 63265,  9684, 38057, 17635, 24537, 67209, 52586,\n",
      "            20281, 10671, 28729, 37092, 18389, 39885, 55778, 65196, 75424,\n",
      "            72767, 95910],\n",
      "           dtype='int64')\n",
      "Top indexes of an y_test in an in-domain base flow dataset:  Int64Index([96427, 28431, 63265,  9684, 38057, 17635, 24537, 67209, 52586,\n",
      "            20281, 10671, 28729, 37092, 18389, 39885, 55778, 65196, 75424,\n",
      "            72767, 95910],\n",
      "           dtype='int64')\n"
     ]
    },
    {
     "data": {
      "text/html": [
       "<div>\n",
       "<style scoped>\n",
       "    .dataframe tbody tr th:only-of-type {\n",
       "        vertical-align: middle;\n",
       "    }\n",
       "\n",
       "    .dataframe tbody tr th {\n",
       "        vertical-align: top;\n",
       "    }\n",
       "\n",
       "    .dataframe thead th {\n",
       "        text-align: right;\n",
       "    }\n",
       "</style>\n",
       "<table border=\"1\" class=\"dataframe\">\n",
       "  <thead>\n",
       "    <tr style=\"text-align: right;\">\n",
       "      <th></th>\n",
       "      <th>cat__SCHL_1</th>\n",
       "      <th>cat__SCHL_10</th>\n",
       "      <th>cat__SCHL_11</th>\n",
       "      <th>cat__SCHL_12</th>\n",
       "      <th>cat__SCHL_13</th>\n",
       "      <th>cat__SCHL_14</th>\n",
       "      <th>cat__SCHL_15</th>\n",
       "      <th>cat__SCHL_16</th>\n",
       "      <th>cat__SCHL_17</th>\n",
       "      <th>cat__SCHL_18</th>\n",
       "      <th>...</th>\n",
       "      <th>cat__RELP_2</th>\n",
       "      <th>cat__RELP_3</th>\n",
       "      <th>cat__RELP_4</th>\n",
       "      <th>cat__RELP_5</th>\n",
       "      <th>cat__RELP_6</th>\n",
       "      <th>cat__RELP_7</th>\n",
       "      <th>cat__RELP_8</th>\n",
       "      <th>cat__RELP_9</th>\n",
       "      <th>num__AGEP</th>\n",
       "      <th>num__WKHP</th>\n",
       "    </tr>\n",
       "  </thead>\n",
       "  <tbody>\n",
       "    <tr>\n",
       "      <th>96427</th>\n",
       "      <td>0.0</td>\n",
       "      <td>0.0</td>\n",
       "      <td>0.0</td>\n",
       "      <td>0.0</td>\n",
       "      <td>0.0</td>\n",
       "      <td>0.0</td>\n",
       "      <td>0.0</td>\n",
       "      <td>0.0</td>\n",
       "      <td>0.0</td>\n",
       "      <td>0.0</td>\n",
       "      <td>...</td>\n",
       "      <td>0.0</td>\n",
       "      <td>0.0</td>\n",
       "      <td>0.0</td>\n",
       "      <td>0.0</td>\n",
       "      <td>0.0</td>\n",
       "      <td>0.0</td>\n",
       "      <td>0.0</td>\n",
       "      <td>0.0</td>\n",
       "      <td>1.290553</td>\n",
       "      <td>0.152124</td>\n",
       "    </tr>\n",
       "    <tr>\n",
       "      <th>28431</th>\n",
       "      <td>0.0</td>\n",
       "      <td>0.0</td>\n",
       "      <td>0.0</td>\n",
       "      <td>0.0</td>\n",
       "      <td>0.0</td>\n",
       "      <td>0.0</td>\n",
       "      <td>1.0</td>\n",
       "      <td>0.0</td>\n",
       "      <td>0.0</td>\n",
       "      <td>0.0</td>\n",
       "      <td>...</td>\n",
       "      <td>0.0</td>\n",
       "      <td>0.0</td>\n",
       "      <td>0.0</td>\n",
       "      <td>0.0</td>\n",
       "      <td>0.0</td>\n",
       "      <td>0.0</td>\n",
       "      <td>0.0</td>\n",
       "      <td>0.0</td>\n",
       "      <td>1.809455</td>\n",
       "      <td>-2.167350</td>\n",
       "    </tr>\n",
       "    <tr>\n",
       "      <th>63265</th>\n",
       "      <td>0.0</td>\n",
       "      <td>0.0</td>\n",
       "      <td>0.0</td>\n",
       "      <td>0.0</td>\n",
       "      <td>0.0</td>\n",
       "      <td>0.0</td>\n",
       "      <td>0.0</td>\n",
       "      <td>0.0</td>\n",
       "      <td>0.0</td>\n",
       "      <td>0.0</td>\n",
       "      <td>...</td>\n",
       "      <td>1.0</td>\n",
       "      <td>0.0</td>\n",
       "      <td>0.0</td>\n",
       "      <td>0.0</td>\n",
       "      <td>0.0</td>\n",
       "      <td>0.0</td>\n",
       "      <td>0.0</td>\n",
       "      <td>0.0</td>\n",
       "      <td>-1.044505</td>\n",
       "      <td>0.152124</td>\n",
       "    </tr>\n",
       "    <tr>\n",
       "      <th>9684</th>\n",
       "      <td>0.0</td>\n",
       "      <td>0.0</td>\n",
       "      <td>0.0</td>\n",
       "      <td>0.0</td>\n",
       "      <td>0.0</td>\n",
       "      <td>0.0</td>\n",
       "      <td>0.0</td>\n",
       "      <td>0.0</td>\n",
       "      <td>0.0</td>\n",
       "      <td>0.0</td>\n",
       "      <td>...</td>\n",
       "      <td>0.0</td>\n",
       "      <td>0.0</td>\n",
       "      <td>0.0</td>\n",
       "      <td>0.0</td>\n",
       "      <td>0.0</td>\n",
       "      <td>0.0</td>\n",
       "      <td>0.0</td>\n",
       "      <td>0.0</td>\n",
       "      <td>0.447338</td>\n",
       "      <td>0.152124</td>\n",
       "    </tr>\n",
       "    <tr>\n",
       "      <th>38057</th>\n",
       "      <td>0.0</td>\n",
       "      <td>0.0</td>\n",
       "      <td>0.0</td>\n",
       "      <td>0.0</td>\n",
       "      <td>0.0</td>\n",
       "      <td>0.0</td>\n",
       "      <td>0.0</td>\n",
       "      <td>0.0</td>\n",
       "      <td>0.0</td>\n",
       "      <td>0.0</td>\n",
       "      <td>...</td>\n",
       "      <td>0.0</td>\n",
       "      <td>0.0</td>\n",
       "      <td>0.0</td>\n",
       "      <td>0.0</td>\n",
       "      <td>0.0</td>\n",
       "      <td>0.0</td>\n",
       "      <td>0.0</td>\n",
       "      <td>0.0</td>\n",
       "      <td>1.939180</td>\n",
       "      <td>-1.394192</td>\n",
       "    </tr>\n",
       "  </tbody>\n",
       "</table>\n",
       "<p>5 rows × 805 columns</p>\n",
       "</div>"
      ],
      "text/plain": [
       "       cat__SCHL_1  cat__SCHL_10  cat__SCHL_11  cat__SCHL_12  cat__SCHL_13  \\\n",
       "96427          0.0           0.0           0.0           0.0           0.0   \n",
       "28431          0.0           0.0           0.0           0.0           0.0   \n",
       "63265          0.0           0.0           0.0           0.0           0.0   \n",
       "9684           0.0           0.0           0.0           0.0           0.0   \n",
       "38057          0.0           0.0           0.0           0.0           0.0   \n",
       "\n",
       "       cat__SCHL_14  cat__SCHL_15  cat__SCHL_16  cat__SCHL_17  cat__SCHL_18  \\\n",
       "96427           0.0           0.0           0.0           0.0           0.0   \n",
       "28431           0.0           1.0           0.0           0.0           0.0   \n",
       "63265           0.0           0.0           0.0           0.0           0.0   \n",
       "9684            0.0           0.0           0.0           0.0           0.0   \n",
       "38057           0.0           0.0           0.0           0.0           0.0   \n",
       "\n",
       "       ...  cat__RELP_2  cat__RELP_3  cat__RELP_4  cat__RELP_5  cat__RELP_6  \\\n",
       "96427  ...          0.0          0.0          0.0          0.0          0.0   \n",
       "28431  ...          0.0          0.0          0.0          0.0          0.0   \n",
       "63265  ...          1.0          0.0          0.0          0.0          0.0   \n",
       "9684   ...          0.0          0.0          0.0          0.0          0.0   \n",
       "38057  ...          0.0          0.0          0.0          0.0          0.0   \n",
       "\n",
       "       cat__RELP_7  cat__RELP_8  cat__RELP_9  num__AGEP  num__WKHP  \n",
       "96427          0.0          0.0          0.0   1.290553   0.152124  \n",
       "28431          0.0          0.0          0.0   1.809455  -2.167350  \n",
       "63265          0.0          0.0          0.0  -1.044505   0.152124  \n",
       "9684           0.0          0.0          0.0   0.447338   0.152124  \n",
       "38057          0.0          0.0          0.0   1.939180  -1.394192  \n",
       "\n",
       "[5 rows x 805 columns]"
      ]
     },
     "metadata": {},
     "output_type": "display_data"
    },
    {
     "name": "stdout",
     "output_type": "stream",
     "text": [
      "\n",
      "\n",
      "\n",
      "Number of rows in the out-of-domain X_test 10000\n",
      "Top indexes of an X_test in an out-of-domain base flow dataset:  Int64Index([96427, 28431, 63265,  9684, 38057, 17635, 24537, 67209, 52586,\n",
      "            20281, 10671, 28729, 37092, 18389, 39885, 55778, 65196, 75424,\n",
      "            72767, 95910],\n",
      "           dtype='int64')\n",
      "Top indexes of an y_test in an out-of-domain base flow dataset:  Int64Index([96427, 28431, 63265,  9684, 38057, 17635, 24537, 67209, 52586,\n",
      "            20281, 10671, 28729, 37092, 18389, 39885, 55778, 65196, 75424,\n",
      "            72767, 95910],\n",
      "           dtype='int64')\n"
     ]
    },
    {
     "data": {
      "text/html": [
       "<div>\n",
       "<style scoped>\n",
       "    .dataframe tbody tr th:only-of-type {\n",
       "        vertical-align: middle;\n",
       "    }\n",
       "\n",
       "    .dataframe tbody tr th {\n",
       "        vertical-align: top;\n",
       "    }\n",
       "\n",
       "    .dataframe thead th {\n",
       "        text-align: right;\n",
       "    }\n",
       "</style>\n",
       "<table border=\"1\" class=\"dataframe\">\n",
       "  <thead>\n",
       "    <tr style=\"text-align: right;\">\n",
       "      <th></th>\n",
       "      <th>cat__SCHL_1</th>\n",
       "      <th>cat__SCHL_10</th>\n",
       "      <th>cat__SCHL_11</th>\n",
       "      <th>cat__SCHL_12</th>\n",
       "      <th>cat__SCHL_13</th>\n",
       "      <th>cat__SCHL_14</th>\n",
       "      <th>cat__SCHL_15</th>\n",
       "      <th>cat__SCHL_16</th>\n",
       "      <th>cat__SCHL_17</th>\n",
       "      <th>cat__SCHL_18</th>\n",
       "      <th>...</th>\n",
       "      <th>cat__RELP_2</th>\n",
       "      <th>cat__RELP_3</th>\n",
       "      <th>cat__RELP_4</th>\n",
       "      <th>cat__RELP_5</th>\n",
       "      <th>cat__RELP_6</th>\n",
       "      <th>cat__RELP_7</th>\n",
       "      <th>cat__RELP_8</th>\n",
       "      <th>cat__RELP_9</th>\n",
       "      <th>num__AGEP</th>\n",
       "      <th>num__WKHP</th>\n",
       "    </tr>\n",
       "  </thead>\n",
       "  <tbody>\n",
       "    <tr>\n",
       "      <th>96427</th>\n",
       "      <td>0.0</td>\n",
       "      <td>0.0</td>\n",
       "      <td>0.0</td>\n",
       "      <td>0.0</td>\n",
       "      <td>0.0</td>\n",
       "      <td>0.0</td>\n",
       "      <td>0.0</td>\n",
       "      <td>0.0</td>\n",
       "      <td>0.0</td>\n",
       "      <td>0.0</td>\n",
       "      <td>...</td>\n",
       "      <td>0.0</td>\n",
       "      <td>0.0</td>\n",
       "      <td>0.0</td>\n",
       "      <td>0.0</td>\n",
       "      <td>0.0</td>\n",
       "      <td>0.0</td>\n",
       "      <td>0.0</td>\n",
       "      <td>0.0</td>\n",
       "      <td>-1.433681</td>\n",
       "      <td>-0.621034</td>\n",
       "    </tr>\n",
       "    <tr>\n",
       "      <th>28431</th>\n",
       "      <td>0.0</td>\n",
       "      <td>0.0</td>\n",
       "      <td>0.0</td>\n",
       "      <td>0.0</td>\n",
       "      <td>0.0</td>\n",
       "      <td>0.0</td>\n",
       "      <td>0.0</td>\n",
       "      <td>0.0</td>\n",
       "      <td>0.0</td>\n",
       "      <td>0.0</td>\n",
       "      <td>...</td>\n",
       "      <td>0.0</td>\n",
       "      <td>0.0</td>\n",
       "      <td>0.0</td>\n",
       "      <td>0.0</td>\n",
       "      <td>0.0</td>\n",
       "      <td>0.0</td>\n",
       "      <td>0.0</td>\n",
       "      <td>0.0</td>\n",
       "      <td>-0.331015</td>\n",
       "      <td>-0.234455</td>\n",
       "    </tr>\n",
       "    <tr>\n",
       "      <th>63265</th>\n",
       "      <td>0.0</td>\n",
       "      <td>0.0</td>\n",
       "      <td>0.0</td>\n",
       "      <td>0.0</td>\n",
       "      <td>0.0</td>\n",
       "      <td>0.0</td>\n",
       "      <td>0.0</td>\n",
       "      <td>1.0</td>\n",
       "      <td>0.0</td>\n",
       "      <td>0.0</td>\n",
       "      <td>...</td>\n",
       "      <td>0.0</td>\n",
       "      <td>0.0</td>\n",
       "      <td>0.0</td>\n",
       "      <td>0.0</td>\n",
       "      <td>0.0</td>\n",
       "      <td>0.0</td>\n",
       "      <td>0.0</td>\n",
       "      <td>0.0</td>\n",
       "      <td>-0.720191</td>\n",
       "      <td>-1.394192</td>\n",
       "    </tr>\n",
       "    <tr>\n",
       "      <th>9684</th>\n",
       "      <td>0.0</td>\n",
       "      <td>0.0</td>\n",
       "      <td>0.0</td>\n",
       "      <td>0.0</td>\n",
       "      <td>0.0</td>\n",
       "      <td>0.0</td>\n",
       "      <td>0.0</td>\n",
       "      <td>0.0</td>\n",
       "      <td>0.0</td>\n",
       "      <td>1.0</td>\n",
       "      <td>...</td>\n",
       "      <td>0.0</td>\n",
       "      <td>0.0</td>\n",
       "      <td>0.0</td>\n",
       "      <td>0.0</td>\n",
       "      <td>0.0</td>\n",
       "      <td>0.0</td>\n",
       "      <td>0.0</td>\n",
       "      <td>0.0</td>\n",
       "      <td>2.458082</td>\n",
       "      <td>-0.234455</td>\n",
       "    </tr>\n",
       "    <tr>\n",
       "      <th>38057</th>\n",
       "      <td>0.0</td>\n",
       "      <td>0.0</td>\n",
       "      <td>0.0</td>\n",
       "      <td>0.0</td>\n",
       "      <td>0.0</td>\n",
       "      <td>0.0</td>\n",
       "      <td>0.0</td>\n",
       "      <td>0.0</td>\n",
       "      <td>0.0</td>\n",
       "      <td>0.0</td>\n",
       "      <td>...</td>\n",
       "      <td>1.0</td>\n",
       "      <td>0.0</td>\n",
       "      <td>0.0</td>\n",
       "      <td>0.0</td>\n",
       "      <td>0.0</td>\n",
       "      <td>0.0</td>\n",
       "      <td>0.0</td>\n",
       "      <td>0.0</td>\n",
       "      <td>-1.368818</td>\n",
       "      <td>0.152124</td>\n",
       "    </tr>\n",
       "  </tbody>\n",
       "</table>\n",
       "<p>5 rows × 805 columns</p>\n",
       "</div>"
      ],
      "text/plain": [
       "       cat__SCHL_1  cat__SCHL_10  cat__SCHL_11  cat__SCHL_12  cat__SCHL_13  \\\n",
       "96427          0.0           0.0           0.0           0.0           0.0   \n",
       "28431          0.0           0.0           0.0           0.0           0.0   \n",
       "63265          0.0           0.0           0.0           0.0           0.0   \n",
       "9684           0.0           0.0           0.0           0.0           0.0   \n",
       "38057          0.0           0.0           0.0           0.0           0.0   \n",
       "\n",
       "       cat__SCHL_14  cat__SCHL_15  cat__SCHL_16  cat__SCHL_17  cat__SCHL_18  \\\n",
       "96427           0.0           0.0           0.0           0.0           0.0   \n",
       "28431           0.0           0.0           0.0           0.0           0.0   \n",
       "63265           0.0           0.0           1.0           0.0           0.0   \n",
       "9684            0.0           0.0           0.0           0.0           1.0   \n",
       "38057           0.0           0.0           0.0           0.0           0.0   \n",
       "\n",
       "       ...  cat__RELP_2  cat__RELP_3  cat__RELP_4  cat__RELP_5  cat__RELP_6  \\\n",
       "96427  ...          0.0          0.0          0.0          0.0          0.0   \n",
       "28431  ...          0.0          0.0          0.0          0.0          0.0   \n",
       "63265  ...          0.0          0.0          0.0          0.0          0.0   \n",
       "9684   ...          0.0          0.0          0.0          0.0          0.0   \n",
       "38057  ...          1.0          0.0          0.0          0.0          0.0   \n",
       "\n",
       "       cat__RELP_7  cat__RELP_8  cat__RELP_9  num__AGEP  num__WKHP  \n",
       "96427          0.0          0.0          0.0  -1.433681  -0.621034  \n",
       "28431          0.0          0.0          0.0  -0.331015  -0.234455  \n",
       "63265          0.0          0.0          0.0  -0.720191  -1.394192  \n",
       "9684           0.0          0.0          0.0   2.458082  -0.234455  \n",
       "38057          0.0          0.0          0.0  -1.368818   0.152124  \n",
       "\n",
       "[5 rows x 805 columns]"
      ]
     },
     "metadata": {},
     "output_type": "display_data"
    },
    {
     "name": "stderr",
     "output_type": "stream",
     "text": [
      "2023-11-24 02:25:48 experiment_interface.py INFO    : Models config is loaded from the input file\n",
      "INFO:root:Models config is loaded from the input file\n"
     ]
    },
    {
     "name": "stdout",
     "output_type": "stream",
     "text": [
      "Path for tuned params:  /home/dh3553/projects/fairness-variance/results/out_of_domain_uncertainty_rich_income_LR_70K/tuning_results_Folktables_2018_Income_alpha_0.0_exp_iter_1_20231123__230634.csv\n",
      "LogisticRegression:  {'C': 1, 'class_weight': None, 'dual': False, 'fit_intercept': True, 'intercept_scaling': 1, 'l1_ratio': None, 'max_iter': 1000, 'multi_class': 'auto', 'n_jobs': None, 'penalty': 'l1', 'random_state': 300, 'solver': 'saga', 'tol': 0.0001, 'verbose': 0, 'warm_start': False}\n"
     ]
    },
    {
     "data": {
      "application/vnd.jupyter.widget-view+json": {
       "model_id": "789c2e2b92a1475b8f28e6d2a02a14b7",
       "version_major": 2,
       "version_minor": 0
      },
      "text/plain": [
       "Analyze models in one run:   0%|          | 0/1 [00:00<?, ?it/s]"
      ]
     },
     "metadata": {},
     "output_type": "display_data"
    },
    {
     "data": {
      "application/vnd.jupyter.widget-view+json": {
       "model_id": "9152fd71a15648148c40479196b41cb8",
       "version_major": 2,
       "version_minor": 0
      },
      "text/plain": [
       "Classifiers testing by bootstrap:   0%|          | 0/200 [00:00<?, ?it/s]"
      ]
     },
     "metadata": {},
     "output_type": "display_data"
    }
   ],
   "source": [
    "run_exp_iter_with_disparate_impact_and_mult_sets(data_loader=exp_iter_data_loader,\n",
    "                                                 extra_data_loaders=exp_extra_data_loaders,\n",
    "                                                 experiment_seed=experiment_seed,\n",
    "                                                 test_set_fraction=TEST_SET_FRACTION,\n",
    "                                                 db_writer_func=db_writer_func,\n",
    "                                                 fair_intervention_params_lst=FAIR_INTERVENTION_PARAMS_LST,\n",
    "                                                 models_params_for_tuning=models_params_for_tuning,\n",
    "                                                 metrics_computation_config=metrics_computation_config,\n",
    "                                                 custom_table_fields_dct=custom_table_fields_dct,\n",
    "#                                                  with_tuning=True,\n",
    "                                                 with_tuning=False,\n",
    "                                                 tuned_params_df_paths=tuned_params_df_paths,\n",
    "                                                 save_results_dir_path=SAVE_RESULTS_DIR_PATH,\n",
    "                                                 train_set_subsample_size=TRAIN_SET_SUBSAMPLE_SIZE,\n",
    "                                                 verbose=True)"
   ]
  },
  {
   "cell_type": "markdown",
   "id": "4a7b6497",
   "metadata": {},
   "source": [
    "### Experiment iteration 4"
   ]
  },
  {
   "cell_type": "code",
   "execution_count": null,
   "id": "ee77bcb0",
   "metadata": {},
   "outputs": [],
   "source": [
    "# Configs for an experiment iteration\n",
    "exp_iter_num = 4\n",
    "experiment_seed = EXPERIMENT_SEEDS[exp_iter_num - 1]\n",
    "tuned_params_filenames = [\n",
    "    'tuning_results_Folktables_2018_Income_alpha_0.0_exp_iter_1_20231123__230634.csv'\n",
    "]\n",
    "tuned_params_df_paths = [os.path.join(ROOT_DIR, 'results', EXPERIMENT_NAME, tuned_params_filename)\n",
    "                         for tuned_params_filename in tuned_params_filenames]\n",
    "custom_table_fields_dct['experiment_iteration'] = f'Exp_iter_{exp_iter_num}'\n",
    "\n",
    "exp_iter_data_loader = copy.deepcopy(data_loader_rich)  # Add deepcopy to avoid data leakage\n",
    "exp_extra_data_loaders = copy.deepcopy(extra_data_loaders)  # Add deepcopy to avoid data leakage\n",
    "models_params_for_tuning = get_folktables_employment_models_params_for_tuning(experiment_seed)"
   ]
  },
  {
   "cell_type": "code",
   "execution_count": null,
   "id": "107a0253",
   "metadata": {},
   "outputs": [],
   "source": [
    "run_exp_iter_with_disparate_impact_and_mult_sets(data_loader=exp_iter_data_loader,\n",
    "                                                 extra_data_loaders=exp_extra_data_loaders,\n",
    "                                                 experiment_seed=experiment_seed,\n",
    "                                                 test_set_fraction=TEST_SET_FRACTION,\n",
    "                                                 db_writer_func=db_writer_func,\n",
    "                                                 fair_intervention_params_lst=FAIR_INTERVENTION_PARAMS_LST,\n",
    "                                                 models_params_for_tuning=models_params_for_tuning,\n",
    "                                                 metrics_computation_config=metrics_computation_config,\n",
    "                                                 custom_table_fields_dct=custom_table_fields_dct,\n",
    "#                                                  with_tuning=True,\n",
    "                                                 with_tuning=False,\n",
    "                                                 tuned_params_df_paths=tuned_params_df_paths,\n",
    "                                                 save_results_dir_path=SAVE_RESULTS_DIR_PATH,\n",
    "                                                 train_set_subsample_size=TRAIN_SET_SUBSAMPLE_SIZE,\n",
    "                                                 verbose=True)"
   ]
  },
  {
   "cell_type": "markdown",
   "id": "ded26e41",
   "metadata": {},
   "source": [
    "### Experiment iteration 5"
   ]
  },
  {
   "cell_type": "code",
   "execution_count": null,
   "id": "fc30d6b0",
   "metadata": {},
   "outputs": [],
   "source": [
    "# Configs for an experiment iteration\n",
    "exp_iter_num = 5\n",
    "experiment_seed = EXPERIMENT_SEEDS[exp_iter_num - 1]\n",
    "tuned_params_filenames = [\n",
    "    'tuning_results_Folktables_2018_Income_alpha_0.0_exp_iter_1_20231123__230634.csv'\n",
    "]\n",
    "tuned_params_df_paths = [os.path.join(ROOT_DIR, 'results', EXPERIMENT_NAME, tuned_params_filename)\n",
    "                         for tuned_params_filename in tuned_params_filenames]\n",
    "custom_table_fields_dct['experiment_iteration'] = f'Exp_iter_{exp_iter_num}'\n",
    "\n",
    "exp_iter_data_loader = copy.deepcopy(data_loader_rich)  # Add deepcopy to avoid data leakage\n",
    "exp_extra_data_loaders = copy.deepcopy(extra_data_loaders)  # Add deepcopy to avoid data leakage\n",
    "models_params_for_tuning = get_folktables_employment_models_params_for_tuning(experiment_seed)"
   ]
  },
  {
   "cell_type": "code",
   "execution_count": null,
   "id": "9a9139d7",
   "metadata": {},
   "outputs": [],
   "source": [
    "run_exp_iter_with_disparate_impact_and_mult_sets(data_loader=exp_iter_data_loader,\n",
    "                                                 extra_data_loaders=exp_extra_data_loaders,\n",
    "                                                 experiment_seed=experiment_seed,\n",
    "                                                 test_set_fraction=TEST_SET_FRACTION,\n",
    "                                                 db_writer_func=db_writer_func,\n",
    "                                                 fair_intervention_params_lst=FAIR_INTERVENTION_PARAMS_LST,\n",
    "                                                 models_params_for_tuning=models_params_for_tuning,\n",
    "                                                 metrics_computation_config=metrics_computation_config,\n",
    "                                                 custom_table_fields_dct=custom_table_fields_dct,\n",
    "#                                                  with_tuning=True,\n",
    "                                                 with_tuning=False,\n",
    "                                                 tuned_params_df_paths=tuned_params_df_paths,\n",
    "                                                 save_results_dir_path=SAVE_RESULTS_DIR_PATH,\n",
    "                                                 train_set_subsample_size=TRAIN_SET_SUBSAMPLE_SIZE,\n",
    "                                                 verbose=True)"
   ]
  },
  {
   "cell_type": "markdown",
   "id": "ba393a82",
   "metadata": {},
   "source": [
    "### Experiment iteration 6"
   ]
  },
  {
   "cell_type": "code",
   "execution_count": 14,
   "id": "874be677",
   "metadata": {},
   "outputs": [],
   "source": [
    "# Configs for an experiment iteration\n",
    "exp_iter_num = 6\n",
    "experiment_seed = EXPERIMENT_SEEDS[exp_iter_num - 1]\n",
    "tuned_params_filenames = [\n",
    "    'tuning_results_Folktables_2018_Income_alpha_0.0_exp_iter_1_20231123__230634.csv'\n",
    "]\n",
    "tuned_params_df_paths = [os.path.join(ROOT_DIR, 'results', EXPERIMENT_NAME, tuned_params_filename)\n",
    "                         for tuned_params_filename in tuned_params_filenames]\n",
    "custom_table_fields_dct['experiment_iteration'] = f'Exp_iter_{exp_iter_num}'\n",
    "\n",
    "exp_iter_data_loader = copy.deepcopy(data_loader_rich)  # Add deepcopy to avoid data leakage\n",
    "exp_extra_data_loaders = copy.deepcopy(extra_data_loaders)  # Add deepcopy to avoid data leakage\n",
    "models_params_for_tuning = get_folktables_employment_models_params_for_tuning(experiment_seed)"
   ]
  },
  {
   "cell_type": "code",
   "execution_count": 15,
   "id": "f37aded9",
   "metadata": {},
   "outputs": [
    {
     "name": "stderr",
     "output_type": "stream",
     "text": [
      "2023-11-24 06:06:02 experiment_interface.py INFO    : Start an experiment iteration for the following custom params:\n",
      "INFO:root:Start an experiment iteration for the following custom params:\n"
     ]
    },
    {
     "name": "stdout",
     "output_type": "stream",
     "text": [
      "{'dataset_split_seed': 600,\n",
      " 'experiment_iteration': 'Exp_iter_6',\n",
      " 'fair_intervention_params_lst': '[0.0]',\n",
      " 'model_init_seed': 600,\n",
      " 'session_uuid': '20a516c0-8105-40e7-aae1-7ee97a2dea68'}\n",
      "\n",
      "\n"
     ]
    },
    {
     "name": "stderr",
     "output_type": "stream",
     "text": [
      "2023-11-24 06:06:02 experiment_interface.py INFO    : Start dataset preprocessing\n",
      "INFO:root:Start dataset preprocessing\n"
     ]
    },
    {
     "name": "stdout",
     "output_type": "stream",
     "text": [
      "Top indexes of X_train_val:  Int64Index([36981, 86546, 14228, 28477, 20974, 46656, 84228, 26307, 16425,\n",
      "            90492, 81773, 72620, 60307, 16885, 95200, 77672, 80453, 16360,\n",
      "            88925,  9232],\n",
      "           dtype='int64')\n",
      "Top indexes of y_train_val:  Int64Index([36981, 86546, 14228, 28477, 20974, 46656, 84228, 26307, 16425,\n",
      "            90492, 81773, 72620, 60307, 16885, 95200, 77672, 80453, 16360,\n",
      "            88925,  9232],\n",
      "           dtype='int64')\n",
      "\n",
      "\n",
      "\n",
      "In-domain full_df.shape --  (80000, 9)\n",
      "In-domain init_features_df.shape --  (80000, 10)\n",
      "In-domain number of rows in X_train_val --  70000\n",
      "In-domain number of rows in X_test --  10000\n"
     ]
    },
    {
     "name": "stderr",
     "output_type": "stream",
     "text": [
      "2023-11-24 06:06:03 experiment_interface.py INFO    : The dataset is preprocessed\n",
      "INFO:root:The dataset is preprocessed\n"
     ]
    },
    {
     "name": "stdout",
     "output_type": "stream",
     "text": [
      "Out-of-domain 1 init_features_df.shape --  (100000, 10)\n",
      "Out-of-domain 1 number of rows in X_train_val --  0\n",
      "Out-of-domain 1 number of rows in X_test --  10000\n"
     ]
    },
    {
     "data": {
      "application/vnd.jupyter.widget-view+json": {
       "model_id": "6345b0d643f0413eab16099c8efa3c38",
       "version_major": 2,
       "version_minor": 0
      },
      "text/plain": [
       "Multiple alphas:   0%|          | 0/1 [00:00<?, ?it/s]"
      ]
     },
     "metadata": {},
     "output_type": "display_data"
    },
    {
     "name": "stderr",
     "output_type": "stream",
     "text": [
      "2023-11-24 06:06:03 experiment_interface.py INFO    : Start fairness intervention\n",
      "INFO:root:Start fairness intervention\n"
     ]
    },
    {
     "name": "stdout",
     "output_type": "stream",
     "text": [
      "intervention_param:  0.0\n"
     ]
    },
    {
     "name": "stderr",
     "output_type": "stream",
     "text": [
      "2023-11-24 06:14:19 experiment_interface.py INFO    : Fairness intervention is completed\n",
      "INFO:root:Fairness intervention is completed\n"
     ]
    },
    {
     "name": "stdout",
     "output_type": "stream",
     "text": [
      "Number of rows in the in-domain X_test 10000\n",
      "Top indexes of an X_test in an in-domain base flow dataset:  Int64Index([14569, 16234, 60014, 58865, 48210, 83963, 96960, 73528, 69736,\n",
      "            35509, 36257, 39564, 22535, 63768, 69559, 82435, 25561, 50489,\n",
      "            43817, 75536],\n",
      "           dtype='int64')\n",
      "Top indexes of an y_test in an in-domain base flow dataset:  Int64Index([14569, 16234, 60014, 58865, 48210, 83963, 96960, 73528, 69736,\n",
      "            35509, 36257, 39564, 22535, 63768, 69559, 82435, 25561, 50489,\n",
      "            43817, 75536],\n",
      "           dtype='int64')\n"
     ]
    },
    {
     "data": {
      "text/html": [
       "<div>\n",
       "<style scoped>\n",
       "    .dataframe tbody tr th:only-of-type {\n",
       "        vertical-align: middle;\n",
       "    }\n",
       "\n",
       "    .dataframe tbody tr th {\n",
       "        vertical-align: top;\n",
       "    }\n",
       "\n",
       "    .dataframe thead th {\n",
       "        text-align: right;\n",
       "    }\n",
       "</style>\n",
       "<table border=\"1\" class=\"dataframe\">\n",
       "  <thead>\n",
       "    <tr style=\"text-align: right;\">\n",
       "      <th></th>\n",
       "      <th>cat__SCHL_1</th>\n",
       "      <th>cat__SCHL_10</th>\n",
       "      <th>cat__SCHL_11</th>\n",
       "      <th>cat__SCHL_12</th>\n",
       "      <th>cat__SCHL_13</th>\n",
       "      <th>cat__SCHL_14</th>\n",
       "      <th>cat__SCHL_15</th>\n",
       "      <th>cat__SCHL_16</th>\n",
       "      <th>cat__SCHL_17</th>\n",
       "      <th>cat__SCHL_18</th>\n",
       "      <th>...</th>\n",
       "      <th>cat__RELP_2</th>\n",
       "      <th>cat__RELP_3</th>\n",
       "      <th>cat__RELP_4</th>\n",
       "      <th>cat__RELP_5</th>\n",
       "      <th>cat__RELP_6</th>\n",
       "      <th>cat__RELP_7</th>\n",
       "      <th>cat__RELP_8</th>\n",
       "      <th>cat__RELP_9</th>\n",
       "      <th>num__AGEP</th>\n",
       "      <th>num__WKHP</th>\n",
       "    </tr>\n",
       "  </thead>\n",
       "  <tbody>\n",
       "    <tr>\n",
       "      <th>14569</th>\n",
       "      <td>0.0</td>\n",
       "      <td>0.0</td>\n",
       "      <td>0.0</td>\n",
       "      <td>0.0</td>\n",
       "      <td>0.0</td>\n",
       "      <td>0.0</td>\n",
       "      <td>1.0</td>\n",
       "      <td>0.0</td>\n",
       "      <td>0.0</td>\n",
       "      <td>0.0</td>\n",
       "      <td>...</td>\n",
       "      <td>0.0</td>\n",
       "      <td>0.0</td>\n",
       "      <td>0.0</td>\n",
       "      <td>0.0</td>\n",
       "      <td>0.0</td>\n",
       "      <td>0.0</td>\n",
       "      <td>0.0</td>\n",
       "      <td>0.0</td>\n",
       "      <td>0.190351</td>\n",
       "      <td>0.151939</td>\n",
       "    </tr>\n",
       "    <tr>\n",
       "      <th>16234</th>\n",
       "      <td>0.0</td>\n",
       "      <td>0.0</td>\n",
       "      <td>0.0</td>\n",
       "      <td>0.0</td>\n",
       "      <td>0.0</td>\n",
       "      <td>0.0</td>\n",
       "      <td>0.0</td>\n",
       "      <td>0.0</td>\n",
       "      <td>0.0</td>\n",
       "      <td>0.0</td>\n",
       "      <td>...</td>\n",
       "      <td>1.0</td>\n",
       "      <td>0.0</td>\n",
       "      <td>0.0</td>\n",
       "      <td>0.0</td>\n",
       "      <td>0.0</td>\n",
       "      <td>0.0</td>\n",
       "      <td>0.0</td>\n",
       "      <td>0.0</td>\n",
       "      <td>-0.782884</td>\n",
       "      <td>0.151939</td>\n",
       "    </tr>\n",
       "    <tr>\n",
       "      <th>60014</th>\n",
       "      <td>0.0</td>\n",
       "      <td>0.0</td>\n",
       "      <td>0.0</td>\n",
       "      <td>0.0</td>\n",
       "      <td>0.0</td>\n",
       "      <td>0.0</td>\n",
       "      <td>0.0</td>\n",
       "      <td>0.0</td>\n",
       "      <td>0.0</td>\n",
       "      <td>0.0</td>\n",
       "      <td>...</td>\n",
       "      <td>0.0</td>\n",
       "      <td>0.0</td>\n",
       "      <td>0.0</td>\n",
       "      <td>0.0</td>\n",
       "      <td>0.0</td>\n",
       "      <td>0.0</td>\n",
       "      <td>0.0</td>\n",
       "      <td>0.0</td>\n",
       "      <td>0.125469</td>\n",
       "      <td>0.151939</td>\n",
       "    </tr>\n",
       "    <tr>\n",
       "      <th>58865</th>\n",
       "      <td>0.0</td>\n",
       "      <td>0.0</td>\n",
       "      <td>0.0</td>\n",
       "      <td>0.0</td>\n",
       "      <td>0.0</td>\n",
       "      <td>0.0</td>\n",
       "      <td>0.0</td>\n",
       "      <td>0.0</td>\n",
       "      <td>0.0</td>\n",
       "      <td>0.0</td>\n",
       "      <td>...</td>\n",
       "      <td>1.0</td>\n",
       "      <td>0.0</td>\n",
       "      <td>0.0</td>\n",
       "      <td>0.0</td>\n",
       "      <td>0.0</td>\n",
       "      <td>0.0</td>\n",
       "      <td>0.0</td>\n",
       "      <td>0.0</td>\n",
       "      <td>-1.431707</td>\n",
       "      <td>-1.393715</td>\n",
       "    </tr>\n",
       "    <tr>\n",
       "      <th>48210</th>\n",
       "      <td>0.0</td>\n",
       "      <td>0.0</td>\n",
       "      <td>0.0</td>\n",
       "      <td>0.0</td>\n",
       "      <td>0.0</td>\n",
       "      <td>0.0</td>\n",
       "      <td>0.0</td>\n",
       "      <td>0.0</td>\n",
       "      <td>0.0</td>\n",
       "      <td>0.0</td>\n",
       "      <td>...</td>\n",
       "      <td>0.0</td>\n",
       "      <td>0.0</td>\n",
       "      <td>0.0</td>\n",
       "      <td>0.0</td>\n",
       "      <td>0.0</td>\n",
       "      <td>0.0</td>\n",
       "      <td>0.0</td>\n",
       "      <td>0.0</td>\n",
       "      <td>-0.069178</td>\n",
       "      <td>0.151939</td>\n",
       "    </tr>\n",
       "  </tbody>\n",
       "</table>\n",
       "<p>5 rows × 803 columns</p>\n",
       "</div>"
      ],
      "text/plain": [
       "       cat__SCHL_1  cat__SCHL_10  cat__SCHL_11  cat__SCHL_12  cat__SCHL_13  \\\n",
       "14569          0.0           0.0           0.0           0.0           0.0   \n",
       "16234          0.0           0.0           0.0           0.0           0.0   \n",
       "60014          0.0           0.0           0.0           0.0           0.0   \n",
       "58865          0.0           0.0           0.0           0.0           0.0   \n",
       "48210          0.0           0.0           0.0           0.0           0.0   \n",
       "\n",
       "       cat__SCHL_14  cat__SCHL_15  cat__SCHL_16  cat__SCHL_17  cat__SCHL_18  \\\n",
       "14569           0.0           1.0           0.0           0.0           0.0   \n",
       "16234           0.0           0.0           0.0           0.0           0.0   \n",
       "60014           0.0           0.0           0.0           0.0           0.0   \n",
       "58865           0.0           0.0           0.0           0.0           0.0   \n",
       "48210           0.0           0.0           0.0           0.0           0.0   \n",
       "\n",
       "       ...  cat__RELP_2  cat__RELP_3  cat__RELP_4  cat__RELP_5  cat__RELP_6  \\\n",
       "14569  ...          0.0          0.0          0.0          0.0          0.0   \n",
       "16234  ...          1.0          0.0          0.0          0.0          0.0   \n",
       "60014  ...          0.0          0.0          0.0          0.0          0.0   \n",
       "58865  ...          1.0          0.0          0.0          0.0          0.0   \n",
       "48210  ...          0.0          0.0          0.0          0.0          0.0   \n",
       "\n",
       "       cat__RELP_7  cat__RELP_8  cat__RELP_9  num__AGEP  num__WKHP  \n",
       "14569          0.0          0.0          0.0   0.190351   0.151939  \n",
       "16234          0.0          0.0          0.0  -0.782884   0.151939  \n",
       "60014          0.0          0.0          0.0   0.125469   0.151939  \n",
       "58865          0.0          0.0          0.0  -1.431707  -1.393715  \n",
       "48210          0.0          0.0          0.0  -0.069178   0.151939  \n",
       "\n",
       "[5 rows x 803 columns]"
      ]
     },
     "metadata": {},
     "output_type": "display_data"
    },
    {
     "name": "stdout",
     "output_type": "stream",
     "text": [
      "\n",
      "\n",
      "\n",
      "Number of rows in the out-of-domain X_test 10000\n",
      "Top indexes of an X_test in an out-of-domain base flow dataset:  Int64Index([14569, 16234, 60014, 58865, 48210, 83963, 96960, 73528, 69736,\n",
      "            35509, 36257, 39564, 22535, 63768, 69559, 82435, 25561, 50489,\n",
      "            43817, 75536],\n",
      "           dtype='int64')\n",
      "Top indexes of an y_test in an out-of-domain base flow dataset:  Int64Index([14569, 16234, 60014, 58865, 48210, 83963, 96960, 73528, 69736,\n",
      "            35509, 36257, 39564, 22535, 63768, 69559, 82435, 25561, 50489,\n",
      "            43817, 75536],\n",
      "           dtype='int64')\n"
     ]
    },
    {
     "data": {
      "text/html": [
       "<div>\n",
       "<style scoped>\n",
       "    .dataframe tbody tr th:only-of-type {\n",
       "        vertical-align: middle;\n",
       "    }\n",
       "\n",
       "    .dataframe tbody tr th {\n",
       "        vertical-align: top;\n",
       "    }\n",
       "\n",
       "    .dataframe thead th {\n",
       "        text-align: right;\n",
       "    }\n",
       "</style>\n",
       "<table border=\"1\" class=\"dataframe\">\n",
       "  <thead>\n",
       "    <tr style=\"text-align: right;\">\n",
       "      <th></th>\n",
       "      <th>cat__SCHL_1</th>\n",
       "      <th>cat__SCHL_10</th>\n",
       "      <th>cat__SCHL_11</th>\n",
       "      <th>cat__SCHL_12</th>\n",
       "      <th>cat__SCHL_13</th>\n",
       "      <th>cat__SCHL_14</th>\n",
       "      <th>cat__SCHL_15</th>\n",
       "      <th>cat__SCHL_16</th>\n",
       "      <th>cat__SCHL_17</th>\n",
       "      <th>cat__SCHL_18</th>\n",
       "      <th>...</th>\n",
       "      <th>cat__RELP_2</th>\n",
       "      <th>cat__RELP_3</th>\n",
       "      <th>cat__RELP_4</th>\n",
       "      <th>cat__RELP_5</th>\n",
       "      <th>cat__RELP_6</th>\n",
       "      <th>cat__RELP_7</th>\n",
       "      <th>cat__RELP_8</th>\n",
       "      <th>cat__RELP_9</th>\n",
       "      <th>num__AGEP</th>\n",
       "      <th>num__WKHP</th>\n",
       "    </tr>\n",
       "  </thead>\n",
       "  <tbody>\n",
       "    <tr>\n",
       "      <th>14569</th>\n",
       "      <td>0.0</td>\n",
       "      <td>0.0</td>\n",
       "      <td>1.0</td>\n",
       "      <td>0.0</td>\n",
       "      <td>0.0</td>\n",
       "      <td>0.0</td>\n",
       "      <td>0.0</td>\n",
       "      <td>0.0</td>\n",
       "      <td>0.0</td>\n",
       "      <td>0.0</td>\n",
       "      <td>...</td>\n",
       "      <td>0.0</td>\n",
       "      <td>0.0</td>\n",
       "      <td>0.0</td>\n",
       "      <td>0.0</td>\n",
       "      <td>0.0</td>\n",
       "      <td>0.0</td>\n",
       "      <td>0.0</td>\n",
       "      <td>0.0</td>\n",
       "      <td>1.942174</td>\n",
       "      <td>0.151939</td>\n",
       "    </tr>\n",
       "    <tr>\n",
       "      <th>16234</th>\n",
       "      <td>0.0</td>\n",
       "      <td>0.0</td>\n",
       "      <td>0.0</td>\n",
       "      <td>0.0</td>\n",
       "      <td>0.0</td>\n",
       "      <td>0.0</td>\n",
       "      <td>0.0</td>\n",
       "      <td>0.0</td>\n",
       "      <td>0.0</td>\n",
       "      <td>0.0</td>\n",
       "      <td>...</td>\n",
       "      <td>0.0</td>\n",
       "      <td>0.0</td>\n",
       "      <td>0.0</td>\n",
       "      <td>0.0</td>\n",
       "      <td>0.0</td>\n",
       "      <td>0.0</td>\n",
       "      <td>0.0</td>\n",
       "      <td>0.0</td>\n",
       "      <td>0.579645</td>\n",
       "      <td>0.151939</td>\n",
       "    </tr>\n",
       "    <tr>\n",
       "      <th>60014</th>\n",
       "      <td>0.0</td>\n",
       "      <td>0.0</td>\n",
       "      <td>0.0</td>\n",
       "      <td>0.0</td>\n",
       "      <td>0.0</td>\n",
       "      <td>0.0</td>\n",
       "      <td>0.0</td>\n",
       "      <td>1.0</td>\n",
       "      <td>0.0</td>\n",
       "      <td>0.0</td>\n",
       "      <td>...</td>\n",
       "      <td>0.0</td>\n",
       "      <td>0.0</td>\n",
       "      <td>0.0</td>\n",
       "      <td>0.0</td>\n",
       "      <td>0.0</td>\n",
       "      <td>0.0</td>\n",
       "      <td>0.0</td>\n",
       "      <td>0.0</td>\n",
       "      <td>0.320116</td>\n",
       "      <td>0.461070</td>\n",
       "    </tr>\n",
       "    <tr>\n",
       "      <th>58865</th>\n",
       "      <td>0.0</td>\n",
       "      <td>0.0</td>\n",
       "      <td>0.0</td>\n",
       "      <td>0.0</td>\n",
       "      <td>0.0</td>\n",
       "      <td>0.0</td>\n",
       "      <td>0.0</td>\n",
       "      <td>0.0</td>\n",
       "      <td>0.0</td>\n",
       "      <td>0.0</td>\n",
       "      <td>...</td>\n",
       "      <td>0.0</td>\n",
       "      <td>0.0</td>\n",
       "      <td>0.0</td>\n",
       "      <td>0.0</td>\n",
       "      <td>0.0</td>\n",
       "      <td>0.0</td>\n",
       "      <td>0.0</td>\n",
       "      <td>0.0</td>\n",
       "      <td>0.384998</td>\n",
       "      <td>-0.234475</td>\n",
       "    </tr>\n",
       "    <tr>\n",
       "      <th>48210</th>\n",
       "      <td>0.0</td>\n",
       "      <td>0.0</td>\n",
       "      <td>0.0</td>\n",
       "      <td>0.0</td>\n",
       "      <td>0.0</td>\n",
       "      <td>0.0</td>\n",
       "      <td>0.0</td>\n",
       "      <td>1.0</td>\n",
       "      <td>0.0</td>\n",
       "      <td>0.0</td>\n",
       "      <td>...</td>\n",
       "      <td>0.0</td>\n",
       "      <td>0.0</td>\n",
       "      <td>0.0</td>\n",
       "      <td>0.0</td>\n",
       "      <td>0.0</td>\n",
       "      <td>0.0</td>\n",
       "      <td>0.0</td>\n",
       "      <td>0.0</td>\n",
       "      <td>-1.237060</td>\n",
       "      <td>0.151939</td>\n",
       "    </tr>\n",
       "  </tbody>\n",
       "</table>\n",
       "<p>5 rows × 803 columns</p>\n",
       "</div>"
      ],
      "text/plain": [
       "       cat__SCHL_1  cat__SCHL_10  cat__SCHL_11  cat__SCHL_12  cat__SCHL_13  \\\n",
       "14569          0.0           0.0           1.0           0.0           0.0   \n",
       "16234          0.0           0.0           0.0           0.0           0.0   \n",
       "60014          0.0           0.0           0.0           0.0           0.0   \n",
       "58865          0.0           0.0           0.0           0.0           0.0   \n",
       "48210          0.0           0.0           0.0           0.0           0.0   \n",
       "\n",
       "       cat__SCHL_14  cat__SCHL_15  cat__SCHL_16  cat__SCHL_17  cat__SCHL_18  \\\n",
       "14569           0.0           0.0           0.0           0.0           0.0   \n",
       "16234           0.0           0.0           0.0           0.0           0.0   \n",
       "60014           0.0           0.0           1.0           0.0           0.0   \n",
       "58865           0.0           0.0           0.0           0.0           0.0   \n",
       "48210           0.0           0.0           1.0           0.0           0.0   \n",
       "\n",
       "       ...  cat__RELP_2  cat__RELP_3  cat__RELP_4  cat__RELP_5  cat__RELP_6  \\\n",
       "14569  ...          0.0          0.0          0.0          0.0          0.0   \n",
       "16234  ...          0.0          0.0          0.0          0.0          0.0   \n",
       "60014  ...          0.0          0.0          0.0          0.0          0.0   \n",
       "58865  ...          0.0          0.0          0.0          0.0          0.0   \n",
       "48210  ...          0.0          0.0          0.0          0.0          0.0   \n",
       "\n",
       "       cat__RELP_7  cat__RELP_8  cat__RELP_9  num__AGEP  num__WKHP  \n",
       "14569          0.0          0.0          0.0   1.942174   0.151939  \n",
       "16234          0.0          0.0          0.0   0.579645   0.151939  \n",
       "60014          0.0          0.0          0.0   0.320116   0.461070  \n",
       "58865          0.0          0.0          0.0   0.384998  -0.234475  \n",
       "48210          0.0          0.0          0.0  -1.237060   0.151939  \n",
       "\n",
       "[5 rows x 803 columns]"
      ]
     },
     "metadata": {},
     "output_type": "display_data"
    },
    {
     "name": "stderr",
     "output_type": "stream",
     "text": [
      "2023-11-24 06:14:19 experiment_interface.py INFO    : Models config is loaded from the input file\n",
      "INFO:root:Models config is loaded from the input file\n"
     ]
    },
    {
     "name": "stdout",
     "output_type": "stream",
     "text": [
      "Path for tuned params:  /home/dh3553/projects/fairness-variance/results/out_of_domain_uncertainty_rich_income_LR_70K/tuning_results_Folktables_2018_Income_alpha_0.0_exp_iter_1_20231123__230634.csv\n",
      "LogisticRegression:  {'C': 1, 'class_weight': None, 'dual': False, 'fit_intercept': True, 'intercept_scaling': 1, 'l1_ratio': None, 'max_iter': 1000, 'multi_class': 'auto', 'n_jobs': None, 'penalty': 'l1', 'random_state': 600, 'solver': 'saga', 'tol': 0.0001, 'verbose': 0, 'warm_start': False}\n"
     ]
    },
    {
     "data": {
      "application/vnd.jupyter.widget-view+json": {
       "model_id": "6fe48df767ed440c9a0eb28bd0bfccac",
       "version_major": 2,
       "version_minor": 0
      },
      "text/plain": [
       "Analyze models in one run:   0%|          | 0/1 [00:00<?, ?it/s]"
      ]
     },
     "metadata": {},
     "output_type": "display_data"
    },
    {
     "data": {
      "application/vnd.jupyter.widget-view+json": {
       "model_id": "ce696cee6cbf4515af555487c4c45320",
       "version_major": 2,
       "version_minor": 0
      },
      "text/plain": [
       "Classifiers testing by bootstrap:   0%|          | 0/200 [00:00<?, ?it/s]"
      ]
     },
     "metadata": {},
     "output_type": "display_data"
    }
   ],
   "source": [
    "run_exp_iter_with_disparate_impact_and_mult_sets(data_loader=exp_iter_data_loader,\n",
    "                                                 extra_data_loaders=exp_extra_data_loaders,\n",
    "                                                 experiment_seed=experiment_seed,\n",
    "                                                 test_set_fraction=TEST_SET_FRACTION,\n",
    "                                                 db_writer_func=db_writer_func,\n",
    "                                                 fair_intervention_params_lst=FAIR_INTERVENTION_PARAMS_LST,\n",
    "                                                 models_params_for_tuning=models_params_for_tuning,\n",
    "                                                 metrics_computation_config=metrics_computation_config,\n",
    "                                                 custom_table_fields_dct=custom_table_fields_dct,\n",
    "#                                                  with_tuning=True,\n",
    "                                                 with_tuning=False,\n",
    "                                                 tuned_params_df_paths=tuned_params_df_paths,\n",
    "                                                 save_results_dir_path=SAVE_RESULTS_DIR_PATH,\n",
    "                                                 train_set_subsample_size=TRAIN_SET_SUBSAMPLE_SIZE,\n",
    "                                                 verbose=True)"
   ]
  },
  {
   "cell_type": "code",
   "execution_count": 21,
   "id": "5e752e92",
   "metadata": {
    "ExecuteTime": {
     "end_time": "2023-10-21T14:39:24.699770Z",
     "start_time": "2023-10-21T14:39:24.695011Z"
    }
   },
   "outputs": [],
   "source": []
  }
 ],
 "metadata": {
  "kernelspec": {
   "display_name": "Python 3",
   "language": "python",
   "name": "python3"
  },
  "language_info": {
   "codemirror_mode": {
    "name": "ipython",
    "version": 3
   },
   "file_extension": ".py",
   "mimetype": "text/x-python",
   "name": "python",
   "nbconvert_exporter": "python",
   "pygments_lexer": "ipython3",
   "version": "3.8.5"
  }
 },
 "nbformat": 4,
 "nbformat_minor": 5
}
