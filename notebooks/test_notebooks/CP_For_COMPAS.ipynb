{
 "cells": [
  {
   "cell_type": "code",
   "execution_count": 6,
   "outputs": [],
   "source": [
    "import os\n",
    "import pandas as pd\n",
    "import numpy as np\n",
    "\n",
    "from sklearn.model_selection import train_test_split\n",
    "from sklearn.preprocessing import LabelEncoder\n",
    "from sklearn.naive_bayes import GaussianNB\n",
    "\n",
    "from virny.datasets.data_loaders import CompasDataset\n",
    "from virny.preprocessing.basic_preprocessing import make_features_dfs\n",
    "\n",
    "seed = 42\n",
    "\n",
    "# Read in the data from Excel file\n",
    "dataset = CompasDataset(dataset_path=os.path.join('..', 'virny', 'datasets', 'COMPAS.csv'))\n",
    "\n",
    "# Split of training data\n",
    "X_train_val, X_test, y_train_val, y_test = train_test_split(dataset.X_data, dataset.y_data,\n",
    "                                                    test_size=0.2,\n",
    "                                                    random_state=seed)\n",
    "X_train_val_features, X_test_features = make_features_dfs(X_train_val, X_test, dataset)\n",
    "\n",
    "# From the remaining data, split of test data\n",
    "X_train, X_val, y_train, y_val = train_test_split(X_train_val_features, y_train_val, test_size=0.25, random_state=seed)\n",
    "\n",
    "# Split remaining into calibration and \"new\" data\n",
    "X_calib, X_new, y_calib, y_new = train_test_split(\n",
    "    X_val, y_val, test_size=0.3, random_state=seed\n",
    ")\n",
    "\n",
    "# Fit the model\n",
    "model = GaussianNB().fit(X_train, y_train)"
   ],
   "metadata": {
    "collapsed": false
   }
  },
  {
   "cell_type": "code",
   "execution_count": 7,
   "outputs": [
    {
     "name": "stdout",
     "output_type": "stream",
     "text": [
      "Accuracy: 0.634469696969697\n"
     ]
    },
    {
     "data": {
      "text/plain": "array([[402, 183],\n       [203, 268]])"
     },
     "execution_count": 7,
     "metadata": {},
     "output_type": "execute_result"
    }
   ],
   "source": [
    "from sklearn.metrics import confusion_matrix\n",
    "\n",
    "# Check accuracy\n",
    "y_pred = model.predict(X_test_features)\n",
    "print(\"Accuracy:\", (y_pred == y_test).mean())\n",
    "\n",
    "# Create the confusion matrix\n",
    "cm = confusion_matrix(y_test, y_pred)\n",
    "cm"
   ],
   "metadata": {
    "collapsed": false
   }
  },
  {
   "cell_type": "code",
   "execution_count": 8,
   "outputs": [],
   "source": [
    "# Size of calibration data\n",
    "n = len(X_calib)\n",
    "# Get the probability predictions\n",
    "predictions = model.predict_proba(X_calib)\n",
    "# We only need the probability for the true class\n",
    "prob_true_class = predictions[np.arange(n),y_calib]\n",
    "# Turn into uncertainty score (larger means more uncertain)\n",
    "scores = 1 - prob_true_class"
   ],
   "metadata": {
    "collapsed": false
   }
  },
  {
   "cell_type": "code",
   "execution_count": 9,
   "outputs": [],
   "source": [
    "# Setting the alpha so that we get 95% prediction sets\n",
    "alpha = 0.05\n",
    "# Define quantile\n",
    "q_level = np.ceil((n+1)*(1-alpha))/n\n",
    "qhat = np.quantile(scores, q_level, method='higher')"
   ],
   "metadata": {
    "collapsed": false
   }
  },
  {
   "cell_type": "code",
   "execution_count": 10,
   "outputs": [
    {
     "data": {
      "text/plain": "<Figure size 640x480 with 1 Axes>",
      "image/png": "[encoded data removed]"
     },
     "metadata": {},
     "output_type": "display_data"
    }
   ],
   "source": [
    "import matplotlib.pyplot as plt\n",
    "\n",
    "# Get the \"probabilities\" from the model\n",
    "predictions = model.predict_proba(X_calib)\n",
    "# Get for each instance the actual probability of ground truth\n",
    "prob_for_true_class = predictions[np.arange(len(y_calib)),y_calib]\n",
    "# Create a histogram\n",
    "plt.hist(1 - prob_for_true_class, bins=30, range=(0, 1))\n",
    "# Add a title and labels\n",
    "plt.xlabel(\"1 - s(y,x)\")\n",
    "plt.ylabel(\"Frequency\")\n",
    "plt.show()"
   ],
   "metadata": {
    "collapsed": false
   }
  },
  {
   "cell_type": "code",
   "execution_count": 11,
   "outputs": [],
   "source": [
    "prediction_sets = (1 - model.predict_proba(X_new) <= qhat)"
   ],
   "metadata": {
    "collapsed": false
   }
  },
  {
   "cell_type": "code",
   "execution_count": 14,
   "outputs": [
    {
     "name": "stdout",
     "output_type": "stream",
     "text": [
      "[ True  True]\n",
      "[ True  True]\n",
      "[ True  True]\n",
      "[ True  True]\n",
      "[ True  True]\n",
      "[ True  True]\n",
      "[ True  True]\n",
      "[ True  True]\n",
      "[False  True]\n",
      "[ True  True]\n"
     ]
    }
   ],
   "source": [
    "for i in range(10):\n",
    "    print(prediction_sets[i])"
   ],
   "metadata": {
    "collapsed": false
   }
  },
  {
   "cell_type": "code",
   "execution_count": 13,
   "outputs": [
    {
     "name": "stdout",
     "output_type": "stream",
     "text": [
      "Coverage: 95.90%\n",
      "Avg. set size: 1.80\n"
     ]
    }
   ],
   "source": [
    "from mapie.metrics import classification_coverage_score\n",
    "from mapie.metrics import classification_mean_width_score\n",
    "\n",
    "y_set = np.squeeze(prediction_sets)\n",
    "cov = classification_coverage_score(y_new, y_set)\n",
    "setsize = classification_mean_width_score(y_set)\n",
    "print('Coverage: {:.2%}'.format(cov))\n",
    "print('Avg. set size: {:.2f}'.format(setsize))"
   ],
   "metadata": {
    "collapsed": false
   }
  },
  {
   "cell_type": "code",
   "execution_count": 13,
   "outputs": [],
   "source": [],
   "metadata": {
    "collapsed": false
   }
  }
 ],
 "metadata": {
  "kernelspec": {
   "display_name": "Python 3",
   "language": "python",
   "name": "python3"
  },
  "language_info": {
   "codemirror_mode": {
    "name": "ipython",
    "version": 2
   },
   "file_extension": ".py",
   "mimetype": "text/x-python",
   "name": "python",
   "nbconvert_exporter": "python",
   "pygments_lexer": "ipython2",
   "version": "2.7.6"
  }
 },
 "nbformat": 4,
 "nbformat_minor": 0
}
