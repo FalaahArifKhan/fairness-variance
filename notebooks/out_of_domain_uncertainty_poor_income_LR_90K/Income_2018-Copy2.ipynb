{
 "cells": [
  {
   "cell_type": "code",
   "execution_count": 1,
   "id": "3353abb4",
   "metadata": {
    "ExecuteTime": {
     "end_time": "2023-10-22T22:47:29.233575Z",
     "start_time": "2023-10-22T22:47:29.076750Z"
    }
   },
   "outputs": [],
   "source": [
    "# !pip install -r ./requirements.txt"
   ]
  },
  {
   "cell_type": "code",
   "execution_count": 2,
   "id": "878a61dc",
   "metadata": {
    "ExecuteTime": {
     "end_time": "2023-10-22T22:47:29.233805Z",
     "start_time": "2023-10-22T22:47:29.078075Z"
    }
   },
   "outputs": [],
   "source": [
    "# !pip uninstall virny -y"
   ]
  },
  {
   "cell_type": "code",
   "execution_count": 3,
   "id": "c4eab343",
   "metadata": {
    "ExecuteTime": {
     "end_time": "2023-10-22T22:47:29.233865Z",
     "start_time": "2023-10-22T22:47:29.080015Z"
    }
   },
   "outputs": [],
   "source": [
    "# Install using an HTTP link\n",
    "# !pip install git+https://github.com/DataResponsibly/Virny.git@development\n",
    "\n",
    "# Install using an SSH link\n",
    "# !pip install git+ssh://git@github.com/DataResponsibly/Virny.git@development"
   ]
  },
  {
   "cell_type": "code",
   "execution_count": 4,
   "id": "dbfa97cc",
   "metadata": {
    "ExecuteTime": {
     "end_time": "2023-10-22T22:47:29.277478Z",
     "start_time": "2023-10-22T22:47:29.082444Z"
    }
   },
   "outputs": [],
   "source": [
    "# !pip install aif360"
   ]
  },
  {
   "cell_type": "code",
   "execution_count": 5,
   "id": "96f12906",
   "metadata": {
    "ExecuteTime": {
     "end_time": "2023-10-22T22:47:29.277706Z",
     "start_time": "2023-10-22T22:47:29.085186Z"
    }
   },
   "outputs": [],
   "source": [
    "# !pip install BlackBoxAuditing==0.1.54"
   ]
  },
  {
   "cell_type": "code",
   "execution_count": 1,
   "id": "ffc42f95",
   "metadata": {
    "ExecuteTime": {
     "end_time": "2023-10-25T12:36:21.684861Z",
     "start_time": "2023-10-25T12:36:21.348894Z"
    }
   },
   "outputs": [],
   "source": [
    "%matplotlib inline\n",
    "%load_ext autoreload\n",
    "%autoreload 2"
   ]
  },
  {
   "cell_type": "code",
   "execution_count": 2,
   "id": "d1d01faf",
   "metadata": {
    "ExecuteTime": {
     "end_time": "2023-10-25T12:36:21.694009Z",
     "start_time": "2023-10-25T12:36:21.685241Z"
    }
   },
   "outputs": [],
   "source": [
    "import os\n",
    "import warnings\n",
    "warnings.filterwarnings('ignore')\n",
    "os.environ[\"PYTHONWARNINGS\"] = \"ignore\""
   ]
  },
  {
   "cell_type": "code",
   "execution_count": 3,
   "id": "74fb0269",
   "metadata": {
    "ExecuteTime": {
     "end_time": "2023-10-25T12:36:22.482933Z",
     "start_time": "2023-10-25T12:36:22.466018Z"
    }
   },
   "outputs": [
    {
     "name": "stdout",
     "output_type": "stream",
     "text": [
      "Current location:  /home/dh3553/projects/fairness-variance\n"
     ]
    }
   ],
   "source": [
    "cur_folder_name = os.getcwd().split('/')[-1]\n",
    "if cur_folder_name != \"fairness-variance\":\n",
    "    os.chdir(\"../..\")\n",
    "\n",
    "print('Current location: ', os.getcwd())"
   ]
  },
  {
   "cell_type": "markdown",
   "id": "dc500ad8",
   "metadata": {},
   "source": [
    "## Import dependencies"
   ]
  },
  {
   "cell_type": "code",
   "execution_count": 4,
   "id": "36811931",
   "metadata": {
    "ExecuteTime": {
     "end_time": "2023-10-25T12:36:24.606024Z",
     "start_time": "2023-10-25T12:36:23.349841Z"
    }
   },
   "outputs": [
    {
     "name": "stderr",
     "output_type": "stream",
     "text": [
      "WARNING:root:No module named 'tempeh': LawSchoolGPADataset will be unavailable. To install, run:\n",
      "pip install 'aif360[LawSchoolGPA]'\n",
      "WARNING:root:No module named 'tensorflow': AdversarialDebiasing will be unavailable. To install, run:\n",
      "pip install 'aif360[AdversarialDebiasing]'\n",
      "WARNING:root:No module named 'tensorflow': AdversarialDebiasing will be unavailable. To install, run:\n",
      "pip install 'aif360[AdversarialDebiasing]'\n"
     ]
    }
   ],
   "source": [
    "import os\n",
    "import copy\n",
    "\n",
    "from virny.utils.custom_initializers import create_config_obj\n",
    "from virny.datasets import ACSIncomeDataset\n",
    "\n",
    "from configs.constants import TEST_SET_FRACTION, EXPERIMENT_SEEDS\n",
    "from configs.models_config_for_tuning import get_folktables_employment_models_params_for_tuning\n",
    "\n",
    "from source.experiment_interface import run_exp_iter_with_disparate_impact_and_mult_sets"
   ]
  },
  {
   "cell_type": "markdown",
   "id": "85ab0f66",
   "metadata": {},
   "source": [
    "## Define Input Variables"
   ]
  },
  {
   "cell_type": "code",
   "execution_count": 5,
   "id": "dd33fd6a",
   "metadata": {
    "ExecuteTime": {
     "end_time": "2023-10-25T12:36:24.632107Z",
     "start_time": "2023-10-25T12:36:24.608394Z"
    }
   },
   "outputs": [],
   "source": [
    "# ROOT_DIR = os.path.join(os.getcwd(), \"..\", \"..\")\n",
    "ROOT_DIR = os.getcwd()\n",
    "EXPERIMENT_NAME = 'out_of_domain_uncertainty_poor_income_LR_90K'\n",
    "DB_COLLECTION_NAME = 'out_of_domain_uncertainty'\n",
    "SAVE_RESULTS_DIR_PATH = os.path.join(ROOT_DIR, 'results', EXPERIMENT_NAME)\n",
    "FAIR_INTERVENTION_PARAMS_LST = [0.7]\n",
    "TRAIN_SET_SUBSAMPLE_SIZE = 90_000\n",
    "\n",
    "config_yaml_path = os.path.join(ROOT_DIR, 'notebooks', EXPERIMENT_NAME, 'poor_income_2018_config.yaml')\n",
    "metrics_computation_config = create_config_obj(config_yaml_path=config_yaml_path)"
   ]
  },
  {
   "cell_type": "markdown",
   "id": "3daa956d",
   "metadata": {},
   "source": [
    "## Define a db writer and custom fields to insert into your database"
   ]
  },
  {
   "cell_type": "code",
   "execution_count": 6,
   "id": "a4b044c5",
   "metadata": {
    "ExecuteTime": {
     "end_time": "2023-10-25T12:36:25.414123Z",
     "start_time": "2023-10-25T12:36:25.371921Z"
    }
   },
   "outputs": [
    {
     "data": {
      "text/plain": [
       "'fairness_variance'"
      ]
     },
     "execution_count": 6,
     "metadata": {},
     "output_type": "execute_result"
    }
   ],
   "source": [
    "import os\n",
    "from dotenv import load_dotenv\n",
    "\n",
    "load_dotenv('./configs/secrets.env')\n",
    "os.getenv(\"DB_NAME\")"
   ]
  },
  {
   "cell_type": "code",
   "execution_count": 7,
   "id": "8f8f2cc6",
   "metadata": {
    "ExecuteTime": {
     "end_time": "2023-10-25T12:36:26.176127Z",
     "start_time": "2023-10-25T12:36:25.696626Z"
    }
   },
   "outputs": [],
   "source": [
    "from source.utils.db_functions import connect_to_mongodb\n",
    "\n",
    "client, collection_obj, db_writer_func = connect_to_mongodb(DB_COLLECTION_NAME)"
   ]
  },
  {
   "cell_type": "code",
   "execution_count": 8,
   "id": "ba3896a9",
   "metadata": {
    "ExecuteTime": {
     "end_time": "2023-10-25T12:36:36.294376Z",
     "start_time": "2023-10-25T12:36:36.257559Z"
    }
   },
   "outputs": [
    {
     "name": "stdout",
     "output_type": "stream",
     "text": [
      "Current session uuid:  cc201523-93eb-4e2e-84f9-eec31ffe0d0a\n"
     ]
    }
   ],
   "source": [
    "import uuid\n",
    "\n",
    "custom_table_fields_dct = {\n",
    "#     'session_uuid': str(uuid.uuid4()),\n",
    "    'session_uuid': 'cc201523-93eb-4e2e-84f9-eec31ffe0d0a',\n",
    "}\n",
    "print('Current session uuid: ', custom_table_fields_dct['session_uuid'])"
   ]
  },
  {
   "cell_type": "markdown",
   "id": "777e6cbc",
   "metadata": {},
   "source": [
    "## Initialize custom objects"
   ]
  },
  {
   "cell_type": "code",
   "execution_count": 9,
   "id": "1af45965",
   "metadata": {
    "ExecuteTime": {
     "end_time": "2023-10-25T12:37:04.449698Z",
     "start_time": "2023-10-25T12:37:00.432468Z"
    }
   },
   "outputs": [
    {
     "data": {
      "text/html": [
       "<div>\n",
       "<style scoped>\n",
       "    .dataframe tbody tr th:only-of-type {\n",
       "        vertical-align: middle;\n",
       "    }\n",
       "\n",
       "    .dataframe tbody tr th {\n",
       "        vertical-align: top;\n",
       "    }\n",
       "\n",
       "    .dataframe thead th {\n",
       "        text-align: right;\n",
       "    }\n",
       "</style>\n",
       "<table border=\"1\" class=\"dataframe\">\n",
       "  <thead>\n",
       "    <tr style=\"text-align: right;\">\n",
       "      <th></th>\n",
       "      <th>SCHL</th>\n",
       "      <th>COW</th>\n",
       "      <th>MAR</th>\n",
       "      <th>OCCP</th>\n",
       "      <th>POBP</th>\n",
       "      <th>RELP</th>\n",
       "      <th>SEX</th>\n",
       "      <th>RAC1P</th>\n",
       "      <th>AGEP</th>\n",
       "      <th>WKHP</th>\n",
       "    </tr>\n",
       "  </thead>\n",
       "  <tbody>\n",
       "    <tr>\n",
       "      <th>0</th>\n",
       "      <td>20</td>\n",
       "      <td>1</td>\n",
       "      <td>1</td>\n",
       "      <td>4000</td>\n",
       "      <td>25</td>\n",
       "      <td>1</td>\n",
       "      <td>1</td>\n",
       "      <td>1</td>\n",
       "      <td>44</td>\n",
       "      <td>60.0</td>\n",
       "    </tr>\n",
       "    <tr>\n",
       "      <th>1</th>\n",
       "      <td>15</td>\n",
       "      <td>1</td>\n",
       "      <td>4</td>\n",
       "      <td>4030</td>\n",
       "      <td>329</td>\n",
       "      <td>0</td>\n",
       "      <td>2</td>\n",
       "      <td>8</td>\n",
       "      <td>37</td>\n",
       "      <td>40.0</td>\n",
       "    </tr>\n",
       "    <tr>\n",
       "      <th>2</th>\n",
       "      <td>22</td>\n",
       "      <td>1</td>\n",
       "      <td>1</td>\n",
       "      <td>735</td>\n",
       "      <td>128</td>\n",
       "      <td>0</td>\n",
       "      <td>1</td>\n",
       "      <td>1</td>\n",
       "      <td>64</td>\n",
       "      <td>45.0</td>\n",
       "    </tr>\n",
       "    <tr>\n",
       "      <th>3</th>\n",
       "      <td>21</td>\n",
       "      <td>1</td>\n",
       "      <td>1</td>\n",
       "      <td>4810</td>\n",
       "      <td>51</td>\n",
       "      <td>0</td>\n",
       "      <td>2</td>\n",
       "      <td>1</td>\n",
       "      <td>61</td>\n",
       "      <td>23.0</td>\n",
       "    </tr>\n",
       "    <tr>\n",
       "      <th>4</th>\n",
       "      <td>23</td>\n",
       "      <td>1</td>\n",
       "      <td>1</td>\n",
       "      <td>1760</td>\n",
       "      <td>202</td>\n",
       "      <td>1</td>\n",
       "      <td>1</td>\n",
       "      <td>6</td>\n",
       "      <td>46</td>\n",
       "      <td>45.0</td>\n",
       "    </tr>\n",
       "  </tbody>\n",
       "</table>\n",
       "</div>"
      ],
      "text/plain": [
       "  SCHL COW MAR  OCCP POBP RELP SEX RAC1P  AGEP  WKHP\n",
       "0   20   1   1  4000   25    1   1     1    44  60.0\n",
       "1   15   1   4  4030  329    0   2     8    37  40.0\n",
       "2   22   1   1   735  128    0   1     1    64  45.0\n",
       "3   21   1   1  4810   51    0   2     1    61  23.0\n",
       "4   23   1   1  1760  202    1   1     6    46  45.0"
      ]
     },
     "execution_count": 9,
     "metadata": {},
     "output_type": "execute_result"
    }
   ],
   "source": [
    "data_loader_rich = ACSIncomeDataset(state=['MD', 'NJ', 'MA'], year=2018, with_nulls=False,\n",
    "                                    subsample_size=100_000, subsample_seed=42)\n",
    "data_loader_rich.X_data.head()"
   ]
  },
  {
   "cell_type": "code",
   "execution_count": 10,
   "id": "fee7114a",
   "metadata": {
    "ExecuteTime": {
     "end_time": "2023-10-25T12:37:04.552046Z",
     "start_time": "2023-10-25T12:37:04.449327Z"
    }
   },
   "outputs": [
    {
     "data": {
      "text/plain": [
       "(100000, 10)"
      ]
     },
     "execution_count": 10,
     "metadata": {},
     "output_type": "execute_result"
    }
   ],
   "source": [
    "data_loader_rich.X_data.shape"
   ]
  },
  {
   "cell_type": "code",
   "execution_count": 11,
   "id": "ea8d50ac",
   "metadata": {
    "ExecuteTime": {
     "end_time": "2023-10-25T12:37:08.446590Z",
     "start_time": "2023-10-25T12:37:04.492027Z"
    }
   },
   "outputs": [
    {
     "data": {
      "text/html": [
       "<div>\n",
       "<style scoped>\n",
       "    .dataframe tbody tr th:only-of-type {\n",
       "        vertical-align: middle;\n",
       "    }\n",
       "\n",
       "    .dataframe tbody tr th {\n",
       "        vertical-align: top;\n",
       "    }\n",
       "\n",
       "    .dataframe thead th {\n",
       "        text-align: right;\n",
       "    }\n",
       "</style>\n",
       "<table border=\"1\" class=\"dataframe\">\n",
       "  <thead>\n",
       "    <tr style=\"text-align: right;\">\n",
       "      <th></th>\n",
       "      <th>SCHL</th>\n",
       "      <th>COW</th>\n",
       "      <th>MAR</th>\n",
       "      <th>OCCP</th>\n",
       "      <th>POBP</th>\n",
       "      <th>RELP</th>\n",
       "      <th>SEX</th>\n",
       "      <th>RAC1P</th>\n",
       "      <th>AGEP</th>\n",
       "      <th>WKHP</th>\n",
       "    </tr>\n",
       "  </thead>\n",
       "  <tbody>\n",
       "    <tr>\n",
       "      <th>0</th>\n",
       "      <td>16</td>\n",
       "      <td>1</td>\n",
       "      <td>3</td>\n",
       "      <td>4230</td>\n",
       "      <td>1</td>\n",
       "      <td>0</td>\n",
       "      <td>2</td>\n",
       "      <td>2</td>\n",
       "      <td>61</td>\n",
       "      <td>15.0</td>\n",
       "    </tr>\n",
       "    <tr>\n",
       "      <th>1</th>\n",
       "      <td>23</td>\n",
       "      <td>5</td>\n",
       "      <td>1</td>\n",
       "      <td>3090</td>\n",
       "      <td>134</td>\n",
       "      <td>0</td>\n",
       "      <td>1</td>\n",
       "      <td>1</td>\n",
       "      <td>74</td>\n",
       "      <td>50.0</td>\n",
       "    </tr>\n",
       "    <tr>\n",
       "      <th>2</th>\n",
       "      <td>19</td>\n",
       "      <td>1</td>\n",
       "      <td>3</td>\n",
       "      <td>9645</td>\n",
       "      <td>26</td>\n",
       "      <td>2</td>\n",
       "      <td>1</td>\n",
       "      <td>2</td>\n",
       "      <td>59</td>\n",
       "      <td>40.0</td>\n",
       "    </tr>\n",
       "    <tr>\n",
       "      <th>3</th>\n",
       "      <td>14</td>\n",
       "      <td>2</td>\n",
       "      <td>5</td>\n",
       "      <td>4251</td>\n",
       "      <td>5</td>\n",
       "      <td>16</td>\n",
       "      <td>1</td>\n",
       "      <td>1</td>\n",
       "      <td>17</td>\n",
       "      <td>18.0</td>\n",
       "    </tr>\n",
       "    <tr>\n",
       "      <th>4</th>\n",
       "      <td>21</td>\n",
       "      <td>1</td>\n",
       "      <td>1</td>\n",
       "      <td>1021</td>\n",
       "      <td>217</td>\n",
       "      <td>1</td>\n",
       "      <td>1</td>\n",
       "      <td>6</td>\n",
       "      <td>33</td>\n",
       "      <td>45.0</td>\n",
       "    </tr>\n",
       "  </tbody>\n",
       "</table>\n",
       "</div>"
      ],
      "text/plain": [
       "  SCHL COW MAR  OCCP POBP RELP SEX RAC1P  AGEP  WKHP\n",
       "0   16   1   3  4230    1    0   2     2    61  15.0\n",
       "1   23   5   1  3090  134    0   1     1    74  50.0\n",
       "2   19   1   3  9645   26    2   1     2    59  40.0\n",
       "3   14   2   5  4251    5   16   1     1    17  18.0\n",
       "4   21   1   1  1021  217    1   1     6    33  45.0"
      ]
     },
     "execution_count": 11,
     "metadata": {},
     "output_type": "execute_result"
    }
   ],
   "source": [
    "data_loader_poor = ACSIncomeDataset(state=['WV', 'MS', 'AR', 'NM', 'LA', 'AL', 'KY'], year=2018, with_nulls=False,\n",
    "                                    subsample_size=100_000, subsample_seed=42)\n",
    "data_loader_poor.X_data.head()"
   ]
  },
  {
   "cell_type": "code",
   "execution_count": 12,
   "id": "b2fb535d",
   "metadata": {
    "ExecuteTime": {
     "end_time": "2023-10-25T12:37:08.523825Z",
     "start_time": "2023-10-25T12:37:08.443050Z"
    }
   },
   "outputs": [
    {
     "data": {
      "text/plain": [
       "(100000, 10)"
      ]
     },
     "execution_count": 12,
     "metadata": {},
     "output_type": "execute_result"
    }
   ],
   "source": [
    "data_loader_poor.X_data.shape"
   ]
  },
  {
   "cell_type": "code",
   "execution_count": 13,
   "id": "4921a2d7",
   "metadata": {
    "ExecuteTime": {
     "end_time": "2023-10-25T12:37:08.525122Z",
     "start_time": "2023-10-25T12:37:08.477342Z"
    }
   },
   "outputs": [],
   "source": [
    "extra_data_loaders = [data_loader_rich]"
   ]
  },
  {
   "cell_type": "markdown",
   "id": "74fb8df4",
   "metadata": {},
   "source": [
    "## Run experiment iterations"
   ]
  },
  {
   "cell_type": "markdown",
   "id": "c7daef2f",
   "metadata": {},
   "source": [
    "### Experiment iteration 1"
   ]
  },
  {
   "cell_type": "code",
   "execution_count": 16,
   "id": "69da4448",
   "metadata": {
    "ExecuteTime": {
     "end_time": "2023-10-25T12:37:08.589772Z",
     "start_time": "2023-10-25T12:37:08.499809Z"
    }
   },
   "outputs": [],
   "source": [
    "# tuned_params_filenames = ['tuning_results_Folktables_NY_2018_Employment_alpha_0.8_20230706__115508.csv']\n",
    "# tuned_params_df_paths = [os.path.join(ROOT_DIR, 'results', EXPERIMENT_NAME, tuned_params_filename)\n",
    "#                          for tuned_params_filename in tuned_params_filenames]"
   ]
  },
  {
   "cell_type": "code",
   "execution_count": 17,
   "id": "af2ba706",
   "metadata": {
    "ExecuteTime": {
     "end_time": "2023-10-25T12:37:10.912300Z",
     "start_time": "2023-10-25T12:37:10.831200Z"
    }
   },
   "outputs": [],
   "source": [
    "# Configs for an experiment iteration\n",
    "exp_iter_num = 1\n",
    "experiment_seed = EXPERIMENT_SEEDS[exp_iter_num - 1]\n",
    "custom_table_fields_dct['experiment_iteration'] = f'Exp_iter_{exp_iter_num}'\n",
    "\n",
    "exp_iter_data_loader = copy.deepcopy(data_loader_poor)  # Add deepcopy to avoid data leakage\n",
    "exp_extra_data_loaders = copy.deepcopy(extra_data_loaders)  # Add deepcopy to avoid data leakage\n",
    "models_params_for_tuning = get_folktables_employment_models_params_for_tuning(experiment_seed)"
   ]
  },
  {
   "cell_type": "code",
   "execution_count": 18,
   "id": "7e10bf3e",
   "metadata": {
    "ExecuteTime": {
     "end_time": "2023-10-25T12:40:10.165459Z",
     "start_time": "2023-10-25T12:37:10.931279Z"
    }
   },
   "outputs": [
    {
     "name": "stderr",
     "output_type": "stream",
     "text": [
      "2023-11-23 04:41:21 experiment_interface.py INFO    : Start an experiment iteration for the following custom params:\n",
      "INFO:root:Start an experiment iteration for the following custom params:\n"
     ]
    },
    {
     "name": "stdout",
     "output_type": "stream",
     "text": [
      "{'dataset_split_seed': 100,\n",
      " 'experiment_iteration': 'Exp_iter_1',\n",
      " 'fair_intervention_params_lst': '[0.7]',\n",
      " 'model_init_seed': 100,\n",
      " 'session_uuid': 'cc201523-93eb-4e2e-84f9-eec31ffe0d0a'}\n",
      "\n",
      "\n"
     ]
    },
    {
     "name": "stderr",
     "output_type": "stream",
     "text": [
      "2023-11-23 04:41:21 experiment_interface.py INFO    : Start dataset preprocessing\n",
      "INFO:root:Start dataset preprocessing\n"
     ]
    },
    {
     "name": "stdout",
     "output_type": "stream",
     "text": [
      "Top indexes of X_train_val:  Int64Index([69976, 19372, 34404, 45923, 59143, 57651, 20972, 73179, 93151,\n",
      "              103, 96638, 24826, 89574, 45142, 27782, 47830, 40090, 15074,\n",
      "            40597, 87226],\n",
      "           dtype='int64')\n",
      "Top indexes of y_train_val:  Int64Index([69976, 19372, 34404, 45923, 59143, 57651, 20972, 73179, 93151,\n",
      "              103, 96638, 24826, 89574, 45142, 27782, 47830, 40090, 15074,\n",
      "            40597, 87226],\n",
      "           dtype='int64')\n",
      "\n",
      "\n",
      "\n",
      "In-domain full_df.shape --  (100000, 9)\n",
      "In-domain init_features_df.shape --  (100000, 10)\n",
      "In-domain number of rows in X_train_val --  90000\n",
      "In-domain number of rows in X_test --  10000\n"
     ]
    },
    {
     "name": "stderr",
     "output_type": "stream",
     "text": [
      "2023-11-23 04:41:23 experiment_interface.py INFO    : The dataset is preprocessed\n",
      "INFO:root:The dataset is preprocessed\n"
     ]
    },
    {
     "name": "stdout",
     "output_type": "stream",
     "text": [
      "Out-of-domain 1 init_features_df.shape --  (100000, 10)\n",
      "Out-of-domain 1 number of rows in X_train_val --  0\n",
      "Out-of-domain 1 number of rows in X_test --  10000\n"
     ]
    },
    {
     "data": {
      "application/vnd.jupyter.widget-view+json": {
       "model_id": "843a7d643e3540ef9c89477c735f7442",
       "version_major": 2,
       "version_minor": 0
      },
      "text/plain": [
       "Multiple alphas:   0%|          | 0/1 [00:00<?, ?it/s]"
      ]
     },
     "metadata": {},
     "output_type": "display_data"
    },
    {
     "name": "stderr",
     "output_type": "stream",
     "text": [
      "2023-11-23 04:41:23 experiment_interface.py INFO    : Start fairness intervention\n",
      "INFO:root:Start fairness intervention\n"
     ]
    },
    {
     "name": "stdout",
     "output_type": "stream",
     "text": [
      "intervention_param:  0.7\n"
     ]
    },
    {
     "name": "stderr",
     "output_type": "stream",
     "text": [
      "2023-11-23 04:51:03 experiment_interface.py INFO    : Fairness intervention is completed\n",
      "INFO:root:Fairness intervention is completed\n"
     ]
    },
    {
     "name": "stdout",
     "output_type": "stream",
     "text": [
      "Number of rows in the in-domain X_test 10000\n",
      "Top indexes of an X_test in an in-domain base flow dataset:  Int64Index([22422, 25747, 13795, 68724, 38923, 43064, 86918, 71138, 82508,\n",
      "            89200, 55279,  7966, 83751, 37701,  2718, 65519, 77797,  8956,\n",
      "            33713, 34621],\n",
      "           dtype='int64')\n",
      "Top indexes of an y_test in an in-domain base flow dataset:  Int64Index([22422, 25747, 13795, 68724, 38923, 43064, 86918, 71138, 82508,\n",
      "            89200, 55279,  7966, 83751, 37701,  2718, 65519, 77797,  8956,\n",
      "            33713, 34621],\n",
      "           dtype='int64')\n"
     ]
    },
    {
     "data": {
      "text/html": [
       "<div>\n",
       "<style scoped>\n",
       "    .dataframe tbody tr th:only-of-type {\n",
       "        vertical-align: middle;\n",
       "    }\n",
       "\n",
       "    .dataframe tbody tr th {\n",
       "        vertical-align: top;\n",
       "    }\n",
       "\n",
       "    .dataframe thead th {\n",
       "        text-align: right;\n",
       "    }\n",
       "</style>\n",
       "<table border=\"1\" class=\"dataframe\">\n",
       "  <thead>\n",
       "    <tr style=\"text-align: right;\">\n",
       "      <th></th>\n",
       "      <th>cat__SCHL_1</th>\n",
       "      <th>cat__SCHL_10</th>\n",
       "      <th>cat__SCHL_11</th>\n",
       "      <th>cat__SCHL_12</th>\n",
       "      <th>cat__SCHL_13</th>\n",
       "      <th>cat__SCHL_14</th>\n",
       "      <th>cat__SCHL_15</th>\n",
       "      <th>cat__SCHL_16</th>\n",
       "      <th>cat__SCHL_17</th>\n",
       "      <th>cat__SCHL_18</th>\n",
       "      <th>...</th>\n",
       "      <th>cat__RELP_2</th>\n",
       "      <th>cat__RELP_3</th>\n",
       "      <th>cat__RELP_4</th>\n",
       "      <th>cat__RELP_5</th>\n",
       "      <th>cat__RELP_6</th>\n",
       "      <th>cat__RELP_7</th>\n",
       "      <th>cat__RELP_8</th>\n",
       "      <th>cat__RELP_9</th>\n",
       "      <th>num__AGEP</th>\n",
       "      <th>num__WKHP</th>\n",
       "    </tr>\n",
       "  </thead>\n",
       "  <tbody>\n",
       "    <tr>\n",
       "      <th>22422</th>\n",
       "      <td>0.0</td>\n",
       "      <td>0.0</td>\n",
       "      <td>0.0</td>\n",
       "      <td>0.0</td>\n",
       "      <td>0.0</td>\n",
       "      <td>0.0</td>\n",
       "      <td>0.0</td>\n",
       "      <td>1.0</td>\n",
       "      <td>0.0</td>\n",
       "      <td>0.0</td>\n",
       "      <td>...</td>\n",
       "      <td>0.0</td>\n",
       "      <td>0.0</td>\n",
       "      <td>0.0</td>\n",
       "      <td>0.0</td>\n",
       "      <td>0.0</td>\n",
       "      <td>0.0</td>\n",
       "      <td>0.0</td>\n",
       "      <td>0.0</td>\n",
       "      <td>0.694994</td>\n",
       "      <td>-0.206602</td>\n",
       "    </tr>\n",
       "    <tr>\n",
       "      <th>25747</th>\n",
       "      <td>0.0</td>\n",
       "      <td>0.0</td>\n",
       "      <td>0.0</td>\n",
       "      <td>0.0</td>\n",
       "      <td>0.0</td>\n",
       "      <td>0.0</td>\n",
       "      <td>0.0</td>\n",
       "      <td>0.0</td>\n",
       "      <td>0.0</td>\n",
       "      <td>0.0</td>\n",
       "      <td>...</td>\n",
       "      <td>0.0</td>\n",
       "      <td>0.0</td>\n",
       "      <td>0.0</td>\n",
       "      <td>0.0</td>\n",
       "      <td>0.0</td>\n",
       "      <td>0.0</td>\n",
       "      <td>0.0</td>\n",
       "      <td>0.0</td>\n",
       "      <td>0.173864</td>\n",
       "      <td>0.798183</td>\n",
       "    </tr>\n",
       "    <tr>\n",
       "      <th>13795</th>\n",
       "      <td>0.0</td>\n",
       "      <td>0.0</td>\n",
       "      <td>0.0</td>\n",
       "      <td>0.0</td>\n",
       "      <td>0.0</td>\n",
       "      <td>0.0</td>\n",
       "      <td>0.0</td>\n",
       "      <td>0.0</td>\n",
       "      <td>0.0</td>\n",
       "      <td>0.0</td>\n",
       "      <td>...</td>\n",
       "      <td>0.0</td>\n",
       "      <td>0.0</td>\n",
       "      <td>0.0</td>\n",
       "      <td>0.0</td>\n",
       "      <td>0.0</td>\n",
       "      <td>0.0</td>\n",
       "      <td>0.0</td>\n",
       "      <td>0.0</td>\n",
       "      <td>-0.933536</td>\n",
       "      <td>0.102563</td>\n",
       "    </tr>\n",
       "    <tr>\n",
       "      <th>68724</th>\n",
       "      <td>0.0</td>\n",
       "      <td>0.0</td>\n",
       "      <td>0.0</td>\n",
       "      <td>0.0</td>\n",
       "      <td>0.0</td>\n",
       "      <td>0.0</td>\n",
       "      <td>0.0</td>\n",
       "      <td>0.0</td>\n",
       "      <td>0.0</td>\n",
       "      <td>0.0</td>\n",
       "      <td>...</td>\n",
       "      <td>0.0</td>\n",
       "      <td>0.0</td>\n",
       "      <td>0.0</td>\n",
       "      <td>0.0</td>\n",
       "      <td>0.0</td>\n",
       "      <td>0.0</td>\n",
       "      <td>0.0</td>\n",
       "      <td>0.0</td>\n",
       "      <td>-0.607830</td>\n",
       "      <td>-2.679920</td>\n",
       "    </tr>\n",
       "    <tr>\n",
       "      <th>38923</th>\n",
       "      <td>0.0</td>\n",
       "      <td>0.0</td>\n",
       "      <td>0.0</td>\n",
       "      <td>0.0</td>\n",
       "      <td>0.0</td>\n",
       "      <td>0.0</td>\n",
       "      <td>0.0</td>\n",
       "      <td>1.0</td>\n",
       "      <td>0.0</td>\n",
       "      <td>0.0</td>\n",
       "      <td>...</td>\n",
       "      <td>0.0</td>\n",
       "      <td>0.0</td>\n",
       "      <td>0.0</td>\n",
       "      <td>0.0</td>\n",
       "      <td>0.0</td>\n",
       "      <td>0.0</td>\n",
       "      <td>0.0</td>\n",
       "      <td>0.0</td>\n",
       "      <td>0.564711</td>\n",
       "      <td>0.179854</td>\n",
       "    </tr>\n",
       "  </tbody>\n",
       "</table>\n",
       "<p>5 rows × 795 columns</p>\n",
       "</div>"
      ],
      "text/plain": [
       "       cat__SCHL_1  cat__SCHL_10  cat__SCHL_11  cat__SCHL_12  cat__SCHL_13  \\\n",
       "22422          0.0           0.0           0.0           0.0           0.0   \n",
       "25747          0.0           0.0           0.0           0.0           0.0   \n",
       "13795          0.0           0.0           0.0           0.0           0.0   \n",
       "68724          0.0           0.0           0.0           0.0           0.0   \n",
       "38923          0.0           0.0           0.0           0.0           0.0   \n",
       "\n",
       "       cat__SCHL_14  cat__SCHL_15  cat__SCHL_16  cat__SCHL_17  cat__SCHL_18  \\\n",
       "22422           0.0           0.0           1.0           0.0           0.0   \n",
       "25747           0.0           0.0           0.0           0.0           0.0   \n",
       "13795           0.0           0.0           0.0           0.0           0.0   \n",
       "68724           0.0           0.0           0.0           0.0           0.0   \n",
       "38923           0.0           0.0           1.0           0.0           0.0   \n",
       "\n",
       "       ...  cat__RELP_2  cat__RELP_3  cat__RELP_4  cat__RELP_5  cat__RELP_6  \\\n",
       "22422  ...          0.0          0.0          0.0          0.0          0.0   \n",
       "25747  ...          0.0          0.0          0.0          0.0          0.0   \n",
       "13795  ...          0.0          0.0          0.0          0.0          0.0   \n",
       "68724  ...          0.0          0.0          0.0          0.0          0.0   \n",
       "38923  ...          0.0          0.0          0.0          0.0          0.0   \n",
       "\n",
       "       cat__RELP_7  cat__RELP_8  cat__RELP_9  num__AGEP  num__WKHP  \n",
       "22422          0.0          0.0          0.0   0.694994  -0.206602  \n",
       "25747          0.0          0.0          0.0   0.173864   0.798183  \n",
       "13795          0.0          0.0          0.0  -0.933536   0.102563  \n",
       "68724          0.0          0.0          0.0  -0.607830  -2.679920  \n",
       "38923          0.0          0.0          0.0   0.564711   0.179854  \n",
       "\n",
       "[5 rows x 795 columns]"
      ]
     },
     "metadata": {},
     "output_type": "display_data"
    },
    {
     "name": "stdout",
     "output_type": "stream",
     "text": [
      "\n",
      "\n",
      "\n",
      "Number of rows in the out-of-domain X_test 10000\n",
      "Top indexes of an X_test in an out-of-domain base flow dataset:  Int64Index([22422, 25747, 13795, 68724, 38923, 43064, 86918, 71138, 82508,\n",
      "            89200, 55279,  7966, 83751, 37701,  2718, 65519, 77797,  8956,\n",
      "            33713, 34621],\n",
      "           dtype='int64')\n",
      "Top indexes of an y_test in an out-of-domain base flow dataset:  Int64Index([22422, 25747, 13795, 68724, 38923, 43064, 86918, 71138, 82508,\n",
      "            89200, 55279,  7966, 83751, 37701,  2718, 65519, 77797,  8956,\n",
      "            33713, 34621],\n",
      "           dtype='int64')\n"
     ]
    },
    {
     "data": {
      "text/html": [
       "<div>\n",
       "<style scoped>\n",
       "    .dataframe tbody tr th:only-of-type {\n",
       "        vertical-align: middle;\n",
       "    }\n",
       "\n",
       "    .dataframe tbody tr th {\n",
       "        vertical-align: top;\n",
       "    }\n",
       "\n",
       "    .dataframe thead th {\n",
       "        text-align: right;\n",
       "    }\n",
       "</style>\n",
       "<table border=\"1\" class=\"dataframe\">\n",
       "  <thead>\n",
       "    <tr style=\"text-align: right;\">\n",
       "      <th></th>\n",
       "      <th>cat__SCHL_1</th>\n",
       "      <th>cat__SCHL_10</th>\n",
       "      <th>cat__SCHL_11</th>\n",
       "      <th>cat__SCHL_12</th>\n",
       "      <th>cat__SCHL_13</th>\n",
       "      <th>cat__SCHL_14</th>\n",
       "      <th>cat__SCHL_15</th>\n",
       "      <th>cat__SCHL_16</th>\n",
       "      <th>cat__SCHL_17</th>\n",
       "      <th>cat__SCHL_18</th>\n",
       "      <th>...</th>\n",
       "      <th>cat__RELP_2</th>\n",
       "      <th>cat__RELP_3</th>\n",
       "      <th>cat__RELP_4</th>\n",
       "      <th>cat__RELP_5</th>\n",
       "      <th>cat__RELP_6</th>\n",
       "      <th>cat__RELP_7</th>\n",
       "      <th>cat__RELP_8</th>\n",
       "      <th>cat__RELP_9</th>\n",
       "      <th>num__AGEP</th>\n",
       "      <th>num__WKHP</th>\n",
       "    </tr>\n",
       "  </thead>\n",
       "  <tbody>\n",
       "    <tr>\n",
       "      <th>22422</th>\n",
       "      <td>1.0</td>\n",
       "      <td>0.0</td>\n",
       "      <td>0.0</td>\n",
       "      <td>0.0</td>\n",
       "      <td>0.0</td>\n",
       "      <td>0.0</td>\n",
       "      <td>0.0</td>\n",
       "      <td>0.0</td>\n",
       "      <td>0.0</td>\n",
       "      <td>0.0</td>\n",
       "      <td>...</td>\n",
       "      <td>0.0</td>\n",
       "      <td>0.0</td>\n",
       "      <td>0.0</td>\n",
       "      <td>0.0</td>\n",
       "      <td>0.0</td>\n",
       "      <td>0.0</td>\n",
       "      <td>0.0</td>\n",
       "      <td>0.0</td>\n",
       "      <td>1.281264</td>\n",
       "      <td>0.102563</td>\n",
       "    </tr>\n",
       "    <tr>\n",
       "      <th>25747</th>\n",
       "      <td>0.0</td>\n",
       "      <td>0.0</td>\n",
       "      <td>0.0</td>\n",
       "      <td>0.0</td>\n",
       "      <td>0.0</td>\n",
       "      <td>0.0</td>\n",
       "      <td>0.0</td>\n",
       "      <td>1.0</td>\n",
       "      <td>0.0</td>\n",
       "      <td>0.0</td>\n",
       "      <td>...</td>\n",
       "      <td>0.0</td>\n",
       "      <td>0.0</td>\n",
       "      <td>0.0</td>\n",
       "      <td>0.0</td>\n",
       "      <td>0.0</td>\n",
       "      <td>0.0</td>\n",
       "      <td>0.0</td>\n",
       "      <td>0.0</td>\n",
       "      <td>1.541829</td>\n",
       "      <td>-2.370755</td>\n",
       "    </tr>\n",
       "    <tr>\n",
       "      <th>13795</th>\n",
       "      <td>0.0</td>\n",
       "      <td>0.0</td>\n",
       "      <td>0.0</td>\n",
       "      <td>0.0</td>\n",
       "      <td>0.0</td>\n",
       "      <td>0.0</td>\n",
       "      <td>0.0</td>\n",
       "      <td>0.0</td>\n",
       "      <td>0.0</td>\n",
       "      <td>1.0</td>\n",
       "      <td>...</td>\n",
       "      <td>0.0</td>\n",
       "      <td>0.0</td>\n",
       "      <td>0.0</td>\n",
       "      <td>0.0</td>\n",
       "      <td>0.0</td>\n",
       "      <td>0.0</td>\n",
       "      <td>0.0</td>\n",
       "      <td>0.0</td>\n",
       "      <td>0.369288</td>\n",
       "      <td>0.025272</td>\n",
       "    </tr>\n",
       "    <tr>\n",
       "      <th>68724</th>\n",
       "      <td>0.0</td>\n",
       "      <td>0.0</td>\n",
       "      <td>0.0</td>\n",
       "      <td>0.0</td>\n",
       "      <td>0.0</td>\n",
       "      <td>0.0</td>\n",
       "      <td>0.0</td>\n",
       "      <td>0.0</td>\n",
       "      <td>0.0</td>\n",
       "      <td>0.0</td>\n",
       "      <td>...</td>\n",
       "      <td>0.0</td>\n",
       "      <td>0.0</td>\n",
       "      <td>0.0</td>\n",
       "      <td>0.0</td>\n",
       "      <td>0.0</td>\n",
       "      <td>0.0</td>\n",
       "      <td>0.0</td>\n",
       "      <td>0.0</td>\n",
       "      <td>-1.454666</td>\n",
       "      <td>-0.670349</td>\n",
       "    </tr>\n",
       "    <tr>\n",
       "      <th>38923</th>\n",
       "      <td>0.0</td>\n",
       "      <td>0.0</td>\n",
       "      <td>0.0</td>\n",
       "      <td>0.0</td>\n",
       "      <td>0.0</td>\n",
       "      <td>0.0</td>\n",
       "      <td>0.0</td>\n",
       "      <td>1.0</td>\n",
       "      <td>0.0</td>\n",
       "      <td>0.0</td>\n",
       "      <td>...</td>\n",
       "      <td>0.0</td>\n",
       "      <td>0.0</td>\n",
       "      <td>0.0</td>\n",
       "      <td>0.0</td>\n",
       "      <td>0.0</td>\n",
       "      <td>0.0</td>\n",
       "      <td>0.0</td>\n",
       "      <td>0.0</td>\n",
       "      <td>-1.519807</td>\n",
       "      <td>-1.134096</td>\n",
       "    </tr>\n",
       "  </tbody>\n",
       "</table>\n",
       "<p>5 rows × 795 columns</p>\n",
       "</div>"
      ],
      "text/plain": [
       "       cat__SCHL_1  cat__SCHL_10  cat__SCHL_11  cat__SCHL_12  cat__SCHL_13  \\\n",
       "22422          1.0           0.0           0.0           0.0           0.0   \n",
       "25747          0.0           0.0           0.0           0.0           0.0   \n",
       "13795          0.0           0.0           0.0           0.0           0.0   \n",
       "68724          0.0           0.0           0.0           0.0           0.0   \n",
       "38923          0.0           0.0           0.0           0.0           0.0   \n",
       "\n",
       "       cat__SCHL_14  cat__SCHL_15  cat__SCHL_16  cat__SCHL_17  cat__SCHL_18  \\\n",
       "22422           0.0           0.0           0.0           0.0           0.0   \n",
       "25747           0.0           0.0           1.0           0.0           0.0   \n",
       "13795           0.0           0.0           0.0           0.0           1.0   \n",
       "68724           0.0           0.0           0.0           0.0           0.0   \n",
       "38923           0.0           0.0           1.0           0.0           0.0   \n",
       "\n",
       "       ...  cat__RELP_2  cat__RELP_3  cat__RELP_4  cat__RELP_5  cat__RELP_6  \\\n",
       "22422  ...          0.0          0.0          0.0          0.0          0.0   \n",
       "25747  ...          0.0          0.0          0.0          0.0          0.0   \n",
       "13795  ...          0.0          0.0          0.0          0.0          0.0   \n",
       "68724  ...          0.0          0.0          0.0          0.0          0.0   \n",
       "38923  ...          0.0          0.0          0.0          0.0          0.0   \n",
       "\n",
       "       cat__RELP_7  cat__RELP_8  cat__RELP_9  num__AGEP  num__WKHP  \n",
       "22422          0.0          0.0          0.0   1.281264   0.102563  \n",
       "25747          0.0          0.0          0.0   1.541829  -2.370755  \n",
       "13795          0.0          0.0          0.0   0.369288   0.025272  \n",
       "68724          0.0          0.0          0.0  -1.454666  -0.670349  \n",
       "38923          0.0          0.0          0.0  -1.519807  -1.134096  \n",
       "\n",
       "[5 rows x 795 columns]"
      ]
     },
     "metadata": {},
     "output_type": "display_data"
    },
    {
     "name": "stdout",
     "output_type": "stream",
     "text": [
      "2023/11/23, 04:51:03: Tuning LogisticRegression...\n",
      "2023/11/23, 04:53:43: Tuning for LogisticRegression is finished [F1 score = 0.7594348472978473, Accuracy = 0.8068333333333334]\n",
      "\n"
     ]
    },
    {
     "name": "stderr",
     "output_type": "stream",
     "text": [
      "2023-11-23 04:53:43 experiment_interface.py INFO    : Models are tuned and saved to a file\n",
      "INFO:root:Models are tuned and saved to a file\n"
     ]
    },
    {
     "data": {
      "application/vnd.jupyter.widget-view+json": {
       "model_id": "8581ff1f41734b1d95f18d522d85c57a",
       "version_major": 2,
       "version_minor": 0
      },
      "text/plain": [
       "Analyze models in one run:   0%|          | 0/1 [00:00<?, ?it/s]"
      ]
     },
     "metadata": {},
     "output_type": "display_data"
    },
    {
     "data": {
      "application/vnd.jupyter.widget-view+json": {
       "model_id": "99a30e2ea0d54b25af8901ec461caec8",
       "version_major": 2,
       "version_minor": 0
      },
      "text/plain": [
       "Classifiers testing by bootstrap:   0%|          | 0/200 [00:00<?, ?it/s]"
      ]
     },
     "metadata": {},
     "output_type": "display_data"
    }
   ],
   "source": [
    "run_exp_iter_with_disparate_impact_and_mult_sets(data_loader=exp_iter_data_loader,\n",
    "                                                 extra_data_loaders=exp_extra_data_loaders,\n",
    "                                                 experiment_seed=experiment_seed,\n",
    "                                                 test_set_fraction=TEST_SET_FRACTION,\n",
    "                                                 db_writer_func=db_writer_func,\n",
    "                                                 fair_intervention_params_lst=FAIR_INTERVENTION_PARAMS_LST,\n",
    "                                                 models_params_for_tuning=models_params_for_tuning,\n",
    "                                                 metrics_computation_config=metrics_computation_config,\n",
    "                                                 custom_table_fields_dct=custom_table_fields_dct,\n",
    "                                                 with_tuning=True,\n",
    "                                                 # with_tuning=False,\n",
    "                                                 # tuned_params_df_paths=tuned_params_df_paths,\n",
    "                                                 save_results_dir_path=SAVE_RESULTS_DIR_PATH,\n",
    "                                                 train_set_subsample_size=TRAIN_SET_SUBSAMPLE_SIZE,\n",
    "                                                 verbose=True)"
   ]
  },
  {
   "cell_type": "markdown",
   "id": "34512d47",
   "metadata": {},
   "source": [
    "### Experiment iteration 2"
   ]
  },
  {
   "cell_type": "code",
   "execution_count": 31,
   "id": "83c1e8c2",
   "metadata": {},
   "outputs": [],
   "source": [
    "# Configs for an experiment iteration\n",
    "exp_iter_num = 2\n",
    "experiment_seed = EXPERIMENT_SEEDS[exp_iter_num - 1]\n",
    "tuned_params_filenames = [\n",
    "    'tuning_results_Folktables_2018_Income_alpha_0.7_exp_iter_1_20231123__095343.csv'\n",
    "]\n",
    "tuned_params_df_paths = [os.path.join(ROOT_DIR, 'results', EXPERIMENT_NAME, tuned_params_filename)\n",
    "                         for tuned_params_filename in tuned_params_filenames]\n",
    "custom_table_fields_dct['experiment_iteration'] = f'Exp_iter_{exp_iter_num}'\n",
    "\n",
    "exp_iter_data_loader = copy.deepcopy(data_loader_poor)  # Add deepcopy to avoid data leakage\n",
    "exp_extra_data_loaders = copy.deepcopy(extra_data_loaders)  # Add deepcopy to avoid data leakage\n",
    "models_params_for_tuning = get_folktables_employment_models_params_for_tuning(experiment_seed)"
   ]
  },
  {
   "cell_type": "code",
   "execution_count": 32,
   "id": "0acb9d4f",
   "metadata": {},
   "outputs": [
    {
     "name": "stderr",
     "output_type": "stream",
     "text": [
      "2023-11-13 17:20:55 experiment_interface.py INFO    : Start an experiment iteration for the following custom params:\n",
      "INFO:root:Start an experiment iteration for the following custom params:\n"
     ]
    },
    {
     "name": "stdout",
     "output_type": "stream",
     "text": [
      "{'dataset_split_seed': 200,\n",
      " 'experiment_iteration': 'Exp_iter_2',\n",
      " 'fair_intervention_params_lst': '[0.7]',\n",
      " 'model_init_seed': 200,\n",
      " 'session_uuid': '223090a3-0104-489f-8050-92a22bfbd1f6'}\n"
     ]
    },
    {
     "name": "stderr",
     "output_type": "stream",
     "text": [
      "2023-11-13 17:20:55 experiment_interface.py INFO    : Start dataset preprocessing\n",
      "INFO:root:Start dataset preprocessing\n"
     ]
    },
    {
     "name": "stdout",
     "output_type": "stream",
     "text": [
      "Top indexes of X_train_val:  Int64Index([ 9060, 86801, 95478, 31350, 67497,  6186, 49762, 89182, 63013,\n",
      "            58581, 91329, 11503, 59768, 54897, 67410, 23214, 38535, 75084,\n",
      "            66792, 73687],\n",
      "           dtype='int64')\n",
      "Top indexes of y_train_val:  Int64Index([ 9060, 86801, 95478, 31350, 67497,  6186, 49762, 89182, 63013,\n",
      "            58581, 91329, 11503, 59768, 54897, 67410, 23214, 38535, 75084,\n",
      "            66792, 73687],\n",
      "           dtype='int64')\n",
      "\n",
      "\n",
      "\n",
      "In-domain full_df.shape --  (40000, 9)\n",
      "In-domain init_features_df.shape --  (40000, 10)\n",
      "In-domain number of rows in X_train_val --  30000\n",
      "In-domain number of rows in X_test --  10000\n",
      "Out-of-domain 1 init_features_df.shape --  (100000, 10)\n",
      "Out-of-domain 1 number of rows in X_train_val --  0\n",
      "Out-of-domain 1 number of rows in X_test --  10000\n"
     ]
    },
    {
     "name": "stderr",
     "output_type": "stream",
     "text": [
      "2023-11-13 17:20:56 experiment_interface.py INFO    : The dataset is preprocessed\n",
      "INFO:root:The dataset is preprocessed\n"
     ]
    },
    {
     "data": {
      "application/vnd.jupyter.widget-view+json": {
       "model_id": "3b1c4d798a774fa9a95c5149656f9dfe",
       "version_major": 2,
       "version_minor": 0
      },
      "text/plain": [
       "Multiple alphas:   0%|          | 0/1 [00:00<?, ?it/s]"
      ]
     },
     "metadata": {},
     "output_type": "display_data"
    },
    {
     "name": "stderr",
     "output_type": "stream",
     "text": [
      "2023-11-13 17:20:56 experiment_interface.py INFO    : Start fairness intervention\n",
      "INFO:root:Start fairness intervention\n"
     ]
    },
    {
     "name": "stdout",
     "output_type": "stream",
     "text": [
      "intervention_param:  0.7\n"
     ]
    },
    {
     "name": "stderr",
     "output_type": "stream",
     "text": [
      "2023-11-13 17:24:49 experiment_interface.py INFO    : Fairness intervention is completed\n",
      "INFO:root:Fairness intervention is completed\n"
     ]
    },
    {
     "name": "stdout",
     "output_type": "stream",
     "text": [
      "Number of rows in the in-domain X_test 10000\n",
      "Top indexes of an X_test in an in-domain base flow dataset:  Int64Index([71488, 18462,  5190, 49745, 51643, 27862, 11948, 91279, 35299,\n",
      "            93619, 56981, 29774, 30186, 24707, 79785, 88346, 59515, 94368,\n",
      "            19564, 86281],\n",
      "           dtype='int64')\n",
      "Top indexes of an y_test in an in-domain base flow dataset:  Int64Index([71488, 18462,  5190, 49745, 51643, 27862, 11948, 91279, 35299,\n",
      "            93619, 56981, 29774, 30186, 24707, 79785, 88346, 59515, 94368,\n",
      "            19564, 86281],\n",
      "           dtype='int64')\n"
     ]
    },
    {
     "data": {
      "text/html": [
       "<div>\n",
       "<style scoped>\n",
       "    .dataframe tbody tr th:only-of-type {\n",
       "        vertical-align: middle;\n",
       "    }\n",
       "\n",
       "    .dataframe tbody tr th {\n",
       "        vertical-align: top;\n",
       "    }\n",
       "\n",
       "    .dataframe thead th {\n",
       "        text-align: right;\n",
       "    }\n",
       "</style>\n",
       "<table border=\"1\" class=\"dataframe\">\n",
       "  <thead>\n",
       "    <tr style=\"text-align: right;\">\n",
       "      <th></th>\n",
       "      <th>cat__SCHL_1</th>\n",
       "      <th>cat__SCHL_10</th>\n",
       "      <th>cat__SCHL_11</th>\n",
       "      <th>cat__SCHL_12</th>\n",
       "      <th>cat__SCHL_13</th>\n",
       "      <th>cat__SCHL_14</th>\n",
       "      <th>cat__SCHL_15</th>\n",
       "      <th>cat__SCHL_16</th>\n",
       "      <th>cat__SCHL_17</th>\n",
       "      <th>cat__SCHL_18</th>\n",
       "      <th>...</th>\n",
       "      <th>cat__RELP_2</th>\n",
       "      <th>cat__RELP_3</th>\n",
       "      <th>cat__RELP_4</th>\n",
       "      <th>cat__RELP_5</th>\n",
       "      <th>cat__RELP_6</th>\n",
       "      <th>cat__RELP_7</th>\n",
       "      <th>cat__RELP_8</th>\n",
       "      <th>cat__RELP_9</th>\n",
       "      <th>num__AGEP</th>\n",
       "      <th>num__WKHP</th>\n",
       "    </tr>\n",
       "  </thead>\n",
       "  <tbody>\n",
       "    <tr>\n",
       "      <th>71488</th>\n",
       "      <td>0.0</td>\n",
       "      <td>0.0</td>\n",
       "      <td>0.0</td>\n",
       "      <td>0.0</td>\n",
       "      <td>0.0</td>\n",
       "      <td>0.0</td>\n",
       "      <td>0.0</td>\n",
       "      <td>0.0</td>\n",
       "      <td>0.0</td>\n",
       "      <td>0.0</td>\n",
       "      <td>...</td>\n",
       "      <td>0.0</td>\n",
       "      <td>0.0</td>\n",
       "      <td>0.0</td>\n",
       "      <td>0.0</td>\n",
       "      <td>0.0</td>\n",
       "      <td>0.0</td>\n",
       "      <td>0.0</td>\n",
       "      <td>0.0</td>\n",
       "      <td>-1.322572</td>\n",
       "      <td>-0.360840</td>\n",
       "    </tr>\n",
       "    <tr>\n",
       "      <th>18462</th>\n",
       "      <td>0.0</td>\n",
       "      <td>0.0</td>\n",
       "      <td>0.0</td>\n",
       "      <td>0.0</td>\n",
       "      <td>0.0</td>\n",
       "      <td>0.0</td>\n",
       "      <td>0.0</td>\n",
       "      <td>0.0</td>\n",
       "      <td>0.0</td>\n",
       "      <td>0.0</td>\n",
       "      <td>...</td>\n",
       "      <td>0.0</td>\n",
       "      <td>0.0</td>\n",
       "      <td>0.0</td>\n",
       "      <td>0.0</td>\n",
       "      <td>0.0</td>\n",
       "      <td>0.0</td>\n",
       "      <td>0.0</td>\n",
       "      <td>0.0</td>\n",
       "      <td>-0.214841</td>\n",
       "      <td>-0.592665</td>\n",
       "    </tr>\n",
       "    <tr>\n",
       "      <th>5190</th>\n",
       "      <td>0.0</td>\n",
       "      <td>0.0</td>\n",
       "      <td>0.0</td>\n",
       "      <td>0.0</td>\n",
       "      <td>0.0</td>\n",
       "      <td>0.0</td>\n",
       "      <td>0.0</td>\n",
       "      <td>0.0</td>\n",
       "      <td>0.0</td>\n",
       "      <td>0.0</td>\n",
       "      <td>...</td>\n",
       "      <td>0.0</td>\n",
       "      <td>0.0</td>\n",
       "      <td>0.0</td>\n",
       "      <td>0.0</td>\n",
       "      <td>0.0</td>\n",
       "      <td>0.0</td>\n",
       "      <td>0.0</td>\n",
       "      <td>0.0</td>\n",
       "      <td>0.241283</td>\n",
       "      <td>0.257363</td>\n",
       "    </tr>\n",
       "    <tr>\n",
       "      <th>49745</th>\n",
       "      <td>0.0</td>\n",
       "      <td>0.0</td>\n",
       "      <td>0.0</td>\n",
       "      <td>0.0</td>\n",
       "      <td>0.0</td>\n",
       "      <td>0.0</td>\n",
       "      <td>0.0</td>\n",
       "      <td>0.0</td>\n",
       "      <td>0.0</td>\n",
       "      <td>0.0</td>\n",
       "      <td>...</td>\n",
       "      <td>1.0</td>\n",
       "      <td>0.0</td>\n",
       "      <td>0.0</td>\n",
       "      <td>0.0</td>\n",
       "      <td>0.0</td>\n",
       "      <td>0.0</td>\n",
       "      <td>0.0</td>\n",
       "      <td>0.0</td>\n",
       "      <td>-0.801287</td>\n",
       "      <td>-0.283564</td>\n",
       "    </tr>\n",
       "    <tr>\n",
       "      <th>51643</th>\n",
       "      <td>0.0</td>\n",
       "      <td>0.0</td>\n",
       "      <td>0.0</td>\n",
       "      <td>0.0</td>\n",
       "      <td>0.0</td>\n",
       "      <td>0.0</td>\n",
       "      <td>0.0</td>\n",
       "      <td>0.0</td>\n",
       "      <td>0.0</td>\n",
       "      <td>0.0</td>\n",
       "      <td>...</td>\n",
       "      <td>0.0</td>\n",
       "      <td>0.0</td>\n",
       "      <td>0.0</td>\n",
       "      <td>0.0</td>\n",
       "      <td>0.0</td>\n",
       "      <td>0.0</td>\n",
       "      <td>0.0</td>\n",
       "      <td>0.0</td>\n",
       "      <td>-1.387732</td>\n",
       "      <td>-0.360840</td>\n",
       "    </tr>\n",
       "  </tbody>\n",
       "</table>\n",
       "<p>5 rows × 751 columns</p>\n",
       "</div>"
      ],
      "text/plain": [
       "       cat__SCHL_1  cat__SCHL_10  cat__SCHL_11  cat__SCHL_12  cat__SCHL_13  \\\n",
       "71488          0.0           0.0           0.0           0.0           0.0   \n",
       "18462          0.0           0.0           0.0           0.0           0.0   \n",
       "5190           0.0           0.0           0.0           0.0           0.0   \n",
       "49745          0.0           0.0           0.0           0.0           0.0   \n",
       "51643          0.0           0.0           0.0           0.0           0.0   \n",
       "\n",
       "       cat__SCHL_14  cat__SCHL_15  cat__SCHL_16  cat__SCHL_17  cat__SCHL_18  \\\n",
       "71488           0.0           0.0           0.0           0.0           0.0   \n",
       "18462           0.0           0.0           0.0           0.0           0.0   \n",
       "5190            0.0           0.0           0.0           0.0           0.0   \n",
       "49745           0.0           0.0           0.0           0.0           0.0   \n",
       "51643           0.0           0.0           0.0           0.0           0.0   \n",
       "\n",
       "       ...  cat__RELP_2  cat__RELP_3  cat__RELP_4  cat__RELP_5  cat__RELP_6  \\\n",
       "71488  ...          0.0          0.0          0.0          0.0          0.0   \n",
       "18462  ...          0.0          0.0          0.0          0.0          0.0   \n",
       "5190   ...          0.0          0.0          0.0          0.0          0.0   \n",
       "49745  ...          1.0          0.0          0.0          0.0          0.0   \n",
       "51643  ...          0.0          0.0          0.0          0.0          0.0   \n",
       "\n",
       "       cat__RELP_7  cat__RELP_8  cat__RELP_9  num__AGEP  num__WKHP  \n",
       "71488          0.0          0.0          0.0  -1.322572  -0.360840  \n",
       "18462          0.0          0.0          0.0  -0.214841  -0.592665  \n",
       "5190           0.0          0.0          0.0   0.241283   0.257363  \n",
       "49745          0.0          0.0          0.0  -0.801287  -0.283564  \n",
       "51643          0.0          0.0          0.0  -1.387732  -0.360840  \n",
       "\n",
       "[5 rows x 751 columns]"
      ]
     },
     "metadata": {},
     "output_type": "display_data"
    },
    {
     "name": "stdout",
     "output_type": "stream",
     "text": [
      "\n",
      "\n",
      "\n",
      "Number of rows in the out-of-domain X_test 10000\n",
      "Top indexes of an X_test in an out-of-domain base flow dataset:  Int64Index([71488, 18462,  5190, 49745, 51643, 27862, 11948, 91279, 35299,\n",
      "            93619, 56981, 29774, 30186, 24707, 79785, 88346, 59515, 94368,\n",
      "            19564, 86281],\n",
      "           dtype='int64')\n",
      "Top indexes of an y_test in an out-of-domain base flow dataset:  Int64Index([71488, 18462,  5190, 49745, 51643, 27862, 11948, 91279, 35299,\n",
      "            93619, 56981, 29774, 30186, 24707, 79785, 88346, 59515, 94368,\n",
      "            19564, 86281],\n",
      "           dtype='int64')\n"
     ]
    },
    {
     "data": {
      "text/html": [
       "<div>\n",
       "<style scoped>\n",
       "    .dataframe tbody tr th:only-of-type {\n",
       "        vertical-align: middle;\n",
       "    }\n",
       "\n",
       "    .dataframe tbody tr th {\n",
       "        vertical-align: top;\n",
       "    }\n",
       "\n",
       "    .dataframe thead th {\n",
       "        text-align: right;\n",
       "    }\n",
       "</style>\n",
       "<table border=\"1\" class=\"dataframe\">\n",
       "  <thead>\n",
       "    <tr style=\"text-align: right;\">\n",
       "      <th></th>\n",
       "      <th>cat__SCHL_1</th>\n",
       "      <th>cat__SCHL_10</th>\n",
       "      <th>cat__SCHL_11</th>\n",
       "      <th>cat__SCHL_12</th>\n",
       "      <th>cat__SCHL_13</th>\n",
       "      <th>cat__SCHL_14</th>\n",
       "      <th>cat__SCHL_15</th>\n",
       "      <th>cat__SCHL_16</th>\n",
       "      <th>cat__SCHL_17</th>\n",
       "      <th>cat__SCHL_18</th>\n",
       "      <th>...</th>\n",
       "      <th>cat__RELP_2</th>\n",
       "      <th>cat__RELP_3</th>\n",
       "      <th>cat__RELP_4</th>\n",
       "      <th>cat__RELP_5</th>\n",
       "      <th>cat__RELP_6</th>\n",
       "      <th>cat__RELP_7</th>\n",
       "      <th>cat__RELP_8</th>\n",
       "      <th>cat__RELP_9</th>\n",
       "      <th>num__AGEP</th>\n",
       "      <th>num__WKHP</th>\n",
       "    </tr>\n",
       "  </thead>\n",
       "  <tbody>\n",
       "    <tr>\n",
       "      <th>71488</th>\n",
       "      <td>0.0</td>\n",
       "      <td>0.0</td>\n",
       "      <td>0.0</td>\n",
       "      <td>0.0</td>\n",
       "      <td>0.0</td>\n",
       "      <td>0.0</td>\n",
       "      <td>0.0</td>\n",
       "      <td>0.0</td>\n",
       "      <td>0.0</td>\n",
       "      <td>0.0</td>\n",
       "      <td>...</td>\n",
       "      <td>0.0</td>\n",
       "      <td>0.0</td>\n",
       "      <td>0.0</td>\n",
       "      <td>0.0</td>\n",
       "      <td>0.0</td>\n",
       "      <td>0.0</td>\n",
       "      <td>0.0</td>\n",
       "      <td>0.0</td>\n",
       "      <td>0.567086</td>\n",
       "      <td>3.193824</td>\n",
       "    </tr>\n",
       "    <tr>\n",
       "      <th>18462</th>\n",
       "      <td>0.0</td>\n",
       "      <td>0.0</td>\n",
       "      <td>0.0</td>\n",
       "      <td>0.0</td>\n",
       "      <td>0.0</td>\n",
       "      <td>0.0</td>\n",
       "      <td>0.0</td>\n",
       "      <td>0.0</td>\n",
       "      <td>0.0</td>\n",
       "      <td>1.0</td>\n",
       "      <td>...</td>\n",
       "      <td>0.0</td>\n",
       "      <td>0.0</td>\n",
       "      <td>0.0</td>\n",
       "      <td>0.0</td>\n",
       "      <td>0.0</td>\n",
       "      <td>0.0</td>\n",
       "      <td>0.0</td>\n",
       "      <td>0.0</td>\n",
       "      <td>-1.387732</td>\n",
       "      <td>-1.056317</td>\n",
       "    </tr>\n",
       "    <tr>\n",
       "      <th>5190</th>\n",
       "      <td>0.0</td>\n",
       "      <td>0.0</td>\n",
       "      <td>0.0</td>\n",
       "      <td>0.0</td>\n",
       "      <td>0.0</td>\n",
       "      <td>0.0</td>\n",
       "      <td>0.0</td>\n",
       "      <td>0.0</td>\n",
       "      <td>0.0</td>\n",
       "      <td>0.0</td>\n",
       "      <td>...</td>\n",
       "      <td>0.0</td>\n",
       "      <td>0.0</td>\n",
       "      <td>0.0</td>\n",
       "      <td>0.0</td>\n",
       "      <td>0.0</td>\n",
       "      <td>0.0</td>\n",
       "      <td>0.0</td>\n",
       "      <td>0.0</td>\n",
       "      <td>0.762568</td>\n",
       "      <td>0.102812</td>\n",
       "    </tr>\n",
       "    <tr>\n",
       "      <th>49745</th>\n",
       "      <td>0.0</td>\n",
       "      <td>0.0</td>\n",
       "      <td>0.0</td>\n",
       "      <td>0.0</td>\n",
       "      <td>0.0</td>\n",
       "      <td>0.0</td>\n",
       "      <td>0.0</td>\n",
       "      <td>0.0</td>\n",
       "      <td>0.0</td>\n",
       "      <td>0.0</td>\n",
       "      <td>...</td>\n",
       "      <td>0.0</td>\n",
       "      <td>1.0</td>\n",
       "      <td>0.0</td>\n",
       "      <td>0.0</td>\n",
       "      <td>0.0</td>\n",
       "      <td>0.0</td>\n",
       "      <td>0.0</td>\n",
       "      <td>0.0</td>\n",
       "      <td>0.045801</td>\n",
       "      <td>0.643739</td>\n",
       "    </tr>\n",
       "    <tr>\n",
       "      <th>51643</th>\n",
       "      <td>0.0</td>\n",
       "      <td>0.0</td>\n",
       "      <td>0.0</td>\n",
       "      <td>0.0</td>\n",
       "      <td>0.0</td>\n",
       "      <td>0.0</td>\n",
       "      <td>0.0</td>\n",
       "      <td>0.0</td>\n",
       "      <td>0.0</td>\n",
       "      <td>0.0</td>\n",
       "      <td>...</td>\n",
       "      <td>0.0</td>\n",
       "      <td>0.0</td>\n",
       "      <td>0.0</td>\n",
       "      <td>0.0</td>\n",
       "      <td>0.0</td>\n",
       "      <td>0.0</td>\n",
       "      <td>0.0</td>\n",
       "      <td>0.0</td>\n",
       "      <td>1.153532</td>\n",
       "      <td>0.798290</td>\n",
       "    </tr>\n",
       "  </tbody>\n",
       "</table>\n",
       "<p>5 rows × 751 columns</p>\n",
       "</div>"
      ],
      "text/plain": [
       "       cat__SCHL_1  cat__SCHL_10  cat__SCHL_11  cat__SCHL_12  cat__SCHL_13  \\\n",
       "71488          0.0           0.0           0.0           0.0           0.0   \n",
       "18462          0.0           0.0           0.0           0.0           0.0   \n",
       "5190           0.0           0.0           0.0           0.0           0.0   \n",
       "49745          0.0           0.0           0.0           0.0           0.0   \n",
       "51643          0.0           0.0           0.0           0.0           0.0   \n",
       "\n",
       "       cat__SCHL_14  cat__SCHL_15  cat__SCHL_16  cat__SCHL_17  cat__SCHL_18  \\\n",
       "71488           0.0           0.0           0.0           0.0           0.0   \n",
       "18462           0.0           0.0           0.0           0.0           1.0   \n",
       "5190            0.0           0.0           0.0           0.0           0.0   \n",
       "49745           0.0           0.0           0.0           0.0           0.0   \n",
       "51643           0.0           0.0           0.0           0.0           0.0   \n",
       "\n",
       "       ...  cat__RELP_2  cat__RELP_3  cat__RELP_4  cat__RELP_5  cat__RELP_6  \\\n",
       "71488  ...          0.0          0.0          0.0          0.0          0.0   \n",
       "18462  ...          0.0          0.0          0.0          0.0          0.0   \n",
       "5190   ...          0.0          0.0          0.0          0.0          0.0   \n",
       "49745  ...          0.0          1.0          0.0          0.0          0.0   \n",
       "51643  ...          0.0          0.0          0.0          0.0          0.0   \n",
       "\n",
       "       cat__RELP_7  cat__RELP_8  cat__RELP_9  num__AGEP  num__WKHP  \n",
       "71488          0.0          0.0          0.0   0.567086   3.193824  \n",
       "18462          0.0          0.0          0.0  -1.387732  -1.056317  \n",
       "5190           0.0          0.0          0.0   0.762568   0.102812  \n",
       "49745          0.0          0.0          0.0   0.045801   0.643739  \n",
       "51643          0.0          0.0          0.0   1.153532   0.798290  \n",
       "\n",
       "[5 rows x 751 columns]"
      ]
     },
     "metadata": {},
     "output_type": "display_data"
    },
    {
     "name": "stderr",
     "output_type": "stream",
     "text": [
      "2023-11-13 17:24:49 experiment_interface.py INFO    : Models config is loaded from the input file\n",
      "INFO:root:Models config is loaded from the input file\n"
     ]
    },
    {
     "name": "stdout",
     "output_type": "stream",
     "text": [
      "Path for tuned params:  /home/dh3553/projects/fairness-variance/results/out_of_domain_uncertainty_poor_income_LR_30K/tuning_results_Folktables_2018_Income_alpha_0.7_exp_iter_1_20231113__214410.csv\n",
      "LogisticRegression:  {'C': 1, 'class_weight': None, 'dual': False, 'fit_intercept': True, 'intercept_scaling': 1, 'l1_ratio': None, 'max_iter': 1000, 'multi_class': 'auto', 'n_jobs': None, 'penalty': 'l2', 'random_state': 200, 'solver': 'newton-cg', 'tol': 0.0001, 'verbose': 0, 'warm_start': False}\n"
     ]
    },
    {
     "data": {
      "application/vnd.jupyter.widget-view+json": {
       "model_id": "cd9eabadac1c4906adf1db2e9785075c",
       "version_major": 2,
       "version_minor": 0
      },
      "text/plain": [
       "Analyze models in one run:   0%|          | 0/1 [00:00<?, ?it/s]"
      ]
     },
     "metadata": {},
     "output_type": "display_data"
    },
    {
     "data": {
      "application/vnd.jupyter.widget-view+json": {
       "model_id": "ccbf27728b354df29083b3e973fd6022",
       "version_major": 2,
       "version_minor": 0
      },
      "text/plain": [
       "Classifiers testing by bootstrap:   0%|          | 0/200 [00:00<?, ?it/s]"
      ]
     },
     "metadata": {},
     "output_type": "display_data"
    }
   ],
   "source": [
    "run_exp_iter_with_disparate_impact_and_mult_sets(data_loader=exp_iter_data_loader,\n",
    "                                                 extra_data_loaders=exp_extra_data_loaders,\n",
    "                                                 experiment_seed=experiment_seed,\n",
    "                                                 test_set_fraction=TEST_SET_FRACTION,\n",
    "                                                 db_writer_func=db_writer_func,\n",
    "                                                 fair_intervention_params_lst=FAIR_INTERVENTION_PARAMS_LST,\n",
    "                                                 models_params_for_tuning=models_params_for_tuning,\n",
    "                                                 metrics_computation_config=metrics_computation_config,\n",
    "                                                 custom_table_fields_dct=custom_table_fields_dct,\n",
    "#                                                  with_tuning=True,\n",
    "                                                 with_tuning=False,\n",
    "                                                 tuned_params_df_paths=tuned_params_df_paths,\n",
    "                                                 save_results_dir_path=SAVE_RESULTS_DIR_PATH,\n",
    "                                                 train_set_subsample_size=TRAIN_SET_SUBSAMPLE_SIZE,\n",
    "                                                 verbose=True)"
   ]
  },
  {
   "cell_type": "markdown",
   "id": "e0b21c9c",
   "metadata": {},
   "source": [
    "### Experiment iteration 3"
   ]
  },
  {
   "cell_type": "code",
   "execution_count": 14,
   "id": "5bd397fa",
   "metadata": {},
   "outputs": [],
   "source": [
    "# Configs for an experiment iteration\n",
    "exp_iter_num = 3\n",
    "experiment_seed = EXPERIMENT_SEEDS[exp_iter_num - 1]\n",
    "tuned_params_filenames = [\n",
    "    'tuning_results_Folktables_2018_Income_alpha_0.7_exp_iter_1_20231123__095343.csv'\n",
    "]\n",
    "tuned_params_df_paths = [os.path.join(ROOT_DIR, 'results', EXPERIMENT_NAME, tuned_params_filename)\n",
    "                         for tuned_params_filename in tuned_params_filenames]\n",
    "custom_table_fields_dct['experiment_iteration'] = f'Exp_iter_{exp_iter_num}'\n",
    "\n",
    "exp_iter_data_loader = copy.deepcopy(data_loader_poor)  # Add deepcopy to avoid data leakage\n",
    "exp_extra_data_loaders = copy.deepcopy(extra_data_loaders)  # Add deepcopy to avoid data leakage\n",
    "models_params_for_tuning = get_folktables_employment_models_params_for_tuning(experiment_seed)"
   ]
  },
  {
   "cell_type": "code",
   "execution_count": null,
   "id": "21b10d9e",
   "metadata": {},
   "outputs": [
    {
     "name": "stderr",
     "output_type": "stream",
     "text": [
      "2023-11-23 06:37:59 experiment_interface.py INFO    : Start an experiment iteration for the following custom params:\n",
      "INFO:root:Start an experiment iteration for the following custom params:\n"
     ]
    },
    {
     "name": "stdout",
     "output_type": "stream",
     "text": [
      "{'dataset_split_seed': 300,\n",
      " 'experiment_iteration': 'Exp_iter_3',\n",
      " 'fair_intervention_params_lst': '[0.7]',\n",
      " 'model_init_seed': 300,\n",
      " 'session_uuid': 'cc201523-93eb-4e2e-84f9-eec31ffe0d0a'}\n",
      "\n",
      "\n"
     ]
    },
    {
     "name": "stderr",
     "output_type": "stream",
     "text": [
      "2023-11-23 06:37:59 experiment_interface.py INFO    : Start dataset preprocessing\n",
      "INFO:root:Start dataset preprocessing\n"
     ]
    },
    {
     "name": "stdout",
     "output_type": "stream",
     "text": [
      "Top indexes of X_train_val:  Int64Index([68557, 42718, 36434,  9001, 60690, 71256, 46462, 70992, 34888,\n",
      "            30842, 51007, 87189, 81873, 29593, 40408, 89491, 45396, 43655,\n",
      "            14767, 38182],\n",
      "           dtype='int64')\n",
      "Top indexes of y_train_val:  Int64Index([68557, 42718, 36434,  9001, 60690, 71256, 46462, 70992, 34888,\n",
      "            30842, 51007, 87189, 81873, 29593, 40408, 89491, 45396, 43655,\n",
      "            14767, 38182],\n",
      "           dtype='int64')\n",
      "\n",
      "\n",
      "\n",
      "In-domain full_df.shape --  (100000, 9)\n",
      "In-domain init_features_df.shape --  (100000, 10)\n",
      "In-domain number of rows in X_train_val --  90000\n",
      "In-domain number of rows in X_test --  10000\n"
     ]
    },
    {
     "name": "stderr",
     "output_type": "stream",
     "text": [
      "2023-11-23 06:38:01 experiment_interface.py INFO    : The dataset is preprocessed\n",
      "INFO:root:The dataset is preprocessed\n"
     ]
    },
    {
     "name": "stdout",
     "output_type": "stream",
     "text": [
      "Out-of-domain 1 init_features_df.shape --  (100000, 10)\n",
      "Out-of-domain 1 number of rows in X_train_val --  0\n",
      "Out-of-domain 1 number of rows in X_test --  10000\n"
     ]
    },
    {
     "data": {
      "application/vnd.jupyter.widget-view+json": {
       "model_id": "2b6d599f8a87443cb04728882e3fad3d",
       "version_major": 2,
       "version_minor": 0
      },
      "text/plain": [
       "Multiple alphas:   0%|          | 0/1 [00:00<?, ?it/s]"
      ]
     },
     "metadata": {},
     "output_type": "display_data"
    },
    {
     "name": "stderr",
     "output_type": "stream",
     "text": [
      "2023-11-23 06:38:01 experiment_interface.py INFO    : Start fairness intervention\n",
      "INFO:root:Start fairness intervention\n"
     ]
    },
    {
     "name": "stdout",
     "output_type": "stream",
     "text": [
      "intervention_param:  0.7\n"
     ]
    },
    {
     "name": "stderr",
     "output_type": "stream",
     "text": [
      "2023-11-23 06:48:11 experiment_interface.py INFO    : Fairness intervention is completed\n",
      "INFO:root:Fairness intervention is completed\n"
     ]
    },
    {
     "name": "stdout",
     "output_type": "stream",
     "text": [
      "Number of rows in the in-domain X_test 10000\n",
      "Top indexes of an X_test in an in-domain base flow dataset:  Int64Index([96427, 28431, 63265,  9684, 38057, 17635, 24537, 67209, 52586,\n",
      "            20281, 10671, 28729, 37092, 18389, 39885, 55778, 65196, 75424,\n",
      "            72767, 95910],\n",
      "           dtype='int64')\n",
      "Top indexes of an y_test in an in-domain base flow dataset:  Int64Index([96427, 28431, 63265,  9684, 38057, 17635, 24537, 67209, 52586,\n",
      "            20281, 10671, 28729, 37092, 18389, 39885, 55778, 65196, 75424,\n",
      "            72767, 95910],\n",
      "           dtype='int64')\n"
     ]
    },
    {
     "data": {
      "text/html": [
       "<div>\n",
       "<style scoped>\n",
       "    .dataframe tbody tr th:only-of-type {\n",
       "        vertical-align: middle;\n",
       "    }\n",
       "\n",
       "    .dataframe tbody tr th {\n",
       "        vertical-align: top;\n",
       "    }\n",
       "\n",
       "    .dataframe thead th {\n",
       "        text-align: right;\n",
       "    }\n",
       "</style>\n",
       "<table border=\"1\" class=\"dataframe\">\n",
       "  <thead>\n",
       "    <tr style=\"text-align: right;\">\n",
       "      <th></th>\n",
       "      <th>cat__SCHL_1</th>\n",
       "      <th>cat__SCHL_10</th>\n",
       "      <th>cat__SCHL_11</th>\n",
       "      <th>cat__SCHL_12</th>\n",
       "      <th>cat__SCHL_13</th>\n",
       "      <th>cat__SCHL_14</th>\n",
       "      <th>cat__SCHL_15</th>\n",
       "      <th>cat__SCHL_16</th>\n",
       "      <th>cat__SCHL_17</th>\n",
       "      <th>cat__SCHL_18</th>\n",
       "      <th>...</th>\n",
       "      <th>cat__RELP_2</th>\n",
       "      <th>cat__RELP_3</th>\n",
       "      <th>cat__RELP_4</th>\n",
       "      <th>cat__RELP_5</th>\n",
       "      <th>cat__RELP_6</th>\n",
       "      <th>cat__RELP_7</th>\n",
       "      <th>cat__RELP_8</th>\n",
       "      <th>cat__RELP_9</th>\n",
       "      <th>num__AGEP</th>\n",
       "      <th>num__WKHP</th>\n",
       "    </tr>\n",
       "  </thead>\n",
       "  <tbody>\n",
       "    <tr>\n",
       "      <th>96427</th>\n",
       "      <td>0.0</td>\n",
       "      <td>0.0</td>\n",
       "      <td>0.0</td>\n",
       "      <td>0.0</td>\n",
       "      <td>0.0</td>\n",
       "      <td>0.0</td>\n",
       "      <td>0.0</td>\n",
       "      <td>0.0</td>\n",
       "      <td>0.0</td>\n",
       "      <td>0.0</td>\n",
       "      <td>...</td>\n",
       "      <td>0.0</td>\n",
       "      <td>0.0</td>\n",
       "      <td>0.0</td>\n",
       "      <td>0.0</td>\n",
       "      <td>0.0</td>\n",
       "      <td>0.0</td>\n",
       "      <td>0.0</td>\n",
       "      <td>0.0</td>\n",
       "      <td>-1.455341</td>\n",
       "      <td>-0.903525</td>\n",
       "    </tr>\n",
       "    <tr>\n",
       "      <th>28431</th>\n",
       "      <td>0.0</td>\n",
       "      <td>0.0</td>\n",
       "      <td>0.0</td>\n",
       "      <td>0.0</td>\n",
       "      <td>0.0</td>\n",
       "      <td>0.0</td>\n",
       "      <td>0.0</td>\n",
       "      <td>0.0</td>\n",
       "      <td>0.0</td>\n",
       "      <td>0.0</td>\n",
       "      <td>...</td>\n",
       "      <td>0.0</td>\n",
       "      <td>0.0</td>\n",
       "      <td>0.0</td>\n",
       "      <td>0.0</td>\n",
       "      <td>0.0</td>\n",
       "      <td>0.0</td>\n",
       "      <td>0.0</td>\n",
       "      <td>0.0</td>\n",
       "      <td>-0.412621</td>\n",
       "      <td>-0.516624</td>\n",
       "    </tr>\n",
       "    <tr>\n",
       "      <th>63265</th>\n",
       "      <td>0.0</td>\n",
       "      <td>0.0</td>\n",
       "      <td>0.0</td>\n",
       "      <td>0.0</td>\n",
       "      <td>0.0</td>\n",
       "      <td>0.0</td>\n",
       "      <td>0.0</td>\n",
       "      <td>1.0</td>\n",
       "      <td>0.0</td>\n",
       "      <td>0.0</td>\n",
       "      <td>...</td>\n",
       "      <td>0.0</td>\n",
       "      <td>0.0</td>\n",
       "      <td>0.0</td>\n",
       "      <td>0.0</td>\n",
       "      <td>0.0</td>\n",
       "      <td>0.0</td>\n",
       "      <td>0.0</td>\n",
       "      <td>0.0</td>\n",
       "      <td>-0.673301</td>\n",
       "      <td>-1.445187</td>\n",
       "    </tr>\n",
       "    <tr>\n",
       "      <th>9684</th>\n",
       "      <td>0.0</td>\n",
       "      <td>0.0</td>\n",
       "      <td>0.0</td>\n",
       "      <td>0.0</td>\n",
       "      <td>0.0</td>\n",
       "      <td>0.0</td>\n",
       "      <td>0.0</td>\n",
       "      <td>0.0</td>\n",
       "      <td>0.0</td>\n",
       "      <td>1.0</td>\n",
       "      <td>...</td>\n",
       "      <td>0.0</td>\n",
       "      <td>0.0</td>\n",
       "      <td>0.0</td>\n",
       "      <td>0.0</td>\n",
       "      <td>0.0</td>\n",
       "      <td>0.0</td>\n",
       "      <td>0.0</td>\n",
       "      <td>0.0</td>\n",
       "      <td>2.129009</td>\n",
       "      <td>-0.516624</td>\n",
       "    </tr>\n",
       "    <tr>\n",
       "      <th>38057</th>\n",
       "      <td>0.0</td>\n",
       "      <td>0.0</td>\n",
       "      <td>0.0</td>\n",
       "      <td>0.0</td>\n",
       "      <td>0.0</td>\n",
       "      <td>0.0</td>\n",
       "      <td>0.0</td>\n",
       "      <td>0.0</td>\n",
       "      <td>0.0</td>\n",
       "      <td>0.0</td>\n",
       "      <td>...</td>\n",
       "      <td>1.0</td>\n",
       "      <td>0.0</td>\n",
       "      <td>0.0</td>\n",
       "      <td>0.0</td>\n",
       "      <td>0.0</td>\n",
       "      <td>0.0</td>\n",
       "      <td>0.0</td>\n",
       "      <td>0.0</td>\n",
       "      <td>-1.390171</td>\n",
       "      <td>-0.207103</td>\n",
       "    </tr>\n",
       "  </tbody>\n",
       "</table>\n",
       "<p>5 rows × 793 columns</p>\n",
       "</div>"
      ],
      "text/plain": [
       "       cat__SCHL_1  cat__SCHL_10  cat__SCHL_11  cat__SCHL_12  cat__SCHL_13  \\\n",
       "96427          0.0           0.0           0.0           0.0           0.0   \n",
       "28431          0.0           0.0           0.0           0.0           0.0   \n",
       "63265          0.0           0.0           0.0           0.0           0.0   \n",
       "9684           0.0           0.0           0.0           0.0           0.0   \n",
       "38057          0.0           0.0           0.0           0.0           0.0   \n",
       "\n",
       "       cat__SCHL_14  cat__SCHL_15  cat__SCHL_16  cat__SCHL_17  cat__SCHL_18  \\\n",
       "96427           0.0           0.0           0.0           0.0           0.0   \n",
       "28431           0.0           0.0           0.0           0.0           0.0   \n",
       "63265           0.0           0.0           1.0           0.0           0.0   \n",
       "9684            0.0           0.0           0.0           0.0           1.0   \n",
       "38057           0.0           0.0           0.0           0.0           0.0   \n",
       "\n",
       "       ...  cat__RELP_2  cat__RELP_3  cat__RELP_4  cat__RELP_5  cat__RELP_6  \\\n",
       "96427  ...          0.0          0.0          0.0          0.0          0.0   \n",
       "28431  ...          0.0          0.0          0.0          0.0          0.0   \n",
       "63265  ...          0.0          0.0          0.0          0.0          0.0   \n",
       "9684   ...          0.0          0.0          0.0          0.0          0.0   \n",
       "38057  ...          1.0          0.0          0.0          0.0          0.0   \n",
       "\n",
       "       cat__RELP_7  cat__RELP_8  cat__RELP_9  num__AGEP  num__WKHP  \n",
       "96427          0.0          0.0          0.0  -1.455341  -0.903525  \n",
       "28431          0.0          0.0          0.0  -0.412621  -0.516624  \n",
       "63265          0.0          0.0          0.0  -0.673301  -1.445187  \n",
       "9684           0.0          0.0          0.0   2.129009  -0.516624  \n",
       "38057          0.0          0.0          0.0  -1.390171  -0.207103  \n",
       "\n",
       "[5 rows x 793 columns]"
      ]
     },
     "metadata": {},
     "output_type": "display_data"
    },
    {
     "name": "stdout",
     "output_type": "stream",
     "text": [
      "\n",
      "\n",
      "\n",
      "Number of rows in the out-of-domain X_test 10000\n",
      "Top indexes of an X_test in an out-of-domain base flow dataset:  Int64Index([96427, 28431, 63265,  9684, 38057, 17635, 24537, 67209, 52586,\n",
      "            20281, 10671, 28729, 37092, 18389, 39885, 55778, 65196, 75424,\n",
      "            72767, 95910],\n",
      "           dtype='int64')\n",
      "Top indexes of an y_test in an out-of-domain base flow dataset:  Int64Index([96427, 28431, 63265,  9684, 38057, 17635, 24537, 67209, 52586,\n",
      "            20281, 10671, 28729, 37092, 18389, 39885, 55778, 65196, 75424,\n",
      "            72767, 95910],\n",
      "           dtype='int64')\n"
     ]
    },
    {
     "data": {
      "text/html": [
       "<div>\n",
       "<style scoped>\n",
       "    .dataframe tbody tr th:only-of-type {\n",
       "        vertical-align: middle;\n",
       "    }\n",
       "\n",
       "    .dataframe tbody tr th {\n",
       "        vertical-align: top;\n",
       "    }\n",
       "\n",
       "    .dataframe thead th {\n",
       "        text-align: right;\n",
       "    }\n",
       "</style>\n",
       "<table border=\"1\" class=\"dataframe\">\n",
       "  <thead>\n",
       "    <tr style=\"text-align: right;\">\n",
       "      <th></th>\n",
       "      <th>cat__SCHL_1</th>\n",
       "      <th>cat__SCHL_10</th>\n",
       "      <th>cat__SCHL_11</th>\n",
       "      <th>cat__SCHL_12</th>\n",
       "      <th>cat__SCHL_13</th>\n",
       "      <th>cat__SCHL_14</th>\n",
       "      <th>cat__SCHL_15</th>\n",
       "      <th>cat__SCHL_16</th>\n",
       "      <th>cat__SCHL_17</th>\n",
       "      <th>cat__SCHL_18</th>\n",
       "      <th>...</th>\n",
       "      <th>cat__RELP_2</th>\n",
       "      <th>cat__RELP_3</th>\n",
       "      <th>cat__RELP_4</th>\n",
       "      <th>cat__RELP_5</th>\n",
       "      <th>cat__RELP_6</th>\n",
       "      <th>cat__RELP_7</th>\n",
       "      <th>cat__RELP_8</th>\n",
       "      <th>cat__RELP_9</th>\n",
       "      <th>num__AGEP</th>\n",
       "      <th>num__WKHP</th>\n",
       "    </tr>\n",
       "  </thead>\n",
       "  <tbody>\n",
       "    <tr>\n",
       "      <th>96427</th>\n",
       "      <td>0.0</td>\n",
       "      <td>0.0</td>\n",
       "      <td>0.0</td>\n",
       "      <td>0.0</td>\n",
       "      <td>0.0</td>\n",
       "      <td>0.0</td>\n",
       "      <td>0.0</td>\n",
       "      <td>0.0</td>\n",
       "      <td>0.0</td>\n",
       "      <td>0.0</td>\n",
       "      <td>...</td>\n",
       "      <td>0.0</td>\n",
       "      <td>0.0</td>\n",
       "      <td>0.0</td>\n",
       "      <td>0.0</td>\n",
       "      <td>0.0</td>\n",
       "      <td>0.0</td>\n",
       "      <td>0.0</td>\n",
       "      <td>0.0</td>\n",
       "      <td>1.086289</td>\n",
       "      <td>-0.129723</td>\n",
       "    </tr>\n",
       "    <tr>\n",
       "      <th>28431</th>\n",
       "      <td>0.0</td>\n",
       "      <td>0.0</td>\n",
       "      <td>0.0</td>\n",
       "      <td>0.0</td>\n",
       "      <td>0.0</td>\n",
       "      <td>0.0</td>\n",
       "      <td>1.0</td>\n",
       "      <td>0.0</td>\n",
       "      <td>0.0</td>\n",
       "      <td>0.0</td>\n",
       "      <td>...</td>\n",
       "      <td>0.0</td>\n",
       "      <td>0.0</td>\n",
       "      <td>0.0</td>\n",
       "      <td>0.0</td>\n",
       "      <td>0.0</td>\n",
       "      <td>0.0</td>\n",
       "      <td>0.0</td>\n",
       "      <td>0.0</td>\n",
       "      <td>1.607649</td>\n",
       "      <td>-2.296369</td>\n",
       "    </tr>\n",
       "    <tr>\n",
       "      <th>63265</th>\n",
       "      <td>0.0</td>\n",
       "      <td>0.0</td>\n",
       "      <td>0.0</td>\n",
       "      <td>0.0</td>\n",
       "      <td>0.0</td>\n",
       "      <td>0.0</td>\n",
       "      <td>0.0</td>\n",
       "      <td>0.0</td>\n",
       "      <td>0.0</td>\n",
       "      <td>0.0</td>\n",
       "      <td>...</td>\n",
       "      <td>1.0</td>\n",
       "      <td>0.0</td>\n",
       "      <td>0.0</td>\n",
       "      <td>0.0</td>\n",
       "      <td>0.0</td>\n",
       "      <td>0.0</td>\n",
       "      <td>0.0</td>\n",
       "      <td>0.0</td>\n",
       "      <td>-0.999151</td>\n",
       "      <td>0.102418</td>\n",
       "    </tr>\n",
       "    <tr>\n",
       "      <th>9684</th>\n",
       "      <td>0.0</td>\n",
       "      <td>0.0</td>\n",
       "      <td>0.0</td>\n",
       "      <td>0.0</td>\n",
       "      <td>0.0</td>\n",
       "      <td>0.0</td>\n",
       "      <td>0.0</td>\n",
       "      <td>0.0</td>\n",
       "      <td>0.0</td>\n",
       "      <td>0.0</td>\n",
       "      <td>...</td>\n",
       "      <td>0.0</td>\n",
       "      <td>0.0</td>\n",
       "      <td>0.0</td>\n",
       "      <td>0.0</td>\n",
       "      <td>0.0</td>\n",
       "      <td>0.0</td>\n",
       "      <td>0.0</td>\n",
       "      <td>0.0</td>\n",
       "      <td>0.304249</td>\n",
       "      <td>-0.129723</td>\n",
       "    </tr>\n",
       "    <tr>\n",
       "      <th>38057</th>\n",
       "      <td>0.0</td>\n",
       "      <td>0.0</td>\n",
       "      <td>0.0</td>\n",
       "      <td>0.0</td>\n",
       "      <td>0.0</td>\n",
       "      <td>0.0</td>\n",
       "      <td>0.0</td>\n",
       "      <td>0.0</td>\n",
       "      <td>0.0</td>\n",
       "      <td>0.0</td>\n",
       "      <td>...</td>\n",
       "      <td>0.0</td>\n",
       "      <td>0.0</td>\n",
       "      <td>0.0</td>\n",
       "      <td>0.0</td>\n",
       "      <td>0.0</td>\n",
       "      <td>0.0</td>\n",
       "      <td>0.0</td>\n",
       "      <td>0.0</td>\n",
       "      <td>1.737989</td>\n",
       "      <td>-1.522567</td>\n",
       "    </tr>\n",
       "  </tbody>\n",
       "</table>\n",
       "<p>5 rows × 793 columns</p>\n",
       "</div>"
      ],
      "text/plain": [
       "       cat__SCHL_1  cat__SCHL_10  cat__SCHL_11  cat__SCHL_12  cat__SCHL_13  \\\n",
       "96427          0.0           0.0           0.0           0.0           0.0   \n",
       "28431          0.0           0.0           0.0           0.0           0.0   \n",
       "63265          0.0           0.0           0.0           0.0           0.0   \n",
       "9684           0.0           0.0           0.0           0.0           0.0   \n",
       "38057          0.0           0.0           0.0           0.0           0.0   \n",
       "\n",
       "       cat__SCHL_14  cat__SCHL_15  cat__SCHL_16  cat__SCHL_17  cat__SCHL_18  \\\n",
       "96427           0.0           0.0           0.0           0.0           0.0   \n",
       "28431           0.0           1.0           0.0           0.0           0.0   \n",
       "63265           0.0           0.0           0.0           0.0           0.0   \n",
       "9684            0.0           0.0           0.0           0.0           0.0   \n",
       "38057           0.0           0.0           0.0           0.0           0.0   \n",
       "\n",
       "       ...  cat__RELP_2  cat__RELP_3  cat__RELP_4  cat__RELP_5  cat__RELP_6  \\\n",
       "96427  ...          0.0          0.0          0.0          0.0          0.0   \n",
       "28431  ...          0.0          0.0          0.0          0.0          0.0   \n",
       "63265  ...          1.0          0.0          0.0          0.0          0.0   \n",
       "9684   ...          0.0          0.0          0.0          0.0          0.0   \n",
       "38057  ...          0.0          0.0          0.0          0.0          0.0   \n",
       "\n",
       "       cat__RELP_7  cat__RELP_8  cat__RELP_9  num__AGEP  num__WKHP  \n",
       "96427          0.0          0.0          0.0   1.086289  -0.129723  \n",
       "28431          0.0          0.0          0.0   1.607649  -2.296369  \n",
       "63265          0.0          0.0          0.0  -0.999151   0.102418  \n",
       "9684           0.0          0.0          0.0   0.304249  -0.129723  \n",
       "38057          0.0          0.0          0.0   1.737989  -1.522567  \n",
       "\n",
       "[5 rows x 793 columns]"
      ]
     },
     "metadata": {},
     "output_type": "display_data"
    },
    {
     "name": "stderr",
     "output_type": "stream",
     "text": [
      "2023-11-23 06:48:11 experiment_interface.py INFO    : Models config is loaded from the input file\n",
      "INFO:root:Models config is loaded from the input file\n"
     ]
    },
    {
     "name": "stdout",
     "output_type": "stream",
     "text": [
      "Path for tuned params:  /home/dh3553/projects/fairness-variance/results/out_of_domain_uncertainty_poor_income_LR_90K/tuning_results_Folktables_2018_Income_alpha_0.7_exp_iter_1_20231123__095343.csv\n",
      "LogisticRegression:  {'C': 1, 'class_weight': None, 'dual': False, 'fit_intercept': True, 'intercept_scaling': 1, 'l1_ratio': None, 'max_iter': 1000, 'multi_class': 'auto', 'n_jobs': None, 'penalty': 'l2', 'random_state': 300, 'solver': 'newton-cg', 'tol': 0.0001, 'verbose': 0, 'warm_start': False}\n"
     ]
    },
    {
     "data": {
      "application/vnd.jupyter.widget-view+json": {
       "model_id": "c3e2a5637b7b43048d63d65db3292b28",
       "version_major": 2,
       "version_minor": 0
      },
      "text/plain": [
       "Analyze models in one run:   0%|          | 0/1 [00:00<?, ?it/s]"
      ]
     },
     "metadata": {},
     "output_type": "display_data"
    },
    {
     "data": {
      "application/vnd.jupyter.widget-view+json": {
       "model_id": "d6ba3dbd2dd94dbf82640b973a23c8f6",
       "version_major": 2,
       "version_minor": 0
      },
      "text/plain": [
       "Classifiers testing by bootstrap:   0%|          | 0/200 [00:00<?, ?it/s]"
      ]
     },
     "metadata": {},
     "output_type": "display_data"
    }
   ],
   "source": [
    "run_exp_iter_with_disparate_impact_and_mult_sets(data_loader=exp_iter_data_loader,\n",
    "                                                 extra_data_loaders=exp_extra_data_loaders,\n",
    "                                                 experiment_seed=experiment_seed,\n",
    "                                                 test_set_fraction=TEST_SET_FRACTION,\n",
    "                                                 db_writer_func=db_writer_func,\n",
    "                                                 fair_intervention_params_lst=FAIR_INTERVENTION_PARAMS_LST,\n",
    "                                                 models_params_for_tuning=models_params_for_tuning,\n",
    "                                                 metrics_computation_config=metrics_computation_config,\n",
    "                                                 custom_table_fields_dct=custom_table_fields_dct,\n",
    "#                                                  with_tuning=True,\n",
    "                                                 with_tuning=False,\n",
    "                                                 tuned_params_df_paths=tuned_params_df_paths,\n",
    "                                                 save_results_dir_path=SAVE_RESULTS_DIR_PATH,\n",
    "                                                 train_set_subsample_size=TRAIN_SET_SUBSAMPLE_SIZE,\n",
    "                                                 verbose=True)"
   ]
  },
  {
   "cell_type": "markdown",
   "id": "69d68326",
   "metadata": {},
   "source": [
    "### Experiment iteration 4"
   ]
  },
  {
   "cell_type": "code",
   "execution_count": null,
   "id": "7ed620fc",
   "metadata": {},
   "outputs": [],
   "source": [
    "# Configs for an experiment iteration\n",
    "exp_iter_num = 4\n",
    "experiment_seed = EXPERIMENT_SEEDS[exp_iter_num - 1]\n",
    "tuned_params_filenames = [\n",
    "    'tuning_results_Folktables_2018_Income_alpha_0.7_exp_iter_1_20231123__095343.csv'\n",
    "]\n",
    "tuned_params_df_paths = [os.path.join(ROOT_DIR, 'results', EXPERIMENT_NAME, tuned_params_filename)\n",
    "                         for tuned_params_filename in tuned_params_filenames]\n",
    "custom_table_fields_dct['experiment_iteration'] = f'Exp_iter_{exp_iter_num}'\n",
    "\n",
    "exp_iter_data_loader = copy.deepcopy(data_loader_poor)  # Add deepcopy to avoid data leakage\n",
    "exp_extra_data_loaders = copy.deepcopy(extra_data_loaders)  # Add deepcopy to avoid data leakage\n",
    "models_params_for_tuning = get_folktables_employment_models_params_for_tuning(experiment_seed)"
   ]
  },
  {
   "cell_type": "code",
   "execution_count": null,
   "id": "c7239be9",
   "metadata": {},
   "outputs": [],
   "source": [
    "run_exp_iter_with_disparate_impact_and_mult_sets(data_loader=exp_iter_data_loader,\n",
    "                                                 extra_data_loaders=exp_extra_data_loaders,\n",
    "                                                 experiment_seed=experiment_seed,\n",
    "                                                 test_set_fraction=TEST_SET_FRACTION,\n",
    "                                                 db_writer_func=db_writer_func,\n",
    "                                                 fair_intervention_params_lst=FAIR_INTERVENTION_PARAMS_LST,\n",
    "                                                 models_params_for_tuning=models_params_for_tuning,\n",
    "                                                 metrics_computation_config=metrics_computation_config,\n",
    "                                                 custom_table_fields_dct=custom_table_fields_dct,\n",
    "#                                                  with_tuning=True,\n",
    "                                                 with_tuning=False,\n",
    "                                                 tuned_params_df_paths=tuned_params_df_paths,\n",
    "                                                 save_results_dir_path=SAVE_RESULTS_DIR_PATH,\n",
    "                                                 train_set_subsample_size=TRAIN_SET_SUBSAMPLE_SIZE,\n",
    "                                                 verbose=True)"
   ]
  },
  {
   "cell_type": "markdown",
   "id": "e2248c37",
   "metadata": {},
   "source": [
    "### Experiment iteration 5"
   ]
  },
  {
   "cell_type": "code",
   "execution_count": null,
   "id": "393a86c4",
   "metadata": {},
   "outputs": [],
   "source": [
    "# Configs for an experiment iteration\n",
    "exp_iter_num = 5\n",
    "experiment_seed = EXPERIMENT_SEEDS[exp_iter_num - 1]\n",
    "tuned_params_filenames = [\n",
    "    'tuning_results_Folktables_2018_Income_alpha_0.7_exp_iter_1_20231123__095343.csv'\n",
    "]\n",
    "tuned_params_df_paths = [os.path.join(ROOT_DIR, 'results', EXPERIMENT_NAME, tuned_params_filename)\n",
    "                         for tuned_params_filename in tuned_params_filenames]\n",
    "custom_table_fields_dct['experiment_iteration'] = f'Exp_iter_{exp_iter_num}'\n",
    "\n",
    "exp_iter_data_loader = copy.deepcopy(data_loader_poor)  # Add deepcopy to avoid data leakage\n",
    "exp_extra_data_loaders = copy.deepcopy(extra_data_loaders)  # Add deepcopy to avoid data leakage\n",
    "models_params_for_tuning = get_folktables_employment_models_params_for_tuning(experiment_seed)"
   ]
  },
  {
   "cell_type": "code",
   "execution_count": null,
   "id": "94a4c27f",
   "metadata": {},
   "outputs": [],
   "source": [
    "run_exp_iter_with_disparate_impact_and_mult_sets(data_loader=exp_iter_data_loader,\n",
    "                                                 extra_data_loaders=exp_extra_data_loaders,\n",
    "                                                 experiment_seed=experiment_seed,\n",
    "                                                 test_set_fraction=TEST_SET_FRACTION,\n",
    "                                                 db_writer_func=db_writer_func,\n",
    "                                                 fair_intervention_params_lst=FAIR_INTERVENTION_PARAMS_LST,\n",
    "                                                 models_params_for_tuning=models_params_for_tuning,\n",
    "                                                 metrics_computation_config=metrics_computation_config,\n",
    "                                                 custom_table_fields_dct=custom_table_fields_dct,\n",
    "#                                                  with_tuning=True,\n",
    "                                                 with_tuning=False,\n",
    "                                                 tuned_params_df_paths=tuned_params_df_paths,\n",
    "                                                 save_results_dir_path=SAVE_RESULTS_DIR_PATH,\n",
    "                                                 train_set_subsample_size=TRAIN_SET_SUBSAMPLE_SIZE,\n",
    "                                                 verbose=True)"
   ]
  },
  {
   "cell_type": "markdown",
   "id": "b71fdc19",
   "metadata": {},
   "source": [
    "### Experiment iteration 6"
   ]
  },
  {
   "cell_type": "code",
   "execution_count": null,
   "id": "316a5470",
   "metadata": {},
   "outputs": [],
   "source": [
    "# Configs for an experiment iteration\n",
    "exp_iter_num = 6\n",
    "experiment_seed = EXPERIMENT_SEEDS[exp_iter_num - 1]\n",
    "tuned_params_filenames = [\n",
    "    'tuning_results_Folktables_2018_Income_alpha_0.7_exp_iter_1_20231123__095343.csv'\n",
    "]\n",
    "tuned_params_df_paths = [os.path.join(ROOT_DIR, 'results', EXPERIMENT_NAME, tuned_params_filename)\n",
    "                         for tuned_params_filename in tuned_params_filenames]\n",
    "custom_table_fields_dct['experiment_iteration'] = f'Exp_iter_{exp_iter_num}'\n",
    "\n",
    "exp_iter_data_loader = copy.deepcopy(data_loader_poor)  # Add deepcopy to avoid data leakage\n",
    "exp_extra_data_loaders = copy.deepcopy(extra_data_loaders)  # Add deepcopy to avoid data leakage\n",
    "models_params_for_tuning = get_folktables_employment_models_params_for_tuning(experiment_seed)"
   ]
  },
  {
   "cell_type": "code",
   "execution_count": 21,
   "id": "a21955bf",
   "metadata": {
    "ExecuteTime": {
     "end_time": "2023-10-22T22:49:08.358908Z",
     "start_time": "2023-10-22T22:49:08.356546Z"
    }
   },
   "outputs": [],
   "source": [
    "run_exp_iter_with_disparate_impact_and_mult_sets(data_loader=exp_iter_data_loader,\n",
    "                                                 extra_data_loaders=exp_extra_data_loaders,\n",
    "                                                 experiment_seed=experiment_seed,\n",
    "                                                 test_set_fraction=TEST_SET_FRACTION,\n",
    "                                                 db_writer_func=db_writer_func,\n",
    "                                                 fair_intervention_params_lst=FAIR_INTERVENTION_PARAMS_LST,\n",
    "                                                 models_params_for_tuning=models_params_for_tuning,\n",
    "                                                 metrics_computation_config=metrics_computation_config,\n",
    "                                                 custom_table_fields_dct=custom_table_fields_dct,\n",
    "#                                                  with_tuning=True,\n",
    "                                                 with_tuning=False,\n",
    "                                                 tuned_params_df_paths=tuned_params_df_paths,\n",
    "                                                 save_results_dir_path=SAVE_RESULTS_DIR_PATH,\n",
    "                                                 train_set_subsample_size=TRAIN_SET_SUBSAMPLE_SIZE,\n",
    "                                                 verbose=True)"
   ]
  },
  {
   "cell_type": "code",
   "execution_count": null,
   "id": "b73c9c5d",
   "metadata": {},
   "outputs": [],
   "source": []
  }
 ],
 "metadata": {
  "kernelspec": {
   "display_name": "Python 3",
   "language": "python",
   "name": "python3"
  },
  "language_info": {
   "codemirror_mode": {
    "name": "ipython",
    "version": 3
   },
   "file_extension": ".py",
   "mimetype": "text/x-python",
   "name": "python",
   "nbconvert_exporter": "python",
   "pygments_lexer": "ipython3",
   "version": "3.8.5"
  }
 },
 "nbformat": 4,
 "nbformat_minor": 5
}
