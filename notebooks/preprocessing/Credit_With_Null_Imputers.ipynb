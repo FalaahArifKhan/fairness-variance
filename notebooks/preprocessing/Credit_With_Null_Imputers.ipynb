{
 "cells": [
  {
   "cell_type": "code",
   "execution_count": 70,
   "outputs": [],
   "source": [
    "# !pip install -r ../exp_requirements.txt"
   ],
   "metadata": {
    "collapsed": false
   }
  },
  {
   "cell_type": "code",
   "execution_count": 71,
   "outputs": [],
   "source": [
    "# !pip uninstall virny -y"
   ],
   "metadata": {
    "collapsed": false
   }
  },
  {
   "cell_type": "code",
   "execution_count": 72,
   "outputs": [],
   "source": [
    "# Install using an HTTP link\n",
    "# !pip install git+https://github.com/DataResponsibly/Virny.git@development\n",
    "\n",
    "# Install using an SSH link\n",
    "# !pip install git+ssh://git@github.com/DataResponsibly/Virny.git@development"
   ],
   "metadata": {
    "collapsed": false
   }
  },
  {
   "cell_type": "code",
   "execution_count": 73,
   "id": "248cbed8",
   "metadata": {},
   "outputs": [
    {
     "name": "stdout",
     "output_type": "stream",
     "text": [
      "The autoreload extension is already loaded. To reload it, use:\n",
      "  %reload_ext autoreload\n"
     ]
    }
   ],
   "source": [
    "%matplotlib inline\n",
    "%load_ext autoreload\n",
    "%autoreload 2"
   ]
  },
  {
   "cell_type": "code",
   "execution_count": 74,
   "id": "7ec6cd08",
   "metadata": {},
   "outputs": [],
   "source": [
    "import os\n",
    "import warnings\n",
    "warnings.filterwarnings('ignore')\n",
    "os.environ[\"PYTHONWARNINGS\"] = \"ignore\""
   ]
  },
  {
   "cell_type": "markdown",
   "id": "a578f2ab",
   "metadata": {},
   "source": [
    "# Credit Dataset With Null Imputer"
   ]
  },
  {
   "cell_type": "markdown",
   "id": "606df34d",
   "metadata": {},
   "source": [
    "## Import dependencies"
   ]
  },
  {
   "cell_type": "code",
   "execution_count": 75,
   "id": "7a9241de",
   "metadata": {},
   "outputs": [],
   "source": [
    "import os\n",
    "import copy\n",
    "\n",
    "from xgboost import XGBClassifier\n",
    "from sklearn.tree import DecisionTreeClassifier\n",
    "from sklearn.ensemble import RandomForestClassifier\n",
    "from sklearn.linear_model import LogisticRegression\n",
    "from sklearn.neighbors import KNeighborsClassifier\n",
    "from sklearn.neural_network import MLPClassifier\n",
    "\n",
    "from virny.utils.custom_initializers import create_config_obj\n",
    "from virny.datasets.data_loaders import CreditDataset\n",
    "\n",
    "from source.preprocessing import get_null_imputer_preprocessor\n",
    "from source.experiment_interface import run_exp_iteration\n",
    "from configs.constants import NUM_METRICS_COMPUTATION_RUNS, EXPERIMENT_SEEDS"
   ]
  },
  {
   "cell_type": "markdown",
   "id": "75699f5f",
   "metadata": {},
   "source": [
    "## Initialize input variables for the experiment"
   ]
  },
  {
   "cell_type": "code",
   "execution_count": 76,
   "outputs": [],
   "source": [
    "ROOT_DIR = os.path.join(os.getcwd(), \"..\", \"..\")\n",
    "EXPERIMENT_NAME = 'preprocessing'\n",
    "SAVE_RESULTS_DIR_PATH = os.path.join(ROOT_DIR, 'results', EXPERIMENT_NAME)"
   ],
   "metadata": {
    "collapsed": false
   }
  },
  {
   "cell_type": "code",
   "execution_count": 77,
   "outputs": [
    {
     "data": {
      "text/plain": "        RevolvingUtilizationOfUnsecuredLines  age  \\\n79888                               0.224841   49   \n147279                              0.017192   44   \n68507                               0.135764   51   \n66571                               0.000000   41   \n117874                              0.118444   35   \n\n        NumberOfTime30-59DaysPastDueNotWorse    DebtRatio  MonthlyIncome  \\\n79888                                      0     0.199238        12075.0   \n147279                                     0     0.254491         6400.0   \n68507                                      0     0.613562         5780.0   \n66571                                      0  1284.000000            NaN   \n117874                                     0     0.377386         5500.0   \n\n        NumberOfOpenCreditLinesAndLoans  NumberOfTimes90DaysLate  \\\n79888                                 7                        0   \n147279                                9                        0   \n68507                                10                        0   \n66571                                 5                        0   \n117874                               14                        0   \n\n        NumberRealEstateLoansOrLines  \n79888                              1  \n147279                             1  \n68507                              1  \n66571                              1  \n117874                             1  ",
      "text/html": "<div>\n<style scoped>\n    .dataframe tbody tr th:only-of-type {\n        vertical-align: middle;\n    }\n\n    .dataframe tbody tr th {\n        vertical-align: top;\n    }\n\n    .dataframe thead th {\n        text-align: right;\n    }\n</style>\n<table border=\"1\" class=\"dataframe\">\n  <thead>\n    <tr style=\"text-align: right;\">\n      <th></th>\n      <th>RevolvingUtilizationOfUnsecuredLines</th>\n      <th>age</th>\n      <th>NumberOfTime30-59DaysPastDueNotWorse</th>\n      <th>DebtRatio</th>\n      <th>MonthlyIncome</th>\n      <th>NumberOfOpenCreditLinesAndLoans</th>\n      <th>NumberOfTimes90DaysLate</th>\n      <th>NumberRealEstateLoansOrLines</th>\n    </tr>\n  </thead>\n  <tbody>\n    <tr>\n      <th>79888</th>\n      <td>0.224841</td>\n      <td>49</td>\n      <td>0</td>\n      <td>0.199238</td>\n      <td>12075.0</td>\n      <td>7</td>\n      <td>0</td>\n      <td>1</td>\n    </tr>\n    <tr>\n      <th>147279</th>\n      <td>0.017192</td>\n      <td>44</td>\n      <td>0</td>\n      <td>0.254491</td>\n      <td>6400.0</td>\n      <td>9</td>\n      <td>0</td>\n      <td>1</td>\n    </tr>\n    <tr>\n      <th>68507</th>\n      <td>0.135764</td>\n      <td>51</td>\n      <td>0</td>\n      <td>0.613562</td>\n      <td>5780.0</td>\n      <td>10</td>\n      <td>0</td>\n      <td>1</td>\n    </tr>\n    <tr>\n      <th>66571</th>\n      <td>0.000000</td>\n      <td>41</td>\n      <td>0</td>\n      <td>1284.000000</td>\n      <td>NaN</td>\n      <td>5</td>\n      <td>0</td>\n      <td>1</td>\n    </tr>\n    <tr>\n      <th>117874</th>\n      <td>0.118444</td>\n      <td>35</td>\n      <td>0</td>\n      <td>0.377386</td>\n      <td>5500.0</td>\n      <td>14</td>\n      <td>0</td>\n      <td>1</td>\n    </tr>\n  </tbody>\n</table>\n</div>"
     },
     "execution_count": 77,
     "metadata": {},
     "output_type": "execute_result"
    }
   ],
   "source": [
    "data_loader = CreditDataset(subsample_size=50_000)\n",
    "data_loader.X_data.head()"
   ],
   "metadata": {
    "collapsed": false
   }
  },
  {
   "cell_type": "code",
   "execution_count": 78,
   "outputs": [
    {
     "data": {
      "text/plain": "SeriousDlqin2yrs                           0\nRevolvingUtilizationOfUnsecuredLines       0\nage                                        0\nNumberOfTime30-59DaysPastDueNotWorse       0\nDebtRatio                                  0\nMonthlyIncome                           9916\nNumberOfOpenCreditLinesAndLoans            0\nNumberOfTimes90DaysLate                    0\nNumberRealEstateLoansOrLines               0\nNumberOfTime60-89DaysPastDueNotWorse       0\nNumberOfDependents                      1251\ndtype: int64"
     },
     "execution_count": 78,
     "metadata": {},
     "output_type": "execute_result"
    }
   ],
   "source": [
    "data_loader.full_df.isna().sum()"
   ],
   "metadata": {
    "collapsed": false
   }
  },
  {
   "cell_type": "markdown",
   "source": [
    "### Define a db writer and custom fields to insert into your database"
   ],
   "metadata": {
    "collapsed": false
   }
  },
  {
   "cell_type": "code",
   "execution_count": 79,
   "outputs": [
    {
     "name": "stdout",
     "output_type": "stream",
     "text": [
      "Current session uuid:  9e650975-a005-4230-98ab-4290b593d043\n"
     ]
    }
   ],
   "source": [
    "import uuid\n",
    "\n",
    "custom_table_fields_dct = {\n",
    "    'session_uuid': str(uuid.uuid4()),\n",
    "    'preprocessing_technique': None,\n",
    "}\n",
    "print('Current session uuid: ', custom_table_fields_dct['session_uuid'])"
   ],
   "metadata": {
    "collapsed": false
   }
  },
  {
   "cell_type": "markdown",
   "source": [
    "### Create a metrics computation config object"
   ],
   "metadata": {
    "collapsed": false
   }
  },
  {
   "cell_type": "code",
   "execution_count": 80,
   "outputs": [],
   "source": [
    "config_yaml_path = 'experiment_config.yaml'\n",
    "age_range = [i for i in range(0, 31)]\n",
    "config_yaml_content = \\\n",
    "f\"\"\"\n",
    "dataset_name: Credit\n",
    "bootstrap_fraction: 0.8\n",
    "n_estimators: 50  # Better to input the higher number of estimators than 100; this is only for this use case example\n",
    "# num_runs: {NUM_METRICS_COMPUTATION_RUNS}\n",
    "num_runs: 2\n",
    "sensitive_attributes_dct: {{'age': {age_range}}}\n",
    "\"\"\"\n",
    "\n",
    "with open(config_yaml_path, 'w', encoding='utf-8') as f:\n",
    "    f.write(config_yaml_content)"
   ],
   "metadata": {
    "collapsed": false
   }
  },
  {
   "cell_type": "code",
   "execution_count": 81,
   "outputs": [],
   "source": [
    "metrics_computation_config = create_config_obj(config_yaml_path=config_yaml_path)"
   ],
   "metadata": {
    "collapsed": false
   }
  },
  {
   "cell_type": "markdown",
   "source": [
    "### Define tuning parameter for models"
   ],
   "metadata": {
    "collapsed": false
   }
  },
  {
   "cell_type": "code",
   "execution_count": 82,
   "outputs": [],
   "source": [
    "def get_models_params_for_tuning(models_tuning_seed):\n",
    "    return {\n",
    "        'DecisionTreeClassifier': {\n",
    "            'model': DecisionTreeClassifier(random_state=models_tuning_seed),\n",
    "            'params': {\n",
    "                \"max_depth\": [20, 30],\n",
    "                \"min_samples_split\" : [0.1],\n",
    "                \"max_features\": ['sqrt'],\n",
    "                \"criterion\": [\"gini\", \"entropy\"]\n",
    "            }\n",
    "        },\n",
    "        'LogisticRegression': {\n",
    "            'model': LogisticRegression(random_state=models_tuning_seed),\n",
    "            'params': {\n",
    "                'penalty': ['l2'],\n",
    "                'C' : [0.0001, 0.1, 1, 100],\n",
    "                'solver': ['newton-cg', 'lbfgs'],\n",
    "                'max_iter': [250],\n",
    "            }\n",
    "        },\n",
    "        # 'RandomForestClassifier': {\n",
    "        #     'model': RandomForestClassifier(random_state=models_tuning_seed),\n",
    "        #     'params': {\n",
    "        #         \"max_depth\": [6, 10],\n",
    "        #         \"min_samples_leaf\": [1],\n",
    "        #         \"n_estimators\": [50, 100],\n",
    "        #         \"max_features\": [0.6]\n",
    "        #     }\n",
    "        # },\n",
    "        # 'XGBClassifier': {\n",
    "        #     'model': XGBClassifier(random_state=models_tuning_seed, verbosity=0),\n",
    "        #     'params': {\n",
    "        #         'learning_rate': [0.1],\n",
    "        #         'n_estimators': [200],\n",
    "        #         'max_depth': [5, 7],\n",
    "        #         'lambda':  [10, 100]\n",
    "        #     }\n",
    "        # },\n",
    "        # 'KNeighborsClassifier': {\n",
    "        #     'model': KNeighborsClassifier(),\n",
    "        #     'params': {\n",
    "        #         'n_neighbors' : [5, 7, 9, 11, 13, 15, 25],\n",
    "        #         'weights' : ['uniform', 'distance'],\n",
    "        #         'metric' : ['minkowski', 'euclidean', 'manhattan']\n",
    "        #     }\n",
    "        # },\n",
    "        # 'MLPClassifier': {\n",
    "        #     'model': MLPClassifier(random_state=models_tuning_seed),\n",
    "        #     'params': {\n",
    "        #         'hidden_layer_sizes':[(100,), (100,100,), (100,50,100,)],\n",
    "        #         'activation': ['logistic', 'tanh', 'relu'],\n",
    "        #         'solver': ['lbfgs', 'sgd', 'adam'],\n",
    "        #         'learning_rate': ['constant', 'invscaling', 'adaptive']\n",
    "        #     }\n",
    "        # }\n",
    "    }"
   ],
   "metadata": {
    "collapsed": false
   }
  },
  {
   "cell_type": "markdown",
   "source": [
    "## Run experiments"
   ],
   "metadata": {
    "collapsed": false
   }
  },
  {
   "cell_type": "markdown",
   "source": [
    "### Experiment iteration 1"
   ],
   "metadata": {
    "collapsed": false
   }
  },
  {
   "cell_type": "code",
   "execution_count": 83,
   "outputs": [],
   "source": [
    "# Configs for an experiment iteration\n",
    "exp_iter_num = 1\n",
    "experiment_seed = EXPERIMENT_SEEDS[exp_iter_num - 1]\n",
    "custom_table_fields_dct['preprocessing_technique'] = 'cat: mode, num: median'\n",
    "custom_table_fields_dct['experiment_iteration'] = f'Exp_iter_{exp_iter_num}'\n",
    "exp_iter_data_loader = copy.deepcopy(data_loader)  # Add deepcopy to avoid data leakage\n",
    "preprocessor = get_null_imputer_preprocessor(exp_iter_data_loader)\n",
    "models_params_for_tuning = get_models_params_for_tuning(experiment_seed)"
   ],
   "metadata": {
    "collapsed": false
   }
  },
  {
   "cell_type": "code",
   "execution_count": 84,
   "id": "2326c129",
   "metadata": {},
   "outputs": [
    {
     "name": "stderr",
     "output_type": "stream",
     "text": [
      "2023-03-28 17:40:26 experiment_interface.py INFO    : Start an experiment iteration for the following custom params:\n",
      "2023-03-28 17:40:26 experiment_interface.py INFO    : The dataset is preprocessed\n"
     ]
    },
    {
     "name": "stdout",
     "output_type": "stream",
     "text": [
      "{'experiment_iteration': 'Exp_iter_1',\n",
      " 'preprocessing_technique': 'cat: mode, num: median',\n",
      " 'session_uuid': '9e650975-a005-4230-98ab-4290b593d043'}\n",
      "\n",
      "\n",
      "2023/03/28, 17:40:26: Tuning DecisionTreeClassifier...\n",
      "Fitting 3 folds for each of 4 candidates, totalling 12 fits\n",
      "2023/03/28, 17:40:28: Tuning for DecisionTreeClassifier is finished [F1 score = 0.4832625841852214, Accuracy = 0.9314333333333332]\n",
      "\n",
      "2023/03/28, 17:40:28: Tuning LogisticRegression...\n",
      "Fitting 3 folds for each of 8 candidates, totalling 24 fits\n"
     ]
    },
    {
     "name": "stderr",
     "output_type": "stream",
     "text": [
      "2023-03-28 17:40:28 experiment_interface.py INFO    : Models are tuned and saved to a file\n",
      "2023-03-28 17:40:28 experiment_interface.py INFO    : Connected to MongoDB\n"
     ]
    },
    {
     "name": "stdout",
     "output_type": "stream",
     "text": [
      "2023/03/28, 17:40:28: Tuning for LogisticRegression is finished [F1 score = 0.4917604198838772, Accuracy = 0.9312333333333332]\n",
      "\n"
     ]
    },
    {
     "data": {
      "text/plain": "Multiple runs progress:   0%|          | 0/2 [00:00<?, ?it/s]",
      "application/vnd.jupyter.widget-view+json": {
       "version_major": 2,
       "version_minor": 0,
       "model_id": "6069fdbc970443108d2835aae1311574"
      }
     },
     "metadata": {},
     "output_type": "display_data"
    },
    {
     "data": {
      "text/plain": "Analyze models in one run:   0%|          | 0/2 [00:00<?, ?it/s]",
      "application/vnd.jupyter.widget-view+json": {
       "version_major": 2,
       "version_minor": 0,
       "model_id": "c7094db666024253888aa5bd4a64ae01"
      }
     },
     "metadata": {},
     "output_type": "display_data"
    },
    {
     "name": "stdout",
     "output_type": "stream",
     "text": [
      "##############################  [Model 1 / 2] Analyze DecisionTreeClassifier  ##############################\n",
      "Model seed:  101\n",
      "\n",
      "\n"
     ]
    },
    {
     "name": "stderr",
     "output_type": "stream",
     "text": [
      "2023-03-28 17:40:28 abstract_overall_variance_analyzer.py INFO    : Start classifiers testing by bootstrap\n"
     ]
    },
    {
     "data": {
      "text/plain": "Classifiers testing by bootstrap:   0%|          | 0/200 [00:00<?, ?it/s]",
      "application/vnd.jupyter.widget-view+json": {
       "version_major": 2,
       "version_minor": 0,
       "model_id": "99d90b648c1f42998a928453bd339c79"
      }
     },
     "metadata": {},
     "output_type": "display_data"
    },
    {
     "name": "stdout",
     "output_type": "stream",
     "text": [
      "\n",
      "\n"
     ]
    },
    {
     "name": "stderr",
     "output_type": "stream",
     "text": [
      "2023-03-28 17:40:33 abstract_overall_variance_analyzer.py INFO    : Successfully tested classifiers by bootstrap\n",
      "2023-03-28 17:42:03 abstract_overall_variance_analyzer.py INFO    : Successfully computed predict proba metrics\n"
     ]
    },
    {
     "name": "stdout",
     "output_type": "stream",
     "text": [
      "\n",
      "\n",
      "\n",
      "\n",
      "##############################  [Model 2 / 2] Analyze LogisticRegression  ##############################\n",
      "Model seed:  101\n",
      "\n",
      "\n"
     ]
    },
    {
     "name": "stderr",
     "output_type": "stream",
     "text": [
      "2023-03-28 17:43:34 abstract_overall_variance_analyzer.py INFO    : Start classifiers testing by bootstrap\n"
     ]
    },
    {
     "data": {
      "text/plain": "Classifiers testing by bootstrap:   0%|          | 0/200 [00:00<?, ?it/s]",
      "application/vnd.jupyter.widget-view+json": {
       "version_major": 2,
       "version_minor": 0,
       "model_id": "28913843a8a443e3ba89d016aea2db63"
      }
     },
     "metadata": {},
     "output_type": "display_data"
    },
    {
     "name": "stdout",
     "output_type": "stream",
     "text": [
      "\n",
      "\n"
     ]
    },
    {
     "name": "stderr",
     "output_type": "stream",
     "text": [
      "2023-03-28 17:44:06 abstract_overall_variance_analyzer.py INFO    : Successfully tested classifiers by bootstrap\n"
     ]
    },
    {
     "name": "stdout",
     "output_type": "stream",
     "text": [
      "[CV 3/3; 2/4] START criterion=gini, max_depth=30, max_features=sqrt, min_samples_split=0.1\n",
      "[CV 3/3; 2/4] END criterion=gini, max_depth=30, max_features=sqrt, min_samples_split=0.1; Accuracy_Score: (test=0.930) F1_Score: (test=0.482) total time=   0.0s\n",
      "[CV 2/3; 1/8] START C=0.0001, max_iter=250, penalty=l2, solver=newton-cg........\n",
      "[CV 2/3; 1/8] END C=0.0001, max_iter=250, penalty=l2, solver=newton-cg; Accuracy_Score: (test=0.929) F1_Score: (test=0.482) total time=   0.1s\n",
      "[CV 1/3; 5/8] START C=1, max_iter=250, penalty=l2, solver=newton-cg.............\n",
      "[CV 1/3; 5/8] END C=1, max_iter=250, penalty=l2, solver=newton-cg; Accuracy_Score: (test=0.935) F1_Score: (test=0.495) total time=   0.2s\n",
      "[CV 1/3; 1/4] START criterion=gini, max_depth=20, max_features=sqrt, min_samples_split=0.1\n",
      "[CV 1/3; 1/4] END criterion=gini, max_depth=20, max_features=sqrt, min_samples_split=0.1; Accuracy_Score: (test=0.935) F1_Score: (test=0.486) total time=   0.0s\n",
      "[CV 3/3; 3/4] START criterion=entropy, max_depth=20, max_features=sqrt, min_samples_split=0.1\n",
      "[CV 3/3; 3/4] END criterion=entropy, max_depth=20, max_features=sqrt, min_samples_split=0.1; Accuracy_Score: (test=0.931) F1_Score: (test=0.482) total time=   0.0s\n",
      "[CV 2/3; 4/4] START criterion=entropy, max_depth=30, max_features=sqrt, min_samples_split=0.1\n",
      "[CV 2/3; 4/4] END criterion=entropy, max_depth=30, max_features=sqrt, min_samples_split=0.1; Accuracy_Score: (test=0.929) F1_Score: (test=0.482) total time=   0.0s\n",
      "[CV 3/3; 1/8] START C=0.0001, max_iter=250, penalty=l2, solver=newton-cg........\n",
      "[CV 3/3; 1/8] END C=0.0001, max_iter=250, penalty=l2, solver=newton-cg; Accuracy_Score: (test=0.931) F1_Score: (test=0.482) total time=   0.1s\n",
      "[CV 2/3; 4/8] START C=0.1, max_iter=250, penalty=l2, solver=lbfgs...............\n",
      "[CV 2/3; 4/8] END C=0.1, max_iter=250, penalty=l2, solver=lbfgs; Accuracy_Score: (test=0.928) F1_Score: (test=0.487) total time=   0.1s\n",
      "[CV 3/3; 5/8] START C=1, max_iter=250, penalty=l2, solver=newton-cg.............\n",
      "[CV 3/3; 5/8] END C=1, max_iter=250, penalty=l2, solver=newton-cg; Accuracy_Score: (test=0.931) F1_Score: (test=0.492) total time=   0.1s\n",
      "[CV 3/3; 7/8] START C=100, max_iter=250, penalty=l2, solver=newton-cg...........\n",
      "[CV 3/3; 7/8] END C=100, max_iter=250, penalty=l2, solver=newton-cg; Accuracy_Score: (test=0.931) F1_Score: (test=0.492) total time=   0.1s\n",
      "[CV 2/3; 1/4] START criterion=gini, max_depth=20, max_features=sqrt, min_samples_split=0.1\n",
      "[CV 2/3; 1/4] END criterion=gini, max_depth=20, max_features=sqrt, min_samples_split=0.1; Accuracy_Score: (test=0.929) F1_Score: (test=0.482) total time=   0.1s\n",
      "[CV 1/3; 4/4] START criterion=entropy, max_depth=30, max_features=sqrt, min_samples_split=0.1\n",
      "[CV 1/3; 4/4] END criterion=entropy, max_depth=30, max_features=sqrt, min_samples_split=0.1; Accuracy_Score: (test=0.935) F1_Score: (test=0.483) total time=   0.1s\n",
      "[CV 1/3; 1/8] START C=0.0001, max_iter=250, penalty=l2, solver=newton-cg........\n",
      "[CV 1/3; 1/8] END C=0.0001, max_iter=250, penalty=l2, solver=newton-cg; Accuracy_Score: (test=0.935) F1_Score: (test=0.483) total time=   0.1s\n",
      "[CV 2/3; 5/8] START C=1, max_iter=250, penalty=l2, solver=newton-cg.............\n",
      "[CV 2/3; 5/8] END C=1, max_iter=250, penalty=l2, solver=newton-cg; Accuracy_Score: (test=0.928) F1_Score: (test=0.488) total time=   0.1s\n",
      "[CV 3/3; 8/8] START C=100, max_iter=250, penalty=l2, solver=lbfgs...............\n",
      "[CV 3/3; 8/8] END C=100, max_iter=250, penalty=l2, solver=lbfgs; Accuracy_Score: (test=0.931) F1_Score: (test=0.492) total time=   0.0s\n",
      "[CV 2/3; 2/4] START criterion=gini, max_depth=30, max_features=sqrt, min_samples_split=0.1\n",
      "[CV 2/3; 2/4] END criterion=gini, max_depth=30, max_features=sqrt, min_samples_split=0.1; Accuracy_Score: (test=0.929) F1_Score: (test=0.482) total time=   0.0s\n",
      "[CV 3/3; 2/8] START C=0.0001, max_iter=250, penalty=l2, solver=lbfgs............\n",
      "[CV 3/3; 2/8] END C=0.0001, max_iter=250, penalty=l2, solver=lbfgs; Accuracy_Score: (test=0.931) F1_Score: (test=0.482) total time=   0.0s\n",
      "[CV 3/3; 3/8] START C=0.1, max_iter=250, penalty=l2, solver=newton-cg...........\n",
      "[CV 3/3; 3/8] END C=0.1, max_iter=250, penalty=l2, solver=newton-cg; Accuracy_Score: (test=0.931) F1_Score: (test=0.489) total time=   0.1s\n",
      "[CV 1/3; 6/8] START C=1, max_iter=250, penalty=l2, solver=lbfgs.................\n",
      "[CV 1/3; 6/8] END C=1, max_iter=250, penalty=l2, solver=lbfgs; Accuracy_Score: (test=0.935) F1_Score: (test=0.495) total time=   0.1s\n",
      "[CV 2/3; 8/8] START C=100, max_iter=250, penalty=l2, solver=lbfgs...............\n",
      "[CV 2/3; 8/8] END C=100, max_iter=250, penalty=l2, solver=lbfgs; Accuracy_Score: (test=0.928) F1_Score: (test=0.488) total time=   0.1s\n",
      "[CV 2/3; 3/4] START criterion=entropy, max_depth=20, max_features=sqrt, min_samples_split=0.1\n",
      "[CV 2/3; 3/4] END criterion=entropy, max_depth=20, max_features=sqrt, min_samples_split=0.1; Accuracy_Score: (test=0.929) F1_Score: (test=0.482) total time=   0.0s\n",
      "[CV 2/3; 2/8] START C=0.0001, max_iter=250, penalty=l2, solver=lbfgs............\n",
      "[CV 2/3; 2/8] END C=0.0001, max_iter=250, penalty=l2, solver=lbfgs; Accuracy_Score: (test=0.929) F1_Score: (test=0.482) total time=   0.1s\n",
      "[CV 1/3; 4/8] START C=0.1, max_iter=250, penalty=l2, solver=lbfgs...............\n",
      "[CV 1/3; 4/8] END C=0.1, max_iter=250, penalty=l2, solver=lbfgs; Accuracy_Score: (test=0.935) F1_Score: (test=0.495) total time=   0.1s\n",
      "[CV 2/3; 6/8] START C=1, max_iter=250, penalty=l2, solver=lbfgs.................\n",
      "[CV 2/3; 6/8] END C=1, max_iter=250, penalty=l2, solver=lbfgs; Accuracy_Score: (test=0.928) F1_Score: (test=0.488) total time=   0.1s\n",
      "[CV 1/3; 8/8] START C=100, max_iter=250, penalty=l2, solver=lbfgs...............\n",
      "[CV 1/3; 8/8] END C=100, max_iter=250, penalty=l2, solver=lbfgs; Accuracy_Score: (test=0.935) F1_Score: (test=0.495) total time=   0.1s\n",
      "[CV 1/3; 2/4] START criterion=gini, max_depth=30, max_features=sqrt, min_samples_split=0.1\n",
      "[CV 1/3; 2/4] END criterion=gini, max_depth=30, max_features=sqrt, min_samples_split=0.1; Accuracy_Score: (test=0.935) F1_Score: (test=0.486) total time=   0.0s\n",
      "[CV 1/3; 3/8] START C=0.1, max_iter=250, penalty=l2, solver=newton-cg...........\n",
      "[CV 1/3; 3/8] END C=0.1, max_iter=250, penalty=l2, solver=newton-cg; Accuracy_Score: (test=0.935) F1_Score: (test=0.495) total time=   0.2s\n",
      "[CV 2/3; 7/8] START C=100, max_iter=250, penalty=l2, solver=newton-cg...........\n",
      "[CV 2/3; 7/8] END C=100, max_iter=250, penalty=l2, solver=newton-cg; Accuracy_Score: (test=0.928) F1_Score: (test=0.488) total time=   0.1s\n",
      "[CV 1/3; 3/4] START criterion=entropy, max_depth=20, max_features=sqrt, min_samples_split=0.1\n",
      "[CV 1/3; 3/4] END criterion=entropy, max_depth=20, max_features=sqrt, min_samples_split=0.1; Accuracy_Score: (test=0.935) F1_Score: (test=0.483) total time=   0.1s\n",
      "[CV 3/3; 4/4] START criterion=entropy, max_depth=30, max_features=sqrt, min_samples_split=0.1\n",
      "[CV 3/3; 4/4] END criterion=entropy, max_depth=30, max_features=sqrt, min_samples_split=0.1; Accuracy_Score: (test=0.931) F1_Score: (test=0.482) total time=   0.0s\n",
      "[CV 1/3; 2/8] START C=0.0001, max_iter=250, penalty=l2, solver=lbfgs............\n",
      "[CV 1/3; 2/8] END C=0.0001, max_iter=250, penalty=l2, solver=lbfgs; Accuracy_Score: (test=0.935) F1_Score: (test=0.483) total time=   0.1s\n",
      "[CV 3/3; 4/8] START C=0.1, max_iter=250, penalty=l2, solver=lbfgs...............\n",
      "[CV 3/3; 4/8] END C=0.1, max_iter=250, penalty=l2, solver=lbfgs; Accuracy_Score: (test=0.931) F1_Score: (test=0.489) total time=   0.1s\n",
      "[CV 1/3; 7/8] START C=100, max_iter=250, penalty=l2, solver=newton-cg...........\n",
      "[CV 1/3; 7/8] END C=100, max_iter=250, penalty=l2, solver=newton-cg; Accuracy_Score: (test=0.935) F1_Score: (test=0.495) total time=   0.2s\n",
      "[CV 3/3; 1/4] START criterion=gini, max_depth=20, max_features=sqrt, min_samples_split=0.1\n",
      "[CV 3/3; 1/4] END criterion=gini, max_depth=20, max_features=sqrt, min_samples_split=0.1; Accuracy_Score: (test=0.930) F1_Score: (test=0.482) total time=   0.0s\n",
      "[CV 2/3; 3/8] START C=0.1, max_iter=250, penalty=l2, solver=newton-cg...........\n",
      "[CV 2/3; 3/8] END C=0.1, max_iter=250, penalty=l2, solver=newton-cg; Accuracy_Score: (test=0.928) F1_Score: (test=0.487) total time=   0.1s\n",
      "[CV 3/3; 6/8] START C=1, max_iter=250, penalty=l2, solver=lbfgs.................\n",
      "[CV 3/3; 6/8] END C=1, max_iter=250, penalty=l2, solver=lbfgs; Accuracy_Score: (test=0.931) F1_Score: (test=0.492) total time=   0.1s\n"
     ]
    },
    {
     "name": "stderr",
     "output_type": "stream",
     "text": [
      "2023-03-28 17:45:53 abstract_overall_variance_analyzer.py INFO    : Successfully computed predict proba metrics\n"
     ]
    },
    {
     "name": "stdout",
     "output_type": "stream",
     "text": [
      "\n",
      "\n",
      "\n",
      "\n"
     ]
    },
    {
     "data": {
      "text/plain": "Analyze models in one run:   0%|          | 0/2 [00:00<?, ?it/s]",
      "application/vnd.jupyter.widget-view+json": {
       "version_major": 2,
       "version_minor": 0,
       "model_id": "8c86af940c2b44739150baa9ac9bf97d"
      }
     },
     "metadata": {},
     "output_type": "display_data"
    },
    {
     "name": "stdout",
     "output_type": "stream",
     "text": [
      "##############################  [Model 1 / 2] Analyze DecisionTreeClassifier  ##############################\n",
      "Model seed:  102\n",
      "\n",
      "\n"
     ]
    },
    {
     "name": "stderr",
     "output_type": "stream",
     "text": [
      "2023-03-28 17:47:33 abstract_overall_variance_analyzer.py INFO    : Start classifiers testing by bootstrap\n"
     ]
    },
    {
     "data": {
      "text/plain": "Classifiers testing by bootstrap:   0%|          | 0/200 [00:00<?, ?it/s]",
      "application/vnd.jupyter.widget-view+json": {
       "version_major": 2,
       "version_minor": 0,
       "model_id": "84ad1ab6aa354b90951bb44d74a65fb4"
      }
     },
     "metadata": {},
     "output_type": "display_data"
    },
    {
     "name": "stdout",
     "output_type": "stream",
     "text": [
      "\n",
      "\n"
     ]
    },
    {
     "name": "stderr",
     "output_type": "stream",
     "text": [
      "2023-03-28 17:47:39 abstract_overall_variance_analyzer.py INFO    : Successfully tested classifiers by bootstrap\n",
      "2023-03-28 17:49:23 abstract_overall_variance_analyzer.py INFO    : Successfully computed predict proba metrics\n"
     ]
    },
    {
     "name": "stdout",
     "output_type": "stream",
     "text": [
      "\n",
      "\n",
      "\n",
      "\n",
      "##############################  [Model 2 / 2] Analyze LogisticRegression  ##############################\n",
      "Model seed:  102\n",
      "\n",
      "\n"
     ]
    },
    {
     "name": "stderr",
     "output_type": "stream",
     "text": [
      "2023-03-28 17:50:56 abstract_overall_variance_analyzer.py INFO    : Start classifiers testing by bootstrap\n"
     ]
    },
    {
     "data": {
      "text/plain": "Classifiers testing by bootstrap:   0%|          | 0/200 [00:00<?, ?it/s]",
      "application/vnd.jupyter.widget-view+json": {
       "version_major": 2,
       "version_minor": 0,
       "model_id": "fd93e41c9a8c4026abd46a67835a6e1a"
      }
     },
     "metadata": {},
     "output_type": "display_data"
    },
    {
     "name": "stdout",
     "output_type": "stream",
     "text": [
      "\n",
      "\n"
     ]
    },
    {
     "name": "stderr",
     "output_type": "stream",
     "text": [
      "2023-03-28 17:51:33 abstract_overall_variance_analyzer.py INFO    : Successfully tested classifiers by bootstrap\n",
      "2023-03-28 17:53:16 abstract_overall_variance_analyzer.py INFO    : Successfully computed predict proba metrics\n",
      "2023-03-28 17:54:57 experiment_interface.py INFO    : Metrics are computed\n"
     ]
    },
    {
     "name": "stdout",
     "output_type": "stream",
     "text": [
      "\n",
      "\n",
      "\n",
      "\n"
     ]
    }
   ],
   "source": [
    "multiple_run_metrics_dct = run_exp_iteration(data_loader=exp_iter_data_loader,\n",
    "                                             experiment_seed=experiment_seed,\n",
    "                                             preprocessor=preprocessor,\n",
    "                                             models_params_for_tuning=models_params_for_tuning,\n",
    "                                             metrics_computation_config=metrics_computation_config,\n",
    "                                             custom_table_fields_dct=custom_table_fields_dct,\n",
    "                                             with_tuning=True,\n",
    "                                             save_results_dir_path=SAVE_RESULTS_DIR_PATH,\n",
    "                                             tuned_params_df_path=None)"
   ]
  },
  {
   "cell_type": "code",
   "execution_count": 85,
   "outputs": [
    {
     "data": {
      "text/plain": "                 Metric   overall  age_priv   age_dis  Model_Seed  \\\n0                  Mean  0.931348  0.900080  0.933774         101   \n1                   Std  0.029302  0.037354  0.028677         101   \n2                   IQR  0.042654  0.057361  0.041513         101   \n3               Entropy  0.000000  0.000000  0.000000         101   \n4                Jitter  0.006280  0.006720  0.006245         101   \n5   Per_Sample_Accuracy  0.935811  0.916431  0.937315         101   \n6       Label_Stability  0.992892  0.992361  0.992933         101   \n7                   TPR  0.000000  0.000000  0.000000         101   \n8                   TNR  1.000000  1.000000  1.000000         101   \n9                   PPV       NaN       NaN       NaN         101   \n10                  FNR  1.000000  1.000000  1.000000         101   \n11                  FPR  0.000000  0.000000  0.000000         101   \n12             Accuracy  0.935900  0.916667  0.937392         101   \n13                   F1  0.000000  0.000000  0.000000         101   \n14       Selection-Rate  0.000000  0.000000  0.000000         101   \n15        Positive-Rate  0.000000  0.000000  0.000000         101   \n0                  Mean  0.931134  0.896513  0.933820         102   \n1                   Std  0.031361  0.042056  0.030532         102   \n2                   IQR  0.045094  0.062333  0.043756         102   \n3               Entropy  0.000000  0.000000  0.000000         102   \n\n                Model_Name                                       Model_Params  \\\n0   DecisionTreeClassifier  {'ccp_alpha': 0.0, 'class_weight': None, 'crit...   \n1   DecisionTreeClassifier  {'ccp_alpha': 0.0, 'class_weight': None, 'crit...   \n2   DecisionTreeClassifier  {'ccp_alpha': 0.0, 'class_weight': None, 'crit...   \n3   DecisionTreeClassifier  {'ccp_alpha': 0.0, 'class_weight': None, 'crit...   \n4   DecisionTreeClassifier  {'ccp_alpha': 0.0, 'class_weight': None, 'crit...   \n5   DecisionTreeClassifier  {'ccp_alpha': 0.0, 'class_weight': None, 'crit...   \n6   DecisionTreeClassifier  {'ccp_alpha': 0.0, 'class_weight': None, 'crit...   \n7   DecisionTreeClassifier  {'ccp_alpha': 0.0, 'class_weight': None, 'crit...   \n8   DecisionTreeClassifier  {'ccp_alpha': 0.0, 'class_weight': None, 'crit...   \n9   DecisionTreeClassifier  {'ccp_alpha': 0.0, 'class_weight': None, 'crit...   \n10  DecisionTreeClassifier  {'ccp_alpha': 0.0, 'class_weight': None, 'crit...   \n11  DecisionTreeClassifier  {'ccp_alpha': 0.0, 'class_weight': None, 'crit...   \n12  DecisionTreeClassifier  {'ccp_alpha': 0.0, 'class_weight': None, 'crit...   \n13  DecisionTreeClassifier  {'ccp_alpha': 0.0, 'class_weight': None, 'crit...   \n14  DecisionTreeClassifier  {'ccp_alpha': 0.0, 'class_weight': None, 'crit...   \n15  DecisionTreeClassifier  {'ccp_alpha': 0.0, 'class_weight': None, 'crit...   \n0   DecisionTreeClassifier  {'ccp_alpha': 0.0, 'class_weight': None, 'crit...   \n1   DecisionTreeClassifier  {'ccp_alpha': 0.0, 'class_weight': None, 'crit...   \n2   DecisionTreeClassifier  {'ccp_alpha': 0.0, 'class_weight': None, 'crit...   \n3   DecisionTreeClassifier  {'ccp_alpha': 0.0, 'class_weight': None, 'crit...   \n\n   Run_Number Dataset_Name  Num_Estimators  \n0       Run_1       Credit             200  \n1       Run_1       Credit             200  \n2       Run_1       Credit             200  \n3       Run_1       Credit             200  \n4       Run_1       Credit             200  \n5       Run_1       Credit             200  \n6       Run_1       Credit             200  \n7       Run_1       Credit             200  \n8       Run_1       Credit             200  \n9       Run_1       Credit             200  \n10      Run_1       Credit             200  \n11      Run_1       Credit             200  \n12      Run_1       Credit             200  \n13      Run_1       Credit             200  \n14      Run_1       Credit             200  \n15      Run_1       Credit             200  \n0       Run_2       Credit             200  \n1       Run_2       Credit             200  \n2       Run_2       Credit             200  \n3       Run_2       Credit             200  ",
      "text/html": "<div>\n<style scoped>\n    .dataframe tbody tr th:only-of-type {\n        vertical-align: middle;\n    }\n\n    .dataframe tbody tr th {\n        vertical-align: top;\n    }\n\n    .dataframe thead th {\n        text-align: right;\n    }\n</style>\n<table border=\"1\" class=\"dataframe\">\n  <thead>\n    <tr style=\"text-align: right;\">\n      <th></th>\n      <th>Metric</th>\n      <th>overall</th>\n      <th>age_priv</th>\n      <th>age_dis</th>\n      <th>Model_Seed</th>\n      <th>Model_Name</th>\n      <th>Model_Params</th>\n      <th>Run_Number</th>\n      <th>Dataset_Name</th>\n      <th>Num_Estimators</th>\n    </tr>\n  </thead>\n  <tbody>\n    <tr>\n      <th>0</th>\n      <td>Mean</td>\n      <td>0.931348</td>\n      <td>0.900080</td>\n      <td>0.933774</td>\n      <td>101</td>\n      <td>DecisionTreeClassifier</td>\n      <td>{'ccp_alpha': 0.0, 'class_weight': None, 'crit...</td>\n      <td>Run_1</td>\n      <td>Credit</td>\n      <td>200</td>\n    </tr>\n    <tr>\n      <th>1</th>\n      <td>Std</td>\n      <td>0.029302</td>\n      <td>0.037354</td>\n      <td>0.028677</td>\n      <td>101</td>\n      <td>DecisionTreeClassifier</td>\n      <td>{'ccp_alpha': 0.0, 'class_weight': None, 'crit...</td>\n      <td>Run_1</td>\n      <td>Credit</td>\n      <td>200</td>\n    </tr>\n    <tr>\n      <th>2</th>\n      <td>IQR</td>\n      <td>0.042654</td>\n      <td>0.057361</td>\n      <td>0.041513</td>\n      <td>101</td>\n      <td>DecisionTreeClassifier</td>\n      <td>{'ccp_alpha': 0.0, 'class_weight': None, 'crit...</td>\n      <td>Run_1</td>\n      <td>Credit</td>\n      <td>200</td>\n    </tr>\n    <tr>\n      <th>3</th>\n      <td>Entropy</td>\n      <td>0.000000</td>\n      <td>0.000000</td>\n      <td>0.000000</td>\n      <td>101</td>\n      <td>DecisionTreeClassifier</td>\n      <td>{'ccp_alpha': 0.0, 'class_weight': None, 'crit...</td>\n      <td>Run_1</td>\n      <td>Credit</td>\n      <td>200</td>\n    </tr>\n    <tr>\n      <th>4</th>\n      <td>Jitter</td>\n      <td>0.006280</td>\n      <td>0.006720</td>\n      <td>0.006245</td>\n      <td>101</td>\n      <td>DecisionTreeClassifier</td>\n      <td>{'ccp_alpha': 0.0, 'class_weight': None, 'crit...</td>\n      <td>Run_1</td>\n      <td>Credit</td>\n      <td>200</td>\n    </tr>\n    <tr>\n      <th>5</th>\n      <td>Per_Sample_Accuracy</td>\n      <td>0.935811</td>\n      <td>0.916431</td>\n      <td>0.937315</td>\n      <td>101</td>\n      <td>DecisionTreeClassifier</td>\n      <td>{'ccp_alpha': 0.0, 'class_weight': None, 'crit...</td>\n      <td>Run_1</td>\n      <td>Credit</td>\n      <td>200</td>\n    </tr>\n    <tr>\n      <th>6</th>\n      <td>Label_Stability</td>\n      <td>0.992892</td>\n      <td>0.992361</td>\n      <td>0.992933</td>\n      <td>101</td>\n      <td>DecisionTreeClassifier</td>\n      <td>{'ccp_alpha': 0.0, 'class_weight': None, 'crit...</td>\n      <td>Run_1</td>\n      <td>Credit</td>\n      <td>200</td>\n    </tr>\n    <tr>\n      <th>7</th>\n      <td>TPR</td>\n      <td>0.000000</td>\n      <td>0.000000</td>\n      <td>0.000000</td>\n      <td>101</td>\n      <td>DecisionTreeClassifier</td>\n      <td>{'ccp_alpha': 0.0, 'class_weight': None, 'crit...</td>\n      <td>Run_1</td>\n      <td>Credit</td>\n      <td>200</td>\n    </tr>\n    <tr>\n      <th>8</th>\n      <td>TNR</td>\n      <td>1.000000</td>\n      <td>1.000000</td>\n      <td>1.000000</td>\n      <td>101</td>\n      <td>DecisionTreeClassifier</td>\n      <td>{'ccp_alpha': 0.0, 'class_weight': None, 'crit...</td>\n      <td>Run_1</td>\n      <td>Credit</td>\n      <td>200</td>\n    </tr>\n    <tr>\n      <th>9</th>\n      <td>PPV</td>\n      <td>NaN</td>\n      <td>NaN</td>\n      <td>NaN</td>\n      <td>101</td>\n      <td>DecisionTreeClassifier</td>\n      <td>{'ccp_alpha': 0.0, 'class_weight': None, 'crit...</td>\n      <td>Run_1</td>\n      <td>Credit</td>\n      <td>200</td>\n    </tr>\n    <tr>\n      <th>10</th>\n      <td>FNR</td>\n      <td>1.000000</td>\n      <td>1.000000</td>\n      <td>1.000000</td>\n      <td>101</td>\n      <td>DecisionTreeClassifier</td>\n      <td>{'ccp_alpha': 0.0, 'class_weight': None, 'crit...</td>\n      <td>Run_1</td>\n      <td>Credit</td>\n      <td>200</td>\n    </tr>\n    <tr>\n      <th>11</th>\n      <td>FPR</td>\n      <td>0.000000</td>\n      <td>0.000000</td>\n      <td>0.000000</td>\n      <td>101</td>\n      <td>DecisionTreeClassifier</td>\n      <td>{'ccp_alpha': 0.0, 'class_weight': None, 'crit...</td>\n      <td>Run_1</td>\n      <td>Credit</td>\n      <td>200</td>\n    </tr>\n    <tr>\n      <th>12</th>\n      <td>Accuracy</td>\n      <td>0.935900</td>\n      <td>0.916667</td>\n      <td>0.937392</td>\n      <td>101</td>\n      <td>DecisionTreeClassifier</td>\n      <td>{'ccp_alpha': 0.0, 'class_weight': None, 'crit...</td>\n      <td>Run_1</td>\n      <td>Credit</td>\n      <td>200</td>\n    </tr>\n    <tr>\n      <th>13</th>\n      <td>F1</td>\n      <td>0.000000</td>\n      <td>0.000000</td>\n      <td>0.000000</td>\n      <td>101</td>\n      <td>DecisionTreeClassifier</td>\n      <td>{'ccp_alpha': 0.0, 'class_weight': None, 'crit...</td>\n      <td>Run_1</td>\n      <td>Credit</td>\n      <td>200</td>\n    </tr>\n    <tr>\n      <th>14</th>\n      <td>Selection-Rate</td>\n      <td>0.000000</td>\n      <td>0.000000</td>\n      <td>0.000000</td>\n      <td>101</td>\n      <td>DecisionTreeClassifier</td>\n      <td>{'ccp_alpha': 0.0, 'class_weight': None, 'crit...</td>\n      <td>Run_1</td>\n      <td>Credit</td>\n      <td>200</td>\n    </tr>\n    <tr>\n      <th>15</th>\n      <td>Positive-Rate</td>\n      <td>0.000000</td>\n      <td>0.000000</td>\n      <td>0.000000</td>\n      <td>101</td>\n      <td>DecisionTreeClassifier</td>\n      <td>{'ccp_alpha': 0.0, 'class_weight': None, 'crit...</td>\n      <td>Run_1</td>\n      <td>Credit</td>\n      <td>200</td>\n    </tr>\n    <tr>\n      <th>0</th>\n      <td>Mean</td>\n      <td>0.931134</td>\n      <td>0.896513</td>\n      <td>0.933820</td>\n      <td>102</td>\n      <td>DecisionTreeClassifier</td>\n      <td>{'ccp_alpha': 0.0, 'class_weight': None, 'crit...</td>\n      <td>Run_2</td>\n      <td>Credit</td>\n      <td>200</td>\n    </tr>\n    <tr>\n      <th>1</th>\n      <td>Std</td>\n      <td>0.031361</td>\n      <td>0.042056</td>\n      <td>0.030532</td>\n      <td>102</td>\n      <td>DecisionTreeClassifier</td>\n      <td>{'ccp_alpha': 0.0, 'class_weight': None, 'crit...</td>\n      <td>Run_2</td>\n      <td>Credit</td>\n      <td>200</td>\n    </tr>\n    <tr>\n      <th>2</th>\n      <td>IQR</td>\n      <td>0.045094</td>\n      <td>0.062333</td>\n      <td>0.043756</td>\n      <td>102</td>\n      <td>DecisionTreeClassifier</td>\n      <td>{'ccp_alpha': 0.0, 'class_weight': None, 'crit...</td>\n      <td>Run_2</td>\n      <td>Credit</td>\n      <td>200</td>\n    </tr>\n    <tr>\n      <th>3</th>\n      <td>Entropy</td>\n      <td>0.000000</td>\n      <td>0.000000</td>\n      <td>0.000000</td>\n      <td>102</td>\n      <td>DecisionTreeClassifier</td>\n      <td>{'ccp_alpha': 0.0, 'class_weight': None, 'crit...</td>\n      <td>Run_2</td>\n      <td>Credit</td>\n      <td>200</td>\n    </tr>\n  </tbody>\n</table>\n</div>"
     },
     "execution_count": 85,
     "metadata": {},
     "output_type": "execute_result"
    }
   ],
   "source": [
    "sample_model_metrics_df = multiple_run_metrics_dct[list(models_params_for_tuning.keys())[0]]\n",
    "sample_model_metrics_df.head(20)"
   ],
   "metadata": {
    "collapsed": false
   }
  },
  {
   "cell_type": "markdown",
   "source": [
    "### Experiment iteration 2"
   ],
   "metadata": {
    "collapsed": false
   }
  },
  {
   "cell_type": "code",
   "execution_count": 85,
   "outputs": [],
   "source": [],
   "metadata": {
    "collapsed": false
   }
  }
 ],
 "metadata": {
  "kernelspec": {
   "display_name": "Python 3 (ipykernel)",
   "language": "python",
   "name": "python3"
  },
  "language_info": {
   "codemirror_mode": {
    "name": "ipython",
    "version": 3
   },
   "file_extension": ".py",
   "mimetype": "text/x-python",
   "name": "python",
   "nbconvert_exporter": "python",
   "pygments_lexer": "ipython3",
   "version": "3.8.10"
  }
 },
 "nbformat": 4,
 "nbformat_minor": 5
}
