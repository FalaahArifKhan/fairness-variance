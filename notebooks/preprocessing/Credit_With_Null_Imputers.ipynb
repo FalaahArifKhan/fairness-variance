{
 "cells": [
  {
   "cell_type": "code",
   "execution_count": 1,
   "outputs": [],
   "source": [
    "# !pip install -r ../exp_requirements.txt"
   ],
   "metadata": {
    "collapsed": false
   }
  },
  {
   "cell_type": "code",
   "execution_count": 2,
   "outputs": [],
   "source": [
    "# !pip uninstall virny -y"
   ],
   "metadata": {
    "collapsed": false
   }
  },
  {
   "cell_type": "code",
   "execution_count": 3,
   "outputs": [],
   "source": [
    "# Install using an HTTP link\n",
    "# !pip install git+https://github.com/DataResponsibly/Virny.git@development\n",
    "\n",
    "# Install using an SSH link\n",
    "# !pip install git+ssh://git@github.com/DataResponsibly/Virny.git@development"
   ],
   "metadata": {
    "collapsed": false
   }
  },
  {
   "cell_type": "code",
   "execution_count": 4,
   "id": "248cbed8",
   "metadata": {},
   "outputs": [],
   "source": [
    "%matplotlib inline\n",
    "%load_ext autoreload\n",
    "%autoreload 2"
   ]
  },
  {
   "cell_type": "code",
   "execution_count": 5,
   "id": "7ec6cd08",
   "metadata": {},
   "outputs": [],
   "source": [
    "import os\n",
    "import warnings\n",
    "warnings.filterwarnings('ignore')\n",
    "os.environ[\"PYTHONWARNINGS\"] = \"ignore\""
   ]
  },
  {
   "cell_type": "markdown",
   "id": "a578f2ab",
   "metadata": {},
   "source": [
    "# Credit Dataset With Null Imputer"
   ]
  },
  {
   "cell_type": "markdown",
   "id": "606df34d",
   "metadata": {},
   "source": [
    "## Import dependencies"
   ]
  },
  {
   "cell_type": "code",
   "execution_count": 6,
   "id": "7a9241de",
   "metadata": {},
   "outputs": [],
   "source": [
    "import os\n",
    "import copy\n",
    "\n",
    "from xgboost import XGBClassifier\n",
    "from sklearn.tree import DecisionTreeClassifier\n",
    "from sklearn.ensemble import RandomForestClassifier\n",
    "from sklearn.linear_model import LogisticRegression\n",
    "from sklearn.neighbors import KNeighborsClassifier\n",
    "from sklearn.neural_network import MLPClassifier\n",
    "\n",
    "from virny.utils.custom_initializers import create_config_obj\n",
    "from virny.datasets.data_loaders import CreditDataset\n",
    "\n",
    "from configs.constants import NUM_METRICS_COMPUTATION_RUNS, EXPERIMENT_SEEDS, TEST_SET_FRACTION\n",
    "from source.error_injectors.measuring import RandomNullsGenerator\n",
    "from source.user_interfaces.experiment_interface import run_exp_iteration\n",
    "from source.utils.custom_initializers import create_experiment_data_loader\n",
    "from source.preprocessing.basic_preprocessing import get_null_imputer_preprocessor"
   ]
  },
  {
   "cell_type": "markdown",
   "id": "75699f5f",
   "metadata": {},
   "source": [
    "## Initialize input variables for the experiment"
   ]
  },
  {
   "cell_type": "code",
   "execution_count": 7,
   "outputs": [],
   "source": [
    "ROOT_DIR = os.path.join(os.getcwd(), \"..\", \"..\")\n",
    "EXPERIMENT_NAME = 'preprocessing'\n",
    "DB_COLLECTION_NAME = 'preprocessing_results'\n",
    "SAVE_RESULTS_DIR_PATH = os.path.join(ROOT_DIR, 'results', EXPERIMENT_NAME)"
   ],
   "metadata": {
    "collapsed": false
   }
  },
  {
   "cell_type": "code",
   "execution_count": 8,
   "outputs": [
    {
     "data": {
      "text/plain": "        RevolvingUtilizationOfUnsecuredLines  age  \\\n27099                               0.343984   46   \n133696                              0.818239   35   \n49189                               0.687057   41   \n147872                              0.342368   47   \n40834                               0.275710   61   \n\n        NumberOfTime30-59DaysPastDueNotWorse    DebtRatio  MonthlyIncome  \\\n27099                                      0    94.000000            NaN   \n133696                                     1     0.177587         4898.0   \n49189                                      1     0.462124         9200.0   \n147872                                     2     0.427277         6400.0   \n40834                                      0  1867.000000            NaN   \n\n        NumberOfOpenCreditLinesAndLoans  NumberOfTimes90DaysLate  \\\n27099                                 3                        0   \n133696                                5                        1   \n49189                                 7                        0   \n147872                                9                        2   \n40834                                16                        0   \n\n        NumberRealEstateLoansOrLines  \n27099                              0  \n133696                             0  \n49189                              2  \n147872                             2  \n40834                              1  ",
      "text/html": "<div>\n<style scoped>\n    .dataframe tbody tr th:only-of-type {\n        vertical-align: middle;\n    }\n\n    .dataframe tbody tr th {\n        vertical-align: top;\n    }\n\n    .dataframe thead th {\n        text-align: right;\n    }\n</style>\n<table border=\"1\" class=\"dataframe\">\n  <thead>\n    <tr style=\"text-align: right;\">\n      <th></th>\n      <th>RevolvingUtilizationOfUnsecuredLines</th>\n      <th>age</th>\n      <th>NumberOfTime30-59DaysPastDueNotWorse</th>\n      <th>DebtRatio</th>\n      <th>MonthlyIncome</th>\n      <th>NumberOfOpenCreditLinesAndLoans</th>\n      <th>NumberOfTimes90DaysLate</th>\n      <th>NumberRealEstateLoansOrLines</th>\n    </tr>\n  </thead>\n  <tbody>\n    <tr>\n      <th>27099</th>\n      <td>0.343984</td>\n      <td>46</td>\n      <td>0</td>\n      <td>94.000000</td>\n      <td>NaN</td>\n      <td>3</td>\n      <td>0</td>\n      <td>0</td>\n    </tr>\n    <tr>\n      <th>133696</th>\n      <td>0.818239</td>\n      <td>35</td>\n      <td>1</td>\n      <td>0.177587</td>\n      <td>4898.0</td>\n      <td>5</td>\n      <td>1</td>\n      <td>0</td>\n    </tr>\n    <tr>\n      <th>49189</th>\n      <td>0.687057</td>\n      <td>41</td>\n      <td>1</td>\n      <td>0.462124</td>\n      <td>9200.0</td>\n      <td>7</td>\n      <td>0</td>\n      <td>2</td>\n    </tr>\n    <tr>\n      <th>147872</th>\n      <td>0.342368</td>\n      <td>47</td>\n      <td>2</td>\n      <td>0.427277</td>\n      <td>6400.0</td>\n      <td>9</td>\n      <td>2</td>\n      <td>2</td>\n    </tr>\n    <tr>\n      <th>40834</th>\n      <td>0.275710</td>\n      <td>61</td>\n      <td>0</td>\n      <td>1867.000000</td>\n      <td>NaN</td>\n      <td>16</td>\n      <td>0</td>\n      <td>1</td>\n    </tr>\n  </tbody>\n</table>\n</div>"
     },
     "execution_count": 8,
     "metadata": {},
     "output_type": "execute_result"
    }
   ],
   "source": [
    "data_loader = CreditDataset(subsample_size=50_000)\n",
    "data_loader.X_data.head()"
   ],
   "metadata": {
    "collapsed": false
   }
  },
  {
   "cell_type": "code",
   "execution_count": 9,
   "outputs": [
    {
     "data": {
      "text/plain": "SeriousDlqin2yrs                           0\nRevolvingUtilizationOfUnsecuredLines       0\nage                                        0\nNumberOfTime30-59DaysPastDueNotWorse       0\nDebtRatio                                  0\nMonthlyIncome                           9964\nNumberOfOpenCreditLinesAndLoans            0\nNumberOfTimes90DaysLate                    0\nNumberRealEstateLoansOrLines               0\nNumberOfTime60-89DaysPastDueNotWorse       0\nNumberOfDependents                      1306\ndtype: int64"
     },
     "execution_count": 9,
     "metadata": {},
     "output_type": "execute_result"
    }
   ],
   "source": [
    "data_loader.full_df.isna().sum()"
   ],
   "metadata": {
    "collapsed": false
   }
  },
  {
   "cell_type": "markdown",
   "source": [
    "### Define a db writer and custom fields to insert into your database"
   ],
   "metadata": {
    "collapsed": false
   }
  },
  {
   "cell_type": "code",
   "execution_count": null,
   "outputs": [],
   "source": [
    "from source.db_functions import connect_to_mongodb\n",
    "\n",
    "client, _, db_writer_func = connect_to_mongodb(DB_COLLECTION_NAME)"
   ],
   "metadata": {
    "collapsed": false
   }
  },
  {
   "cell_type": "code",
   "execution_count": 10,
   "outputs": [
    {
     "name": "stdout",
     "output_type": "stream",
     "text": [
      "Current session uuid:  22ffa685-b892-474d-91f5-091cde823d4e\n"
     ]
    }
   ],
   "source": [
    "import uuid\n",
    "\n",
    "custom_table_fields_dct = {\n",
    "    'session_uuid': str(uuid.uuid4()),\n",
    "    'preprocessing_technique': None,\n",
    "}\n",
    "print('Current session uuid: ', custom_table_fields_dct['session_uuid'])"
   ],
   "metadata": {
    "collapsed": false
   }
  },
  {
   "cell_type": "markdown",
   "source": [
    "### Create a metrics computation config object"
   ],
   "metadata": {
    "collapsed": false
   }
  },
  {
   "cell_type": "code",
   "execution_count": 11,
   "outputs": [],
   "source": [
    "config_yaml_path = 'experiment_config.yaml'\n",
    "age_range = [i for i in range(0, 31)]\n",
    "config_yaml_content = \\\n",
    "f\"\"\"\n",
    "dataset_name: Credit\n",
    "bootstrap_fraction: 0.8\n",
    "# n_estimators: 50\n",
    "n_estimators: 10\n",
    "# num_runs: {NUM_METRICS_COMPUTATION_RUNS}\n",
    "num_runs: 2\n",
    "sensitive_attributes_dct: {{'age': {age_range}}}\n",
    "\"\"\"\n",
    "\n",
    "with open(config_yaml_path, 'w', encoding='utf-8') as f:\n",
    "    f.write(config_yaml_content)"
   ],
   "metadata": {
    "collapsed": false
   }
  },
  {
   "cell_type": "code",
   "execution_count": 12,
   "outputs": [],
   "source": [
    "metrics_computation_config = create_config_obj(config_yaml_path=config_yaml_path)"
   ],
   "metadata": {
    "collapsed": false
   }
  },
  {
   "cell_type": "markdown",
   "source": [
    "### Define tuning parameter for models"
   ],
   "metadata": {
    "collapsed": false
   }
  },
  {
   "cell_type": "code",
   "execution_count": 13,
   "outputs": [],
   "source": [
    "def get_models_params_for_tuning(models_tuning_seed):\n",
    "    return {\n",
    "        'DecisionTreeClassifier': {\n",
    "            'model': DecisionTreeClassifier(random_state=models_tuning_seed),\n",
    "            'params': {\n",
    "                \"max_depth\": [20, 30],\n",
    "                \"min_samples_split\" : [0.1],\n",
    "                \"max_features\": ['sqrt'],\n",
    "                \"criterion\": [\"gini\", \"entropy\"]\n",
    "            }\n",
    "        },\n",
    "        'LogisticRegression': {\n",
    "            'model': LogisticRegression(random_state=models_tuning_seed),\n",
    "            'params': {\n",
    "                'penalty': ['l2'],\n",
    "                'C' : [0.0001, 0.1, 1, 100],\n",
    "                'solver': ['newton-cg', 'lbfgs'],\n",
    "                'max_iter': [250],\n",
    "            }\n",
    "        },\n",
    "        # 'RandomForestClassifier': {\n",
    "        #     'model': RandomForestClassifier(random_state=models_tuning_seed),\n",
    "        #     'params': {\n",
    "        #         \"max_depth\": [6, 10],\n",
    "        #         \"min_samples_leaf\": [1],\n",
    "        #         \"n_estimators\": [50, 100],\n",
    "        #         \"max_features\": [0.6]\n",
    "        #     }\n",
    "        # },\n",
    "        # 'XGBClassifier': {\n",
    "        #     'model': XGBClassifier(random_state=models_tuning_seed, verbosity=0),\n",
    "        #     'params': {\n",
    "        #         'learning_rate': [0.1],\n",
    "        #         'n_estimators': [200],\n",
    "        #         'max_depth': [5, 7],\n",
    "        #         'lambda':  [10, 100]\n",
    "        #     }\n",
    "        # },\n",
    "        # 'KNeighborsClassifier': {\n",
    "        #     'model': KNeighborsClassifier(),\n",
    "        #     'params': {\n",
    "        #         'n_neighbors' : [5, 7, 9, 11, 13, 15, 25],\n",
    "        #         'weights' : ['uniform', 'distance'],\n",
    "        #         'metric' : ['minkowski', 'euclidean', 'manhattan']\n",
    "        #     }\n",
    "        # },\n",
    "        # 'MLPClassifier': {\n",
    "        #     'model': MLPClassifier(random_state=models_tuning_seed),\n",
    "        #     'params': {\n",
    "        #         'hidden_layer_sizes':[(100,), (100,100,), (100,50,100,)],\n",
    "        #         'activation': ['logistic', 'tanh', 'relu'],\n",
    "        #         'solver': ['lbfgs', 'sgd', 'adam'],\n",
    "        #         'learning_rate': ['constant', 'invscaling', 'adaptive']\n",
    "        #     }\n",
    "        # }\n",
    "    }"
   ],
   "metadata": {
    "collapsed": false
   }
  },
  {
   "cell_type": "markdown",
   "source": [
    "## Run experiments"
   ],
   "metadata": {
    "collapsed": false
   }
  },
  {
   "cell_type": "markdown",
   "source": [
    "### Experiment iteration 1"
   ],
   "metadata": {
    "collapsed": false
   }
  },
  {
   "cell_type": "code",
   "execution_count": 14,
   "outputs": [],
   "source": [
    "# Configs for an experiment iteration\n",
    "exp_iter_num = 1\n",
    "experiment_seed = EXPERIMENT_SEEDS[exp_iter_num - 1]\n",
    "columns_nulls_percentage_dct = {\n",
    "    'NumberOfTimes90DaysLate': 0.05,\n",
    "    'NumberRealEstateLoansOrLines': 0.1,\n",
    "    'NumberOfTime60-89DaysPastDueNotWorse': 0.1,\n",
    "}\n",
    "generator = RandomNullsGenerator(experiment_seed, columns_nulls_percentage_dct)\n",
    "\n",
    "custom_table_fields_dct['preprocessing_technique'] = 'cat: mode, num: median'\n",
    "custom_table_fields_dct['experiment_iteration'] = f'Exp_iter_{exp_iter_num}'\n",
    "models_params_for_tuning = get_models_params_for_tuning(experiment_seed)\n",
    "# Create a transformed data loader\n",
    "exp_iter_data_loader = create_experiment_data_loader(data_loader, generator)\n",
    "preprocessor = get_null_imputer_preprocessor(exp_iter_data_loader)"
   ],
   "metadata": {
    "collapsed": false
   }
  },
  {
   "cell_type": "code",
   "execution_count": 15,
   "id": "2326c129",
   "metadata": {},
   "outputs": [
    {
     "name": "stderr",
     "output_type": "stream",
     "text": [
      "2023-04-07 01:12:14 experiment_interface.py INFO    : Start an experiment iteration for the following custom params:\n"
     ]
    },
    {
     "name": "stdout",
     "output_type": "stream",
     "text": [
      "{'dataset_split_seed': 100,\n",
      " 'experiment_iteration': 'Exp_iter_1',\n",
      " 'model_init_seed': 100,\n",
      " 'preprocessing_technique': 'cat: mode, num: median',\n",
      " 'session_uuid': '22ffa685-b892-474d-91f5-091cde823d4e'}\n",
      "\n",
      "\n"
     ]
    },
    {
     "name": "stderr",
     "output_type": "stream",
     "text": [
      "2023-04-07 01:12:14 experiment_interface.py INFO    : The dataset is preprocessed\n"
     ]
    },
    {
     "name": "stdout",
     "output_type": "stream",
     "text": [
      "2023/04/07, 01:12:14: Tuning DecisionTreeClassifier...\n",
      "Fitting 3 folds for each of 4 candidates, totalling 12 fits\n",
      "2023/04/07, 01:12:16: Tuning for DecisionTreeClassifier is finished [F1 score = 0.4829009142796696, Accuracy = 0.9338666666666665]\n",
      "\n",
      "2023/04/07, 01:12:16: Tuning LogisticRegression...\n",
      "Fitting 3 folds for each of 8 candidates, totalling 24 fits\n"
     ]
    },
    {
     "name": "stderr",
     "output_type": "stream",
     "text": [
      "2023-04-07 01:12:16 experiment_interface.py INFO    : Models are tuned and saved to a file\n",
      "2023-04-07 01:12:17 experiment_interface.py INFO    : Connected to MongoDB\n"
     ]
    },
    {
     "name": "stdout",
     "output_type": "stream",
     "text": [
      "2023/04/07, 01:12:16: Tuning for LogisticRegression is finished [F1 score = 0.5016224277219355, Accuracy = 0.9344]\n",
      "\n"
     ]
    },
    {
     "data": {
      "text/plain": "Multiple runs progress:   0%|          | 0/2 [00:00<?, ?it/s]",
      "application/vnd.jupyter.widget-view+json": {
       "version_major": 2,
       "version_minor": 0,
       "model_id": "5bcec09c96144b0cb074f8e5d86d51c3"
      }
     },
     "metadata": {},
     "output_type": "display_data"
    },
    {
     "data": {
      "text/plain": "Analyze models in one run:   0%|          | 0/2 [00:00<?, ?it/s]",
      "application/vnd.jupyter.widget-view+json": {
       "version_major": 2,
       "version_minor": 0,
       "model_id": "618cfa5c61ff428fbe39392d0bab239d"
      }
     },
     "metadata": {},
     "output_type": "display_data"
    },
    {
     "data": {
      "text/plain": "Classifiers testing by bootstrap:   0%|          | 0/10 [00:00<?, ?it/s]",
      "application/vnd.jupyter.widget-view+json": {
       "version_major": 2,
       "version_minor": 0,
       "model_id": "e540ad3576744b769f2290139a943274"
      }
     },
     "metadata": {},
     "output_type": "display_data"
    },
    {
     "data": {
      "text/plain": "Classifiers testing by bootstrap:   0%|          | 0/10 [00:00<?, ?it/s]",
      "application/vnd.jupyter.widget-view+json": {
       "version_major": 2,
       "version_minor": 0,
       "model_id": "787f07a937f8476ca79ef018ccfc9ca0"
      }
     },
     "metadata": {},
     "output_type": "display_data"
    },
    {
     "data": {
      "text/plain": "Analyze models in one run:   0%|          | 0/2 [00:00<?, ?it/s]",
      "application/vnd.jupyter.widget-view+json": {
       "version_major": 2,
       "version_minor": 0,
       "model_id": "391a5f0d077248e6bd8b298a5b254b96"
      }
     },
     "metadata": {},
     "output_type": "display_data"
    },
    {
     "data": {
      "text/plain": "Classifiers testing by bootstrap:   0%|          | 0/10 [00:00<?, ?it/s]",
      "application/vnd.jupyter.widget-view+json": {
       "version_major": 2,
       "version_minor": 0,
       "model_id": "41ddd4739222437fbe160f688ecb2b0a"
      }
     },
     "metadata": {},
     "output_type": "display_data"
    },
    {
     "data": {
      "text/plain": "Classifiers testing by bootstrap:   0%|          | 0/10 [00:00<?, ?it/s]",
      "application/vnd.jupyter.widget-view+json": {
       "version_major": 2,
       "version_minor": 0,
       "model_id": "421c891cc8464993ab924229c0568714"
      }
     },
     "metadata": {},
     "output_type": "display_data"
    }
   ],
   "source": [
    "multiple_run_metrics_dct = run_exp_iteration(data_loader=exp_iter_data_loader,\n",
    "                                             experiment_seed=experiment_seed,\n",
    "                                             test_set_fraction=TEST_SET_FRACTION,\n",
    "                                             db_writer_func=db_writer_func,\n",
    "                                             preprocessor=preprocessor,\n",
    "                                             models_params_for_tuning=models_params_for_tuning,\n",
    "                                             metrics_computation_config=metrics_computation_config,\n",
    "                                             custom_table_fields_dct=custom_table_fields_dct,\n",
    "                                             with_tuning=True,\n",
    "                                             save_results_dir_path=SAVE_RESULTS_DIR_PATH,\n",
    "                                             tuned_params_df_path=None)"
   ]
  },
  {
   "cell_type": "code",
   "execution_count": 16,
   "outputs": [
    {
     "data": {
      "text/plain": "                 Metric   overall  age_priv   age_dis  Model_Seed  \\\n0                  Mean  0.935559  0.892950  0.938810         101   \n1                   Std  0.024406  0.036197  0.023507         101   \n2                   IQR  0.032097  0.048222  0.030867         101   \n3               Entropy  0.000000  0.000000  0.000000         101   \n4                Jitter  0.009220  0.019339  0.008448         101   \n5   Per_Sample_Accuracy  0.933090  0.871791  0.937768         101   \n6       Label_Stability  0.989660  0.978279  0.990528         101   \n7                   TPR  0.000000  0.000000  0.000000         101   \n8                   TNR  1.000000  1.000000  1.000000         101   \n9                   PPV       NaN       NaN       NaN         101   \n10                  FNR  1.000000  1.000000  1.000000         101   \n11                  FPR  0.000000  0.000000  0.000000         101   \n12             Accuracy  0.933900  0.874471  0.938435         101   \n13                   F1  0.000000  0.000000  0.000000         101   \n14       Selection-Rate  0.000000  0.000000  0.000000         101   \n15        Positive-Rate  0.000000  0.000000  0.000000         101   \n0                  Mean  0.935939  0.889729  0.939465         102   \n1                   Std  0.027397  0.041072  0.026353         102   \n2                   IQR  0.033807  0.050413  0.032540         102   \n3               Entropy  0.000000  0.000000  0.000000         102   \n\n                Model_Name                                       Model_Params  \\\n0   DecisionTreeClassifier  {'ccp_alpha': 0.0, 'class_weight': None, 'crit...   \n1   DecisionTreeClassifier  {'ccp_alpha': 0.0, 'class_weight': None, 'crit...   \n2   DecisionTreeClassifier  {'ccp_alpha': 0.0, 'class_weight': None, 'crit...   \n3   DecisionTreeClassifier  {'ccp_alpha': 0.0, 'class_weight': None, 'crit...   \n4   DecisionTreeClassifier  {'ccp_alpha': 0.0, 'class_weight': None, 'crit...   \n5   DecisionTreeClassifier  {'ccp_alpha': 0.0, 'class_weight': None, 'crit...   \n6   DecisionTreeClassifier  {'ccp_alpha': 0.0, 'class_weight': None, 'crit...   \n7   DecisionTreeClassifier  {'ccp_alpha': 0.0, 'class_weight': None, 'crit...   \n8   DecisionTreeClassifier  {'ccp_alpha': 0.0, 'class_weight': None, 'crit...   \n9   DecisionTreeClassifier  {'ccp_alpha': 0.0, 'class_weight': None, 'crit...   \n10  DecisionTreeClassifier  {'ccp_alpha': 0.0, 'class_weight': None, 'crit...   \n11  DecisionTreeClassifier  {'ccp_alpha': 0.0, 'class_weight': None, 'crit...   \n12  DecisionTreeClassifier  {'ccp_alpha': 0.0, 'class_weight': None, 'crit...   \n13  DecisionTreeClassifier  {'ccp_alpha': 0.0, 'class_weight': None, 'crit...   \n14  DecisionTreeClassifier  {'ccp_alpha': 0.0, 'class_weight': None, 'crit...   \n15  DecisionTreeClassifier  {'ccp_alpha': 0.0, 'class_weight': None, 'crit...   \n0   DecisionTreeClassifier  {'ccp_alpha': 0.0, 'class_weight': None, 'crit...   \n1   DecisionTreeClassifier  {'ccp_alpha': 0.0, 'class_weight': None, 'crit...   \n2   DecisionTreeClassifier  {'ccp_alpha': 0.0, 'class_weight': None, 'crit...   \n3   DecisionTreeClassifier  {'ccp_alpha': 0.0, 'class_weight': None, 'crit...   \n\n   Run_Number Dataset_Name  Num_Estimators  \n0       Run_1       Credit              10  \n1       Run_1       Credit              10  \n2       Run_1       Credit              10  \n3       Run_1       Credit              10  \n4       Run_1       Credit              10  \n5       Run_1       Credit              10  \n6       Run_1       Credit              10  \n7       Run_1       Credit              10  \n8       Run_1       Credit              10  \n9       Run_1       Credit              10  \n10      Run_1       Credit              10  \n11      Run_1       Credit              10  \n12      Run_1       Credit              10  \n13      Run_1       Credit              10  \n14      Run_1       Credit              10  \n15      Run_1       Credit              10  \n0       Run_2       Credit              10  \n1       Run_2       Credit              10  \n2       Run_2       Credit              10  \n3       Run_2       Credit              10  ",
      "text/html": "<div>\n<style scoped>\n    .dataframe tbody tr th:only-of-type {\n        vertical-align: middle;\n    }\n\n    .dataframe tbody tr th {\n        vertical-align: top;\n    }\n\n    .dataframe thead th {\n        text-align: right;\n    }\n</style>\n<table border=\"1\" class=\"dataframe\">\n  <thead>\n    <tr style=\"text-align: right;\">\n      <th></th>\n      <th>Metric</th>\n      <th>overall</th>\n      <th>age_priv</th>\n      <th>age_dis</th>\n      <th>Model_Seed</th>\n      <th>Model_Name</th>\n      <th>Model_Params</th>\n      <th>Run_Number</th>\n      <th>Dataset_Name</th>\n      <th>Num_Estimators</th>\n    </tr>\n  </thead>\n  <tbody>\n    <tr>\n      <th>0</th>\n      <td>Mean</td>\n      <td>0.935559</td>\n      <td>0.892950</td>\n      <td>0.938810</td>\n      <td>101</td>\n      <td>DecisionTreeClassifier</td>\n      <td>{'ccp_alpha': 0.0, 'class_weight': None, 'crit...</td>\n      <td>Run_1</td>\n      <td>Credit</td>\n      <td>10</td>\n    </tr>\n    <tr>\n      <th>1</th>\n      <td>Std</td>\n      <td>0.024406</td>\n      <td>0.036197</td>\n      <td>0.023507</td>\n      <td>101</td>\n      <td>DecisionTreeClassifier</td>\n      <td>{'ccp_alpha': 0.0, 'class_weight': None, 'crit...</td>\n      <td>Run_1</td>\n      <td>Credit</td>\n      <td>10</td>\n    </tr>\n    <tr>\n      <th>2</th>\n      <td>IQR</td>\n      <td>0.032097</td>\n      <td>0.048222</td>\n      <td>0.030867</td>\n      <td>101</td>\n      <td>DecisionTreeClassifier</td>\n      <td>{'ccp_alpha': 0.0, 'class_weight': None, 'crit...</td>\n      <td>Run_1</td>\n      <td>Credit</td>\n      <td>10</td>\n    </tr>\n    <tr>\n      <th>3</th>\n      <td>Entropy</td>\n      <td>0.000000</td>\n      <td>0.000000</td>\n      <td>0.000000</td>\n      <td>101</td>\n      <td>DecisionTreeClassifier</td>\n      <td>{'ccp_alpha': 0.0, 'class_weight': None, 'crit...</td>\n      <td>Run_1</td>\n      <td>Credit</td>\n      <td>10</td>\n    </tr>\n    <tr>\n      <th>4</th>\n      <td>Jitter</td>\n      <td>0.009220</td>\n      <td>0.019339</td>\n      <td>0.008448</td>\n      <td>101</td>\n      <td>DecisionTreeClassifier</td>\n      <td>{'ccp_alpha': 0.0, 'class_weight': None, 'crit...</td>\n      <td>Run_1</td>\n      <td>Credit</td>\n      <td>10</td>\n    </tr>\n    <tr>\n      <th>5</th>\n      <td>Per_Sample_Accuracy</td>\n      <td>0.933090</td>\n      <td>0.871791</td>\n      <td>0.937768</td>\n      <td>101</td>\n      <td>DecisionTreeClassifier</td>\n      <td>{'ccp_alpha': 0.0, 'class_weight': None, 'crit...</td>\n      <td>Run_1</td>\n      <td>Credit</td>\n      <td>10</td>\n    </tr>\n    <tr>\n      <th>6</th>\n      <td>Label_Stability</td>\n      <td>0.989660</td>\n      <td>0.978279</td>\n      <td>0.990528</td>\n      <td>101</td>\n      <td>DecisionTreeClassifier</td>\n      <td>{'ccp_alpha': 0.0, 'class_weight': None, 'crit...</td>\n      <td>Run_1</td>\n      <td>Credit</td>\n      <td>10</td>\n    </tr>\n    <tr>\n      <th>7</th>\n      <td>TPR</td>\n      <td>0.000000</td>\n      <td>0.000000</td>\n      <td>0.000000</td>\n      <td>101</td>\n      <td>DecisionTreeClassifier</td>\n      <td>{'ccp_alpha': 0.0, 'class_weight': None, 'crit...</td>\n      <td>Run_1</td>\n      <td>Credit</td>\n      <td>10</td>\n    </tr>\n    <tr>\n      <th>8</th>\n      <td>TNR</td>\n      <td>1.000000</td>\n      <td>1.000000</td>\n      <td>1.000000</td>\n      <td>101</td>\n      <td>DecisionTreeClassifier</td>\n      <td>{'ccp_alpha': 0.0, 'class_weight': None, 'crit...</td>\n      <td>Run_1</td>\n      <td>Credit</td>\n      <td>10</td>\n    </tr>\n    <tr>\n      <th>9</th>\n      <td>PPV</td>\n      <td>NaN</td>\n      <td>NaN</td>\n      <td>NaN</td>\n      <td>101</td>\n      <td>DecisionTreeClassifier</td>\n      <td>{'ccp_alpha': 0.0, 'class_weight': None, 'crit...</td>\n      <td>Run_1</td>\n      <td>Credit</td>\n      <td>10</td>\n    </tr>\n    <tr>\n      <th>10</th>\n      <td>FNR</td>\n      <td>1.000000</td>\n      <td>1.000000</td>\n      <td>1.000000</td>\n      <td>101</td>\n      <td>DecisionTreeClassifier</td>\n      <td>{'ccp_alpha': 0.0, 'class_weight': None, 'crit...</td>\n      <td>Run_1</td>\n      <td>Credit</td>\n      <td>10</td>\n    </tr>\n    <tr>\n      <th>11</th>\n      <td>FPR</td>\n      <td>0.000000</td>\n      <td>0.000000</td>\n      <td>0.000000</td>\n      <td>101</td>\n      <td>DecisionTreeClassifier</td>\n      <td>{'ccp_alpha': 0.0, 'class_weight': None, 'crit...</td>\n      <td>Run_1</td>\n      <td>Credit</td>\n      <td>10</td>\n    </tr>\n    <tr>\n      <th>12</th>\n      <td>Accuracy</td>\n      <td>0.933900</td>\n      <td>0.874471</td>\n      <td>0.938435</td>\n      <td>101</td>\n      <td>DecisionTreeClassifier</td>\n      <td>{'ccp_alpha': 0.0, 'class_weight': None, 'crit...</td>\n      <td>Run_1</td>\n      <td>Credit</td>\n      <td>10</td>\n    </tr>\n    <tr>\n      <th>13</th>\n      <td>F1</td>\n      <td>0.000000</td>\n      <td>0.000000</td>\n      <td>0.000000</td>\n      <td>101</td>\n      <td>DecisionTreeClassifier</td>\n      <td>{'ccp_alpha': 0.0, 'class_weight': None, 'crit...</td>\n      <td>Run_1</td>\n      <td>Credit</td>\n      <td>10</td>\n    </tr>\n    <tr>\n      <th>14</th>\n      <td>Selection-Rate</td>\n      <td>0.000000</td>\n      <td>0.000000</td>\n      <td>0.000000</td>\n      <td>101</td>\n      <td>DecisionTreeClassifier</td>\n      <td>{'ccp_alpha': 0.0, 'class_weight': None, 'crit...</td>\n      <td>Run_1</td>\n      <td>Credit</td>\n      <td>10</td>\n    </tr>\n    <tr>\n      <th>15</th>\n      <td>Positive-Rate</td>\n      <td>0.000000</td>\n      <td>0.000000</td>\n      <td>0.000000</td>\n      <td>101</td>\n      <td>DecisionTreeClassifier</td>\n      <td>{'ccp_alpha': 0.0, 'class_weight': None, 'crit...</td>\n      <td>Run_1</td>\n      <td>Credit</td>\n      <td>10</td>\n    </tr>\n    <tr>\n      <th>0</th>\n      <td>Mean</td>\n      <td>0.935939</td>\n      <td>0.889729</td>\n      <td>0.939465</td>\n      <td>102</td>\n      <td>DecisionTreeClassifier</td>\n      <td>{'ccp_alpha': 0.0, 'class_weight': None, 'crit...</td>\n      <td>Run_2</td>\n      <td>Credit</td>\n      <td>10</td>\n    </tr>\n    <tr>\n      <th>1</th>\n      <td>Std</td>\n      <td>0.027397</td>\n      <td>0.041072</td>\n      <td>0.026353</td>\n      <td>102</td>\n      <td>DecisionTreeClassifier</td>\n      <td>{'ccp_alpha': 0.0, 'class_weight': None, 'crit...</td>\n      <td>Run_2</td>\n      <td>Credit</td>\n      <td>10</td>\n    </tr>\n    <tr>\n      <th>2</th>\n      <td>IQR</td>\n      <td>0.033807</td>\n      <td>0.050413</td>\n      <td>0.032540</td>\n      <td>102</td>\n      <td>DecisionTreeClassifier</td>\n      <td>{'ccp_alpha': 0.0, 'class_weight': None, 'crit...</td>\n      <td>Run_2</td>\n      <td>Credit</td>\n      <td>10</td>\n    </tr>\n    <tr>\n      <th>3</th>\n      <td>Entropy</td>\n      <td>0.000000</td>\n      <td>0.000000</td>\n      <td>0.000000</td>\n      <td>102</td>\n      <td>DecisionTreeClassifier</td>\n      <td>{'ccp_alpha': 0.0, 'class_weight': None, 'crit...</td>\n      <td>Run_2</td>\n      <td>Credit</td>\n      <td>10</td>\n    </tr>\n  </tbody>\n</table>\n</div>"
     },
     "execution_count": 16,
     "metadata": {},
     "output_type": "execute_result"
    }
   ],
   "source": [
    "sample_model_metrics_df = multiple_run_metrics_dct[list(models_params_for_tuning.keys())[0]]\n",
    "sample_model_metrics_df.head(20)"
   ],
   "metadata": {
    "collapsed": false
   }
  },
  {
   "cell_type": "markdown",
   "source": [
    "### Experiment iteration 2"
   ],
   "metadata": {
    "collapsed": false
   }
  },
  {
   "cell_type": "code",
   "execution_count": 16,
   "outputs": [],
   "source": [],
   "metadata": {
    "collapsed": false
   }
  },
  {
   "cell_type": "code",
   "execution_count": null,
   "outputs": [],
   "source": [
    "client.close()"
   ],
   "metadata": {
    "collapsed": false
   }
  },
  {
   "cell_type": "code",
   "execution_count": null,
   "outputs": [],
   "source": [],
   "metadata": {
    "collapsed": false
   }
  }
 ],
 "metadata": {
  "kernelspec": {
   "display_name": "Python 3 (ipykernel)",
   "language": "python",
   "name": "python3"
  },
  "language_info": {
   "codemirror_mode": {
    "name": "ipython",
    "version": 3
   },
   "file_extension": ".py",
   "mimetype": "text/x-python",
   "name": "python",
   "nbconvert_exporter": "python",
   "pygments_lexer": "ipython3",
   "version": "3.8.10"
  }
 },
 "nbformat": 4,
 "nbformat_minor": 5
}
