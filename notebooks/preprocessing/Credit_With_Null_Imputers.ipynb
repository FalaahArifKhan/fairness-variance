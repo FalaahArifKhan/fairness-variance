{
 "cells": [
  {
   "cell_type": "code",
   "execution_count": 1,
   "outputs": [],
   "source": [
    "# !pip install -r ../exp_requirements.txt"
   ],
   "metadata": {
    "collapsed": false,
    "ExecuteTime": {
     "start_time": "2023-04-20T01:17:30.896460Z",
     "end_time": "2023-04-20T01:17:30.898121Z"
    }
   }
  },
  {
   "cell_type": "code",
   "execution_count": 2,
   "outputs": [],
   "source": [
    "# !pip uninstall virny -y"
   ],
   "metadata": {
    "collapsed": false,
    "ExecuteTime": {
     "start_time": "2023-04-20T01:17:30.909937Z",
     "end_time": "2023-04-20T01:17:30.912412Z"
    }
   }
  },
  {
   "cell_type": "code",
   "execution_count": 3,
   "outputs": [],
   "source": [
    "# Install using an HTTP link\n",
    "# !pip install git+https://github.com/DataResponsibly/Virny.git@development\n",
    "\n",
    "# Install using an SSH link\n",
    "# !pip install git+ssh://git@github.com/DataResponsibly/Virny.git@development"
   ],
   "metadata": {
    "collapsed": false,
    "ExecuteTime": {
     "start_time": "2023-04-20T01:17:30.910506Z",
     "end_time": "2023-04-20T01:17:30.919216Z"
    }
   }
  },
  {
   "cell_type": "code",
   "execution_count": 4,
   "id": "248cbed8",
   "metadata": {
    "ExecuteTime": {
     "start_time": "2023-04-20T01:17:30.927666Z",
     "end_time": "2023-04-20T01:17:31.462731Z"
    }
   },
   "outputs": [],
   "source": [
    "%matplotlib inline\n",
    "%load_ext autoreload\n",
    "%autoreload 2"
   ]
  },
  {
   "cell_type": "code",
   "execution_count": 5,
   "id": "7ec6cd08",
   "metadata": {
    "ExecuteTime": {
     "start_time": "2023-04-20T01:17:31.466473Z",
     "end_time": "2023-04-20T01:17:31.475383Z"
    }
   },
   "outputs": [],
   "source": [
    "import os\n",
    "import warnings\n",
    "warnings.filterwarnings('ignore')\n",
    "os.environ[\"PYTHONWARNINGS\"] = \"ignore\""
   ]
  },
  {
   "cell_type": "markdown",
   "id": "a578f2ab",
   "metadata": {},
   "source": [
    "# Credit Dataset With Null Imputer"
   ]
  },
  {
   "cell_type": "markdown",
   "id": "606df34d",
   "metadata": {},
   "source": [
    "## Import dependencies"
   ]
  },
  {
   "cell_type": "code",
   "execution_count": 6,
   "id": "7a9241de",
   "metadata": {
    "ExecuteTime": {
     "start_time": "2023-04-20T01:17:31.477495Z",
     "end_time": "2023-04-20T01:17:33.285598Z"
    }
   },
   "outputs": [],
   "source": [
    "import os\n",
    "import copy\n",
    "\n",
    "from xgboost import XGBClassifier\n",
    "from sklearn.tree import DecisionTreeClassifier\n",
    "from sklearn.linear_model import LogisticRegression\n",
    "from sklearn.ensemble import RandomForestClassifier\n",
    "from sklearn.neighbors import KNeighborsClassifier\n",
    "from sklearn.neural_network import MLPClassifier\n",
    "\n",
    "from virny.utils.custom_initializers import create_config_obj\n",
    "from virny.datasets.data_loaders import CreditDataset\n",
    "\n",
    "from configs.constants import NUM_METRICS_COMPUTATION_RUNS, EXPERIMENT_SEEDS, TEST_SET_FRACTION\n",
    "from source.user_interfaces.experiment_interface import run_exp_iteration_with_db_writer\n",
    "from source.error_injectors.random_nulls_injector import RandomNullsInjector\n",
    "from source.utils.custom_initializers import create_experiment_data_loader\n",
    "from source.preprocessing.basic_preprocessing import get_null_imputer_preprocessor"
   ]
  },
  {
   "cell_type": "markdown",
   "id": "75699f5f",
   "metadata": {},
   "source": [
    "## Initialize input variables for the experiment"
   ]
  },
  {
   "cell_type": "code",
   "execution_count": 7,
   "outputs": [],
   "source": [
    "ROOT_DIR = os.path.join(os.getcwd(), \"..\", \"..\")\n",
    "EXPERIMENT_NAME = 'preprocessing'\n",
    "DB_COLLECTION_NAME = 'preprocessing_results'\n",
    "SAVE_RESULTS_DIR_PATH = os.path.join(ROOT_DIR, 'results', EXPERIMENT_NAME)"
   ],
   "metadata": {
    "collapsed": false,
    "ExecuteTime": {
     "start_time": "2023-04-20T01:17:33.287218Z",
     "end_time": "2023-04-20T01:17:33.304196Z"
    }
   }
  },
  {
   "cell_type": "code",
   "execution_count": 8,
   "outputs": [
    {
     "data": {
      "text/plain": "   RevolvingUtilizationOfUnsecuredLines  age  \\\n0                              1.127730   48   \n1                              0.622772   30   \n2                              0.099684   40   \n3                              0.005424   46   \n4                              0.876085   42   \n\n   NumberOfTime30-59DaysPastDueNotWorse    DebtRatio  MonthlyIncome  \\\n0                                     1  1900.000000            NaN   \n1                                     3     0.394500         4435.0   \n2                                     0     0.393556         6486.0   \n3                                     0     0.014377          625.0   \n4                                     0     0.107544         9000.0   \n\n   NumberOfOpenCreditLinesAndLoans  NumberOfTimes90DaysLate  \\\n0                                4                        0   \n1                                7                        0   \n2                               17                        0   \n3                                5                        0   \n4                                4                        0   \n\n   NumberRealEstateLoansOrLines  \n0                             1  \n1                             1  \n2                             1  \n3                             0  \n4                             0  ",
      "text/html": "<div>\n<style scoped>\n    .dataframe tbody tr th:only-of-type {\n        vertical-align: middle;\n    }\n\n    .dataframe tbody tr th {\n        vertical-align: top;\n    }\n\n    .dataframe thead th {\n        text-align: right;\n    }\n</style>\n<table border=\"1\" class=\"dataframe\">\n  <thead>\n    <tr style=\"text-align: right;\">\n      <th></th>\n      <th>RevolvingUtilizationOfUnsecuredLines</th>\n      <th>age</th>\n      <th>NumberOfTime30-59DaysPastDueNotWorse</th>\n      <th>DebtRatio</th>\n      <th>MonthlyIncome</th>\n      <th>NumberOfOpenCreditLinesAndLoans</th>\n      <th>NumberOfTimes90DaysLate</th>\n      <th>NumberRealEstateLoansOrLines</th>\n    </tr>\n  </thead>\n  <tbody>\n    <tr>\n      <th>0</th>\n      <td>1.127730</td>\n      <td>48</td>\n      <td>1</td>\n      <td>1900.000000</td>\n      <td>NaN</td>\n      <td>4</td>\n      <td>0</td>\n      <td>1</td>\n    </tr>\n    <tr>\n      <th>1</th>\n      <td>0.622772</td>\n      <td>30</td>\n      <td>3</td>\n      <td>0.394500</td>\n      <td>4435.0</td>\n      <td>7</td>\n      <td>0</td>\n      <td>1</td>\n    </tr>\n    <tr>\n      <th>2</th>\n      <td>0.099684</td>\n      <td>40</td>\n      <td>0</td>\n      <td>0.393556</td>\n      <td>6486.0</td>\n      <td>17</td>\n      <td>0</td>\n      <td>1</td>\n    </tr>\n    <tr>\n      <th>3</th>\n      <td>0.005424</td>\n      <td>46</td>\n      <td>0</td>\n      <td>0.014377</td>\n      <td>625.0</td>\n      <td>5</td>\n      <td>0</td>\n      <td>0</td>\n    </tr>\n    <tr>\n      <th>4</th>\n      <td>0.876085</td>\n      <td>42</td>\n      <td>0</td>\n      <td>0.107544</td>\n      <td>9000.0</td>\n      <td>4</td>\n      <td>0</td>\n      <td>0</td>\n    </tr>\n  </tbody>\n</table>\n</div>"
     },
     "execution_count": 8,
     "metadata": {},
     "output_type": "execute_result"
    }
   ],
   "source": [
    "data_loader = CreditDataset(subsample_size=50_000)\n",
    "data_loader.X_data.head()"
   ],
   "metadata": {
    "collapsed": false,
    "ExecuteTime": {
     "start_time": "2023-04-20T01:17:33.306737Z",
     "end_time": "2023-04-20T01:17:33.468889Z"
    }
   }
  },
  {
   "cell_type": "code",
   "execution_count": 9,
   "outputs": [
    {
     "data": {
      "text/plain": "SeriousDlqin2yrs                           0\nRevolvingUtilizationOfUnsecuredLines       0\nage                                        0\nNumberOfTime30-59DaysPastDueNotWorse       0\nDebtRatio                                  0\nMonthlyIncome                           9991\nNumberOfOpenCreditLinesAndLoans            0\nNumberOfTimes90DaysLate                    0\nNumberRealEstateLoansOrLines               0\nNumberOfTime60-89DaysPastDueNotWorse       0\nNumberOfDependents                      1282\ndtype: int64"
     },
     "execution_count": 9,
     "metadata": {},
     "output_type": "execute_result"
    }
   ],
   "source": [
    "data_loader.full_df.isna().sum()"
   ],
   "metadata": {
    "collapsed": false,
    "ExecuteTime": {
     "start_time": "2023-04-20T01:17:33.465657Z",
     "end_time": "2023-04-20T01:17:33.486537Z"
    }
   }
  },
  {
   "cell_type": "markdown",
   "source": [
    "### Define a db writer and custom fields to insert into your database"
   ],
   "metadata": {
    "collapsed": false
   }
  },
  {
   "cell_type": "code",
   "execution_count": 10,
   "outputs": [],
   "source": [
    "from source.db_functions import connect_to_mongodb\n",
    "\n",
    "client, _, db_writer_func = connect_to_mongodb(DB_COLLECTION_NAME)"
   ],
   "metadata": {
    "collapsed": false,
    "ExecuteTime": {
     "start_time": "2023-04-20T01:17:33.487436Z",
     "end_time": "2023-04-20T01:17:34.134614Z"
    }
   }
  },
  {
   "cell_type": "code",
   "execution_count": 11,
   "outputs": [
    {
     "name": "stdout",
     "output_type": "stream",
     "text": [
      "Current session uuid:  9aabb736-b7fc-40e1-ae83-bf6e82d8c511\n"
     ]
    }
   ],
   "source": [
    "import uuid\n",
    "\n",
    "custom_table_fields_dct = {\n",
    "    'session_uuid': str(uuid.uuid4()),\n",
    "    'preprocessing_technique': None,\n",
    "}\n",
    "print('Current session uuid: ', custom_table_fields_dct['session_uuid'])"
   ],
   "metadata": {
    "collapsed": false,
    "ExecuteTime": {
     "start_time": "2023-04-20T01:17:34.138416Z",
     "end_time": "2023-04-20T01:17:34.170868Z"
    }
   }
  },
  {
   "cell_type": "markdown",
   "source": [
    "### Create a metrics computation config object"
   ],
   "metadata": {
    "collapsed": false
   }
  },
  {
   "cell_type": "code",
   "execution_count": 12,
   "outputs": [],
   "source": [
    "config_yaml_path = 'experiment_config.yaml'\n",
    "age_range = [i for i in range(0, 31)]\n",
    "config_yaml_content = \\\n",
    "f\"\"\"\n",
    "dataset_name: Credit\n",
    "bootstrap_fraction: 0.8\n",
    "# n_estimators: 50\n",
    "n_estimators: 10\n",
    "# num_runs: {NUM_METRICS_COMPUTATION_RUNS}\n",
    "num_runs: 2\n",
    "sensitive_attributes_dct: {{'age': {age_range}}}\n",
    "\"\"\"\n",
    "\n",
    "with open(config_yaml_path, 'w', encoding='utf-8') as f:\n",
    "    f.write(config_yaml_content)"
   ],
   "metadata": {
    "collapsed": false,
    "ExecuteTime": {
     "start_time": "2023-04-20T01:17:34.167032Z",
     "end_time": "2023-04-20T01:17:34.193879Z"
    }
   }
  },
  {
   "cell_type": "code",
   "execution_count": 13,
   "outputs": [],
   "source": [
    "metrics_computation_config = create_config_obj(config_yaml_path=config_yaml_path)"
   ],
   "metadata": {
    "collapsed": false,
    "ExecuteTime": {
     "start_time": "2023-04-20T01:17:34.189915Z",
     "end_time": "2023-04-20T01:17:34.229902Z"
    }
   }
  },
  {
   "cell_type": "markdown",
   "source": [
    "### Define tuning parameter for models"
   ],
   "metadata": {
    "collapsed": false
   }
  },
  {
   "cell_type": "code",
   "execution_count": 14,
   "outputs": [],
   "source": [
    "def get_models_params_for_tuning(models_tuning_seed):\n",
    "    return {\n",
    "        'DecisionTreeClassifier': {\n",
    "            'model': DecisionTreeClassifier(random_state=models_tuning_seed),\n",
    "            'params': {\n",
    "                \"max_depth\": [20, 30],\n",
    "                \"min_samples_split\" : [0.1],\n",
    "                \"max_features\": ['sqrt'],\n",
    "                \"criterion\": [\"gini\", \"entropy\"]\n",
    "            }\n",
    "        },\n",
    "        'LogisticRegression': {\n",
    "            'model': LogisticRegression(random_state=models_tuning_seed),\n",
    "            'params': {\n",
    "                'penalty': ['l2'],\n",
    "                'C' : [0.0001, 0.1, 1, 100],\n",
    "                'solver': ['newton-cg', 'lbfgs'],\n",
    "                'max_iter': [250],\n",
    "            }\n",
    "        },\n",
    "        # 'RandomForestClassifier': {\n",
    "        #     'model': RandomForestClassifier(random_state=models_tuning_seed),\n",
    "        #     'params': {\n",
    "        #         \"max_depth\": [6, 10],\n",
    "        #         \"min_samples_leaf\": [1],\n",
    "        #         \"n_estimators\": [50, 100],\n",
    "        #         \"max_features\": [0.6]\n",
    "        #     }\n",
    "        # },\n",
    "        # 'XGBClassifier': {\n",
    "        #     'model': XGBClassifier(random_state=models_tuning_seed, verbosity=0),\n",
    "        #     'params': {\n",
    "        #         'learning_rate': [0.1],\n",
    "        #         'n_estimators': [200],\n",
    "        #         'max_depth': [5, 7],\n",
    "        #         'lambda':  [10, 100]\n",
    "        #     }\n",
    "        # },\n",
    "        # 'KNeighborsClassifier': {\n",
    "        #     'model': KNeighborsClassifier(),\n",
    "        #     'params': {\n",
    "        #         'n_neighbors' : [5, 7, 9, 11, 13, 15, 25],\n",
    "        #         'weights' : ['uniform', 'distance'],\n",
    "        #         'metric' : ['minkowski', 'euclidean', 'manhattan']\n",
    "        #     }\n",
    "        # },\n",
    "        # 'MLPClassifier': {\n",
    "        #     'model': MLPClassifier(random_state=models_tuning_seed),\n",
    "        #     'params': {\n",
    "        #         'hidden_layer_sizes':[(100,), (100,100,), (100,50,100,)],\n",
    "        #         'activation': ['logistic', 'tanh', 'relu'],\n",
    "        #         'solver': ['lbfgs', 'sgd', 'adam'],\n",
    "        #         'learning_rate': ['constant', 'invscaling', 'adaptive']\n",
    "        #     }\n",
    "        # }\n",
    "    }"
   ],
   "metadata": {
    "collapsed": false,
    "ExecuteTime": {
     "start_time": "2023-04-20T01:17:34.221579Z",
     "end_time": "2023-04-20T01:17:34.273050Z"
    }
   }
  },
  {
   "cell_type": "markdown",
   "source": [
    "## Run experiments"
   ],
   "metadata": {
    "collapsed": false
   }
  },
  {
   "cell_type": "markdown",
   "source": [
    "### Experiment iteration 1"
   ],
   "metadata": {
    "collapsed": false
   }
  },
  {
   "cell_type": "code",
   "execution_count": 15,
   "outputs": [],
   "source": [
    "# Configs for an experiment iteration\n",
    "exp_iter_num = 1\n",
    "experiment_seed = EXPERIMENT_SEEDS[exp_iter_num - 1]\n",
    "columns_nulls_percentage_dct = {\n",
    "    'NumberOfTimes90DaysLate': 0.05,\n",
    "    'NumberRealEstateLoansOrLines': 0.1,\n",
    "    'NumberOfTime60-89DaysPastDueNotWorse': 0.1,\n",
    "}\n",
    "generator = RandomNullsInjector(experiment_seed, columns_nulls_percentage_dct)\n",
    "\n",
    "custom_table_fields_dct['preprocessing_technique'] = 'cat: mode, num: median'\n",
    "custom_table_fields_dct['experiment_iteration'] = f'Exp_iter_{exp_iter_num}'\n",
    "models_params_for_tuning = get_models_params_for_tuning(experiment_seed)\n",
    "# Create a transformed data loader\n",
    "exp_iter_data_loader = create_experiment_data_loader(data_loader, generator)\n",
    "preprocessor = get_null_imputer_preprocessor(exp_iter_data_loader)"
   ],
   "metadata": {
    "collapsed": false,
    "ExecuteTime": {
     "start_time": "2023-04-20T01:17:34.266125Z",
     "end_time": "2023-04-20T01:17:34.317227Z"
    }
   }
  },
  {
   "cell_type": "code",
   "execution_count": 16,
   "id": "2326c129",
   "metadata": {
    "ExecuteTime": {
     "start_time": "2023-04-20T01:17:34.309914Z",
     "end_time": "2023-04-20T01:17:56.325028Z"
    }
   },
   "outputs": [
    {
     "name": "stderr",
     "output_type": "stream",
     "text": [
      "2023-04-20 01:17:34 experiment_interface.py INFO    : Start an experiment iteration for the following custom params:\n",
      "2023-04-20 01:17:34 experiment_interface.py INFO    : The dataset is preprocessed\n"
     ]
    },
    {
     "name": "stdout",
     "output_type": "stream",
     "text": [
      "{'dataset_split_seed': 100,\n",
      " 'experiment_iteration': 'Exp_iter_1',\n",
      " 'model_init_seed': 100,\n",
      " 'preprocessing_technique': 'cat: mode, num: median',\n",
      " 'session_uuid': '9aabb736-b7fc-40e1-ae83-bf6e82d8c511'}\n",
      "\n",
      "\n",
      "2023/04/20, 01:17:34: Tuning DecisionTreeClassifier...\n",
      "Fitting 3 folds for each of 4 candidates, totalling 12 fits\n",
      "2023/04/20, 01:17:36: Tuning for DecisionTreeClassifier is finished [F1 score = 0.48346316218256263, Accuracy = 0.934]\n",
      "\n",
      "2023/04/20, 01:17:36: Tuning LogisticRegression...\n",
      "Fitting 3 folds for each of 8 candidates, totalling 24 fits\n"
     ]
    },
    {
     "name": "stderr",
     "output_type": "stream",
     "text": [
      "2023-04-20 01:17:36 experiment_interface.py INFO    : Models are tuned and saved to a file\n"
     ]
    },
    {
     "name": "stdout",
     "output_type": "stream",
     "text": [
      "2023/04/20, 01:17:36: Tuning for LogisticRegression is finished [F1 score = 0.4964668642325887, Accuracy = 0.9344333333333333]\n",
      "\n"
     ]
    },
    {
     "data": {
      "text/plain": "Multiple runs progress:   0%|          | 0/2 [00:00<?, ?it/s]",
      "application/vnd.jupyter.widget-view+json": {
       "version_major": 2,
       "version_minor": 0,
       "model_id": "440a79c15af54de2a93403a4e04418c5"
      }
     },
     "metadata": {},
     "output_type": "display_data"
    },
    {
     "data": {
      "text/plain": "Analyze models in one run:   0%|          | 0/2 [00:00<?, ?it/s]",
      "application/vnd.jupyter.widget-view+json": {
       "version_major": 2,
       "version_minor": 0,
       "model_id": "f95d58d4eb7e458e87aac92490fde0b4"
      }
     },
     "metadata": {},
     "output_type": "display_data"
    },
    {
     "data": {
      "text/plain": "Classifiers testing by bootstrap:   0%|          | 0/10 [00:00<?, ?it/s]",
      "application/vnd.jupyter.widget-view+json": {
       "version_major": 2,
       "version_minor": 0,
       "model_id": "6aa3d23850994ddb9b0c1530725a27d2"
      }
     },
     "metadata": {},
     "output_type": "display_data"
    },
    {
     "data": {
      "text/plain": "Classifiers testing by bootstrap:   0%|          | 0/10 [00:00<?, ?it/s]",
      "application/vnd.jupyter.widget-view+json": {
       "version_major": 2,
       "version_minor": 0,
       "model_id": "cc5f4ef74df94fbe919efe3325d12535"
      }
     },
     "metadata": {},
     "output_type": "display_data"
    },
    {
     "data": {
      "text/plain": "Analyze models in one run:   0%|          | 0/2 [00:00<?, ?it/s]",
      "application/vnd.jupyter.widget-view+json": {
       "version_major": 2,
       "version_minor": 0,
       "model_id": "658be9488c33498cbeb222231bd22cae"
      }
     },
     "metadata": {},
     "output_type": "display_data"
    },
    {
     "data": {
      "text/plain": "Classifiers testing by bootstrap:   0%|          | 0/10 [00:00<?, ?it/s]",
      "application/vnd.jupyter.widget-view+json": {
       "version_major": 2,
       "version_minor": 0,
       "model_id": "68b0038a2664477ca94c15c6cc692593"
      }
     },
     "metadata": {},
     "output_type": "display_data"
    },
    {
     "data": {
      "text/plain": "Classifiers testing by bootstrap:   0%|          | 0/10 [00:00<?, ?it/s]",
      "application/vnd.jupyter.widget-view+json": {
       "version_major": 2,
       "version_minor": 0,
       "model_id": "b1cde2f02ee64a2e859fb85a4c40232d"
      }
     },
     "metadata": {},
     "output_type": "display_data"
    }
   ],
   "source": [
    "multiple_run_metrics_dct = run_exp_iteration_with_db_writer(data_loader=exp_iter_data_loader,\n",
    "                                                            experiment_seed=experiment_seed,\n",
    "                                                            test_set_fraction=TEST_SET_FRACTION,\n",
    "                                                            db_writer_func=db_writer_func,\n",
    "                                                            preprocessor=preprocessor,\n",
    "                                                            models_params_for_tuning=models_params_for_tuning,\n",
    "                                                            metrics_computation_config=metrics_computation_config,\n",
    "                                                            custom_table_fields_dct=custom_table_fields_dct,\n",
    "                                                            with_tuning=True,\n",
    "                                                            save_results_dir_path=SAVE_RESULTS_DIR_PATH,\n",
    "                                                            tuned_params_df_path=None)"
   ]
  },
  {
   "cell_type": "code",
   "execution_count": 17,
   "outputs": [
    {
     "data": {
      "text/plain": "                 Metric   overall  age_priv   age_dis  Model_Seed  \\\n0                  Mean  0.935844  0.898069  0.938850         101   \n1                   Std  0.025866  0.035901  0.025067         101   \n2                   IQR  0.032899  0.048892  0.031627         101   \n3               Entropy  0.000000  0.000000  0.000000         101   \n4                Jitter  0.005244  0.009227  0.004928         101   \n5   Per_Sample_Accuracy  0.931160  0.880597  0.935183         101   \n6       Label_Stability  0.994720  0.990773  0.995034         101   \n7                   TPR  0.000000  0.000000  0.000000         101   \n8                   TNR  0.999678  1.000000  0.999654         101   \n9                   PPV  0.000000       NaN  0.000000         101   \n10                  FNR  1.000000  1.000000  1.000000         101   \n11                  FPR  0.000322  0.000000  0.000346         101   \n12             Accuracy  0.930800  0.880597  0.934794         101   \n13                   F1  0.000000  0.000000  0.000000         101   \n14       Selection-Rate  0.000300  0.000000  0.000324         101   \n15        Positive-Rate  0.004354  0.000000  0.004992         101   \n0                  Mean  0.935637  0.895759  0.938810         102   \n1                   Std  0.026282  0.035652  0.025536         102   \n2                   IQR  0.031234  0.039467  0.030579         102   \n3               Entropy  0.000000  0.000000  0.000000         102   \n\n                Model_Name                                       Model_Params  \\\n0   DecisionTreeClassifier  {'ccp_alpha': 0.0, 'class_weight': None, 'crit...   \n1   DecisionTreeClassifier  {'ccp_alpha': 0.0, 'class_weight': None, 'crit...   \n2   DecisionTreeClassifier  {'ccp_alpha': 0.0, 'class_weight': None, 'crit...   \n3   DecisionTreeClassifier  {'ccp_alpha': 0.0, 'class_weight': None, 'crit...   \n4   DecisionTreeClassifier  {'ccp_alpha': 0.0, 'class_weight': None, 'crit...   \n5   DecisionTreeClassifier  {'ccp_alpha': 0.0, 'class_weight': None, 'crit...   \n6   DecisionTreeClassifier  {'ccp_alpha': 0.0, 'class_weight': None, 'crit...   \n7   DecisionTreeClassifier  {'ccp_alpha': 0.0, 'class_weight': None, 'crit...   \n8   DecisionTreeClassifier  {'ccp_alpha': 0.0, 'class_weight': None, 'crit...   \n9   DecisionTreeClassifier  {'ccp_alpha': 0.0, 'class_weight': None, 'crit...   \n10  DecisionTreeClassifier  {'ccp_alpha': 0.0, 'class_weight': None, 'crit...   \n11  DecisionTreeClassifier  {'ccp_alpha': 0.0, 'class_weight': None, 'crit...   \n12  DecisionTreeClassifier  {'ccp_alpha': 0.0, 'class_weight': None, 'crit...   \n13  DecisionTreeClassifier  {'ccp_alpha': 0.0, 'class_weight': None, 'crit...   \n14  DecisionTreeClassifier  {'ccp_alpha': 0.0, 'class_weight': None, 'crit...   \n15  DecisionTreeClassifier  {'ccp_alpha': 0.0, 'class_weight': None, 'crit...   \n0   DecisionTreeClassifier  {'ccp_alpha': 0.0, 'class_weight': None, 'crit...   \n1   DecisionTreeClassifier  {'ccp_alpha': 0.0, 'class_weight': None, 'crit...   \n2   DecisionTreeClassifier  {'ccp_alpha': 0.0, 'class_weight': None, 'crit...   \n3   DecisionTreeClassifier  {'ccp_alpha': 0.0, 'class_weight': None, 'crit...   \n\n   Run_Number Dataset_Name  Num_Estimators  \n0       Run_1       Credit              10  \n1       Run_1       Credit              10  \n2       Run_1       Credit              10  \n3       Run_1       Credit              10  \n4       Run_1       Credit              10  \n5       Run_1       Credit              10  \n6       Run_1       Credit              10  \n7       Run_1       Credit              10  \n8       Run_1       Credit              10  \n9       Run_1       Credit              10  \n10      Run_1       Credit              10  \n11      Run_1       Credit              10  \n12      Run_1       Credit              10  \n13      Run_1       Credit              10  \n14      Run_1       Credit              10  \n15      Run_1       Credit              10  \n0       Run_2       Credit              10  \n1       Run_2       Credit              10  \n2       Run_2       Credit              10  \n3       Run_2       Credit              10  ",
      "text/html": "<div>\n<style scoped>\n    .dataframe tbody tr th:only-of-type {\n        vertical-align: middle;\n    }\n\n    .dataframe tbody tr th {\n        vertical-align: top;\n    }\n\n    .dataframe thead th {\n        text-align: right;\n    }\n</style>\n<table border=\"1\" class=\"dataframe\">\n  <thead>\n    <tr style=\"text-align: right;\">\n      <th></th>\n      <th>Metric</th>\n      <th>overall</th>\n      <th>age_priv</th>\n      <th>age_dis</th>\n      <th>Model_Seed</th>\n      <th>Model_Name</th>\n      <th>Model_Params</th>\n      <th>Run_Number</th>\n      <th>Dataset_Name</th>\n      <th>Num_Estimators</th>\n    </tr>\n  </thead>\n  <tbody>\n    <tr>\n      <th>0</th>\n      <td>Mean</td>\n      <td>0.935844</td>\n      <td>0.898069</td>\n      <td>0.938850</td>\n      <td>101</td>\n      <td>DecisionTreeClassifier</td>\n      <td>{'ccp_alpha': 0.0, 'class_weight': None, 'crit...</td>\n      <td>Run_1</td>\n      <td>Credit</td>\n      <td>10</td>\n    </tr>\n    <tr>\n      <th>1</th>\n      <td>Std</td>\n      <td>0.025866</td>\n      <td>0.035901</td>\n      <td>0.025067</td>\n      <td>101</td>\n      <td>DecisionTreeClassifier</td>\n      <td>{'ccp_alpha': 0.0, 'class_weight': None, 'crit...</td>\n      <td>Run_1</td>\n      <td>Credit</td>\n      <td>10</td>\n    </tr>\n    <tr>\n      <th>2</th>\n      <td>IQR</td>\n      <td>0.032899</td>\n      <td>0.048892</td>\n      <td>0.031627</td>\n      <td>101</td>\n      <td>DecisionTreeClassifier</td>\n      <td>{'ccp_alpha': 0.0, 'class_weight': None, 'crit...</td>\n      <td>Run_1</td>\n      <td>Credit</td>\n      <td>10</td>\n    </tr>\n    <tr>\n      <th>3</th>\n      <td>Entropy</td>\n      <td>0.000000</td>\n      <td>0.000000</td>\n      <td>0.000000</td>\n      <td>101</td>\n      <td>DecisionTreeClassifier</td>\n      <td>{'ccp_alpha': 0.0, 'class_weight': None, 'crit...</td>\n      <td>Run_1</td>\n      <td>Credit</td>\n      <td>10</td>\n    </tr>\n    <tr>\n      <th>4</th>\n      <td>Jitter</td>\n      <td>0.005244</td>\n      <td>0.009227</td>\n      <td>0.004928</td>\n      <td>101</td>\n      <td>DecisionTreeClassifier</td>\n      <td>{'ccp_alpha': 0.0, 'class_weight': None, 'crit...</td>\n      <td>Run_1</td>\n      <td>Credit</td>\n      <td>10</td>\n    </tr>\n    <tr>\n      <th>5</th>\n      <td>Per_Sample_Accuracy</td>\n      <td>0.931160</td>\n      <td>0.880597</td>\n      <td>0.935183</td>\n      <td>101</td>\n      <td>DecisionTreeClassifier</td>\n      <td>{'ccp_alpha': 0.0, 'class_weight': None, 'crit...</td>\n      <td>Run_1</td>\n      <td>Credit</td>\n      <td>10</td>\n    </tr>\n    <tr>\n      <th>6</th>\n      <td>Label_Stability</td>\n      <td>0.994720</td>\n      <td>0.990773</td>\n      <td>0.995034</td>\n      <td>101</td>\n      <td>DecisionTreeClassifier</td>\n      <td>{'ccp_alpha': 0.0, 'class_weight': None, 'crit...</td>\n      <td>Run_1</td>\n      <td>Credit</td>\n      <td>10</td>\n    </tr>\n    <tr>\n      <th>7</th>\n      <td>TPR</td>\n      <td>0.000000</td>\n      <td>0.000000</td>\n      <td>0.000000</td>\n      <td>101</td>\n      <td>DecisionTreeClassifier</td>\n      <td>{'ccp_alpha': 0.0, 'class_weight': None, 'crit...</td>\n      <td>Run_1</td>\n      <td>Credit</td>\n      <td>10</td>\n    </tr>\n    <tr>\n      <th>8</th>\n      <td>TNR</td>\n      <td>0.999678</td>\n      <td>1.000000</td>\n      <td>0.999654</td>\n      <td>101</td>\n      <td>DecisionTreeClassifier</td>\n      <td>{'ccp_alpha': 0.0, 'class_weight': None, 'crit...</td>\n      <td>Run_1</td>\n      <td>Credit</td>\n      <td>10</td>\n    </tr>\n    <tr>\n      <th>9</th>\n      <td>PPV</td>\n      <td>0.000000</td>\n      <td>NaN</td>\n      <td>0.000000</td>\n      <td>101</td>\n      <td>DecisionTreeClassifier</td>\n      <td>{'ccp_alpha': 0.0, 'class_weight': None, 'crit...</td>\n      <td>Run_1</td>\n      <td>Credit</td>\n      <td>10</td>\n    </tr>\n    <tr>\n      <th>10</th>\n      <td>FNR</td>\n      <td>1.000000</td>\n      <td>1.000000</td>\n      <td>1.000000</td>\n      <td>101</td>\n      <td>DecisionTreeClassifier</td>\n      <td>{'ccp_alpha': 0.0, 'class_weight': None, 'crit...</td>\n      <td>Run_1</td>\n      <td>Credit</td>\n      <td>10</td>\n    </tr>\n    <tr>\n      <th>11</th>\n      <td>FPR</td>\n      <td>0.000322</td>\n      <td>0.000000</td>\n      <td>0.000346</td>\n      <td>101</td>\n      <td>DecisionTreeClassifier</td>\n      <td>{'ccp_alpha': 0.0, 'class_weight': None, 'crit...</td>\n      <td>Run_1</td>\n      <td>Credit</td>\n      <td>10</td>\n    </tr>\n    <tr>\n      <th>12</th>\n      <td>Accuracy</td>\n      <td>0.930800</td>\n      <td>0.880597</td>\n      <td>0.934794</td>\n      <td>101</td>\n      <td>DecisionTreeClassifier</td>\n      <td>{'ccp_alpha': 0.0, 'class_weight': None, 'crit...</td>\n      <td>Run_1</td>\n      <td>Credit</td>\n      <td>10</td>\n    </tr>\n    <tr>\n      <th>13</th>\n      <td>F1</td>\n      <td>0.000000</td>\n      <td>0.000000</td>\n      <td>0.000000</td>\n      <td>101</td>\n      <td>DecisionTreeClassifier</td>\n      <td>{'ccp_alpha': 0.0, 'class_weight': None, 'crit...</td>\n      <td>Run_1</td>\n      <td>Credit</td>\n      <td>10</td>\n    </tr>\n    <tr>\n      <th>14</th>\n      <td>Selection-Rate</td>\n      <td>0.000300</td>\n      <td>0.000000</td>\n      <td>0.000324</td>\n      <td>101</td>\n      <td>DecisionTreeClassifier</td>\n      <td>{'ccp_alpha': 0.0, 'class_weight': None, 'crit...</td>\n      <td>Run_1</td>\n      <td>Credit</td>\n      <td>10</td>\n    </tr>\n    <tr>\n      <th>15</th>\n      <td>Positive-Rate</td>\n      <td>0.004354</td>\n      <td>0.000000</td>\n      <td>0.004992</td>\n      <td>101</td>\n      <td>DecisionTreeClassifier</td>\n      <td>{'ccp_alpha': 0.0, 'class_weight': None, 'crit...</td>\n      <td>Run_1</td>\n      <td>Credit</td>\n      <td>10</td>\n    </tr>\n    <tr>\n      <th>0</th>\n      <td>Mean</td>\n      <td>0.935637</td>\n      <td>0.895759</td>\n      <td>0.938810</td>\n      <td>102</td>\n      <td>DecisionTreeClassifier</td>\n      <td>{'ccp_alpha': 0.0, 'class_weight': None, 'crit...</td>\n      <td>Run_2</td>\n      <td>Credit</td>\n      <td>10</td>\n    </tr>\n    <tr>\n      <th>1</th>\n      <td>Std</td>\n      <td>0.026282</td>\n      <td>0.035652</td>\n      <td>0.025536</td>\n      <td>102</td>\n      <td>DecisionTreeClassifier</td>\n      <td>{'ccp_alpha': 0.0, 'class_weight': None, 'crit...</td>\n      <td>Run_2</td>\n      <td>Credit</td>\n      <td>10</td>\n    </tr>\n    <tr>\n      <th>2</th>\n      <td>IQR</td>\n      <td>0.031234</td>\n      <td>0.039467</td>\n      <td>0.030579</td>\n      <td>102</td>\n      <td>DecisionTreeClassifier</td>\n      <td>{'ccp_alpha': 0.0, 'class_weight': None, 'crit...</td>\n      <td>Run_2</td>\n      <td>Credit</td>\n      <td>10</td>\n    </tr>\n    <tr>\n      <th>3</th>\n      <td>Entropy</td>\n      <td>0.000000</td>\n      <td>0.000000</td>\n      <td>0.000000</td>\n      <td>102</td>\n      <td>DecisionTreeClassifier</td>\n      <td>{'ccp_alpha': 0.0, 'class_weight': None, 'crit...</td>\n      <td>Run_2</td>\n      <td>Credit</td>\n      <td>10</td>\n    </tr>\n  </tbody>\n</table>\n</div>"
     },
     "execution_count": 17,
     "metadata": {},
     "output_type": "execute_result"
    }
   ],
   "source": [
    "sample_model_metrics_df = multiple_run_metrics_dct[list(models_params_for_tuning.keys())[0]]\n",
    "sample_model_metrics_df.head(20)"
   ],
   "metadata": {
    "collapsed": false,
    "ExecuteTime": {
     "start_time": "2023-04-20T01:17:56.330986Z",
     "end_time": "2023-04-20T01:17:56.374515Z"
    }
   }
  },
  {
   "cell_type": "markdown",
   "source": [
    "### Experiment iteration 2"
   ],
   "metadata": {
    "collapsed": false
   }
  },
  {
   "cell_type": "code",
   "execution_count": 17,
   "outputs": [],
   "source": [],
   "metadata": {
    "collapsed": false,
    "ExecuteTime": {
     "start_time": "2023-04-20T01:17:56.421712Z",
     "end_time": "2023-04-20T01:17:56.471511Z"
    }
   }
  },
  {
   "cell_type": "code",
   "execution_count": 18,
   "outputs": [],
   "source": [
    "client.close()"
   ],
   "metadata": {
    "collapsed": false,
    "ExecuteTime": {
     "start_time": "2023-04-20T01:17:56.421875Z",
     "end_time": "2023-04-20T01:17:56.472130Z"
    }
   }
  },
  {
   "cell_type": "code",
   "execution_count": 18,
   "outputs": [],
   "source": [],
   "metadata": {
    "collapsed": false,
    "ExecuteTime": {
     "start_time": "2023-04-20T01:17:56.454988Z",
     "end_time": "2023-04-20T01:17:56.505502Z"
    }
   }
  }
 ],
 "metadata": {
  "kernelspec": {
   "display_name": "Python 3 (ipykernel)",
   "language": "python",
   "name": "python3"
  },
  "language_info": {
   "codemirror_mode": {
    "name": "ipython",
    "version": 3
   },
   "file_extension": ".py",
   "mimetype": "text/x-python",
   "name": "python",
   "nbconvert_exporter": "python",
   "pygments_lexer": "ipython3",
   "version": "3.8.10"
  }
 },
 "nbformat": 4,
 "nbformat_minor": 5
}
