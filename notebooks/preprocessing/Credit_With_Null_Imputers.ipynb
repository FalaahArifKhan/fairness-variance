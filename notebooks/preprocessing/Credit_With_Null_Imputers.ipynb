{
 "cells": [
  {
   "cell_type": "code",
   "execution_count": 54,
   "outputs": [],
   "source": [
    "# !pip install -r ../exp_requirements.txt"
   ],
   "metadata": {
    "collapsed": false
   }
  },
  {
   "cell_type": "code",
   "execution_count": 55,
   "outputs": [],
   "source": [
    "# !pip uninstall virny -y"
   ],
   "metadata": {
    "collapsed": false
   }
  },
  {
   "cell_type": "code",
   "execution_count": 56,
   "outputs": [],
   "source": [
    "# Install using an HTTP link\n",
    "# !pip install git+https://github.com/DataResponsibly/Virny.git@development\n",
    "\n",
    "# Install using an SSH link\n",
    "# !pip install git+ssh://git@github.com/DataResponsibly/Virny.git@development"
   ],
   "metadata": {
    "collapsed": false
   }
  },
  {
   "cell_type": "code",
   "execution_count": 57,
   "id": "248cbed8",
   "metadata": {},
   "outputs": [
    {
     "name": "stdout",
     "output_type": "stream",
     "text": [
      "The autoreload extension is already loaded. To reload it, use:\n",
      "  %reload_ext autoreload\n"
     ]
    }
   ],
   "source": [
    "%matplotlib inline\n",
    "%load_ext autoreload\n",
    "%autoreload 2"
   ]
  },
  {
   "cell_type": "code",
   "execution_count": 58,
   "id": "7ec6cd08",
   "metadata": {},
   "outputs": [],
   "source": [
    "import os\n",
    "import warnings\n",
    "warnings.filterwarnings('ignore')\n",
    "os.environ[\"PYTHONWARNINGS\"] = \"ignore\""
   ]
  },
  {
   "cell_type": "markdown",
   "id": "a578f2ab",
   "metadata": {},
   "source": [
    "# Credit Dataset With Null Imputer"
   ]
  },
  {
   "cell_type": "markdown",
   "id": "606df34d",
   "metadata": {},
   "source": [
    "## Import dependencies"
   ]
  },
  {
   "cell_type": "code",
   "execution_count": 59,
   "id": "7a9241de",
   "metadata": {},
   "outputs": [],
   "source": [
    "import os\n",
    "import copy\n",
    "\n",
    "from xgboost import XGBClassifier\n",
    "from sklearn.tree import DecisionTreeClassifier\n",
    "from sklearn.ensemble import RandomForestClassifier\n",
    "from sklearn.linear_model import LogisticRegression\n",
    "from sklearn.neighbors import KNeighborsClassifier\n",
    "from sklearn.neural_network import MLPClassifier\n",
    "\n",
    "from virny.utils.custom_initializers import create_config_obj\n",
    "from virny.datasets.data_loaders import CreditDataset\n",
    "\n",
    "from source.preprocessing import get_null_imputer_preprocessor\n",
    "from source.experiment_interface import run_exp_iteration\n",
    "from configs.constants import NUM_METRICS_COMPUTATION_RUNS, EXPERIMENT_SEEDS"
   ]
  },
  {
   "cell_type": "markdown",
   "id": "75699f5f",
   "metadata": {},
   "source": [
    "## Initialize input variables for the experiment"
   ]
  },
  {
   "cell_type": "code",
   "execution_count": 60,
   "outputs": [],
   "source": [
    "ROOT_DIR = os.path.join(os.getcwd(), \"..\", \"..\")\n",
    "EXPERIMENT_NAME = 'preprocessing'\n",
    "SAVE_RESULTS_DIR_PATH = os.path.join(ROOT_DIR, 'results', EXPERIMENT_NAME)"
   ],
   "metadata": {
    "collapsed": false
   }
  },
  {
   "cell_type": "code",
   "execution_count": 61,
   "outputs": [
    {
     "data": {
      "text/plain": "   RevolvingUtilizationOfUnsecuredLines  age  \\\n1                              0.766127   45   \n2                              0.957151   40   \n3                              0.658180   38   \n4                              0.233810   30   \n5                              0.907239   49   \n\n   NumberOfTime30-59DaysPastDueNotWorse  DebtRatio  MonthlyIncome  \\\n1                                     2   0.802982         9120.0   \n2                                     0   0.121876         2600.0   \n3                                     1   0.085113         3042.0   \n4                                     0   0.036050         3300.0   \n5                                     1   0.024926        63588.0   \n\n   NumberOfOpenCreditLinesAndLoans  NumberOfTimes90DaysLate  \\\n1                               13                        0   \n2                                4                        0   \n3                                2                        1   \n4                                5                        0   \n5                                7                        0   \n\n   NumberRealEstateLoansOrLines  \n1                             6  \n2                             0  \n3                             0  \n4                             0  \n5                             1  ",
      "text/html": "<div>\n<style scoped>\n    .dataframe tbody tr th:only-of-type {\n        vertical-align: middle;\n    }\n\n    .dataframe tbody tr th {\n        vertical-align: top;\n    }\n\n    .dataframe thead th {\n        text-align: right;\n    }\n</style>\n<table border=\"1\" class=\"dataframe\">\n  <thead>\n    <tr style=\"text-align: right;\">\n      <th></th>\n      <th>RevolvingUtilizationOfUnsecuredLines</th>\n      <th>age</th>\n      <th>NumberOfTime30-59DaysPastDueNotWorse</th>\n      <th>DebtRatio</th>\n      <th>MonthlyIncome</th>\n      <th>NumberOfOpenCreditLinesAndLoans</th>\n      <th>NumberOfTimes90DaysLate</th>\n      <th>NumberRealEstateLoansOrLines</th>\n    </tr>\n  </thead>\n  <tbody>\n    <tr>\n      <th>1</th>\n      <td>0.766127</td>\n      <td>45</td>\n      <td>2</td>\n      <td>0.802982</td>\n      <td>9120.0</td>\n      <td>13</td>\n      <td>0</td>\n      <td>6</td>\n    </tr>\n    <tr>\n      <th>2</th>\n      <td>0.957151</td>\n      <td>40</td>\n      <td>0</td>\n      <td>0.121876</td>\n      <td>2600.0</td>\n      <td>4</td>\n      <td>0</td>\n      <td>0</td>\n    </tr>\n    <tr>\n      <th>3</th>\n      <td>0.658180</td>\n      <td>38</td>\n      <td>1</td>\n      <td>0.085113</td>\n      <td>3042.0</td>\n      <td>2</td>\n      <td>1</td>\n      <td>0</td>\n    </tr>\n    <tr>\n      <th>4</th>\n      <td>0.233810</td>\n      <td>30</td>\n      <td>0</td>\n      <td>0.036050</td>\n      <td>3300.0</td>\n      <td>5</td>\n      <td>0</td>\n      <td>0</td>\n    </tr>\n    <tr>\n      <th>5</th>\n      <td>0.907239</td>\n      <td>49</td>\n      <td>1</td>\n      <td>0.024926</td>\n      <td>63588.0</td>\n      <td>7</td>\n      <td>0</td>\n      <td>1</td>\n    </tr>\n  </tbody>\n</table>\n</div>"
     },
     "execution_count": 61,
     "metadata": {},
     "output_type": "execute_result"
    }
   ],
   "source": [
    "data_loader = CreditDataset(subsample_size=50_000)\n",
    "data_loader.X_data.head()"
   ],
   "metadata": {
    "collapsed": false
   }
  },
  {
   "cell_type": "code",
   "execution_count": 62,
   "outputs": [
    {
     "data": {
      "text/plain": "SeriousDlqin2yrs                            0\nRevolvingUtilizationOfUnsecuredLines        0\nage                                         0\nNumberOfTime30-59DaysPastDueNotWorse        0\nDebtRatio                                   0\nMonthlyIncome                           29731\nNumberOfOpenCreditLinesAndLoans             0\nNumberOfTimes90DaysLate                     0\nNumberRealEstateLoansOrLines                0\nNumberOfTime60-89DaysPastDueNotWorse        0\nNumberOfDependents                       3924\ndtype: int64"
     },
     "execution_count": 62,
     "metadata": {},
     "output_type": "execute_result"
    }
   ],
   "source": [
    "data_loader.full_df.isna().sum()"
   ],
   "metadata": {
    "collapsed": false
   }
  },
  {
   "cell_type": "markdown",
   "source": [
    "### Define a db writer and custom fields to insert into your database"
   ],
   "metadata": {
    "collapsed": false
   }
  },
  {
   "cell_type": "code",
   "execution_count": 63,
   "outputs": [
    {
     "name": "stdout",
     "output_type": "stream",
     "text": [
      "Current session uuid:  091fd7d4-98f1-4512-bebd-5652f739aa3d\n"
     ]
    }
   ],
   "source": [
    "import uuid\n",
    "\n",
    "custom_table_fields_dct = {\n",
    "    'session_uuid': str(uuid.uuid4()),\n",
    "    'preprocessing_technique': None,\n",
    "}\n",
    "print('Current session uuid: ', custom_table_fields_dct['session_uuid'])"
   ],
   "metadata": {
    "collapsed": false
   }
  },
  {
   "cell_type": "markdown",
   "source": [
    "### Create a metrics computation config object"
   ],
   "metadata": {
    "collapsed": false
   }
  },
  {
   "cell_type": "code",
   "execution_count": 64,
   "outputs": [],
   "source": [
    "config_yaml_path = 'experiment_config.yaml'\n",
    "age_range = [i for i in range(0, 31)]\n",
    "config_yaml_content = \\\n",
    "f\"\"\"\n",
    "dataset_name: Credit\n",
    "bootstrap_fraction: 0.8\n",
    "n_estimators: 50  # Better to input the higher number of estimators than 100; this is only for this use case example\n",
    "# num_runs: {NUM_METRICS_COMPUTATION_RUNS}\n",
    "num_runs: 2\n",
    "sensitive_attributes_dct: {{'age': {age_range}}}\n",
    "\"\"\"\n",
    "\n",
    "with open(config_yaml_path, 'w', encoding='utf-8') as f:\n",
    "    f.write(config_yaml_content)"
   ],
   "metadata": {
    "collapsed": false
   }
  },
  {
   "cell_type": "code",
   "execution_count": 65,
   "outputs": [],
   "source": [
    "metrics_computation_config = create_config_obj(config_yaml_path=config_yaml_path)"
   ],
   "metadata": {
    "collapsed": false
   }
  },
  {
   "cell_type": "markdown",
   "source": [
    "### Define tuning parameter for models"
   ],
   "metadata": {
    "collapsed": false
   }
  },
  {
   "cell_type": "code",
   "execution_count": 66,
   "outputs": [],
   "source": [
    "def get_models_params_for_tuning(models_tuning_seed):\n",
    "    return {\n",
    "        'DecisionTreeClassifier': {\n",
    "            'model': DecisionTreeClassifier(random_state=models_tuning_seed),\n",
    "            'params': {\n",
    "                \"max_depth\": [20, 30],\n",
    "                \"min_samples_split\" : [0.1],\n",
    "                \"max_features\": ['sqrt'],\n",
    "                \"criterion\": [\"gini\", \"entropy\"]\n",
    "            }\n",
    "        },\n",
    "        'LogisticRegression': {\n",
    "            'model': LogisticRegression(random_state=models_tuning_seed),\n",
    "            'params': {\n",
    "                'penalty': ['l2'],\n",
    "                'C' : [0.0001, 0.1, 1, 100],\n",
    "                'solver': ['newton-cg', 'lbfgs'],\n",
    "                'max_iter': [250],\n",
    "            }\n",
    "        },\n",
    "        # 'RandomForestClassifier': {\n",
    "        #     'model': RandomForestClassifier(random_state=models_tuning_seed),\n",
    "        #     'params': {\n",
    "        #         \"max_depth\": [6, 10],\n",
    "        #         \"min_samples_leaf\": [1],\n",
    "        #         \"n_estimators\": [50, 100],\n",
    "        #         \"max_features\": [0.6]\n",
    "        #     }\n",
    "        # },\n",
    "        # 'XGBClassifier': {\n",
    "        #     'model': XGBClassifier(random_state=models_tuning_seed, verbosity=0),\n",
    "        #     'params': {\n",
    "        #         'learning_rate': [0.1],\n",
    "        #         'n_estimators': [200],\n",
    "        #         'max_depth': [5, 7],\n",
    "        #         'lambda':  [10, 100]\n",
    "        #     }\n",
    "        # },\n",
    "        # 'KNeighborsClassifier': {\n",
    "        #     'model': KNeighborsClassifier(),\n",
    "        #     'params': {\n",
    "        #         'n_neighbors' : [5, 7, 9, 11, 13, 15, 25],\n",
    "        #         'weights' : ['uniform', 'distance'],\n",
    "        #         'metric' : ['minkowski', 'euclidean', 'manhattan']\n",
    "        #     }\n",
    "        # },\n",
    "        # 'MLPClassifier': {\n",
    "        #     'model': MLPClassifier(random_state=models_tuning_seed),\n",
    "        #     'params': {\n",
    "        #         'hidden_layer_sizes':[(100,), (100,100,), (100,50,100,)],\n",
    "        #         'activation': ['logistic', 'tanh', 'relu'],\n",
    "        #         'solver': ['lbfgs', 'sgd', 'adam'],\n",
    "        #         'learning_rate': ['constant', 'invscaling', 'adaptive']\n",
    "        #     }\n",
    "        # }\n",
    "    }"
   ],
   "metadata": {
    "collapsed": false
   }
  },
  {
   "cell_type": "markdown",
   "source": [
    "## Run experiments"
   ],
   "metadata": {
    "collapsed": false
   }
  },
  {
   "cell_type": "markdown",
   "source": [
    "### Experiment iteration 1"
   ],
   "metadata": {
    "collapsed": false
   }
  },
  {
   "cell_type": "code",
   "execution_count": 67,
   "outputs": [],
   "source": [
    "# Configs for an experiment iteration\n",
    "exp_iter_num = 1\n",
    "experiment_seed = EXPERIMENT_SEEDS[exp_iter_num - 1]\n",
    "custom_table_fields_dct['preprocessing_technique'] = 'cat: mode, num: median'\n",
    "custom_table_fields_dct['experiment_iteration'] = f'Exp_iter_{exp_iter_num}'\n",
    "exp_iter_data_loader = copy.deepcopy(data_loader)  # Add deepcopy to avoid data leakage\n",
    "preprocessor = get_null_imputer_preprocessor(exp_iter_data_loader)\n",
    "models_params_for_tuning = get_models_params_for_tuning(experiment_seed)"
   ],
   "metadata": {
    "collapsed": false
   }
  },
  {
   "cell_type": "code",
   "execution_count": 68,
   "id": "2326c129",
   "metadata": {},
   "outputs": [
    {
     "name": "stderr",
     "output_type": "stream",
     "text": [
      "2023-03-28 17:30:06 experiment_interface.py INFO    : Start an experiment iteration for the following custom params: None\n",
      "\n",
      "2023-03-28 17:30:06 experiment_interface.py INFO    : The dataset is preprocessed\n"
     ]
    },
    {
     "name": "stdout",
     "output_type": "stream",
     "text": [
      "{'experiment_iteration': 'Exp_iter_1',\n",
      " 'preprocessing_technique': 'cat: mode, num: median',\n",
      " 'session_uuid': '091fd7d4-98f1-4512-bebd-5652f739aa3d'}\n",
      "2023/03/28, 17:30:06: Tuning DecisionTreeClassifier...\n",
      "Fitting 3 folds for each of 4 candidates, totalling 12 fits\n",
      "2023/03/28, 17:30:08: Tuning for DecisionTreeClassifier is finished [F1 score = 0.4827554309900644, Accuracy = 0.9333222222222223]\n",
      "\n",
      "2023/03/28, 17:30:08: Tuning LogisticRegression...\n",
      "Fitting 3 folds for each of 8 candidates, totalling 24 fits\n"
     ]
    },
    {
     "name": "stderr",
     "output_type": "stream",
     "text": [
      "2023-03-28 17:30:10 experiment_interface.py INFO    : Models are tuned and saved to a file\n",
      "2023-03-28 17:30:10 experiment_interface.py INFO    : Connected to MongoDB\n"
     ]
    },
    {
     "name": "stdout",
     "output_type": "stream",
     "text": [
      "2023/03/28, 17:30:10: Tuning for LogisticRegression is finished [F1 score = 0.49653573582902033, Accuracy = 0.9334444444444444]\n",
      "\n"
     ]
    },
    {
     "data": {
      "text/plain": "Multiple runs progress:   0%|          | 0/2 [00:00<?, ?it/s]",
      "application/vnd.jupyter.widget-view+json": {
       "version_major": 2,
       "version_minor": 0,
       "model_id": "3435e2101bda466dac8aa96f0e773671"
      }
     },
     "metadata": {},
     "output_type": "display_data"
    },
    {
     "data": {
      "text/plain": "Analyze models in one run:   0%|          | 0/2 [00:00<?, ?it/s]",
      "application/vnd.jupyter.widget-view+json": {
       "version_major": 2,
       "version_minor": 0,
       "model_id": "dbb16153ee1341b5ba4a8c1b15f77375"
      }
     },
     "metadata": {},
     "output_type": "display_data"
    },
    {
     "name": "stdout",
     "output_type": "stream",
     "text": [
      "##############################  [Model 1 / 2] Analyze DecisionTreeClassifier  ##############################\n",
      "Model seed:  101\n",
      "\n",
      "\n"
     ]
    },
    {
     "name": "stderr",
     "output_type": "stream",
     "text": [
      "2023-03-28 17:30:10 abstract_overall_variance_analyzer.py INFO    : Start classifiers testing by bootstrap\n"
     ]
    },
    {
     "data": {
      "text/plain": "Classifiers testing by bootstrap:   0%|          | 0/50 [00:00<?, ?it/s]",
      "application/vnd.jupyter.widget-view+json": {
       "version_major": 2,
       "version_minor": 0,
       "model_id": "e5a12f80274b45f79acc7bb68e2b92c5"
      }
     },
     "metadata": {},
     "output_type": "display_data"
    },
    {
     "name": "stdout",
     "output_type": "stream",
     "text": [
      "\n",
      "\n"
     ]
    },
    {
     "name": "stderr",
     "output_type": "stream",
     "text": [
      "2023-03-28 17:30:13 abstract_overall_variance_analyzer.py INFO    : Successfully tested classifiers by bootstrap\n",
      "2023-03-28 17:30:38 abstract_overall_variance_analyzer.py INFO    : Successfully computed predict proba metrics\n"
     ]
    },
    {
     "name": "stdout",
     "output_type": "stream",
     "text": [
      "\n",
      "\n",
      "\n",
      "\n",
      "##############################  [Model 2 / 2] Analyze LogisticRegression  ##############################\n",
      "Model seed:  101\n",
      "\n",
      "\n"
     ]
    },
    {
     "name": "stderr",
     "output_type": "stream",
     "text": [
      "2023-03-28 17:31:04 abstract_overall_variance_analyzer.py INFO    : Start classifiers testing by bootstrap\n"
     ]
    },
    {
     "data": {
      "text/plain": "Classifiers testing by bootstrap:   0%|          | 0/50 [00:00<?, ?it/s]",
      "application/vnd.jupyter.widget-view+json": {
       "version_major": 2,
       "version_minor": 0,
       "model_id": "51e72002273a4830bf428a811dea7a0c"
      }
     },
     "metadata": {},
     "output_type": "display_data"
    },
    {
     "name": "stdout",
     "output_type": "stream",
     "text": [
      "\n",
      "\n"
     ]
    },
    {
     "name": "stderr",
     "output_type": "stream",
     "text": [
      "2023-03-28 17:31:23 abstract_overall_variance_analyzer.py INFO    : Successfully tested classifiers by bootstrap\n",
      "2023-03-28 17:31:46 abstract_overall_variance_analyzer.py INFO    : Successfully computed predict proba metrics\n"
     ]
    },
    {
     "name": "stdout",
     "output_type": "stream",
     "text": [
      "\n",
      "\n",
      "\n",
      "\n"
     ]
    },
    {
     "data": {
      "text/plain": "Analyze models in one run:   0%|          | 0/2 [00:00<?, ?it/s]",
      "application/vnd.jupyter.widget-view+json": {
       "version_major": 2,
       "version_minor": 0,
       "model_id": "784d00f4ccdb4de2ba5fccd94a10cb33"
      }
     },
     "metadata": {},
     "output_type": "display_data"
    },
    {
     "name": "stdout",
     "output_type": "stream",
     "text": [
      "##############################  [Model 1 / 2] Analyze DecisionTreeClassifier  ##############################\n",
      "Model seed:  102\n",
      "\n",
      "\n"
     ]
    },
    {
     "name": "stderr",
     "output_type": "stream",
     "text": [
      "2023-03-28 17:32:09 abstract_overall_variance_analyzer.py INFO    : Start classifiers testing by bootstrap\n"
     ]
    },
    {
     "data": {
      "text/plain": "Classifiers testing by bootstrap:   0%|          | 0/50 [00:00<?, ?it/s]",
      "application/vnd.jupyter.widget-view+json": {
       "version_major": 2,
       "version_minor": 0,
       "model_id": "ddfb433a52e347ceb2760de56192cf9e"
      }
     },
     "metadata": {},
     "output_type": "display_data"
    },
    {
     "name": "stdout",
     "output_type": "stream",
     "text": [
      "\n",
      "\n"
     ]
    },
    {
     "name": "stderr",
     "output_type": "stream",
     "text": [
      "2023-03-28 17:32:13 abstract_overall_variance_analyzer.py INFO    : Successfully tested classifiers by bootstrap\n",
      "2023-03-28 17:32:37 abstract_overall_variance_analyzer.py INFO    : Successfully computed predict proba metrics\n"
     ]
    },
    {
     "name": "stdout",
     "output_type": "stream",
     "text": [
      "\n",
      "\n",
      "\n",
      "\n",
      "##############################  [Model 2 / 2] Analyze LogisticRegression  ##############################\n",
      "Model seed:  102\n",
      "\n",
      "\n"
     ]
    },
    {
     "name": "stderr",
     "output_type": "stream",
     "text": [
      "2023-03-28 17:33:01 abstract_overall_variance_analyzer.py INFO    : Start classifiers testing by bootstrap\n"
     ]
    },
    {
     "data": {
      "text/plain": "Classifiers testing by bootstrap:   0%|          | 0/50 [00:00<?, ?it/s]",
      "application/vnd.jupyter.widget-view+json": {
       "version_major": 2,
       "version_minor": 0,
       "model_id": "4e5af89c339649409fbcaa0a4a263bda"
      }
     },
     "metadata": {},
     "output_type": "display_data"
    },
    {
     "name": "stdout",
     "output_type": "stream",
     "text": [
      "\n",
      "\n"
     ]
    },
    {
     "name": "stderr",
     "output_type": "stream",
     "text": [
      "2023-03-28 17:33:21 abstract_overall_variance_analyzer.py INFO    : Successfully tested classifiers by bootstrap\n",
      "2023-03-28 17:33:46 abstract_overall_variance_analyzer.py INFO    : Successfully computed predict proba metrics\n",
      "2023-03-28 17:34:11 experiment_interface.py INFO    : Metrics are computed\n"
     ]
    },
    {
     "name": "stdout",
     "output_type": "stream",
     "text": [
      "\n",
      "\n",
      "\n",
      "\n"
     ]
    }
   ],
   "source": [
    "multiple_run_metrics_dct = run_exp_iteration(data_loader=exp_iter_data_loader,\n",
    "                                             experiment_seed=experiment_seed,\n",
    "                                             preprocessor=preprocessor,\n",
    "                                             models_params_for_tuning=models_params_for_tuning,\n",
    "                                             metrics_computation_config=metrics_computation_config,\n",
    "                                             custom_table_fields_dct=custom_table_fields_dct,\n",
    "                                             with_tuning=True,\n",
    "                                             save_results_dir_path=SAVE_RESULTS_DIR_PATH,\n",
    "                                             tuned_params_df_path=None)"
   ]
  },
  {
   "cell_type": "code",
   "execution_count": 69,
   "outputs": [
    {
     "data": {
      "text/plain": "                 Metric   overall  age_priv   age_dis  Model_Seed  \\\n0                  Mean  0.932808  0.895988  0.935620         101   \n1                   Std  0.024318  0.032874  0.023665         101   \n2                   IQR  0.035657  0.051088  0.034479         101   \n3               Entropy  0.000000  0.000000  0.000000         101   \n4                Jitter  0.008712  0.015042  0.008229         101   \n5   Per_Sample_Accuracy  0.933358  0.892058  0.936511         101   \n6       Label_Stability  0.989676  0.982049  0.990258         101   \n7                   TPR  0.000000  0.000000  0.000000         101   \n8                   TNR  1.000000  1.000000  1.000000         101   \n9                   PPV       NaN       NaN       NaN         101   \n10                  FNR  1.000000  1.000000  1.000000         101   \n11                  FPR  0.000000  0.000000  0.000000         101   \n12             Accuracy  0.933667  0.893327  0.936747         101   \n13                   F1  0.000000  0.000000  0.000000         101   \n14       Selection-Rate  0.000000  0.000000  0.000000         101   \n15        Positive-Rate  0.000000  0.000000  0.000000         101   \n0                  Mean  0.932503  0.888986  0.935826         102   \n1                   Std  0.025156  0.034680  0.024429         102   \n2                   IQR  0.036400  0.048664  0.035463         102   \n3               Entropy  0.000000  0.000000  0.000000         102   \n\n                Model_Name                                       Model_Params  \\\n0   DecisionTreeClassifier  {'ccp_alpha': 0.0, 'class_weight': None, 'crit...   \n1   DecisionTreeClassifier  {'ccp_alpha': 0.0, 'class_weight': None, 'crit...   \n2   DecisionTreeClassifier  {'ccp_alpha': 0.0, 'class_weight': None, 'crit...   \n3   DecisionTreeClassifier  {'ccp_alpha': 0.0, 'class_weight': None, 'crit...   \n4   DecisionTreeClassifier  {'ccp_alpha': 0.0, 'class_weight': None, 'crit...   \n5   DecisionTreeClassifier  {'ccp_alpha': 0.0, 'class_weight': None, 'crit...   \n6   DecisionTreeClassifier  {'ccp_alpha': 0.0, 'class_weight': None, 'crit...   \n7   DecisionTreeClassifier  {'ccp_alpha': 0.0, 'class_weight': None, 'crit...   \n8   DecisionTreeClassifier  {'ccp_alpha': 0.0, 'class_weight': None, 'crit...   \n9   DecisionTreeClassifier  {'ccp_alpha': 0.0, 'class_weight': None, 'crit...   \n10  DecisionTreeClassifier  {'ccp_alpha': 0.0, 'class_weight': None, 'crit...   \n11  DecisionTreeClassifier  {'ccp_alpha': 0.0, 'class_weight': None, 'crit...   \n12  DecisionTreeClassifier  {'ccp_alpha': 0.0, 'class_weight': None, 'crit...   \n13  DecisionTreeClassifier  {'ccp_alpha': 0.0, 'class_weight': None, 'crit...   \n14  DecisionTreeClassifier  {'ccp_alpha': 0.0, 'class_weight': None, 'crit...   \n15  DecisionTreeClassifier  {'ccp_alpha': 0.0, 'class_weight': None, 'crit...   \n0   DecisionTreeClassifier  {'ccp_alpha': 0.0, 'class_weight': None, 'crit...   \n1   DecisionTreeClassifier  {'ccp_alpha': 0.0, 'class_weight': None, 'crit...   \n2   DecisionTreeClassifier  {'ccp_alpha': 0.0, 'class_weight': None, 'crit...   \n3   DecisionTreeClassifier  {'ccp_alpha': 0.0, 'class_weight': None, 'crit...   \n\n   Run_Number Dataset_Name  Num_Estimators  \n0       Run_1       Credit              50  \n1       Run_1       Credit              50  \n2       Run_1       Credit              50  \n3       Run_1       Credit              50  \n4       Run_1       Credit              50  \n5       Run_1       Credit              50  \n6       Run_1       Credit              50  \n7       Run_1       Credit              50  \n8       Run_1       Credit              50  \n9       Run_1       Credit              50  \n10      Run_1       Credit              50  \n11      Run_1       Credit              50  \n12      Run_1       Credit              50  \n13      Run_1       Credit              50  \n14      Run_1       Credit              50  \n15      Run_1       Credit              50  \n0       Run_2       Credit              50  \n1       Run_2       Credit              50  \n2       Run_2       Credit              50  \n3       Run_2       Credit              50  ",
      "text/html": "<div>\n<style scoped>\n    .dataframe tbody tr th:only-of-type {\n        vertical-align: middle;\n    }\n\n    .dataframe tbody tr th {\n        vertical-align: top;\n    }\n\n    .dataframe thead th {\n        text-align: right;\n    }\n</style>\n<table border=\"1\" class=\"dataframe\">\n  <thead>\n    <tr style=\"text-align: right;\">\n      <th></th>\n      <th>Metric</th>\n      <th>overall</th>\n      <th>age_priv</th>\n      <th>age_dis</th>\n      <th>Model_Seed</th>\n      <th>Model_Name</th>\n      <th>Model_Params</th>\n      <th>Run_Number</th>\n      <th>Dataset_Name</th>\n      <th>Num_Estimators</th>\n    </tr>\n  </thead>\n  <tbody>\n    <tr>\n      <th>0</th>\n      <td>Mean</td>\n      <td>0.932808</td>\n      <td>0.895988</td>\n      <td>0.935620</td>\n      <td>101</td>\n      <td>DecisionTreeClassifier</td>\n      <td>{'ccp_alpha': 0.0, 'class_weight': None, 'crit...</td>\n      <td>Run_1</td>\n      <td>Credit</td>\n      <td>50</td>\n    </tr>\n    <tr>\n      <th>1</th>\n      <td>Std</td>\n      <td>0.024318</td>\n      <td>0.032874</td>\n      <td>0.023665</td>\n      <td>101</td>\n      <td>DecisionTreeClassifier</td>\n      <td>{'ccp_alpha': 0.0, 'class_weight': None, 'crit...</td>\n      <td>Run_1</td>\n      <td>Credit</td>\n      <td>50</td>\n    </tr>\n    <tr>\n      <th>2</th>\n      <td>IQR</td>\n      <td>0.035657</td>\n      <td>0.051088</td>\n      <td>0.034479</td>\n      <td>101</td>\n      <td>DecisionTreeClassifier</td>\n      <td>{'ccp_alpha': 0.0, 'class_weight': None, 'crit...</td>\n      <td>Run_1</td>\n      <td>Credit</td>\n      <td>50</td>\n    </tr>\n    <tr>\n      <th>3</th>\n      <td>Entropy</td>\n      <td>0.000000</td>\n      <td>0.000000</td>\n      <td>0.000000</td>\n      <td>101</td>\n      <td>DecisionTreeClassifier</td>\n      <td>{'ccp_alpha': 0.0, 'class_weight': None, 'crit...</td>\n      <td>Run_1</td>\n      <td>Credit</td>\n      <td>50</td>\n    </tr>\n    <tr>\n      <th>4</th>\n      <td>Jitter</td>\n      <td>0.008712</td>\n      <td>0.015042</td>\n      <td>0.008229</td>\n      <td>101</td>\n      <td>DecisionTreeClassifier</td>\n      <td>{'ccp_alpha': 0.0, 'class_weight': None, 'crit...</td>\n      <td>Run_1</td>\n      <td>Credit</td>\n      <td>50</td>\n    </tr>\n    <tr>\n      <th>5</th>\n      <td>Per_Sample_Accuracy</td>\n      <td>0.933358</td>\n      <td>0.892058</td>\n      <td>0.936511</td>\n      <td>101</td>\n      <td>DecisionTreeClassifier</td>\n      <td>{'ccp_alpha': 0.0, 'class_weight': None, 'crit...</td>\n      <td>Run_1</td>\n      <td>Credit</td>\n      <td>50</td>\n    </tr>\n    <tr>\n      <th>6</th>\n      <td>Label_Stability</td>\n      <td>0.989676</td>\n      <td>0.982049</td>\n      <td>0.990258</td>\n      <td>101</td>\n      <td>DecisionTreeClassifier</td>\n      <td>{'ccp_alpha': 0.0, 'class_weight': None, 'crit...</td>\n      <td>Run_1</td>\n      <td>Credit</td>\n      <td>50</td>\n    </tr>\n    <tr>\n      <th>7</th>\n      <td>TPR</td>\n      <td>0.000000</td>\n      <td>0.000000</td>\n      <td>0.000000</td>\n      <td>101</td>\n      <td>DecisionTreeClassifier</td>\n      <td>{'ccp_alpha': 0.0, 'class_weight': None, 'crit...</td>\n      <td>Run_1</td>\n      <td>Credit</td>\n      <td>50</td>\n    </tr>\n    <tr>\n      <th>8</th>\n      <td>TNR</td>\n      <td>1.000000</td>\n      <td>1.000000</td>\n      <td>1.000000</td>\n      <td>101</td>\n      <td>DecisionTreeClassifier</td>\n      <td>{'ccp_alpha': 0.0, 'class_weight': None, 'crit...</td>\n      <td>Run_1</td>\n      <td>Credit</td>\n      <td>50</td>\n    </tr>\n    <tr>\n      <th>9</th>\n      <td>PPV</td>\n      <td>NaN</td>\n      <td>NaN</td>\n      <td>NaN</td>\n      <td>101</td>\n      <td>DecisionTreeClassifier</td>\n      <td>{'ccp_alpha': 0.0, 'class_weight': None, 'crit...</td>\n      <td>Run_1</td>\n      <td>Credit</td>\n      <td>50</td>\n    </tr>\n    <tr>\n      <th>10</th>\n      <td>FNR</td>\n      <td>1.000000</td>\n      <td>1.000000</td>\n      <td>1.000000</td>\n      <td>101</td>\n      <td>DecisionTreeClassifier</td>\n      <td>{'ccp_alpha': 0.0, 'class_weight': None, 'crit...</td>\n      <td>Run_1</td>\n      <td>Credit</td>\n      <td>50</td>\n    </tr>\n    <tr>\n      <th>11</th>\n      <td>FPR</td>\n      <td>0.000000</td>\n      <td>0.000000</td>\n      <td>0.000000</td>\n      <td>101</td>\n      <td>DecisionTreeClassifier</td>\n      <td>{'ccp_alpha': 0.0, 'class_weight': None, 'crit...</td>\n      <td>Run_1</td>\n      <td>Credit</td>\n      <td>50</td>\n    </tr>\n    <tr>\n      <th>12</th>\n      <td>Accuracy</td>\n      <td>0.933667</td>\n      <td>0.893327</td>\n      <td>0.936747</td>\n      <td>101</td>\n      <td>DecisionTreeClassifier</td>\n      <td>{'ccp_alpha': 0.0, 'class_weight': None, 'crit...</td>\n      <td>Run_1</td>\n      <td>Credit</td>\n      <td>50</td>\n    </tr>\n    <tr>\n      <th>13</th>\n      <td>F1</td>\n      <td>0.000000</td>\n      <td>0.000000</td>\n      <td>0.000000</td>\n      <td>101</td>\n      <td>DecisionTreeClassifier</td>\n      <td>{'ccp_alpha': 0.0, 'class_weight': None, 'crit...</td>\n      <td>Run_1</td>\n      <td>Credit</td>\n      <td>50</td>\n    </tr>\n    <tr>\n      <th>14</th>\n      <td>Selection-Rate</td>\n      <td>0.000000</td>\n      <td>0.000000</td>\n      <td>0.000000</td>\n      <td>101</td>\n      <td>DecisionTreeClassifier</td>\n      <td>{'ccp_alpha': 0.0, 'class_weight': None, 'crit...</td>\n      <td>Run_1</td>\n      <td>Credit</td>\n      <td>50</td>\n    </tr>\n    <tr>\n      <th>15</th>\n      <td>Positive-Rate</td>\n      <td>0.000000</td>\n      <td>0.000000</td>\n      <td>0.000000</td>\n      <td>101</td>\n      <td>DecisionTreeClassifier</td>\n      <td>{'ccp_alpha': 0.0, 'class_weight': None, 'crit...</td>\n      <td>Run_1</td>\n      <td>Credit</td>\n      <td>50</td>\n    </tr>\n    <tr>\n      <th>0</th>\n      <td>Mean</td>\n      <td>0.932503</td>\n      <td>0.888986</td>\n      <td>0.935826</td>\n      <td>102</td>\n      <td>DecisionTreeClassifier</td>\n      <td>{'ccp_alpha': 0.0, 'class_weight': None, 'crit...</td>\n      <td>Run_2</td>\n      <td>Credit</td>\n      <td>50</td>\n    </tr>\n    <tr>\n      <th>1</th>\n      <td>Std</td>\n      <td>0.025156</td>\n      <td>0.034680</td>\n      <td>0.024429</td>\n      <td>102</td>\n      <td>DecisionTreeClassifier</td>\n      <td>{'ccp_alpha': 0.0, 'class_weight': None, 'crit...</td>\n      <td>Run_2</td>\n      <td>Credit</td>\n      <td>50</td>\n    </tr>\n    <tr>\n      <th>2</th>\n      <td>IQR</td>\n      <td>0.036400</td>\n      <td>0.048664</td>\n      <td>0.035463</td>\n      <td>102</td>\n      <td>DecisionTreeClassifier</td>\n      <td>{'ccp_alpha': 0.0, 'class_weight': None, 'crit...</td>\n      <td>Run_2</td>\n      <td>Credit</td>\n      <td>50</td>\n    </tr>\n    <tr>\n      <th>3</th>\n      <td>Entropy</td>\n      <td>0.000000</td>\n      <td>0.000000</td>\n      <td>0.000000</td>\n      <td>102</td>\n      <td>DecisionTreeClassifier</td>\n      <td>{'ccp_alpha': 0.0, 'class_weight': None, 'crit...</td>\n      <td>Run_2</td>\n      <td>Credit</td>\n      <td>50</td>\n    </tr>\n  </tbody>\n</table>\n</div>"
     },
     "execution_count": 69,
     "metadata": {},
     "output_type": "execute_result"
    }
   ],
   "source": [
    "sample_model_metrics_df = multiple_run_metrics_dct[list(models_params_for_tuning.keys())[0]]\n",
    "sample_model_metrics_df.head(20)"
   ],
   "metadata": {
    "collapsed": false
   }
  },
  {
   "cell_type": "markdown",
   "source": [
    "### Experiment iteration 2"
   ],
   "metadata": {
    "collapsed": false
   }
  },
  {
   "cell_type": "code",
   "execution_count": 69,
   "outputs": [],
   "source": [],
   "metadata": {
    "collapsed": false
   }
  }
 ],
 "metadata": {
  "kernelspec": {
   "display_name": "Python 3 (ipykernel)",
   "language": "python",
   "name": "python3"
  },
  "language_info": {
   "codemirror_mode": {
    "name": "ipython",
    "version": 3
   },
   "file_extension": ".py",
   "mimetype": "text/x-python",
   "name": "python",
   "nbconvert_exporter": "python",
   "pygments_lexer": "ipython3",
   "version": "3.8.10"
  }
 },
 "nbformat": 4,
 "nbformat_minor": 5
}
