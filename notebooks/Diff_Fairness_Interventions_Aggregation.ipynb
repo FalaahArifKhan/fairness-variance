{
 "cells": [
  {
   "cell_type": "code",
   "execution_count": 1,
   "outputs": [],
   "source": [
    "# !pip install duckdb==0.10.1"
   ],
   "metadata": {
    "collapsed": false,
    "ExecuteTime": {
     "end_time": "2024-04-04T21:14:12.787064Z",
     "start_time": "2024-04-04T21:14:12.738852Z"
    }
   },
   "id": "aecc7422a6c36c9e"
  },
  {
   "cell_type": "code",
   "execution_count": 2,
   "outputs": [],
   "source": [
    "%matplotlib inline\n",
    "%load_ext autoreload\n",
    "%autoreload 2"
   ],
   "metadata": {
    "collapsed": false,
    "ExecuteTime": {
     "end_time": "2024-04-04T21:14:13.060694Z",
     "start_time": "2024-04-04T21:14:12.744837Z"
    }
   },
   "id": "initial_id"
  },
  {
   "cell_type": "code",
   "execution_count": 3,
   "outputs": [],
   "source": [
    "import os\n",
    "import warnings\n",
    "warnings.filterwarnings('ignore')\n",
    "os.environ[\"PYTHONWARNINGS\"] = \"ignore\""
   ],
   "metadata": {
    "collapsed": false,
    "ExecuteTime": {
     "end_time": "2024-04-04T21:14:13.069929Z",
     "start_time": "2024-04-04T21:14:13.061341Z"
    }
   },
   "id": "1265cf0fe4eed7df"
  },
  {
   "cell_type": "code",
   "execution_count": 4,
   "outputs": [
    {
     "name": "stdout",
     "output_type": "stream",
     "text": [
      "Current location:  /Users/denys_herasymuk/UCU/4course_2term/Bachelor_Thesis/Code/fairness-variance\n"
     ]
    }
   ],
   "source": [
    "cur_folder_name = os.getcwd().split('/')[-1]\n",
    "if cur_folder_name != \"fairness-variance\":\n",
    "    os.chdir(\"..\")\n",
    "\n",
    "print('Current location: ', os.getcwd())"
   ],
   "metadata": {
    "collapsed": false,
    "ExecuteTime": {
     "end_time": "2024-04-04T21:14:13.082109Z",
     "start_time": "2024-04-04T21:14:13.071091Z"
    }
   },
   "id": "98d68df45a9d0aa7"
  },
  {
   "cell_type": "markdown",
   "source": [
    "# Aggregations for Different Fairness Interventions"
   ],
   "metadata": {
    "collapsed": false
   },
   "id": "16c6dbd6e3a7c4b9"
  },
  {
   "cell_type": "code",
   "execution_count": 5,
   "outputs": [],
   "source": [
    "import duckdb\n",
    "import pandas as pd"
   ],
   "metadata": {
    "collapsed": false,
    "ExecuteTime": {
     "end_time": "2024-04-04T21:14:13.351013Z",
     "start_time": "2024-04-04T21:14:13.081530Z"
    }
   },
   "id": "9b15cd5fc9688a78"
  },
  {
   "cell_type": "markdown",
   "source": [
    "## Initialize Configs"
   ],
   "metadata": {
    "collapsed": false
   },
   "id": "314436639a088474"
  },
  {
   "cell_type": "code",
   "execution_count": 6,
   "outputs": [],
   "source": [
    "DB_COLLECTION_NAME = 'one_repair_lvl_many_models'\n",
    "DATASETS_DB_CONFIG = {\n",
    "    'Folktables_GA_2018_Income': {\n",
    "        'Baseline': 'ac796b56-9c83-474a-8e7a-2d95ee5efa7e',\n",
    "        'LFR': '3855ad0b-4d2e-4baf-a5a8-6e3e92f624ba',\n",
    "        'DIR': 'f009c98f-b732-44cf-9084-4bf12c11bdcf',\n",
    "        'AdversarialDebiasing': 'bbba3cc4-760b-4e93-bb97-3a2077202cce',\n",
    "        'ExponentiatedGradientReduction': '9c5d2ffc-834e-4a7d-abc0-49dd26950c6d',\n",
    "        'EqOddsPostprocessing': '3976c1bf-99fa-49f4-97ec-44b13cb64ef4',\n",
    "        'ROC': '426f4b41-5b22-4118-b5c8-15a0ab4aa18f',\n",
    "    },\n",
    "    'Folktables_CA_2018_Public_Coverage': {\n",
    "        'Baseline': 'c36d3f62-2edd-4df4-97db-a9c3cb5be8ed',\n",
    "        'LFR': '3021b0c7-483d-4682-9dc6-bb4a2cf90020',\n",
    "        'DIR': 'ac38ec40-c789-4f7e-91be-9ffb55bc3e6f',\n",
    "        'AdversarialDebiasing': 'bf843ff8-62e9-4aac-83bc-d805e3299fdc',\n",
    "        'ExponentiatedGradientReduction': 'dffb2122-b870-40d5-92b2-f0f6bfb730f0',\n",
    "        'EqOddsPostprocessing': 'c1fbe1ae-f5e9-4ca1-8f38-abe1b118f95b',\n",
    "        'ROC': 'aa7a7273-bf7c-44f9-becc-3b0384b722c5',\n",
    "    },\n",
    "    'Law_School': {\n",
    "        'Baseline': 'b37c9c58-ed69-425c-b3d5-8f1ffd3adcd6',\n",
    "        'LFR': 'a1345526-1623-4fc7-b1a4-2a7790c4eef5',\n",
    "        'DIR': '336e4621-fef9-4722-a3c1-b2ecca7e7f45',\n",
    "        'AdversarialDebiasing': '594152d2-738f-43f3-87ac-e98b98a17b4a',\n",
    "        'ExponentiatedGradientReduction': '5a766803-decf-487f-bc23-bade50373a6e',\n",
    "        'EqOddsPostprocessing': '567e7e80-5ed4-4a45-8927-2f7b61ba5647',\n",
    "        'ROC': 'b1f109f5-3def-4da0-872b-6f0f1a9be953',\n",
    "    },\n",
    "    'Student_Performance_Por': {\n",
    "        'Baseline': '647daccf-7c14-463c-99ab-ef16972dba80',\n",
    "        'LFR': '638da338-6a90-44a7-a835-17f062b941fb',\n",
    "        'DIR': '647daccf-7c14-463c-99ab-ef16972dba80',\n",
    "        'AdversarialDebiasing': '7bd775d4-0821-4711-8eed-902c990fbc94',\n",
    "        'ExponentiatedGradientReduction': '65f39387-1ed2-4e6d-9670-ae8c552a0f65',\n",
    "        'EqOddsPostprocessing': 'b35e31f2-bb03-494f-a24c-b9264e383667',\n",
    "        'ROC': '0626d80f-e288-4f16-b8ab-260eb34d62d3',\n",
    "    },\n",
    "}\n",
    "DATASET_NAMES = list(DATASETS_DB_CONFIG.keys())\n",
    "DATASETS_SENSITIVE_ATTRS = {\n",
    "    'Folktables_GA_2018_Income': ['SEX', 'RAC1P', 'SEX&RAC1P'],\n",
    "    'Law_School': ['male', 'race', 'male&race'],\n",
    "    'Folktables_CA_2018_Public_Coverage': ['SEX', 'RAC1P', 'SEX&RAC1P'],\n",
    "    'Student_Performance_Por': ['sex'],\n",
    "}"
   ],
   "metadata": {
    "collapsed": false,
    "ExecuteTime": {
     "end_time": "2024-04-04T21:14:13.364368Z",
     "start_time": "2024-04-04T21:14:13.352691Z"
    }
   },
   "id": "8bb630838771304f"
  },
  {
   "cell_type": "code",
   "execution_count": 7,
   "outputs": [],
   "source": [
    "vals_to_replace = {\n",
    "    'Model_Name': {\n",
    "        'LGBMClassifier': 'LGBM',\n",
    "        'LogisticRegression': 'LR',\n",
    "        'RandomForestClassifier': 'RF',\n",
    "        'MLPClassifier': 'MLP',\n",
    "        'AdversarialDebiasing': 'In-processing',\n",
    "        'ExponentiatedGradientReduction': 'In-processing',\n",
    "    }\n",
    "}"
   ],
   "metadata": {
    "collapsed": false,
    "ExecuteTime": {
     "end_time": "2024-04-04T21:14:13.377675Z",
     "start_time": "2024-04-04T21:14:13.365074Z"
    }
   },
   "id": "a5efc6e36d060069"
  },
  {
   "cell_type": "markdown",
   "source": [
    "## Group Metrics Composition"
   ],
   "metadata": {
    "collapsed": false
   },
   "id": "b38bce361c504b91"
  },
  {
   "cell_type": "code",
   "execution_count": 8,
   "outputs": [],
   "source": [
    "all_subgroup_metrics_df = pd.read_csv(os.path.join(os.getcwd(), 'results', 'diff_fairness_interventions_subgroup_metrics.csv'), header=0)\n",
    "all_group_metrics_df = pd.read_csv(os.path.join(os.getcwd(), 'results', 'diff_fairness_interventions_group_metrics.csv'), header=0)"
   ],
   "metadata": {
    "collapsed": false,
    "ExecuteTime": {
     "end_time": "2024-04-04T21:14:13.544069Z",
     "start_time": "2024-04-04T21:14:13.376059Z"
    }
   },
   "id": "ff623b479a8903a2"
  },
  {
   "cell_type": "code",
   "execution_count": 9,
   "outputs": [],
   "source": [
    "all_subgroup_metrics_df = all_subgroup_metrics_df.replace(vals_to_replace)\n",
    "all_group_metrics_df = all_group_metrics_df.replace(vals_to_replace)"
   ],
   "metadata": {
    "collapsed": false,
    "ExecuteTime": {
     "end_time": "2024-04-04T21:14:13.588471Z",
     "start_time": "2024-04-04T21:14:13.544245Z"
    }
   },
   "id": "168e5336e6203c5c"
  },
  {
   "cell_type": "code",
   "execution_count": 10,
   "outputs": [
    {
     "data": {
      "text/plain": "                   Metric Model_Name               Dataset_Name  \\\n0                     IQR       LGBM  Folktables_GA_2018_Income   \n1         Mean_Prediction       LGBM  Folktables_GA_2018_Income   \n2     Overall_Uncertainty       LGBM  Folktables_GA_2018_Income   \n3   Aleatoric_Uncertainty       LGBM  Folktables_GA_2018_Income   \n4   Epistemic_Uncertainty       LGBM  Folktables_GA_2018_Income   \n5                     PPV       LGBM  Folktables_GA_2018_Income   \n6                     FPR       LGBM  Folktables_GA_2018_Income   \n7     Overall_Uncertainty       LGBM  Folktables_GA_2018_Income   \n8   Epistemic_Uncertainty       LGBM  Folktables_GA_2018_Income   \n9         Label_Stability       LGBM  Folktables_GA_2018_Income   \n10                    FNR       LGBM  Folktables_GA_2018_Income   \n11                     F1       LGBM  Folktables_GA_2018_Income   \n12          Positive-Rate       LGBM  Folktables_GA_2018_Income   \n13                    Std       LGBM  Folktables_GA_2018_Income   \n14    Overall_Uncertainty       LGBM  Folktables_GA_2018_Income   \n15                    PPV       LGBM  Folktables_GA_2018_Income   \n16                    FPR       LGBM  Folktables_GA_2018_Income   \n17          Positive-Rate       LGBM  Folktables_GA_2018_Income   \n18                    IQR       LGBM  Folktables_GA_2018_Income   \n19  Epistemic_Uncertainty       LGBM  Folktables_GA_2018_Income   \n\n    Num_Estimators  Record_Create_Date_Time  \\\n0              200  2024-01-06 18:59:47.583   \n1              200  2024-01-06 18:59:47.583   \n2              200  2024-01-06 18:59:47.583   \n3              200  2024-01-06 18:59:47.583   \n4              200  2024-01-06 18:59:47.583   \n5              200  2024-01-06 18:59:47.583   \n6              200  2024-01-06 18:59:47.583   \n7              200  2024-01-06 18:59:47.583   \n8              200  2024-01-06 18:59:47.583   \n9              200  2024-01-06 18:59:47.583   \n10             200  2024-01-06 18:59:47.583   \n11             200  2024-01-06 18:59:47.583   \n12             200  2024-01-06 18:59:47.583   \n13             200  2024-01-06 18:59:47.583   \n14             200  2024-01-06 18:59:47.583   \n15             200  2024-01-06 18:59:47.583   \n16             200  2024-01-06 18:59:47.583   \n17             200  2024-01-06 18:59:47.583   \n18             200  2024-01-06 18:59:47.583   \n19             200  2024-01-06 18:59:47.583   \n\n                            Session_Uuid Experiment_Iteration  \\\n0   ac796b56-9c83-474a-8e7a-2d95ee5efa7e           Exp_iter_1   \n1   ac796b56-9c83-474a-8e7a-2d95ee5efa7e           Exp_iter_1   \n2   ac796b56-9c83-474a-8e7a-2d95ee5efa7e           Exp_iter_1   \n3   ac796b56-9c83-474a-8e7a-2d95ee5efa7e           Exp_iter_1   \n4   ac796b56-9c83-474a-8e7a-2d95ee5efa7e           Exp_iter_1   \n5   ac796b56-9c83-474a-8e7a-2d95ee5efa7e           Exp_iter_1   \n6   ac796b56-9c83-474a-8e7a-2d95ee5efa7e           Exp_iter_1   \n7   ac796b56-9c83-474a-8e7a-2d95ee5efa7e           Exp_iter_1   \n8   ac796b56-9c83-474a-8e7a-2d95ee5efa7e           Exp_iter_1   \n9   ac796b56-9c83-474a-8e7a-2d95ee5efa7e           Exp_iter_1   \n10  ac796b56-9c83-474a-8e7a-2d95ee5efa7e           Exp_iter_1   \n11  ac796b56-9c83-474a-8e7a-2d95ee5efa7e           Exp_iter_1   \n12  ac796b56-9c83-474a-8e7a-2d95ee5efa7e           Exp_iter_1   \n13  ac796b56-9c83-474a-8e7a-2d95ee5efa7e           Exp_iter_1   \n14  ac796b56-9c83-474a-8e7a-2d95ee5efa7e           Exp_iter_1   \n15  ac796b56-9c83-474a-8e7a-2d95ee5efa7e           Exp_iter_1   \n16  ac796b56-9c83-474a-8e7a-2d95ee5efa7e           Exp_iter_1   \n17  ac796b56-9c83-474a-8e7a-2d95ee5efa7e           Exp_iter_1   \n18  ac796b56-9c83-474a-8e7a-2d95ee5efa7e           Exp_iter_1   \n19  ac796b56-9c83-474a-8e7a-2d95ee5efa7e           Exp_iter_1   \n\n    Dataset_Split_Seed Fair_Intervention_Params_Lst Intervention_Param  \\\n0                  100                        [0.0]                0.0   \n1                  100                        [0.0]                0.0   \n2                  100                        [0.0]                0.0   \n3                  100                        [0.0]                0.0   \n4                  100                        [0.0]                0.0   \n5                  100                        [0.0]                0.0   \n6                  100                        [0.0]                0.0   \n7                  100                        [0.0]                0.0   \n8                  100                        [0.0]                0.0   \n9                  100                        [0.0]                0.0   \n10                 100                        [0.0]                0.0   \n11                 100                        [0.0]                0.0   \n12                 100                        [0.0]                0.0   \n13                 100                        [0.0]                0.0   \n14                 100                        [0.0]                0.0   \n15                 100                        [0.0]                0.0   \n16                 100                        [0.0]                0.0   \n17                 100                        [0.0]                0.0   \n18                 100                        [0.0]                0.0   \n19                 100                        [0.0]                0.0   \n\n              Subgroup  Metric_Value Fairness_Intervention  \n0             SEX_priv      0.065426              Baseline  \n1             SEX_priv      0.616530              Baseline  \n2             SEX_priv      0.647023              Baseline  \n3             SEX_priv      0.634515              Baseline  \n4             SEX_priv      0.012508              Baseline  \n5             SEX_priv      0.758273              Baseline  \n6             SEX_priv      0.145833              Baseline  \n7     SEX_priv_correct      0.587053              Baseline  \n8     SEX_priv_correct      0.011259              Baseline  \n9     SEX_priv_correct      0.936248              Baseline  \n10    SEX_priv_correct      0.000000              Baseline  \n11    SEX_priv_correct      1.000000              Baseline  \n12    SEX_priv_correct      1.000000              Baseline  \n13  SEX_priv_incorrect      0.066275              Baseline  \n14  SEX_priv_incorrect      0.851111              Baseline  \n15  SEX_priv_incorrect      0.000000              Baseline  \n16  SEX_priv_incorrect      1.000000              Baseline  \n17  SEX_priv_incorrect      0.608696              Baseline  \n18             SEX_dis      0.063619              Baseline  \n19             SEX_dis      0.012704              Baseline  ",
      "text/html": "<div>\n<style scoped>\n    .dataframe tbody tr th:only-of-type {\n        vertical-align: middle;\n    }\n\n    .dataframe tbody tr th {\n        vertical-align: top;\n    }\n\n    .dataframe thead th {\n        text-align: right;\n    }\n</style>\n<table border=\"1\" class=\"dataframe\">\n  <thead>\n    <tr style=\"text-align: right;\">\n      <th></th>\n      <th>Metric</th>\n      <th>Model_Name</th>\n      <th>Dataset_Name</th>\n      <th>Num_Estimators</th>\n      <th>Record_Create_Date_Time</th>\n      <th>Session_Uuid</th>\n      <th>Experiment_Iteration</th>\n      <th>Dataset_Split_Seed</th>\n      <th>Fair_Intervention_Params_Lst</th>\n      <th>Intervention_Param</th>\n      <th>Subgroup</th>\n      <th>Metric_Value</th>\n      <th>Fairness_Intervention</th>\n    </tr>\n  </thead>\n  <tbody>\n    <tr>\n      <th>0</th>\n      <td>IQR</td>\n      <td>LGBM</td>\n      <td>Folktables_GA_2018_Income</td>\n      <td>200</td>\n      <td>2024-01-06 18:59:47.583</td>\n      <td>ac796b56-9c83-474a-8e7a-2d95ee5efa7e</td>\n      <td>Exp_iter_1</td>\n      <td>100</td>\n      <td>[0.0]</td>\n      <td>0.0</td>\n      <td>SEX_priv</td>\n      <td>0.065426</td>\n      <td>Baseline</td>\n    </tr>\n    <tr>\n      <th>1</th>\n      <td>Mean_Prediction</td>\n      <td>LGBM</td>\n      <td>Folktables_GA_2018_Income</td>\n      <td>200</td>\n      <td>2024-01-06 18:59:47.583</td>\n      <td>ac796b56-9c83-474a-8e7a-2d95ee5efa7e</td>\n      <td>Exp_iter_1</td>\n      <td>100</td>\n      <td>[0.0]</td>\n      <td>0.0</td>\n      <td>SEX_priv</td>\n      <td>0.616530</td>\n      <td>Baseline</td>\n    </tr>\n    <tr>\n      <th>2</th>\n      <td>Overall_Uncertainty</td>\n      <td>LGBM</td>\n      <td>Folktables_GA_2018_Income</td>\n      <td>200</td>\n      <td>2024-01-06 18:59:47.583</td>\n      <td>ac796b56-9c83-474a-8e7a-2d95ee5efa7e</td>\n      <td>Exp_iter_1</td>\n      <td>100</td>\n      <td>[0.0]</td>\n      <td>0.0</td>\n      <td>SEX_priv</td>\n      <td>0.647023</td>\n      <td>Baseline</td>\n    </tr>\n    <tr>\n      <th>3</th>\n      <td>Aleatoric_Uncertainty</td>\n      <td>LGBM</td>\n      <td>Folktables_GA_2018_Income</td>\n      <td>200</td>\n      <td>2024-01-06 18:59:47.583</td>\n      <td>ac796b56-9c83-474a-8e7a-2d95ee5efa7e</td>\n      <td>Exp_iter_1</td>\n      <td>100</td>\n      <td>[0.0]</td>\n      <td>0.0</td>\n      <td>SEX_priv</td>\n      <td>0.634515</td>\n      <td>Baseline</td>\n    </tr>\n    <tr>\n      <th>4</th>\n      <td>Epistemic_Uncertainty</td>\n      <td>LGBM</td>\n      <td>Folktables_GA_2018_Income</td>\n      <td>200</td>\n      <td>2024-01-06 18:59:47.583</td>\n      <td>ac796b56-9c83-474a-8e7a-2d95ee5efa7e</td>\n      <td>Exp_iter_1</td>\n      <td>100</td>\n      <td>[0.0]</td>\n      <td>0.0</td>\n      <td>SEX_priv</td>\n      <td>0.012508</td>\n      <td>Baseline</td>\n    </tr>\n    <tr>\n      <th>5</th>\n      <td>PPV</td>\n      <td>LGBM</td>\n      <td>Folktables_GA_2018_Income</td>\n      <td>200</td>\n      <td>2024-01-06 18:59:47.583</td>\n      <td>ac796b56-9c83-474a-8e7a-2d95ee5efa7e</td>\n      <td>Exp_iter_1</td>\n      <td>100</td>\n      <td>[0.0]</td>\n      <td>0.0</td>\n      <td>SEX_priv</td>\n      <td>0.758273</td>\n      <td>Baseline</td>\n    </tr>\n    <tr>\n      <th>6</th>\n      <td>FPR</td>\n      <td>LGBM</td>\n      <td>Folktables_GA_2018_Income</td>\n      <td>200</td>\n      <td>2024-01-06 18:59:47.583</td>\n      <td>ac796b56-9c83-474a-8e7a-2d95ee5efa7e</td>\n      <td>Exp_iter_1</td>\n      <td>100</td>\n      <td>[0.0]</td>\n      <td>0.0</td>\n      <td>SEX_priv</td>\n      <td>0.145833</td>\n      <td>Baseline</td>\n    </tr>\n    <tr>\n      <th>7</th>\n      <td>Overall_Uncertainty</td>\n      <td>LGBM</td>\n      <td>Folktables_GA_2018_Income</td>\n      <td>200</td>\n      <td>2024-01-06 18:59:47.583</td>\n      <td>ac796b56-9c83-474a-8e7a-2d95ee5efa7e</td>\n      <td>Exp_iter_1</td>\n      <td>100</td>\n      <td>[0.0]</td>\n      <td>0.0</td>\n      <td>SEX_priv_correct</td>\n      <td>0.587053</td>\n      <td>Baseline</td>\n    </tr>\n    <tr>\n      <th>8</th>\n      <td>Epistemic_Uncertainty</td>\n      <td>LGBM</td>\n      <td>Folktables_GA_2018_Income</td>\n      <td>200</td>\n      <td>2024-01-06 18:59:47.583</td>\n      <td>ac796b56-9c83-474a-8e7a-2d95ee5efa7e</td>\n      <td>Exp_iter_1</td>\n      <td>100</td>\n      <td>[0.0]</td>\n      <td>0.0</td>\n      <td>SEX_priv_correct</td>\n      <td>0.011259</td>\n      <td>Baseline</td>\n    </tr>\n    <tr>\n      <th>9</th>\n      <td>Label_Stability</td>\n      <td>LGBM</td>\n      <td>Folktables_GA_2018_Income</td>\n      <td>200</td>\n      <td>2024-01-06 18:59:47.583</td>\n      <td>ac796b56-9c83-474a-8e7a-2d95ee5efa7e</td>\n      <td>Exp_iter_1</td>\n      <td>100</td>\n      <td>[0.0]</td>\n      <td>0.0</td>\n      <td>SEX_priv_correct</td>\n      <td>0.936248</td>\n      <td>Baseline</td>\n    </tr>\n    <tr>\n      <th>10</th>\n      <td>FNR</td>\n      <td>LGBM</td>\n      <td>Folktables_GA_2018_Income</td>\n      <td>200</td>\n      <td>2024-01-06 18:59:47.583</td>\n      <td>ac796b56-9c83-474a-8e7a-2d95ee5efa7e</td>\n      <td>Exp_iter_1</td>\n      <td>100</td>\n      <td>[0.0]</td>\n      <td>0.0</td>\n      <td>SEX_priv_correct</td>\n      <td>0.000000</td>\n      <td>Baseline</td>\n    </tr>\n    <tr>\n      <th>11</th>\n      <td>F1</td>\n      <td>LGBM</td>\n      <td>Folktables_GA_2018_Income</td>\n      <td>200</td>\n      <td>2024-01-06 18:59:47.583</td>\n      <td>ac796b56-9c83-474a-8e7a-2d95ee5efa7e</td>\n      <td>Exp_iter_1</td>\n      <td>100</td>\n      <td>[0.0]</td>\n      <td>0.0</td>\n      <td>SEX_priv_correct</td>\n      <td>1.000000</td>\n      <td>Baseline</td>\n    </tr>\n    <tr>\n      <th>12</th>\n      <td>Positive-Rate</td>\n      <td>LGBM</td>\n      <td>Folktables_GA_2018_Income</td>\n      <td>200</td>\n      <td>2024-01-06 18:59:47.583</td>\n      <td>ac796b56-9c83-474a-8e7a-2d95ee5efa7e</td>\n      <td>Exp_iter_1</td>\n      <td>100</td>\n      <td>[0.0]</td>\n      <td>0.0</td>\n      <td>SEX_priv_correct</td>\n      <td>1.000000</td>\n      <td>Baseline</td>\n    </tr>\n    <tr>\n      <th>13</th>\n      <td>Std</td>\n      <td>LGBM</td>\n      <td>Folktables_GA_2018_Income</td>\n      <td>200</td>\n      <td>2024-01-06 18:59:47.583</td>\n      <td>ac796b56-9c83-474a-8e7a-2d95ee5efa7e</td>\n      <td>Exp_iter_1</td>\n      <td>100</td>\n      <td>[0.0]</td>\n      <td>0.0</td>\n      <td>SEX_priv_incorrect</td>\n      <td>0.066275</td>\n      <td>Baseline</td>\n    </tr>\n    <tr>\n      <th>14</th>\n      <td>Overall_Uncertainty</td>\n      <td>LGBM</td>\n      <td>Folktables_GA_2018_Income</td>\n      <td>200</td>\n      <td>2024-01-06 18:59:47.583</td>\n      <td>ac796b56-9c83-474a-8e7a-2d95ee5efa7e</td>\n      <td>Exp_iter_1</td>\n      <td>100</td>\n      <td>[0.0]</td>\n      <td>0.0</td>\n      <td>SEX_priv_incorrect</td>\n      <td>0.851111</td>\n      <td>Baseline</td>\n    </tr>\n    <tr>\n      <th>15</th>\n      <td>PPV</td>\n      <td>LGBM</td>\n      <td>Folktables_GA_2018_Income</td>\n      <td>200</td>\n      <td>2024-01-06 18:59:47.583</td>\n      <td>ac796b56-9c83-474a-8e7a-2d95ee5efa7e</td>\n      <td>Exp_iter_1</td>\n      <td>100</td>\n      <td>[0.0]</td>\n      <td>0.0</td>\n      <td>SEX_priv_incorrect</td>\n      <td>0.000000</td>\n      <td>Baseline</td>\n    </tr>\n    <tr>\n      <th>16</th>\n      <td>FPR</td>\n      <td>LGBM</td>\n      <td>Folktables_GA_2018_Income</td>\n      <td>200</td>\n      <td>2024-01-06 18:59:47.583</td>\n      <td>ac796b56-9c83-474a-8e7a-2d95ee5efa7e</td>\n      <td>Exp_iter_1</td>\n      <td>100</td>\n      <td>[0.0]</td>\n      <td>0.0</td>\n      <td>SEX_priv_incorrect</td>\n      <td>1.000000</td>\n      <td>Baseline</td>\n    </tr>\n    <tr>\n      <th>17</th>\n      <td>Positive-Rate</td>\n      <td>LGBM</td>\n      <td>Folktables_GA_2018_Income</td>\n      <td>200</td>\n      <td>2024-01-06 18:59:47.583</td>\n      <td>ac796b56-9c83-474a-8e7a-2d95ee5efa7e</td>\n      <td>Exp_iter_1</td>\n      <td>100</td>\n      <td>[0.0]</td>\n      <td>0.0</td>\n      <td>SEX_priv_incorrect</td>\n      <td>0.608696</td>\n      <td>Baseline</td>\n    </tr>\n    <tr>\n      <th>18</th>\n      <td>IQR</td>\n      <td>LGBM</td>\n      <td>Folktables_GA_2018_Income</td>\n      <td>200</td>\n      <td>2024-01-06 18:59:47.583</td>\n      <td>ac796b56-9c83-474a-8e7a-2d95ee5efa7e</td>\n      <td>Exp_iter_1</td>\n      <td>100</td>\n      <td>[0.0]</td>\n      <td>0.0</td>\n      <td>SEX_dis</td>\n      <td>0.063619</td>\n      <td>Baseline</td>\n    </tr>\n    <tr>\n      <th>19</th>\n      <td>Epistemic_Uncertainty</td>\n      <td>LGBM</td>\n      <td>Folktables_GA_2018_Income</td>\n      <td>200</td>\n      <td>2024-01-06 18:59:47.583</td>\n      <td>ac796b56-9c83-474a-8e7a-2d95ee5efa7e</td>\n      <td>Exp_iter_1</td>\n      <td>100</td>\n      <td>[0.0]</td>\n      <td>0.0</td>\n      <td>SEX_dis</td>\n      <td>0.012704</td>\n      <td>Baseline</td>\n    </tr>\n  </tbody>\n</table>\n</div>"
     },
     "execution_count": 10,
     "metadata": {},
     "output_type": "execute_result"
    }
   ],
   "source": [
    "all_subgroup_metrics_df.head(20)"
   ],
   "metadata": {
    "collapsed": false,
    "ExecuteTime": {
     "end_time": "2024-04-04T21:14:13.609580Z",
     "start_time": "2024-04-04T21:14:13.588620Z"
    }
   },
   "id": "b8530d0be25a23f8"
  },
  {
   "cell_type": "code",
   "execution_count": 11,
   "outputs": [
    {
     "data": {
      "text/plain": "                              Metric Model_Name               Dataset_Name  \\\n0                Accuracy_Difference       LGBM  Folktables_GA_2018_Income   \n1   Aleatoric_Uncertainty_Difference       LGBM  Folktables_GA_2018_Income   \n2        Aleatoric_Uncertainty_Ratio       LGBM  Folktables_GA_2018_Income   \n3   Epistemic_Uncertainty_Difference       LGBM  Folktables_GA_2018_Income   \n4        Epistemic_Uncertainty_Ratio       LGBM  Folktables_GA_2018_Income   \n5                 Equalized_Odds_FNR       LGBM  Folktables_GA_2018_Income   \n6                 Equalized_Odds_FPR       LGBM  Folktables_GA_2018_Income   \n7                     IQR_Difference       LGBM  Folktables_GA_2018_Income   \n8                  Jitter_Difference       LGBM  Folktables_GA_2018_Income   \n9              Label_Stability_Ratio       LGBM  Folktables_GA_2018_Income   \n10        Label_Stability_Difference       LGBM  Folktables_GA_2018_Income   \n11    Overall_Uncertainty_Difference       LGBM  Folktables_GA_2018_Income   \n12         Overall_Uncertainty_Ratio       LGBM  Folktables_GA_2018_Income   \n13     Statistical_Parity_Difference       LGBM  Folktables_GA_2018_Income   \n14                  Disparate_Impact       LGBM  Folktables_GA_2018_Income   \n15                    Std_Difference       LGBM  Folktables_GA_2018_Income   \n16                         Std_Ratio       LGBM  Folktables_GA_2018_Income   \n17                Equalized_Odds_TNR       LGBM  Folktables_GA_2018_Income   \n18                Equalized_Odds_TPR       LGBM  Folktables_GA_2018_Income   \n19               Accuracy_Difference         LR  Folktables_GA_2018_Income   \n\n   Fairness_Intervention Experiment_Iteration Subgroup  Metric_Value  \n0               Baseline           Exp_iter_1      SEX      0.046051  \n1               Baseline           Exp_iter_1      SEX     -0.039453  \n2               Baseline           Exp_iter_1      SEX      0.937821  \n3               Baseline           Exp_iter_1      SEX      0.000196  \n4               Baseline           Exp_iter_1      SEX      1.015684  \n5               Baseline           Exp_iter_1      SEX      0.029783  \n6               Baseline           Exp_iter_1      SEX     -0.038663  \n7               Baseline           Exp_iter_1      SEX     -0.001807  \n8               Baseline           Exp_iter_1      SEX     -0.005488  \n9               Baseline           Exp_iter_1      SEX      1.006402  \n10              Baseline           Exp_iter_1      SEX      0.005820  \n11              Baseline           Exp_iter_1      SEX     -0.039257  \n12              Baseline           Exp_iter_1      SEX      0.939326  \n13              Baseline           Exp_iter_1      SEX     -0.104245  \n14              Baseline           Exp_iter_1      SEX      0.706763  \n15              Baseline           Exp_iter_1      SEX     -0.001342  \n16              Baseline           Exp_iter_1      SEX      0.972660  \n17              Baseline           Exp_iter_1      SEX      0.038663  \n18              Baseline           Exp_iter_1      SEX     -0.029783  \n19              Baseline           Exp_iter_1      SEX      0.042669  ",
      "text/html": "<div>\n<style scoped>\n    .dataframe tbody tr th:only-of-type {\n        vertical-align: middle;\n    }\n\n    .dataframe tbody tr th {\n        vertical-align: top;\n    }\n\n    .dataframe thead th {\n        text-align: right;\n    }\n</style>\n<table border=\"1\" class=\"dataframe\">\n  <thead>\n    <tr style=\"text-align: right;\">\n      <th></th>\n      <th>Metric</th>\n      <th>Model_Name</th>\n      <th>Dataset_Name</th>\n      <th>Fairness_Intervention</th>\n      <th>Experiment_Iteration</th>\n      <th>Subgroup</th>\n      <th>Metric_Value</th>\n    </tr>\n  </thead>\n  <tbody>\n    <tr>\n      <th>0</th>\n      <td>Accuracy_Difference</td>\n      <td>LGBM</td>\n      <td>Folktables_GA_2018_Income</td>\n      <td>Baseline</td>\n      <td>Exp_iter_1</td>\n      <td>SEX</td>\n      <td>0.046051</td>\n    </tr>\n    <tr>\n      <th>1</th>\n      <td>Aleatoric_Uncertainty_Difference</td>\n      <td>LGBM</td>\n      <td>Folktables_GA_2018_Income</td>\n      <td>Baseline</td>\n      <td>Exp_iter_1</td>\n      <td>SEX</td>\n      <td>-0.039453</td>\n    </tr>\n    <tr>\n      <th>2</th>\n      <td>Aleatoric_Uncertainty_Ratio</td>\n      <td>LGBM</td>\n      <td>Folktables_GA_2018_Income</td>\n      <td>Baseline</td>\n      <td>Exp_iter_1</td>\n      <td>SEX</td>\n      <td>0.937821</td>\n    </tr>\n    <tr>\n      <th>3</th>\n      <td>Epistemic_Uncertainty_Difference</td>\n      <td>LGBM</td>\n      <td>Folktables_GA_2018_Income</td>\n      <td>Baseline</td>\n      <td>Exp_iter_1</td>\n      <td>SEX</td>\n      <td>0.000196</td>\n    </tr>\n    <tr>\n      <th>4</th>\n      <td>Epistemic_Uncertainty_Ratio</td>\n      <td>LGBM</td>\n      <td>Folktables_GA_2018_Income</td>\n      <td>Baseline</td>\n      <td>Exp_iter_1</td>\n      <td>SEX</td>\n      <td>1.015684</td>\n    </tr>\n    <tr>\n      <th>5</th>\n      <td>Equalized_Odds_FNR</td>\n      <td>LGBM</td>\n      <td>Folktables_GA_2018_Income</td>\n      <td>Baseline</td>\n      <td>Exp_iter_1</td>\n      <td>SEX</td>\n      <td>0.029783</td>\n    </tr>\n    <tr>\n      <th>6</th>\n      <td>Equalized_Odds_FPR</td>\n      <td>LGBM</td>\n      <td>Folktables_GA_2018_Income</td>\n      <td>Baseline</td>\n      <td>Exp_iter_1</td>\n      <td>SEX</td>\n      <td>-0.038663</td>\n    </tr>\n    <tr>\n      <th>7</th>\n      <td>IQR_Difference</td>\n      <td>LGBM</td>\n      <td>Folktables_GA_2018_Income</td>\n      <td>Baseline</td>\n      <td>Exp_iter_1</td>\n      <td>SEX</td>\n      <td>-0.001807</td>\n    </tr>\n    <tr>\n      <th>8</th>\n      <td>Jitter_Difference</td>\n      <td>LGBM</td>\n      <td>Folktables_GA_2018_Income</td>\n      <td>Baseline</td>\n      <td>Exp_iter_1</td>\n      <td>SEX</td>\n      <td>-0.005488</td>\n    </tr>\n    <tr>\n      <th>9</th>\n      <td>Label_Stability_Ratio</td>\n      <td>LGBM</td>\n      <td>Folktables_GA_2018_Income</td>\n      <td>Baseline</td>\n      <td>Exp_iter_1</td>\n      <td>SEX</td>\n      <td>1.006402</td>\n    </tr>\n    <tr>\n      <th>10</th>\n      <td>Label_Stability_Difference</td>\n      <td>LGBM</td>\n      <td>Folktables_GA_2018_Income</td>\n      <td>Baseline</td>\n      <td>Exp_iter_1</td>\n      <td>SEX</td>\n      <td>0.005820</td>\n    </tr>\n    <tr>\n      <th>11</th>\n      <td>Overall_Uncertainty_Difference</td>\n      <td>LGBM</td>\n      <td>Folktables_GA_2018_Income</td>\n      <td>Baseline</td>\n      <td>Exp_iter_1</td>\n      <td>SEX</td>\n      <td>-0.039257</td>\n    </tr>\n    <tr>\n      <th>12</th>\n      <td>Overall_Uncertainty_Ratio</td>\n      <td>LGBM</td>\n      <td>Folktables_GA_2018_Income</td>\n      <td>Baseline</td>\n      <td>Exp_iter_1</td>\n      <td>SEX</td>\n      <td>0.939326</td>\n    </tr>\n    <tr>\n      <th>13</th>\n      <td>Statistical_Parity_Difference</td>\n      <td>LGBM</td>\n      <td>Folktables_GA_2018_Income</td>\n      <td>Baseline</td>\n      <td>Exp_iter_1</td>\n      <td>SEX</td>\n      <td>-0.104245</td>\n    </tr>\n    <tr>\n      <th>14</th>\n      <td>Disparate_Impact</td>\n      <td>LGBM</td>\n      <td>Folktables_GA_2018_Income</td>\n      <td>Baseline</td>\n      <td>Exp_iter_1</td>\n      <td>SEX</td>\n      <td>0.706763</td>\n    </tr>\n    <tr>\n      <th>15</th>\n      <td>Std_Difference</td>\n      <td>LGBM</td>\n      <td>Folktables_GA_2018_Income</td>\n      <td>Baseline</td>\n      <td>Exp_iter_1</td>\n      <td>SEX</td>\n      <td>-0.001342</td>\n    </tr>\n    <tr>\n      <th>16</th>\n      <td>Std_Ratio</td>\n      <td>LGBM</td>\n      <td>Folktables_GA_2018_Income</td>\n      <td>Baseline</td>\n      <td>Exp_iter_1</td>\n      <td>SEX</td>\n      <td>0.972660</td>\n    </tr>\n    <tr>\n      <th>17</th>\n      <td>Equalized_Odds_TNR</td>\n      <td>LGBM</td>\n      <td>Folktables_GA_2018_Income</td>\n      <td>Baseline</td>\n      <td>Exp_iter_1</td>\n      <td>SEX</td>\n      <td>0.038663</td>\n    </tr>\n    <tr>\n      <th>18</th>\n      <td>Equalized_Odds_TPR</td>\n      <td>LGBM</td>\n      <td>Folktables_GA_2018_Income</td>\n      <td>Baseline</td>\n      <td>Exp_iter_1</td>\n      <td>SEX</td>\n      <td>-0.029783</td>\n    </tr>\n    <tr>\n      <th>19</th>\n      <td>Accuracy_Difference</td>\n      <td>LR</td>\n      <td>Folktables_GA_2018_Income</td>\n      <td>Baseline</td>\n      <td>Exp_iter_1</td>\n      <td>SEX</td>\n      <td>0.042669</td>\n    </tr>\n  </tbody>\n</table>\n</div>"
     },
     "execution_count": 11,
     "metadata": {},
     "output_type": "execute_result"
    }
   ],
   "source": [
    "all_group_metrics_df.head(20)"
   ],
   "metadata": {
    "collapsed": false,
    "ExecuteTime": {
     "end_time": "2024-04-04T21:14:13.638224Z",
     "start_time": "2024-04-04T21:14:13.607359Z"
    }
   },
   "id": "4466294174ea3d7c"
  },
  {
   "cell_type": "markdown",
   "source": [
    "## Metric Aggregations"
   ],
   "metadata": {
    "collapsed": false
   },
   "id": "3a479516acefba91"
  },
  {
   "cell_type": "code",
   "execution_count": 12,
   "outputs": [
    {
     "data": {
      "text/plain": "   min(metric_value)  max(metric_value)  median(metric_value)\n0           0.003632           0.004774              0.003824",
      "text/html": "<div>\n<style scoped>\n    .dataframe tbody tr th:only-of-type {\n        vertical-align: middle;\n    }\n\n    .dataframe tbody tr th {\n        vertical-align: top;\n    }\n\n    .dataframe thead th {\n        text-align: right;\n    }\n</style>\n<table border=\"1\" class=\"dataframe\">\n  <thead>\n    <tr style=\"text-align: right;\">\n      <th></th>\n      <th>min(metric_value)</th>\n      <th>max(metric_value)</th>\n      <th>median(metric_value)</th>\n    </tr>\n  </thead>\n  <tbody>\n    <tr>\n      <th>0</th>\n      <td>0.003632</td>\n      <td>0.004774</td>\n      <td>0.003824</td>\n    </tr>\n  </tbody>\n</table>\n</div>"
     },
     "execution_count": 12,
     "metadata": {},
     "output_type": "execute_result"
    }
   ],
   "source": [
    "query = \"\"\"\n",
    "SELECT MIN(metric_value), MAX(metric_value), MEDIAN(metric_value)\n",
    "FROM all_subgroup_metrics_df\n",
    "WHERE dataset_name = 'Student_Performance_Por'\n",
    "    AND fairness_intervention = 'LFR'\n",
    "    AND model_name = 'LR'\n",
    "    AND subgroup = 'overall'\n",
    "    AND metric = 'Epistemic_Uncertainty'\n",
    "\"\"\"\n",
    "duckdb.query(query).to_df()"
   ],
   "metadata": {
    "collapsed": false,
    "ExecuteTime": {
     "end_time": "2024-04-04T21:14:13.661396Z",
     "start_time": "2024-04-04T21:14:13.622481Z"
    }
   },
   "id": "b788ab94406e4ac1"
  },
  {
   "cell_type": "code",
   "execution_count": 15,
   "outputs": [
    {
     "data": {
      "text/plain": "   min(metric_value)  max(metric_value)  median(metric_value)\n0          -0.078203           -0.00749             -0.047835",
      "text/html": "<div>\n<style scoped>\n    .dataframe tbody tr th:only-of-type {\n        vertical-align: middle;\n    }\n\n    .dataframe tbody tr th {\n        vertical-align: top;\n    }\n\n    .dataframe thead th {\n        text-align: right;\n    }\n</style>\n<table border=\"1\" class=\"dataframe\">\n  <thead>\n    <tr style=\"text-align: right;\">\n      <th></th>\n      <th>min(metric_value)</th>\n      <th>max(metric_value)</th>\n      <th>median(metric_value)</th>\n    </tr>\n  </thead>\n  <tbody>\n    <tr>\n      <th>0</th>\n      <td>-0.078203</td>\n      <td>-0.00749</td>\n      <td>-0.047835</td>\n    </tr>\n  </tbody>\n</table>\n</div>"
     },
     "execution_count": 15,
     "metadata": {},
     "output_type": "execute_result"
    }
   ],
   "source": [
    "query = \"\"\"\n",
    "SELECT MIN(metric_value), MAX(metric_value), MEDIAN(metric_value)\n",
    "FROM all_group_metrics_df\n",
    "WHERE dataset_name = 'Student_Performance_Por'\n",
    "    AND fairness_intervention = 'ExponentiatedGradientReduction'\n",
    "    AND model_name = 'In-processing'\n",
    "    AND subgroup = 'sex'\n",
    "    AND metric = 'Epistemic_Uncertainty_Difference'\n",
    "\"\"\"\n",
    "duckdb.query(query).to_df()"
   ],
   "metadata": {
    "collapsed": false,
    "ExecuteTime": {
     "end_time": "2024-04-04T21:17:23.463423Z",
     "start_time": "2024-04-04T21:17:23.432922Z"
    }
   },
   "id": "f2c37199ca6f6de6"
  },
  {
   "cell_type": "code",
   "execution_count": null,
   "outputs": [],
   "source": [],
   "metadata": {
    "collapsed": false
   },
   "id": "2732f9da5c5f28d4"
  }
 ],
 "metadata": {
  "kernelspec": {
   "display_name": "Python 3",
   "language": "python",
   "name": "python3"
  },
  "language_info": {
   "codemirror_mode": {
    "name": "ipython",
    "version": 2
   },
   "file_extension": ".py",
   "mimetype": "text/x-python",
   "name": "python",
   "nbconvert_exporter": "python",
   "pygments_lexer": "ipython2",
   "version": "2.7.6"
  }
 },
 "nbformat": 4,
 "nbformat_minor": 5
}
