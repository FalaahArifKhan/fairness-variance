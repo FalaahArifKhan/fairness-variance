{
 "cells": [
  {
   "cell_type": "code",
   "execution_count": 55,
   "outputs": [],
   "source": [
    "# !pip install -r ../exp_requirements.txt"
   ],
   "metadata": {
    "collapsed": false
   }
  },
  {
   "cell_type": "code",
   "execution_count": 4,
   "outputs": [],
   "source": [
    "# !pip uninstall virny -y"
   ],
   "metadata": {
    "collapsed": false
   }
  },
  {
   "cell_type": "code",
   "execution_count": 6,
   "outputs": [],
   "source": [
    "# Install using an HTTP link\n",
    "# !pip install git+https://github.com/DataResponsibly/Virny.git@development\n",
    "\n",
    "# Install using an SSH link\n",
    "# !pip install git+ssh://git@github.com/DataResponsibly/Virny.git@development"
   ],
   "metadata": {
    "collapsed": false
   }
  },
  {
   "cell_type": "code",
   "execution_count": 58,
   "id": "248cbed8",
   "metadata": {},
   "outputs": [
    {
     "name": "stdout",
     "output_type": "stream",
     "text": [
      "The autoreload extension is already loaded. To reload it, use:\n",
      "  %reload_ext autoreload\n"
     ]
    }
   ],
   "source": [
    "%matplotlib inline\n",
    "%load_ext autoreload\n",
    "%autoreload 2"
   ]
  },
  {
   "cell_type": "code",
   "execution_count": 59,
   "id": "7ec6cd08",
   "metadata": {},
   "outputs": [],
   "source": [
    "import os\n",
    "import warnings\n",
    "warnings.filterwarnings('ignore')\n",
    "os.environ[\"PYTHONWARNINGS\"] = \"ignore\""
   ]
  },
  {
   "cell_type": "markdown",
   "id": "a578f2ab",
   "metadata": {},
   "source": [
    "# Credit Dataset With Null Imputer"
   ]
  },
  {
   "cell_type": "markdown",
   "id": "606df34d",
   "metadata": {},
   "source": [
    "## Import dependencies"
   ]
  },
  {
   "cell_type": "code",
   "execution_count": 60,
   "id": "7a9241de",
   "metadata": {},
   "outputs": [],
   "source": [
    "import os\n",
    "\n",
    "from xgboost import XGBClassifier\n",
    "from sklearn.tree import DecisionTreeClassifier\n",
    "from sklearn.linear_model import LogisticRegression\n",
    "from sklearn.ensemble import RandomForestClassifier\n",
    "from sklearn.neighbors import KNeighborsClassifier\n",
    "from sklearn.neural_network import MLPClassifier\n",
    "\n",
    "from virny.utils.custom_initializers import create_config_obj\n",
    "from virny.datasets.data_loaders import CreditDataset\n",
    "\n",
    "from source.generators.measuring import MislabelsGenerator\n",
    "from source.preprocessing import get_null_imputer_preprocessor\n",
    "from source.experiment_interface import run_exp_iteration\n",
    "from source.custom_initializers import create_experiment_data_loader\n",
    "from configs.constants import NUM_METRICS_COMPUTATION_RUNS, EXPERIMENT_SEEDS"
   ]
  },
  {
   "cell_type": "markdown",
   "id": "75699f5f",
   "metadata": {},
   "source": [
    "## Initialize input variables for the experiment"
   ]
  },
  {
   "cell_type": "code",
   "execution_count": 61,
   "outputs": [],
   "source": [
    "ROOT_DIR = os.path.join(os.getcwd(), \"..\", \"..\")\n",
    "EXPERIMENT_NAME = 'mislabels'\n",
    "SAVE_RESULTS_DIR_PATH = os.path.join(ROOT_DIR, 'results', EXPERIMENT_NAME)"
   ],
   "metadata": {
    "collapsed": false
   }
  },
  {
   "cell_type": "code",
   "execution_count": 62,
   "outputs": [
    {
     "data": {
      "text/plain": "        RevolvingUtilizationOfUnsecuredLines  age  \\\n87121                               0.186978   25   \n100723                              0.393887   35   \n59846                               1.000000   73   \n32613                               0.354831   47   \n104148                              0.009926   46   \n\n        NumberOfTime30-59DaysPastDueNotWorse   DebtRatio  MonthlyIncome  \\\n87121                                      0    0.157461         4000.0   \n100723                                     1  748.000000            NaN   \n59846                                      0   38.000000            NaN   \n32613                                      0    0.184490         5750.0   \n104148                                     0    0.336474         4350.0   \n\n        NumberOfOpenCreditLinesAndLoans  NumberOfTimes90DaysLate  \\\n87121                                 4                        0   \n100723                                3                        0   \n59846                                 1                        0   \n32613                                 7                        0   \n104148                               14                        0   \n\n        NumberRealEstateLoansOrLines  \n87121                              0  \n100723                             1  \n59846                              0  \n32613                              1  \n104148                             3  ",
      "text/html": "<div>\n<style scoped>\n    .dataframe tbody tr th:only-of-type {\n        vertical-align: middle;\n    }\n\n    .dataframe tbody tr th {\n        vertical-align: top;\n    }\n\n    .dataframe thead th {\n        text-align: right;\n    }\n</style>\n<table border=\"1\" class=\"dataframe\">\n  <thead>\n    <tr style=\"text-align: right;\">\n      <th></th>\n      <th>RevolvingUtilizationOfUnsecuredLines</th>\n      <th>age</th>\n      <th>NumberOfTime30-59DaysPastDueNotWorse</th>\n      <th>DebtRatio</th>\n      <th>MonthlyIncome</th>\n      <th>NumberOfOpenCreditLinesAndLoans</th>\n      <th>NumberOfTimes90DaysLate</th>\n      <th>NumberRealEstateLoansOrLines</th>\n    </tr>\n  </thead>\n  <tbody>\n    <tr>\n      <th>87121</th>\n      <td>0.186978</td>\n      <td>25</td>\n      <td>0</td>\n      <td>0.157461</td>\n      <td>4000.0</td>\n      <td>4</td>\n      <td>0</td>\n      <td>0</td>\n    </tr>\n    <tr>\n      <th>100723</th>\n      <td>0.393887</td>\n      <td>35</td>\n      <td>1</td>\n      <td>748.000000</td>\n      <td>NaN</td>\n      <td>3</td>\n      <td>0</td>\n      <td>1</td>\n    </tr>\n    <tr>\n      <th>59846</th>\n      <td>1.000000</td>\n      <td>73</td>\n      <td>0</td>\n      <td>38.000000</td>\n      <td>NaN</td>\n      <td>1</td>\n      <td>0</td>\n      <td>0</td>\n    </tr>\n    <tr>\n      <th>32613</th>\n      <td>0.354831</td>\n      <td>47</td>\n      <td>0</td>\n      <td>0.184490</td>\n      <td>5750.0</td>\n      <td>7</td>\n      <td>0</td>\n      <td>1</td>\n    </tr>\n    <tr>\n      <th>104148</th>\n      <td>0.009926</td>\n      <td>46</td>\n      <td>0</td>\n      <td>0.336474</td>\n      <td>4350.0</td>\n      <td>14</td>\n      <td>0</td>\n      <td>3</td>\n    </tr>\n  </tbody>\n</table>\n</div>"
     },
     "execution_count": 62,
     "metadata": {},
     "output_type": "execute_result"
    }
   ],
   "source": [
    "data_loader = CreditDataset(subsample_size=50_000)\n",
    "data_loader.X_data.head()"
   ],
   "metadata": {
    "collapsed": false
   }
  },
  {
   "cell_type": "code",
   "execution_count": 63,
   "outputs": [
    {
     "data": {
      "text/plain": "SeriousDlqin2yrs                           0\nRevolvingUtilizationOfUnsecuredLines       0\nage                                        0\nNumberOfTime30-59DaysPastDueNotWorse       0\nDebtRatio                                  0\nMonthlyIncome                           9884\nNumberOfOpenCreditLinesAndLoans            0\nNumberOfTimes90DaysLate                    0\nNumberRealEstateLoansOrLines               0\nNumberOfTime60-89DaysPastDueNotWorse       0\nNumberOfDependents                      1288\ndtype: int64"
     },
     "execution_count": 63,
     "metadata": {},
     "output_type": "execute_result"
    }
   ],
   "source": [
    "data_loader.full_df.isna().sum()"
   ],
   "metadata": {
    "collapsed": false
   }
  },
  {
   "cell_type": "markdown",
   "source": [
    "### Define a db writer and custom fields to insert into your database"
   ],
   "metadata": {
    "collapsed": false
   }
  },
  {
   "cell_type": "code",
   "execution_count": 64,
   "outputs": [
    {
     "name": "stdout",
     "output_type": "stream",
     "text": [
      "Current session uuid:  79c58735-a2b7-4b8d-a3a0-462af722d6b8\n"
     ]
    }
   ],
   "source": [
    "import uuid\n",
    "\n",
    "custom_table_fields_dct = {\n",
    "    'session_uuid': str(uuid.uuid4()),\n",
    "    'mislabels_pct': None,\n",
    "}\n",
    "print('Current session uuid: ', custom_table_fields_dct['session_uuid'])"
   ],
   "metadata": {
    "collapsed": false
   }
  },
  {
   "cell_type": "markdown",
   "source": [
    "### Create a metrics computation config object"
   ],
   "metadata": {
    "collapsed": false
   }
  },
  {
   "cell_type": "code",
   "execution_count": 65,
   "outputs": [],
   "source": [
    "config_yaml_path = 'experiment_config.yaml'\n",
    "age_range = [i for i in range(0, 31)]\n",
    "config_yaml_content = \\\n",
    "f\"\"\"\n",
    "dataset_name: Credit\n",
    "bootstrap_fraction: 0.8\n",
    "# n_estimators: 50\n",
    "n_estimators: 10\n",
    "# num_runs: {NUM_METRICS_COMPUTATION_RUNS}\n",
    "num_runs: 2\n",
    "sensitive_attributes_dct: {{'age': {age_range}}}\n",
    "\"\"\"\n",
    "\n",
    "with open(config_yaml_path, 'w', encoding='utf-8') as f:\n",
    "    f.write(config_yaml_content)"
   ],
   "metadata": {
    "collapsed": false
   }
  },
  {
   "cell_type": "code",
   "execution_count": 66,
   "outputs": [],
   "source": [
    "metrics_computation_config = create_config_obj(config_yaml_path=config_yaml_path)"
   ],
   "metadata": {
    "collapsed": false
   }
  },
  {
   "cell_type": "markdown",
   "source": [
    "### Define tuning parameter for models"
   ],
   "metadata": {
    "collapsed": false
   }
  },
  {
   "cell_type": "code",
   "execution_count": 67,
   "outputs": [],
   "source": [
    "def get_models_params_for_tuning(models_tuning_seed):\n",
    "    return {\n",
    "        'DecisionTreeClassifier': {\n",
    "            'model': DecisionTreeClassifier(random_state=models_tuning_seed),\n",
    "            'params': {\n",
    "                \"max_depth\": [20, 30],\n",
    "                \"min_samples_split\" : [0.1],\n",
    "                \"max_features\": ['sqrt'],\n",
    "                \"criterion\": [\"gini\", \"entropy\"]\n",
    "            }\n",
    "        },\n",
    "        'LogisticRegression': {\n",
    "            'model': LogisticRegression(random_state=models_tuning_seed),\n",
    "            'params': {\n",
    "                'penalty': ['l2'],\n",
    "                'C' : [0.0001, 0.1, 1, 100],\n",
    "                'solver': ['newton-cg', 'lbfgs'],\n",
    "                'max_iter': [250],\n",
    "            }\n",
    "        },\n",
    "        # 'RandomForestClassifier': {\n",
    "        #     'model': RandomForestClassifier(random_state=models_tuning_seed),\n",
    "        #     'params': {\n",
    "        #         \"max_depth\": [6, 10],\n",
    "        #         \"min_samples_leaf\": [1],\n",
    "        #         \"n_estimators\": [50, 100],\n",
    "        #         \"max_features\": [0.6]\n",
    "        #     }\n",
    "        # },\n",
    "        # 'XGBClassifier': {\n",
    "        #     'model': XGBClassifier(random_state=models_tuning_seed, verbosity=0),\n",
    "        #     'params': {\n",
    "        #         'learning_rate': [0.1],\n",
    "        #         'n_estimators': [200],\n",
    "        #         'max_depth': [5, 7],\n",
    "        #         'lambda':  [10, 100]\n",
    "        #     }\n",
    "        # },\n",
    "        # 'KNeighborsClassifier': {\n",
    "        #     'model': KNeighborsClassifier(),\n",
    "        #     'params': {\n",
    "        #         'n_neighbors' : [5, 7, 9, 11, 13, 15, 25],\n",
    "        #         'weights' : ['uniform', 'distance'],\n",
    "        #         'metric' : ['minkowski', 'euclidean', 'manhattan']\n",
    "        #     }\n",
    "        # },\n",
    "        # 'MLPClassifier': {\n",
    "        #     'model': MLPClassifier(random_state=models_tuning_seed),\n",
    "        #     'params': {\n",
    "        #         'hidden_layer_sizes':[(100,), (100,100,), (100,50,100,)],\n",
    "        #         'activation': ['logistic', 'tanh', 'relu'],\n",
    "        #         'solver': ['lbfgs', 'sgd', 'adam'],\n",
    "        #         'learning_rate': ['constant', 'invscaling', 'adaptive']\n",
    "        #     }\n",
    "        # }\n",
    "    }"
   ],
   "metadata": {
    "collapsed": false
   }
  },
  {
   "cell_type": "markdown",
   "source": [
    "## Run experiments"
   ],
   "metadata": {
    "collapsed": false
   }
  },
  {
   "cell_type": "markdown",
   "source": [
    "### Experiment iteration 1"
   ],
   "metadata": {
    "collapsed": false
   }
  },
  {
   "cell_type": "code",
   "execution_count": 68,
   "outputs": [],
   "source": [
    "# Configs for an experiment iteration\n",
    "exp_iter_num = 1\n",
    "mislabels_pct = 0.1\n",
    "experiment_seed = EXPERIMENT_SEEDS[exp_iter_num - 1]\n",
    "generator = MislabelsGenerator(experiment_seed, mislabels_pct)\n",
    "\n",
    "custom_table_fields_dct['mislabels_pct'] = mislabels_pct\n",
    "custom_table_fields_dct['experiment_iteration'] = f'Exp_iter_{exp_iter_num}'\n",
    "models_params_for_tuning = get_models_params_for_tuning(experiment_seed)\n",
    "# Create a transformed data loader\n",
    "exp_iter_data_loader = create_experiment_data_loader(data_loader, generator)\n",
    "preprocessor = get_null_imputer_preprocessor(exp_iter_data_loader)"
   ],
   "metadata": {
    "collapsed": false
   }
  },
  {
   "cell_type": "code",
   "execution_count": 69,
   "id": "2326c129",
   "metadata": {},
   "outputs": [
    {
     "name": "stderr",
     "output_type": "stream",
     "text": [
      "2023-04-06 23:51:36 experiment_interface.py INFO    : Start an experiment iteration for the following custom params:\n",
      "2023-04-06 23:51:36 experiment_interface.py INFO    : The dataset is preprocessed\n"
     ]
    },
    {
     "name": "stdout",
     "output_type": "stream",
     "text": [
      "{'dataset_split_seed': 100,\n",
      " 'experiment_iteration': 'Exp_iter_1',\n",
      " 'mislabels_pct': 0.1,\n",
      " 'model_init_seed': 100,\n",
      " 'session_uuid': '79c58735-a2b7-4b8d-a3a0-462af722d6b8'}\n",
      "\n",
      "\n",
      "2023/04/06, 23:51:36: Tuning DecisionTreeClassifier...\n",
      "Fitting 3 folds for each of 4 candidates, totalling 12 fits\n",
      "2023/04/06, 23:51:38: Tuning for DecisionTreeClassifier is finished [F1 score = 0.48284721878729514, Accuracy = 0.9336666666666665]\n",
      "\n",
      "2023/04/06, 23:51:38: Tuning LogisticRegression...\n",
      "Fitting 3 folds for each of 8 candidates, totalling 24 fits\n"
     ]
    },
    {
     "name": "stderr",
     "output_type": "stream",
     "text": [
      "2023-04-06 23:51:39 experiment_interface.py INFO    : Models are tuned and saved to a file\n"
     ]
    },
    {
     "name": "stdout",
     "output_type": "stream",
     "text": [
      "2023/04/06, 23:51:39: Tuning for LogisticRegression is finished [F1 score = 0.4993530441990223, Accuracy = 0.9337333333333334]\n",
      "\n"
     ]
    },
    {
     "name": "stderr",
     "output_type": "stream",
     "text": [
      "2023-04-06 23:51:39 experiment_interface.py INFO    : Connected to MongoDB\n"
     ]
    },
    {
     "data": {
      "text/plain": "Multiple runs progress:   0%|          | 0/2 [00:00<?, ?it/s]",
      "application/vnd.jupyter.widget-view+json": {
       "version_major": 2,
       "version_minor": 0,
       "model_id": "393abc3874a045738ff0b59675197283"
      }
     },
     "metadata": {},
     "output_type": "display_data"
    },
    {
     "data": {
      "text/plain": "Analyze models in one run:   0%|          | 0/2 [00:00<?, ?it/s]",
      "application/vnd.jupyter.widget-view+json": {
       "version_major": 2,
       "version_minor": 0,
       "model_id": "1e865dbd05cb416daa3e62767aa4055f"
      }
     },
     "metadata": {},
     "output_type": "display_data"
    },
    {
     "data": {
      "text/plain": "Classifiers testing by bootstrap:   0%|          | 0/10 [00:00<?, ?it/s]",
      "application/vnd.jupyter.widget-view+json": {
       "version_major": 2,
       "version_minor": 0,
       "model_id": "f9ccf244f3e14b00a1eaba9a19f21d37"
      }
     },
     "metadata": {},
     "output_type": "display_data"
    },
    {
     "data": {
      "text/plain": "Classifiers testing by bootstrap:   0%|          | 0/10 [00:00<?, ?it/s]",
      "application/vnd.jupyter.widget-view+json": {
       "version_major": 2,
       "version_minor": 0,
       "model_id": "6848f898e09c47729e8349a73ab0d898"
      }
     },
     "metadata": {},
     "output_type": "display_data"
    },
    {
     "data": {
      "text/plain": "Analyze models in one run:   0%|          | 0/2 [00:00<?, ?it/s]",
      "application/vnd.jupyter.widget-view+json": {
       "version_major": 2,
       "version_minor": 0,
       "model_id": "96eb1a64283a4a869d5202b55022d19f"
      }
     },
     "metadata": {},
     "output_type": "display_data"
    },
    {
     "data": {
      "text/plain": "Classifiers testing by bootstrap:   0%|          | 0/10 [00:00<?, ?it/s]",
      "application/vnd.jupyter.widget-view+json": {
       "version_major": 2,
       "version_minor": 0,
       "model_id": "86ec808033034324bacd83d3a95eddbb"
      }
     },
     "metadata": {},
     "output_type": "display_data"
    },
    {
     "data": {
      "text/plain": "Classifiers testing by bootstrap:   0%|          | 0/10 [00:00<?, ?it/s]",
      "application/vnd.jupyter.widget-view+json": {
       "version_major": 2,
       "version_minor": 0,
       "model_id": "95f615eb31b74bc9a363fc0649787792"
      }
     },
     "metadata": {},
     "output_type": "display_data"
    }
   ],
   "source": [
    "multiple_run_metrics_dct = run_exp_iteration(data_loader=exp_iter_data_loader,\n",
    "                                             experiment_seed=experiment_seed,\n",
    "                                             db_collection_name='mislabels_results',\n",
    "                                             preprocessor=preprocessor,\n",
    "                                             models_params_for_tuning=models_params_for_tuning,\n",
    "                                             metrics_computation_config=metrics_computation_config,\n",
    "                                             custom_table_fields_dct=custom_table_fields_dct,\n",
    "                                             with_tuning=True,\n",
    "                                             save_results_dir_path=SAVE_RESULTS_DIR_PATH,\n",
    "                                             tuned_params_df_path=None)"
   ]
  },
  {
   "cell_type": "code",
   "execution_count": 70,
   "outputs": [
    {
     "data": {
      "text/plain": "                 Metric   overall  age_priv   age_dis  Model_Seed  \\\n0                  Mean  0.935176  0.893721  0.938157         101   \n1                   Std  0.027356  0.038449  0.026558         101   \n2                   IQR  0.035268  0.049300  0.034259         101   \n3               Entropy  0.000000  0.000000  0.000000         101   \n4                Jitter  0.008469  0.014340  0.008047         101   \n5   Per_Sample_Accuracy  0.499350  0.490462  0.499989         101   \n6       Label_Stability  0.990820  0.984203  0.991296         101   \n7                   TPR  0.000000  0.000000  0.000000         101   \n8                   TNR  1.000000  1.000000  1.000000         101   \n9                   PPV       NaN       NaN       NaN         101   \n10                  FNR  1.000000  1.000000  1.000000         101   \n11                  FPR  0.000000  0.000000  0.000000         101   \n12             Accuracy  0.499400  0.491803  0.499946         101   \n13                   F1  0.000000  0.000000  0.000000         101   \n14       Selection-Rate  0.000000  0.000000  0.000000         101   \n15        Positive-Rate  0.000000  0.000000  0.000000         101   \n0                  Mean  0.935108  0.889560  0.938384         102   \n1                   Std  0.026793  0.038174  0.025974         102   \n2                   IQR  0.032992  0.046241  0.032039         102   \n3               Entropy  0.000000  0.000000  0.000000         102   \n\n                Model_Name                                       Model_Params  \\\n0   DecisionTreeClassifier  {'ccp_alpha': 0.0, 'class_weight': None, 'crit...   \n1   DecisionTreeClassifier  {'ccp_alpha': 0.0, 'class_weight': None, 'crit...   \n2   DecisionTreeClassifier  {'ccp_alpha': 0.0, 'class_weight': None, 'crit...   \n3   DecisionTreeClassifier  {'ccp_alpha': 0.0, 'class_weight': None, 'crit...   \n4   DecisionTreeClassifier  {'ccp_alpha': 0.0, 'class_weight': None, 'crit...   \n5   DecisionTreeClassifier  {'ccp_alpha': 0.0, 'class_weight': None, 'crit...   \n6   DecisionTreeClassifier  {'ccp_alpha': 0.0, 'class_weight': None, 'crit...   \n7   DecisionTreeClassifier  {'ccp_alpha': 0.0, 'class_weight': None, 'crit...   \n8   DecisionTreeClassifier  {'ccp_alpha': 0.0, 'class_weight': None, 'crit...   \n9   DecisionTreeClassifier  {'ccp_alpha': 0.0, 'class_weight': None, 'crit...   \n10  DecisionTreeClassifier  {'ccp_alpha': 0.0, 'class_weight': None, 'crit...   \n11  DecisionTreeClassifier  {'ccp_alpha': 0.0, 'class_weight': None, 'crit...   \n12  DecisionTreeClassifier  {'ccp_alpha': 0.0, 'class_weight': None, 'crit...   \n13  DecisionTreeClassifier  {'ccp_alpha': 0.0, 'class_weight': None, 'crit...   \n14  DecisionTreeClassifier  {'ccp_alpha': 0.0, 'class_weight': None, 'crit...   \n15  DecisionTreeClassifier  {'ccp_alpha': 0.0, 'class_weight': None, 'crit...   \n0   DecisionTreeClassifier  {'ccp_alpha': 0.0, 'class_weight': None, 'crit...   \n1   DecisionTreeClassifier  {'ccp_alpha': 0.0, 'class_weight': None, 'crit...   \n2   DecisionTreeClassifier  {'ccp_alpha': 0.0, 'class_weight': None, 'crit...   \n3   DecisionTreeClassifier  {'ccp_alpha': 0.0, 'class_weight': None, 'crit...   \n\n   Run_Number Dataset_Name  Num_Estimators  \n0       Run_1       Credit              10  \n1       Run_1       Credit              10  \n2       Run_1       Credit              10  \n3       Run_1       Credit              10  \n4       Run_1       Credit              10  \n5       Run_1       Credit              10  \n6       Run_1       Credit              10  \n7       Run_1       Credit              10  \n8       Run_1       Credit              10  \n9       Run_1       Credit              10  \n10      Run_1       Credit              10  \n11      Run_1       Credit              10  \n12      Run_1       Credit              10  \n13      Run_1       Credit              10  \n14      Run_1       Credit              10  \n15      Run_1       Credit              10  \n0       Run_2       Credit              10  \n1       Run_2       Credit              10  \n2       Run_2       Credit              10  \n3       Run_2       Credit              10  ",
      "text/html": "<div>\n<style scoped>\n    .dataframe tbody tr th:only-of-type {\n        vertical-align: middle;\n    }\n\n    .dataframe tbody tr th {\n        vertical-align: top;\n    }\n\n    .dataframe thead th {\n        text-align: right;\n    }\n</style>\n<table border=\"1\" class=\"dataframe\">\n  <thead>\n    <tr style=\"text-align: right;\">\n      <th></th>\n      <th>Metric</th>\n      <th>overall</th>\n      <th>age_priv</th>\n      <th>age_dis</th>\n      <th>Model_Seed</th>\n      <th>Model_Name</th>\n      <th>Model_Params</th>\n      <th>Run_Number</th>\n      <th>Dataset_Name</th>\n      <th>Num_Estimators</th>\n    </tr>\n  </thead>\n  <tbody>\n    <tr>\n      <th>0</th>\n      <td>Mean</td>\n      <td>0.935176</td>\n      <td>0.893721</td>\n      <td>0.938157</td>\n      <td>101</td>\n      <td>DecisionTreeClassifier</td>\n      <td>{'ccp_alpha': 0.0, 'class_weight': None, 'crit...</td>\n      <td>Run_1</td>\n      <td>Credit</td>\n      <td>10</td>\n    </tr>\n    <tr>\n      <th>1</th>\n      <td>Std</td>\n      <td>0.027356</td>\n      <td>0.038449</td>\n      <td>0.026558</td>\n      <td>101</td>\n      <td>DecisionTreeClassifier</td>\n      <td>{'ccp_alpha': 0.0, 'class_weight': None, 'crit...</td>\n      <td>Run_1</td>\n      <td>Credit</td>\n      <td>10</td>\n    </tr>\n    <tr>\n      <th>2</th>\n      <td>IQR</td>\n      <td>0.035268</td>\n      <td>0.049300</td>\n      <td>0.034259</td>\n      <td>101</td>\n      <td>DecisionTreeClassifier</td>\n      <td>{'ccp_alpha': 0.0, 'class_weight': None, 'crit...</td>\n      <td>Run_1</td>\n      <td>Credit</td>\n      <td>10</td>\n    </tr>\n    <tr>\n      <th>3</th>\n      <td>Entropy</td>\n      <td>0.000000</td>\n      <td>0.000000</td>\n      <td>0.000000</td>\n      <td>101</td>\n      <td>DecisionTreeClassifier</td>\n      <td>{'ccp_alpha': 0.0, 'class_weight': None, 'crit...</td>\n      <td>Run_1</td>\n      <td>Credit</td>\n      <td>10</td>\n    </tr>\n    <tr>\n      <th>4</th>\n      <td>Jitter</td>\n      <td>0.008469</td>\n      <td>0.014340</td>\n      <td>0.008047</td>\n      <td>101</td>\n      <td>DecisionTreeClassifier</td>\n      <td>{'ccp_alpha': 0.0, 'class_weight': None, 'crit...</td>\n      <td>Run_1</td>\n      <td>Credit</td>\n      <td>10</td>\n    </tr>\n    <tr>\n      <th>5</th>\n      <td>Per_Sample_Accuracy</td>\n      <td>0.499350</td>\n      <td>0.490462</td>\n      <td>0.499989</td>\n      <td>101</td>\n      <td>DecisionTreeClassifier</td>\n      <td>{'ccp_alpha': 0.0, 'class_weight': None, 'crit...</td>\n      <td>Run_1</td>\n      <td>Credit</td>\n      <td>10</td>\n    </tr>\n    <tr>\n      <th>6</th>\n      <td>Label_Stability</td>\n      <td>0.990820</td>\n      <td>0.984203</td>\n      <td>0.991296</td>\n      <td>101</td>\n      <td>DecisionTreeClassifier</td>\n      <td>{'ccp_alpha': 0.0, 'class_weight': None, 'crit...</td>\n      <td>Run_1</td>\n      <td>Credit</td>\n      <td>10</td>\n    </tr>\n    <tr>\n      <th>7</th>\n      <td>TPR</td>\n      <td>0.000000</td>\n      <td>0.000000</td>\n      <td>0.000000</td>\n      <td>101</td>\n      <td>DecisionTreeClassifier</td>\n      <td>{'ccp_alpha': 0.0, 'class_weight': None, 'crit...</td>\n      <td>Run_1</td>\n      <td>Credit</td>\n      <td>10</td>\n    </tr>\n    <tr>\n      <th>8</th>\n      <td>TNR</td>\n      <td>1.000000</td>\n      <td>1.000000</td>\n      <td>1.000000</td>\n      <td>101</td>\n      <td>DecisionTreeClassifier</td>\n      <td>{'ccp_alpha': 0.0, 'class_weight': None, 'crit...</td>\n      <td>Run_1</td>\n      <td>Credit</td>\n      <td>10</td>\n    </tr>\n    <tr>\n      <th>9</th>\n      <td>PPV</td>\n      <td>NaN</td>\n      <td>NaN</td>\n      <td>NaN</td>\n      <td>101</td>\n      <td>DecisionTreeClassifier</td>\n      <td>{'ccp_alpha': 0.0, 'class_weight': None, 'crit...</td>\n      <td>Run_1</td>\n      <td>Credit</td>\n      <td>10</td>\n    </tr>\n    <tr>\n      <th>10</th>\n      <td>FNR</td>\n      <td>1.000000</td>\n      <td>1.000000</td>\n      <td>1.000000</td>\n      <td>101</td>\n      <td>DecisionTreeClassifier</td>\n      <td>{'ccp_alpha': 0.0, 'class_weight': None, 'crit...</td>\n      <td>Run_1</td>\n      <td>Credit</td>\n      <td>10</td>\n    </tr>\n    <tr>\n      <th>11</th>\n      <td>FPR</td>\n      <td>0.000000</td>\n      <td>0.000000</td>\n      <td>0.000000</td>\n      <td>101</td>\n      <td>DecisionTreeClassifier</td>\n      <td>{'ccp_alpha': 0.0, 'class_weight': None, 'crit...</td>\n      <td>Run_1</td>\n      <td>Credit</td>\n      <td>10</td>\n    </tr>\n    <tr>\n      <th>12</th>\n      <td>Accuracy</td>\n      <td>0.499400</td>\n      <td>0.491803</td>\n      <td>0.499946</td>\n      <td>101</td>\n      <td>DecisionTreeClassifier</td>\n      <td>{'ccp_alpha': 0.0, 'class_weight': None, 'crit...</td>\n      <td>Run_1</td>\n      <td>Credit</td>\n      <td>10</td>\n    </tr>\n    <tr>\n      <th>13</th>\n      <td>F1</td>\n      <td>0.000000</td>\n      <td>0.000000</td>\n      <td>0.000000</td>\n      <td>101</td>\n      <td>DecisionTreeClassifier</td>\n      <td>{'ccp_alpha': 0.0, 'class_weight': None, 'crit...</td>\n      <td>Run_1</td>\n      <td>Credit</td>\n      <td>10</td>\n    </tr>\n    <tr>\n      <th>14</th>\n      <td>Selection-Rate</td>\n      <td>0.000000</td>\n      <td>0.000000</td>\n      <td>0.000000</td>\n      <td>101</td>\n      <td>DecisionTreeClassifier</td>\n      <td>{'ccp_alpha': 0.0, 'class_weight': None, 'crit...</td>\n      <td>Run_1</td>\n      <td>Credit</td>\n      <td>10</td>\n    </tr>\n    <tr>\n      <th>15</th>\n      <td>Positive-Rate</td>\n      <td>0.000000</td>\n      <td>0.000000</td>\n      <td>0.000000</td>\n      <td>101</td>\n      <td>DecisionTreeClassifier</td>\n      <td>{'ccp_alpha': 0.0, 'class_weight': None, 'crit...</td>\n      <td>Run_1</td>\n      <td>Credit</td>\n      <td>10</td>\n    </tr>\n    <tr>\n      <th>0</th>\n      <td>Mean</td>\n      <td>0.935108</td>\n      <td>0.889560</td>\n      <td>0.938384</td>\n      <td>102</td>\n      <td>DecisionTreeClassifier</td>\n      <td>{'ccp_alpha': 0.0, 'class_weight': None, 'crit...</td>\n      <td>Run_2</td>\n      <td>Credit</td>\n      <td>10</td>\n    </tr>\n    <tr>\n      <th>1</th>\n      <td>Std</td>\n      <td>0.026793</td>\n      <td>0.038174</td>\n      <td>0.025974</td>\n      <td>102</td>\n      <td>DecisionTreeClassifier</td>\n      <td>{'ccp_alpha': 0.0, 'class_weight': None, 'crit...</td>\n      <td>Run_2</td>\n      <td>Credit</td>\n      <td>10</td>\n    </tr>\n    <tr>\n      <th>2</th>\n      <td>IQR</td>\n      <td>0.032992</td>\n      <td>0.046241</td>\n      <td>0.032039</td>\n      <td>102</td>\n      <td>DecisionTreeClassifier</td>\n      <td>{'ccp_alpha': 0.0, 'class_weight': None, 'crit...</td>\n      <td>Run_2</td>\n      <td>Credit</td>\n      <td>10</td>\n    </tr>\n    <tr>\n      <th>3</th>\n      <td>Entropy</td>\n      <td>0.000000</td>\n      <td>0.000000</td>\n      <td>0.000000</td>\n      <td>102</td>\n      <td>DecisionTreeClassifier</td>\n      <td>{'ccp_alpha': 0.0, 'class_weight': None, 'crit...</td>\n      <td>Run_2</td>\n      <td>Credit</td>\n      <td>10</td>\n    </tr>\n  </tbody>\n</table>\n</div>"
     },
     "execution_count": 70,
     "metadata": {},
     "output_type": "execute_result"
    }
   ],
   "source": [
    "sample_model_metrics_df = multiple_run_metrics_dct[list(models_params_for_tuning.keys())[0]]\n",
    "sample_model_metrics_df.head(20)"
   ],
   "metadata": {
    "collapsed": false
   }
  },
  {
   "cell_type": "markdown",
   "source": [
    "### Experiment iteration 2"
   ],
   "metadata": {
    "collapsed": false
   }
  },
  {
   "cell_type": "code",
   "execution_count": 70,
   "outputs": [],
   "source": [],
   "metadata": {
    "collapsed": false
   }
  }
 ],
 "metadata": {
  "kernelspec": {
   "display_name": "Python 3 (ipykernel)",
   "language": "python",
   "name": "python3"
  },
  "language_info": {
   "codemirror_mode": {
    "name": "ipython",
    "version": 3
   },
   "file_extension": ".py",
   "mimetype": "text/x-python",
   "name": "python",
   "nbconvert_exporter": "python",
   "pygments_lexer": "ipython3",
   "version": "3.8.10"
  }
 },
 "nbformat": 4,
 "nbformat_minor": 5
}
