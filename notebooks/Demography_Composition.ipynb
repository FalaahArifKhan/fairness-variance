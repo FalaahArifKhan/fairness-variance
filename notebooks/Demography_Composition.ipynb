{
 "cells": [
  {
   "cell_type": "code",
   "execution_count": 9,
   "metadata": {
    "ExecuteTime": {
     "end_time": "2023-10-19T14:10:30.533215Z",
     "start_time": "2023-10-19T14:10:30.444228Z"
    },
    "collapsed": true
   },
   "outputs": [
    {
     "name": "stdout",
     "output_type": "stream",
     "text": [
      "The autoreload extension is already loaded. To reload it, use:\n",
      "  %reload_ext autoreload\n"
     ]
    }
   ],
   "source": [
    "%matplotlib inline\n",
    "%load_ext autoreload\n",
    "%autoreload 2"
   ]
  },
  {
   "cell_type": "code",
   "execution_count": 10,
   "metadata": {
    "ExecuteTime": {
     "end_time": "2023-10-19T14:10:30.533823Z",
     "start_time": "2023-10-19T14:10:30.474123Z"
    }
   },
   "outputs": [],
   "source": [
    "import os\n",
    "import warnings\n",
    "warnings.filterwarnings('ignore')\n",
    "os.environ[\"PYTHONWARNINGS\"] = \"ignore\""
   ]
  },
  {
   "cell_type": "code",
   "execution_count": 11,
   "metadata": {
    "ExecuteTime": {
     "end_time": "2023-10-19T14:10:30.534036Z",
     "start_time": "2023-10-19T14:10:30.496801Z"
    }
   },
   "outputs": [],
   "source": [
    "import pandas as pd\n",
    "\n",
    "from virny.datasets.base import BaseDataLoader\n",
    "from virny.datasets.data_loaders import LawSchoolDataset\n",
    "from virny.utils.protected_groups_partitioning import create_test_protected_groups"
   ]
  },
  {
   "cell_type": "code",
   "execution_count": 12,
   "metadata": {
    "ExecuteTime": {
     "end_time": "2023-10-19T14:10:30.552062Z",
     "start_time": "2023-10-19T14:10:30.531572Z"
    }
   },
   "outputs": [],
   "source": [
    "def get_proportions(protected_groups, X_data):\n",
    "    for col_name in protected_groups.keys():\n",
    "        proportion = protected_groups[col_name].shape[0] / X_data.shape[0]\n",
    "        print(f'{col_name}: {round(proportion, 3)}')\n",
    "\n",
    "\n",
    "def get_base_rate(protected_groups, y_data):\n",
    "    for col_name in protected_groups.keys():\n",
    "        filtered_df = y_data.iloc[protected_groups[col_name].index].copy(deep=True)\n",
    "        base_rate = filtered_df[filtered_df == 1].shape[0] / filtered_df.shape[0]\n",
    "        print(f'{col_name}: {round(base_rate, 3)}')\n",
    "\n",
    "    base_rate = y_data[y_data == 1].shape[0] / y_data.shape[0]\n",
    "    print(f'overall: {round(base_rate, 3)}')"
   ]
  },
  {
   "cell_type": "code",
   "execution_count": 13,
   "metadata": {
    "ExecuteTime": {
     "end_time": "2023-10-19T14:10:30.575913Z",
     "start_time": "2023-10-19T14:10:30.553380Z"
    }
   },
   "outputs": [],
   "source": [
    "# sensitive_attributes_dct = {'male': '0.0', 'race': 'Non-White', 'male & race': None}\n",
    "sensitive_attributes_dct = {'sex': 'F'}"
   ]
  },
  {
   "cell_type": "code",
   "execution_count": 14,
   "metadata": {
    "ExecuteTime": {
     "end_time": "2023-10-19T14:10:30.590824Z",
     "start_time": "2023-10-19T14:10:30.572291Z"
    }
   },
   "outputs": [],
   "source": [
    "class StudentPerformanceDataset(BaseDataLoader):\n",
    "    def __init__(self, dataset_path=None):\n",
    "        df = pd.read_csv(dataset_path, delimiter=';')\n",
    "\n",
    "        target = 'G3'\n",
    "        df[target] = (df[target] >= 10) * 1\n",
    "\n",
    "        df['G1'] = (df['G1'] >= 10) * 1\n",
    "        df['G2'] = (df['G2'] >= 10) * 1\n",
    "\n",
    "\n",
    "        categorical_columns = ['Mjob', 'Fjob', 'reason', 'guardian', 'sex']\n",
    "        numerical_columns = ['age', 'Medu', 'Fedu', 'traveltime', 'studytime', 'failures',\n",
    "                             'famrel', 'freetime', 'goout', 'Dalc', 'Walc', 'health',\n",
    "                             'absences', 'G1', 'G2']\n",
    "\n",
    "        super().__init__(\n",
    "            full_df=df,\n",
    "            target=target,\n",
    "            numerical_columns=numerical_columns,\n",
    "            categorical_columns=categorical_columns,\n",
    "        )"
   ]
  },
  {
   "cell_type": "code",
   "execution_count": 15,
   "metadata": {
    "ExecuteTime": {
     "end_time": "2023-10-19T14:10:30.617161Z",
     "start_time": "2023-10-19T14:10:30.590715Z"
    }
   },
   "outputs": [
    {
     "data": {
      "text/html": [
       "<div>\n",
       "<style scoped>\n",
       "    .dataframe tbody tr th:only-of-type {\n",
       "        vertical-align: middle;\n",
       "    }\n",
       "\n",
       "    .dataframe tbody tr th {\n",
       "        vertical-align: top;\n",
       "    }\n",
       "\n",
       "    .dataframe thead th {\n",
       "        text-align: right;\n",
       "    }\n",
       "</style>\n",
       "<table border=\"1\" class=\"dataframe\">\n",
       "  <thead>\n",
       "    <tr style=\"text-align: right;\">\n",
       "      <th></th>\n",
       "      <th>school</th>\n",
       "      <th>sex</th>\n",
       "      <th>age</th>\n",
       "      <th>address</th>\n",
       "      <th>famsize</th>\n",
       "      <th>Pstatus</th>\n",
       "      <th>Medu</th>\n",
       "      <th>Fedu</th>\n",
       "      <th>Mjob</th>\n",
       "      <th>Fjob</th>\n",
       "      <th>...</th>\n",
       "      <th>famrel</th>\n",
       "      <th>freetime</th>\n",
       "      <th>goout</th>\n",
       "      <th>Dalc</th>\n",
       "      <th>Walc</th>\n",
       "      <th>health</th>\n",
       "      <th>absences</th>\n",
       "      <th>G1</th>\n",
       "      <th>G2</th>\n",
       "      <th>G3</th>\n",
       "    </tr>\n",
       "  </thead>\n",
       "  <tbody>\n",
       "    <tr>\n",
       "      <th>0</th>\n",
       "      <td>GP</td>\n",
       "      <td>F</td>\n",
       "      <td>18</td>\n",
       "      <td>U</td>\n",
       "      <td>GT3</td>\n",
       "      <td>A</td>\n",
       "      <td>4</td>\n",
       "      <td>4</td>\n",
       "      <td>at_home</td>\n",
       "      <td>teacher</td>\n",
       "      <td>...</td>\n",
       "      <td>4</td>\n",
       "      <td>3</td>\n",
       "      <td>4</td>\n",
       "      <td>1</td>\n",
       "      <td>1</td>\n",
       "      <td>3</td>\n",
       "      <td>6</td>\n",
       "      <td>0</td>\n",
       "      <td>0</td>\n",
       "      <td>0</td>\n",
       "    </tr>\n",
       "    <tr>\n",
       "      <th>1</th>\n",
       "      <td>GP</td>\n",
       "      <td>F</td>\n",
       "      <td>17</td>\n",
       "      <td>U</td>\n",
       "      <td>GT3</td>\n",
       "      <td>T</td>\n",
       "      <td>1</td>\n",
       "      <td>1</td>\n",
       "      <td>at_home</td>\n",
       "      <td>other</td>\n",
       "      <td>...</td>\n",
       "      <td>5</td>\n",
       "      <td>3</td>\n",
       "      <td>3</td>\n",
       "      <td>1</td>\n",
       "      <td>1</td>\n",
       "      <td>3</td>\n",
       "      <td>4</td>\n",
       "      <td>0</td>\n",
       "      <td>0</td>\n",
       "      <td>0</td>\n",
       "    </tr>\n",
       "    <tr>\n",
       "      <th>2</th>\n",
       "      <td>GP</td>\n",
       "      <td>F</td>\n",
       "      <td>15</td>\n",
       "      <td>U</td>\n",
       "      <td>LE3</td>\n",
       "      <td>T</td>\n",
       "      <td>1</td>\n",
       "      <td>1</td>\n",
       "      <td>at_home</td>\n",
       "      <td>other</td>\n",
       "      <td>...</td>\n",
       "      <td>4</td>\n",
       "      <td>3</td>\n",
       "      <td>2</td>\n",
       "      <td>2</td>\n",
       "      <td>3</td>\n",
       "      <td>3</td>\n",
       "      <td>10</td>\n",
       "      <td>0</td>\n",
       "      <td>0</td>\n",
       "      <td>1</td>\n",
       "    </tr>\n",
       "    <tr>\n",
       "      <th>3</th>\n",
       "      <td>GP</td>\n",
       "      <td>F</td>\n",
       "      <td>15</td>\n",
       "      <td>U</td>\n",
       "      <td>GT3</td>\n",
       "      <td>T</td>\n",
       "      <td>4</td>\n",
       "      <td>2</td>\n",
       "      <td>health</td>\n",
       "      <td>services</td>\n",
       "      <td>...</td>\n",
       "      <td>3</td>\n",
       "      <td>2</td>\n",
       "      <td>2</td>\n",
       "      <td>1</td>\n",
       "      <td>1</td>\n",
       "      <td>5</td>\n",
       "      <td>2</td>\n",
       "      <td>1</td>\n",
       "      <td>1</td>\n",
       "      <td>1</td>\n",
       "    </tr>\n",
       "    <tr>\n",
       "      <th>4</th>\n",
       "      <td>GP</td>\n",
       "      <td>F</td>\n",
       "      <td>16</td>\n",
       "      <td>U</td>\n",
       "      <td>GT3</td>\n",
       "      <td>T</td>\n",
       "      <td>3</td>\n",
       "      <td>3</td>\n",
       "      <td>other</td>\n",
       "      <td>other</td>\n",
       "      <td>...</td>\n",
       "      <td>4</td>\n",
       "      <td>3</td>\n",
       "      <td>2</td>\n",
       "      <td>1</td>\n",
       "      <td>2</td>\n",
       "      <td>5</td>\n",
       "      <td>4</td>\n",
       "      <td>0</td>\n",
       "      <td>1</td>\n",
       "      <td>1</td>\n",
       "    </tr>\n",
       "  </tbody>\n",
       "</table>\n",
       "<p>5 rows × 33 columns</p>\n",
       "</div>"
      ],
      "text/plain": [
       "  school sex  age address famsize Pstatus  Medu  Fedu     Mjob      Fjob  ...  \\\n",
       "0     GP   F   18       U     GT3       A     4     4  at_home   teacher  ...   \n",
       "1     GP   F   17       U     GT3       T     1     1  at_home     other  ...   \n",
       "2     GP   F   15       U     LE3       T     1     1  at_home     other  ...   \n",
       "3     GP   F   15       U     GT3       T     4     2   health  services  ...   \n",
       "4     GP   F   16       U     GT3       T     3     3    other     other  ...   \n",
       "\n",
       "  famrel freetime  goout  Dalc  Walc health absences G1 G2 G3  \n",
       "0      4        3      4     1     1      3        6  0  0  0  \n",
       "1      5        3      3     1     1      3        4  0  0  0  \n",
       "2      4        3      2     2     3      3       10  0  0  1  \n",
       "3      3        2      2     1     1      5        2  1  1  1  \n",
       "4      4        3      2     1     2      5        4  0  1  1  \n",
       "\n",
       "[5 rows x 33 columns]"
      ]
     },
     "execution_count": 15,
     "metadata": {},
     "output_type": "execute_result"
    }
   ],
   "source": [
    "data_loader = StudentPerformanceDataset(dataset_path='../data/student-mat.csv')\n",
    "data_loader.full_df.head()"
   ]
  },
  {
   "cell_type": "code",
   "execution_count": 16,
   "metadata": {
    "ExecuteTime": {
     "end_time": "2023-10-19T14:10:30.641087Z",
     "start_time": "2023-10-19T14:10:30.617634Z"
    }
   },
   "outputs": [
    {
     "data": {
      "text/plain": [
       "(395, 33)"
      ]
     },
     "execution_count": 16,
     "metadata": {},
     "output_type": "execute_result"
    }
   ],
   "source": [
    "data_loader.full_df.shape"
   ]
  },
  {
   "cell_type": "code",
   "execution_count": 17,
   "metadata": {
    "ExecuteTime": {
     "end_time": "2023-10-19T14:10:30.692903Z",
     "start_time": "2023-10-19T14:10:30.636965Z"
    }
   },
   "outputs": [
    {
     "data": {
      "text/plain": [
       "F    208\n",
       "M    187\n",
       "Name: sex, dtype: int64"
      ]
     },
     "execution_count": 17,
     "metadata": {},
     "output_type": "execute_result"
    }
   ],
   "source": [
    "data_loader.full_df['sex'].value_counts()"
   ]
  },
  {
   "cell_type": "code",
   "execution_count": 18,
   "metadata": {
    "ExecuteTime": {
     "end_time": "2023-10-19T14:10:30.716716Z",
     "start_time": "2023-10-19T14:10:30.656637Z"
    }
   },
   "outputs": [],
   "source": [
    "protected_groups = create_test_protected_groups(data_loader.X_data, data_loader.X_data, sensitive_attributes_dct)"
   ]
  },
  {
   "cell_type": "code",
   "execution_count": 19,
   "metadata": {
    "ExecuteTime": {
     "end_time": "2023-10-19T14:10:30.717426Z",
     "start_time": "2023-10-19T14:10:30.675141Z"
    }
   },
   "outputs": [
    {
     "name": "stdout",
     "output_type": "stream",
     "text": [
      "sex_priv: 187\n",
      "sex_dis: 208\n"
     ]
    }
   ],
   "source": [
    "for col_name in protected_groups.keys():\n",
    "    print(f'{col_name}: {protected_groups[col_name].shape[0]}')"
   ]
  },
  {
   "cell_type": "code",
   "execution_count": 20,
   "metadata": {
    "ExecuteTime": {
     "end_time": "2023-10-19T14:10:30.718933Z",
     "start_time": "2023-10-19T14:10:30.693043Z"
    }
   },
   "outputs": [
    {
     "data": {
      "text/plain": [
       "dict_keys(['sex_priv', 'sex_dis'])"
      ]
     },
     "execution_count": 20,
     "metadata": {},
     "output_type": "execute_result"
    }
   ],
   "source": [
    "protected_groups.keys()"
   ]
  },
  {
   "cell_type": "code",
   "execution_count": 21,
   "metadata": {
    "ExecuteTime": {
     "end_time": "2023-10-19T14:10:30.770584Z",
     "start_time": "2023-10-19T14:10:30.710693Z"
    }
   },
   "outputs": [
    {
     "name": "stdout",
     "output_type": "stream",
     "text": [
      "sex_priv: 0.473\n",
      "sex_dis: 0.527\n"
     ]
    }
   ],
   "source": [
    "get_proportions(protected_groups, data_loader.X_data)"
   ]
  },
  {
   "cell_type": "code",
   "execution_count": 22,
   "metadata": {
    "ExecuteTime": {
     "end_time": "2023-10-19T14:10:30.772004Z",
     "start_time": "2023-10-19T14:10:30.730251Z"
    }
   },
   "outputs": [
    {
     "name": "stdout",
     "output_type": "stream",
     "text": [
      "sex_priv: 0.706\n",
      "sex_dis: 0.639\n",
      "overall: 0.671\n"
     ]
    }
   ],
   "source": [
    "get_base_rate(protected_groups, data_loader.y_data)"
   ]
  },
  {
   "cell_type": "code",
   "execution_count": 22,
   "metadata": {
    "ExecuteTime": {
     "end_time": "2023-10-19T14:10:30.772166Z",
     "start_time": "2023-10-19T14:10:30.747384Z"
    }
   },
   "outputs": [],
   "source": []
  },
  {
   "cell_type": "code",
   "execution_count": 23,
   "metadata": {
    "ExecuteTime": {
     "end_time": "2023-10-19T14:10:30.813223Z",
     "start_time": "2023-10-19T14:10:30.749830Z"
    }
   },
   "outputs": [
    {
     "ename": "KeyError",
     "evalue": "'male_priv'",
     "output_type": "error",
     "traceback": [
      "\u001b[0;31m---------------------------------------------------------------------------\u001b[0m",
      "\u001b[0;31mKeyError\u001b[0m                                  Traceback (most recent call last)",
      "Cell \u001b[0;32mIn[23], line 1\u001b[0m\n\u001b[0;32m----> 1\u001b[0m data_loader\u001b[38;5;241m.\u001b[39my_data\u001b[38;5;241m.\u001b[39miloc[\u001b[43mprotected_groups\u001b[49m\u001b[43m[\u001b[49m\u001b[38;5;124;43m'\u001b[39;49m\u001b[38;5;124;43mmale_priv\u001b[39;49m\u001b[38;5;124;43m'\u001b[39;49m\u001b[43m]\u001b[49m\u001b[38;5;241m.\u001b[39mindex]\u001b[38;5;241m.\u001b[39mhead()\n",
      "\u001b[0;31mKeyError\u001b[0m: 'male_priv'"
     ]
    }
   ],
   "source": [
    "data_loader.y_data.iloc[protected_groups['male_priv'].index].head()"
   ]
  },
  {
   "cell_type": "code",
   "execution_count": null,
   "metadata": {
    "ExecuteTime": {
     "start_time": "2023-10-19T14:10:30.780269Z"
    }
   },
   "outputs": [],
   "source": [
    "data_loader.y_data.iloc[protected_groups['male_priv'].index].dtype"
   ]
  },
  {
   "cell_type": "code",
   "execution_count": null,
   "metadata": {
    "ExecuteTime": {
     "start_time": "2023-10-19T14:10:30.781985Z"
    }
   },
   "outputs": [],
   "source": [
    "filtered_df = data_loader.y_data.iloc[protected_groups['male_priv'].index].copy(deep=True)\n",
    "base_rate = filtered_df[filtered_df == 1].shape[0] / filtered_df.shape[0]"
   ]
  },
  {
   "cell_type": "code",
   "execution_count": null,
   "metadata": {
    "ExecuteTime": {
     "start_time": "2023-10-19T14:10:30.783347Z"
    }
   },
   "outputs": [],
   "source": [
    "base_rate"
   ]
  },
  {
   "cell_type": "code",
   "execution_count": null,
   "metadata": {
    "ExecuteTime": {
     "start_time": "2023-10-19T14:10:30.784653Z"
    }
   },
   "outputs": [],
   "source": [
    "filtered_df[filtered_df == 1].shape[0]"
   ]
  },
  {
   "cell_type": "code",
   "execution_count": null,
   "metadata": {
    "ExecuteTime": {
     "start_time": "2023-10-19T14:10:30.785639Z"
    }
   },
   "outputs": [],
   "source": [
    "filtered_df.shape[0]"
   ]
  },
  {
   "cell_type": "code",
   "execution_count": null,
   "metadata": {
    "ExecuteTime": {
     "start_time": "2023-10-19T14:10:30.786474Z"
    }
   },
   "outputs": [],
   "source": []
  }
 ],
 "metadata": {
  "kernelspec": {
   "display_name": "Python 3",
   "language": "python",
   "name": "python3"
  },
  "language_info": {
   "codemirror_mode": {
    "name": "ipython",
    "version": 3
   },
   "file_extension": ".py",
   "mimetype": "text/x-python",
   "name": "python",
   "nbconvert_exporter": "python",
   "pygments_lexer": "ipython3",
   "version": "3.8.5"
  }
 },
 "nbformat": 4,
 "nbformat_minor": 1
}
