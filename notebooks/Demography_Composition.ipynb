{
 "cells": [
  {
   "cell_type": "code",
   "execution_count": 1,
   "metadata": {
    "collapsed": true,
    "ExecuteTime": {
     "end_time": "2024-01-22T16:49:11.826239Z",
     "start_time": "2024-01-22T16:49:11.492728Z"
    }
   },
   "outputs": [],
   "source": [
    "%matplotlib inline\n",
    "%load_ext autoreload\n",
    "%autoreload 2"
   ]
  },
  {
   "cell_type": "code",
   "execution_count": 2,
   "outputs": [],
   "source": [
    "import os\n",
    "import warnings\n",
    "warnings.filterwarnings('ignore')\n",
    "os.environ[\"PYTHONWARNINGS\"] = \"ignore\""
   ],
   "metadata": {
    "collapsed": false,
    "ExecuteTime": {
     "end_time": "2024-01-22T16:49:11.835147Z",
     "start_time": "2024-01-22T16:49:11.826162Z"
    }
   }
  },
  {
   "cell_type": "code",
   "execution_count": 3,
   "outputs": [],
   "source": [
    "import pandas as pd\n",
    "\n",
    "from virny.datasets.data_loaders import ACSIncomeDataset\n",
    "from virny.utils.protected_groups_partitioning import create_test_protected_groups"
   ],
   "metadata": {
    "collapsed": false,
    "ExecuteTime": {
     "end_time": "2024-01-22T16:49:12.629931Z",
     "start_time": "2024-01-22T16:49:11.968207Z"
    }
   }
  },
  {
   "cell_type": "code",
   "execution_count": 4,
   "outputs": [],
   "source": [
    "def get_proportions(protected_groups, X_data):\n",
    "    for col_name in protected_groups.keys():\n",
    "        proportion = protected_groups[col_name].shape[0] / X_data.shape[0]\n",
    "        print(f'{col_name}: {round(proportion, 3)}')\n",
    "\n",
    "\n",
    "def get_base_rate(protected_groups, y_data):\n",
    "    for col_name in protected_groups.keys():\n",
    "        filtered_df = y_data.iloc[protected_groups[col_name].index].copy(deep=True)\n",
    "        base_rate = filtered_df[filtered_df == 1].shape[0] / filtered_df.shape[0]\n",
    "        print(f'{col_name}: {round(base_rate, 3)}')\n",
    "\n",
    "    base_rate = y_data[y_data == 1].shape[0] / y_data.shape[0]\n",
    "    print(f'overall: {round(base_rate, 3)}')"
   ],
   "metadata": {
    "collapsed": false,
    "ExecuteTime": {
     "end_time": "2024-01-22T16:49:12.645829Z",
     "start_time": "2024-01-22T16:49:12.631178Z"
    }
   }
  },
  {
   "cell_type": "code",
   "execution_count": 5,
   "outputs": [],
   "source": [
    "sensitive_attributes_dct = {'SEX': '2', 'RAC1P': ['2', '3', '4', '5', '6', '7', '8', '9'], 'SEX & RAC1P': None}"
   ],
   "metadata": {
    "collapsed": false,
    "ExecuteTime": {
     "end_time": "2024-01-22T16:49:12.661845Z",
     "start_time": "2024-01-22T16:49:12.646615Z"
    }
   }
  },
  {
   "cell_type": "code",
   "execution_count": 6,
   "outputs": [
    {
     "data": {
      "text/plain": "  SCHL COW MAR  OCCP POBP RELP SEX RAC1P  AGEP  WKHP\n0   16   1   3  4230    1    0   2     2    61  15.0\n1   23   5   1  3090  134    0   1     1    74  50.0\n2   19   1   3  9645   26    2   1     2    59  40.0\n3   14   2   5  4251    5   16   1     1    17  18.0\n4   21   1   1  1021  217    1   1     6    33  45.0",
      "text/html": "<div>\n<style scoped>\n    .dataframe tbody tr th:only-of-type {\n        vertical-align: middle;\n    }\n\n    .dataframe tbody tr th {\n        vertical-align: top;\n    }\n\n    .dataframe thead th {\n        text-align: right;\n    }\n</style>\n<table border=\"1\" class=\"dataframe\">\n  <thead>\n    <tr style=\"text-align: right;\">\n      <th></th>\n      <th>SCHL</th>\n      <th>COW</th>\n      <th>MAR</th>\n      <th>OCCP</th>\n      <th>POBP</th>\n      <th>RELP</th>\n      <th>SEX</th>\n      <th>RAC1P</th>\n      <th>AGEP</th>\n      <th>WKHP</th>\n    </tr>\n  </thead>\n  <tbody>\n    <tr>\n      <th>0</th>\n      <td>16</td>\n      <td>1</td>\n      <td>3</td>\n      <td>4230</td>\n      <td>1</td>\n      <td>0</td>\n      <td>2</td>\n      <td>2</td>\n      <td>61</td>\n      <td>15.0</td>\n    </tr>\n    <tr>\n      <th>1</th>\n      <td>23</td>\n      <td>5</td>\n      <td>1</td>\n      <td>3090</td>\n      <td>134</td>\n      <td>0</td>\n      <td>1</td>\n      <td>1</td>\n      <td>74</td>\n      <td>50.0</td>\n    </tr>\n    <tr>\n      <th>2</th>\n      <td>19</td>\n      <td>1</td>\n      <td>3</td>\n      <td>9645</td>\n      <td>26</td>\n      <td>2</td>\n      <td>1</td>\n      <td>2</td>\n      <td>59</td>\n      <td>40.0</td>\n    </tr>\n    <tr>\n      <th>3</th>\n      <td>14</td>\n      <td>2</td>\n      <td>5</td>\n      <td>4251</td>\n      <td>5</td>\n      <td>16</td>\n      <td>1</td>\n      <td>1</td>\n      <td>17</td>\n      <td>18.0</td>\n    </tr>\n    <tr>\n      <th>4</th>\n      <td>21</td>\n      <td>1</td>\n      <td>1</td>\n      <td>1021</td>\n      <td>217</td>\n      <td>1</td>\n      <td>1</td>\n      <td>6</td>\n      <td>33</td>\n      <td>45.0</td>\n    </tr>\n  </tbody>\n</table>\n</div>"
     },
     "execution_count": 6,
     "metadata": {},
     "output_type": "execute_result"
    }
   ],
   "source": [
    "data_loader = ACSIncomeDataset(state=['WV', 'MS', 'AR', 'NM', 'LA', 'AL', 'KY'], year=2018, with_nulls=False,\n",
    "                               subsample_size=100_000, subsample_seed=42)\n",
    "data_loader.full_df.head()"
   ],
   "metadata": {
    "collapsed": false,
    "ExecuteTime": {
     "end_time": "2024-01-22T16:49:16.317449Z",
     "start_time": "2024-01-22T16:49:12.871776Z"
    }
   }
  },
  {
   "cell_type": "code",
   "execution_count": 7,
   "outputs": [
    {
     "data": {
      "text/plain": "(100000, 10)"
     },
     "execution_count": 7,
     "metadata": {},
     "output_type": "execute_result"
    }
   ],
   "source": [
    "data_loader.full_df.shape"
   ],
   "metadata": {
    "collapsed": false,
    "ExecuteTime": {
     "end_time": "2024-01-22T16:49:16.341157Z",
     "start_time": "2024-01-22T16:49:16.316384Z"
    }
   }
  },
  {
   "cell_type": "code",
   "execution_count": 8,
   "outputs": [
    {
     "data": {
      "text/plain": "1    51581\n2    48419\nName: SEX, dtype: int64"
     },
     "execution_count": 8,
     "metadata": {},
     "output_type": "execute_result"
    }
   ],
   "source": [
    "data_loader.full_df['SEX'].value_counts()"
   ],
   "metadata": {
    "collapsed": false,
    "ExecuteTime": {
     "end_time": "2024-01-22T16:49:16.395399Z",
     "start_time": "2024-01-22T16:49:16.338587Z"
    }
   }
  },
  {
   "cell_type": "code",
   "execution_count": 9,
   "outputs": [],
   "source": [
    "protected_groups = create_test_protected_groups(data_loader.X_data, data_loader.X_data, sensitive_attributes_dct)"
   ],
   "metadata": {
    "collapsed": false,
    "ExecuteTime": {
     "end_time": "2024-01-22T16:49:16.413085Z",
     "start_time": "2024-01-22T16:49:16.360106Z"
    }
   }
  },
  {
   "cell_type": "code",
   "execution_count": 10,
   "outputs": [
    {
     "name": "stdout",
     "output_type": "stream",
     "text": [
      "SEX_priv: 51581\n",
      "SEX_dis: 48419\n",
      "RAC1P_priv: 78808\n",
      "RAC1P_dis: 21192\n",
      "SEX&RAC1P_priv: 88731\n",
      "SEX&RAC1P_dis: 11269\n"
     ]
    }
   ],
   "source": [
    "for col_name in protected_groups.keys():\n",
    "    print(f'{col_name}: {protected_groups[col_name].shape[0]}')"
   ],
   "metadata": {
    "collapsed": false,
    "ExecuteTime": {
     "end_time": "2024-01-22T16:49:16.424874Z",
     "start_time": "2024-01-22T16:49:16.408693Z"
    }
   }
  },
  {
   "cell_type": "code",
   "execution_count": 11,
   "outputs": [
    {
     "data": {
      "text/plain": "dict_keys(['SEX_priv', 'SEX_dis', 'RAC1P_priv', 'RAC1P_dis', 'SEX&RAC1P_priv', 'SEX&RAC1P_dis'])"
     },
     "execution_count": 11,
     "metadata": {},
     "output_type": "execute_result"
    }
   ],
   "source": [
    "protected_groups.keys()"
   ],
   "metadata": {
    "collapsed": false,
    "ExecuteTime": {
     "end_time": "2024-01-22T16:49:17.044020Z",
     "start_time": "2024-01-22T16:49:17.018685Z"
    }
   }
  },
  {
   "cell_type": "code",
   "execution_count": 12,
   "outputs": [
    {
     "name": "stdout",
     "output_type": "stream",
     "text": [
      "SEX_priv: 0.516\n",
      "SEX_dis: 0.484\n",
      "RAC1P_priv: 0.788\n",
      "RAC1P_dis: 0.212\n",
      "SEX&RAC1P_priv: 0.887\n",
      "SEX&RAC1P_dis: 0.113\n"
     ]
    }
   ],
   "source": [
    "get_proportions(protected_groups, data_loader.X_data)"
   ],
   "metadata": {
    "collapsed": false,
    "ExecuteTime": {
     "end_time": "2024-01-22T16:49:17.339091Z",
     "start_time": "2024-01-22T16:49:17.317017Z"
    }
   }
  },
  {
   "cell_type": "code",
   "execution_count": 13,
   "outputs": [
    {
     "name": "stdout",
     "output_type": "stream",
     "text": [
      "SEX_priv: 0.386\n",
      "SEX_dis: 0.212\n",
      "RAC1P_priv: 0.333\n",
      "RAC1P_dis: 0.186\n",
      "SEX&RAC1P_priv: 0.322\n",
      "SEX&RAC1P_dis: 0.14\n",
      "overall: 0.302\n"
     ]
    }
   ],
   "source": [
    "get_base_rate(protected_groups, data_loader.y_data)"
   ],
   "metadata": {
    "collapsed": false,
    "ExecuteTime": {
     "end_time": "2024-01-22T16:49:17.823014Z",
     "start_time": "2024-01-22T16:49:17.794785Z"
    }
   }
  },
  {
   "cell_type": "code",
   "execution_count": 32,
   "outputs": [],
   "source": [],
   "metadata": {
    "collapsed": false,
    "ExecuteTime": {
     "end_time": "2023-10-17T09:51:40.686995Z",
     "start_time": "2023-10-17T09:51:40.661807Z"
    }
   }
  },
  {
   "cell_type": "code",
   "execution_count": 33,
   "outputs": [
    {
     "data": {
      "text/plain": "1    1\n2    0\n3    0\n4    1\n5    0\nName: PINCP, dtype: int64"
     },
     "execution_count": 33,
     "metadata": {},
     "output_type": "execute_result"
    }
   ],
   "source": [
    "data_loader.y_data.iloc[protected_groups['SEX_priv'].index].head()"
   ],
   "metadata": {
    "collapsed": false,
    "ExecuteTime": {
     "end_time": "2023-10-17T09:51:40.687710Z",
     "start_time": "2023-10-17T09:51:40.663792Z"
    }
   }
  },
  {
   "cell_type": "code",
   "execution_count": 34,
   "outputs": [
    {
     "data": {
      "text/plain": "dtype('int64')"
     },
     "execution_count": 34,
     "metadata": {},
     "output_type": "execute_result"
    }
   ],
   "source": [
    "data_loader.y_data.iloc[protected_groups['SEX_priv'].index].dtype"
   ],
   "metadata": {
    "collapsed": false,
    "ExecuteTime": {
     "end_time": "2023-10-17T09:51:40.700005Z",
     "start_time": "2023-10-17T09:51:40.681928Z"
    }
   }
  },
  {
   "cell_type": "code",
   "execution_count": 35,
   "outputs": [],
   "source": [
    "filtered_df = data_loader.y_data.iloc[protected_groups['SEX_priv'].index].copy(deep=True)\n",
    "base_rate = filtered_df[filtered_df == 1].shape[0] / filtered_df.shape[0]"
   ],
   "metadata": {
    "collapsed": false,
    "ExecuteTime": {
     "end_time": "2023-10-17T09:51:40.738243Z",
     "start_time": "2023-10-17T09:51:40.700451Z"
    }
   }
  },
  {
   "cell_type": "code",
   "execution_count": 36,
   "outputs": [
    {
     "data": {
      "text/plain": "0.3862274868653186"
     },
     "execution_count": 36,
     "metadata": {},
     "output_type": "execute_result"
    }
   ],
   "source": [
    "base_rate"
   ],
   "metadata": {
    "collapsed": false,
    "ExecuteTime": {
     "end_time": "2023-10-17T09:51:40.751737Z",
     "start_time": "2023-10-17T09:51:40.718883Z"
    }
   }
  },
  {
   "cell_type": "code",
   "execution_count": 37,
   "outputs": [
    {
     "data": {
      "text/plain": "19922"
     },
     "execution_count": 37,
     "metadata": {},
     "output_type": "execute_result"
    }
   ],
   "source": [
    "filtered_df[filtered_df == 1].shape[0]"
   ],
   "metadata": {
    "collapsed": false,
    "ExecuteTime": {
     "end_time": "2023-10-17T09:51:40.753775Z",
     "start_time": "2023-10-17T09:51:40.736289Z"
    }
   }
  },
  {
   "cell_type": "code",
   "execution_count": 38,
   "outputs": [
    {
     "data": {
      "text/plain": "51581"
     },
     "execution_count": 38,
     "metadata": {},
     "output_type": "execute_result"
    }
   ],
   "source": [
    "filtered_df.shape[0]"
   ],
   "metadata": {
    "collapsed": false,
    "ExecuteTime": {
     "end_time": "2023-10-17T09:51:40.791012Z",
     "start_time": "2023-10-17T09:51:40.753706Z"
    }
   }
  },
  {
   "cell_type": "code",
   "execution_count": 38,
   "outputs": [],
   "source": [],
   "metadata": {
    "collapsed": false,
    "ExecuteTime": {
     "end_time": "2023-10-17T09:51:40.791223Z",
     "start_time": "2023-10-17T09:51:40.771356Z"
    }
   }
  }
 ],
 "metadata": {
  "kernelspec": {
   "display_name": "Python 3",
   "language": "python",
   "name": "python3"
  },
  "language_info": {
   "codemirror_mode": {
    "name": "ipython",
    "version": 2
   },
   "file_extension": ".py",
   "mimetype": "text/x-python",
   "name": "python",
   "nbconvert_exporter": "python",
   "pygments_lexer": "ipython2",
   "version": "2.7.6"
  }
 },
 "nbformat": 4,
 "nbformat_minor": 0
}
