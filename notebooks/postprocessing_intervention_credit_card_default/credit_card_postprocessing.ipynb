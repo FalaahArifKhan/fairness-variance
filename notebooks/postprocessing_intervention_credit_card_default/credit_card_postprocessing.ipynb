{
 "cells": [
  {
   "cell_type": "code",
   "execution_count": 1,
   "metadata": {},
   "outputs": [],
   "source": [
    "%matplotlib inline\n",
    "%load_ext autoreload\n",
    "%autoreload 2"
   ]
  },
  {
   "cell_type": "code",
   "execution_count": 2,
   "metadata": {},
   "outputs": [],
   "source": [
    "import os\n",
    "import warnings\n",
    "warnings.filterwarnings('ignore')\n",
    "os.environ[\"PYTHONWARNINGS\"] = \"ignore\""
   ]
  },
  {
   "cell_type": "code",
   "execution_count": 3,
   "metadata": {},
   "outputs": [
    {
     "name": "stdout",
     "output_type": "stream",
     "text": [
      "Current location:  c:\\RAI\\latest\\fairness-variance\n"
     ]
    }
   ],
   "source": [
    "cur_folder_name = os.getcwd().split('\\\\')[-1]\n",
    "if cur_folder_name != \"fairness-variance\":\n",
    "    os.chdir(\"../..\")\n",
    "\n",
    "print('Current location: ', os.getcwd())"
   ]
  },
  {
   "cell_type": "markdown",
   "metadata": {},
   "source": [
    "## Import dependencies"
   ]
  },
  {
   "cell_type": "code",
   "execution_count": 4,
   "metadata": {},
   "outputs": [
    {
     "name": "stderr",
     "output_type": "stream",
     "text": [
      "WARNING:root:No module named 'tempeh': LawSchoolGPADataset will be unavailable. To install, run:\n",
      "pip install 'aif360[LawSchoolGPA]'\n",
      "WARNING:root:No module named 'tensorflow': AdversarialDebiasing will be unavailable. To install, run:\n",
      "pip install 'aif360[AdversarialDebiasing]'\n",
      "WARNING:root:No module named 'tensorflow': AdversarialDebiasing will be unavailable. To install, run:\n",
      "pip install 'aif360[AdversarialDebiasing]'\n"
     ]
    }
   ],
   "source": [
    "import os\n",
    "import copy\n",
    "\n",
    "from virny.utils.custom_initializers import create_config_obj\n",
    "from virny.datasets import CreditCardDefaultDataset\n",
    "\n",
    "from configs.constants import TEST_SET_FRACTION, EXPERIMENT_SEEDS\n",
    "from configs.models_config_for_tuning import get_model_params_for_mult_repair_levels\n",
    "from source.experiment_interface import run_exp_iter_with_eqq_odds_postprocessing"
   ]
  },
  {
   "cell_type": "markdown",
   "metadata": {},
   "source": [
    "## Define Input Variables"
   ]
  },
  {
   "cell_type": "code",
   "execution_count": 5,
   "metadata": {},
   "outputs": [],
   "source": [
    "ROOT_DIR = os.getcwd()\n",
    "EXPERIMENT_NAME = 'postprocessing_intervention'\n",
    "DB_COLLECTION_NAME = 'eq_odds_postprocessing'\n",
    "SAVE_RESULTS_DIR_PATH = os.path.join(ROOT_DIR, 'results', EXPERIMENT_NAME)\n",
    "\n",
    "config_yaml_path = os.path.join(ROOT_DIR, 'notebooks', EXPERIMENT_NAME, 'credit_card_default_config.yaml')\n",
    "metrics_computation_config = create_config_obj(config_yaml_path=config_yaml_path)"
   ]
  },
  {
   "cell_type": "code",
   "execution_count": 6,
   "metadata": {},
   "outputs": [
    {
     "data": {
      "text/plain": [
       "DefaultMunch(None, {'dataset_name': 'Credit_Card_Default', 'bootstrap_fraction': 0.8, 'n_estimators': 3, 'computation_mode': 'postprocessing_intervention', 'num_runs': 1, 'runs_seed_lst': [100], 'sensitive_attributes_dct': DefaultMunch(None, {'sex': 'female'})})"
      ]
     },
     "execution_count": 6,
     "metadata": {},
     "output_type": "execute_result"
    }
   ],
   "source": [
    "metrics_computation_config"
   ]
  },
  {
   "cell_type": "markdown",
   "metadata": {},
   "source": [
    "## Define a db writer and custom fields to insert into your database"
   ]
  },
  {
   "cell_type": "code",
   "execution_count": 7,
   "metadata": {},
   "outputs": [
    {
     "data": {
      "text/plain": [
       "'nazar_experiments'"
      ]
     },
     "execution_count": 7,
     "metadata": {},
     "output_type": "execute_result"
    }
   ],
   "source": [
    "import os\n",
    "from dotenv import load_dotenv\n",
    "\n",
    "load_dotenv('./configs/secrets.env')\n",
    "os.getenv(\"DB_NAME\")"
   ]
  },
  {
   "cell_type": "code",
   "execution_count": 8,
   "metadata": {},
   "outputs": [],
   "source": [
    "from source.utils.db_functions import connect_to_mongodb\n",
    "\n",
    "client, collection_obj, db_writer_func = connect_to_mongodb(DB_COLLECTION_NAME)"
   ]
  },
  {
   "cell_type": "code",
   "execution_count": 9,
   "metadata": {},
   "outputs": [
    {
     "name": "stdout",
     "output_type": "stream",
     "text": [
      "Current session uuid:  test\n"
     ]
    }
   ],
   "source": [
    "import uuid\n",
    "\n",
    "custom_table_fields_dct = {\n",
    "    #'session_uuid': str(uuid.uuid4()),\n",
    "    'session_uuid': \"test\"\n",
    "}\n",
    "print('Current session uuid: ', custom_table_fields_dct['session_uuid'])"
   ]
  },
  {
   "cell_type": "markdown",
   "metadata": {},
   "source": [
    "## Initialize custom objects"
   ]
  },
  {
   "cell_type": "code",
   "execution_count": 10,
   "metadata": {},
   "outputs": [
    {
     "data": {
      "text/html": [
       "<div>\n",
       "<style scoped>\n",
       "    .dataframe tbody tr th:only-of-type {\n",
       "        vertical-align: middle;\n",
       "    }\n",
       "\n",
       "    .dataframe tbody tr th {\n",
       "        vertical-align: top;\n",
       "    }\n",
       "\n",
       "    .dataframe thead th {\n",
       "        text-align: right;\n",
       "    }\n",
       "</style>\n",
       "<table border=\"1\" class=\"dataframe\">\n",
       "  <thead>\n",
       "    <tr style=\"text-align: right;\">\n",
       "      <th></th>\n",
       "      <th>limit_bal</th>\n",
       "      <th>age</th>\n",
       "      <th>bill_amt1</th>\n",
       "      <th>bill_amt2</th>\n",
       "      <th>bill_amt3</th>\n",
       "      <th>bill_amt4</th>\n",
       "      <th>bill_amt5</th>\n",
       "      <th>bill_amt6</th>\n",
       "      <th>pay_amt1</th>\n",
       "      <th>pay_amt2</th>\n",
       "      <th>...</th>\n",
       "      <th>pay_amt6</th>\n",
       "      <th>sex</th>\n",
       "      <th>education</th>\n",
       "      <th>marriage</th>\n",
       "      <th>pay_0</th>\n",
       "      <th>pay_2</th>\n",
       "      <th>pay_3</th>\n",
       "      <th>pay_4</th>\n",
       "      <th>pay_5</th>\n",
       "      <th>pay_6</th>\n",
       "    </tr>\n",
       "  </thead>\n",
       "  <tbody>\n",
       "    <tr>\n",
       "      <th>0</th>\n",
       "      <td>20000</td>\n",
       "      <td>24</td>\n",
       "      <td>3913</td>\n",
       "      <td>3102</td>\n",
       "      <td>689</td>\n",
       "      <td>0</td>\n",
       "      <td>0</td>\n",
       "      <td>0</td>\n",
       "      <td>0</td>\n",
       "      <td>689</td>\n",
       "      <td>...</td>\n",
       "      <td>0</td>\n",
       "      <td>female</td>\n",
       "      <td>2</td>\n",
       "      <td>1</td>\n",
       "      <td>2</td>\n",
       "      <td>2</td>\n",
       "      <td>-1</td>\n",
       "      <td>-1</td>\n",
       "      <td>-2</td>\n",
       "      <td>-2</td>\n",
       "    </tr>\n",
       "    <tr>\n",
       "      <th>1</th>\n",
       "      <td>120000</td>\n",
       "      <td>26</td>\n",
       "      <td>2682</td>\n",
       "      <td>1725</td>\n",
       "      <td>2682</td>\n",
       "      <td>3272</td>\n",
       "      <td>3455</td>\n",
       "      <td>3261</td>\n",
       "      <td>0</td>\n",
       "      <td>1000</td>\n",
       "      <td>...</td>\n",
       "      <td>2000</td>\n",
       "      <td>female</td>\n",
       "      <td>2</td>\n",
       "      <td>2</td>\n",
       "      <td>-1</td>\n",
       "      <td>2</td>\n",
       "      <td>0</td>\n",
       "      <td>0</td>\n",
       "      <td>0</td>\n",
       "      <td>2</td>\n",
       "    </tr>\n",
       "    <tr>\n",
       "      <th>2</th>\n",
       "      <td>90000</td>\n",
       "      <td>34</td>\n",
       "      <td>29239</td>\n",
       "      <td>14027</td>\n",
       "      <td>13559</td>\n",
       "      <td>14331</td>\n",
       "      <td>14948</td>\n",
       "      <td>15549</td>\n",
       "      <td>1518</td>\n",
       "      <td>1500</td>\n",
       "      <td>...</td>\n",
       "      <td>5000</td>\n",
       "      <td>female</td>\n",
       "      <td>2</td>\n",
       "      <td>2</td>\n",
       "      <td>0</td>\n",
       "      <td>0</td>\n",
       "      <td>0</td>\n",
       "      <td>0</td>\n",
       "      <td>0</td>\n",
       "      <td>0</td>\n",
       "    </tr>\n",
       "    <tr>\n",
       "      <th>3</th>\n",
       "      <td>50000</td>\n",
       "      <td>37</td>\n",
       "      <td>46990</td>\n",
       "      <td>48233</td>\n",
       "      <td>49291</td>\n",
       "      <td>28314</td>\n",
       "      <td>28959</td>\n",
       "      <td>29547</td>\n",
       "      <td>2000</td>\n",
       "      <td>2019</td>\n",
       "      <td>...</td>\n",
       "      <td>1000</td>\n",
       "      <td>female</td>\n",
       "      <td>2</td>\n",
       "      <td>1</td>\n",
       "      <td>0</td>\n",
       "      <td>0</td>\n",
       "      <td>0</td>\n",
       "      <td>0</td>\n",
       "      <td>0</td>\n",
       "      <td>0</td>\n",
       "    </tr>\n",
       "    <tr>\n",
       "      <th>4</th>\n",
       "      <td>50000</td>\n",
       "      <td>57</td>\n",
       "      <td>8617</td>\n",
       "      <td>5670</td>\n",
       "      <td>35835</td>\n",
       "      <td>20940</td>\n",
       "      <td>19146</td>\n",
       "      <td>19131</td>\n",
       "      <td>2000</td>\n",
       "      <td>36681</td>\n",
       "      <td>...</td>\n",
       "      <td>679</td>\n",
       "      <td>male</td>\n",
       "      <td>2</td>\n",
       "      <td>1</td>\n",
       "      <td>-1</td>\n",
       "      <td>0</td>\n",
       "      <td>-1</td>\n",
       "      <td>0</td>\n",
       "      <td>0</td>\n",
       "      <td>0</td>\n",
       "    </tr>\n",
       "  </tbody>\n",
       "</table>\n",
       "<p>5 rows × 23 columns</p>\n",
       "</div>"
      ],
      "text/plain": [
       "   limit_bal  age  bill_amt1  bill_amt2  bill_amt3  bill_amt4  bill_amt5  \\\n",
       "0      20000   24       3913       3102        689          0          0   \n",
       "1     120000   26       2682       1725       2682       3272       3455   \n",
       "2      90000   34      29239      14027      13559      14331      14948   \n",
       "3      50000   37      46990      48233      49291      28314      28959   \n",
       "4      50000   57       8617       5670      35835      20940      19146   \n",
       "\n",
       "   bill_amt6  pay_amt1  pay_amt2  ...  pay_amt6     sex  education  marriage  \\\n",
       "0          0         0       689  ...         0  female          2         1   \n",
       "1       3261         0      1000  ...      2000  female          2         2   \n",
       "2      15549      1518      1500  ...      5000  female          2         2   \n",
       "3      29547      2000      2019  ...      1000  female          2         1   \n",
       "4      19131      2000     36681  ...       679    male          2         1   \n",
       "\n",
       "  pay_0  pay_2  pay_3  pay_4  pay_5  pay_6  \n",
       "0     2      2     -1     -1     -2     -2  \n",
       "1    -1      2      0      0      0      2  \n",
       "2     0      0      0      0      0      0  \n",
       "3     0      0      0      0      0      0  \n",
       "4    -1      0     -1      0      0      0  \n",
       "\n",
       "[5 rows x 23 columns]"
      ]
     },
     "execution_count": 10,
     "metadata": {},
     "output_type": "execute_result"
    }
   ],
   "source": [
    "data_loader = CreditCardDefaultDataset()\n",
    "data_loader.X_data.head()"
   ]
  },
  {
   "cell_type": "code",
   "execution_count": 11,
   "metadata": {},
   "outputs": [
    {
     "data": {
      "text/plain": [
       "(29946, 23)"
      ]
     },
     "execution_count": 11,
     "metadata": {},
     "output_type": "execute_result"
    }
   ],
   "source": [
    "data_loader.X_data.shape"
   ]
  },
  {
   "cell_type": "markdown",
   "metadata": {},
   "source": [
    "## Run experiment iterations"
   ]
  },
  {
   "cell_type": "code",
   "execution_count": 12,
   "metadata": {},
   "outputs": [],
   "source": [
    "tuned_params_filenames = [\n",
    "    'tuning_results_Credit_Card_Default_20231023__200422.csv'\n",
    "]\n",
    "tuned_params_df_paths = [os.path.join(ROOT_DIR, 'results', EXPERIMENT_NAME, tuned_params_filename)\n",
    "                         for tuned_params_filename in tuned_params_filenames]"
   ]
  },
  {
   "cell_type": "markdown",
   "metadata": {},
   "source": [
    "### Experiment iteration 1"
   ]
  },
  {
   "cell_type": "code",
   "execution_count": 13,
   "metadata": {},
   "outputs": [],
   "source": [
    "# Configs for an experiment iteration\n",
    "exp_iter_num = 1\n",
    "experiment_seed = EXPERIMENT_SEEDS[exp_iter_num - 1]\n",
    "custom_table_fields_dct['experiment_iteration'] = f'Exp_iter_{exp_iter_num}'\n",
    "\n",
    "exp_iter_data_loader = copy.deepcopy(data_loader)  # Add deepcopy to avoid data leakage\n",
    "models_params_for_tuning = get_model_params_for_mult_repair_levels(experiment_seed)"
   ]
  },
  {
   "cell_type": "code",
   "execution_count": 14,
   "metadata": {},
   "outputs": [
    {
     "name": "stderr",
     "output_type": "stream",
     "text": [
      "2023-11-06 23:26:41 experiment_interface.py INFO    : Start an experiment iteration for the following custom params:\n",
      "INFO:root:Start an experiment iteration for the following custom params:\n"
     ]
    },
    {
     "name": "stdout",
     "output_type": "stream",
     "text": [
      "{'dataset_split_seed': 100,\n",
      " 'experiment_iteration': 'Exp_iter_1',\n",
      " 'fair_intervention_params_lst': '[1.0, 0.0]',\n",
      " 'model_init_seed': 100,\n",
      " 'session_uuid': 'test'}\n",
      "\n",
      "\n"
     ]
    },
    {
     "name": "stderr",
     "output_type": "stream",
     "text": [
      "2023-11-06 23:26:41 experiment_interface.py INFO    : The dataset is preprocessed\n",
      "INFO:root:The dataset is preprocessed\n",
      "2023-11-06 23:26:41 experiment_interface.py INFO    : Models config is loaded from the input file\n",
      "INFO:root:Models config is loaded from the input file\n",
      "2023-11-06 23:26:41 experiment_interface.py INFO    : Start computing metrics with postprocessing\n",
      "INFO:root:Start computing metrics with postprocessing\n"
     ]
    },
    {
     "name": "stdout",
     "output_type": "stream",
     "text": [
      "Top indexes of an X_test in a base flow dataset:  Int64Index([18038,  8066, 24728,  5110, 11579,  7954, 10526, 17138, 22689,\n",
      "             3145, 17602, 25196,  3840,  5898, 19331, 29687, 29109,  7278,\n",
      "            19632, 28566],\n",
      "           dtype='int64')\n",
      "Top indexes of an y_test in a base flow dataset:  Int64Index([18038,  8066, 24728,  5110, 11579,  7954, 10526, 17138, 22689,\n",
      "             3145, 17602, 25196,  3840,  5898, 19331, 29687, 29109,  7278,\n",
      "            19632, 28566],\n",
      "           dtype='int64')\n",
      "Path for tuned params:  c:\\RAI\\latest\\fairness-variance\\results\\postprocessing_intervention\\tuning_results_Credit_Card_Default_20231023__200422.csv\n",
      "RandomForestClassifier:  {'bootstrap': True, 'ccp_alpha': 0.0, 'class_weight': None, 'criterion': 'gini', 'max_depth': 50, 'max_features': 'sqrt', 'max_leaf_nodes': None, 'max_samples': None, 'min_impurity_decrease': 0.0, 'min_samples_leaf': 1, 'min_samples_split': 5, 'min_weight_fraction_leaf': 0.0, 'n_estimators': 200, 'n_jobs': None, 'oob_score': False, 'random_state': 100, 'verbose': 0, 'warm_start': False}\n",
      "Model computation config without postprocessing:  DefaultMunch(None, {'dataset_name': 'Credit_Card_Default', 'bootstrap_fraction': 0.8, 'n_estimators': 3, 'computation_mode': 'postprocessing_intervention', 'num_runs': 1, 'runs_seed_lst': [100], 'sensitive_attributes_dct': DefaultMunch(None, {'sex': 'female'})})\n"
     ]
    },
    {
     "data": {
      "application/vnd.jupyter.widget-view+json": {
       "model_id": "cec21113578e403a99f21ad957b1e22a",
       "version_major": 2,
       "version_minor": 0
      },
      "text/plain": [
       "Analyze models in one run:   0%|          | 0/1 [00:00<?, ?it/s]"
      ]
     },
     "metadata": {},
     "output_type": "display_data"
    },
    {
     "data": {
      "application/vnd.jupyter.widget-view+json": {
       "model_id": "033b65142d7d4a6d8714ba701a2a8f50",
       "version_major": 2,
       "version_minor": 0
      },
      "text/plain": [
       "Classifiers testing by bootstrap:   0%|          | 0/3 [00:00<?, ?it/s]"
      ]
     },
     "metadata": {},
     "output_type": "display_data"
    },
    {
     "name": "stdout",
     "output_type": "stream",
     "text": [
      "Model computation config without postprocessing:  DefaultMunch(None, {'dataset_name': 'Credit_Card_Default', 'bootstrap_fraction': 0.8, 'n_estimators': 3, 'computation_mode': 'error_analysis', 'num_runs': 1, 'runs_seed_lst': [100], 'sensitive_attributes_dct': DefaultMunch(None, {'sex': 'female'})})\n"
     ]
    },
    {
     "data": {
      "application/vnd.jupyter.widget-view+json": {
       "model_id": "c0c3c58f9ea345d19f9d20d1de1667a9",
       "version_major": 2,
       "version_minor": 0
      },
      "text/plain": [
       "Analyze models in one run:   0%|          | 0/1 [00:00<?, ?it/s]"
      ]
     },
     "metadata": {},
     "output_type": "display_data"
    },
    {
     "data": {
      "application/vnd.jupyter.widget-view+json": {
       "model_id": "6994c8f4f2784722b01fbec7038126a6",
       "version_major": 2,
       "version_minor": 0
      },
      "text/plain": [
       "Classifiers testing by bootstrap:   0%|          | 0/3 [00:00<?, ?it/s]"
      ]
     },
     "metadata": {},
     "output_type": "display_data"
    }
   ],
   "source": [
    "# Configs for an experiment iteration\n",
    "exp_iter_num = 1\n",
    "experiment_seed = EXPERIMENT_SEEDS[exp_iter_num - 1]\n",
    "custom_table_fields_dct['experiment_iteration'] = f'Exp_iter_{exp_iter_num}'\n",
    "\n",
    "exp_iter_data_loader = copy.deepcopy(data_loader)\n",
    "\n",
    "run_exp_iter_with_eqq_odds_postprocessing(data_loader=exp_iter_data_loader,\n",
    "                                           experiment_seed=experiment_seed,\n",
    "                                           test_set_fraction=TEST_SET_FRACTION,\n",
    "                                           db_writer_func=db_writer_func,\n",
    "                                           models_params_for_tuning=models_params_for_tuning,\n",
    "                                           metrics_computation_config=metrics_computation_config,\n",
    "                                           custom_table_fields_dct=custom_table_fields_dct,\n",
    "                                           with_tuning=False,\n",
    "                                           tuned_params_df_path=tuned_params_df_paths[0],\n",
    "                                           save_results_dir_path=SAVE_RESULTS_DIR_PATH,\n",
    "                                           verbose=True,\n",
    "                                           dataset_name='CreditCardDefaultDataset')"
   ]
  },
  {
   "cell_type": "code",
   "execution_count": 15,
   "metadata": {},
   "outputs": [
    {
     "ename": "NameError",
     "evalue": "name 'q' is not defined",
     "output_type": "error",
     "traceback": [
      "\u001b[1;31m---------------------------------------------------------------------------\u001b[0m",
      "\u001b[1;31mNameError\u001b[0m                                 Traceback (most recent call last)",
      "\u001b[1;32mc:\\RAI\\latest\\fairness-variance\\notebooks\\postprocessing_intervention\\credit_card_postprocessing.ipynb Cell 21\u001b[0m line \u001b[0;36m1\n\u001b[1;32m----> <a href='vscode-notebook-cell:/c%3A/RAI/latest/fairness-variance/notebooks/postprocessing_intervention/credit_card_postprocessing.ipynb#X40sZmlsZQ%3D%3D?line=0'>1</a>\u001b[0m q\n",
      "\u001b[1;31mNameError\u001b[0m: name 'q' is not defined"
     ]
    }
   ],
   "source": [
    "q"
   ]
  },
  {
   "cell_type": "markdown",
   "metadata": {},
   "source": [
    "### Experiment iteration 2"
   ]
  },
  {
   "cell_type": "code",
   "execution_count": null,
   "metadata": {},
   "outputs": [
    {
     "name": "stderr",
     "output_type": "stream",
     "text": [
      "2023-11-01 22:20:43 experiment_interface.py INFO    : Start an experiment iteration for the following custom params:\n",
      "INFO:root:Start an experiment iteration for the following custom params:\n"
     ]
    },
    {
     "name": "stdout",
     "output_type": "stream",
     "text": [
      "{'dataset_split_seed': 200,\n",
      " 'experiment_iteration': 'Exp_iter_2',\n",
      " 'fair_intervention_params_lst': '[1.0, 0.0]',\n",
      " 'intervention_param': 0.0,\n",
      " 'model_init_seed': 200,\n",
      " 'session_uuid': 'acafb64d-0b5a-4b37-bd3c-bd234d2ab800'}\n",
      "\n",
      "\n"
     ]
    },
    {
     "name": "stderr",
     "output_type": "stream",
     "text": [
      "2023-11-01 22:20:43 experiment_interface.py INFO    : The dataset is preprocessed\n",
      "INFO:root:The dataset is preprocessed\n",
      "2023-11-01 22:20:43 experiment_interface.py INFO    : Models config is loaded from the input file\n",
      "INFO:root:Models config is loaded from the input file\n",
      "2023-11-01 22:20:43 experiment_interface.py INFO    : Start computing metrics with postprocessing\n",
      "INFO:root:Start computing metrics with postprocessing\n"
     ]
    },
    {
     "name": "stdout",
     "output_type": "stream",
     "text": [
      "Top indexes of an X_test in a base flow dataset:  Int64Index([21680, 20224,  5915,  5049, 13870,  3480, 23820, 13216, 13055,\n",
      "            28384,  9031, 16516, 13182, 21886, 21179, 21466, 24922, 15658,\n",
      "            12239, 20532],\n",
      "           dtype='int64')\n",
      "Top indexes of an y_test in a base flow dataset:  Int64Index([21680, 20224,  5915,  5049, 13870,  3480, 23820, 13216, 13055,\n",
      "            28384,  9031, 16516, 13182, 21886, 21179, 21466, 24922, 15658,\n",
      "            12239, 20532],\n",
      "           dtype='int64')\n",
      "Path for tuned params:  c:\\RAI\\fairness-variance-latest\\fairness-variance\\results\\eq_odds_postprocessing_credit_card\\tuning_results_Credit_Card_Default_20231023__200422.csv\n",
      "RandomForestClassifier:  {'bootstrap': True, 'ccp_alpha': 0.0, 'class_weight': None, 'criterion': 'gini', 'max_depth': 50, 'max_features': 'sqrt', 'max_leaf_nodes': None, 'max_samples': None, 'min_impurity_decrease': 0.0, 'min_samples_leaf': 1, 'min_samples_split': 5, 'min_weight_fraction_leaf': 0.0, 'n_estimators': 200, 'n_jobs': None, 'oob_score': False, 'random_state': 100, 'verbose': 0, 'warm_start': False}\n",
      "Model computation config without postprocessing:  DefaultMunch(None, {'dataset_name': 'Credit_Card_Default', 'bootstrap_fraction': 0.8, 'n_estimators': 200, 'computation_mode': 'postprocessing_intervention', 'num_runs': 1, 'runs_seed_lst': [100], 'sensitive_attributes_dct': DefaultMunch(None, {'sex': 'female'})})\n"
     ]
    },
    {
     "data": {
      "application/vnd.jupyter.widget-view+json": {
       "model_id": "082824484623472aa30a36edbfc37643",
       "version_major": 2,
       "version_minor": 0
      },
      "text/plain": [
       "Analyze models in one run:   0%|          | 0/1 [00:00<?, ?it/s]"
      ]
     },
     "metadata": {},
     "output_type": "display_data"
    },
    {
     "name": "stdout",
     "output_type": "stream",
     "text": [
      "sentitive_attributes_dct:  DefaultMunch(None, {'sex': 'female'})\n",
      "postprocessing_sensitive_attribute:  sex_binary\n",
      "Entered UQ_by_boostrap from BatchOverallVarianceAnalyzerPostProcessing\n"
     ]
    },
    {
     "data": {
      "application/vnd.jupyter.widget-view+json": {
       "model_id": "722b130d12d242258c24d314707b58c4",
       "version_major": 2,
       "version_minor": 0
      },
      "text/plain": [
       "Classifiers testing by bootstrap:   0%|          | 0/200 [00:00<?, ?it/s]"
      ]
     },
     "metadata": {},
     "output_type": "display_data"
    },
    {
     "name": "stdout",
     "output_type": "stream",
     "text": [
      "dict_keys(['sex_priv', 'sex_dis'])\n",
      "                  overall  sex_priv   sex_dis\n",
      "Jitter           0.000447  0.000548  0.000386\n",
      "Label_Stability  0.999553  0.999452  0.999614\n",
      "                    overall  sex_priv   sex_dis\n",
      "TPR                0.341791  0.347328  0.338235\n",
      "TNR                0.945376  0.937860  0.949863\n",
      "PPV                0.643258  0.627586  0.654028\n",
      "FNR                0.658209  0.652672  0.661765\n",
      "FPR                0.054624  0.062140  0.050137\n",
      "Accuracy           0.810351  0.801061  0.815987\n",
      "F1                 0.446394  0.447174  0.445880\n",
      "Selection-Rate     0.118865  0.128205  0.113197\n",
      "Positive-Rate      0.531343  0.553435  0.517157\n",
      "Sample_Size     2995.000000       NaN       NaN\n",
      "metrics_computation_interfaces.py: model_metrics_df:               Metric      overall  sex_priv   sex_dis              Model_Name  \\\n",
      "0            Jitter     0.000447  0.000548  0.000386  RandomForestClassifier   \n",
      "1   Label_Stability     0.999553  0.999452  0.999614  RandomForestClassifier   \n",
      "2               TPR     0.341791  0.347328  0.338235  RandomForestClassifier   \n",
      "3               TNR     0.945376  0.937860  0.949863  RandomForestClassifier   \n",
      "4               PPV     0.643258  0.627586  0.654028  RandomForestClassifier   \n",
      "5               FNR     0.658209  0.652672  0.661765  RandomForestClassifier   \n",
      "6               FPR     0.054624  0.062140  0.050137  RandomForestClassifier   \n",
      "7          Accuracy     0.810351  0.801061  0.815987  RandomForestClassifier   \n",
      "8                F1     0.446394  0.447174  0.445880  RandomForestClassifier   \n",
      "9    Selection-Rate     0.118865  0.128205  0.113197  RandomForestClassifier   \n",
      "10    Positive-Rate     0.531343  0.553435  0.517157  RandomForestClassifier   \n",
      "11      Sample_Size  2995.000000       NaN       NaN  RandomForestClassifier   \n",
      "\n",
      "                                         Model_Params  \n",
      "0   {'bootstrap': True, 'ccp_alpha': 0.0, 'class_w...  \n",
      "1   {'bootstrap': True, 'ccp_alpha': 0.0, 'class_w...  \n",
      "2   {'bootstrap': True, 'ccp_alpha': 0.0, 'class_w...  \n",
      "3   {'bootstrap': True, 'ccp_alpha': 0.0, 'class_w...  \n",
      "4   {'bootstrap': True, 'ccp_alpha': 0.0, 'class_w...  \n",
      "5   {'bootstrap': True, 'ccp_alpha': 0.0, 'class_w...  \n",
      "6   {'bootstrap': True, 'ccp_alpha': 0.0, 'class_w...  \n",
      "7   {'bootstrap': True, 'ccp_alpha': 0.0, 'class_w...  \n",
      "8   {'bootstrap': True, 'ccp_alpha': 0.0, 'class_w...  \n",
      "9   {'bootstrap': True, 'ccp_alpha': 0.0, 'class_w...  \n",
      "10  {'bootstrap': True, 'ccp_alpha': 0.0, 'class_w...  \n",
      "11  {'bootstrap': True, 'ccp_alpha': 0.0, 'class_w...  \n",
      "Model computation config without postprocessing:  DefaultMunch(None, {'dataset_name': 'Credit_Card_Default', 'bootstrap_fraction': 0.8, 'n_estimators': 200, 'computation_mode': 'error_analysis', 'num_runs': 1, 'runs_seed_lst': [100], 'sensitive_attributes_dct': DefaultMunch(None, {'sex': 'female'})})\n"
     ]
    },
    {
     "data": {
      "application/vnd.jupyter.widget-view+json": {
       "model_id": "1b929521be8f417aabdb9bdae87fff1b",
       "version_major": 2,
       "version_minor": 0
      },
      "text/plain": [
       "Analyze models in one run:   0%|          | 0/1 [00:00<?, ?it/s]"
      ]
     },
     "metadata": {},
     "output_type": "display_data"
    },
    {
     "name": "stdout",
     "output_type": "stream",
     "text": [
      "sentitive_attributes_dct:  DefaultMunch(None, {'sex': 'female'})\n",
      "postprocessing_sensitive_attribute:  None\n"
     ]
    },
    {
     "data": {
      "application/vnd.jupyter.widget-view+json": {
       "model_id": "9027b3df83384d62b77e2c09969b722f",
       "version_major": 2,
       "version_minor": 0
      },
      "text/plain": [
       "Classifiers testing by bootstrap:   0%|          | 0/200 [00:00<?, ?it/s]"
      ]
     },
     "metadata": {},
     "output_type": "display_data"
    },
    {
     "name": "stdout",
     "output_type": "stream",
     "text": [
      "                        overall  sex_priv  sex_priv_correct  \\\n",
      "Mean_Prediction        0.772491  0.756737          0.781114   \n",
      "Statistical_Bias       0.279231  0.293340          0.183982   \n",
      "Std                    0.047713  0.049188          0.045570   \n",
      "Overall_Uncertainty    0.635353  0.661570          0.626707   \n",
      "Aleatoric_Uncertainty  0.622304  0.648463          0.614766   \n",
      "IQR                    0.065359  0.067442          0.062264   \n",
      "Jitter                 0.042226  0.050099          0.033506   \n",
      "Label_Stability        0.941119  0.929797          0.952492   \n",
      "\n",
      "                       sex_priv_incorrect   sex_dis  sex_dis_correct  \\\n",
      "Mean_Prediction                  0.662273  0.782050         0.800244   \n",
      "Statistical_Bias                 0.717099  0.270671         0.167890   \n",
      "Std                              0.063208  0.046818         0.044121   \n",
      "Overall_Uncertainty              0.796664  0.619445         0.592854   \n",
      "Aleatoric_Uncertainty            0.779040  0.606431         0.580631   \n",
      "IQR                              0.087503  0.064095         0.060337   \n",
      "Jitter                           0.114396  0.037449         0.027921   \n",
      "Label_Stability                  0.841853  0.947988         0.961550   \n",
      "\n",
      "                       sex_dis_incorrect  \n",
      "Mean_Prediction                 0.697162  \n",
      "Statistical_Bias                0.750212  \n",
      "Std                             0.059400  \n",
      "Overall_Uncertainty             0.743511  \n",
      "Aleatoric_Uncertainty           0.726806  \n",
      "IQR                             0.081631  \n",
      "Jitter                          0.081904  \n",
      "Label_Stability                 0.884711  \n",
      "                    overall     sex_priv  sex_priv_correct  \\\n",
      "TPR                0.355224     0.343511          1.000000   \n",
      "TNR                0.944516     0.930955          1.000000   \n",
      "PPV                0.648501     0.600000          1.000000   \n",
      "FNR                0.644776     0.656489          0.000000   \n",
      "FPR                0.055484     0.069045          0.000000   \n",
      "Accuracy           0.812688     0.794872          1.000000   \n",
      "F1                 0.459016     0.436893          1.000000   \n",
      "Selection-Rate     0.122538     0.132626          0.100111   \n",
      "Positive-Rate      0.547761     0.572519          1.000000   \n",
      "Sample_Size     2995.000000  1131.000000        899.000000   \n",
      "\n",
      "                sex_priv_incorrect      sex_dis  sex_dis_correct  \\\n",
      "TPR                       0.000000     0.362745         1.000000   \n",
      "TNR                       0.000000     0.952610         1.000000   \n",
      "PPV                       0.000000     0.682028         1.000000   \n",
      "FNR                       1.000000     0.637255         0.000000   \n",
      "FPR                       1.000000     0.047390         0.000000   \n",
      "Accuracy                  0.000000     0.823498         1.000000   \n",
      "F1                        0.000000     0.473600         1.000000   \n",
      "Selection-Rate            0.258621     0.116416         0.096417   \n",
      "Positive-Rate             0.348837     0.531863         1.000000   \n",
      "Sample_Size             232.000000  1864.000000      1535.000000   \n",
      "\n",
      "                sex_dis_incorrect  \n",
      "TPR                      0.000000  \n",
      "TNR                      0.000000  \n",
      "PPV                      0.000000  \n",
      "FNR                      1.000000  \n",
      "FPR                      1.000000  \n",
      "Accuracy                 0.000000  \n",
      "F1                       0.000000  \n",
      "Selection-Rate           0.209726  \n",
      "Positive-Rate            0.265385  \n",
      "Sample_Size            329.000000  \n",
      "metrics_computation_interfaces.py: model_metrics_df:                     Metric      overall     sex_priv  sex_priv_correct  \\\n",
      "0         Mean_Prediction     0.772491     0.756737          0.781114   \n",
      "1        Statistical_Bias     0.279231     0.293340          0.183982   \n",
      "2                     Std     0.047713     0.049188          0.045570   \n",
      "3     Overall_Uncertainty     0.635353     0.661570          0.626707   \n",
      "4   Aleatoric_Uncertainty     0.622304     0.648463          0.614766   \n",
      "5                     IQR     0.065359     0.067442          0.062264   \n",
      "6                  Jitter     0.042226     0.050099          0.033506   \n",
      "7         Label_Stability     0.941119     0.929797          0.952492   \n",
      "8                     TPR     0.355224     0.343511          1.000000   \n",
      "9                     TNR     0.944516     0.930955          1.000000   \n",
      "10                    PPV     0.648501     0.600000          1.000000   \n",
      "11                    FNR     0.644776     0.656489          0.000000   \n",
      "12                    FPR     0.055484     0.069045          0.000000   \n",
      "13               Accuracy     0.812688     0.794872          1.000000   \n",
      "14                     F1     0.459016     0.436893          1.000000   \n",
      "15         Selection-Rate     0.122538     0.132626          0.100111   \n",
      "16          Positive-Rate     0.547761     0.572519          1.000000   \n",
      "17            Sample_Size  2995.000000  1131.000000        899.000000   \n",
      "\n",
      "    sex_priv_incorrect      sex_dis  sex_dis_correct  sex_dis_incorrect  \\\n",
      "0             0.662273     0.782050         0.800244           0.697162   \n",
      "1             0.717099     0.270671         0.167890           0.750212   \n",
      "2             0.063208     0.046818         0.044121           0.059400   \n",
      "3             0.796664     0.619445         0.592854           0.743511   \n",
      "4             0.779040     0.606431         0.580631           0.726806   \n",
      "5             0.087503     0.064095         0.060337           0.081631   \n",
      "6             0.114396     0.037449         0.027921           0.081904   \n",
      "7             0.841853     0.947988         0.961550           0.884711   \n",
      "8             0.000000     0.362745         1.000000           0.000000   \n",
      "9             0.000000     0.952610         1.000000           0.000000   \n",
      "10            0.000000     0.682028         1.000000           0.000000   \n",
      "11            1.000000     0.637255         0.000000           1.000000   \n",
      "12            1.000000     0.047390         0.000000           1.000000   \n",
      "13            0.000000     0.823498         1.000000           0.000000   \n",
      "14            0.000000     0.473600         1.000000           0.000000   \n",
      "15            0.258621     0.116416         0.096417           0.209726   \n",
      "16            0.348837     0.531863         1.000000           0.265385   \n",
      "17          232.000000  1864.000000      1535.000000         329.000000   \n",
      "\n",
      "                Model_Name                                       Model_Params  \n",
      "0   RandomForestClassifier  {'bootstrap': True, 'ccp_alpha': 0.0, 'class_w...  \n",
      "1   RandomForestClassifier  {'bootstrap': True, 'ccp_alpha': 0.0, 'class_w...  \n",
      "2   RandomForestClassifier  {'bootstrap': True, 'ccp_alpha': 0.0, 'class_w...  \n",
      "3   RandomForestClassifier  {'bootstrap': True, 'ccp_alpha': 0.0, 'class_w...  \n",
      "4   RandomForestClassifier  {'bootstrap': True, 'ccp_alpha': 0.0, 'class_w...  \n",
      "5   RandomForestClassifier  {'bootstrap': True, 'ccp_alpha': 0.0, 'class_w...  \n",
      "6   RandomForestClassifier  {'bootstrap': True, 'ccp_alpha': 0.0, 'class_w...  \n",
      "7   RandomForestClassifier  {'bootstrap': True, 'ccp_alpha': 0.0, 'class_w...  \n",
      "8   RandomForestClassifier  {'bootstrap': True, 'ccp_alpha': 0.0, 'class_w...  \n",
      "9   RandomForestClassifier  {'bootstrap': True, 'ccp_alpha': 0.0, 'class_w...  \n",
      "10  RandomForestClassifier  {'bootstrap': True, 'ccp_alpha': 0.0, 'class_w...  \n",
      "11  RandomForestClassifier  {'bootstrap': True, 'ccp_alpha': 0.0, 'class_w...  \n",
      "12  RandomForestClassifier  {'bootstrap': True, 'ccp_alpha': 0.0, 'class_w...  \n",
      "13  RandomForestClassifier  {'bootstrap': True, 'ccp_alpha': 0.0, 'class_w...  \n",
      "14  RandomForestClassifier  {'bootstrap': True, 'ccp_alpha': 0.0, 'class_w...  \n",
      "15  RandomForestClassifier  {'bootstrap': True, 'ccp_alpha': 0.0, 'class_w...  \n",
      "16  RandomForestClassifier  {'bootstrap': True, 'ccp_alpha': 0.0, 'class_w...  \n",
      "17  RandomForestClassifier  {'bootstrap': True, 'ccp_alpha': 0.0, 'class_w...  \n"
     ]
    }
   ],
   "source": [
    "# Configs for an experiment iteration\n",
    "exp_iter_num = 2\n",
    "experiment_seed = EXPERIMENT_SEEDS[exp_iter_num - 1]\n",
    "custom_table_fields_dct['experiment_iteration'] = f'Exp_iter_{exp_iter_num}'\n",
    "\n",
    "exp_iter_data_loader = copy.deepcopy(data_loader)\n",
    "\n",
    "run_exp_iter_with_eqq_odds_postprocessing(data_loader=exp_iter_data_loader,\n",
    "                                           experiment_seed=experiment_seed,\n",
    "                                           test_set_fraction=TEST_SET_FRACTION,\n",
    "                                           db_writer_func=db_writer_func,\n",
    "                                           models_params_for_tuning=models_params_for_tuning,\n",
    "                                           metrics_computation_config=metrics_computation_config,\n",
    "                                           custom_table_fields_dct=custom_table_fields_dct,\n",
    "                                           with_tuning=False,\n",
    "                                           tuned_params_df_path=tuned_params_df_paths[0],\n",
    "                                           save_results_dir_path=SAVE_RESULTS_DIR_PATH,\n",
    "                                           verbose=True,\n",
    "                                           dataset_name='CreditCardDefaultDataset')"
   ]
  },
  {
   "cell_type": "markdown",
   "metadata": {},
   "source": [
    "### Experiment iteration 3"
   ]
  },
  {
   "cell_type": "code",
   "execution_count": null,
   "metadata": {},
   "outputs": [
    {
     "name": "stderr",
     "output_type": "stream",
     "text": [
      "2023-11-01 23:35:02 experiment_interface.py INFO    : Start an experiment iteration for the following custom params:\n",
      "INFO:root:Start an experiment iteration for the following custom params:\n"
     ]
    },
    {
     "name": "stdout",
     "output_type": "stream",
     "text": [
      "{'dataset_split_seed': 300,\n",
      " 'experiment_iteration': 'Exp_iter_3',\n",
      " 'fair_intervention_params_lst': '[1.0, 0.0]',\n",
      " 'intervention_param': 0.0,\n",
      " 'model_init_seed': 300,\n",
      " 'session_uuid': 'acafb64d-0b5a-4b37-bd3c-bd234d2ab800'}\n",
      "\n",
      "\n"
     ]
    },
    {
     "name": "stderr",
     "output_type": "stream",
     "text": [
      "2023-11-01 23:35:02 experiment_interface.py INFO    : The dataset is preprocessed\n",
      "INFO:root:The dataset is preprocessed\n",
      "2023-11-01 23:35:02 experiment_interface.py INFO    : Models config is loaded from the input file\n",
      "INFO:root:Models config is loaded from the input file\n",
      "2023-11-01 23:35:02 experiment_interface.py INFO    : Start computing metrics with postprocessing\n",
      "INFO:root:Start computing metrics with postprocessing\n"
     ]
    },
    {
     "name": "stdout",
     "output_type": "stream",
     "text": [
      "Top indexes of an X_test in a base flow dataset:  Int64Index([26463, 13134,    73,  8075, 18107,  7878, 21765, 28479,  7222,\n",
      "            24719,  6544, 15508, 28160,  4396, 14563, 15019, 12935,  7442,\n",
      "            25921, 23729],\n",
      "           dtype='int64')\n",
      "Top indexes of an y_test in a base flow dataset:  Int64Index([26463, 13134,    73,  8075, 18107,  7878, 21765, 28479,  7222,\n",
      "            24719,  6544, 15508, 28160,  4396, 14563, 15019, 12935,  7442,\n",
      "            25921, 23729],\n",
      "           dtype='int64')\n",
      "Path for tuned params:  c:\\RAI\\fairness-variance-latest\\fairness-variance\\results\\eq_odds_postprocessing_credit_card\\tuning_results_Credit_Card_Default_20231023__200422.csv\n",
      "RandomForestClassifier:  {'bootstrap': True, 'ccp_alpha': 0.0, 'class_weight': None, 'criterion': 'gini', 'max_depth': 50, 'max_features': 'sqrt', 'max_leaf_nodes': None, 'max_samples': None, 'min_impurity_decrease': 0.0, 'min_samples_leaf': 1, 'min_samples_split': 5, 'min_weight_fraction_leaf': 0.0, 'n_estimators': 200, 'n_jobs': None, 'oob_score': False, 'random_state': 100, 'verbose': 0, 'warm_start': False}\n",
      "Model computation config without postprocessing:  DefaultMunch(None, {'dataset_name': 'Credit_Card_Default', 'bootstrap_fraction': 0.8, 'n_estimators': 200, 'computation_mode': 'postprocessing_intervention', 'num_runs': 1, 'runs_seed_lst': [100], 'sensitive_attributes_dct': DefaultMunch(None, {'sex': 'female'})})\n"
     ]
    },
    {
     "data": {
      "application/vnd.jupyter.widget-view+json": {
       "model_id": "667f3bbe72564a3aa60fcb4710fab8e9",
       "version_major": 2,
       "version_minor": 0
      },
      "text/plain": [
       "Analyze models in one run:   0%|          | 0/1 [00:00<?, ?it/s]"
      ]
     },
     "metadata": {},
     "output_type": "display_data"
    },
    {
     "name": "stdout",
     "output_type": "stream",
     "text": [
      "sentitive_attributes_dct:  DefaultMunch(None, {'sex': 'female'})\n",
      "postprocessing_sensitive_attribute:  sex_binary\n",
      "Entered UQ_by_boostrap from BatchOverallVarianceAnalyzerPostProcessing\n"
     ]
    },
    {
     "data": {
      "application/vnd.jupyter.widget-view+json": {
       "model_id": "dc29f7922e2346c29c68d362a5d66132",
       "version_major": 2,
       "version_minor": 0
      },
      "text/plain": [
       "Classifiers testing by bootstrap:   0%|          | 0/200 [00:00<?, ?it/s]"
      ]
     },
     "metadata": {},
     "output_type": "display_data"
    },
    {
     "name": "stdout",
     "output_type": "stream",
     "text": [
      "dict_keys(['sex_priv', 'sex_dis'])\n",
      "                  overall  sex_priv   sex_dis\n",
      "Jitter           0.000487  0.000589  0.000422\n",
      "Label_Stability  0.999513  0.999411  0.999578\n",
      "                    overall  sex_priv   sex_dis\n",
      "TPR                0.356589  0.385768  0.335979\n",
      "TNR                0.953191  0.949171  0.955709\n",
      "PPV                0.676471  0.691275  0.664921\n",
      "FNR                0.643411  0.614232  0.664021\n",
      "FPR                0.046809  0.050829  0.044291\n",
      "Accuracy           0.824708  0.820819  0.827208\n",
      "F1                 0.467005  0.495192  0.446397\n",
      "Selection-Rate     0.113523  0.127133  0.104772\n",
      "Positive-Rate      0.527132  0.558052  0.505291\n",
      "Sample_Size     2995.000000       NaN       NaN\n",
      "metrics_computation_interfaces.py: model_metrics_df:               Metric      overall  sex_priv   sex_dis              Model_Name  \\\n",
      "0            Jitter     0.000487  0.000589  0.000422  RandomForestClassifier   \n",
      "1   Label_Stability     0.999513  0.999411  0.999578  RandomForestClassifier   \n",
      "2               TPR     0.356589  0.385768  0.335979  RandomForestClassifier   \n",
      "3               TNR     0.953191  0.949171  0.955709  RandomForestClassifier   \n",
      "4               PPV     0.676471  0.691275  0.664921  RandomForestClassifier   \n",
      "5               FNR     0.643411  0.614232  0.664021  RandomForestClassifier   \n",
      "6               FPR     0.046809  0.050829  0.044291  RandomForestClassifier   \n",
      "7          Accuracy     0.824708  0.820819  0.827208  RandomForestClassifier   \n",
      "8                F1     0.467005  0.495192  0.446397  RandomForestClassifier   \n",
      "9    Selection-Rate     0.113523  0.127133  0.104772  RandomForestClassifier   \n",
      "10    Positive-Rate     0.527132  0.558052  0.505291  RandomForestClassifier   \n",
      "11      Sample_Size  2995.000000       NaN       NaN  RandomForestClassifier   \n",
      "\n",
      "                                         Model_Params  \n",
      "0   {'bootstrap': True, 'ccp_alpha': 0.0, 'class_w...  \n",
      "1   {'bootstrap': True, 'ccp_alpha': 0.0, 'class_w...  \n",
      "2   {'bootstrap': True, 'ccp_alpha': 0.0, 'class_w...  \n",
      "3   {'bootstrap': True, 'ccp_alpha': 0.0, 'class_w...  \n",
      "4   {'bootstrap': True, 'ccp_alpha': 0.0, 'class_w...  \n",
      "5   {'bootstrap': True, 'ccp_alpha': 0.0, 'class_w...  \n",
      "6   {'bootstrap': True, 'ccp_alpha': 0.0, 'class_w...  \n",
      "7   {'bootstrap': True, 'ccp_alpha': 0.0, 'class_w...  \n",
      "8   {'bootstrap': True, 'ccp_alpha': 0.0, 'class_w...  \n",
      "9   {'bootstrap': True, 'ccp_alpha': 0.0, 'class_w...  \n",
      "10  {'bootstrap': True, 'ccp_alpha': 0.0, 'class_w...  \n",
      "11  {'bootstrap': True, 'ccp_alpha': 0.0, 'class_w...  \n",
      "Model computation config without postprocessing:  DefaultMunch(None, {'dataset_name': 'Credit_Card_Default', 'bootstrap_fraction': 0.8, 'n_estimators': 200, 'computation_mode': 'error_analysis', 'num_runs': 1, 'runs_seed_lst': [100], 'sensitive_attributes_dct': DefaultMunch(None, {'sex': 'female'})})\n"
     ]
    },
    {
     "data": {
      "application/vnd.jupyter.widget-view+json": {
       "model_id": "616f151132a14fbb93e4c5489cc7f043",
       "version_major": 2,
       "version_minor": 0
      },
      "text/plain": [
       "Analyze models in one run:   0%|          | 0/1 [00:00<?, ?it/s]"
      ]
     },
     "metadata": {},
     "output_type": "display_data"
    },
    {
     "name": "stdout",
     "output_type": "stream",
     "text": [
      "sentitive_attributes_dct:  DefaultMunch(None, {'sex': 'female'})\n",
      "postprocessing_sensitive_attribute:  None\n"
     ]
    },
    {
     "data": {
      "application/vnd.jupyter.widget-view+json": {
       "model_id": "f4a6864ac9ec44fabd03518d80d2c0f6",
       "version_major": 2,
       "version_minor": 0
      },
      "text/plain": [
       "Classifiers testing by bootstrap:   0%|          | 0/200 [00:00<?, ?it/s]"
      ]
     },
     "metadata": {},
     "output_type": "display_data"
    },
    {
     "name": "stdout",
     "output_type": "stream",
     "text": [
      "                        overall  sex_priv  sex_priv_correct  \\\n",
      "Mean_Prediction        0.775937  0.759118          0.777972   \n",
      "Statistical_Bias       0.269662  0.280242          0.185400   \n",
      "Std                    0.048270  0.049515          0.046574   \n",
      "Overall_Uncertainty    0.637118  0.657430          0.630938   \n",
      "Aleatoric_Uncertainty  0.623677  0.644060          0.618530   \n",
      "IQR                    0.066113  0.067598          0.063572   \n",
      "Jitter                 0.042559  0.049973          0.033943   \n",
      "Label_Stability        0.939750  0.928780          0.951886   \n",
      "\n",
      "                       sex_priv_incorrect   sex_dis  sex_dis_correct  \\\n",
      "Mean_Prediction                  0.671225  0.786750         0.802845   \n",
      "Statistical_Bias                 0.722378  0.262861         0.170450   \n",
      "Std                              0.063228  0.047470         0.044713   \n",
      "Overall_Uncertainty              0.780929  0.624060         0.598718   \n",
      "Aleatoric_Uncertainty            0.763074  0.610573         0.586119   \n",
      "IQR                              0.086365  0.065158         0.061403   \n",
      "Jitter                           0.124705  0.037792         0.027979   \n",
      "Label_Stability                  0.821063  0.946802         0.960988   \n",
      "\n",
      "                       sex_dis_incorrect  \n",
      "Mean_Prediction                 0.703045  \n",
      "Statistical_Bias                0.743459  \n",
      "Std                             0.061804  \n",
      "Overall_Uncertainty             0.755856  \n",
      "Aleatoric_Uncertainty           0.737751  \n",
      "IQR                             0.084685  \n",
      "Jitter                          0.088828  \n",
      "Label_Stability                 0.873027  \n",
      "                    overall     sex_priv  sex_priv_correct  \\\n",
      "TPR                0.370543     0.393258          1.000000   \n",
      "TNR                0.959574     0.950276          1.000000   \n",
      "PPV                0.715569     0.700000          1.000000   \n",
      "FNR                0.629457     0.606742          0.000000   \n",
      "FPR                0.040426     0.049724          0.000000   \n",
      "Accuracy           0.832721     0.823379          1.000000   \n",
      "F1                 0.488253     0.503597          1.000000   \n",
      "Selection-Rate     0.111519     0.127986          0.108808   \n",
      "Positive-Rate      0.517829     0.561798          1.000000   \n",
      "Sample_Size     2995.000000  1172.000000        965.000000   \n",
      "\n",
      "                sex_priv_incorrect      sex_dis  sex_dis_correct  \\\n",
      "TPR                       0.000000     0.354497         1.000000   \n",
      "TNR                       0.000000     0.965398         1.000000   \n",
      "PPV                       0.000000     0.728261         1.000000   \n",
      "FNR                       1.000000     0.645503         0.000000   \n",
      "FPR                       1.000000     0.034602         0.000000   \n",
      "Accuracy                  0.000000     0.838727         1.000000   \n",
      "F1                        0.000000     0.476868         1.000000   \n",
      "Selection-Rate            0.217391     0.100933         0.087639   \n",
      "Positive-Rate             0.277778     0.486772         1.000000   \n",
      "Sample_Size             207.000000  1823.000000      1529.000000   \n",
      "\n",
      "                sex_dis_incorrect  \n",
      "TPR                      0.000000  \n",
      "TNR                      0.000000  \n",
      "PPV                      0.000000  \n",
      "FNR                      1.000000  \n",
      "FPR                      1.000000  \n",
      "Accuracy                 0.000000  \n",
      "F1                       0.000000  \n",
      "Selection-Rate           0.170068  \n",
      "Positive-Rate            0.204918  \n",
      "Sample_Size            294.000000  \n",
      "metrics_computation_interfaces.py: model_metrics_df:                     Metric      overall     sex_priv  sex_priv_correct  \\\n",
      "0         Mean_Prediction     0.775937     0.759118          0.777972   \n",
      "1        Statistical_Bias     0.269662     0.280242          0.185400   \n",
      "2                     Std     0.048270     0.049515          0.046574   \n",
      "3     Overall_Uncertainty     0.637118     0.657430          0.630938   \n",
      "4   Aleatoric_Uncertainty     0.623677     0.644060          0.618530   \n",
      "5                     IQR     0.066113     0.067598          0.063572   \n",
      "6                  Jitter     0.042559     0.049973          0.033943   \n",
      "7         Label_Stability     0.939750     0.928780          0.951886   \n",
      "8                     TPR     0.370543     0.393258          1.000000   \n",
      "9                     TNR     0.959574     0.950276          1.000000   \n",
      "10                    PPV     0.715569     0.700000          1.000000   \n",
      "11                    FNR     0.629457     0.606742          0.000000   \n",
      "12                    FPR     0.040426     0.049724          0.000000   \n",
      "13               Accuracy     0.832721     0.823379          1.000000   \n",
      "14                     F1     0.488253     0.503597          1.000000   \n",
      "15         Selection-Rate     0.111519     0.127986          0.108808   \n",
      "16          Positive-Rate     0.517829     0.561798          1.000000   \n",
      "17            Sample_Size  2995.000000  1172.000000        965.000000   \n",
      "\n",
      "    sex_priv_incorrect      sex_dis  sex_dis_correct  sex_dis_incorrect  \\\n",
      "0             0.671225     0.786750         0.802845           0.703045   \n",
      "1             0.722378     0.262861         0.170450           0.743459   \n",
      "2             0.063228     0.047470         0.044713           0.061804   \n",
      "3             0.780929     0.624060         0.598718           0.755856   \n",
      "4             0.763074     0.610573         0.586119           0.737751   \n",
      "5             0.086365     0.065158         0.061403           0.084685   \n",
      "6             0.124705     0.037792         0.027979           0.088828   \n",
      "7             0.821063     0.946802         0.960988           0.873027   \n",
      "8             0.000000     0.354497         1.000000           0.000000   \n",
      "9             0.000000     0.965398         1.000000           0.000000   \n",
      "10            0.000000     0.728261         1.000000           0.000000   \n",
      "11            1.000000     0.645503         0.000000           1.000000   \n",
      "12            1.000000     0.034602         0.000000           1.000000   \n",
      "13            0.000000     0.838727         1.000000           0.000000   \n",
      "14            0.000000     0.476868         1.000000           0.000000   \n",
      "15            0.217391     0.100933         0.087639           0.170068   \n",
      "16            0.277778     0.486772         1.000000           0.204918   \n",
      "17          207.000000  1823.000000      1529.000000         294.000000   \n",
      "\n",
      "                Model_Name                                       Model_Params  \n",
      "0   RandomForestClassifier  {'bootstrap': True, 'ccp_alpha': 0.0, 'class_w...  \n",
      "1   RandomForestClassifier  {'bootstrap': True, 'ccp_alpha': 0.0, 'class_w...  \n",
      "2   RandomForestClassifier  {'bootstrap': True, 'ccp_alpha': 0.0, 'class_w...  \n",
      "3   RandomForestClassifier  {'bootstrap': True, 'ccp_alpha': 0.0, 'class_w...  \n",
      "4   RandomForestClassifier  {'bootstrap': True, 'ccp_alpha': 0.0, 'class_w...  \n",
      "5   RandomForestClassifier  {'bootstrap': True, 'ccp_alpha': 0.0, 'class_w...  \n",
      "6   RandomForestClassifier  {'bootstrap': True, 'ccp_alpha': 0.0, 'class_w...  \n",
      "7   RandomForestClassifier  {'bootstrap': True, 'ccp_alpha': 0.0, 'class_w...  \n",
      "8   RandomForestClassifier  {'bootstrap': True, 'ccp_alpha': 0.0, 'class_w...  \n",
      "9   RandomForestClassifier  {'bootstrap': True, 'ccp_alpha': 0.0, 'class_w...  \n",
      "10  RandomForestClassifier  {'bootstrap': True, 'ccp_alpha': 0.0, 'class_w...  \n",
      "11  RandomForestClassifier  {'bootstrap': True, 'ccp_alpha': 0.0, 'class_w...  \n",
      "12  RandomForestClassifier  {'bootstrap': True, 'ccp_alpha': 0.0, 'class_w...  \n",
      "13  RandomForestClassifier  {'bootstrap': True, 'ccp_alpha': 0.0, 'class_w...  \n",
      "14  RandomForestClassifier  {'bootstrap': True, 'ccp_alpha': 0.0, 'class_w...  \n",
      "15  RandomForestClassifier  {'bootstrap': True, 'ccp_alpha': 0.0, 'class_w...  \n",
      "16  RandomForestClassifier  {'bootstrap': True, 'ccp_alpha': 0.0, 'class_w...  \n",
      "17  RandomForestClassifier  {'bootstrap': True, 'ccp_alpha': 0.0, 'class_w...  \n"
     ]
    }
   ],
   "source": [
    "# Configs for an experiment iteration\n",
    "exp_iter_num = 3\n",
    "experiment_seed = EXPERIMENT_SEEDS[exp_iter_num - 1]\n",
    "custom_table_fields_dct['experiment_iteration'] = f'Exp_iter_{exp_iter_num}'\n",
    "\n",
    "exp_iter_data_loader = copy.deepcopy(data_loader)\n",
    "\n",
    "run_exp_iter_with_eqq_odds_postprocessing(data_loader=exp_iter_data_loader,\n",
    "                                           experiment_seed=experiment_seed,\n",
    "                                           test_set_fraction=TEST_SET_FRACTION,\n",
    "                                           db_writer_func=db_writer_func,\n",
    "                                           models_params_for_tuning=models_params_for_tuning,\n",
    "                                           metrics_computation_config=metrics_computation_config,\n",
    "                                           custom_table_fields_dct=custom_table_fields_dct,\n",
    "                                           with_tuning=False,\n",
    "                                           tuned_params_df_path=tuned_params_df_paths[0],\n",
    "                                           save_results_dir_path=SAVE_RESULTS_DIR_PATH,\n",
    "                                           verbose=True,\n",
    "                                           dataset_name='CreditCardDefaultDataset')"
   ]
  },
  {
   "cell_type": "markdown",
   "metadata": {},
   "source": [
    "### Experiment iteration 4"
   ]
  },
  {
   "cell_type": "code",
   "execution_count": null,
   "metadata": {},
   "outputs": [
    {
     "name": "stderr",
     "output_type": "stream",
     "text": [
      "2023-11-02 00:50:17 experiment_interface.py INFO    : Start an experiment iteration for the following custom params:\n",
      "INFO:root:Start an experiment iteration for the following custom params:\n"
     ]
    },
    {
     "name": "stdout",
     "output_type": "stream",
     "text": [
      "{'dataset_split_seed': 400,\n",
      " 'experiment_iteration': 'Exp_iter_4',\n",
      " 'fair_intervention_params_lst': '[1.0, 0.0]',\n",
      " 'intervention_param': 0.0,\n",
      " 'model_init_seed': 400,\n",
      " 'session_uuid': 'acafb64d-0b5a-4b37-bd3c-bd234d2ab800'}\n",
      "\n",
      "\n"
     ]
    },
    {
     "name": "stderr",
     "output_type": "stream",
     "text": [
      "2023-11-02 00:50:17 experiment_interface.py INFO    : The dataset is preprocessed\n",
      "INFO:root:The dataset is preprocessed\n",
      "2023-11-02 00:50:17 experiment_interface.py INFO    : Models config is loaded from the input file\n",
      "INFO:root:Models config is loaded from the input file\n",
      "2023-11-02 00:50:17 experiment_interface.py INFO    : Start computing metrics with postprocessing\n",
      "INFO:root:Start computing metrics with postprocessing\n"
     ]
    },
    {
     "name": "stdout",
     "output_type": "stream",
     "text": [
      "Top indexes of an X_test in a base flow dataset:  Int64Index([  419,  9188, 10232, 18924, 29114,  4791,  2589, 15158, 14011,\n",
      "            18163, 20276, 12033, 28585,  1327, 22167, 10055,  6290, 13984,\n",
      "            14472, 29620],\n",
      "           dtype='int64')\n",
      "Top indexes of an y_test in a base flow dataset:  Int64Index([  419,  9188, 10232, 18924, 29114,  4791,  2589, 15158, 14011,\n",
      "            18163, 20276, 12033, 28585,  1327, 22167, 10055,  6290, 13984,\n",
      "            14472, 29620],\n",
      "           dtype='int64')\n",
      "Path for tuned params:  c:\\RAI\\fairness-variance-latest\\fairness-variance\\results\\eq_odds_postprocessing_credit_card\\tuning_results_Credit_Card_Default_20231023__200422.csv\n",
      "RandomForestClassifier:  {'bootstrap': True, 'ccp_alpha': 0.0, 'class_weight': None, 'criterion': 'gini', 'max_depth': 50, 'max_features': 'sqrt', 'max_leaf_nodes': None, 'max_samples': None, 'min_impurity_decrease': 0.0, 'min_samples_leaf': 1, 'min_samples_split': 5, 'min_weight_fraction_leaf': 0.0, 'n_estimators': 200, 'n_jobs': None, 'oob_score': False, 'random_state': 100, 'verbose': 0, 'warm_start': False}\n",
      "Model computation config without postprocessing:  DefaultMunch(None, {'dataset_name': 'Credit_Card_Default', 'bootstrap_fraction': 0.8, 'n_estimators': 200, 'computation_mode': 'postprocessing_intervention', 'num_runs': 1, 'runs_seed_lst': [100], 'sensitive_attributes_dct': DefaultMunch(None, {'sex': 'female'})})\n"
     ]
    },
    {
     "data": {
      "application/vnd.jupyter.widget-view+json": {
       "model_id": "e3644c29f5cf421fa07d977bef704aea",
       "version_major": 2,
       "version_minor": 0
      },
      "text/plain": [
       "Analyze models in one run:   0%|          | 0/1 [00:00<?, ?it/s]"
      ]
     },
     "metadata": {},
     "output_type": "display_data"
    },
    {
     "name": "stdout",
     "output_type": "stream",
     "text": [
      "sentitive_attributes_dct:  DefaultMunch(None, {'sex': 'female'})\n",
      "postprocessing_sensitive_attribute:  sex_binary\n",
      "Entered UQ_by_boostrap from BatchOverallVarianceAnalyzerPostProcessing\n"
     ]
    },
    {
     "data": {
      "application/vnd.jupyter.widget-view+json": {
       "model_id": "b8265505fece4b94ba0373f4229d7157",
       "version_major": 2,
       "version_minor": 0
      },
      "text/plain": [
       "Classifiers testing by bootstrap:   0%|          | 0/200 [00:00<?, ?it/s]"
      ]
     },
     "metadata": {},
     "output_type": "display_data"
    },
    {
     "name": "stdout",
     "output_type": "stream",
     "text": [
      "dict_keys(['sex_priv', 'sex_dis'])\n",
      "                  overall  sex_priv   sex_dis\n",
      "Jitter           0.000501  0.000485  0.000511\n",
      "Label_Stability  0.999499  0.999515  0.999489\n",
      "                    overall  sex_priv   sex_dis\n",
      "TPR                0.368732  0.342373  0.389034\n",
      "TNR                0.944756  0.927858  0.955508\n",
      "PPV                0.661376  0.608434  0.702830\n",
      "FNR                0.631268  0.657627  0.610966\n",
      "FPR                0.055244  0.072142  0.044492\n",
      "Accuracy           0.814357  0.783445  0.834908\n",
      "F1                 0.473485  0.438178  0.500840\n",
      "Selection-Rate     0.126210  0.138796  0.117843\n",
      "Positive-Rate      0.557522  0.562712  0.553525\n",
      "Sample_Size     2995.000000       NaN       NaN\n",
      "metrics_computation_interfaces.py: model_metrics_df:               Metric      overall  sex_priv   sex_dis              Model_Name  \\\n",
      "0            Jitter     0.000501  0.000485  0.000511  RandomForestClassifier   \n",
      "1   Label_Stability     0.999499  0.999515  0.999489  RandomForestClassifier   \n",
      "2               TPR     0.368732  0.342373  0.389034  RandomForestClassifier   \n",
      "3               TNR     0.944756  0.927858  0.955508  RandomForestClassifier   \n",
      "4               PPV     0.661376  0.608434  0.702830  RandomForestClassifier   \n",
      "5               FNR     0.631268  0.657627  0.610966  RandomForestClassifier   \n",
      "6               FPR     0.055244  0.072142  0.044492  RandomForestClassifier   \n",
      "7          Accuracy     0.814357  0.783445  0.834908  RandomForestClassifier   \n",
      "8                F1     0.473485  0.438178  0.500840  RandomForestClassifier   \n",
      "9    Selection-Rate     0.126210  0.138796  0.117843  RandomForestClassifier   \n",
      "10    Positive-Rate     0.557522  0.562712  0.553525  RandomForestClassifier   \n",
      "11      Sample_Size  2995.000000       NaN       NaN  RandomForestClassifier   \n",
      "\n",
      "                                         Model_Params  \n",
      "0   {'bootstrap': True, 'ccp_alpha': 0.0, 'class_w...  \n",
      "1   {'bootstrap': True, 'ccp_alpha': 0.0, 'class_w...  \n",
      "2   {'bootstrap': True, 'ccp_alpha': 0.0, 'class_w...  \n",
      "3   {'bootstrap': True, 'ccp_alpha': 0.0, 'class_w...  \n",
      "4   {'bootstrap': True, 'ccp_alpha': 0.0, 'class_w...  \n",
      "5   {'bootstrap': True, 'ccp_alpha': 0.0, 'class_w...  \n",
      "6   {'bootstrap': True, 'ccp_alpha': 0.0, 'class_w...  \n",
      "7   {'bootstrap': True, 'ccp_alpha': 0.0, 'class_w...  \n",
      "8   {'bootstrap': True, 'ccp_alpha': 0.0, 'class_w...  \n",
      "9   {'bootstrap': True, 'ccp_alpha': 0.0, 'class_w...  \n",
      "10  {'bootstrap': True, 'ccp_alpha': 0.0, 'class_w...  \n",
      "11  {'bootstrap': True, 'ccp_alpha': 0.0, 'class_w...  \n",
      "Model computation config without postprocessing:  DefaultMunch(None, {'dataset_name': 'Credit_Card_Default', 'bootstrap_fraction': 0.8, 'n_estimators': 200, 'computation_mode': 'error_analysis', 'num_runs': 1, 'runs_seed_lst': [100], 'sensitive_attributes_dct': DefaultMunch(None, {'sex': 'female'})})\n"
     ]
    },
    {
     "data": {
      "application/vnd.jupyter.widget-view+json": {
       "model_id": "c817db7f81314382a62892f1ca214268",
       "version_major": 2,
       "version_minor": 0
      },
      "text/plain": [
       "Analyze models in one run:   0%|          | 0/1 [00:00<?, ?it/s]"
      ]
     },
     "metadata": {},
     "output_type": "display_data"
    },
    {
     "name": "stdout",
     "output_type": "stream",
     "text": [
      "sentitive_attributes_dct:  DefaultMunch(None, {'sex': 'female'})\n",
      "postprocessing_sensitive_attribute:  None\n"
     ]
    },
    {
     "data": {
      "application/vnd.jupyter.widget-view+json": {
       "model_id": "aa7facc815a24b66be830af265edc1d0",
       "version_major": 2,
       "version_minor": 0
      },
      "text/plain": [
       "Classifiers testing by bootstrap:   0%|          | 0/200 [00:00<?, ?it/s]"
      ]
     },
     "metadata": {},
     "output_type": "display_data"
    },
    {
     "name": "stdout",
     "output_type": "stream",
     "text": [
      "                        overall  sex_priv  sex_priv_correct  \\\n",
      "Mean_Prediction        0.771644  0.759122          0.783743   \n",
      "Statistical_Bias       0.274378  0.295975          0.181258   \n",
      "Std                    0.047794  0.049015          0.045903   \n",
      "Overall_Uncertainty    0.635682  0.657540          0.621927   \n",
      "Aleatoric_Uncertainty  0.622627  0.644509          0.609678   \n",
      "IQR                    0.065690  0.067284          0.063028   \n",
      "Jitter                 0.044285  0.049119          0.032493   \n",
      "Label_Stability        0.936952  0.930067          0.953907   \n",
      "\n",
      "                       sex_priv_incorrect   sex_dis  sex_dis_correct  \\\n",
      "Mean_Prediction                  0.667811  0.779968         0.798409   \n",
      "Statistical_Bias                 0.721418  0.260020         0.169029   \n",
      "Std                              0.060556  0.046983         0.043768   \n",
      "Overall_Uncertainty              0.789615  0.621151         0.593049   \n",
      "Aleatoric_Uncertainty            0.773685  0.608080         0.581165   \n",
      "IQR                              0.083068  0.064630         0.060108   \n",
      "Jitter                           0.110776  0.041071         0.028728   \n",
      "Label_Stability                  0.841654  0.941529         0.959583   \n",
      "\n",
      "                       sex_dis_incorrect  \n",
      "Mean_Prediction                 0.683616  \n",
      "Statistical_Bias                0.735440  \n",
      "Std                             0.063784  \n",
      "Overall_Uncertainty             0.767983  \n",
      "Aleatoric_Uncertainty           0.748707  \n",
      "IQR                             0.088256  \n",
      "Jitter                          0.105563  \n",
      "Label_Stability                 0.847197  \n",
      "                    overall     sex_priv  sex_priv_correct  \\\n",
      "TPR                0.362832     0.325424          1.000000   \n",
      "TNR                0.952093     0.938957          1.000000   \n",
      "PPV                0.689076     0.635762          1.000000   \n",
      "FNR                0.637168     0.674576          0.000000   \n",
      "FPR                0.047907     0.061043          0.000000   \n",
      "Accuracy           0.818698     0.787625          1.000000   \n",
      "F1                 0.475362     0.430493          1.000000   \n",
      "Selection-Rate     0.119199     0.126254          0.101911   \n",
      "Positive-Rate      0.526549     0.511864          1.000000   \n",
      "Sample_Size     2995.000000  1196.000000        942.000000   \n",
      "\n",
      "                sex_priv_incorrect      sex_dis  sex_dis_correct  \\\n",
      "TPR                       0.000000     0.391645         1.000000   \n",
      "TNR                       0.000000     0.960452         1.000000   \n",
      "PPV                       0.000000     0.728155         1.000000   \n",
      "FNR                       1.000000     0.608355         0.000000   \n",
      "FPR                       1.000000     0.039548         0.000000   \n",
      "Accuracy                  0.000000     0.839355         1.000000   \n",
      "F1                        0.000000     0.509338         1.000000   \n",
      "Selection-Rate            0.216535     0.114508         0.099338   \n",
      "Positive-Rate             0.276382     0.537859         1.000000   \n",
      "Sample_Size             254.000000  1799.000000      1510.000000   \n",
      "\n",
      "                sex_dis_incorrect  \n",
      "TPR                      0.000000  \n",
      "TNR                      0.000000  \n",
      "PPV                      0.000000  \n",
      "FNR                      1.000000  \n",
      "FPR                      1.000000  \n",
      "Accuracy                 0.000000  \n",
      "F1                       0.000000  \n",
      "Selection-Rate           0.193772  \n",
      "Positive-Rate            0.240343  \n",
      "Sample_Size            289.000000  \n",
      "metrics_computation_interfaces.py: model_metrics_df:                     Metric      overall     sex_priv  sex_priv_correct  \\\n",
      "0         Mean_Prediction     0.771644     0.759122          0.783743   \n",
      "1        Statistical_Bias     0.274378     0.295975          0.181258   \n",
      "2                     Std     0.047794     0.049015          0.045903   \n",
      "3     Overall_Uncertainty     0.635682     0.657540          0.621927   \n",
      "4   Aleatoric_Uncertainty     0.622627     0.644509          0.609678   \n",
      "5                     IQR     0.065690     0.067284          0.063028   \n",
      "6                  Jitter     0.044285     0.049119          0.032493   \n",
      "7         Label_Stability     0.936952     0.930067          0.953907   \n",
      "8                     TPR     0.362832     0.325424          1.000000   \n",
      "9                     TNR     0.952093     0.938957          1.000000   \n",
      "10                    PPV     0.689076     0.635762          1.000000   \n",
      "11                    FNR     0.637168     0.674576          0.000000   \n",
      "12                    FPR     0.047907     0.061043          0.000000   \n",
      "13               Accuracy     0.818698     0.787625          1.000000   \n",
      "14                     F1     0.475362     0.430493          1.000000   \n",
      "15         Selection-Rate     0.119199     0.126254          0.101911   \n",
      "16          Positive-Rate     0.526549     0.511864          1.000000   \n",
      "17            Sample_Size  2995.000000  1196.000000        942.000000   \n",
      "\n",
      "    sex_priv_incorrect      sex_dis  sex_dis_correct  sex_dis_incorrect  \\\n",
      "0             0.667811     0.779968         0.798409           0.683616   \n",
      "1             0.721418     0.260020         0.169029           0.735440   \n",
      "2             0.060556     0.046983         0.043768           0.063784   \n",
      "3             0.789615     0.621151         0.593049           0.767983   \n",
      "4             0.773685     0.608080         0.581165           0.748707   \n",
      "5             0.083068     0.064630         0.060108           0.088256   \n",
      "6             0.110776     0.041071         0.028728           0.105563   \n",
      "7             0.841654     0.941529         0.959583           0.847197   \n",
      "8             0.000000     0.391645         1.000000           0.000000   \n",
      "9             0.000000     0.960452         1.000000           0.000000   \n",
      "10            0.000000     0.728155         1.000000           0.000000   \n",
      "11            1.000000     0.608355         0.000000           1.000000   \n",
      "12            1.000000     0.039548         0.000000           1.000000   \n",
      "13            0.000000     0.839355         1.000000           0.000000   \n",
      "14            0.000000     0.509338         1.000000           0.000000   \n",
      "15            0.216535     0.114508         0.099338           0.193772   \n",
      "16            0.276382     0.537859         1.000000           0.240343   \n",
      "17          254.000000  1799.000000      1510.000000         289.000000   \n",
      "\n",
      "                Model_Name                                       Model_Params  \n",
      "0   RandomForestClassifier  {'bootstrap': True, 'ccp_alpha': 0.0, 'class_w...  \n",
      "1   RandomForestClassifier  {'bootstrap': True, 'ccp_alpha': 0.0, 'class_w...  \n",
      "2   RandomForestClassifier  {'bootstrap': True, 'ccp_alpha': 0.0, 'class_w...  \n",
      "3   RandomForestClassifier  {'bootstrap': True, 'ccp_alpha': 0.0, 'class_w...  \n",
      "4   RandomForestClassifier  {'bootstrap': True, 'ccp_alpha': 0.0, 'class_w...  \n",
      "5   RandomForestClassifier  {'bootstrap': True, 'ccp_alpha': 0.0, 'class_w...  \n",
      "6   RandomForestClassifier  {'bootstrap': True, 'ccp_alpha': 0.0, 'class_w...  \n",
      "7   RandomForestClassifier  {'bootstrap': True, 'ccp_alpha': 0.0, 'class_w...  \n",
      "8   RandomForestClassifier  {'bootstrap': True, 'ccp_alpha': 0.0, 'class_w...  \n",
      "9   RandomForestClassifier  {'bootstrap': True, 'ccp_alpha': 0.0, 'class_w...  \n",
      "10  RandomForestClassifier  {'bootstrap': True, 'ccp_alpha': 0.0, 'class_w...  \n",
      "11  RandomForestClassifier  {'bootstrap': True, 'ccp_alpha': 0.0, 'class_w...  \n",
      "12  RandomForestClassifier  {'bootstrap': True, 'ccp_alpha': 0.0, 'class_w...  \n",
      "13  RandomForestClassifier  {'bootstrap': True, 'ccp_alpha': 0.0, 'class_w...  \n",
      "14  RandomForestClassifier  {'bootstrap': True, 'ccp_alpha': 0.0, 'class_w...  \n",
      "15  RandomForestClassifier  {'bootstrap': True, 'ccp_alpha': 0.0, 'class_w...  \n",
      "16  RandomForestClassifier  {'bootstrap': True, 'ccp_alpha': 0.0, 'class_w...  \n",
      "17  RandomForestClassifier  {'bootstrap': True, 'ccp_alpha': 0.0, 'class_w...  \n"
     ]
    }
   ],
   "source": [
    "# Configs for an experiment iteration\n",
    "exp_iter_num = 4\n",
    "experiment_seed = EXPERIMENT_SEEDS[exp_iter_num - 1]\n",
    "custom_table_fields_dct['experiment_iteration'] = f'Exp_iter_{exp_iter_num}'\n",
    "\n",
    "exp_iter_data_loader = copy.deepcopy(data_loader)\n",
    "\n",
    "run_exp_iter_with_eqq_odds_postprocessing(data_loader=exp_iter_data_loader,\n",
    "                                           experiment_seed=experiment_seed,\n",
    "                                           test_set_fraction=TEST_SET_FRACTION,\n",
    "                                           db_writer_func=db_writer_func,\n",
    "                                           models_params_for_tuning=models_params_for_tuning,\n",
    "                                           metrics_computation_config=metrics_computation_config,\n",
    "                                           custom_table_fields_dct=custom_table_fields_dct,\n",
    "                                           with_tuning=False,\n",
    "                                           tuned_params_df_path=tuned_params_df_paths[0],\n",
    "                                           save_results_dir_path=SAVE_RESULTS_DIR_PATH,\n",
    "                                           verbose=True,\n",
    "                                           dataset_name='CreditCardDefaultDataset')"
   ]
  },
  {
   "cell_type": "markdown",
   "metadata": {},
   "source": [
    "### Experiment iteration 5"
   ]
  },
  {
   "cell_type": "code",
   "execution_count": null,
   "metadata": {},
   "outputs": [
    {
     "name": "stderr",
     "output_type": "stream",
     "text": [
      "2023-11-02 02:02:04 experiment_interface.py INFO    : Start an experiment iteration for the following custom params:\n",
      "INFO:root:Start an experiment iteration for the following custom params:\n"
     ]
    },
    {
     "name": "stdout",
     "output_type": "stream",
     "text": [
      "{'dataset_split_seed': 500,\n",
      " 'experiment_iteration': 'Exp_iter_5',\n",
      " 'fair_intervention_params_lst': '[1.0, 0.0]',\n",
      " 'intervention_param': 0.0,\n",
      " 'model_init_seed': 500,\n",
      " 'session_uuid': 'acafb64d-0b5a-4b37-bd3c-bd234d2ab800'}\n",
      "\n",
      "\n"
     ]
    },
    {
     "name": "stderr",
     "output_type": "stream",
     "text": [
      "2023-11-02 02:02:04 experiment_interface.py INFO    : The dataset is preprocessed\n",
      "INFO:root:The dataset is preprocessed\n",
      "2023-11-02 02:02:04 experiment_interface.py INFO    : Models config is loaded from the input file\n",
      "INFO:root:Models config is loaded from the input file\n",
      "2023-11-02 02:02:04 experiment_interface.py INFO    : Start computing metrics with postprocessing\n",
      "INFO:root:Start computing metrics with postprocessing\n"
     ]
    },
    {
     "name": "stdout",
     "output_type": "stream",
     "text": [
      "Top indexes of an X_test in a base flow dataset:  Int64Index([ 4180, 15081, 21731, 27459, 29788, 24643, 14768, 14421, 20198,\n",
      "             9786, 10152, 16825, 28442,  2667,  4835, 11415, 20290,  9653,\n",
      "            26492, 25949],\n",
      "           dtype='int64')\n",
      "Top indexes of an y_test in a base flow dataset:  Int64Index([ 4180, 15081, 21731, 27459, 29788, 24643, 14768, 14421, 20198,\n",
      "             9786, 10152, 16825, 28442,  2667,  4835, 11415, 20290,  9653,\n",
      "            26492, 25949],\n",
      "           dtype='int64')\n",
      "Path for tuned params:  c:\\RAI\\fairness-variance-latest\\fairness-variance\\results\\eq_odds_postprocessing_credit_card\\tuning_results_Credit_Card_Default_20231023__200422.csv\n",
      "RandomForestClassifier:  {'bootstrap': True, 'ccp_alpha': 0.0, 'class_weight': None, 'criterion': 'gini', 'max_depth': 50, 'max_features': 'sqrt', 'max_leaf_nodes': None, 'max_samples': None, 'min_impurity_decrease': 0.0, 'min_samples_leaf': 1, 'min_samples_split': 5, 'min_weight_fraction_leaf': 0.0, 'n_estimators': 200, 'n_jobs': None, 'oob_score': False, 'random_state': 100, 'verbose': 0, 'warm_start': False}\n",
      "Model computation config without postprocessing:  DefaultMunch(None, {'dataset_name': 'Credit_Card_Default', 'bootstrap_fraction': 0.8, 'n_estimators': 200, 'computation_mode': 'postprocessing_intervention', 'num_runs': 1, 'runs_seed_lst': [100], 'sensitive_attributes_dct': DefaultMunch(None, {'sex': 'female'})})\n"
     ]
    },
    {
     "data": {
      "application/vnd.jupyter.widget-view+json": {
       "model_id": "4aceb2a5569b4195830a4e7d63de6ad4",
       "version_major": 2,
       "version_minor": 0
      },
      "text/plain": [
       "Analyze models in one run:   0%|          | 0/1 [00:00<?, ?it/s]"
      ]
     },
     "metadata": {},
     "output_type": "display_data"
    },
    {
     "name": "stdout",
     "output_type": "stream",
     "text": [
      "sentitive_attributes_dct:  DefaultMunch(None, {'sex': 'female'})\n",
      "postprocessing_sensitive_attribute:  sex_binary\n",
      "Entered UQ_by_boostrap from BatchOverallVarianceAnalyzerPostProcessing\n"
     ]
    },
    {
     "data": {
      "application/vnd.jupyter.widget-view+json": {
       "model_id": "5b115cf389454369ac717a9c650d84cc",
       "version_major": 2,
       "version_minor": 0
      },
      "text/plain": [
       "Classifiers testing by bootstrap:   0%|          | 0/200 [00:00<?, ?it/s]"
      ]
     },
     "metadata": {},
     "output_type": "display_data"
    },
    {
     "name": "stdout",
     "output_type": "stream",
     "text": [
      "dict_keys(['sex_priv', 'sex_dis'])\n",
      "                  overall  sex_priv   sex_dis\n",
      "Jitter           0.005947  0.005190  0.006435\n",
      "Label_Stability  0.988611  0.990153  0.987618\n",
      "                    overall  sex_priv   sex_dis\n",
      "TPR                0.391104  0.376344  0.402145\n",
      "TNR                0.944089  0.935123  0.949620\n",
      "PPV                0.660622  0.644172  0.672646\n",
      "FNR                0.608896  0.623656  0.597855\n",
      "FPR                0.055911  0.064877  0.050380\n",
      "Accuracy           0.823706  0.802217  0.837541\n",
      "F1                 0.491329  0.475113  0.503356\n",
      "Selection-Rate     0.128881  0.138960  0.122393\n",
      "Positive-Rate      0.592025  0.584229  0.597855\n",
      "Sample_Size     2995.000000       NaN       NaN\n",
      "metrics_computation_interfaces.py: model_metrics_df:               Metric      overall  sex_priv   sex_dis              Model_Name  \\\n",
      "0            Jitter     0.005947  0.005190  0.006435  RandomForestClassifier   \n",
      "1   Label_Stability     0.988611  0.990153  0.987618  RandomForestClassifier   \n",
      "2               TPR     0.391104  0.376344  0.402145  RandomForestClassifier   \n",
      "3               TNR     0.944089  0.935123  0.949620  RandomForestClassifier   \n",
      "4               PPV     0.660622  0.644172  0.672646  RandomForestClassifier   \n",
      "5               FNR     0.608896  0.623656  0.597855  RandomForestClassifier   \n",
      "6               FPR     0.055911  0.064877  0.050380  RandomForestClassifier   \n",
      "7          Accuracy     0.823706  0.802217  0.837541  RandomForestClassifier   \n",
      "8                F1     0.491329  0.475113  0.503356  RandomForestClassifier   \n",
      "9    Selection-Rate     0.128881  0.138960  0.122393  RandomForestClassifier   \n",
      "10    Positive-Rate     0.592025  0.584229  0.597855  RandomForestClassifier   \n",
      "11      Sample_Size  2995.000000       NaN       NaN  RandomForestClassifier   \n",
      "\n",
      "                                         Model_Params  \n",
      "0   {'bootstrap': True, 'ccp_alpha': 0.0, 'class_w...  \n",
      "1   {'bootstrap': True, 'ccp_alpha': 0.0, 'class_w...  \n",
      "2   {'bootstrap': True, 'ccp_alpha': 0.0, 'class_w...  \n",
      "3   {'bootstrap': True, 'ccp_alpha': 0.0, 'class_w...  \n",
      "4   {'bootstrap': True, 'ccp_alpha': 0.0, 'class_w...  \n",
      "5   {'bootstrap': True, 'ccp_alpha': 0.0, 'class_w...  \n",
      "6   {'bootstrap': True, 'ccp_alpha': 0.0, 'class_w...  \n",
      "7   {'bootstrap': True, 'ccp_alpha': 0.0, 'class_w...  \n",
      "8   {'bootstrap': True, 'ccp_alpha': 0.0, 'class_w...  \n",
      "9   {'bootstrap': True, 'ccp_alpha': 0.0, 'class_w...  \n",
      "10  {'bootstrap': True, 'ccp_alpha': 0.0, 'class_w...  \n",
      "11  {'bootstrap': True, 'ccp_alpha': 0.0, 'class_w...  \n",
      "Model computation config without postprocessing:  DefaultMunch(None, {'dataset_name': 'Credit_Card_Default', 'bootstrap_fraction': 0.8, 'n_estimators': 200, 'computation_mode': 'error_analysis', 'num_runs': 1, 'runs_seed_lst': [100], 'sensitive_attributes_dct': DefaultMunch(None, {'sex': 'female'})})\n"
     ]
    },
    {
     "data": {
      "application/vnd.jupyter.widget-view+json": {
       "model_id": "5a69d316d1734950869bff3d0f5842f1",
       "version_major": 2,
       "version_minor": 0
      },
      "text/plain": [
       "Analyze models in one run:   0%|          | 0/1 [00:00<?, ?it/s]"
      ]
     },
     "metadata": {},
     "output_type": "display_data"
    },
    {
     "name": "stdout",
     "output_type": "stream",
     "text": [
      "sentitive_attributes_dct:  DefaultMunch(None, {'sex': 'female'})\n",
      "postprocessing_sensitive_attribute:  None\n"
     ]
    },
    {
     "data": {
      "application/vnd.jupyter.widget-view+json": {
       "model_id": "2cfb58f4422c42638b3d298535af7570",
       "version_major": 2,
       "version_minor": 0
      },
      "text/plain": [
       "Classifiers testing by bootstrap:   0%|          | 0/200 [00:00<?, ?it/s]"
      ]
     },
     "metadata": {},
     "output_type": "display_data"
    },
    {
     "name": "stdout",
     "output_type": "stream",
     "text": [
      "                        overall  sex_priv  sex_priv_correct  \\\n",
      "Mean_Prediction        0.766467  0.751422          0.774896   \n",
      "Statistical_Bias       0.271332  0.291301          0.188520   \n",
      "Std                    0.047813  0.048911          0.045962   \n",
      "Overall_Uncertainty    0.641765  0.670097          0.638103   \n",
      "Aleatoric_Uncertainty  0.628836  0.657435          0.626188   \n",
      "IQR                    0.065502  0.067178          0.063001   \n",
      "Jitter                 0.041280  0.045602          0.031353   \n",
      "Label_Stability        0.943065  0.937783          0.958051   \n",
      "\n",
      "                       sex_priv_incorrect   sex_dis  sex_dis_correct  \\\n",
      "Mean_Prediction                  0.654657  0.776153         0.795404   \n",
      "Statistical_Bias                 0.714989  0.258475         0.170053   \n",
      "Std                              0.061064  0.047107         0.044391   \n",
      "Overall_Uncertainty              0.801986  0.623525         0.596894   \n",
      "Aleatoric_Uncertainty            0.786243  0.610424         0.584602   \n",
      "IQR                              0.084399  0.064423         0.060733   \n",
      "Jitter                           0.104339  0.038497         0.027824   \n",
      "Label_Stability                  0.854236  0.946465         0.962133   \n",
      "\n",
      "                       sex_dis_incorrect  \n",
      "Mean_Prediction                 0.671901  \n",
      "Statistical_Bias                0.737328  \n",
      "Std                             0.061813  \n",
      "Overall_Uncertainty             0.767745  \n",
      "Aleatoric_Uncertainty           0.750263  \n",
      "IQR                             0.084406  \n",
      "Jitter                          0.096302  \n",
      "Label_Stability                 0.861620  \n",
      "                    overall     sex_priv  sex_priv_correct  \\\n",
      "TPR                0.406442     0.387097          1.000000   \n",
      "TNR                0.946223     0.935123          1.000000   \n",
      "PPV                0.677749     0.650602          1.000000   \n",
      "FNR                0.593558     0.612903          0.000000   \n",
      "FPR                0.053777     0.064877          0.000000   \n",
      "Accuracy           0.828715     0.804774          1.000000   \n",
      "F1                 0.508150     0.485393          1.000000   \n",
      "Selection-Rate     0.130551     0.141517          0.114407   \n",
      "Positive-Rate      0.599693     0.594982          1.000000   \n",
      "Sample_Size     2995.000000  1173.000000        944.000000   \n",
      "\n",
      "                sex_priv_incorrect      sex_dis  sex_dis_correct  \\\n",
      "TPR                       0.000000     0.420912         1.000000   \n",
      "TNR                       0.000000     0.953071         1.000000   \n",
      "PPV                       0.000000     0.697778         1.000000   \n",
      "FNR                       1.000000     0.579088         0.000000   \n",
      "FPR                       1.000000     0.046929         0.000000   \n",
      "Accuracy                  0.000000     0.844127         1.000000   \n",
      "F1                        0.000000     0.525084         1.000000   \n",
      "Selection-Rate            0.253275     0.123491         0.102081   \n",
      "Positive-Rate             0.339181     0.603217         1.000000   \n",
      "Sample_Size             229.000000  1822.000000      1538.000000   \n",
      "\n",
      "                sex_dis_incorrect  \n",
      "TPR                      0.000000  \n",
      "TNR                      0.000000  \n",
      "PPV                      0.000000  \n",
      "FNR                      1.000000  \n",
      "FPR                      1.000000  \n",
      "Accuracy                 0.000000  \n",
      "F1                       0.000000  \n",
      "Selection-Rate           0.239437  \n",
      "Positive-Rate            0.314815  \n",
      "Sample_Size            284.000000  \n",
      "metrics_computation_interfaces.py: model_metrics_df:                     Metric      overall     sex_priv  sex_priv_correct  \\\n",
      "0         Mean_Prediction     0.766467     0.751422          0.774896   \n",
      "1        Statistical_Bias     0.271332     0.291301          0.188520   \n",
      "2                     Std     0.047813     0.048911          0.045962   \n",
      "3     Overall_Uncertainty     0.641765     0.670097          0.638103   \n",
      "4   Aleatoric_Uncertainty     0.628836     0.657435          0.626188   \n",
      "5                     IQR     0.065502     0.067178          0.063001   \n",
      "6                  Jitter     0.041280     0.045602          0.031353   \n",
      "7         Label_Stability     0.943065     0.937783          0.958051   \n",
      "8                     TPR     0.406442     0.387097          1.000000   \n",
      "9                     TNR     0.946223     0.935123          1.000000   \n",
      "10                    PPV     0.677749     0.650602          1.000000   \n",
      "11                    FNR     0.593558     0.612903          0.000000   \n",
      "12                    FPR     0.053777     0.064877          0.000000   \n",
      "13               Accuracy     0.828715     0.804774          1.000000   \n",
      "14                     F1     0.508150     0.485393          1.000000   \n",
      "15         Selection-Rate     0.130551     0.141517          0.114407   \n",
      "16          Positive-Rate     0.599693     0.594982          1.000000   \n",
      "17            Sample_Size  2995.000000  1173.000000        944.000000   \n",
      "\n",
      "    sex_priv_incorrect      sex_dis  sex_dis_correct  sex_dis_incorrect  \\\n",
      "0             0.654657     0.776153         0.795404           0.671901   \n",
      "1             0.714989     0.258475         0.170053           0.737328   \n",
      "2             0.061064     0.047107         0.044391           0.061813   \n",
      "3             0.801986     0.623525         0.596894           0.767745   \n",
      "4             0.786243     0.610424         0.584602           0.750263   \n",
      "5             0.084399     0.064423         0.060733           0.084406   \n",
      "6             0.104339     0.038497         0.027824           0.096302   \n",
      "7             0.854236     0.946465         0.962133           0.861620   \n",
      "8             0.000000     0.420912         1.000000           0.000000   \n",
      "9             0.000000     0.953071         1.000000           0.000000   \n",
      "10            0.000000     0.697778         1.000000           0.000000   \n",
      "11            1.000000     0.579088         0.000000           1.000000   \n",
      "12            1.000000     0.046929         0.000000           1.000000   \n",
      "13            0.000000     0.844127         1.000000           0.000000   \n",
      "14            0.000000     0.525084         1.000000           0.000000   \n",
      "15            0.253275     0.123491         0.102081           0.239437   \n",
      "16            0.339181     0.603217         1.000000           0.314815   \n",
      "17          229.000000  1822.000000      1538.000000         284.000000   \n",
      "\n",
      "                Model_Name                                       Model_Params  \n",
      "0   RandomForestClassifier  {'bootstrap': True, 'ccp_alpha': 0.0, 'class_w...  \n",
      "1   RandomForestClassifier  {'bootstrap': True, 'ccp_alpha': 0.0, 'class_w...  \n",
      "2   RandomForestClassifier  {'bootstrap': True, 'ccp_alpha': 0.0, 'class_w...  \n",
      "3   RandomForestClassifier  {'bootstrap': True, 'ccp_alpha': 0.0, 'class_w...  \n",
      "4   RandomForestClassifier  {'bootstrap': True, 'ccp_alpha': 0.0, 'class_w...  \n",
      "5   RandomForestClassifier  {'bootstrap': True, 'ccp_alpha': 0.0, 'class_w...  \n",
      "6   RandomForestClassifier  {'bootstrap': True, 'ccp_alpha': 0.0, 'class_w...  \n",
      "7   RandomForestClassifier  {'bootstrap': True, 'ccp_alpha': 0.0, 'class_w...  \n",
      "8   RandomForestClassifier  {'bootstrap': True, 'ccp_alpha': 0.0, 'class_w...  \n",
      "9   RandomForestClassifier  {'bootstrap': True, 'ccp_alpha': 0.0, 'class_w...  \n",
      "10  RandomForestClassifier  {'bootstrap': True, 'ccp_alpha': 0.0, 'class_w...  \n",
      "11  RandomForestClassifier  {'bootstrap': True, 'ccp_alpha': 0.0, 'class_w...  \n",
      "12  RandomForestClassifier  {'bootstrap': True, 'ccp_alpha': 0.0, 'class_w...  \n",
      "13  RandomForestClassifier  {'bootstrap': True, 'ccp_alpha': 0.0, 'class_w...  \n",
      "14  RandomForestClassifier  {'bootstrap': True, 'ccp_alpha': 0.0, 'class_w...  \n",
      "15  RandomForestClassifier  {'bootstrap': True, 'ccp_alpha': 0.0, 'class_w...  \n",
      "16  RandomForestClassifier  {'bootstrap': True, 'ccp_alpha': 0.0, 'class_w...  \n",
      "17  RandomForestClassifier  {'bootstrap': True, 'ccp_alpha': 0.0, 'class_w...  \n"
     ]
    }
   ],
   "source": [
    "# Configs for an experiment iteration\n",
    "exp_iter_num = 5\n",
    "experiment_seed = EXPERIMENT_SEEDS[exp_iter_num - 1]\n",
    "custom_table_fields_dct['experiment_iteration'] = f'Exp_iter_{exp_iter_num}'\n",
    "\n",
    "exp_iter_data_loader = copy.deepcopy(data_loader)\n",
    "\n",
    "run_exp_iter_with_eqq_odds_postprocessing(data_loader=exp_iter_data_loader,\n",
    "                                           experiment_seed=experiment_seed,\n",
    "                                           test_set_fraction=TEST_SET_FRACTION,\n",
    "                                           db_writer_func=db_writer_func,\n",
    "                                           models_params_for_tuning=models_params_for_tuning,\n",
    "                                           metrics_computation_config=metrics_computation_config,\n",
    "                                           custom_table_fields_dct=custom_table_fields_dct,\n",
    "                                           with_tuning=False,\n",
    "                                           tuned_params_df_path=tuned_params_df_paths[0],\n",
    "                                           save_results_dir_path=SAVE_RESULTS_DIR_PATH,\n",
    "                                           verbose=True,\n",
    "                                           dataset_name='CreditCardDefaultDataset')"
   ]
  }
 ],
 "metadata": {
  "kernelspec": {
   "display_name": ".venv",
   "language": "python",
   "name": "python3"
  },
  "language_info": {
   "codemirror_mode": {
    "name": "ipython",
    "version": 3
   },
   "file_extension": ".py",
   "mimetype": "text/x-python",
   "name": "python",
   "nbconvert_exporter": "python",
   "pygments_lexer": "ipython3",
   "version": "3.8.10"
  },
  "orig_nbformat": 4
 },
 "nbformat": 4,
 "nbformat_minor": 2
}
