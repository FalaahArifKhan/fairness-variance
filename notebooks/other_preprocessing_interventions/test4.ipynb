{
 "cells": [
  {
   "cell_type": "code",
   "execution_count": 2,
   "id": "f322eb92",
   "metadata": {},
   "outputs": [],
   "source": [
    "# !pip install cvxpy"
   ]
  },
  {
   "cell_type": "code",
   "execution_count": 1,
   "id": "5124f68f",
   "metadata": {},
   "outputs": [],
   "source": [
    "%matplotlib inline\n",
    "%load_ext autoreload\n",
    "%autoreload 2"
   ]
  },
  {
   "cell_type": "code",
   "execution_count": 2,
   "id": "e262c531",
   "metadata": {},
   "outputs": [],
   "source": [
    "import os\n",
    "import warnings\n",
    "warnings.filterwarnings('ignore')\n",
    "os.environ[\"PYTHONWARNINGS\"] = \"ignore\""
   ]
  },
  {
   "cell_type": "code",
   "execution_count": 3,
   "id": "efa02c6d",
   "metadata": {},
   "outputs": [
    {
     "name": "stdout",
     "output_type": "stream",
     "text": [
      "Current location:  /home/dh3553/projects/fairness-variance\n"
     ]
    }
   ],
   "source": [
    "cur_folder_name = os.getcwd().split('/')[-1]\n",
    "if cur_folder_name != \"fairness-variance\":\n",
    "    os.chdir(\"../..\")\n",
    "\n",
    "print('Current location: ', os.getcwd())"
   ]
  },
  {
   "cell_type": "code",
   "execution_count": 4,
   "id": "0096a0b4",
   "metadata": {
    "ExecuteTime": {
     "end_time": "2023-12-28T12:21:17.665888Z",
     "start_time": "2023-12-28T12:21:16.280140Z"
    }
   },
   "outputs": [
    {
     "name": "stderr",
     "output_type": "stream",
     "text": [
      "WARNING:root:No module named 'tempeh': LawSchoolGPADataset will be unavailable. To install, run:\n",
      "pip install 'aif360[LawSchoolGPA]'\n",
      "WARNING:root:No module named 'tensorflow': AdversarialDebiasing will be unavailable. To install, run:\n",
      "pip install 'aif360[AdversarialDebiasing]'\n",
      "WARNING:root:No module named 'tensorflow': AdversarialDebiasing will be unavailable. To install, run:\n",
      "pip install 'aif360[AdversarialDebiasing]'\n"
     ]
    }
   ],
   "source": [
    "import numpy as np\n",
    "import pandas as pd\n",
    "import folktables\n",
    "from folktables import ACSDataSource\n",
    "\n",
    "from aif360.datasets import StandardDataset\n",
    "from aif360.metrics import BinaryLabelDatasetMetric\n",
    "\n",
    "from source.preprocessing import get_distortion_acs_income"
   ]
  },
  {
   "cell_type": "code",
   "execution_count": 5,
   "id": "45a960cd",
   "metadata": {},
   "outputs": [],
   "source": [
    "class ACSIncomeFolktablesDataset(StandardDataset):\n",
    "    def __init__(self, protected_attr_name='SEX', root_dir=\"data/folktables/\",\n",
    "                 survey_year='2018', states=[\"PA\"]):\n",
    "        assert protected_attr_name in ['SEX', 'RAC1P']\n",
    "        self.protected_attr_name = protected_attr_name\n",
    "\n",
    "        # 'sex': 'SEX',\n",
    "        # 'race': 'RAC1P'\n",
    "\n",
    "        def group_race(x):\n",
    "            if x == 1.:\n",
    "                return 1.\n",
    "            else:\n",
    "                return 0.\n",
    "\n",
    "        data_source = ACSDataSource(survey_year=survey_year, horizon='1-Year', survey='person', root_dir=root_dir)\n",
    "        acs_data = data_source.get_data(states=states, download=True)\n",
    "        \n",
    "        # Subsample\n",
    "        subsample_size = 500\n",
    "        subsample_seed = 42\n",
    "        acs_data = acs_data.sample(subsample_size, random_state=subsample_seed) if subsample_seed is not None \\\n",
    "            else acs_data.sample(subsample_size)\n",
    "        acs_data = acs_data.reset_index(drop=True)\n",
    "        \n",
    "        features, labels, _ = self.formulate_problem().df_to_pandas(acs_data)\n",
    "\n",
    "        df = pd.concat([features, labels], axis=1)\n",
    "        df['SEX'] = df['SEX'].replace({1.: 1., 2.: 0.})\n",
    "        df['RAC1P'] = df['RAC1P'].apply(lambda x: group_race(x))\n",
    "\n",
    "        del features\n",
    "        del labels\n",
    "\n",
    "        super(ACSIncomeFolktablesDataset, self).__init__(df=df, label_name='PINCP', favorable_classes=[True],\n",
    "                                                         protected_attribute_names=[protected_attr_name],\n",
    "                                                         privileged_classes=[[1.]],\n",
    "                                                         categorical_features=['COW', 'MAR', 'SCHL'])\n",
    "\n",
    "    def formulate_problem(self):\n",
    "        problem = folktables.BasicProblem(\n",
    "            features=[\n",
    "                'AGEP',\n",
    "                'COW',    # class of worker\n",
    "                'SCHL',   # education level\n",
    "                'MAR',    # marital status\n",
    "                # 'OCCP', # occupation\n",
    "                # 'POBP', # place of birth\n",
    "                # 'RELP', # relationship \n",
    "                'WKHP',\n",
    "                'SEX',\n",
    "                'RAC1P',\n",
    "            ],\n",
    "            target='PINCP',\n",
    "            target_transform=lambda x: x > 50000,\n",
    "            group=self.protected_attr_name,\n",
    "            preprocess=folktables.adult_filter,\n",
    "            postprocess=lambda x: np.nan_to_num(x, -1),\n",
    "        )\n",
    "        return problem"
   ]
  },
  {
   "cell_type": "code",
   "execution_count": 6,
   "id": "03310f82",
   "metadata": {},
   "outputs": [
    {
     "name": "stdout",
     "output_type": "stream",
     "text": [
      "Downloading data for 2018 1-Year person survey for PA...\n",
      "\n",
      "\n",
      "Stats of Initial Dataset: \n",
      "Train set: Difference in mean outcomes between unprivileged and privileged groups = -0.163666\n",
      "Train set: Initial disparate impact in source dataset = 0.645390\n",
      "Test set: Difference in mean outcomes between unprivileged and privileged groups = -0.433333\n",
      "Test set: Initial disparate impact in source dataset = 0.277778\n"
     ]
    }
   ],
   "source": [
    "privilege_mode = 'SEX'\n",
    "dd = ACSIncomeFolktablesDataset(protected_attr_name=privilege_mode)\n",
    "\n",
    "train_dataset, val_dataset = dd.split([0.65], shuffle=True)\n",
    "val_dataset, test_dataset = val_dataset.split([0.43], shuffle=True) # 0.43 * 0.35 = 0.15\n",
    "\n",
    "privileged_groups = [{privilege_mode: 1}]\n",
    "unprivileged_groups = [{privilege_mode: 0}]\n",
    "\n",
    "index = train_dataset.feature_names.index(privilege_mode)\n",
    "\n",
    "# Metric for the original dataset #################################################################\n",
    "print(\"\\n\\nStats of Initial Dataset: \")\n",
    "metric_orig_train = BinaryLabelDatasetMetric(train_dataset,\n",
    "                                             unprivileged_groups=unprivileged_groups,\n",
    "                                             privileged_groups=privileged_groups)\n",
    "print(\"Train set: Difference in mean outcomes between unprivileged and privileged groups = %f\" % metric_orig_train.mean_difference())\n",
    "print(\"Train set: Initial disparate impact in source dataset = %f\" % metric_orig_train.disparate_impact())\n",
    "metric_orig_test = BinaryLabelDatasetMetric(test_dataset,\n",
    "                                            unprivileged_groups=unprivileged_groups,\n",
    "                                            privileged_groups=privileged_groups)\n",
    "print(\"Test set: Difference in mean outcomes between unprivileged and privileged groups = %f\" % metric_orig_test.mean_difference())\n",
    "print(\"Test set: Initial disparate impact in source dataset = %f\" % metric_orig_test.disparate_impact())"
   ]
  },
  {
   "cell_type": "code",
   "execution_count": 7,
   "id": "ddbbb614",
   "metadata": {},
   "outputs": [
    {
     "ename": "MemoryError",
     "evalue": "Unable to allocate 234. TiB for an array with shape (8028160, 4014080) and data type float64",
     "output_type": "error",
     "traceback": [
      "\u001b[0;31m---------------------------------------------------------------------------\u001b[0m",
      "\u001b[0;31mMemoryError\u001b[0m                               Traceback (most recent call last)",
      "\u001b[0;32m<ipython-input-7-4a138cb0ca94>\u001b[0m in \u001b[0;36m<module>\u001b[0;34m\u001b[0m\n\u001b[1;32m     10\u001b[0m \u001b[0;34m\u001b[0m\u001b[0m\n\u001b[1;32m     11\u001b[0m \u001b[0mdebias_model\u001b[0m \u001b[0;34m=\u001b[0m \u001b[0mOptimPreproc\u001b[0m\u001b[0;34m(\u001b[0m\u001b[0mOptTools\u001b[0m\u001b[0;34m,\u001b[0m \u001b[0moptim_options\u001b[0m\u001b[0;34m)\u001b[0m\u001b[0;34m\u001b[0m\u001b[0;34m\u001b[0m\u001b[0m\n\u001b[0;32m---> 12\u001b[0;31m \u001b[0mdebias_model\u001b[0m \u001b[0;34m=\u001b[0m \u001b[0mdebias_model\u001b[0m\u001b[0;34m.\u001b[0m\u001b[0mfit\u001b[0m\u001b[0;34m(\u001b[0m\u001b[0mtrain_dataset\u001b[0m\u001b[0;34m)\u001b[0m\u001b[0;34m\u001b[0m\u001b[0;34m\u001b[0m\u001b[0m\n\u001b[0m\u001b[1;32m     13\u001b[0m \u001b[0;34m\u001b[0m\u001b[0m\n\u001b[1;32m     14\u001b[0m \u001b[0mtrain_repd\u001b[0m \u001b[0;34m=\u001b[0m \u001b[0mdebias_model\u001b[0m\u001b[0;34m.\u001b[0m\u001b[0mtransform\u001b[0m\u001b[0;34m(\u001b[0m\u001b[0mtrain_dataset\u001b[0m\u001b[0;34m,\u001b[0m \u001b[0mtransform_Y\u001b[0m\u001b[0;34m=\u001b[0m\u001b[0;32mTrue\u001b[0m\u001b[0;34m)\u001b[0m\u001b[0;34m\u001b[0m\u001b[0;34m\u001b[0m\u001b[0m\n",
      "\u001b[0;32m~/.local/lib/python3.8/site-packages/aif360/algorithms/transformer.py\u001b[0m in \u001b[0;36mwrapper\u001b[0;34m(self, *args, **kwargs)\u001b[0m\n\u001b[1;32m     25\u001b[0m     \u001b[0;34m@\u001b[0m\u001b[0mwraps\u001b[0m\u001b[0;34m(\u001b[0m\u001b[0mfunc\u001b[0m\u001b[0;34m)\u001b[0m\u001b[0;34m\u001b[0m\u001b[0;34m\u001b[0m\u001b[0m\n\u001b[1;32m     26\u001b[0m     \u001b[0;32mdef\u001b[0m \u001b[0mwrapper\u001b[0m\u001b[0;34m(\u001b[0m\u001b[0mself\u001b[0m\u001b[0;34m,\u001b[0m \u001b[0;34m*\u001b[0m\u001b[0margs\u001b[0m\u001b[0;34m,\u001b[0m \u001b[0;34m**\u001b[0m\u001b[0mkwargs\u001b[0m\u001b[0;34m)\u001b[0m\u001b[0;34m:\u001b[0m\u001b[0;34m\u001b[0m\u001b[0;34m\u001b[0m\u001b[0m\n\u001b[0;32m---> 27\u001b[0;31m         \u001b[0mnew_dataset\u001b[0m \u001b[0;34m=\u001b[0m \u001b[0mfunc\u001b[0m\u001b[0;34m(\u001b[0m\u001b[0mself\u001b[0m\u001b[0;34m,\u001b[0m \u001b[0;34m*\u001b[0m\u001b[0margs\u001b[0m\u001b[0;34m,\u001b[0m \u001b[0;34m**\u001b[0m\u001b[0mkwargs\u001b[0m\u001b[0;34m)\u001b[0m\u001b[0;34m\u001b[0m\u001b[0;34m\u001b[0m\u001b[0m\n\u001b[0m\u001b[1;32m     28\u001b[0m         \u001b[0;32mif\u001b[0m \u001b[0misinstance\u001b[0m\u001b[0;34m(\u001b[0m\u001b[0mnew_dataset\u001b[0m\u001b[0;34m,\u001b[0m \u001b[0mDataset\u001b[0m\u001b[0;34m)\u001b[0m\u001b[0;34m:\u001b[0m\u001b[0;34m\u001b[0m\u001b[0;34m\u001b[0m\u001b[0m\n\u001b[1;32m     29\u001b[0m             \u001b[0mnew_dataset\u001b[0m\u001b[0;34m.\u001b[0m\u001b[0mmetadata\u001b[0m \u001b[0;34m=\u001b[0m \u001b[0mnew_dataset\u001b[0m\u001b[0;34m.\u001b[0m\u001b[0mmetadata\u001b[0m\u001b[0;34m.\u001b[0m\u001b[0mcopy\u001b[0m\u001b[0;34m(\u001b[0m\u001b[0;34m)\u001b[0m\u001b[0;34m\u001b[0m\u001b[0;34m\u001b[0m\u001b[0m\n",
      "\u001b[0;32m~/.local/lib/python3.8/site-packages/aif360/algorithms/preprocessing/optim_preproc.py\u001b[0m in \u001b[0;36mfit\u001b[0;34m(self, dataset, sep)\u001b[0m\n\u001b[1;32m    108\u001b[0m \u001b[0;34m\u001b[0m\u001b[0m\n\u001b[1;32m    109\u001b[0m         \u001b[0;31m# Set features\u001b[0m\u001b[0;34m\u001b[0m\u001b[0;34m\u001b[0m\u001b[0;34m\u001b[0m\u001b[0m\n\u001b[0;32m--> 110\u001b[0;31m         self.OpT.set_features(D=self.protected_attribute_names,\n\u001b[0m\u001b[1;32m    111\u001b[0m                               \u001b[0mX\u001b[0m\u001b[0;34m=\u001b[0m\u001b[0mself\u001b[0m\u001b[0;34m.\u001b[0m\u001b[0mX_feature_names\u001b[0m\u001b[0;34m,\u001b[0m\u001b[0;34m\u001b[0m\u001b[0;34m\u001b[0m\u001b[0m\n\u001b[1;32m    112\u001b[0m                               Y=self.Y_feature_names)\n",
      "\u001b[0;32m~/.local/lib/python3.8/site-packages/aif360/algorithms/preprocessing/optim_preproc_helpers/opt_tools.py\u001b[0m in \u001b[0;36mset_features\u001b[0;34m(self, D, X, Y)\u001b[0m\n\u001b[1;32m    180\u001b[0m \u001b[0;34m\u001b[0m\u001b[0m\n\u001b[1;32m    181\u001b[0m         \u001b[0;31m# Initialize mapping dataframe\u001b[0m\u001b[0;34m\u001b[0m\u001b[0;34m\u001b[0m\u001b[0;34m\u001b[0m\u001b[0m\n\u001b[0;32m--> 182\u001b[0;31m         self.dfP = pd.DataFrame(np.zeros((len(self.DXY_index),\n\u001b[0m\u001b[1;32m    183\u001b[0m                                           len(self.XY_index))),\n\u001b[1;32m    184\u001b[0m                                 index=self.DXY_index, columns=self.XY_index)\n",
      "\u001b[0;31mMemoryError\u001b[0m: Unable to allocate 234. TiB for an array with shape (8028160, 4014080) and data type float64"
     ]
    }
   ],
   "source": [
    "from aif360.algorithms.preprocessing.optim_preproc_helpers.opt_tools import OptTools\n",
    "from aif360.algorithms.preprocessing import OptimPreproc\n",
    "\n",
    "optim_options = {\n",
    "    \"distortion_fun\": get_distortion_acs_income,\n",
    "    \"epsilon\": 0.05,\n",
    "    \"clist\": [0.99, 1.99, 2.99],\n",
    "    \"dlist\": [.1, 0.05, 0]\n",
    "}\n",
    "\n",
    "debias_model = OptimPreproc(OptTools, optim_options)\n",
    "debias_model = debias_model.fit(train_dataset)\n",
    "\n",
    "train_repd = debias_model.transform(train_dataset, transform_Y=True)\n",
    "val_repd = debias_model.transform(val_dataset, transform_Y=True)\n",
    "test_repd = debias_model.transform(test_dataset, transform_Y=True)\n",
    "\n",
    "metrics_train_dataset = BinaryLabelDatasetMetric(train_repd,\n",
    "                                                 unprivileged_groups=unprivileged_groups,\n",
    "                                                 privileged_groups=privileged_groups)\n",
    "print(\"\\nTRANSFORMED Train set: Difference in mean outcomes \"\n",
    "      \"between unprivileged and privileged groups = %f\" % metrics_train_dataset.mean_difference())"
   ]
  },
  {
   "cell_type": "code",
   "execution_count": null,
   "id": "b94a1d29",
   "metadata": {},
   "outputs": [],
   "source": []
  }
 ],
 "metadata": {
  "kernelspec": {
   "display_name": "Python 3",
   "language": "python",
   "name": "python3"
  },
  "language_info": {
   "codemirror_mode": {
    "name": "ipython",
    "version": 3
   },
   "file_extension": ".py",
   "mimetype": "text/x-python",
   "name": "python",
   "nbconvert_exporter": "python",
   "pygments_lexer": "ipython3",
   "version": "3.8.5"
  }
 },
 "nbformat": 4,
 "nbformat_minor": 5
}
