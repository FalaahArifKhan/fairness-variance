{
 "cells": [
  {
   "cell_type": "code",
   "execution_count": 19,
   "id": "f0267c30",
   "metadata": {
    "ExecuteTime": {
     "end_time": "2023-12-26T23:15:00.712462Z",
     "start_time": "2023-12-26T23:15:00.345180Z"
    }
   },
   "outputs": [
    {
     "name": "stdout",
     "output_type": "stream",
     "text": [
      "The autoreload extension is already loaded. To reload it, use:\n",
      "  %reload_ext autoreload\n"
     ]
    }
   ],
   "source": [
    "%matplotlib inline\n",
    "%load_ext autoreload\n",
    "%autoreload 2"
   ]
  },
  {
   "cell_type": "code",
   "execution_count": 20,
   "id": "599c411f",
   "metadata": {
    "ExecuteTime": {
     "end_time": "2023-12-26T23:15:00.722133Z",
     "start_time": "2023-12-26T23:15:00.713223Z"
    }
   },
   "outputs": [],
   "source": [
    "import os\n",
    "import warnings\n",
    "warnings.filterwarnings('ignore')\n",
    "os.environ[\"PYTHONWARNINGS\"] = \"ignore\""
   ]
  },
  {
   "cell_type": "code",
   "execution_count": 21,
   "id": "202d91c3",
   "metadata": {
    "ExecuteTime": {
     "end_time": "2023-12-26T23:15:00.734209Z",
     "start_time": "2023-12-26T23:15:00.722999Z"
    }
   },
   "outputs": [
    {
     "name": "stdout",
     "output_type": "stream",
     "text": [
      "Current location:  /home/dh3553/projects/fairness-variance\n"
     ]
    }
   ],
   "source": [
    "cur_folder_name = os.getcwd().split('/')[-1]\n",
    "if cur_folder_name != \"fairness-variance\":\n",
    "    os.chdir(\"../../../..\")\n",
    "\n",
    "print('Current location: ', os.getcwd())"
   ]
  },
  {
   "cell_type": "markdown",
   "id": "70de5cc6",
   "metadata": {},
   "source": [
    "# Visualizations"
   ]
  },
  {
   "cell_type": "code",
   "execution_count": 22,
   "id": "95e6db22",
   "metadata": {
    "ExecuteTime": {
     "end_time": "2023-12-26T23:15:01.883350Z",
     "start_time": "2023-12-26T23:15:00.732512Z"
    }
   },
   "outputs": [],
   "source": [
    "from virny.utils.custom_initializers import create_models_metrics_dct_from_database_df\n",
    "\n",
    "from source.utils.db_functions import read_model_metric_dfs_from_db\n",
    "from source.custom_classes.experiments_composer import ExperimentsComposer\n",
    "from source.visualizations import preprocess_metrics, create_group_base_and_fair_models_box_plot, \\\n",
    "    create_scatter_plot, create_bar_plot_for_model_selection"
   ]
  },
  {
   "cell_type": "markdown",
   "id": "0669c083",
   "metadata": {},
   "source": [
    "## Initialize Configs"
   ]
  },
  {
   "cell_type": "code",
   "execution_count": 23,
   "id": "c62f9a6a",
   "metadata": {
    "ExecuteTime": {
     "end_time": "2023-12-26T23:15:01.905497Z",
     "start_time": "2023-12-26T23:15:01.884854Z"
    }
   },
   "outputs": [],
   "source": [
    "DB_COLLECTION_NAME = 'one_repair_lvl_many_models'\n",
    "DATASET_NAME = 'Student_Performance_Por'\n",
    "EXPERIMENT_SESSION_UUID = '647daccf-7c14-463c-99ab-ef16972dba80'\n",
    "SENSITIVE_ATTRS = ['sex']\n",
    "MODEL_NAMES = ['LGBMClassifier', 'LogisticRegression', 'RandomForestClassifier']\n",
    "# MODEL_NAMES = ['LGBMClassifier', 'LogisticRegression', 'RandomForestClassifier', 'MLPClassifier']"
   ]
  },
  {
   "cell_type": "code",
   "execution_count": 24,
   "id": "7199461b",
   "metadata": {
    "ExecuteTime": {
     "end_time": "2023-12-26T23:15:02.235999Z",
     "start_time": "2023-12-26T23:15:01.905182Z"
    }
   },
   "outputs": [],
   "source": [
    "from source.utils.db_functions import connect_to_mongodb\n",
    "\n",
    "client, collection_obj, db_writer_func = connect_to_mongodb(DB_COLLECTION_NAME)"
   ]
  },
  {
   "cell_type": "markdown",
   "id": "99e68a86",
   "metadata": {},
   "source": [
    "## Group Metrics Composition"
   ]
  },
  {
   "cell_type": "code",
   "execution_count": 25,
   "id": "38271731",
   "metadata": {
    "ExecuteTime": {
     "end_time": "2023-12-26T23:15:04.632337Z",
     "start_time": "2023-12-26T23:15:02.236897Z"
    }
   },
   "outputs": [],
   "source": [
    "model_metric_dfs = read_model_metric_dfs_from_db(collection_obj, EXPERIMENT_SESSION_UUID)\n",
    "models_metrics_dct = create_models_metrics_dct_from_database_df(model_metric_dfs)\n",
    "client.close()"
   ]
  },
  {
   "cell_type": "code",
   "execution_count": 26,
   "id": "42ae2344",
   "metadata": {
    "ExecuteTime": {
     "end_time": "2023-12-26T23:15:04.665552Z",
     "start_time": "2023-12-26T23:15:04.632059Z"
    }
   },
   "outputs": [],
   "source": [
    "# Append Test_Set_Index to each result set for models\n",
    "for model_name in models_metrics_dct.keys():\n",
    "    models_metrics_dct[model_name]['Test_Set_Index'] = 0"
   ]
  },
  {
   "cell_type": "code",
   "execution_count": 27,
   "id": "a3d38731",
   "metadata": {
    "ExecuteTime": {
     "end_time": "2023-12-26T23:15:04.689482Z",
     "start_time": "2023-12-26T23:15:04.662911Z"
    }
   },
   "outputs": [
    {
     "data": {
      "text/plain": [
       "(72, 21)"
      ]
     },
     "execution_count": 27,
     "metadata": {},
     "output_type": "execute_result"
    }
   ],
   "source": [
    "models_metrics_dct[list(models_metrics_dct.keys())[0]].shape"
   ]
  },
  {
   "cell_type": "code",
   "execution_count": 28,
   "id": "2203039f",
   "metadata": {
    "ExecuteTime": {
     "end_time": "2023-12-26T23:15:04.724098Z",
     "start_time": "2023-12-26T23:15:04.690040Z"
    }
   },
   "outputs": [
    {
     "data": {
      "text/html": [
       "<div>\n",
       "<style scoped>\n",
       "    .dataframe tbody tr th:only-of-type {\n",
       "        vertical-align: middle;\n",
       "    }\n",
       "\n",
       "    .dataframe tbody tr th {\n",
       "        vertical-align: top;\n",
       "    }\n",
       "\n",
       "    .dataframe thead th {\n",
       "        text-align: right;\n",
       "    }\n",
       "</style>\n",
       "<table border=\"1\" class=\"dataframe\">\n",
       "  <thead>\n",
       "    <tr style=\"text-align: right;\">\n",
       "      <th></th>\n",
       "      <th>Metric</th>\n",
       "      <th>Model_Name</th>\n",
       "      <th>Model_Params</th>\n",
       "      <th>Dataset_Name</th>\n",
       "      <th>Num_Estimators</th>\n",
       "      <th>Tag</th>\n",
       "      <th>Record_Create_Date_Time</th>\n",
       "      <th>Session_Uuid</th>\n",
       "      <th>Experiment_Iteration</th>\n",
       "      <th>Dataset_Split_Seed</th>\n",
       "      <th>...</th>\n",
       "      <th>Fair_Intervention_Params_Lst</th>\n",
       "      <th>Intervention_Param</th>\n",
       "      <th>overall</th>\n",
       "      <th>sex_dis</th>\n",
       "      <th>sex_dis_correct</th>\n",
       "      <th>sex_dis_incorrect</th>\n",
       "      <th>sex_priv</th>\n",
       "      <th>sex_priv_correct</th>\n",
       "      <th>sex_priv_incorrect</th>\n",
       "      <th>Test_Set_Index</th>\n",
       "    </tr>\n",
       "  </thead>\n",
       "  <tbody>\n",
       "    <tr>\n",
       "      <th>0</th>\n",
       "      <td>Accuracy</td>\n",
       "      <td>LGBMClassifier</td>\n",
       "      <td>{'boosting_type': 'gbdt', 'class_weight': None...</td>\n",
       "      <td>Student_Performance_Por</td>\n",
       "      <td>200</td>\n",
       "      <td>OK</td>\n",
       "      <td>2023-12-26 23:47:19.513</td>\n",
       "      <td>647daccf-7c14-463c-99ab-ef16972dba80</td>\n",
       "      <td>Exp_iter_1</td>\n",
       "      <td>100</td>\n",
       "      <td>...</td>\n",
       "      <td>[0.0, 0.7]</td>\n",
       "      <td>0.0</td>\n",
       "      <td>0.926380</td>\n",
       "      <td>0.957447</td>\n",
       "      <td>1.000000</td>\n",
       "      <td>0.000000</td>\n",
       "      <td>0.884058</td>\n",
       "      <td>1.000000</td>\n",
       "      <td>0.000000</td>\n",
       "      <td>0</td>\n",
       "    </tr>\n",
       "    <tr>\n",
       "      <th>1</th>\n",
       "      <td>Accuracy</td>\n",
       "      <td>LGBMClassifier</td>\n",
       "      <td>{'boosting_type': 'gbdt', 'class_weight': None...</td>\n",
       "      <td>Student_Performance_Por</td>\n",
       "      <td>200</td>\n",
       "      <td>OK</td>\n",
       "      <td>2023-12-26 23:48:48.382</td>\n",
       "      <td>647daccf-7c14-463c-99ab-ef16972dba80</td>\n",
       "      <td>Exp_iter_1</td>\n",
       "      <td>100</td>\n",
       "      <td>...</td>\n",
       "      <td>[0.0, 0.7]</td>\n",
       "      <td>0.7</td>\n",
       "      <td>0.920245</td>\n",
       "      <td>0.946809</td>\n",
       "      <td>1.000000</td>\n",
       "      <td>0.000000</td>\n",
       "      <td>0.884058</td>\n",
       "      <td>1.000000</td>\n",
       "      <td>0.000000</td>\n",
       "      <td>0</td>\n",
       "    </tr>\n",
       "    <tr>\n",
       "      <th>12</th>\n",
       "      <td>Aleatoric_Uncertainty</td>\n",
       "      <td>LGBMClassifier</td>\n",
       "      <td>{'boosting_type': 'gbdt', 'class_weight': None...</td>\n",
       "      <td>Student_Performance_Por</td>\n",
       "      <td>200</td>\n",
       "      <td>OK</td>\n",
       "      <td>2023-12-26 23:47:19.513</td>\n",
       "      <td>647daccf-7c14-463c-99ab-ef16972dba80</td>\n",
       "      <td>Exp_iter_1</td>\n",
       "      <td>100</td>\n",
       "      <td>...</td>\n",
       "      <td>[0.0, 0.7]</td>\n",
       "      <td>0.0</td>\n",
       "      <td>0.232721</td>\n",
       "      <td>0.202090</td>\n",
       "      <td>0.178627</td>\n",
       "      <td>0.729987</td>\n",
       "      <td>0.274451</td>\n",
       "      <td>0.222223</td>\n",
       "      <td>0.672693</td>\n",
       "      <td>0</td>\n",
       "    </tr>\n",
       "    <tr>\n",
       "      <th>13</th>\n",
       "      <td>Aleatoric_Uncertainty</td>\n",
       "      <td>LGBMClassifier</td>\n",
       "      <td>{'boosting_type': 'gbdt', 'class_weight': None...</td>\n",
       "      <td>Student_Performance_Por</td>\n",
       "      <td>200</td>\n",
       "      <td>OK</td>\n",
       "      <td>2023-12-26 23:48:48.382</td>\n",
       "      <td>647daccf-7c14-463c-99ab-ef16972dba80</td>\n",
       "      <td>Exp_iter_1</td>\n",
       "      <td>100</td>\n",
       "      <td>...</td>\n",
       "      <td>[0.0, 0.7]</td>\n",
       "      <td>0.7</td>\n",
       "      <td>0.237910</td>\n",
       "      <td>0.230086</td>\n",
       "      <td>0.210367</td>\n",
       "      <td>0.581098</td>\n",
       "      <td>0.248570</td>\n",
       "      <td>0.204056</td>\n",
       "      <td>0.587984</td>\n",
       "      <td>0</td>\n",
       "    </tr>\n",
       "    <tr>\n",
       "      <th>24</th>\n",
       "      <td>F1</td>\n",
       "      <td>LGBMClassifier</td>\n",
       "      <td>{'boosting_type': 'gbdt', 'class_weight': None...</td>\n",
       "      <td>Student_Performance_Por</td>\n",
       "      <td>200</td>\n",
       "      <td>OK</td>\n",
       "      <td>2023-12-26 23:47:19.513</td>\n",
       "      <td>647daccf-7c14-463c-99ab-ef16972dba80</td>\n",
       "      <td>Exp_iter_1</td>\n",
       "      <td>100</td>\n",
       "      <td>...</td>\n",
       "      <td>[0.0, 0.7]</td>\n",
       "      <td>0.0</td>\n",
       "      <td>0.956522</td>\n",
       "      <td>0.975309</td>\n",
       "      <td>1.000000</td>\n",
       "      <td>0.000000</td>\n",
       "      <td>0.929825</td>\n",
       "      <td>1.000000</td>\n",
       "      <td>0.000000</td>\n",
       "      <td>0</td>\n",
       "    </tr>\n",
       "    <tr>\n",
       "      <th>25</th>\n",
       "      <td>F1</td>\n",
       "      <td>LGBMClassifier</td>\n",
       "      <td>{'boosting_type': 'gbdt', 'class_weight': None...</td>\n",
       "      <td>Student_Performance_Por</td>\n",
       "      <td>200</td>\n",
       "      <td>OK</td>\n",
       "      <td>2023-12-26 23:48:48.382</td>\n",
       "      <td>647daccf-7c14-463c-99ab-ef16972dba80</td>\n",
       "      <td>Exp_iter_1</td>\n",
       "      <td>100</td>\n",
       "      <td>...</td>\n",
       "      <td>[0.0, 0.7]</td>\n",
       "      <td>0.7</td>\n",
       "      <td>0.953069</td>\n",
       "      <td>0.969325</td>\n",
       "      <td>1.000000</td>\n",
       "      <td>0.000000</td>\n",
       "      <td>0.929825</td>\n",
       "      <td>1.000000</td>\n",
       "      <td>0.000000</td>\n",
       "      <td>0</td>\n",
       "    </tr>\n",
       "    <tr>\n",
       "      <th>36</th>\n",
       "      <td>FNR</td>\n",
       "      <td>LGBMClassifier</td>\n",
       "      <td>{'boosting_type': 'gbdt', 'class_weight': None...</td>\n",
       "      <td>Student_Performance_Por</td>\n",
       "      <td>200</td>\n",
       "      <td>OK</td>\n",
       "      <td>2023-12-26 23:47:19.513</td>\n",
       "      <td>647daccf-7c14-463c-99ab-ef16972dba80</td>\n",
       "      <td>Exp_iter_1</td>\n",
       "      <td>100</td>\n",
       "      <td>...</td>\n",
       "      <td>[0.0, 0.7]</td>\n",
       "      <td>0.0</td>\n",
       "      <td>0.036496</td>\n",
       "      <td>0.048193</td>\n",
       "      <td>0.000000</td>\n",
       "      <td>1.000000</td>\n",
       "      <td>0.018519</td>\n",
       "      <td>0.000000</td>\n",
       "      <td>1.000000</td>\n",
       "      <td>0</td>\n",
       "    </tr>\n",
       "    <tr>\n",
       "      <th>37</th>\n",
       "      <td>FNR</td>\n",
       "      <td>LGBMClassifier</td>\n",
       "      <td>{'boosting_type': 'gbdt', 'class_weight': None...</td>\n",
       "      <td>Student_Performance_Por</td>\n",
       "      <td>200</td>\n",
       "      <td>OK</td>\n",
       "      <td>2023-12-26 23:48:48.382</td>\n",
       "      <td>647daccf-7c14-463c-99ab-ef16972dba80</td>\n",
       "      <td>Exp_iter_1</td>\n",
       "      <td>100</td>\n",
       "      <td>...</td>\n",
       "      <td>[0.0, 0.7]</td>\n",
       "      <td>0.7</td>\n",
       "      <td>0.036496</td>\n",
       "      <td>0.048193</td>\n",
       "      <td>0.000000</td>\n",
       "      <td>1.000000</td>\n",
       "      <td>0.018519</td>\n",
       "      <td>0.000000</td>\n",
       "      <td>1.000000</td>\n",
       "      <td>0</td>\n",
       "    </tr>\n",
       "    <tr>\n",
       "      <th>48</th>\n",
       "      <td>FPR</td>\n",
       "      <td>LGBMClassifier</td>\n",
       "      <td>{'boosting_type': 'gbdt', 'class_weight': None...</td>\n",
       "      <td>Student_Performance_Por</td>\n",
       "      <td>200</td>\n",
       "      <td>OK</td>\n",
       "      <td>2023-12-26 23:47:19.513</td>\n",
       "      <td>647daccf-7c14-463c-99ab-ef16972dba80</td>\n",
       "      <td>Exp_iter_1</td>\n",
       "      <td>100</td>\n",
       "      <td>...</td>\n",
       "      <td>[0.0, 0.7]</td>\n",
       "      <td>0.0</td>\n",
       "      <td>0.269231</td>\n",
       "      <td>0.000000</td>\n",
       "      <td>0.000000</td>\n",
       "      <td>NaN</td>\n",
       "      <td>0.466667</td>\n",
       "      <td>0.000000</td>\n",
       "      <td>1.000000</td>\n",
       "      <td>0</td>\n",
       "    </tr>\n",
       "    <tr>\n",
       "      <th>49</th>\n",
       "      <td>FPR</td>\n",
       "      <td>LGBMClassifier</td>\n",
       "      <td>{'boosting_type': 'gbdt', 'class_weight': None...</td>\n",
       "      <td>Student_Performance_Por</td>\n",
       "      <td>200</td>\n",
       "      <td>OK</td>\n",
       "      <td>2023-12-26 23:48:48.382</td>\n",
       "      <td>647daccf-7c14-463c-99ab-ef16972dba80</td>\n",
       "      <td>Exp_iter_1</td>\n",
       "      <td>100</td>\n",
       "      <td>...</td>\n",
       "      <td>[0.0, 0.7]</td>\n",
       "      <td>0.7</td>\n",
       "      <td>0.307692</td>\n",
       "      <td>0.090909</td>\n",
       "      <td>0.000000</td>\n",
       "      <td>1.000000</td>\n",
       "      <td>0.466667</td>\n",
       "      <td>0.000000</td>\n",
       "      <td>1.000000</td>\n",
       "      <td>0</td>\n",
       "    </tr>\n",
       "    <tr>\n",
       "      <th>60</th>\n",
       "      <td>IQR</td>\n",
       "      <td>LGBMClassifier</td>\n",
       "      <td>{'boosting_type': 'gbdt', 'class_weight': None...</td>\n",
       "      <td>Student_Performance_Por</td>\n",
       "      <td>200</td>\n",
       "      <td>OK</td>\n",
       "      <td>2023-12-26 23:47:19.513</td>\n",
       "      <td>647daccf-7c14-463c-99ab-ef16972dba80</td>\n",
       "      <td>Exp_iter_1</td>\n",
       "      <td>100</td>\n",
       "      <td>...</td>\n",
       "      <td>[0.0, 0.7]</td>\n",
       "      <td>0.0</td>\n",
       "      <td>0.065241</td>\n",
       "      <td>0.049958</td>\n",
       "      <td>0.042604</td>\n",
       "      <td>0.215435</td>\n",
       "      <td>0.086061</td>\n",
       "      <td>0.067948</td>\n",
       "      <td>0.224172</td>\n",
       "      <td>0</td>\n",
       "    </tr>\n",
       "    <tr>\n",
       "      <th>61</th>\n",
       "      <td>IQR</td>\n",
       "      <td>LGBMClassifier</td>\n",
       "      <td>{'boosting_type': 'gbdt', 'class_weight': None...</td>\n",
       "      <td>Student_Performance_Por</td>\n",
       "      <td>200</td>\n",
       "      <td>OK</td>\n",
       "      <td>2023-12-26 23:48:48.382</td>\n",
       "      <td>647daccf-7c14-463c-99ab-ef16972dba80</td>\n",
       "      <td>Exp_iter_1</td>\n",
       "      <td>100</td>\n",
       "      <td>...</td>\n",
       "      <td>[0.0, 0.7]</td>\n",
       "      <td>0.7</td>\n",
       "      <td>0.063203</td>\n",
       "      <td>0.058970</td>\n",
       "      <td>0.053600</td>\n",
       "      <td>0.154556</td>\n",
       "      <td>0.068970</td>\n",
       "      <td>0.053443</td>\n",
       "      <td>0.187360</td>\n",
       "      <td>0</td>\n",
       "    </tr>\n",
       "    <tr>\n",
       "      <th>72</th>\n",
       "      <td>Jitter</td>\n",
       "      <td>LGBMClassifier</td>\n",
       "      <td>{'boosting_type': 'gbdt', 'class_weight': None...</td>\n",
       "      <td>Student_Performance_Por</td>\n",
       "      <td>200</td>\n",
       "      <td>OK</td>\n",
       "      <td>2023-12-26 23:47:19.513</td>\n",
       "      <td>647daccf-7c14-463c-99ab-ef16972dba80</td>\n",
       "      <td>Exp_iter_1</td>\n",
       "      <td>100</td>\n",
       "      <td>...</td>\n",
       "      <td>[0.0, 0.7]</td>\n",
       "      <td>0.0</td>\n",
       "      <td>0.046847</td>\n",
       "      <td>0.029982</td>\n",
       "      <td>0.022947</td>\n",
       "      <td>0.188266</td>\n",
       "      <td>0.069824</td>\n",
       "      <td>0.047200</td>\n",
       "      <td>0.242330</td>\n",
       "      <td>0</td>\n",
       "    </tr>\n",
       "    <tr>\n",
       "      <th>73</th>\n",
       "      <td>Jitter</td>\n",
       "      <td>LGBMClassifier</td>\n",
       "      <td>{'boosting_type': 'gbdt', 'class_weight': None...</td>\n",
       "      <td>Student_Performance_Por</td>\n",
       "      <td>200</td>\n",
       "      <td>OK</td>\n",
       "      <td>2023-12-26 23:48:48.382</td>\n",
       "      <td>647daccf-7c14-463c-99ab-ef16972dba80</td>\n",
       "      <td>Exp_iter_1</td>\n",
       "      <td>100</td>\n",
       "      <td>...</td>\n",
       "      <td>[0.0, 0.7]</td>\n",
       "      <td>0.7</td>\n",
       "      <td>0.043594</td>\n",
       "      <td>0.041825</td>\n",
       "      <td>0.036013</td>\n",
       "      <td>0.145276</td>\n",
       "      <td>0.046005</td>\n",
       "      <td>0.027712</td>\n",
       "      <td>0.185490</td>\n",
       "      <td>0</td>\n",
       "    </tr>\n",
       "    <tr>\n",
       "      <th>84</th>\n",
       "      <td>Label_Stability</td>\n",
       "      <td>LGBMClassifier</td>\n",
       "      <td>{'boosting_type': 'gbdt', 'class_weight': None...</td>\n",
       "      <td>Student_Performance_Por</td>\n",
       "      <td>200</td>\n",
       "      <td>OK</td>\n",
       "      <td>2023-12-26 23:47:19.513</td>\n",
       "      <td>647daccf-7c14-463c-99ab-ef16972dba80</td>\n",
       "      <td>Exp_iter_1</td>\n",
       "      <td>100</td>\n",
       "      <td>...</td>\n",
       "      <td>[0.0, 0.7]</td>\n",
       "      <td>0.0</td>\n",
       "      <td>0.937117</td>\n",
       "      <td>0.963191</td>\n",
       "      <td>0.971111</td>\n",
       "      <td>0.785000</td>\n",
       "      <td>0.901594</td>\n",
       "      <td>0.936066</td>\n",
       "      <td>0.638750</td>\n",
       "      <td>0</td>\n",
       "    </tr>\n",
       "    <tr>\n",
       "      <th>85</th>\n",
       "      <td>Label_Stability</td>\n",
       "      <td>LGBMClassifier</td>\n",
       "      <td>{'boosting_type': 'gbdt', 'class_weight': None...</td>\n",
       "      <td>Student_Performance_Por</td>\n",
       "      <td>200</td>\n",
       "      <td>OK</td>\n",
       "      <td>2023-12-26 23:48:48.382</td>\n",
       "      <td>647daccf-7c14-463c-99ab-ef16972dba80</td>\n",
       "      <td>Exp_iter_1</td>\n",
       "      <td>100</td>\n",
       "      <td>...</td>\n",
       "      <td>[0.0, 0.7]</td>\n",
       "      <td>0.7</td>\n",
       "      <td>0.938589</td>\n",
       "      <td>0.941064</td>\n",
       "      <td>0.949326</td>\n",
       "      <td>0.794000</td>\n",
       "      <td>0.935217</td>\n",
       "      <td>0.965410</td>\n",
       "      <td>0.705000</td>\n",
       "      <td>0</td>\n",
       "    </tr>\n",
       "    <tr>\n",
       "      <th>96</th>\n",
       "      <td>Mean_Prediction</td>\n",
       "      <td>LGBMClassifier</td>\n",
       "      <td>{'boosting_type': 'gbdt', 'class_weight': None...</td>\n",
       "      <td>Student_Performance_Por</td>\n",
       "      <td>200</td>\n",
       "      <td>OK</td>\n",
       "      <td>2023-12-26 23:47:19.513</td>\n",
       "      <td>647daccf-7c14-463c-99ab-ef16972dba80</td>\n",
       "      <td>Exp_iter_1</td>\n",
       "      <td>100</td>\n",
       "      <td>...</td>\n",
       "      <td>[0.0, 0.7]</td>\n",
       "      <td>0.0</td>\n",
       "      <td>0.157308</td>\n",
       "      <td>0.142540</td>\n",
       "      <td>0.116335</td>\n",
       "      <td>0.732161</td>\n",
       "      <td>0.177426</td>\n",
       "      <td>0.153491</td>\n",
       "      <td>0.359930</td>\n",
       "      <td>0</td>\n",
       "    </tr>\n",
       "    <tr>\n",
       "      <th>97</th>\n",
       "      <td>Mean_Prediction</td>\n",
       "      <td>LGBMClassifier</td>\n",
       "      <td>{'boosting_type': 'gbdt', 'class_weight': None...</td>\n",
       "      <td>Student_Performance_Por</td>\n",
       "      <td>200</td>\n",
       "      <td>OK</td>\n",
       "      <td>2023-12-26 23:48:48.382</td>\n",
       "      <td>647daccf-7c14-463c-99ab-ef16972dba80</td>\n",
       "      <td>Exp_iter_1</td>\n",
       "      <td>100</td>\n",
       "      <td>...</td>\n",
       "      <td>[0.0, 0.7]</td>\n",
       "      <td>0.7</td>\n",
       "      <td>0.151559</td>\n",
       "      <td>0.159452</td>\n",
       "      <td>0.125322</td>\n",
       "      <td>0.766953</td>\n",
       "      <td>0.140807</td>\n",
       "      <td>0.127796</td>\n",
       "      <td>0.240018</td>\n",
       "      <td>0</td>\n",
       "    </tr>\n",
       "    <tr>\n",
       "      <th>108</th>\n",
       "      <td>Overall_Uncertainty</td>\n",
       "      <td>LGBMClassifier</td>\n",
       "      <td>{'boosting_type': 'gbdt', 'class_weight': None...</td>\n",
       "      <td>Student_Performance_Por</td>\n",
       "      <td>200</td>\n",
       "      <td>OK</td>\n",
       "      <td>2023-12-26 23:47:19.513</td>\n",
       "      <td>647daccf-7c14-463c-99ab-ef16972dba80</td>\n",
       "      <td>Exp_iter_1</td>\n",
       "      <td>100</td>\n",
       "      <td>...</td>\n",
       "      <td>[0.0, 0.7]</td>\n",
       "      <td>0.0</td>\n",
       "      <td>0.266210</td>\n",
       "      <td>0.228267</td>\n",
       "      <td>0.201609</td>\n",
       "      <td>0.828076</td>\n",
       "      <td>0.317900</td>\n",
       "      <td>0.258187</td>\n",
       "      <td>0.773214</td>\n",
       "      <td>0</td>\n",
       "    </tr>\n",
       "    <tr>\n",
       "      <th>109</th>\n",
       "      <td>Overall_Uncertainty</td>\n",
       "      <td>LGBMClassifier</td>\n",
       "      <td>{'boosting_type': 'gbdt', 'class_weight': None...</td>\n",
       "      <td>Student_Performance_Por</td>\n",
       "      <td>200</td>\n",
       "      <td>OK</td>\n",
       "      <td>2023-12-26 23:48:48.382</td>\n",
       "      <td>647daccf-7c14-463c-99ab-ef16972dba80</td>\n",
       "      <td>Exp_iter_1</td>\n",
       "      <td>100</td>\n",
       "      <td>...</td>\n",
       "      <td>[0.0, 0.7]</td>\n",
       "      <td>0.7</td>\n",
       "      <td>0.270264</td>\n",
       "      <td>0.260555</td>\n",
       "      <td>0.238552</td>\n",
       "      <td>0.652204</td>\n",
       "      <td>0.283491</td>\n",
       "      <td>0.231903</td>\n",
       "      <td>0.676849</td>\n",
       "      <td>0</td>\n",
       "    </tr>\n",
       "  </tbody>\n",
       "</table>\n",
       "<p>20 rows × 21 columns</p>\n",
       "</div>"
      ],
      "text/plain": [
       "                    Metric      Model_Name  \\\n",
       "0                 Accuracy  LGBMClassifier   \n",
       "1                 Accuracy  LGBMClassifier   \n",
       "12   Aleatoric_Uncertainty  LGBMClassifier   \n",
       "13   Aleatoric_Uncertainty  LGBMClassifier   \n",
       "24                      F1  LGBMClassifier   \n",
       "25                      F1  LGBMClassifier   \n",
       "36                     FNR  LGBMClassifier   \n",
       "37                     FNR  LGBMClassifier   \n",
       "48                     FPR  LGBMClassifier   \n",
       "49                     FPR  LGBMClassifier   \n",
       "60                     IQR  LGBMClassifier   \n",
       "61                     IQR  LGBMClassifier   \n",
       "72                  Jitter  LGBMClassifier   \n",
       "73                  Jitter  LGBMClassifier   \n",
       "84         Label_Stability  LGBMClassifier   \n",
       "85         Label_Stability  LGBMClassifier   \n",
       "96         Mean_Prediction  LGBMClassifier   \n",
       "97         Mean_Prediction  LGBMClassifier   \n",
       "108    Overall_Uncertainty  LGBMClassifier   \n",
       "109    Overall_Uncertainty  LGBMClassifier   \n",
       "\n",
       "                                          Model_Params  \\\n",
       "0    {'boosting_type': 'gbdt', 'class_weight': None...   \n",
       "1    {'boosting_type': 'gbdt', 'class_weight': None...   \n",
       "12   {'boosting_type': 'gbdt', 'class_weight': None...   \n",
       "13   {'boosting_type': 'gbdt', 'class_weight': None...   \n",
       "24   {'boosting_type': 'gbdt', 'class_weight': None...   \n",
       "25   {'boosting_type': 'gbdt', 'class_weight': None...   \n",
       "36   {'boosting_type': 'gbdt', 'class_weight': None...   \n",
       "37   {'boosting_type': 'gbdt', 'class_weight': None...   \n",
       "48   {'boosting_type': 'gbdt', 'class_weight': None...   \n",
       "49   {'boosting_type': 'gbdt', 'class_weight': None...   \n",
       "60   {'boosting_type': 'gbdt', 'class_weight': None...   \n",
       "61   {'boosting_type': 'gbdt', 'class_weight': None...   \n",
       "72   {'boosting_type': 'gbdt', 'class_weight': None...   \n",
       "73   {'boosting_type': 'gbdt', 'class_weight': None...   \n",
       "84   {'boosting_type': 'gbdt', 'class_weight': None...   \n",
       "85   {'boosting_type': 'gbdt', 'class_weight': None...   \n",
       "96   {'boosting_type': 'gbdt', 'class_weight': None...   \n",
       "97   {'boosting_type': 'gbdt', 'class_weight': None...   \n",
       "108  {'boosting_type': 'gbdt', 'class_weight': None...   \n",
       "109  {'boosting_type': 'gbdt', 'class_weight': None...   \n",
       "\n",
       "                Dataset_Name  Num_Estimators Tag Record_Create_Date_Time  \\\n",
       "0    Student_Performance_Por             200  OK 2023-12-26 23:47:19.513   \n",
       "1    Student_Performance_Por             200  OK 2023-12-26 23:48:48.382   \n",
       "12   Student_Performance_Por             200  OK 2023-12-26 23:47:19.513   \n",
       "13   Student_Performance_Por             200  OK 2023-12-26 23:48:48.382   \n",
       "24   Student_Performance_Por             200  OK 2023-12-26 23:47:19.513   \n",
       "25   Student_Performance_Por             200  OK 2023-12-26 23:48:48.382   \n",
       "36   Student_Performance_Por             200  OK 2023-12-26 23:47:19.513   \n",
       "37   Student_Performance_Por             200  OK 2023-12-26 23:48:48.382   \n",
       "48   Student_Performance_Por             200  OK 2023-12-26 23:47:19.513   \n",
       "49   Student_Performance_Por             200  OK 2023-12-26 23:48:48.382   \n",
       "60   Student_Performance_Por             200  OK 2023-12-26 23:47:19.513   \n",
       "61   Student_Performance_Por             200  OK 2023-12-26 23:48:48.382   \n",
       "72   Student_Performance_Por             200  OK 2023-12-26 23:47:19.513   \n",
       "73   Student_Performance_Por             200  OK 2023-12-26 23:48:48.382   \n",
       "84   Student_Performance_Por             200  OK 2023-12-26 23:47:19.513   \n",
       "85   Student_Performance_Por             200  OK 2023-12-26 23:48:48.382   \n",
       "96   Student_Performance_Por             200  OK 2023-12-26 23:47:19.513   \n",
       "97   Student_Performance_Por             200  OK 2023-12-26 23:48:48.382   \n",
       "108  Student_Performance_Por             200  OK 2023-12-26 23:47:19.513   \n",
       "109  Student_Performance_Por             200  OK 2023-12-26 23:48:48.382   \n",
       "\n",
       "                             Session_Uuid Experiment_Iteration  \\\n",
       "0    647daccf-7c14-463c-99ab-ef16972dba80           Exp_iter_1   \n",
       "1    647daccf-7c14-463c-99ab-ef16972dba80           Exp_iter_1   \n",
       "12   647daccf-7c14-463c-99ab-ef16972dba80           Exp_iter_1   \n",
       "13   647daccf-7c14-463c-99ab-ef16972dba80           Exp_iter_1   \n",
       "24   647daccf-7c14-463c-99ab-ef16972dba80           Exp_iter_1   \n",
       "25   647daccf-7c14-463c-99ab-ef16972dba80           Exp_iter_1   \n",
       "36   647daccf-7c14-463c-99ab-ef16972dba80           Exp_iter_1   \n",
       "37   647daccf-7c14-463c-99ab-ef16972dba80           Exp_iter_1   \n",
       "48   647daccf-7c14-463c-99ab-ef16972dba80           Exp_iter_1   \n",
       "49   647daccf-7c14-463c-99ab-ef16972dba80           Exp_iter_1   \n",
       "60   647daccf-7c14-463c-99ab-ef16972dba80           Exp_iter_1   \n",
       "61   647daccf-7c14-463c-99ab-ef16972dba80           Exp_iter_1   \n",
       "72   647daccf-7c14-463c-99ab-ef16972dba80           Exp_iter_1   \n",
       "73   647daccf-7c14-463c-99ab-ef16972dba80           Exp_iter_1   \n",
       "84   647daccf-7c14-463c-99ab-ef16972dba80           Exp_iter_1   \n",
       "85   647daccf-7c14-463c-99ab-ef16972dba80           Exp_iter_1   \n",
       "96   647daccf-7c14-463c-99ab-ef16972dba80           Exp_iter_1   \n",
       "97   647daccf-7c14-463c-99ab-ef16972dba80           Exp_iter_1   \n",
       "108  647daccf-7c14-463c-99ab-ef16972dba80           Exp_iter_1   \n",
       "109  647daccf-7c14-463c-99ab-ef16972dba80           Exp_iter_1   \n",
       "\n",
       "     Dataset_Split_Seed  ...  Fair_Intervention_Params_Lst Intervention_Param  \\\n",
       "0                   100  ...                    [0.0, 0.7]                0.0   \n",
       "1                   100  ...                    [0.0, 0.7]                0.7   \n",
       "12                  100  ...                    [0.0, 0.7]                0.0   \n",
       "13                  100  ...                    [0.0, 0.7]                0.7   \n",
       "24                  100  ...                    [0.0, 0.7]                0.0   \n",
       "25                  100  ...                    [0.0, 0.7]                0.7   \n",
       "36                  100  ...                    [0.0, 0.7]                0.0   \n",
       "37                  100  ...                    [0.0, 0.7]                0.7   \n",
       "48                  100  ...                    [0.0, 0.7]                0.0   \n",
       "49                  100  ...                    [0.0, 0.7]                0.7   \n",
       "60                  100  ...                    [0.0, 0.7]                0.0   \n",
       "61                  100  ...                    [0.0, 0.7]                0.7   \n",
       "72                  100  ...                    [0.0, 0.7]                0.0   \n",
       "73                  100  ...                    [0.0, 0.7]                0.7   \n",
       "84                  100  ...                    [0.0, 0.7]                0.0   \n",
       "85                  100  ...                    [0.0, 0.7]                0.7   \n",
       "96                  100  ...                    [0.0, 0.7]                0.0   \n",
       "97                  100  ...                    [0.0, 0.7]                0.7   \n",
       "108                 100  ...                    [0.0, 0.7]                0.0   \n",
       "109                 100  ...                    [0.0, 0.7]                0.7   \n",
       "\n",
       "      overall   sex_dis  sex_dis_correct  sex_dis_incorrect  sex_priv  \\\n",
       "0    0.926380  0.957447         1.000000           0.000000  0.884058   \n",
       "1    0.920245  0.946809         1.000000           0.000000  0.884058   \n",
       "12   0.232721  0.202090         0.178627           0.729987  0.274451   \n",
       "13   0.237910  0.230086         0.210367           0.581098  0.248570   \n",
       "24   0.956522  0.975309         1.000000           0.000000  0.929825   \n",
       "25   0.953069  0.969325         1.000000           0.000000  0.929825   \n",
       "36   0.036496  0.048193         0.000000           1.000000  0.018519   \n",
       "37   0.036496  0.048193         0.000000           1.000000  0.018519   \n",
       "48   0.269231  0.000000         0.000000                NaN  0.466667   \n",
       "49   0.307692  0.090909         0.000000           1.000000  0.466667   \n",
       "60   0.065241  0.049958         0.042604           0.215435  0.086061   \n",
       "61   0.063203  0.058970         0.053600           0.154556  0.068970   \n",
       "72   0.046847  0.029982         0.022947           0.188266  0.069824   \n",
       "73   0.043594  0.041825         0.036013           0.145276  0.046005   \n",
       "84   0.937117  0.963191         0.971111           0.785000  0.901594   \n",
       "85   0.938589  0.941064         0.949326           0.794000  0.935217   \n",
       "96   0.157308  0.142540         0.116335           0.732161  0.177426   \n",
       "97   0.151559  0.159452         0.125322           0.766953  0.140807   \n",
       "108  0.266210  0.228267         0.201609           0.828076  0.317900   \n",
       "109  0.270264  0.260555         0.238552           0.652204  0.283491   \n",
       "\n",
       "     sex_priv_correct  sex_priv_incorrect  Test_Set_Index  \n",
       "0            1.000000            0.000000               0  \n",
       "1            1.000000            0.000000               0  \n",
       "12           0.222223            0.672693               0  \n",
       "13           0.204056            0.587984               0  \n",
       "24           1.000000            0.000000               0  \n",
       "25           1.000000            0.000000               0  \n",
       "36           0.000000            1.000000               0  \n",
       "37           0.000000            1.000000               0  \n",
       "48           0.000000            1.000000               0  \n",
       "49           0.000000            1.000000               0  \n",
       "60           0.067948            0.224172               0  \n",
       "61           0.053443            0.187360               0  \n",
       "72           0.047200            0.242330               0  \n",
       "73           0.027712            0.185490               0  \n",
       "84           0.936066            0.638750               0  \n",
       "85           0.965410            0.705000               0  \n",
       "96           0.153491            0.359930               0  \n",
       "97           0.127796            0.240018               0  \n",
       "108          0.258187            0.773214               0  \n",
       "109          0.231903            0.676849               0  \n",
       "\n",
       "[20 rows x 21 columns]"
      ]
     },
     "execution_count": 28,
     "metadata": {},
     "output_type": "execute_result"
    }
   ],
   "source": [
    "models_metrics_dct[list(models_metrics_dct.keys())[0]][\n",
    "    models_metrics_dct[list(models_metrics_dct.keys())[0]]['Experiment_Iteration'] == 'Exp_iter_1'\n",
    "].head(20)"
   ]
  },
  {
   "cell_type": "code",
   "execution_count": 29,
   "id": "9de6e53b",
   "metadata": {
    "ExecuteTime": {
     "end_time": "2023-12-26T23:15:04.772212Z",
     "start_time": "2023-12-26T23:15:04.723431Z"
    }
   },
   "outputs": [],
   "source": [
    "exp_composer = ExperimentsComposer(models_metrics_dct, SENSITIVE_ATTRS)\n",
    "exp_subgroup_metrics_dct = exp_composer.create_exp_subgroup_metrics_dct_for_mult_test_sets()"
   ]
  },
  {
   "cell_type": "code",
   "execution_count": 30,
   "id": "0a0c16fd",
   "metadata": {
    "ExecuteTime": {
     "end_time": "2023-12-26T23:15:04.806990Z",
     "start_time": "2023-12-26T23:15:04.749991Z"
    }
   },
   "outputs": [],
   "source": [
    "exp_group_metrics_dct = exp_composer.compose_group_metrics_for_mult_test_sets(exp_subgroup_metrics_dct)"
   ]
  },
  {
   "cell_type": "markdown",
   "id": "2cfdd3f3",
   "metadata": {},
   "source": [
    "## Figure 1. Subgroup boxplots."
   ]
  },
  {
   "cell_type": "code",
   "execution_count": 31,
   "id": "6bfc5d89",
   "metadata": {
    "ExecuteTime": {
     "end_time": "2023-12-26T23:15:04.834857Z",
     "start_time": "2023-12-26T23:15:04.786241Z"
    }
   },
   "outputs": [],
   "source": [
    "melted_all_subgroup_metrics_per_model_dct, melted_all_group_metrics_per_model_dct = \\\n",
    "    preprocess_metrics(exp_subgroup_metrics_dct, exp_group_metrics_dct)"
   ]
  },
  {
   "cell_type": "code",
   "execution_count": 32,
   "id": "8dacd43f",
   "metadata": {
    "ExecuteTime": {
     "end_time": "2023-12-26T23:15:04.849825Z",
     "start_time": "2023-12-26T23:15:04.829013Z"
    }
   },
   "outputs": [],
   "source": [
    "vals_to_replace = {\n",
    "    'Model_Name': {\n",
    "        'LGBMClassifier': 'LGBM',\n",
    "        'LogisticRegression': 'LR',\n",
    "        'RandomForestClassifier': 'RF',\n",
    "        'MLPClassifier': 'MLP'\n",
    "    }\n",
    "}"
   ]
  },
  {
   "cell_type": "code",
   "execution_count": 33,
   "id": "7f0a3f85",
   "metadata": {
    "ExecuteTime": {
     "end_time": "2023-12-26T23:15:05.242747Z",
     "start_time": "2023-12-26T23:15:04.849957Z"
    }
   },
   "outputs": [
    {
     "data": {
      "text/plain": [
       "<Figure size 864x432 with 0 Axes>"
      ]
     },
     "metadata": {},
     "output_type": "display_data"
    },
    {
     "data": {
      "image/png": "[encoded data removed]",
      "text/plain": [
       "<Figure size 1168.33x360 with 3 Axes>"
      ]
     },
     "metadata": {},
     "output_type": "display_data"
    }
   ],
   "source": [
    "create_group_base_and_fair_models_box_plot(melted_all_subgroup_metrics_per_model_dct,\n",
    "                                           ylim=(0.75, 1.0),\n",
    "                                           metric_names=['F1', 'Accuracy', 'Label_Stability'],\n",
    "                                           vals_to_replace=vals_to_replace)"
   ]
  },
  {
   "cell_type": "code",
   "execution_count": 34,
   "id": "aed3743b",
   "metadata": {
    "ExecuteTime": {
     "end_time": "2023-12-26T23:15:05.483151Z",
     "start_time": "2023-12-26T23:15:05.243343Z"
    }
   },
   "outputs": [
    {
     "data": {
      "text/plain": [
       "<Figure size 864x432 with 0 Axes>"
      ]
     },
     "metadata": {},
     "output_type": "display_data"
    },
    {
     "data": {
      "image/png": "[encoded data removed]",
      "text/plain": [
       "<Figure size 458.65x360 with 1 Axes>"
      ]
     },
     "metadata": {},
     "output_type": "display_data"
    }
   ],
   "source": [
    "create_group_base_and_fair_models_box_plot(melted_all_subgroup_metrics_per_model_dct,\n",
    "                                           ylim=(0.78, 1.00),\n",
    "                                           metric_names=['Label_Stability'],\n",
    "                                           vals_to_replace=vals_to_replace)"
   ]
  },
  {
   "cell_type": "markdown",
   "id": "bd38ee29",
   "metadata": {},
   "source": [
    "## Figure 2. Create group boxplots."
   ]
  },
  {
   "cell_type": "code",
   "execution_count": 35,
   "id": "a188c484",
   "metadata": {
    "ExecuteTime": {
     "end_time": "2023-12-26T23:16:34.560484Z",
     "start_time": "2023-12-26T23:16:34.354483Z"
    }
   },
   "outputs": [
    {
     "data": {
      "text/plain": [
       "<Figure size 864x432 with 0 Axes>"
      ]
     },
     "metadata": {},
     "output_type": "display_data"
    },
    {
     "data": {
      "image/png": "[encoded data removed]",
      "text/plain": [
       "<Figure size 458.65x360 with 1 Axes>"
      ]
     },
     "metadata": {},
     "output_type": "display_data"
    }
   ],
   "source": [
    "create_group_base_and_fair_models_box_plot(melted_all_group_metrics_per_model_dct,\n",
    "                                           group='sex',\n",
    "                                           metric_names=['Label_Stability_Difference'],\n",
    "                                           vals_to_replace=vals_to_replace)"
   ]
  },
  {
   "cell_type": "code",
   "execution_count": 36,
   "id": "b629ae80",
   "metadata": {
    "ExecuteTime": {
     "end_time": "2023-12-26T23:15:05.973617Z",
     "start_time": "2023-12-26T23:15:05.639433Z"
    }
   },
   "outputs": [
    {
     "data": {
      "text/plain": [
       "<Figure size 864x432 with 0 Axes>"
      ]
     },
     "metadata": {},
     "output_type": "display_data"
    },
    {
     "data": {
      "image/png": "[encoded data removed]",
      "text/plain": [
       "<Figure size 818.65x360 with 2 Axes>"
      ]
     },
     "metadata": {},
     "output_type": "display_data"
    }
   ],
   "source": [
    "create_group_base_and_fair_models_box_plot(melted_all_group_metrics_per_model_dct,\n",
    "                                           group='sex',\n",
    "                                           metric_names=['Equalized_Odds_FPR', 'Equalized_Odds_FNR'],\n",
    "                                           vals_to_replace=vals_to_replace)"
   ]
  },
  {
   "cell_type": "code",
   "execution_count": null,
   "id": "acb0d2cb",
   "metadata": {
    "ExecuteTime": {
     "end_time": "2023-12-26T23:15:05.973790Z",
     "start_time": "2023-12-26T23:15:05.970160Z"
    }
   },
   "outputs": [],
   "source": []
  }
 ],
 "metadata": {
  "kernelspec": {
   "display_name": "Python 3",
   "language": "python",
   "name": "python3"
  },
  "language_info": {
   "codemirror_mode": {
    "name": "ipython",
    "version": 3
   },
   "file_extension": ".py",
   "mimetype": "text/x-python",
   "name": "python",
   "nbconvert_exporter": "python",
   "pygments_lexer": "ipython3",
   "version": "3.8.5"
  },
  "vscode": {
   "interpreter": {
    "hash": "aeeedfdcfbb7d0bd7e8ae453d9cd04ee7ebd63a67f7841163d9437c8723e8c72"
   }
  }
 },
 "nbformat": 4,
 "nbformat_minor": 5
}
