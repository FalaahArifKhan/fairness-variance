{
 "cells": [
  {
   "cell_type": "code",
   "execution_count": 1,
   "id": "040345f1",
   "metadata": {
    "ExecuteTime": {
     "end_time": "2023-10-22T22:47:29.233575Z",
     "start_time": "2023-10-22T22:47:29.076750Z"
    }
   },
   "outputs": [],
   "source": [
    "# !pip install -r ./requirements.txt"
   ]
  },
  {
   "cell_type": "code",
   "execution_count": 2,
   "id": "de3d8d77",
   "metadata": {
    "ExecuteTime": {
     "end_time": "2023-10-22T22:47:29.233805Z",
     "start_time": "2023-10-22T22:47:29.078075Z"
    }
   },
   "outputs": [],
   "source": [
    "# !pip uninstall virny -y"
   ]
  },
  {
   "cell_type": "code",
   "execution_count": 3,
   "id": "aacab9d4",
   "metadata": {
    "ExecuteTime": {
     "end_time": "2023-10-22T22:47:29.233865Z",
     "start_time": "2023-10-22T22:47:29.080015Z"
    }
   },
   "outputs": [],
   "source": [
    "# Install using an HTTP link\n",
    "# !pip install git+https://github.com/DataResponsibly/Virny.git@development\n",
    "\n",
    "# Install using an SSH link\n",
    "# !pip install git+ssh://git@github.com/DataResponsibly/Virny.git@development"
   ]
  },
  {
   "cell_type": "code",
   "execution_count": 4,
   "id": "cc37bbf6",
   "metadata": {
    "ExecuteTime": {
     "end_time": "2023-10-22T22:47:29.277478Z",
     "start_time": "2023-10-22T22:47:29.082444Z"
    }
   },
   "outputs": [],
   "source": [
    "# !pip install aif360"
   ]
  },
  {
   "cell_type": "code",
   "execution_count": 5,
   "id": "a8ece069",
   "metadata": {
    "ExecuteTime": {
     "end_time": "2023-10-22T22:47:29.277706Z",
     "start_time": "2023-10-22T22:47:29.085186Z"
    }
   },
   "outputs": [],
   "source": [
    "# !pip install BlackBoxAuditing==0.1.54"
   ]
  },
  {
   "cell_type": "code",
   "execution_count": 1,
   "id": "3bff7479",
   "metadata": {
    "ExecuteTime": {
     "end_time": "2023-10-25T12:36:21.684861Z",
     "start_time": "2023-10-25T12:36:21.348894Z"
    }
   },
   "outputs": [],
   "source": [
    "%matplotlib inline\n",
    "%load_ext autoreload\n",
    "%autoreload 2"
   ]
  },
  {
   "cell_type": "code",
   "execution_count": 2,
   "id": "72e7ede0",
   "metadata": {
    "ExecuteTime": {
     "end_time": "2023-10-25T12:36:21.694009Z",
     "start_time": "2023-10-25T12:36:21.685241Z"
    }
   },
   "outputs": [],
   "source": [
    "import os\n",
    "import warnings\n",
    "warnings.filterwarnings('ignore')\n",
    "os.environ[\"PYTHONWARNINGS\"] = \"ignore\""
   ]
  },
  {
   "cell_type": "code",
   "execution_count": 3,
   "id": "71293291",
   "metadata": {
    "ExecuteTime": {
     "end_time": "2023-10-25T12:36:22.482933Z",
     "start_time": "2023-10-25T12:36:22.466018Z"
    }
   },
   "outputs": [
    {
     "name": "stdout",
     "output_type": "stream",
     "text": [
      "Current location:  /home/dh3553/projects/fairness-variance\n"
     ]
    }
   ],
   "source": [
    "cur_folder_name = os.getcwd().split('/')[-1]\n",
    "if cur_folder_name != \"fairness-variance\":\n",
    "    os.chdir(\"../..\")\n",
    "\n",
    "print('Current location: ', os.getcwd())"
   ]
  },
  {
   "cell_type": "markdown",
   "id": "31300404",
   "metadata": {},
   "source": [
    "## Import dependencies"
   ]
  },
  {
   "cell_type": "code",
   "execution_count": 4,
   "id": "594710d0",
   "metadata": {
    "ExecuteTime": {
     "end_time": "2023-10-25T12:36:24.606024Z",
     "start_time": "2023-10-25T12:36:23.349841Z"
    }
   },
   "outputs": [
    {
     "name": "stderr",
     "output_type": "stream",
     "text": [
      "WARNING:root:No module named 'tempeh': LawSchoolGPADataset will be unavailable. To install, run:\n",
      "pip install 'aif360[LawSchoolGPA]'\n",
      "WARNING:root:No module named 'tensorflow': AdversarialDebiasing will be unavailable. To install, run:\n",
      "pip install 'aif360[AdversarialDebiasing]'\n",
      "WARNING:root:No module named 'tensorflow': AdversarialDebiasing will be unavailable. To install, run:\n",
      "pip install 'aif360[AdversarialDebiasing]'\n"
     ]
    }
   ],
   "source": [
    "import os\n",
    "import copy\n",
    "\n",
    "from virny.utils.custom_initializers import create_config_obj\n",
    "from virny.datasets import ACSIncomeDataset\n",
    "\n",
    "from configs.constants import TEST_SET_FRACTION, EXPERIMENT_SEEDS\n",
    "from configs.models_config_for_tuning import get_folktables_employment_models_params_for_tuning\n",
    "\n",
    "from source.experiment_interface import run_exp_iter_with_disparate_impact_and_mult_sets"
   ]
  },
  {
   "cell_type": "markdown",
   "id": "83e43c17",
   "metadata": {},
   "source": [
    "## Define Input Variables"
   ]
  },
  {
   "cell_type": "code",
   "execution_count": 5,
   "id": "defadd5d",
   "metadata": {
    "ExecuteTime": {
     "end_time": "2023-10-25T12:36:24.632107Z",
     "start_time": "2023-10-25T12:36:24.608394Z"
    }
   },
   "outputs": [],
   "source": [
    "# ROOT_DIR = os.path.join(os.getcwd(), \"..\", \"..\")\n",
    "ROOT_DIR = os.getcwd()\n",
    "EXPERIMENT_NAME = 'out_of_domain_uncertainty_poor_income_LR_10K'\n",
    "DB_COLLECTION_NAME = 'out_of_domain_uncertainty'\n",
    "SAVE_RESULTS_DIR_PATH = os.path.join(ROOT_DIR, 'results', EXPERIMENT_NAME)\n",
    "FAIR_INTERVENTION_PARAMS_LST = [0.7]\n",
    "TRAIN_SET_SUBSAMPLE_SIZE = 10_000\n",
    "\n",
    "config_yaml_path = os.path.join(ROOT_DIR, 'notebooks', EXPERIMENT_NAME, 'poor_income_2018_config.yaml')\n",
    "metrics_computation_config = create_config_obj(config_yaml_path=config_yaml_path)"
   ]
  },
  {
   "cell_type": "markdown",
   "id": "20432321",
   "metadata": {},
   "source": [
    "## Define a db writer and custom fields to insert into your database"
   ]
  },
  {
   "cell_type": "code",
   "execution_count": 6,
   "id": "637cd578",
   "metadata": {
    "ExecuteTime": {
     "end_time": "2023-10-25T12:36:25.414123Z",
     "start_time": "2023-10-25T12:36:25.371921Z"
    }
   },
   "outputs": [
    {
     "data": {
      "text/plain": [
       "'fairness_variance'"
      ]
     },
     "execution_count": 6,
     "metadata": {},
     "output_type": "execute_result"
    }
   ],
   "source": [
    "import os\n",
    "from dotenv import load_dotenv\n",
    "\n",
    "load_dotenv('./configs/secrets.env')\n",
    "os.getenv(\"DB_NAME\")"
   ]
  },
  {
   "cell_type": "code",
   "execution_count": 7,
   "id": "d65d7821",
   "metadata": {
    "ExecuteTime": {
     "end_time": "2023-10-25T12:36:26.176127Z",
     "start_time": "2023-10-25T12:36:25.696626Z"
    }
   },
   "outputs": [],
   "source": [
    "from source.utils.db_functions import connect_to_mongodb\n",
    "\n",
    "client, collection_obj, db_writer_func = connect_to_mongodb(DB_COLLECTION_NAME)"
   ]
  },
  {
   "cell_type": "code",
   "execution_count": 8,
   "id": "672628d4",
   "metadata": {
    "ExecuteTime": {
     "end_time": "2023-10-25T12:36:36.294376Z",
     "start_time": "2023-10-25T12:36:36.257559Z"
    }
   },
   "outputs": [
    {
     "name": "stdout",
     "output_type": "stream",
     "text": [
      "Current session uuid:  6052b92f-f6ef-4711-a04c-eb9dd49e06bb\n"
     ]
    }
   ],
   "source": [
    "import uuid\n",
    "\n",
    "custom_table_fields_dct = {\n",
    "#     'session_uuid': str(uuid.uuid4()),\n",
    "    'session_uuid': '6052b92f-f6ef-4711-a04c-eb9dd49e06bb',\n",
    "}\n",
    "print('Current session uuid: ', custom_table_fields_dct['session_uuid'])"
   ]
  },
  {
   "cell_type": "markdown",
   "id": "f843d444",
   "metadata": {},
   "source": [
    "## Initialize custom objects"
   ]
  },
  {
   "cell_type": "code",
   "execution_count": 9,
   "id": "1a551605",
   "metadata": {
    "ExecuteTime": {
     "end_time": "2023-10-25T12:37:04.449698Z",
     "start_time": "2023-10-25T12:37:00.432468Z"
    }
   },
   "outputs": [
    {
     "data": {
      "text/html": [
       "<div>\n",
       "<style scoped>\n",
       "    .dataframe tbody tr th:only-of-type {\n",
       "        vertical-align: middle;\n",
       "    }\n",
       "\n",
       "    .dataframe tbody tr th {\n",
       "        vertical-align: top;\n",
       "    }\n",
       "\n",
       "    .dataframe thead th {\n",
       "        text-align: right;\n",
       "    }\n",
       "</style>\n",
       "<table border=\"1\" class=\"dataframe\">\n",
       "  <thead>\n",
       "    <tr style=\"text-align: right;\">\n",
       "      <th></th>\n",
       "      <th>SCHL</th>\n",
       "      <th>COW</th>\n",
       "      <th>MAR</th>\n",
       "      <th>OCCP</th>\n",
       "      <th>POBP</th>\n",
       "      <th>RELP</th>\n",
       "      <th>SEX</th>\n",
       "      <th>RAC1P</th>\n",
       "      <th>AGEP</th>\n",
       "      <th>WKHP</th>\n",
       "    </tr>\n",
       "  </thead>\n",
       "  <tbody>\n",
       "    <tr>\n",
       "      <th>0</th>\n",
       "      <td>20</td>\n",
       "      <td>1</td>\n",
       "      <td>1</td>\n",
       "      <td>4000</td>\n",
       "      <td>25</td>\n",
       "      <td>1</td>\n",
       "      <td>1</td>\n",
       "      <td>1</td>\n",
       "      <td>44</td>\n",
       "      <td>60.0</td>\n",
       "    </tr>\n",
       "    <tr>\n",
       "      <th>1</th>\n",
       "      <td>15</td>\n",
       "      <td>1</td>\n",
       "      <td>4</td>\n",
       "      <td>4030</td>\n",
       "      <td>329</td>\n",
       "      <td>0</td>\n",
       "      <td>2</td>\n",
       "      <td>8</td>\n",
       "      <td>37</td>\n",
       "      <td>40.0</td>\n",
       "    </tr>\n",
       "    <tr>\n",
       "      <th>2</th>\n",
       "      <td>22</td>\n",
       "      <td>1</td>\n",
       "      <td>1</td>\n",
       "      <td>735</td>\n",
       "      <td>128</td>\n",
       "      <td>0</td>\n",
       "      <td>1</td>\n",
       "      <td>1</td>\n",
       "      <td>64</td>\n",
       "      <td>45.0</td>\n",
       "    </tr>\n",
       "    <tr>\n",
       "      <th>3</th>\n",
       "      <td>21</td>\n",
       "      <td>1</td>\n",
       "      <td>1</td>\n",
       "      <td>4810</td>\n",
       "      <td>51</td>\n",
       "      <td>0</td>\n",
       "      <td>2</td>\n",
       "      <td>1</td>\n",
       "      <td>61</td>\n",
       "      <td>23.0</td>\n",
       "    </tr>\n",
       "    <tr>\n",
       "      <th>4</th>\n",
       "      <td>23</td>\n",
       "      <td>1</td>\n",
       "      <td>1</td>\n",
       "      <td>1760</td>\n",
       "      <td>202</td>\n",
       "      <td>1</td>\n",
       "      <td>1</td>\n",
       "      <td>6</td>\n",
       "      <td>46</td>\n",
       "      <td>45.0</td>\n",
       "    </tr>\n",
       "  </tbody>\n",
       "</table>\n",
       "</div>"
      ],
      "text/plain": [
       "  SCHL COW MAR  OCCP POBP RELP SEX RAC1P  AGEP  WKHP\n",
       "0   20   1   1  4000   25    1   1     1    44  60.0\n",
       "1   15   1   4  4030  329    0   2     8    37  40.0\n",
       "2   22   1   1   735  128    0   1     1    64  45.0\n",
       "3   21   1   1  4810   51    0   2     1    61  23.0\n",
       "4   23   1   1  1760  202    1   1     6    46  45.0"
      ]
     },
     "execution_count": 9,
     "metadata": {},
     "output_type": "execute_result"
    }
   ],
   "source": [
    "data_loader_rich = ACSIncomeDataset(state=['MD', 'NJ', 'MA'], year=2018, with_nulls=False,\n",
    "                                    subsample_size=100_000, subsample_seed=42)\n",
    "data_loader_rich.X_data.head()"
   ]
  },
  {
   "cell_type": "code",
   "execution_count": 10,
   "id": "04e450b5",
   "metadata": {
    "ExecuteTime": {
     "end_time": "2023-10-25T12:37:04.552046Z",
     "start_time": "2023-10-25T12:37:04.449327Z"
    }
   },
   "outputs": [
    {
     "data": {
      "text/plain": [
       "(100000, 10)"
      ]
     },
     "execution_count": 10,
     "metadata": {},
     "output_type": "execute_result"
    }
   ],
   "source": [
    "data_loader_rich.X_data.shape"
   ]
  },
  {
   "cell_type": "code",
   "execution_count": 11,
   "id": "4a4d7827",
   "metadata": {
    "ExecuteTime": {
     "end_time": "2023-10-25T12:37:08.446590Z",
     "start_time": "2023-10-25T12:37:04.492027Z"
    }
   },
   "outputs": [
    {
     "data": {
      "text/html": [
       "<div>\n",
       "<style scoped>\n",
       "    .dataframe tbody tr th:only-of-type {\n",
       "        vertical-align: middle;\n",
       "    }\n",
       "\n",
       "    .dataframe tbody tr th {\n",
       "        vertical-align: top;\n",
       "    }\n",
       "\n",
       "    .dataframe thead th {\n",
       "        text-align: right;\n",
       "    }\n",
       "</style>\n",
       "<table border=\"1\" class=\"dataframe\">\n",
       "  <thead>\n",
       "    <tr style=\"text-align: right;\">\n",
       "      <th></th>\n",
       "      <th>SCHL</th>\n",
       "      <th>COW</th>\n",
       "      <th>MAR</th>\n",
       "      <th>OCCP</th>\n",
       "      <th>POBP</th>\n",
       "      <th>RELP</th>\n",
       "      <th>SEX</th>\n",
       "      <th>RAC1P</th>\n",
       "      <th>AGEP</th>\n",
       "      <th>WKHP</th>\n",
       "    </tr>\n",
       "  </thead>\n",
       "  <tbody>\n",
       "    <tr>\n",
       "      <th>0</th>\n",
       "      <td>16</td>\n",
       "      <td>1</td>\n",
       "      <td>3</td>\n",
       "      <td>4230</td>\n",
       "      <td>1</td>\n",
       "      <td>0</td>\n",
       "      <td>2</td>\n",
       "      <td>2</td>\n",
       "      <td>61</td>\n",
       "      <td>15.0</td>\n",
       "    </tr>\n",
       "    <tr>\n",
       "      <th>1</th>\n",
       "      <td>23</td>\n",
       "      <td>5</td>\n",
       "      <td>1</td>\n",
       "      <td>3090</td>\n",
       "      <td>134</td>\n",
       "      <td>0</td>\n",
       "      <td>1</td>\n",
       "      <td>1</td>\n",
       "      <td>74</td>\n",
       "      <td>50.0</td>\n",
       "    </tr>\n",
       "    <tr>\n",
       "      <th>2</th>\n",
       "      <td>19</td>\n",
       "      <td>1</td>\n",
       "      <td>3</td>\n",
       "      <td>9645</td>\n",
       "      <td>26</td>\n",
       "      <td>2</td>\n",
       "      <td>1</td>\n",
       "      <td>2</td>\n",
       "      <td>59</td>\n",
       "      <td>40.0</td>\n",
       "    </tr>\n",
       "    <tr>\n",
       "      <th>3</th>\n",
       "      <td>14</td>\n",
       "      <td>2</td>\n",
       "      <td>5</td>\n",
       "      <td>4251</td>\n",
       "      <td>5</td>\n",
       "      <td>16</td>\n",
       "      <td>1</td>\n",
       "      <td>1</td>\n",
       "      <td>17</td>\n",
       "      <td>18.0</td>\n",
       "    </tr>\n",
       "    <tr>\n",
       "      <th>4</th>\n",
       "      <td>21</td>\n",
       "      <td>1</td>\n",
       "      <td>1</td>\n",
       "      <td>1021</td>\n",
       "      <td>217</td>\n",
       "      <td>1</td>\n",
       "      <td>1</td>\n",
       "      <td>6</td>\n",
       "      <td>33</td>\n",
       "      <td>45.0</td>\n",
       "    </tr>\n",
       "  </tbody>\n",
       "</table>\n",
       "</div>"
      ],
      "text/plain": [
       "  SCHL COW MAR  OCCP POBP RELP SEX RAC1P  AGEP  WKHP\n",
       "0   16   1   3  4230    1    0   2     2    61  15.0\n",
       "1   23   5   1  3090  134    0   1     1    74  50.0\n",
       "2   19   1   3  9645   26    2   1     2    59  40.0\n",
       "3   14   2   5  4251    5   16   1     1    17  18.0\n",
       "4   21   1   1  1021  217    1   1     6    33  45.0"
      ]
     },
     "execution_count": 11,
     "metadata": {},
     "output_type": "execute_result"
    }
   ],
   "source": [
    "data_loader_poor = ACSIncomeDataset(state=['WV', 'MS', 'AR', 'NM', 'LA', 'AL', 'KY'], year=2018, with_nulls=False,\n",
    "                                    subsample_size=100_000, subsample_seed=42)\n",
    "data_loader_poor.X_data.head()"
   ]
  },
  {
   "cell_type": "code",
   "execution_count": 12,
   "id": "7d91e78d",
   "metadata": {
    "ExecuteTime": {
     "end_time": "2023-10-25T12:37:08.523825Z",
     "start_time": "2023-10-25T12:37:08.443050Z"
    }
   },
   "outputs": [
    {
     "data": {
      "text/plain": [
       "(100000, 10)"
      ]
     },
     "execution_count": 12,
     "metadata": {},
     "output_type": "execute_result"
    }
   ],
   "source": [
    "data_loader_poor.X_data.shape"
   ]
  },
  {
   "cell_type": "code",
   "execution_count": 13,
   "id": "4b8f682a",
   "metadata": {
    "ExecuteTime": {
     "end_time": "2023-10-25T12:37:08.525122Z",
     "start_time": "2023-10-25T12:37:08.477342Z"
    }
   },
   "outputs": [],
   "source": [
    "extra_data_loaders = [data_loader_rich]"
   ]
  },
  {
   "cell_type": "markdown",
   "id": "7306ed82",
   "metadata": {},
   "source": [
    "## Run experiment iterations"
   ]
  },
  {
   "cell_type": "markdown",
   "id": "27fcc917",
   "metadata": {},
   "source": [
    "### Experiment iteration 1"
   ]
  },
  {
   "cell_type": "code",
   "execution_count": 16,
   "id": "5fcc9ddd",
   "metadata": {
    "ExecuteTime": {
     "end_time": "2023-10-25T12:37:08.589772Z",
     "start_time": "2023-10-25T12:37:08.499809Z"
    }
   },
   "outputs": [],
   "source": [
    "# tuned_params_filenames = ['tuning_results_Folktables_NY_2018_Employment_alpha_0.8_20230706__115508.csv']\n",
    "# tuned_params_df_paths = [os.path.join(ROOT_DIR, 'results', EXPERIMENT_NAME, tuned_params_filename)\n",
    "#                          for tuned_params_filename in tuned_params_filenames]"
   ]
  },
  {
   "cell_type": "code",
   "execution_count": 17,
   "id": "c350cf7b",
   "metadata": {
    "ExecuteTime": {
     "end_time": "2023-10-25T12:37:10.912300Z",
     "start_time": "2023-10-25T12:37:10.831200Z"
    }
   },
   "outputs": [],
   "source": [
    "# Configs for an experiment iteration\n",
    "exp_iter_num = 1\n",
    "experiment_seed = EXPERIMENT_SEEDS[exp_iter_num - 1]\n",
    "custom_table_fields_dct['experiment_iteration'] = f'Exp_iter_{exp_iter_num}'\n",
    "\n",
    "exp_iter_data_loader = copy.deepcopy(data_loader_poor)  # Add deepcopy to avoid data leakage\n",
    "exp_extra_data_loaders = copy.deepcopy(extra_data_loaders)  # Add deepcopy to avoid data leakage\n",
    "models_params_for_tuning = get_folktables_employment_models_params_for_tuning(experiment_seed)"
   ]
  },
  {
   "cell_type": "code",
   "execution_count": 18,
   "id": "4b901012",
   "metadata": {
    "ExecuteTime": {
     "end_time": "2023-10-25T12:40:10.165459Z",
     "start_time": "2023-10-25T12:37:10.931279Z"
    }
   },
   "outputs": [
    {
     "name": "stderr",
     "output_type": "stream",
     "text": [
      "2023-11-13 17:04:38 experiment_interface.py INFO    : Start an experiment iteration for the following custom params:\n",
      "INFO:root:Start an experiment iteration for the following custom params:\n"
     ]
    },
    {
     "name": "stdout",
     "output_type": "stream",
     "text": [
      "{'dataset_split_seed': 100,\n",
      " 'experiment_iteration': 'Exp_iter_1',\n",
      " 'fair_intervention_params_lst': '[0.7]',\n",
      " 'model_init_seed': 100,\n",
      " 'session_uuid': '6052b92f-f6ef-4711-a04c-eb9dd49e06bb'}\n",
      "\n",
      "\n"
     ]
    },
    {
     "name": "stderr",
     "output_type": "stream",
     "text": [
      "2023-11-13 17:04:38 experiment_interface.py INFO    : Start dataset preprocessing\n",
      "INFO:root:Start dataset preprocessing\n"
     ]
    },
    {
     "name": "stdout",
     "output_type": "stream",
     "text": [
      "Top indexes of X_train_val:  Int64Index([69976, 19372, 34404, 45923, 59143, 57651, 20972, 73179, 93151,\n",
      "              103, 96638, 24826, 89574, 45142, 27782, 47830, 40090, 15074,\n",
      "            40597, 87226],\n",
      "           dtype='int64')\n",
      "Top indexes of y_train_val:  Int64Index([69976, 19372, 34404, 45923, 59143, 57651, 20972, 73179, 93151,\n",
      "              103, 96638, 24826, 89574, 45142, 27782, 47830, 40090, 15074,\n",
      "            40597, 87226],\n",
      "           dtype='int64')\n",
      "\n",
      "\n",
      "\n",
      "In-domain full_df.shape --  (20000, 9)\n",
      "In-domain init_features_df.shape --  (20000, 10)\n",
      "In-domain number of rows in X_train_val --  10000\n",
      "In-domain number of rows in X_test --  10000\n"
     ]
    },
    {
     "name": "stderr",
     "output_type": "stream",
     "text": [
      "2023-11-13 17:04:38 experiment_interface.py INFO    : The dataset is preprocessed\n",
      "INFO:root:The dataset is preprocessed\n"
     ]
    },
    {
     "name": "stdout",
     "output_type": "stream",
     "text": [
      "Out-of-domain 1 init_features_df.shape --  (100000, 10)\n",
      "Out-of-domain 1 number of rows in X_train_val --  0\n",
      "Out-of-domain 1 number of rows in X_test --  10000\n"
     ]
    },
    {
     "data": {
      "application/vnd.jupyter.widget-view+json": {
       "model_id": "660ad65544d8465e817cf91fb7a4affc",
       "version_major": 2,
       "version_minor": 0
      },
      "text/plain": [
       "Multiple alphas:   0%|          | 0/1 [00:00<?, ?it/s]"
      ]
     },
     "metadata": {},
     "output_type": "display_data"
    },
    {
     "name": "stderr",
     "output_type": "stream",
     "text": [
      "2023-11-13 17:04:38 experiment_interface.py INFO    : Start fairness intervention\n",
      "INFO:root:Start fairness intervention\n"
     ]
    },
    {
     "name": "stdout",
     "output_type": "stream",
     "text": [
      "intervention_param:  0.7\n"
     ]
    },
    {
     "name": "stderr",
     "output_type": "stream",
     "text": [
      "2023-11-13 17:06:36 experiment_interface.py INFO    : Fairness intervention is completed\n",
      "INFO:root:Fairness intervention is completed\n"
     ]
    },
    {
     "name": "stdout",
     "output_type": "stream",
     "text": [
      "Number of rows in the in-domain X_test 10000\n",
      "Top indexes of an X_test in an in-domain base flow dataset:  Int64Index([22422, 25747, 13795, 68724, 38923, 43064, 86918, 71138, 82508,\n",
      "            89200, 55279,  7966, 83751, 37701,  2718, 65519, 77797,  8956,\n",
      "            33713, 34621],\n",
      "           dtype='int64')\n",
      "Top indexes of an y_test in an in-domain base flow dataset:  Int64Index([22422, 25747, 13795, 68724, 38923, 43064, 86918, 71138, 82508,\n",
      "            89200, 55279,  7966, 83751, 37701,  2718, 65519, 77797,  8956,\n",
      "            33713, 34621],\n",
      "           dtype='int64')\n"
     ]
    },
    {
     "data": {
      "text/html": [
       "<div>\n",
       "<style scoped>\n",
       "    .dataframe tbody tr th:only-of-type {\n",
       "        vertical-align: middle;\n",
       "    }\n",
       "\n",
       "    .dataframe tbody tr th {\n",
       "        vertical-align: top;\n",
       "    }\n",
       "\n",
       "    .dataframe thead th {\n",
       "        text-align: right;\n",
       "    }\n",
       "</style>\n",
       "<table border=\"1\" class=\"dataframe\">\n",
       "  <thead>\n",
       "    <tr style=\"text-align: right;\">\n",
       "      <th></th>\n",
       "      <th>cat__SCHL_1</th>\n",
       "      <th>cat__SCHL_10</th>\n",
       "      <th>cat__SCHL_11</th>\n",
       "      <th>cat__SCHL_12</th>\n",
       "      <th>cat__SCHL_13</th>\n",
       "      <th>cat__SCHL_14</th>\n",
       "      <th>cat__SCHL_15</th>\n",
       "      <th>cat__SCHL_16</th>\n",
       "      <th>cat__SCHL_17</th>\n",
       "      <th>cat__SCHL_18</th>\n",
       "      <th>...</th>\n",
       "      <th>cat__RELP_2</th>\n",
       "      <th>cat__RELP_3</th>\n",
       "      <th>cat__RELP_4</th>\n",
       "      <th>cat__RELP_5</th>\n",
       "      <th>cat__RELP_6</th>\n",
       "      <th>cat__RELP_7</th>\n",
       "      <th>cat__RELP_8</th>\n",
       "      <th>cat__RELP_9</th>\n",
       "      <th>num__AGEP</th>\n",
       "      <th>num__WKHP</th>\n",
       "    </tr>\n",
       "  </thead>\n",
       "  <tbody>\n",
       "    <tr>\n",
       "      <th>22422</th>\n",
       "      <td>0.0</td>\n",
       "      <td>0.0</td>\n",
       "      <td>0.0</td>\n",
       "      <td>0.0</td>\n",
       "      <td>0.0</td>\n",
       "      <td>0.0</td>\n",
       "      <td>0.0</td>\n",
       "      <td>1.0</td>\n",
       "      <td>0.0</td>\n",
       "      <td>0.0</td>\n",
       "      <td>...</td>\n",
       "      <td>0.0</td>\n",
       "      <td>0.0</td>\n",
       "      <td>0.0</td>\n",
       "      <td>0.0</td>\n",
       "      <td>0.0</td>\n",
       "      <td>0.0</td>\n",
       "      <td>0.0</td>\n",
       "      <td>0.0</td>\n",
       "      <td>0.691951</td>\n",
       "      <td>-0.217634</td>\n",
       "    </tr>\n",
       "    <tr>\n",
       "      <th>25747</th>\n",
       "      <td>0.0</td>\n",
       "      <td>0.0</td>\n",
       "      <td>0.0</td>\n",
       "      <td>0.0</td>\n",
       "      <td>0.0</td>\n",
       "      <td>0.0</td>\n",
       "      <td>0.0</td>\n",
       "      <td>0.0</td>\n",
       "      <td>0.0</td>\n",
       "      <td>0.0</td>\n",
       "      <td>...</td>\n",
       "      <td>0.0</td>\n",
       "      <td>0.0</td>\n",
       "      <td>0.0</td>\n",
       "      <td>0.0</td>\n",
       "      <td>0.0</td>\n",
       "      <td>0.0</td>\n",
       "      <td>0.0</td>\n",
       "      <td>0.0</td>\n",
       "      <td>0.172955</td>\n",
       "      <td>0.793787</td>\n",
       "    </tr>\n",
       "    <tr>\n",
       "      <th>13795</th>\n",
       "      <td>0.0</td>\n",
       "      <td>0.0</td>\n",
       "      <td>0.0</td>\n",
       "      <td>0.0</td>\n",
       "      <td>0.0</td>\n",
       "      <td>0.0</td>\n",
       "      <td>0.0</td>\n",
       "      <td>0.0</td>\n",
       "      <td>0.0</td>\n",
       "      <td>0.0</td>\n",
       "      <td>...</td>\n",
       "      <td>0.0</td>\n",
       "      <td>0.0</td>\n",
       "      <td>0.0</td>\n",
       "      <td>0.0</td>\n",
       "      <td>0.0</td>\n",
       "      <td>0.0</td>\n",
       "      <td>0.0</td>\n",
       "      <td>0.0</td>\n",
       "      <td>-0.929910</td>\n",
       "      <td>0.093572</td>\n",
       "    </tr>\n",
       "    <tr>\n",
       "      <th>68724</th>\n",
       "      <td>0.0</td>\n",
       "      <td>0.0</td>\n",
       "      <td>0.0</td>\n",
       "      <td>0.0</td>\n",
       "      <td>0.0</td>\n",
       "      <td>0.0</td>\n",
       "      <td>0.0</td>\n",
       "      <td>0.0</td>\n",
       "      <td>0.0</td>\n",
       "      <td>0.0</td>\n",
       "      <td>...</td>\n",
       "      <td>0.0</td>\n",
       "      <td>0.0</td>\n",
       "      <td>0.0</td>\n",
       "      <td>0.0</td>\n",
       "      <td>0.0</td>\n",
       "      <td>0.0</td>\n",
       "      <td>0.0</td>\n",
       "      <td>0.0</td>\n",
       "      <td>-0.605538</td>\n",
       "      <td>-2.707286</td>\n",
       "    </tr>\n",
       "    <tr>\n",
       "      <th>38923</th>\n",
       "      <td>0.0</td>\n",
       "      <td>0.0</td>\n",
       "      <td>0.0</td>\n",
       "      <td>0.0</td>\n",
       "      <td>0.0</td>\n",
       "      <td>0.0</td>\n",
       "      <td>0.0</td>\n",
       "      <td>1.0</td>\n",
       "      <td>0.0</td>\n",
       "      <td>0.0</td>\n",
       "      <td>...</td>\n",
       "      <td>0.0</td>\n",
       "      <td>0.0</td>\n",
       "      <td>0.0</td>\n",
       "      <td>0.0</td>\n",
       "      <td>0.0</td>\n",
       "      <td>0.0</td>\n",
       "      <td>0.0</td>\n",
       "      <td>0.0</td>\n",
       "      <td>0.562202</td>\n",
       "      <td>0.171374</td>\n",
       "    </tr>\n",
       "  </tbody>\n",
       "</table>\n",
       "<p>5 rows × 680 columns</p>\n",
       "</div>"
      ],
      "text/plain": [
       "       cat__SCHL_1  cat__SCHL_10  cat__SCHL_11  cat__SCHL_12  cat__SCHL_13  \\\n",
       "22422          0.0           0.0           0.0           0.0           0.0   \n",
       "25747          0.0           0.0           0.0           0.0           0.0   \n",
       "13795          0.0           0.0           0.0           0.0           0.0   \n",
       "68724          0.0           0.0           0.0           0.0           0.0   \n",
       "38923          0.0           0.0           0.0           0.0           0.0   \n",
       "\n",
       "       cat__SCHL_14  cat__SCHL_15  cat__SCHL_16  cat__SCHL_17  cat__SCHL_18  \\\n",
       "22422           0.0           0.0           1.0           0.0           0.0   \n",
       "25747           0.0           0.0           0.0           0.0           0.0   \n",
       "13795           0.0           0.0           0.0           0.0           0.0   \n",
       "68724           0.0           0.0           0.0           0.0           0.0   \n",
       "38923           0.0           0.0           1.0           0.0           0.0   \n",
       "\n",
       "       ...  cat__RELP_2  cat__RELP_3  cat__RELP_4  cat__RELP_5  cat__RELP_6  \\\n",
       "22422  ...          0.0          0.0          0.0          0.0          0.0   \n",
       "25747  ...          0.0          0.0          0.0          0.0          0.0   \n",
       "13795  ...          0.0          0.0          0.0          0.0          0.0   \n",
       "68724  ...          0.0          0.0          0.0          0.0          0.0   \n",
       "38923  ...          0.0          0.0          0.0          0.0          0.0   \n",
       "\n",
       "       cat__RELP_7  cat__RELP_8  cat__RELP_9  num__AGEP  num__WKHP  \n",
       "22422          0.0          0.0          0.0   0.691951  -0.217634  \n",
       "25747          0.0          0.0          0.0   0.172955   0.793787  \n",
       "13795          0.0          0.0          0.0  -0.929910   0.093572  \n",
       "68724          0.0          0.0          0.0  -0.605538  -2.707286  \n",
       "38923          0.0          0.0          0.0   0.562202   0.171374  \n",
       "\n",
       "[5 rows x 680 columns]"
      ]
     },
     "metadata": {},
     "output_type": "display_data"
    },
    {
     "name": "stdout",
     "output_type": "stream",
     "text": [
      "\n",
      "\n",
      "\n",
      "Number of rows in the out-of-domain X_test 10000\n",
      "Top indexes of an X_test in an out-of-domain base flow dataset:  Int64Index([22422, 25747, 13795, 68724, 38923, 43064, 86918, 71138, 82508,\n",
      "            89200, 55279,  7966, 83751, 37701,  2718, 65519, 77797,  8956,\n",
      "            33713, 34621],\n",
      "           dtype='int64')\n",
      "Top indexes of an y_test in an out-of-domain base flow dataset:  Int64Index([22422, 25747, 13795, 68724, 38923, 43064, 86918, 71138, 82508,\n",
      "            89200, 55279,  7966, 83751, 37701,  2718, 65519, 77797,  8956,\n",
      "            33713, 34621],\n",
      "           dtype='int64')\n"
     ]
    },
    {
     "data": {
      "text/html": [
       "<div>\n",
       "<style scoped>\n",
       "    .dataframe tbody tr th:only-of-type {\n",
       "        vertical-align: middle;\n",
       "    }\n",
       "\n",
       "    .dataframe tbody tr th {\n",
       "        vertical-align: top;\n",
       "    }\n",
       "\n",
       "    .dataframe thead th {\n",
       "        text-align: right;\n",
       "    }\n",
       "</style>\n",
       "<table border=\"1\" class=\"dataframe\">\n",
       "  <thead>\n",
       "    <tr style=\"text-align: right;\">\n",
       "      <th></th>\n",
       "      <th>cat__SCHL_1</th>\n",
       "      <th>cat__SCHL_10</th>\n",
       "      <th>cat__SCHL_11</th>\n",
       "      <th>cat__SCHL_12</th>\n",
       "      <th>cat__SCHL_13</th>\n",
       "      <th>cat__SCHL_14</th>\n",
       "      <th>cat__SCHL_15</th>\n",
       "      <th>cat__SCHL_16</th>\n",
       "      <th>cat__SCHL_17</th>\n",
       "      <th>cat__SCHL_18</th>\n",
       "      <th>...</th>\n",
       "      <th>cat__RELP_2</th>\n",
       "      <th>cat__RELP_3</th>\n",
       "      <th>cat__RELP_4</th>\n",
       "      <th>cat__RELP_5</th>\n",
       "      <th>cat__RELP_6</th>\n",
       "      <th>cat__RELP_7</th>\n",
       "      <th>cat__RELP_8</th>\n",
       "      <th>cat__RELP_9</th>\n",
       "      <th>num__AGEP</th>\n",
       "      <th>num__WKHP</th>\n",
       "    </tr>\n",
       "  </thead>\n",
       "  <tbody>\n",
       "    <tr>\n",
       "      <th>22422</th>\n",
       "      <td>1.0</td>\n",
       "      <td>0.0</td>\n",
       "      <td>0.0</td>\n",
       "      <td>0.0</td>\n",
       "      <td>0.0</td>\n",
       "      <td>0.0</td>\n",
       "      <td>0.0</td>\n",
       "      <td>0.0</td>\n",
       "      <td>0.0</td>\n",
       "      <td>0.0</td>\n",
       "      <td>...</td>\n",
       "      <td>0.0</td>\n",
       "      <td>0.0</td>\n",
       "      <td>0.0</td>\n",
       "      <td>0.0</td>\n",
       "      <td>0.0</td>\n",
       "      <td>0.0</td>\n",
       "      <td>0.0</td>\n",
       "      <td>0.0</td>\n",
       "      <td>1.275821</td>\n",
       "      <td>0.093572</td>\n",
       "    </tr>\n",
       "    <tr>\n",
       "      <th>25747</th>\n",
       "      <td>0.0</td>\n",
       "      <td>0.0</td>\n",
       "      <td>0.0</td>\n",
       "      <td>0.0</td>\n",
       "      <td>0.0</td>\n",
       "      <td>0.0</td>\n",
       "      <td>0.0</td>\n",
       "      <td>1.0</td>\n",
       "      <td>0.0</td>\n",
       "      <td>0.0</td>\n",
       "      <td>...</td>\n",
       "      <td>0.0</td>\n",
       "      <td>0.0</td>\n",
       "      <td>0.0</td>\n",
       "      <td>0.0</td>\n",
       "      <td>0.0</td>\n",
       "      <td>0.0</td>\n",
       "      <td>0.0</td>\n",
       "      <td>0.0</td>\n",
       "      <td>1.535319</td>\n",
       "      <td>-2.396080</td>\n",
       "    </tr>\n",
       "    <tr>\n",
       "      <th>13795</th>\n",
       "      <td>0.0</td>\n",
       "      <td>0.0</td>\n",
       "      <td>0.0</td>\n",
       "      <td>0.0</td>\n",
       "      <td>0.0</td>\n",
       "      <td>0.0</td>\n",
       "      <td>0.0</td>\n",
       "      <td>0.0</td>\n",
       "      <td>0.0</td>\n",
       "      <td>1.0</td>\n",
       "      <td>...</td>\n",
       "      <td>0.0</td>\n",
       "      <td>0.0</td>\n",
       "      <td>0.0</td>\n",
       "      <td>0.0</td>\n",
       "      <td>0.0</td>\n",
       "      <td>0.0</td>\n",
       "      <td>0.0</td>\n",
       "      <td>0.0</td>\n",
       "      <td>0.367579</td>\n",
       "      <td>0.015770</td>\n",
       "    </tr>\n",
       "    <tr>\n",
       "      <th>68724</th>\n",
       "      <td>0.0</td>\n",
       "      <td>0.0</td>\n",
       "      <td>0.0</td>\n",
       "      <td>0.0</td>\n",
       "      <td>0.0</td>\n",
       "      <td>0.0</td>\n",
       "      <td>0.0</td>\n",
       "      <td>0.0</td>\n",
       "      <td>0.0</td>\n",
       "      <td>0.0</td>\n",
       "      <td>...</td>\n",
       "      <td>0.0</td>\n",
       "      <td>0.0</td>\n",
       "      <td>0.0</td>\n",
       "      <td>0.0</td>\n",
       "      <td>0.0</td>\n",
       "      <td>0.0</td>\n",
       "      <td>0.0</td>\n",
       "      <td>0.0</td>\n",
       "      <td>-1.448906</td>\n",
       "      <td>-0.684444</td>\n",
       "    </tr>\n",
       "    <tr>\n",
       "      <th>38923</th>\n",
       "      <td>0.0</td>\n",
       "      <td>0.0</td>\n",
       "      <td>0.0</td>\n",
       "      <td>0.0</td>\n",
       "      <td>0.0</td>\n",
       "      <td>0.0</td>\n",
       "      <td>0.0</td>\n",
       "      <td>1.0</td>\n",
       "      <td>0.0</td>\n",
       "      <td>0.0</td>\n",
       "      <td>...</td>\n",
       "      <td>0.0</td>\n",
       "      <td>0.0</td>\n",
       "      <td>0.0</td>\n",
       "      <td>0.0</td>\n",
       "      <td>0.0</td>\n",
       "      <td>0.0</td>\n",
       "      <td>0.0</td>\n",
       "      <td>0.0</td>\n",
       "      <td>-1.513780</td>\n",
       "      <td>-1.151254</td>\n",
       "    </tr>\n",
       "  </tbody>\n",
       "</table>\n",
       "<p>5 rows × 680 columns</p>\n",
       "</div>"
      ],
      "text/plain": [
       "       cat__SCHL_1  cat__SCHL_10  cat__SCHL_11  cat__SCHL_12  cat__SCHL_13  \\\n",
       "22422          1.0           0.0           0.0           0.0           0.0   \n",
       "25747          0.0           0.0           0.0           0.0           0.0   \n",
       "13795          0.0           0.0           0.0           0.0           0.0   \n",
       "68724          0.0           0.0           0.0           0.0           0.0   \n",
       "38923          0.0           0.0           0.0           0.0           0.0   \n",
       "\n",
       "       cat__SCHL_14  cat__SCHL_15  cat__SCHL_16  cat__SCHL_17  cat__SCHL_18  \\\n",
       "22422           0.0           0.0           0.0           0.0           0.0   \n",
       "25747           0.0           0.0           1.0           0.0           0.0   \n",
       "13795           0.0           0.0           0.0           0.0           1.0   \n",
       "68724           0.0           0.0           0.0           0.0           0.0   \n",
       "38923           0.0           0.0           1.0           0.0           0.0   \n",
       "\n",
       "       ...  cat__RELP_2  cat__RELP_3  cat__RELP_4  cat__RELP_5  cat__RELP_6  \\\n",
       "22422  ...          0.0          0.0          0.0          0.0          0.0   \n",
       "25747  ...          0.0          0.0          0.0          0.0          0.0   \n",
       "13795  ...          0.0          0.0          0.0          0.0          0.0   \n",
       "68724  ...          0.0          0.0          0.0          0.0          0.0   \n",
       "38923  ...          0.0          0.0          0.0          0.0          0.0   \n",
       "\n",
       "       cat__RELP_7  cat__RELP_8  cat__RELP_9  num__AGEP  num__WKHP  \n",
       "22422          0.0          0.0          0.0   1.275821   0.093572  \n",
       "25747          0.0          0.0          0.0   1.535319  -2.396080  \n",
       "13795          0.0          0.0          0.0   0.367579   0.015770  \n",
       "68724          0.0          0.0          0.0  -1.448906  -0.684444  \n",
       "38923          0.0          0.0          0.0  -1.513780  -1.151254  \n",
       "\n",
       "[5 rows x 680 columns]"
      ]
     },
     "metadata": {},
     "output_type": "display_data"
    },
    {
     "name": "stdout",
     "output_type": "stream",
     "text": [
      "2023/11/13, 17:06:36: Tuning LogisticRegression...\n",
      "2023/11/13, 17:06:50: Tuning for LogisticRegression is finished [F1 score = 0.7360945585818385, Accuracy = 0.7878001357424286]\n",
      "\n"
     ]
    },
    {
     "name": "stderr",
     "output_type": "stream",
     "text": [
      "2023-11-13 17:06:50 experiment_interface.py INFO    : Models are tuned and saved to a file\n",
      "INFO:root:Models are tuned and saved to a file\n"
     ]
    },
    {
     "data": {
      "application/vnd.jupyter.widget-view+json": {
       "model_id": "127efba708bb44cb8274ef63e1e9e03e",
       "version_major": 2,
       "version_minor": 0
      },
      "text/plain": [
       "Analyze models in one run:   0%|          | 0/1 [00:00<?, ?it/s]"
      ]
     },
     "metadata": {},
     "output_type": "display_data"
    },
    {
     "data": {
      "application/vnd.jupyter.widget-view+json": {
       "model_id": "3739192ebb114b6695adb2456e5ae367",
       "version_major": 2,
       "version_minor": 0
      },
      "text/plain": [
       "Classifiers testing by bootstrap:   0%|          | 0/200 [00:00<?, ?it/s]"
      ]
     },
     "metadata": {},
     "output_type": "display_data"
    }
   ],
   "source": [
    "run_exp_iter_with_disparate_impact_and_mult_sets(data_loader=exp_iter_data_loader,\n",
    "                                                 extra_data_loaders=exp_extra_data_loaders,\n",
    "                                                 experiment_seed=experiment_seed,\n",
    "                                                 test_set_fraction=TEST_SET_FRACTION,\n",
    "                                                 db_writer_func=db_writer_func,\n",
    "                                                 fair_intervention_params_lst=FAIR_INTERVENTION_PARAMS_LST,\n",
    "                                                 models_params_for_tuning=models_params_for_tuning,\n",
    "                                                 metrics_computation_config=metrics_computation_config,\n",
    "                                                 custom_table_fields_dct=custom_table_fields_dct,\n",
    "                                                 with_tuning=True,\n",
    "                                                 # with_tuning=False,\n",
    "                                                 # tuned_params_df_paths=tuned_params_df_paths,\n",
    "                                                 save_results_dir_path=SAVE_RESULTS_DIR_PATH,\n",
    "                                                 train_set_subsample_size=TRAIN_SET_SUBSAMPLE_SIZE,\n",
    "                                                 verbose=True)"
   ]
  },
  {
   "cell_type": "markdown",
   "id": "a8b6e39a",
   "metadata": {},
   "source": [
    "### Experiment iteration 2"
   ]
  },
  {
   "cell_type": "code",
   "execution_count": 14,
   "id": "907f9671",
   "metadata": {},
   "outputs": [],
   "source": [
    "# Configs for an experiment iteration\n",
    "exp_iter_num = 2\n",
    "experiment_seed = EXPERIMENT_SEEDS[exp_iter_num - 1]\n",
    "tuned_params_filenames = [\n",
    "    'tuning_results_Folktables_2018_Income_alpha_0.7_exp_iter_1_20231113__220650.csv'\n",
    "]\n",
    "tuned_params_df_paths = [os.path.join(ROOT_DIR, 'results', EXPERIMENT_NAME, tuned_params_filename)\n",
    "                         for tuned_params_filename in tuned_params_filenames]\n",
    "custom_table_fields_dct['experiment_iteration'] = f'Exp_iter_{exp_iter_num}'\n",
    "\n",
    "exp_iter_data_loader = copy.deepcopy(data_loader_poor)  # Add deepcopy to avoid data leakage\n",
    "exp_extra_data_loaders = copy.deepcopy(extra_data_loaders)  # Add deepcopy to avoid data leakage\n",
    "models_params_for_tuning = get_folktables_employment_models_params_for_tuning(experiment_seed)"
   ]
  },
  {
   "cell_type": "code",
   "execution_count": 15,
   "id": "80eec6ed",
   "metadata": {},
   "outputs": [
    {
     "name": "stderr",
     "output_type": "stream",
     "text": [
      "2023-10-23 07:41:57 experiment_interface.py INFO    : Start an experiment iteration for the following custom params:\n",
      "INFO:root:Start an experiment iteration for the following custom params:\n"
     ]
    },
    {
     "name": "stdout",
     "output_type": "stream",
     "text": [
      "{'dataset_split_seed': 200,\n",
      " 'experiment_iteration': 'Exp_iter_2',\n",
      " 'fair_intervention_params_lst': '[0.0, 0.7]',\n",
      " 'model_init_seed': 200,\n",
      " 'session_uuid': 'fa8d64fb-e05a-4ac3-aa28-f1c2bd01d261'}\n"
     ]
    },
    {
     "name": "stderr",
     "output_type": "stream",
     "text": [
      "2023-10-23 07:41:57 experiment_interface.py INFO    : Start dataset preprocessing\n",
      "INFO:root:Start dataset preprocessing\n"
     ]
    },
    {
     "name": "stdout",
     "output_type": "stream",
     "text": [
      "In-domain full_df.shape --  (20000, 9)\n",
      "In-domain init_features_df.shape --  (20000, 10)\n",
      "In-domain number of rows in X_train_val --  10000\n",
      "In-domain number of rows in X_test --  10000\n",
      "Out-of-domain 1 init_features_df.shape --  (100000, 10)\n",
      "Out-of-domain 1 number of rows in X_train_val --  0\n",
      "Out-of-domain 1 number of rows in X_test --  10000\n"
     ]
    },
    {
     "name": "stderr",
     "output_type": "stream",
     "text": [
      "2023-10-23 07:41:57 experiment_interface.py INFO    : The dataset is preprocessed\n",
      "INFO:root:The dataset is preprocessed\n"
     ]
    },
    {
     "data": {
      "application/vnd.jupyter.widget-view+json": {
       "model_id": "7da930326c054879b7470eb804efbf01",
       "version_major": 2,
       "version_minor": 0
      },
      "text/plain": [
       "Multiple alphas:   0%|          | 0/2 [00:00<?, ?it/s]"
      ]
     },
     "metadata": {},
     "output_type": "display_data"
    },
    {
     "name": "stderr",
     "output_type": "stream",
     "text": [
      "2023-10-23 07:41:57 experiment_interface.py INFO    : Start fairness intervention\n",
      "INFO:root:Start fairness intervention\n"
     ]
    },
    {
     "name": "stdout",
     "output_type": "stream",
     "text": [
      "intervention_param:  0.0\n"
     ]
    },
    {
     "name": "stderr",
     "output_type": "stream",
     "text": [
      "2023-10-23 07:43:54 experiment_interface.py INFO    : Fairness intervention is completed\n",
      "INFO:root:Fairness intervention is completed\n"
     ]
    },
    {
     "name": "stdout",
     "output_type": "stream",
     "text": [
      "Number of rows in the in-domain X_test 10000\n",
      "Top indexes of an X_test in an in-domain base flow dataset:  Int64Index([71488, 18462,  5190, 49745, 51643, 27862, 11948, 91279, 35299,\n",
      "            93619, 56981, 29774, 30186, 24707, 79785, 88346, 59515, 94368,\n",
      "            19564, 86281],\n",
      "           dtype='int64')\n",
      "Top indexes of an y_test in an in-domain base flow dataset:  Int64Index([71488, 18462,  5190, 49745, 51643, 27862, 11948, 91279, 35299,\n",
      "            93619, 56981, 29774, 30186, 24707, 79785, 88346, 59515, 94368,\n",
      "            19564, 86281],\n",
      "           dtype='int64')\n"
     ]
    },
    {
     "data": {
      "text/html": [
       "<div>\n",
       "<style scoped>\n",
       "    .dataframe tbody tr th:only-of-type {\n",
       "        vertical-align: middle;\n",
       "    }\n",
       "\n",
       "    .dataframe tbody tr th {\n",
       "        vertical-align: top;\n",
       "    }\n",
       "\n",
       "    .dataframe thead th {\n",
       "        text-align: right;\n",
       "    }\n",
       "</style>\n",
       "<table border=\"1\" class=\"dataframe\">\n",
       "  <thead>\n",
       "    <tr style=\"text-align: right;\">\n",
       "      <th></th>\n",
       "      <th>cat__SCHL_1</th>\n",
       "      <th>cat__SCHL_10</th>\n",
       "      <th>cat__SCHL_11</th>\n",
       "      <th>cat__SCHL_12</th>\n",
       "      <th>cat__SCHL_13</th>\n",
       "      <th>cat__SCHL_14</th>\n",
       "      <th>cat__SCHL_15</th>\n",
       "      <th>cat__SCHL_16</th>\n",
       "      <th>cat__SCHL_17</th>\n",
       "      <th>cat__SCHL_18</th>\n",
       "      <th>...</th>\n",
       "      <th>cat__RELP_2</th>\n",
       "      <th>cat__RELP_3</th>\n",
       "      <th>cat__RELP_4</th>\n",
       "      <th>cat__RELP_5</th>\n",
       "      <th>cat__RELP_6</th>\n",
       "      <th>cat__RELP_7</th>\n",
       "      <th>cat__RELP_8</th>\n",
       "      <th>cat__RELP_9</th>\n",
       "      <th>num__AGEP</th>\n",
       "      <th>num__WKHP</th>\n",
       "    </tr>\n",
       "  </thead>\n",
       "  <tbody>\n",
       "    <tr>\n",
       "      <th>71488</th>\n",
       "      <td>0.0</td>\n",
       "      <td>0.0</td>\n",
       "      <td>0.0</td>\n",
       "      <td>0.0</td>\n",
       "      <td>0.0</td>\n",
       "      <td>0.0</td>\n",
       "      <td>0.0</td>\n",
       "      <td>0.0</td>\n",
       "      <td>0.0</td>\n",
       "      <td>0.0</td>\n",
       "      <td>...</td>\n",
       "      <td>0.0</td>\n",
       "      <td>0.0</td>\n",
       "      <td>0.0</td>\n",
       "      <td>0.0</td>\n",
       "      <td>0.0</td>\n",
       "      <td>0.0</td>\n",
       "      <td>0.0</td>\n",
       "      <td>0.0</td>\n",
       "      <td>-1.264792</td>\n",
       "      <td>0.107973</td>\n",
       "    </tr>\n",
       "    <tr>\n",
       "      <th>18462</th>\n",
       "      <td>0.0</td>\n",
       "      <td>0.0</td>\n",
       "      <td>0.0</td>\n",
       "      <td>0.0</td>\n",
       "      <td>0.0</td>\n",
       "      <td>0.0</td>\n",
       "      <td>0.0</td>\n",
       "      <td>0.0</td>\n",
       "      <td>0.0</td>\n",
       "      <td>0.0</td>\n",
       "      <td>...</td>\n",
       "      <td>0.0</td>\n",
       "      <td>0.0</td>\n",
       "      <td>0.0</td>\n",
       "      <td>0.0</td>\n",
       "      <td>0.0</td>\n",
       "      <td>0.0</td>\n",
       "      <td>0.0</td>\n",
       "      <td>0.0</td>\n",
       "      <td>-0.149264</td>\n",
       "      <td>-0.202897</td>\n",
       "    </tr>\n",
       "    <tr>\n",
       "      <th>5190</th>\n",
       "      <td>0.0</td>\n",
       "      <td>0.0</td>\n",
       "      <td>0.0</td>\n",
       "      <td>0.0</td>\n",
       "      <td>0.0</td>\n",
       "      <td>0.0</td>\n",
       "      <td>0.0</td>\n",
       "      <td>0.0</td>\n",
       "      <td>0.0</td>\n",
       "      <td>0.0</td>\n",
       "      <td>...</td>\n",
       "      <td>0.0</td>\n",
       "      <td>0.0</td>\n",
       "      <td>0.0</td>\n",
       "      <td>0.0</td>\n",
       "      <td>0.0</td>\n",
       "      <td>0.0</td>\n",
       "      <td>0.0</td>\n",
       "      <td>0.0</td>\n",
       "      <td>0.310071</td>\n",
       "      <td>0.885146</td>\n",
       "    </tr>\n",
       "    <tr>\n",
       "      <th>49745</th>\n",
       "      <td>0.0</td>\n",
       "      <td>0.0</td>\n",
       "      <td>0.0</td>\n",
       "      <td>0.0</td>\n",
       "      <td>0.0</td>\n",
       "      <td>0.0</td>\n",
       "      <td>0.0</td>\n",
       "      <td>0.0</td>\n",
       "      <td>0.0</td>\n",
       "      <td>0.0</td>\n",
       "      <td>...</td>\n",
       "      <td>1.0</td>\n",
       "      <td>0.0</td>\n",
       "      <td>0.0</td>\n",
       "      <td>0.0</td>\n",
       "      <td>0.0</td>\n",
       "      <td>0.0</td>\n",
       "      <td>0.0</td>\n",
       "      <td>0.0</td>\n",
       "      <td>-0.805457</td>\n",
       "      <td>-0.280614</td>\n",
       "    </tr>\n",
       "    <tr>\n",
       "      <th>51643</th>\n",
       "      <td>0.0</td>\n",
       "      <td>0.0</td>\n",
       "      <td>0.0</td>\n",
       "      <td>0.0</td>\n",
       "      <td>0.0</td>\n",
       "      <td>0.0</td>\n",
       "      <td>0.0</td>\n",
       "      <td>0.0</td>\n",
       "      <td>0.0</td>\n",
       "      <td>0.0</td>\n",
       "      <td>...</td>\n",
       "      <td>0.0</td>\n",
       "      <td>0.0</td>\n",
       "      <td>0.0</td>\n",
       "      <td>0.0</td>\n",
       "      <td>0.0</td>\n",
       "      <td>0.0</td>\n",
       "      <td>0.0</td>\n",
       "      <td>0.0</td>\n",
       "      <td>-1.396030</td>\n",
       "      <td>0.107973</td>\n",
       "    </tr>\n",
       "  </tbody>\n",
       "</table>\n",
       "<p>5 rows × 676 columns</p>\n",
       "</div>"
      ],
      "text/plain": [
       "       cat__SCHL_1  cat__SCHL_10  cat__SCHL_11  cat__SCHL_12  cat__SCHL_13  \\\n",
       "71488          0.0           0.0           0.0           0.0           0.0   \n",
       "18462          0.0           0.0           0.0           0.0           0.0   \n",
       "5190           0.0           0.0           0.0           0.0           0.0   \n",
       "49745          0.0           0.0           0.0           0.0           0.0   \n",
       "51643          0.0           0.0           0.0           0.0           0.0   \n",
       "\n",
       "       cat__SCHL_14  cat__SCHL_15  cat__SCHL_16  cat__SCHL_17  cat__SCHL_18  \\\n",
       "71488           0.0           0.0           0.0           0.0           0.0   \n",
       "18462           0.0           0.0           0.0           0.0           0.0   \n",
       "5190            0.0           0.0           0.0           0.0           0.0   \n",
       "49745           0.0           0.0           0.0           0.0           0.0   \n",
       "51643           0.0           0.0           0.0           0.0           0.0   \n",
       "\n",
       "       ...  cat__RELP_2  cat__RELP_3  cat__RELP_4  cat__RELP_5  cat__RELP_6  \\\n",
       "71488  ...          0.0          0.0          0.0          0.0          0.0   \n",
       "18462  ...          0.0          0.0          0.0          0.0          0.0   \n",
       "5190   ...          0.0          0.0          0.0          0.0          0.0   \n",
       "49745  ...          1.0          0.0          0.0          0.0          0.0   \n",
       "51643  ...          0.0          0.0          0.0          0.0          0.0   \n",
       "\n",
       "       cat__RELP_7  cat__RELP_8  cat__RELP_9  num__AGEP  num__WKHP  \n",
       "71488          0.0          0.0          0.0  -1.264792   0.107973  \n",
       "18462          0.0          0.0          0.0  -0.149264  -0.202897  \n",
       "5190           0.0          0.0          0.0   0.310071   0.885146  \n",
       "49745          0.0          0.0          0.0  -0.805457  -0.280614  \n",
       "51643          0.0          0.0          0.0  -1.396030   0.107973  \n",
       "\n",
       "[5 rows x 676 columns]"
      ]
     },
     "metadata": {},
     "output_type": "display_data"
    },
    {
     "name": "stdout",
     "output_type": "stream",
     "text": [
      "\n",
      "\n",
      "\n",
      "Number of rows in the out-of-domain X_test 10000\n",
      "Top indexes of an X_test in an out-of-domain base flow dataset:  Int64Index([71488, 18462,  5190, 49745, 51643, 27862, 11948, 91279, 35299,\n",
      "            93619, 56981, 29774, 30186, 24707, 79785, 88346, 59515, 94368,\n",
      "            19564, 86281],\n",
      "           dtype='int64')\n",
      "Top indexes of an y_test in an out-of-domain base flow dataset:  Int64Index([71488, 18462,  5190, 49745, 51643, 27862, 11948, 91279, 35299,\n",
      "            93619, 56981, 29774, 30186, 24707, 79785, 88346, 59515, 94368,\n",
      "            19564, 86281],\n",
      "           dtype='int64')\n"
     ]
    },
    {
     "data": {
      "text/html": [
       "<div>\n",
       "<style scoped>\n",
       "    .dataframe tbody tr th:only-of-type {\n",
       "        vertical-align: middle;\n",
       "    }\n",
       "\n",
       "    .dataframe tbody tr th {\n",
       "        vertical-align: top;\n",
       "    }\n",
       "\n",
       "    .dataframe thead th {\n",
       "        text-align: right;\n",
       "    }\n",
       "</style>\n",
       "<table border=\"1\" class=\"dataframe\">\n",
       "  <thead>\n",
       "    <tr style=\"text-align: right;\">\n",
       "      <th></th>\n",
       "      <th>cat__SCHL_1</th>\n",
       "      <th>cat__SCHL_10</th>\n",
       "      <th>cat__SCHL_11</th>\n",
       "      <th>cat__SCHL_12</th>\n",
       "      <th>cat__SCHL_13</th>\n",
       "      <th>cat__SCHL_14</th>\n",
       "      <th>cat__SCHL_15</th>\n",
       "      <th>cat__SCHL_16</th>\n",
       "      <th>cat__SCHL_17</th>\n",
       "      <th>cat__SCHL_18</th>\n",
       "      <th>...</th>\n",
       "      <th>cat__RELP_2</th>\n",
       "      <th>cat__RELP_3</th>\n",
       "      <th>cat__RELP_4</th>\n",
       "      <th>cat__RELP_5</th>\n",
       "      <th>cat__RELP_6</th>\n",
       "      <th>cat__RELP_7</th>\n",
       "      <th>cat__RELP_8</th>\n",
       "      <th>cat__RELP_9</th>\n",
       "      <th>num__AGEP</th>\n",
       "      <th>num__WKHP</th>\n",
       "    </tr>\n",
       "  </thead>\n",
       "  <tbody>\n",
       "    <tr>\n",
       "      <th>71488</th>\n",
       "      <td>0.0</td>\n",
       "      <td>0.0</td>\n",
       "      <td>0.0</td>\n",
       "      <td>0.0</td>\n",
       "      <td>0.0</td>\n",
       "      <td>0.0</td>\n",
       "      <td>0.0</td>\n",
       "      <td>0.0</td>\n",
       "      <td>0.0</td>\n",
       "      <td>0.0</td>\n",
       "      <td>...</td>\n",
       "      <td>0.0</td>\n",
       "      <td>0.0</td>\n",
       "      <td>0.0</td>\n",
       "      <td>0.0</td>\n",
       "      <td>0.0</td>\n",
       "      <td>0.0</td>\n",
       "      <td>0.0</td>\n",
       "      <td>0.0</td>\n",
       "      <td>0.572548</td>\n",
       "      <td>3.216666</td>\n",
       "    </tr>\n",
       "    <tr>\n",
       "      <th>18462</th>\n",
       "      <td>0.0</td>\n",
       "      <td>0.0</td>\n",
       "      <td>0.0</td>\n",
       "      <td>0.0</td>\n",
       "      <td>0.0</td>\n",
       "      <td>0.0</td>\n",
       "      <td>0.0</td>\n",
       "      <td>0.0</td>\n",
       "      <td>0.0</td>\n",
       "      <td>1.0</td>\n",
       "      <td>...</td>\n",
       "      <td>0.0</td>\n",
       "      <td>0.0</td>\n",
       "      <td>0.0</td>\n",
       "      <td>0.0</td>\n",
       "      <td>0.0</td>\n",
       "      <td>0.0</td>\n",
       "      <td>0.0</td>\n",
       "      <td>0.0</td>\n",
       "      <td>-1.396030</td>\n",
       "      <td>-1.057787</td>\n",
       "    </tr>\n",
       "    <tr>\n",
       "      <th>5190</th>\n",
       "      <td>0.0</td>\n",
       "      <td>0.0</td>\n",
       "      <td>0.0</td>\n",
       "      <td>0.0</td>\n",
       "      <td>0.0</td>\n",
       "      <td>0.0</td>\n",
       "      <td>0.0</td>\n",
       "      <td>0.0</td>\n",
       "      <td>0.0</td>\n",
       "      <td>0.0</td>\n",
       "      <td>...</td>\n",
       "      <td>0.0</td>\n",
       "      <td>0.0</td>\n",
       "      <td>0.0</td>\n",
       "      <td>0.0</td>\n",
       "      <td>0.0</td>\n",
       "      <td>0.0</td>\n",
       "      <td>0.0</td>\n",
       "      <td>0.0</td>\n",
       "      <td>0.835025</td>\n",
       "      <td>0.107973</td>\n",
       "    </tr>\n",
       "    <tr>\n",
       "      <th>49745</th>\n",
       "      <td>0.0</td>\n",
       "      <td>0.0</td>\n",
       "      <td>0.0</td>\n",
       "      <td>0.0</td>\n",
       "      <td>0.0</td>\n",
       "      <td>0.0</td>\n",
       "      <td>0.0</td>\n",
       "      <td>0.0</td>\n",
       "      <td>0.0</td>\n",
       "      <td>0.0</td>\n",
       "      <td>...</td>\n",
       "      <td>0.0</td>\n",
       "      <td>1.0</td>\n",
       "      <td>0.0</td>\n",
       "      <td>0.0</td>\n",
       "      <td>0.0</td>\n",
       "      <td>0.0</td>\n",
       "      <td>0.0</td>\n",
       "      <td>0.0</td>\n",
       "      <td>0.113213</td>\n",
       "      <td>0.729711</td>\n",
       "    </tr>\n",
       "    <tr>\n",
       "      <th>51643</th>\n",
       "      <td>0.0</td>\n",
       "      <td>0.0</td>\n",
       "      <td>0.0</td>\n",
       "      <td>0.0</td>\n",
       "      <td>0.0</td>\n",
       "      <td>0.0</td>\n",
       "      <td>0.0</td>\n",
       "      <td>0.0</td>\n",
       "      <td>0.0</td>\n",
       "      <td>0.0</td>\n",
       "      <td>...</td>\n",
       "      <td>0.0</td>\n",
       "      <td>0.0</td>\n",
       "      <td>0.0</td>\n",
       "      <td>0.0</td>\n",
       "      <td>0.0</td>\n",
       "      <td>0.0</td>\n",
       "      <td>0.0</td>\n",
       "      <td>0.0</td>\n",
       "      <td>1.228741</td>\n",
       "      <td>0.885146</td>\n",
       "    </tr>\n",
       "  </tbody>\n",
       "</table>\n",
       "<p>5 rows × 676 columns</p>\n",
       "</div>"
      ],
      "text/plain": [
       "       cat__SCHL_1  cat__SCHL_10  cat__SCHL_11  cat__SCHL_12  cat__SCHL_13  \\\n",
       "71488          0.0           0.0           0.0           0.0           0.0   \n",
       "18462          0.0           0.0           0.0           0.0           0.0   \n",
       "5190           0.0           0.0           0.0           0.0           0.0   \n",
       "49745          0.0           0.0           0.0           0.0           0.0   \n",
       "51643          0.0           0.0           0.0           0.0           0.0   \n",
       "\n",
       "       cat__SCHL_14  cat__SCHL_15  cat__SCHL_16  cat__SCHL_17  cat__SCHL_18  \\\n",
       "71488           0.0           0.0           0.0           0.0           0.0   \n",
       "18462           0.0           0.0           0.0           0.0           1.0   \n",
       "5190            0.0           0.0           0.0           0.0           0.0   \n",
       "49745           0.0           0.0           0.0           0.0           0.0   \n",
       "51643           0.0           0.0           0.0           0.0           0.0   \n",
       "\n",
       "       ...  cat__RELP_2  cat__RELP_3  cat__RELP_4  cat__RELP_5  cat__RELP_6  \\\n",
       "71488  ...          0.0          0.0          0.0          0.0          0.0   \n",
       "18462  ...          0.0          0.0          0.0          0.0          0.0   \n",
       "5190   ...          0.0          0.0          0.0          0.0          0.0   \n",
       "49745  ...          0.0          1.0          0.0          0.0          0.0   \n",
       "51643  ...          0.0          0.0          0.0          0.0          0.0   \n",
       "\n",
       "       cat__RELP_7  cat__RELP_8  cat__RELP_9  num__AGEP  num__WKHP  \n",
       "71488          0.0          0.0          0.0   0.572548   3.216666  \n",
       "18462          0.0          0.0          0.0  -1.396030  -1.057787  \n",
       "5190           0.0          0.0          0.0   0.835025   0.107973  \n",
       "49745          0.0          0.0          0.0   0.113213   0.729711  \n",
       "51643          0.0          0.0          0.0   1.228741   0.885146  \n",
       "\n",
       "[5 rows x 676 columns]"
      ]
     },
     "metadata": {},
     "output_type": "display_data"
    },
    {
     "name": "stderr",
     "output_type": "stream",
     "text": [
      "2023-10-23 07:43:54 experiment_interface.py INFO    : Models config is loaded from the input file\n",
      "INFO:root:Models config is loaded from the input file\n"
     ]
    },
    {
     "name": "stdout",
     "output_type": "stream",
     "text": [
      "Path for tuned params:  /home/dh3553/projects/fairness-variance/results/out_of_domain_uncertainty_poor_income_10K/tuning_results_Folktables_2018_Income_alpha_0.0_exp_iter_1_20231022__230539.csv\n",
      "RandomForestClassifier:  {'bootstrap': True, 'ccp_alpha': 0.0, 'class_weight': None, 'criterion': 'gini', 'max_depth': 90, 'max_features': 'sqrt', 'max_leaf_nodes': None, 'max_samples': None, 'min_impurity_decrease': 0.0, 'min_samples_leaf': 1, 'min_samples_split': 2, 'min_weight_fraction_leaf': 0.0, 'n_estimators': 400, 'n_jobs': None, 'oob_score': False, 'random_state': 200, 'verbose': 0, 'warm_start': False}\n"
     ]
    },
    {
     "data": {
      "application/vnd.jupyter.widget-view+json": {
       "model_id": "f10355851e5e47a7a26112e1d01f5572",
       "version_major": 2,
       "version_minor": 0
      },
      "text/plain": [
       "Analyze models in one run:   0%|          | 0/1 [00:00<?, ?it/s]"
      ]
     },
     "metadata": {},
     "output_type": "display_data"
    },
    {
     "data": {
      "application/vnd.jupyter.widget-view+json": {
       "model_id": "e42c3ffc80474926992bb8ef6bf25abc",
       "version_major": 2,
       "version_minor": 0
      },
      "text/plain": [
       "Classifiers testing by bootstrap:   0%|          | 0/200 [00:00<?, ?it/s]"
      ]
     },
     "metadata": {},
     "output_type": "display_data"
    },
    {
     "name": "stdout",
     "output_type": "stream",
     "text": [
      "intervention_param:  0.7\n",
      "Number of rows in the in-domain X_test 10000\n",
      "Top indexes of an X_test in an in-domain base flow dataset:  Int64Index([71488, 18462,  5190, 49745, 51643, 27862, 11948, 91279, 35299,\n",
      "            93619, 56981, 29774, 30186, 24707, 79785, 88346, 59515, 94368,\n",
      "            19564, 86281],\n",
      "           dtype='int64')\n",
      "Top indexes of an y_test in an in-domain base flow dataset:  Int64Index([71488, 18462,  5190, 49745, 51643, 27862, 11948, 91279, 35299,\n",
      "            93619, 56981, 29774, 30186, 24707, 79785, 88346, 59515, 94368,\n",
      "            19564, 86281],\n",
      "           dtype='int64')\n"
     ]
    },
    {
     "data": {
      "text/html": [
       "<div>\n",
       "<style scoped>\n",
       "    .dataframe tbody tr th:only-of-type {\n",
       "        vertical-align: middle;\n",
       "    }\n",
       "\n",
       "    .dataframe tbody tr th {\n",
       "        vertical-align: top;\n",
       "    }\n",
       "\n",
       "    .dataframe thead th {\n",
       "        text-align: right;\n",
       "    }\n",
       "</style>\n",
       "<table border=\"1\" class=\"dataframe\">\n",
       "  <thead>\n",
       "    <tr style=\"text-align: right;\">\n",
       "      <th></th>\n",
       "      <th>cat__SCHL_1</th>\n",
       "      <th>cat__SCHL_10</th>\n",
       "      <th>cat__SCHL_11</th>\n",
       "      <th>cat__SCHL_12</th>\n",
       "      <th>cat__SCHL_13</th>\n",
       "      <th>cat__SCHL_14</th>\n",
       "      <th>cat__SCHL_15</th>\n",
       "      <th>cat__SCHL_16</th>\n",
       "      <th>cat__SCHL_17</th>\n",
       "      <th>cat__SCHL_18</th>\n",
       "      <th>...</th>\n",
       "      <th>cat__RELP_2</th>\n",
       "      <th>cat__RELP_3</th>\n",
       "      <th>cat__RELP_4</th>\n",
       "      <th>cat__RELP_5</th>\n",
       "      <th>cat__RELP_6</th>\n",
       "      <th>cat__RELP_7</th>\n",
       "      <th>cat__RELP_8</th>\n",
       "      <th>cat__RELP_9</th>\n",
       "      <th>num__AGEP</th>\n",
       "      <th>num__WKHP</th>\n",
       "    </tr>\n",
       "  </thead>\n",
       "  <tbody>\n",
       "    <tr>\n",
       "      <th>71488</th>\n",
       "      <td>0.0</td>\n",
       "      <td>0.0</td>\n",
       "      <td>0.0</td>\n",
       "      <td>0.0</td>\n",
       "      <td>0.0</td>\n",
       "      <td>0.0</td>\n",
       "      <td>0.0</td>\n",
       "      <td>0.0</td>\n",
       "      <td>0.0</td>\n",
       "      <td>0.0</td>\n",
       "      <td>...</td>\n",
       "      <td>0.0</td>\n",
       "      <td>0.0</td>\n",
       "      <td>0.0</td>\n",
       "      <td>0.0</td>\n",
       "      <td>0.0</td>\n",
       "      <td>0.0</td>\n",
       "      <td>0.0</td>\n",
       "      <td>0.0</td>\n",
       "      <td>-1.330411</td>\n",
       "      <td>-0.358331</td>\n",
       "    </tr>\n",
       "    <tr>\n",
       "      <th>18462</th>\n",
       "      <td>0.0</td>\n",
       "      <td>0.0</td>\n",
       "      <td>0.0</td>\n",
       "      <td>0.0</td>\n",
       "      <td>0.0</td>\n",
       "      <td>0.0</td>\n",
       "      <td>0.0</td>\n",
       "      <td>0.0</td>\n",
       "      <td>0.0</td>\n",
       "      <td>0.0</td>\n",
       "      <td>...</td>\n",
       "      <td>0.0</td>\n",
       "      <td>0.0</td>\n",
       "      <td>0.0</td>\n",
       "      <td>0.0</td>\n",
       "      <td>0.0</td>\n",
       "      <td>0.0</td>\n",
       "      <td>0.0</td>\n",
       "      <td>0.0</td>\n",
       "      <td>-0.214883</td>\n",
       "      <td>-0.591483</td>\n",
       "    </tr>\n",
       "    <tr>\n",
       "      <th>5190</th>\n",
       "      <td>0.0</td>\n",
       "      <td>0.0</td>\n",
       "      <td>0.0</td>\n",
       "      <td>0.0</td>\n",
       "      <td>0.0</td>\n",
       "      <td>0.0</td>\n",
       "      <td>0.0</td>\n",
       "      <td>0.0</td>\n",
       "      <td>0.0</td>\n",
       "      <td>0.0</td>\n",
       "      <td>...</td>\n",
       "      <td>0.0</td>\n",
       "      <td>0.0</td>\n",
       "      <td>0.0</td>\n",
       "      <td>0.0</td>\n",
       "      <td>0.0</td>\n",
       "      <td>0.0</td>\n",
       "      <td>0.0</td>\n",
       "      <td>0.0</td>\n",
       "      <td>0.244451</td>\n",
       "      <td>0.263407</td>\n",
       "    </tr>\n",
       "    <tr>\n",
       "      <th>49745</th>\n",
       "      <td>0.0</td>\n",
       "      <td>0.0</td>\n",
       "      <td>0.0</td>\n",
       "      <td>0.0</td>\n",
       "      <td>0.0</td>\n",
       "      <td>0.0</td>\n",
       "      <td>0.0</td>\n",
       "      <td>0.0</td>\n",
       "      <td>0.0</td>\n",
       "      <td>0.0</td>\n",
       "      <td>...</td>\n",
       "      <td>1.0</td>\n",
       "      <td>0.0</td>\n",
       "      <td>0.0</td>\n",
       "      <td>0.0</td>\n",
       "      <td>0.0</td>\n",
       "      <td>0.0</td>\n",
       "      <td>0.0</td>\n",
       "      <td>0.0</td>\n",
       "      <td>-0.805457</td>\n",
       "      <td>-0.280614</td>\n",
       "    </tr>\n",
       "    <tr>\n",
       "      <th>51643</th>\n",
       "      <td>0.0</td>\n",
       "      <td>0.0</td>\n",
       "      <td>0.0</td>\n",
       "      <td>0.0</td>\n",
       "      <td>0.0</td>\n",
       "      <td>0.0</td>\n",
       "      <td>0.0</td>\n",
       "      <td>0.0</td>\n",
       "      <td>0.0</td>\n",
       "      <td>0.0</td>\n",
       "      <td>...</td>\n",
       "      <td>0.0</td>\n",
       "      <td>0.0</td>\n",
       "      <td>0.0</td>\n",
       "      <td>0.0</td>\n",
       "      <td>0.0</td>\n",
       "      <td>0.0</td>\n",
       "      <td>0.0</td>\n",
       "      <td>0.0</td>\n",
       "      <td>-1.396030</td>\n",
       "      <td>-0.358331</td>\n",
       "    </tr>\n",
       "  </tbody>\n",
       "</table>\n",
       "<p>5 rows × 676 columns</p>\n",
       "</div>"
      ],
      "text/plain": [
       "       cat__SCHL_1  cat__SCHL_10  cat__SCHL_11  cat__SCHL_12  cat__SCHL_13  \\\n",
       "71488          0.0           0.0           0.0           0.0           0.0   \n",
       "18462          0.0           0.0           0.0           0.0           0.0   \n",
       "5190           0.0           0.0           0.0           0.0           0.0   \n",
       "49745          0.0           0.0           0.0           0.0           0.0   \n",
       "51643          0.0           0.0           0.0           0.0           0.0   \n",
       "\n",
       "       cat__SCHL_14  cat__SCHL_15  cat__SCHL_16  cat__SCHL_17  cat__SCHL_18  \\\n",
       "71488           0.0           0.0           0.0           0.0           0.0   \n",
       "18462           0.0           0.0           0.0           0.0           0.0   \n",
       "5190            0.0           0.0           0.0           0.0           0.0   \n",
       "49745           0.0           0.0           0.0           0.0           0.0   \n",
       "51643           0.0           0.0           0.0           0.0           0.0   \n",
       "\n",
       "       ...  cat__RELP_2  cat__RELP_3  cat__RELP_4  cat__RELP_5  cat__RELP_6  \\\n",
       "71488  ...          0.0          0.0          0.0          0.0          0.0   \n",
       "18462  ...          0.0          0.0          0.0          0.0          0.0   \n",
       "5190   ...          0.0          0.0          0.0          0.0          0.0   \n",
       "49745  ...          1.0          0.0          0.0          0.0          0.0   \n",
       "51643  ...          0.0          0.0          0.0          0.0          0.0   \n",
       "\n",
       "       cat__RELP_7  cat__RELP_8  cat__RELP_9  num__AGEP  num__WKHP  \n",
       "71488          0.0          0.0          0.0  -1.330411  -0.358331  \n",
       "18462          0.0          0.0          0.0  -0.214883  -0.591483  \n",
       "5190           0.0          0.0          0.0   0.244451   0.263407  \n",
       "49745          0.0          0.0          0.0  -0.805457  -0.280614  \n",
       "51643          0.0          0.0          0.0  -1.396030  -0.358331  \n",
       "\n",
       "[5 rows x 676 columns]"
      ]
     },
     "metadata": {},
     "output_type": "display_data"
    },
    {
     "name": "stdout",
     "output_type": "stream",
     "text": [
      "\n",
      "\n",
      "\n",
      "Number of rows in the out-of-domain X_test 10000\n",
      "Top indexes of an X_test in an out-of-domain base flow dataset:  Int64Index([71488, 18462,  5190, 49745, 51643, 27862, 11948, 91279, 35299,\n",
      "            93619, 56981, 29774, 30186, 24707, 79785, 88346, 59515, 94368,\n",
      "            19564, 86281],\n",
      "           dtype='int64')\n",
      "Top indexes of an y_test in an out-of-domain base flow dataset:  Int64Index([71488, 18462,  5190, 49745, 51643, 27862, 11948, 91279, 35299,\n",
      "            93619, 56981, 29774, 30186, 24707, 79785, 88346, 59515, 94368,\n",
      "            19564, 86281],\n",
      "           dtype='int64')\n"
     ]
    },
    {
     "data": {
      "text/html": [
       "<div>\n",
       "<style scoped>\n",
       "    .dataframe tbody tr th:only-of-type {\n",
       "        vertical-align: middle;\n",
       "    }\n",
       "\n",
       "    .dataframe tbody tr th {\n",
       "        vertical-align: top;\n",
       "    }\n",
       "\n",
       "    .dataframe thead th {\n",
       "        text-align: right;\n",
       "    }\n",
       "</style>\n",
       "<table border=\"1\" class=\"dataframe\">\n",
       "  <thead>\n",
       "    <tr style=\"text-align: right;\">\n",
       "      <th></th>\n",
       "      <th>cat__SCHL_1</th>\n",
       "      <th>cat__SCHL_10</th>\n",
       "      <th>cat__SCHL_11</th>\n",
       "      <th>cat__SCHL_12</th>\n",
       "      <th>cat__SCHL_13</th>\n",
       "      <th>cat__SCHL_14</th>\n",
       "      <th>cat__SCHL_15</th>\n",
       "      <th>cat__SCHL_16</th>\n",
       "      <th>cat__SCHL_17</th>\n",
       "      <th>cat__SCHL_18</th>\n",
       "      <th>...</th>\n",
       "      <th>cat__RELP_2</th>\n",
       "      <th>cat__RELP_3</th>\n",
       "      <th>cat__RELP_4</th>\n",
       "      <th>cat__RELP_5</th>\n",
       "      <th>cat__RELP_6</th>\n",
       "      <th>cat__RELP_7</th>\n",
       "      <th>cat__RELP_8</th>\n",
       "      <th>cat__RELP_9</th>\n",
       "      <th>num__AGEP</th>\n",
       "      <th>num__WKHP</th>\n",
       "    </tr>\n",
       "  </thead>\n",
       "  <tbody>\n",
       "    <tr>\n",
       "      <th>71488</th>\n",
       "      <td>0.0</td>\n",
       "      <td>0.0</td>\n",
       "      <td>0.0</td>\n",
       "      <td>0.0</td>\n",
       "      <td>0.0</td>\n",
       "      <td>0.0</td>\n",
       "      <td>0.0</td>\n",
       "      <td>0.0</td>\n",
       "      <td>0.0</td>\n",
       "      <td>0.0</td>\n",
       "      <td>...</td>\n",
       "      <td>0.0</td>\n",
       "      <td>0.0</td>\n",
       "      <td>0.0</td>\n",
       "      <td>0.0</td>\n",
       "      <td>0.0</td>\n",
       "      <td>0.0</td>\n",
       "      <td>0.0</td>\n",
       "      <td>0.0</td>\n",
       "      <td>0.572548</td>\n",
       "      <td>3.216666</td>\n",
       "    </tr>\n",
       "    <tr>\n",
       "      <th>18462</th>\n",
       "      <td>0.0</td>\n",
       "      <td>0.0</td>\n",
       "      <td>0.0</td>\n",
       "      <td>0.0</td>\n",
       "      <td>0.0</td>\n",
       "      <td>0.0</td>\n",
       "      <td>0.0</td>\n",
       "      <td>0.0</td>\n",
       "      <td>0.0</td>\n",
       "      <td>1.0</td>\n",
       "      <td>...</td>\n",
       "      <td>0.0</td>\n",
       "      <td>0.0</td>\n",
       "      <td>0.0</td>\n",
       "      <td>0.0</td>\n",
       "      <td>0.0</td>\n",
       "      <td>0.0</td>\n",
       "      <td>0.0</td>\n",
       "      <td>0.0</td>\n",
       "      <td>-1.396030</td>\n",
       "      <td>-1.057787</td>\n",
       "    </tr>\n",
       "    <tr>\n",
       "      <th>5190</th>\n",
       "      <td>0.0</td>\n",
       "      <td>0.0</td>\n",
       "      <td>0.0</td>\n",
       "      <td>0.0</td>\n",
       "      <td>0.0</td>\n",
       "      <td>0.0</td>\n",
       "      <td>0.0</td>\n",
       "      <td>0.0</td>\n",
       "      <td>0.0</td>\n",
       "      <td>0.0</td>\n",
       "      <td>...</td>\n",
       "      <td>0.0</td>\n",
       "      <td>0.0</td>\n",
       "      <td>0.0</td>\n",
       "      <td>0.0</td>\n",
       "      <td>0.0</td>\n",
       "      <td>0.0</td>\n",
       "      <td>0.0</td>\n",
       "      <td>0.0</td>\n",
       "      <td>0.769406</td>\n",
       "      <td>0.107973</td>\n",
       "    </tr>\n",
       "    <tr>\n",
       "      <th>49745</th>\n",
       "      <td>0.0</td>\n",
       "      <td>0.0</td>\n",
       "      <td>0.0</td>\n",
       "      <td>0.0</td>\n",
       "      <td>0.0</td>\n",
       "      <td>0.0</td>\n",
       "      <td>0.0</td>\n",
       "      <td>0.0</td>\n",
       "      <td>0.0</td>\n",
       "      <td>0.0</td>\n",
       "      <td>...</td>\n",
       "      <td>0.0</td>\n",
       "      <td>1.0</td>\n",
       "      <td>0.0</td>\n",
       "      <td>0.0</td>\n",
       "      <td>0.0</td>\n",
       "      <td>0.0</td>\n",
       "      <td>0.0</td>\n",
       "      <td>0.0</td>\n",
       "      <td>0.047594</td>\n",
       "      <td>0.651994</td>\n",
       "    </tr>\n",
       "    <tr>\n",
       "      <th>51643</th>\n",
       "      <td>0.0</td>\n",
       "      <td>0.0</td>\n",
       "      <td>0.0</td>\n",
       "      <td>0.0</td>\n",
       "      <td>0.0</td>\n",
       "      <td>0.0</td>\n",
       "      <td>0.0</td>\n",
       "      <td>0.0</td>\n",
       "      <td>0.0</td>\n",
       "      <td>0.0</td>\n",
       "      <td>...</td>\n",
       "      <td>0.0</td>\n",
       "      <td>0.0</td>\n",
       "      <td>0.0</td>\n",
       "      <td>0.0</td>\n",
       "      <td>0.0</td>\n",
       "      <td>0.0</td>\n",
       "      <td>0.0</td>\n",
       "      <td>0.0</td>\n",
       "      <td>1.163121</td>\n",
       "      <td>0.807429</td>\n",
       "    </tr>\n",
       "  </tbody>\n",
       "</table>\n",
       "<p>5 rows × 676 columns</p>\n",
       "</div>"
      ],
      "text/plain": [
       "       cat__SCHL_1  cat__SCHL_10  cat__SCHL_11  cat__SCHL_12  cat__SCHL_13  \\\n",
       "71488          0.0           0.0           0.0           0.0           0.0   \n",
       "18462          0.0           0.0           0.0           0.0           0.0   \n",
       "5190           0.0           0.0           0.0           0.0           0.0   \n",
       "49745          0.0           0.0           0.0           0.0           0.0   \n",
       "51643          0.0           0.0           0.0           0.0           0.0   \n",
       "\n",
       "       cat__SCHL_14  cat__SCHL_15  cat__SCHL_16  cat__SCHL_17  cat__SCHL_18  \\\n",
       "71488           0.0           0.0           0.0           0.0           0.0   \n",
       "18462           0.0           0.0           0.0           0.0           1.0   \n",
       "5190            0.0           0.0           0.0           0.0           0.0   \n",
       "49745           0.0           0.0           0.0           0.0           0.0   \n",
       "51643           0.0           0.0           0.0           0.0           0.0   \n",
       "\n",
       "       ...  cat__RELP_2  cat__RELP_3  cat__RELP_4  cat__RELP_5  cat__RELP_6  \\\n",
       "71488  ...          0.0          0.0          0.0          0.0          0.0   \n",
       "18462  ...          0.0          0.0          0.0          0.0          0.0   \n",
       "5190   ...          0.0          0.0          0.0          0.0          0.0   \n",
       "49745  ...          0.0          1.0          0.0          0.0          0.0   \n",
       "51643  ...          0.0          0.0          0.0          0.0          0.0   \n",
       "\n",
       "       cat__RELP_7  cat__RELP_8  cat__RELP_9  num__AGEP  num__WKHP  \n",
       "71488          0.0          0.0          0.0   0.572548   3.216666  \n",
       "18462          0.0          0.0          0.0  -1.396030  -1.057787  \n",
       "5190           0.0          0.0          0.0   0.769406   0.107973  \n",
       "49745          0.0          0.0          0.0   0.047594   0.651994  \n",
       "51643          0.0          0.0          0.0   1.163121   0.807429  \n",
       "\n",
       "[5 rows x 676 columns]"
      ]
     },
     "metadata": {},
     "output_type": "display_data"
    },
    {
     "name": "stdout",
     "output_type": "stream",
     "text": [
      "Path for tuned params:  /home/dh3553/projects/fairness-variance/results/out_of_domain_uncertainty_poor_income_10K/tuning_results_Folktables_2018_Income_alpha_0.7_exp_iter_1_20231022__230902.csv\n",
      "RandomForestClassifier:  {'bootstrap': False, 'ccp_alpha': 0.0, 'class_weight': None, 'criterion': 'gini', 'max_depth': 90, 'max_features': 'sqrt', 'max_leaf_nodes': None, 'max_samples': None, 'min_impurity_decrease': 0.0, 'min_samples_leaf': 1, 'min_samples_split': 10, 'min_weight_fraction_leaf': 0.0, 'n_estimators': 300, 'n_jobs': None, 'oob_score': False, 'random_state': 200, 'verbose': 0, 'warm_start': False}\n"
     ]
    },
    {
     "data": {
      "application/vnd.jupyter.widget-view+json": {
       "model_id": "d024e60f26dd401280e5922fcb01b151",
       "version_major": 2,
       "version_minor": 0
      },
      "text/plain": [
       "Analyze models in one run:   0%|          | 0/1 [00:00<?, ?it/s]"
      ]
     },
     "metadata": {},
     "output_type": "display_data"
    },
    {
     "data": {
      "application/vnd.jupyter.widget-view+json": {
       "model_id": "7700cf4c82e44708b5045fa1d3f2f3e6",
       "version_major": 2,
       "version_minor": 0
      },
      "text/plain": [
       "Classifiers testing by bootstrap:   0%|          | 0/200 [00:00<?, ?it/s]"
      ]
     },
     "metadata": {},
     "output_type": "display_data"
    }
   ],
   "source": [
    "run_exp_iter_with_disparate_impact_and_mult_sets(data_loader=exp_iter_data_loader,\n",
    "                                                 extra_data_loaders=exp_extra_data_loaders,\n",
    "                                                 experiment_seed=experiment_seed,\n",
    "                                                 test_set_fraction=TEST_SET_FRACTION,\n",
    "                                                 db_writer_func=db_writer_func,\n",
    "                                                 fair_intervention_params_lst=FAIR_INTERVENTION_PARAMS_LST,\n",
    "                                                 models_params_for_tuning=models_params_for_tuning,\n",
    "                                                 metrics_computation_config=metrics_computation_config,\n",
    "                                                 custom_table_fields_dct=custom_table_fields_dct,\n",
    "#                                                  with_tuning=True,\n",
    "                                                 with_tuning=False,\n",
    "                                                 tuned_params_df_paths=tuned_params_df_paths,\n",
    "                                                 save_results_dir_path=SAVE_RESULTS_DIR_PATH,\n",
    "                                                 train_set_subsample_size=TRAIN_SET_SUBSAMPLE_SIZE,\n",
    "                                                 verbose=True)"
   ]
  },
  {
   "cell_type": "markdown",
   "id": "7f5b307c",
   "metadata": {},
   "source": [
    "### Experiment iteration 3"
   ]
  },
  {
   "cell_type": "code",
   "execution_count": null,
   "id": "9cb310ba",
   "metadata": {},
   "outputs": [],
   "source": [
    "# Configs for an experiment iteration\n",
    "exp_iter_num = 3\n",
    "experiment_seed = EXPERIMENT_SEEDS[exp_iter_num - 1]\n",
    "tuned_params_filenames = [\n",
    "    'tuning_results_Folktables_2018_Income_alpha_0.7_exp_iter_1_20231113__220650.csv'\n",
    "]\n",
    "tuned_params_df_paths = [os.path.join(ROOT_DIR, 'results', EXPERIMENT_NAME, tuned_params_filename)\n",
    "                         for tuned_params_filename in tuned_params_filenames]\n",
    "custom_table_fields_dct['experiment_iteration'] = f'Exp_iter_{exp_iter_num}'\n",
    "\n",
    "exp_iter_data_loader = copy.deepcopy(data_loader_poor)  # Add deepcopy to avoid data leakage\n",
    "exp_extra_data_loaders = copy.deepcopy(extra_data_loaders)  # Add deepcopy to avoid data leakage\n",
    "models_params_for_tuning = get_folktables_employment_models_params_for_tuning(experiment_seed)"
   ]
  },
  {
   "cell_type": "code",
   "execution_count": null,
   "id": "a073c7be",
   "metadata": {},
   "outputs": [],
   "source": [
    "run_exp_iter_with_disparate_impact_and_mult_sets(data_loader=exp_iter_data_loader,\n",
    "                                                 extra_data_loaders=exp_extra_data_loaders,\n",
    "                                                 experiment_seed=experiment_seed,\n",
    "                                                 test_set_fraction=TEST_SET_FRACTION,\n",
    "                                                 db_writer_func=db_writer_func,\n",
    "                                                 fair_intervention_params_lst=FAIR_INTERVENTION_PARAMS_LST,\n",
    "                                                 models_params_for_tuning=models_params_for_tuning,\n",
    "                                                 metrics_computation_config=metrics_computation_config,\n",
    "                                                 custom_table_fields_dct=custom_table_fields_dct,\n",
    "#                                                  with_tuning=True,\n",
    "                                                 with_tuning=False,\n",
    "                                                 tuned_params_df_paths=tuned_params_df_paths,\n",
    "                                                 save_results_dir_path=SAVE_RESULTS_DIR_PATH,\n",
    "                                                 train_set_subsample_size=TRAIN_SET_SUBSAMPLE_SIZE,\n",
    "                                                 verbose=True)"
   ]
  },
  {
   "cell_type": "markdown",
   "id": "f81d40f7",
   "metadata": {},
   "source": [
    "### Experiment iteration 4"
   ]
  },
  {
   "cell_type": "code",
   "execution_count": 14,
   "id": "370d710f",
   "metadata": {},
   "outputs": [],
   "source": [
    "# Configs for an experiment iteration\n",
    "exp_iter_num = 4\n",
    "experiment_seed = EXPERIMENT_SEEDS[exp_iter_num - 1]\n",
    "tuned_params_filenames = [\n",
    "    'tuning_results_Folktables_2018_Income_alpha_0.7_exp_iter_1_20231113__220650.csv'\n",
    "]\n",
    "tuned_params_df_paths = [os.path.join(ROOT_DIR, 'results', EXPERIMENT_NAME, tuned_params_filename)\n",
    "                         for tuned_params_filename in tuned_params_filenames]\n",
    "custom_table_fields_dct['experiment_iteration'] = f'Exp_iter_{exp_iter_num}'\n",
    "\n",
    "exp_iter_data_loader = copy.deepcopy(data_loader_poor)  # Add deepcopy to avoid data leakage\n",
    "exp_extra_data_loaders = copy.deepcopy(extra_data_loaders)  # Add deepcopy to avoid data leakage\n",
    "models_params_for_tuning = get_folktables_employment_models_params_for_tuning(experiment_seed)"
   ]
  },
  {
   "cell_type": "code",
   "execution_count": null,
   "id": "cb3783c2",
   "metadata": {},
   "outputs": [
    {
     "name": "stderr",
     "output_type": "stream",
     "text": [
      "2023-11-13 17:48:04 experiment_interface.py INFO    : Start an experiment iteration for the following custom params:\n",
      "INFO:root:Start an experiment iteration for the following custom params:\n"
     ]
    },
    {
     "name": "stdout",
     "output_type": "stream",
     "text": [
      "{'dataset_split_seed': 400,\n",
      " 'experiment_iteration': 'Exp_iter_4',\n",
      " 'fair_intervention_params_lst': '[0.7]',\n",
      " 'model_init_seed': 400,\n",
      " 'session_uuid': '6052b92f-f6ef-4711-a04c-eb9dd49e06bb'}\n",
      "\n",
      "\n"
     ]
    },
    {
     "name": "stderr",
     "output_type": "stream",
     "text": [
      "2023-11-13 17:48:04 experiment_interface.py INFO    : Start dataset preprocessing\n",
      "INFO:root:Start dataset preprocessing\n"
     ]
    },
    {
     "name": "stdout",
     "output_type": "stream",
     "text": [
      "Top indexes of X_train_val:  Int64Index([25118, 65114, 58296, 82977, 97367, 68017, 40258, 74732, 17388,\n",
      "            15838, 91095, 63259, 52586,  4954, 83185, 33823, 49494, 54974,\n",
      "            28015, 93273],\n",
      "           dtype='int64')\n",
      "Top indexes of y_train_val:  Int64Index([25118, 65114, 58296, 82977, 97367, 68017, 40258, 74732, 17388,\n",
      "            15838, 91095, 63259, 52586,  4954, 83185, 33823, 49494, 54974,\n",
      "            28015, 93273],\n",
      "           dtype='int64')\n",
      "\n",
      "\n",
      "\n",
      "In-domain full_df.shape --  (20000, 9)\n",
      "In-domain init_features_df.shape --  (20000, 10)\n",
      "In-domain number of rows in X_train_val --  10000\n",
      "In-domain number of rows in X_test --  10000\n"
     ]
    },
    {
     "name": "stderr",
     "output_type": "stream",
     "text": [
      "2023-11-13 17:48:05 experiment_interface.py INFO    : The dataset is preprocessed\n",
      "INFO:root:The dataset is preprocessed\n"
     ]
    },
    {
     "name": "stdout",
     "output_type": "stream",
     "text": [
      "Out-of-domain 1 init_features_df.shape --  (100000, 10)\n",
      "Out-of-domain 1 number of rows in X_train_val --  0\n",
      "Out-of-domain 1 number of rows in X_test --  10000\n"
     ]
    },
    {
     "data": {
      "application/vnd.jupyter.widget-view+json": {
       "model_id": "3ddb5527809848acb8fb89a6747b349f",
       "version_major": 2,
       "version_minor": 0
      },
      "text/plain": [
       "Multiple alphas:   0%|          | 0/1 [00:00<?, ?it/s]"
      ]
     },
     "metadata": {},
     "output_type": "display_data"
    },
    {
     "name": "stderr",
     "output_type": "stream",
     "text": [
      "2023-11-13 17:48:05 experiment_interface.py INFO    : Start fairness intervention\n",
      "INFO:root:Start fairness intervention\n"
     ]
    },
    {
     "name": "stdout",
     "output_type": "stream",
     "text": [
      "intervention_param:  0.7\n"
     ]
    },
    {
     "name": "stderr",
     "output_type": "stream",
     "text": [
      "2023-11-13 17:50:01 experiment_interface.py INFO    : Fairness intervention is completed\n",
      "INFO:root:Fairness intervention is completed\n"
     ]
    },
    {
     "name": "stdout",
     "output_type": "stream",
     "text": [
      "Number of rows in the in-domain X_test 10000\n",
      "Top indexes of an X_test in an in-domain base flow dataset:  Int64Index([37042, 13256, 21131, 71796, 23655, 53108, 55617, 99220, 44986,\n",
      "            92623, 40149, 97163,  6954,  4311, 90189, 70884, 55836, 45720,\n",
      "            84792, 67476],\n",
      "           dtype='int64')\n",
      "Top indexes of an y_test in an in-domain base flow dataset:  Int64Index([37042, 13256, 21131, 71796, 23655, 53108, 55617, 99220, 44986,\n",
      "            92623, 40149, 97163,  6954,  4311, 90189, 70884, 55836, 45720,\n",
      "            84792, 67476],\n",
      "           dtype='int64')\n"
     ]
    },
    {
     "data": {
      "text/html": [
       "<div>\n",
       "<style scoped>\n",
       "    .dataframe tbody tr th:only-of-type {\n",
       "        vertical-align: middle;\n",
       "    }\n",
       "\n",
       "    .dataframe tbody tr th {\n",
       "        vertical-align: top;\n",
       "    }\n",
       "\n",
       "    .dataframe thead th {\n",
       "        text-align: right;\n",
       "    }\n",
       "</style>\n",
       "<table border=\"1\" class=\"dataframe\">\n",
       "  <thead>\n",
       "    <tr style=\"text-align: right;\">\n",
       "      <th></th>\n",
       "      <th>cat__SCHL_1</th>\n",
       "      <th>cat__SCHL_10</th>\n",
       "      <th>cat__SCHL_11</th>\n",
       "      <th>cat__SCHL_12</th>\n",
       "      <th>cat__SCHL_13</th>\n",
       "      <th>cat__SCHL_14</th>\n",
       "      <th>cat__SCHL_15</th>\n",
       "      <th>cat__SCHL_16</th>\n",
       "      <th>cat__SCHL_17</th>\n",
       "      <th>cat__SCHL_18</th>\n",
       "      <th>...</th>\n",
       "      <th>cat__RELP_2</th>\n",
       "      <th>cat__RELP_3</th>\n",
       "      <th>cat__RELP_4</th>\n",
       "      <th>cat__RELP_5</th>\n",
       "      <th>cat__RELP_6</th>\n",
       "      <th>cat__RELP_7</th>\n",
       "      <th>cat__RELP_8</th>\n",
       "      <th>cat__RELP_9</th>\n",
       "      <th>num__AGEP</th>\n",
       "      <th>num__WKHP</th>\n",
       "    </tr>\n",
       "  </thead>\n",
       "  <tbody>\n",
       "    <tr>\n",
       "      <th>37042</th>\n",
       "      <td>0.0</td>\n",
       "      <td>0.0</td>\n",
       "      <td>0.0</td>\n",
       "      <td>0.0</td>\n",
       "      <td>0.0</td>\n",
       "      <td>0.0</td>\n",
       "      <td>0.0</td>\n",
       "      <td>0.0</td>\n",
       "      <td>0.0</td>\n",
       "      <td>0.0</td>\n",
       "      <td>...</td>\n",
       "      <td>0.0</td>\n",
       "      <td>0.0</td>\n",
       "      <td>0.0</td>\n",
       "      <td>0.0</td>\n",
       "      <td>0.0</td>\n",
       "      <td>0.0</td>\n",
       "      <td>0.0</td>\n",
       "      <td>0.0</td>\n",
       "      <td>1.007020</td>\n",
       "      <td>0.582589</td>\n",
       "    </tr>\n",
       "    <tr>\n",
       "      <th>13256</th>\n",
       "      <td>0.0</td>\n",
       "      <td>0.0</td>\n",
       "      <td>0.0</td>\n",
       "      <td>0.0</td>\n",
       "      <td>0.0</td>\n",
       "      <td>0.0</td>\n",
       "      <td>0.0</td>\n",
       "      <td>0.0</td>\n",
       "      <td>0.0</td>\n",
       "      <td>1.0</td>\n",
       "      <td>...</td>\n",
       "      <td>0.0</td>\n",
       "      <td>0.0</td>\n",
       "      <td>0.0</td>\n",
       "      <td>0.0</td>\n",
       "      <td>0.0</td>\n",
       "      <td>0.0</td>\n",
       "      <td>0.0</td>\n",
       "      <td>0.0</td>\n",
       "      <td>0.550606</td>\n",
       "      <td>-0.827109</td>\n",
       "    </tr>\n",
       "    <tr>\n",
       "      <th>21131</th>\n",
       "      <td>0.0</td>\n",
       "      <td>0.0</td>\n",
       "      <td>0.0</td>\n",
       "      <td>0.0</td>\n",
       "      <td>0.0</td>\n",
       "      <td>0.0</td>\n",
       "      <td>0.0</td>\n",
       "      <td>0.0</td>\n",
       "      <td>0.0</td>\n",
       "      <td>1.0</td>\n",
       "      <td>...</td>\n",
       "      <td>0.0</td>\n",
       "      <td>0.0</td>\n",
       "      <td>0.0</td>\n",
       "      <td>0.0</td>\n",
       "      <td>0.0</td>\n",
       "      <td>0.0</td>\n",
       "      <td>0.0</td>\n",
       "      <td>0.0</td>\n",
       "      <td>1.202626</td>\n",
       "      <td>0.582589</td>\n",
       "    </tr>\n",
       "    <tr>\n",
       "      <th>71796</th>\n",
       "      <td>0.0</td>\n",
       "      <td>0.0</td>\n",
       "      <td>0.0</td>\n",
       "      <td>0.0</td>\n",
       "      <td>0.0</td>\n",
       "      <td>0.0</td>\n",
       "      <td>0.0</td>\n",
       "      <td>0.0</td>\n",
       "      <td>0.0</td>\n",
       "      <td>0.0</td>\n",
       "      <td>...</td>\n",
       "      <td>0.0</td>\n",
       "      <td>0.0</td>\n",
       "      <td>0.0</td>\n",
       "      <td>0.0</td>\n",
       "      <td>0.0</td>\n",
       "      <td>0.0</td>\n",
       "      <td>0.0</td>\n",
       "      <td>0.0</td>\n",
       "      <td>-1.079447</td>\n",
       "      <td>0.269323</td>\n",
       "    </tr>\n",
       "    <tr>\n",
       "      <th>23655</th>\n",
       "      <td>0.0</td>\n",
       "      <td>0.0</td>\n",
       "      <td>0.0</td>\n",
       "      <td>0.0</td>\n",
       "      <td>0.0</td>\n",
       "      <td>0.0</td>\n",
       "      <td>0.0</td>\n",
       "      <td>0.0</td>\n",
       "      <td>0.0</td>\n",
       "      <td>0.0</td>\n",
       "      <td>...</td>\n",
       "      <td>0.0</td>\n",
       "      <td>0.0</td>\n",
       "      <td>0.0</td>\n",
       "      <td>0.0</td>\n",
       "      <td>0.0</td>\n",
       "      <td>0.0</td>\n",
       "      <td>0.0</td>\n",
       "      <td>0.0</td>\n",
       "      <td>-0.166617</td>\n",
       "      <td>-0.043943</td>\n",
       "    </tr>\n",
       "  </tbody>\n",
       "</table>\n",
       "<p>5 rows × 681 columns</p>\n",
       "</div>"
      ],
      "text/plain": [
       "       cat__SCHL_1  cat__SCHL_10  cat__SCHL_11  cat__SCHL_12  cat__SCHL_13  \\\n",
       "37042          0.0           0.0           0.0           0.0           0.0   \n",
       "13256          0.0           0.0           0.0           0.0           0.0   \n",
       "21131          0.0           0.0           0.0           0.0           0.0   \n",
       "71796          0.0           0.0           0.0           0.0           0.0   \n",
       "23655          0.0           0.0           0.0           0.0           0.0   \n",
       "\n",
       "       cat__SCHL_14  cat__SCHL_15  cat__SCHL_16  cat__SCHL_17  cat__SCHL_18  \\\n",
       "37042           0.0           0.0           0.0           0.0           0.0   \n",
       "13256           0.0           0.0           0.0           0.0           1.0   \n",
       "21131           0.0           0.0           0.0           0.0           1.0   \n",
       "71796           0.0           0.0           0.0           0.0           0.0   \n",
       "23655           0.0           0.0           0.0           0.0           0.0   \n",
       "\n",
       "       ...  cat__RELP_2  cat__RELP_3  cat__RELP_4  cat__RELP_5  cat__RELP_6  \\\n",
       "37042  ...          0.0          0.0          0.0          0.0          0.0   \n",
       "13256  ...          0.0          0.0          0.0          0.0          0.0   \n",
       "21131  ...          0.0          0.0          0.0          0.0          0.0   \n",
       "71796  ...          0.0          0.0          0.0          0.0          0.0   \n",
       "23655  ...          0.0          0.0          0.0          0.0          0.0   \n",
       "\n",
       "       cat__RELP_7  cat__RELP_8  cat__RELP_9  num__AGEP  num__WKHP  \n",
       "37042          0.0          0.0          0.0   1.007020   0.582589  \n",
       "13256          0.0          0.0          0.0   0.550606  -0.827109  \n",
       "21131          0.0          0.0          0.0   1.202626   0.582589  \n",
       "71796          0.0          0.0          0.0  -1.079447   0.269323  \n",
       "23655          0.0          0.0          0.0  -0.166617  -0.043943  \n",
       "\n",
       "[5 rows x 681 columns]"
      ]
     },
     "metadata": {},
     "output_type": "display_data"
    },
    {
     "name": "stdout",
     "output_type": "stream",
     "text": [
      "\n",
      "\n",
      "\n",
      "Number of rows in the out-of-domain X_test 10000\n",
      "Top indexes of an X_test in an out-of-domain base flow dataset:  Int64Index([37042, 13256, 21131, 71796, 23655, 53108, 55617, 99220, 44986,\n",
      "            92623, 40149, 97163,  6954,  4311, 90189, 70884, 55836, 45720,\n",
      "            84792, 67476],\n",
      "           dtype='int64')\n",
      "Top indexes of an y_test in an out-of-domain base flow dataset:  Int64Index([37042, 13256, 21131, 71796, 23655, 53108, 55617, 99220, 44986,\n",
      "            92623, 40149, 97163,  6954,  4311, 90189, 70884, 55836, 45720,\n",
      "            84792, 67476],\n",
      "           dtype='int64')\n"
     ]
    },
    {
     "data": {
      "text/html": [
       "<div>\n",
       "<style scoped>\n",
       "    .dataframe tbody tr th:only-of-type {\n",
       "        vertical-align: middle;\n",
       "    }\n",
       "\n",
       "    .dataframe tbody tr th {\n",
       "        vertical-align: top;\n",
       "    }\n",
       "\n",
       "    .dataframe thead th {\n",
       "        text-align: right;\n",
       "    }\n",
       "</style>\n",
       "<table border=\"1\" class=\"dataframe\">\n",
       "  <thead>\n",
       "    <tr style=\"text-align: right;\">\n",
       "      <th></th>\n",
       "      <th>cat__SCHL_1</th>\n",
       "      <th>cat__SCHL_10</th>\n",
       "      <th>cat__SCHL_11</th>\n",
       "      <th>cat__SCHL_12</th>\n",
       "      <th>cat__SCHL_13</th>\n",
       "      <th>cat__SCHL_14</th>\n",
       "      <th>cat__SCHL_15</th>\n",
       "      <th>cat__SCHL_16</th>\n",
       "      <th>cat__SCHL_17</th>\n",
       "      <th>cat__SCHL_18</th>\n",
       "      <th>...</th>\n",
       "      <th>cat__RELP_2</th>\n",
       "      <th>cat__RELP_3</th>\n",
       "      <th>cat__RELP_4</th>\n",
       "      <th>cat__RELP_5</th>\n",
       "      <th>cat__RELP_6</th>\n",
       "      <th>cat__RELP_7</th>\n",
       "      <th>cat__RELP_8</th>\n",
       "      <th>cat__RELP_9</th>\n",
       "      <th>num__AGEP</th>\n",
       "      <th>num__WKHP</th>\n",
       "    </tr>\n",
       "  </thead>\n",
       "  <tbody>\n",
       "    <tr>\n",
       "      <th>37042</th>\n",
       "      <td>0.0</td>\n",
       "      <td>0.0</td>\n",
       "      <td>0.0</td>\n",
       "      <td>0.0</td>\n",
       "      <td>0.0</td>\n",
       "      <td>0.0</td>\n",
       "      <td>0.0</td>\n",
       "      <td>0.0</td>\n",
       "      <td>0.0</td>\n",
       "      <td>1.0</td>\n",
       "      <td>...</td>\n",
       "      <td>1.0</td>\n",
       "      <td>0.0</td>\n",
       "      <td>0.0</td>\n",
       "      <td>0.0</td>\n",
       "      <td>0.0</td>\n",
       "      <td>0.0</td>\n",
       "      <td>0.0</td>\n",
       "      <td>0.0</td>\n",
       "      <td>-1.601063</td>\n",
       "      <td>-2.158491</td>\n",
       "    </tr>\n",
       "    <tr>\n",
       "      <th>13256</th>\n",
       "      <td>0.0</td>\n",
       "      <td>0.0</td>\n",
       "      <td>0.0</td>\n",
       "      <td>0.0</td>\n",
       "      <td>0.0</td>\n",
       "      <td>0.0</td>\n",
       "      <td>0.0</td>\n",
       "      <td>0.0</td>\n",
       "      <td>0.0</td>\n",
       "      <td>0.0</td>\n",
       "      <td>...</td>\n",
       "      <td>0.0</td>\n",
       "      <td>0.0</td>\n",
       "      <td>0.0</td>\n",
       "      <td>0.0</td>\n",
       "      <td>0.0</td>\n",
       "      <td>0.0</td>\n",
       "      <td>0.0</td>\n",
       "      <td>0.0</td>\n",
       "      <td>-1.340255</td>\n",
       "      <td>0.034373</td>\n",
       "    </tr>\n",
       "    <tr>\n",
       "      <th>21131</th>\n",
       "      <td>0.0</td>\n",
       "      <td>0.0</td>\n",
       "      <td>1.0</td>\n",
       "      <td>0.0</td>\n",
       "      <td>0.0</td>\n",
       "      <td>0.0</td>\n",
       "      <td>0.0</td>\n",
       "      <td>0.0</td>\n",
       "      <td>0.0</td>\n",
       "      <td>0.0</td>\n",
       "      <td>...</td>\n",
       "      <td>0.0</td>\n",
       "      <td>0.0</td>\n",
       "      <td>1.0</td>\n",
       "      <td>0.0</td>\n",
       "      <td>0.0</td>\n",
       "      <td>0.0</td>\n",
       "      <td>0.0</td>\n",
       "      <td>0.0</td>\n",
       "      <td>-1.731467</td>\n",
       "      <td>0.112690</td>\n",
       "    </tr>\n",
       "    <tr>\n",
       "      <th>71796</th>\n",
       "      <td>0.0</td>\n",
       "      <td>0.0</td>\n",
       "      <td>0.0</td>\n",
       "      <td>0.0</td>\n",
       "      <td>0.0</td>\n",
       "      <td>0.0</td>\n",
       "      <td>0.0</td>\n",
       "      <td>0.0</td>\n",
       "      <td>0.0</td>\n",
       "      <td>1.0</td>\n",
       "      <td>...</td>\n",
       "      <td>0.0</td>\n",
       "      <td>0.0</td>\n",
       "      <td>0.0</td>\n",
       "      <td>0.0</td>\n",
       "      <td>0.0</td>\n",
       "      <td>0.0</td>\n",
       "      <td>0.0</td>\n",
       "      <td>0.0</td>\n",
       "      <td>-0.818638</td>\n",
       "      <td>0.739222</td>\n",
       "    </tr>\n",
       "    <tr>\n",
       "      <th>23655</th>\n",
       "      <td>0.0</td>\n",
       "      <td>0.0</td>\n",
       "      <td>0.0</td>\n",
       "      <td>0.0</td>\n",
       "      <td>0.0</td>\n",
       "      <td>0.0</td>\n",
       "      <td>0.0</td>\n",
       "      <td>0.0</td>\n",
       "      <td>0.0</td>\n",
       "      <td>0.0</td>\n",
       "      <td>...</td>\n",
       "      <td>0.0</td>\n",
       "      <td>0.0</td>\n",
       "      <td>0.0</td>\n",
       "      <td>0.0</td>\n",
       "      <td>0.0</td>\n",
       "      <td>0.0</td>\n",
       "      <td>0.0</td>\n",
       "      <td>0.0</td>\n",
       "      <td>-1.470659</td>\n",
       "      <td>-0.748793</td>\n",
       "    </tr>\n",
       "  </tbody>\n",
       "</table>\n",
       "<p>5 rows × 681 columns</p>\n",
       "</div>"
      ],
      "text/plain": [
       "       cat__SCHL_1  cat__SCHL_10  cat__SCHL_11  cat__SCHL_12  cat__SCHL_13  \\\n",
       "37042          0.0           0.0           0.0           0.0           0.0   \n",
       "13256          0.0           0.0           0.0           0.0           0.0   \n",
       "21131          0.0           0.0           1.0           0.0           0.0   \n",
       "71796          0.0           0.0           0.0           0.0           0.0   \n",
       "23655          0.0           0.0           0.0           0.0           0.0   \n",
       "\n",
       "       cat__SCHL_14  cat__SCHL_15  cat__SCHL_16  cat__SCHL_17  cat__SCHL_18  \\\n",
       "37042           0.0           0.0           0.0           0.0           1.0   \n",
       "13256           0.0           0.0           0.0           0.0           0.0   \n",
       "21131           0.0           0.0           0.0           0.0           0.0   \n",
       "71796           0.0           0.0           0.0           0.0           1.0   \n",
       "23655           0.0           0.0           0.0           0.0           0.0   \n",
       "\n",
       "       ...  cat__RELP_2  cat__RELP_3  cat__RELP_4  cat__RELP_5  cat__RELP_6  \\\n",
       "37042  ...          1.0          0.0          0.0          0.0          0.0   \n",
       "13256  ...          0.0          0.0          0.0          0.0          0.0   \n",
       "21131  ...          0.0          0.0          1.0          0.0          0.0   \n",
       "71796  ...          0.0          0.0          0.0          0.0          0.0   \n",
       "23655  ...          0.0          0.0          0.0          0.0          0.0   \n",
       "\n",
       "       cat__RELP_7  cat__RELP_8  cat__RELP_9  num__AGEP  num__WKHP  \n",
       "37042          0.0          0.0          0.0  -1.601063  -2.158491  \n",
       "13256          0.0          0.0          0.0  -1.340255   0.034373  \n",
       "21131          0.0          0.0          0.0  -1.731467   0.112690  \n",
       "71796          0.0          0.0          0.0  -0.818638   0.739222  \n",
       "23655          0.0          0.0          0.0  -1.470659  -0.748793  \n",
       "\n",
       "[5 rows x 681 columns]"
      ]
     },
     "metadata": {},
     "output_type": "display_data"
    },
    {
     "name": "stderr",
     "output_type": "stream",
     "text": [
      "2023-11-13 17:50:01 experiment_interface.py INFO    : Models config is loaded from the input file\n",
      "INFO:root:Models config is loaded from the input file\n"
     ]
    },
    {
     "name": "stdout",
     "output_type": "stream",
     "text": [
      "Path for tuned params:  /home/dh3553/projects/fairness-variance/results/out_of_domain_uncertainty_poor_income_LR_10K/tuning_results_Folktables_2018_Income_alpha_0.7_exp_iter_1_20231113__220650.csv\n",
      "LogisticRegression:  {'C': 1, 'class_weight': None, 'dual': False, 'fit_intercept': True, 'intercept_scaling': 1, 'l1_ratio': None, 'max_iter': 1000, 'multi_class': 'auto', 'n_jobs': None, 'penalty': 'l2', 'random_state': 400, 'solver': 'newton-cg', 'tol': 0.0001, 'verbose': 0, 'warm_start': False}\n"
     ]
    },
    {
     "data": {
      "application/vnd.jupyter.widget-view+json": {
       "model_id": "ab7423a565164d42b86913cb31065975",
       "version_major": 2,
       "version_minor": 0
      },
      "text/plain": [
       "Analyze models in one run:   0%|          | 0/1 [00:00<?, ?it/s]"
      ]
     },
     "metadata": {},
     "output_type": "display_data"
    },
    {
     "data": {
      "application/vnd.jupyter.widget-view+json": {
       "model_id": "639dae17f41b4c1c89341607977f9740",
       "version_major": 2,
       "version_minor": 0
      },
      "text/plain": [
       "Classifiers testing by bootstrap:   0%|          | 0/200 [00:00<?, ?it/s]"
      ]
     },
     "metadata": {},
     "output_type": "display_data"
    }
   ],
   "source": [
    "run_exp_iter_with_disparate_impact_and_mult_sets(data_loader=exp_iter_data_loader,\n",
    "                                                 extra_data_loaders=exp_extra_data_loaders,\n",
    "                                                 experiment_seed=experiment_seed,\n",
    "                                                 test_set_fraction=TEST_SET_FRACTION,\n",
    "                                                 db_writer_func=db_writer_func,\n",
    "                                                 fair_intervention_params_lst=FAIR_INTERVENTION_PARAMS_LST,\n",
    "                                                 models_params_for_tuning=models_params_for_tuning,\n",
    "                                                 metrics_computation_config=metrics_computation_config,\n",
    "                                                 custom_table_fields_dct=custom_table_fields_dct,\n",
    "#                                                  with_tuning=True,\n",
    "                                                 with_tuning=False,\n",
    "                                                 tuned_params_df_paths=tuned_params_df_paths,\n",
    "                                                 save_results_dir_path=SAVE_RESULTS_DIR_PATH,\n",
    "                                                 train_set_subsample_size=TRAIN_SET_SUBSAMPLE_SIZE,\n",
    "                                                 verbose=True)"
   ]
  },
  {
   "cell_type": "markdown",
   "id": "9a34ef3a",
   "metadata": {},
   "source": [
    "### Experiment iteration 5"
   ]
  },
  {
   "cell_type": "code",
   "execution_count": null,
   "id": "7637a5e6",
   "metadata": {},
   "outputs": [],
   "source": [
    "# Configs for an experiment iteration\n",
    "exp_iter_num = 5\n",
    "experiment_seed = EXPERIMENT_SEEDS[exp_iter_num - 1]\n",
    "tuned_params_filenames = [\n",
    "    'tuning_results_Folktables_2018_Income_alpha_0.7_exp_iter_1_20231113__220650.csv'\n",
    "]\n",
    "tuned_params_df_paths = [os.path.join(ROOT_DIR, 'results', EXPERIMENT_NAME, tuned_params_filename)\n",
    "                         for tuned_params_filename in tuned_params_filenames]\n",
    "custom_table_fields_dct['experiment_iteration'] = f'Exp_iter_{exp_iter_num}'\n",
    "\n",
    "exp_iter_data_loader = copy.deepcopy(data_loader_poor)  # Add deepcopy to avoid data leakage\n",
    "exp_extra_data_loaders = copy.deepcopy(extra_data_loaders)  # Add deepcopy to avoid data leakage\n",
    "models_params_for_tuning = get_folktables_employment_models_params_for_tuning(experiment_seed)"
   ]
  },
  {
   "cell_type": "code",
   "execution_count": null,
   "id": "82c586f4",
   "metadata": {},
   "outputs": [],
   "source": [
    "run_exp_iter_with_disparate_impact_and_mult_sets(data_loader=exp_iter_data_loader,\n",
    "                                                 extra_data_loaders=exp_extra_data_loaders,\n",
    "                                                 experiment_seed=experiment_seed,\n",
    "                                                 test_set_fraction=TEST_SET_FRACTION,\n",
    "                                                 db_writer_func=db_writer_func,\n",
    "                                                 fair_intervention_params_lst=FAIR_INTERVENTION_PARAMS_LST,\n",
    "                                                 models_params_for_tuning=models_params_for_tuning,\n",
    "                                                 metrics_computation_config=metrics_computation_config,\n",
    "                                                 custom_table_fields_dct=custom_table_fields_dct,\n",
    "#                                                  with_tuning=True,\n",
    "                                                 with_tuning=False,\n",
    "                                                 tuned_params_df_paths=tuned_params_df_paths,\n",
    "                                                 save_results_dir_path=SAVE_RESULTS_DIR_PATH,\n",
    "                                                 train_set_subsample_size=TRAIN_SET_SUBSAMPLE_SIZE,\n",
    "                                                 verbose=True)"
   ]
  },
  {
   "cell_type": "markdown",
   "id": "ed520cfa",
   "metadata": {},
   "source": [
    "### Experiment iteration 6"
   ]
  },
  {
   "cell_type": "code",
   "execution_count": null,
   "id": "530149fe",
   "metadata": {},
   "outputs": [],
   "source": [
    "# Configs for an experiment iteration\n",
    "exp_iter_num = 6\n",
    "experiment_seed = EXPERIMENT_SEEDS[exp_iter_num - 1]\n",
    "tuned_params_filenames = [\n",
    "    'tuning_results_Folktables_2018_Income_alpha_0.7_exp_iter_1_20231113__220650.csv'\n",
    "]\n",
    "tuned_params_df_paths = [os.path.join(ROOT_DIR, 'results', EXPERIMENT_NAME, tuned_params_filename)\n",
    "                         for tuned_params_filename in tuned_params_filenames]\n",
    "custom_table_fields_dct['experiment_iteration'] = f'Exp_iter_{exp_iter_num}'\n",
    "\n",
    "exp_iter_data_loader = copy.deepcopy(data_loader_poor)  # Add deepcopy to avoid data leakage\n",
    "exp_extra_data_loaders = copy.deepcopy(extra_data_loaders)  # Add deepcopy to avoid data leakage\n",
    "models_params_for_tuning = get_folktables_employment_models_params_for_tuning(experiment_seed)"
   ]
  },
  {
   "cell_type": "code",
   "execution_count": 21,
   "id": "05e98fc9",
   "metadata": {
    "ExecuteTime": {
     "end_time": "2023-10-22T22:49:08.358908Z",
     "start_time": "2023-10-22T22:49:08.356546Z"
    }
   },
   "outputs": [],
   "source": [
    "run_exp_iter_with_disparate_impact_and_mult_sets(data_loader=exp_iter_data_loader,\n",
    "                                                 extra_data_loaders=exp_extra_data_loaders,\n",
    "                                                 experiment_seed=experiment_seed,\n",
    "                                                 test_set_fraction=TEST_SET_FRACTION,\n",
    "                                                 db_writer_func=db_writer_func,\n",
    "                                                 fair_intervention_params_lst=FAIR_INTERVENTION_PARAMS_LST,\n",
    "                                                 models_params_for_tuning=models_params_for_tuning,\n",
    "                                                 metrics_computation_config=metrics_computation_config,\n",
    "                                                 custom_table_fields_dct=custom_table_fields_dct,\n",
    "#                                                  with_tuning=True,\n",
    "                                                 with_tuning=False,\n",
    "                                                 tuned_params_df_paths=tuned_params_df_paths,\n",
    "                                                 save_results_dir_path=SAVE_RESULTS_DIR_PATH,\n",
    "                                                 train_set_subsample_size=TRAIN_SET_SUBSAMPLE_SIZE,\n",
    "                                                 verbose=True)"
   ]
  },
  {
   "cell_type": "code",
   "execution_count": null,
   "id": "89574a28",
   "metadata": {},
   "outputs": [],
   "source": []
  }
 ],
 "metadata": {
  "kernelspec": {
   "display_name": "Python 3",
   "language": "python",
   "name": "python3"
  },
  "language_info": {
   "codemirror_mode": {
    "name": "ipython",
    "version": 3
   },
   "file_extension": ".py",
   "mimetype": "text/x-python",
   "name": "python",
   "nbconvert_exporter": "python",
   "pygments_lexer": "ipython3",
   "version": "3.8.5"
  }
 },
 "nbformat": 4,
 "nbformat_minor": 5
}
