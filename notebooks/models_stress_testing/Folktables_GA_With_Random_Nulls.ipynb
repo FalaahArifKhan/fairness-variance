{
 "cells": [
  {
   "cell_type": "code",
   "execution_count": 1,
   "id": "bee4de34",
   "metadata": {
    "ExecuteTime": {
     "end_time": "2023-04-22T17:06:09.249675Z",
     "start_time": "2023-04-22T17:06:09.233480Z"
    }
   },
   "outputs": [],
   "source": [
    "# !pip install -r ../exp_requirements.txt"
   ]
  },
  {
   "cell_type": "code",
   "execution_count": 2,
   "id": "1d159721",
   "metadata": {
    "ExecuteTime": {
     "end_time": "2023-04-22T17:06:09.276223Z",
     "start_time": "2023-04-22T17:06:09.251393Z"
    }
   },
   "outputs": [],
   "source": [
    "# !pip uninstall virny -y"
   ]
  },
  {
   "cell_type": "code",
   "execution_count": 3,
   "id": "1aba3b9e",
   "metadata": {
    "ExecuteTime": {
     "end_time": "2023-04-22T17:06:09.293739Z",
     "start_time": "2023-04-22T17:06:09.271221Z"
    }
   },
   "outputs": [],
   "source": [
    "# Install using an HTTP link\n",
    "# !pip install git+https://github.com/DataResponsibly/Virny.git@development\n",
    "\n",
    "# Install using an SSH link\n",
    "# !pip install git+ssh://git@github.com/DataResponsibly/Virny.git@development"
   ]
  },
  {
   "cell_type": "code",
   "execution_count": 4,
   "id": "248cbed8",
   "metadata": {
    "ExecuteTime": {
     "start_time": "2023-04-23T13:30:19.866407Z",
     "end_time": "2023-04-23T13:30:20.281401Z"
    }
   },
   "outputs": [],
   "source": [
    "%matplotlib inline\n",
    "%load_ext autoreload\n",
    "%autoreload 2"
   ]
  },
  {
   "cell_type": "code",
   "execution_count": 5,
   "id": "7ec6cd08",
   "metadata": {
    "ExecuteTime": {
     "start_time": "2023-04-23T13:30:20.282567Z",
     "end_time": "2023-04-23T13:30:20.290644Z"
    }
   },
   "outputs": [],
   "source": [
    "import os\n",
    "import warnings\n",
    "warnings.filterwarnings('ignore')\n",
    "os.environ[\"PYTHONWARNINGS\"] = \"ignore\""
   ]
  },
  {
   "cell_type": "markdown",
   "id": "a578f2ab",
   "metadata": {},
   "source": [
    "# Folktables GA Dataset With Random Nulls"
   ]
  },
  {
   "cell_type": "markdown",
   "id": "606df34d",
   "metadata": {},
   "source": [
    "## Import dependencies"
   ]
  },
  {
   "cell_type": "code",
   "execution_count": 6,
   "id": "7a9241de",
   "metadata": {
    "ExecuteTime": {
     "start_time": "2023-04-23T13:30:20.293249Z",
     "end_time": "2023-04-23T13:30:21.590617Z"
    }
   },
   "outputs": [],
   "source": [
    "import os\n",
    "import copy\n",
    "\n",
    "from xgboost import XGBClassifier\n",
    "from sklearn.tree import DecisionTreeClassifier\n",
    "from sklearn.linear_model import LogisticRegression\n",
    "from sklearn.ensemble import RandomForestClassifier\n",
    "from sklearn.neighbors import KNeighborsClassifier\n",
    "from sklearn.neural_network import MLPClassifier\n",
    "\n",
    "from virny.utils.custom_initializers import create_config_obj, create_models_metrics_dct_from_database_df\n",
    "from virny.datasets.data_loaders import ACSEmploymentDataset\n",
    "from source.user_interfaces.experiment_interface import run_exp_iter_with_models_stress_testing\n",
    "from source.error_injectors.random_nulls_injector_v2 import RandomNullsInjectorV2\n",
    "from source.utils.custom_initializers import create_experiment_data_loader\n",
    "from source.utils.db_functions import read_model_metric_dfs_from_db\n",
    "from source.preprocessing.basic_preprocessing import get_null_imputer_preprocessor\n",
    "\n",
    "from configs.constants import NUM_METRICS_COMPUTATION_RUNS, EXPERIMENT_SEEDS, TEST_SET_FRACTION"
   ]
  },
  {
   "cell_type": "markdown",
   "id": "75699f5f",
   "metadata": {},
   "source": [
    "## Initialize input variables for the experiment"
   ]
  },
  {
   "cell_type": "code",
   "execution_count": 7,
   "id": "95768787",
   "metadata": {
    "ExecuteTime": {
     "start_time": "2023-04-23T13:30:21.571542Z",
     "end_time": "2023-04-23T13:30:21.603942Z"
    }
   },
   "outputs": [],
   "source": [
    "ROOT_DIR = os.path.join(os.getcwd(), \"..\", \"..\")\n",
    "EXPERIMENT_NAME = 'stress_testing_nulls'\n",
    "DB_COLLECTION_NAME = f'{EXPERIMENT_NAME}_results'\n",
    "SAVE_RESULTS_DIR_PATH = os.path.join(ROOT_DIR, 'results', EXPERIMENT_NAME)\n",
    "COLUMNS_TO_TRANSFORM = ['SCHL', 'MAR', 'DIS', 'ESP', 'DEAR', 'DEYE', 'DREM', 'MIL']\n",
    "INJECTOR_CONFIG_LST = [0.05, 0.1, 0.2, 0.3, 0.4, 0.5]"
   ]
  },
  {
   "cell_type": "code",
   "execution_count": 8,
   "id": "e2eea22a",
   "metadata": {
    "ExecuteTime": {
     "start_time": "2023-04-23T13:30:21.600868Z",
     "end_time": "2023-04-23T13:30:24.191398Z"
    }
   },
   "outputs": [
    {
     "data": {
      "text/plain": "  MAR MIL ESP MIG DREM NATIVITY DIS DEAR DEYE SEX RAC1P RELP CIT ANC SCHL  \\\n0   1   4   0   1    2        1   2    2    2   2     1    1   1   1   21   \n1   5   4   0   3    2        2   2    2    2   2     1   12   5   2   21   \n2   2   4   0   1    2        1   1    2    1   2     1   16   1   1   19   \n3   1   4   0   1    2        1   2    2    2   2     2    0   1   1   16   \n4   1   2   0   1    1        1   1    1    2   1     1    0   1   1   21   \n\n   AGEP  \n0    31  \n1    22  \n2    88  \n3    71  \n4    44  ",
      "text/html": "<div>\n<style scoped>\n    .dataframe tbody tr th:only-of-type {\n        vertical-align: middle;\n    }\n\n    .dataframe tbody tr th {\n        vertical-align: top;\n    }\n\n    .dataframe thead th {\n        text-align: right;\n    }\n</style>\n<table border=\"1\" class=\"dataframe\">\n  <thead>\n    <tr style=\"text-align: right;\">\n      <th></th>\n      <th>MAR</th>\n      <th>MIL</th>\n      <th>ESP</th>\n      <th>MIG</th>\n      <th>DREM</th>\n      <th>NATIVITY</th>\n      <th>DIS</th>\n      <th>DEAR</th>\n      <th>DEYE</th>\n      <th>SEX</th>\n      <th>RAC1P</th>\n      <th>RELP</th>\n      <th>CIT</th>\n      <th>ANC</th>\n      <th>SCHL</th>\n      <th>AGEP</th>\n    </tr>\n  </thead>\n  <tbody>\n    <tr>\n      <th>0</th>\n      <td>1</td>\n      <td>4</td>\n      <td>0</td>\n      <td>1</td>\n      <td>2</td>\n      <td>1</td>\n      <td>2</td>\n      <td>2</td>\n      <td>2</td>\n      <td>2</td>\n      <td>1</td>\n      <td>1</td>\n      <td>1</td>\n      <td>1</td>\n      <td>21</td>\n      <td>31</td>\n    </tr>\n    <tr>\n      <th>1</th>\n      <td>5</td>\n      <td>4</td>\n      <td>0</td>\n      <td>3</td>\n      <td>2</td>\n      <td>2</td>\n      <td>2</td>\n      <td>2</td>\n      <td>2</td>\n      <td>2</td>\n      <td>1</td>\n      <td>12</td>\n      <td>5</td>\n      <td>2</td>\n      <td>21</td>\n      <td>22</td>\n    </tr>\n    <tr>\n      <th>2</th>\n      <td>2</td>\n      <td>4</td>\n      <td>0</td>\n      <td>1</td>\n      <td>2</td>\n      <td>1</td>\n      <td>1</td>\n      <td>2</td>\n      <td>1</td>\n      <td>2</td>\n      <td>1</td>\n      <td>16</td>\n      <td>1</td>\n      <td>1</td>\n      <td>19</td>\n      <td>88</td>\n    </tr>\n    <tr>\n      <th>3</th>\n      <td>1</td>\n      <td>4</td>\n      <td>0</td>\n      <td>1</td>\n      <td>2</td>\n      <td>1</td>\n      <td>2</td>\n      <td>2</td>\n      <td>2</td>\n      <td>2</td>\n      <td>2</td>\n      <td>0</td>\n      <td>1</td>\n      <td>1</td>\n      <td>16</td>\n      <td>71</td>\n    </tr>\n    <tr>\n      <th>4</th>\n      <td>1</td>\n      <td>2</td>\n      <td>0</td>\n      <td>1</td>\n      <td>1</td>\n      <td>1</td>\n      <td>1</td>\n      <td>1</td>\n      <td>2</td>\n      <td>1</td>\n      <td>1</td>\n      <td>0</td>\n      <td>1</td>\n      <td>1</td>\n      <td>21</td>\n      <td>44</td>\n    </tr>\n  </tbody>\n</table>\n</div>"
     },
     "execution_count": 8,
     "metadata": {},
     "output_type": "execute_result"
    }
   ],
   "source": [
    "data_loader = ACSEmploymentDataset(state=['GA'], year=2018, with_nulls=False, subsample_size=50_000, subsample_seed=42)\n",
    "# data_loader = ACSEmploymentDataset(state=['GA'], year=2018, with_nulls=False)\n",
    "data_loader.X_data.head()"
   ]
  },
  {
   "cell_type": "code",
   "execution_count": 9,
   "id": "b4745bc8",
   "metadata": {
    "ExecuteTime": {
     "start_time": "2023-04-23T13:30:24.183137Z",
     "end_time": "2023-04-23T13:30:24.341989Z"
    }
   },
   "outputs": [
    {
     "data": {
      "text/plain": "MAR         0\nMIL         0\nESP         0\nMIG         0\nDREM        0\nNATIVITY    0\nDIS         0\nDEAR        0\nDEYE        0\nSEX         0\nRAC1P       0\nRELP        0\nCIT         0\nANC         0\nSCHL        0\nAGEP        0\ndtype: int64"
     },
     "execution_count": 9,
     "metadata": {},
     "output_type": "execute_result"
    }
   ],
   "source": [
    "data_loader.full_df.isna().sum()"
   ]
  },
  {
   "cell_type": "markdown",
   "id": "b08cc201",
   "metadata": {},
   "source": [
    "### Define a db writer and custom fields to insert into your database"
   ]
  },
  {
   "cell_type": "code",
   "execution_count": 10,
   "id": "1ed6ef1f",
   "metadata": {
    "ExecuteTime": {
     "start_time": "2023-04-23T13:30:24.304924Z",
     "end_time": "2023-04-23T13:30:24.367148Z"
    }
   },
   "outputs": [],
   "source": [
    "from source.utils.db_functions import connect_to_mongodb\n",
    "\n",
    "client, collection_obj, db_writer_func = connect_to_mongodb(DB_COLLECTION_NAME)"
   ]
  },
  {
   "cell_type": "code",
   "execution_count": 11,
   "id": "b9d110e2",
   "metadata": {
    "ExecuteTime": {
     "start_time": "2023-04-23T13:30:24.351860Z",
     "end_time": "2023-04-23T13:30:24.426028Z"
    }
   },
   "outputs": [],
   "source": [
    "custom_table_fields_dct = {\n",
    "    'error_type': 'Random Nulls',\n",
    "    'error_percentages': '0%,5%,10%,20%,30%,40%,50%',\n",
    "    'preprocessing_technique': 'cat: mode_trimmed_0.3, num: median',\n",
    "    # 'preprocessing_technique': 'cat: mode, num: median',\n",
    "}"
   ]
  },
  {
   "cell_type": "code",
   "execution_count": 12,
   "id": "bd3d755b",
   "metadata": {
    "ExecuteTime": {
     "start_time": "2023-04-23T13:30:24.396152Z",
     "end_time": "2023-04-23T13:30:24.444377Z"
    }
   },
   "outputs": [
    {
     "name": "stdout",
     "output_type": "stream",
     "text": [
      "Current session uuid:  c53d250b-5ba9-4d91-a444-ed7eb7919de5\n"
     ]
    }
   ],
   "source": [
    "import uuid\n",
    "\n",
    "custom_table_fields_dct['session_uuid'] = 'c53d250b-5ba9-4d91-a444-ed7eb7919de5'\n",
    "# custom_table_fields_dct['session_uuid'] = str(uuid.uuid4())\n",
    "print('Current session uuid: ', custom_table_fields_dct['session_uuid'])"
   ]
  },
  {
   "cell_type": "markdown",
   "id": "57c0a138",
   "metadata": {},
   "source": [
    "### Create a metrics computation config object"
   ]
  },
  {
   "cell_type": "code",
   "execution_count": 13,
   "id": "e66a4013",
   "metadata": {
    "ExecuteTime": {
     "start_time": "2023-04-23T13:30:24.410029Z",
     "end_time": "2023-04-23T13:30:24.445854Z"
    }
   },
   "outputs": [],
   "source": [
    "config_yaml_path = 'experiment_config.yaml'\n",
    "age_range = [i for i in range(30, 41)]\n",
    "config_yaml_content = \\\n",
    "f\"\"\"\n",
    "dataset_name: Folktables_GA_2018\n",
    "bootstrap_fraction: 0.8\n",
    "# n_estimators: 50\n",
    "n_estimators: 10\n",
    "# num_runs: {NUM_METRICS_COMPUTATION_RUNS}\n",
    "num_runs: 2\n",
    "sensitive_attributes_dct: {{'SEX': '1', 'RAC1P': '1', 'AGEP': {age_range}, 'SEX & RAC1P & AGEP': None}}\n",
    "\"\"\"\n",
    "\n",
    "with open(config_yaml_path, 'w', encoding='utf-8') as f:\n",
    "    f.write(config_yaml_content)"
   ]
  },
  {
   "cell_type": "code",
   "execution_count": 14,
   "id": "62dfa85c",
   "metadata": {
    "ExecuteTime": {
     "start_time": "2023-04-23T13:30:24.436377Z",
     "end_time": "2023-04-23T13:30:24.514656Z"
    }
   },
   "outputs": [],
   "source": [
    "metrics_computation_config = create_config_obj(config_yaml_path=config_yaml_path)"
   ]
  },
  {
   "cell_type": "markdown",
   "id": "1a1f5ef2",
   "metadata": {},
   "source": [
    "### Define tuning parameter for models"
   ]
  },
  {
   "cell_type": "code",
   "execution_count": 15,
   "id": "41fe64fe",
   "metadata": {
    "ExecuteTime": {
     "start_time": "2023-04-23T13:30:24.484014Z",
     "end_time": "2023-04-23T13:30:24.532457Z"
    }
   },
   "outputs": [],
   "source": [
    "def get_models_params_for_tuning(models_tuning_seed):\n",
    "    return {\n",
    "        'DecisionTreeClassifier': {\n",
    "            'model': DecisionTreeClassifier(random_state=models_tuning_seed),\n",
    "            'params': {\n",
    "                \"max_depth\": [20, 30],\n",
    "                \"min_samples_split\" : [0.1],\n",
    "                \"max_features\": ['sqrt'],\n",
    "                \"criterion\": [\"gini\", \"entropy\"]\n",
    "            }\n",
    "        },\n",
    "        'LogisticRegression': {\n",
    "            'model': LogisticRegression(random_state=models_tuning_seed),\n",
    "            'params': {\n",
    "                'penalty': ['l2'],\n",
    "                'C' : [0.0001, 0.1, 1, 100],\n",
    "                'solver': ['newton-cg', 'lbfgs'],\n",
    "                'max_iter': [250],\n",
    "            }\n",
    "        },\n",
    "        # 'RandomForestClassifier': {\n",
    "        #     'model': RandomForestClassifier(random_state=models_tuning_seed),\n",
    "        #     'params': {\n",
    "        #         \"max_depth\": [6, 10],\n",
    "        #         \"min_samples_leaf\": [1],\n",
    "        #         \"n_estimators\": [50, 100],\n",
    "        #         \"max_features\": [0.6]\n",
    "        #     }\n",
    "        # },\n",
    "        # 'XGBClassifier': {\n",
    "        #     'model': XGBClassifier(random_state=models_tuning_seed, verbosity=0),\n",
    "        #     'params': {\n",
    "        #         'learning_rate': [0.1],\n",
    "        #         'n_estimators': [200],\n",
    "        #         'max_depth': [5, 7],\n",
    "        #         'lambda':  [10, 100]\n",
    "        #     }\n",
    "        # },\n",
    "        # 'KNeighborsClassifier': {\n",
    "        #     'model': KNeighborsClassifier(),\n",
    "        #     'params': {\n",
    "        #         'n_neighbors' : [5, 7, 9, 11, 13, 15, 25],\n",
    "        #         'weights' : ['uniform', 'distance'],\n",
    "        #         'metric' : ['minkowski', 'euclidean', 'manhattan']\n",
    "        #     }\n",
    "        # },\n",
    "        # 'MLPClassifier': {\n",
    "        #     'model': MLPClassifier(random_state=models_tuning_seed),\n",
    "        #     'params': {\n",
    "        #         'hidden_layer_sizes':[(100,), (100,100,), (100,50,100,)],\n",
    "        #         'activation': ['logistic', 'tanh', 'relu'],\n",
    "        #         'solver': ['lbfgs', 'sgd', 'adam'],\n",
    "        #         'learning_rate': ['constant', 'invscaling', 'adaptive']\n",
    "        #     }\n",
    "        # }\n",
    "    }"
   ]
  },
  {
   "cell_type": "markdown",
   "id": "e9399ecb",
   "metadata": {},
   "source": [
    "## Run experiments"
   ]
  },
  {
   "cell_type": "markdown",
   "id": "647d5a60",
   "metadata": {},
   "source": [
    "### Experiment iteration 1"
   ]
  },
  {
   "cell_type": "code",
   "execution_count": 16,
   "id": "7beab8da",
   "metadata": {
    "ExecuteTime": {
     "start_time": "2023-04-23T13:36:02.820440Z",
     "end_time": "2023-04-23T13:36:02.906869Z"
    }
   },
   "outputs": [],
   "source": [
    "# Configs for an experiment iteration\n",
    "exp_iter_num = 1\n",
    "experiment_seed = EXPERIMENT_SEEDS[exp_iter_num - 1]\n",
    "custom_table_fields_dct['experiment_iteration'] = f'Exp_iter_{exp_iter_num}'\n",
    "\n",
    "error_injector = RandomNullsInjectorV2(experiment_seed, columns_to_transform=COLUMNS_TO_TRANSFORM, row_idx_nulls_percentage=0.0)\n",
    "models_params_for_tuning = get_models_params_for_tuning(experiment_seed)\n",
    "# Create a transformed data loader\n",
    "exp_iter_data_loader = create_experiment_data_loader(data_loader)\n",
    "exp_iter_data_loader.columns_with_nulls = COLUMNS_TO_TRANSFORM\n",
    "preprocessor = get_null_imputer_preprocessor(exp_iter_data_loader, categorical_trimmed=0.3)"
   ]
  },
  {
   "cell_type": "code",
   "execution_count": 17,
   "id": "2326c129",
   "metadata": {
    "ExecuteTime": {
     "end_time": "2023-04-22T17:12:08.249600Z",
     "start_time": "2023-04-22T17:06:12.324268Z"
    }
   },
   "outputs": [
    {
     "name": "stderr",
     "output_type": "stream",
     "text": [
      "2023-04-23 14:26:22 experiment_interface.py INFO    : Start an experiment iteration for the following custom params:\n"
     ]
    },
    {
     "name": "stdout",
     "output_type": "stream",
     "text": [
      "{'dataset_split_seed': 100,\n",
      " 'error_percentages': '0%,5%,10%,20%,30%,40%,50%',\n",
      " 'error_type': 'Random Nulls',\n",
      " 'experiment_iteration': 'Exp_iter_1',\n",
      " 'injector_config_lst': '[0.05, 0.1, 0.2, 0.3, 0.4, 0.5]',\n",
      " 'model_init_seed': 100,\n",
      " 'preprocessing_technique': 'cat: mode_trimmed_0.3, num: median',\n",
      " 'session_uuid': 'c53d250b-5ba9-4d91-a444-ed7eb7919de5'}\n",
      "\n",
      "\n"
     ]
    },
    {
     "name": "stderr",
     "output_type": "stream",
     "text": [
      "2023-04-23 14:26:23 experiment_interface.py INFO    : The dataset is preprocessed\n"
     ]
    },
    {
     "name": "stdout",
     "output_type": "stream",
     "text": [
      "Top indexes of an X_test in a base flow dataset:  Int64Index([ 4253, 30076, 48047,  1666, 30740, 13830, 34366,  5893, 45012,\n",
      "            20187, 40178,  7958, 32251,  8493,  8752,  1984,  8898, 10170,\n",
      "            20852, 19844],\n",
      "           dtype='int64')\n",
      "Top indexes of an y_test in a base flow dataset:  Int64Index([ 4253, 30076, 48047,  1666, 30740, 13830, 34366,  5893, 45012,\n",
      "            20187, 40178,  7958, 32251,  8493,  8752,  1984,  8898, 10170,\n",
      "            20852, 19844],\n",
      "           dtype='int64')\n",
      "2023/04/23, 14:26:24: Tuning DecisionTreeClassifier...\n",
      "Fitting 3 folds for each of 4 candidates, totalling 12 fits\n",
      "2023/04/23, 14:26:26: Tuning for DecisionTreeClassifier is finished [F1 score = 0.7484840084683017, Accuracy = 0.7614000000000001]\n",
      "\n",
      "2023/04/23, 14:26:26: Tuning LogisticRegression...\n",
      "Fitting 3 folds for each of 8 candidates, totalling 24 fits\n"
     ]
    },
    {
     "name": "stderr",
     "output_type": "stream",
     "text": [
      "2023-04-23 14:27:13 experiment_interface.py INFO    : Models are tuned and saved to a file\n"
     ]
    },
    {
     "name": "stdout",
     "output_type": "stream",
     "text": [
      "2023/04/23, 14:27:13: Tuning for LogisticRegression is finished [F1 score = 0.7590352262668864, Accuracy = 0.7673333333333333]\n",
      "\n"
     ]
    },
    {
     "data": {
      "text/plain": "Multiple runs progress:   0%|          | 0/2 [00:00<?, ?it/s]",
      "application/vnd.jupyter.widget-view+json": {
       "version_major": 2,
       "version_minor": 0,
       "model_id": "c34596bac45742498695290ea69cc383"
      }
     },
     "metadata": {},
     "output_type": "display_data"
    },
    {
     "data": {
      "text/plain": "Analyze models in one run:   0%|          | 0/2 [00:00<?, ?it/s]",
      "application/vnd.jupyter.widget-view+json": {
       "version_major": 2,
       "version_minor": 0,
       "model_id": "830493fab17146fc8ed37c289b5cea1e"
      }
     },
     "metadata": {},
     "output_type": "display_data"
    },
    {
     "data": {
      "text/plain": "Classifiers testing by bootstrap:   0%|          | 0/10 [00:00<?, ?it/s]",
      "application/vnd.jupyter.widget-view+json": {
       "version_major": 2,
       "version_minor": 0,
       "model_id": "ffa60969f9c54684aa3ae716c057ec5c"
      }
     },
     "metadata": {},
     "output_type": "display_data"
    },
    {
     "data": {
      "text/plain": "Classifiers testing by bootstrap:   0%|          | 0/10 [00:00<?, ?it/s]",
      "application/vnd.jupyter.widget-view+json": {
       "version_major": 2,
       "version_minor": 0,
       "model_id": "6df928b092624fd2a1eb1c4284210ad4"
      }
     },
     "metadata": {},
     "output_type": "display_data"
    },
    {
     "data": {
      "text/plain": "Analyze models in one run:   0%|          | 0/2 [00:00<?, ?it/s]",
      "application/vnd.jupyter.widget-view+json": {
       "version_major": 2,
       "version_minor": 0,
       "model_id": "633ff3b94a34405693d99cc4bda57aaa"
      }
     },
     "metadata": {},
     "output_type": "display_data"
    },
    {
     "data": {
      "text/plain": "Classifiers testing by bootstrap:   0%|          | 0/10 [00:00<?, ?it/s]",
      "application/vnd.jupyter.widget-view+json": {
       "version_major": 2,
       "version_minor": 0,
       "model_id": "943df5609d8e4234b27ba7b4f06f51cf"
      }
     },
     "metadata": {},
     "output_type": "display_data"
    },
    {
     "data": {
      "text/plain": "Classifiers testing by bootstrap:   0%|          | 0/10 [00:00<?, ?it/s]",
      "application/vnd.jupyter.widget-view+json": {
       "version_major": 2,
       "version_minor": 0,
       "model_id": "f0fe6eda06aa4ebca929a66da63704f2"
      }
     },
     "metadata": {},
     "output_type": "display_data"
    }
   ],
   "source": [
    "run_exp_iter_with_models_stress_testing(data_loader=exp_iter_data_loader,\n",
    "                                        experiment_seed=experiment_seed,\n",
    "                                        test_set_fraction=TEST_SET_FRACTION,\n",
    "                                        db_writer_func=db_writer_func,\n",
    "                                        error_injector=error_injector,\n",
    "                                        injector_config_lst=INJECTOR_CONFIG_LST,\n",
    "                                        preprocessor=preprocessor,\n",
    "                                        models_params_for_tuning=models_params_for_tuning,\n",
    "                                        metrics_computation_config=metrics_computation_config,\n",
    "                                        custom_table_fields_dct=custom_table_fields_dct,\n",
    "                                        with_tuning=True,\n",
    "                                        save_results_dir_path=SAVE_RESULTS_DIR_PATH,\n",
    "                                        tuned_params_df_path=None,\n",
    "                                        verbose=True)"
   ]
  },
  {
   "cell_type": "markdown",
   "id": "37ea60bb",
   "metadata": {},
   "source": [
    "### Experiment iteration 2"
   ]
  },
  {
   "cell_type": "code",
   "execution_count": 31,
   "outputs": [],
   "source": [
    "# Configs for an experiment iteration\n",
    "exp_iter_num = 2\n",
    "experiment_seed = EXPERIMENT_SEEDS[exp_iter_num - 1]\n",
    "custom_table_fields_dct['experiment_iteration'] = f'Exp_iter_{exp_iter_num}'\n",
    "\n",
    "error_injector = RandomNullsInjectorV2(experiment_seed, columns_to_transform=COLUMNS_TO_TRANSFORM, row_idx_nulls_percentage=0.0)\n",
    "models_params_for_tuning = get_models_params_for_tuning(experiment_seed)\n",
    "# Create a transformed data loader\n",
    "exp_iter_data_loader = create_experiment_data_loader(data_loader)\n",
    "preprocessor = get_null_imputer_preprocessor(exp_iter_data_loader)"
   ],
   "metadata": {
    "collapsed": false,
    "ExecuteTime": {
     "start_time": "2023-04-23T01:08:20.911126Z",
     "end_time": "2023-04-23T01:08:20.956217Z"
    }
   }
  },
  {
   "cell_type": "code",
   "execution_count": 32,
   "id": "b4f966c9",
   "metadata": {
    "ExecuteTime": {
     "start_time": "2023-04-23T01:08:21.665188Z",
     "end_time": "2023-04-23T01:13:11.201499Z"
    }
   },
   "outputs": [
    {
     "name": "stderr",
     "output_type": "stream",
     "text": [
      "2023-04-23 01:08:21 experiment_interface.py INFO    : Start an experiment iteration for the following custom params:\n"
     ]
    },
    {
     "name": "stdout",
     "output_type": "stream",
     "text": [
      "{'dataset_split_seed': 200,\n",
      " 'error_percentages': '0%,5%,10%,20%,30%,40%,50%',\n",
      " 'error_type': 'Random Nulls',\n",
      " 'experiment_iteration': 'Exp_iter_2',\n",
      " 'injector_config_lst': '[0.05, 0.1, 0.2, 0.3, 0.4, 0.5]',\n",
      " 'model_init_seed': 200,\n",
      " 'preprocessing_technique': 'cat: mode, num: median',\n",
      " 'session_uuid': 'c53d250b-5ba9-4d91-a444-ed7eb7919de5'}\n",
      "\n",
      "\n"
     ]
    },
    {
     "name": "stderr",
     "output_type": "stream",
     "text": [
      "2023-04-23 01:08:22 experiment_interface.py INFO    : The dataset is preprocessed\n"
     ]
    },
    {
     "name": "stdout",
     "output_type": "stream",
     "text": [
      "Top indexes of an X_test in a base flow dataset:  Int64Index([20518, 20570, 38530, 39945,  1713, 19318, 15625, 36291, 26020,\n",
      "            18954,  7039, 40519, 42300,  5620, 39590, 39048, 33565, 18881,\n",
      "            43190,  5750],\n",
      "           dtype='int64')\n",
      "Top indexes of an y_test in a base flow dataset:  Int64Index([20518, 20570, 38530, 39945,  1713, 19318, 15625, 36291, 26020,\n",
      "            18954,  7039, 40519, 42300,  5620, 39590, 39048, 33565, 18881,\n",
      "            43190,  5750],\n",
      "           dtype='int64')\n",
      "2023/04/23, 01:08:22: Tuning DecisionTreeClassifier...\n",
      "Fitting 3 folds for each of 4 candidates, totalling 12 fits\n",
      "2023/04/23, 01:08:24: Tuning for DecisionTreeClassifier is finished [F1 score = 0.7371658555975907, Accuracy = 0.7524000000000001]\n",
      "\n",
      "2023/04/23, 01:08:24: Tuning LogisticRegression...\n",
      "Fitting 3 folds for each of 8 candidates, totalling 24 fits\n"
     ]
    },
    {
     "name": "stderr",
     "output_type": "stream",
     "text": [
      "2023-04-23 01:08:44 experiment_interface.py INFO    : Models are tuned and saved to a file\n"
     ]
    },
    {
     "name": "stdout",
     "output_type": "stream",
     "text": [
      "2023/04/23, 01:08:44: Tuning for LogisticRegression is finished [F1 score = 0.7592072636486401, Accuracy = 0.7665000000000001]\n",
      "\n"
     ]
    },
    {
     "data": {
      "text/plain": "Multiple runs progress:   0%|          | 0/2 [00:00<?, ?it/s]",
      "application/vnd.jupyter.widget-view+json": {
       "version_major": 2,
       "version_minor": 0,
       "model_id": "9d2c612dd5494ffe868be4495d7562b1"
      }
     },
     "metadata": {},
     "output_type": "display_data"
    },
    {
     "data": {
      "text/plain": "Analyze models in one run:   0%|          | 0/2 [00:00<?, ?it/s]",
      "application/vnd.jupyter.widget-view+json": {
       "version_major": 2,
       "version_minor": 0,
       "model_id": "ec6cbd2c08d74b24b185a6c599fc7e5b"
      }
     },
     "metadata": {},
     "output_type": "display_data"
    },
    {
     "data": {
      "text/plain": "Classifiers testing by bootstrap:   0%|          | 0/10 [00:00<?, ?it/s]",
      "application/vnd.jupyter.widget-view+json": {
       "version_major": 2,
       "version_minor": 0,
       "model_id": "963b9c1a4f014f6e8dec69267bb5840d"
      }
     },
     "metadata": {},
     "output_type": "display_data"
    },
    {
     "data": {
      "text/plain": "Classifiers testing by bootstrap:   0%|          | 0/10 [00:00<?, ?it/s]",
      "application/vnd.jupyter.widget-view+json": {
       "version_major": 2,
       "version_minor": 0,
       "model_id": "1e2e1dccb8a143c4893f81b326ea5925"
      }
     },
     "metadata": {},
     "output_type": "display_data"
    },
    {
     "data": {
      "text/plain": "Classifiers testing by bootstrap:   0%|          | 0/10 [00:00<?, ?it/s]",
      "application/vnd.jupyter.widget-view+json": {
       "version_major": 2,
       "version_minor": 0,
       "model_id": "1234b6894025468a8b820e7e867e1203"
      }
     },
     "metadata": {},
     "output_type": "display_data"
    },
    {
     "data": {
      "text/plain": "Classifiers testing by bootstrap:   0%|          | 0/10 [00:00<?, ?it/s]",
      "application/vnd.jupyter.widget-view+json": {
       "version_major": 2,
       "version_minor": 0,
       "model_id": "db359b1ec62945d6b50d673958143245"
      }
     },
     "metadata": {},
     "output_type": "display_data"
    },
    {
     "data": {
      "text/plain": "Classifiers testing by bootstrap:   0%|          | 0/10 [00:00<?, ?it/s]",
      "application/vnd.jupyter.widget-view+json": {
       "version_major": 2,
       "version_minor": 0,
       "model_id": "95dc1e4c921241a28ce4a364c4860c9a"
      }
     },
     "metadata": {},
     "output_type": "display_data"
    },
    {
     "data": {
      "text/plain": "Classifiers testing by bootstrap:   0%|          | 0/10 [00:00<?, ?it/s]",
      "application/vnd.jupyter.widget-view+json": {
       "version_major": 2,
       "version_minor": 0,
       "model_id": "f27d5b75b8d1409bbe3a6855e19a8221"
      }
     },
     "metadata": {},
     "output_type": "display_data"
    },
    {
     "data": {
      "text/plain": "Classifiers testing by bootstrap:   0%|          | 0/10 [00:00<?, ?it/s]",
      "application/vnd.jupyter.widget-view+json": {
       "version_major": 2,
       "version_minor": 0,
       "model_id": "bf9f4f5602db4293aef21ca63001b343"
      }
     },
     "metadata": {},
     "output_type": "display_data"
    },
    {
     "data": {
      "text/plain": "Classifiers testing by bootstrap:   0%|          | 0/10 [00:00<?, ?it/s]",
      "application/vnd.jupyter.widget-view+json": {
       "version_major": 2,
       "version_minor": 0,
       "model_id": "32cbd50b8d2547768eceb525e12db619"
      }
     },
     "metadata": {},
     "output_type": "display_data"
    },
    {
     "data": {
      "text/plain": "Classifiers testing by bootstrap:   0%|          | 0/10 [00:00<?, ?it/s]",
      "application/vnd.jupyter.widget-view+json": {
       "version_major": 2,
       "version_minor": 0,
       "model_id": "7ea48a9cacbb4a36ad9bdc6e953c294a"
      }
     },
     "metadata": {},
     "output_type": "display_data"
    },
    {
     "data": {
      "text/plain": "Classifiers testing by bootstrap:   0%|          | 0/10 [00:00<?, ?it/s]",
      "application/vnd.jupyter.widget-view+json": {
       "version_major": 2,
       "version_minor": 0,
       "model_id": "940b738e7fa3405f8304fe9dd3592a76"
      }
     },
     "metadata": {},
     "output_type": "display_data"
    },
    {
     "data": {
      "text/plain": "Classifiers testing by bootstrap:   0%|          | 0/10 [00:00<?, ?it/s]",
      "application/vnd.jupyter.widget-view+json": {
       "version_major": 2,
       "version_minor": 0,
       "model_id": "e9e0bd9cf1ea4d609ff446ec6ea3226a"
      }
     },
     "metadata": {},
     "output_type": "display_data"
    },
    {
     "data": {
      "text/plain": "Classifiers testing by bootstrap:   0%|          | 0/10 [00:00<?, ?it/s]",
      "application/vnd.jupyter.widget-view+json": {
       "version_major": 2,
       "version_minor": 0,
       "model_id": "99a76f20392848a1861a342d415e949a"
      }
     },
     "metadata": {},
     "output_type": "display_data"
    },
    {
     "data": {
      "text/plain": "Classifiers testing by bootstrap:   0%|          | 0/10 [00:00<?, ?it/s]",
      "application/vnd.jupyter.widget-view+json": {
       "version_major": 2,
       "version_minor": 0,
       "model_id": "dfdd593046614fe98f0ca9f002f3bdd6"
      }
     },
     "metadata": {},
     "output_type": "display_data"
    },
    {
     "data": {
      "text/plain": "Classifiers testing by bootstrap:   0%|          | 0/10 [00:00<?, ?it/s]",
      "application/vnd.jupyter.widget-view+json": {
       "version_major": 2,
       "version_minor": 0,
       "model_id": "96d79df749a24bbf83c41bed71be6541"
      }
     },
     "metadata": {},
     "output_type": "display_data"
    },
    {
     "data": {
      "text/plain": "Analyze models in one run:   0%|          | 0/2 [00:00<?, ?it/s]",
      "application/vnd.jupyter.widget-view+json": {
       "version_major": 2,
       "version_minor": 0,
       "model_id": "5f14656bec494ed9b19f3ba57c1653d1"
      }
     },
     "metadata": {},
     "output_type": "display_data"
    },
    {
     "data": {
      "text/plain": "Classifiers testing by bootstrap:   0%|          | 0/10 [00:00<?, ?it/s]",
      "application/vnd.jupyter.widget-view+json": {
       "version_major": 2,
       "version_minor": 0,
       "model_id": "ab9a936307fe49f5b179c146fb840b5f"
      }
     },
     "metadata": {},
     "output_type": "display_data"
    },
    {
     "data": {
      "text/plain": "Classifiers testing by bootstrap:   0%|          | 0/10 [00:00<?, ?it/s]",
      "application/vnd.jupyter.widget-view+json": {
       "version_major": 2,
       "version_minor": 0,
       "model_id": "0bd99d530ebd495db37ba7179c354363"
      }
     },
     "metadata": {},
     "output_type": "display_data"
    },
    {
     "data": {
      "text/plain": "Classifiers testing by bootstrap:   0%|          | 0/10 [00:00<?, ?it/s]",
      "application/vnd.jupyter.widget-view+json": {
       "version_major": 2,
       "version_minor": 0,
       "model_id": "d45f46db85bd4a0ab90179b18ddcc980"
      }
     },
     "metadata": {},
     "output_type": "display_data"
    },
    {
     "data": {
      "text/plain": "Classifiers testing by bootstrap:   0%|          | 0/10 [00:00<?, ?it/s]",
      "application/vnd.jupyter.widget-view+json": {
       "version_major": 2,
       "version_minor": 0,
       "model_id": "13e287aa3dfe49a790da3bf1953ca4dd"
      }
     },
     "metadata": {},
     "output_type": "display_data"
    },
    {
     "data": {
      "text/plain": "Classifiers testing by bootstrap:   0%|          | 0/10 [00:00<?, ?it/s]",
      "application/vnd.jupyter.widget-view+json": {
       "version_major": 2,
       "version_minor": 0,
       "model_id": "8a17187eda6e407f8f1a948399932487"
      }
     },
     "metadata": {},
     "output_type": "display_data"
    },
    {
     "data": {
      "text/plain": "Classifiers testing by bootstrap:   0%|          | 0/10 [00:00<?, ?it/s]",
      "application/vnd.jupyter.widget-view+json": {
       "version_major": 2,
       "version_minor": 0,
       "model_id": "87a4dd14c196498e839a1e22105fff4c"
      }
     },
     "metadata": {},
     "output_type": "display_data"
    },
    {
     "data": {
      "text/plain": "Classifiers testing by bootstrap:   0%|          | 0/10 [00:00<?, ?it/s]",
      "application/vnd.jupyter.widget-view+json": {
       "version_major": 2,
       "version_minor": 0,
       "model_id": "c180a4c5802e4ccda3629a468b08906d"
      }
     },
     "metadata": {},
     "output_type": "display_data"
    },
    {
     "data": {
      "text/plain": "Classifiers testing by bootstrap:   0%|          | 0/10 [00:00<?, ?it/s]",
      "application/vnd.jupyter.widget-view+json": {
       "version_major": 2,
       "version_minor": 0,
       "model_id": "0067359ba73b4d8e88032c592b515ed4"
      }
     },
     "metadata": {},
     "output_type": "display_data"
    },
    {
     "data": {
      "text/plain": "Classifiers testing by bootstrap:   0%|          | 0/10 [00:00<?, ?it/s]",
      "application/vnd.jupyter.widget-view+json": {
       "version_major": 2,
       "version_minor": 0,
       "model_id": "8ae31a25a29f4296a6a3337319d14fae"
      }
     },
     "metadata": {},
     "output_type": "display_data"
    },
    {
     "data": {
      "text/plain": "Classifiers testing by bootstrap:   0%|          | 0/10 [00:00<?, ?it/s]",
      "application/vnd.jupyter.widget-view+json": {
       "version_major": 2,
       "version_minor": 0,
       "model_id": "a01bd4532f364b67a7062dab886b0f2e"
      }
     },
     "metadata": {},
     "output_type": "display_data"
    },
    {
     "data": {
      "text/plain": "Classifiers testing by bootstrap:   0%|          | 0/10 [00:00<?, ?it/s]",
      "application/vnd.jupyter.widget-view+json": {
       "version_major": 2,
       "version_minor": 0,
       "model_id": "c5e1c344d42c410fa9bc776b9887f608"
      }
     },
     "metadata": {},
     "output_type": "display_data"
    },
    {
     "data": {
      "text/plain": "Classifiers testing by bootstrap:   0%|          | 0/10 [00:00<?, ?it/s]",
      "application/vnd.jupyter.widget-view+json": {
       "version_major": 2,
       "version_minor": 0,
       "model_id": "eac2873bf8cc4c2fa2147c757b4605a8"
      }
     },
     "metadata": {},
     "output_type": "display_data"
    },
    {
     "data": {
      "text/plain": "Classifiers testing by bootstrap:   0%|          | 0/10 [00:00<?, ?it/s]",
      "application/vnd.jupyter.widget-view+json": {
       "version_major": 2,
       "version_minor": 0,
       "model_id": "925f628f1b1c43cc8361adc09f7f31d7"
      }
     },
     "metadata": {},
     "output_type": "display_data"
    },
    {
     "data": {
      "text/plain": "Classifiers testing by bootstrap:   0%|          | 0/10 [00:00<?, ?it/s]",
      "application/vnd.jupyter.widget-view+json": {
       "version_major": 2,
       "version_minor": 0,
       "model_id": "8efaf5ad64f54e6d81da7865d0f44227"
      }
     },
     "metadata": {},
     "output_type": "display_data"
    }
   ],
   "source": [
    "run_exp_iter_with_models_stress_testing(data_loader=exp_iter_data_loader,\n",
    "                                        experiment_seed=experiment_seed,\n",
    "                                        test_set_fraction=TEST_SET_FRACTION,\n",
    "                                        db_writer_func=db_writer_func,\n",
    "                                        error_injector=error_injector,\n",
    "                                        injector_config_lst=INJECTOR_CONFIG_LST,\n",
    "                                        preprocessor=preprocessor,\n",
    "                                        models_params_for_tuning=models_params_for_tuning,\n",
    "                                        metrics_computation_config=metrics_computation_config,\n",
    "                                        custom_table_fields_dct=custom_table_fields_dct,\n",
    "                                        with_tuning=True,\n",
    "                                        save_results_dir_path=SAVE_RESULTS_DIR_PATH,\n",
    "                                        tuned_params_df_path=None,\n",
    "                                        verbose=True)"
   ]
  },
  {
   "cell_type": "code",
   "execution_count": 90,
   "id": "4382096a",
   "metadata": {
    "ExecuteTime": {
     "end_time": "2023-04-22T17:12:09.025575Z",
     "start_time": "2023-04-22T17:12:08.968229Z"
    }
   },
   "outputs": [],
   "source": [
    "client.close()"
   ]
  },
  {
   "cell_type": "code",
   "execution_count": 90,
   "id": "b07fbb86",
   "metadata": {
    "ExecuteTime": {
     "end_time": "2023-04-22T17:12:09.025679Z",
     "start_time": "2023-04-22T17:12:08.972200Z"
    }
   },
   "outputs": [],
   "source": []
  }
 ],
 "metadata": {
  "kernelspec": {
   "display_name": "Python 3 (ipykernel)",
   "language": "python",
   "name": "python3"
  },
  "language_info": {
   "codemirror_mode": {
    "name": "ipython",
    "version": 3
   },
   "file_extension": ".py",
   "mimetype": "text/x-python",
   "name": "python",
   "nbconvert_exporter": "python",
   "pygments_lexer": "ipython3",
   "version": "3.8.8"
  }
 },
 "nbformat": 4,
 "nbformat_minor": 5
}
