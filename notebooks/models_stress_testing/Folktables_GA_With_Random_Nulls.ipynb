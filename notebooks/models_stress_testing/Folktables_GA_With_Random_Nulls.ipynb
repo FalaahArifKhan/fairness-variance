{
 "cells": [
  {
   "cell_type": "code",
   "execution_count": 35,
   "id": "bee4de34",
   "metadata": {
    "ExecuteTime": {
     "end_time": "2023-04-22T17:06:09.249675Z",
     "start_time": "2023-04-22T17:06:09.233480Z"
    }
   },
   "outputs": [],
   "source": [
    "# !pip install -r ../exp_requirements.txt"
   ]
  },
  {
   "cell_type": "code",
   "execution_count": 36,
   "id": "1d159721",
   "metadata": {
    "ExecuteTime": {
     "end_time": "2023-04-22T17:06:09.276223Z",
     "start_time": "2023-04-22T17:06:09.251393Z"
    }
   },
   "outputs": [],
   "source": [
    "# !pip uninstall virny -y"
   ]
  },
  {
   "cell_type": "code",
   "execution_count": 37,
   "id": "1aba3b9e",
   "metadata": {
    "ExecuteTime": {
     "end_time": "2023-04-22T17:06:09.293739Z",
     "start_time": "2023-04-22T17:06:09.271221Z"
    }
   },
   "outputs": [],
   "source": [
    "# Install using an HTTP link\n",
    "# !pip install git+https://github.com/DataResponsibly/Virny.git@development\n",
    "\n",
    "# Install using an SSH link\n",
    "# !pip install git+ssh://git@github.com/DataResponsibly/Virny.git@development"
   ]
  },
  {
   "cell_type": "code",
   "execution_count": 82,
   "id": "248cbed8",
   "metadata": {
    "ExecuteTime": {
     "start_time": "2023-04-23T13:30:19.866407Z",
     "end_time": "2023-04-23T13:30:20.281401Z"
    }
   },
   "outputs": [
    {
     "name": "stdout",
     "output_type": "stream",
     "text": [
      "The autoreload extension is already loaded. To reload it, use:\n",
      "  %reload_ext autoreload\n"
     ]
    }
   ],
   "source": [
    "%matplotlib inline\n",
    "%load_ext autoreload\n",
    "%autoreload 2"
   ]
  },
  {
   "cell_type": "code",
   "execution_count": 83,
   "id": "7ec6cd08",
   "metadata": {
    "ExecuteTime": {
     "start_time": "2023-04-23T13:30:20.282567Z",
     "end_time": "2023-04-23T13:30:20.290644Z"
    }
   },
   "outputs": [],
   "source": [
    "import os\n",
    "import warnings\n",
    "warnings.filterwarnings('ignore')\n",
    "os.environ[\"PYTHONWARNINGS\"] = \"ignore\""
   ]
  },
  {
   "cell_type": "markdown",
   "id": "a578f2ab",
   "metadata": {},
   "source": [
    "# Folktables GA Dataset With Random Nulls"
   ]
  },
  {
   "cell_type": "markdown",
   "id": "606df34d",
   "metadata": {},
   "source": [
    "## Import dependencies"
   ]
  },
  {
   "cell_type": "code",
   "execution_count": 120,
   "id": "7a9241de",
   "metadata": {
    "ExecuteTime": {
     "start_time": "2023-04-23T13:30:20.293249Z",
     "end_time": "2023-04-23T13:30:21.590617Z"
    }
   },
   "outputs": [],
   "source": [
    "import os\n",
    "import copy\n",
    "\n",
    "from xgboost import XGBClassifier\n",
    "from sklearn.tree import DecisionTreeClassifier\n",
    "from sklearn.linear_model import LogisticRegression\n",
    "from sklearn.ensemble import RandomForestClassifier\n",
    "from sklearn.neighbors import KNeighborsClassifier\n",
    "from sklearn.neural_network import MLPClassifier\n",
    "\n",
    "from virny.utils.custom_initializers import create_config_obj, create_models_metrics_dct_from_database_df\n",
    "from virny.datasets.data_loaders import ACSEmploymentDataset\n",
    "from source.user_interfaces.experiment_interface import run_exp_iter_with_models_stress_testing\n",
    "from source.error_injectors.random_nulls_injector_v2 import RandomNullsInjectorV2\n",
    "from source.utils.custom_initializers import create_experiment_data_loader\n",
    "from source.utils.db_functions import read_model_metric_dfs_from_db\n",
    "from source.preprocessing.basic_preprocessing import get_null_imputer_preprocessor\n",
    "\n",
    "from configs.constants import NUM_METRICS_COMPUTATION_RUNS, EXPERIMENT_SEEDS, TEST_SET_FRACTION"
   ]
  },
  {
   "cell_type": "markdown",
   "id": "75699f5f",
   "metadata": {},
   "source": [
    "## Initialize input variables for the experiment"
   ]
  },
  {
   "cell_type": "code",
   "execution_count": 121,
   "id": "95768787",
   "metadata": {
    "ExecuteTime": {
     "start_time": "2023-04-23T13:30:21.571542Z",
     "end_time": "2023-04-23T13:30:21.603942Z"
    }
   },
   "outputs": [],
   "source": [
    "ROOT_DIR = os.path.join(os.getcwd(), \"..\", \"..\")\n",
    "EXPERIMENT_NAME = 'stress_testing_nulls'\n",
    "DB_COLLECTION_NAME = f'{EXPERIMENT_NAME}_results'\n",
    "SAVE_RESULTS_DIR_PATH = os.path.join(ROOT_DIR, 'results', EXPERIMENT_NAME)\n",
    "# COLUMNS_TO_TRANSFORM = ['SCHL', 'MAR', 'DIS', 'ESP', 'DEAR', 'DEYE', 'DREM', 'MIL']\n",
    "COLUMNS_TO_TRANSFORM = ['MAR', 'MIL', 'ESP', 'MIG', 'DREM', 'NATIVITY', 'DIS', 'DEAR', 'DEYE', 'RELP', 'CIT', 'ANC','SCHL']\n",
    "# INJECTOR_CONFIG_LST = [0.05, 0.1, 0.2, 0.3, 0.4, 0.5]\n",
    "INJECTOR_CONFIG_LST = [0.1, 0.2, 0.4, 0.6, 0.8, 1.0]"
   ]
  },
  {
   "cell_type": "code",
   "execution_count": 122,
   "id": "e2eea22a",
   "metadata": {
    "ExecuteTime": {
     "start_time": "2023-04-23T13:30:21.600868Z",
     "end_time": "2023-04-23T13:30:24.191398Z"
    }
   },
   "outputs": [
    {
     "data": {
      "text/plain": "  MAR MIL ESP MIG DREM NATIVITY DIS DEAR DEYE SEX RAC1P RELP CIT ANC SCHL  \\\n0   1   4   0   1    2        1   2    2    2   2     1    1   1   1   21   \n1   5   4   0   3    2        2   2    2    2   2     1   12   5   2   21   \n2   2   4   0   1    2        1   1    2    1   2     1   16   1   1   19   \n3   1   4   0   1    2        1   2    2    2   2     2    0   1   1   16   \n4   1   2   0   1    1        1   1    1    2   1     1    0   1   1   21   \n\n   AGEP  \n0    31  \n1    22  \n2    88  \n3    71  \n4    44  ",
      "text/html": "<div>\n<style scoped>\n    .dataframe tbody tr th:only-of-type {\n        vertical-align: middle;\n    }\n\n    .dataframe tbody tr th {\n        vertical-align: top;\n    }\n\n    .dataframe thead th {\n        text-align: right;\n    }\n</style>\n<table border=\"1\" class=\"dataframe\">\n  <thead>\n    <tr style=\"text-align: right;\">\n      <th></th>\n      <th>MAR</th>\n      <th>MIL</th>\n      <th>ESP</th>\n      <th>MIG</th>\n      <th>DREM</th>\n      <th>NATIVITY</th>\n      <th>DIS</th>\n      <th>DEAR</th>\n      <th>DEYE</th>\n      <th>SEX</th>\n      <th>RAC1P</th>\n      <th>RELP</th>\n      <th>CIT</th>\n      <th>ANC</th>\n      <th>SCHL</th>\n      <th>AGEP</th>\n    </tr>\n  </thead>\n  <tbody>\n    <tr>\n      <th>0</th>\n      <td>1</td>\n      <td>4</td>\n      <td>0</td>\n      <td>1</td>\n      <td>2</td>\n      <td>1</td>\n      <td>2</td>\n      <td>2</td>\n      <td>2</td>\n      <td>2</td>\n      <td>1</td>\n      <td>1</td>\n      <td>1</td>\n      <td>1</td>\n      <td>21</td>\n      <td>31</td>\n    </tr>\n    <tr>\n      <th>1</th>\n      <td>5</td>\n      <td>4</td>\n      <td>0</td>\n      <td>3</td>\n      <td>2</td>\n      <td>2</td>\n      <td>2</td>\n      <td>2</td>\n      <td>2</td>\n      <td>2</td>\n      <td>1</td>\n      <td>12</td>\n      <td>5</td>\n      <td>2</td>\n      <td>21</td>\n      <td>22</td>\n    </tr>\n    <tr>\n      <th>2</th>\n      <td>2</td>\n      <td>4</td>\n      <td>0</td>\n      <td>1</td>\n      <td>2</td>\n      <td>1</td>\n      <td>1</td>\n      <td>2</td>\n      <td>1</td>\n      <td>2</td>\n      <td>1</td>\n      <td>16</td>\n      <td>1</td>\n      <td>1</td>\n      <td>19</td>\n      <td>88</td>\n    </tr>\n    <tr>\n      <th>3</th>\n      <td>1</td>\n      <td>4</td>\n      <td>0</td>\n      <td>1</td>\n      <td>2</td>\n      <td>1</td>\n      <td>2</td>\n      <td>2</td>\n      <td>2</td>\n      <td>2</td>\n      <td>2</td>\n      <td>0</td>\n      <td>1</td>\n      <td>1</td>\n      <td>16</td>\n      <td>71</td>\n    </tr>\n    <tr>\n      <th>4</th>\n      <td>1</td>\n      <td>2</td>\n      <td>0</td>\n      <td>1</td>\n      <td>1</td>\n      <td>1</td>\n      <td>1</td>\n      <td>1</td>\n      <td>2</td>\n      <td>1</td>\n      <td>1</td>\n      <td>0</td>\n      <td>1</td>\n      <td>1</td>\n      <td>21</td>\n      <td>44</td>\n    </tr>\n  </tbody>\n</table>\n</div>"
     },
     "execution_count": 122,
     "metadata": {},
     "output_type": "execute_result"
    }
   ],
   "source": [
    "data_loader = ACSEmploymentDataset(state=['GA'], year=2018, with_nulls=False, subsample_size=50_000, subsample_seed=42)\n",
    "# data_loader = ACSEmploymentDataset(state=['GA'], year=2018, with_nulls=False)\n",
    "data_loader.X_data.head()"
   ]
  },
  {
   "cell_type": "code",
   "execution_count": 123,
   "id": "b4745bc8",
   "metadata": {
    "ExecuteTime": {
     "start_time": "2023-04-23T13:30:24.183137Z",
     "end_time": "2023-04-23T13:30:24.341989Z"
    }
   },
   "outputs": [
    {
     "data": {
      "text/plain": "MAR         0\nMIL         0\nESP         0\nMIG         0\nDREM        0\nNATIVITY    0\nDIS         0\nDEAR        0\nDEYE        0\nSEX         0\nRAC1P       0\nRELP        0\nCIT         0\nANC         0\nSCHL        0\nAGEP        0\ndtype: int64"
     },
     "execution_count": 123,
     "metadata": {},
     "output_type": "execute_result"
    }
   ],
   "source": [
    "data_loader.full_df.isna().sum()"
   ]
  },
  {
   "cell_type": "markdown",
   "id": "b08cc201",
   "metadata": {},
   "source": [
    "### Define a db writer and custom fields to insert into your database"
   ]
  },
  {
   "cell_type": "code",
   "execution_count": 124,
   "id": "1ed6ef1f",
   "metadata": {
    "ExecuteTime": {
     "start_time": "2023-04-23T13:30:24.304924Z",
     "end_time": "2023-04-23T13:30:24.367148Z"
    }
   },
   "outputs": [],
   "source": [
    "from source.utils.db_functions import connect_to_mongodb\n",
    "\n",
    "client, collection_obj, db_writer_func = connect_to_mongodb(DB_COLLECTION_NAME)"
   ]
  },
  {
   "cell_type": "code",
   "execution_count": 125,
   "id": "b9d110e2",
   "metadata": {
    "ExecuteTime": {
     "start_time": "2023-04-23T13:30:24.351860Z",
     "end_time": "2023-04-23T13:30:24.426028Z"
    }
   },
   "outputs": [],
   "source": [
    "custom_table_fields_dct = {\n",
    "    'error_type': 'Random Nulls',\n",
    "    # 'error_percentages': '0%,5%,10%,20%,30%,40%,50%',\n",
    "    'error_percentages': '0%,10%,20%,40%,60%,80%,100%',\n",
    "    'preprocessing_technique': 'cat: mode_trimmed_0.3, num: median',\n",
    "    # 'preprocessing_technique': 'cat: mode, num: median',\n",
    "}"
   ]
  },
  {
   "cell_type": "code",
   "execution_count": 126,
   "id": "bd3d755b",
   "metadata": {
    "ExecuteTime": {
     "start_time": "2023-04-23T13:30:24.396152Z",
     "end_time": "2023-04-23T13:30:24.444377Z"
    }
   },
   "outputs": [
    {
     "name": "stdout",
     "output_type": "stream",
     "text": [
      "Current session uuid:  a4febf95-81bf-4aee-9b51-a690d596d5d2\n"
     ]
    }
   ],
   "source": [
    "import uuid\n",
    "\n",
    "# custom_table_fields_dct['session_uuid'] = 'c53d250b-5ba9-4d91-a444-ed7eb7919de5'\n",
    "# custom_table_fields_dct['session_uuid'] = 'e38b6e20-e4e7-4791-89d3-5e371513d2ea'\n",
    "# custom_table_fields_dct['session_uuid'] = '2f6541f0-2a77-446a-a5be-92d7b4187052'\n",
    "custom_table_fields_dct['session_uuid'] = 'a4febf95-81bf-4aee-9b51-a690d596d5d2'\n",
    "# custom_table_fields_dct['session_uuid'] = str(uuid.uuid4())\n",
    "print('Current session uuid: ', custom_table_fields_dct['session_uuid'])"
   ]
  },
  {
   "cell_type": "markdown",
   "id": "57c0a138",
   "metadata": {},
   "source": [
    "### Create a metrics computation config object"
   ]
  },
  {
   "cell_type": "code",
   "execution_count": 127,
   "id": "e66a4013",
   "metadata": {
    "ExecuteTime": {
     "start_time": "2023-04-23T13:30:24.410029Z",
     "end_time": "2023-04-23T13:30:24.445854Z"
    }
   },
   "outputs": [],
   "source": [
    "config_yaml_path = 'experiment_config.yaml'\n",
    "age_range = [i for i in range(30, 41)]\n",
    "config_yaml_content = \\\n",
    "f\"\"\"\n",
    "dataset_name: Folktables_GA_2018\n",
    "bootstrap_fraction: 0.8\n",
    "# n_estimators: 50\n",
    "n_estimators: 10\n",
    "# num_runs: {NUM_METRICS_COMPUTATION_RUNS}\n",
    "num_runs: 2\n",
    "sensitive_attributes_dct: {{'SEX': '1', 'RAC1P': '1', 'AGEP': {age_range}, 'SEX & RAC1P & AGEP': None}}\n",
    "\"\"\"\n",
    "\n",
    "with open(config_yaml_path, 'w', encoding='utf-8') as f:\n",
    "    f.write(config_yaml_content)"
   ]
  },
  {
   "cell_type": "code",
   "execution_count": 128,
   "id": "62dfa85c",
   "metadata": {
    "ExecuteTime": {
     "start_time": "2023-04-23T13:30:24.436377Z",
     "end_time": "2023-04-23T13:30:24.514656Z"
    }
   },
   "outputs": [],
   "source": [
    "metrics_computation_config = create_config_obj(config_yaml_path=config_yaml_path)"
   ]
  },
  {
   "cell_type": "markdown",
   "id": "1a1f5ef2",
   "metadata": {},
   "source": [
    "### Define tuning parameter for models"
   ]
  },
  {
   "cell_type": "code",
   "execution_count": 129,
   "id": "41fe64fe",
   "metadata": {
    "ExecuteTime": {
     "start_time": "2023-04-23T13:30:24.484014Z",
     "end_time": "2023-04-23T13:30:24.532457Z"
    }
   },
   "outputs": [],
   "source": [
    "def get_models_params_for_tuning(models_tuning_seed):\n",
    "    return {\n",
    "        'DecisionTreeClassifier': {\n",
    "            'model': DecisionTreeClassifier(random_state=models_tuning_seed),\n",
    "            'params': {\n",
    "                \"max_depth\": [20, 30],\n",
    "                \"min_samples_split\" : [0.1],\n",
    "                \"max_features\": ['sqrt'],\n",
    "                \"criterion\": [\"gini\", \"entropy\"]\n",
    "            }\n",
    "        },\n",
    "        'LogisticRegression': {\n",
    "            'model': LogisticRegression(random_state=models_tuning_seed),\n",
    "            'params': {\n",
    "                'penalty': ['l2'],\n",
    "                'C' : [0.0001, 0.1, 1, 100],\n",
    "                'solver': ['newton-cg', 'lbfgs'],\n",
    "                'max_iter': [250],\n",
    "            }\n",
    "        },\n",
    "        # 'RandomForestClassifier': {\n",
    "        #     'model': RandomForestClassifier(random_state=models_tuning_seed),\n",
    "        #     'params': {\n",
    "        #         \"max_depth\": [6, 10],\n",
    "        #         \"min_samples_leaf\": [1],\n",
    "        #         \"n_estimators\": [50, 100],\n",
    "        #         \"max_features\": [0.6]\n",
    "        #     }\n",
    "        # },\n",
    "        # 'XGBClassifier': {\n",
    "        #     'model': XGBClassifier(random_state=models_tuning_seed, verbosity=0),\n",
    "        #     'params': {\n",
    "        #         'learning_rate': [0.1],\n",
    "        #         'n_estimators': [200],\n",
    "        #         'max_depth': [5, 7],\n",
    "        #         'lambda':  [10, 100]\n",
    "        #     }\n",
    "        # },\n",
    "        # 'KNeighborsClassifier': {\n",
    "        #     'model': KNeighborsClassifier(),\n",
    "        #     'params': {\n",
    "        #         'n_neighbors' : [5, 7, 9, 11, 13, 15, 25],\n",
    "        #         'weights' : ['uniform', 'distance'],\n",
    "        #         'metric' : ['minkowski', 'euclidean', 'manhattan']\n",
    "        #     }\n",
    "        # },\n",
    "        # 'MLPClassifier': {\n",
    "        #     'model': MLPClassifier(random_state=models_tuning_seed),\n",
    "        #     'params': {\n",
    "        #         'hidden_layer_sizes':[(100,), (100,100,), (100,50,100,)],\n",
    "        #         'activation': ['logistic', 'tanh', 'relu'],\n",
    "        #         'solver': ['lbfgs', 'sgd', 'adam'],\n",
    "        #         'learning_rate': ['constant', 'invscaling', 'adaptive']\n",
    "        #     }\n",
    "        # }\n",
    "    }"
   ]
  },
  {
   "cell_type": "markdown",
   "id": "e9399ecb",
   "metadata": {},
   "source": [
    "## Run experiments"
   ]
  },
  {
   "cell_type": "markdown",
   "id": "647d5a60",
   "metadata": {},
   "source": [
    "### Experiment iteration 1"
   ]
  },
  {
   "cell_type": "code",
   "execution_count": 130,
   "id": "7beab8da",
   "metadata": {
    "ExecuteTime": {
     "start_time": "2023-04-23T13:36:02.820440Z",
     "end_time": "2023-04-23T13:36:02.906869Z"
    }
   },
   "outputs": [],
   "source": [
    "# Configs for an experiment iteration\n",
    "exp_iter_num = 1\n",
    "experiment_seed = EXPERIMENT_SEEDS[exp_iter_num - 1]\n",
    "custom_table_fields_dct['experiment_iteration'] = f'Exp_iter_{exp_iter_num}'\n",
    "\n",
    "error_injector = RandomNullsInjectorV2(experiment_seed, columns_to_transform=COLUMNS_TO_TRANSFORM, row_idx_nulls_percentage=0.0)\n",
    "models_params_for_tuning = get_models_params_for_tuning(experiment_seed)\n",
    "# Create a transformed data loader\n",
    "exp_iter_data_loader = create_experiment_data_loader(data_loader)\n",
    "exp_iter_data_loader.columns_with_nulls = COLUMNS_TO_TRANSFORM\n",
    "preprocessor = get_null_imputer_preprocessor(exp_iter_data_loader, categorical_trimmed=0.3)\n",
    "# preprocessor = get_null_imputer_preprocessor(exp_iter_data_loader)"
   ]
  },
  {
   "cell_type": "code",
   "execution_count": 108,
   "id": "2326c129",
   "metadata": {
    "ExecuteTime": {
     "end_time": "2023-04-22T17:12:08.249600Z",
     "start_time": "2023-04-22T17:06:12.324268Z"
    }
   },
   "outputs": [
    {
     "name": "stderr",
     "output_type": "stream",
     "text": [
      "2023-04-23 22:35:16 experiment_interface.py INFO    : Start an experiment iteration for the following custom params:\n"
     ]
    },
    {
     "name": "stdout",
     "output_type": "stream",
     "text": [
      "{'dataset_split_seed': 100,\n",
      " 'error_percentages': '0%,10%,20%,40%,60%,80%,100%',\n",
      " 'error_type': 'Random Nulls',\n",
      " 'experiment_iteration': 'Exp_iter_1',\n",
      " 'injector_config_lst': '[0.1, 0.2, 0.4, 0.6, 0.8, 1.0]',\n",
      " 'model_init_seed': 100,\n",
      " 'preprocessing_technique': 'cat: mode_trimmed_0.3, num: median',\n",
      " 'session_uuid': 'a4febf95-81bf-4aee-9b51-a690d596d5d2'}\n",
      "\n",
      "\n"
     ]
    },
    {
     "name": "stderr",
     "output_type": "stream",
     "text": [
      "2023-04-23 22:35:19 experiment_interface.py INFO    : The dataset is preprocessed\n"
     ]
    },
    {
     "name": "stdout",
     "output_type": "stream",
     "text": [
      "Top indexes of an X_test in a base flow dataset:  Int64Index([ 4253, 30076, 48047,  1666, 30740, 13830, 34366,  5893, 45012,\n",
      "            20187, 40178,  7958, 32251,  8493,  8752,  1984,  8898, 10170,\n",
      "            20852, 19844],\n",
      "           dtype='int64')\n",
      "Top indexes of an y_test in a base flow dataset:  Int64Index([ 4253, 30076, 48047,  1666, 30740, 13830, 34366,  5893, 45012,\n",
      "            20187, 40178,  7958, 32251,  8493,  8752,  1984,  8898, 10170,\n",
      "            20852, 19844],\n",
      "           dtype='int64')\n",
      "transformed_X_test.isnull().sum() --  MAR         47\n",
      "MIL         45\n",
      "ESP         56\n",
      "MIG         58\n",
      "DREM        49\n",
      "NATIVITY    50\n",
      "DIS         65\n",
      "DEAR        59\n",
      "DEYE        63\n",
      "SEX          0\n",
      "RAC1P        0\n",
      "RELP        57\n",
      "CIT         77\n",
      "ANC         62\n",
      "SCHL        59\n",
      "AGEP         0\n",
      "dtype: int64\n",
      "transformed_X_test.isnull().sum() --  MAR         150\n",
      "MIL         144\n",
      "ESP         143\n",
      "MIG         166\n",
      "DREM        140\n",
      "NATIVITY    152\n",
      "DIS         156\n",
      "DEAR        152\n",
      "DEYE        155\n",
      "SEX           0\n",
      "RAC1P         0\n",
      "RELP        163\n",
      "CIT         174\n",
      "ANC         162\n",
      "SCHL        150\n",
      "AGEP          0\n",
      "dtype: int64\n",
      "transformed_X_test.isnull().sum() --  MAR         530\n",
      "MIL         519\n",
      "ESP         528\n",
      "MIG         545\n",
      "DREM        565\n",
      "NATIVITY    545\n",
      "DIS         540\n",
      "DEAR        521\n",
      "DEYE        541\n",
      "SEX           0\n",
      "RAC1P         0\n",
      "RELP        539\n",
      "CIT         567\n",
      "ANC         529\n",
      "SCHL        520\n",
      "AGEP          0\n",
      "dtype: int64\n",
      "[CV 3/3; 2/4] START criterion=gini, max_depth=30, max_features=sqrt, min_samples_split=0.1\n",
      "[CV 3/3; 2/4] END criterion=gini, max_depth=30, max_features=sqrt, min_samples_split=0.1; Accuracy_Score: (test=0.762) F1_Score: (test=0.747) total time=   0.1s\n",
      "[CV 1/3; 4/4] START criterion=entropy, max_depth=30, max_features=sqrt, min_samples_split=0.1\n",
      "[CV 1/3; 4/4] END criterion=entropy, max_depth=30, max_features=sqrt, min_samples_split=0.1; Accuracy_Score: (test=0.756) F1_Score: (test=0.745) total time=   0.1s\n",
      "[CV 1/3; 1/8] START C=0.0001, max_iter=250, penalty=l2, solver=newton-cg........\n",
      "[CV 1/3; 1/8] END C=0.0001, max_iter=250, penalty=l2, solver=newton-cg; Accuracy_Score: (test=0.720) F1_Score: (test=0.687) total time=   1.3s\n",
      "[CV 2/3; 5/8] START C=1, max_iter=250, penalty=l2, solver=newton-cg.............\n",
      "[CV 2/3; 5/8] END C=1, max_iter=250, penalty=l2, solver=newton-cg; Accuracy_Score: (test=0.759) F1_Score: (test=0.750) total time=  14.1s\n",
      "[CV 3/3; 1/4] START criterion=gini, max_depth=20, max_features=sqrt, min_samples_split=0.1\n",
      "[CV 3/3; 1/4] END criterion=gini, max_depth=20, max_features=sqrt, min_samples_split=0.1; Accuracy_Score: (test=0.762) F1_Score: (test=0.747) total time=   0.1s\n",
      "[CV 3/3; 1/8] START C=0.0001, max_iter=250, penalty=l2, solver=newton-cg........\n",
      "[CV 3/3; 1/8] END C=0.0001, max_iter=250, penalty=l2, solver=newton-cg; Accuracy_Score: (test=0.709) F1_Score: (test=0.664) total time=   1.2s\n",
      "[CV 1/3; 5/8] START C=1, max_iter=250, penalty=l2, solver=newton-cg.............\n",
      "[CV 1/3; 5/8] END C=1, max_iter=250, penalty=l2, solver=newton-cg; Accuracy_Score: (test=0.773) F1_Score: (test=0.766) total time=  15.9s\n",
      "[CV 1/3; 1/4] START criterion=gini, max_depth=20, max_features=sqrt, min_samples_split=0.1\n",
      "[CV 1/3; 1/4] END criterion=gini, max_depth=20, max_features=sqrt, min_samples_split=0.1; Accuracy_Score: (test=0.756) F1_Score: (test=0.745) total time=   0.1s\n",
      "[CV 3/3; 3/4] START criterion=entropy, max_depth=20, max_features=sqrt, min_samples_split=0.1\n",
      "[CV 3/3; 3/4] END criterion=entropy, max_depth=20, max_features=sqrt, min_samples_split=0.1; Accuracy_Score: (test=0.762) F1_Score: (test=0.747) total time=   0.1s\n",
      "[CV 3/3; 4/4] START criterion=entropy, max_depth=30, max_features=sqrt, min_samples_split=0.1\n",
      "[CV 3/3; 4/4] END criterion=entropy, max_depth=30, max_features=sqrt, min_samples_split=0.1; Accuracy_Score: (test=0.762) F1_Score: (test=0.747) total time=   0.1s\n",
      "[CV 1/3; 2/8] START C=0.0001, max_iter=250, penalty=l2, solver=lbfgs............\n",
      "[CV 1/3; 2/8] END C=0.0001, max_iter=250, penalty=l2, solver=lbfgs; Accuracy_Score: (test=0.720) F1_Score: (test=0.687) total time=   0.3s\n",
      "[CV 1/3; 4/8] START C=0.1, max_iter=250, penalty=l2, solver=lbfgs...............\n",
      "[CV 1/3; 4/8] END C=0.1, max_iter=250, penalty=l2, solver=lbfgs; Accuracy_Score: (test=0.770) F1_Score: (test=0.763) total time=   5.8s\n",
      "[CV 3/3; 6/8] START C=1, max_iter=250, penalty=l2, solver=lbfgs.................\n",
      "[CV 3/3; 6/8] END C=1, max_iter=250, penalty=l2, solver=lbfgs; Accuracy_Score: (test=0.769) F1_Score: (test=0.761) total time=   6.4s\n",
      "[CV 2/3; 8/8] START C=100, max_iter=250, penalty=l2, solver=lbfgs...............\n",
      "[CV 2/3; 8/8] END C=100, max_iter=250, penalty=l2, solver=lbfgs; Accuracy_Score: (test=0.759) F1_Score: (test=0.749) total time=   6.2s\n",
      "[CV 2/3; 1/4] START criterion=gini, max_depth=20, max_features=sqrt, min_samples_split=0.1\n",
      "[CV 2/3; 1/4] END criterion=gini, max_depth=20, max_features=sqrt, min_samples_split=0.1; Accuracy_Score: (test=0.766) F1_Score: (test=0.754) total time=   0.1s\n",
      "[CV 2/3; 4/4] START criterion=entropy, max_depth=30, max_features=sqrt, min_samples_split=0.1\n",
      "[CV 2/3; 4/4] END criterion=entropy, max_depth=30, max_features=sqrt, min_samples_split=0.1; Accuracy_Score: (test=0.766) F1_Score: (test=0.754) total time=   0.1s\n",
      "[CV 2/3; 1/8] START C=0.0001, max_iter=250, penalty=l2, solver=newton-cg........\n",
      "[CV 2/3; 1/8] END C=0.0001, max_iter=250, penalty=l2, solver=newton-cg; Accuracy_Score: (test=0.712) F1_Score: (test=0.671) total time=   1.1s\n",
      "[CV 3/3; 4/8] START C=0.1, max_iter=250, penalty=l2, solver=lbfgs...............\n",
      "[CV 3/3; 4/8] END C=0.1, max_iter=250, penalty=l2, solver=lbfgs; Accuracy_Score: (test=0.768) F1_Score: (test=0.760) total time=   3.6s\n",
      "[CV 3/3; 5/8] START C=1, max_iter=250, penalty=l2, solver=newton-cg.............\n",
      "[CV 3/3; 5/8] END C=1, max_iter=250, penalty=l2, solver=newton-cg; Accuracy_Score: (test=0.769) F1_Score: (test=0.761) total time=  10.1s\n",
      "[CV 3/3; 8/8] START C=100, max_iter=250, penalty=l2, solver=lbfgs...............\n",
      "[CV 3/3; 8/8] END C=100, max_iter=250, penalty=l2, solver=lbfgs; Accuracy_Score: (test=0.770) F1_Score: (test=0.761) total time=   4.4s\n",
      "[CV 1/3; 2/4] START criterion=gini, max_depth=30, max_features=sqrt, min_samples_split=0.1\n",
      "[CV 1/3; 2/4] END criterion=gini, max_depth=30, max_features=sqrt, min_samples_split=0.1; Accuracy_Score: (test=0.756) F1_Score: (test=0.745) total time=   0.1s\n",
      "[CV 2/3; 2/8] START C=0.0001, max_iter=250, penalty=l2, solver=lbfgs............\n",
      "[CV 2/3; 2/8] END C=0.0001, max_iter=250, penalty=l2, solver=lbfgs; Accuracy_Score: (test=0.712) F1_Score: (test=0.671) total time=   0.4s\n",
      "[CV 2/3; 4/8] START C=0.1, max_iter=250, penalty=l2, solver=lbfgs...............\n",
      "[CV 2/3; 4/8] END C=0.1, max_iter=250, penalty=l2, solver=lbfgs; Accuracy_Score: (test=0.759) F1_Score: (test=0.749) total time=   5.0s\n",
      "[CV 2/3; 6/8] START C=1, max_iter=250, penalty=l2, solver=lbfgs.................\n",
      "[CV 2/3; 6/8] END C=1, max_iter=250, penalty=l2, solver=lbfgs; Accuracy_Score: (test=0.760) F1_Score: (test=0.750) total time=   7.1s\n",
      "[CV 1/3; 8/8] START C=100, max_iter=250, penalty=l2, solver=lbfgs...............\n",
      "[CV 1/3; 8/8] END C=100, max_iter=250, penalty=l2, solver=lbfgs; Accuracy_Score: (test=0.774) F1_Score: (test=0.767) total time=   6.7s\n",
      "transformed_X_test.isnull().sum() --  MAR          976\n",
      "MIL         1013\n",
      "ESP         1006\n",
      "MIG         1067\n",
      "DREM        1068\n",
      "NATIVITY    1039\n",
      "DIS         1008\n",
      "DEAR        1031\n",
      "DEYE        1058\n",
      "SEX            0\n",
      "RAC1P          0\n",
      "RELP        1022\n",
      "CIT         1083\n",
      "ANC         1010\n",
      "SCHL        1022\n",
      "AGEP           0\n",
      "dtype: int64\n",
      "[CV 2/3; 2/4] START criterion=gini, max_depth=30, max_features=sqrt, min_samples_split=0.1\n",
      "[CV 2/3; 2/4] END criterion=gini, max_depth=30, max_features=sqrt, min_samples_split=0.1; Accuracy_Score: (test=0.766) F1_Score: (test=0.754) total time=   0.1s\n",
      "[CV 3/3; 2/8] START C=0.0001, max_iter=250, penalty=l2, solver=lbfgs............\n",
      "[CV 3/3; 2/8] END C=0.0001, max_iter=250, penalty=l2, solver=lbfgs; Accuracy_Score: (test=0.709) F1_Score: (test=0.664) total time=   0.3s\n",
      "[CV 3/3; 3/8] START C=0.1, max_iter=250, penalty=l2, solver=newton-cg...........\n",
      "[CV 3/3; 3/8] END C=0.1, max_iter=250, penalty=l2, solver=newton-cg; Accuracy_Score: (test=0.768) F1_Score: (test=0.760) total time=   4.6s\n",
      "[CV 1/3; 6/8] START C=1, max_iter=250, penalty=l2, solver=lbfgs.................\n",
      "[CV 1/3; 6/8] END C=1, max_iter=250, penalty=l2, solver=lbfgs; Accuracy_Score: (test=0.773) F1_Score: (test=0.766) total time=   7.1s\n",
      "[CV 3/3; 7/8] START C=100, max_iter=250, penalty=l2, solver=newton-cg...........\n",
      "[CV 3/3; 7/8] END C=100, max_iter=250, penalty=l2, solver=newton-cg; Accuracy_Score: (test=0.769) F1_Score: (test=0.761) total time=  23.1s\n",
      "[CV 1/3; 3/4] START criterion=entropy, max_depth=20, max_features=sqrt, min_samples_split=0.1\n",
      "[CV 1/3; 3/4] END criterion=entropy, max_depth=20, max_features=sqrt, min_samples_split=0.1; Accuracy_Score: (test=0.756) F1_Score: (test=0.745) total time=   0.1s\n",
      "[CV 2/3; 3/8] START C=0.1, max_iter=250, penalty=l2, solver=newton-cg...........\n",
      "[CV 2/3; 3/8] END C=0.1, max_iter=250, penalty=l2, solver=newton-cg; Accuracy_Score: (test=0.759) F1_Score: (test=0.749) total time=   7.4s\n",
      "[CV 1/3; 7/8] START C=100, max_iter=250, penalty=l2, solver=newton-cg...........\n",
      "[CV 1/3; 7/8] END C=100, max_iter=250, penalty=l2, solver=newton-cg; Accuracy_Score: (test=0.773) F1_Score: (test=0.766) total time=  34.1s\n",
      "[CV 2/3; 3/4] START criterion=entropy, max_depth=20, max_features=sqrt, min_samples_split=0.1\n",
      "[CV 2/3; 3/4] END criterion=entropy, max_depth=20, max_features=sqrt, min_samples_split=0.1; Accuracy_Score: (test=0.766) F1_Score: (test=0.754) total time=   0.1s\n",
      "[CV 1/3; 3/8] START C=0.1, max_iter=250, penalty=l2, solver=newton-cg...........\n",
      "[CV 1/3; 3/8] END C=0.1, max_iter=250, penalty=l2, solver=newton-cg; Accuracy_Score: (test=0.770) F1_Score: (test=0.763) total time=   9.4s\n",
      "[CV 2/3; 7/8] START C=100, max_iter=250, penalty=l2, solver=newton-cg...........\n",
      "[CV 2/3; 7/8] END C=100, max_iter=250, penalty=l2, solver=newton-cg; Accuracy_Score: (test=0.759) F1_Score: (test=0.749) total time=  33.9s\n",
      "transformed_X_test.isnull().sum() --  MAR         1869\n",
      "MIL         1854\n",
      "ESP         1866\n",
      "MIG         1921\n",
      "DREM        1892\n",
      "NATIVITY    1851\n",
      "DIS         1861\n",
      "DEAR        1872\n",
      "DEYE        1927\n",
      "SEX            0\n",
      "RAC1P          0\n",
      "RELP        1880\n",
      "CIT         1878\n",
      "ANC         1869\n",
      "SCHL        1833\n",
      "AGEP           0\n",
      "dtype: int64\n",
      "transformed_X_test.isnull().sum() --  MAR         2693\n",
      "MIL         2683\n",
      "ESP         2714\n",
      "MIG         2731\n",
      "DREM        2771\n",
      "NATIVITY    2734\n",
      "DIS         2715\n",
      "DEAR        2736\n",
      "DEYE        2733\n",
      "SEX            0\n",
      "RAC1P          0\n",
      "RELP        2704\n",
      "CIT         2773\n",
      "ANC         2717\n",
      "SCHL        2672\n",
      "AGEP           0\n",
      "dtype: int64\n",
      "2023/04/23, 22:36:44: Tuning DecisionTreeClassifier...\n",
      "Fitting 3 folds for each of 4 candidates, totalling 12 fits\n",
      "2023/04/23, 22:36:46: Tuning for DecisionTreeClassifier is finished [F1 score = 0.7484840084683017, Accuracy = 0.7614000000000001]\n",
      "\n",
      "2023/04/23, 22:36:46: Tuning LogisticRegression...\n",
      "Fitting 3 folds for each of 8 candidates, totalling 24 fits\n"
     ]
    },
    {
     "name": "stderr",
     "output_type": "stream",
     "text": [
      "2023-04-23 22:37:34 experiment_interface.py INFO    : Models are tuned and saved to a file\n"
     ]
    },
    {
     "name": "stdout",
     "output_type": "stream",
     "text": [
      "2023/04/23, 22:37:34: Tuning for LogisticRegression is finished [F1 score = 0.7590352262668864, Accuracy = 0.7673333333333333]\n",
      "\n"
     ]
    },
    {
     "data": {
      "text/plain": "Multiple runs progress:   0%|          | 0/2 [00:00<?, ?it/s]",
      "application/vnd.jupyter.widget-view+json": {
       "version_major": 2,
       "version_minor": 0,
       "model_id": "4e06490850c140228004b31dea8f890c"
      }
     },
     "metadata": {},
     "output_type": "display_data"
    },
    {
     "data": {
      "text/plain": "Analyze models in one run:   0%|          | 0/2 [00:00<?, ?it/s]",
      "application/vnd.jupyter.widget-view+json": {
       "version_major": 2,
       "version_minor": 0,
       "model_id": "194b72c13c004622bb9c98d61a50642d"
      }
     },
     "metadata": {},
     "output_type": "display_data"
    },
    {
     "data": {
      "text/plain": "Classifiers testing by bootstrap:   0%|          | 0/10 [00:00<?, ?it/s]",
      "application/vnd.jupyter.widget-view+json": {
       "version_major": 2,
       "version_minor": 0,
       "model_id": "4a6b0f72227b4c4bb9b06145fe1116a1"
      }
     },
     "metadata": {},
     "output_type": "display_data"
    },
    {
     "data": {
      "text/plain": "Classifiers testing by bootstrap:   0%|          | 0/10 [00:00<?, ?it/s]",
      "application/vnd.jupyter.widget-view+json": {
       "version_major": 2,
       "version_minor": 0,
       "model_id": "fa0bc5b080f348878970ca37829d011d"
      }
     },
     "metadata": {},
     "output_type": "display_data"
    },
    {
     "data": {
      "text/plain": "Analyze models in one run:   0%|          | 0/2 [00:00<?, ?it/s]",
      "application/vnd.jupyter.widget-view+json": {
       "version_major": 2,
       "version_minor": 0,
       "model_id": "0bbbd348652c4817a22b0f9043425497"
      }
     },
     "metadata": {},
     "output_type": "display_data"
    },
    {
     "data": {
      "text/plain": "Classifiers testing by bootstrap:   0%|          | 0/10 [00:00<?, ?it/s]",
      "application/vnd.jupyter.widget-view+json": {
       "version_major": 2,
       "version_minor": 0,
       "model_id": "d7824d19433e46ca9894120aab0bc677"
      }
     },
     "metadata": {},
     "output_type": "display_data"
    },
    {
     "data": {
      "text/plain": "Classifiers testing by bootstrap:   0%|          | 0/10 [00:00<?, ?it/s]",
      "application/vnd.jupyter.widget-view+json": {
       "version_major": 2,
       "version_minor": 0,
       "model_id": "3ee62195611a49b897a03e36fa2b8a15"
      }
     },
     "metadata": {},
     "output_type": "display_data"
    }
   ],
   "source": [
    "run_exp_iter_with_models_stress_testing(data_loader=exp_iter_data_loader,\n",
    "                                        experiment_seed=experiment_seed,\n",
    "                                        test_set_fraction=TEST_SET_FRACTION,\n",
    "                                        db_writer_func=db_writer_func,\n",
    "                                        error_injector=error_injector,\n",
    "                                        injector_config_lst=INJECTOR_CONFIG_LST,\n",
    "                                        preprocessor=preprocessor,\n",
    "                                        models_params_for_tuning=models_params_for_tuning,\n",
    "                                        metrics_computation_config=metrics_computation_config,\n",
    "                                        custom_table_fields_dct=custom_table_fields_dct,\n",
    "                                        with_tuning=True,\n",
    "                                        save_results_dir_path=SAVE_RESULTS_DIR_PATH,\n",
    "                                        tuned_params_df_path=None,\n",
    "                                        verbose=True)"
   ]
  },
  {
   "cell_type": "markdown",
   "id": "37ea60bb",
   "metadata": {},
   "source": [
    "### Experiment iteration 2"
   ]
  },
  {
   "cell_type": "code",
   "execution_count": 131,
   "outputs": [],
   "source": [
    "# Configs for an experiment iteration\n",
    "exp_iter_num = 2\n",
    "experiment_seed = EXPERIMENT_SEEDS[exp_iter_num - 1]\n",
    "custom_table_fields_dct['experiment_iteration'] = f'Exp_iter_{exp_iter_num}'\n",
    "\n",
    "error_injector = RandomNullsInjectorV2(experiment_seed, columns_to_transform=COLUMNS_TO_TRANSFORM, row_idx_nulls_percentage=0.0)\n",
    "models_params_for_tuning = get_models_params_for_tuning(experiment_seed)\n",
    "# Create a transformed data loader\n",
    "exp_iter_data_loader = create_experiment_data_loader(data_loader)\n",
    "exp_iter_data_loader.columns_with_nulls = COLUMNS_TO_TRANSFORM\n",
    "preprocessor = get_null_imputer_preprocessor(exp_iter_data_loader, categorical_trimmed=0.3)\n",
    "# preprocessor = get_null_imputer_preprocessor(exp_iter_data_loader)"
   ],
   "metadata": {
    "collapsed": false
   }
  },
  {
   "cell_type": "code",
   "execution_count": 132,
   "id": "b4f966c9",
   "metadata": {
    "ExecuteTime": {
     "start_time": "2023-04-23T01:08:21.665188Z",
     "end_time": "2023-04-23T01:13:11.201499Z"
    }
   },
   "outputs": [
    {
     "name": "stderr",
     "output_type": "stream",
     "text": [
      "2023-04-23 23:17:11 experiment_interface.py INFO    : Start an experiment iteration for the following custom params:\n"
     ]
    },
    {
     "name": "stdout",
     "output_type": "stream",
     "text": [
      "{'dataset_split_seed': 200,\n",
      " 'error_percentages': '0%,10%,20%,40%,60%,80%,100%',\n",
      " 'error_type': 'Random Nulls',\n",
      " 'experiment_iteration': 'Exp_iter_2',\n",
      " 'injector_config_lst': '[0.1, 0.2, 0.4, 0.6, 0.8, 1.0]',\n",
      " 'model_init_seed': 200,\n",
      " 'preprocessing_technique': 'cat: mode_trimmed_0.3, num: median',\n",
      " 'session_uuid': 'a4febf95-81bf-4aee-9b51-a690d596d5d2'}\n",
      "\n",
      "\n",
      "[CV 2/3; 1/4] START criterion=gini, max_depth=20, max_features=sqrt, min_samples_split=0.1\n",
      "[CV 2/3; 1/4] END criterion=gini, max_depth=20, max_features=sqrt, min_samples_split=0.1; Accuracy_Score: (test=0.747) F1_Score: (test=0.727) total time=   0.1s\n",
      "[CV 1/3; 4/4] START criterion=entropy, max_depth=30, max_features=sqrt, min_samples_split=0.1\n",
      "[CV 1/3; 4/4] END criterion=entropy, max_depth=30, max_features=sqrt, min_samples_split=0.1; Accuracy_Score: (test=0.745) F1_Score: (test=0.729) total time=   0.1s\n",
      "[CV 3/3; 4/4] START criterion=entropy, max_depth=30, max_features=sqrt, min_samples_split=0.1\n",
      "[CV 3/3; 4/4] END criterion=entropy, max_depth=30, max_features=sqrt, min_samples_split=0.1; Accuracy_Score: (test=0.745) F1_Score: (test=0.729) total time=   0.1s\n",
      "[CV 1/3; 2/8] START C=0.0001, max_iter=250, penalty=l2, solver=lbfgs............\n",
      "[CV 1/3; 2/8] END C=0.0001, max_iter=250, penalty=l2, solver=lbfgs; Accuracy_Score: (test=0.714) F1_Score: (test=0.679) total time=   0.4s\n",
      "[CV 1/3; 4/8] START C=0.1, max_iter=250, penalty=l2, solver=lbfgs...............\n",
      "[CV 1/3; 4/8] END C=0.1, max_iter=250, penalty=l2, solver=lbfgs; Accuracy_Score: (test=0.768) F1_Score: (test=0.760) total time=   5.8s\n",
      "[CV 3/3; 6/8] START C=1, max_iter=250, penalty=l2, solver=lbfgs.................\n",
      "[CV 3/3; 6/8] END C=1, max_iter=250, penalty=l2, solver=lbfgs; Accuracy_Score: (test=0.758) F1_Score: (test=0.750) total time=   5.7s\n",
      "[CV 3/3; 7/8] START C=100, max_iter=250, penalty=l2, solver=newton-cg...........\n",
      "[CV 3/3; 7/8] END C=100, max_iter=250, penalty=l2, solver=newton-cg; Accuracy_Score: (test=0.758) F1_Score: (test=0.750) total time=  25.0s\n"
     ]
    },
    {
     "name": "stderr",
     "output_type": "stream",
     "text": [
      "2023-04-23 23:17:13 experiment_interface.py INFO    : The dataset is preprocessed\n"
     ]
    },
    {
     "name": "stdout",
     "output_type": "stream",
     "text": [
      "Top indexes of an X_test in a base flow dataset:  Int64Index([20518, 20570, 38530, 39945,  1713, 19318, 15625, 36291, 26020,\n",
      "            18954,  7039, 40519, 42300,  5620, 39590, 39048, 33565, 18881,\n",
      "            43190,  5750],\n",
      "           dtype='int64')\n",
      "Top indexes of an y_test in a base flow dataset:  Int64Index([20518, 20570, 38530, 39945,  1713, 19318, 15625, 36291, 26020,\n",
      "            18954,  7039, 40519, 42300,  5620, 39590, 39048, 33565, 18881,\n",
      "            43190,  5750],\n",
      "           dtype='int64')\n",
      "transformed_X_test.isnull().sum() --  MAR         42\n",
      "MIL         55\n",
      "ESP         48\n",
      "MIG         51\n",
      "DREM        49\n",
      "NATIVITY    53\n",
      "DIS         65\n",
      "DEAR        70\n",
      "DEYE        62\n",
      "SEX          0\n",
      "RAC1P        0\n",
      "RELP        62\n",
      "CIT         69\n",
      "ANC         65\n",
      "SCHL        52\n",
      "AGEP         0\n",
      "dtype: int64\n",
      "transformed_X_test.isnull().sum() --  MAR         142\n",
      "MIL         156\n",
      "ESP         141\n",
      "MIG         149\n",
      "DREM        152\n",
      "NATIVITY    150\n",
      "DIS         150\n",
      "DEAR        148\n",
      "DEYE        146\n",
      "SEX           0\n",
      "RAC1P         0\n",
      "RELP        162\n",
      "CIT         185\n",
      "ANC         164\n",
      "SCHL        138\n",
      "AGEP          0\n",
      "dtype: int64\n",
      "[CV 2/3; 3/4] START criterion=entropy, max_depth=20, max_features=sqrt, min_samples_split=0.1\n",
      "[CV 2/3; 3/4] END criterion=entropy, max_depth=20, max_features=sqrt, min_samples_split=0.1; Accuracy_Score: (test=0.755) F1_Score: (test=0.737) total time=   0.1s\n",
      "[CV 2/3; 3/8] START C=0.1, max_iter=250, penalty=l2, solver=newton-cg...........\n",
      "[CV 2/3; 3/8] END C=0.1, max_iter=250, penalty=l2, solver=newton-cg; Accuracy_Score: (test=0.776) F1_Score: (test=0.768) total time=   6.4s\n",
      "[CV 1/3; 7/8] START C=100, max_iter=250, penalty=l2, solver=newton-cg...........\n",
      "[CV 1/3; 7/8] END C=100, max_iter=250, penalty=l2, solver=newton-cg; Accuracy_Score: (test=0.769) F1_Score: (test=0.761) total time=  36.4s\n",
      "transformed_X_test.isnull().sum() --  MAR         528\n",
      "MIL         522\n",
      "ESP         526\n",
      "MIG         513\n",
      "DREM        535\n",
      "NATIVITY    521\n",
      "DIS         555\n",
      "DEAR        539\n",
      "DEYE        573\n",
      "SEX           0\n",
      "RAC1P         0\n",
      "RELP        523\n",
      "CIT         558\n",
      "ANC         551\n",
      "SCHL        519\n",
      "AGEP          0\n",
      "dtype: int64\n",
      "transformed_X_test.isnull().sum() --  MAR          989\n",
      "MIL          984\n",
      "ESP         1053\n",
      "MIG         1038\n",
      "DREM        1038\n",
      "NATIVITY    1051\n",
      "DIS         1043\n",
      "DEAR        1049\n",
      "DEYE        1038\n",
      "SEX            0\n",
      "RAC1P          0\n",
      "RELP        1019\n",
      "CIT         1046\n",
      "ANC         1037\n",
      "SCHL         991\n",
      "AGEP           0\n",
      "dtype: int64\n",
      "transformed_X_test.isnull().sum() --  MAR         1830\n",
      "MIL         1845\n",
      "ESP         1845\n",
      "MIG         1844\n",
      "DREM        1871\n",
      "NATIVITY    1873\n",
      "DIS         1822\n",
      "DEAR        1857\n",
      "DEYE        1927\n",
      "SEX            0\n",
      "RAC1P          0\n",
      "RELP        1821\n",
      "CIT         1849\n",
      "ANC         1864\n",
      "SCHL        1823\n",
      "AGEP           0\n",
      "dtype: int64\n",
      "transformed_X_test.isnull().sum() --  MAR         2689\n",
      "MIL         2649\n",
      "ESP         2736\n",
      "MIG         2713\n",
      "DREM        2729\n",
      "NATIVITY    2706\n",
      "DIS         2654\n",
      "DEAR        2697\n",
      "DEYE        2731\n",
      "SEX            0\n",
      "RAC1P          0\n",
      "RELP        2705\n",
      "CIT         2689\n",
      "ANC         2694\n",
      "SCHL        2673\n",
      "AGEP           0\n",
      "dtype: int64\n",
      "2023/04/23, 23:18:37: Tuning DecisionTreeClassifier...\n",
      "Fitting 3 folds for each of 4 candidates, totalling 12 fits\n",
      "2023/04/23, 23:18:38: Tuning for DecisionTreeClassifier is finished [F1 score = 0.7314692777466018, Accuracy = 0.7483333333333334]\n",
      "\n",
      "2023/04/23, 23:18:38: Tuning LogisticRegression...\n",
      "Fitting 3 folds for each of 8 candidates, totalling 24 fits\n"
     ]
    },
    {
     "name": "stderr",
     "output_type": "stream",
     "text": [
      "2023-04-23 23:19:23 experiment_interface.py INFO    : Models are tuned and saved to a file\n"
     ]
    },
    {
     "name": "stdout",
     "output_type": "stream",
     "text": [
      "2023/04/23, 23:19:23: Tuning for LogisticRegression is finished [F1 score = 0.7601191992518244, Accuracy = 0.7677333333333335]\n",
      "\n"
     ]
    },
    {
     "data": {
      "text/plain": "Multiple runs progress:   0%|          | 0/2 [00:00<?, ?it/s]",
      "application/vnd.jupyter.widget-view+json": {
       "version_major": 2,
       "version_minor": 0,
       "model_id": "7efc6c3141194490a9ed870797e29f4d"
      }
     },
     "metadata": {},
     "output_type": "display_data"
    },
    {
     "data": {
      "text/plain": "Analyze models in one run:   0%|          | 0/2 [00:00<?, ?it/s]",
      "application/vnd.jupyter.widget-view+json": {
       "version_major": 2,
       "version_minor": 0,
       "model_id": "c02a736c3e0a4b52a3adc095fe05f3a7"
      }
     },
     "metadata": {},
     "output_type": "display_data"
    },
    {
     "data": {
      "text/plain": "Classifiers testing by bootstrap:   0%|          | 0/10 [00:00<?, ?it/s]",
      "application/vnd.jupyter.widget-view+json": {
       "version_major": 2,
       "version_minor": 0,
       "model_id": "b6dc0479c18146bfa858c06ce036b5e2"
      }
     },
     "metadata": {},
     "output_type": "display_data"
    },
    {
     "data": {
      "text/plain": "Classifiers testing by bootstrap:   0%|          | 0/10 [00:00<?, ?it/s]",
      "application/vnd.jupyter.widget-view+json": {
       "version_major": 2,
       "version_minor": 0,
       "model_id": "4b41d3e71d884cf6a9a3cc004047d2d2"
      }
     },
     "metadata": {},
     "output_type": "display_data"
    },
    {
     "data": {
      "text/plain": "Analyze models in one run:   0%|          | 0/2 [00:00<?, ?it/s]",
      "application/vnd.jupyter.widget-view+json": {
       "version_major": 2,
       "version_minor": 0,
       "model_id": "b75d825ba27d4fdb82b2854ce1eae44b"
      }
     },
     "metadata": {},
     "output_type": "display_data"
    },
    {
     "data": {
      "text/plain": "Classifiers testing by bootstrap:   0%|          | 0/10 [00:00<?, ?it/s]",
      "application/vnd.jupyter.widget-view+json": {
       "version_major": 2,
       "version_minor": 0,
       "model_id": "b2926f806bfe43a5bfd05be09dbef680"
      }
     },
     "metadata": {},
     "output_type": "display_data"
    },
    {
     "data": {
      "text/plain": "Classifiers testing by bootstrap:   0%|          | 0/10 [00:00<?, ?it/s]",
      "application/vnd.jupyter.widget-view+json": {
       "version_major": 2,
       "version_minor": 0,
       "model_id": "ca7de5e9499f4f51a4eb11c8e64a0476"
      }
     },
     "metadata": {},
     "output_type": "display_data"
    }
   ],
   "source": [
    "run_exp_iter_with_models_stress_testing(data_loader=exp_iter_data_loader,\n",
    "                                        experiment_seed=experiment_seed,\n",
    "                                        test_set_fraction=TEST_SET_FRACTION,\n",
    "                                        db_writer_func=db_writer_func,\n",
    "                                        error_injector=error_injector,\n",
    "                                        injector_config_lst=INJECTOR_CONFIG_LST,\n",
    "                                        preprocessor=preprocessor,\n",
    "                                        models_params_for_tuning=models_params_for_tuning,\n",
    "                                        metrics_computation_config=metrics_computation_config,\n",
    "                                        custom_table_fields_dct=custom_table_fields_dct,\n",
    "                                        with_tuning=True,\n",
    "                                        save_results_dir_path=SAVE_RESULTS_DIR_PATH,\n",
    "                                        tuned_params_df_path=None,\n",
    "                                        verbose=True)"
   ]
  },
  {
   "cell_type": "code",
   "execution_count": 54,
   "id": "4382096a",
   "metadata": {
    "ExecuteTime": {
     "end_time": "2023-04-22T17:12:09.025575Z",
     "start_time": "2023-04-22T17:12:08.968229Z"
    }
   },
   "outputs": [],
   "source": [
    "client.close()"
   ]
  },
  {
   "cell_type": "code",
   "execution_count": 54,
   "id": "b07fbb86",
   "metadata": {
    "ExecuteTime": {
     "end_time": "2023-04-22T17:12:09.025679Z",
     "start_time": "2023-04-22T17:12:08.972200Z"
    }
   },
   "outputs": [],
   "source": []
  }
 ],
 "metadata": {
  "kernelspec": {
   "display_name": "Python 3 (ipykernel)",
   "language": "python",
   "name": "python3"
  },
  "language_info": {
   "codemirror_mode": {
    "name": "ipython",
    "version": 3
   },
   "file_extension": ".py",
   "mimetype": "text/x-python",
   "name": "python",
   "nbconvert_exporter": "python",
   "pygments_lexer": "ipython3",
   "version": "3.8.8"
  }
 },
 "nbformat": 4,
 "nbformat_minor": 5
}
