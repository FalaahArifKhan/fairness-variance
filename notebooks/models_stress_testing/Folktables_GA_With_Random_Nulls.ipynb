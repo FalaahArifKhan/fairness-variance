{
 "cells": [
  {
   "cell_type": "code",
   "execution_count": 71,
   "id": "bee4de34",
   "metadata": {
    "ExecuteTime": {
     "end_time": "2023-04-22T17:06:09.249675Z",
     "start_time": "2023-04-22T17:06:09.233480Z"
    }
   },
   "outputs": [],
   "source": [
    "# !pip install -r ../exp_requirements.txt"
   ]
  },
  {
   "cell_type": "code",
   "execution_count": 72,
   "id": "1d159721",
   "metadata": {
    "ExecuteTime": {
     "end_time": "2023-04-22T17:06:09.276223Z",
     "start_time": "2023-04-22T17:06:09.251393Z"
    }
   },
   "outputs": [],
   "source": [
    "# !pip uninstall virny -y"
   ]
  },
  {
   "cell_type": "code",
   "execution_count": 73,
   "id": "1aba3b9e",
   "metadata": {
    "ExecuteTime": {
     "end_time": "2023-04-22T17:06:09.293739Z",
     "start_time": "2023-04-22T17:06:09.271221Z"
    }
   },
   "outputs": [],
   "source": [
    "# Install using an HTTP link\n",
    "# !pip install git+https://github.com/DataResponsibly/Virny.git@development\n",
    "\n",
    "# Install using an SSH link\n",
    "# !pip install git+ssh://git@github.com/DataResponsibly/Virny.git@development"
   ]
  },
  {
   "cell_type": "code",
   "execution_count": 1,
   "id": "248cbed8",
   "metadata": {
    "ExecuteTime": {
     "end_time": "2023-04-22T17:25:25.104358Z",
     "start_time": "2023-04-22T17:25:24.653259Z"
    }
   },
   "outputs": [],
   "source": [
    "%matplotlib inline\n",
    "%load_ext autoreload\n",
    "%autoreload 2"
   ]
  },
  {
   "cell_type": "code",
   "execution_count": 2,
   "id": "7ec6cd08",
   "metadata": {
    "ExecuteTime": {
     "end_time": "2023-04-22T17:25:25.114201Z",
     "start_time": "2023-04-22T17:25:25.105281Z"
    }
   },
   "outputs": [],
   "source": [
    "import os\n",
    "import warnings\n",
    "warnings.filterwarnings('ignore')\n",
    "os.environ[\"PYTHONWARNINGS\"] = \"ignore\""
   ]
  },
  {
   "cell_type": "markdown",
   "id": "a578f2ab",
   "metadata": {},
   "source": [
    "# Folktables GA Dataset With Random Nulls"
   ]
  },
  {
   "cell_type": "markdown",
   "id": "606df34d",
   "metadata": {},
   "source": [
    "## Import dependencies"
   ]
  },
  {
   "cell_type": "code",
   "execution_count": 3,
   "id": "7a9241de",
   "metadata": {
    "ExecuteTime": {
     "end_time": "2023-04-22T17:25:26.407432Z",
     "start_time": "2023-04-22T17:25:25.116135Z"
    }
   },
   "outputs": [],
   "source": [
    "import os\n",
    "import copy\n",
    "\n",
    "from xgboost import XGBClassifier\n",
    "from sklearn.tree import DecisionTreeClassifier\n",
    "from sklearn.linear_model import LogisticRegression\n",
    "from sklearn.ensemble import RandomForestClassifier\n",
    "from sklearn.neighbors import KNeighborsClassifier\n",
    "from sklearn.neural_network import MLPClassifier\n",
    "\n",
    "from virny.utils.custom_initializers import create_config_obj, create_models_metrics_dct_from_database_df\n",
    "from virny.datasets.data_loaders import ACSEmploymentDataset\n",
    "from source.user_interfaces.experiment_interface import run_exp_iter_with_models_stress_testing\n",
    "from source.error_injectors.random_nulls_injector_v2 import RandomNullsInjectorV2\n",
    "from source.utils.custom_initializers import create_experiment_data_loader\n",
    "from source.utils.db_functions import read_model_metric_dfs_from_db\n",
    "from source.preprocessing.basic_preprocessing import get_null_imputer_preprocessor\n",
    "\n",
    "from configs.constants import NUM_METRICS_COMPUTATION_RUNS, EXPERIMENT_SEEDS, TEST_SET_FRACTION"
   ]
  },
  {
   "cell_type": "markdown",
   "id": "75699f5f",
   "metadata": {},
   "source": [
    "## Initialize input variables for the experiment"
   ]
  },
  {
   "cell_type": "code",
   "execution_count": 4,
   "id": "95768787",
   "metadata": {
    "ExecuteTime": {
     "end_time": "2023-04-22T17:25:28.029442Z",
     "start_time": "2023-04-22T17:25:27.987789Z"
    }
   },
   "outputs": [],
   "source": [
    "ROOT_DIR = os.path.join(os.getcwd(), \"..\", \"..\")\n",
    "EXPERIMENT_NAME = 'stress_testing_nulls'\n",
    "DB_COLLECTION_NAME = f'{EXPERIMENT_NAME}_results'\n",
    "SAVE_RESULTS_DIR_PATH = os.path.join(ROOT_DIR, 'results', EXPERIMENT_NAME)\n",
    "COLUMNS_TO_TRANSFORM = ['SCHL', 'MAR', 'DIS', 'ESP', 'DEAR', 'DEYE', 'DREM', 'MIL']"
   ]
  },
  {
   "cell_type": "code",
   "execution_count": 5,
   "id": "e2eea22a",
   "metadata": {
    "ExecuteTime": {
     "end_time": "2023-04-22T17:25:33.312069Z",
     "start_time": "2023-04-22T17:25:30.651475Z"
    }
   },
   "outputs": [
    {
     "data": {
      "text/html": [
       "<div>\n",
       "<style scoped>\n",
       "    .dataframe tbody tr th:only-of-type {\n",
       "        vertical-align: middle;\n",
       "    }\n",
       "\n",
       "    .dataframe tbody tr th {\n",
       "        vertical-align: top;\n",
       "    }\n",
       "\n",
       "    .dataframe thead th {\n",
       "        text-align: right;\n",
       "    }\n",
       "</style>\n",
       "<table border=\"1\" class=\"dataframe\">\n",
       "  <thead>\n",
       "    <tr style=\"text-align: right;\">\n",
       "      <th></th>\n",
       "      <th>MAR</th>\n",
       "      <th>MIL</th>\n",
       "      <th>ESP</th>\n",
       "      <th>MIG</th>\n",
       "      <th>DREM</th>\n",
       "      <th>NATIVITY</th>\n",
       "      <th>DIS</th>\n",
       "      <th>DEAR</th>\n",
       "      <th>DEYE</th>\n",
       "      <th>SEX</th>\n",
       "      <th>RAC1P</th>\n",
       "      <th>RELP</th>\n",
       "      <th>CIT</th>\n",
       "      <th>ANC</th>\n",
       "      <th>SCHL</th>\n",
       "      <th>AGEP</th>\n",
       "    </tr>\n",
       "  </thead>\n",
       "  <tbody>\n",
       "    <tr>\n",
       "      <th>0</th>\n",
       "      <td>1</td>\n",
       "      <td>4</td>\n",
       "      <td>0</td>\n",
       "      <td>1</td>\n",
       "      <td>2</td>\n",
       "      <td>1</td>\n",
       "      <td>2</td>\n",
       "      <td>2</td>\n",
       "      <td>2</td>\n",
       "      <td>2</td>\n",
       "      <td>1</td>\n",
       "      <td>1</td>\n",
       "      <td>1</td>\n",
       "      <td>1</td>\n",
       "      <td>21</td>\n",
       "      <td>31</td>\n",
       "    </tr>\n",
       "    <tr>\n",
       "      <th>1</th>\n",
       "      <td>5</td>\n",
       "      <td>4</td>\n",
       "      <td>0</td>\n",
       "      <td>3</td>\n",
       "      <td>2</td>\n",
       "      <td>2</td>\n",
       "      <td>2</td>\n",
       "      <td>2</td>\n",
       "      <td>2</td>\n",
       "      <td>2</td>\n",
       "      <td>1</td>\n",
       "      <td>12</td>\n",
       "      <td>5</td>\n",
       "      <td>2</td>\n",
       "      <td>21</td>\n",
       "      <td>22</td>\n",
       "    </tr>\n",
       "    <tr>\n",
       "      <th>2</th>\n",
       "      <td>2</td>\n",
       "      <td>4</td>\n",
       "      <td>0</td>\n",
       "      <td>1</td>\n",
       "      <td>2</td>\n",
       "      <td>1</td>\n",
       "      <td>1</td>\n",
       "      <td>2</td>\n",
       "      <td>1</td>\n",
       "      <td>2</td>\n",
       "      <td>1</td>\n",
       "      <td>16</td>\n",
       "      <td>1</td>\n",
       "      <td>1</td>\n",
       "      <td>19</td>\n",
       "      <td>88</td>\n",
       "    </tr>\n",
       "    <tr>\n",
       "      <th>3</th>\n",
       "      <td>1</td>\n",
       "      <td>4</td>\n",
       "      <td>0</td>\n",
       "      <td>1</td>\n",
       "      <td>2</td>\n",
       "      <td>1</td>\n",
       "      <td>2</td>\n",
       "      <td>2</td>\n",
       "      <td>2</td>\n",
       "      <td>2</td>\n",
       "      <td>2</td>\n",
       "      <td>0</td>\n",
       "      <td>1</td>\n",
       "      <td>1</td>\n",
       "      <td>16</td>\n",
       "      <td>71</td>\n",
       "    </tr>\n",
       "    <tr>\n",
       "      <th>4</th>\n",
       "      <td>1</td>\n",
       "      <td>2</td>\n",
       "      <td>0</td>\n",
       "      <td>1</td>\n",
       "      <td>1</td>\n",
       "      <td>1</td>\n",
       "      <td>1</td>\n",
       "      <td>1</td>\n",
       "      <td>2</td>\n",
       "      <td>1</td>\n",
       "      <td>1</td>\n",
       "      <td>0</td>\n",
       "      <td>1</td>\n",
       "      <td>1</td>\n",
       "      <td>21</td>\n",
       "      <td>44</td>\n",
       "    </tr>\n",
       "  </tbody>\n",
       "</table>\n",
       "</div>"
      ],
      "text/plain": [
       "  MAR MIL ESP MIG DREM NATIVITY DIS DEAR DEYE SEX RAC1P RELP CIT ANC SCHL  \\\n",
       "0   1   4   0   1    2        1   2    2    2   2     1    1   1   1   21   \n",
       "1   5   4   0   3    2        2   2    2    2   2     1   12   5   2   21   \n",
       "2   2   4   0   1    2        1   1    2    1   2     1   16   1   1   19   \n",
       "3   1   4   0   1    2        1   2    2    2   2     2    0   1   1   16   \n",
       "4   1   2   0   1    1        1   1    1    2   1     1    0   1   1   21   \n",
       "\n",
       "   AGEP  \n",
       "0    31  \n",
       "1    22  \n",
       "2    88  \n",
       "3    71  \n",
       "4    44  "
      ]
     },
     "execution_count": 5,
     "metadata": {},
     "output_type": "execute_result"
    }
   ],
   "source": [
    "data_loader = ACSEmploymentDataset(state=['GA'], year=2018, with_nulls=False, subsample_size=50_000, subsample_seed=42)\n",
    "data_loader.X_data.head()"
   ]
  },
  {
   "cell_type": "code",
   "execution_count": 6,
   "id": "b4745bc8",
   "metadata": {
    "ExecuteTime": {
     "end_time": "2023-04-22T17:25:33.447712Z",
     "start_time": "2023-04-22T17:25:33.311757Z"
    }
   },
   "outputs": [
    {
     "data": {
      "text/plain": [
       "MAR         0\n",
       "MIL         0\n",
       "ESP         0\n",
       "MIG         0\n",
       "DREM        0\n",
       "NATIVITY    0\n",
       "DIS         0\n",
       "DEAR        0\n",
       "DEYE        0\n",
       "SEX         0\n",
       "RAC1P       0\n",
       "RELP        0\n",
       "CIT         0\n",
       "ANC         0\n",
       "SCHL        0\n",
       "AGEP        0\n",
       "dtype: int64"
      ]
     },
     "execution_count": 6,
     "metadata": {},
     "output_type": "execute_result"
    }
   ],
   "source": [
    "data_loader.full_df.isna().sum()"
   ]
  },
  {
   "cell_type": "markdown",
   "id": "b08cc201",
   "metadata": {},
   "source": [
    "### Define a db writer and custom fields to insert into your database"
   ]
  },
  {
   "cell_type": "code",
   "execution_count": 7,
   "id": "1ed6ef1f",
   "metadata": {
    "ExecuteTime": {
     "end_time": "2023-04-22T17:25:34.437395Z",
     "start_time": "2023-04-22T17:25:34.232007Z"
    }
   },
   "outputs": [],
   "source": [
    "from source.utils.db_functions import connect_to_mongodb\n",
    "\n",
    "client, collection_obj, db_writer_func = connect_to_mongodb(DB_COLLECTION_NAME)"
   ]
  },
  {
   "cell_type": "code",
   "execution_count": 8,
   "id": "b9d110e2",
   "metadata": {
    "ExecuteTime": {
     "end_time": "2023-04-22T17:27:26.338054Z",
     "start_time": "2023-04-22T17:27:26.310378Z"
    }
   },
   "outputs": [],
   "source": [
    "custom_table_fields_dct = {\n",
    "    'error_type': 'Random Nulls',\n",
    "    'error_percentages': '0%,5%,10%,20%,30%,40%,50%',\n",
    "    'preprocessing_technique': 'cat: mode, num: median',\n",
    "}"
   ]
  },
  {
   "cell_type": "code",
   "execution_count": 12,
   "id": "bd3d755b",
   "metadata": {
    "ExecuteTime": {
     "end_time": "2023-04-22T17:28:13.868706Z",
     "start_time": "2023-04-22T17:28:13.829450Z"
    }
   },
   "outputs": [
    {
     "name": "stdout",
     "output_type": "stream",
     "text": [
      "Current session uuid:  c53d250b-5ba9-4d91-a444-ed7eb7919de5\n"
     ]
    }
   ],
   "source": [
    "import uuid\n",
    "\n",
    "# custom_table_fields_dct['session_uuid'] = 'c53d250b-5ba9-4d91-a444-ed7eb7919de5'\n",
    "custom_table_fields_dct['session_uuid'] = str(uuid.uuid4())\n",
    "print('Current session uuid: ', custom_table_fields_dct['session_uuid'])"
   ]
  },
  {
   "cell_type": "markdown",
   "id": "57c0a138",
   "metadata": {},
   "source": [
    "### Create a metrics computation config object"
   ]
  },
  {
   "cell_type": "code",
   "execution_count": 83,
   "id": "e66a4013",
   "metadata": {
    "ExecuteTime": {
     "end_time": "2023-04-22T17:06:12.258048Z",
     "start_time": "2023-04-22T17:06:12.236209Z"
    }
   },
   "outputs": [],
   "source": [
    "config_yaml_path = 'experiment_config.yaml'\n",
    "age_range = [i for i in range(30, 41)]\n",
    "config_yaml_content = \\\n",
    "f\"\"\"\n",
    "dataset_name: Folktables_GA_2018\n",
    "bootstrap_fraction: 0.8\n",
    "# n_estimators: 50\n",
    "n_estimators: 10\n",
    "# num_runs: {NUM_METRICS_COMPUTATION_RUNS}\n",
    "num_runs: 2\n",
    "sensitive_attributes_dct: {{'SEX': '1', 'RAC1P': '1', 'AGEP': {age_range}, 'SEX & RAC1P & AGEP': None}}\n",
    "\"\"\"\n",
    "\n",
    "with open(config_yaml_path, 'w', encoding='utf-8') as f:\n",
    "    f.write(config_yaml_content)"
   ]
  },
  {
   "cell_type": "code",
   "execution_count": 84,
   "id": "62dfa85c",
   "metadata": {
    "ExecuteTime": {
     "end_time": "2023-04-22T17:06:12.326541Z",
     "start_time": "2023-04-22T17:06:12.236351Z"
    }
   },
   "outputs": [],
   "source": [
    "metrics_computation_config = create_config_obj(config_yaml_path=config_yaml_path)"
   ]
  },
  {
   "cell_type": "markdown",
   "id": "1a1f5ef2",
   "metadata": {},
   "source": [
    "### Define tuning parameter for models"
   ]
  },
  {
   "cell_type": "code",
   "execution_count": 85,
   "id": "41fe64fe",
   "metadata": {
    "ExecuteTime": {
     "end_time": "2023-04-22T17:06:12.329990Z",
     "start_time": "2023-04-22T17:06:12.280262Z"
    }
   },
   "outputs": [],
   "source": [
    "def get_models_params_for_tuning(models_tuning_seed):\n",
    "    return {\n",
    "        'DecisionTreeClassifier': {\n",
    "            'model': DecisionTreeClassifier(random_state=models_tuning_seed),\n",
    "            'params': {\n",
    "                \"max_depth\": [20, 30],\n",
    "                \"min_samples_split\" : [0.1],\n",
    "                \"max_features\": ['sqrt'],\n",
    "                \"criterion\": [\"gini\", \"entropy\"]\n",
    "            }\n",
    "        },\n",
    "        'LogisticRegression': {\n",
    "            'model': LogisticRegression(random_state=models_tuning_seed),\n",
    "            'params': {\n",
    "                'penalty': ['l2'],\n",
    "                'C' : [0.0001, 0.1, 1, 100],\n",
    "                'solver': ['newton-cg', 'lbfgs'],\n",
    "                'max_iter': [250],\n",
    "            }\n",
    "        },\n",
    "        # 'RandomForestClassifier': {\n",
    "        #     'model': RandomForestClassifier(random_state=models_tuning_seed),\n",
    "        #     'params': {\n",
    "        #         \"max_depth\": [6, 10],\n",
    "        #         \"min_samples_leaf\": [1],\n",
    "        #         \"n_estimators\": [50, 100],\n",
    "        #         \"max_features\": [0.6]\n",
    "        #     }\n",
    "        # },\n",
    "        # 'XGBClassifier': {\n",
    "        #     'model': XGBClassifier(random_state=models_tuning_seed, verbosity=0),\n",
    "        #     'params': {\n",
    "        #         'learning_rate': [0.1],\n",
    "        #         'n_estimators': [200],\n",
    "        #         'max_depth': [5, 7],\n",
    "        #         'lambda':  [10, 100]\n",
    "        #     }\n",
    "        # },\n",
    "        # 'KNeighborsClassifier': {\n",
    "        #     'model': KNeighborsClassifier(),\n",
    "        #     'params': {\n",
    "        #         'n_neighbors' : [5, 7, 9, 11, 13, 15, 25],\n",
    "        #         'weights' : ['uniform', 'distance'],\n",
    "        #         'metric' : ['minkowski', 'euclidean', 'manhattan']\n",
    "        #     }\n",
    "        # },\n",
    "        # 'MLPClassifier': {\n",
    "        #     'model': MLPClassifier(random_state=models_tuning_seed),\n",
    "        #     'params': {\n",
    "        #         'hidden_layer_sizes':[(100,), (100,100,), (100,50,100,)],\n",
    "        #         'activation': ['logistic', 'tanh', 'relu'],\n",
    "        #         'solver': ['lbfgs', 'sgd', 'adam'],\n",
    "        #         'learning_rate': ['constant', 'invscaling', 'adaptive']\n",
    "        #     }\n",
    "        # }\n",
    "    }"
   ]
  },
  {
   "cell_type": "markdown",
   "id": "e9399ecb",
   "metadata": {},
   "source": [
    "## Run experiments"
   ]
  },
  {
   "cell_type": "markdown",
   "id": "647d5a60",
   "metadata": {},
   "source": [
    "### Experiment iteration 1"
   ]
  },
  {
   "cell_type": "code",
   "execution_count": 86,
   "id": "7beab8da",
   "metadata": {
    "ExecuteTime": {
     "end_time": "2023-04-22T17:06:12.340797Z",
     "start_time": "2023-04-22T17:06:12.280419Z"
    }
   },
   "outputs": [],
   "source": [
    "# Configs for an experiment iteration\n",
    "exp_iter_num = 1\n",
    "experiment_seed = EXPERIMENT_SEEDS[exp_iter_num - 1]\n",
    "custom_table_fields_dct['experiment_iteration'] = f'Exp_iter_{exp_iter_num}'\n",
    "injector_config_lst = [0.05, 0.1, 0.2, 0.3, 0.4, 0.5]\n",
    "\n",
    "error_injector = RandomNullsInjectorV2(experiment_seed, columns_to_transform=COLUMNS_TO_TRANSFORM, row_idx_nulls_percentage=0.0)\n",
    "models_params_for_tuning = get_models_params_for_tuning(experiment_seed)\n",
    "# Create a transformed data loader\n",
    "exp_iter_data_loader = create_experiment_data_loader(data_loader)\n",
    "preprocessor = get_null_imputer_preprocessor(exp_iter_data_loader)"
   ]
  },
  {
   "cell_type": "code",
   "execution_count": 87,
   "id": "2326c129",
   "metadata": {
    "ExecuteTime": {
     "end_time": "2023-04-22T17:12:08.249600Z",
     "start_time": "2023-04-22T17:06:12.324268Z"
    }
   },
   "outputs": [
    {
     "name": "stderr",
     "output_type": "stream",
     "text": [
      "2023-04-22 17:06:12 experiment_interface.py INFO    : Start an experiment iteration for the following custom params:\n"
     ]
    },
    {
     "name": "stdout",
     "output_type": "stream",
     "text": [
      "{'dataset_split_seed': 100,\n",
      " 'error_percentages': '0%,5%,10%,20%,30%,40%,50%',\n",
      " 'error_type': 'Random Nulls',\n",
      " 'experiment_iteration': 'Exp_iter_1',\n",
      " 'injector_config_lst': '[0.05, 0.1, 0.2, 0.3, 0.4, 0.5]',\n",
      " 'model_init_seed': 100,\n",
      " 'preprocessing_technique': 'cat: mode, num: median',\n",
      " 'session_uuid': 'c53d250b-5ba9-4d91-a444-ed7eb7919de5'}\n",
      "\n",
      "\n"
     ]
    },
    {
     "name": "stderr",
     "output_type": "stream",
     "text": [
      "2023-04-22 17:06:12 experiment_interface.py INFO    : The dataset is preprocessed\n"
     ]
    },
    {
     "name": "stdout",
     "output_type": "stream",
     "text": [
      "Top indexes of an X_test in a base flow dataset:  Int64Index([ 4253, 30076, 48047,  1666, 30740, 13830, 34366,  5893, 45012,\n",
      "            20187, 40178,  7958, 32251,  8493,  8752,  1984,  8898, 10170,\n",
      "            20852, 19844],\n",
      "           dtype='int64')\n",
      "Top indexes of an y_test in a base flow dataset:  Int64Index([ 4253, 30076, 48047,  1666, 30740, 13830, 34366,  5893, 45012,\n",
      "            20187, 40178,  7958, 32251,  8493,  8752,  1984,  8898, 10170,\n",
      "            20852, 19844],\n",
      "           dtype='int64')\n",
      "2023/04/22, 17:06:13: Tuning DecisionTreeClassifier...\n",
      "Fitting 3 folds for each of 4 candidates, totalling 12 fits\n",
      "2023/04/22, 17:06:15: Tuning for DecisionTreeClassifier is finished [F1 score = 0.7493647181329992, Accuracy = 0.7602000000000001]\n",
      "\n",
      "2023/04/22, 17:06:15: Tuning LogisticRegression...\n",
      "Fitting 3 folds for each of 8 candidates, totalling 24 fits\n"
     ]
    },
    {
     "name": "stderr",
     "output_type": "stream",
     "text": [
      "2023-04-22 17:06:37 experiment_interface.py INFO    : Models are tuned and saved to a file\n"
     ]
    },
    {
     "name": "stdout",
     "output_type": "stream",
     "text": [
      "2023/04/22, 17:06:37: Tuning for LogisticRegression is finished [F1 score = 0.756821338459865, Accuracy = 0.7643666666666666]\n",
      "\n"
     ]
    },
    {
     "data": {
      "application/vnd.jupyter.widget-view+json": {
       "model_id": "beaecbeedac94557bc338334afb57df2",
       "version_major": 2,
       "version_minor": 0
      },
      "text/plain": [
       "Multiple runs progress:   0%|          | 0/2 [00:00<?, ?it/s]"
      ]
     },
     "metadata": {},
     "output_type": "display_data"
    },
    {
     "data": {
      "application/vnd.jupyter.widget-view+json": {
       "model_id": "cbe9c1f850f9405c970a53ba0a7b81f9",
       "version_major": 2,
       "version_minor": 0
      },
      "text/plain": [
       "Analyze models in one run:   0%|          | 0/2 [00:00<?, ?it/s]"
      ]
     },
     "metadata": {},
     "output_type": "display_data"
    },
    {
     "data": {
      "application/vnd.jupyter.widget-view+json": {
       "model_id": "10165cdcea7643b49eb8632c8d1d466c",
       "version_major": 2,
       "version_minor": 0
      },
      "text/plain": [
       "Classifiers testing by bootstrap:   0%|          | 0/10 [00:00<?, ?it/s]"
      ]
     },
     "metadata": {},
     "output_type": "display_data"
    },
    {
     "data": {
      "application/vnd.jupyter.widget-view+json": {
       "model_id": "bb2e6501e0a745958b819a3916557662",
       "version_major": 2,
       "version_minor": 0
      },
      "text/plain": [
       "Classifiers testing by bootstrap:   0%|          | 0/10 [00:00<?, ?it/s]"
      ]
     },
     "metadata": {},
     "output_type": "display_data"
    },
    {
     "data": {
      "application/vnd.jupyter.widget-view+json": {
       "model_id": "8201d404c84142718ba533bddaef647c",
       "version_major": 2,
       "version_minor": 0
      },
      "text/plain": [
       "Classifiers testing by bootstrap:   0%|          | 0/10 [00:00<?, ?it/s]"
      ]
     },
     "metadata": {},
     "output_type": "display_data"
    },
    {
     "data": {
      "application/vnd.jupyter.widget-view+json": {
       "model_id": "f2a528a5ebf948ffa947d477e8406aa3",
       "version_major": 2,
       "version_minor": 0
      },
      "text/plain": [
       "Classifiers testing by bootstrap:   0%|          | 0/10 [00:00<?, ?it/s]"
      ]
     },
     "metadata": {},
     "output_type": "display_data"
    },
    {
     "data": {
      "application/vnd.jupyter.widget-view+json": {
       "model_id": "7bf5a1b245974e2aaf82bd7ff4b81187",
       "version_major": 2,
       "version_minor": 0
      },
      "text/plain": [
       "Classifiers testing by bootstrap:   0%|          | 0/10 [00:00<?, ?it/s]"
      ]
     },
     "metadata": {},
     "output_type": "display_data"
    },
    {
     "data": {
      "application/vnd.jupyter.widget-view+json": {
       "model_id": "5b59338049ae490a98f1fdb1b337ab1f",
       "version_major": 2,
       "version_minor": 0
      },
      "text/plain": [
       "Classifiers testing by bootstrap:   0%|          | 0/10 [00:00<?, ?it/s]"
      ]
     },
     "metadata": {},
     "output_type": "display_data"
    },
    {
     "data": {
      "application/vnd.jupyter.widget-view+json": {
       "model_id": "43b911fcd1e84b818b4d2104a8f9746b",
       "version_major": 2,
       "version_minor": 0
      },
      "text/plain": [
       "Classifiers testing by bootstrap:   0%|          | 0/10 [00:00<?, ?it/s]"
      ]
     },
     "metadata": {},
     "output_type": "display_data"
    },
    {
     "data": {
      "application/vnd.jupyter.widget-view+json": {
       "model_id": "dcaea3e29bf645859d190d148333461a",
       "version_major": 2,
       "version_minor": 0
      },
      "text/plain": [
       "Classifiers testing by bootstrap:   0%|          | 0/10 [00:00<?, ?it/s]"
      ]
     },
     "metadata": {},
     "output_type": "display_data"
    },
    {
     "data": {
      "application/vnd.jupyter.widget-view+json": {
       "model_id": "c4b7c888eb9749798d57a99a6ac2e85a",
       "version_major": 2,
       "version_minor": 0
      },
      "text/plain": [
       "Classifiers testing by bootstrap:   0%|          | 0/10 [00:00<?, ?it/s]"
      ]
     },
     "metadata": {},
     "output_type": "display_data"
    },
    {
     "data": {
      "application/vnd.jupyter.widget-view+json": {
       "model_id": "f3d17c58f017413b866fb797d4123c36",
       "version_major": 2,
       "version_minor": 0
      },
      "text/plain": [
       "Classifiers testing by bootstrap:   0%|          | 0/10 [00:00<?, ?it/s]"
      ]
     },
     "metadata": {},
     "output_type": "display_data"
    },
    {
     "data": {
      "application/vnd.jupyter.widget-view+json": {
       "model_id": "2f33af91213947c5a88f93ca620ac1f0",
       "version_major": 2,
       "version_minor": 0
      },
      "text/plain": [
       "Classifiers testing by bootstrap:   0%|          | 0/10 [00:00<?, ?it/s]"
      ]
     },
     "metadata": {},
     "output_type": "display_data"
    },
    {
     "data": {
      "application/vnd.jupyter.widget-view+json": {
       "model_id": "efc71743b0404213b23a150b9c3db15c",
       "version_major": 2,
       "version_minor": 0
      },
      "text/plain": [
       "Classifiers testing by bootstrap:   0%|          | 0/10 [00:00<?, ?it/s]"
      ]
     },
     "metadata": {},
     "output_type": "display_data"
    },
    {
     "data": {
      "application/vnd.jupyter.widget-view+json": {
       "model_id": "c70c2123aa3b4d168be68b21e836db50",
       "version_major": 2,
       "version_minor": 0
      },
      "text/plain": [
       "Classifiers testing by bootstrap:   0%|          | 0/10 [00:00<?, ?it/s]"
      ]
     },
     "metadata": {},
     "output_type": "display_data"
    },
    {
     "data": {
      "application/vnd.jupyter.widget-view+json": {
       "model_id": "4088a9b7905c49b184709e1320d72976",
       "version_major": 2,
       "version_minor": 0
      },
      "text/plain": [
       "Classifiers testing by bootstrap:   0%|          | 0/10 [00:00<?, ?it/s]"
      ]
     },
     "metadata": {},
     "output_type": "display_data"
    },
    {
     "data": {
      "application/vnd.jupyter.widget-view+json": {
       "model_id": "6b3ca91e974f449bb633b75495dd42fe",
       "version_major": 2,
       "version_minor": 0
      },
      "text/plain": [
       "Analyze models in one run:   0%|          | 0/2 [00:00<?, ?it/s]"
      ]
     },
     "metadata": {},
     "output_type": "display_data"
    },
    {
     "data": {
      "application/vnd.jupyter.widget-view+json": {
       "model_id": "091fe1220cf14e3ba36af91d77ecde93",
       "version_major": 2,
       "version_minor": 0
      },
      "text/plain": [
       "Classifiers testing by bootstrap:   0%|          | 0/10 [00:00<?, ?it/s]"
      ]
     },
     "metadata": {},
     "output_type": "display_data"
    },
    {
     "data": {
      "application/vnd.jupyter.widget-view+json": {
       "model_id": "178cab3fa5cd420984869536bf0d3d9c",
       "version_major": 2,
       "version_minor": 0
      },
      "text/plain": [
       "Classifiers testing by bootstrap:   0%|          | 0/10 [00:00<?, ?it/s]"
      ]
     },
     "metadata": {},
     "output_type": "display_data"
    },
    {
     "data": {
      "application/vnd.jupyter.widget-view+json": {
       "model_id": "7d928e7b3301449193017eb3e5eae6b6",
       "version_major": 2,
       "version_minor": 0
      },
      "text/plain": [
       "Classifiers testing by bootstrap:   0%|          | 0/10 [00:00<?, ?it/s]"
      ]
     },
     "metadata": {},
     "output_type": "display_data"
    },
    {
     "data": {
      "application/vnd.jupyter.widget-view+json": {
       "model_id": "16ec424f02104d2eba3e3d16f8c6f875",
       "version_major": 2,
       "version_minor": 0
      },
      "text/plain": [
       "Classifiers testing by bootstrap:   0%|          | 0/10 [00:00<?, ?it/s]"
      ]
     },
     "metadata": {},
     "output_type": "display_data"
    },
    {
     "data": {
      "application/vnd.jupyter.widget-view+json": {
       "model_id": "d5687e8ea8ed41b4999dedf4cec04f4d",
       "version_major": 2,
       "version_minor": 0
      },
      "text/plain": [
       "Classifiers testing by bootstrap:   0%|          | 0/10 [00:00<?, ?it/s]"
      ]
     },
     "metadata": {},
     "output_type": "display_data"
    },
    {
     "data": {
      "application/vnd.jupyter.widget-view+json": {
       "model_id": "bb10b9dd296e4c308c90170cddaf8424",
       "version_major": 2,
       "version_minor": 0
      },
      "text/plain": [
       "Classifiers testing by bootstrap:   0%|          | 0/10 [00:00<?, ?it/s]"
      ]
     },
     "metadata": {},
     "output_type": "display_data"
    },
    {
     "data": {
      "application/vnd.jupyter.widget-view+json": {
       "model_id": "3f8784bf438046598a34211d5e9c7c55",
       "version_major": 2,
       "version_minor": 0
      },
      "text/plain": [
       "Classifiers testing by bootstrap:   0%|          | 0/10 [00:00<?, ?it/s]"
      ]
     },
     "metadata": {},
     "output_type": "display_data"
    },
    {
     "data": {
      "application/vnd.jupyter.widget-view+json": {
       "model_id": "3296f138c3bd415fafcf8fc2fc8d0416",
       "version_major": 2,
       "version_minor": 0
      },
      "text/plain": [
       "Classifiers testing by bootstrap:   0%|          | 0/10 [00:00<?, ?it/s]"
      ]
     },
     "metadata": {},
     "output_type": "display_data"
    },
    {
     "data": {
      "application/vnd.jupyter.widget-view+json": {
       "model_id": "2b5ced8efbce4a53a0bfd5f274e721a6",
       "version_major": 2,
       "version_minor": 0
      },
      "text/plain": [
       "Classifiers testing by bootstrap:   0%|          | 0/10 [00:00<?, ?it/s]"
      ]
     },
     "metadata": {},
     "output_type": "display_data"
    },
    {
     "data": {
      "application/vnd.jupyter.widget-view+json": {
       "model_id": "a954b19206fc44d6811495d22a73547a",
       "version_major": 2,
       "version_minor": 0
      },
      "text/plain": [
       "Classifiers testing by bootstrap:   0%|          | 0/10 [00:00<?, ?it/s]"
      ]
     },
     "metadata": {},
     "output_type": "display_data"
    },
    {
     "name": "stdout",
     "output_type": "stream",
     "text": [
      "[CV 2/3; 3/4] START criterion=entropy, max_depth=20, max_features=sqrt, min_samples_split=0.1\n",
      "[CV 2/3; 3/4] END criterion=entropy, max_depth=20, max_features=sqrt, min_samples_split=0.1; Accuracy_Score: (test=0.761) F1_Score: (test=0.748) total time=   0.1s\n",
      "[CV 3/3; 2/8] START C=0.0001, max_iter=250, penalty=l2, solver=lbfgs............\n",
      "[CV 3/3; 2/8] END C=0.0001, max_iter=250, penalty=l2, solver=lbfgs; Accuracy_Score: (test=0.599) F1_Score: (test=0.459) total time=   0.2s\n",
      "[CV 3/3; 3/8] START C=0.1, max_iter=250, penalty=l2, solver=newton-cg...........\n",
      "[CV 3/3; 3/8] END C=0.1, max_iter=250, penalty=l2, solver=newton-cg; Accuracy_Score: (test=0.760) F1_Score: (test=0.752) total time=   1.6s\n",
      "[CV 1/3; 6/8] START C=1, max_iter=250, penalty=l2, solver=lbfgs.................\n",
      "[CV 1/3; 6/8] END C=1, max_iter=250, penalty=l2, solver=lbfgs; Accuracy_Score: (test=0.766) F1_Score: (test=0.758) total time=   5.4s\n",
      "[CV 2/3; 2/4] START criterion=gini, max_depth=30, max_features=sqrt, min_samples_split=0.1\n",
      "[CV 2/3; 2/4] END criterion=gini, max_depth=30, max_features=sqrt, min_samples_split=0.1; Accuracy_Score: (test=0.764) F1_Score: (test=0.753) total time=   0.1s\n",
      "[CV 1/3; 1/8] START C=0.0001, max_iter=250, penalty=l2, solver=newton-cg........\n",
      "[CV 1/3; 1/8] END C=0.0001, max_iter=250, penalty=l2, solver=newton-cg; Accuracy_Score: (test=0.711) F1_Score: (test=0.669) total time=   1.0s\n",
      "[CV 2/3; 5/8] START C=1, max_iter=250, penalty=l2, solver=newton-cg.............\n",
      "[CV 2/3; 5/8] END C=1, max_iter=250, penalty=l2, solver=newton-cg; Accuracy_Score: (test=0.766) F1_Score: (test=0.760) total time=   5.1s\n",
      "[CV 3/3; 8/8] START C=100, max_iter=250, penalty=l2, solver=lbfgs...............\n",
      "[CV 3/3; 8/8] END C=100, max_iter=250, penalty=l2, solver=lbfgs; Accuracy_Score: (test=0.759) F1_Score: (test=0.751) total time=   1.9s\n",
      "[CV 1/3; 1/4] START criterion=gini, max_depth=20, max_features=sqrt, min_samples_split=0.1\n",
      "[CV 1/3; 1/4] END criterion=gini, max_depth=20, max_features=sqrt, min_samples_split=0.1; Accuracy_Score: (test=0.765) F1_Score: (test=0.754) total time=   0.1s\n",
      "[CV 1/3; 4/4] START criterion=entropy, max_depth=30, max_features=sqrt, min_samples_split=0.1\n",
      "[CV 1/3; 4/4] END criterion=entropy, max_depth=30, max_features=sqrt, min_samples_split=0.1; Accuracy_Score: (test=0.765) F1_Score: (test=0.754) total time=   0.1s\n",
      "[CV 3/3; 1/8] START C=0.0001, max_iter=250, penalty=l2, solver=newton-cg........\n",
      "[CV 3/3; 1/8] END C=0.0001, max_iter=250, penalty=l2, solver=newton-cg; Accuracy_Score: (test=0.599) F1_Score: (test=0.459) total time=   0.3s\n",
      "[CV 2/3; 4/8] START C=0.1, max_iter=250, penalty=l2, solver=lbfgs...............\n",
      "[CV 2/3; 4/8] END C=0.1, max_iter=250, penalty=l2, solver=lbfgs; Accuracy_Score: (test=0.766) F1_Score: (test=0.759) total time=   1.5s\n",
      "[CV 2/3; 6/8] START C=1, max_iter=250, penalty=l2, solver=lbfgs.................\n",
      "[CV 2/3; 6/8] END C=1, max_iter=250, penalty=l2, solver=lbfgs; Accuracy_Score: (test=0.766) F1_Score: (test=0.759) total time=   3.9s\n",
      "[CV 2/3; 8/8] START C=100, max_iter=250, penalty=l2, solver=lbfgs...............\n",
      "[CV 2/3; 8/8] END C=100, max_iter=250, penalty=l2, solver=lbfgs; Accuracy_Score: (test=0.766) F1_Score: (test=0.759) total time=   3.5s\n",
      "[CV 1/3; 2/4] START criterion=gini, max_depth=30, max_features=sqrt, min_samples_split=0.1\n",
      "[CV 1/3; 2/4] END criterion=gini, max_depth=30, max_features=sqrt, min_samples_split=0.1; Accuracy_Score: (test=0.765) F1_Score: (test=0.754) total time=   0.1s\n",
      "[CV 2/3; 1/8] START C=0.0001, max_iter=250, penalty=l2, solver=newton-cg........\n",
      "[CV 2/3; 1/8] END C=0.0001, max_iter=250, penalty=l2, solver=newton-cg; Accuracy_Score: (test=0.678) F1_Score: (test=0.618) total time=   0.9s\n",
      "[CV 1/3; 5/8] START C=1, max_iter=250, penalty=l2, solver=newton-cg.............\n",
      "[CV 1/3; 5/8] END C=1, max_iter=250, penalty=l2, solver=newton-cg; Accuracy_Score: (test=0.766) F1_Score: (test=0.758) total time=   8.4s\n",
      "[CV 3/3; 2/4] START criterion=gini, max_depth=30, max_features=sqrt, min_samples_split=0.1\n",
      "[CV 3/3; 2/4] END criterion=gini, max_depth=30, max_features=sqrt, min_samples_split=0.1; Accuracy_Score: (test=0.751) F1_Score: (test=0.741) total time=   0.0s\n",
      "[CV 2/3; 3/8] START C=0.1, max_iter=250, penalty=l2, solver=newton-cg...........\n",
      "[CV 2/3; 3/8] END C=0.1, max_iter=250, penalty=l2, solver=newton-cg; Accuracy_Score: (test=0.766) F1_Score: (test=0.759) total time=   3.0s\n",
      "[CV 3/3; 6/8] START C=1, max_iter=250, penalty=l2, solver=lbfgs.................\n",
      "[CV 3/3; 6/8] END C=1, max_iter=250, penalty=l2, solver=lbfgs; Accuracy_Score: (test=0.761) F1_Score: (test=0.753) total time=   1.8s\n",
      "[CV 3/3; 7/8] START C=100, max_iter=250, penalty=l2, solver=newton-cg...........\n",
      "[CV 3/3; 7/8] END C=100, max_iter=250, penalty=l2, solver=newton-cg; Accuracy_Score: (test=0.760) F1_Score: (test=0.752) total time=   4.9s\n",
      "[CV 1/3; 3/4] START criterion=entropy, max_depth=20, max_features=sqrt, min_samples_split=0.1\n",
      "[CV 1/3; 3/4] END criterion=entropy, max_depth=20, max_features=sqrt, min_samples_split=0.1; Accuracy_Score: (test=0.765) F1_Score: (test=0.754) total time=   0.1s\n",
      "[CV 1/3; 3/8] START C=0.1, max_iter=250, penalty=l2, solver=newton-cg...........\n",
      "[CV 1/3; 3/8] END C=0.1, max_iter=250, penalty=l2, solver=newton-cg; Accuracy_Score: (test=0.765) F1_Score: (test=0.756) total time=   5.3s\n",
      "[CV 1/3; 8/8] START C=100, max_iter=250, penalty=l2, solver=lbfgs...............\n",
      "[CV 1/3; 8/8] END C=100, max_iter=250, penalty=l2, solver=lbfgs; Accuracy_Score: (test=0.766) F1_Score: (test=0.758) total time=   4.5s\n",
      "[CV 3/3; 1/4] START criterion=gini, max_depth=20, max_features=sqrt, min_samples_split=0.1\n",
      "[CV 3/3; 1/4] END criterion=gini, max_depth=20, max_features=sqrt, min_samples_split=0.1; Accuracy_Score: (test=0.751) F1_Score: (test=0.741) total time=   0.1s\n",
      "[CV 3/3; 4/4] START criterion=entropy, max_depth=30, max_features=sqrt, min_samples_split=0.1\n",
      "[CV 3/3; 4/4] END criterion=entropy, max_depth=30, max_features=sqrt, min_samples_split=0.1; Accuracy_Score: (test=0.751) F1_Score: (test=0.741) total time=   0.1s\n",
      "[CV 2/3; 2/8] START C=0.0001, max_iter=250, penalty=l2, solver=lbfgs............\n",
      "[CV 2/3; 2/8] END C=0.0001, max_iter=250, penalty=l2, solver=lbfgs; Accuracy_Score: (test=0.678) F1_Score: (test=0.618) total time=   0.3s\n",
      "[CV 1/3; 4/8] START C=0.1, max_iter=250, penalty=l2, solver=lbfgs...............\n",
      "[CV 1/3; 4/8] END C=0.1, max_iter=250, penalty=l2, solver=lbfgs; Accuracy_Score: (test=0.765) F1_Score: (test=0.756) total time=   3.7s\n",
      "[CV 2/3; 7/8] START C=100, max_iter=250, penalty=l2, solver=newton-cg...........\n",
      "[CV 2/3; 7/8] END C=100, max_iter=250, penalty=l2, solver=newton-cg; Accuracy_Score: (test=0.766) F1_Score: (test=0.759) total time=   9.4s\n"
     ]
    },
    {
     "data": {
      "application/vnd.jupyter.widget-view+json": {
       "model_id": "19c9c44e0087485fa8cb4604cb1191f5",
       "version_major": 2,
       "version_minor": 0
      },
      "text/plain": [
       "Classifiers testing by bootstrap:   0%|          | 0/10 [00:00<?, ?it/s]"
      ]
     },
     "metadata": {},
     "output_type": "display_data"
    },
    {
     "name": "stdout",
     "output_type": "stream",
     "text": [
      "[CV 2/3; 1/4] START criterion=gini, max_depth=20, max_features=sqrt, min_samples_split=0.1\n",
      "[CV 2/3; 1/4] END criterion=gini, max_depth=20, max_features=sqrt, min_samples_split=0.1; Accuracy_Score: (test=0.764) F1_Score: (test=0.753) total time=   0.1s\n",
      "[CV 3/3; 3/4] START criterion=entropy, max_depth=20, max_features=sqrt, min_samples_split=0.1\n",
      "[CV 3/3; 3/4] END criterion=entropy, max_depth=20, max_features=sqrt, min_samples_split=0.1; Accuracy_Score: (test=0.751) F1_Score: (test=0.741) total time=   0.1s\n",
      "[CV 2/3; 4/4] START criterion=entropy, max_depth=30, max_features=sqrt, min_samples_split=0.1\n",
      "[CV 2/3; 4/4] END criterion=entropy, max_depth=30, max_features=sqrt, min_samples_split=0.1; Accuracy_Score: (test=0.761) F1_Score: (test=0.748) total time=   0.1s\n",
      "[CV 1/3; 2/8] START C=0.0001, max_iter=250, penalty=l2, solver=lbfgs............\n",
      "[CV 1/3; 2/8] END C=0.0001, max_iter=250, penalty=l2, solver=lbfgs; Accuracy_Score: (test=0.711) F1_Score: (test=0.669) total time=   0.3s\n",
      "[CV 3/3; 4/8] START C=0.1, max_iter=250, penalty=l2, solver=lbfgs...............\n",
      "[CV 3/3; 4/8] END C=0.1, max_iter=250, penalty=l2, solver=lbfgs; Accuracy_Score: (test=0.760) F1_Score: (test=0.752) total time=   0.8s\n",
      "[CV 3/3; 5/8] START C=1, max_iter=250, penalty=l2, solver=newton-cg.............\n",
      "[CV 3/3; 5/8] END C=1, max_iter=250, penalty=l2, solver=newton-cg; Accuracy_Score: (test=0.761) F1_Score: (test=0.753) total time=   2.2s\n",
      "[CV 1/3; 7/8] START C=100, max_iter=250, penalty=l2, solver=newton-cg...........\n",
      "[CV 1/3; 7/8] END C=100, max_iter=250, penalty=l2, solver=newton-cg; Accuracy_Score: (test=0.766) F1_Score: (test=0.758) total time=  14.5s\n"
     ]
    },
    {
     "data": {
      "application/vnd.jupyter.widget-view+json": {
       "model_id": "a1bc28507f4b4263a9667130942ada63",
       "version_major": 2,
       "version_minor": 0
      },
      "text/plain": [
       "Classifiers testing by bootstrap:   0%|          | 0/10 [00:00<?, ?it/s]"
      ]
     },
     "metadata": {},
     "output_type": "display_data"
    },
    {
     "data": {
      "application/vnd.jupyter.widget-view+json": {
       "model_id": "ddb930c76ce548e69fbf4f0c6c228e7d",
       "version_major": 2,
       "version_minor": 0
      },
      "text/plain": [
       "Classifiers testing by bootstrap:   0%|          | 0/10 [00:00<?, ?it/s]"
      ]
     },
     "metadata": {},
     "output_type": "display_data"
    },
    {
     "data": {
      "application/vnd.jupyter.widget-view+json": {
       "model_id": "421c6ee8fb4b46b7a678e6b458f7fe93",
       "version_major": 2,
       "version_minor": 0
      },
      "text/plain": [
       "Classifiers testing by bootstrap:   0%|          | 0/10 [00:00<?, ?it/s]"
      ]
     },
     "metadata": {},
     "output_type": "display_data"
    }
   ],
   "source": [
    "run_exp_iter_with_models_stress_testing(data_loader=exp_iter_data_loader,\n",
    "                                        experiment_seed=experiment_seed,\n",
    "                                        test_set_fraction=TEST_SET_FRACTION,\n",
    "                                        db_writer_func=db_writer_func,\n",
    "                                        error_injector=error_injector,\n",
    "                                        injector_config_lst=injector_config_lst,\n",
    "                                        preprocessor=preprocessor,\n",
    "                                        models_params_for_tuning=models_params_for_tuning,\n",
    "                                        metrics_computation_config=metrics_computation_config,\n",
    "                                        custom_table_fields_dct=custom_table_fields_dct,\n",
    "                                        with_tuning=True,\n",
    "                                        save_results_dir_path=SAVE_RESULTS_DIR_PATH,\n",
    "                                        tuned_params_df_path=None,\n",
    "                                        verbose=True)"
   ]
  },
  {
   "cell_type": "code",
   "execution_count": 13,
   "id": "1f4045b0",
   "metadata": {
    "ExecuteTime": {
     "end_time": "2023-04-22T17:28:24.903566Z",
     "start_time": "2023-04-22T17:28:23.897274Z"
    }
   },
   "outputs": [],
   "source": [
    "model_metric_dfs = read_model_metric_dfs_from_db(collection_obj, custom_table_fields_dct['session_uuid'])\n",
    "models_metrics_dct = create_models_metrics_dct_from_database_df(model_metric_dfs)"
   ]
  },
  {
   "cell_type": "code",
   "execution_count": 18,
   "id": "612f5317",
   "metadata": {
    "ExecuteTime": {
     "end_time": "2023-04-22T17:30:16.584711Z",
     "start_time": "2023-04-22T17:30:16.527303Z"
    }
   },
   "outputs": [
    {
     "data": {
      "text/html": [
       "<div>\n",
       "<style scoped>\n",
       "    .dataframe tbody tr th:only-of-type {\n",
       "        vertical-align: middle;\n",
       "    }\n",
       "\n",
       "    .dataframe tbody tr th {\n",
       "        vertical-align: top;\n",
       "    }\n",
       "\n",
       "    .dataframe thead th {\n",
       "        text-align: right;\n",
       "    }\n",
       "</style>\n",
       "<table border=\"1\" class=\"dataframe\">\n",
       "  <thead>\n",
       "    <tr style=\"text-align: right;\">\n",
       "      <th></th>\n",
       "      <th>Metric</th>\n",
       "      <th>Bootstrap_Model_Seed</th>\n",
       "      <th>Model_Name</th>\n",
       "      <th>Model_Params</th>\n",
       "      <th>Run_Number</th>\n",
       "      <th>Dataset_Name</th>\n",
       "      <th>Num_Estimators</th>\n",
       "      <th>Test_Set_Index</th>\n",
       "      <th>Tag</th>\n",
       "      <th>Record_Create_Date_Time</th>\n",
       "      <th>...</th>\n",
       "      <th>Injector_Config_Lst</th>\n",
       "      <th>AGEP_dis</th>\n",
       "      <th>AGEP_priv</th>\n",
       "      <th>RAC1P_dis</th>\n",
       "      <th>RAC1P_priv</th>\n",
       "      <th>SEX&amp;RAC1P&amp;AGEP_dis</th>\n",
       "      <th>SEX&amp;RAC1P&amp;AGEP_priv</th>\n",
       "      <th>SEX_dis</th>\n",
       "      <th>SEX_priv</th>\n",
       "      <th>overall</th>\n",
       "    </tr>\n",
       "  </thead>\n",
       "  <tbody>\n",
       "    <tr>\n",
       "      <th>0</th>\n",
       "      <td>Accuracy</td>\n",
       "      <td>101</td>\n",
       "      <td>DecisionTreeClassifier</td>\n",
       "      <td>{'ccp_alpha': 0.0, 'class_weight': None, 'crit...</td>\n",
       "      <td>Run_1</td>\n",
       "      <td>Folktables_GA_2018</td>\n",
       "      <td>10</td>\n",
       "      <td>0</td>\n",
       "      <td>OK</td>\n",
       "      <td>2023-04-22 14:09:26.705</td>\n",
       "      <td>...</td>\n",
       "      <td>[0.05, 0.1, 0.2, 0.3, 0.4, 0.5]</td>\n",
       "      <td>0.770941</td>\n",
       "      <td>0.819535</td>\n",
       "      <td>0.771368</td>\n",
       "      <td>0.782867</td>\n",
       "      <td>0.737063</td>\n",
       "      <td>0.905405</td>\n",
       "      <td>0.746923</td>\n",
       "      <td>0.813958</td>\n",
       "      <td>0.779100</td>\n",
       "    </tr>\n",
       "    <tr>\n",
       "      <th>1</th>\n",
       "      <td>Accuracy</td>\n",
       "      <td>101</td>\n",
       "      <td>DecisionTreeClassifier</td>\n",
       "      <td>{'ccp_alpha': 0.0, 'class_weight': None, 'crit...</td>\n",
       "      <td>Run_1</td>\n",
       "      <td>Folktables_GA_2018</td>\n",
       "      <td>10</td>\n",
       "      <td>1</td>\n",
       "      <td>OK</td>\n",
       "      <td>2023-04-22 14:09:26.716</td>\n",
       "      <td>...</td>\n",
       "      <td>[0.05, 0.1, 0.2, 0.3, 0.4, 0.5]</td>\n",
       "      <td>0.768537</td>\n",
       "      <td>0.815962</td>\n",
       "      <td>0.768010</td>\n",
       "      <td>0.780637</td>\n",
       "      <td>0.735664</td>\n",
       "      <td>0.899614</td>\n",
       "      <td>0.745962</td>\n",
       "      <td>0.809583</td>\n",
       "      <td>0.776500</td>\n",
       "    </tr>\n",
       "    <tr>\n",
       "      <th>2</th>\n",
       "      <td>Accuracy</td>\n",
       "      <td>101</td>\n",
       "      <td>DecisionTreeClassifier</td>\n",
       "      <td>{'ccp_alpha': 0.0, 'class_weight': None, 'crit...</td>\n",
       "      <td>Run_1</td>\n",
       "      <td>Folktables_GA_2018</td>\n",
       "      <td>10</td>\n",
       "      <td>2</td>\n",
       "      <td>OK</td>\n",
       "      <td>2023-04-22 14:09:26.728</td>\n",
       "      <td>...</td>\n",
       "      <td>[0.05, 0.1, 0.2, 0.3, 0.4, 0.5]</td>\n",
       "      <td>0.767456</td>\n",
       "      <td>0.813580</td>\n",
       "      <td>0.766484</td>\n",
       "      <td>0.779447</td>\n",
       "      <td>0.734965</td>\n",
       "      <td>0.893822</td>\n",
       "      <td>0.746154</td>\n",
       "      <td>0.806667</td>\n",
       "      <td>0.775200</td>\n",
       "    </tr>\n",
       "    <tr>\n",
       "      <th>3</th>\n",
       "      <td>Accuracy</td>\n",
       "      <td>101</td>\n",
       "      <td>DecisionTreeClassifier</td>\n",
       "      <td>{'ccp_alpha': 0.0, 'class_weight': None, 'crit...</td>\n",
       "      <td>Run_1</td>\n",
       "      <td>Folktables_GA_2018</td>\n",
       "      <td>10</td>\n",
       "      <td>3</td>\n",
       "      <td>OK</td>\n",
       "      <td>2023-04-22 14:09:26.745</td>\n",
       "      <td>...</td>\n",
       "      <td>[0.05, 0.1, 0.2, 0.3, 0.4, 0.5]</td>\n",
       "      <td>0.762889</td>\n",
       "      <td>0.805241</td>\n",
       "      <td>0.761600</td>\n",
       "      <td>0.774093</td>\n",
       "      <td>0.734266</td>\n",
       "      <td>0.886100</td>\n",
       "      <td>0.743269</td>\n",
       "      <td>0.798958</td>\n",
       "      <td>0.770000</td>\n",
       "    </tr>\n",
       "    <tr>\n",
       "      <th>4</th>\n",
       "      <td>Accuracy</td>\n",
       "      <td>101</td>\n",
       "      <td>DecisionTreeClassifier</td>\n",
       "      <td>{'ccp_alpha': 0.0, 'class_weight': None, 'crit...</td>\n",
       "      <td>Run_1</td>\n",
       "      <td>Folktables_GA_2018</td>\n",
       "      <td>10</td>\n",
       "      <td>4</td>\n",
       "      <td>OK</td>\n",
       "      <td>2023-04-22 14:09:26.758</td>\n",
       "      <td>...</td>\n",
       "      <td>[0.05, 0.1, 0.2, 0.3, 0.4, 0.5]</td>\n",
       "      <td>0.757481</td>\n",
       "      <td>0.794521</td>\n",
       "      <td>0.757021</td>\n",
       "      <td>0.766954</td>\n",
       "      <td>0.730769</td>\n",
       "      <td>0.874517</td>\n",
       "      <td>0.738654</td>\n",
       "      <td>0.790833</td>\n",
       "      <td>0.763700</td>\n",
       "    </tr>\n",
       "    <tr>\n",
       "      <th>...</th>\n",
       "      <td>...</td>\n",
       "      <td>...</td>\n",
       "      <td>...</td>\n",
       "      <td>...</td>\n",
       "      <td>...</td>\n",
       "      <td>...</td>\n",
       "      <td>...</td>\n",
       "      <td>...</td>\n",
       "      <td>...</td>\n",
       "      <td>...</td>\n",
       "      <td>...</td>\n",
       "      <td>...</td>\n",
       "      <td>...</td>\n",
       "      <td>...</td>\n",
       "      <td>...</td>\n",
       "      <td>...</td>\n",
       "      <td>...</td>\n",
       "      <td>...</td>\n",
       "      <td>...</td>\n",
       "      <td>...</td>\n",
       "      <td>...</td>\n",
       "    </tr>\n",
       "    <tr>\n",
       "      <th>384</th>\n",
       "      <td>Std</td>\n",
       "      <td>102</td>\n",
       "      <td>DecisionTreeClassifier</td>\n",
       "      <td>{'ccp_alpha': 0.0, 'class_weight': None, 'crit...</td>\n",
       "      <td>Run_2</td>\n",
       "      <td>Folktables_GA_2018</td>\n",
       "      <td>10</td>\n",
       "      <td>6</td>\n",
       "      <td>OK</td>\n",
       "      <td>2023-04-22 14:12:06.054</td>\n",
       "      <td>...</td>\n",
       "      <td>[0.05, 0.1, 0.2, 0.3, 0.4, 0.5]</td>\n",
       "      <td>0.108235</td>\n",
       "      <td>0.102747</td>\n",
       "      <td>0.107442</td>\n",
       "      <td>0.107251</td>\n",
       "      <td>0.095273</td>\n",
       "      <td>0.104002</td>\n",
       "      <td>0.097839</td>\n",
       "      <td>0.117578</td>\n",
       "      <td>0.107314</td>\n",
       "    </tr>\n",
       "    <tr>\n",
       "      <th>392</th>\n",
       "      <td>TNR</td>\n",
       "      <td>101</td>\n",
       "      <td>DecisionTreeClassifier</td>\n",
       "      <td>{'ccp_alpha': 0.0, 'class_weight': None, 'crit...</td>\n",
       "      <td>Run_1</td>\n",
       "      <td>Folktables_GA_2018</td>\n",
       "      <td>10</td>\n",
       "      <td>0</td>\n",
       "      <td>OK</td>\n",
       "      <td>2023-04-22 14:09:26.705</td>\n",
       "      <td>...</td>\n",
       "      <td>[0.05, 0.1, 0.2, 0.3, 0.4, 0.5]</td>\n",
       "      <td>0.698099</td>\n",
       "      <td>0.363874</td>\n",
       "      <td>0.638908</td>\n",
       "      <td>0.684048</td>\n",
       "      <td>0.628169</td>\n",
       "      <td>0.578947</td>\n",
       "      <td>0.613821</td>\n",
       "      <td>0.739583</td>\n",
       "      <td>0.668950</td>\n",
       "    </tr>\n",
       "    <tr>\n",
       "      <th>393</th>\n",
       "      <td>TNR</td>\n",
       "      <td>101</td>\n",
       "      <td>DecisionTreeClassifier</td>\n",
       "      <td>{'ccp_alpha': 0.0, 'class_weight': None, 'crit...</td>\n",
       "      <td>Run_1</td>\n",
       "      <td>Folktables_GA_2018</td>\n",
       "      <td>10</td>\n",
       "      <td>1</td>\n",
       "      <td>OK</td>\n",
       "      <td>2023-04-22 14:09:26.716</td>\n",
       "      <td>...</td>\n",
       "      <td>[0.05, 0.1, 0.2, 0.3, 0.4, 0.5]</td>\n",
       "      <td>0.699850</td>\n",
       "      <td>0.379581</td>\n",
       "      <td>0.643686</td>\n",
       "      <td>0.686106</td>\n",
       "      <td>0.632394</td>\n",
       "      <td>0.592105</td>\n",
       "      <td>0.616260</td>\n",
       "      <td>0.743229</td>\n",
       "      <td>0.671918</td>\n",
       "    </tr>\n",
       "    <tr>\n",
       "      <th>394</th>\n",
       "      <td>TNR</td>\n",
       "      <td>101</td>\n",
       "      <td>DecisionTreeClassifier</td>\n",
       "      <td>{'ccp_alpha': 0.0, 'class_weight': None, 'crit...</td>\n",
       "      <td>Run_1</td>\n",
       "      <td>Folktables_GA_2018</td>\n",
       "      <td>10</td>\n",
       "      <td>2</td>\n",
       "      <td>OK</td>\n",
       "      <td>2023-04-22 14:09:26.728</td>\n",
       "      <td>...</td>\n",
       "      <td>[0.05, 0.1, 0.2, 0.3, 0.4, 0.5]</td>\n",
       "      <td>0.702601</td>\n",
       "      <td>0.384817</td>\n",
       "      <td>0.645734</td>\n",
       "      <td>0.689537</td>\n",
       "      <td>0.633803</td>\n",
       "      <td>0.592105</td>\n",
       "      <td>0.620325</td>\n",
       "      <td>0.744792</td>\n",
       "      <td>0.674886</td>\n",
       "    </tr>\n",
       "    <tr>\n",
       "      <th>395</th>\n",
       "      <td>TNR</td>\n",
       "      <td>101</td>\n",
       "      <td>DecisionTreeClassifier</td>\n",
       "      <td>{'ccp_alpha': 0.0, 'class_weight': None, 'crit...</td>\n",
       "      <td>Run_1</td>\n",
       "      <td>Folktables_GA_2018</td>\n",
       "      <td>10</td>\n",
       "      <td>3</td>\n",
       "      <td>OK</td>\n",
       "      <td>2023-04-22 14:09:26.745</td>\n",
       "      <td>...</td>\n",
       "      <td>[0.05, 0.1, 0.2, 0.3, 0.4, 0.5]</td>\n",
       "      <td>0.708104</td>\n",
       "      <td>0.390052</td>\n",
       "      <td>0.653242</td>\n",
       "      <td>0.693997</td>\n",
       "      <td>0.643662</td>\n",
       "      <td>0.605263</td>\n",
       "      <td>0.626829</td>\n",
       "      <td>0.748958</td>\n",
       "      <td>0.680365</td>\n",
       "    </tr>\n",
       "  </tbody>\n",
       "</table>\n",
       "<p>200 rows × 27 columns</p>\n",
       "</div>"
      ],
      "text/plain": [
       "       Metric  Bootstrap_Model_Seed              Model_Name  \\\n",
       "0    Accuracy                   101  DecisionTreeClassifier   \n",
       "1    Accuracy                   101  DecisionTreeClassifier   \n",
       "2    Accuracy                   101  DecisionTreeClassifier   \n",
       "3    Accuracy                   101  DecisionTreeClassifier   \n",
       "4    Accuracy                   101  DecisionTreeClassifier   \n",
       "..        ...                   ...                     ...   \n",
       "384       Std                   102  DecisionTreeClassifier   \n",
       "392       TNR                   101  DecisionTreeClassifier   \n",
       "393       TNR                   101  DecisionTreeClassifier   \n",
       "394       TNR                   101  DecisionTreeClassifier   \n",
       "395       TNR                   101  DecisionTreeClassifier   \n",
       "\n",
       "                                          Model_Params Run_Number  \\\n",
       "0    {'ccp_alpha': 0.0, 'class_weight': None, 'crit...      Run_1   \n",
       "1    {'ccp_alpha': 0.0, 'class_weight': None, 'crit...      Run_1   \n",
       "2    {'ccp_alpha': 0.0, 'class_weight': None, 'crit...      Run_1   \n",
       "3    {'ccp_alpha': 0.0, 'class_weight': None, 'crit...      Run_1   \n",
       "4    {'ccp_alpha': 0.0, 'class_weight': None, 'crit...      Run_1   \n",
       "..                                                 ...        ...   \n",
       "384  {'ccp_alpha': 0.0, 'class_weight': None, 'crit...      Run_2   \n",
       "392  {'ccp_alpha': 0.0, 'class_weight': None, 'crit...      Run_1   \n",
       "393  {'ccp_alpha': 0.0, 'class_weight': None, 'crit...      Run_1   \n",
       "394  {'ccp_alpha': 0.0, 'class_weight': None, 'crit...      Run_1   \n",
       "395  {'ccp_alpha': 0.0, 'class_weight': None, 'crit...      Run_1   \n",
       "\n",
       "           Dataset_Name  Num_Estimators  Test_Set_Index Tag  \\\n",
       "0    Folktables_GA_2018              10               0  OK   \n",
       "1    Folktables_GA_2018              10               1  OK   \n",
       "2    Folktables_GA_2018              10               2  OK   \n",
       "3    Folktables_GA_2018              10               3  OK   \n",
       "4    Folktables_GA_2018              10               4  OK   \n",
       "..                  ...             ...             ...  ..   \n",
       "384  Folktables_GA_2018              10               6  OK   \n",
       "392  Folktables_GA_2018              10               0  OK   \n",
       "393  Folktables_GA_2018              10               1  OK   \n",
       "394  Folktables_GA_2018              10               2  OK   \n",
       "395  Folktables_GA_2018              10               3  OK   \n",
       "\n",
       "    Record_Create_Date_Time  ...              Injector_Config_Lst  AGEP_dis  \\\n",
       "0   2023-04-22 14:09:26.705  ...  [0.05, 0.1, 0.2, 0.3, 0.4, 0.5]  0.770941   \n",
       "1   2023-04-22 14:09:26.716  ...  [0.05, 0.1, 0.2, 0.3, 0.4, 0.5]  0.768537   \n",
       "2   2023-04-22 14:09:26.728  ...  [0.05, 0.1, 0.2, 0.3, 0.4, 0.5]  0.767456   \n",
       "3   2023-04-22 14:09:26.745  ...  [0.05, 0.1, 0.2, 0.3, 0.4, 0.5]  0.762889   \n",
       "4   2023-04-22 14:09:26.758  ...  [0.05, 0.1, 0.2, 0.3, 0.4, 0.5]  0.757481   \n",
       "..                      ...  ...                              ...       ...   \n",
       "384 2023-04-22 14:12:06.054  ...  [0.05, 0.1, 0.2, 0.3, 0.4, 0.5]  0.108235   \n",
       "392 2023-04-22 14:09:26.705  ...  [0.05, 0.1, 0.2, 0.3, 0.4, 0.5]  0.698099   \n",
       "393 2023-04-22 14:09:26.716  ...  [0.05, 0.1, 0.2, 0.3, 0.4, 0.5]  0.699850   \n",
       "394 2023-04-22 14:09:26.728  ...  [0.05, 0.1, 0.2, 0.3, 0.4, 0.5]  0.702601   \n",
       "395 2023-04-22 14:09:26.745  ...  [0.05, 0.1, 0.2, 0.3, 0.4, 0.5]  0.708104   \n",
       "\n",
       "    AGEP_priv RAC1P_dis RAC1P_priv  SEX&RAC1P&AGEP_dis  SEX&RAC1P&AGEP_priv  \\\n",
       "0    0.819535  0.771368   0.782867            0.737063             0.905405   \n",
       "1    0.815962  0.768010   0.780637            0.735664             0.899614   \n",
       "2    0.813580  0.766484   0.779447            0.734965             0.893822   \n",
       "3    0.805241  0.761600   0.774093            0.734266             0.886100   \n",
       "4    0.794521  0.757021   0.766954            0.730769             0.874517   \n",
       "..        ...       ...        ...                 ...                  ...   \n",
       "384  0.102747  0.107442   0.107251            0.095273             0.104002   \n",
       "392  0.363874  0.638908   0.684048            0.628169             0.578947   \n",
       "393  0.379581  0.643686   0.686106            0.632394             0.592105   \n",
       "394  0.384817  0.645734   0.689537            0.633803             0.592105   \n",
       "395  0.390052  0.653242   0.693997            0.643662             0.605263   \n",
       "\n",
       "      SEX_dis  SEX_priv   overall  \n",
       "0    0.746923  0.813958  0.779100  \n",
       "1    0.745962  0.809583  0.776500  \n",
       "2    0.746154  0.806667  0.775200  \n",
       "3    0.743269  0.798958  0.770000  \n",
       "4    0.738654  0.790833  0.763700  \n",
       "..        ...       ...       ...  \n",
       "384  0.097839  0.117578  0.107314  \n",
       "392  0.613821  0.739583  0.668950  \n",
       "393  0.616260  0.743229  0.671918  \n",
       "394  0.620325  0.744792  0.674886  \n",
       "395  0.626829  0.748958  0.680365  \n",
       "\n",
       "[200 rows x 27 columns]"
      ]
     },
     "execution_count": 18,
     "metadata": {},
     "output_type": "execute_result"
    }
   ],
   "source": [
    "models_metrics_dct[list(models_metrics_dct.keys())[0]].head(200)"
   ]
  },
  {
   "cell_type": "markdown",
   "id": "37ea60bb",
   "metadata": {},
   "source": [
    "### Experiment iteration 2"
   ]
  },
  {
   "cell_type": "code",
   "execution_count": 89,
   "id": "b4f966c9",
   "metadata": {
    "ExecuteTime": {
     "end_time": "2023-04-22T17:12:09.025341Z",
     "start_time": "2023-04-22T17:12:08.920654Z"
    }
   },
   "outputs": [],
   "source": []
  },
  {
   "cell_type": "code",
   "execution_count": 90,
   "id": "4382096a",
   "metadata": {
    "ExecuteTime": {
     "end_time": "2023-04-22T17:12:09.025575Z",
     "start_time": "2023-04-22T17:12:08.968229Z"
    }
   },
   "outputs": [],
   "source": [
    "client.close()"
   ]
  },
  {
   "cell_type": "code",
   "execution_count": 90,
   "id": "b07fbb86",
   "metadata": {
    "ExecuteTime": {
     "end_time": "2023-04-22T17:12:09.025679Z",
     "start_time": "2023-04-22T17:12:08.972200Z"
    }
   },
   "outputs": [],
   "source": []
  }
 ],
 "metadata": {
  "kernelspec": {
   "display_name": "Python 3 (ipykernel)",
   "language": "python",
   "name": "python3"
  },
  "language_info": {
   "codemirror_mode": {
    "name": "ipython",
    "version": 3
   },
   "file_extension": ".py",
   "mimetype": "text/x-python",
   "name": "python",
   "nbconvert_exporter": "python",
   "pygments_lexer": "ipython3",
   "version": "3.8.8"
  }
 },
 "nbformat": 4,
 "nbformat_minor": 5
}
