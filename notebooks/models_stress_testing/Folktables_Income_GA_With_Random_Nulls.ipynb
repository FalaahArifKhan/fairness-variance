{
 "cells": [
  {
   "cell_type": "code",
   "execution_count": 35,
   "id": "7a202e4e",
   "metadata": {
    "ExecuteTime": {
     "end_time": "2023-04-22T17:06:09.249675Z",
     "start_time": "2023-04-22T17:06:09.233480Z"
    }
   },
   "outputs": [],
   "source": [
    "# !pip install -r ../exp_requirements.txt"
   ]
  },
  {
   "cell_type": "code",
   "execution_count": 36,
   "id": "59468d63",
   "metadata": {
    "ExecuteTime": {
     "end_time": "2023-04-22T17:06:09.276223Z",
     "start_time": "2023-04-22T17:06:09.251393Z"
    }
   },
   "outputs": [],
   "source": [
    "# !pip uninstall virny -y"
   ]
  },
  {
   "cell_type": "code",
   "execution_count": 37,
   "id": "c0dbfebc",
   "metadata": {
    "ExecuteTime": {
     "end_time": "2023-04-22T17:06:09.293739Z",
     "start_time": "2023-04-22T17:06:09.271221Z"
    }
   },
   "outputs": [],
   "source": [
    "# Install using an HTTP link\n",
    "# !pip install git+https://github.com/DataResponsibly/Virny.git@development\n",
    "\n",
    "# Install using an SSH link\n",
    "# !pip install git+ssh://git@github.com/DataResponsibly/Virny.git@development"
   ]
  },
  {
   "cell_type": "code",
   "execution_count": 1,
   "id": "b6f00c64",
   "metadata": {
    "ExecuteTime": {
     "end_time": "2023-04-23T13:30:20.281401Z",
     "start_time": "2023-04-23T13:30:19.866407Z"
    }
   },
   "outputs": [],
   "source": [
    "%matplotlib inline\n",
    "%load_ext autoreload\n",
    "%autoreload 2"
   ]
  },
  {
   "cell_type": "code",
   "execution_count": 2,
   "id": "e9f7e527",
   "metadata": {
    "ExecuteTime": {
     "end_time": "2023-04-23T13:30:20.290644Z",
     "start_time": "2023-04-23T13:30:20.282567Z"
    }
   },
   "outputs": [],
   "source": [
    "import os\n",
    "import warnings\n",
    "warnings.filterwarnings('ignore')\n",
    "os.environ[\"PYTHONWARNINGS\"] = \"ignore\""
   ]
  },
  {
   "cell_type": "code",
   "execution_count": 3,
   "id": "c0bfd5e6",
   "metadata": {},
   "outputs": [
    {
     "name": "stdout",
     "output_type": "stream",
     "text": [
      "Current location:  /home/dh3553/projects/fairness-variance\n"
     ]
    }
   ],
   "source": [
    "cur_folder_name = os.getcwd().split('/')[-1]\n",
    "if cur_folder_name != \"fairness-variance\":\n",
    "    os.chdir(\"../..\")\n",
    "\n",
    "print('Current location: ', os.getcwd())"
   ]
  },
  {
   "cell_type": "markdown",
   "id": "1adf452c",
   "metadata": {},
   "source": [
    "# Folktables GA Dataset With Random Nulls"
   ]
  },
  {
   "cell_type": "markdown",
   "id": "263a4ad4",
   "metadata": {},
   "source": [
    "## Import dependencies"
   ]
  },
  {
   "cell_type": "code",
   "execution_count": 4,
   "id": "2f30556e",
   "metadata": {
    "ExecuteTime": {
     "end_time": "2023-04-23T13:30:21.590617Z",
     "start_time": "2023-04-23T13:30:20.293249Z"
    }
   },
   "outputs": [],
   "source": [
    "import os\n",
    "import copy\n",
    "\n",
    "from xgboost import XGBClassifier\n",
    "from sklearn.tree import DecisionTreeClassifier\n",
    "from sklearn.linear_model import LogisticRegression\n",
    "from sklearn.ensemble import RandomForestClassifier\n",
    "from sklearn.neighbors import KNeighborsClassifier\n",
    "from sklearn.neural_network import MLPClassifier\n",
    "\n",
    "from virny.utils.custom_initializers import create_config_obj, create_models_metrics_dct_from_database_df\n",
    "from virny.datasets.data_loaders import ACSIncomeDataset\n",
    "from source.user_interfaces.experiment_interface import run_exp_iter_with_models_stress_testing\n",
    "from source.error_injectors.random_nulls_injector_v2 import RandomNullsInjectorV2\n",
    "from source.utils.custom_initializers import create_experiment_data_loader\n",
    "from source.utils.db_functions import read_model_metric_dfs_from_db\n",
    "from source.preprocessing.basic_preprocessing import get_null_imputer_preprocessor\n",
    "\n",
    "from configs.constants import NUM_METRICS_COMPUTATION_RUNS, EXPERIMENT_SEEDS, TEST_SET_FRACTION\n",
    "from configs.models_params_for_tuning import get_folktables_income_models_params_for_tuning"
   ]
  },
  {
   "cell_type": "markdown",
   "id": "e97edac9",
   "metadata": {},
   "source": [
    "## Initialize input variables for the experiment"
   ]
  },
  {
   "cell_type": "code",
   "execution_count": 5,
   "id": "163b3a0a",
   "metadata": {
    "ExecuteTime": {
     "end_time": "2023-04-23T13:30:21.603942Z",
     "start_time": "2023-04-23T13:30:21.571542Z"
    }
   },
   "outputs": [],
   "source": [
    "# ROOT_DIR = os.path.join(os.getcwd(), \"..\", \"..\")\n",
    "ROOT_DIR = os.getcwd()\n",
    "EXPERIMENT_NAME = 'stress_testing_nulls'\n",
    "DB_COLLECTION_NAME = f'exp_{EXPERIMENT_NAME}'\n",
    "SAVE_RESULTS_DIR_PATH = os.path.join(ROOT_DIR, 'results', EXPERIMENT_NAME)\n",
    "COLUMNS_TO_TRANSFORM = ['SCHL', 'COW', 'MAR', 'OCCP', 'POBP', 'RELP', 'WKHP']\n",
    "INJECTOR_CONFIG_LST = [0.05, 0.1, 0.2, 0.3, 0.4, 0.5]\n",
    "MAX_NUM_COLUMNS_TO_EFFECT = 3"
   ]
  },
  {
   "cell_type": "code",
   "execution_count": 6,
   "id": "78e9ad10",
   "metadata": {
    "ExecuteTime": {
     "end_time": "2023-04-23T13:30:24.191398Z",
     "start_time": "2023-04-23T13:30:21.600868Z"
    }
   },
   "outputs": [
    {
     "data": {
      "text/html": [
       "<div>\n",
       "<style scoped>\n",
       "    .dataframe tbody tr th:only-of-type {\n",
       "        vertical-align: middle;\n",
       "    }\n",
       "\n",
       "    .dataframe tbody tr th {\n",
       "        vertical-align: top;\n",
       "    }\n",
       "\n",
       "    .dataframe thead th {\n",
       "        text-align: right;\n",
       "    }\n",
       "</style>\n",
       "<table border=\"1\" class=\"dataframe\">\n",
       "  <thead>\n",
       "    <tr style=\"text-align: right;\">\n",
       "      <th></th>\n",
       "      <th>SCHL</th>\n",
       "      <th>COW</th>\n",
       "      <th>MAR</th>\n",
       "      <th>OCCP</th>\n",
       "      <th>POBP</th>\n",
       "      <th>RELP</th>\n",
       "      <th>SEX</th>\n",
       "      <th>RAC1P</th>\n",
       "      <th>AGEP</th>\n",
       "      <th>WKHP</th>\n",
       "    </tr>\n",
       "  </thead>\n",
       "  <tbody>\n",
       "    <tr>\n",
       "      <th>2</th>\n",
       "      <td>20</td>\n",
       "      <td>1</td>\n",
       "      <td>5</td>\n",
       "      <td>4760</td>\n",
       "      <td>13</td>\n",
       "      <td>17</td>\n",
       "      <td>2</td>\n",
       "      <td>2</td>\n",
       "      <td>23</td>\n",
       "      <td>20.0</td>\n",
       "    </tr>\n",
       "    <tr>\n",
       "      <th>4</th>\n",
       "      <td>19</td>\n",
       "      <td>1</td>\n",
       "      <td>5</td>\n",
       "      <td>4760</td>\n",
       "      <td>13</td>\n",
       "      <td>16</td>\n",
       "      <td>2</td>\n",
       "      <td>1</td>\n",
       "      <td>20</td>\n",
       "      <td>20.0</td>\n",
       "    </tr>\n",
       "    <tr>\n",
       "      <th>6</th>\n",
       "      <td>19</td>\n",
       "      <td>1</td>\n",
       "      <td>5</td>\n",
       "      <td>4252</td>\n",
       "      <td>2</td>\n",
       "      <td>17</td>\n",
       "      <td>1</td>\n",
       "      <td>1</td>\n",
       "      <td>27</td>\n",
       "      <td>50.0</td>\n",
       "    </tr>\n",
       "    <tr>\n",
       "      <th>7</th>\n",
       "      <td>13</td>\n",
       "      <td>1</td>\n",
       "      <td>5</td>\n",
       "      <td>7200</td>\n",
       "      <td>13</td>\n",
       "      <td>16</td>\n",
       "      <td>1</td>\n",
       "      <td>2</td>\n",
       "      <td>23</td>\n",
       "      <td>32.0</td>\n",
       "    </tr>\n",
       "    <tr>\n",
       "      <th>10</th>\n",
       "      <td>21</td>\n",
       "      <td>2</td>\n",
       "      <td>5</td>\n",
       "      <td>2205</td>\n",
       "      <td>45</td>\n",
       "      <td>17</td>\n",
       "      <td>2</td>\n",
       "      <td>1</td>\n",
       "      <td>23</td>\n",
       "      <td>15.0</td>\n",
       "    </tr>\n",
       "  </tbody>\n",
       "</table>\n",
       "</div>"
      ],
      "text/plain": [
       "   SCHL COW MAR  OCCP POBP RELP SEX RAC1P  AGEP  WKHP\n",
       "2    20   1   5  4760   13   17   2     2    23  20.0\n",
       "4    19   1   5  4760   13   16   2     1    20  20.0\n",
       "6    19   1   5  4252    2   17   1     1    27  50.0\n",
       "7    13   1   5  7200   13   16   1     2    23  32.0\n",
       "10   21   2   5  2205   45   17   2     1    23  15.0"
      ]
     },
     "execution_count": 6,
     "metadata": {},
     "output_type": "execute_result"
    }
   ],
   "source": [
    "data_loader = ACSIncomeDataset(state=['GA'], year=2018, with_nulls=False)\n",
    "data_loader.X_data.head()"
   ]
  },
  {
   "cell_type": "code",
   "execution_count": 7,
   "id": "9cb6933e",
   "metadata": {},
   "outputs": [
    {
     "data": {
      "text/plain": [
       "(50915, 10)"
      ]
     },
     "execution_count": 7,
     "metadata": {},
     "output_type": "execute_result"
    }
   ],
   "source": [
    "data_loader.full_df.shape"
   ]
  },
  {
   "cell_type": "code",
   "execution_count": 8,
   "id": "c9190c78",
   "metadata": {
    "ExecuteTime": {
     "end_time": "2023-04-23T13:30:24.341989Z",
     "start_time": "2023-04-23T13:30:24.183137Z"
    }
   },
   "outputs": [
    {
     "data": {
      "text/plain": [
       "SCHL     0\n",
       "COW      0\n",
       "MAR      0\n",
       "OCCP     0\n",
       "POBP     0\n",
       "RELP     0\n",
       "SEX      0\n",
       "RAC1P    0\n",
       "AGEP     0\n",
       "WKHP     0\n",
       "dtype: int64"
      ]
     },
     "execution_count": 8,
     "metadata": {},
     "output_type": "execute_result"
    }
   ],
   "source": [
    "data_loader.full_df.isna().sum()"
   ]
  },
  {
   "cell_type": "markdown",
   "id": "903375cb",
   "metadata": {},
   "source": [
    "### Define a db writer and custom fields to insert into your database"
   ]
  },
  {
   "cell_type": "code",
   "execution_count": 9,
   "id": "9465a4f2",
   "metadata": {
    "ExecuteTime": {
     "end_time": "2023-04-23T13:30:24.367148Z",
     "start_time": "2023-04-23T13:30:24.304924Z"
    }
   },
   "outputs": [],
   "source": [
    "from source.utils.db_functions import connect_to_mongodb\n",
    "\n",
    "client, collection_obj, db_writer_func = connect_to_mongodb(DB_COLLECTION_NAME)"
   ]
  },
  {
   "cell_type": "code",
   "execution_count": 10,
   "id": "4199cf0c",
   "metadata": {
    "ExecuteTime": {
     "end_time": "2023-04-23T13:30:24.426028Z",
     "start_time": "2023-04-23T13:30:24.351860Z"
    }
   },
   "outputs": [],
   "source": [
    "custom_table_fields_dct = {\n",
    "    'error_type': 'Random Nulls',\n",
    "    'error_percentages': '0%,5%,10%,20%,30%,40%,50%',\n",
    "    'preprocessing_technique': 'cat: mode, num: median',\n",
    "}"
   ]
  },
  {
   "cell_type": "code",
   "execution_count": 11,
   "id": "c1c65c46",
   "metadata": {
    "ExecuteTime": {
     "end_time": "2023-04-23T13:30:24.444377Z",
     "start_time": "2023-04-23T13:30:24.396152Z"
    }
   },
   "outputs": [
    {
     "name": "stdout",
     "output_type": "stream",
     "text": [
      "Current session uuid:  8683b0c4-3402-4b53-9c36-dfc8a1e5a37c\n"
     ]
    }
   ],
   "source": [
    "import uuid\n",
    "\n",
    "custom_table_fields_dct['session_uuid'] = '8683b0c4-3402-4b53-9c36-dfc8a1e5a37c'\n",
    "# custom_table_fields_dct['session_uuid'] = str(uuid.uuid4())\n",
    "print('Current session uuid: ', custom_table_fields_dct['session_uuid'])"
   ]
  },
  {
   "cell_type": "markdown",
   "id": "7ff83914",
   "metadata": {},
   "source": [
    "### Create a metrics computation config object"
   ]
  },
  {
   "cell_type": "code",
   "execution_count": 12,
   "id": "4bbaff8f",
   "metadata": {
    "ExecuteTime": {
     "end_time": "2023-04-23T13:30:24.445854Z",
     "start_time": "2023-04-23T13:30:24.410029Z"
    }
   },
   "outputs": [],
   "source": [
    "config_yaml_path = 'experiment_config.yaml'\n",
    "age_range = [i for i in range(30, 46)]\n",
    "config_yaml_content = \\\n",
    "f\"\"\"\n",
    "dataset_name: Folktables_Income_GA_2018\n",
    "bootstrap_fraction: 0.8\n",
    "n_estimators: 200\n",
    "num_runs: 1\n",
    "runs_seed_lst: [100]\n",
    "sensitive_attributes_dct: {{'SEX': '1', 'RAC1P': '1', 'AGEP': {age_range}, 'SEX & RAC1P': None, 'RAC1P & AGEP': None}}\n",
    "\"\"\"\n",
    "\n",
    "with open(config_yaml_path, 'w', encoding='utf-8') as f:\n",
    "    f.write(config_yaml_content)"
   ]
  },
  {
   "cell_type": "code",
   "execution_count": 13,
   "id": "6e6d61d9",
   "metadata": {
    "ExecuteTime": {
     "end_time": "2023-04-23T13:30:24.514656Z",
     "start_time": "2023-04-23T13:30:24.436377Z"
    }
   },
   "outputs": [],
   "source": [
    "metrics_computation_config = create_config_obj(config_yaml_path=config_yaml_path)"
   ]
  },
  {
   "cell_type": "markdown",
   "id": "fe150017",
   "metadata": {},
   "source": [
    "### Define tuning parameter for models"
   ]
  },
  {
   "cell_type": "code",
   "execution_count": 14,
   "id": "6008c8b7",
   "metadata": {
    "ExecuteTime": {
     "end_time": "2023-04-23T13:30:24.532457Z",
     "start_time": "2023-04-23T13:30:24.484014Z"
    }
   },
   "outputs": [],
   "source": [
    "# def get_models_params_for_tuning(models_tuning_seed):\n",
    "#     return {\n",
    "#         'DecisionTreeClassifier': {\n",
    "#             'model': DecisionTreeClassifier(random_state=models_tuning_seed),\n",
    "#             'params': {\n",
    "#                 \"max_depth\": [20, 30],\n",
    "#                 \"min_samples_split\" : [0.1],\n",
    "#                 \"max_features\": ['sqrt'],\n",
    "#                 \"criterion\": [\"gini\", \"entropy\"]\n",
    "#             }\n",
    "#         },\n",
    "#         'LogisticRegression': {\n",
    "#             'model': LogisticRegression(random_state=models_tuning_seed),\n",
    "#             'params': {\n",
    "#                 'penalty': ['l2'],\n",
    "#                 'C' : [0.0001, 0.1, 1, 100],\n",
    "#                 'solver': ['newton-cg', 'lbfgs'],\n",
    "#                 'max_iter': [250],\n",
    "#             }\n",
    "#         },\n",
    "#         # 'RandomForestClassifier': {\n",
    "#         #     'model': RandomForestClassifier(random_state=models_tuning_seed),\n",
    "#         #     'params': {\n",
    "#         #         \"max_depth\": [6, 10],\n",
    "#         #         \"min_samples_leaf\": [1],\n",
    "#         #         \"n_estimators\": [50, 100],\n",
    "#         #         \"max_features\": [0.6]\n",
    "#         #     }\n",
    "#         # },\n",
    "#         # 'XGBClassifier': {\n",
    "#         #     'model': XGBClassifier(random_state=models_tuning_seed, verbosity=0),\n",
    "#         #     'params': {\n",
    "#         #         'learning_rate': [0.1],\n",
    "#         #         'n_estimators': [200],\n",
    "#         #         'max_depth': [5, 7],\n",
    "#         #         'lambda':  [10, 100]\n",
    "#         #     }\n",
    "#         # },\n",
    "#         # 'KNeighborsClassifier': {\n",
    "#         #     'model': KNeighborsClassifier(),\n",
    "#         #     'params': {\n",
    "#         #         'n_neighbors' : [5, 7, 9, 11, 13, 15, 25],\n",
    "#         #         'weights' : ['uniform', 'distance'],\n",
    "#         #         'metric' : ['minkowski', 'euclidean', 'manhattan']\n",
    "#         #     }\n",
    "#         # },\n",
    "#         # 'MLPClassifier': {\n",
    "#         #     'model': MLPClassifier(random_state=models_tuning_seed),\n",
    "#         #     'params': {\n",
    "#         #         'hidden_layer_sizes':[(100,), (100,100,), (100,50,100,)],\n",
    "#         #         'activation': ['logistic', 'tanh', 'relu'],\n",
    "#         #         'solver': ['lbfgs', 'sgd', 'adam'],\n",
    "#         #         'learning_rate': ['constant', 'invscaling', 'adaptive']\n",
    "#         #     }\n",
    "#         # }\n",
    "#     }"
   ]
  },
  {
   "cell_type": "markdown",
   "id": "745fb50a",
   "metadata": {},
   "source": [
    "## Run experiments"
   ]
  },
  {
   "cell_type": "markdown",
   "id": "d501f502",
   "metadata": {},
   "source": [
    "### Experiment iteration 1"
   ]
  },
  {
   "cell_type": "code",
   "execution_count": 15,
   "id": "d782a93c",
   "metadata": {
    "ExecuteTime": {
     "end_time": "2023-04-23T13:36:02.906869Z",
     "start_time": "2023-04-23T13:36:02.820440Z"
    }
   },
   "outputs": [],
   "source": [
    "# Configs for an experiment iteration\n",
    "exp_iter_num = 1\n",
    "experiment_seed = EXPERIMENT_SEEDS[exp_iter_num - 1]\n",
    "tuned_params_filename = 'tuning_results_COMPAS_exp_iter_1_20230425__164903.csv'\n",
    "tuned_params_df_path = os.path.join(SAVE_RESULTS_DIR_PATH, 'models_tuning', tuned_params_filename)\n",
    "custom_table_fields_dct['experiment_iteration'] = f'Exp_iter_{exp_iter_num}'\n",
    "\n",
    "error_injector = RandomNullsInjectorV2(experiment_seed, columns_to_transform=COLUMNS_TO_TRANSFORM, row_idx_nulls_percentage=0.0,\n",
    "                                       max_num_columns_to_effect=MAX_NUM_COLUMNS_TO_EFFECT)\n",
    "models_params_for_tuning = get_folktables_income_models_params_for_tuning(experiment_seed)\n",
    "# Create a transformed data loader\n",
    "exp_iter_data_loader = create_experiment_data_loader(data_loader)\n",
    "exp_iter_data_loader.columns_with_nulls = COLUMNS_TO_TRANSFORM\n",
    "preprocessor = get_null_imputer_preprocessor(exp_iter_data_loader)"
   ]
  },
  {
   "cell_type": "code",
   "execution_count": 16,
   "id": "dfffcfbf",
   "metadata": {
    "ExecuteTime": {
     "end_time": "2023-04-22T17:12:08.249600Z",
     "start_time": "2023-04-22T17:06:12.324268Z"
    }
   },
   "outputs": [
    {
     "name": "stderr",
     "output_type": "stream",
     "text": [
      "2023-04-25 15:53:26 experiment_interface.py INFO    : Start an experiment iteration for the following custom params:\n"
     ]
    },
    {
     "name": "stdout",
     "output_type": "stream",
     "text": [
      "{'dataset_split_seed': 100,\n",
      " 'error_percentages': '0%,5%,10%,20%,30%,40%,50%',\n",
      " 'error_type': 'Random Nulls',\n",
      " 'experiment_iteration': 'Exp_iter_1',\n",
      " 'injector_config_lst': '[0.05, 0.1, 0.2, 0.3, 0.4, 0.5]',\n",
      " 'model_init_seed': 100,\n",
      " 'preprocessing_technique': 'cat: mode, num: median',\n",
      " 'session_uuid': '8683b0c4-3402-4b53-9c36-dfc8a1e5a37c'}\n",
      "\n",
      "\n"
     ]
    },
    {
     "name": "stderr",
     "output_type": "stream",
     "text": [
      "2023-04-25 15:53:28 experiment_interface.py INFO    : The dataset is preprocessed\n"
     ]
    },
    {
     "name": "stdout",
     "output_type": "stream",
     "text": [
      "Top indexes of an X_test in a base flow dataset:  Int64Index([85878, 49139, 95525, 25749, 83799, 18626, 85209, 63885, 61619,\n",
      "            85769, 94822, 70913, 62567, 45304, 39090, 21650, 79431, 95575,\n",
      "            15027, 57309],\n",
      "           dtype='int64')\n",
      "Top indexes of an y_test in a base flow dataset:  Int64Index([85878, 49139, 95525, 25749, 83799, 18626, 85209, 63885, 61619,\n",
      "            85769, 94822, 70913, 62567, 45304, 39090, 21650, 79431, 95575,\n",
      "            15027, 57309],\n",
      "           dtype='int64')\n",
      "error_injector.seed --  101\n",
      "transformed_X_test:\n",
      " SCHL     90\n",
      "COW      63\n",
      "MAR      70\n",
      "OCCP     77\n",
      "POBP     62\n",
      "RELP     65\n",
      "SEX       0\n",
      "RAC1P     0\n",
      "AGEP      0\n",
      "WKHP     79\n",
      "dtype: int64\n",
      "error_injector.seed --  102\n",
      "transformed_X_test:\n",
      " SCHL     166\n",
      "COW      140\n",
      "MAR      138\n",
      "OCCP     153\n",
      "POBP     148\n",
      "RELP     151\n",
      "SEX        0\n",
      "RAC1P      0\n",
      "AGEP       0\n",
      "WKHP     149\n",
      "dtype: int64\n",
      "error_injector.seed --  103\n",
      "transformed_X_test:\n",
      " SCHL     311\n",
      "COW      267\n",
      "MAR      276\n",
      "OCCP     302\n",
      "POBP     279\n",
      "RELP     294\n",
      "SEX        0\n",
      "RAC1P      0\n",
      "AGEP       0\n",
      "WKHP     302\n",
      "dtype: int64\n",
      "error_injector.seed --  104\n",
      "transformed_X_test:\n",
      " SCHL     459\n",
      "COW      397\n",
      "MAR      440\n",
      "OCCP     444\n",
      "POBP     419\n",
      "RELP     421\n",
      "SEX        0\n",
      "RAC1P      0\n",
      "AGEP       0\n",
      "WKHP     435\n",
      "dtype: int64\n",
      "error_injector.seed --  105\n",
      "transformed_X_test:\n",
      " SCHL     629\n",
      "COW      557\n",
      "MAR      580\n",
      "OCCP     593\n",
      "POBP     565\n",
      "RELP     594\n",
      "SEX        0\n",
      "RAC1P      0\n",
      "AGEP       0\n",
      "WKHP     555\n",
      "dtype: int64\n",
      "error_injector.seed --  106\n",
      "transformed_X_test:\n",
      " SCHL     763\n",
      "COW      720\n",
      "MAR      705\n",
      "OCCP     760\n",
      "POBP     691\n",
      "RELP     755\n",
      "SEX        0\n",
      "RAC1P      0\n",
      "AGEP       0\n",
      "WKHP     727\n",
      "dtype: int64\n",
      "2023/04/25, 15:53:42: Tuning DecisionTreeClassifier...\n",
      "Fitting 3 folds for each of 80 candidates, totalling 240 fits\n",
      "2023/04/25, 15:53:56: Tuning for DecisionTreeClassifier is finished [F1 score = 0.7632172324658297, Accuracy = 0.787313432835821]\n",
      "\n",
      "2023/04/25, 15:53:56: Tuning LogisticRegression...\n",
      "Fitting 3 folds for each of 128 candidates, totalling 384 fits\n",
      "2023/04/25, 15:57:13: Tuning for LogisticRegression is finished [F1 score = 0.796014434955505, Accuracy = 0.8161822466614298]\n",
      "\n",
      "2023/04/25, 15:57:13: Tuning RandomForestClassifier...\n",
      "Fitting 3 folds for each of 144 candidates, totalling 432 fits\n",
      "2023/04/25, 16:11:37: Tuning for RandomForestClassifier is finished [F1 score = 0.7793547799608405, Accuracy = 0.8017805708300602]\n",
      "\n",
      "2023/04/25, 16:11:38: Tuning XGBClassifier...\n",
      "Fitting 3 folds for each of 48 candidates, totalling 144 fits\n",
      "2023/04/25, 16:49:42: Tuning for XGBClassifier is finished [F1 score = 0.8070083735074647, Accuracy = 0.8256087981146897]\n",
      "\n",
      "2023/04/25, 16:49:42: Tuning KNeighborsClassifier...\n",
      "Fitting 3 folds for each of 42 candidates, totalling 126 fits\n"
     ]
    },
    {
     "name": "stderr",
     "output_type": "stream",
     "text": [
      "2023-04-25 16:59:09 experiment_interface.py INFO    : Models are tuned and saved to a file\n"
     ]
    },
    {
     "name": "stdout",
     "output_type": "stream",
     "text": [
      "2023/04/25, 16:59:09: Tuning for KNeighborsClassifier is finished [F1 score = 0.777201067027204, Accuracy = 0.7973946059177796]\n",
      "\n"
     ]
    },
    {
     "data": {
      "application/vnd.jupyter.widget-view+json": {
       "model_id": "122d288e88f94ecebb295f4c8be69060",
       "version_major": 2,
       "version_minor": 0
      },
      "text/plain": [
       "Multiple runs progress:   0%|          | 0/1 [00:00<?, ?it/s]"
      ]
     },
     "metadata": {},
     "output_type": "display_data"
    },
    {
     "data": {
      "application/vnd.jupyter.widget-view+json": {
       "model_id": "79ede9c676904261b7dbaa7865bef6d1",
       "version_major": 2,
       "version_minor": 0
      },
      "text/plain": [
       "Analyze models in one run:   0%|          | 0/5 [00:00<?, ?it/s]"
      ]
     },
     "metadata": {},
     "output_type": "display_data"
    },
    {
     "data": {
      "application/vnd.jupyter.widget-view+json": {
       "model_id": "5bbfb0f82cc04f7c99bc34fa5669daf7",
       "version_major": 2,
       "version_minor": 0
      },
      "text/plain": [
       "Classifiers testing by bootstrap:   0%|          | 0/200 [00:00<?, ?it/s]"
      ]
     },
     "metadata": {},
     "output_type": "display_data"
    },
    {
     "data": {
      "application/vnd.jupyter.widget-view+json": {
       "model_id": "c638f5e09b6f45b9afdd78a5c36e6c98",
       "version_major": 2,
       "version_minor": 0
      },
      "text/plain": [
       "Classifiers testing by bootstrap:   0%|          | 0/200 [00:00<?, ?it/s]"
      ]
     },
     "metadata": {},
     "output_type": "display_data"
    },
    {
     "data": {
      "application/vnd.jupyter.widget-view+json": {
       "model_id": "a09f1e7e45a04df1823f80332d500cac",
       "version_major": 2,
       "version_minor": 0
      },
      "text/plain": [
       "Classifiers testing by bootstrap:   0%|          | 0/200 [00:00<?, ?it/s]"
      ]
     },
     "metadata": {},
     "output_type": "display_data"
    },
    {
     "ename": "KeyboardInterrupt",
     "evalue": "",
     "output_type": "error",
     "traceback": [
      "\u001B[0;31m---------------------------------------------------------------------------\u001B[0m",
      "\u001B[0;31mKeyboardInterrupt\u001B[0m                         Traceback (most recent call last)",
      "\u001B[0;32m<ipython-input-16-b940cd06b90d>\u001B[0m in \u001B[0;36m<module>\u001B[0;34m\u001B[0m\n\u001B[0;32m----> 1\u001B[0;31m run_exp_iter_with_models_stress_testing(data_loader=exp_iter_data_loader,\n\u001B[0m\u001B[1;32m      2\u001B[0m                                         \u001B[0mexperiment_seed\u001B[0m\u001B[0;34m=\u001B[0m\u001B[0mexperiment_seed\u001B[0m\u001B[0;34m,\u001B[0m\u001B[0;34m\u001B[0m\u001B[0;34m\u001B[0m\u001B[0m\n\u001B[1;32m      3\u001B[0m                                         \u001B[0mtest_set_fraction\u001B[0m\u001B[0;34m=\u001B[0m\u001B[0mTEST_SET_FRACTION\u001B[0m\u001B[0;34m,\u001B[0m\u001B[0;34m\u001B[0m\u001B[0;34m\u001B[0m\u001B[0m\n\u001B[1;32m      4\u001B[0m                                         \u001B[0mdb_writer_func\u001B[0m\u001B[0;34m=\u001B[0m\u001B[0mdb_writer_func\u001B[0m\u001B[0;34m,\u001B[0m\u001B[0;34m\u001B[0m\u001B[0;34m\u001B[0m\u001B[0m\n\u001B[1;32m      5\u001B[0m                                         \u001B[0merror_injector\u001B[0m\u001B[0;34m=\u001B[0m\u001B[0merror_injector\u001B[0m\u001B[0;34m,\u001B[0m\u001B[0;34m\u001B[0m\u001B[0;34m\u001B[0m\u001B[0m\n",
      "\u001B[0;32m~/projects/fairness-variance/source/user_interfaces/experiment_interface.py\u001B[0m in \u001B[0;36mrun_exp_iter_with_models_stress_testing\u001B[0;34m(data_loader, experiment_seed, test_set_fraction, db_writer_func, error_injector, injector_config_lst, preprocessor, models_params_for_tuning, metrics_computation_config, custom_table_fields_dct, with_tuning, save_results_dir_path, tuned_params_df_path, num_folds_for_tuning, verbose)\u001B[0m\n\u001B[1;32m    120\u001B[0m \u001B[0;34m\u001B[0m\u001B[0m\n\u001B[1;32m    121\u001B[0m     \u001B[0;31m# Compute metrics for tuned models\u001B[0m\u001B[0;34m\u001B[0m\u001B[0;34m\u001B[0m\u001B[0;34m\u001B[0m\u001B[0m\n\u001B[0;32m--> 122\u001B[0;31m     compute_metrics_multiple_runs_with_multiple_test_sets(dataset=base_flow_dataset,\n\u001B[0m\u001B[1;32m    123\u001B[0m                                                           \u001B[0mextra_test_sets_lst\u001B[0m\u001B[0;34m=\u001B[0m\u001B[0mextra_test_sets_lst\u001B[0m\u001B[0;34m,\u001B[0m\u001B[0;34m\u001B[0m\u001B[0;34m\u001B[0m\u001B[0m\n\u001B[1;32m    124\u001B[0m                                                           \u001B[0mconfig\u001B[0m\u001B[0;34m=\u001B[0m\u001B[0mmetrics_computation_config\u001B[0m\u001B[0;34m,\u001B[0m\u001B[0;34m\u001B[0m\u001B[0;34m\u001B[0m\u001B[0m\n",
      "\u001B[0;32m~/.local/lib/python3.8/site-packages/virny/user_interfaces/metrics_computation_interfaces.py\u001B[0m in \u001B[0;36mcompute_metrics_multiple_runs_with_multiple_test_sets\u001B[0;34m(dataset, extra_test_sets_lst, config, models_config, custom_tbl_fields_dct, db_writer_func, verbose)\u001B[0m\n\u001B[1;32m    461\u001B[0m                                   \u001B[0mdesc\u001B[0m\u001B[0;34m=\u001B[0m\u001B[0;34m\"Multiple runs progress\"\u001B[0m\u001B[0;34m,\u001B[0m\u001B[0;34m\u001B[0m\u001B[0;34m\u001B[0m\u001B[0m\n\u001B[1;32m    462\u001B[0m                                   colour=\"green\"):\n\u001B[0;32m--> 463\u001B[0;31m         models_metrics_dct = run_metrics_computation_with_multiple_test_sets(dataset=dataset,\n\u001B[0m\u001B[1;32m    464\u001B[0m                                                                              \u001B[0mbootstrap_fraction\u001B[0m\u001B[0;34m=\u001B[0m\u001B[0mconfig\u001B[0m\u001B[0;34m.\u001B[0m\u001B[0mbootstrap_fraction\u001B[0m\u001B[0;34m,\u001B[0m\u001B[0;34m\u001B[0m\u001B[0;34m\u001B[0m\u001B[0m\n\u001B[1;32m    465\u001B[0m                                                                              \u001B[0mdataset_name\u001B[0m\u001B[0;34m=\u001B[0m\u001B[0mconfig\u001B[0m\u001B[0;34m.\u001B[0m\u001B[0mdataset_name\u001B[0m\u001B[0;34m,\u001B[0m\u001B[0;34m\u001B[0m\u001B[0;34m\u001B[0m\u001B[0m\n",
      "\u001B[0;32m~/.local/lib/python3.8/site-packages/virny/user_interfaces/metrics_computation_interfaces.py\u001B[0m in \u001B[0;36mrun_metrics_computation_with_multiple_test_sets\u001B[0;34m(dataset, bootstrap_fraction, dataset_name, extra_test_sets_lst, models_config, n_estimators, sensitive_attributes_dct, model_setting, model_seed, verbose)\u001B[0m\n\u001B[1;32m    548\u001B[0m         \u001B[0;32mtry\u001B[0m\u001B[0;34m:\u001B[0m\u001B[0;34m\u001B[0m\u001B[0;34m\u001B[0m\u001B[0m\n\u001B[1;32m    549\u001B[0m             \u001B[0mbase_model\u001B[0m \u001B[0;34m=\u001B[0m \u001B[0mmodels_config\u001B[0m\u001B[0;34m[\u001B[0m\u001B[0mmodel_name\u001B[0m\u001B[0;34m]\u001B[0m\u001B[0;34m\u001B[0m\u001B[0;34m\u001B[0m\u001B[0m\n\u001B[0;32m--> 550\u001B[0;31m             model_metrics_dfs_lst = compute_model_metrics_with_multiple_test_sets(base_model=base_model,\n\u001B[0m\u001B[1;32m    551\u001B[0m                                                                                   \u001B[0mn_estimators\u001B[0m\u001B[0;34m=\u001B[0m\u001B[0mn_estimators\u001B[0m\u001B[0;34m,\u001B[0m\u001B[0;34m\u001B[0m\u001B[0;34m\u001B[0m\u001B[0m\n\u001B[1;32m    552\u001B[0m                                                                                   \u001B[0mdataset\u001B[0m\u001B[0;34m=\u001B[0m\u001B[0mdataset\u001B[0m\u001B[0;34m,\u001B[0m\u001B[0;34m\u001B[0m\u001B[0;34m\u001B[0m\u001B[0m\n",
      "\u001B[0;32m~/.local/lib/python3.8/site-packages/virny/user_interfaces/metrics_computation_interfaces.py\u001B[0m in \u001B[0;36mcompute_model_metrics_with_multiple_test_sets\u001B[0;34m(base_model, n_estimators, dataset, extra_test_sets_lst, bootstrap_fraction, sensitive_attributes_dct, model_seed, dataset_name, base_model_name, model_setting, verbose)\u001B[0m\n\u001B[1;32m    634\u001B[0m \u001B[0;34m\u001B[0m\u001B[0m\n\u001B[1;32m    635\u001B[0m         \u001B[0;31m# Compute variance metrics for subgroups\u001B[0m\u001B[0;34m\u001B[0m\u001B[0;34m\u001B[0m\u001B[0;34m\u001B[0m\u001B[0m\n\u001B[0;32m--> 636\u001B[0;31m         y_preds, variance_metrics_df = subgroup_variance_analyzer.compute_metrics(save_results=False,\n\u001B[0m\u001B[1;32m    637\u001B[0m                                                                                   \u001B[0mresult_filename\u001B[0m\u001B[0;34m=\u001B[0m\u001B[0;32mNone\u001B[0m\u001B[0;34m,\u001B[0m\u001B[0;34m\u001B[0m\u001B[0;34m\u001B[0m\u001B[0m\n\u001B[1;32m    638\u001B[0m                                                                                   \u001B[0msave_dir_path\u001B[0m\u001B[0;34m=\u001B[0m\u001B[0;32mNone\u001B[0m\u001B[0;34m,\u001B[0m\u001B[0;34m\u001B[0m\u001B[0;34m\u001B[0m\u001B[0m\n",
      "\u001B[0;32m~/.local/lib/python3.8/site-packages/virny/analyzers/subgroup_variance_analyzer.py\u001B[0m in \u001B[0;36mcompute_metrics\u001B[0;34m(self, save_results, result_filename, save_dir_path, make_plots, with_fit)\u001B[0m\n\u001B[1;32m    111\u001B[0m \u001B[0;34m\u001B[0m\u001B[0m\n\u001B[1;32m    112\u001B[0m         \"\"\"\n\u001B[0;32m--> 113\u001B[0;31m         \u001B[0my_preds\u001B[0m\u001B[0;34m,\u001B[0m \u001B[0my_test_true\u001B[0m \u001B[0;34m=\u001B[0m \u001B[0mself\u001B[0m\u001B[0;34m.\u001B[0m\u001B[0m__overall_variance_analyzer\u001B[0m\u001B[0;34m.\u001B[0m\u001B[0mcompute_metrics\u001B[0m\u001B[0;34m(\u001B[0m\u001B[0mmake_plots\u001B[0m\u001B[0;34m,\u001B[0m \u001B[0msave_results\u001B[0m\u001B[0;34m=\u001B[0m\u001B[0;32mFalse\u001B[0m\u001B[0;34m,\u001B[0m \u001B[0mwith_fit\u001B[0m\u001B[0;34m=\u001B[0m\u001B[0mwith_fit\u001B[0m\u001B[0;34m)\u001B[0m\u001B[0;34m\u001B[0m\u001B[0;34m\u001B[0m\u001B[0m\n\u001B[0m\u001B[1;32m    114\u001B[0m         \u001B[0mself\u001B[0m\u001B[0;34m.\u001B[0m\u001B[0moverall_variance_metrics_dct\u001B[0m \u001B[0;34m=\u001B[0m \u001B[0mself\u001B[0m\u001B[0;34m.\u001B[0m\u001B[0m__overall_variance_analyzer\u001B[0m\u001B[0;34m.\u001B[0m\u001B[0mget_metrics_dict\u001B[0m\u001B[0;34m(\u001B[0m\u001B[0;34m)\u001B[0m\u001B[0;34m\u001B[0m\u001B[0;34m\u001B[0m\u001B[0m\n\u001B[1;32m    115\u001B[0m \u001B[0;34m\u001B[0m\u001B[0m\n",
      "\u001B[0;32m~/.local/lib/python3.8/site-packages/virny/analyzers/abstract_overall_variance_analyzer.py\u001B[0m in \u001B[0;36mcompute_metrics\u001B[0;34m(self, make_plots, save_results, with_fit)\u001B[0m\n\u001B[1;32m     99\u001B[0m         \u001B[0;31m# Quantify uncertainty for the base model\u001B[0m\u001B[0;34m\u001B[0m\u001B[0;34m\u001B[0m\u001B[0;34m\u001B[0m\u001B[0m\n\u001B[1;32m    100\u001B[0m         \u001B[0mboostrap_size\u001B[0m \u001B[0;34m=\u001B[0m \u001B[0mint\u001B[0m\u001B[0;34m(\u001B[0m\u001B[0mself\u001B[0m\u001B[0;34m.\u001B[0m\u001B[0mbootstrap_fraction\u001B[0m \u001B[0;34m*\u001B[0m \u001B[0mself\u001B[0m\u001B[0;34m.\u001B[0m\u001B[0mX_train\u001B[0m\u001B[0;34m.\u001B[0m\u001B[0mshape\u001B[0m\u001B[0;34m[\u001B[0m\u001B[0;36m0\u001B[0m\u001B[0;34m]\u001B[0m\u001B[0;34m)\u001B[0m\u001B[0;34m\u001B[0m\u001B[0;34m\u001B[0m\u001B[0m\n\u001B[0;32m--> 101\u001B[0;31m         \u001B[0mself\u001B[0m\u001B[0;34m.\u001B[0m\u001B[0mmodels_predictions\u001B[0m \u001B[0;34m=\u001B[0m \u001B[0mself\u001B[0m\u001B[0;34m.\u001B[0m\u001B[0mUQ_by_boostrap\u001B[0m\u001B[0;34m(\u001B[0m\u001B[0mboostrap_size\u001B[0m\u001B[0;34m,\u001B[0m \u001B[0mwith_replacement\u001B[0m\u001B[0;34m=\u001B[0m\u001B[0;32mTrue\u001B[0m\u001B[0;34m,\u001B[0m \u001B[0mwith_fit\u001B[0m\u001B[0;34m=\u001B[0m\u001B[0mwith_fit\u001B[0m\u001B[0;34m)\u001B[0m\u001B[0;34m\u001B[0m\u001B[0;34m\u001B[0m\u001B[0m\n\u001B[0m\u001B[1;32m    102\u001B[0m \u001B[0;34m\u001B[0m\u001B[0m\n\u001B[1;32m    103\u001B[0m         \u001B[0;31m# Count metrics based on prediction proba results\u001B[0m\u001B[0;34m\u001B[0m\u001B[0;34m\u001B[0m\u001B[0;34m\u001B[0m\u001B[0m\n",
      "\u001B[0;32m~/.local/lib/python3.8/site-packages/virny/analyzers/abstract_overall_variance_analyzer.py\u001B[0m in \u001B[0;36mUQ_by_boostrap\u001B[0;34m(self, boostrap_size, with_replacement, with_fit)\u001B[0m\n\u001B[1;32m    171\u001B[0m             \u001B[0;32mif\u001B[0m \u001B[0mwith_fit\u001B[0m\u001B[0;34m:\u001B[0m\u001B[0;34m\u001B[0m\u001B[0;34m\u001B[0m\u001B[0m\n\u001B[1;32m    172\u001B[0m                 \u001B[0mX_sample\u001B[0m\u001B[0;34m,\u001B[0m \u001B[0my_sample\u001B[0m \u001B[0;34m=\u001B[0m \u001B[0mgenerate_bootstrap\u001B[0m\u001B[0;34m(\u001B[0m\u001B[0mself\u001B[0m\u001B[0;34m.\u001B[0m\u001B[0mX_train\u001B[0m\u001B[0;34m,\u001B[0m \u001B[0mself\u001B[0m\u001B[0;34m.\u001B[0m\u001B[0my_train\u001B[0m\u001B[0;34m,\u001B[0m \u001B[0mboostrap_size\u001B[0m\u001B[0;34m,\u001B[0m \u001B[0mwith_replacement\u001B[0m\u001B[0;34m)\u001B[0m\u001B[0;34m\u001B[0m\u001B[0;34m\u001B[0m\u001B[0m\n\u001B[0;32m--> 173\u001B[0;31m                 \u001B[0mclassifier\u001B[0m \u001B[0;34m=\u001B[0m \u001B[0mself\u001B[0m\u001B[0;34m.\u001B[0m\u001B[0m_fit_model\u001B[0m\u001B[0;34m(\u001B[0m\u001B[0mclassifier\u001B[0m\u001B[0;34m,\u001B[0m \u001B[0mX_sample\u001B[0m\u001B[0;34m,\u001B[0m \u001B[0my_sample\u001B[0m\u001B[0;34m)\u001B[0m\u001B[0;34m\u001B[0m\u001B[0;34m\u001B[0m\u001B[0m\n\u001B[0m\u001B[1;32m    174\u001B[0m             \u001B[0mmodels_predictions\u001B[0m\u001B[0;34m[\u001B[0m\u001B[0midx\u001B[0m\u001B[0;34m]\u001B[0m \u001B[0;34m=\u001B[0m \u001B[0mself\u001B[0m\u001B[0;34m.\u001B[0m\u001B[0m_batch_predict_proba\u001B[0m\u001B[0;34m(\u001B[0m\u001B[0mclassifier\u001B[0m\u001B[0;34m,\u001B[0m \u001B[0mself\u001B[0m\u001B[0;34m.\u001B[0m\u001B[0mX_test\u001B[0m\u001B[0;34m)\u001B[0m\u001B[0;34m\u001B[0m\u001B[0;34m\u001B[0m\u001B[0m\n\u001B[1;32m    175\u001B[0m             \u001B[0mself\u001B[0m\u001B[0;34m.\u001B[0m\u001B[0mmodels_lst\u001B[0m\u001B[0;34m[\u001B[0m\u001B[0midx\u001B[0m\u001B[0;34m]\u001B[0m \u001B[0;34m=\u001B[0m \u001B[0mclassifier\u001B[0m\u001B[0;34m\u001B[0m\u001B[0;34m\u001B[0m\u001B[0m\n",
      "\u001B[0;32m~/.local/lib/python3.8/site-packages/virny/analyzers/batch_overall_variance_analyzer.py\u001B[0m in \u001B[0;36m_fit_model\u001B[0;34m(self, classifier, X_train, y_train)\u001B[0m\n\u001B[1;32m     52\u001B[0m         \u001B[0mFit\u001B[0m \u001B[0ma\u001B[0m \u001B[0mclassifier\u001B[0m \u001B[0mthat\u001B[0m \u001B[0;32mis\u001B[0m \u001B[0man\u001B[0m \u001B[0minstance\u001B[0m \u001B[0mof\u001B[0m \u001B[0mself\u001B[0m\u001B[0;34m.\u001B[0m\u001B[0mbase_model\u001B[0m\u001B[0;34m\u001B[0m\u001B[0;34m\u001B[0m\u001B[0m\n\u001B[1;32m     53\u001B[0m         \"\"\"\n\u001B[0;32m---> 54\u001B[0;31m         \u001B[0;32mreturn\u001B[0m \u001B[0mclassifier\u001B[0m\u001B[0;34m.\u001B[0m\u001B[0mfit\u001B[0m\u001B[0;34m(\u001B[0m\u001B[0mX_train\u001B[0m\u001B[0;34m,\u001B[0m \u001B[0my_train\u001B[0m\u001B[0;34m)\u001B[0m\u001B[0;34m\u001B[0m\u001B[0;34m\u001B[0m\u001B[0m\n\u001B[0m\u001B[1;32m     55\u001B[0m \u001B[0;34m\u001B[0m\u001B[0m\n\u001B[1;32m     56\u001B[0m     \u001B[0;32mdef\u001B[0m \u001B[0m_batch_predict\u001B[0m\u001B[0;34m(\u001B[0m\u001B[0mself\u001B[0m\u001B[0;34m,\u001B[0m \u001B[0mclassifier\u001B[0m\u001B[0;34m,\u001B[0m \u001B[0mX_test\u001B[0m\u001B[0;34m:\u001B[0m \u001B[0mpd\u001B[0m\u001B[0;34m.\u001B[0m\u001B[0mDataFrame\u001B[0m\u001B[0;34m)\u001B[0m\u001B[0;34m:\u001B[0m\u001B[0;34m\u001B[0m\u001B[0;34m\u001B[0m\u001B[0m\n",
      "\u001B[0;32m~/.local/lib/python3.8/site-packages/sklearn/ensemble/_forest.py\u001B[0m in \u001B[0;36mfit\u001B[0;34m(self, X, y, sample_weight)\u001B[0m\n\u001B[1;32m    471\u001B[0m             \u001B[0;31m# parallel_backend contexts set at a higher level,\u001B[0m\u001B[0;34m\u001B[0m\u001B[0;34m\u001B[0m\u001B[0;34m\u001B[0m\u001B[0m\n\u001B[1;32m    472\u001B[0m             \u001B[0;31m# since correctness does not rely on using threads.\u001B[0m\u001B[0;34m\u001B[0m\u001B[0;34m\u001B[0m\u001B[0;34m\u001B[0m\u001B[0m\n\u001B[0;32m--> 473\u001B[0;31m             trees = Parallel(\n\u001B[0m\u001B[1;32m    474\u001B[0m                 \u001B[0mn_jobs\u001B[0m\u001B[0;34m=\u001B[0m\u001B[0mself\u001B[0m\u001B[0;34m.\u001B[0m\u001B[0mn_jobs\u001B[0m\u001B[0;34m,\u001B[0m\u001B[0;34m\u001B[0m\u001B[0;34m\u001B[0m\u001B[0m\n\u001B[1;32m    475\u001B[0m                 \u001B[0mverbose\u001B[0m\u001B[0;34m=\u001B[0m\u001B[0mself\u001B[0m\u001B[0;34m.\u001B[0m\u001B[0mverbose\u001B[0m\u001B[0;34m,\u001B[0m\u001B[0;34m\u001B[0m\u001B[0;34m\u001B[0m\u001B[0m\n",
      "\u001B[0;32m~/.local/lib/python3.8/site-packages/sklearn/utils/parallel.py\u001B[0m in \u001B[0;36m__call__\u001B[0;34m(self, iterable)\u001B[0m\n\u001B[1;32m     61\u001B[0m             \u001B[0;32mfor\u001B[0m \u001B[0mdelayed_func\u001B[0m\u001B[0;34m,\u001B[0m \u001B[0margs\u001B[0m\u001B[0;34m,\u001B[0m \u001B[0mkwargs\u001B[0m \u001B[0;32min\u001B[0m \u001B[0miterable\u001B[0m\u001B[0;34m\u001B[0m\u001B[0;34m\u001B[0m\u001B[0m\n\u001B[1;32m     62\u001B[0m         )\n\u001B[0;32m---> 63\u001B[0;31m         \u001B[0;32mreturn\u001B[0m \u001B[0msuper\u001B[0m\u001B[0;34m(\u001B[0m\u001B[0;34m)\u001B[0m\u001B[0;34m.\u001B[0m\u001B[0m__call__\u001B[0m\u001B[0;34m(\u001B[0m\u001B[0miterable_with_config\u001B[0m\u001B[0;34m)\u001B[0m\u001B[0;34m\u001B[0m\u001B[0;34m\u001B[0m\u001B[0m\n\u001B[0m\u001B[1;32m     64\u001B[0m \u001B[0;34m\u001B[0m\u001B[0m\n\u001B[1;32m     65\u001B[0m \u001B[0;34m\u001B[0m\u001B[0m\n",
      "\u001B[0;32m~/.local/lib/python3.8/site-packages/joblib/parallel.py\u001B[0m in \u001B[0;36m__call__\u001B[0;34m(self, iterable)\u001B[0m\n\u001B[1;32m   1086\u001B[0m                 \u001B[0mself\u001B[0m\u001B[0;34m.\u001B[0m\u001B[0m_iterating\u001B[0m \u001B[0;34m=\u001B[0m \u001B[0mself\u001B[0m\u001B[0;34m.\u001B[0m\u001B[0m_original_iterator\u001B[0m \u001B[0;32mis\u001B[0m \u001B[0;32mnot\u001B[0m \u001B[0;32mNone\u001B[0m\u001B[0;34m\u001B[0m\u001B[0;34m\u001B[0m\u001B[0m\n\u001B[1;32m   1087\u001B[0m \u001B[0;34m\u001B[0m\u001B[0m\n\u001B[0;32m-> 1088\u001B[0;31m             \u001B[0;32mwhile\u001B[0m \u001B[0mself\u001B[0m\u001B[0;34m.\u001B[0m\u001B[0mdispatch_one_batch\u001B[0m\u001B[0;34m(\u001B[0m\u001B[0miterator\u001B[0m\u001B[0;34m)\u001B[0m\u001B[0;34m:\u001B[0m\u001B[0;34m\u001B[0m\u001B[0;34m\u001B[0m\u001B[0m\n\u001B[0m\u001B[1;32m   1089\u001B[0m                 \u001B[0;32mpass\u001B[0m\u001B[0;34m\u001B[0m\u001B[0;34m\u001B[0m\u001B[0m\n\u001B[1;32m   1090\u001B[0m \u001B[0;34m\u001B[0m\u001B[0m\n",
      "\u001B[0;32m~/.local/lib/python3.8/site-packages/joblib/parallel.py\u001B[0m in \u001B[0;36mdispatch_one_batch\u001B[0;34m(self, iterator)\u001B[0m\n\u001B[1;32m    899\u001B[0m                 \u001B[0;32mreturn\u001B[0m \u001B[0;32mFalse\u001B[0m\u001B[0;34m\u001B[0m\u001B[0;34m\u001B[0m\u001B[0m\n\u001B[1;32m    900\u001B[0m             \u001B[0;32melse\u001B[0m\u001B[0;34m:\u001B[0m\u001B[0;34m\u001B[0m\u001B[0;34m\u001B[0m\u001B[0m\n\u001B[0;32m--> 901\u001B[0;31m                 \u001B[0mself\u001B[0m\u001B[0;34m.\u001B[0m\u001B[0m_dispatch\u001B[0m\u001B[0;34m(\u001B[0m\u001B[0mtasks\u001B[0m\u001B[0;34m)\u001B[0m\u001B[0;34m\u001B[0m\u001B[0;34m\u001B[0m\u001B[0m\n\u001B[0m\u001B[1;32m    902\u001B[0m                 \u001B[0;32mreturn\u001B[0m \u001B[0;32mTrue\u001B[0m\u001B[0;34m\u001B[0m\u001B[0;34m\u001B[0m\u001B[0m\n\u001B[1;32m    903\u001B[0m \u001B[0;34m\u001B[0m\u001B[0m\n",
      "\u001B[0;32m~/.local/lib/python3.8/site-packages/joblib/parallel.py\u001B[0m in \u001B[0;36m_dispatch\u001B[0;34m(self, batch)\u001B[0m\n\u001B[1;32m    817\u001B[0m         \u001B[0;32mwith\u001B[0m \u001B[0mself\u001B[0m\u001B[0;34m.\u001B[0m\u001B[0m_lock\u001B[0m\u001B[0;34m:\u001B[0m\u001B[0;34m\u001B[0m\u001B[0;34m\u001B[0m\u001B[0m\n\u001B[1;32m    818\u001B[0m             \u001B[0mjob_idx\u001B[0m \u001B[0;34m=\u001B[0m \u001B[0mlen\u001B[0m\u001B[0;34m(\u001B[0m\u001B[0mself\u001B[0m\u001B[0;34m.\u001B[0m\u001B[0m_jobs\u001B[0m\u001B[0;34m)\u001B[0m\u001B[0;34m\u001B[0m\u001B[0;34m\u001B[0m\u001B[0m\n\u001B[0;32m--> 819\u001B[0;31m             \u001B[0mjob\u001B[0m \u001B[0;34m=\u001B[0m \u001B[0mself\u001B[0m\u001B[0;34m.\u001B[0m\u001B[0m_backend\u001B[0m\u001B[0;34m.\u001B[0m\u001B[0mapply_async\u001B[0m\u001B[0;34m(\u001B[0m\u001B[0mbatch\u001B[0m\u001B[0;34m,\u001B[0m \u001B[0mcallback\u001B[0m\u001B[0;34m=\u001B[0m\u001B[0mcb\u001B[0m\u001B[0;34m)\u001B[0m\u001B[0;34m\u001B[0m\u001B[0;34m\u001B[0m\u001B[0m\n\u001B[0m\u001B[1;32m    820\u001B[0m             \u001B[0;31m# A job can complete so quickly than its callback is\u001B[0m\u001B[0;34m\u001B[0m\u001B[0;34m\u001B[0m\u001B[0;34m\u001B[0m\u001B[0m\n\u001B[1;32m    821\u001B[0m             \u001B[0;31m# called before we get here, causing self._jobs to\u001B[0m\u001B[0;34m\u001B[0m\u001B[0;34m\u001B[0m\u001B[0;34m\u001B[0m\u001B[0m\n",
      "\u001B[0;32m~/.local/lib/python3.8/site-packages/joblib/_parallel_backends.py\u001B[0m in \u001B[0;36mapply_async\u001B[0;34m(self, func, callback)\u001B[0m\n\u001B[1;32m    206\u001B[0m     \u001B[0;32mdef\u001B[0m \u001B[0mapply_async\u001B[0m\u001B[0;34m(\u001B[0m\u001B[0mself\u001B[0m\u001B[0;34m,\u001B[0m \u001B[0mfunc\u001B[0m\u001B[0;34m,\u001B[0m \u001B[0mcallback\u001B[0m\u001B[0;34m=\u001B[0m\u001B[0;32mNone\u001B[0m\u001B[0;34m)\u001B[0m\u001B[0;34m:\u001B[0m\u001B[0;34m\u001B[0m\u001B[0;34m\u001B[0m\u001B[0m\n\u001B[1;32m    207\u001B[0m         \u001B[0;34m\"\"\"Schedule a func to be run\"\"\"\u001B[0m\u001B[0;34m\u001B[0m\u001B[0;34m\u001B[0m\u001B[0m\n\u001B[0;32m--> 208\u001B[0;31m         \u001B[0mresult\u001B[0m \u001B[0;34m=\u001B[0m \u001B[0mImmediateResult\u001B[0m\u001B[0;34m(\u001B[0m\u001B[0mfunc\u001B[0m\u001B[0;34m)\u001B[0m\u001B[0;34m\u001B[0m\u001B[0;34m\u001B[0m\u001B[0m\n\u001B[0m\u001B[1;32m    209\u001B[0m         \u001B[0;32mif\u001B[0m \u001B[0mcallback\u001B[0m\u001B[0;34m:\u001B[0m\u001B[0;34m\u001B[0m\u001B[0;34m\u001B[0m\u001B[0m\n\u001B[1;32m    210\u001B[0m             \u001B[0mcallback\u001B[0m\u001B[0;34m(\u001B[0m\u001B[0mresult\u001B[0m\u001B[0;34m)\u001B[0m\u001B[0;34m\u001B[0m\u001B[0;34m\u001B[0m\u001B[0m\n",
      "\u001B[0;32m~/.local/lib/python3.8/site-packages/joblib/_parallel_backends.py\u001B[0m in \u001B[0;36m__init__\u001B[0;34m(self, batch)\u001B[0m\n\u001B[1;32m    595\u001B[0m         \u001B[0;31m# Don't delay the application, to avoid keeping the input\u001B[0m\u001B[0;34m\u001B[0m\u001B[0;34m\u001B[0m\u001B[0;34m\u001B[0m\u001B[0m\n\u001B[1;32m    596\u001B[0m         \u001B[0;31m# arguments in memory\u001B[0m\u001B[0;34m\u001B[0m\u001B[0;34m\u001B[0m\u001B[0;34m\u001B[0m\u001B[0m\n\u001B[0;32m--> 597\u001B[0;31m         \u001B[0mself\u001B[0m\u001B[0;34m.\u001B[0m\u001B[0mresults\u001B[0m \u001B[0;34m=\u001B[0m \u001B[0mbatch\u001B[0m\u001B[0;34m(\u001B[0m\u001B[0;34m)\u001B[0m\u001B[0;34m\u001B[0m\u001B[0;34m\u001B[0m\u001B[0m\n\u001B[0m\u001B[1;32m    598\u001B[0m \u001B[0;34m\u001B[0m\u001B[0m\n\u001B[1;32m    599\u001B[0m     \u001B[0;32mdef\u001B[0m \u001B[0mget\u001B[0m\u001B[0;34m(\u001B[0m\u001B[0mself\u001B[0m\u001B[0;34m)\u001B[0m\u001B[0;34m:\u001B[0m\u001B[0;34m\u001B[0m\u001B[0;34m\u001B[0m\u001B[0m\n",
      "\u001B[0;32m~/.local/lib/python3.8/site-packages/joblib/parallel.py\u001B[0m in \u001B[0;36m__call__\u001B[0;34m(self)\u001B[0m\n\u001B[1;32m    286\u001B[0m         \u001B[0;31m# change the default number of processes to -1\u001B[0m\u001B[0;34m\u001B[0m\u001B[0;34m\u001B[0m\u001B[0;34m\u001B[0m\u001B[0m\n\u001B[1;32m    287\u001B[0m         \u001B[0;32mwith\u001B[0m \u001B[0mparallel_backend\u001B[0m\u001B[0;34m(\u001B[0m\u001B[0mself\u001B[0m\u001B[0;34m.\u001B[0m\u001B[0m_backend\u001B[0m\u001B[0;34m,\u001B[0m \u001B[0mn_jobs\u001B[0m\u001B[0;34m=\u001B[0m\u001B[0mself\u001B[0m\u001B[0;34m.\u001B[0m\u001B[0m_n_jobs\u001B[0m\u001B[0;34m)\u001B[0m\u001B[0;34m:\u001B[0m\u001B[0;34m\u001B[0m\u001B[0;34m\u001B[0m\u001B[0m\n\u001B[0;32m--> 288\u001B[0;31m             return [func(*args, **kwargs)\n\u001B[0m\u001B[1;32m    289\u001B[0m                     for func, args, kwargs in self.items]\n\u001B[1;32m    290\u001B[0m \u001B[0;34m\u001B[0m\u001B[0m\n",
      "\u001B[0;32m~/.local/lib/python3.8/site-packages/joblib/parallel.py\u001B[0m in \u001B[0;36m<listcomp>\u001B[0;34m(.0)\u001B[0m\n\u001B[1;32m    286\u001B[0m         \u001B[0;31m# change the default number of processes to -1\u001B[0m\u001B[0;34m\u001B[0m\u001B[0;34m\u001B[0m\u001B[0;34m\u001B[0m\u001B[0m\n\u001B[1;32m    287\u001B[0m         \u001B[0;32mwith\u001B[0m \u001B[0mparallel_backend\u001B[0m\u001B[0;34m(\u001B[0m\u001B[0mself\u001B[0m\u001B[0;34m.\u001B[0m\u001B[0m_backend\u001B[0m\u001B[0;34m,\u001B[0m \u001B[0mn_jobs\u001B[0m\u001B[0;34m=\u001B[0m\u001B[0mself\u001B[0m\u001B[0;34m.\u001B[0m\u001B[0m_n_jobs\u001B[0m\u001B[0;34m)\u001B[0m\u001B[0;34m:\u001B[0m\u001B[0;34m\u001B[0m\u001B[0;34m\u001B[0m\u001B[0m\n\u001B[0;32m--> 288\u001B[0;31m             return [func(*args, **kwargs)\n\u001B[0m\u001B[1;32m    289\u001B[0m                     for func, args, kwargs in self.items]\n\u001B[1;32m    290\u001B[0m \u001B[0;34m\u001B[0m\u001B[0m\n",
      "\u001B[0;32m~/.local/lib/python3.8/site-packages/sklearn/utils/parallel.py\u001B[0m in \u001B[0;36m__call__\u001B[0;34m(self, *args, **kwargs)\u001B[0m\n\u001B[1;32m    121\u001B[0m             \u001B[0mconfig\u001B[0m \u001B[0;34m=\u001B[0m \u001B[0;34m{\u001B[0m\u001B[0;34m}\u001B[0m\u001B[0;34m\u001B[0m\u001B[0;34m\u001B[0m\u001B[0m\n\u001B[1;32m    122\u001B[0m         \u001B[0;32mwith\u001B[0m \u001B[0mconfig_context\u001B[0m\u001B[0;34m(\u001B[0m\u001B[0;34m**\u001B[0m\u001B[0mconfig\u001B[0m\u001B[0;34m)\u001B[0m\u001B[0;34m:\u001B[0m\u001B[0;34m\u001B[0m\u001B[0;34m\u001B[0m\u001B[0m\n\u001B[0;32m--> 123\u001B[0;31m             \u001B[0;32mreturn\u001B[0m \u001B[0mself\u001B[0m\u001B[0;34m.\u001B[0m\u001B[0mfunction\u001B[0m\u001B[0;34m(\u001B[0m\u001B[0;34m*\u001B[0m\u001B[0margs\u001B[0m\u001B[0;34m,\u001B[0m \u001B[0;34m**\u001B[0m\u001B[0mkwargs\u001B[0m\u001B[0;34m)\u001B[0m\u001B[0;34m\u001B[0m\u001B[0;34m\u001B[0m\u001B[0m\n\u001B[0m",
      "\u001B[0;32m~/.local/lib/python3.8/site-packages/sklearn/ensemble/_forest.py\u001B[0m in \u001B[0;36m_parallel_build_trees\u001B[0;34m(tree, bootstrap, X, y, sample_weight, tree_idx, n_trees, verbose, class_weight, n_samples_bootstrap)\u001B[0m\n\u001B[1;32m    182\u001B[0m             \u001B[0mcurr_sample_weight\u001B[0m \u001B[0;34m*=\u001B[0m \u001B[0mcompute_sample_weight\u001B[0m\u001B[0;34m(\u001B[0m\u001B[0;34m\"balanced\"\u001B[0m\u001B[0;34m,\u001B[0m \u001B[0my\u001B[0m\u001B[0;34m,\u001B[0m \u001B[0mindices\u001B[0m\u001B[0;34m=\u001B[0m\u001B[0mindices\u001B[0m\u001B[0;34m)\u001B[0m\u001B[0;34m\u001B[0m\u001B[0;34m\u001B[0m\u001B[0m\n\u001B[1;32m    183\u001B[0m \u001B[0;34m\u001B[0m\u001B[0m\n\u001B[0;32m--> 184\u001B[0;31m         \u001B[0mtree\u001B[0m\u001B[0;34m.\u001B[0m\u001B[0mfit\u001B[0m\u001B[0;34m(\u001B[0m\u001B[0mX\u001B[0m\u001B[0;34m,\u001B[0m \u001B[0my\u001B[0m\u001B[0;34m,\u001B[0m \u001B[0msample_weight\u001B[0m\u001B[0;34m=\u001B[0m\u001B[0mcurr_sample_weight\u001B[0m\u001B[0;34m,\u001B[0m \u001B[0mcheck_input\u001B[0m\u001B[0;34m=\u001B[0m\u001B[0;32mFalse\u001B[0m\u001B[0;34m)\u001B[0m\u001B[0;34m\u001B[0m\u001B[0;34m\u001B[0m\u001B[0m\n\u001B[0m\u001B[1;32m    185\u001B[0m     \u001B[0;32melse\u001B[0m\u001B[0;34m:\u001B[0m\u001B[0;34m\u001B[0m\u001B[0;34m\u001B[0m\u001B[0m\n\u001B[1;32m    186\u001B[0m         \u001B[0mtree\u001B[0m\u001B[0;34m.\u001B[0m\u001B[0mfit\u001B[0m\u001B[0;34m(\u001B[0m\u001B[0mX\u001B[0m\u001B[0;34m,\u001B[0m \u001B[0my\u001B[0m\u001B[0;34m,\u001B[0m \u001B[0msample_weight\u001B[0m\u001B[0;34m=\u001B[0m\u001B[0msample_weight\u001B[0m\u001B[0;34m,\u001B[0m \u001B[0mcheck_input\u001B[0m\u001B[0;34m=\u001B[0m\u001B[0;32mFalse\u001B[0m\u001B[0;34m)\u001B[0m\u001B[0;34m\u001B[0m\u001B[0;34m\u001B[0m\u001B[0m\n",
      "\u001B[0;32m~/.local/lib/python3.8/site-packages/sklearn/tree/_classes.py\u001B[0m in \u001B[0;36mfit\u001B[0;34m(self, X, y, sample_weight, check_input)\u001B[0m\n\u001B[1;32m    887\u001B[0m         \"\"\"\n\u001B[1;32m    888\u001B[0m \u001B[0;34m\u001B[0m\u001B[0m\n\u001B[0;32m--> 889\u001B[0;31m         super().fit(\n\u001B[0m\u001B[1;32m    890\u001B[0m             \u001B[0mX\u001B[0m\u001B[0;34m,\u001B[0m\u001B[0;34m\u001B[0m\u001B[0;34m\u001B[0m\u001B[0m\n\u001B[1;32m    891\u001B[0m             \u001B[0my\u001B[0m\u001B[0;34m,\u001B[0m\u001B[0;34m\u001B[0m\u001B[0;34m\u001B[0m\u001B[0m\n",
      "\u001B[0;32m~/.local/lib/python3.8/site-packages/sklearn/tree/_classes.py\u001B[0m in \u001B[0;36mfit\u001B[0;34m(self, X, y, sample_weight, check_input)\u001B[0m\n\u001B[1;32m    377\u001B[0m             )\n\u001B[1;32m    378\u001B[0m \u001B[0;34m\u001B[0m\u001B[0m\n\u001B[0;32m--> 379\u001B[0;31m         \u001B[0mbuilder\u001B[0m\u001B[0;34m.\u001B[0m\u001B[0mbuild\u001B[0m\u001B[0;34m(\u001B[0m\u001B[0mself\u001B[0m\u001B[0;34m.\u001B[0m\u001B[0mtree_\u001B[0m\u001B[0;34m,\u001B[0m \u001B[0mX\u001B[0m\u001B[0;34m,\u001B[0m \u001B[0my\u001B[0m\u001B[0;34m,\u001B[0m \u001B[0msample_weight\u001B[0m\u001B[0;34m)\u001B[0m\u001B[0;34m\u001B[0m\u001B[0;34m\u001B[0m\u001B[0m\n\u001B[0m\u001B[1;32m    380\u001B[0m \u001B[0;34m\u001B[0m\u001B[0m\n\u001B[1;32m    381\u001B[0m         \u001B[0;32mif\u001B[0m \u001B[0mself\u001B[0m\u001B[0;34m.\u001B[0m\u001B[0mn_outputs_\u001B[0m \u001B[0;34m==\u001B[0m \u001B[0;36m1\u001B[0m \u001B[0;32mand\u001B[0m \u001B[0mis_classifier\u001B[0m\u001B[0;34m(\u001B[0m\u001B[0mself\u001B[0m\u001B[0;34m)\u001B[0m\u001B[0;34m:\u001B[0m\u001B[0;34m\u001B[0m\u001B[0;34m\u001B[0m\u001B[0m\n",
      "\u001B[0;31mKeyboardInterrupt\u001B[0m: "
     ]
    }
   ],
   "source": [
    "run_exp_iter_with_models_stress_testing(data_loader=exp_iter_data_loader,\n",
    "                                        experiment_seed=experiment_seed,\n",
    "                                        test_set_fraction=TEST_SET_FRACTION,\n",
    "                                        db_writer_func=db_writer_func,\n",
    "                                        error_injector=error_injector,\n",
    "                                        injector_config_lst=INJECTOR_CONFIG_LST,\n",
    "                                        preprocessor=preprocessor,\n",
    "                                        models_params_for_tuning=models_params_for_tuning,\n",
    "                                        metrics_computation_config=metrics_computation_config,\n",
    "                                        custom_table_fields_dct=custom_table_fields_dct,\n",
    "                                        with_tuning=True,\n",
    "                                        tuned_params_df_path=None,\n",
    "#                                         with_tuning=False,\n",
    "#                                         tuned_params_df_path=tuned_params_df_path,\n",
    "                                        save_results_dir_path=SAVE_RESULTS_DIR_PATH,\n",
    "                                        verbose=True)"
   ]
  },
  {
   "cell_type": "markdown",
   "id": "0ea3b297",
   "metadata": {},
   "source": [
    "### Experiment iteration 2"
   ]
  },
  {
   "cell_type": "code",
   "execution_count": 131,
   "id": "620143c5",
   "metadata": {},
   "outputs": [],
   "source": [
    "# Configs for an experiment iteration\n",
    "exp_iter_num = 2\n",
    "experiment_seed = EXPERIMENT_SEEDS[exp_iter_num - 1]\n",
    "tuned_params_filename = 'tuning_results_COMPAS_exp_iter_1_20230425__164903.csv'\n",
    "tuned_params_df_path = os.path.join(SAVE_RESULTS_DIR_PATH, 'models_tuning', tuned_params_filename)\n",
    "custom_table_fields_dct['experiment_iteration'] = f'Exp_iter_{exp_iter_num}'\n",
    "\n",
    "error_injector = RandomNullsInjectorV2(experiment_seed, columns_to_transform=COLUMNS_TO_TRANSFORM, row_idx_nulls_percentage=0.0,\n",
    "                                       max_num_columns_to_effect=MAX_NUM_COLUMNS_TO_EFFECT)\n",
    "models_params_for_tuning = get_folktables_income_models_params_for_tuning(experiment_seed)\n",
    "# Create a transformed data loader\n",
    "exp_iter_data_loader = create_experiment_data_loader(data_loader)\n",
    "exp_iter_data_loader.columns_with_nulls = COLUMNS_TO_TRANSFORM\n",
    "preprocessor = get_null_imputer_preprocessor(exp_iter_data_loader)"
   ]
  },
  {
   "cell_type": "code",
   "execution_count": 132,
   "id": "ae43f7d5",
   "metadata": {
    "ExecuteTime": {
     "end_time": "2023-04-23T01:13:11.201499Z",
     "start_time": "2023-04-23T01:08:21.665188Z"
    }
   },
   "outputs": [
    {
     "name": "stderr",
     "output_type": "stream",
     "text": [
      "2023-04-23 23:17:11 experiment_interface.py INFO    : Start an experiment iteration for the following custom params:\n"
     ]
    },
    {
     "name": "stdout",
     "output_type": "stream",
     "text": [
      "{'dataset_split_seed': 200,\n",
      " 'error_percentages': '0%,10%,20%,40%,60%,80%,100%',\n",
      " 'error_type': 'Random Nulls',\n",
      " 'experiment_iteration': 'Exp_iter_2',\n",
      " 'injector_config_lst': '[0.1, 0.2, 0.4, 0.6, 0.8, 1.0]',\n",
      " 'model_init_seed': 200,\n",
      " 'preprocessing_technique': 'cat: mode_trimmed_0.3, num: median',\n",
      " 'session_uuid': 'a4febf95-81bf-4aee-9b51-a690d596d5d2'}\n",
      "\n",
      "\n",
      "[CV 2/3; 1/4] START criterion=gini, max_depth=20, max_features=sqrt, min_samples_split=0.1\n",
      "[CV 2/3; 1/4] END criterion=gini, max_depth=20, max_features=sqrt, min_samples_split=0.1; Accuracy_Score: (test=0.747) F1_Score: (test=0.727) total time=   0.1s\n",
      "[CV 1/3; 4/4] START criterion=entropy, max_depth=30, max_features=sqrt, min_samples_split=0.1\n",
      "[CV 1/3; 4/4] END criterion=entropy, max_depth=30, max_features=sqrt, min_samples_split=0.1; Accuracy_Score: (test=0.745) F1_Score: (test=0.729) total time=   0.1s\n",
      "[CV 3/3; 4/4] START criterion=entropy, max_depth=30, max_features=sqrt, min_samples_split=0.1\n",
      "[CV 3/3; 4/4] END criterion=entropy, max_depth=30, max_features=sqrt, min_samples_split=0.1; Accuracy_Score: (test=0.745) F1_Score: (test=0.729) total time=   0.1s\n",
      "[CV 1/3; 2/8] START C=0.0001, max_iter=250, penalty=l2, solver=lbfgs............\n",
      "[CV 1/3; 2/8] END C=0.0001, max_iter=250, penalty=l2, solver=lbfgs; Accuracy_Score: (test=0.714) F1_Score: (test=0.679) total time=   0.4s\n",
      "[CV 1/3; 4/8] START C=0.1, max_iter=250, penalty=l2, solver=lbfgs...............\n",
      "[CV 1/3; 4/8] END C=0.1, max_iter=250, penalty=l2, solver=lbfgs; Accuracy_Score: (test=0.768) F1_Score: (test=0.760) total time=   5.8s\n",
      "[CV 3/3; 6/8] START C=1, max_iter=250, penalty=l2, solver=lbfgs.................\n",
      "[CV 3/3; 6/8] END C=1, max_iter=250, penalty=l2, solver=lbfgs; Accuracy_Score: (test=0.758) F1_Score: (test=0.750) total time=   5.7s\n",
      "[CV 3/3; 7/8] START C=100, max_iter=250, penalty=l2, solver=newton-cg...........\n",
      "[CV 3/3; 7/8] END C=100, max_iter=250, penalty=l2, solver=newton-cg; Accuracy_Score: (test=0.758) F1_Score: (test=0.750) total time=  25.0s\n"
     ]
    },
    {
     "name": "stderr",
     "output_type": "stream",
     "text": [
      "2023-04-23 23:17:13 experiment_interface.py INFO    : The dataset is preprocessed\n"
     ]
    },
    {
     "name": "stdout",
     "output_type": "stream",
     "text": [
      "Top indexes of an X_test in a base flow dataset:  Int64Index([20518, 20570, 38530, 39945,  1713, 19318, 15625, 36291, 26020,\n",
      "            18954,  7039, 40519, 42300,  5620, 39590, 39048, 33565, 18881,\n",
      "            43190,  5750],\n",
      "           dtype='int64')\n",
      "Top indexes of an y_test in a base flow dataset:  Int64Index([20518, 20570, 38530, 39945,  1713, 19318, 15625, 36291, 26020,\n",
      "            18954,  7039, 40519, 42300,  5620, 39590, 39048, 33565, 18881,\n",
      "            43190,  5750],\n",
      "           dtype='int64')\n",
      "transformed_X_test.isnull().sum() --  MAR         42\n",
      "MIL         55\n",
      "ESP         48\n",
      "MIG         51\n",
      "DREM        49\n",
      "NATIVITY    53\n",
      "DIS         65\n",
      "DEAR        70\n",
      "DEYE        62\n",
      "SEX          0\n",
      "RAC1P        0\n",
      "RELP        62\n",
      "CIT         69\n",
      "ANC         65\n",
      "SCHL        52\n",
      "AGEP         0\n",
      "dtype: int64\n",
      "transformed_X_test.isnull().sum() --  MAR         142\n",
      "MIL         156\n",
      "ESP         141\n",
      "MIG         149\n",
      "DREM        152\n",
      "NATIVITY    150\n",
      "DIS         150\n",
      "DEAR        148\n",
      "DEYE        146\n",
      "SEX           0\n",
      "RAC1P         0\n",
      "RELP        162\n",
      "CIT         185\n",
      "ANC         164\n",
      "SCHL        138\n",
      "AGEP          0\n",
      "dtype: int64\n",
      "[CV 2/3; 3/4] START criterion=entropy, max_depth=20, max_features=sqrt, min_samples_split=0.1\n",
      "[CV 2/3; 3/4] END criterion=entropy, max_depth=20, max_features=sqrt, min_samples_split=0.1; Accuracy_Score: (test=0.755) F1_Score: (test=0.737) total time=   0.1s\n",
      "[CV 2/3; 3/8] START C=0.1, max_iter=250, penalty=l2, solver=newton-cg...........\n",
      "[CV 2/3; 3/8] END C=0.1, max_iter=250, penalty=l2, solver=newton-cg; Accuracy_Score: (test=0.776) F1_Score: (test=0.768) total time=   6.4s\n",
      "[CV 1/3; 7/8] START C=100, max_iter=250, penalty=l2, solver=newton-cg...........\n",
      "[CV 1/3; 7/8] END C=100, max_iter=250, penalty=l2, solver=newton-cg; Accuracy_Score: (test=0.769) F1_Score: (test=0.761) total time=  36.4s\n",
      "transformed_X_test.isnull().sum() --  MAR         528\n",
      "MIL         522\n",
      "ESP         526\n",
      "MIG         513\n",
      "DREM        535\n",
      "NATIVITY    521\n",
      "DIS         555\n",
      "DEAR        539\n",
      "DEYE        573\n",
      "SEX           0\n",
      "RAC1P         0\n",
      "RELP        523\n",
      "CIT         558\n",
      "ANC         551\n",
      "SCHL        519\n",
      "AGEP          0\n",
      "dtype: int64\n",
      "transformed_X_test.isnull().sum() --  MAR          989\n",
      "MIL          984\n",
      "ESP         1053\n",
      "MIG         1038\n",
      "DREM        1038\n",
      "NATIVITY    1051\n",
      "DIS         1043\n",
      "DEAR        1049\n",
      "DEYE        1038\n",
      "SEX            0\n",
      "RAC1P          0\n",
      "RELP        1019\n",
      "CIT         1046\n",
      "ANC         1037\n",
      "SCHL         991\n",
      "AGEP           0\n",
      "dtype: int64\n",
      "transformed_X_test.isnull().sum() --  MAR         1830\n",
      "MIL         1845\n",
      "ESP         1845\n",
      "MIG         1844\n",
      "DREM        1871\n",
      "NATIVITY    1873\n",
      "DIS         1822\n",
      "DEAR        1857\n",
      "DEYE        1927\n",
      "SEX            0\n",
      "RAC1P          0\n",
      "RELP        1821\n",
      "CIT         1849\n",
      "ANC         1864\n",
      "SCHL        1823\n",
      "AGEP           0\n",
      "dtype: int64\n",
      "transformed_X_test.isnull().sum() --  MAR         2689\n",
      "MIL         2649\n",
      "ESP         2736\n",
      "MIG         2713\n",
      "DREM        2729\n",
      "NATIVITY    2706\n",
      "DIS         2654\n",
      "DEAR        2697\n",
      "DEYE        2731\n",
      "SEX            0\n",
      "RAC1P          0\n",
      "RELP        2705\n",
      "CIT         2689\n",
      "ANC         2694\n",
      "SCHL        2673\n",
      "AGEP           0\n",
      "dtype: int64\n",
      "2023/04/23, 23:18:37: Tuning DecisionTreeClassifier...\n",
      "Fitting 3 folds for each of 4 candidates, totalling 12 fits\n",
      "2023/04/23, 23:18:38: Tuning for DecisionTreeClassifier is finished [F1 score = 0.7314692777466018, Accuracy = 0.7483333333333334]\n",
      "\n",
      "2023/04/23, 23:18:38: Tuning LogisticRegression...\n",
      "Fitting 3 folds for each of 8 candidates, totalling 24 fits\n"
     ]
    },
    {
     "name": "stderr",
     "output_type": "stream",
     "text": [
      "2023-04-23 23:19:23 experiment_interface.py INFO    : Models are tuned and saved to a file\n"
     ]
    },
    {
     "name": "stdout",
     "output_type": "stream",
     "text": [
      "2023/04/23, 23:19:23: Tuning for LogisticRegression is finished [F1 score = 0.7601191992518244, Accuracy = 0.7677333333333335]\n",
      "\n"
     ]
    },
    {
     "data": {
      "application/vnd.jupyter.widget-view+json": {
       "model_id": "7efc6c3141194490a9ed870797e29f4d",
       "version_major": 2,
       "version_minor": 0
      },
      "text/plain": [
       "Multiple runs progress:   0%|          | 0/2 [00:00<?, ?it/s]"
      ]
     },
     "metadata": {},
     "output_type": "display_data"
    },
    {
     "data": {
      "application/vnd.jupyter.widget-view+json": {
       "model_id": "c02a736c3e0a4b52a3adc095fe05f3a7",
       "version_major": 2,
       "version_minor": 0
      },
      "text/plain": [
       "Analyze models in one run:   0%|          | 0/2 [00:00<?, ?it/s]"
      ]
     },
     "metadata": {},
     "output_type": "display_data"
    },
    {
     "data": {
      "application/vnd.jupyter.widget-view+json": {
       "model_id": "b6dc0479c18146bfa858c06ce036b5e2",
       "version_major": 2,
       "version_minor": 0
      },
      "text/plain": [
       "Classifiers testing by bootstrap:   0%|          | 0/10 [00:00<?, ?it/s]"
      ]
     },
     "metadata": {},
     "output_type": "display_data"
    },
    {
     "data": {
      "application/vnd.jupyter.widget-view+json": {
       "model_id": "4b41d3e71d884cf6a9a3cc004047d2d2",
       "version_major": 2,
       "version_minor": 0
      },
      "text/plain": [
       "Classifiers testing by bootstrap:   0%|          | 0/10 [00:00<?, ?it/s]"
      ]
     },
     "metadata": {},
     "output_type": "display_data"
    },
    {
     "data": {
      "application/vnd.jupyter.widget-view+json": {
       "model_id": "b75d825ba27d4fdb82b2854ce1eae44b",
       "version_major": 2,
       "version_minor": 0
      },
      "text/plain": [
       "Analyze models in one run:   0%|          | 0/2 [00:00<?, ?it/s]"
      ]
     },
     "metadata": {},
     "output_type": "display_data"
    },
    {
     "data": {
      "application/vnd.jupyter.widget-view+json": {
       "model_id": "b2926f806bfe43a5bfd05be09dbef680",
       "version_major": 2,
       "version_minor": 0
      },
      "text/plain": [
       "Classifiers testing by bootstrap:   0%|          | 0/10 [00:00<?, ?it/s]"
      ]
     },
     "metadata": {},
     "output_type": "display_data"
    },
    {
     "data": {
      "application/vnd.jupyter.widget-view+json": {
       "model_id": "ca7de5e9499f4f51a4eb11c8e64a0476",
       "version_major": 2,
       "version_minor": 0
      },
      "text/plain": [
       "Classifiers testing by bootstrap:   0%|          | 0/10 [00:00<?, ?it/s]"
      ]
     },
     "metadata": {},
     "output_type": "display_data"
    }
   ],
   "source": [
    "run_exp_iter_with_models_stress_testing(data_loader=exp_iter_data_loader,\n",
    "                                        experiment_seed=experiment_seed,\n",
    "                                        test_set_fraction=TEST_SET_FRACTION,\n",
    "                                        db_writer_func=db_writer_func,\n",
    "                                        error_injector=error_injector,\n",
    "                                        injector_config_lst=INJECTOR_CONFIG_LST,\n",
    "                                        preprocessor=preprocessor,\n",
    "                                        models_params_for_tuning=models_params_for_tuning,\n",
    "                                        metrics_computation_config=metrics_computation_config,\n",
    "                                        custom_table_fields_dct=custom_table_fields_dct,\n",
    "                                        with_tuning=True,\n",
    "                                        tuned_params_df_path=None,\n",
    "#                                         with_tuning=False,\n",
    "#                                         tuned_params_df_path=tuned_params_df_path,\n",
    "                                        save_results_dir_path=SAVE_RESULTS_DIR_PATH,\n",
    "                                        verbose=True)"
   ]
  },
  {
   "cell_type": "code",
   "execution_count": 54,
   "id": "f6412f20",
   "metadata": {
    "ExecuteTime": {
     "end_time": "2023-04-22T17:12:09.025575Z",
     "start_time": "2023-04-22T17:12:08.968229Z"
    }
   },
   "outputs": [],
   "source": [
    "# client.close()"
   ]
  },
  {
   "cell_type": "code",
   "execution_count": 54,
   "id": "9523714d",
   "metadata": {
    "ExecuteTime": {
     "end_time": "2023-04-22T17:12:09.025679Z",
     "start_time": "2023-04-22T17:12:08.972200Z"
    }
   },
   "outputs": [],
   "source": []
  }
 ],
 "metadata": {
  "kernelspec": {
   "display_name": "Python 3",
   "language": "python",
   "name": "python3"
  }
 },
 "nbformat": 4,
 "nbformat_minor": 5
}
