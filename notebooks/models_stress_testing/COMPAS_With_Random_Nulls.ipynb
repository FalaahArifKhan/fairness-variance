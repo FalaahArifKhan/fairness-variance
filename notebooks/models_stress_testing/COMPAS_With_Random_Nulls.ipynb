{
 "cells": [
  {
   "cell_type": "code",
   "execution_count": 24,
   "id": "bee4de34",
   "metadata": {
    "ExecuteTime": {
     "end_time": "2023-04-22T17:06:09.249675Z",
     "start_time": "2023-04-22T17:06:09.233480Z"
    }
   },
   "outputs": [],
   "source": [
    "# !pip install -r ../exp_requirements.txt"
   ]
  },
  {
   "cell_type": "code",
   "execution_count": 25,
   "id": "1d159721",
   "metadata": {
    "ExecuteTime": {
     "end_time": "2023-04-22T17:06:09.276223Z",
     "start_time": "2023-04-22T17:06:09.251393Z"
    }
   },
   "outputs": [],
   "source": [
    "# !pip uninstall virny -y"
   ]
  },
  {
   "cell_type": "code",
   "execution_count": 26,
   "id": "1aba3b9e",
   "metadata": {
    "ExecuteTime": {
     "end_time": "2023-04-22T17:06:09.293739Z",
     "start_time": "2023-04-22T17:06:09.271221Z"
    }
   },
   "outputs": [],
   "source": [
    "# Install using an HTTP link\n",
    "# !pip install git+https://github.com/DataResponsibly/Virny.git@development\n",
    "\n",
    "# Install using an SSH link\n",
    "# !pip install git+ssh://git@github.com/DataResponsibly/Virny.git@development"
   ]
  },
  {
   "cell_type": "code",
   "execution_count": 2,
   "id": "248cbed8",
   "metadata": {
    "ExecuteTime": {
     "start_time": "2023-04-23T13:30:19.866407Z",
     "end_time": "2023-04-23T13:30:20.281401Z"
    }
   },
   "outputs": [],
   "source": [
    "%matplotlib inline\n",
    "%load_ext autoreload\n",
    "%autoreload 2"
   ]
  },
  {
   "cell_type": "code",
   "execution_count": 3,
   "id": "7ec6cd08",
   "metadata": {
    "ExecuteTime": {
     "start_time": "2023-04-23T13:30:20.282567Z",
     "end_time": "2023-04-23T13:30:20.290644Z"
    }
   },
   "outputs": [],
   "source": [
    "import os\n",
    "import warnings\n",
    "warnings.filterwarnings('ignore')\n",
    "os.environ[\"PYTHONWARNINGS\"] = \"ignore\""
   ]
  },
  {
   "cell_type": "markdown",
   "id": "a578f2ab",
   "metadata": {},
   "source": [
    "# COMPAS Dataset With Random Nulls"
   ]
  },
  {
   "cell_type": "markdown",
   "id": "606df34d",
   "metadata": {},
   "source": [
    "## Import dependencies"
   ]
  },
  {
   "cell_type": "code",
   "execution_count": 4,
   "id": "7a9241de",
   "metadata": {
    "ExecuteTime": {
     "start_time": "2023-04-23T13:30:20.293249Z",
     "end_time": "2023-04-23T13:30:21.590617Z"
    }
   },
   "outputs": [],
   "source": [
    "import os\n",
    "import copy\n",
    "\n",
    "from xgboost import XGBClassifier\n",
    "from sklearn.tree import DecisionTreeClassifier\n",
    "from sklearn.linear_model import LogisticRegression\n",
    "from sklearn.ensemble import RandomForestClassifier\n",
    "from sklearn.neighbors import KNeighborsClassifier\n",
    "from sklearn.neural_network import MLPClassifier\n",
    "\n",
    "from virny.utils.custom_initializers import create_config_obj, create_models_metrics_dct_from_database_df\n",
    "from virny.datasets.data_loaders import CompasDataset\n",
    "from source.user_interfaces.experiment_interface import run_exp_iter_with_models_stress_testing\n",
    "from source.error_injectors.random_nulls_injector_v2 import RandomNullsInjectorV2\n",
    "from source.utils.custom_initializers import create_experiment_data_loader\n",
    "from source.utils.db_functions import read_model_metric_dfs_from_db\n",
    "from source.preprocessing.basic_preprocessing import get_null_imputer_preprocessor\n",
    "\n",
    "from configs.constants import NUM_METRICS_COMPUTATION_RUNS, EXPERIMENT_SEEDS, TEST_SET_FRACTION"
   ]
  },
  {
   "cell_type": "markdown",
   "id": "75699f5f",
   "metadata": {},
   "source": [
    "## Initialize input variables for the experiment"
   ]
  },
  {
   "cell_type": "code",
   "execution_count": 5,
   "id": "95768787",
   "metadata": {
    "ExecuteTime": {
     "start_time": "2023-04-23T13:30:21.571542Z",
     "end_time": "2023-04-23T13:30:21.603942Z"
    }
   },
   "outputs": [],
   "source": [
    "ROOT_DIR = os.path.join(os.getcwd(), \"..\", \"..\")\n",
    "EXPERIMENT_NAME = 'stress_testing_nulls'\n",
    "DB_COLLECTION_NAME = f'{EXPERIMENT_NAME}_results'\n",
    "SAVE_RESULTS_DIR_PATH = os.path.join(ROOT_DIR, 'results', EXPERIMENT_NAME)\n",
    "COLUMNS_TO_TRANSFORM = ['juv_fel_count', 'juv_misd_count', 'juv_other_count', 'priors_count', 'c_charge_degree_F', 'c_charge_degree_M']\n",
    "MAX_NUM_COLUMNS_TO_EFFECT = 3\n",
    "INJECTOR_CONFIG_LST = [0.05, 0.1, 0.2, 0.3, 0.4, 0.5]\n",
    "# INJECTOR_CONFIG_LST = [0.1, 0.2, 0.4, 0.6, 0.8, 1.0]"
   ]
  },
  {
   "cell_type": "code",
   "execution_count": 6,
   "id": "e2eea22a",
   "metadata": {
    "ExecuteTime": {
     "start_time": "2023-04-23T13:30:21.600868Z",
     "end_time": "2023-04-23T13:30:24.191398Z"
    }
   },
   "outputs": [
    {
     "data": {
      "text/plain": "   age  juv_fel_count  juv_misd_count  juv_other_count  priors_count  \\\n0   25            0.0       -2.340451              1.0    -15.010999   \n1   26            0.0        0.000000              0.0      0.000000   \n2   21            0.0        0.000000              0.0      0.000000   \n3   29            0.0        0.000000              0.0      6.000000   \n4   40            0.0        0.000000              0.0      7.513697   \n\n               race  age_cat_25 - 45  age_cat_Greater than 45  \\\n0  African-American                1                        0   \n1         Caucasian                1                        0   \n2         Caucasian                0                        0   \n3  African-American                1                        0   \n4         Caucasian                1                        0   \n\n   age_cat_Less than 25  c_charge_degree_F  c_charge_degree_M  sex  \n0                     0                  0                  1    1  \n1                     0                  1                  0    0  \n2                     1                  1                  0    1  \n3                     0                  0                  1    1  \n4                     0                  1                  0    1  ",
      "text/html": "<div>\n<style scoped>\n    .dataframe tbody tr th:only-of-type {\n        vertical-align: middle;\n    }\n\n    .dataframe tbody tr th {\n        vertical-align: top;\n    }\n\n    .dataframe thead th {\n        text-align: right;\n    }\n</style>\n<table border=\"1\" class=\"dataframe\">\n  <thead>\n    <tr style=\"text-align: right;\">\n      <th></th>\n      <th>age</th>\n      <th>juv_fel_count</th>\n      <th>juv_misd_count</th>\n      <th>juv_other_count</th>\n      <th>priors_count</th>\n      <th>race</th>\n      <th>age_cat_25 - 45</th>\n      <th>age_cat_Greater than 45</th>\n      <th>age_cat_Less than 25</th>\n      <th>c_charge_degree_F</th>\n      <th>c_charge_degree_M</th>\n      <th>sex</th>\n    </tr>\n  </thead>\n  <tbody>\n    <tr>\n      <th>0</th>\n      <td>25</td>\n      <td>0.0</td>\n      <td>-2.340451</td>\n      <td>1.0</td>\n      <td>-15.010999</td>\n      <td>African-American</td>\n      <td>1</td>\n      <td>0</td>\n      <td>0</td>\n      <td>0</td>\n      <td>1</td>\n      <td>1</td>\n    </tr>\n    <tr>\n      <th>1</th>\n      <td>26</td>\n      <td>0.0</td>\n      <td>0.000000</td>\n      <td>0.0</td>\n      <td>0.000000</td>\n      <td>Caucasian</td>\n      <td>1</td>\n      <td>0</td>\n      <td>0</td>\n      <td>1</td>\n      <td>0</td>\n      <td>0</td>\n    </tr>\n    <tr>\n      <th>2</th>\n      <td>21</td>\n      <td>0.0</td>\n      <td>0.000000</td>\n      <td>0.0</td>\n      <td>0.000000</td>\n      <td>Caucasian</td>\n      <td>0</td>\n      <td>0</td>\n      <td>1</td>\n      <td>1</td>\n      <td>0</td>\n      <td>1</td>\n    </tr>\n    <tr>\n      <th>3</th>\n      <td>29</td>\n      <td>0.0</td>\n      <td>0.000000</td>\n      <td>0.0</td>\n      <td>6.000000</td>\n      <td>African-American</td>\n      <td>1</td>\n      <td>0</td>\n      <td>0</td>\n      <td>0</td>\n      <td>1</td>\n      <td>1</td>\n    </tr>\n    <tr>\n      <th>4</th>\n      <td>40</td>\n      <td>0.0</td>\n      <td>0.000000</td>\n      <td>0.0</td>\n      <td>7.513697</td>\n      <td>Caucasian</td>\n      <td>1</td>\n      <td>0</td>\n      <td>0</td>\n      <td>1</td>\n      <td>0</td>\n      <td>1</td>\n    </tr>\n  </tbody>\n</table>\n</div>"
     },
     "execution_count": 6,
     "metadata": {},
     "output_type": "execute_result"
    }
   ],
   "source": [
    "data_loader = CompasDataset()\n",
    "data_loader.X_data.head()"
   ]
  },
  {
   "cell_type": "code",
   "execution_count": 7,
   "id": "b4745bc8",
   "metadata": {
    "ExecuteTime": {
     "start_time": "2023-04-23T13:30:24.183137Z",
     "end_time": "2023-04-23T13:30:24.341989Z"
    }
   },
   "outputs": [
    {
     "data": {
      "text/plain": "age                        0\njuv_fel_count              0\njuv_misd_count             0\njuv_other_count            0\npriors_count               0\nage_cat_25 - 45            0\nage_cat_Greater than 45    0\nage_cat_Less than 25       0\nc_charge_degree_F          0\nc_charge_degree_M          0\nrace                       0\nsex                        0\nrecidivism                 0\ndtype: int64"
     },
     "execution_count": 7,
     "metadata": {},
     "output_type": "execute_result"
    }
   ],
   "source": [
    "data_loader.full_df.isna().sum()"
   ]
  },
  {
   "cell_type": "markdown",
   "id": "b08cc201",
   "metadata": {},
   "source": [
    "### Define a db writer and custom fields to insert into your database"
   ]
  },
  {
   "cell_type": "code",
   "execution_count": 8,
   "id": "1ed6ef1f",
   "metadata": {
    "ExecuteTime": {
     "start_time": "2023-04-23T13:30:24.304924Z",
     "end_time": "2023-04-23T13:30:24.367148Z"
    }
   },
   "outputs": [],
   "source": [
    "from source.utils.db_functions import connect_to_mongodb\n",
    "\n",
    "client, collection_obj, db_writer_func = connect_to_mongodb(DB_COLLECTION_NAME)"
   ]
  },
  {
   "cell_type": "code",
   "execution_count": 9,
   "id": "b9d110e2",
   "metadata": {
    "ExecuteTime": {
     "start_time": "2023-04-23T13:30:24.351860Z",
     "end_time": "2023-04-23T13:30:24.426028Z"
    }
   },
   "outputs": [],
   "source": [
    "custom_table_fields_dct = {\n",
    "    'error_type': 'Random Nulls',\n",
    "    'error_percentages': '0%,5%,10%,20%,30%,40%,50%',\n",
    "    # 'error_percentages': '0%,10%,20%,40%,60%,80%,100%',\n",
    "    # 'preprocessing_technique': 'cat: mode_trimmed_0.3, num: median',\n",
    "    'preprocessing_technique': 'cat: mode, num: median',\n",
    "}"
   ]
  },
  {
   "cell_type": "code",
   "execution_count": 10,
   "id": "bd3d755b",
   "metadata": {
    "ExecuteTime": {
     "start_time": "2023-04-23T13:30:24.396152Z",
     "end_time": "2023-04-23T13:30:24.444377Z"
    }
   },
   "outputs": [
    {
     "name": "stdout",
     "output_type": "stream",
     "text": [
      "Current session uuid:  630e5d1d-1f34-4696-a678-5b113ba16bbf\n"
     ]
    }
   ],
   "source": [
    "import uuid\n",
    "\n",
    "# Folktables\n",
    "# custom_table_fields_dct['session_uuid'] = 'c53d250b-5ba9-4d91-a444-ed7eb7919de5'\n",
    "# custom_table_fields_dct['session_uuid'] = 'e38b6e20-e4e7-4791-89d3-5e371513d2ea'\n",
    "# custom_table_fields_dct['session_uuid'] = '2f6541f0-2a77-446a-a5be-92d7b4187052'\n",
    "# custom_table_fields_dct['session_uuid'] = 'a4febf95-81bf-4aee-9b51-a690d596d5d2'\n",
    "\n",
    "# COMPAS\n",
    "# custom_table_fields_dct['session_uuid'] = '669042c2-9efe-44ca-8578-1716c7f8d2b4'\n",
    "custom_table_fields_dct['session_uuid'] = '630e5d1d-1f34-4696-a678-5b113ba16bbf'\n",
    "# custom_table_fields_dct['session_uuid'] = str(uuid.uuid4())\n",
    "print('Current session uuid: ', custom_table_fields_dct['session_uuid'])"
   ]
  },
  {
   "cell_type": "markdown",
   "id": "57c0a138",
   "metadata": {},
   "source": [
    "### Create a metrics computation config object"
   ]
  },
  {
   "cell_type": "code",
   "execution_count": 11,
   "id": "e66a4013",
   "metadata": {
    "ExecuteTime": {
     "start_time": "2023-04-23T13:30:24.410029Z",
     "end_time": "2023-04-23T13:30:24.445854Z"
    }
   },
   "outputs": [],
   "source": [
    "config_yaml_path = 'experiment_config.yaml'\n",
    "config_yaml_content = \\\n",
    "f\"\"\"\n",
    "dataset_name: COMPAS\n",
    "bootstrap_fraction: 0.8\n",
    "n_estimators: 50  # Better to input the higher number of estimators than 100; this is only for this use case example\n",
    "num_runs: 3\n",
    "runs_seed_lst: [100, 200, 300]\n",
    "sensitive_attributes_dct: {{'sex': 0, 'race': 'Caucasian', 'sex&race': None}}\n",
    "\"\"\"\n",
    "\n",
    "with open(config_yaml_path, 'w', encoding='utf-8') as f:\n",
    "    f.write(config_yaml_content)"
   ]
  },
  {
   "cell_type": "code",
   "execution_count": 12,
   "id": "62dfa85c",
   "metadata": {
    "ExecuteTime": {
     "start_time": "2023-04-23T13:30:24.436377Z",
     "end_time": "2023-04-23T13:30:24.514656Z"
    }
   },
   "outputs": [],
   "source": [
    "metrics_computation_config = create_config_obj(config_yaml_path=config_yaml_path)"
   ]
  },
  {
   "cell_type": "markdown",
   "id": "1a1f5ef2",
   "metadata": {},
   "source": [
    "### Define tuning parameter for models"
   ]
  },
  {
   "cell_type": "code",
   "execution_count": 13,
   "id": "41fe64fe",
   "metadata": {
    "ExecuteTime": {
     "start_time": "2023-04-23T13:30:24.484014Z",
     "end_time": "2023-04-23T13:30:24.532457Z"
    }
   },
   "outputs": [],
   "source": [
    "def get_models_params_for_tuning(models_tuning_seed):\n",
    "    return {\n",
    "        'DecisionTreeClassifier': {\n",
    "            'model': DecisionTreeClassifier(random_state=models_tuning_seed),\n",
    "            'params': {\n",
    "                \"max_depth\": [20, 30],\n",
    "                \"min_samples_split\" : [0.1],\n",
    "                \"max_features\": ['sqrt'],\n",
    "                \"criterion\": [\"gini\", \"entropy\"]\n",
    "            }\n",
    "        },\n",
    "        'LogisticRegression': {\n",
    "            'model': LogisticRegression(random_state=models_tuning_seed),\n",
    "            'params': {\n",
    "                'penalty': ['l2'],\n",
    "                'C' : [0.0001, 0.1, 1, 100],\n",
    "                'solver': ['newton-cg', 'lbfgs'],\n",
    "                'max_iter': [250],\n",
    "            }\n",
    "        },\n",
    "        # 'RandomForestClassifier': {\n",
    "        #     'model': RandomForestClassifier(random_state=models_tuning_seed),\n",
    "        #     'params': {\n",
    "        #         \"max_depth\": [6, 10],\n",
    "        #         \"min_samples_leaf\": [1],\n",
    "        #         \"n_estimators\": [50, 100],\n",
    "        #         \"max_features\": [0.6]\n",
    "        #     }\n",
    "        # },\n",
    "        # 'XGBClassifier': {\n",
    "        #     'model': XGBClassifier(random_state=models_tuning_seed, verbosity=0),\n",
    "        #     'params': {\n",
    "        #         'learning_rate': [0.1],\n",
    "        #         'n_estimators': [200],\n",
    "        #         'max_depth': [5, 7],\n",
    "        #         'lambda':  [10, 100]\n",
    "        #     }\n",
    "        # },\n",
    "        # 'KNeighborsClassifier': {\n",
    "        #     'model': KNeighborsClassifier(),\n",
    "        #     'params': {\n",
    "        #         'n_neighbors' : [5, 7, 9, 11, 13, 15, 25],\n",
    "        #         'weights' : ['uniform', 'distance'],\n",
    "        #         'metric' : ['minkowski', 'euclidean', 'manhattan']\n",
    "        #     }\n",
    "        # },\n",
    "        # 'MLPClassifier': {\n",
    "        #     'model': MLPClassifier(random_state=models_tuning_seed),\n",
    "        #     'params': {\n",
    "        #         'hidden_layer_sizes':[(100,), (100,100,), (100,50,100,)],\n",
    "        #         'activation': ['logistic', 'tanh', 'relu'],\n",
    "        #         'solver': ['lbfgs', 'sgd', 'adam'],\n",
    "        #         'learning_rate': ['constant', 'invscaling', 'adaptive']\n",
    "        #     }\n",
    "        # }\n",
    "    }"
   ]
  },
  {
   "cell_type": "markdown",
   "id": "e9399ecb",
   "metadata": {},
   "source": [
    "## Run experiments"
   ]
  },
  {
   "cell_type": "markdown",
   "id": "647d5a60",
   "metadata": {},
   "source": [
    "### Experiment iteration 1"
   ]
  },
  {
   "cell_type": "code",
   "execution_count": 16,
   "id": "7beab8da",
   "metadata": {
    "ExecuteTime": {
     "start_time": "2023-04-23T13:36:02.820440Z",
     "end_time": "2023-04-23T13:36:02.906869Z"
    }
   },
   "outputs": [],
   "source": [
    "# Configs for an experiment iteration\n",
    "exp_iter_num = 1\n",
    "tuned_params_filename = 'tuning_results_COMPAS_exp_iter_1_20230425__143558.csv'\n",
    "tuned_params_df_path = os.path.join(SAVE_RESULTS_DIR_PATH, 'models_tuning', tuned_params_filename)\n",
    "experiment_seed = EXPERIMENT_SEEDS[exp_iter_num - 1]\n",
    "custom_table_fields_dct['experiment_iteration'] = f'Exp_iter_{exp_iter_num}'\n",
    "\n",
    "error_injector = RandomNullsInjectorV2(experiment_seed, columns_to_transform=COLUMNS_TO_TRANSFORM, row_idx_nulls_percentage=0.0,\n",
    "                                       max_num_columns_to_effect=MAX_NUM_COLUMNS_TO_EFFECT)\n",
    "models_params_for_tuning = get_models_params_for_tuning(experiment_seed)\n",
    "# Create a transformed data loader\n",
    "exp_iter_data_loader = create_experiment_data_loader(data_loader)\n",
    "exp_iter_data_loader.columns_with_nulls = COLUMNS_TO_TRANSFORM\n",
    "# preprocessor = get_null_imputer_preprocessor(exp_iter_data_loader, categorical_trimmed=0.3)\n",
    "preprocessor = get_null_imputer_preprocessor(exp_iter_data_loader)"
   ]
  },
  {
   "cell_type": "code",
   "execution_count": 18,
   "id": "2326c129",
   "metadata": {
    "ExecuteTime": {
     "end_time": "2023-04-22T17:12:08.249600Z",
     "start_time": "2023-04-22T17:06:12.324268Z"
    }
   },
   "outputs": [
    {
     "name": "stderr",
     "output_type": "stream",
     "text": [
      "2023-04-25 17:38:55 experiment_interface.py INFO    : Start an experiment iteration for the following custom params:\n"
     ]
    },
    {
     "name": "stdout",
     "output_type": "stream",
     "text": [
      "{'dataset_split_seed': 100,\n",
      " 'error_percentages': '0%,5%,10%,20%,30%,40%,50%',\n",
      " 'error_type': 'Random Nulls',\n",
      " 'experiment_iteration': 'Exp_iter_1',\n",
      " 'injector_config_lst': '[0.05, 0.1, 0.2, 0.3, 0.4, 0.5]',\n",
      " 'model_init_seed': 100,\n",
      " 'preprocessing_technique': 'cat: mode, num: median',\n",
      " 'session_uuid': '630e5d1d-1f34-4696-a678-5b113ba16bbf'}\n",
      "\n",
      "\n"
     ]
    },
    {
     "name": "stderr",
     "output_type": "stream",
     "text": [
      "2023-04-25 17:38:55 experiment_interface.py INFO    : The dataset is preprocessed\n"
     ]
    },
    {
     "name": "stdout",
     "output_type": "stream",
     "text": [
      "Top indexes of an X_test in a base flow dataset:  Int64Index([1639, 4204, 3264,  664, 1039,  640, 3765, 2047, 1575,  995,  852,\n",
      "            3633, 2081, 5121, 2055, 2053, 2087, 3058,  662, 3826],\n",
      "           dtype='int64')\n",
      "Top indexes of an y_test in a base flow dataset:  Int64Index([1639, 4204, 3264,  664, 1039,  640, 3765, 2047, 1575,  995,  852,\n",
      "            3633, 2081, 5121, 2055, 2053, 2087, 3058,  662, 3826],\n",
      "           dtype='int64')\n",
      "error_injector.seed --  107\n",
      "transformed_X_test:\n",
      " age                         0\n",
      "juv_fel_count               9\n",
      "juv_misd_count             13\n",
      "juv_other_count             7\n",
      "priors_count                5\n",
      "race                        0\n",
      "age_cat_25 - 45             0\n",
      "age_cat_Greater than 45     0\n",
      "age_cat_Less than 25        0\n",
      "c_charge_degree_F          11\n",
      "c_charge_degree_M           8\n",
      "sex                         0\n",
      "dtype: int64\n",
      "error_injector.seed --  108\n",
      "transformed_X_test:\n",
      " age                         0\n",
      "juv_fel_count              22\n",
      "juv_misd_count             26\n",
      "juv_other_count            15\n",
      "priors_count               14\n",
      "race                        0\n",
      "age_cat_25 - 45             0\n",
      "age_cat_Greater than 45     0\n",
      "age_cat_Less than 25        0\n",
      "c_charge_degree_F          17\n",
      "c_charge_degree_M          16\n",
      "sex                         0\n",
      "dtype: int64\n",
      "error_injector.seed --  109\n",
      "transformed_X_test:\n",
      " age                         0\n",
      "juv_fel_count              39\n",
      "juv_misd_count             37\n",
      "juv_other_count            36\n",
      "priors_count               32\n",
      "race                        0\n",
      "age_cat_25 - 45             0\n",
      "age_cat_Greater than 45     0\n",
      "age_cat_Less than 25        0\n",
      "c_charge_degree_F          26\n",
      "c_charge_degree_M          29\n",
      "sex                         0\n",
      "dtype: int64\n",
      "error_injector.seed --  110\n",
      "transformed_X_test:\n",
      " age                         0\n",
      "juv_fel_count              63\n",
      "juv_misd_count             50\n",
      "juv_other_count            50\n",
      "priors_count               49\n",
      "race                        0\n",
      "age_cat_25 - 45             0\n",
      "age_cat_Greater than 45     0\n",
      "age_cat_Less than 25        0\n",
      "c_charge_degree_F          44\n",
      "c_charge_degree_M          47\n",
      "sex                         0\n",
      "dtype: int64\n",
      "error_injector.seed --  111\n",
      "transformed_X_test:\n",
      " age                         0\n",
      "juv_fel_count              74\n",
      "juv_misd_count             72\n",
      "juv_other_count            62\n",
      "priors_count               81\n",
      "race                        0\n",
      "age_cat_25 - 45             0\n",
      "age_cat_Greater than 45     0\n",
      "age_cat_Less than 25        0\n",
      "c_charge_degree_F          59\n",
      "c_charge_degree_M          74\n",
      "sex                         0\n",
      "dtype: int64\n",
      "error_injector.seed --  112\n"
     ]
    },
    {
     "name": "stderr",
     "output_type": "stream",
     "text": [
      "2023-04-25 17:38:57 experiment_interface.py INFO    : Models config is loaded from the input file\n"
     ]
    },
    {
     "name": "stdout",
     "output_type": "stream",
     "text": [
      "transformed_X_test:\n",
      " age                         0\n",
      "juv_fel_count              85\n",
      "juv_misd_count             94\n",
      "juv_other_count            84\n",
      "priors_count               96\n",
      "race                        0\n",
      "age_cat_25 - 45             0\n",
      "age_cat_Greater than 45     0\n",
      "age_cat_Less than 25        0\n",
      "c_charge_degree_F          81\n",
      "c_charge_degree_M          83\n",
      "sex                         0\n",
      "dtype: int64\n",
      "DecisionTreeClassifier:  {'ccp_alpha': 0.0, 'class_weight': None, 'criterion': 'entropy', 'max_depth': 20, 'max_features': 'sqrt', 'max_leaf_nodes': None, 'min_impurity_decrease': 0.0, 'min_samples_leaf': 1, 'min_samples_split': 0.1, 'min_weight_fraction_leaf': 0.0, 'random_state': 101, 'splitter': 'best'}\n",
      "LogisticRegression:  {'C': 0.1, 'class_weight': None, 'dual': False, 'fit_intercept': True, 'intercept_scaling': 1, 'l1_ratio': None, 'max_iter': 250, 'multi_class': 'auto', 'n_jobs': None, 'penalty': 'l2', 'random_state': 101, 'solver': 'newton-cg', 'tol': 0.0001, 'verbose': 0, 'warm_start': False}\n"
     ]
    },
    {
     "data": {
      "text/plain": "Multiple runs progress:   0%|          | 0/3 [00:00<?, ?it/s]",
      "application/vnd.jupyter.widget-view+json": {
       "version_major": 2,
       "version_minor": 0,
       "model_id": "b12dfde77b114ae8a5d4a4cc1f431657"
      }
     },
     "metadata": {},
     "output_type": "display_data"
    },
    {
     "data": {
      "text/plain": "Analyze models in one run:   0%|          | 0/2 [00:00<?, ?it/s]",
      "application/vnd.jupyter.widget-view+json": {
       "version_major": 2,
       "version_minor": 0,
       "model_id": "490e956e10bc47cd9252085580f5a709"
      }
     },
     "metadata": {},
     "output_type": "display_data"
    },
    {
     "data": {
      "text/plain": "Classifiers testing by bootstrap:   0%|          | 0/50 [00:00<?, ?it/s]",
      "application/vnd.jupyter.widget-view+json": {
       "version_major": 2,
       "version_minor": 0,
       "model_id": "8d3789b3bdf74a92a5f74d627bc26a6b"
      }
     },
     "metadata": {},
     "output_type": "display_data"
    },
    {
     "ename": "KeyboardInterrupt",
     "evalue": "",
     "output_type": "error",
     "traceback": [
      "\u001B[0;31m---------------------------------------------------------------------------\u001B[0m",
      "\u001B[0;31mKeyboardInterrupt\u001B[0m                         Traceback (most recent call last)",
      "Cell \u001B[0;32mIn[18], line 1\u001B[0m\n\u001B[0;32m----> 1\u001B[0m \u001B[43mrun_exp_iter_with_models_stress_testing\u001B[49m\u001B[43m(\u001B[49m\u001B[43mdata_loader\u001B[49m\u001B[38;5;241;43m=\u001B[39;49m\u001B[43mexp_iter_data_loader\u001B[49m\u001B[43m,\u001B[49m\n\u001B[1;32m      2\u001B[0m \u001B[43m                                        \u001B[49m\u001B[43mexperiment_seed\u001B[49m\u001B[38;5;241;43m=\u001B[39;49m\u001B[43mexperiment_seed\u001B[49m\u001B[43m,\u001B[49m\n\u001B[1;32m      3\u001B[0m \u001B[43m                                        \u001B[49m\u001B[43mtest_set_fraction\u001B[49m\u001B[38;5;241;43m=\u001B[39;49m\u001B[43mTEST_SET_FRACTION\u001B[49m\u001B[43m,\u001B[49m\n\u001B[1;32m      4\u001B[0m \u001B[43m                                        \u001B[49m\u001B[43mdb_writer_func\u001B[49m\u001B[38;5;241;43m=\u001B[39;49m\u001B[43mdb_writer_func\u001B[49m\u001B[43m,\u001B[49m\n\u001B[1;32m      5\u001B[0m \u001B[43m                                        \u001B[49m\u001B[43merror_injector\u001B[49m\u001B[38;5;241;43m=\u001B[39;49m\u001B[43merror_injector\u001B[49m\u001B[43m,\u001B[49m\n\u001B[1;32m      6\u001B[0m \u001B[43m                                        \u001B[49m\u001B[43minjector_config_lst\u001B[49m\u001B[38;5;241;43m=\u001B[39;49m\u001B[43mINJECTOR_CONFIG_LST\u001B[49m\u001B[43m,\u001B[49m\n\u001B[1;32m      7\u001B[0m \u001B[43m                                        \u001B[49m\u001B[43mpreprocessor\u001B[49m\u001B[38;5;241;43m=\u001B[39;49m\u001B[43mpreprocessor\u001B[49m\u001B[43m,\u001B[49m\n\u001B[1;32m      8\u001B[0m \u001B[43m                                        \u001B[49m\u001B[43mmodels_params_for_tuning\u001B[49m\u001B[38;5;241;43m=\u001B[39;49m\u001B[43mmodels_params_for_tuning\u001B[49m\u001B[43m,\u001B[49m\n\u001B[1;32m      9\u001B[0m \u001B[43m                                        \u001B[49m\u001B[43mmetrics_computation_config\u001B[49m\u001B[38;5;241;43m=\u001B[39;49m\u001B[43mmetrics_computation_config\u001B[49m\u001B[43m,\u001B[49m\n\u001B[1;32m     10\u001B[0m \u001B[43m                                        \u001B[49m\u001B[43mcustom_table_fields_dct\u001B[49m\u001B[38;5;241;43m=\u001B[39;49m\u001B[43mcustom_table_fields_dct\u001B[49m\u001B[43m,\u001B[49m\n\u001B[1;32m     11\u001B[0m \u001B[43m                                        \u001B[49m\u001B[38;5;66;43;03m# with_tuning=True,\u001B[39;49;00m\n\u001B[1;32m     12\u001B[0m \u001B[43m                                        \u001B[49m\u001B[38;5;66;43;03m# tuned_params_df_path=None,\u001B[39;49;00m\n\u001B[1;32m     13\u001B[0m \u001B[43m                                        \u001B[49m\u001B[43mwith_tuning\u001B[49m\u001B[38;5;241;43m=\u001B[39;49m\u001B[38;5;28;43;01mFalse\u001B[39;49;00m\u001B[43m,\u001B[49m\n\u001B[1;32m     14\u001B[0m \u001B[43m                                        \u001B[49m\u001B[43mtuned_params_df_path\u001B[49m\u001B[38;5;241;43m=\u001B[39;49m\u001B[43mtuned_params_df_path\u001B[49m\u001B[43m,\u001B[49m\n\u001B[1;32m     15\u001B[0m \u001B[43m                                        \u001B[49m\u001B[43msave_results_dir_path\u001B[49m\u001B[38;5;241;43m=\u001B[39;49m\u001B[43mSAVE_RESULTS_DIR_PATH\u001B[49m\u001B[43m,\u001B[49m\n\u001B[1;32m     16\u001B[0m \u001B[43m                                        \u001B[49m\u001B[43mverbose\u001B[49m\u001B[38;5;241;43m=\u001B[39;49m\u001B[38;5;28;43;01mTrue\u001B[39;49;00m\u001B[43m)\u001B[49m\n",
      "File \u001B[0;32m~/UCU/4course_2term/Bachelor_Thesis/Code/fairness-variance/source/user_interfaces/experiment_interface.py:122\u001B[0m, in \u001B[0;36mrun_exp_iter_with_models_stress_testing\u001B[0;34m(data_loader, experiment_seed, test_set_fraction, db_writer_func, error_injector, injector_config_lst, preprocessor, models_params_for_tuning, metrics_computation_config, custom_table_fields_dct, with_tuning, save_results_dir_path, tuned_params_df_path, num_folds_for_tuning, verbose)\u001B[0m\n\u001B[1;32m    119\u001B[0m     logger\u001B[38;5;241m.\u001B[39minfo(\u001B[38;5;124m\"\u001B[39m\u001B[38;5;124mModels config is loaded from the input file\u001B[39m\u001B[38;5;124m\"\u001B[39m)\n\u001B[1;32m    121\u001B[0m \u001B[38;5;66;03m# Compute metrics for tuned models\u001B[39;00m\n\u001B[0;32m--> 122\u001B[0m \u001B[43mcompute_metrics_multiple_runs_with_multiple_test_sets\u001B[49m\u001B[43m(\u001B[49m\u001B[43mdataset\u001B[49m\u001B[38;5;241;43m=\u001B[39;49m\u001B[43mbase_flow_dataset\u001B[49m\u001B[43m,\u001B[49m\n\u001B[1;32m    123\u001B[0m \u001B[43m                                                      \u001B[49m\u001B[43mextra_test_sets_lst\u001B[49m\u001B[38;5;241;43m=\u001B[39;49m\u001B[43mextra_test_sets_lst\u001B[49m\u001B[43m,\u001B[49m\n\u001B[1;32m    124\u001B[0m \u001B[43m                                                      \u001B[49m\u001B[43mconfig\u001B[49m\u001B[38;5;241;43m=\u001B[39;49m\u001B[43mmetrics_computation_config\u001B[49m\u001B[43m,\u001B[49m\n\u001B[1;32m    125\u001B[0m \u001B[43m                                                      \u001B[49m\u001B[43mmodels_config\u001B[49m\u001B[38;5;241;43m=\u001B[39;49m\u001B[43mmodels_config\u001B[49m\u001B[43m,\u001B[49m\n\u001B[1;32m    126\u001B[0m \u001B[43m                                                      \u001B[49m\u001B[43mcustom_tbl_fields_dct\u001B[49m\u001B[38;5;241;43m=\u001B[39;49m\u001B[43mcustom_table_fields_dct\u001B[49m\u001B[43m,\u001B[49m\n\u001B[1;32m    127\u001B[0m \u001B[43m                                                      \u001B[49m\u001B[43mdb_writer_func\u001B[49m\u001B[38;5;241;43m=\u001B[39;49m\u001B[43mdb_writer_func\u001B[49m\u001B[43m,\u001B[49m\n\u001B[1;32m    128\u001B[0m \u001B[43m                                                      \u001B[49m\u001B[43mverbose\u001B[49m\u001B[38;5;241;43m=\u001B[39;49m\u001B[38;5;241;43m0\u001B[39;49m\u001B[43m)\u001B[49m\n\u001B[1;32m    129\u001B[0m logger\u001B[38;5;241m.\u001B[39minfo(\u001B[38;5;124m\"\u001B[39m\u001B[38;5;124mExperiment run was successful!\u001B[39m\u001B[38;5;124m\"\u001B[39m)\n",
      "File \u001B[0;32m~/UCU/4course_2term/Bachelor_Thesis/Code/fairness-variance/ml_life_cycle_venv/lib/python3.8/site-packages/virny/user_interfaces/metrics_computation_interfaces.py:463\u001B[0m, in \u001B[0;36mcompute_metrics_multiple_runs_with_multiple_test_sets\u001B[0;34m(dataset, extra_test_sets_lst, config, models_config, custom_tbl_fields_dct, db_writer_func, verbose)\u001B[0m\n\u001B[1;32m    457\u001B[0m         \u001B[38;5;28;01mraise\u001B[39;00m \u001B[38;5;167;01mValueError\u001B[39;00m(\u001B[38;5;124m\"\u001B[39m\u001B[38;5;124mLength of config.runs_seed_lst must be equal to config.num_runs\u001B[39m\u001B[38;5;124m\"\u001B[39m)\n\u001B[1;32m    459\u001B[0m \u001B[38;5;28;01mfor\u001B[39;00m run_num, run_seed \u001B[38;5;129;01min\u001B[39;00m tqdm(\u001B[38;5;28menumerate\u001B[39m(config\u001B[38;5;241m.\u001B[39mruns_seed_lst),\n\u001B[1;32m    460\u001B[0m                               total\u001B[38;5;241m=\u001B[39m\u001B[38;5;28mlen\u001B[39m(config\u001B[38;5;241m.\u001B[39mruns_seed_lst),\n\u001B[1;32m    461\u001B[0m                               desc\u001B[38;5;241m=\u001B[39m\u001B[38;5;124m\"\u001B[39m\u001B[38;5;124mMultiple runs progress\u001B[39m\u001B[38;5;124m\"\u001B[39m,\n\u001B[1;32m    462\u001B[0m                               colour\u001B[38;5;241m=\u001B[39m\u001B[38;5;124m\"\u001B[39m\u001B[38;5;124mgreen\u001B[39m\u001B[38;5;124m\"\u001B[39m):\n\u001B[0;32m--> 463\u001B[0m     models_metrics_dct \u001B[38;5;241m=\u001B[39m \u001B[43mrun_metrics_computation_with_multiple_test_sets\u001B[49m\u001B[43m(\u001B[49m\u001B[43mdataset\u001B[49m\u001B[38;5;241;43m=\u001B[39;49m\u001B[43mdataset\u001B[49m\u001B[43m,\u001B[49m\n\u001B[1;32m    464\u001B[0m \u001B[43m                                                                         \u001B[49m\u001B[43mbootstrap_fraction\u001B[49m\u001B[38;5;241;43m=\u001B[39;49m\u001B[43mconfig\u001B[49m\u001B[38;5;241;43m.\u001B[39;49m\u001B[43mbootstrap_fraction\u001B[49m\u001B[43m,\u001B[49m\n\u001B[1;32m    465\u001B[0m \u001B[43m                                                                         \u001B[49m\u001B[43mdataset_name\u001B[49m\u001B[38;5;241;43m=\u001B[39;49m\u001B[43mconfig\u001B[49m\u001B[38;5;241;43m.\u001B[39;49m\u001B[43mdataset_name\u001B[49m\u001B[43m,\u001B[49m\n\u001B[1;32m    466\u001B[0m \u001B[43m                                                                         \u001B[49m\u001B[43mextra_test_sets_lst\u001B[49m\u001B[38;5;241;43m=\u001B[39;49m\u001B[43mextra_test_sets_lst\u001B[49m\u001B[43m,\u001B[49m\n\u001B[1;32m    467\u001B[0m \u001B[43m                                                                         \u001B[49m\u001B[43mmodels_config\u001B[49m\u001B[38;5;241;43m=\u001B[39;49m\u001B[43mmodels_config\u001B[49m\u001B[43m,\u001B[49m\n\u001B[1;32m    468\u001B[0m \u001B[43m                                                                         \u001B[49m\u001B[43mn_estimators\u001B[49m\u001B[38;5;241;43m=\u001B[39;49m\u001B[43mconfig\u001B[49m\u001B[38;5;241;43m.\u001B[39;49m\u001B[43mn_estimators\u001B[49m\u001B[43m,\u001B[49m\n\u001B[1;32m    469\u001B[0m \u001B[43m                                                                         \u001B[49m\u001B[43msensitive_attributes_dct\u001B[49m\u001B[38;5;241;43m=\u001B[39;49m\u001B[43mconfig\u001B[49m\u001B[38;5;241;43m.\u001B[39;49m\u001B[43msensitive_attributes_dct\u001B[49m\u001B[43m,\u001B[49m\n\u001B[1;32m    470\u001B[0m \u001B[43m                                                                         \u001B[49m\u001B[43mmodel_setting\u001B[49m\u001B[38;5;241;43m=\u001B[39;49m\u001B[43mconfig\u001B[49m\u001B[38;5;241;43m.\u001B[39;49m\u001B[43mmodel_setting\u001B[49m\u001B[43m,\u001B[49m\n\u001B[1;32m    471\u001B[0m \u001B[43m                                                                         \u001B[49m\u001B[43mmodel_seed\u001B[49m\u001B[38;5;241;43m=\u001B[39;49m\u001B[43mrun_seed\u001B[49m\u001B[43m,\u001B[49m\n\u001B[1;32m    472\u001B[0m \u001B[43m                                                                         \u001B[49m\u001B[43mverbose\u001B[49m\u001B[38;5;241;43m=\u001B[39;49m\u001B[43mverbose\u001B[49m\u001B[43m)\u001B[49m\n\u001B[1;32m    474\u001B[0m     \u001B[38;5;66;03m# Concatenate current run metrics with previous results and\u001B[39;00m\n\u001B[1;32m    475\u001B[0m     \u001B[38;5;66;03m# create melted_model_metrics_df to save it in a database\u001B[39;00m\n\u001B[1;32m    476\u001B[0m     run_models_metrics_df \u001B[38;5;241m=\u001B[39m pd\u001B[38;5;241m.\u001B[39mDataFrame()\n",
      "File \u001B[0;32m~/UCU/4course_2term/Bachelor_Thesis/Code/fairness-variance/ml_life_cycle_venv/lib/python3.8/site-packages/virny/user_interfaces/metrics_computation_interfaces.py:550\u001B[0m, in \u001B[0;36mrun_metrics_computation_with_multiple_test_sets\u001B[0;34m(dataset, bootstrap_fraction, dataset_name, extra_test_sets_lst, models_config, n_estimators, sensitive_attributes_dct, model_setting, model_seed, verbose)\u001B[0m\n\u001B[1;32m    548\u001B[0m \u001B[38;5;28;01mtry\u001B[39;00m:\n\u001B[1;32m    549\u001B[0m     base_model \u001B[38;5;241m=\u001B[39m models_config[model_name]\n\u001B[0;32m--> 550\u001B[0m     model_metrics_dfs_lst \u001B[38;5;241m=\u001B[39m \u001B[43mcompute_model_metrics_with_multiple_test_sets\u001B[49m\u001B[43m(\u001B[49m\u001B[43mbase_model\u001B[49m\u001B[38;5;241;43m=\u001B[39;49m\u001B[43mbase_model\u001B[49m\u001B[43m,\u001B[49m\n\u001B[1;32m    551\u001B[0m \u001B[43m                                                                          \u001B[49m\u001B[43mn_estimators\u001B[49m\u001B[38;5;241;43m=\u001B[39;49m\u001B[43mn_estimators\u001B[49m\u001B[43m,\u001B[49m\n\u001B[1;32m    552\u001B[0m \u001B[43m                                                                          \u001B[49m\u001B[43mdataset\u001B[49m\u001B[38;5;241;43m=\u001B[39;49m\u001B[43mdataset\u001B[49m\u001B[43m,\u001B[49m\n\u001B[1;32m    553\u001B[0m \u001B[43m                                                                          \u001B[49m\u001B[43mextra_test_sets_lst\u001B[49m\u001B[38;5;241;43m=\u001B[39;49m\u001B[43mextra_test_sets_lst\u001B[49m\u001B[43m,\u001B[49m\n\u001B[1;32m    554\u001B[0m \u001B[43m                                                                          \u001B[49m\u001B[43mbootstrap_fraction\u001B[49m\u001B[38;5;241;43m=\u001B[39;49m\u001B[43mbootstrap_fraction\u001B[49m\u001B[43m,\u001B[49m\n\u001B[1;32m    555\u001B[0m \u001B[43m                                                                          \u001B[49m\u001B[43msensitive_attributes_dct\u001B[49m\u001B[38;5;241;43m=\u001B[39;49m\u001B[43msensitive_attributes_dct\u001B[49m\u001B[43m,\u001B[49m\n\u001B[1;32m    556\u001B[0m \u001B[43m                                                                          \u001B[49m\u001B[43mmodel_setting\u001B[49m\u001B[38;5;241;43m=\u001B[39;49m\u001B[43mmodel_setting\u001B[49m\u001B[43m,\u001B[49m\n\u001B[1;32m    557\u001B[0m \u001B[43m                                                                          \u001B[49m\u001B[43mmodel_seed\u001B[49m\u001B[38;5;241;43m=\u001B[39;49m\u001B[43mmodel_seed\u001B[49m\u001B[43m,\u001B[49m\n\u001B[1;32m    558\u001B[0m \u001B[43m                                                                          \u001B[49m\u001B[43mdataset_name\u001B[49m\u001B[38;5;241;43m=\u001B[39;49m\u001B[43mdataset_name\u001B[49m\u001B[43m,\u001B[49m\n\u001B[1;32m    559\u001B[0m \u001B[43m                                                                          \u001B[49m\u001B[43mbase_model_name\u001B[49m\u001B[38;5;241;43m=\u001B[39;49m\u001B[43mmodel_name\u001B[49m\u001B[43m,\u001B[49m\n\u001B[1;32m    560\u001B[0m \u001B[43m                                                                          \u001B[49m\u001B[43mverbose\u001B[49m\u001B[38;5;241;43m=\u001B[39;49m\u001B[43mverbose\u001B[49m\u001B[43m)\u001B[49m\n\u001B[1;32m    561\u001B[0m     models_metrics_dct[model_name] \u001B[38;5;241m=\u001B[39m model_metrics_dfs_lst\n\u001B[1;32m    562\u001B[0m \u001B[38;5;28;01mexcept\u001B[39;00m \u001B[38;5;167;01mException\u001B[39;00m \u001B[38;5;28;01mas\u001B[39;00m err:\n",
      "File \u001B[0;32m~/UCU/4course_2term/Bachelor_Thesis/Code/fairness-variance/ml_life_cycle_venv/lib/python3.8/site-packages/virny/user_interfaces/metrics_computation_interfaces.py:636\u001B[0m, in \u001B[0;36mcompute_model_metrics_with_multiple_test_sets\u001B[0;34m(base_model, n_estimators, dataset, extra_test_sets_lst, bootstrap_fraction, sensitive_attributes_dct, model_seed, dataset_name, base_model_name, model_setting, verbose)\u001B[0m\n\u001B[1;32m    633\u001B[0m subgroup_variance_analyzer\u001B[38;5;241m.\u001B[39mset_test_protected_groups(new_test_protected_groups)\n\u001B[1;32m    635\u001B[0m \u001B[38;5;66;03m# Compute variance metrics for subgroups\u001B[39;00m\n\u001B[0;32m--> 636\u001B[0m y_preds, variance_metrics_df \u001B[38;5;241m=\u001B[39m \u001B[43msubgroup_variance_analyzer\u001B[49m\u001B[38;5;241;43m.\u001B[39;49m\u001B[43mcompute_metrics\u001B[49m\u001B[43m(\u001B[49m\u001B[43msave_results\u001B[49m\u001B[38;5;241;43m=\u001B[39;49m\u001B[38;5;28;43;01mFalse\u001B[39;49;00m\u001B[43m,\u001B[49m\n\u001B[1;32m    637\u001B[0m \u001B[43m                                                                          \u001B[49m\u001B[43mresult_filename\u001B[49m\u001B[38;5;241;43m=\u001B[39;49m\u001B[38;5;28;43;01mNone\u001B[39;49;00m\u001B[43m,\u001B[49m\n\u001B[1;32m    638\u001B[0m \u001B[43m                                                                          \u001B[49m\u001B[43msave_dir_path\u001B[49m\u001B[38;5;241;43m=\u001B[39;49m\u001B[38;5;28;43;01mNone\u001B[39;49;00m\u001B[43m,\u001B[49m\n\u001B[1;32m    639\u001B[0m \u001B[43m                                                                          \u001B[49m\u001B[43mmake_plots\u001B[49m\u001B[38;5;241;43m=\u001B[39;49m\u001B[38;5;28;43;01mFalse\u001B[39;49;00m\u001B[43m,\u001B[49m\n\u001B[1;32m    640\u001B[0m \u001B[43m                                                                          \u001B[49m\u001B[43mwith_fit\u001B[49m\u001B[38;5;241;43m=\u001B[39;49m\u001B[38;5;28;43;01mTrue\u001B[39;49;00m\u001B[43m \u001B[49m\u001B[38;5;28;43;01mif\u001B[39;49;00m\u001B[43m \u001B[49m\u001B[43mset_idx\u001B[49m\u001B[43m \u001B[49m\u001B[38;5;241;43m==\u001B[39;49m\u001B[43m \u001B[49m\u001B[38;5;241;43m0\u001B[39;49m\u001B[43m \u001B[49m\u001B[38;5;28;43;01melse\u001B[39;49;00m\u001B[43m \u001B[49m\u001B[38;5;28;43;01mFalse\u001B[39;49;00m\u001B[43m)\u001B[49m\n\u001B[1;32m    642\u001B[0m \u001B[38;5;66;03m# Compute error metrics for subgroups\u001B[39;00m\n\u001B[1;32m    643\u001B[0m error_analyzer \u001B[38;5;241m=\u001B[39m SubgroupErrorAnalyzer(new_X_test, new_y_test, sensitive_attributes_dct, new_test_protected_groups)\n",
      "File \u001B[0;32m~/UCU/4course_2term/Bachelor_Thesis/Code/fairness-variance/ml_life_cycle_venv/lib/python3.8/site-packages/virny/analyzers/subgroup_variance_analyzer.py:118\u001B[0m, in \u001B[0;36mSubgroupVarianceAnalyzer.compute_metrics\u001B[0;34m(self, save_results, result_filename, save_dir_path, make_plots, with_fit)\u001B[0m\n\u001B[1;32m    116\u001B[0m \u001B[38;5;66;03m# Count and display fairness metrics\u001B[39;00m\n\u001B[1;32m    117\u001B[0m \u001B[38;5;28mself\u001B[39m\u001B[38;5;241m.\u001B[39m__subgroup_variance_calculator\u001B[38;5;241m.\u001B[39mset_overall_variance_metrics(\u001B[38;5;28mself\u001B[39m\u001B[38;5;241m.\u001B[39moverall_variance_metrics_dct)\n\u001B[0;32m--> 118\u001B[0m \u001B[38;5;28mself\u001B[39m\u001B[38;5;241m.\u001B[39msubgroup_variance_metrics_dct \u001B[38;5;241m=\u001B[39m \u001B[38;5;28;43mself\u001B[39;49m\u001B[38;5;241;43m.\u001B[39;49m\u001B[43m__subgroup_variance_calculator\u001B[49m\u001B[38;5;241;43m.\u001B[39;49m\u001B[43mcompute_subgroup_metrics\u001B[49m\u001B[43m(\u001B[49m\n\u001B[1;32m    119\u001B[0m \u001B[43m    \u001B[49m\u001B[38;5;28;43mself\u001B[39;49m\u001B[38;5;241;43m.\u001B[39;49m\u001B[43m__overall_variance_analyzer\u001B[49m\u001B[38;5;241;43m.\u001B[39;49m\u001B[43mmodels_predictions\u001B[49m\u001B[43m,\u001B[49m\u001B[43m \u001B[49m\u001B[43msave_results\u001B[49m\u001B[43m,\u001B[49m\u001B[43m \u001B[49m\u001B[43mresult_filename\u001B[49m\u001B[43m,\u001B[49m\u001B[43m \u001B[49m\u001B[43msave_dir_path\u001B[49m\n\u001B[1;32m    120\u001B[0m \u001B[43m\u001B[49m\u001B[43m)\u001B[49m\n\u001B[1;32m    122\u001B[0m \u001B[38;5;28;01mreturn\u001B[39;00m y_preds, pd\u001B[38;5;241m.\u001B[39mDataFrame(\u001B[38;5;28mself\u001B[39m\u001B[38;5;241m.\u001B[39msubgroup_variance_metrics_dct)\n",
      "File \u001B[0;32m~/UCU/4course_2term/Bachelor_Thesis/Code/fairness-variance/ml_life_cycle_venv/lib/python3.8/site-packages/virny/analyzers/subgroup_variance_calculator.py:78\u001B[0m, in \u001B[0;36mSubgroupVarianceCalculator.compute_subgroup_metrics\u001B[0;34m(self, models_predictions, save_results, result_filename, save_dir_path)\u001B[0m\n\u001B[1;32m     73\u001B[0m     X_test_group \u001B[38;5;241m=\u001B[39m \u001B[38;5;28mself\u001B[39m\u001B[38;5;241m.\u001B[39mtest_protected_groups[group_name]\n\u001B[1;32m     74\u001B[0m     group_models_predictions \u001B[38;5;241m=\u001B[39m {\n\u001B[1;32m     75\u001B[0m         model_idx: models_predictions[model_idx][X_test_group\u001B[38;5;241m.\u001B[39mindex]\u001B[38;5;241m.\u001B[39mreset_index(drop\u001B[38;5;241m=\u001B[39m\u001B[38;5;28;01mTrue\u001B[39;00m)\n\u001B[1;32m     76\u001B[0m         \u001B[38;5;28;01mfor\u001B[39;00m model_idx \u001B[38;5;129;01min\u001B[39;00m models_predictions\u001B[38;5;241m.\u001B[39mkeys()\n\u001B[1;32m     77\u001B[0m     }\n\u001B[0;32m---> 78\u001B[0m     results[group_name] \u001B[38;5;241m=\u001B[39m \u001B[38;5;28;43mself\u001B[39;49m\u001B[38;5;241;43m.\u001B[39;49m\u001B[43m_compute_metrics\u001B[49m\u001B[43m(\u001B[49m\u001B[38;5;28;43mself\u001B[39;49m\u001B[38;5;241;43m.\u001B[39;49m\u001B[43my_test\u001B[49m\u001B[43m[\u001B[49m\u001B[43mX_test_group\u001B[49m\u001B[38;5;241;43m.\u001B[39;49m\u001B[43mindex\u001B[49m\u001B[43m]\u001B[49m\u001B[38;5;241;43m.\u001B[39;49m\u001B[43mreset_index\u001B[49m\u001B[43m(\u001B[49m\u001B[43mdrop\u001B[49m\u001B[38;5;241;43m=\u001B[39;49m\u001B[38;5;28;43;01mTrue\u001B[39;49;00m\u001B[43m)\u001B[49m\u001B[43m,\u001B[49m\n\u001B[1;32m     79\u001B[0m \u001B[43m                                                \u001B[49m\u001B[43mgroup_models_predictions\u001B[49m\u001B[43m)\u001B[49m\n\u001B[1;32m     81\u001B[0m \u001B[38;5;28mself\u001B[39m\u001B[38;5;241m.\u001B[39msubgroup_variance_metrics_dict \u001B[38;5;241m=\u001B[39m results\n\u001B[1;32m     82\u001B[0m \u001B[38;5;28;01mif\u001B[39;00m save_results:\n",
      "File \u001B[0;32m~/UCU/4course_2term/Bachelor_Thesis/Code/fairness-variance/ml_life_cycle_venv/lib/python3.8/site-packages/virny/analyzers/subgroup_variance_calculator.py:35\u001B[0m, in \u001B[0;36mSubgroupVarianceCalculator._compute_metrics\u001B[0;34m(self, y_test, group_models_predictions)\u001B[0m\n\u001B[1;32m     34\u001B[0m \u001B[38;5;28;01mdef\u001B[39;00m \u001B[38;5;21m_compute_metrics\u001B[39m(\u001B[38;5;28mself\u001B[39m, y_test: pd\u001B[38;5;241m.\u001B[39mDataFrame, group_models_predictions):\n\u001B[0;32m---> 35\u001B[0m     _, _, prediction_stats \u001B[38;5;241m=\u001B[39m \u001B[43mcount_prediction_stats\u001B[49m\u001B[43m(\u001B[49m\u001B[43my_test\u001B[49m\u001B[43m,\u001B[49m\u001B[43m \u001B[49m\u001B[43mgroup_models_predictions\u001B[49m\u001B[43m)\u001B[49m\n\u001B[1;32m     36\u001B[0m     \u001B[38;5;28;01mreturn\u001B[39;00m {\n\u001B[1;32m     37\u001B[0m         \u001B[38;5;124m'\u001B[39m\u001B[38;5;124mMean\u001B[39m\u001B[38;5;124m'\u001B[39m: np\u001B[38;5;241m.\u001B[39mmean(prediction_stats\u001B[38;5;241m.\u001B[39mmeans_lst),\n\u001B[1;32m     38\u001B[0m         \u001B[38;5;124m'\u001B[39m\u001B[38;5;124mStd\u001B[39m\u001B[38;5;124m'\u001B[39m: np\u001B[38;5;241m.\u001B[39mmean(prediction_stats\u001B[38;5;241m.\u001B[39mstds_lst),\n\u001B[0;32m   (...)\u001B[0m\n\u001B[1;32m     43\u001B[0m         \u001B[38;5;124m'\u001B[39m\u001B[38;5;124mLabel_Stability\u001B[39m\u001B[38;5;124m'\u001B[39m: np\u001B[38;5;241m.\u001B[39mmean(prediction_stats\u001B[38;5;241m.\u001B[39mlabel_stability_lst),\n\u001B[1;32m     44\u001B[0m     }\n",
      "File \u001B[0;32m~/UCU/4course_2term/Bachelor_Thesis/Code/fairness-variance/ml_life_cycle_venv/lib/python3.8/site-packages/virny/utils/stability_utils.py:42\u001B[0m, in \u001B[0;36mcount_prediction_stats\u001B[0;34m(y_test, uq_results)\u001B[0m\n\u001B[1;32m     39\u001B[0m uq_labels \u001B[38;5;241m=\u001B[39m results\u001B[38;5;241m.\u001B[39mapplymap(\u001B[38;5;28;01mlambda\u001B[39;00m x: \u001B[38;5;28mint\u001B[39m(x\u001B[38;5;241m<\u001B[39m\u001B[38;5;241m0.5\u001B[39m))\n\u001B[1;32m     41\u001B[0m entropy_lst \u001B[38;5;241m=\u001B[39m np\u001B[38;5;241m.\u001B[39mapply_along_axis(compute_entropy, \u001B[38;5;241m1\u001B[39m, uq_labels\u001B[38;5;241m.\u001B[39mtranspose()\u001B[38;5;241m.\u001B[39mvalues)\n\u001B[0;32m---> 42\u001B[0m jitter \u001B[38;5;241m=\u001B[39m \u001B[43mcompute_jitter\u001B[49m\u001B[43m(\u001B[49m\u001B[43muq_labels\u001B[49m\u001B[38;5;241;43m.\u001B[39;49m\u001B[43mvalues\u001B[49m\u001B[43m)\u001B[49m\n\u001B[1;32m     44\u001B[0m y_preds \u001B[38;5;241m=\u001B[39m np\u001B[38;5;241m.\u001B[39marray([\u001B[38;5;28mint\u001B[39m(x\u001B[38;5;241m<\u001B[39m\u001B[38;5;241m0.5\u001B[39m) \u001B[38;5;28;01mfor\u001B[39;00m x \u001B[38;5;129;01min\u001B[39;00m results\u001B[38;5;241m.\u001B[39mmean()\u001B[38;5;241m.\u001B[39mvalues])\n\u001B[1;32m     46\u001B[0m per_sample_accuracy_lst, label_stability_lst \u001B[38;5;241m=\u001B[39m compute_per_sample_accuracy(y_test, results)\n",
      "File \u001B[0;32m~/UCU/4course_2term/Bachelor_Thesis/Code/fairness-variance/ml_life_cycle_venv/lib/python3.8/site-packages/virny/metrics/stability_metrics.py:55\u001B[0m, in \u001B[0;36mcompute_jitter\u001B[0;34m(models_prediction_labels)\u001B[0m\n\u001B[1;32m     53\u001B[0m churns_sum \u001B[38;5;241m=\u001B[39m \u001B[38;5;241m0\u001B[39m\n\u001B[1;32m     54\u001B[0m \u001B[38;5;28;01mfor\u001B[39;00m i, j \u001B[38;5;129;01min\u001B[39;00m itertools\u001B[38;5;241m.\u001B[39mcombinations(models_idx_lst, \u001B[38;5;241m2\u001B[39m):\n\u001B[0;32m---> 55\u001B[0m     churns_sum \u001B[38;5;241m+\u001B[39m\u001B[38;5;241m=\u001B[39m \u001B[43mcompute_churn\u001B[49m\u001B[43m(\u001B[49m\u001B[43mmodels_prediction_labels\u001B[49m\u001B[43m[\u001B[49m\u001B[43mi\u001B[49m\u001B[43m]\u001B[49m\u001B[43m,\u001B[49m\u001B[43m \u001B[49m\u001B[43mmodels_prediction_labels\u001B[49m\u001B[43m[\u001B[49m\u001B[43mj\u001B[49m\u001B[43m]\u001B[49m\u001B[43m)\u001B[49m\n\u001B[1;32m     57\u001B[0m \u001B[38;5;28;01mreturn\u001B[39;00m churns_sum \u001B[38;5;241m/\u001B[39m (n_models \u001B[38;5;241m*\u001B[39m (n_models \u001B[38;5;241m-\u001B[39m \u001B[38;5;241m1\u001B[39m) \u001B[38;5;241m*\u001B[39m \u001B[38;5;241m0.5\u001B[39m)\n",
      "File \u001B[0;32m~/UCU/4course_2term/Bachelor_Thesis/Code/fairness-variance/ml_life_cycle_venv/lib/python3.8/site-packages/virny/metrics/stability_metrics.py:37\u001B[0m, in \u001B[0;36mcompute_churn\u001B[0;34m(predicted_labels_1, predicted_labels_2)\u001B[0m\n\u001B[1;32m     26\u001B[0m \u001B[38;5;28;01mdef\u001B[39;00m \u001B[38;5;21mcompute_churn\u001B[39m(predicted_labels_1: \u001B[38;5;28mlist\u001B[39m, predicted_labels_2: \u001B[38;5;28mlist\u001B[39m):\n\u001B[1;32m     27\u001B[0m \u001B[38;5;250m    \u001B[39m\u001B[38;5;124;03m\"\"\"\u001B[39;00m\n\u001B[1;32m     28\u001B[0m \u001B[38;5;124;03m    Pairwise stability metric for two model predictions.\u001B[39;00m\n\u001B[1;32m     29\u001B[0m \n\u001B[0;32m   (...)\u001B[0m\n\u001B[1;32m     35\u001B[0m \n\u001B[1;32m     36\u001B[0m \u001B[38;5;124;03m    \"\"\"\u001B[39;00m\n\u001B[0;32m---> 37\u001B[0m     \u001B[38;5;28;01mreturn\u001B[39;00m np\u001B[38;5;241m.\u001B[39msum([\u001B[38;5;28mint\u001B[39m(predicted_labels_1[i] \u001B[38;5;241m!=\u001B[39m predicted_labels_2[i])\n\u001B[1;32m     38\u001B[0m                    \u001B[38;5;28;01mfor\u001B[39;00m i \u001B[38;5;129;01min\u001B[39;00m \u001B[38;5;28mrange\u001B[39m(\u001B[38;5;28mlen\u001B[39m(predicted_labels_1))]) \u001B[38;5;241m/\u001B[39m \u001B[38;5;28mlen\u001B[39m(predicted_labels_1)\n",
      "File \u001B[0;32m~/UCU/4course_2term/Bachelor_Thesis/Code/fairness-variance/ml_life_cycle_venv/lib/python3.8/site-packages/virny/metrics/stability_metrics.py:37\u001B[0m, in \u001B[0;36m<listcomp>\u001B[0;34m(.0)\u001B[0m\n\u001B[1;32m     26\u001B[0m \u001B[38;5;28;01mdef\u001B[39;00m \u001B[38;5;21mcompute_churn\u001B[39m(predicted_labels_1: \u001B[38;5;28mlist\u001B[39m, predicted_labels_2: \u001B[38;5;28mlist\u001B[39m):\n\u001B[1;32m     27\u001B[0m \u001B[38;5;250m    \u001B[39m\u001B[38;5;124;03m\"\"\"\u001B[39;00m\n\u001B[1;32m     28\u001B[0m \u001B[38;5;124;03m    Pairwise stability metric for two model predictions.\u001B[39;00m\n\u001B[1;32m     29\u001B[0m \n\u001B[0;32m   (...)\u001B[0m\n\u001B[1;32m     35\u001B[0m \n\u001B[1;32m     36\u001B[0m \u001B[38;5;124;03m    \"\"\"\u001B[39;00m\n\u001B[0;32m---> 37\u001B[0m     \u001B[38;5;28;01mreturn\u001B[39;00m np\u001B[38;5;241m.\u001B[39msum([\u001B[38;5;28;43mint\u001B[39;49m\u001B[43m(\u001B[49m\u001B[43mpredicted_labels_1\u001B[49m\u001B[43m[\u001B[49m\u001B[43mi\u001B[49m\u001B[43m]\u001B[49m\u001B[43m \u001B[49m\u001B[38;5;241;43m!=\u001B[39;49m\u001B[43m \u001B[49m\u001B[43mpredicted_labels_2\u001B[49m\u001B[43m[\u001B[49m\u001B[43mi\u001B[49m\u001B[43m]\u001B[49m\u001B[43m)\u001B[49m\n\u001B[1;32m     38\u001B[0m                    \u001B[38;5;28;01mfor\u001B[39;00m i \u001B[38;5;129;01min\u001B[39;00m \u001B[38;5;28mrange\u001B[39m(\u001B[38;5;28mlen\u001B[39m(predicted_labels_1))]) \u001B[38;5;241m/\u001B[39m \u001B[38;5;28mlen\u001B[39m(predicted_labels_1)\n",
      "\u001B[0;31mKeyboardInterrupt\u001B[0m: "
     ]
    }
   ],
   "source": [
    "run_exp_iter_with_models_stress_testing(data_loader=exp_iter_data_loader,\n",
    "                                        experiment_seed=experiment_seed,\n",
    "                                        test_set_fraction=TEST_SET_FRACTION,\n",
    "                                        db_writer_func=db_writer_func,\n",
    "                                        error_injector=error_injector,\n",
    "                                        injector_config_lst=INJECTOR_CONFIG_LST,\n",
    "                                        preprocessor=preprocessor,\n",
    "                                        models_params_for_tuning=models_params_for_tuning,\n",
    "                                        metrics_computation_config=metrics_computation_config,\n",
    "                                        custom_table_fields_dct=custom_table_fields_dct,\n",
    "                                        with_tuning=True,\n",
    "                                        tuned_params_df_path=None,\n",
    "                                        # with_tuning=False,\n",
    "                                        # tuned_params_df_path=tuned_params_df_path,\n",
    "                                        save_results_dir_path=SAVE_RESULTS_DIR_PATH,\n",
    "                                        verbose=True)"
   ]
  },
  {
   "cell_type": "markdown",
   "id": "37ea60bb",
   "metadata": {},
   "source": [
    "### Experiment iteration 2"
   ]
  },
  {
   "cell_type": "code",
   "execution_count": 42,
   "outputs": [],
   "source": [
    "# Configs for an experiment iteration\n",
    "exp_iter_num = 2\n",
    "experiment_seed = EXPERIMENT_SEEDS[exp_iter_num - 1]\n",
    "custom_table_fields_dct['experiment_iteration'] = f'Exp_iter_{exp_iter_num}'\n",
    "\n",
    "error_injector = RandomNullsInjectorV2(experiment_seed, columns_to_transform=COLUMNS_TO_TRANSFORM, row_idx_nulls_percentage=0.0,\n",
    "                                       max_num_columns_to_effect=MAX_NUM_COLUMNS_TO_EFFECT)\n",
    "models_params_for_tuning = get_models_params_for_tuning(experiment_seed)\n",
    "# Create a transformed data loader\n",
    "exp_iter_data_loader = create_experiment_data_loader(data_loader)\n",
    "exp_iter_data_loader.columns_with_nulls = COLUMNS_TO_TRANSFORM\n",
    "# preprocessor = get_null_imputer_preprocessor(exp_iter_data_loader, categorical_trimmed=0.3)\n",
    "preprocessor = get_null_imputer_preprocessor(exp_iter_data_loader)"
   ],
   "metadata": {
    "collapsed": false
   }
  },
  {
   "cell_type": "code",
   "execution_count": 43,
   "id": "b4f966c9",
   "metadata": {
    "ExecuteTime": {
     "start_time": "2023-04-23T01:08:21.665188Z",
     "end_time": "2023-04-23T01:13:11.201499Z"
    }
   },
   "outputs": [
    {
     "name": "stderr",
     "output_type": "stream",
     "text": [
      "2023-04-25 15:12:54 experiment_interface.py INFO    : Start an experiment iteration for the following custom params:\n"
     ]
    },
    {
     "name": "stdout",
     "output_type": "stream",
     "text": [
      "{'dataset_split_seed': 200,\n",
      " 'error_percentages': '0%,5%,10%,20%,30%,40%,50%',\n",
      " 'error_type': 'Random Nulls',\n",
      " 'experiment_iteration': 'Exp_iter_2',\n",
      " 'injector_config_lst': '[0.05, 0.1, 0.2, 0.3, 0.4, 0.5]',\n",
      " 'model_init_seed': 200,\n",
      " 'preprocessing_technique': 'cat: mode, num: median',\n",
      " 'session_uuid': '630e5d1d-1f34-4696-a678-5b113ba16bbf'}\n",
      "\n",
      "\n"
     ]
    },
    {
     "name": "stderr",
     "output_type": "stream",
     "text": [
      "2023-04-25 15:12:54 experiment_interface.py INFO    : The dataset is preprocessed\n"
     ]
    },
    {
     "name": "stdout",
     "output_type": "stream",
     "text": [
      "Top indexes of an X_test in a base flow dataset:  Int64Index([4344,  870, 1083,  473, 1141, 2303, 4473,  314, 3697, 3729, 1781,\n",
      "            3362, 1758, 2812,  411,    8, 1233, 2836, 4939,  340],\n",
      "           dtype='int64')\n",
      "Top indexes of an y_test in a base flow dataset:  Int64Index([4344,  870, 1083,  473, 1141, 2303, 4473,  314, 3697, 3729, 1781,\n",
      "            3362, 1758, 2812,  411,    8, 1233, 2836, 4939,  340],\n",
      "           dtype='int64')\n",
      "error_injector.seed --  201\n",
      "transformed_X_test:\n",
      " age                         0\n",
      "juv_fel_count               8\n",
      "juv_misd_count             10\n",
      "juv_other_count             8\n",
      "priors_count               11\n",
      "race                        0\n",
      "age_cat_25 - 45             0\n",
      "age_cat_Greater than 45     0\n",
      "age_cat_Less than 25        0\n",
      "c_charge_degree_F           6\n",
      "c_charge_degree_M           6\n",
      "sex                         0\n",
      "dtype: int64\n",
      "error_injector.seed --  202\n",
      "transformed_X_test:\n",
      " age                         0\n",
      "juv_fel_count              18\n",
      "juv_misd_count             17\n",
      "juv_other_count            17\n",
      "priors_count               19\n",
      "race                        0\n",
      "age_cat_25 - 45             0\n",
      "age_cat_Greater than 45     0\n",
      "age_cat_Less than 25        0\n",
      "c_charge_degree_F          15\n",
      "c_charge_degree_M          14\n",
      "sex                         0\n",
      "dtype: int64\n",
      "error_injector.seed --  203\n",
      "transformed_X_test:\n",
      " age                         0\n",
      "juv_fel_count              32\n",
      "juv_misd_count             36\n",
      "juv_other_count            28\n",
      "priors_count               40\n",
      "race                        0\n",
      "age_cat_25 - 45             0\n",
      "age_cat_Greater than 45     0\n",
      "age_cat_Less than 25        0\n",
      "c_charge_degree_F          39\n",
      "c_charge_degree_M          37\n",
      "sex                         0\n",
      "dtype: int64\n",
      "error_injector.seed --  204\n",
      "transformed_X_test:\n",
      " age                         0\n",
      "juv_fel_count              48\n",
      "juv_misd_count             51\n",
      "juv_other_count            46\n",
      "priors_count               64\n",
      "race                        0\n",
      "age_cat_25 - 45             0\n",
      "age_cat_Greater than 45     0\n",
      "age_cat_Less than 25        0\n",
      "c_charge_degree_F          50\n",
      "c_charge_degree_M          53\n",
      "sex                         0\n",
      "dtype: int64\n",
      "error_injector.seed --  205\n",
      "transformed_X_test:\n",
      " age                         0\n",
      "juv_fel_count              64\n",
      "juv_misd_count             75\n",
      "juv_other_count            62\n",
      "priors_count               82\n",
      "race                        0\n",
      "age_cat_25 - 45             0\n",
      "age_cat_Greater than 45     0\n",
      "age_cat_Less than 25        0\n",
      "c_charge_degree_F          61\n",
      "c_charge_degree_M          82\n",
      "sex                         0\n",
      "dtype: int64\n",
      "error_injector.seed --  206\n",
      "transformed_X_test:\n",
      " age                         0\n",
      "juv_fel_count              83\n",
      "juv_misd_count             97\n",
      "juv_other_count            66\n",
      "priors_count               93\n",
      "race                        0\n",
      "age_cat_25 - 45             0\n",
      "age_cat_Greater than 45     0\n",
      "age_cat_Less than 25        0\n",
      "c_charge_degree_F          80\n",
      "c_charge_degree_M          98\n",
      "sex                         0\n",
      "dtype: int64\n",
      "2023/04/25, 15:12:56: Tuning DecisionTreeClassifier...\n",
      "Fitting 3 folds for each of 4 candidates, totalling 12 fits\n",
      "2023/04/25, 15:12:56: Tuning for DecisionTreeClassifier is finished [F1 score = 0.6399689455815519, Accuracy = 0.6452020202020202]\n",
      "\n",
      "2023/04/25, 15:12:56: Tuning LogisticRegression...\n",
      "Fitting 3 folds for each of 8 candidates, totalling 24 fits\n"
     ]
    },
    {
     "name": "stderr",
     "output_type": "stream",
     "text": [
      "2023-04-25 15:12:56 experiment_interface.py INFO    : Models are tuned and saved to a file\n"
     ]
    },
    {
     "name": "stdout",
     "output_type": "stream",
     "text": [
      "2023/04/25, 15:12:56: Tuning for LogisticRegression is finished [F1 score = 0.6765978744423906, Accuracy = 0.6799242424242423]\n",
      "\n"
     ]
    },
    {
     "data": {
      "text/plain": "Multiple runs progress:   0%|          | 0/3 [00:00<?, ?it/s]",
      "application/vnd.jupyter.widget-view+json": {
       "version_major": 2,
       "version_minor": 0,
       "model_id": "759e3029cc944ef8962ef232a3bbdf85"
      }
     },
     "metadata": {},
     "output_type": "display_data"
    },
    {
     "data": {
      "text/plain": "Analyze models in one run:   0%|          | 0/2 [00:00<?, ?it/s]",
      "application/vnd.jupyter.widget-view+json": {
       "version_major": 2,
       "version_minor": 0,
       "model_id": "0f6f89bef2f84ef8a4f71c52ff99e35c"
      }
     },
     "metadata": {},
     "output_type": "display_data"
    },
    {
     "data": {
      "text/plain": "Classifiers testing by bootstrap:   0%|          | 0/50 [00:00<?, ?it/s]",
      "application/vnd.jupyter.widget-view+json": {
       "version_major": 2,
       "version_minor": 0,
       "model_id": "62f2081aa7794ffaaefc08f44640e66a"
      }
     },
     "metadata": {},
     "output_type": "display_data"
    },
    {
     "data": {
      "text/plain": "Classifiers testing by bootstrap:   0%|          | 0/50 [00:00<?, ?it/s]",
      "application/vnd.jupyter.widget-view+json": {
       "version_major": 2,
       "version_minor": 0,
       "model_id": "581ddd58dbe94d94ba4bc4823c6a6478"
      }
     },
     "metadata": {},
     "output_type": "display_data"
    },
    {
     "data": {
      "text/plain": "Analyze models in one run:   0%|          | 0/2 [00:00<?, ?it/s]",
      "application/vnd.jupyter.widget-view+json": {
       "version_major": 2,
       "version_minor": 0,
       "model_id": "b4c7c6a94d124fecac0f53101f338899"
      }
     },
     "metadata": {},
     "output_type": "display_data"
    },
    {
     "data": {
      "text/plain": "Classifiers testing by bootstrap:   0%|          | 0/50 [00:00<?, ?it/s]",
      "application/vnd.jupyter.widget-view+json": {
       "version_major": 2,
       "version_minor": 0,
       "model_id": "b6e9e15c036c410abd7e7ef3fef9a144"
      }
     },
     "metadata": {},
     "output_type": "display_data"
    },
    {
     "data": {
      "text/plain": "Classifiers testing by bootstrap:   0%|          | 0/50 [00:00<?, ?it/s]",
      "application/vnd.jupyter.widget-view+json": {
       "version_major": 2,
       "version_minor": 0,
       "model_id": "29e16f7b52774f52a02708703a0d8724"
      }
     },
     "metadata": {},
     "output_type": "display_data"
    },
    {
     "data": {
      "text/plain": "Analyze models in one run:   0%|          | 0/2 [00:00<?, ?it/s]",
      "application/vnd.jupyter.widget-view+json": {
       "version_major": 2,
       "version_minor": 0,
       "model_id": "7847088c69ed4adb996906f93e8770d9"
      }
     },
     "metadata": {},
     "output_type": "display_data"
    },
    {
     "data": {
      "text/plain": "Classifiers testing by bootstrap:   0%|          | 0/50 [00:00<?, ?it/s]",
      "application/vnd.jupyter.widget-view+json": {
       "version_major": 2,
       "version_minor": 0,
       "model_id": "82c76c9246464a0ba4578b44a503a466"
      }
     },
     "metadata": {},
     "output_type": "display_data"
    },
    {
     "data": {
      "text/plain": "Classifiers testing by bootstrap:   0%|          | 0/50 [00:00<?, ?it/s]",
      "application/vnd.jupyter.widget-view+json": {
       "version_major": 2,
       "version_minor": 0,
       "model_id": "c6720f8aa65a463ea29ea2e4e4d28b84"
      }
     },
     "metadata": {},
     "output_type": "display_data"
    }
   ],
   "source": [
    "run_exp_iter_with_models_stress_testing(data_loader=exp_iter_data_loader,\n",
    "                                        experiment_seed=experiment_seed,\n",
    "                                        test_set_fraction=TEST_SET_FRACTION,\n",
    "                                        db_writer_func=db_writer_func,\n",
    "                                        error_injector=error_injector,\n",
    "                                        injector_config_lst=INJECTOR_CONFIG_LST,\n",
    "                                        preprocessor=preprocessor,\n",
    "                                        models_params_for_tuning=models_params_for_tuning,\n",
    "                                        metrics_computation_config=metrics_computation_config,\n",
    "                                        custom_table_fields_dct=custom_table_fields_dct,\n",
    "                                        with_tuning=True,\n",
    "                                        save_results_dir_path=SAVE_RESULTS_DIR_PATH,\n",
    "                                        tuned_params_df_path=None,\n",
    "                                        verbose=True)"
   ]
  },
  {
   "cell_type": "code",
   "execution_count": 43,
   "id": "4382096a",
   "metadata": {
    "ExecuteTime": {
     "end_time": "2023-04-22T17:12:09.025575Z",
     "start_time": "2023-04-22T17:12:08.968229Z"
    }
   },
   "outputs": [],
   "source": [
    "client.close()"
   ]
  },
  {
   "cell_type": "code",
   "execution_count": 43,
   "id": "b07fbb86",
   "metadata": {
    "ExecuteTime": {
     "end_time": "2023-04-22T17:12:09.025679Z",
     "start_time": "2023-04-22T17:12:08.972200Z"
    }
   },
   "outputs": [],
   "source": []
  }
 ],
 "metadata": {
  "kernelspec": {
   "display_name": "Python 3 (ipykernel)",
   "language": "python",
   "name": "python3"
  },
  "language_info": {
   "codemirror_mode": {
    "name": "ipython",
    "version": 3
   },
   "file_extension": ".py",
   "mimetype": "text/x-python",
   "name": "python",
   "nbconvert_exporter": "python",
   "pygments_lexer": "ipython3",
   "version": "3.8.8"
  }
 },
 "nbformat": 4,
 "nbformat_minor": 5
}
