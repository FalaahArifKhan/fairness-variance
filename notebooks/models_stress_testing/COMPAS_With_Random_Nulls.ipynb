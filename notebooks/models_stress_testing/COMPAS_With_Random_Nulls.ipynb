{
 "cells": [
  {
   "cell_type": "code",
   "execution_count": 2,
   "id": "e38606fc",
   "metadata": {
    "ExecuteTime": {
     "end_time": "2023-04-22T17:06:09.249675Z",
     "start_time": "2023-04-22T17:06:09.233480Z"
    }
   },
   "outputs": [],
   "source": [
    "# !pip install -r ../exp_requirements.txt"
   ]
  },
  {
   "cell_type": "code",
   "execution_count": 4,
   "id": "33d3bf71",
   "metadata": {
    "ExecuteTime": {
     "end_time": "2023-04-22T17:06:09.276223Z",
     "start_time": "2023-04-22T17:06:09.251393Z"
    }
   },
   "outputs": [],
   "source": [
    "# !pip uninstall virny -y"
   ]
  },
  {
   "cell_type": "code",
   "execution_count": 6,
   "id": "48b875f1",
   "metadata": {
    "ExecuteTime": {
     "end_time": "2023-04-22T17:06:09.293739Z",
     "start_time": "2023-04-22T17:06:09.271221Z"
    }
   },
   "outputs": [],
   "source": [
    "# Install using an HTTP link\n",
    "# !pip install git+https://github.com/DataResponsibly/Virny.git@development\n",
    "\n",
    "# Install using an SSH link\n",
    "# !pip install git+ssh://git@github.com/DataResponsibly/Virny.git@development"
   ]
  },
  {
   "cell_type": "code",
   "execution_count": 7,
   "id": "f45bb602",
   "metadata": {
    "ExecuteTime": {
     "end_time": "2023-04-23T13:30:20.281401Z",
     "start_time": "2023-04-23T13:30:19.866407Z"
    }
   },
   "outputs": [],
   "source": [
    "%matplotlib inline\n",
    "%load_ext autoreload\n",
    "%autoreload 2"
   ]
  },
  {
   "cell_type": "code",
   "execution_count": 8,
   "id": "82552921",
   "metadata": {
    "ExecuteTime": {
     "end_time": "2023-04-23T13:30:20.290644Z",
     "start_time": "2023-04-23T13:30:20.282567Z"
    }
   },
   "outputs": [],
   "source": [
    "import os\n",
    "import warnings\n",
    "warnings.filterwarnings('ignore')\n",
    "os.environ[\"PYTHONWARNINGS\"] = \"ignore\""
   ]
  },
  {
   "cell_type": "code",
   "execution_count": 12,
   "id": "009eab4a",
   "metadata": {},
   "outputs": [
    {
     "name": "stdout",
     "output_type": "stream",
     "text": [
      "Current location:  /home/dh3553/projects/fairness-variance\n"
     ]
    }
   ],
   "source": [
    "cur_folder_name = os.getcwd().split('/')[-1]\n",
    "if cur_folder_name != \"fairness-variance\":\n",
    "    os.chdir(\"../..\")\n",
    "\n",
    "print('Current location: ', os.getcwd())"
   ]
  },
  {
   "cell_type": "markdown",
   "id": "b1ef010e",
   "metadata": {},
   "source": [
    "# COMPAS Dataset With Random Nulls"
   ]
  },
  {
   "cell_type": "markdown",
   "id": "d4b3a880",
   "metadata": {},
   "source": [
    "## Import dependencies"
   ]
  },
  {
   "cell_type": "code",
   "execution_count": 13,
   "id": "d768ee95",
   "metadata": {
    "ExecuteTime": {
     "end_time": "2023-04-23T13:30:21.590617Z",
     "start_time": "2023-04-23T13:30:20.293249Z"
    }
   },
   "outputs": [],
   "source": [
    "import os\n",
    "import copy\n",
    "\n",
    "from xgboost import XGBClassifier\n",
    "from sklearn.tree import DecisionTreeClassifier\n",
    "from sklearn.linear_model import LogisticRegression\n",
    "from sklearn.ensemble import RandomForestClassifier\n",
    "from sklearn.neighbors import KNeighborsClassifier\n",
    "from sklearn.neural_network import MLPClassifier\n",
    "\n",
    "from virny.utils.custom_initializers import create_config_obj, create_models_metrics_dct_from_database_df\n",
    "from virny.datasets.data_loaders import CompasDataset\n",
    "from source.user_interfaces.experiment_interface import run_exp_iter_with_models_stress_testing\n",
    "from source.error_injectors.random_nulls_injector_v2 import RandomNullsInjectorV2\n",
    "from source.utils.custom_initializers import create_experiment_data_loader\n",
    "from source.utils.db_functions import read_model_metric_dfs_from_db\n",
    "from source.preprocessing.basic_preprocessing import get_null_imputer_preprocessor\n",
    "\n",
    "from configs.constants import NUM_METRICS_COMPUTATION_RUNS, EXPERIMENT_SEEDS, TEST_SET_FRACTION"
   ]
  },
  {
   "cell_type": "markdown",
   "id": "55f99722",
   "metadata": {},
   "source": [
    "## Initialize input variables for the experiment"
   ]
  },
  {
   "cell_type": "code",
   "execution_count": 14,
   "id": "fbdf14a5",
   "metadata": {
    "ExecuteTime": {
     "end_time": "2023-04-23T13:30:21.603942Z",
     "start_time": "2023-04-23T13:30:21.571542Z"
    }
   },
   "outputs": [],
   "source": [
    "# ROOT_DIR = os.path.join(os.getcwd(), \"..\", \"..\")\n",
    "ROOT_DIR = os.getcwd()\n",
    "EXPERIMENT_NAME = 'stress_testing_nulls'\n",
    "DB_COLLECTION_NAME = f'exp_{EXPERIMENT_NAME}'\n",
    "SAVE_RESULTS_DIR_PATH = os.path.join(ROOT_DIR, 'results', EXPERIMENT_NAME)\n",
    "COLUMNS_TO_TRANSFORM = ['juv_fel_count', 'juv_misd_count', 'juv_other_count', 'priors_count', 'c_charge_degree_F', 'c_charge_degree_M']\n",
    "MAX_NUM_COLUMNS_TO_EFFECT = 3\n",
    "INJECTOR_CONFIG_LST = [0.05, 0.1, 0.2, 0.3, 0.4, 0.5]\n",
    "# INJECTOR_CONFIG_LST = [0.1, 0.2, 0.4, 0.6, 0.8, 1.0]"
   ]
  },
  {
   "cell_type": "code",
   "execution_count": 15,
   "id": "42d0ec66",
   "metadata": {
    "ExecuteTime": {
     "end_time": "2023-04-23T13:30:24.191398Z",
     "start_time": "2023-04-23T13:30:21.600868Z"
    }
   },
   "outputs": [
    {
     "data": {
      "text/html": [
       "<div>\n",
       "<style scoped>\n",
       "    .dataframe tbody tr th:only-of-type {\n",
       "        vertical-align: middle;\n",
       "    }\n",
       "\n",
       "    .dataframe tbody tr th {\n",
       "        vertical-align: top;\n",
       "    }\n",
       "\n",
       "    .dataframe thead th {\n",
       "        text-align: right;\n",
       "    }\n",
       "</style>\n",
       "<table border=\"1\" class=\"dataframe\">\n",
       "  <thead>\n",
       "    <tr style=\"text-align: right;\">\n",
       "      <th></th>\n",
       "      <th>age</th>\n",
       "      <th>juv_fel_count</th>\n",
       "      <th>juv_misd_count</th>\n",
       "      <th>juv_other_count</th>\n",
       "      <th>priors_count</th>\n",
       "      <th>race</th>\n",
       "      <th>age_cat_25 - 45</th>\n",
       "      <th>age_cat_Greater than 45</th>\n",
       "      <th>age_cat_Less than 25</th>\n",
       "      <th>c_charge_degree_F</th>\n",
       "      <th>c_charge_degree_M</th>\n",
       "      <th>sex</th>\n",
       "    </tr>\n",
       "  </thead>\n",
       "  <tbody>\n",
       "    <tr>\n",
       "      <th>0</th>\n",
       "      <td>25</td>\n",
       "      <td>0.0</td>\n",
       "      <td>-2.340451</td>\n",
       "      <td>1.0</td>\n",
       "      <td>-15.010999</td>\n",
       "      <td>African-American</td>\n",
       "      <td>1</td>\n",
       "      <td>0</td>\n",
       "      <td>0</td>\n",
       "      <td>0</td>\n",
       "      <td>1</td>\n",
       "      <td>1</td>\n",
       "    </tr>\n",
       "    <tr>\n",
       "      <th>1</th>\n",
       "      <td>26</td>\n",
       "      <td>0.0</td>\n",
       "      <td>0.000000</td>\n",
       "      <td>0.0</td>\n",
       "      <td>0.000000</td>\n",
       "      <td>Caucasian</td>\n",
       "      <td>1</td>\n",
       "      <td>0</td>\n",
       "      <td>0</td>\n",
       "      <td>1</td>\n",
       "      <td>0</td>\n",
       "      <td>0</td>\n",
       "    </tr>\n",
       "    <tr>\n",
       "      <th>2</th>\n",
       "      <td>21</td>\n",
       "      <td>0.0</td>\n",
       "      <td>0.000000</td>\n",
       "      <td>0.0</td>\n",
       "      <td>0.000000</td>\n",
       "      <td>Caucasian</td>\n",
       "      <td>0</td>\n",
       "      <td>0</td>\n",
       "      <td>1</td>\n",
       "      <td>1</td>\n",
       "      <td>0</td>\n",
       "      <td>1</td>\n",
       "    </tr>\n",
       "    <tr>\n",
       "      <th>3</th>\n",
       "      <td>29</td>\n",
       "      <td>0.0</td>\n",
       "      <td>0.000000</td>\n",
       "      <td>0.0</td>\n",
       "      <td>6.000000</td>\n",
       "      <td>African-American</td>\n",
       "      <td>1</td>\n",
       "      <td>0</td>\n",
       "      <td>0</td>\n",
       "      <td>0</td>\n",
       "      <td>1</td>\n",
       "      <td>1</td>\n",
       "    </tr>\n",
       "    <tr>\n",
       "      <th>4</th>\n",
       "      <td>40</td>\n",
       "      <td>0.0</td>\n",
       "      <td>0.000000</td>\n",
       "      <td>0.0</td>\n",
       "      <td>7.513697</td>\n",
       "      <td>Caucasian</td>\n",
       "      <td>1</td>\n",
       "      <td>0</td>\n",
       "      <td>0</td>\n",
       "      <td>1</td>\n",
       "      <td>0</td>\n",
       "      <td>1</td>\n",
       "    </tr>\n",
       "  </tbody>\n",
       "</table>\n",
       "</div>"
      ],
      "text/plain": [
       "   age  juv_fel_count  juv_misd_count  juv_other_count  priors_count  \\\n",
       "0   25            0.0       -2.340451              1.0    -15.010999   \n",
       "1   26            0.0        0.000000              0.0      0.000000   \n",
       "2   21            0.0        0.000000              0.0      0.000000   \n",
       "3   29            0.0        0.000000              0.0      6.000000   \n",
       "4   40            0.0        0.000000              0.0      7.513697   \n",
       "\n",
       "               race  age_cat_25 - 45  age_cat_Greater than 45  \\\n",
       "0  African-American                1                        0   \n",
       "1         Caucasian                1                        0   \n",
       "2         Caucasian                0                        0   \n",
       "3  African-American                1                        0   \n",
       "4         Caucasian                1                        0   \n",
       "\n",
       "   age_cat_Less than 25  c_charge_degree_F  c_charge_degree_M  sex  \n",
       "0                     0                  0                  1    1  \n",
       "1                     0                  1                  0    0  \n",
       "2                     1                  1                  0    1  \n",
       "3                     0                  0                  1    1  \n",
       "4                     0                  1                  0    1  "
      ]
     },
     "execution_count": 15,
     "metadata": {},
     "output_type": "execute_result"
    }
   ],
   "source": [
    "data_loader = CompasDataset()\n",
    "data_loader.X_data.head()"
   ]
  },
  {
   "cell_type": "code",
   "execution_count": 16,
   "id": "be9bad28",
   "metadata": {
    "ExecuteTime": {
     "end_time": "2023-04-23T13:30:24.341989Z",
     "start_time": "2023-04-23T13:30:24.183137Z"
    }
   },
   "outputs": [
    {
     "data": {
      "text/plain": [
       "age                        0\n",
       "juv_fel_count              0\n",
       "juv_misd_count             0\n",
       "juv_other_count            0\n",
       "priors_count               0\n",
       "age_cat_25 - 45            0\n",
       "age_cat_Greater than 45    0\n",
       "age_cat_Less than 25       0\n",
       "c_charge_degree_F          0\n",
       "c_charge_degree_M          0\n",
       "race                       0\n",
       "sex                        0\n",
       "recidivism                 0\n",
       "dtype: int64"
      ]
     },
     "execution_count": 16,
     "metadata": {},
     "output_type": "execute_result"
    }
   ],
   "source": [
    "data_loader.full_df.isna().sum()"
   ]
  },
  {
   "cell_type": "markdown",
   "id": "8350d777",
   "metadata": {},
   "source": [
    "### Define a db writer and custom fields to insert into your database"
   ]
  },
  {
   "cell_type": "code",
   "execution_count": 19,
   "id": "ae02902a",
   "metadata": {
    "ExecuteTime": {
     "end_time": "2023-04-23T13:30:24.367148Z",
     "start_time": "2023-04-23T13:30:24.304924Z"
    }
   },
   "outputs": [],
   "source": [
    "from source.utils.db_functions import connect_to_mongodb\n",
    "\n",
    "client, collection_obj, db_writer_func = connect_to_mongodb(DB_COLLECTION_NAME)"
   ]
  },
  {
   "cell_type": "code",
   "execution_count": 20,
   "id": "d46b19ab",
   "metadata": {
    "ExecuteTime": {
     "end_time": "2023-04-23T13:30:24.426028Z",
     "start_time": "2023-04-23T13:30:24.351860Z"
    }
   },
   "outputs": [],
   "source": [
    "custom_table_fields_dct = {\n",
    "    'error_type': 'Random Nulls',\n",
    "    'error_percentages': '0%,5%,10%,20%,30%,40%,50%',\n",
    "    # 'error_percentages': '0%,10%,20%,40%,60%,80%,100%',\n",
    "    # 'preprocessing_technique': 'cat: mode_trimmed_0.3, num: median',\n",
    "    'preprocessing_technique': 'cat: mode, num: median',\n",
    "}"
   ]
  },
  {
   "cell_type": "code",
   "execution_count": 22,
   "id": "1c3b7bb8",
   "metadata": {
    "ExecuteTime": {
     "end_time": "2023-04-23T13:30:24.444377Z",
     "start_time": "2023-04-23T13:30:24.396152Z"
    }
   },
   "outputs": [
    {
     "name": "stdout",
     "output_type": "stream",
     "text": [
      "Current session uuid:  4b0017cb-7765-4fad-95b6-0a512d623bc6\n"
     ]
    }
   ],
   "source": [
    "import uuid\n",
    "\n",
    "# Folktables\n",
    "# custom_table_fields_dct['session_uuid'] = 'c53d250b-5ba9-4d91-a444-ed7eb7919de5'\n",
    "# custom_table_fields_dct['session_uuid'] = 'e38b6e20-e4e7-4791-89d3-5e371513d2ea'\n",
    "# custom_table_fields_dct['session_uuid'] = '2f6541f0-2a77-446a-a5be-92d7b4187052'\n",
    "# custom_table_fields_dct['session_uuid'] = 'a4febf95-81bf-4aee-9b51-a690d596d5d2'\n",
    "\n",
    "# COMPAS\n",
    "# custom_table_fields_dct['session_uuid'] = '669042c2-9efe-44ca-8578-1716c7f8d2b4'\n",
    "# custom_table_fields_dct['session_uuid'] = '630e5d1d-1f34-4696-a678-5b113ba16bbf'\n",
    "custom_table_fields_dct['session_uuid'] = '4b0017cb-7765-4fad-95b6-0a512d623bc6'\n",
    "# custom_table_fields_dct['session_uuid'] = str(uuid.uuid4())\n",
    "print('Current session uuid: ', custom_table_fields_dct['session_uuid'])"
   ]
  },
  {
   "cell_type": "markdown",
   "id": "3d583339",
   "metadata": {},
   "source": [
    "### Create a metrics computation config object"
   ]
  },
  {
   "cell_type": "code",
   "execution_count": 23,
   "id": "2dd777b3",
   "metadata": {
    "ExecuteTime": {
     "end_time": "2023-04-23T13:30:24.445854Z",
     "start_time": "2023-04-23T13:30:24.410029Z"
    }
   },
   "outputs": [],
   "source": [
    "config_yaml_path = 'experiment_config.yaml'\n",
    "config_yaml_content = \\\n",
    "f\"\"\"\n",
    "dataset_name: COMPAS\n",
    "bootstrap_fraction: 0.8\n",
    "n_estimators: 50  # Better to input the higher number of estimators than 100; this is only for this use case example\n",
    "num_runs: 3\n",
    "runs_seed_lst: [100, 200, 300]\n",
    "sensitive_attributes_dct: {{'sex': 0, 'race': 'Caucasian', 'sex&race': None}}\n",
    "\"\"\"\n",
    "\n",
    "with open(config_yaml_path, 'w', encoding='utf-8') as f:\n",
    "    f.write(config_yaml_content)"
   ]
  },
  {
   "cell_type": "code",
   "execution_count": 24,
   "id": "74aa9ab6",
   "metadata": {
    "ExecuteTime": {
     "end_time": "2023-04-23T13:30:24.514656Z",
     "start_time": "2023-04-23T13:30:24.436377Z"
    }
   },
   "outputs": [],
   "source": [
    "metrics_computation_config = create_config_obj(config_yaml_path=config_yaml_path)"
   ]
  },
  {
   "cell_type": "markdown",
   "id": "e6ede305",
   "metadata": {},
   "source": [
    "### Define tuning parameter for models"
   ]
  },
  {
   "cell_type": "code",
   "execution_count": 25,
   "id": "c0020678",
   "metadata": {
    "ExecuteTime": {
     "end_time": "2023-04-23T13:30:24.532457Z",
     "start_time": "2023-04-23T13:30:24.484014Z"
    }
   },
   "outputs": [],
   "source": [
    "def get_models_params_for_tuning(models_tuning_seed):\n",
    "    return {\n",
    "        'DecisionTreeClassifier': {\n",
    "            'model': DecisionTreeClassifier(random_state=models_tuning_seed),\n",
    "            'params': {\n",
    "                \"max_depth\": [20, 30],\n",
    "                \"min_samples_split\" : [0.1],\n",
    "                \"max_features\": ['sqrt'],\n",
    "                \"criterion\": [\"gini\", \"entropy\"]\n",
    "            }\n",
    "        },\n",
    "        'LogisticRegression': {\n",
    "            'model': LogisticRegression(random_state=models_tuning_seed),\n",
    "            'params': {\n",
    "                'penalty': ['l2'],\n",
    "                'C' : [0.0001, 0.1, 1, 100],\n",
    "                'solver': ['newton-cg', 'lbfgs'],\n",
    "                'max_iter': [250],\n",
    "            }\n",
    "        },\n",
    "        # 'RandomForestClassifier': {\n",
    "        #     'model': RandomForestClassifier(random_state=models_tuning_seed),\n",
    "        #     'params': {\n",
    "        #         \"max_depth\": [6, 10],\n",
    "        #         \"min_samples_leaf\": [1],\n",
    "        #         \"n_estimators\": [50, 100],\n",
    "        #         \"max_features\": [0.6]\n",
    "        #     }\n",
    "        # },\n",
    "        # 'XGBClassifier': {\n",
    "        #     'model': XGBClassifier(random_state=models_tuning_seed, verbosity=0),\n",
    "        #     'params': {\n",
    "        #         'learning_rate': [0.1],\n",
    "        #         'n_estimators': [200],\n",
    "        #         'max_depth': [5, 7],\n",
    "        #         'lambda':  [10, 100]\n",
    "        #     }\n",
    "        # },\n",
    "        # 'KNeighborsClassifier': {\n",
    "        #     'model': KNeighborsClassifier(),\n",
    "        #     'params': {\n",
    "        #         'n_neighbors' : [5, 7, 9, 11, 13, 15, 25],\n",
    "        #         'weights' : ['uniform', 'distance'],\n",
    "        #         'metric' : ['minkowski', 'euclidean', 'manhattan']\n",
    "        #     }\n",
    "        # },\n",
    "        # 'MLPClassifier': {\n",
    "        #     'model': MLPClassifier(random_state=models_tuning_seed),\n",
    "        #     'params': {\n",
    "        #         'hidden_layer_sizes':[(100,), (100,100,), (100,50,100,)],\n",
    "        #         'activation': ['logistic', 'tanh', 'relu'],\n",
    "        #         'solver': ['lbfgs', 'sgd', 'adam'],\n",
    "        #         'learning_rate': ['constant', 'invscaling', 'adaptive']\n",
    "        #     }\n",
    "        # }\n",
    "    }"
   ]
  },
  {
   "cell_type": "markdown",
   "id": "670c9ea7",
   "metadata": {},
   "source": [
    "## Run experiments"
   ]
  },
  {
   "cell_type": "markdown",
   "id": "d01bd0f0",
   "metadata": {},
   "source": [
    "### Experiment iteration 1"
   ]
  },
  {
   "cell_type": "code",
   "execution_count": 26,
   "id": "a649dc4d",
   "metadata": {
    "ExecuteTime": {
     "end_time": "2023-04-23T13:36:02.906869Z",
     "start_time": "2023-04-23T13:36:02.820440Z"
    }
   },
   "outputs": [],
   "source": [
    "# Configs for an experiment iteration\n",
    "exp_iter_num = 1\n",
    "tuned_params_filename = 'tuning_results_COMPAS_exp_iter_1_20230425__143558.csv'\n",
    "tuned_params_df_path = os.path.join(SAVE_RESULTS_DIR_PATH, 'models_tuning', tuned_params_filename)\n",
    "experiment_seed = EXPERIMENT_SEEDS[exp_iter_num - 1]\n",
    "custom_table_fields_dct['experiment_iteration'] = f'Exp_iter_{exp_iter_num}'\n",
    "\n",
    "error_injector = RandomNullsInjectorV2(experiment_seed, columns_to_transform=COLUMNS_TO_TRANSFORM, row_idx_nulls_percentage=0.0,\n",
    "                                       max_num_columns_to_effect=MAX_NUM_COLUMNS_TO_EFFECT)\n",
    "models_params_for_tuning = get_models_params_for_tuning(experiment_seed)\n",
    "# Create a transformed data loader\n",
    "exp_iter_data_loader = create_experiment_data_loader(data_loader)\n",
    "exp_iter_data_loader.columns_with_nulls = COLUMNS_TO_TRANSFORM\n",
    "# preprocessor = get_null_imputer_preprocessor(exp_iter_data_loader, categorical_trimmed=0.3)\n",
    "preprocessor = get_null_imputer_preprocessor(exp_iter_data_loader)"
   ]
  },
  {
   "cell_type": "code",
   "execution_count": 27,
   "id": "f6efb869",
   "metadata": {
    "ExecuteTime": {
     "end_time": "2023-04-22T17:12:08.249600Z",
     "start_time": "2023-04-22T17:06:12.324268Z"
    }
   },
   "outputs": [
    {
     "name": "stderr",
     "output_type": "stream",
     "text": [
      "2023-04-25 12:24:29 experiment_interface.py INFO    : Start an experiment iteration for the following custom params:\n"
     ]
    },
    {
     "name": "stdout",
     "output_type": "stream",
     "text": [
      "{'dataset_split_seed': 100,\n",
      " 'error_percentages': '0%,5%,10%,20%,30%,40%,50%',\n",
      " 'error_type': 'Random Nulls',\n",
      " 'experiment_iteration': 'Exp_iter_1',\n",
      " 'injector_config_lst': '[0.05, 0.1, 0.2, 0.3, 0.4, 0.5]',\n",
      " 'model_init_seed': 100,\n",
      " 'preprocessing_technique': 'cat: mode, num: median',\n",
      " 'session_uuid': '4b0017cb-7765-4fad-95b6-0a512d623bc6'}\n",
      "\n",
      "\n"
     ]
    },
    {
     "name": "stderr",
     "output_type": "stream",
     "text": [
      "2023-04-25 12:24:29 experiment_interface.py INFO    : The dataset is preprocessed\n"
     ]
    },
    {
     "name": "stdout",
     "output_type": "stream",
     "text": [
      "Top indexes of an X_test in a base flow dataset:  Int64Index([1639, 4204, 3264,  664, 1039,  640, 3765, 2047, 1575,  995,  852,\n",
      "            3633, 2081, 5121, 2055, 2053, 2087, 3058,  662, 3826],\n",
      "           dtype='int64')\n",
      "Top indexes of an y_test in a base flow dataset:  Int64Index([1639, 4204, 3264,  664, 1039,  640, 3765, 2047, 1575,  995,  852,\n",
      "            3633, 2081, 5121, 2055, 2053, 2087, 3058,  662, 3826],\n",
      "           dtype='int64')\n",
      "error_injector.seed --  101\n",
      "transformed_X_test:\n",
      " age                         0\n",
      "juv_fel_count              10\n",
      "juv_misd_count             12\n",
      "juv_other_count             4\n",
      "priors_count                4\n",
      "race                        0\n",
      "age_cat_25 - 45             0\n",
      "age_cat_Greater than 45     0\n",
      "age_cat_Less than 25        0\n",
      "c_charge_degree_F           8\n",
      "c_charge_degree_M           8\n",
      "sex                         0\n",
      "dtype: int64\n",
      "error_injector.seed --  102\n",
      "transformed_X_test:\n",
      " age                         0\n",
      "juv_fel_count              22\n",
      "juv_misd_count             16\n",
      "juv_other_count            14\n",
      "priors_count               14\n",
      "race                        0\n",
      "age_cat_25 - 45             0\n",
      "age_cat_Greater than 45     0\n",
      "age_cat_Less than 25        0\n",
      "c_charge_degree_F          22\n",
      "c_charge_degree_M          17\n",
      "sex                         0\n",
      "dtype: int64\n",
      "error_injector.seed --  103\n",
      "transformed_X_test:\n",
      " age                         0\n",
      "juv_fel_count              43\n",
      "juv_misd_count             36\n",
      "juv_other_count            29\n",
      "priors_count               39\n",
      "race                        0\n",
      "age_cat_25 - 45             0\n",
      "age_cat_Greater than 45     0\n",
      "age_cat_Less than 25        0\n",
      "c_charge_degree_F          31\n",
      "c_charge_degree_M          28\n",
      "sex                         0\n",
      "dtype: int64\n",
      "error_injector.seed --  104\n",
      "transformed_X_test:\n",
      " age                         0\n",
      "juv_fel_count              64\n",
      "juv_misd_count             43\n",
      "juv_other_count            43\n",
      "priors_count               56\n",
      "race                        0\n",
      "age_cat_25 - 45             0\n",
      "age_cat_Greater than 45     0\n",
      "age_cat_Less than 25        0\n",
      "c_charge_degree_F          48\n",
      "c_charge_degree_M          46\n",
      "sex                         0\n",
      "dtype: int64\n",
      "error_injector.seed --  105\n",
      "transformed_X_test:\n",
      " age                         0\n",
      "juv_fel_count              75\n",
      "juv_misd_count             65\n",
      "juv_other_count            64\n",
      "priors_count               72\n",
      "race                        0\n",
      "age_cat_25 - 45             0\n",
      "age_cat_Greater than 45     0\n",
      "age_cat_Less than 25        0\n",
      "c_charge_degree_F          66\n",
      "c_charge_degree_M          74\n",
      "sex                         0\n",
      "dtype: int64\n",
      "error_injector.seed --  106\n",
      "transformed_X_test:\n",
      " age                          0\n",
      "juv_fel_count               98\n",
      "juv_misd_count              95\n",
      "juv_other_count             85\n",
      "priors_count               110\n",
      "race                         0\n",
      "age_cat_25 - 45              0\n",
      "age_cat_Greater than 45      0\n",
      "age_cat_Less than 25         0\n",
      "c_charge_degree_F           87\n",
      "c_charge_degree_M           90\n",
      "sex                          0\n",
      "dtype: int64\n",
      "2023/04/25, 12:24:31: Tuning DecisionTreeClassifier...\n",
      "Fitting 3 folds for each of 4 candidates, totalling 12 fits\n",
      "2023/04/25, 12:24:32: Tuning for DecisionTreeClassifier is finished [F1 score = 0.638260752688762, Accuracy = 0.6426767676767677]\n",
      "\n",
      "2023/04/25, 12:24:32: Tuning LogisticRegression...\n",
      "Fitting 3 folds for each of 8 candidates, totalling 24 fits\n"
     ]
    },
    {
     "name": "stderr",
     "output_type": "stream",
     "text": [
      "2023-04-25 12:24:32 experiment_interface.py INFO    : Models are tuned and saved to a file\n"
     ]
    },
    {
     "name": "stdout",
     "output_type": "stream",
     "text": [
      "2023/04/25, 12:24:32: Tuning for LogisticRegression is finished [F1 score = 0.6560077787012603, Accuracy = 0.6603535353535354]\n",
      "\n"
     ]
    },
    {
     "data": {
      "application/vnd.jupyter.widget-view+json": {
       "model_id": "a9b5b167f65b495f8687e2a0f3582903",
       "version_major": 2,
       "version_minor": 0
      },
      "text/plain": [
       "Multiple runs progress:   0%|          | 0/3 [00:00<?, ?it/s]"
      ]
     },
     "metadata": {},
     "output_type": "display_data"
    },
    {
     "data": {
      "application/vnd.jupyter.widget-view+json": {
       "model_id": "bfead0d362e04403811c2bcad083b387",
       "version_major": 2,
       "version_minor": 0
      },
      "text/plain": [
       "Analyze models in one run:   0%|          | 0/2 [00:00<?, ?it/s]"
      ]
     },
     "metadata": {},
     "output_type": "display_data"
    },
    {
     "data": {
      "application/vnd.jupyter.widget-view+json": {
       "model_id": "88f3741f31c640e896e2a5def2aaf757",
       "version_major": 2,
       "version_minor": 0
      },
      "text/plain": [
       "Classifiers testing by bootstrap:   0%|          | 0/50 [00:00<?, ?it/s]"
      ]
     },
     "metadata": {},
     "output_type": "display_data"
    },
    {
     "data": {
      "application/vnd.jupyter.widget-view+json": {
       "model_id": "943f9c699cd34a49afc9f04d1b482422",
       "version_major": 2,
       "version_minor": 0
      },
      "text/plain": [
       "Classifiers testing by bootstrap:   0%|          | 0/50 [00:00<?, ?it/s]"
      ]
     },
     "metadata": {},
     "output_type": "display_data"
    },
    {
     "data": {
      "application/vnd.jupyter.widget-view+json": {
       "model_id": "d6cc2bdae81f4fd681da3175f1c25a17",
       "version_major": 2,
       "version_minor": 0
      },
      "text/plain": [
       "Analyze models in one run:   0%|          | 0/2 [00:00<?, ?it/s]"
      ]
     },
     "metadata": {},
     "output_type": "display_data"
    },
    {
     "data": {
      "application/vnd.jupyter.widget-view+json": {
       "model_id": "fced768ed576446d8df20e90ac9b18fb",
       "version_major": 2,
       "version_minor": 0
      },
      "text/plain": [
       "Classifiers testing by bootstrap:   0%|          | 0/50 [00:00<?, ?it/s]"
      ]
     },
     "metadata": {},
     "output_type": "display_data"
    },
    {
     "data": {
      "application/vnd.jupyter.widget-view+json": {
       "model_id": "d9ae2426e1af4fada162a88ce0c01224",
       "version_major": 2,
       "version_minor": 0
      },
      "text/plain": [
       "Classifiers testing by bootstrap:   0%|          | 0/50 [00:00<?, ?it/s]"
      ]
     },
     "metadata": {},
     "output_type": "display_data"
    },
    {
     "data": {
      "application/vnd.jupyter.widget-view+json": {
       "model_id": "587c37b3800849709065060c90f6d8b5",
       "version_major": 2,
       "version_minor": 0
      },
      "text/plain": [
       "Analyze models in one run:   0%|          | 0/2 [00:00<?, ?it/s]"
      ]
     },
     "metadata": {},
     "output_type": "display_data"
    },
    {
     "data": {
      "application/vnd.jupyter.widget-view+json": {
       "model_id": "54f66ad3334646adbc4c0f289a936063",
       "version_major": 2,
       "version_minor": 0
      },
      "text/plain": [
       "Classifiers testing by bootstrap:   0%|          | 0/50 [00:00<?, ?it/s]"
      ]
     },
     "metadata": {},
     "output_type": "display_data"
    },
    {
     "data": {
      "application/vnd.jupyter.widget-view+json": {
       "model_id": "e998fd33addf48f08bd96d68f315d123",
       "version_major": 2,
       "version_minor": 0
      },
      "text/plain": [
       "Classifiers testing by bootstrap:   0%|          | 0/50 [00:00<?, ?it/s]"
      ]
     },
     "metadata": {},
     "output_type": "display_data"
    }
   ],
   "source": [
    "run_exp_iter_with_models_stress_testing(data_loader=exp_iter_data_loader,\n",
    "                                        experiment_seed=experiment_seed,\n",
    "                                        test_set_fraction=TEST_SET_FRACTION,\n",
    "                                        db_writer_func=db_writer_func,\n",
    "                                        error_injector=error_injector,\n",
    "                                        injector_config_lst=INJECTOR_CONFIG_LST,\n",
    "                                        preprocessor=preprocessor,\n",
    "                                        models_params_for_tuning=models_params_for_tuning,\n",
    "                                        metrics_computation_config=metrics_computation_config,\n",
    "                                        custom_table_fields_dct=custom_table_fields_dct,\n",
    "                                        with_tuning=True,\n",
    "                                        tuned_params_df_path=None,\n",
    "                                        # with_tuning=False,\n",
    "                                        # tuned_params_df_path=tuned_params_df_path,\n",
    "                                        save_results_dir_path=SAVE_RESULTS_DIR_PATH,\n",
    "                                        verbose=True)"
   ]
  },
  {
   "cell_type": "markdown",
   "id": "e3456220",
   "metadata": {},
   "source": [
    "### Experiment iteration 2"
   ]
  },
  {
   "cell_type": "code",
   "execution_count": 42,
   "id": "cb263ecd",
   "metadata": {},
   "outputs": [],
   "source": [
    "# Configs for an experiment iteration\n",
    "exp_iter_num = 2\n",
    "experiment_seed = EXPERIMENT_SEEDS[exp_iter_num - 1]\n",
    "custom_table_fields_dct['experiment_iteration'] = f'Exp_iter_{exp_iter_num}'\n",
    "\n",
    "error_injector = RandomNullsInjectorV2(experiment_seed, columns_to_transform=COLUMNS_TO_TRANSFORM, row_idx_nulls_percentage=0.0,\n",
    "                                       max_num_columns_to_effect=MAX_NUM_COLUMNS_TO_EFFECT)\n",
    "models_params_for_tuning = get_models_params_for_tuning(experiment_seed)\n",
    "# Create a transformed data loader\n",
    "exp_iter_data_loader = create_experiment_data_loader(data_loader)\n",
    "exp_iter_data_loader.columns_with_nulls = COLUMNS_TO_TRANSFORM\n",
    "# preprocessor = get_null_imputer_preprocessor(exp_iter_data_loader, categorical_trimmed=0.3)\n",
    "preprocessor = get_null_imputer_preprocessor(exp_iter_data_loader)"
   ]
  },
  {
   "cell_type": "code",
   "execution_count": 43,
   "id": "fdedc946",
   "metadata": {
    "ExecuteTime": {
     "end_time": "2023-04-23T01:13:11.201499Z",
     "start_time": "2023-04-23T01:08:21.665188Z"
    }
   },
   "outputs": [
    {
     "name": "stderr",
     "output_type": "stream",
     "text": [
      "2023-04-25 15:12:54 experiment_interface.py INFO    : Start an experiment iteration for the following custom params:\n"
     ]
    },
    {
     "name": "stdout",
     "output_type": "stream",
     "text": [
      "{'dataset_split_seed': 200,\n",
      " 'error_percentages': '0%,5%,10%,20%,30%,40%,50%',\n",
      " 'error_type': 'Random Nulls',\n",
      " 'experiment_iteration': 'Exp_iter_2',\n",
      " 'injector_config_lst': '[0.05, 0.1, 0.2, 0.3, 0.4, 0.5]',\n",
      " 'model_init_seed': 200,\n",
      " 'preprocessing_technique': 'cat: mode, num: median',\n",
      " 'session_uuid': '630e5d1d-1f34-4696-a678-5b113ba16bbf'}\n",
      "\n",
      "\n"
     ]
    },
    {
     "name": "stderr",
     "output_type": "stream",
     "text": [
      "2023-04-25 15:12:54 experiment_interface.py INFO    : The dataset is preprocessed\n"
     ]
    },
    {
     "name": "stdout",
     "output_type": "stream",
     "text": [
      "Top indexes of an X_test in a base flow dataset:  Int64Index([4344,  870, 1083,  473, 1141, 2303, 4473,  314, 3697, 3729, 1781,\n",
      "            3362, 1758, 2812,  411,    8, 1233, 2836, 4939,  340],\n",
      "           dtype='int64')\n",
      "Top indexes of an y_test in a base flow dataset:  Int64Index([4344,  870, 1083,  473, 1141, 2303, 4473,  314, 3697, 3729, 1781,\n",
      "            3362, 1758, 2812,  411,    8, 1233, 2836, 4939,  340],\n",
      "           dtype='int64')\n",
      "error_injector.seed --  201\n",
      "transformed_X_test:\n",
      " age                         0\n",
      "juv_fel_count               8\n",
      "juv_misd_count             10\n",
      "juv_other_count             8\n",
      "priors_count               11\n",
      "race                        0\n",
      "age_cat_25 - 45             0\n",
      "age_cat_Greater than 45     0\n",
      "age_cat_Less than 25        0\n",
      "c_charge_degree_F           6\n",
      "c_charge_degree_M           6\n",
      "sex                         0\n",
      "dtype: int64\n",
      "error_injector.seed --  202\n",
      "transformed_X_test:\n",
      " age                         0\n",
      "juv_fel_count              18\n",
      "juv_misd_count             17\n",
      "juv_other_count            17\n",
      "priors_count               19\n",
      "race                        0\n",
      "age_cat_25 - 45             0\n",
      "age_cat_Greater than 45     0\n",
      "age_cat_Less than 25        0\n",
      "c_charge_degree_F          15\n",
      "c_charge_degree_M          14\n",
      "sex                         0\n",
      "dtype: int64\n",
      "error_injector.seed --  203\n",
      "transformed_X_test:\n",
      " age                         0\n",
      "juv_fel_count              32\n",
      "juv_misd_count             36\n",
      "juv_other_count            28\n",
      "priors_count               40\n",
      "race                        0\n",
      "age_cat_25 - 45             0\n",
      "age_cat_Greater than 45     0\n",
      "age_cat_Less than 25        0\n",
      "c_charge_degree_F          39\n",
      "c_charge_degree_M          37\n",
      "sex                         0\n",
      "dtype: int64\n",
      "error_injector.seed --  204\n",
      "transformed_X_test:\n",
      " age                         0\n",
      "juv_fel_count              48\n",
      "juv_misd_count             51\n",
      "juv_other_count            46\n",
      "priors_count               64\n",
      "race                        0\n",
      "age_cat_25 - 45             0\n",
      "age_cat_Greater than 45     0\n",
      "age_cat_Less than 25        0\n",
      "c_charge_degree_F          50\n",
      "c_charge_degree_M          53\n",
      "sex                         0\n",
      "dtype: int64\n",
      "error_injector.seed --  205\n",
      "transformed_X_test:\n",
      " age                         0\n",
      "juv_fel_count              64\n",
      "juv_misd_count             75\n",
      "juv_other_count            62\n",
      "priors_count               82\n",
      "race                        0\n",
      "age_cat_25 - 45             0\n",
      "age_cat_Greater than 45     0\n",
      "age_cat_Less than 25        0\n",
      "c_charge_degree_F          61\n",
      "c_charge_degree_M          82\n",
      "sex                         0\n",
      "dtype: int64\n",
      "error_injector.seed --  206\n",
      "transformed_X_test:\n",
      " age                         0\n",
      "juv_fel_count              83\n",
      "juv_misd_count             97\n",
      "juv_other_count            66\n",
      "priors_count               93\n",
      "race                        0\n",
      "age_cat_25 - 45             0\n",
      "age_cat_Greater than 45     0\n",
      "age_cat_Less than 25        0\n",
      "c_charge_degree_F          80\n",
      "c_charge_degree_M          98\n",
      "sex                         0\n",
      "dtype: int64\n",
      "2023/04/25, 15:12:56: Tuning DecisionTreeClassifier...\n",
      "Fitting 3 folds for each of 4 candidates, totalling 12 fits\n",
      "2023/04/25, 15:12:56: Tuning for DecisionTreeClassifier is finished [F1 score = 0.6399689455815519, Accuracy = 0.6452020202020202]\n",
      "\n",
      "2023/04/25, 15:12:56: Tuning LogisticRegression...\n",
      "Fitting 3 folds for each of 8 candidates, totalling 24 fits\n"
     ]
    },
    {
     "name": "stderr",
     "output_type": "stream",
     "text": [
      "2023-04-25 15:12:56 experiment_interface.py INFO    : Models are tuned and saved to a file\n"
     ]
    },
    {
     "name": "stdout",
     "output_type": "stream",
     "text": [
      "2023/04/25, 15:12:56: Tuning for LogisticRegression is finished [F1 score = 0.6765978744423906, Accuracy = 0.6799242424242423]\n",
      "\n"
     ]
    },
    {
     "data": {
      "application/vnd.jupyter.widget-view+json": {
       "model_id": "759e3029cc944ef8962ef232a3bbdf85",
       "version_major": 2,
       "version_minor": 0
      },
      "text/plain": [
       "Multiple runs progress:   0%|          | 0/3 [00:00<?, ?it/s]"
      ]
     },
     "metadata": {},
     "output_type": "display_data"
    },
    {
     "data": {
      "application/vnd.jupyter.widget-view+json": {
       "model_id": "0f6f89bef2f84ef8a4f71c52ff99e35c",
       "version_major": 2,
       "version_minor": 0
      },
      "text/plain": [
       "Analyze models in one run:   0%|          | 0/2 [00:00<?, ?it/s]"
      ]
     },
     "metadata": {},
     "output_type": "display_data"
    },
    {
     "data": {
      "application/vnd.jupyter.widget-view+json": {
       "model_id": "62f2081aa7794ffaaefc08f44640e66a",
       "version_major": 2,
       "version_minor": 0
      },
      "text/plain": [
       "Classifiers testing by bootstrap:   0%|          | 0/50 [00:00<?, ?it/s]"
      ]
     },
     "metadata": {},
     "output_type": "display_data"
    },
    {
     "data": {
      "application/vnd.jupyter.widget-view+json": {
       "model_id": "581ddd58dbe94d94ba4bc4823c6a6478",
       "version_major": 2,
       "version_minor": 0
      },
      "text/plain": [
       "Classifiers testing by bootstrap:   0%|          | 0/50 [00:00<?, ?it/s]"
      ]
     },
     "metadata": {},
     "output_type": "display_data"
    },
    {
     "data": {
      "application/vnd.jupyter.widget-view+json": {
       "model_id": "b4c7c6a94d124fecac0f53101f338899",
       "version_major": 2,
       "version_minor": 0
      },
      "text/plain": [
       "Analyze models in one run:   0%|          | 0/2 [00:00<?, ?it/s]"
      ]
     },
     "metadata": {},
     "output_type": "display_data"
    },
    {
     "data": {
      "application/vnd.jupyter.widget-view+json": {
       "model_id": "b6e9e15c036c410abd7e7ef3fef9a144",
       "version_major": 2,
       "version_minor": 0
      },
      "text/plain": [
       "Classifiers testing by bootstrap:   0%|          | 0/50 [00:00<?, ?it/s]"
      ]
     },
     "metadata": {},
     "output_type": "display_data"
    },
    {
     "data": {
      "application/vnd.jupyter.widget-view+json": {
       "model_id": "29e16f7b52774f52a02708703a0d8724",
       "version_major": 2,
       "version_minor": 0
      },
      "text/plain": [
       "Classifiers testing by bootstrap:   0%|          | 0/50 [00:00<?, ?it/s]"
      ]
     },
     "metadata": {},
     "output_type": "display_data"
    },
    {
     "data": {
      "application/vnd.jupyter.widget-view+json": {
       "model_id": "7847088c69ed4adb996906f93e8770d9",
       "version_major": 2,
       "version_minor": 0
      },
      "text/plain": [
       "Analyze models in one run:   0%|          | 0/2 [00:00<?, ?it/s]"
      ]
     },
     "metadata": {},
     "output_type": "display_data"
    },
    {
     "data": {
      "application/vnd.jupyter.widget-view+json": {
       "model_id": "82c76c9246464a0ba4578b44a503a466",
       "version_major": 2,
       "version_minor": 0
      },
      "text/plain": [
       "Classifiers testing by bootstrap:   0%|          | 0/50 [00:00<?, ?it/s]"
      ]
     },
     "metadata": {},
     "output_type": "display_data"
    },
    {
     "data": {
      "application/vnd.jupyter.widget-view+json": {
       "model_id": "c6720f8aa65a463ea29ea2e4e4d28b84",
       "version_major": 2,
       "version_minor": 0
      },
      "text/plain": [
       "Classifiers testing by bootstrap:   0%|          | 0/50 [00:00<?, ?it/s]"
      ]
     },
     "metadata": {},
     "output_type": "display_data"
    }
   ],
   "source": [
    "run_exp_iter_with_models_stress_testing(data_loader=exp_iter_data_loader,\n",
    "                                        experiment_seed=experiment_seed,\n",
    "                                        test_set_fraction=TEST_SET_FRACTION,\n",
    "                                        db_writer_func=db_writer_func,\n",
    "                                        error_injector=error_injector,\n",
    "                                        injector_config_lst=INJECTOR_CONFIG_LST,\n",
    "                                        preprocessor=preprocessor,\n",
    "                                        models_params_for_tuning=models_params_for_tuning,\n",
    "                                        metrics_computation_config=metrics_computation_config,\n",
    "                                        custom_table_fields_dct=custom_table_fields_dct,\n",
    "                                        with_tuning=True,\n",
    "                                        save_results_dir_path=SAVE_RESULTS_DIR_PATH,\n",
    "                                        tuned_params_df_path=None,\n",
    "                                        verbose=True)"
   ]
  },
  {
   "cell_type": "code",
   "execution_count": 43,
   "id": "4b86833e",
   "metadata": {
    "ExecuteTime": {
     "end_time": "2023-04-22T17:12:09.025575Z",
     "start_time": "2023-04-22T17:12:08.968229Z"
    }
   },
   "outputs": [],
   "source": [
    "client.close()"
   ]
  },
  {
   "cell_type": "code",
   "execution_count": 43,
   "id": "6f4f3055",
   "metadata": {
    "ExecuteTime": {
     "end_time": "2023-04-22T17:12:09.025679Z",
     "start_time": "2023-04-22T17:12:08.972200Z"
    }
   },
   "outputs": [],
   "source": []
  }
 ],
 "metadata": {
  "kernelspec": {
   "display_name": "Python 3",
   "language": "python",
   "name": "python3"
  },
  "language_info": {
   "codemirror_mode": {
    "name": "ipython",
    "version": 3
   },
   "file_extension": ".py",
   "mimetype": "text/x-python",
   "name": "python",
   "nbconvert_exporter": "python",
   "pygments_lexer": "ipython3",
   "version": "3.8.5"
  }
 },
 "nbformat": 4,
 "nbformat_minor": 5
}
