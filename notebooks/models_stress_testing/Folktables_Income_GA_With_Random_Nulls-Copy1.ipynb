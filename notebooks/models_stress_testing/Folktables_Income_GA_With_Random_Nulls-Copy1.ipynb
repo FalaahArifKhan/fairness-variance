{
 "cells": [
  {
   "cell_type": "code",
   "execution_count": 35,
   "id": "45aafb0a",
   "metadata": {
    "ExecuteTime": {
     "end_time": "2023-04-22T17:06:09.249675Z",
     "start_time": "2023-04-22T17:06:09.233480Z"
    }
   },
   "outputs": [],
   "source": [
    "# !pip install -r ../exp_requirements.txt"
   ]
  },
  {
   "cell_type": "code",
   "execution_count": 36,
   "id": "89180f0f",
   "metadata": {
    "ExecuteTime": {
     "end_time": "2023-04-22T17:06:09.276223Z",
     "start_time": "2023-04-22T17:06:09.251393Z"
    }
   },
   "outputs": [],
   "source": [
    "# !pip uninstall virny -y"
   ]
  },
  {
   "cell_type": "code",
   "execution_count": 37,
   "id": "736e40fd",
   "metadata": {
    "ExecuteTime": {
     "end_time": "2023-04-22T17:06:09.293739Z",
     "start_time": "2023-04-22T17:06:09.271221Z"
    }
   },
   "outputs": [],
   "source": [
    "# Install using an HTTP link\n",
    "# !pip install git+https://github.com/DataResponsibly/Virny.git@development\n",
    "\n",
    "# Install using an SSH link\n",
    "# !pip install git+ssh://git@github.com/DataResponsibly/Virny.git@development"
   ]
  },
  {
   "cell_type": "code",
   "execution_count": 1,
   "id": "77265e79",
   "metadata": {
    "ExecuteTime": {
     "end_time": "2023-04-23T13:30:20.281401Z",
     "start_time": "2023-04-23T13:30:19.866407Z"
    }
   },
   "outputs": [],
   "source": [
    "%matplotlib inline\n",
    "%load_ext autoreload\n",
    "%autoreload 2"
   ]
  },
  {
   "cell_type": "code",
   "execution_count": 2,
   "id": "7acf33a5",
   "metadata": {
    "ExecuteTime": {
     "end_time": "2023-04-23T13:30:20.290644Z",
     "start_time": "2023-04-23T13:30:20.282567Z"
    }
   },
   "outputs": [],
   "source": [
    "import os\n",
    "import warnings\n",
    "warnings.filterwarnings('ignore')\n",
    "os.environ[\"PYTHONWARNINGS\"] = \"ignore\""
   ]
  },
  {
   "cell_type": "code",
   "execution_count": 3,
   "id": "08ffa25d",
   "metadata": {},
   "outputs": [
    {
     "name": "stdout",
     "output_type": "stream",
     "text": [
      "Current location:  /home/dh3553/projects/fairness-variance\n"
     ]
    }
   ],
   "source": [
    "cur_folder_name = os.getcwd().split('/')[-1]\n",
    "if cur_folder_name != \"fairness-variance\":\n",
    "    os.chdir(\"../..\")\n",
    "\n",
    "print('Current location: ', os.getcwd())"
   ]
  },
  {
   "cell_type": "markdown",
   "id": "e3d350e6",
   "metadata": {},
   "source": [
    "# Folktables GA Dataset With Random Nulls"
   ]
  },
  {
   "cell_type": "markdown",
   "id": "35534e54",
   "metadata": {},
   "source": [
    "## Import dependencies"
   ]
  },
  {
   "cell_type": "code",
   "execution_count": 6,
   "id": "c13d3fe6",
   "metadata": {
    "ExecuteTime": {
     "end_time": "2023-04-23T13:30:21.590617Z",
     "start_time": "2023-04-23T13:30:20.293249Z"
    }
   },
   "outputs": [],
   "source": [
    "import os\n",
    "import copy\n",
    "\n",
    "from xgboost import XGBClassifier\n",
    "from sklearn.tree import DecisionTreeClassifier\n",
    "from sklearn.linear_model import LogisticRegression\n",
    "from sklearn.ensemble import RandomForestClassifier\n",
    "from sklearn.neighbors import KNeighborsClassifier\n",
    "from sklearn.neural_network import MLPClassifier\n",
    "\n",
    "from virny.utils.custom_initializers import create_config_obj, create_models_metrics_dct_from_database_df\n",
    "from virny.datasets.data_loaders import ACSIncomeDataset\n",
    "from source.user_interfaces.experiment_interface import run_exp_iter_with_models_stress_testing\n",
    "from source.error_injectors.random_nulls_injector_v2 import RandomNullsInjectorV2\n",
    "from source.utils.custom_initializers import create_experiment_data_loader\n",
    "from source.utils.db_functions import read_model_metric_dfs_from_db\n",
    "from source.preprocessing.basic_preprocessing import get_null_imputer_preprocessor\n",
    "\n",
    "from configs.constants import NUM_METRICS_COMPUTATION_RUNS, EXPERIMENT_SEEDS, TEST_SET_FRACTION\n",
    "from configs.models_params_for_tuning import get_folktables_income_models_params_for_tuning"
   ]
  },
  {
   "cell_type": "markdown",
   "id": "a2871437",
   "metadata": {},
   "source": [
    "## Initialize input variables for the experiment"
   ]
  },
  {
   "cell_type": "code",
   "execution_count": 7,
   "id": "865db6d9",
   "metadata": {
    "ExecuteTime": {
     "end_time": "2023-04-23T13:30:21.603942Z",
     "start_time": "2023-04-23T13:30:21.571542Z"
    }
   },
   "outputs": [],
   "source": [
    "# ROOT_DIR = os.path.join(os.getcwd(), \"..\", \"..\")\n",
    "ROOT_DIR = os.getcwd()\n",
    "EXPERIMENT_NAME = 'stress_testing_nulls'\n",
    "DB_COLLECTION_NAME = f'exp_{EXPERIMENT_NAME}'\n",
    "SAVE_RESULTS_DIR_PATH = os.path.join(ROOT_DIR, 'results', EXPERIMENT_NAME)\n",
    "COLUMNS_TO_TRANSFORM = ['SCHL', 'COW', 'MAR', 'OCCP', 'POBP', 'RELP', 'WKHP']\n",
    "INJECTOR_CONFIG_LST = [0.05, 0.1, 0.2, 0.3, 0.4, 0.5]\n",
    "MAX_NUM_COLUMNS_TO_EFFECT = 3"
   ]
  },
  {
   "cell_type": "code",
   "execution_count": 8,
   "id": "0c5a6173",
   "metadata": {
    "ExecuteTime": {
     "end_time": "2023-04-23T13:30:24.191398Z",
     "start_time": "2023-04-23T13:30:21.600868Z"
    }
   },
   "outputs": [
    {
     "data": {
      "text/html": [
       "<div>\n",
       "<style scoped>\n",
       "    .dataframe tbody tr th:only-of-type {\n",
       "        vertical-align: middle;\n",
       "    }\n",
       "\n",
       "    .dataframe tbody tr th {\n",
       "        vertical-align: top;\n",
       "    }\n",
       "\n",
       "    .dataframe thead th {\n",
       "        text-align: right;\n",
       "    }\n",
       "</style>\n",
       "<table border=\"1\" class=\"dataframe\">\n",
       "  <thead>\n",
       "    <tr style=\"text-align: right;\">\n",
       "      <th></th>\n",
       "      <th>SCHL</th>\n",
       "      <th>COW</th>\n",
       "      <th>MAR</th>\n",
       "      <th>OCCP</th>\n",
       "      <th>POBP</th>\n",
       "      <th>RELP</th>\n",
       "      <th>SEX</th>\n",
       "      <th>RAC1P</th>\n",
       "      <th>AGEP</th>\n",
       "      <th>WKHP</th>\n",
       "    </tr>\n",
       "  </thead>\n",
       "  <tbody>\n",
       "    <tr>\n",
       "      <th>0</th>\n",
       "      <td>23</td>\n",
       "      <td>7</td>\n",
       "      <td>3</td>\n",
       "      <td>230</td>\n",
       "      <td>36</td>\n",
       "      <td>0</td>\n",
       "      <td>1</td>\n",
       "      <td>1</td>\n",
       "      <td>55</td>\n",
       "      <td>55.0</td>\n",
       "    </tr>\n",
       "    <tr>\n",
       "      <th>1</th>\n",
       "      <td>16</td>\n",
       "      <td>1</td>\n",
       "      <td>5</td>\n",
       "      <td>4110</td>\n",
       "      <td>13</td>\n",
       "      <td>2</td>\n",
       "      <td>2</td>\n",
       "      <td>1</td>\n",
       "      <td>20</td>\n",
       "      <td>35.0</td>\n",
       "    </tr>\n",
       "    <tr>\n",
       "      <th>2</th>\n",
       "      <td>16</td>\n",
       "      <td>4</td>\n",
       "      <td>3</td>\n",
       "      <td>4130</td>\n",
       "      <td>51</td>\n",
       "      <td>0</td>\n",
       "      <td>2</td>\n",
       "      <td>1</td>\n",
       "      <td>59</td>\n",
       "      <td>30.0</td>\n",
       "    </tr>\n",
       "    <tr>\n",
       "      <th>3</th>\n",
       "      <td>18</td>\n",
       "      <td>4</td>\n",
       "      <td>1</td>\n",
       "      <td>4020</td>\n",
       "      <td>13</td>\n",
       "      <td>0</td>\n",
       "      <td>1</td>\n",
       "      <td>2</td>\n",
       "      <td>43</td>\n",
       "      <td>40.0</td>\n",
       "    </tr>\n",
       "    <tr>\n",
       "      <th>4</th>\n",
       "      <td>14</td>\n",
       "      <td>1</td>\n",
       "      <td>1</td>\n",
       "      <td>8300</td>\n",
       "      <td>20</td>\n",
       "      <td>1</td>\n",
       "      <td>2</td>\n",
       "      <td>2</td>\n",
       "      <td>33</td>\n",
       "      <td>20.0</td>\n",
       "    </tr>\n",
       "  </tbody>\n",
       "</table>\n",
       "</div>"
      ],
      "text/plain": [
       "  SCHL COW MAR  OCCP POBP RELP SEX RAC1P  AGEP  WKHP\n",
       "0   23   7   3   230   36    0   1     1    55  55.0\n",
       "1   16   1   5  4110   13    2   2     1    20  35.0\n",
       "2   16   4   3  4130   51    0   2     1    59  30.0\n",
       "3   18   4   1  4020   13    0   1     2    43  40.0\n",
       "4   14   1   1  8300   20    1   2     2    33  20.0"
      ]
     },
     "execution_count": 8,
     "metadata": {},
     "output_type": "execute_result"
    }
   ],
   "source": [
    "data_loader = ACSIncomeDataset(state=['GA'], year=2018, with_nulls=False,\n",
    "                               subsample_size=20_000, subsample_seed=42)\n",
    "data_loader.X_data.head()"
   ]
  },
  {
   "cell_type": "code",
   "execution_count": 9,
   "id": "d4e92d96",
   "metadata": {},
   "outputs": [
    {
     "data": {
      "text/plain": [
       "(20000, 10)"
      ]
     },
     "execution_count": 9,
     "metadata": {},
     "output_type": "execute_result"
    }
   ],
   "source": [
    "data_loader.full_df.shape"
   ]
  },
  {
   "cell_type": "code",
   "execution_count": 10,
   "id": "e0aa21ff",
   "metadata": {
    "ExecuteTime": {
     "end_time": "2023-04-23T13:30:24.341989Z",
     "start_time": "2023-04-23T13:30:24.183137Z"
    }
   },
   "outputs": [
    {
     "data": {
      "text/plain": [
       "SCHL     0\n",
       "COW      0\n",
       "MAR      0\n",
       "OCCP     0\n",
       "POBP     0\n",
       "RELP     0\n",
       "SEX      0\n",
       "RAC1P    0\n",
       "AGEP     0\n",
       "WKHP     0\n",
       "dtype: int64"
      ]
     },
     "execution_count": 10,
     "metadata": {},
     "output_type": "execute_result"
    }
   ],
   "source": [
    "data_loader.full_df.isna().sum()"
   ]
  },
  {
   "cell_type": "markdown",
   "id": "28e25c72",
   "metadata": {},
   "source": [
    "### Define a db writer and custom fields to insert into your database"
   ]
  },
  {
   "cell_type": "code",
   "execution_count": 11,
   "id": "e78e22f6",
   "metadata": {
    "ExecuteTime": {
     "end_time": "2023-04-23T13:30:24.367148Z",
     "start_time": "2023-04-23T13:30:24.304924Z"
    }
   },
   "outputs": [],
   "source": [
    "from source.utils.db_functions import connect_to_mongodb\n",
    "\n",
    "client, collection_obj, db_writer_func = connect_to_mongodb(DB_COLLECTION_NAME)"
   ]
  },
  {
   "cell_type": "code",
   "execution_count": 12,
   "id": "661ae711",
   "metadata": {
    "ExecuteTime": {
     "end_time": "2023-04-23T13:30:24.426028Z",
     "start_time": "2023-04-23T13:30:24.351860Z"
    }
   },
   "outputs": [],
   "source": [
    "custom_table_fields_dct = {\n",
    "    'error_type': 'Random Nulls',\n",
    "    'error_percentages': '0%,5%,10%,20%,30%,40%,50%',\n",
    "    'preprocessing_technique': 'cat: mode, num: median',\n",
    "}"
   ]
  },
  {
   "cell_type": "code",
   "execution_count": 18,
   "id": "a21335df",
   "metadata": {
    "ExecuteTime": {
     "end_time": "2023-04-23T13:30:24.444377Z",
     "start_time": "2023-04-23T13:30:24.396152Z"
    }
   },
   "outputs": [
    {
     "name": "stdout",
     "output_type": "stream",
     "text": [
      "Current session uuid:  340a6ce1-3261-4b64-a083-d74dfaad97cf\n"
     ]
    }
   ],
   "source": [
    "import uuid\n",
    "\n",
    "custom_table_fields_dct['session_uuid'] = '340a6ce1-3261-4b64-a083-d74dfaad97cf'\n",
    "# custom_table_fields_dct['session_uuid'] = str(uuid.uuid4())\n",
    "print('Current session uuid: ', custom_table_fields_dct['session_uuid'])"
   ]
  },
  {
   "cell_type": "markdown",
   "id": "aec6cae2",
   "metadata": {},
   "source": [
    "### Create a metrics computation config object"
   ]
  },
  {
   "cell_type": "code",
   "execution_count": 19,
   "id": "c8782703",
   "metadata": {
    "ExecuteTime": {
     "end_time": "2023-04-23T13:30:24.445854Z",
     "start_time": "2023-04-23T13:30:24.410029Z"
    }
   },
   "outputs": [],
   "source": [
    "config_yaml_path = 'experiment_config.yaml'\n",
    "age_range = [i for i in range(30, 46)]\n",
    "config_yaml_content = \\\n",
    "f\"\"\"\n",
    "dataset_name: Folktables_Income_GA_2018\n",
    "bootstrap_fraction: 0.8\n",
    "n_estimators: 200\n",
    "num_runs: 1\n",
    "runs_seed_lst: [100]\n",
    "sensitive_attributes_dct: {{'SEX': '1', 'RAC1P': '1', 'AGEP': {age_range}, 'SEX & RAC1P': None, 'RAC1P & AGEP': None}}\n",
    "\"\"\"\n",
    "\n",
    "with open(config_yaml_path, 'w', encoding='utf-8') as f:\n",
    "    f.write(config_yaml_content)"
   ]
  },
  {
   "cell_type": "code",
   "execution_count": 20,
   "id": "e71bf671",
   "metadata": {
    "ExecuteTime": {
     "end_time": "2023-04-23T13:30:24.514656Z",
     "start_time": "2023-04-23T13:30:24.436377Z"
    }
   },
   "outputs": [],
   "source": [
    "metrics_computation_config = create_config_obj(config_yaml_path=config_yaml_path)"
   ]
  },
  {
   "cell_type": "markdown",
   "id": "aae5d143",
   "metadata": {},
   "source": [
    "### Define tuning parameter for models"
   ]
  },
  {
   "cell_type": "code",
   "execution_count": 21,
   "id": "d83bb88d",
   "metadata": {
    "ExecuteTime": {
     "end_time": "2023-04-23T13:30:24.532457Z",
     "start_time": "2023-04-23T13:30:24.484014Z"
    }
   },
   "outputs": [],
   "source": [
    "# def get_models_params_for_tuning(models_tuning_seed):\n",
    "#     return {\n",
    "#         'DecisionTreeClassifier': {\n",
    "#             'model': DecisionTreeClassifier(random_state=models_tuning_seed),\n",
    "#             'params': {\n",
    "#                 \"max_depth\": [20, 30],\n",
    "#                 \"min_samples_split\" : [0.1],\n",
    "#                 \"max_features\": ['sqrt'],\n",
    "#                 \"criterion\": [\"gini\", \"entropy\"]\n",
    "#             }\n",
    "#         },\n",
    "#         'LogisticRegression': {\n",
    "#             'model': LogisticRegression(random_state=models_tuning_seed),\n",
    "#             'params': {\n",
    "#                 'penalty': ['l2'],\n",
    "#                 'C' : [0.0001, 0.1, 1, 100],\n",
    "#                 'solver': ['newton-cg', 'lbfgs'],\n",
    "#                 'max_iter': [250],\n",
    "#             }\n",
    "#         },\n",
    "#         # 'RandomForestClassifier': {\n",
    "#         #     'model': RandomForestClassifier(random_state=models_tuning_seed),\n",
    "#         #     'params': {\n",
    "#         #         \"max_depth\": [6, 10],\n",
    "#         #         \"min_samples_leaf\": [1],\n",
    "#         #         \"n_estimators\": [50, 100],\n",
    "#         #         \"max_features\": [0.6]\n",
    "#         #     }\n",
    "#         # },\n",
    "#         # 'XGBClassifier': {\n",
    "#         #     'model': XGBClassifier(random_state=models_tuning_seed, verbosity=0),\n",
    "#         #     'params': {\n",
    "#         #         'learning_rate': [0.1],\n",
    "#         #         'n_estimators': [200],\n",
    "#         #         'max_depth': [5, 7],\n",
    "#         #         'lambda':  [10, 100]\n",
    "#         #     }\n",
    "#         # },\n",
    "#         # 'KNeighborsClassifier': {\n",
    "#         #     'model': KNeighborsClassifier(),\n",
    "#         #     'params': {\n",
    "#         #         'n_neighbors' : [5, 7, 9, 11, 13, 15, 25],\n",
    "#         #         'weights' : ['uniform', 'distance'],\n",
    "#         #         'metric' : ['minkowski', 'euclidean', 'manhattan']\n",
    "#         #     }\n",
    "#         # },\n",
    "#         # 'MLPClassifier': {\n",
    "#         #     'model': MLPClassifier(random_state=models_tuning_seed),\n",
    "#         #     'params': {\n",
    "#         #         'hidden_layer_sizes':[(100,), (100,100,), (100,50,100,)],\n",
    "#         #         'activation': ['logistic', 'tanh', 'relu'],\n",
    "#         #         'solver': ['lbfgs', 'sgd', 'adam'],\n",
    "#         #         'learning_rate': ['constant', 'invscaling', 'adaptive']\n",
    "#         #     }\n",
    "#         # }\n",
    "#     }"
   ]
  },
  {
   "cell_type": "markdown",
   "id": "fa488669",
   "metadata": {},
   "source": [
    "## Run experiments"
   ]
  },
  {
   "cell_type": "markdown",
   "id": "cb0860bd",
   "metadata": {},
   "source": [
    "### Experiment iteration 1"
   ]
  },
  {
   "cell_type": "code",
   "execution_count": 22,
   "id": "c56e134e",
   "metadata": {
    "ExecuteTime": {
     "end_time": "2023-04-23T13:36:02.906869Z",
     "start_time": "2023-04-23T13:36:02.820440Z"
    }
   },
   "outputs": [],
   "source": [
    "# Configs for an experiment iteration\n",
    "exp_iter_num = 1\n",
    "experiment_seed = EXPERIMENT_SEEDS[exp_iter_num - 1]\n",
    "tuned_params_filename = 'tuning_results_COMPAS_exp_iter_1_20230425__164903.csv'\n",
    "tuned_params_df_path = os.path.join(SAVE_RESULTS_DIR_PATH, 'models_tuning', tuned_params_filename)\n",
    "custom_table_fields_dct['experiment_iteration'] = f'Exp_iter_{exp_iter_num}'\n",
    "\n",
    "error_injector = RandomNullsInjectorV2(experiment_seed, columns_to_transform=COLUMNS_TO_TRANSFORM, row_idx_nulls_percentage=0.0,\n",
    "                                       max_num_columns_to_effect=MAX_NUM_COLUMNS_TO_EFFECT)\n",
    "models_params_for_tuning = get_folktables_income_models_params_for_tuning(experiment_seed)\n",
    "# Create a transformed data loader\n",
    "exp_iter_data_loader = create_experiment_data_loader(data_loader)\n",
    "exp_iter_data_loader.columns_with_nulls = COLUMNS_TO_TRANSFORM\n",
    "preprocessor = get_null_imputer_preprocessor(exp_iter_data_loader)"
   ]
  },
  {
   "cell_type": "code",
   "execution_count": 23,
   "id": "35c415e7",
   "metadata": {
    "ExecuteTime": {
     "end_time": "2023-04-22T17:12:08.249600Z",
     "start_time": "2023-04-22T17:06:12.324268Z"
    }
   },
   "outputs": [
    {
     "name": "stderr",
     "output_type": "stream",
     "text": [
      "2023-04-25 19:45:22 experiment_interface.py INFO    : Start an experiment iteration for the following custom params:\n"
     ]
    },
    {
     "name": "stdout",
     "output_type": "stream",
     "text": [
      "{'dataset_split_seed': 100,\n",
      " 'error_percentages': '0%,5%,10%,20%,30%,40%,50%',\n",
      " 'error_type': 'Random Nulls',\n",
      " 'experiment_iteration': 'Exp_iter_1',\n",
      " 'injector_config_lst': '[0.05, 0.1, 0.2, 0.3, 0.4, 0.5]',\n",
      " 'model_init_seed': 100,\n",
      " 'preprocessing_technique': 'cat: mode, num: median',\n",
      " 'session_uuid': '340a6ce1-3261-4b64-a083-d74dfaad97cf'}\n",
      "\n",
      "\n"
     ]
    },
    {
     "name": "stderr",
     "output_type": "stream",
     "text": [
      "2023-04-25 19:45:23 experiment_interface.py INFO    : The dataset is preprocessed\n"
     ]
    },
    {
     "name": "stdout",
     "output_type": "stream",
     "text": [
      "Top indexes of an X_test in a base flow dataset:  Int64Index([ 2917,  2234, 14396,  1781, 11102,   732,  7692, 10589, 16098,\n",
      "             4920,  6601,  7611,  3825, 18755,  6862,  3847,  7256, 13711,\n",
      "            12389,  9772],\n",
      "           dtype='int64')\n",
      "Top indexes of an y_test in a base flow dataset:  Int64Index([ 2917,  2234, 14396,  1781, 11102,   732,  7692, 10589, 16098,\n",
      "             4920,  6601,  7611,  3825, 18755,  6862,  3847,  7256, 13711,\n",
      "            12389,  9772],\n",
      "           dtype='int64')\n",
      "error_injector.seed --  101\n",
      "transformed_X_test:\n",
      " SCHL     35\n",
      "COW      23\n",
      "MAR      24\n",
      "OCCP     30\n",
      "POBP     26\n",
      "RELP     29\n",
      "SEX       0\n",
      "RAC1P     0\n",
      "AGEP      0\n",
      "WKHP     29\n",
      "dtype: int64\n",
      "\n",
      "\n"
     ]
    },
    {
     "ename": "TypeError",
     "evalue": "unsupported operand type(s) for -: 'float' and 'str'",
     "output_type": "error",
     "traceback": [
      "\u001b[0;31m---------------------------------------------------------------------------\u001b[0m",
      "\u001b[0;31mTypeError\u001b[0m                                 Traceback (most recent call last)",
      "\u001b[0;32m<ipython-input-23-b940cd06b90d>\u001b[0m in \u001b[0;36m<module>\u001b[0;34m\u001b[0m\n\u001b[0;32m----> 1\u001b[0;31m run_exp_iter_with_models_stress_testing(data_loader=exp_iter_data_loader,\n\u001b[0m\u001b[1;32m      2\u001b[0m                                         \u001b[0mexperiment_seed\u001b[0m\u001b[0;34m=\u001b[0m\u001b[0mexperiment_seed\u001b[0m\u001b[0;34m,\u001b[0m\u001b[0;34m\u001b[0m\u001b[0;34m\u001b[0m\u001b[0m\n\u001b[1;32m      3\u001b[0m                                         \u001b[0mtest_set_fraction\u001b[0m\u001b[0;34m=\u001b[0m\u001b[0mTEST_SET_FRACTION\u001b[0m\u001b[0;34m,\u001b[0m\u001b[0;34m\u001b[0m\u001b[0;34m\u001b[0m\u001b[0m\n\u001b[1;32m      4\u001b[0m                                         \u001b[0mdb_writer_func\u001b[0m\u001b[0;34m=\u001b[0m\u001b[0mdb_writer_func\u001b[0m\u001b[0;34m,\u001b[0m\u001b[0;34m\u001b[0m\u001b[0;34m\u001b[0m\u001b[0m\n\u001b[1;32m      5\u001b[0m                                         \u001b[0merror_injector\u001b[0m\u001b[0;34m=\u001b[0m\u001b[0merror_injector\u001b[0m\u001b[0;34m,\u001b[0m\u001b[0;34m\u001b[0m\u001b[0;34m\u001b[0m\u001b[0m\n",
      "\u001b[0;32m~/projects/fairness-variance/source/user_interfaces/experiment_interface.py\u001b[0m in \u001b[0;36mrun_exp_iter_with_models_stress_testing\u001b[0;34m(data_loader, experiment_seed, test_set_fraction, db_writer_func, error_injector, injector_config_lst, preprocessor, models_params_for_tuning, metrics_computation_config, custom_table_fields_dct, with_tuning, save_results_dir_path, tuned_params_df_path, num_folds_for_tuning, verbose)\u001b[0m\n\u001b[1;32m     94\u001b[0m     \u001b[0;31m# Create extra stress testing sets\u001b[0m\u001b[0;34m\u001b[0m\u001b[0;34m\u001b[0m\u001b[0;34m\u001b[0m\u001b[0m\n\u001b[1;32m     95\u001b[0m     \u001b[0moriginal_X_train_val\u001b[0m\u001b[0;34m,\u001b[0m \u001b[0moriginal_X_test\u001b[0m\u001b[0;34m,\u001b[0m \u001b[0moriginal_y_train_val\u001b[0m\u001b[0;34m,\u001b[0m \u001b[0moriginal_y_test\u001b[0m \u001b[0;34m=\u001b[0m \u001b[0mtrain_test_sets\u001b[0m\u001b[0;34m\u001b[0m\u001b[0;34m\u001b[0m\u001b[0m\n\u001b[0;32m---> 96\u001b[0;31m     extra_test_sets_lst = create_stress_testing_sets(original_X_test, original_y_test,\n\u001b[0m\u001b[1;32m     97\u001b[0m                                                      \u001b[0merror_injector\u001b[0m\u001b[0;34m,\u001b[0m \u001b[0minjector_config_lst\u001b[0m\u001b[0;34m,\u001b[0m\u001b[0;34m\u001b[0m\u001b[0;34m\u001b[0m\u001b[0m\n\u001b[1;32m     98\u001b[0m                                                      fitted_column_transformer)\n",
      "\u001b[0;32m~/projects/fairness-variance/source/preprocessing/basic_preprocessing.py\u001b[0m in \u001b[0;36mcreate_stress_testing_sets\u001b[0;34m(original_X_test, original_y_test, error_injector, injector_config_lst, fitted_column_transformer)\u001b[0m\n\u001b[1;32m     84\u001b[0m         \u001b[0mprint\u001b[0m\u001b[0;34m(\u001b[0m\u001b[0;34m'\\n'\u001b[0m\u001b[0;34m)\u001b[0m\u001b[0;34m\u001b[0m\u001b[0;34m\u001b[0m\u001b[0m\n\u001b[1;32m     85\u001b[0m         \u001b[0;32mfor\u001b[0m \u001b[0mcol_name2\u001b[0m \u001b[0;32min\u001b[0m \u001b[0merror_injector\u001b[0m\u001b[0;34m.\u001b[0m\u001b[0mcolumns_to_transform\u001b[0m\u001b[0;34m:\u001b[0m\u001b[0;34m\u001b[0m\u001b[0;34m\u001b[0m\u001b[0m\n\u001b[0;32m---> 86\u001b[0;31m             \u001b[0mnew_outliers\u001b[0m \u001b[0;34m=\u001b[0m \u001b[0mdetect_outliers_std\u001b[0m\u001b[0;34m(\u001b[0m\u001b[0mX_test\u001b[0m\u001b[0;34m,\u001b[0m \u001b[0mtransformed_X_test\u001b[0m\u001b[0;34m,\u001b[0m \u001b[0mcol_name2\u001b[0m\u001b[0;34m)\u001b[0m\u001b[0;34m\u001b[0m\u001b[0;34m\u001b[0m\u001b[0m\n\u001b[0m\u001b[1;32m     87\u001b[0m             \u001b[0mprint\u001b[0m\u001b[0;34m(\u001b[0m\u001b[0;34mf'{col_name2}: {new_outliers.shape[0]}'\u001b[0m\u001b[0;34m)\u001b[0m\u001b[0;34m\u001b[0m\u001b[0;34m\u001b[0m\u001b[0m\n\u001b[1;32m     88\u001b[0m         \u001b[0mprint\u001b[0m\u001b[0;34m(\u001b[0m\u001b[0;34m'\\n'\u001b[0m\u001b[0;34m)\u001b[0m\u001b[0;34m\u001b[0m\u001b[0;34m\u001b[0m\u001b[0m\n",
      "\u001b[0;32m~/projects/fairness-variance/source/utils/common_helpers.py\u001b[0m in \u001b[0;36mdetect_outliers_std\u001b[0;34m(old_df, new_df, column)\u001b[0m\n\u001b[1;32m      4\u001b[0m \u001b[0;32mdef\u001b[0m \u001b[0mdetect_outliers_std\u001b[0m\u001b[0;34m(\u001b[0m\u001b[0mold_df\u001b[0m\u001b[0;34m,\u001b[0m \u001b[0mnew_df\u001b[0m\u001b[0;34m,\u001b[0m \u001b[0mcolumn\u001b[0m\u001b[0;34m)\u001b[0m\u001b[0;34m:\u001b[0m\u001b[0;34m\u001b[0m\u001b[0;34m\u001b[0m\u001b[0m\n\u001b[1;32m      5\u001b[0m     \u001b[0mmean\u001b[0m \u001b[0;34m=\u001b[0m \u001b[0mnp\u001b[0m\u001b[0;34m.\u001b[0m\u001b[0mmean\u001b[0m\u001b[0;34m(\u001b[0m\u001b[0mold_df\u001b[0m\u001b[0;34m[\u001b[0m\u001b[0mcolumn\u001b[0m\u001b[0;34m]\u001b[0m\u001b[0;34m)\u001b[0m\u001b[0;34m\u001b[0m\u001b[0;34m\u001b[0m\u001b[0m\n\u001b[0;32m----> 6\u001b[0;31m     \u001b[0mstd\u001b[0m \u001b[0;34m=\u001b[0m \u001b[0mnp\u001b[0m\u001b[0;34m.\u001b[0m\u001b[0mstd\u001b[0m\u001b[0;34m(\u001b[0m\u001b[0mold_df\u001b[0m\u001b[0;34m[\u001b[0m\u001b[0mcolumn\u001b[0m\u001b[0;34m]\u001b[0m\u001b[0;34m)\u001b[0m\u001b[0;34m\u001b[0m\u001b[0;34m\u001b[0m\u001b[0m\n\u001b[0m\u001b[1;32m      7\u001b[0m     \u001b[0;31m# Flag values as outliers if they are more than 3 stddevs away from the mean\u001b[0m\u001b[0;34m\u001b[0m\u001b[0;34m\u001b[0m\u001b[0;34m\u001b[0m\u001b[0m\n\u001b[1;32m      8\u001b[0m     \u001b[0moutliers\u001b[0m \u001b[0;34m=\u001b[0m \u001b[0mnew_df\u001b[0m\u001b[0;34m[\u001b[0m\u001b[0;34m(\u001b[0m\u001b[0mnew_df\u001b[0m\u001b[0;34m[\u001b[0m\u001b[0mcolumn\u001b[0m\u001b[0;34m]\u001b[0m \u001b[0;34m>\u001b[0m \u001b[0;34m(\u001b[0m\u001b[0mmean\u001b[0m \u001b[0;34m+\u001b[0m \u001b[0;36m3\u001b[0m \u001b[0;34m*\u001b[0m \u001b[0mstd\u001b[0m\u001b[0;34m)\u001b[0m\u001b[0;34m)\u001b[0m \u001b[0;34m|\u001b[0m \u001b[0;34m(\u001b[0m\u001b[0mnew_df\u001b[0m\u001b[0;34m[\u001b[0m\u001b[0mcolumn\u001b[0m\u001b[0;34m]\u001b[0m \u001b[0;34m<\u001b[0m \u001b[0;34m(\u001b[0m\u001b[0mmean\u001b[0m \u001b[0;34m-\u001b[0m \u001b[0;36m3\u001b[0m \u001b[0;34m*\u001b[0m \u001b[0mstd\u001b[0m\u001b[0;34m)\u001b[0m\u001b[0;34m)\u001b[0m\u001b[0;34m]\u001b[0m\u001b[0;34m\u001b[0m\u001b[0;34m\u001b[0m\u001b[0m\n",
      "\u001b[0;32m~/.local/lib/python3.8/site-packages/numpy/core/overrides.py\u001b[0m in \u001b[0;36mstd\u001b[0;34m(*args, **kwargs)\u001b[0m\n",
      "\u001b[0;32m~/.local/lib/python3.8/site-packages/numpy/core/fromnumeric.py\u001b[0m in \u001b[0;36mstd\u001b[0;34m(a, axis, dtype, out, ddof, keepdims, where)\u001b[0m\n\u001b[1;32m   3601\u001b[0m             \u001b[0;32mpass\u001b[0m\u001b[0;34m\u001b[0m\u001b[0;34m\u001b[0m\u001b[0m\n\u001b[1;32m   3602\u001b[0m         \u001b[0;32melse\u001b[0m\u001b[0;34m:\u001b[0m\u001b[0;34m\u001b[0m\u001b[0;34m\u001b[0m\u001b[0m\n\u001b[0;32m-> 3603\u001b[0;31m             \u001b[0;32mreturn\u001b[0m \u001b[0mstd\u001b[0m\u001b[0;34m(\u001b[0m\u001b[0maxis\u001b[0m\u001b[0;34m=\u001b[0m\u001b[0maxis\u001b[0m\u001b[0;34m,\u001b[0m \u001b[0mdtype\u001b[0m\u001b[0;34m=\u001b[0m\u001b[0mdtype\u001b[0m\u001b[0;34m,\u001b[0m \u001b[0mout\u001b[0m\u001b[0;34m=\u001b[0m\u001b[0mout\u001b[0m\u001b[0;34m,\u001b[0m \u001b[0mddof\u001b[0m\u001b[0;34m=\u001b[0m\u001b[0mddof\u001b[0m\u001b[0;34m,\u001b[0m \u001b[0;34m**\u001b[0m\u001b[0mkwargs\u001b[0m\u001b[0;34m)\u001b[0m\u001b[0;34m\u001b[0m\u001b[0;34m\u001b[0m\u001b[0m\n\u001b[0m\u001b[1;32m   3604\u001b[0m \u001b[0;34m\u001b[0m\u001b[0m\n\u001b[1;32m   3605\u001b[0m     return _methods._std(a, axis=axis, dtype=dtype, out=out, ddof=ddof,\n",
      "\u001b[0;32m~/.local/lib/python3.8/site-packages/pandas/core/generic.py\u001b[0m in \u001b[0;36mstd\u001b[0;34m(self, axis, skipna, level, ddof, numeric_only, **kwargs)\u001b[0m\n\u001b[1;32m  11715\u001b[0m             \u001b[0;34m**\u001b[0m\u001b[0mkwargs\u001b[0m\u001b[0;34m,\u001b[0m\u001b[0;34m\u001b[0m\u001b[0;34m\u001b[0m\u001b[0m\n\u001b[1;32m  11716\u001b[0m         ):\n\u001b[0;32m> 11717\u001b[0;31m             \u001b[0;32mreturn\u001b[0m \u001b[0mNDFrame\u001b[0m\u001b[0;34m.\u001b[0m\u001b[0mstd\u001b[0m\u001b[0;34m(\u001b[0m\u001b[0mself\u001b[0m\u001b[0;34m,\u001b[0m \u001b[0maxis\u001b[0m\u001b[0;34m,\u001b[0m \u001b[0mskipna\u001b[0m\u001b[0;34m,\u001b[0m \u001b[0mlevel\u001b[0m\u001b[0;34m,\u001b[0m \u001b[0mddof\u001b[0m\u001b[0;34m,\u001b[0m \u001b[0mnumeric_only\u001b[0m\u001b[0;34m,\u001b[0m \u001b[0;34m**\u001b[0m\u001b[0mkwargs\u001b[0m\u001b[0;34m)\u001b[0m\u001b[0;34m\u001b[0m\u001b[0;34m\u001b[0m\u001b[0m\n\u001b[0m\u001b[1;32m  11718\u001b[0m \u001b[0;34m\u001b[0m\u001b[0m\n\u001b[1;32m  11719\u001b[0m         \u001b[0msetattr\u001b[0m\u001b[0;34m(\u001b[0m\u001b[0mcls\u001b[0m\u001b[0;34m,\u001b[0m \u001b[0;34m\"std\"\u001b[0m\u001b[0;34m,\u001b[0m \u001b[0mstd\u001b[0m\u001b[0;34m)\u001b[0m\u001b[0;34m\u001b[0m\u001b[0;34m\u001b[0m\u001b[0m\n",
      "\u001b[0;32m~/.local/lib/python3.8/site-packages/pandas/core/generic.py\u001b[0m in \u001b[0;36mstd\u001b[0;34m(self, axis, skipna, level, ddof, numeric_only, **kwargs)\u001b[0m\n\u001b[1;32m  11303\u001b[0m         \u001b[0;34m**\u001b[0m\u001b[0mkwargs\u001b[0m\u001b[0;34m,\u001b[0m\u001b[0;34m\u001b[0m\u001b[0;34m\u001b[0m\u001b[0m\n\u001b[1;32m  11304\u001b[0m     ) -> Series | float:\n\u001b[0;32m> 11305\u001b[0;31m         return self._stat_function_ddof(\n\u001b[0m\u001b[1;32m  11306\u001b[0m             \u001b[0;34m\"std\"\u001b[0m\u001b[0;34m,\u001b[0m \u001b[0mnanops\u001b[0m\u001b[0;34m.\u001b[0m\u001b[0mnanstd\u001b[0m\u001b[0;34m,\u001b[0m \u001b[0maxis\u001b[0m\u001b[0;34m,\u001b[0m \u001b[0mskipna\u001b[0m\u001b[0;34m,\u001b[0m \u001b[0mlevel\u001b[0m\u001b[0;34m,\u001b[0m \u001b[0mddof\u001b[0m\u001b[0;34m,\u001b[0m \u001b[0mnumeric_only\u001b[0m\u001b[0;34m,\u001b[0m \u001b[0;34m**\u001b[0m\u001b[0mkwargs\u001b[0m\u001b[0;34m\u001b[0m\u001b[0;34m\u001b[0m\u001b[0m\n\u001b[1;32m  11307\u001b[0m         )\n",
      "\u001b[0;32m~/.local/lib/python3.8/site-packages/pandas/core/generic.py\u001b[0m in \u001b[0;36m_stat_function_ddof\u001b[0;34m(self, name, func, axis, skipna, level, ddof, numeric_only, **kwargs)\u001b[0m\n\u001b[1;32m  11264\u001b[0m                 \u001b[0mname\u001b[0m\u001b[0;34m,\u001b[0m \u001b[0maxis\u001b[0m\u001b[0;34m=\u001b[0m\u001b[0maxis\u001b[0m\u001b[0;34m,\u001b[0m \u001b[0mlevel\u001b[0m\u001b[0;34m=\u001b[0m\u001b[0mlevel\u001b[0m\u001b[0;34m,\u001b[0m \u001b[0mskipna\u001b[0m\u001b[0;34m=\u001b[0m\u001b[0mskipna\u001b[0m\u001b[0;34m,\u001b[0m \u001b[0mddof\u001b[0m\u001b[0;34m=\u001b[0m\u001b[0mddof\u001b[0m\u001b[0;34m\u001b[0m\u001b[0;34m\u001b[0m\u001b[0m\n\u001b[1;32m  11265\u001b[0m             )\n\u001b[0;32m> 11266\u001b[0;31m         return self._reduce(\n\u001b[0m\u001b[1;32m  11267\u001b[0m             \u001b[0mfunc\u001b[0m\u001b[0;34m,\u001b[0m \u001b[0mname\u001b[0m\u001b[0;34m,\u001b[0m \u001b[0maxis\u001b[0m\u001b[0;34m=\u001b[0m\u001b[0maxis\u001b[0m\u001b[0;34m,\u001b[0m \u001b[0mnumeric_only\u001b[0m\u001b[0;34m=\u001b[0m\u001b[0mnumeric_only\u001b[0m\u001b[0;34m,\u001b[0m \u001b[0mskipna\u001b[0m\u001b[0;34m=\u001b[0m\u001b[0mskipna\u001b[0m\u001b[0;34m,\u001b[0m \u001b[0mddof\u001b[0m\u001b[0;34m=\u001b[0m\u001b[0mddof\u001b[0m\u001b[0;34m\u001b[0m\u001b[0;34m\u001b[0m\u001b[0m\n\u001b[1;32m  11268\u001b[0m         )\n",
      "\u001b[0;32m~/.local/lib/python3.8/site-packages/pandas/core/series.py\u001b[0m in \u001b[0;36m_reduce\u001b[0;34m(self, op, name, axis, skipna, numeric_only, filter_type, **kwds)\u001b[0m\n\u001b[1;32m   4814\u001b[0m                 )\n\u001b[1;32m   4815\u001b[0m             \u001b[0;32mwith\u001b[0m \u001b[0mnp\u001b[0m\u001b[0;34m.\u001b[0m\u001b[0merrstate\u001b[0m\u001b[0;34m(\u001b[0m\u001b[0mall\u001b[0m\u001b[0;34m=\u001b[0m\u001b[0;34m\"ignore\"\u001b[0m\u001b[0;34m)\u001b[0m\u001b[0;34m:\u001b[0m\u001b[0;34m\u001b[0m\u001b[0;34m\u001b[0m\u001b[0m\n\u001b[0;32m-> 4816\u001b[0;31m                 \u001b[0;32mreturn\u001b[0m \u001b[0mop\u001b[0m\u001b[0;34m(\u001b[0m\u001b[0mdelegate\u001b[0m\u001b[0;34m,\u001b[0m \u001b[0mskipna\u001b[0m\u001b[0;34m=\u001b[0m\u001b[0mskipna\u001b[0m\u001b[0;34m,\u001b[0m \u001b[0;34m**\u001b[0m\u001b[0mkwds\u001b[0m\u001b[0;34m)\u001b[0m\u001b[0;34m\u001b[0m\u001b[0;34m\u001b[0m\u001b[0m\n\u001b[0m\u001b[1;32m   4817\u001b[0m \u001b[0;34m\u001b[0m\u001b[0m\n\u001b[1;32m   4818\u001b[0m     def _reindex_indexer(\n",
      "\u001b[0;32m~/.local/lib/python3.8/site-packages/pandas/core/nanops.py\u001b[0m in \u001b[0;36mf\u001b[0;34m(values, axis, skipna, **kwds)\u001b[0m\n\u001b[1;32m    153\u001b[0m                     \u001b[0mresult\u001b[0m \u001b[0;34m=\u001b[0m \u001b[0malt\u001b[0m\u001b[0;34m(\u001b[0m\u001b[0mvalues\u001b[0m\u001b[0;34m,\u001b[0m \u001b[0maxis\u001b[0m\u001b[0;34m=\u001b[0m\u001b[0maxis\u001b[0m\u001b[0;34m,\u001b[0m \u001b[0mskipna\u001b[0m\u001b[0;34m=\u001b[0m\u001b[0mskipna\u001b[0m\u001b[0;34m,\u001b[0m \u001b[0;34m**\u001b[0m\u001b[0mkwds\u001b[0m\u001b[0;34m)\u001b[0m\u001b[0;34m\u001b[0m\u001b[0;34m\u001b[0m\u001b[0m\n\u001b[1;32m    154\u001b[0m             \u001b[0;32melse\u001b[0m\u001b[0;34m:\u001b[0m\u001b[0;34m\u001b[0m\u001b[0;34m\u001b[0m\u001b[0m\n\u001b[0;32m--> 155\u001b[0;31m                 \u001b[0mresult\u001b[0m \u001b[0;34m=\u001b[0m \u001b[0malt\u001b[0m\u001b[0;34m(\u001b[0m\u001b[0mvalues\u001b[0m\u001b[0;34m,\u001b[0m \u001b[0maxis\u001b[0m\u001b[0;34m=\u001b[0m\u001b[0maxis\u001b[0m\u001b[0;34m,\u001b[0m \u001b[0mskipna\u001b[0m\u001b[0;34m=\u001b[0m\u001b[0mskipna\u001b[0m\u001b[0;34m,\u001b[0m \u001b[0;34m**\u001b[0m\u001b[0mkwds\u001b[0m\u001b[0;34m)\u001b[0m\u001b[0;34m\u001b[0m\u001b[0;34m\u001b[0m\u001b[0m\n\u001b[0m\u001b[1;32m    156\u001b[0m \u001b[0;34m\u001b[0m\u001b[0m\n\u001b[1;32m    157\u001b[0m             \u001b[0;32mreturn\u001b[0m \u001b[0mresult\u001b[0m\u001b[0;34m\u001b[0m\u001b[0;34m\u001b[0m\u001b[0m\n",
      "\u001b[0;32m~/.local/lib/python3.8/site-packages/pandas/core/nanops.py\u001b[0m in \u001b[0;36mnanstd\u001b[0;34m(values, axis, skipna, ddof, mask)\u001b[0m\n\u001b[1;32m    904\u001b[0m     \u001b[0mvalues\u001b[0m\u001b[0;34m,\u001b[0m \u001b[0mmask\u001b[0m\u001b[0;34m,\u001b[0m \u001b[0m_\u001b[0m\u001b[0;34m,\u001b[0m \u001b[0m_\u001b[0m\u001b[0;34m,\u001b[0m \u001b[0m_\u001b[0m \u001b[0;34m=\u001b[0m \u001b[0m_get_values\u001b[0m\u001b[0;34m(\u001b[0m\u001b[0mvalues\u001b[0m\u001b[0;34m,\u001b[0m \u001b[0mskipna\u001b[0m\u001b[0;34m,\u001b[0m \u001b[0mmask\u001b[0m\u001b[0;34m=\u001b[0m\u001b[0mmask\u001b[0m\u001b[0;34m)\u001b[0m\u001b[0;34m\u001b[0m\u001b[0;34m\u001b[0m\u001b[0m\n\u001b[1;32m    905\u001b[0m \u001b[0;34m\u001b[0m\u001b[0m\n\u001b[0;32m--> 906\u001b[0;31m     \u001b[0mresult\u001b[0m \u001b[0;34m=\u001b[0m \u001b[0mnp\u001b[0m\u001b[0;34m.\u001b[0m\u001b[0msqrt\u001b[0m\u001b[0;34m(\u001b[0m\u001b[0mnanvar\u001b[0m\u001b[0;34m(\u001b[0m\u001b[0mvalues\u001b[0m\u001b[0;34m,\u001b[0m \u001b[0maxis\u001b[0m\u001b[0;34m=\u001b[0m\u001b[0maxis\u001b[0m\u001b[0;34m,\u001b[0m \u001b[0mskipna\u001b[0m\u001b[0;34m=\u001b[0m\u001b[0mskipna\u001b[0m\u001b[0;34m,\u001b[0m \u001b[0mddof\u001b[0m\u001b[0;34m=\u001b[0m\u001b[0mddof\u001b[0m\u001b[0;34m,\u001b[0m \u001b[0mmask\u001b[0m\u001b[0;34m=\u001b[0m\u001b[0mmask\u001b[0m\u001b[0;34m)\u001b[0m\u001b[0;34m)\u001b[0m\u001b[0;34m\u001b[0m\u001b[0;34m\u001b[0m\u001b[0m\n\u001b[0m\u001b[1;32m    907\u001b[0m     \u001b[0;32mreturn\u001b[0m \u001b[0m_wrap_results\u001b[0m\u001b[0;34m(\u001b[0m\u001b[0mresult\u001b[0m\u001b[0;34m,\u001b[0m \u001b[0morig_dtype\u001b[0m\u001b[0;34m)\u001b[0m\u001b[0;34m\u001b[0m\u001b[0;34m\u001b[0m\u001b[0m\n\u001b[1;32m    908\u001b[0m \u001b[0;34m\u001b[0m\u001b[0m\n",
      "\u001b[0;32m~/.local/lib/python3.8/site-packages/pandas/core/nanops.py\u001b[0m in \u001b[0;36m_f\u001b[0;34m(*args, **kwargs)\u001b[0m\n\u001b[1;32m     91\u001b[0m             \u001b[0;32mtry\u001b[0m\u001b[0;34m:\u001b[0m\u001b[0;34m\u001b[0m\u001b[0;34m\u001b[0m\u001b[0m\n\u001b[1;32m     92\u001b[0m                 \u001b[0;32mwith\u001b[0m \u001b[0mnp\u001b[0m\u001b[0;34m.\u001b[0m\u001b[0merrstate\u001b[0m\u001b[0;34m(\u001b[0m\u001b[0minvalid\u001b[0m\u001b[0;34m=\u001b[0m\u001b[0;34m\"ignore\"\u001b[0m\u001b[0;34m)\u001b[0m\u001b[0;34m:\u001b[0m\u001b[0;34m\u001b[0m\u001b[0;34m\u001b[0m\u001b[0m\n\u001b[0;32m---> 93\u001b[0;31m                     \u001b[0;32mreturn\u001b[0m \u001b[0mf\u001b[0m\u001b[0;34m(\u001b[0m\u001b[0;34m*\u001b[0m\u001b[0margs\u001b[0m\u001b[0;34m,\u001b[0m \u001b[0;34m**\u001b[0m\u001b[0mkwargs\u001b[0m\u001b[0;34m)\u001b[0m\u001b[0;34m\u001b[0m\u001b[0;34m\u001b[0m\u001b[0m\n\u001b[0m\u001b[1;32m     94\u001b[0m             \u001b[0;32mexcept\u001b[0m \u001b[0mValueError\u001b[0m \u001b[0;32mas\u001b[0m \u001b[0me\u001b[0m\u001b[0;34m:\u001b[0m\u001b[0;34m\u001b[0m\u001b[0;34m\u001b[0m\u001b[0m\n\u001b[1;32m     95\u001b[0m                 \u001b[0;31m# we want to transform an object array\u001b[0m\u001b[0;34m\u001b[0m\u001b[0;34m\u001b[0m\u001b[0;34m\u001b[0m\u001b[0m\n",
      "\u001b[0;32m~/.local/lib/python3.8/site-packages/pandas/core/nanops.py\u001b[0m in \u001b[0;36mf\u001b[0;34m(values, axis, skipna, **kwds)\u001b[0m\n\u001b[1;32m    153\u001b[0m                     \u001b[0mresult\u001b[0m \u001b[0;34m=\u001b[0m \u001b[0malt\u001b[0m\u001b[0;34m(\u001b[0m\u001b[0mvalues\u001b[0m\u001b[0;34m,\u001b[0m \u001b[0maxis\u001b[0m\u001b[0;34m=\u001b[0m\u001b[0maxis\u001b[0m\u001b[0;34m,\u001b[0m \u001b[0mskipna\u001b[0m\u001b[0;34m=\u001b[0m\u001b[0mskipna\u001b[0m\u001b[0;34m,\u001b[0m \u001b[0;34m**\u001b[0m\u001b[0mkwds\u001b[0m\u001b[0;34m)\u001b[0m\u001b[0;34m\u001b[0m\u001b[0;34m\u001b[0m\u001b[0m\n\u001b[1;32m    154\u001b[0m             \u001b[0;32melse\u001b[0m\u001b[0;34m:\u001b[0m\u001b[0;34m\u001b[0m\u001b[0;34m\u001b[0m\u001b[0m\n\u001b[0;32m--> 155\u001b[0;31m                 \u001b[0mresult\u001b[0m \u001b[0;34m=\u001b[0m \u001b[0malt\u001b[0m\u001b[0;34m(\u001b[0m\u001b[0mvalues\u001b[0m\u001b[0;34m,\u001b[0m \u001b[0maxis\u001b[0m\u001b[0;34m=\u001b[0m\u001b[0maxis\u001b[0m\u001b[0;34m,\u001b[0m \u001b[0mskipna\u001b[0m\u001b[0;34m=\u001b[0m\u001b[0mskipna\u001b[0m\u001b[0;34m,\u001b[0m \u001b[0;34m**\u001b[0m\u001b[0mkwds\u001b[0m\u001b[0;34m)\u001b[0m\u001b[0;34m\u001b[0m\u001b[0;34m\u001b[0m\u001b[0m\n\u001b[0m\u001b[1;32m    156\u001b[0m \u001b[0;34m\u001b[0m\u001b[0m\n\u001b[1;32m    157\u001b[0m             \u001b[0;32mreturn\u001b[0m \u001b[0mresult\u001b[0m\u001b[0;34m\u001b[0m\u001b[0;34m\u001b[0m\u001b[0m\n",
      "\u001b[0;32m~/.local/lib/python3.8/site-packages/pandas/core/nanops.py\u001b[0m in \u001b[0;36mnanvar\u001b[0;34m(values, axis, skipna, ddof, mask)\u001b[0m\n\u001b[1;32m    964\u001b[0m     \u001b[0;32mif\u001b[0m \u001b[0maxis\u001b[0m \u001b[0;32mis\u001b[0m \u001b[0;32mnot\u001b[0m \u001b[0;32mNone\u001b[0m\u001b[0;34m:\u001b[0m\u001b[0;34m\u001b[0m\u001b[0;34m\u001b[0m\u001b[0m\n\u001b[1;32m    965\u001b[0m         \u001b[0mavg\u001b[0m \u001b[0;34m=\u001b[0m \u001b[0mnp\u001b[0m\u001b[0;34m.\u001b[0m\u001b[0mexpand_dims\u001b[0m\u001b[0;34m(\u001b[0m\u001b[0mavg\u001b[0m\u001b[0;34m,\u001b[0m \u001b[0maxis\u001b[0m\u001b[0;34m)\u001b[0m\u001b[0;34m\u001b[0m\u001b[0;34m\u001b[0m\u001b[0m\n\u001b[0;32m--> 966\u001b[0;31m     \u001b[0msqr\u001b[0m \u001b[0;34m=\u001b[0m \u001b[0m_ensure_numeric\u001b[0m\u001b[0;34m(\u001b[0m\u001b[0;34m(\u001b[0m\u001b[0mavg\u001b[0m \u001b[0;34m-\u001b[0m \u001b[0mvalues\u001b[0m\u001b[0;34m)\u001b[0m \u001b[0;34m**\u001b[0m \u001b[0;36m2\u001b[0m\u001b[0;34m)\u001b[0m\u001b[0;34m\u001b[0m\u001b[0;34m\u001b[0m\u001b[0m\n\u001b[0m\u001b[1;32m    967\u001b[0m     \u001b[0;32mif\u001b[0m \u001b[0mmask\u001b[0m \u001b[0;32mis\u001b[0m \u001b[0;32mnot\u001b[0m \u001b[0;32mNone\u001b[0m\u001b[0;34m:\u001b[0m\u001b[0;34m\u001b[0m\u001b[0;34m\u001b[0m\u001b[0m\n\u001b[1;32m    968\u001b[0m         \u001b[0mnp\u001b[0m\u001b[0;34m.\u001b[0m\u001b[0mputmask\u001b[0m\u001b[0;34m(\u001b[0m\u001b[0msqr\u001b[0m\u001b[0;34m,\u001b[0m \u001b[0mmask\u001b[0m\u001b[0;34m,\u001b[0m \u001b[0;36m0\u001b[0m\u001b[0;34m)\u001b[0m\u001b[0;34m\u001b[0m\u001b[0;34m\u001b[0m\u001b[0m\n",
      "\u001b[0;31mTypeError\u001b[0m: unsupported operand type(s) for -: 'float' and 'str'"
     ]
    }
   ],
   "source": [
    "run_exp_iter_with_models_stress_testing(data_loader=exp_iter_data_loader,\n",
    "                                        experiment_seed=experiment_seed,\n",
    "                                        test_set_fraction=TEST_SET_FRACTION,\n",
    "                                        db_writer_func=db_writer_func,\n",
    "                                        error_injector=error_injector,\n",
    "                                        injector_config_lst=INJECTOR_CONFIG_LST,\n",
    "                                        preprocessor=preprocessor,\n",
    "                                        models_params_for_tuning=models_params_for_tuning,\n",
    "                                        metrics_computation_config=metrics_computation_config,\n",
    "                                        custom_table_fields_dct=custom_table_fields_dct,\n",
    "                                        with_tuning=True,\n",
    "                                        tuned_params_df_path=None,\n",
    "#                                         with_tuning=False,\n",
    "#                                         tuned_params_df_path=tuned_params_df_path,\n",
    "                                        save_results_dir_path=SAVE_RESULTS_DIR_PATH,\n",
    "                                        verbose=True)"
   ]
  },
  {
   "cell_type": "markdown",
   "id": "a0a9e58c",
   "metadata": {},
   "source": [
    "### Experiment iteration 2"
   ]
  },
  {
   "cell_type": "code",
   "execution_count": 131,
   "id": "716b2f7b",
   "metadata": {},
   "outputs": [],
   "source": [
    "# Configs for an experiment iteration\n",
    "exp_iter_num = 2\n",
    "experiment_seed = EXPERIMENT_SEEDS[exp_iter_num - 1]\n",
    "tuned_params_filename = 'tuning_results_COMPAS_exp_iter_1_20230425__164903.csv'\n",
    "tuned_params_df_path = os.path.join(SAVE_RESULTS_DIR_PATH, 'models_tuning', tuned_params_filename)\n",
    "custom_table_fields_dct['experiment_iteration'] = f'Exp_iter_{exp_iter_num}'\n",
    "\n",
    "error_injector = RandomNullsInjectorV2(experiment_seed, columns_to_transform=COLUMNS_TO_TRANSFORM, row_idx_nulls_percentage=0.0,\n",
    "                                       max_num_columns_to_effect=MAX_NUM_COLUMNS_TO_EFFECT)\n",
    "models_params_for_tuning = get_folktables_income_models_params_for_tuning(experiment_seed)\n",
    "# Create a transformed data loader\n",
    "exp_iter_data_loader = create_experiment_data_loader(data_loader)\n",
    "exp_iter_data_loader.columns_with_nulls = COLUMNS_TO_TRANSFORM\n",
    "preprocessor = get_null_imputer_preprocessor(exp_iter_data_loader)"
   ]
  },
  {
   "cell_type": "code",
   "execution_count": 132,
   "id": "8855adc6",
   "metadata": {
    "ExecuteTime": {
     "end_time": "2023-04-23T01:13:11.201499Z",
     "start_time": "2023-04-23T01:08:21.665188Z"
    }
   },
   "outputs": [
    {
     "name": "stderr",
     "output_type": "stream",
     "text": [
      "2023-04-23 23:17:11 experiment_interface.py INFO    : Start an experiment iteration for the following custom params:\n"
     ]
    },
    {
     "name": "stdout",
     "output_type": "stream",
     "text": [
      "{'dataset_split_seed': 200,\n",
      " 'error_percentages': '0%,10%,20%,40%,60%,80%,100%',\n",
      " 'error_type': 'Random Nulls',\n",
      " 'experiment_iteration': 'Exp_iter_2',\n",
      " 'injector_config_lst': '[0.1, 0.2, 0.4, 0.6, 0.8, 1.0]',\n",
      " 'model_init_seed': 200,\n",
      " 'preprocessing_technique': 'cat: mode_trimmed_0.3, num: median',\n",
      " 'session_uuid': 'a4febf95-81bf-4aee-9b51-a690d596d5d2'}\n",
      "\n",
      "\n",
      "[CV 2/3; 1/4] START criterion=gini, max_depth=20, max_features=sqrt, min_samples_split=0.1\n",
      "[CV 2/3; 1/4] END criterion=gini, max_depth=20, max_features=sqrt, min_samples_split=0.1; Accuracy_Score: (test=0.747) F1_Score: (test=0.727) total time=   0.1s\n",
      "[CV 1/3; 4/4] START criterion=entropy, max_depth=30, max_features=sqrt, min_samples_split=0.1\n",
      "[CV 1/3; 4/4] END criterion=entropy, max_depth=30, max_features=sqrt, min_samples_split=0.1; Accuracy_Score: (test=0.745) F1_Score: (test=0.729) total time=   0.1s\n",
      "[CV 3/3; 4/4] START criterion=entropy, max_depth=30, max_features=sqrt, min_samples_split=0.1\n",
      "[CV 3/3; 4/4] END criterion=entropy, max_depth=30, max_features=sqrt, min_samples_split=0.1; Accuracy_Score: (test=0.745) F1_Score: (test=0.729) total time=   0.1s\n",
      "[CV 1/3; 2/8] START C=0.0001, max_iter=250, penalty=l2, solver=lbfgs............\n",
      "[CV 1/3; 2/8] END C=0.0001, max_iter=250, penalty=l2, solver=lbfgs; Accuracy_Score: (test=0.714) F1_Score: (test=0.679) total time=   0.4s\n",
      "[CV 1/3; 4/8] START C=0.1, max_iter=250, penalty=l2, solver=lbfgs...............\n",
      "[CV 1/3; 4/8] END C=0.1, max_iter=250, penalty=l2, solver=lbfgs; Accuracy_Score: (test=0.768) F1_Score: (test=0.760) total time=   5.8s\n",
      "[CV 3/3; 6/8] START C=1, max_iter=250, penalty=l2, solver=lbfgs.................\n",
      "[CV 3/3; 6/8] END C=1, max_iter=250, penalty=l2, solver=lbfgs; Accuracy_Score: (test=0.758) F1_Score: (test=0.750) total time=   5.7s\n",
      "[CV 3/3; 7/8] START C=100, max_iter=250, penalty=l2, solver=newton-cg...........\n",
      "[CV 3/3; 7/8] END C=100, max_iter=250, penalty=l2, solver=newton-cg; Accuracy_Score: (test=0.758) F1_Score: (test=0.750) total time=  25.0s\n"
     ]
    },
    {
     "name": "stderr",
     "output_type": "stream",
     "text": [
      "2023-04-23 23:17:13 experiment_interface.py INFO    : The dataset is preprocessed\n"
     ]
    },
    {
     "name": "stdout",
     "output_type": "stream",
     "text": [
      "Top indexes of an X_test in a base flow dataset:  Int64Index([20518, 20570, 38530, 39945,  1713, 19318, 15625, 36291, 26020,\n",
      "            18954,  7039, 40519, 42300,  5620, 39590, 39048, 33565, 18881,\n",
      "            43190,  5750],\n",
      "           dtype='int64')\n",
      "Top indexes of an y_test in a base flow dataset:  Int64Index([20518, 20570, 38530, 39945,  1713, 19318, 15625, 36291, 26020,\n",
      "            18954,  7039, 40519, 42300,  5620, 39590, 39048, 33565, 18881,\n",
      "            43190,  5750],\n",
      "           dtype='int64')\n",
      "transformed_X_test.isnull().sum() --  MAR         42\n",
      "MIL         55\n",
      "ESP         48\n",
      "MIG         51\n",
      "DREM        49\n",
      "NATIVITY    53\n",
      "DIS         65\n",
      "DEAR        70\n",
      "DEYE        62\n",
      "SEX          0\n",
      "RAC1P        0\n",
      "RELP        62\n",
      "CIT         69\n",
      "ANC         65\n",
      "SCHL        52\n",
      "AGEP         0\n",
      "dtype: int64\n",
      "transformed_X_test.isnull().sum() --  MAR         142\n",
      "MIL         156\n",
      "ESP         141\n",
      "MIG         149\n",
      "DREM        152\n",
      "NATIVITY    150\n",
      "DIS         150\n",
      "DEAR        148\n",
      "DEYE        146\n",
      "SEX           0\n",
      "RAC1P         0\n",
      "RELP        162\n",
      "CIT         185\n",
      "ANC         164\n",
      "SCHL        138\n",
      "AGEP          0\n",
      "dtype: int64\n",
      "[CV 2/3; 3/4] START criterion=entropy, max_depth=20, max_features=sqrt, min_samples_split=0.1\n",
      "[CV 2/3; 3/4] END criterion=entropy, max_depth=20, max_features=sqrt, min_samples_split=0.1; Accuracy_Score: (test=0.755) F1_Score: (test=0.737) total time=   0.1s\n",
      "[CV 2/3; 3/8] START C=0.1, max_iter=250, penalty=l2, solver=newton-cg...........\n",
      "[CV 2/3; 3/8] END C=0.1, max_iter=250, penalty=l2, solver=newton-cg; Accuracy_Score: (test=0.776) F1_Score: (test=0.768) total time=   6.4s\n",
      "[CV 1/3; 7/8] START C=100, max_iter=250, penalty=l2, solver=newton-cg...........\n",
      "[CV 1/3; 7/8] END C=100, max_iter=250, penalty=l2, solver=newton-cg; Accuracy_Score: (test=0.769) F1_Score: (test=0.761) total time=  36.4s\n",
      "transformed_X_test.isnull().sum() --  MAR         528\n",
      "MIL         522\n",
      "ESP         526\n",
      "MIG         513\n",
      "DREM        535\n",
      "NATIVITY    521\n",
      "DIS         555\n",
      "DEAR        539\n",
      "DEYE        573\n",
      "SEX           0\n",
      "RAC1P         0\n",
      "RELP        523\n",
      "CIT         558\n",
      "ANC         551\n",
      "SCHL        519\n",
      "AGEP          0\n",
      "dtype: int64\n",
      "transformed_X_test.isnull().sum() --  MAR          989\n",
      "MIL          984\n",
      "ESP         1053\n",
      "MIG         1038\n",
      "DREM        1038\n",
      "NATIVITY    1051\n",
      "DIS         1043\n",
      "DEAR        1049\n",
      "DEYE        1038\n",
      "SEX            0\n",
      "RAC1P          0\n",
      "RELP        1019\n",
      "CIT         1046\n",
      "ANC         1037\n",
      "SCHL         991\n",
      "AGEP           0\n",
      "dtype: int64\n",
      "transformed_X_test.isnull().sum() --  MAR         1830\n",
      "MIL         1845\n",
      "ESP         1845\n",
      "MIG         1844\n",
      "DREM        1871\n",
      "NATIVITY    1873\n",
      "DIS         1822\n",
      "DEAR        1857\n",
      "DEYE        1927\n",
      "SEX            0\n",
      "RAC1P          0\n",
      "RELP        1821\n",
      "CIT         1849\n",
      "ANC         1864\n",
      "SCHL        1823\n",
      "AGEP           0\n",
      "dtype: int64\n",
      "transformed_X_test.isnull().sum() --  MAR         2689\n",
      "MIL         2649\n",
      "ESP         2736\n",
      "MIG         2713\n",
      "DREM        2729\n",
      "NATIVITY    2706\n",
      "DIS         2654\n",
      "DEAR        2697\n",
      "DEYE        2731\n",
      "SEX            0\n",
      "RAC1P          0\n",
      "RELP        2705\n",
      "CIT         2689\n",
      "ANC         2694\n",
      "SCHL        2673\n",
      "AGEP           0\n",
      "dtype: int64\n",
      "2023/04/23, 23:18:37: Tuning DecisionTreeClassifier...\n",
      "Fitting 3 folds for each of 4 candidates, totalling 12 fits\n",
      "2023/04/23, 23:18:38: Tuning for DecisionTreeClassifier is finished [F1 score = 0.7314692777466018, Accuracy = 0.7483333333333334]\n",
      "\n",
      "2023/04/23, 23:18:38: Tuning LogisticRegression...\n",
      "Fitting 3 folds for each of 8 candidates, totalling 24 fits\n"
     ]
    },
    {
     "name": "stderr",
     "output_type": "stream",
     "text": [
      "2023-04-23 23:19:23 experiment_interface.py INFO    : Models are tuned and saved to a file\n"
     ]
    },
    {
     "name": "stdout",
     "output_type": "stream",
     "text": [
      "2023/04/23, 23:19:23: Tuning for LogisticRegression is finished [F1 score = 0.7601191992518244, Accuracy = 0.7677333333333335]\n",
      "\n"
     ]
    },
    {
     "data": {
      "application/vnd.jupyter.widget-view+json": {
       "model_id": "7efc6c3141194490a9ed870797e29f4d",
       "version_major": 2,
       "version_minor": 0
      },
      "text/plain": [
       "Multiple runs progress:   0%|          | 0/2 [00:00<?, ?it/s]"
      ]
     },
     "metadata": {},
     "output_type": "display_data"
    },
    {
     "data": {
      "application/vnd.jupyter.widget-view+json": {
       "model_id": "c02a736c3e0a4b52a3adc095fe05f3a7",
       "version_major": 2,
       "version_minor": 0
      },
      "text/plain": [
       "Analyze models in one run:   0%|          | 0/2 [00:00<?, ?it/s]"
      ]
     },
     "metadata": {},
     "output_type": "display_data"
    },
    {
     "data": {
      "application/vnd.jupyter.widget-view+json": {
       "model_id": "b6dc0479c18146bfa858c06ce036b5e2",
       "version_major": 2,
       "version_minor": 0
      },
      "text/plain": [
       "Classifiers testing by bootstrap:   0%|          | 0/10 [00:00<?, ?it/s]"
      ]
     },
     "metadata": {},
     "output_type": "display_data"
    },
    {
     "data": {
      "application/vnd.jupyter.widget-view+json": {
       "model_id": "4b41d3e71d884cf6a9a3cc004047d2d2",
       "version_major": 2,
       "version_minor": 0
      },
      "text/plain": [
       "Classifiers testing by bootstrap:   0%|          | 0/10 [00:00<?, ?it/s]"
      ]
     },
     "metadata": {},
     "output_type": "display_data"
    },
    {
     "data": {
      "application/vnd.jupyter.widget-view+json": {
       "model_id": "b75d825ba27d4fdb82b2854ce1eae44b",
       "version_major": 2,
       "version_minor": 0
      },
      "text/plain": [
       "Analyze models in one run:   0%|          | 0/2 [00:00<?, ?it/s]"
      ]
     },
     "metadata": {},
     "output_type": "display_data"
    },
    {
     "data": {
      "application/vnd.jupyter.widget-view+json": {
       "model_id": "b2926f806bfe43a5bfd05be09dbef680",
       "version_major": 2,
       "version_minor": 0
      },
      "text/plain": [
       "Classifiers testing by bootstrap:   0%|          | 0/10 [00:00<?, ?it/s]"
      ]
     },
     "metadata": {},
     "output_type": "display_data"
    },
    {
     "data": {
      "application/vnd.jupyter.widget-view+json": {
       "model_id": "ca7de5e9499f4f51a4eb11c8e64a0476",
       "version_major": 2,
       "version_minor": 0
      },
      "text/plain": [
       "Classifiers testing by bootstrap:   0%|          | 0/10 [00:00<?, ?it/s]"
      ]
     },
     "metadata": {},
     "output_type": "display_data"
    }
   ],
   "source": [
    "run_exp_iter_with_models_stress_testing(data_loader=exp_iter_data_loader,\n",
    "                                        experiment_seed=experiment_seed,\n",
    "                                        test_set_fraction=TEST_SET_FRACTION,\n",
    "                                        db_writer_func=db_writer_func,\n",
    "                                        error_injector=error_injector,\n",
    "                                        injector_config_lst=INJECTOR_CONFIG_LST,\n",
    "                                        preprocessor=preprocessor,\n",
    "                                        models_params_for_tuning=models_params_for_tuning,\n",
    "                                        metrics_computation_config=metrics_computation_config,\n",
    "                                        custom_table_fields_dct=custom_table_fields_dct,\n",
    "                                        with_tuning=True,\n",
    "                                        tuned_params_df_path=None,\n",
    "#                                         with_tuning=False,\n",
    "#                                         tuned_params_df_path=tuned_params_df_path,\n",
    "                                        save_results_dir_path=SAVE_RESULTS_DIR_PATH,\n",
    "                                        verbose=True)"
   ]
  },
  {
   "cell_type": "code",
   "execution_count": 54,
   "id": "85f7f31a",
   "metadata": {
    "ExecuteTime": {
     "end_time": "2023-04-22T17:12:09.025575Z",
     "start_time": "2023-04-22T17:12:08.968229Z"
    }
   },
   "outputs": [],
   "source": [
    "# client.close()"
   ]
  },
  {
   "cell_type": "code",
   "execution_count": 54,
   "id": "d650ca7d",
   "metadata": {
    "ExecuteTime": {
     "end_time": "2023-04-22T17:12:09.025679Z",
     "start_time": "2023-04-22T17:12:08.972200Z"
    }
   },
   "outputs": [],
   "source": []
  }
 ],
 "metadata": {
  "kernelspec": {
   "display_name": "Python 3",
   "language": "python",
   "name": "python3"
  },
  "language_info": {
   "codemirror_mode": {
    "name": "ipython",
    "version": 3
   },
   "file_extension": ".py",
   "mimetype": "text/x-python",
   "name": "python",
   "nbconvert_exporter": "python",
   "pygments_lexer": "ipython3",
   "version": "3.8.5"
  }
 },
 "nbformat": 4,
 "nbformat_minor": 5
}
