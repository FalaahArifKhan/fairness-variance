{
 "cells": [
  {
   "cell_type": "code",
   "execution_count": 1,
   "metadata": {
    "collapsed": true
   },
   "outputs": [],
   "source": [
    "%matplotlib inline\n",
    "%load_ext autoreload\n",
    "%autoreload 2"
   ]
  },
  {
   "cell_type": "code",
   "execution_count": 2,
   "outputs": [],
   "source": [
    "import os\n",
    "import warnings\n",
    "warnings.filterwarnings('ignore')\n",
    "os.environ[\"PYTHONWARNINGS\"] = \"ignore\""
   ],
   "metadata": {
    "collapsed": false
   }
  },
  {
   "cell_type": "code",
   "execution_count": 3,
   "outputs": [
    {
     "name": "stdout",
     "output_type": "stream",
     "text": [
      "Current location:  /home/denys_herasymuk/UCU/4course_2term/Bachelor_Thesis/Code/fairness-variance\n"
     ]
    }
   ],
   "source": [
    "cur_folder_name = os.getcwd().split('/')[-1]\n",
    "if cur_folder_name != \"fairness-variance\":\n",
    "    os.chdir(\"../..\")\n",
    "\n",
    "print('Current location: ', os.getcwd())"
   ],
   "metadata": {
    "collapsed": false
   }
  },
  {
   "cell_type": "code",
   "execution_count": 4,
   "outputs": [],
   "source": [
    "import pandas as pd\n",
    "\n",
    "from virny.datasets.data_loaders import CompasDataset, ACSIncomeDataset\n",
    "from virny.utils.protected_groups_partitioning import create_test_protected_groups"
   ],
   "metadata": {
    "collapsed": false
   }
  },
  {
   "cell_type": "markdown",
   "source": [
    "## Folktables Income"
   ],
   "metadata": {
    "collapsed": false
   }
  },
  {
   "cell_type": "code",
   "execution_count": 5,
   "outputs": [],
   "source": [
    "age_range = [i for i in range(30, 46)]\n",
    "sensitive_attributes_dct = {'SEX': '1', 'RAC1P': '1', 'AGEP': age_range, 'SEX & RAC1P': None, 'RAC1P & AGEP': None}"
   ],
   "metadata": {
    "collapsed": false
   }
  },
  {
   "cell_type": "code",
   "execution_count": 6,
   "outputs": [
    {
     "name": "stdout",
     "output_type": "stream",
     "text": [
      "acs_data.head()\n"
     ]
    },
    {
     "data": {
      "text/plain": "    SEX     PINCP\n0     1  279000.0\n1     2   23000.0\n2     2   15100.0\n3     1   31200.0\n4     2    9400.0\n5     1   62000.0\n6     1  106000.0\n7     1   43000.0\n8     2   22000.0\n9     2  100000.0\n10    2   12000.0\n11    1   48000.0\n12    1   71000.0\n13    2   14000.0\n14    1  100000.0\n15    1   58000.0\n16    2   60000.0\n17    2   40000.0\n18    2   12000.0\n19    2   37000.0\n20    1   25800.0\n21    1   94500.0\n22    1    9200.0\n23    2  130000.0\n24    2   24000.0\n25    1   30200.0\n26    1  164500.0\n27    2   33600.0\n28    1   26000.0\n29    2    2000.0\n30    2  140000.0\n31    1   28000.0\n32    2   26900.0\n33    2   30000.0\n34    2    3500.0\n35    1   41300.0\n36    1  195000.0\n37    2   10000.0\n38    2  110040.0\n39    2     400.0\n40    1  386000.0\n41    2   70000.0\n42    1   15000.0\n43    1   20700.0\n44    1   40000.0\n45    1   60000.0\n46    1   30000.0\n47    2   33000.0\n48    1  472500.0\n49    1   70000.0",
      "text/html": "<div>\n<style scoped>\n    .dataframe tbody tr th:only-of-type {\n        vertical-align: middle;\n    }\n\n    .dataframe tbody tr th {\n        vertical-align: top;\n    }\n\n    .dataframe thead th {\n        text-align: right;\n    }\n</style>\n<table border=\"1\" class=\"dataframe\">\n  <thead>\n    <tr style=\"text-align: right;\">\n      <th></th>\n      <th>SEX</th>\n      <th>PINCP</th>\n    </tr>\n  </thead>\n  <tbody>\n    <tr>\n      <th>0</th>\n      <td>1</td>\n      <td>279000.0</td>\n    </tr>\n    <tr>\n      <th>1</th>\n      <td>2</td>\n      <td>23000.0</td>\n    </tr>\n    <tr>\n      <th>2</th>\n      <td>2</td>\n      <td>15100.0</td>\n    </tr>\n    <tr>\n      <th>3</th>\n      <td>1</td>\n      <td>31200.0</td>\n    </tr>\n    <tr>\n      <th>4</th>\n      <td>2</td>\n      <td>9400.0</td>\n    </tr>\n    <tr>\n      <th>5</th>\n      <td>1</td>\n      <td>62000.0</td>\n    </tr>\n    <tr>\n      <th>6</th>\n      <td>1</td>\n      <td>106000.0</td>\n    </tr>\n    <tr>\n      <th>7</th>\n      <td>1</td>\n      <td>43000.0</td>\n    </tr>\n    <tr>\n      <th>8</th>\n      <td>2</td>\n      <td>22000.0</td>\n    </tr>\n    <tr>\n      <th>9</th>\n      <td>2</td>\n      <td>100000.0</td>\n    </tr>\n    <tr>\n      <th>10</th>\n      <td>2</td>\n      <td>12000.0</td>\n    </tr>\n    <tr>\n      <th>11</th>\n      <td>1</td>\n      <td>48000.0</td>\n    </tr>\n    <tr>\n      <th>12</th>\n      <td>1</td>\n      <td>71000.0</td>\n    </tr>\n    <tr>\n      <th>13</th>\n      <td>2</td>\n      <td>14000.0</td>\n    </tr>\n    <tr>\n      <th>14</th>\n      <td>1</td>\n      <td>100000.0</td>\n    </tr>\n    <tr>\n      <th>15</th>\n      <td>1</td>\n      <td>58000.0</td>\n    </tr>\n    <tr>\n      <th>16</th>\n      <td>2</td>\n      <td>60000.0</td>\n    </tr>\n    <tr>\n      <th>17</th>\n      <td>2</td>\n      <td>40000.0</td>\n    </tr>\n    <tr>\n      <th>18</th>\n      <td>2</td>\n      <td>12000.0</td>\n    </tr>\n    <tr>\n      <th>19</th>\n      <td>2</td>\n      <td>37000.0</td>\n    </tr>\n    <tr>\n      <th>20</th>\n      <td>1</td>\n      <td>25800.0</td>\n    </tr>\n    <tr>\n      <th>21</th>\n      <td>1</td>\n      <td>94500.0</td>\n    </tr>\n    <tr>\n      <th>22</th>\n      <td>1</td>\n      <td>9200.0</td>\n    </tr>\n    <tr>\n      <th>23</th>\n      <td>2</td>\n      <td>130000.0</td>\n    </tr>\n    <tr>\n      <th>24</th>\n      <td>2</td>\n      <td>24000.0</td>\n    </tr>\n    <tr>\n      <th>25</th>\n      <td>1</td>\n      <td>30200.0</td>\n    </tr>\n    <tr>\n      <th>26</th>\n      <td>1</td>\n      <td>164500.0</td>\n    </tr>\n    <tr>\n      <th>27</th>\n      <td>2</td>\n      <td>33600.0</td>\n    </tr>\n    <tr>\n      <th>28</th>\n      <td>1</td>\n      <td>26000.0</td>\n    </tr>\n    <tr>\n      <th>29</th>\n      <td>2</td>\n      <td>2000.0</td>\n    </tr>\n    <tr>\n      <th>30</th>\n      <td>2</td>\n      <td>140000.0</td>\n    </tr>\n    <tr>\n      <th>31</th>\n      <td>1</td>\n      <td>28000.0</td>\n    </tr>\n    <tr>\n      <th>32</th>\n      <td>2</td>\n      <td>26900.0</td>\n    </tr>\n    <tr>\n      <th>33</th>\n      <td>2</td>\n      <td>30000.0</td>\n    </tr>\n    <tr>\n      <th>34</th>\n      <td>2</td>\n      <td>3500.0</td>\n    </tr>\n    <tr>\n      <th>35</th>\n      <td>1</td>\n      <td>41300.0</td>\n    </tr>\n    <tr>\n      <th>36</th>\n      <td>1</td>\n      <td>195000.0</td>\n    </tr>\n    <tr>\n      <th>37</th>\n      <td>2</td>\n      <td>10000.0</td>\n    </tr>\n    <tr>\n      <th>38</th>\n      <td>2</td>\n      <td>110040.0</td>\n    </tr>\n    <tr>\n      <th>39</th>\n      <td>2</td>\n      <td>400.0</td>\n    </tr>\n    <tr>\n      <th>40</th>\n      <td>1</td>\n      <td>386000.0</td>\n    </tr>\n    <tr>\n      <th>41</th>\n      <td>2</td>\n      <td>70000.0</td>\n    </tr>\n    <tr>\n      <th>42</th>\n      <td>1</td>\n      <td>15000.0</td>\n    </tr>\n    <tr>\n      <th>43</th>\n      <td>1</td>\n      <td>20700.0</td>\n    </tr>\n    <tr>\n      <th>44</th>\n      <td>1</td>\n      <td>40000.0</td>\n    </tr>\n    <tr>\n      <th>45</th>\n      <td>1</td>\n      <td>60000.0</td>\n    </tr>\n    <tr>\n      <th>46</th>\n      <td>1</td>\n      <td>30000.0</td>\n    </tr>\n    <tr>\n      <th>47</th>\n      <td>2</td>\n      <td>33000.0</td>\n    </tr>\n    <tr>\n      <th>48</th>\n      <td>1</td>\n      <td>472500.0</td>\n    </tr>\n    <tr>\n      <th>49</th>\n      <td>1</td>\n      <td>70000.0</td>\n    </tr>\n  </tbody>\n</table>\n</div>"
     },
     "metadata": {},
     "output_type": "display_data"
    },
    {
     "data": {
      "text/plain": "  SCHL COW MAR  OCCP POBP RELP SEX RAC1P  AGEP  WKHP\n0   23   7   3   230   36    0   1     1    55  55.0\n1   16   1   5  4110   13    2   2     1    20  35.0\n2   16   4   3  4130   51    0   2     1    59  30.0\n3   18   4   1  4020   13    0   1     2    43  40.0\n4   14   1   1  8300   20    1   2     2    33  20.0",
      "text/html": "<div>\n<style scoped>\n    .dataframe tbody tr th:only-of-type {\n        vertical-align: middle;\n    }\n\n    .dataframe tbody tr th {\n        vertical-align: top;\n    }\n\n    .dataframe thead th {\n        text-align: right;\n    }\n</style>\n<table border=\"1\" class=\"dataframe\">\n  <thead>\n    <tr style=\"text-align: right;\">\n      <th></th>\n      <th>SCHL</th>\n      <th>COW</th>\n      <th>MAR</th>\n      <th>OCCP</th>\n      <th>POBP</th>\n      <th>RELP</th>\n      <th>SEX</th>\n      <th>RAC1P</th>\n      <th>AGEP</th>\n      <th>WKHP</th>\n    </tr>\n  </thead>\n  <tbody>\n    <tr>\n      <th>0</th>\n      <td>23</td>\n      <td>7</td>\n      <td>3</td>\n      <td>230</td>\n      <td>36</td>\n      <td>0</td>\n      <td>1</td>\n      <td>1</td>\n      <td>55</td>\n      <td>55.0</td>\n    </tr>\n    <tr>\n      <th>1</th>\n      <td>16</td>\n      <td>1</td>\n      <td>5</td>\n      <td>4110</td>\n      <td>13</td>\n      <td>2</td>\n      <td>2</td>\n      <td>1</td>\n      <td>20</td>\n      <td>35.0</td>\n    </tr>\n    <tr>\n      <th>2</th>\n      <td>16</td>\n      <td>4</td>\n      <td>3</td>\n      <td>4130</td>\n      <td>51</td>\n      <td>0</td>\n      <td>2</td>\n      <td>1</td>\n      <td>59</td>\n      <td>30.0</td>\n    </tr>\n    <tr>\n      <th>3</th>\n      <td>18</td>\n      <td>4</td>\n      <td>1</td>\n      <td>4020</td>\n      <td>13</td>\n      <td>0</td>\n      <td>1</td>\n      <td>2</td>\n      <td>43</td>\n      <td>40.0</td>\n    </tr>\n    <tr>\n      <th>4</th>\n      <td>14</td>\n      <td>1</td>\n      <td>1</td>\n      <td>8300</td>\n      <td>20</td>\n      <td>1</td>\n      <td>2</td>\n      <td>2</td>\n      <td>33</td>\n      <td>20.0</td>\n    </tr>\n  </tbody>\n</table>\n</div>"
     },
     "execution_count": 6,
     "metadata": {},
     "output_type": "execute_result"
    }
   ],
   "source": [
    "data_loader = ACSIncomeDataset(state=['GA'], year=2018, with_nulls=False, subsample_size=20_000, subsample_seed=42)\n",
    "data_loader.full_df.head()"
   ],
   "metadata": {
    "collapsed": false
   }
  },
  {
   "cell_type": "code",
   "execution_count": 7,
   "outputs": [
    {
     "data": {
      "text/plain": "(20000, 10)"
     },
     "execution_count": 7,
     "metadata": {},
     "output_type": "execute_result"
    }
   ],
   "source": [
    "data_loader.full_df.shape"
   ],
   "metadata": {
    "collapsed": false
   }
  },
  {
   "cell_type": "code",
   "execution_count": 8,
   "outputs": [
    {
     "data": {
      "text/plain": "1    10291\n2     9709\nName: SEX, dtype: int64"
     },
     "execution_count": 8,
     "metadata": {},
     "output_type": "execute_result"
    }
   ],
   "source": [
    "data_loader.full_df['SEX'].value_counts()"
   ],
   "metadata": {
    "collapsed": false
   }
  },
  {
   "cell_type": "code",
   "execution_count": 8,
   "outputs": [],
   "source": [],
   "metadata": {
    "collapsed": false
   }
  },
  {
   "cell_type": "code",
   "execution_count": 9,
   "outputs": [],
   "source": [
    "test_protected_groups = create_test_protected_groups(data_loader.X_data, data_loader.X_data, sensitive_attributes_dct)"
   ],
   "metadata": {
    "collapsed": false
   }
  },
  {
   "cell_type": "code",
   "execution_count": 10,
   "outputs": [
    {
     "name": "stdout",
     "output_type": "stream",
     "text": [
      "SEX_priv: 10291\n",
      "SEX_dis: 9709\n",
      "RAC1P_priv: 13535\n",
      "RAC1P_dis: 6465\n",
      "AGEP_priv: 6324\n",
      "AGEP_dis: 13676\n",
      "SEX&RAC1P_priv: 7271\n",
      "SEX&RAC1P_dis: 3445\n",
      "RAC1P&AGEP_priv: 4122\n",
      "RAC1P&AGEP_dis: 4263\n"
     ]
    }
   ],
   "source": [
    "for col_name in test_protected_groups.keys():\n",
    "    print(f'{col_name}: {test_protected_groups[col_name].shape[0]}')"
   ],
   "metadata": {
    "collapsed": false
   }
  },
  {
   "cell_type": "code",
   "execution_count": 11,
   "outputs": [
    {
     "data": {
      "text/plain": "dict_keys(['SEX_priv', 'SEX_dis', 'RAC1P_priv', 'RAC1P_dis', 'AGEP_priv', 'AGEP_dis', 'SEX&RAC1P_priv', 'SEX&RAC1P_dis', 'RAC1P&AGEP_priv', 'RAC1P&AGEP_dis'])"
     },
     "execution_count": 11,
     "metadata": {},
     "output_type": "execute_result"
    }
   ],
   "source": [
    "test_protected_groups.keys()"
   ],
   "metadata": {
    "collapsed": false
   }
  },
  {
   "cell_type": "code",
   "execution_count": 20,
   "outputs": [
    {
     "name": "stdout",
     "output_type": "stream",
     "text": [
      "SEX_priv: 0.515\n",
      "SEX_dis: 0.485\n",
      "RAC1P_priv: 0.677\n",
      "RAC1P_dis: 0.323\n",
      "AGEP_priv: 0.316\n",
      "AGEP_dis: 0.684\n",
      "SEX&RAC1P_priv: 0.364\n",
      "SEX&RAC1P_dis: 0.172\n",
      "RAC1P&AGEP_priv: 0.206\n",
      "RAC1P&AGEP_dis: 0.213\n"
     ]
    }
   ],
   "source": [
    "for col_name in test_protected_groups.keys():\n",
    "    proportion = test_protected_groups[col_name].shape[0] / data_loader.X_data.shape[0]\n",
    "    print(f'{col_name}: {round(proportion, 3)}')"
   ],
   "metadata": {
    "collapsed": false
   }
  },
  {
   "cell_type": "code",
   "execution_count": 21,
   "outputs": [
    {
     "name": "stdout",
     "output_type": "stream",
     "text": [
      "SEX_priv: 0.423\n",
      "SEX_dis: 0.276\n",
      "RAC1P_priv: 0.392\n",
      "RAC1P_dis: 0.267\n",
      "AGEP_priv: 0.386\n",
      "AGEP_dis: 0.336\n",
      "SEX&RAC1P_priv: 0.473\n",
      "SEX&RAC1P_dis: 0.235\n",
      "RAC1P&AGEP_priv: 0.433\n",
      "RAC1P&AGEP_dis: 0.251\n"
     ]
    }
   ],
   "source": [
    "for col_name in test_protected_groups.keys():\n",
    "    filtered_df = data_loader.y_data.iloc[test_protected_groups[col_name].index].copy(deep=True)\n",
    "    base_rate = filtered_df[filtered_df == 1].shape[0] / filtered_df.shape[0]\n",
    "    print(f'{col_name}: {round(base_rate, 3)}')"
   ],
   "metadata": {
    "collapsed": false
   }
  },
  {
   "cell_type": "code",
   "execution_count": 14,
   "outputs": [
    {
     "data": {
      "text/plain": "0    1\n3    0\n5    1\n6    1\n7    0\nName: PINCP, dtype: int64"
     },
     "execution_count": 14,
     "metadata": {},
     "output_type": "execute_result"
    }
   ],
   "source": [
    "data_loader.y_data.iloc[test_protected_groups['SEX_priv'].index].head()"
   ],
   "metadata": {
    "collapsed": false
   }
  },
  {
   "cell_type": "code",
   "execution_count": 15,
   "outputs": [
    {
     "data": {
      "text/plain": "dtype('int64')"
     },
     "execution_count": 15,
     "metadata": {},
     "output_type": "execute_result"
    }
   ],
   "source": [
    "data_loader.y_data.iloc[test_protected_groups['SEX_priv'].index].dtype"
   ],
   "metadata": {
    "collapsed": false
   }
  },
  {
   "cell_type": "code",
   "execution_count": 16,
   "outputs": [],
   "source": [
    "filtered_df = data_loader.y_data.iloc[test_protected_groups['SEX_priv'].index].copy(deep=True)\n",
    "base_rate = filtered_df[filtered_df == 1].shape[0] / filtered_df.shape[0]"
   ],
   "metadata": {
    "collapsed": false
   }
  },
  {
   "cell_type": "code",
   "execution_count": 19,
   "outputs": [
    {
     "data": {
      "text/plain": "0.4230881352638228"
     },
     "execution_count": 19,
     "metadata": {},
     "output_type": "execute_result"
    }
   ],
   "source": [
    "base_rate"
   ],
   "metadata": {
    "collapsed": false
   }
  },
  {
   "cell_type": "code",
   "execution_count": 17,
   "outputs": [
    {
     "data": {
      "text/plain": "4354"
     },
     "execution_count": 17,
     "metadata": {},
     "output_type": "execute_result"
    }
   ],
   "source": [
    "filtered_df[filtered_df == 1].shape[0]"
   ],
   "metadata": {
    "collapsed": false
   }
  },
  {
   "cell_type": "code",
   "execution_count": 18,
   "outputs": [
    {
     "data": {
      "text/plain": "10291"
     },
     "execution_count": 18,
     "metadata": {},
     "output_type": "execute_result"
    }
   ],
   "source": [
    "filtered_df.shape[0]"
   ],
   "metadata": {
    "collapsed": false
   }
  },
  {
   "cell_type": "code",
   "execution_count": 18,
   "outputs": [],
   "source": [],
   "metadata": {
    "collapsed": false
   }
  }
 ],
 "metadata": {
  "kernelspec": {
   "display_name": "Python 3",
   "language": "python",
   "name": "python3"
  },
  "language_info": {
   "codemirror_mode": {
    "name": "ipython",
    "version": 2
   },
   "file_extension": ".py",
   "mimetype": "text/x-python",
   "name": "python",
   "nbconvert_exporter": "python",
   "pygments_lexer": "ipython2",
   "version": "2.7.6"
  }
 },
 "nbformat": 4,
 "nbformat_minor": 0
}
