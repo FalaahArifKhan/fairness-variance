{
 "cells": [
  {
   "cell_type": "code",
   "execution_count": 61,
   "outputs": [],
   "source": [
    "# !pip install -r ../exp_requirements.txt"
   ],
   "metadata": {
    "collapsed": false
   }
  },
  {
   "cell_type": "code",
   "execution_count": 62,
   "outputs": [],
   "source": [
    "# !pip uninstall virny -y"
   ],
   "metadata": {
    "collapsed": false
   }
  },
  {
   "cell_type": "code",
   "execution_count": 63,
   "outputs": [],
   "source": [
    "# Install using an HTTP link\n",
    "# !pip install git+https://github.com/DataResponsibly/Virny.git@development\n",
    "\n",
    "# Install using an SSH link\n",
    "# !pip install git+ssh://git@github.com/DataResponsibly/Virny.git@development"
   ],
   "metadata": {
    "collapsed": false
   }
  },
  {
   "cell_type": "code",
   "execution_count": 64,
   "id": "248cbed8",
   "metadata": {},
   "outputs": [
    {
     "name": "stdout",
     "output_type": "stream",
     "text": [
      "The autoreload extension is already loaded. To reload it, use:\n",
      "  %reload_ext autoreload\n"
     ]
    }
   ],
   "source": [
    "%matplotlib inline\n",
    "%load_ext autoreload\n",
    "%autoreload 2"
   ]
  },
  {
   "cell_type": "code",
   "execution_count": 65,
   "id": "7ec6cd08",
   "metadata": {},
   "outputs": [],
   "source": [
    "import os\n",
    "import warnings\n",
    "warnings.filterwarnings('ignore')\n",
    "os.environ[\"PYTHONWARNINGS\"] = \"ignore\""
   ]
  },
  {
   "cell_type": "markdown",
   "id": "a578f2ab",
   "metadata": {},
   "source": [
    "# COMPAS Dataset With Different Proportions Generation"
   ]
  },
  {
   "cell_type": "markdown",
   "id": "606df34d",
   "metadata": {},
   "source": [
    "## Import dependencies"
   ]
  },
  {
   "cell_type": "code",
   "execution_count": 66,
   "id": "7a9241de",
   "metadata": {},
   "outputs": [],
   "source": [
    "import os\n",
    "\n",
    "from xgboost import XGBClassifier\n",
    "from sklearn.tree import DecisionTreeClassifier\n",
    "from sklearn.linear_model import LogisticRegression\n",
    "from sklearn.ensemble import RandomForestClassifier\n",
    "from sklearn.neighbors import KNeighborsClassifier\n",
    "from sklearn.neural_network import MLPClassifier\n",
    "\n",
    "from virny.utils.custom_initializers import create_config_obj\n",
    "from virny.datasets.data_loaders import CompasDataset\n",
    "\n",
    "from source.generators.sampling import ProportionsGenerator\n",
    "from source.preprocessing import get_null_imputer_preprocessor\n",
    "from source.experiment_interface import run_exp_iteration\n",
    "from source.custom_initializers import create_experiment_data_loader\n",
    "from configs.constants import NUM_METRICS_COMPUTATION_RUNS, EXPERIMENT_SEEDS"
   ]
  },
  {
   "cell_type": "markdown",
   "id": "75699f5f",
   "metadata": {},
   "source": [
    "## Initialize input variables for the experiment"
   ]
  },
  {
   "cell_type": "code",
   "execution_count": 67,
   "outputs": [],
   "source": [
    "ROOT_DIR = os.path.join(os.getcwd(), \"..\", \"..\")\n",
    "EXPERIMENT_NAME = 'diff_proportions'\n",
    "SAVE_RESULTS_DIR_PATH = os.path.join(ROOT_DIR, 'results', EXPERIMENT_NAME)"
   ],
   "metadata": {
    "collapsed": false
   }
  },
  {
   "cell_type": "code",
   "execution_count": 68,
   "outputs": [
    {
     "data": {
      "text/plain": "   age  juv_fel_count  juv_misd_count  juv_other_count  priors_count  \\\n0   25            0.0       -2.340451              1.0    -15.010999   \n1   26            0.0        0.000000              0.0      0.000000   \n2   21            0.0        0.000000              0.0      0.000000   \n3   29            0.0        0.000000              0.0      6.000000   \n4   40            0.0        0.000000              0.0      7.513697   \n\n               race  age_cat_25 - 45  age_cat_Greater than 45  \\\n0  African-American                1                        0   \n1         Caucasian                1                        0   \n2         Caucasian                0                        0   \n3  African-American                1                        0   \n4         Caucasian                1                        0   \n\n   age_cat_Less than 25  c_charge_degree_F  c_charge_degree_M  sex  \n0                     0                  0                  1    1  \n1                     0                  1                  0    0  \n2                     1                  1                  0    1  \n3                     0                  0                  1    1  \n4                     0                  1                  0    1  ",
      "text/html": "<div>\n<style scoped>\n    .dataframe tbody tr th:only-of-type {\n        vertical-align: middle;\n    }\n\n    .dataframe tbody tr th {\n        vertical-align: top;\n    }\n\n    .dataframe thead th {\n        text-align: right;\n    }\n</style>\n<table border=\"1\" class=\"dataframe\">\n  <thead>\n    <tr style=\"text-align: right;\">\n      <th></th>\n      <th>age</th>\n      <th>juv_fel_count</th>\n      <th>juv_misd_count</th>\n      <th>juv_other_count</th>\n      <th>priors_count</th>\n      <th>race</th>\n      <th>age_cat_25 - 45</th>\n      <th>age_cat_Greater than 45</th>\n      <th>age_cat_Less than 25</th>\n      <th>c_charge_degree_F</th>\n      <th>c_charge_degree_M</th>\n      <th>sex</th>\n    </tr>\n  </thead>\n  <tbody>\n    <tr>\n      <th>0</th>\n      <td>25</td>\n      <td>0.0</td>\n      <td>-2.340451</td>\n      <td>1.0</td>\n      <td>-15.010999</td>\n      <td>African-American</td>\n      <td>1</td>\n      <td>0</td>\n      <td>0</td>\n      <td>0</td>\n      <td>1</td>\n      <td>1</td>\n    </tr>\n    <tr>\n      <th>1</th>\n      <td>26</td>\n      <td>0.0</td>\n      <td>0.000000</td>\n      <td>0.0</td>\n      <td>0.000000</td>\n      <td>Caucasian</td>\n      <td>1</td>\n      <td>0</td>\n      <td>0</td>\n      <td>1</td>\n      <td>0</td>\n      <td>0</td>\n    </tr>\n    <tr>\n      <th>2</th>\n      <td>21</td>\n      <td>0.0</td>\n      <td>0.000000</td>\n      <td>0.0</td>\n      <td>0.000000</td>\n      <td>Caucasian</td>\n      <td>0</td>\n      <td>0</td>\n      <td>1</td>\n      <td>1</td>\n      <td>0</td>\n      <td>1</td>\n    </tr>\n    <tr>\n      <th>3</th>\n      <td>29</td>\n      <td>0.0</td>\n      <td>0.000000</td>\n      <td>0.0</td>\n      <td>6.000000</td>\n      <td>African-American</td>\n      <td>1</td>\n      <td>0</td>\n      <td>0</td>\n      <td>0</td>\n      <td>1</td>\n      <td>1</td>\n    </tr>\n    <tr>\n      <th>4</th>\n      <td>40</td>\n      <td>0.0</td>\n      <td>0.000000</td>\n      <td>0.0</td>\n      <td>7.513697</td>\n      <td>Caucasian</td>\n      <td>1</td>\n      <td>0</td>\n      <td>0</td>\n      <td>1</td>\n      <td>0</td>\n      <td>1</td>\n    </tr>\n  </tbody>\n</table>\n</div>"
     },
     "execution_count": 68,
     "metadata": {},
     "output_type": "execute_result"
    }
   ],
   "source": [
    "data_loader = CompasDataset()\n",
    "data_loader.X_data.head()"
   ],
   "metadata": {
    "collapsed": false
   }
  },
  {
   "cell_type": "code",
   "execution_count": 69,
   "outputs": [
    {
     "data": {
      "text/plain": "age                        0\njuv_fel_count              0\njuv_misd_count             0\njuv_other_count            0\npriors_count               0\nage_cat_25 - 45            0\nage_cat_Greater than 45    0\nage_cat_Less than 25       0\nc_charge_degree_F          0\nc_charge_degree_M          0\nrace                       0\nsex                        0\nrecidivism                 0\ndtype: int64"
     },
     "execution_count": 69,
     "metadata": {},
     "output_type": "execute_result"
    }
   ],
   "source": [
    "data_loader.full_df.isna().sum()"
   ],
   "metadata": {
    "collapsed": false
   }
  },
  {
   "cell_type": "code",
   "execution_count": 70,
   "outputs": [
    {
     "data": {
      "text/plain": "African-American    3175\nCaucasian           2103\nName: race, dtype: int64"
     },
     "execution_count": 70,
     "metadata": {},
     "output_type": "execute_result"
    }
   ],
   "source": [
    "data_loader.X_data.race.value_counts()"
   ],
   "metadata": {
    "collapsed": false
   }
  },
  {
   "cell_type": "markdown",
   "source": [
    "### Define a db writer and custom fields to insert into your database"
   ],
   "metadata": {
    "collapsed": false
   }
  },
  {
   "cell_type": "code",
   "execution_count": 71,
   "outputs": [
    {
     "name": "stdout",
     "output_type": "stream",
     "text": [
      "Current session uuid:  4c5b84eb-f720-4314-97a1-8a8924432c51\n"
     ]
    }
   ],
   "source": [
    "import uuid\n",
    "\n",
    "custom_table_fields_dct = {\n",
    "    'session_uuid': str(uuid.uuid4()),\n",
    "    'new_proportions_dct': None,\n",
    "}\n",
    "print('Current session uuid: ', custom_table_fields_dct['session_uuid'])"
   ],
   "metadata": {
    "collapsed": false
   }
  },
  {
   "cell_type": "markdown",
   "source": [
    "### Create a metrics computation config object"
   ],
   "metadata": {
    "collapsed": false
   }
  },
  {
   "cell_type": "code",
   "execution_count": 72,
   "outputs": [],
   "source": [
    "config_yaml_path = 'experiment_config.yaml'\n",
    "config_yaml_content = \\\n",
    "f\"\"\"\n",
    "dataset_name: COMPAS\n",
    "bootstrap_fraction: 0.8\n",
    "# n_estimators: 50\n",
    "n_estimators: 10\n",
    "# num_runs: {NUM_METRICS_COMPUTATION_RUNS}\n",
    "num_runs: 2\n",
    "sensitive_attributes_dct: {{'sex': 0, 'race': 'Caucasian', 'sex&race': None}}\n",
    "\"\"\"\n",
    "\n",
    "with open(config_yaml_path, 'w', encoding='utf-8') as f:\n",
    "    f.write(config_yaml_content)"
   ],
   "metadata": {
    "collapsed": false
   }
  },
  {
   "cell_type": "code",
   "execution_count": 73,
   "outputs": [],
   "source": [
    "metrics_computation_config = create_config_obj(config_yaml_path=config_yaml_path)"
   ],
   "metadata": {
    "collapsed": false
   }
  },
  {
   "cell_type": "markdown",
   "source": [
    "### Define tuning parameter for models"
   ],
   "metadata": {
    "collapsed": false
   }
  },
  {
   "cell_type": "code",
   "execution_count": 74,
   "outputs": [],
   "source": [
    "def get_models_params_for_tuning(models_tuning_seed):\n",
    "    return {\n",
    "        'DecisionTreeClassifier': {\n",
    "            'model': DecisionTreeClassifier(random_state=models_tuning_seed),\n",
    "            'params': {\n",
    "                \"max_depth\": [20, 30],\n",
    "                \"min_samples_split\" : [0.1],\n",
    "                \"max_features\": ['sqrt'],\n",
    "                \"criterion\": [\"gini\", \"entropy\"]\n",
    "            }\n",
    "        },\n",
    "        'LogisticRegression': {\n",
    "            'model': LogisticRegression(random_state=models_tuning_seed),\n",
    "            'params': {\n",
    "                'penalty': ['l2'],\n",
    "                'C' : [0.0001, 0.1, 1, 100],\n",
    "                'solver': ['newton-cg', 'lbfgs'],\n",
    "                'max_iter': [250],\n",
    "            }\n",
    "        },\n",
    "        # 'RandomForestClassifier': {\n",
    "        #     'model': RandomForestClassifier(random_state=models_tuning_seed),\n",
    "        #     'params': {\n",
    "        #         \"max_depth\": [6, 10],\n",
    "        #         \"min_samples_leaf\": [1],\n",
    "        #         \"n_estimators\": [50, 100],\n",
    "        #         \"max_features\": [0.6]\n",
    "        #     }\n",
    "        # },\n",
    "        # 'XGBClassifier': {\n",
    "        #     'model': XGBClassifier(random_state=models_tuning_seed, verbosity=0),\n",
    "        #     'params': {\n",
    "        #         'learning_rate': [0.1],\n",
    "        #         'n_estimators': [200],\n",
    "        #         'max_depth': [5, 7],\n",
    "        #         'lambda':  [10, 100]\n",
    "        #     }\n",
    "        # },\n",
    "        # 'KNeighborsClassifier': {\n",
    "        #     'model': KNeighborsClassifier(),\n",
    "        #     'params': {\n",
    "        #         'n_neighbors' : [5, 7, 9, 11, 13, 15, 25],\n",
    "        #         'weights' : ['uniform', 'distance'],\n",
    "        #         'metric' : ['minkowski', 'euclidean', 'manhattan']\n",
    "        #     }\n",
    "        # },\n",
    "        # 'MLPClassifier': {\n",
    "        #     'model': MLPClassifier(random_state=models_tuning_seed),\n",
    "        #     'params': {\n",
    "        #         'hidden_layer_sizes':[(100,), (100,100,), (100,50,100,)],\n",
    "        #         'activation': ['logistic', 'tanh', 'relu'],\n",
    "        #         'solver': ['lbfgs', 'sgd', 'adam'],\n",
    "        #         'learning_rate': ['constant', 'invscaling', 'adaptive']\n",
    "        #     }\n",
    "        # }\n",
    "    }"
   ],
   "metadata": {
    "collapsed": false
   }
  },
  {
   "cell_type": "markdown",
   "source": [
    "## Run experiments"
   ],
   "metadata": {
    "collapsed": false
   }
  },
  {
   "cell_type": "markdown",
   "source": [
    "### Experiment iteration 1"
   ],
   "metadata": {
    "collapsed": false
   }
  },
  {
   "cell_type": "code",
   "execution_count": 75,
   "outputs": [],
   "source": [
    "# Configs for an experiment iteration\n",
    "exp_iter_num = 1\n",
    "column_for_subsampling = 'race'\n",
    "new_proportions_dct = {\n",
    "    'African-American': 0.5,\n",
    "    'Caucasian': 0.5,\n",
    "}\n",
    "experiment_seed = EXPERIMENT_SEEDS[exp_iter_num - 1]\n",
    "generator = ProportionsGenerator(experiment_seed, column_for_subsampling, new_proportions_dct)\n",
    "\n",
    "custom_table_fields_dct['new_proportions_dct'] = new_proportions_dct\n",
    "custom_table_fields_dct['experiment_iteration'] = f'Exp_iter_{exp_iter_num}'\n",
    "models_params_for_tuning = get_models_params_for_tuning(experiment_seed)\n",
    "# Create a transformed data loader\n",
    "exp_iter_data_loader = create_experiment_data_loader(data_loader, generator)\n",
    "# preprocessor = get_null_imputer_preprocessor(exp_iter_data_loader)"
   ],
   "metadata": {
    "collapsed": false
   }
  },
  {
   "cell_type": "code",
   "execution_count": 76,
   "outputs": [
    {
     "data": {
      "text/plain": "African-American    3175\nCaucasian           2103\nName: race, dtype: int64"
     },
     "execution_count": 76,
     "metadata": {},
     "output_type": "execute_result"
    }
   ],
   "source": [
    "from sklearn.compose import ColumnTransformer\n",
    "from sklearn.preprocessing import OneHotEncoder\n",
    "from sklearn.preprocessing import StandardScaler\n",
    "\n",
    "\n",
    "preprocessor = ColumnTransformer(transformers=[\n",
    "    ('categorical_features', OneHotEncoder(handle_unknown='ignore', sparse=False), exp_iter_data_loader.categorical_columns),\n",
    "    ('numerical_features', StandardScaler(), exp_iter_data_loader.numerical_columns),\n",
    "])"
   ],
   "metadata": {
    "collapsed": false
   }
  },
  {
   "cell_type": "code",
   "execution_count": 77,
   "outputs": [
    {
     "data": {
      "text/plain": "African-American    2103\nCaucasian           2103\nName: race, dtype: int64"
     },
     "execution_count": 77,
     "metadata": {},
     "output_type": "execute_result"
    }
   ],
   "source": [
    "exp_iter_data_loader.X_data[column_for_subsampling].value_counts()"
   ],
   "metadata": {
    "collapsed": false
   }
  },
  {
   "cell_type": "code",
   "execution_count": 78,
   "outputs": [
    {
     "name": "stderr",
     "output_type": "stream",
     "text": [
      "2023-04-08 14:26:29 experiment_interface.py INFO    : Start an experiment iteration for the following custom params:\n",
      "2023-04-08 14:26:30 experiment_interface.py INFO    : The dataset is preprocessed\n"
     ]
    },
    {
     "name": "stdout",
     "output_type": "stream",
     "text": [
      "{'dataset_split_seed': 100,\n",
      " 'experiment_iteration': 'Exp_iter_1',\n",
      " 'model_init_seed': 100,\n",
      " 'new_proportions_dct': {'African-American': 0.5, 'Caucasian': 0.5},\n",
      " 'session_uuid': '4c5b84eb-f720-4314-97a1-8a8924432c51'}\n",
      "\n",
      "\n",
      "2023/04/08, 14:26:30: Tuning DecisionTreeClassifier...\n",
      "Fitting 3 folds for each of 4 candidates, totalling 12 fits\n",
      "2023/04/08, 14:26:30: Tuning for DecisionTreeClassifier is finished [F1 score = 0.6494160498115268, Accuracy = 0.6591448931116389]\n",
      "\n",
      "2023/04/08, 14:26:30: Tuning LogisticRegression...\n",
      "Fitting 3 folds for each of 8 candidates, totalling 24 fits\n"
     ]
    },
    {
     "name": "stderr",
     "output_type": "stream",
     "text": [
      "2023-04-08 14:26:30 experiment_interface.py INFO    : Models are tuned and saved to a file\n",
      "2023-04-08 14:26:30 experiment_interface.py INFO    : Connected to MongoDB\n"
     ]
    },
    {
     "name": "stdout",
     "output_type": "stream",
     "text": [
      "2023/04/08, 14:26:30: Tuning for LogisticRegression is finished [F1 score = 0.6593012815786539, Accuracy = 0.668646080760095]\n",
      "\n"
     ]
    },
    {
     "data": {
      "text/plain": "Multiple runs progress:   0%|          | 0/2 [00:00<?, ?it/s]",
      "application/vnd.jupyter.widget-view+json": {
       "version_major": 2,
       "version_minor": 0,
       "model_id": "1244ba98d9174ec9a3b3e1036a0c23fb"
      }
     },
     "metadata": {},
     "output_type": "display_data"
    },
    {
     "data": {
      "text/plain": "Analyze models in one run:   0%|          | 0/2 [00:00<?, ?it/s]",
      "application/vnd.jupyter.widget-view+json": {
       "version_major": 2,
       "version_minor": 0,
       "model_id": "01b0c9b48a5f4e60b1953ea285636221"
      }
     },
     "metadata": {},
     "output_type": "display_data"
    },
    {
     "data": {
      "text/plain": "Classifiers testing by bootstrap:   0%|          | 0/10 [00:00<?, ?it/s]",
      "application/vnd.jupyter.widget-view+json": {
       "version_major": 2,
       "version_minor": 0,
       "model_id": "23827a155e794fbb9bba2dc6f76738df"
      }
     },
     "metadata": {},
     "output_type": "display_data"
    },
    {
     "data": {
      "text/plain": "Classifiers testing by bootstrap:   0%|          | 0/10 [00:00<?, ?it/s]",
      "application/vnd.jupyter.widget-view+json": {
       "version_major": 2,
       "version_minor": 0,
       "model_id": "3d86491e12564c9eae9a70adcce7f374"
      }
     },
     "metadata": {},
     "output_type": "display_data"
    },
    {
     "data": {
      "text/plain": "Analyze models in one run:   0%|          | 0/2 [00:00<?, ?it/s]",
      "application/vnd.jupyter.widget-view+json": {
       "version_major": 2,
       "version_minor": 0,
       "model_id": "4a55688e60814bac8088d82b631c837e"
      }
     },
     "metadata": {},
     "output_type": "display_data"
    },
    {
     "data": {
      "text/plain": "Classifiers testing by bootstrap:   0%|          | 0/10 [00:00<?, ?it/s]",
      "application/vnd.jupyter.widget-view+json": {
       "version_major": 2,
       "version_minor": 0,
       "model_id": "4ffb34b084b245c794dda4cce679c54b"
      }
     },
     "metadata": {},
     "output_type": "display_data"
    },
    {
     "data": {
      "text/plain": "Classifiers testing by bootstrap:   0%|          | 0/10 [00:00<?, ?it/s]",
      "application/vnd.jupyter.widget-view+json": {
       "version_major": 2,
       "version_minor": 0,
       "model_id": "89d998c2cb6a4dd19be99fe2a7484bc8"
      }
     },
     "metadata": {},
     "output_type": "display_data"
    }
   ],
   "source": [
    "exp_iter_data_loader.X_data[column_for_subsampling].value_counts()"
   ],
   "metadata": {
    "collapsed": false
   }
  },
  {
   "cell_type": "code",
   "execution_count": 79,
   "outputs": [
    {
     "data": {
      "text/plain": "                 Metric   overall  sex_priv   sex_dis  race_priv  race_dis  \\\n0                  Mean  0.549036  0.611194  0.531290   0.598277  0.499325   \n1                   Std  0.105445  0.118112  0.101828   0.099041  0.111909   \n2                   IQR  0.136486  0.154499  0.131344   0.128274  0.144777   \n3               Entropy  0.000000  0.312711  0.000000   0.209328  0.000000   \n4                Jitter  0.210583  0.229115  0.205293   0.154242  0.267462   \n5   Per_Sample_Accuracy  0.646200  0.638503  0.648397   0.669504  0.622673   \n6       Label_Stability  0.707601  0.691979  0.712061   0.793853  0.620525   \n7                   TPR  0.497268  0.388889  0.523810   0.352201  0.608696   \n8                   TNR  0.806723  0.869565  0.786704   0.863636  0.735849   \n9                   PPV  0.664234  0.651163  0.666667   0.608696  0.692308   \n10                  FNR  0.502732  0.611111  0.476190   0.647799  0.391304   \n11                  FPR  0.193277  0.130435  0.213296   0.136364  0.264151   \n12             Accuracy  0.672209  0.684492  0.668702   0.671395  0.673031   \n13                   F1  0.568750  0.486957  0.586667   0.446215  0.647815   \n14       Selection-Rate  0.325416  0.229947  0.352672   0.217494  0.434368   \n15        Positive-Rate  0.748634  0.597222  0.785714   0.578616  0.879227   \n0                  Mean  0.544995  0.602160  0.528675   0.591069  0.498483   \n1                   Std  0.104150  0.119495  0.099769   0.100659  0.107674   \n2                   IQR  0.124668  0.141224  0.119941   0.115304  0.134121   \n3               Entropy  0.000000  0.344171  0.000000   0.271019  0.000000   \n\n    sex&race_priv  sex&race_dis  Model_Seed              Model_Name  \\\n0        0.650081      0.483727         101  DecisionTreeClassifier   \n1        0.109967      0.107856         101  DecisionTreeClassifier   \n2        0.146269      0.139828         101  DecisionTreeClassifier   \n3        0.227392      0.000000         101  DecisionTreeClassifier   \n4        0.167094      0.257738         101  DecisionTreeClassifier   \n5        0.630769      0.616369         101  DecisionTreeClassifier   \n6        0.776923      0.629167         101  DecisionTreeClassifier   \n7        0.205128      0.609195         101  DecisionTreeClassifier   \n8        0.907692      0.709877         101  DecisionTreeClassifier   \n9        0.571429      0.692810         101  DecisionTreeClassifier   \n10       0.794872      0.390805         101  DecisionTreeClassifier   \n11       0.092308      0.290123         101  DecisionTreeClassifier   \n12       0.644231      0.657738         101  DecisionTreeClassifier   \n13       0.301887      0.648318         101  DecisionTreeClassifier   \n14       0.134615      0.455357         101  DecisionTreeClassifier   \n15       0.358974      0.879310         101  DecisionTreeClassifier   \n0        0.640902      0.484863         102  DecisionTreeClassifier   \n1        0.112851      0.102698         102  DecisionTreeClassifier   \n2        0.128068      0.128294         102  DecisionTreeClassifier   \n3        0.290786      0.000000         102  DecisionTreeClassifier   \n\n                                         Model_Params Run_Number Dataset_Name  \\\n0   {'ccp_alpha': 0.0, 'class_weight': None, 'crit...      Run_1       COMPAS   \n1   {'ccp_alpha': 0.0, 'class_weight': None, 'crit...      Run_1       COMPAS   \n2   {'ccp_alpha': 0.0, 'class_weight': None, 'crit...      Run_1       COMPAS   \n3   {'ccp_alpha': 0.0, 'class_weight': None, 'crit...      Run_1       COMPAS   \n4   {'ccp_alpha': 0.0, 'class_weight': None, 'crit...      Run_1       COMPAS   \n5   {'ccp_alpha': 0.0, 'class_weight': None, 'crit...      Run_1       COMPAS   \n6   {'ccp_alpha': 0.0, 'class_weight': None, 'crit...      Run_1       COMPAS   \n7   {'ccp_alpha': 0.0, 'class_weight': None, 'crit...      Run_1       COMPAS   \n8   {'ccp_alpha': 0.0, 'class_weight': None, 'crit...      Run_1       COMPAS   \n9   {'ccp_alpha': 0.0, 'class_weight': None, 'crit...      Run_1       COMPAS   \n10  {'ccp_alpha': 0.0, 'class_weight': None, 'crit...      Run_1       COMPAS   \n11  {'ccp_alpha': 0.0, 'class_weight': None, 'crit...      Run_1       COMPAS   \n12  {'ccp_alpha': 0.0, 'class_weight': None, 'crit...      Run_1       COMPAS   \n13  {'ccp_alpha': 0.0, 'class_weight': None, 'crit...      Run_1       COMPAS   \n14  {'ccp_alpha': 0.0, 'class_weight': None, 'crit...      Run_1       COMPAS   \n15  {'ccp_alpha': 0.0, 'class_weight': None, 'crit...      Run_1       COMPAS   \n0   {'ccp_alpha': 0.0, 'class_weight': None, 'crit...      Run_2       COMPAS   \n1   {'ccp_alpha': 0.0, 'class_weight': None, 'crit...      Run_2       COMPAS   \n2   {'ccp_alpha': 0.0, 'class_weight': None, 'crit...      Run_2       COMPAS   \n3   {'ccp_alpha': 0.0, 'class_weight': None, 'crit...      Run_2       COMPAS   \n\n    Num_Estimators  \n0               10  \n1               10  \n2               10  \n3               10  \n4               10  \n5               10  \n6               10  \n7               10  \n8               10  \n9               10  \n10              10  \n11              10  \n12              10  \n13              10  \n14              10  \n15              10  \n0               10  \n1               10  \n2               10  \n3               10  ",
      "text/html": "<div>\n<style scoped>\n    .dataframe tbody tr th:only-of-type {\n        vertical-align: middle;\n    }\n\n    .dataframe tbody tr th {\n        vertical-align: top;\n    }\n\n    .dataframe thead th {\n        text-align: right;\n    }\n</style>\n<table border=\"1\" class=\"dataframe\">\n  <thead>\n    <tr style=\"text-align: right;\">\n      <th></th>\n      <th>Metric</th>\n      <th>overall</th>\n      <th>sex_priv</th>\n      <th>sex_dis</th>\n      <th>race_priv</th>\n      <th>race_dis</th>\n      <th>sex&amp;race_priv</th>\n      <th>sex&amp;race_dis</th>\n      <th>Model_Seed</th>\n      <th>Model_Name</th>\n      <th>Model_Params</th>\n      <th>Run_Number</th>\n      <th>Dataset_Name</th>\n      <th>Num_Estimators</th>\n    </tr>\n  </thead>\n  <tbody>\n    <tr>\n      <th>0</th>\n      <td>Mean</td>\n      <td>0.549036</td>\n      <td>0.611194</td>\n      <td>0.531290</td>\n      <td>0.598277</td>\n      <td>0.499325</td>\n      <td>0.650081</td>\n      <td>0.483727</td>\n      <td>101</td>\n      <td>DecisionTreeClassifier</td>\n      <td>{'ccp_alpha': 0.0, 'class_weight': None, 'crit...</td>\n      <td>Run_1</td>\n      <td>COMPAS</td>\n      <td>10</td>\n    </tr>\n    <tr>\n      <th>1</th>\n      <td>Std</td>\n      <td>0.105445</td>\n      <td>0.118112</td>\n      <td>0.101828</td>\n      <td>0.099041</td>\n      <td>0.111909</td>\n      <td>0.109967</td>\n      <td>0.107856</td>\n      <td>101</td>\n      <td>DecisionTreeClassifier</td>\n      <td>{'ccp_alpha': 0.0, 'class_weight': None, 'crit...</td>\n      <td>Run_1</td>\n      <td>COMPAS</td>\n      <td>10</td>\n    </tr>\n    <tr>\n      <th>2</th>\n      <td>IQR</td>\n      <td>0.136486</td>\n      <td>0.154499</td>\n      <td>0.131344</td>\n      <td>0.128274</td>\n      <td>0.144777</td>\n      <td>0.146269</td>\n      <td>0.139828</td>\n      <td>101</td>\n      <td>DecisionTreeClassifier</td>\n      <td>{'ccp_alpha': 0.0, 'class_weight': None, 'crit...</td>\n      <td>Run_1</td>\n      <td>COMPAS</td>\n      <td>10</td>\n    </tr>\n    <tr>\n      <th>3</th>\n      <td>Entropy</td>\n      <td>0.000000</td>\n      <td>0.312711</td>\n      <td>0.000000</td>\n      <td>0.209328</td>\n      <td>0.000000</td>\n      <td>0.227392</td>\n      <td>0.000000</td>\n      <td>101</td>\n      <td>DecisionTreeClassifier</td>\n      <td>{'ccp_alpha': 0.0, 'class_weight': None, 'crit...</td>\n      <td>Run_1</td>\n      <td>COMPAS</td>\n      <td>10</td>\n    </tr>\n    <tr>\n      <th>4</th>\n      <td>Jitter</td>\n      <td>0.210583</td>\n      <td>0.229115</td>\n      <td>0.205293</td>\n      <td>0.154242</td>\n      <td>0.267462</td>\n      <td>0.167094</td>\n      <td>0.257738</td>\n      <td>101</td>\n      <td>DecisionTreeClassifier</td>\n      <td>{'ccp_alpha': 0.0, 'class_weight': None, 'crit...</td>\n      <td>Run_1</td>\n      <td>COMPAS</td>\n      <td>10</td>\n    </tr>\n    <tr>\n      <th>5</th>\n      <td>Per_Sample_Accuracy</td>\n      <td>0.646200</td>\n      <td>0.638503</td>\n      <td>0.648397</td>\n      <td>0.669504</td>\n      <td>0.622673</td>\n      <td>0.630769</td>\n      <td>0.616369</td>\n      <td>101</td>\n      <td>DecisionTreeClassifier</td>\n      <td>{'ccp_alpha': 0.0, 'class_weight': None, 'crit...</td>\n      <td>Run_1</td>\n      <td>COMPAS</td>\n      <td>10</td>\n    </tr>\n    <tr>\n      <th>6</th>\n      <td>Label_Stability</td>\n      <td>0.707601</td>\n      <td>0.691979</td>\n      <td>0.712061</td>\n      <td>0.793853</td>\n      <td>0.620525</td>\n      <td>0.776923</td>\n      <td>0.629167</td>\n      <td>101</td>\n      <td>DecisionTreeClassifier</td>\n      <td>{'ccp_alpha': 0.0, 'class_weight': None, 'crit...</td>\n      <td>Run_1</td>\n      <td>COMPAS</td>\n      <td>10</td>\n    </tr>\n    <tr>\n      <th>7</th>\n      <td>TPR</td>\n      <td>0.497268</td>\n      <td>0.388889</td>\n      <td>0.523810</td>\n      <td>0.352201</td>\n      <td>0.608696</td>\n      <td>0.205128</td>\n      <td>0.609195</td>\n      <td>101</td>\n      <td>DecisionTreeClassifier</td>\n      <td>{'ccp_alpha': 0.0, 'class_weight': None, 'crit...</td>\n      <td>Run_1</td>\n      <td>COMPAS</td>\n      <td>10</td>\n    </tr>\n    <tr>\n      <th>8</th>\n      <td>TNR</td>\n      <td>0.806723</td>\n      <td>0.869565</td>\n      <td>0.786704</td>\n      <td>0.863636</td>\n      <td>0.735849</td>\n      <td>0.907692</td>\n      <td>0.709877</td>\n      <td>101</td>\n      <td>DecisionTreeClassifier</td>\n      <td>{'ccp_alpha': 0.0, 'class_weight': None, 'crit...</td>\n      <td>Run_1</td>\n      <td>COMPAS</td>\n      <td>10</td>\n    </tr>\n    <tr>\n      <th>9</th>\n      <td>PPV</td>\n      <td>0.664234</td>\n      <td>0.651163</td>\n      <td>0.666667</td>\n      <td>0.608696</td>\n      <td>0.692308</td>\n      <td>0.571429</td>\n      <td>0.692810</td>\n      <td>101</td>\n      <td>DecisionTreeClassifier</td>\n      <td>{'ccp_alpha': 0.0, 'class_weight': None, 'crit...</td>\n      <td>Run_1</td>\n      <td>COMPAS</td>\n      <td>10</td>\n    </tr>\n    <tr>\n      <th>10</th>\n      <td>FNR</td>\n      <td>0.502732</td>\n      <td>0.611111</td>\n      <td>0.476190</td>\n      <td>0.647799</td>\n      <td>0.391304</td>\n      <td>0.794872</td>\n      <td>0.390805</td>\n      <td>101</td>\n      <td>DecisionTreeClassifier</td>\n      <td>{'ccp_alpha': 0.0, 'class_weight': None, 'crit...</td>\n      <td>Run_1</td>\n      <td>COMPAS</td>\n      <td>10</td>\n    </tr>\n    <tr>\n      <th>11</th>\n      <td>FPR</td>\n      <td>0.193277</td>\n      <td>0.130435</td>\n      <td>0.213296</td>\n      <td>0.136364</td>\n      <td>0.264151</td>\n      <td>0.092308</td>\n      <td>0.290123</td>\n      <td>101</td>\n      <td>DecisionTreeClassifier</td>\n      <td>{'ccp_alpha': 0.0, 'class_weight': None, 'crit...</td>\n      <td>Run_1</td>\n      <td>COMPAS</td>\n      <td>10</td>\n    </tr>\n    <tr>\n      <th>12</th>\n      <td>Accuracy</td>\n      <td>0.672209</td>\n      <td>0.684492</td>\n      <td>0.668702</td>\n      <td>0.671395</td>\n      <td>0.673031</td>\n      <td>0.644231</td>\n      <td>0.657738</td>\n      <td>101</td>\n      <td>DecisionTreeClassifier</td>\n      <td>{'ccp_alpha': 0.0, 'class_weight': None, 'crit...</td>\n      <td>Run_1</td>\n      <td>COMPAS</td>\n      <td>10</td>\n    </tr>\n    <tr>\n      <th>13</th>\n      <td>F1</td>\n      <td>0.568750</td>\n      <td>0.486957</td>\n      <td>0.586667</td>\n      <td>0.446215</td>\n      <td>0.647815</td>\n      <td>0.301887</td>\n      <td>0.648318</td>\n      <td>101</td>\n      <td>DecisionTreeClassifier</td>\n      <td>{'ccp_alpha': 0.0, 'class_weight': None, 'crit...</td>\n      <td>Run_1</td>\n      <td>COMPAS</td>\n      <td>10</td>\n    </tr>\n    <tr>\n      <th>14</th>\n      <td>Selection-Rate</td>\n      <td>0.325416</td>\n      <td>0.229947</td>\n      <td>0.352672</td>\n      <td>0.217494</td>\n      <td>0.434368</td>\n      <td>0.134615</td>\n      <td>0.455357</td>\n      <td>101</td>\n      <td>DecisionTreeClassifier</td>\n      <td>{'ccp_alpha': 0.0, 'class_weight': None, 'crit...</td>\n      <td>Run_1</td>\n      <td>COMPAS</td>\n      <td>10</td>\n    </tr>\n    <tr>\n      <th>15</th>\n      <td>Positive-Rate</td>\n      <td>0.748634</td>\n      <td>0.597222</td>\n      <td>0.785714</td>\n      <td>0.578616</td>\n      <td>0.879227</td>\n      <td>0.358974</td>\n      <td>0.879310</td>\n      <td>101</td>\n      <td>DecisionTreeClassifier</td>\n      <td>{'ccp_alpha': 0.0, 'class_weight': None, 'crit...</td>\n      <td>Run_1</td>\n      <td>COMPAS</td>\n      <td>10</td>\n    </tr>\n    <tr>\n      <th>0</th>\n      <td>Mean</td>\n      <td>0.544995</td>\n      <td>0.602160</td>\n      <td>0.528675</td>\n      <td>0.591069</td>\n      <td>0.498483</td>\n      <td>0.640902</td>\n      <td>0.484863</td>\n      <td>102</td>\n      <td>DecisionTreeClassifier</td>\n      <td>{'ccp_alpha': 0.0, 'class_weight': None, 'crit...</td>\n      <td>Run_2</td>\n      <td>COMPAS</td>\n      <td>10</td>\n    </tr>\n    <tr>\n      <th>1</th>\n      <td>Std</td>\n      <td>0.104150</td>\n      <td>0.119495</td>\n      <td>0.099769</td>\n      <td>0.100659</td>\n      <td>0.107674</td>\n      <td>0.112851</td>\n      <td>0.102698</td>\n      <td>102</td>\n      <td>DecisionTreeClassifier</td>\n      <td>{'ccp_alpha': 0.0, 'class_weight': None, 'crit...</td>\n      <td>Run_2</td>\n      <td>COMPAS</td>\n      <td>10</td>\n    </tr>\n    <tr>\n      <th>2</th>\n      <td>IQR</td>\n      <td>0.124668</td>\n      <td>0.141224</td>\n      <td>0.119941</td>\n      <td>0.115304</td>\n      <td>0.134121</td>\n      <td>0.128068</td>\n      <td>0.128294</td>\n      <td>102</td>\n      <td>DecisionTreeClassifier</td>\n      <td>{'ccp_alpha': 0.0, 'class_weight': None, 'crit...</td>\n      <td>Run_2</td>\n      <td>COMPAS</td>\n      <td>10</td>\n    </tr>\n    <tr>\n      <th>3</th>\n      <td>Entropy</td>\n      <td>0.000000</td>\n      <td>0.344171</td>\n      <td>0.000000</td>\n      <td>0.271019</td>\n      <td>0.000000</td>\n      <td>0.290786</td>\n      <td>0.000000</td>\n      <td>102</td>\n      <td>DecisionTreeClassifier</td>\n      <td>{'ccp_alpha': 0.0, 'class_weight': None, 'crit...</td>\n      <td>Run_2</td>\n      <td>COMPAS</td>\n      <td>10</td>\n    </tr>\n  </tbody>\n</table>\n</div>"
     },
     "execution_count": 79,
     "metadata": {},
     "output_type": "execute_result"
    }
   ],
   "source": [
    "exp_iter_data_loader.X_data.head()"
   ],
   "metadata": {
    "collapsed": false
   }
  },
  {
   "cell_type": "code",
   "execution_count": 80,
   "id": "2326c129",
   "metadata": {},
   "outputs": [],
   "source": [
    "multiple_run_metrics_dct = run_exp_iteration(data_loader=exp_iter_data_loader,\n",
    "                                             experiment_seed=experiment_seed,\n",
    "                                             db_collection_name='diff_proportions_results',\n",
    "                                             preprocessor=preprocessor,\n",
    "                                             models_params_for_tuning=models_params_for_tuning,\n",
    "                                             metrics_computation_config=metrics_computation_config,\n",
    "                                             custom_table_fields_dct=custom_table_fields_dct,\n",
    "                                             with_tuning=True,\n",
    "                                             save_results_dir_path=SAVE_RESULTS_DIR_PATH,\n",
    "                                             tuned_params_df_path=None)"
   ]
  },
  {
   "cell_type": "code",
   "execution_count": 80,
   "outputs": [],
   "source": [
    "vsample_model_metrics_df = multiple_run_metrics_dct[list(models_params_for_tuning.keys())[0]]\n",
    "sample_model_metrics_df.head(20)"
   ],
   "metadata": {
    "collapsed": false
   }
  },
  {
   "cell_type": "markdown",
   "source": [
    "### Experiment iteration 2"
   ],
   "metadata": {
    "collapsed": false
   }
  },
  {
   "cell_type": "code",
   "execution_count": null,
   "outputs": [],
   "source": [],
   "metadata": {
    "collapsed": false
   }
  }
 ],
 "metadata": {
  "kernelspec": {
   "display_name": "Python 3 (ipykernel)",
   "language": "python",
   "name": "python3"
  },
  "language_info": {
   "codemirror_mode": {
    "name": "ipython",
    "version": 3
   },
   "file_extension": ".py",
   "mimetype": "text/x-python",
   "name": "python",
   "nbconvert_exporter": "python",
   "pygments_lexer": "ipython3",
   "version": "3.8.10"
  }
 },
 "nbformat": 4,
 "nbformat_minor": 5
}
