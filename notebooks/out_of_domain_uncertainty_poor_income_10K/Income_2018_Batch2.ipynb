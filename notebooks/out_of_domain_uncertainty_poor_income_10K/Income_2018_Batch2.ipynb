{
 "cells": [
  {
   "cell_type": "code",
   "execution_count": 1,
   "id": "a2de7d14",
   "metadata": {
    "ExecuteTime": {
     "end_time": "2023-10-18T11:47:33.745404Z",
     "start_time": "2023-10-18T11:47:33.662471Z"
    }
   },
   "outputs": [],
   "source": [
    "# !pip install -r ./requirements.txt"
   ]
  },
  {
   "cell_type": "code",
   "execution_count": 2,
   "id": "80b3c419",
   "metadata": {
    "ExecuteTime": {
     "end_time": "2023-10-18T11:47:33.745968Z",
     "start_time": "2023-10-18T11:47:33.662596Z"
    }
   },
   "outputs": [],
   "source": [
    "# !pip uninstall virny -y"
   ]
  },
  {
   "cell_type": "code",
   "execution_count": 3,
   "id": "9038c829",
   "metadata": {
    "ExecuteTime": {
     "end_time": "2023-10-18T11:47:33.787424Z",
     "start_time": "2023-10-18T11:47:33.664289Z"
    }
   },
   "outputs": [],
   "source": [
    "# Install using an HTTP link\n",
    "# !pip install git+https://github.com/DataResponsibly/Virny.git@development\n",
    "\n",
    "# Install using an SSH link\n",
    "# !pip install git+ssh://git@github.com/DataResponsibly/Virny.git@development"
   ]
  },
  {
   "cell_type": "code",
   "execution_count": 4,
   "id": "ef333282",
   "metadata": {
    "ExecuteTime": {
     "end_time": "2023-10-18T11:47:33.787963Z",
     "start_time": "2023-10-18T11:47:33.666425Z"
    }
   },
   "outputs": [],
   "source": [
    "# !pip install aif360"
   ]
  },
  {
   "cell_type": "code",
   "execution_count": 5,
   "id": "3b7e541d",
   "metadata": {
    "ExecuteTime": {
     "end_time": "2023-10-18T11:47:33.788211Z",
     "start_time": "2023-10-18T11:47:33.669082Z"
    }
   },
   "outputs": [],
   "source": [
    "# !pip install BlackBoxAuditing==0.1.54"
   ]
  },
  {
   "cell_type": "code",
   "execution_count": 1,
   "id": "a7cf1ace",
   "metadata": {
    "ExecuteTime": {
     "end_time": "2023-10-18T11:47:34.034826Z",
     "start_time": "2023-10-18T11:47:33.673478Z"
    }
   },
   "outputs": [],
   "source": [
    "%matplotlib inline\n",
    "%load_ext autoreload\n",
    "%autoreload 2"
   ]
  },
  {
   "cell_type": "code",
   "execution_count": 2,
   "id": "a7462629",
   "metadata": {
    "ExecuteTime": {
     "end_time": "2023-10-18T11:47:34.044978Z",
     "start_time": "2023-10-18T11:47:34.035492Z"
    }
   },
   "outputs": [],
   "source": [
    "import os\n",
    "import warnings\n",
    "warnings.filterwarnings('ignore')\n",
    "os.environ[\"PYTHONWARNINGS\"] = \"ignore\""
   ]
  },
  {
   "cell_type": "code",
   "execution_count": 3,
   "id": "b1e2e460",
   "metadata": {
    "ExecuteTime": {
     "end_time": "2023-10-18T11:47:34.057334Z",
     "start_time": "2023-10-18T11:47:34.045199Z"
    }
   },
   "outputs": [
    {
     "name": "stdout",
     "output_type": "stream",
     "text": [
      "Current location:  /home/dh3553/projects/fairness-variance\n"
     ]
    }
   ],
   "source": [
    "cur_folder_name = os.getcwd().split('/')[-1]\n",
    "if cur_folder_name != \"fairness-variance\":\n",
    "    os.chdir(\"../..\")\n",
    "\n",
    "print('Current location: ', os.getcwd())"
   ]
  },
  {
   "cell_type": "markdown",
   "id": "a85c05ad",
   "metadata": {},
   "source": [
    "## Import dependencies"
   ]
  },
  {
   "cell_type": "code",
   "execution_count": 4,
   "id": "3e97a8f0",
   "metadata": {
    "ExecuteTime": {
     "end_time": "2023-10-18T11:47:35.367305Z",
     "start_time": "2023-10-18T11:47:34.054660Z"
    }
   },
   "outputs": [
    {
     "name": "stderr",
     "output_type": "stream",
     "text": [
      "WARNING:root:No module named 'tempeh': LawSchoolGPADataset will be unavailable. To install, run:\n",
      "pip install 'aif360[LawSchoolGPA]'\n",
      "WARNING:root:No module named 'tensorflow': AdversarialDebiasing will be unavailable. To install, run:\n",
      "pip install 'aif360[AdversarialDebiasing]'\n",
      "WARNING:root:No module named 'tensorflow': AdversarialDebiasing will be unavailable. To install, run:\n",
      "pip install 'aif360[AdversarialDebiasing]'\n"
     ]
    }
   ],
   "source": [
    "import os\n",
    "import copy\n",
    "\n",
    "from virny.utils.custom_initializers import create_config_obj\n",
    "from virny.datasets import ACSIncomeDataset\n",
    "\n",
    "from configs.constants import TEST_SET_FRACTION, EXPERIMENT_SEEDS\n",
    "from configs.models_config_for_tuning import get_folktables_employment_models_params_for_tuning\n",
    "\n",
    "from source.experiment_interface import run_exp_iter_with_disparate_impact_and_mult_sets"
   ]
  },
  {
   "cell_type": "markdown",
   "id": "8a69935e",
   "metadata": {},
   "source": [
    "## Define Input Variables"
   ]
  },
  {
   "cell_type": "code",
   "execution_count": 5,
   "id": "301ce488",
   "metadata": {
    "ExecuteTime": {
     "end_time": "2023-10-18T11:47:35.397426Z",
     "start_time": "2023-10-18T11:47:35.368828Z"
    }
   },
   "outputs": [],
   "source": [
    "# ROOT_DIR = os.path.join(os.getcwd(), \"..\", \"..\")\n",
    "ROOT_DIR = os.getcwd()\n",
    "EXPERIMENT_NAME = 'out_of_domain_uncertainty_poor_income_10K'\n",
    "DB_COLLECTION_NAME = 'out_of_domain_uncertainty'\n",
    "SAVE_RESULTS_DIR_PATH = os.path.join(ROOT_DIR, 'results', EXPERIMENT_NAME)\n",
    "FAIR_INTERVENTION_PARAMS_LST = [0.7]\n",
    "TRAIN_SET_SUBSAMPLE_SIZE = 10_000\n",
    "SAMPLES_PER_FOLD_FOR_TUNING = TRAIN_SET_SUBSAMPLE_SIZE // 3\n",
    "\n",
    "config_yaml_path = os.path.join(ROOT_DIR, 'notebooks', EXPERIMENT_NAME, 'poor_income_2018_config.yaml')\n",
    "metrics_computation_config = create_config_obj(config_yaml_path=config_yaml_path)"
   ]
  },
  {
   "cell_type": "markdown",
   "id": "e1c64f50",
   "metadata": {},
   "source": [
    "## Define a db writer and custom fields to insert into your database"
   ]
  },
  {
   "cell_type": "code",
   "execution_count": 6,
   "id": "0e811508",
   "metadata": {
    "ExecuteTime": {
     "end_time": "2023-10-18T11:47:35.418839Z",
     "start_time": "2023-10-18T11:47:35.391158Z"
    }
   },
   "outputs": [
    {
     "data": {
      "text/plain": [
       "'fairness_variance'"
      ]
     },
     "execution_count": 6,
     "metadata": {},
     "output_type": "execute_result"
    }
   ],
   "source": [
    "import os\n",
    "from dotenv import load_dotenv\n",
    "\n",
    "load_dotenv('./configs/secrets.env')\n",
    "os.getenv(\"DB_NAME\")"
   ]
  },
  {
   "cell_type": "code",
   "execution_count": 7,
   "id": "103dc711",
   "metadata": {
    "ExecuteTime": {
     "end_time": "2023-10-18T11:47:35.771245Z",
     "start_time": "2023-10-18T11:47:35.416141Z"
    }
   },
   "outputs": [],
   "source": [
    "from source.utils.db_functions import connect_to_mongodb\n",
    "\n",
    "client, collection_obj, db_writer_func = connect_to_mongodb(DB_COLLECTION_NAME)"
   ]
  },
  {
   "cell_type": "code",
   "execution_count": 8,
   "id": "b3627a0c",
   "metadata": {
    "ExecuteTime": {
     "end_time": "2023-10-18T11:47:35.801360Z",
     "start_time": "2023-10-18T11:47:35.771943Z"
    }
   },
   "outputs": [
    {
     "name": "stdout",
     "output_type": "stream",
     "text": [
      "Current session uuid:  55cb3a96-48b7-43bb-8f42-9590e2c344cc\n"
     ]
    }
   ],
   "source": [
    "import uuid\n",
    "\n",
    "custom_table_fields_dct = {\n",
    "#     'session_uuid': str(uuid.uuid4()),\n",
    "    'session_uuid': '55cb3a96-48b7-43bb-8f42-9590e2c344cc',\n",
    "}\n",
    "print('Current session uuid: ', custom_table_fields_dct['session_uuid'])"
   ]
  },
  {
   "cell_type": "markdown",
   "id": "82910625",
   "metadata": {},
   "source": [
    "## Initialize custom objects"
   ]
  },
  {
   "cell_type": "code",
   "execution_count": 9,
   "id": "d191277a",
   "metadata": {
    "ExecuteTime": {
     "end_time": "2023-10-18T11:47:39.206678Z",
     "start_time": "2023-10-18T11:47:35.801299Z"
    }
   },
   "outputs": [
    {
     "data": {
      "text/html": [
       "<div>\n",
       "<style scoped>\n",
       "    .dataframe tbody tr th:only-of-type {\n",
       "        vertical-align: middle;\n",
       "    }\n",
       "\n",
       "    .dataframe tbody tr th {\n",
       "        vertical-align: top;\n",
       "    }\n",
       "\n",
       "    .dataframe thead th {\n",
       "        text-align: right;\n",
       "    }\n",
       "</style>\n",
       "<table border=\"1\" class=\"dataframe\">\n",
       "  <thead>\n",
       "    <tr style=\"text-align: right;\">\n",
       "      <th></th>\n",
       "      <th>SCHL</th>\n",
       "      <th>COW</th>\n",
       "      <th>MAR</th>\n",
       "      <th>OCCP</th>\n",
       "      <th>POBP</th>\n",
       "      <th>RELP</th>\n",
       "      <th>SEX</th>\n",
       "      <th>RAC1P</th>\n",
       "      <th>AGEP</th>\n",
       "      <th>WKHP</th>\n",
       "    </tr>\n",
       "  </thead>\n",
       "  <tbody>\n",
       "    <tr>\n",
       "      <th>0</th>\n",
       "      <td>20</td>\n",
       "      <td>1</td>\n",
       "      <td>1</td>\n",
       "      <td>4000</td>\n",
       "      <td>25</td>\n",
       "      <td>1</td>\n",
       "      <td>1</td>\n",
       "      <td>1</td>\n",
       "      <td>44</td>\n",
       "      <td>60.0</td>\n",
       "    </tr>\n",
       "    <tr>\n",
       "      <th>1</th>\n",
       "      <td>15</td>\n",
       "      <td>1</td>\n",
       "      <td>4</td>\n",
       "      <td>4030</td>\n",
       "      <td>329</td>\n",
       "      <td>0</td>\n",
       "      <td>2</td>\n",
       "      <td>8</td>\n",
       "      <td>37</td>\n",
       "      <td>40.0</td>\n",
       "    </tr>\n",
       "    <tr>\n",
       "      <th>2</th>\n",
       "      <td>22</td>\n",
       "      <td>1</td>\n",
       "      <td>1</td>\n",
       "      <td>735</td>\n",
       "      <td>128</td>\n",
       "      <td>0</td>\n",
       "      <td>1</td>\n",
       "      <td>1</td>\n",
       "      <td>64</td>\n",
       "      <td>45.0</td>\n",
       "    </tr>\n",
       "    <tr>\n",
       "      <th>3</th>\n",
       "      <td>21</td>\n",
       "      <td>1</td>\n",
       "      <td>1</td>\n",
       "      <td>4810</td>\n",
       "      <td>51</td>\n",
       "      <td>0</td>\n",
       "      <td>2</td>\n",
       "      <td>1</td>\n",
       "      <td>61</td>\n",
       "      <td>23.0</td>\n",
       "    </tr>\n",
       "    <tr>\n",
       "      <th>4</th>\n",
       "      <td>23</td>\n",
       "      <td>1</td>\n",
       "      <td>1</td>\n",
       "      <td>1760</td>\n",
       "      <td>202</td>\n",
       "      <td>1</td>\n",
       "      <td>1</td>\n",
       "      <td>6</td>\n",
       "      <td>46</td>\n",
       "      <td>45.0</td>\n",
       "    </tr>\n",
       "  </tbody>\n",
       "</table>\n",
       "</div>"
      ],
      "text/plain": [
       "  SCHL COW MAR  OCCP POBP RELP SEX RAC1P  AGEP  WKHP\n",
       "0   20   1   1  4000   25    1   1     1    44  60.0\n",
       "1   15   1   4  4030  329    0   2     8    37  40.0\n",
       "2   22   1   1   735  128    0   1     1    64  45.0\n",
       "3   21   1   1  4810   51    0   2     1    61  23.0\n",
       "4   23   1   1  1760  202    1   1     6    46  45.0"
      ]
     },
     "execution_count": 9,
     "metadata": {},
     "output_type": "execute_result"
    }
   ],
   "source": [
    "data_loader_rich = ACSIncomeDataset(state=['MD', 'NJ', 'MA'], year=2018, with_nulls=False,\n",
    "                                    subsample_size=100_000, subsample_seed=42)\n",
    "data_loader_rich.X_data.head()"
   ]
  },
  {
   "cell_type": "code",
   "execution_count": 10,
   "id": "e1230eeb",
   "metadata": {
    "ExecuteTime": {
     "end_time": "2023-10-18T11:47:39.264041Z",
     "start_time": "2023-10-18T11:47:39.204075Z"
    }
   },
   "outputs": [
    {
     "data": {
      "text/plain": [
       "(100000, 10)"
      ]
     },
     "execution_count": 10,
     "metadata": {},
     "output_type": "execute_result"
    }
   ],
   "source": [
    "data_loader_rich.X_data.shape"
   ]
  },
  {
   "cell_type": "code",
   "execution_count": 11,
   "id": "a74d8167",
   "metadata": {
    "ExecuteTime": {
     "end_time": "2023-10-18T11:47:42.342020Z",
     "start_time": "2023-10-18T11:47:39.231541Z"
    }
   },
   "outputs": [
    {
     "data": {
      "text/html": [
       "<div>\n",
       "<style scoped>\n",
       "    .dataframe tbody tr th:only-of-type {\n",
       "        vertical-align: middle;\n",
       "    }\n",
       "\n",
       "    .dataframe tbody tr th {\n",
       "        vertical-align: top;\n",
       "    }\n",
       "\n",
       "    .dataframe thead th {\n",
       "        text-align: right;\n",
       "    }\n",
       "</style>\n",
       "<table border=\"1\" class=\"dataframe\">\n",
       "  <thead>\n",
       "    <tr style=\"text-align: right;\">\n",
       "      <th></th>\n",
       "      <th>SCHL</th>\n",
       "      <th>COW</th>\n",
       "      <th>MAR</th>\n",
       "      <th>OCCP</th>\n",
       "      <th>POBP</th>\n",
       "      <th>RELP</th>\n",
       "      <th>SEX</th>\n",
       "      <th>RAC1P</th>\n",
       "      <th>AGEP</th>\n",
       "      <th>WKHP</th>\n",
       "    </tr>\n",
       "  </thead>\n",
       "  <tbody>\n",
       "    <tr>\n",
       "      <th>0</th>\n",
       "      <td>16</td>\n",
       "      <td>1</td>\n",
       "      <td>3</td>\n",
       "      <td>4230</td>\n",
       "      <td>1</td>\n",
       "      <td>0</td>\n",
       "      <td>2</td>\n",
       "      <td>2</td>\n",
       "      <td>61</td>\n",
       "      <td>15.0</td>\n",
       "    </tr>\n",
       "    <tr>\n",
       "      <th>1</th>\n",
       "      <td>23</td>\n",
       "      <td>5</td>\n",
       "      <td>1</td>\n",
       "      <td>3090</td>\n",
       "      <td>134</td>\n",
       "      <td>0</td>\n",
       "      <td>1</td>\n",
       "      <td>1</td>\n",
       "      <td>74</td>\n",
       "      <td>50.0</td>\n",
       "    </tr>\n",
       "    <tr>\n",
       "      <th>2</th>\n",
       "      <td>19</td>\n",
       "      <td>1</td>\n",
       "      <td>3</td>\n",
       "      <td>9645</td>\n",
       "      <td>26</td>\n",
       "      <td>2</td>\n",
       "      <td>1</td>\n",
       "      <td>2</td>\n",
       "      <td>59</td>\n",
       "      <td>40.0</td>\n",
       "    </tr>\n",
       "    <tr>\n",
       "      <th>3</th>\n",
       "      <td>14</td>\n",
       "      <td>2</td>\n",
       "      <td>5</td>\n",
       "      <td>4251</td>\n",
       "      <td>5</td>\n",
       "      <td>16</td>\n",
       "      <td>1</td>\n",
       "      <td>1</td>\n",
       "      <td>17</td>\n",
       "      <td>18.0</td>\n",
       "    </tr>\n",
       "    <tr>\n",
       "      <th>4</th>\n",
       "      <td>21</td>\n",
       "      <td>1</td>\n",
       "      <td>1</td>\n",
       "      <td>1021</td>\n",
       "      <td>217</td>\n",
       "      <td>1</td>\n",
       "      <td>1</td>\n",
       "      <td>6</td>\n",
       "      <td>33</td>\n",
       "      <td>45.0</td>\n",
       "    </tr>\n",
       "  </tbody>\n",
       "</table>\n",
       "</div>"
      ],
      "text/plain": [
       "  SCHL COW MAR  OCCP POBP RELP SEX RAC1P  AGEP  WKHP\n",
       "0   16   1   3  4230    1    0   2     2    61  15.0\n",
       "1   23   5   1  3090  134    0   1     1    74  50.0\n",
       "2   19   1   3  9645   26    2   1     2    59  40.0\n",
       "3   14   2   5  4251    5   16   1     1    17  18.0\n",
       "4   21   1   1  1021  217    1   1     6    33  45.0"
      ]
     },
     "execution_count": 11,
     "metadata": {},
     "output_type": "execute_result"
    }
   ],
   "source": [
    "data_loader_poor = ACSIncomeDataset(state=['WV', 'MS', 'AR', 'NM', 'LA', 'AL', 'KY'], year=2018, with_nulls=False,\n",
    "                                    subsample_size=100_000, subsample_seed=42)\n",
    "data_loader_poor.X_data.head()"
   ]
  },
  {
   "cell_type": "code",
   "execution_count": 12,
   "id": "287307bb",
   "metadata": {
    "ExecuteTime": {
     "end_time": "2023-10-18T11:47:42.402947Z",
     "start_time": "2023-10-18T11:47:42.341648Z"
    }
   },
   "outputs": [
    {
     "data": {
      "text/plain": [
       "(100000, 10)"
      ]
     },
     "execution_count": 12,
     "metadata": {},
     "output_type": "execute_result"
    }
   ],
   "source": [
    "data_loader_poor.X_data.shape"
   ]
  },
  {
   "cell_type": "code",
   "execution_count": 13,
   "id": "03b1f353",
   "metadata": {
    "ExecuteTime": {
     "end_time": "2023-10-18T11:47:42.403287Z",
     "start_time": "2023-10-18T11:47:42.364568Z"
    }
   },
   "outputs": [],
   "source": [
    "extra_data_loaders = [data_loader_rich]"
   ]
  },
  {
   "cell_type": "markdown",
   "id": "a394de9a",
   "metadata": {},
   "source": [
    "## Run experiment iterations"
   ]
  },
  {
   "cell_type": "markdown",
   "id": "9a73b856",
   "metadata": {},
   "source": [
    "### Experiment iteration 1"
   ]
  },
  {
   "cell_type": "code",
   "execution_count": 14,
   "id": "c7b235af",
   "metadata": {
    "ExecuteTime": {
     "end_time": "2023-10-18T11:47:42.453732Z",
     "start_time": "2023-10-18T11:47:42.389233Z"
    }
   },
   "outputs": [],
   "source": [
    "# tuned_params_filenames = ['tuning_results_Folktables_NY_2018_Employment_alpha_0.8_20230706__115508.csv']\n",
    "# tuned_params_df_paths = [os.path.join(ROOT_DIR, 'results', EXPERIMENT_NAME, tuned_params_filename)\n",
    "#                          for tuned_params_filename in tuned_params_filenames]"
   ]
  },
  {
   "cell_type": "code",
   "execution_count": 15,
   "id": "ab160bd8",
   "metadata": {
    "ExecuteTime": {
     "end_time": "2023-10-18T11:47:42.479522Z",
     "start_time": "2023-10-18T11:47:42.412316Z"
    }
   },
   "outputs": [],
   "source": [
    "# Configs for an experiment iteration\n",
    "exp_iter_num = 1\n",
    "experiment_seed = EXPERIMENT_SEEDS[exp_iter_num - 1]\n",
    "custom_table_fields_dct['experiment_iteration'] = f'Exp_iter_{exp_iter_num}'\n",
    "\n",
    "exp_iter_data_loader = copy.deepcopy(data_loader_poor)  # Add deepcopy to avoid data leakage\n",
    "exp_extra_data_loaders = copy.deepcopy(extra_data_loaders)  # Add deepcopy to avoid data leakage\n",
    "models_params_for_tuning = get_folktables_employment_models_params_for_tuning(experiment_seed)"
   ]
  },
  {
   "cell_type": "code",
   "execution_count": 16,
   "id": "b2b44c92",
   "metadata": {
    "ExecuteTime": {
     "end_time": "2023-10-18T11:53:41.816022Z",
     "start_time": "2023-10-18T11:47:42.472468Z"
    }
   },
   "outputs": [
    {
     "name": "stderr",
     "output_type": "stream",
     "text": [
      "2023-10-18 09:28:18 experiment_interface.py INFO    : Start an experiment iteration for the following custom params:\n",
      "INFO:root:Start an experiment iteration for the following custom params:\n"
     ]
    },
    {
     "name": "stdout",
     "output_type": "stream",
     "text": [
      "{'dataset_split_seed': 100,\n",
      " 'experiment_iteration': 'Exp_iter_1',\n",
      " 'fair_intervention_params_lst': '[0.7]',\n",
      " 'model_init_seed': 100,\n",
      " 'session_uuid': '55cb3a96-48b7-43bb-8f42-9590e2c344cc'}\n",
      "\n",
      "\n",
      "X_train_val.shape --  (10000, 9)\n",
      "X_test.shape --  (10000, 9)\n",
      "full_df.shape --  (20000, 9)\n",
      "main_base_flow_dataset.init_features_df.shape --  (20000, 10)\n"
     ]
    },
    {
     "name": "stderr",
     "output_type": "stream",
     "text": [
      "2023-10-18 09:28:20 experiment_interface.py INFO    : The dataset is preprocessed\n",
      "INFO:root:The dataset is preprocessed\n"
     ]
    },
    {
     "name": "stdout",
     "output_type": "stream",
     "text": [
      "Top indexes of an X_test in a base flow dataset:  Int64Index([22422, 25747, 13795, 68724, 38923, 43064, 86918, 71138, 82508,\n",
      "            89200, 55279,  7966, 83751, 37701,  2718, 65519, 77797,  8956,\n",
      "            33713, 34621],\n",
      "           dtype='int64')\n",
      "Top indexes of an y_test in a base flow dataset:  Int64Index([22422, 25747, 13795, 68724, 38923, 43064, 86918, 71138, 82508,\n",
      "            89200, 55279,  7966, 83751, 37701,  2718, 65519, 77797,  8956,\n",
      "            33713, 34621],\n",
      "           dtype='int64')\n"
     ]
    },
    {
     "data": {
      "application/vnd.jupyter.widget-view+json": {
       "model_id": "71f3bf54a040435387d3209ec5d60aa3",
       "version_major": 2,
       "version_minor": 0
      },
      "text/plain": [
       "Multiple alphas:   0%|          | 0/1 [00:00<?, ?it/s]"
      ]
     },
     "metadata": {},
     "output_type": "display_data"
    },
    {
     "name": "stdout",
     "output_type": "stream",
     "text": [
      "intervention_param:  0.7\n",
      "cur_extra_test_sets[0].shape --  (100000, 680)\n",
      "2023/10/18, 09:36:25: Tuning RandomForestClassifier...\n"
     ]
    },
    {
     "name": "stderr",
     "output_type": "stream",
     "text": [
      "2023-10-18 09:40:38 experiment_interface.py INFO    : Models are tuned and saved to a file\n",
      "INFO:root:Models are tuned and saved to a file\n"
     ]
    },
    {
     "name": "stdout",
     "output_type": "stream",
     "text": [
      "2023/10/18, 09:40:38: Tuning for RandomForestClassifier is finished [F1 score = 0.557562214020437, Accuracy = 0.625962596259626]\n",
      "\n"
     ]
    },
    {
     "data": {
      "application/vnd.jupyter.widget-view+json": {
       "model_id": "8e3c9d6815ef47c5a9aa6f368d0edf1a",
       "version_major": 2,
       "version_minor": 0
      },
      "text/plain": [
       "Analyze models in one run:   0%|          | 0/1 [00:00<?, ?it/s]"
      ]
     },
     "metadata": {},
     "output_type": "display_data"
    },
    {
     "data": {
      "application/vnd.jupyter.widget-view+json": {
       "model_id": "2ce17c72608d4c1c8a67fe93a9f6f290",
       "version_major": 2,
       "version_minor": 0
      },
      "text/plain": [
       "Classifiers testing by bootstrap:   0%|          | 0/200 [00:00<?, ?it/s]"
      ]
     },
     "metadata": {},
     "output_type": "display_data"
    }
   ],
   "source": [
    "run_exp_iter_with_disparate_impact_and_mult_sets(data_loader=exp_iter_data_loader,\n",
    "                                                 extra_data_loaders=exp_extra_data_loaders,\n",
    "                                                 experiment_seed=experiment_seed,\n",
    "                                                 test_set_fraction=TEST_SET_FRACTION,\n",
    "                                                 db_writer_func=db_writer_func,\n",
    "                                                 fair_intervention_params_lst=FAIR_INTERVENTION_PARAMS_LST,\n",
    "                                                 models_params_for_tuning=models_params_for_tuning,\n",
    "                                                 metrics_computation_config=metrics_computation_config,\n",
    "                                                 custom_table_fields_dct=custom_table_fields_dct,\n",
    "                                                 with_tuning=True,\n",
    "                                                 # with_tuning=False,\n",
    "                                                 # tuned_params_df_paths=tuned_params_df_paths,\n",
    "                                                 save_results_dir_path=SAVE_RESULTS_DIR_PATH,\n",
    "                                                 samples_per_fold=SAMPLES_PER_FOLD_FOR_TUNING,\n",
    "                                                 train_set_subsample_size=TRAIN_SET_SUBSAMPLE_SIZE,\n",
    "                                                 verbose=True)"
   ]
  },
  {
   "cell_type": "markdown",
   "id": "8dcb8c24",
   "metadata": {},
   "source": [
    "### Experiment iteration 2"
   ]
  },
  {
   "cell_type": "markdown",
   "id": "8823f023",
   "metadata": {},
   "source": [
    "### Experiment iteration 3"
   ]
  },
  {
   "cell_type": "markdown",
   "id": "ee7321bb",
   "metadata": {},
   "source": [
    "### Experiment iteration 4"
   ]
  },
  {
   "cell_type": "markdown",
   "id": "be401bb6",
   "metadata": {},
   "source": [
    "### Experiment iteration 5"
   ]
  },
  {
   "cell_type": "markdown",
   "id": "ca7e9766",
   "metadata": {},
   "source": [
    "### Experiment iteration 6"
   ]
  },
  {
   "cell_type": "code",
   "execution_count": 21,
   "id": "c89c6a6b",
   "metadata": {
    "ExecuteTime": {
     "end_time": "2023-10-18T11:53:41.820296Z",
     "start_time": "2023-10-18T11:53:41.819196Z"
    }
   },
   "outputs": [],
   "source": []
  }
 ],
 "metadata": {
  "kernelspec": {
   "display_name": "Python 3",
   "language": "python",
   "name": "python3"
  },
  "language_info": {
   "codemirror_mode": {
    "name": "ipython",
    "version": 3
   },
   "file_extension": ".py",
   "mimetype": "text/x-python",
   "name": "python",
   "nbconvert_exporter": "python",
   "pygments_lexer": "ipython3",
   "version": "3.8.5"
  }
 },
 "nbformat": 4,
 "nbformat_minor": 5
}
