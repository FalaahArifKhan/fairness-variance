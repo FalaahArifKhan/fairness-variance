{
 "cells": [
  {
   "cell_type": "code",
   "execution_count": 41,
   "id": "45cedf88",
   "metadata": {
    "ExecuteTime": {
     "end_time": "2023-04-22T17:06:09.249675Z",
     "start_time": "2023-04-22T17:06:09.233480Z"
    }
   },
   "outputs": [],
   "source": [
    "# !pip install -r ../exp_requirements.txt"
   ]
  },
  {
   "cell_type": "code",
   "execution_count": 7,
   "id": "c53e1292",
   "metadata": {
    "ExecuteTime": {
     "end_time": "2023-04-22T17:06:09.276223Z",
     "start_time": "2023-04-22T17:06:09.251393Z"
    }
   },
   "outputs": [],
   "source": [
    "# !pip uninstall virny -y"
   ]
  },
  {
   "cell_type": "code",
   "execution_count": 8,
   "id": "81fa2b99",
   "metadata": {
    "ExecuteTime": {
     "end_time": "2023-04-22T17:06:09.293739Z",
     "start_time": "2023-04-22T17:06:09.271221Z"
    }
   },
   "outputs": [],
   "source": [
    "# Install using an HTTP link\n",
    "# !pip install git+https://github.com/DataResponsibly/Virny.git@development\n",
    "\n",
    "# Install using an SSH link\n",
    "# !pip install git+ssh://git@github.com/DataResponsibly/Virny.git@development"
   ]
  },
  {
   "cell_type": "code",
   "execution_count": 1,
   "id": "9de2eca5",
   "metadata": {
    "ExecuteTime": {
     "end_time": "2023-04-23T13:30:20.281401Z",
     "start_time": "2023-04-23T13:30:19.866407Z"
    }
   },
   "outputs": [],
   "source": [
    "%matplotlib inline\n",
    "%load_ext autoreload\n",
    "%autoreload 2"
   ]
  },
  {
   "cell_type": "code",
   "execution_count": 2,
   "id": "6f91a330",
   "metadata": {
    "ExecuteTime": {
     "end_time": "2023-04-23T13:30:20.290644Z",
     "start_time": "2023-04-23T13:30:20.282567Z"
    }
   },
   "outputs": [],
   "source": [
    "import os\n",
    "import warnings\n",
    "warnings.filterwarnings('ignore')\n",
    "os.environ[\"PYTHONWARNINGS\"] = \"ignore\""
   ]
  },
  {
   "cell_type": "code",
   "execution_count": 3,
   "id": "ce62e669",
   "metadata": {},
   "outputs": [
    {
     "name": "stdout",
     "output_type": "stream",
     "text": [
      "Current location:  /home/dh3553/projects/fairness-variance\n"
     ]
    }
   ],
   "source": [
    "cur_folder_name = os.getcwd().split('/')[-1]\n",
    "if cur_folder_name != \"fairness-variance\":\n",
    "    os.chdir(\"../..\")\n",
    "\n",
    "print('Current location: ', os.getcwd())"
   ]
  },
  {
   "cell_type": "markdown",
   "id": "b467af2f",
   "metadata": {},
   "source": [
    "# COMPAS Dataset With Random Nulls"
   ]
  },
  {
   "cell_type": "markdown",
   "id": "9c392e09",
   "metadata": {},
   "source": [
    "## Import dependencies"
   ]
  },
  {
   "cell_type": "code",
   "execution_count": 4,
   "id": "f13ab7fe",
   "metadata": {
    "ExecuteTime": {
     "end_time": "2023-04-23T13:30:21.590617Z",
     "start_time": "2023-04-23T13:30:20.293249Z"
    }
   },
   "outputs": [],
   "source": [
    "import os\n",
    "import copy\n",
    "\n",
    "from xgboost import XGBClassifier\n",
    "from sklearn.tree import DecisionTreeClassifier\n",
    "from sklearn.linear_model import LogisticRegression\n",
    "from sklearn.ensemble import RandomForestClassifier\n",
    "from sklearn.neighbors import KNeighborsClassifier\n",
    "from sklearn.neural_network import MLPClassifier\n",
    "\n",
    "from virny.utils.custom_initializers import create_config_obj, create_models_metrics_dct_from_database_df\n",
    "from virny.datasets.data_loaders import CompasDataset\n",
    "from source.user_interfaces.experiment_interface import run_exp_iter_with_models_stress_testing\n",
    "from source.error_injectors.random_nulls_injector_v2 import RandomNullsInjectorV2\n",
    "from source.utils.custom_initializers import create_experiment_data_loader\n",
    "from source.utils.db_functions import read_model_metric_dfs_from_db\n",
    "from source.preprocessing.basic_preprocessing import get_null_imputer_preprocessor\n",
    "\n",
    "from configs.constants import NUM_METRICS_COMPUTATION_RUNS, EXPERIMENT_SEEDS, TEST_SET_FRACTION\n",
    "from configs.models_params_for_tuning import get_compas_models_params_for_tuning"
   ]
  },
  {
   "cell_type": "markdown",
   "id": "a879b9ec",
   "metadata": {},
   "source": [
    "## Initialize input variables for the experiment"
   ]
  },
  {
   "cell_type": "code",
   "execution_count": 5,
   "id": "c2ca31a7",
   "metadata": {
    "ExecuteTime": {
     "end_time": "2023-04-23T13:30:21.603942Z",
     "start_time": "2023-04-23T13:30:21.571542Z"
    }
   },
   "outputs": [],
   "source": [
    "ROOT_DIR = os.getcwd()\n",
    "EXPERIMENT_NAME = 'stress_testing_with_cols_imp_nulls'\n",
    "DB_COLLECTION_NAME = f'exp_{EXPERIMENT_NAME}'\n",
    "SAVE_RESULTS_DIR_PATH = os.path.join(ROOT_DIR, 'results', EXPERIMENT_NAME)\n",
    "COLUMNS_TO_TRANSFORM = []\n",
    "ROWS_PCT_TO_AFFECT = 0.4\n",
    "INJECTOR_CONFIG_LST = ['priors_count', 'age', 'juv_other_count', 'c_charge_degree_F']"
   ]
  },
  {
   "cell_type": "code",
   "execution_count": 6,
   "id": "f7ed130d",
   "metadata": {
    "ExecuteTime": {
     "end_time": "2023-04-23T13:30:24.191398Z",
     "start_time": "2023-04-23T13:30:21.600868Z"
    }
   },
   "outputs": [
    {
     "data": {
      "text/html": [
       "<div>\n",
       "<style scoped>\n",
       "    .dataframe tbody tr th:only-of-type {\n",
       "        vertical-align: middle;\n",
       "    }\n",
       "\n",
       "    .dataframe tbody tr th {\n",
       "        vertical-align: top;\n",
       "    }\n",
       "\n",
       "    .dataframe thead th {\n",
       "        text-align: right;\n",
       "    }\n",
       "</style>\n",
       "<table border=\"1\" class=\"dataframe\">\n",
       "  <thead>\n",
       "    <tr style=\"text-align: right;\">\n",
       "      <th></th>\n",
       "      <th>age</th>\n",
       "      <th>juv_fel_count</th>\n",
       "      <th>juv_misd_count</th>\n",
       "      <th>juv_other_count</th>\n",
       "      <th>priors_count</th>\n",
       "      <th>race</th>\n",
       "      <th>age_cat_25 - 45</th>\n",
       "      <th>age_cat_Greater than 45</th>\n",
       "      <th>age_cat_Less than 25</th>\n",
       "      <th>c_charge_degree_F</th>\n",
       "      <th>c_charge_degree_M</th>\n",
       "      <th>sex</th>\n",
       "    </tr>\n",
       "  </thead>\n",
       "  <tbody>\n",
       "    <tr>\n",
       "      <th>0</th>\n",
       "      <td>25</td>\n",
       "      <td>0.0</td>\n",
       "      <td>-2.340451</td>\n",
       "      <td>1.0</td>\n",
       "      <td>-15.010999</td>\n",
       "      <td>African-American</td>\n",
       "      <td>1</td>\n",
       "      <td>0</td>\n",
       "      <td>0</td>\n",
       "      <td>0</td>\n",
       "      <td>1</td>\n",
       "      <td>1</td>\n",
       "    </tr>\n",
       "    <tr>\n",
       "      <th>1</th>\n",
       "      <td>26</td>\n",
       "      <td>0.0</td>\n",
       "      <td>0.000000</td>\n",
       "      <td>0.0</td>\n",
       "      <td>0.000000</td>\n",
       "      <td>Caucasian</td>\n",
       "      <td>1</td>\n",
       "      <td>0</td>\n",
       "      <td>0</td>\n",
       "      <td>1</td>\n",
       "      <td>0</td>\n",
       "      <td>0</td>\n",
       "    </tr>\n",
       "    <tr>\n",
       "      <th>2</th>\n",
       "      <td>21</td>\n",
       "      <td>0.0</td>\n",
       "      <td>0.000000</td>\n",
       "      <td>0.0</td>\n",
       "      <td>0.000000</td>\n",
       "      <td>Caucasian</td>\n",
       "      <td>0</td>\n",
       "      <td>0</td>\n",
       "      <td>1</td>\n",
       "      <td>1</td>\n",
       "      <td>0</td>\n",
       "      <td>1</td>\n",
       "    </tr>\n",
       "    <tr>\n",
       "      <th>3</th>\n",
       "      <td>29</td>\n",
       "      <td>0.0</td>\n",
       "      <td>0.000000</td>\n",
       "      <td>0.0</td>\n",
       "      <td>6.000000</td>\n",
       "      <td>African-American</td>\n",
       "      <td>1</td>\n",
       "      <td>0</td>\n",
       "      <td>0</td>\n",
       "      <td>0</td>\n",
       "      <td>1</td>\n",
       "      <td>1</td>\n",
       "    </tr>\n",
       "    <tr>\n",
       "      <th>4</th>\n",
       "      <td>40</td>\n",
       "      <td>0.0</td>\n",
       "      <td>0.000000</td>\n",
       "      <td>0.0</td>\n",
       "      <td>7.513697</td>\n",
       "      <td>Caucasian</td>\n",
       "      <td>1</td>\n",
       "      <td>0</td>\n",
       "      <td>0</td>\n",
       "      <td>1</td>\n",
       "      <td>0</td>\n",
       "      <td>1</td>\n",
       "    </tr>\n",
       "  </tbody>\n",
       "</table>\n",
       "</div>"
      ],
      "text/plain": [
       "   age  juv_fel_count  juv_misd_count  juv_other_count  priors_count  \\\n",
       "0   25            0.0       -2.340451              1.0    -15.010999   \n",
       "1   26            0.0        0.000000              0.0      0.000000   \n",
       "2   21            0.0        0.000000              0.0      0.000000   \n",
       "3   29            0.0        0.000000              0.0      6.000000   \n",
       "4   40            0.0        0.000000              0.0      7.513697   \n",
       "\n",
       "               race  age_cat_25 - 45  age_cat_Greater than 45  \\\n",
       "0  African-American                1                        0   \n",
       "1         Caucasian                1                        0   \n",
       "2         Caucasian                0                        0   \n",
       "3  African-American                1                        0   \n",
       "4         Caucasian                1                        0   \n",
       "\n",
       "   age_cat_Less than 25  c_charge_degree_F  c_charge_degree_M  sex  \n",
       "0                     0                  0                  1    1  \n",
       "1                     0                  1                  0    0  \n",
       "2                     1                  1                  0    1  \n",
       "3                     0                  0                  1    1  \n",
       "4                     0                  1                  0    1  "
      ]
     },
     "execution_count": 6,
     "metadata": {},
     "output_type": "execute_result"
    }
   ],
   "source": [
    "data_loader = CompasDataset()\n",
    "data_loader.X_data.head()"
   ]
  },
  {
   "cell_type": "code",
   "execution_count": 7,
   "id": "e7e60331",
   "metadata": {},
   "outputs": [
    {
     "data": {
      "text/plain": [
       "(5278, 13)"
      ]
     },
     "execution_count": 7,
     "metadata": {},
     "output_type": "execute_result"
    }
   ],
   "source": [
    "data_loader.full_df.shape"
   ]
  },
  {
   "cell_type": "code",
   "execution_count": 8,
   "id": "3e01b259",
   "metadata": {
    "ExecuteTime": {
     "end_time": "2023-04-23T13:30:24.341989Z",
     "start_time": "2023-04-23T13:30:24.183137Z"
    }
   },
   "outputs": [
    {
     "data": {
      "text/plain": [
       "age                        0\n",
       "juv_fel_count              0\n",
       "juv_misd_count             0\n",
       "juv_other_count            0\n",
       "priors_count               0\n",
       "age_cat_25 - 45            0\n",
       "age_cat_Greater than 45    0\n",
       "age_cat_Less than 25       0\n",
       "c_charge_degree_F          0\n",
       "c_charge_degree_M          0\n",
       "race                       0\n",
       "sex                        0\n",
       "recidivism                 0\n",
       "dtype: int64"
      ]
     },
     "execution_count": 8,
     "metadata": {},
     "output_type": "execute_result"
    }
   ],
   "source": [
    "data_loader.full_df.isna().sum()"
   ]
  },
  {
   "cell_type": "markdown",
   "id": "426d98cc",
   "metadata": {},
   "source": [
    "### Define a db writer and custom fields to insert into your database"
   ]
  },
  {
   "cell_type": "code",
   "execution_count": 9,
   "id": "9184d2dd",
   "metadata": {
    "ExecuteTime": {
     "end_time": "2023-04-23T13:30:24.367148Z",
     "start_time": "2023-04-23T13:30:24.304924Z"
    }
   },
   "outputs": [],
   "source": [
    "from source.utils.db_functions import connect_to_mongodb\n",
    "\n",
    "client, collection_obj, db_writer_func = connect_to_mongodb(DB_COLLECTION_NAME)"
   ]
  },
  {
   "cell_type": "code",
   "execution_count": 10,
   "id": "8241f102",
   "metadata": {
    "ExecuteTime": {
     "end_time": "2023-04-23T13:30:24.426028Z",
     "start_time": "2023-04-23T13:30:24.351860Z"
    }
   },
   "outputs": [],
   "source": [
    "custom_table_fields_dct = {\n",
    "    'error_type': 'Random Nulls',\n",
    "    'error_percentages': 'priors_count,age,juv_other_count,c_charge_degree_F',\n",
    "    'preprocessing_technique': 'cat: mode, num: median',\n",
    "}"
   ]
  },
  {
   "cell_type": "code",
   "execution_count": 11,
   "id": "e89b1777",
   "metadata": {
    "ExecuteTime": {
     "end_time": "2023-04-23T13:30:24.444377Z",
     "start_time": "2023-04-23T13:30:24.396152Z"
    }
   },
   "outputs": [
    {
     "name": "stdout",
     "output_type": "stream",
     "text": [
      "Current session uuid:  3af1ec57-10d1-4cce-8cc5-1676ea7b1f8c\n"
     ]
    }
   ],
   "source": [
    "import uuid\n",
    "\n",
    "custom_table_fields_dct['session_uuid'] = '3af1ec57-10d1-4cce-8cc5-1676ea7b1f8c'\n",
    "# custom_table_fields_dct['session_uuid'] = str(uuid.uuid4())\n",
    "print('Current session uuid: ', custom_table_fields_dct['session_uuid'])"
   ]
  },
  {
   "cell_type": "markdown",
   "id": "fe71f201",
   "metadata": {},
   "source": [
    "### Create a metrics computation config object"
   ]
  },
  {
   "cell_type": "code",
   "execution_count": 12,
   "id": "89bd0b0b",
   "metadata": {
    "ExecuteTime": {
     "end_time": "2023-04-23T13:30:24.445854Z",
     "start_time": "2023-04-23T13:30:24.410029Z"
    }
   },
   "outputs": [],
   "source": [
    "config_yaml_path = 'experiment_config.yaml'\n",
    "config_yaml_content = \\\n",
    "f\"\"\"\n",
    "dataset_name: COMPAS\n",
    "bootstrap_fraction: 0.8\n",
    "n_estimators: 200  # Better to input the higher number of estimators than 100; this is only for this use case example\n",
    "num_runs: 1\n",
    "runs_seed_lst: [100]\n",
    "sensitive_attributes_dct: {{'sex': 0, 'race': 'Caucasian', 'sex&race': None}}\n",
    "\"\"\"\n",
    "\n",
    "with open(config_yaml_path, 'w', encoding='utf-8') as f:\n",
    "    f.write(config_yaml_content)"
   ]
  },
  {
   "cell_type": "code",
   "execution_count": 13,
   "id": "393d2af2",
   "metadata": {
    "ExecuteTime": {
     "end_time": "2023-04-23T13:30:24.514656Z",
     "start_time": "2023-04-23T13:30:24.436377Z"
    }
   },
   "outputs": [],
   "source": [
    "metrics_computation_config = create_config_obj(config_yaml_path=config_yaml_path)"
   ]
  },
  {
   "cell_type": "markdown",
   "id": "49e03a4a",
   "metadata": {},
   "source": [
    "### Define tuning parameter for models"
   ]
  },
  {
   "cell_type": "code",
   "execution_count": 14,
   "id": "6fc449e6",
   "metadata": {
    "ExecuteTime": {
     "end_time": "2023-04-23T13:30:24.532457Z",
     "start_time": "2023-04-23T13:30:24.484014Z"
    }
   },
   "outputs": [],
   "source": [
    "# def get_models_params_for_tuning(models_tuning_seed):\n",
    "#     return {\n",
    "#         'DecisionTreeClassifier': {\n",
    "#             'model': DecisionTreeClassifier(random_state=models_tuning_seed),\n",
    "#             'params': {\n",
    "#                 \"max_depth\": [20, 30],\n",
    "#                 \"min_samples_split\" : [0.1],\n",
    "#                 \"max_features\": ['sqrt'],\n",
    "#                 \"criterion\": [\"gini\", \"entropy\"]\n",
    "#             }\n",
    "#         },\n",
    "#         'LogisticRegression': {\n",
    "#             'model': LogisticRegression(random_state=models_tuning_seed),\n",
    "#             'params': {\n",
    "#                 'penalty': ['l2'],\n",
    "#                 'C' : [0.0001, 0.1, 1, 100],\n",
    "#                 'solver': ['newton-cg', 'lbfgs'],\n",
    "#                 'max_iter': [250],\n",
    "#             }\n",
    "#         },\n",
    "#         # 'RandomForestClassifier': {\n",
    "#         #     'model': RandomForestClassifier(random_state=models_tuning_seed),\n",
    "#         #     'params': {\n",
    "#         #         \"max_depth\": [6, 10],\n",
    "#         #         \"min_samples_leaf\": [1],\n",
    "#         #         \"n_estimators\": [50, 100],\n",
    "#         #         \"max_features\": [0.6]\n",
    "#         #     }\n",
    "#         # },\n",
    "#         # 'XGBClassifier': {\n",
    "#         #     'model': XGBClassifier(random_state=models_tuning_seed, verbosity=0),\n",
    "#         #     'params': {\n",
    "#         #         'learning_rate': [0.1],\n",
    "#         #         'n_estimators': [200],\n",
    "#         #         'max_depth': [5, 7],\n",
    "#         #         'lambda':  [10, 100]\n",
    "#         #     }\n",
    "#         # },\n",
    "#         # 'KNeighborsClassifier': {\n",
    "#         #     'model': KNeighborsClassifier(),\n",
    "#         #     'params': {\n",
    "#         #         'n_neighbors' : [5, 7, 9, 11, 13, 15, 25],\n",
    "#         #         'weights' : ['uniform', 'distance'],\n",
    "#         #         'metric' : ['minkowski', 'euclidean', 'manhattan']\n",
    "#         #     }\n",
    "#         # },\n",
    "#         # 'MLPClassifier': {\n",
    "#         #     'model': MLPClassifier(random_state=models_tuning_seed),\n",
    "#         #     'params': {\n",
    "#         #         'hidden_layer_sizes':[(100,), (100,100,), (100,50,100,)],\n",
    "#         #         'activation': ['logistic', 'tanh', 'relu'],\n",
    "#         #         'solver': ['lbfgs', 'sgd', 'adam'],\n",
    "#         #         'learning_rate': ['constant', 'invscaling', 'adaptive']\n",
    "#         #     }\n",
    "#         # }\n",
    "#     }"
   ]
  },
  {
   "cell_type": "markdown",
   "id": "de2e255b",
   "metadata": {},
   "source": [
    "## Run experiments"
   ]
  },
  {
   "cell_type": "markdown",
   "id": "10000e2f",
   "metadata": {},
   "source": [
    "### Experiment iteration 1"
   ]
  },
  {
   "cell_type": "code",
   "execution_count": 21,
   "id": "50f1631d",
   "metadata": {
    "ExecuteTime": {
     "end_time": "2023-04-23T13:36:02.906869Z",
     "start_time": "2023-04-23T13:36:02.820440Z"
    }
   },
   "outputs": [],
   "source": [
    "# Configs for an experiment iteration\n",
    "exp_iter_num = 1\n",
    "experiment_seed = EXPERIMENT_SEEDS[exp_iter_num - 1]\n",
    "tuned_params_filename = 'tuning_results_COMPAS_exp_iter_1_20230425__175355.csv'\n",
    "tuned_params_df_path = os.path.join(ROOT_DIR, 'results', 'stress_testing_nulls',\n",
    "                                    'models_tuning', tuned_params_filename)\n",
    "custom_table_fields_dct['experiment_iteration'] = f'Exp_iter_{exp_iter_num}'\n",
    "\n",
    "error_injector = RandomNullsInjectorV2(experiment_seed, columns_to_transform=COLUMNS_TO_TRANSFORM,\n",
    "                                       row_idx_nulls_percentage=ROWS_PCT_TO_AFFECT, max_num_columns_to_effect=1)\n",
    "models_params_for_tuning = get_compas_models_params_for_tuning(experiment_seed)\n",
    "# Create a transformed data loader\n",
    "exp_iter_data_loader = create_experiment_data_loader(data_loader)\n",
    "exp_iter_data_loader.columns_with_nulls = INJECTOR_CONFIG_LST\n",
    "preprocessor = get_null_imputer_preprocessor(exp_iter_data_loader)"
   ]
  },
  {
   "cell_type": "code",
   "execution_count": 22,
   "id": "aa515c8e",
   "metadata": {
    "ExecuteTime": {
     "end_time": "2023-04-22T17:12:08.249600Z",
     "start_time": "2023-04-22T17:06:12.324268Z"
    }
   },
   "outputs": [
    {
     "name": "stderr",
     "output_type": "stream",
     "text": [
      "2023-05-02 20:14:07 experiment_interface.py INFO    : Start an experiment iteration for the following custom params:\n"
     ]
    },
    {
     "name": "stdout",
     "output_type": "stream",
     "text": [
      "{'dataset_split_seed': 100,\n",
      " 'error_percentages': 'priors_count,age,juv_other_count,c_charge_degree_F',\n",
      " 'error_type': 'Random Nulls',\n",
      " 'experiment_iteration': 'Exp_iter_1',\n",
      " 'injector_config_lst': \"['priors_count', 'age', 'juv_other_count', \"\n",
      "                        \"'c_charge_degree_F']\",\n",
      " 'model_init_seed': 100,\n",
      " 'preprocessing_technique': 'cat: mode, num: median',\n",
      " 'session_uuid': '4dcca348-d667-4e41-bc9d-234796af4dbf'}\n",
      "\n",
      "\n"
     ]
    },
    {
     "name": "stderr",
     "output_type": "stream",
     "text": [
      "2023-05-02 20:14:07 experiment_interface.py INFO    : The dataset is preprocessed\n"
     ]
    },
    {
     "name": "stdout",
     "output_type": "stream",
     "text": [
      "Top indexes of an X_test in a base flow dataset:  Int64Index([1639, 4204, 3264,  664, 1039,  640, 3765, 2047, 1575,  995,  852,\n",
      "            3633, 2081, 5121, 2055, 2053, 2087, 3058,  662, 3826],\n",
      "           dtype='int64')\n",
      "Top indexes of an y_test in a base flow dataset:  Int64Index([1639, 4204, 3264,  664, 1039,  640, 3765, 2047, 1575,  995,  852,\n",
      "            3633, 2081, 5121, 2055, 2053, 2087, 3058,  662, 3826],\n",
      "           dtype='int64')\n",
      "Creating test sets based on column_importance...\n",
      "error_injector.columns_to_transform --  ['priors_count']\n",
      "error_injector.seed --  101\n",
      "transformed_X_test:\n",
      " age                          0\n",
      "juv_fel_count                0\n",
      "juv_misd_count               0\n",
      "juv_other_count              0\n",
      "priors_count               211\n",
      "race                         0\n",
      "age_cat_25 - 45              0\n",
      "age_cat_Greater than 45      0\n",
      "age_cat_Less than 25         0\n",
      "c_charge_degree_F            0\n",
      "c_charge_degree_M            0\n",
      "sex                          0\n",
      "dtype: int64\n",
      "error_injector.columns_to_transform --  ['age']\n",
      "error_injector.seed --  102\n",
      "transformed_X_test:\n",
      " age                        211\n",
      "juv_fel_count                0\n",
      "juv_misd_count               0\n",
      "juv_other_count              0\n",
      "priors_count                 0\n",
      "race                         0\n",
      "age_cat_25 - 45              0\n",
      "age_cat_Greater than 45      0\n",
      "age_cat_Less than 25         0\n",
      "c_charge_degree_F            0\n",
      "c_charge_degree_M            0\n",
      "sex                          0\n",
      "dtype: int64\n",
      "error_injector.columns_to_transform --  ['juv_other_count']\n",
      "error_injector.seed --  103\n",
      "transformed_X_test:\n",
      " age                          0\n",
      "juv_fel_count                0\n",
      "juv_misd_count               0\n",
      "juv_other_count            211\n",
      "priors_count                 0\n",
      "race                         0\n",
      "age_cat_25 - 45              0\n",
      "age_cat_Greater than 45      0\n",
      "age_cat_Less than 25         0\n",
      "c_charge_degree_F            0\n",
      "c_charge_degree_M            0\n",
      "sex                          0\n",
      "dtype: int64\n",
      "error_injector.columns_to_transform --  ['c_charge_degree_F']\n",
      "error_injector.seed --  104\n"
     ]
    },
    {
     "name": "stderr",
     "output_type": "stream",
     "text": [
      "2023-05-02 20:14:08 experiment_interface.py INFO    : Models config is loaded from the input file\n"
     ]
    },
    {
     "name": "stdout",
     "output_type": "stream",
     "text": [
      "transformed_X_test:\n",
      " age                          0\n",
      "juv_fel_count                0\n",
      "juv_misd_count               0\n",
      "juv_other_count              0\n",
      "priors_count                 0\n",
      "race                         0\n",
      "age_cat_25 - 45              0\n",
      "age_cat_Greater than 45      0\n",
      "age_cat_Less than 25         0\n",
      "c_charge_degree_F          211\n",
      "c_charge_degree_M            0\n",
      "sex                          0\n",
      "dtype: int64\n",
      "LogisticRegression:  {'C': 0.01, 'class_weight': None, 'dual': False, 'fit_intercept': True, 'intercept_scaling': 1, 'l1_ratio': None, 'max_iter': 50, 'multi_class': 'auto', 'n_jobs': None, 'penalty': 'l1', 'random_state': 100, 'solver': 'liblinear', 'tol': 0.0001, 'verbose': 0, 'warm_start': False}\n"
     ]
    },
    {
     "data": {
      "application/vnd.jupyter.widget-view+json": {
       "model_id": "05318cb0657f4a609f1b4d3d789f2dd6",
       "version_major": 2,
       "version_minor": 0
      },
      "text/plain": [
       "Multiple runs progress:   0%|          | 0/1 [00:00<?, ?it/s]"
      ]
     },
     "metadata": {},
     "output_type": "display_data"
    },
    {
     "data": {
      "application/vnd.jupyter.widget-view+json": {
       "model_id": "c6a4ec17c2064a339190d29a4f8620bc",
       "version_major": 2,
       "version_minor": 0
      },
      "text/plain": [
       "Analyze models in one run:   0%|          | 0/1 [00:00<?, ?it/s]"
      ]
     },
     "metadata": {},
     "output_type": "display_data"
    },
    {
     "data": {
      "application/vnd.jupyter.widget-view+json": {
       "model_id": "f6b6ebcb4983438e93b117d22353961f",
       "version_major": 2,
       "version_minor": 0
      },
      "text/plain": [
       "Classifiers testing by bootstrap:   0%|          | 0/10 [00:00<?, ?it/s]"
      ]
     },
     "metadata": {},
     "output_type": "display_data"
    }
   ],
   "source": [
    "run_exp_iter_with_models_stress_testing(data_loader=exp_iter_data_loader,\n",
    "                                        experiment_seed=experiment_seed,\n",
    "                                        test_set_fraction=TEST_SET_FRACTION,\n",
    "                                        db_writer_func=db_writer_func,\n",
    "                                        error_injector=error_injector,\n",
    "                                        injector_config_lst=INJECTOR_CONFIG_LST,\n",
    "                                        preprocessor=preprocessor,\n",
    "                                        models_params_for_tuning=models_params_for_tuning,\n",
    "                                        metrics_computation_config=metrics_computation_config,\n",
    "                                        custom_table_fields_dct=custom_table_fields_dct,\n",
    "                                        # with_tuning=True,\n",
    "                                        # tuned_params_df_path=None,\n",
    "                                        with_tuning=False,\n",
    "                                        tuned_params_df_path=tuned_params_df_path,\n",
    "                                        save_results_dir_path=SAVE_RESULTS_DIR_PATH,\n",
    "                                        mode='column_importance',\n",
    "                                        verbose=True)"
   ]
  },
  {
   "cell_type": "markdown",
   "id": "1f0ff97e",
   "metadata": {},
   "source": [
    "### Experiment iteration 2"
   ]
  },
  {
   "cell_type": "code",
   "execution_count": 15,
   "id": "0e74db14",
   "metadata": {},
   "outputs": [],
   "source": [
    "# Configs for an experiment iteration\n",
    "exp_iter_num = 2\n",
    "experiment_seed = EXPERIMENT_SEEDS[exp_iter_num - 1]\n",
    "tuned_params_filename = 'tuning_results_COMPAS_exp_iter_2_20230425__180925.csv'\n",
    "tuned_params_df_path = os.path.join(ROOT_DIR, 'results', 'stress_testing_nulls',\n",
    "                                    'models_tuning', tuned_params_filename)\n",
    "custom_table_fields_dct['experiment_iteration'] = f'Exp_iter_{exp_iter_num}'\n",
    "\n",
    "error_injector = RandomNullsInjectorV2(experiment_seed, columns_to_transform=COLUMNS_TO_TRANSFORM,\n",
    "                                       row_idx_nulls_percentage=ROWS_PCT_TO_AFFECT, max_num_columns_to_effect=1)\n",
    "models_params_for_tuning = get_compas_models_params_for_tuning(experiment_seed)\n",
    "# Create a transformed data loader\n",
    "exp_iter_data_loader = create_experiment_data_loader(data_loader)\n",
    "exp_iter_data_loader.columns_with_nulls = INJECTOR_CONFIG_LST\n",
    "preprocessor = get_null_imputer_preprocessor(exp_iter_data_loader)"
   ]
  },
  {
   "cell_type": "code",
   "execution_count": 16,
   "id": "07e2aaf0",
   "metadata": {},
   "outputs": [
    {
     "name": "stderr",
     "output_type": "stream",
     "text": [
      "2023-05-03 13:17:31 experiment_interface.py INFO    : Start an experiment iteration for the following custom params:\n"
     ]
    },
    {
     "name": "stdout",
     "output_type": "stream",
     "text": [
      "{'dataset_split_seed': 200,\n",
      " 'error_percentages': 'priors_count,age,juv_other_count,c_charge_degree_F',\n",
      " 'error_type': 'Random Nulls',\n",
      " 'experiment_iteration': 'Exp_iter_2',\n",
      " 'injector_config_lst': \"['priors_count', 'age', 'juv_other_count', \"\n",
      "                        \"'c_charge_degree_F']\",\n",
      " 'model_init_seed': 200,\n",
      " 'preprocessing_technique': 'cat: mode, num: median',\n",
      " 'session_uuid': '3af1ec57-10d1-4cce-8cc5-1676ea7b1f8c'}\n",
      "\n",
      "\n"
     ]
    },
    {
     "name": "stderr",
     "output_type": "stream",
     "text": [
      "2023-05-03 13:17:31 experiment_interface.py INFO    : The dataset is preprocessed\n"
     ]
    },
    {
     "name": "stdout",
     "output_type": "stream",
     "text": [
      "Top indexes of an X_test in a base flow dataset:  Int64Index([4344,  870, 1083,  473, 1141, 2303, 4473,  314, 3697, 3729, 1781,\n",
      "            3362, 1758, 2812,  411,    8, 1233, 2836, 4939,  340],\n",
      "           dtype='int64')\n",
      "Top indexes of an y_test in a base flow dataset:  Int64Index([4344,  870, 1083,  473, 1141, 2303, 4473,  314, 3697, 3729, 1781,\n",
      "            3362, 1758, 2812,  411,    8, 1233, 2836, 4939,  340],\n",
      "           dtype='int64')\n",
      "Creating test sets based on column_importance...\n",
      "error_injector.columns_to_transform --  ['priors_count']\n",
      "error_injector.seed --  201\n",
      "transformed_X_test:\n",
      " age                          0\n",
      "juv_fel_count                0\n",
      "juv_misd_count               0\n",
      "juv_other_count              0\n",
      "priors_count               211\n",
      "race                         0\n",
      "age_cat_25 - 45              0\n",
      "age_cat_Greater than 45      0\n",
      "age_cat_Less than 25         0\n",
      "c_charge_degree_F            0\n",
      "c_charge_degree_M            0\n",
      "sex                          0\n",
      "dtype: int64\n",
      "error_injector.columns_to_transform --  ['age']\n",
      "error_injector.seed --  202\n",
      "transformed_X_test:\n",
      " age                        211\n",
      "juv_fel_count                0\n",
      "juv_misd_count               0\n",
      "juv_other_count              0\n",
      "priors_count                 0\n",
      "race                         0\n",
      "age_cat_25 - 45              0\n",
      "age_cat_Greater than 45      0\n",
      "age_cat_Less than 25         0\n",
      "c_charge_degree_F            0\n",
      "c_charge_degree_M            0\n",
      "sex                          0\n",
      "dtype: int64\n",
      "error_injector.columns_to_transform --  ['juv_other_count']\n",
      "error_injector.seed --  203\n",
      "transformed_X_test:\n",
      " age                          0\n",
      "juv_fel_count                0\n",
      "juv_misd_count               0\n",
      "juv_other_count            211\n",
      "priors_count                 0\n",
      "race                         0\n",
      "age_cat_25 - 45              0\n",
      "age_cat_Greater than 45      0\n",
      "age_cat_Less than 25         0\n",
      "c_charge_degree_F            0\n",
      "c_charge_degree_M            0\n",
      "sex                          0\n",
      "dtype: int64\n",
      "error_injector.columns_to_transform --  ['c_charge_degree_F']\n",
      "error_injector.seed --  204\n",
      "transformed_X_test:\n",
      " age                          0\n",
      "juv_fel_count                0\n",
      "juv_misd_count               0\n",
      "juv_other_count              0\n",
      "priors_count                 0\n",
      "race                         0\n",
      "age_cat_25 - 45              0\n",
      "age_cat_Greater than 45      0\n",
      "age_cat_Less than 25         0\n",
      "c_charge_degree_F          211\n",
      "c_charge_degree_M            0\n",
      "sex                          0\n",
      "dtype: int64\n"
     ]
    },
    {
     "name": "stderr",
     "output_type": "stream",
     "text": [
      "2023-05-03 13:17:32 experiment_interface.py INFO    : Models config is loaded from the input file\n"
     ]
    },
    {
     "name": "stdout",
     "output_type": "stream",
     "text": [
      "LogisticRegression:  {'C': 0.01, 'class_weight': None, 'dual': False, 'fit_intercept': True, 'intercept_scaling': 1, 'l1_ratio': None, 'max_iter': 50, 'multi_class': 'auto', 'n_jobs': None, 'penalty': 'l1', 'random_state': 200, 'solver': 'liblinear', 'tol': 0.0001, 'verbose': 0, 'warm_start': False}\n"
     ]
    },
    {
     "data": {
      "application/vnd.jupyter.widget-view+json": {
       "model_id": "f7e2c281523d468b82f4790b1202eda7",
       "version_major": 2,
       "version_minor": 0
      },
      "text/plain": [
       "Multiple runs progress:   0%|          | 0/1 [00:00<?, ?it/s]"
      ]
     },
     "metadata": {},
     "output_type": "display_data"
    },
    {
     "data": {
      "application/vnd.jupyter.widget-view+json": {
       "model_id": "5241c7a5038a4ad9b61d1077653031fd",
       "version_major": 2,
       "version_minor": 0
      },
      "text/plain": [
       "Analyze models in one run:   0%|          | 0/1 [00:00<?, ?it/s]"
      ]
     },
     "metadata": {},
     "output_type": "display_data"
    },
    {
     "data": {
      "application/vnd.jupyter.widget-view+json": {
       "model_id": "67a699fec882484cb69cde93b38f0fa3",
       "version_major": 2,
       "version_minor": 0
      },
      "text/plain": [
       "Classifiers testing by bootstrap:   0%|          | 0/200 [00:00<?, ?it/s]"
      ]
     },
     "metadata": {},
     "output_type": "display_data"
    }
   ],
   "source": [
    "run_exp_iter_with_models_stress_testing(data_loader=exp_iter_data_loader,\n",
    "                                        experiment_seed=experiment_seed,\n",
    "                                        test_set_fraction=TEST_SET_FRACTION,\n",
    "                                        db_writer_func=db_writer_func,\n",
    "                                        error_injector=error_injector,\n",
    "                                        injector_config_lst=INJECTOR_CONFIG_LST,\n",
    "                                        preprocessor=preprocessor,\n",
    "                                        models_params_for_tuning=models_params_for_tuning,\n",
    "                                        metrics_computation_config=metrics_computation_config,\n",
    "                                        custom_table_fields_dct=custom_table_fields_dct,\n",
    "                                        # with_tuning=True,\n",
    "                                        # tuned_params_df_path=None,\n",
    "                                        with_tuning=False,\n",
    "                                        tuned_params_df_path=tuned_params_df_path,\n",
    "                                        save_results_dir_path=SAVE_RESULTS_DIR_PATH,\n",
    "                                        mode='column_importance',\n",
    "                                        verbose=True)"
   ]
  },
  {
   "cell_type": "markdown",
   "id": "52778efa",
   "metadata": {},
   "source": [
    "### Experiment iteration 3"
   ]
  },
  {
   "cell_type": "code",
   "execution_count": null,
   "id": "6a65466f",
   "metadata": {},
   "outputs": [],
   "source": [
    "# Configs for an experiment iteration\n",
    "exp_iter_num = 3\n",
    "experiment_seed = EXPERIMENT_SEEDS[exp_iter_num - 1]\n",
    "tuned_params_filename = 'tuning_results_COMPAS_exp_iter_3_20230425__182629.csv'\n",
    "tuned_params_df_path = os.path.join(ROOT_DIR, 'results', 'stress_testing_nulls',\n",
    "                                    'models_tuning', tuned_params_filename)\n",
    "custom_table_fields_dct['experiment_iteration'] = f'Exp_iter_{exp_iter_num}'\n",
    "\n",
    "error_injector = RandomNullsInjectorV2(experiment_seed, columns_to_transform=COLUMNS_TO_TRANSFORM,\n",
    "                                       row_idx_nulls_percentage=ROWS_PCT_TO_AFFECT, max_num_columns_to_effect=1)\n",
    "models_params_for_tuning = get_compas_models_params_for_tuning(experiment_seed)\n",
    "# Create a transformed data loader\n",
    "exp_iter_data_loader = create_experiment_data_loader(data_loader)\n",
    "exp_iter_data_loader.columns_with_nulls = INJECTOR_CONFIG_LST\n",
    "preprocessor = get_null_imputer_preprocessor(exp_iter_data_loader)"
   ]
  },
  {
   "cell_type": "code",
   "execution_count": null,
   "id": "b2e1a0c6",
   "metadata": {},
   "outputs": [],
   "source": [
    "run_exp_iter_with_models_stress_testing(data_loader=exp_iter_data_loader,\n",
    "                                        experiment_seed=experiment_seed,\n",
    "                                        test_set_fraction=TEST_SET_FRACTION,\n",
    "                                        db_writer_func=db_writer_func,\n",
    "                                        error_injector=error_injector,\n",
    "                                        injector_config_lst=INJECTOR_CONFIG_LST,\n",
    "                                        preprocessor=preprocessor,\n",
    "                                        models_params_for_tuning=models_params_for_tuning,\n",
    "                                        metrics_computation_config=metrics_computation_config,\n",
    "                                        custom_table_fields_dct=custom_table_fields_dct,\n",
    "                                        # with_tuning=True,\n",
    "                                        # tuned_params_df_path=None,\n",
    "                                        with_tuning=False,\n",
    "                                        tuned_params_df_path=tuned_params_df_path,\n",
    "                                        save_results_dir_path=SAVE_RESULTS_DIR_PATH,\n",
    "                                        mode='column_importance',\n",
    "                                        verbose=True)"
   ]
  },
  {
   "cell_type": "markdown",
   "id": "17173eb4",
   "metadata": {},
   "source": [
    "### Experiment iteration 4"
   ]
  },
  {
   "cell_type": "code",
   "execution_count": null,
   "id": "647d24cc",
   "metadata": {},
   "outputs": [],
   "source": [
    "# Configs for an experiment iteration\n",
    "exp_iter_num = 4\n",
    "experiment_seed = EXPERIMENT_SEEDS[exp_iter_num - 1]\n",
    "tuned_params_filename = 'tuning_results_COMPAS_exp_iter_4_20230425__184149.csv'\n",
    "tuned_params_df_path = os.path.join(ROOT_DIR, 'results', 'stress_testing_nulls',\n",
    "                                    'models_tuning', tuned_params_filename)\n",
    "custom_table_fields_dct['experiment_iteration'] = f'Exp_iter_{exp_iter_num}'\n",
    "\n",
    "error_injector = RandomNullsInjectorV2(experiment_seed, columns_to_transform=COLUMNS_TO_TRANSFORM,\n",
    "                                       row_idx_nulls_percentage=ROWS_PCT_TO_AFFECT, max_num_columns_to_effect=1)\n",
    "models_params_for_tuning = get_compas_models_params_for_tuning(experiment_seed)\n",
    "# Create a transformed data loader\n",
    "exp_iter_data_loader = create_experiment_data_loader(data_loader)\n",
    "exp_iter_data_loader.columns_with_nulls = INJECTOR_CONFIG_LST\n",
    "preprocessor = get_null_imputer_preprocessor(exp_iter_data_loader)"
   ]
  },
  {
   "cell_type": "code",
   "execution_count": null,
   "id": "10b56ef3",
   "metadata": {},
   "outputs": [],
   "source": [
    "run_exp_iter_with_models_stress_testing(data_loader=exp_iter_data_loader,\n",
    "                                        experiment_seed=experiment_seed,\n",
    "                                        test_set_fraction=TEST_SET_FRACTION,\n",
    "                                        db_writer_func=db_writer_func,\n",
    "                                        error_injector=error_injector,\n",
    "                                        injector_config_lst=INJECTOR_CONFIG_LST,\n",
    "                                        preprocessor=preprocessor,\n",
    "                                        models_params_for_tuning=models_params_for_tuning,\n",
    "                                        metrics_computation_config=metrics_computation_config,\n",
    "                                        custom_table_fields_dct=custom_table_fields_dct,\n",
    "                                        # with_tuning=True,\n",
    "                                        # tuned_params_df_path=None,\n",
    "                                        with_tuning=False,\n",
    "                                        tuned_params_df_path=tuned_params_df_path,\n",
    "                                        save_results_dir_path=SAVE_RESULTS_DIR_PATH,\n",
    "                                        mode='column_importance',\n",
    "                                        verbose=True)"
   ]
  },
  {
   "cell_type": "markdown",
   "id": "3c8b32de",
   "metadata": {},
   "source": [
    "### Experiment iteration 5"
   ]
  },
  {
   "cell_type": "code",
   "execution_count": null,
   "id": "73c50b71",
   "metadata": {},
   "outputs": [],
   "source": [
    "# Configs for an experiment iteration\n",
    "exp_iter_num = 5\n",
    "experiment_seed = EXPERIMENT_SEEDS[exp_iter_num - 1]\n",
    "tuned_params_filename = 'tuning_results_COMPAS_exp_iter_5_20230425__185721.csv'\n",
    "tuned_params_df_path = os.path.join(ROOT_DIR, 'results', 'stress_testing_nulls',\n",
    "                                    'models_tuning', tuned_params_filename)\n",
    "custom_table_fields_dct['experiment_iteration'] = f'Exp_iter_{exp_iter_num}'\n",
    "\n",
    "error_injector = RandomNullsInjectorV2(experiment_seed, columns_to_transform=COLUMNS_TO_TRANSFORM,\n",
    "                                       row_idx_nulls_percentage=ROWS_PCT_TO_AFFECT, max_num_columns_to_effect=1)\n",
    "models_params_for_tuning = get_compas_models_params_for_tuning(experiment_seed)\n",
    "# Create a transformed data loader\n",
    "exp_iter_data_loader = create_experiment_data_loader(data_loader)\n",
    "exp_iter_data_loader.columns_with_nulls = INJECTOR_CONFIG_LST\n",
    "preprocessor = get_null_imputer_preprocessor(exp_iter_data_loader)"
   ]
  },
  {
   "cell_type": "code",
   "execution_count": null,
   "id": "fda91ab6",
   "metadata": {},
   "outputs": [],
   "source": [
    "run_exp_iter_with_models_stress_testing(data_loader=exp_iter_data_loader,\n",
    "                                        experiment_seed=experiment_seed,\n",
    "                                        test_set_fraction=TEST_SET_FRACTION,\n",
    "                                        db_writer_func=db_writer_func,\n",
    "                                        error_injector=error_injector,\n",
    "                                        injector_config_lst=INJECTOR_CONFIG_LST,\n",
    "                                        preprocessor=preprocessor,\n",
    "                                        models_params_for_tuning=models_params_for_tuning,\n",
    "                                        metrics_computation_config=metrics_computation_config,\n",
    "                                        custom_table_fields_dct=custom_table_fields_dct,\n",
    "                                        # with_tuning=True,\n",
    "                                        # tuned_params_df_path=None,\n",
    "                                        with_tuning=False,\n",
    "                                        tuned_params_df_path=tuned_params_df_path,\n",
    "                                        save_results_dir_path=SAVE_RESULTS_DIR_PATH,\n",
    "                                        mode='column_importance',\n",
    "                                        verbose=True)"
   ]
  },
  {
   "cell_type": "code",
   "execution_count": 13,
   "id": "ea443b22",
   "metadata": {
    "ExecuteTime": {
     "end_time": "2023-04-22T17:12:09.025679Z",
     "start_time": "2023-04-22T17:12:08.972200Z"
    }
   },
   "outputs": [],
   "source": [
    "# client.close()"
   ]
  },
  {
   "cell_type": "code",
   "execution_count": 60,
   "id": "b7a055cb",
   "metadata": {},
   "outputs": [],
   "source": []
  }
 ],
 "metadata": {
  "kernelspec": {
   "display_name": "Python 3",
   "language": "python",
   "name": "python3"
  },
  "language_info": {
   "codemirror_mode": {
    "name": "ipython",
    "version": 3
   },
   "file_extension": ".py",
   "mimetype": "text/x-python",
   "name": "python",
   "nbconvert_exporter": "python",
   "pygments_lexer": "ipython3",
   "version": "3.8.5"
  }
 },
 "nbformat": 4,
 "nbformat_minor": 5
}
