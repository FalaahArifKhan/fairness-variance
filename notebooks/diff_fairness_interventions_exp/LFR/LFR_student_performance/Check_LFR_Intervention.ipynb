{
 "cells": [
  {
   "cell_type": "code",
   "execution_count": 1,
   "id": "770c0215",
   "metadata": {
    "ExecuteTime": {
     "end_time": "2024-01-02T17:22:50.352923Z",
     "start_time": "2024-01-02T17:22:49.985916Z"
    }
   },
   "outputs": [],
   "source": [
    "%matplotlib inline\n",
    "%load_ext autoreload\n",
    "%autoreload 2"
   ]
  },
  {
   "cell_type": "code",
   "execution_count": 2,
   "id": "ac896a62",
   "metadata": {
    "ExecuteTime": {
     "end_time": "2024-01-02T17:22:50.353498Z",
     "start_time": "2024-01-02T17:22:50.325378Z"
    }
   },
   "outputs": [],
   "source": [
    "import os\n",
    "import warnings\n",
    "warnings.filterwarnings('ignore')\n",
    "os.environ[\"PYTHONWARNINGS\"] = \"ignore\""
   ]
  },
  {
   "cell_type": "code",
   "execution_count": 3,
   "id": "4e1305f8",
   "metadata": {
    "ExecuteTime": {
     "end_time": "2024-01-02T17:22:50.363103Z",
     "start_time": "2024-01-02T17:22:50.350907Z"
    }
   },
   "outputs": [
    {
     "name": "stdout",
     "output_type": "stream",
     "text": [
      "Current location:  /Users/denys_herasymuk/UCU/4course_2term/Bachelor_Thesis/Code/fairness-variance\n"
     ]
    }
   ],
   "source": [
    "cur_folder_name = os.getcwd().split('/')[-1]\n",
    "if cur_folder_name != \"fairness-variance\":\n",
    "    os.chdir(\"../../../..\")\n",
    "\n",
    "print('Current location: ', os.getcwd())"
   ]
  },
  {
   "cell_type": "code",
   "execution_count": 4,
   "id": "9d42b728",
   "metadata": {
    "ExecuteTime": {
     "end_time": "2024-01-02T17:22:51.296047Z",
     "start_time": "2024-01-02T17:22:50.362688Z"
    }
   },
   "outputs": [
    {
     "name": "stderr",
     "output_type": "stream",
     "text": [
      "WARNING:root:No module named 'tempeh': LawSchoolGPADataset will be unavailable. To install, run:\n",
      "pip install 'aif360[LawSchoolGPA]'\n",
      "WARNING:root:No module named 'tensorflow': AdversarialDebiasing will be unavailable. To install, run:\n",
      "pip install 'aif360[AdversarialDebiasing]'\n",
      "WARNING:root:No module named 'tensorflow': AdversarialDebiasing will be unavailable. To install, run:\n",
      "pip install 'aif360[AdversarialDebiasing]'\n"
     ]
    }
   ],
   "source": [
    "import copy\n",
    "from virny.datasets import StudentPerformancePortugueseDataset\n",
    "from virny.preprocessing.basic_preprocessing import preprocess_dataset\n",
    "from aif360.metrics import BinaryLabelDatasetMetric\n",
    "from aif360.datasets import BinaryLabelDataset\n",
    "\n",
    "from source.preprocessing import get_simple_preprocessor, apply_lfr\n",
    "from configs.constants import EXPERIMENT_SEEDS\n",
    "from IPython.display import Markdown, display"
   ]
  },
  {
   "cell_type": "code",
   "execution_count": 5,
   "id": "b81eeb59",
   "metadata": {
    "ExecuteTime": {
     "end_time": "2024-01-02T17:22:51.327546Z",
     "start_time": "2024-01-02T17:22:51.297833Z"
    }
   },
   "outputs": [
    {
     "data": {
      "text/plain": "   age  Medu  Fedu  traveltime  studytime  failures  famrel  freetime  goout  \\\n0   18     4     4           2          2         0       4         3      4   \n1   17     1     1           1          2         0       5         3      3   \n2   15     1     1           1          2         0       4         3      2   \n3   15     4     2           1          3         0       3         2      2   \n4   16     3     3           1          2         0       4         3      2   \n\n   Dalc  ...  reason  guardian  schoolsup  famsup  paid activities nursery  \\\n0     1  ...  course    mother        yes      no    no         no     yes   \n1     1  ...  course    father         no     yes    no         no      no   \n2     2  ...   other    mother        yes      no    no         no     yes   \n3     1  ...    home    mother         no     yes    no        yes     yes   \n4     1  ...    home    father         no     yes    no         no     yes   \n\n  higher internet romantic  \n0    yes       no       no  \n1    yes      yes       no  \n2    yes      yes       no  \n3    yes      yes      yes  \n4    yes       no       no  \n\n[5 rows x 32 columns]",
      "text/html": "<div>\n<style scoped>\n    .dataframe tbody tr th:only-of-type {\n        vertical-align: middle;\n    }\n\n    .dataframe tbody tr th {\n        vertical-align: top;\n    }\n\n    .dataframe thead th {\n        text-align: right;\n    }\n</style>\n<table border=\"1\" class=\"dataframe\">\n  <thead>\n    <tr style=\"text-align: right;\">\n      <th></th>\n      <th>age</th>\n      <th>Medu</th>\n      <th>Fedu</th>\n      <th>traveltime</th>\n      <th>studytime</th>\n      <th>failures</th>\n      <th>famrel</th>\n      <th>freetime</th>\n      <th>goout</th>\n      <th>Dalc</th>\n      <th>...</th>\n      <th>reason</th>\n      <th>guardian</th>\n      <th>schoolsup</th>\n      <th>famsup</th>\n      <th>paid</th>\n      <th>activities</th>\n      <th>nursery</th>\n      <th>higher</th>\n      <th>internet</th>\n      <th>romantic</th>\n    </tr>\n  </thead>\n  <tbody>\n    <tr>\n      <th>0</th>\n      <td>18</td>\n      <td>4</td>\n      <td>4</td>\n      <td>2</td>\n      <td>2</td>\n      <td>0</td>\n      <td>4</td>\n      <td>3</td>\n      <td>4</td>\n      <td>1</td>\n      <td>...</td>\n      <td>course</td>\n      <td>mother</td>\n      <td>yes</td>\n      <td>no</td>\n      <td>no</td>\n      <td>no</td>\n      <td>yes</td>\n      <td>yes</td>\n      <td>no</td>\n      <td>no</td>\n    </tr>\n    <tr>\n      <th>1</th>\n      <td>17</td>\n      <td>1</td>\n      <td>1</td>\n      <td>1</td>\n      <td>2</td>\n      <td>0</td>\n      <td>5</td>\n      <td>3</td>\n      <td>3</td>\n      <td>1</td>\n      <td>...</td>\n      <td>course</td>\n      <td>father</td>\n      <td>no</td>\n      <td>yes</td>\n      <td>no</td>\n      <td>no</td>\n      <td>no</td>\n      <td>yes</td>\n      <td>yes</td>\n      <td>no</td>\n    </tr>\n    <tr>\n      <th>2</th>\n      <td>15</td>\n      <td>1</td>\n      <td>1</td>\n      <td>1</td>\n      <td>2</td>\n      <td>0</td>\n      <td>4</td>\n      <td>3</td>\n      <td>2</td>\n      <td>2</td>\n      <td>...</td>\n      <td>other</td>\n      <td>mother</td>\n      <td>yes</td>\n      <td>no</td>\n      <td>no</td>\n      <td>no</td>\n      <td>yes</td>\n      <td>yes</td>\n      <td>yes</td>\n      <td>no</td>\n    </tr>\n    <tr>\n      <th>3</th>\n      <td>15</td>\n      <td>4</td>\n      <td>2</td>\n      <td>1</td>\n      <td>3</td>\n      <td>0</td>\n      <td>3</td>\n      <td>2</td>\n      <td>2</td>\n      <td>1</td>\n      <td>...</td>\n      <td>home</td>\n      <td>mother</td>\n      <td>no</td>\n      <td>yes</td>\n      <td>no</td>\n      <td>yes</td>\n      <td>yes</td>\n      <td>yes</td>\n      <td>yes</td>\n      <td>yes</td>\n    </tr>\n    <tr>\n      <th>4</th>\n      <td>16</td>\n      <td>3</td>\n      <td>3</td>\n      <td>1</td>\n      <td>2</td>\n      <td>0</td>\n      <td>4</td>\n      <td>3</td>\n      <td>2</td>\n      <td>1</td>\n      <td>...</td>\n      <td>home</td>\n      <td>father</td>\n      <td>no</td>\n      <td>yes</td>\n      <td>no</td>\n      <td>no</td>\n      <td>yes</td>\n      <td>yes</td>\n      <td>no</td>\n      <td>no</td>\n    </tr>\n  </tbody>\n</table>\n<p>5 rows × 32 columns</p>\n</div>"
     },
     "execution_count": 5,
     "metadata": {},
     "output_type": "execute_result"
    }
   ],
   "source": [
    "exp_iter_num = 1\n",
    "experiment_seed = EXPERIMENT_SEEDS[exp_iter_num - 1]\n",
    "test_set_fraction = 0.25\n",
    "sensitive_attr_for_intervention = 'sex_binary'\n",
    "privileged_groups = [{sensitive_attr_for_intervention: 1}]\n",
    "unprivileged_groups = [{sensitive_attr_for_intervention: 0}]\n",
    "intervention_options = {'k': 10, 'Ax': 0.1, 'Ay': 1.0, 'Az': 2.0}\n",
    "\n",
    "data_loader = StudentPerformancePortugueseDataset()\n",
    "data_loader.X_data.head()"
   ]
  },
  {
   "cell_type": "markdown",
   "source": [
    "## Preprocessing"
   ],
   "metadata": {
    "collapsed": false
   },
   "id": "519e91a8975f2739"
  },
  {
   "cell_type": "code",
   "execution_count": 6,
   "id": "a7f9340c",
   "metadata": {
    "ExecuteTime": {
     "end_time": "2024-01-02T17:22:51.434945Z",
     "start_time": "2024-01-02T17:22:51.328319Z"
    }
   },
   "outputs": [],
   "source": [
    "init_data_loader = copy.deepcopy(data_loader)\n",
    "data_loader.categorical_columns = [col for col in data_loader.categorical_columns if col != 'sex']\n",
    "data_loader.X_data[sensitive_attr_for_intervention] = data_loader.X_data['sex'].apply(lambda x: 1 if x == 'M' else 0)\n",
    "data_loader.full_df = data_loader.full_df.drop(['sex'], axis=1)\n",
    "data_loader.X_data = data_loader.X_data.drop(['sex'], axis=1)\n",
    "\n",
    "# Preprocess the dataset using the defined preprocessor\n",
    "column_transformer = get_simple_preprocessor(data_loader)\n",
    "base_flow_dataset = preprocess_dataset(data_loader, column_transformer, test_set_fraction, experiment_seed)\n",
    "base_flow_dataset.init_features_df = init_data_loader.full_df.drop(init_data_loader.target, axis=1, errors='ignore')\n",
    "\n",
    "# Align indexes of base_flow_dataset with data_loader for sensitive_attr_for_intervention column\n",
    "base_flow_dataset.X_train_val[sensitive_attr_for_intervention] =\\\n",
    "    data_loader.X_data.loc[base_flow_dataset.X_train_val.index, sensitive_attr_for_intervention]\n",
    "base_flow_dataset.X_test[sensitive_attr_for_intervention] =\\\n",
    "    data_loader.X_data.loc[base_flow_dataset.X_test.index, sensitive_attr_for_intervention]"
   ]
  },
  {
   "cell_type": "code",
   "execution_count": 7,
   "id": "debfd5bf",
   "metadata": {
    "ExecuteTime": {
     "end_time": "2024-01-02T17:22:52.651599Z",
     "start_time": "2024-01-02T17:22:51.359143Z"
    }
   },
   "outputs": [
    {
     "name": "stdout",
     "output_type": "stream",
     "text": [
      "step: 0, loss: 0.6524521260855013, L_x: 1.0262899921027302,  L_y: 0.5340197646436122,  L_z: 0.007901681115808017\n",
      "step: 250, loss: 0.6524521365636683, L_x: 1.0262900337852208,  L_y: 0.5340197762293759,  L_z: 0.007901678477885133\n",
      "step: 500, loss: 0.6524521472368565, L_x: 1.0262900335727598,  L_y: 0.5340197781464459,  L_z: 0.007901682866567342\n",
      "RUNNING THE L-BFGS-B CODE\n",
      "\n",
      "           * * *\n",
      "\n",
      "Machine precision = 2.220D-16\n",
      " N =          580     M =           10\n",
      "\n",
      "At X0         0 variables are exactly at the bounds\n",
      "\n",
      "At iterate    0    f=  6.52452D-01    |proj g|=  1.18577D-01\n",
      "step: 750, loss: 0.5854488897706073, L_x: 1.0261311338368373,  L_y: 0.4673266657401324,  L_z: 0.007754555323395568\n",
      "step: 1000, loss: 0.5854488711116499, L_x: 1.0261311106372397,  L_y: 0.4673266487427807,  L_z: 0.007754555652572606\n",
      "\n",
      "At iterate    1    f=  5.85449D-01    |proj g|=  8.41969D-02\n",
      "step: 1250, loss: 0.5416969434487003, L_x: 1.024824662363953,  L_y: 0.4248215196233109,  L_z: 0.00719647879449706\n",
      "step: 1500, loss: 0.5416969290507168, L_x: 1.024824675976754,  L_y: 0.4248215157937533,  L_z: 0.0071964728296440034\n",
      "\n",
      "At iterate    2    f=  5.41697D-01    |proj g|=  3.26799D-02\n",
      "step: 1750, loss: 0.5351855923377244, L_x: 1.0241377644783758,  L_y: 0.41888732485297825,  L_z: 0.006942245518454295\n",
      "step: 2000, loss: 0.5351853650423049, L_x: 1.0241377687144948,  L_y: 0.41888709721090317,  L_z: 0.006942245479976117\n",
      "step: 2250, loss: 0.5351853606771186, L_x: 1.0241377705561474,  L_y: 0.4188870950994283,  L_z: 0.006942244261037805\n",
      "\n",
      "At iterate    3    f=  5.35185D-01    |proj g|=  2.31991D-02\n",
      "step: 2500, loss: 0.4945923350880611, L_x: 1.0064240572168242,  L_y: 0.3855883364689717,  L_z: 0.004180796448703479\n",
      "step: 2750, loss: 0.49459229769675367, L_x: 1.0064240164918714,  L_y: 0.3855883293490174,  L_z: 0.004180783349274586\n",
      "\n",
      "At iterate    4    f=  4.94592D-01    |proj g|=  4.00265D-02\n",
      "step: 3000, loss: 0.48457010173531506, L_x: 1.003111980054476,  L_y: 0.3761570809659353,  L_z: 0.004050911381966065\n",
      "step: 3250, loss: 0.4845701059176485, L_x: 1.0031120292077988,  L_y: 0.3761570852346089,  L_z: 0.00405090888112985\n",
      "\n",
      "At iterate    5    f=  4.84570D-01    |proj g|=  3.46729D-02\n",
      "step: 3500, loss: 0.45506379429919386, L_x: 0.9918798228553962,  L_y: 0.34952367397712714,  L_z: 0.0031760690182635635\n",
      "step: 3750, loss: 0.45506379444963607, L_x: 0.9918798227299721,  L_y: 0.3495236770203587,  L_z: 0.003176067578140096\n",
      "step: 4000, loss: 0.4550637899855621, L_x: 0.9918798732048335,  L_y: 0.3495236737500937,  L_z: 0.0031760644574925305\n",
      "\n",
      "At iterate    6    f=  4.55064D-01    |proj g|=  1.75285D-02\n",
      "step: 4250, loss: 0.425702712508643, L_x: 0.9671652350608686,  L_y: 0.3221173653699323,  L_z: 0.0034344118163119387\n",
      "step: 4500, loss: 0.42570270590791043, L_x: 0.9671652353012694,  L_y: 0.32211736138432945,  L_z: 0.0034344104967270112\n",
      "\n",
      "At iterate    7    f=  4.25703D-01    |proj g|=  1.47388D-02\n",
      "step: 4750, loss: 0.40637520911675357, L_x: 0.9082906873512542,  L_y: 0.30158859710601466,  L_z: 0.006978771637806748\n",
      "step: 5000, loss: 0.4063752618583232, L_x: 0.9082906964430739,  L_y: 0.3015885916944932,  L_z: 0.006978800259761278\n",
      "\n",
      "At iterate    8    f=  4.06375D-01    |proj g|=  3.67690D-02\n",
      "\n",
      "           * * *\n",
      "\n",
      "Tit   = total number of iterations\n",
      "Tnf   = total number of function evaluations\n",
      "Tnint = total number of segments explored during Cauchy searches\n",
      "Skip  = number of BFGS updates skipped\n",
      "Nact  = number of active bounds at final generalized Cauchy point\n",
      "Projg = norm of the final projected gradient\n",
      "F     = final function value\n",
      "\n",
      "           * * *\n",
      "\n",
      "   N    Tit     Tnf  Tnint  Skip  Nact     Projg        F\n",
      "  580      8      9     18     0     9   3.677D-02   4.064D-01\n",
      "  F =  0.40637520513946535     \n",
      "\n",
      "STOP: TOTAL NO. of f AND g EVALUATIONS EXCEEDS LIMIT        \n"
     ]
    }
   ],
   "source": [
    "# Fair preprocessing\n",
    "processed_base_flow_dataset = apply_lfr(base_flow_dataset,\n",
    "                                        intervention_options=intervention_options,\n",
    "                                        sensitive_attribute=sensitive_attr_for_intervention)"
   ]
  },
  {
   "cell_type": "code",
   "execution_count": 8,
   "outputs": [
    {
     "data": {
      "text/plain": "     cat__school_GP  cat__school_MS  cat__address_R  cat__address_U  \\\n230             1.0             0.0             0.0             1.0   \n605             0.0             1.0             0.0             1.0   \n471             0.0             1.0             1.0             0.0   \n532             0.0             1.0             0.0             1.0   \n352             1.0             0.0             1.0             0.0   \n\n     cat__famsize_GT3  cat__famsize_LE3  cat__Pstatus_A  cat__Pstatus_T  \\\n230               1.0               0.0             0.0             1.0   \n605               1.0               0.0             0.0             1.0   \n471               1.0               0.0             0.0             1.0   \n532               1.0               0.0             0.0             1.0   \n352               1.0               0.0             0.0             1.0   \n\n     cat__Mjob_at_home  cat__Mjob_health  ...  num__famrel  num__freetime  \\\n230                0.0               0.0  ...    -1.018120       0.792490   \n605                1.0               0.0  ...     1.142606       1.729596   \n471                1.0               0.0  ...     0.062243       0.792490   \n532                0.0               1.0  ...     0.062243      -1.081720   \n352                0.0               0.0  ...     0.062243       1.729596   \n\n     num__goout  num__Dalc  num__Walc  num__health  num__absences   num__G1  \\\n230    1.560776   0.535384   1.355964    -1.698518       2.921358 -0.147957   \n605    1.560776   0.535384   0.577926    -1.010618      -0.789879 -2.305170   \n471    0.702702   0.535384   0.577926     1.053081      -0.325974  0.211579   \n532   -1.013445  -0.548768   1.355964     1.053081      -0.325974 -0.867028   \n352   -0.155371  -0.548768  -0.200113     1.053081      -0.789879 -0.507493   \n\n      num__G2  sex_binary  \n230 -0.880705           0  \n605 -3.962470           0  \n471 -0.195869           0  \n532 -1.565542           1  \n352 -0.538287           1  \n\n[5 rows x 57 columns]",
      "text/html": "<div>\n<style scoped>\n    .dataframe tbody tr th:only-of-type {\n        vertical-align: middle;\n    }\n\n    .dataframe tbody tr th {\n        vertical-align: top;\n    }\n\n    .dataframe thead th {\n        text-align: right;\n    }\n</style>\n<table border=\"1\" class=\"dataframe\">\n  <thead>\n    <tr style=\"text-align: right;\">\n      <th></th>\n      <th>cat__school_GP</th>\n      <th>cat__school_MS</th>\n      <th>cat__address_R</th>\n      <th>cat__address_U</th>\n      <th>cat__famsize_GT3</th>\n      <th>cat__famsize_LE3</th>\n      <th>cat__Pstatus_A</th>\n      <th>cat__Pstatus_T</th>\n      <th>cat__Mjob_at_home</th>\n      <th>cat__Mjob_health</th>\n      <th>...</th>\n      <th>num__famrel</th>\n      <th>num__freetime</th>\n      <th>num__goout</th>\n      <th>num__Dalc</th>\n      <th>num__Walc</th>\n      <th>num__health</th>\n      <th>num__absences</th>\n      <th>num__G1</th>\n      <th>num__G2</th>\n      <th>sex_binary</th>\n    </tr>\n  </thead>\n  <tbody>\n    <tr>\n      <th>230</th>\n      <td>1.0</td>\n      <td>0.0</td>\n      <td>0.0</td>\n      <td>1.0</td>\n      <td>1.0</td>\n      <td>0.0</td>\n      <td>0.0</td>\n      <td>1.0</td>\n      <td>0.0</td>\n      <td>0.0</td>\n      <td>...</td>\n      <td>-1.018120</td>\n      <td>0.792490</td>\n      <td>1.560776</td>\n      <td>0.535384</td>\n      <td>1.355964</td>\n      <td>-1.698518</td>\n      <td>2.921358</td>\n      <td>-0.147957</td>\n      <td>-0.880705</td>\n      <td>0</td>\n    </tr>\n    <tr>\n      <th>605</th>\n      <td>0.0</td>\n      <td>1.0</td>\n      <td>0.0</td>\n      <td>1.0</td>\n      <td>1.0</td>\n      <td>0.0</td>\n      <td>0.0</td>\n      <td>1.0</td>\n      <td>1.0</td>\n      <td>0.0</td>\n      <td>...</td>\n      <td>1.142606</td>\n      <td>1.729596</td>\n      <td>1.560776</td>\n      <td>0.535384</td>\n      <td>0.577926</td>\n      <td>-1.010618</td>\n      <td>-0.789879</td>\n      <td>-2.305170</td>\n      <td>-3.962470</td>\n      <td>0</td>\n    </tr>\n    <tr>\n      <th>471</th>\n      <td>0.0</td>\n      <td>1.0</td>\n      <td>1.0</td>\n      <td>0.0</td>\n      <td>1.0</td>\n      <td>0.0</td>\n      <td>0.0</td>\n      <td>1.0</td>\n      <td>1.0</td>\n      <td>0.0</td>\n      <td>...</td>\n      <td>0.062243</td>\n      <td>0.792490</td>\n      <td>0.702702</td>\n      <td>0.535384</td>\n      <td>0.577926</td>\n      <td>1.053081</td>\n      <td>-0.325974</td>\n      <td>0.211579</td>\n      <td>-0.195869</td>\n      <td>0</td>\n    </tr>\n    <tr>\n      <th>532</th>\n      <td>0.0</td>\n      <td>1.0</td>\n      <td>0.0</td>\n      <td>1.0</td>\n      <td>1.0</td>\n      <td>0.0</td>\n      <td>0.0</td>\n      <td>1.0</td>\n      <td>0.0</td>\n      <td>1.0</td>\n      <td>...</td>\n      <td>0.062243</td>\n      <td>-1.081720</td>\n      <td>-1.013445</td>\n      <td>-0.548768</td>\n      <td>1.355964</td>\n      <td>1.053081</td>\n      <td>-0.325974</td>\n      <td>-0.867028</td>\n      <td>-1.565542</td>\n      <td>1</td>\n    </tr>\n    <tr>\n      <th>352</th>\n      <td>1.0</td>\n      <td>0.0</td>\n      <td>1.0</td>\n      <td>0.0</td>\n      <td>1.0</td>\n      <td>0.0</td>\n      <td>0.0</td>\n      <td>1.0</td>\n      <td>0.0</td>\n      <td>0.0</td>\n      <td>...</td>\n      <td>0.062243</td>\n      <td>1.729596</td>\n      <td>-0.155371</td>\n      <td>-0.548768</td>\n      <td>-0.200113</td>\n      <td>1.053081</td>\n      <td>-0.789879</td>\n      <td>-0.507493</td>\n      <td>-0.538287</td>\n      <td>1</td>\n    </tr>\n  </tbody>\n</table>\n<p>5 rows × 57 columns</p>\n</div>"
     },
     "execution_count": 8,
     "metadata": {},
     "output_type": "execute_result"
    }
   ],
   "source": [
    "base_flow_dataset.X_train_val.head()"
   ],
   "metadata": {
    "collapsed": false,
    "ExecuteTime": {
     "end_time": "2024-01-02T17:22:52.686101Z",
     "start_time": "2024-01-02T17:22:52.651726Z"
    }
   },
   "id": "cedcb7b96c333ae4"
  },
  {
   "cell_type": "code",
   "execution_count": 9,
   "outputs": [
    {
     "data": {
      "text/plain": "     cat__school_GP  cat__school_MS  cat__address_R  cat__address_U  \\\n230        0.660149        0.335427        0.454704        0.562415   \n605        0.140477        0.794199        0.605305        0.079378   \n471        0.656988        0.384427        0.440633        0.547319   \n532        0.642330        0.358402        0.456598        0.533277   \n352        0.725124        0.318773        0.441993        0.572088   \n\n     cat__famsize_GT3  cat__famsize_LE3  cat__Pstatus_A  cat__Pstatus_T  \\\n230          0.317522          0.529496        0.455574        0.473793   \n605          0.522725          0.128182        0.195926        0.508174   \n471          0.323522          0.483514        0.512905        0.480286   \n532          0.306980          0.479448        0.447185        0.487615   \n352          0.306664          0.501160        0.518506        0.497770   \n\n     cat__Mjob_at_home  cat__Mjob_health  ...  num__failures  num__famrel  \\\n230           0.290289          0.249689  ...       0.274723     0.349106   \n605           0.718652          0.608983  ...       1.541725     0.278814   \n471           0.352521          0.249027  ...       0.265181     0.345374   \n532           0.306483          0.268783  ...       0.337188     0.327243   \n352           0.285413          0.225306  ...       0.211779     0.343095   \n\n     num__freetime  num__goout  num__Dalc  num__Walc  num__health  \\\n230       0.411284    0.468659   0.302528   0.517579     0.421129   \n605       0.799233    0.667141   0.642846   0.710076     0.173493   \n471       0.453999    0.473091   0.314183   0.497842     0.413131   \n532       0.426231    0.467118   0.330684   0.519982     0.408664   \n352       0.394377    0.446404   0.319131   0.496165     0.453764   \n\n     num__absences   num__G1   num__G2  \n230       0.403504  0.655247  0.464496  \n605       0.683744 -1.323426 -1.885186  \n471       0.364751  0.581734  0.499019  \n532       0.399476  0.522252  0.319202  \n352       0.338266  0.705939  0.598762  \n\n[5 rows x 56 columns]",
      "text/html": "<div>\n<style scoped>\n    .dataframe tbody tr th:only-of-type {\n        vertical-align: middle;\n    }\n\n    .dataframe tbody tr th {\n        vertical-align: top;\n    }\n\n    .dataframe thead th {\n        text-align: right;\n    }\n</style>\n<table border=\"1\" class=\"dataframe\">\n  <thead>\n    <tr style=\"text-align: right;\">\n      <th></th>\n      <th>cat__school_GP</th>\n      <th>cat__school_MS</th>\n      <th>cat__address_R</th>\n      <th>cat__address_U</th>\n      <th>cat__famsize_GT3</th>\n      <th>cat__famsize_LE3</th>\n      <th>cat__Pstatus_A</th>\n      <th>cat__Pstatus_T</th>\n      <th>cat__Mjob_at_home</th>\n      <th>cat__Mjob_health</th>\n      <th>...</th>\n      <th>num__failures</th>\n      <th>num__famrel</th>\n      <th>num__freetime</th>\n      <th>num__goout</th>\n      <th>num__Dalc</th>\n      <th>num__Walc</th>\n      <th>num__health</th>\n      <th>num__absences</th>\n      <th>num__G1</th>\n      <th>num__G2</th>\n    </tr>\n  </thead>\n  <tbody>\n    <tr>\n      <th>230</th>\n      <td>0.660149</td>\n      <td>0.335427</td>\n      <td>0.454704</td>\n      <td>0.562415</td>\n      <td>0.317522</td>\n      <td>0.529496</td>\n      <td>0.455574</td>\n      <td>0.473793</td>\n      <td>0.290289</td>\n      <td>0.249689</td>\n      <td>...</td>\n      <td>0.274723</td>\n      <td>0.349106</td>\n      <td>0.411284</td>\n      <td>0.468659</td>\n      <td>0.302528</td>\n      <td>0.517579</td>\n      <td>0.421129</td>\n      <td>0.403504</td>\n      <td>0.655247</td>\n      <td>0.464496</td>\n    </tr>\n    <tr>\n      <th>605</th>\n      <td>0.140477</td>\n      <td>0.794199</td>\n      <td>0.605305</td>\n      <td>0.079378</td>\n      <td>0.522725</td>\n      <td>0.128182</td>\n      <td>0.195926</td>\n      <td>0.508174</td>\n      <td>0.718652</td>\n      <td>0.608983</td>\n      <td>...</td>\n      <td>1.541725</td>\n      <td>0.278814</td>\n      <td>0.799233</td>\n      <td>0.667141</td>\n      <td>0.642846</td>\n      <td>0.710076</td>\n      <td>0.173493</td>\n      <td>0.683744</td>\n      <td>-1.323426</td>\n      <td>-1.885186</td>\n    </tr>\n    <tr>\n      <th>471</th>\n      <td>0.656988</td>\n      <td>0.384427</td>\n      <td>0.440633</td>\n      <td>0.547319</td>\n      <td>0.323522</td>\n      <td>0.483514</td>\n      <td>0.512905</td>\n      <td>0.480286</td>\n      <td>0.352521</td>\n      <td>0.249027</td>\n      <td>...</td>\n      <td>0.265181</td>\n      <td>0.345374</td>\n      <td>0.453999</td>\n      <td>0.473091</td>\n      <td>0.314183</td>\n      <td>0.497842</td>\n      <td>0.413131</td>\n      <td>0.364751</td>\n      <td>0.581734</td>\n      <td>0.499019</td>\n    </tr>\n    <tr>\n      <th>532</th>\n      <td>0.642330</td>\n      <td>0.358402</td>\n      <td>0.456598</td>\n      <td>0.533277</td>\n      <td>0.306980</td>\n      <td>0.479448</td>\n      <td>0.447185</td>\n      <td>0.487615</td>\n      <td>0.306483</td>\n      <td>0.268783</td>\n      <td>...</td>\n      <td>0.337188</td>\n      <td>0.327243</td>\n      <td>0.426231</td>\n      <td>0.467118</td>\n      <td>0.330684</td>\n      <td>0.519982</td>\n      <td>0.408664</td>\n      <td>0.399476</td>\n      <td>0.522252</td>\n      <td>0.319202</td>\n    </tr>\n    <tr>\n      <th>352</th>\n      <td>0.725124</td>\n      <td>0.318773</td>\n      <td>0.441993</td>\n      <td>0.572088</td>\n      <td>0.306664</td>\n      <td>0.501160</td>\n      <td>0.518506</td>\n      <td>0.497770</td>\n      <td>0.285413</td>\n      <td>0.225306</td>\n      <td>...</td>\n      <td>0.211779</td>\n      <td>0.343095</td>\n      <td>0.394377</td>\n      <td>0.446404</td>\n      <td>0.319131</td>\n      <td>0.496165</td>\n      <td>0.453764</td>\n      <td>0.338266</td>\n      <td>0.705939</td>\n      <td>0.598762</td>\n    </tr>\n  </tbody>\n</table>\n<p>5 rows × 56 columns</p>\n</div>"
     },
     "execution_count": 9,
     "metadata": {},
     "output_type": "execute_result"
    }
   ],
   "source": [
    "processed_base_flow_dataset.X_train_val.head()"
   ],
   "metadata": {
    "collapsed": false,
    "ExecuteTime": {
     "end_time": "2024-01-02T17:22:52.704778Z",
     "start_time": "2024-01-02T17:22:52.679122Z"
    }
   },
   "id": "79614ec34eb6c5e"
  },
  {
   "cell_type": "markdown",
   "source": [
    "## Check if the intervention was applied correctly"
   ],
   "metadata": {
    "collapsed": false
   },
   "id": "395ac6a213d9f33e"
  },
  {
   "cell_type": "code",
   "execution_count": 10,
   "outputs": [],
   "source": [
    "processed_base_flow_dataset.X_train_val[sensitive_attr_for_intervention] = \\\n",
    "    data_loader.X_data.loc[base_flow_dataset.X_train_val.index, sensitive_attr_for_intervention]\n",
    "processed_base_flow_dataset.X_test[sensitive_attr_for_intervention] = \\\n",
    "    data_loader.X_data.loc[base_flow_dataset.X_test.index, sensitive_attr_for_intervention]\n",
    "\n",
    "# Original\n",
    "original_train_df = base_flow_dataset.X_train_val\n",
    "original_train_df[base_flow_dataset.target] = base_flow_dataset.y_train_val\n",
    "original_test_df = base_flow_dataset.X_test\n",
    "original_test_df[base_flow_dataset.target] = base_flow_dataset.y_test\n",
    "\n",
    "dataset_orig_train = BinaryLabelDataset(df=original_train_df,\n",
    "                                        label_names=[base_flow_dataset.target],\n",
    "                                        protected_attribute_names=[sensitive_attr_for_intervention],\n",
    "                                        favorable_label=1,\n",
    "                                        unfavorable_label=0)\n",
    "dataset_orig_test = BinaryLabelDataset(df=original_test_df,\n",
    "                                       label_names=[base_flow_dataset.target],\n",
    "                                       protected_attribute_names=[sensitive_attr_for_intervention],\n",
    "                                       favorable_label=1,\n",
    "                                       unfavorable_label=0)\n",
    "\n",
    "# Transformed\n",
    "transf_train_df = processed_base_flow_dataset.X_train_val\n",
    "transf_train_df[processed_base_flow_dataset.target] = processed_base_flow_dataset.y_train_val\n",
    "transf_test_df = processed_base_flow_dataset.X_test\n",
    "transf_test_df[processed_base_flow_dataset.target] = processed_base_flow_dataset.y_test\n",
    "\n",
    "dataset_transf_train = BinaryLabelDataset(df=transf_train_df,\n",
    "                                          label_names=[processed_base_flow_dataset.target],\n",
    "                                          protected_attribute_names=[sensitive_attr_for_intervention],\n",
    "                                          favorable_label=1,\n",
    "                                          unfavorable_label=0)\n",
    "dataset_transf_test = BinaryLabelDataset(df=transf_test_df,\n",
    "                                         label_names=[processed_base_flow_dataset.target],\n",
    "                                         protected_attribute_names=[sensitive_attr_for_intervention],\n",
    "                                         favorable_label=1,\n",
    "                                         unfavorable_label=0)"
   ],
   "metadata": {
    "collapsed": false,
    "ExecuteTime": {
     "end_time": "2024-01-02T17:22:52.772316Z",
     "start_time": "2024-01-02T17:22:52.703823Z"
    }
   },
   "id": "f31c60d8ec63b69e"
  },
  {
   "cell_type": "code",
   "execution_count": 15,
   "id": "750ffcab",
   "metadata": {
    "ExecuteTime": {
     "end_time": "2024-01-02T17:29:23.367923Z",
     "start_time": "2024-01-02T17:29:23.331309Z"
    }
   },
   "outputs": [
    {
     "data": {
      "text/plain": "<IPython.core.display.Markdown object>",
      "text/markdown": "#### Training dataset"
     },
     "metadata": {},
     "output_type": "display_data"
    },
    {
     "name": "stdout",
     "output_type": "stream",
     "text": [
      "Transformed: statistical_Parity Difference between unprivileged and privileged groups = 0.042717\n",
      "Original: Difference in mean outcomes between unprivileged and privileged groups = 0.042717\n"
     ]
    },
    {
     "data": {
      "text/plain": "<IPython.core.display.Markdown object>",
      "text/markdown": "#### Test dataset"
     },
     "metadata": {},
     "output_type": "display_data"
    },
    {
     "name": "stdout",
     "output_type": "stream",
     "text": [
      "Transformed: Difference in mean outcomes between unprivileged and privileged groups = 0.100370\n",
      "Original: Difference in mean outcomes between unprivileged and privileged groups = 0.100370\n"
     ]
    }
   ],
   "source": [
    "metric_orig_train = BinaryLabelDatasetMetric(dataset_orig_train,\n",
    "                                             unprivileged_groups=unprivileged_groups,\n",
    "                                             privileged_groups=privileged_groups)\n",
    "metric_transf_train = BinaryLabelDatasetMetric(dataset_transf_train,\n",
    "                                               unprivileged_groups=unprivileged_groups,\n",
    "                                               privileged_groups=privileged_groups)\n",
    "display(Markdown(\"#### Training dataset\"))\n",
    "print(\"Transformed: Statistical Parity Difference between unprivileged and privileged groups = %f\" \\\n",
    "      % metric_transf_train.statistical_parity_difference())\n",
    "print(\"Original: Statistical Parity Difference between unprivileged and privileged groups = %f\" \\\n",
    "      % metric_orig_train.statistical_parity_difference())\n",
    "\n",
    "metric_orig_test = BinaryLabelDatasetMetric(dataset_orig_test,\n",
    "                                            unprivileged_groups=unprivileged_groups,\n",
    "                                            privileged_groups=privileged_groups)\n",
    "metric_transf_test = BinaryLabelDatasetMetric(dataset_transf_test,\n",
    "                                              unprivileged_groups=unprivileged_groups,\n",
    "                                              privileged_groups=privileged_groups)\n",
    "display(Markdown(\"#### Test dataset\"))\n",
    "print(\"Transformed: Statistical Parity Difference between unprivileged and privileged groups = %f\" \\\n",
    "      % metric_transf_test.statistical_parity_difference())\n",
    "print(\"Original: Statistical Parity Difference between unprivileged and privileged groups = %f\" \\\n",
    "      % metric_orig_test.statistical_parity_difference())"
   ]
  },
  {
   "cell_type": "code",
   "execution_count": 16,
   "outputs": [
    {
     "data": {
      "text/plain": "<IPython.core.display.Markdown object>",
      "text/markdown": "#### Individual fairness metrics"
     },
     "metadata": {},
     "output_type": "display_data"
    },
    {
     "name": "stdout",
     "output_type": "stream",
     "text": [
      "Consistency of labels in transformed training dataset= 0.894239\n",
      "Consistency of labels in original training dataset= 0.888889\n",
      "Consistency of labels in transformed test dataset= 0.868712\n",
      "Consistency of labels in original test dataset= 0.857669\n"
     ]
    }
   ],
   "source": [
    "display(Markdown(\"#### Individual fairness metrics\"))\n",
    "print(\"Consistency of labels in transformed training dataset= %f\" %metric_transf_train.consistency())\n",
    "print(\"Consistency of labels in original training dataset= %f\" %metric_orig_train.consistency())\n",
    "print(\"Consistency of labels in transformed test dataset= %f\" %metric_transf_test.consistency())\n",
    "print(\"Consistency of labels in original test dataset= %f\" %metric_orig_test.consistency())"
   ],
   "metadata": {
    "collapsed": false,
    "ExecuteTime": {
     "end_time": "2024-01-02T17:30:16.034053Z",
     "start_time": "2024-01-02T17:30:15.962692Z"
    }
   },
   "id": "79ecb41c9dab9012"
  },
  {
   "cell_type": "code",
   "execution_count": 17,
   "outputs": [
    {
     "name": "stdout",
     "output_type": "stream",
     "text": [
      "Success!\n"
     ]
    }
   ],
   "source": [
    "def check_algorithm_success():\n",
    "    \"\"\"Transformed dataset consistency should be greater than original dataset.\"\"\"\n",
    "    assert metric_transf_test.consistency() > metric_orig_test.consistency(), \\\n",
    "        \"Transformed dataset consistency should be greater than original dataset.\"\n",
    "\n",
    "    print('Success!')\n",
    "\n",
    "check_algorithm_success()    "
   ],
   "metadata": {
    "collapsed": false,
    "ExecuteTime": {
     "end_time": "2024-01-02T17:30:17.432798Z",
     "start_time": "2024-01-02T17:30:17.412203Z"
    }
   },
   "id": "173748b25444aad7"
  },
  {
   "cell_type": "code",
   "execution_count": 13,
   "outputs": [],
   "source": [],
   "metadata": {
    "collapsed": false,
    "ExecuteTime": {
     "end_time": "2024-01-02T17:22:52.873616Z",
     "start_time": "2024-01-02T17:22:52.815706Z"
    }
   },
   "id": "c879a3ba3017580f"
  }
 ],
 "metadata": {
  "kernelspec": {
   "display_name": "Python 3",
   "language": "python",
   "name": "python3"
  },
  "language_info": {
   "codemirror_mode": {
    "name": "ipython",
    "version": 3
   },
   "file_extension": ".py",
   "mimetype": "text/x-python",
   "name": "python",
   "nbconvert_exporter": "python",
   "pygments_lexer": "ipython3",
   "version": "3.8.5"
  }
 },
 "nbformat": 4,
 "nbformat_minor": 5
}
