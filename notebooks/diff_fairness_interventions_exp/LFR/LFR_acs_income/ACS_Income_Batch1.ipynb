{
 "cells": [
  {
   "cell_type": "code",
   "execution_count": null,
   "id": "eb34b484",
   "metadata": {},
   "outputs": [],
   "source": [
    "# !pip install -r ./requirements.txt"
   ]
  },
  {
   "cell_type": "code",
   "execution_count": null,
   "id": "4df67694",
   "metadata": {},
   "outputs": [],
   "source": [
    "# !pip uninstall virny -y"
   ]
  },
  {
   "cell_type": "code",
   "execution_count": null,
   "id": "ed9fc54e",
   "metadata": {},
   "outputs": [],
   "source": [
    "# Install using an HTTP link\n",
    "# !pip install git+https://github.com/DataResponsibly/Virny.git@feature/prepare_for_uncertainty_experiments\n",
    "\n",
    "# Install using an SSH link\n",
    "# !pip install git+ssh://git@github.com/DataResponsibly/Virny.git@feature/prepare_for_uncertainty_experiments"
   ]
  },
  {
   "cell_type": "code",
   "execution_count": null,
   "id": "3af5b2e6",
   "metadata": {},
   "outputs": [],
   "source": [
    "%matplotlib inline\n",
    "%load_ext autoreload\n",
    "%autoreload 2"
   ]
  },
  {
   "cell_type": "code",
   "execution_count": null,
   "id": "83d51d34",
   "metadata": {},
   "outputs": [],
   "source": [
    "import os\n",
    "import warnings\n",
    "warnings.filterwarnings('ignore')\n",
    "os.environ[\"PYTHONWARNINGS\"] = \"ignore\""
   ]
  },
  {
   "cell_type": "code",
   "execution_count": null,
   "id": "4c441568",
   "metadata": {},
   "outputs": [],
   "source": [
    "cur_folder_name = os.getcwd().split('/')[-1]\n",
    "if cur_folder_name != \"fairness-variance\":\n",
    "    os.chdir(\"../../../..\")\n",
    "\n",
    "print('Current location: ', os.getcwd())"
   ]
  },
  {
   "cell_type": "markdown",
   "id": "b101d6c1",
   "metadata": {},
   "source": [
    "## Import dependencies"
   ]
  },
  {
   "cell_type": "code",
   "execution_count": null,
   "id": "05cb01fc",
   "metadata": {},
   "outputs": [],
   "source": [
    "import copy\n",
    "\n",
    "from virny.utils.custom_initializers import create_config_obj\n",
    "from virny.datasets import ACSIncomeDataset\n",
    "\n",
    "from configs.constants import TEST_SET_FRACTION, EXPERIMENT_SEEDS\n",
    "from configs.models_config_for_tuning import get_folktables_employment_models_params_for_tuning\n",
    "\n",
    "from source.experiment_interface import run_exp_iter_with_LFR"
   ]
  },
  {
   "cell_type": "markdown",
   "id": "79bf5dd0",
   "metadata": {},
   "source": [
    "## Define Input Variables"
   ]
  },
  {
   "cell_type": "code",
   "execution_count": null,
   "id": "2ab2ce2c",
   "metadata": {},
   "outputs": [],
   "source": [
    "ROOT_DIR = os.getcwd()\n",
    "EXPERIMENT_NAME = 'LFR_acs_income'\n",
    "DB_COLLECTION_NAME = 'one_repair_lvl_many_models'\n",
    "FAIR_INTERVENTION_PARAMS_LST = [{'k': 5, 'Ax': 0.01, 'Ay': 1.0, 'Az': 50.0}]\n",
    "SAVE_RESULTS_DIR_PATH = os.path.join(ROOT_DIR, 'results', 'diff_fairness_interventions_exp', 'LFR', EXPERIMENT_NAME)\n",
    "\n",
    "config_yaml_path = os.path.join(ROOT_DIR, 'notebooks', 'diff_fairness_interventions_exp',\n",
    "                                'LFR', EXPERIMENT_NAME, 'folk_GA_2018_config.yaml')\n",
    "metrics_computation_config = create_config_obj(config_yaml_path=config_yaml_path)"
   ]
  },
  {
   "cell_type": "markdown",
   "id": "82263326",
   "metadata": {},
   "source": [
    "## Define a db writer and custom fields to insert into your database"
   ]
  },
  {
   "cell_type": "code",
   "execution_count": null,
   "id": "d1ee6dc6",
   "metadata": {},
   "outputs": [],
   "source": [
    "import os\n",
    "from dotenv import load_dotenv\n",
    "\n",
    "load_dotenv('./configs/secrets.env')\n",
    "os.getenv(\"DB_NAME\")"
   ]
  },
  {
   "cell_type": "code",
   "execution_count": null,
   "id": "3406378b",
   "metadata": {},
   "outputs": [],
   "source": [
    "from source.utils.db_functions import connect_to_mongodb\n",
    "\n",
    "client, collection_obj, db_writer_func = connect_to_mongodb(DB_COLLECTION_NAME)"
   ]
  },
  {
   "cell_type": "code",
   "execution_count": null,
   "id": "ee2f08c8",
   "metadata": {},
   "outputs": [],
   "source": [
    "import uuid\n",
    "\n",
    "custom_table_fields_dct = {\n",
    "#     'session_uuid': str(uuid.uuid4()),\n",
    "    'session_uuid': '3855ad0b-4d2e-4baf-a5a8-6e3e92f624ba',\n",
    "}\n",
    "print('Current session uuid: ', custom_table_fields_dct['session_uuid'])"
   ]
  },
  {
   "cell_type": "markdown",
   "id": "0fc6b13c",
   "metadata": {},
   "source": [
    "## Initialize custom objects"
   ]
  },
  {
   "cell_type": "code",
   "execution_count": null,
   "id": "0f5ccaa7",
   "metadata": {},
   "outputs": [],
   "source": [
    "data_loader = ACSIncomeDataset(state=['GA'], year=2018, with_nulls=False,\n",
    "                               subsample_size=15_000, subsample_seed=42)\n",
    "data_loader.X_data.head()"
   ]
  },
  {
   "cell_type": "code",
   "execution_count": null,
   "id": "e4aba1c7",
   "metadata": {},
   "outputs": [],
   "source": [
    "data_loader.X_data.shape"
   ]
  },
  {
   "cell_type": "markdown",
   "id": "e62f48c8",
   "metadata": {},
   "source": [
    "## Run experiment iterations"
   ]
  },
  {
   "cell_type": "markdown",
   "id": "ebea2ef3",
   "metadata": {},
   "source": [
    "### Experiment iteration 1"
   ]
  },
  {
   "cell_type": "code",
   "execution_count": null,
   "id": "bbd1ec62",
   "metadata": {},
   "outputs": [],
   "source": [
    "tuned_params_filenames = ['tuning_results_Folktables_GA_2018_Income_20240102__230239.csv']\n",
    "tuned_params_df_paths = [os.path.join(ROOT_DIR, 'results', 'diff_fairness_interventions_exp',\n",
    "                                      'LFR', EXPERIMENT_NAME, tuned_params_filename)\n",
    "                         for tuned_params_filename in tuned_params_filenames]"
   ]
  },
  {
   "cell_type": "code",
   "execution_count": null,
   "id": "67c72670",
   "metadata": {},
   "outputs": [],
   "source": [
    "# Configs for an experiment iteration\n",
    "exp_iter_num = 1\n",
    "experiment_seed = EXPERIMENT_SEEDS[exp_iter_num - 1]\n",
    "custom_table_fields_dct['experiment_iteration'] = f'Exp_iter_{exp_iter_num}'\n",
    "\n",
    "exp_iter_data_loader = copy.deepcopy(data_loader)  # Add deepcopy to avoid data leakage\n",
    "models_params_for_tuning = get_folktables_employment_models_params_for_tuning(experiment_seed)"
   ]
  },
  {
   "cell_type": "code",
   "execution_count": null,
   "id": "b012214c",
   "metadata": {},
   "outputs": [],
   "source": [
    "run_exp_iter_with_LFR(data_loader=exp_iter_data_loader,\n",
    "                      experiment_seed=experiment_seed,\n",
    "                      test_set_fraction=TEST_SET_FRACTION,\n",
    "                      db_writer_func=db_writer_func,\n",
    "                      fair_intervention_params_lst=FAIR_INTERVENTION_PARAMS_LST,\n",
    "                      models_params_for_tuning=models_params_for_tuning,\n",
    "                      metrics_computation_config=metrics_computation_config,\n",
    "                      custom_table_fields_dct=custom_table_fields_dct,\n",
    "#                       with_tuning=True,\n",
    "                      with_tuning=False,\n",
    "                      tuned_params_df_paths=tuned_params_df_paths,\n",
    "                      save_results_dir_path=SAVE_RESULTS_DIR_PATH,\n",
    "                      dataset_name='ACSIncomeDataset',\n",
    "                      verbose=True)"
   ]
  },
  {
   "cell_type": "markdown",
   "id": "ecb90e36",
   "metadata": {},
   "source": [
    "### Experiment iteration 2"
   ]
  },
  {
   "cell_type": "code",
   "execution_count": null,
   "id": "48e67612",
   "metadata": {},
   "outputs": [],
   "source": [
    "# Configs for an experiment iteration\n",
    "exp_iter_num = 2\n",
    "experiment_seed = EXPERIMENT_SEEDS[exp_iter_num - 1]\n",
    "tuned_params_filenames = [\n",
    "    'tuning_results_Folktables_GA_2018_Income_20240103__001338.csv'\n",
    "]\n",
    "tuned_params_df_paths = [os.path.join(ROOT_DIR, 'results', 'diff_fairness_interventions_exp',\n",
    "                                      'LFR', EXPERIMENT_NAME, tuned_params_filename)\n",
    "                         for tuned_params_filename in tuned_params_filenames]\n",
    "custom_table_fields_dct['experiment_iteration'] = f'Exp_iter_{exp_iter_num}'\n",
    "\n",
    "exp_iter_data_loader = copy.deepcopy(data_loader)  # Add deepcopy to avoid data leakage\n",
    "models_params_for_tuning = get_folktables_employment_models_params_for_tuning(experiment_seed)"
   ]
  },
  {
   "cell_type": "code",
   "execution_count": null,
   "id": "41341506",
   "metadata": {},
   "outputs": [],
   "source": [
    "run_exp_iter_with_LFR(data_loader=exp_iter_data_loader,\n",
    "                      experiment_seed=experiment_seed,\n",
    "                      test_set_fraction=TEST_SET_FRACTION,\n",
    "                      db_writer_func=db_writer_func,\n",
    "                      fair_intervention_params_lst=FAIR_INTERVENTION_PARAMS_LST,\n",
    "                      models_params_for_tuning=models_params_for_tuning,\n",
    "                      metrics_computation_config=metrics_computation_config,\n",
    "                      custom_table_fields_dct=custom_table_fields_dct,\n",
    "                      # with_tuning=True,\n",
    "                      with_tuning=False,\n",
    "                      tuned_params_df_paths=tuned_params_df_paths,\n",
    "                      save_results_dir_path=SAVE_RESULTS_DIR_PATH,\n",
    "                      dataset_name='ACSIncomeDataset',\n",
    "                      verbose=True)"
   ]
  },
  {
   "cell_type": "markdown",
   "id": "439f9ce4",
   "metadata": {},
   "source": [
    "### Experiment iteration 3"
   ]
  },
  {
   "cell_type": "code",
   "execution_count": null,
   "id": "d079ad05",
   "metadata": {},
   "outputs": [],
   "source": [
    "# Configs for an experiment iteration\n",
    "exp_iter_num = 3\n",
    "experiment_seed = EXPERIMENT_SEEDS[exp_iter_num - 1]\n",
    "tuned_params_filenames = [\n",
    "    'tuning_results_Folktables_GA_2018_Income_20240103__001338.csv'\n",
    "]\n",
    "tuned_params_df_paths = [os.path.join(ROOT_DIR, 'results', 'diff_fairness_interventions_exp',\n",
    "                                      'LFR', EXPERIMENT_NAME, tuned_params_filename)\n",
    "                         for tuned_params_filename in tuned_params_filenames]\n",
    "custom_table_fields_dct['experiment_iteration'] = f'Exp_iter_{exp_iter_num}'\n",
    "\n",
    "exp_iter_data_loader = copy.deepcopy(data_loader)  # Add deepcopy to avoid data leakage\n",
    "models_params_for_tuning = get_folktables_employment_models_params_for_tuning(experiment_seed)"
   ]
  },
  {
   "cell_type": "code",
   "execution_count": null,
   "id": "6b345af6",
   "metadata": {},
   "outputs": [],
   "source": [
    "run_exp_iter_with_LFR(data_loader=exp_iter_data_loader,\n",
    "                      experiment_seed=experiment_seed,\n",
    "                      test_set_fraction=TEST_SET_FRACTION,\n",
    "                      db_writer_func=db_writer_func,\n",
    "                      fair_intervention_params_lst=FAIR_INTERVENTION_PARAMS_LST,\n",
    "                      models_params_for_tuning=models_params_for_tuning,\n",
    "                      metrics_computation_config=metrics_computation_config,\n",
    "                      custom_table_fields_dct=custom_table_fields_dct,\n",
    "                      # with_tuning=True,\n",
    "                      with_tuning=False,\n",
    "                      tuned_params_df_paths=tuned_params_df_paths,\n",
    "                      save_results_dir_path=SAVE_RESULTS_DIR_PATH,\n",
    "                      dataset_name='ACSIncomeDataset',\n",
    "                      verbose=True)"
   ]
  },
  {
   "cell_type": "markdown",
   "id": "690aa953",
   "metadata": {},
   "source": [
    "### Experiment iteration 4"
   ]
  },
  {
   "cell_type": "code",
   "execution_count": null,
   "id": "8e935a21",
   "metadata": {},
   "outputs": [],
   "source": [
    "# Configs for an experiment iteration\n",
    "exp_iter_num = 4\n",
    "experiment_seed = EXPERIMENT_SEEDS[exp_iter_num - 1]\n",
    "tuned_params_filenames = [\n",
    "    'tuning_results_Folktables_GA_2018_Income_20240103__001338.csv'\n",
    "]\n",
    "tuned_params_df_paths = [os.path.join(ROOT_DIR, 'results', 'diff_fairness_interventions_exp',\n",
    "                                      'LFR', EXPERIMENT_NAME, tuned_params_filename)\n",
    "                         for tuned_params_filename in tuned_params_filenames]\n",
    "custom_table_fields_dct['experiment_iteration'] = f'Exp_iter_{exp_iter_num}'\n",
    "\n",
    "exp_iter_data_loader = copy.deepcopy(data_loader)  # Add deepcopy to avoid data leakage\n",
    "models_params_for_tuning = get_folktables_employment_models_params_for_tuning(experiment_seed)"
   ]
  },
  {
   "cell_type": "code",
   "execution_count": null,
   "id": "4bd177a7",
   "metadata": {},
   "outputs": [],
   "source": [
    "run_exp_iter_with_LFR(data_loader=exp_iter_data_loader,\n",
    "                      experiment_seed=experiment_seed,\n",
    "                      test_set_fraction=TEST_SET_FRACTION,\n",
    "                      db_writer_func=db_writer_func,\n",
    "                      fair_intervention_params_lst=FAIR_INTERVENTION_PARAMS_LST,\n",
    "                      models_params_for_tuning=models_params_for_tuning,\n",
    "                      metrics_computation_config=metrics_computation_config,\n",
    "                      custom_table_fields_dct=custom_table_fields_dct,\n",
    "                      # with_tuning=True,\n",
    "                      with_tuning=False,\n",
    "                      tuned_params_df_paths=tuned_params_df_paths,\n",
    "                      save_results_dir_path=SAVE_RESULTS_DIR_PATH,\n",
    "                      dataset_name='ACSIncomeDataset',\n",
    "                      verbose=True)"
   ]
  },
  {
   "cell_type": "markdown",
   "id": "5fdd5e92",
   "metadata": {},
   "source": [
    "### Experiment iteration 5"
   ]
  },
  {
   "cell_type": "code",
   "execution_count": null,
   "id": "440a834a",
   "metadata": {},
   "outputs": [],
   "source": [
    "# Configs for an experiment iteration\n",
    "exp_iter_num = 5\n",
    "experiment_seed = EXPERIMENT_SEEDS[exp_iter_num - 1]\n",
    "tuned_params_filenames = [\n",
    "    'tuning_results_Folktables_GA_2018_Income_20240103__001338.csv'\n",
    "]\n",
    "tuned_params_df_paths = [os.path.join(ROOT_DIR, 'results', 'diff_fairness_interventions_exp',\n",
    "                                      'LFR', EXPERIMENT_NAME, tuned_params_filename)\n",
    "                         for tuned_params_filename in tuned_params_filenames]\n",
    "custom_table_fields_dct['experiment_iteration'] = f'Exp_iter_{exp_iter_num}'\n",
    "\n",
    "exp_iter_data_loader = copy.deepcopy(data_loader)  # Add deepcopy to avoid data leakage\n",
    "models_params_for_tuning = get_folktables_employment_models_params_for_tuning(experiment_seed)"
   ]
  },
  {
   "cell_type": "code",
   "execution_count": null,
   "id": "1670f63f",
   "metadata": {},
   "outputs": [],
   "source": [
    "run_exp_iter_with_LFR(data_loader=exp_iter_data_loader,\n",
    "                      experiment_seed=experiment_seed,\n",
    "                      test_set_fraction=TEST_SET_FRACTION,\n",
    "                      db_writer_func=db_writer_func,\n",
    "                      fair_intervention_params_lst=FAIR_INTERVENTION_PARAMS_LST,\n",
    "                      models_params_for_tuning=models_params_for_tuning,\n",
    "                      metrics_computation_config=metrics_computation_config,\n",
    "                      custom_table_fields_dct=custom_table_fields_dct,\n",
    "                      # with_tuning=True,\n",
    "                      with_tuning=False,\n",
    "                      tuned_params_df_paths=tuned_params_df_paths,\n",
    "                      save_results_dir_path=SAVE_RESULTS_DIR_PATH,\n",
    "                      dataset_name='ACSIncomeDataset',\n",
    "                      verbose=True)"
   ]
  },
  {
   "cell_type": "markdown",
   "id": "5703f1df",
   "metadata": {},
   "source": [
    "### Experiment iteration 6"
   ]
  },
  {
   "cell_type": "code",
   "execution_count": null,
   "id": "90034585",
   "metadata": {},
   "outputs": [],
   "source": [
    "# Configs for an experiment iteration\n",
    "exp_iter_num = 6\n",
    "experiment_seed = EXPERIMENT_SEEDS[exp_iter_num - 1]\n",
    "tuned_params_filenames = [\n",
    "    'tuning_results_Folktables_GA_2018_Income_20240103__001338.csv'\n",
    "]\n",
    "tuned_params_df_paths = [os.path.join(ROOT_DIR, 'results', 'diff_fairness_interventions_exp',\n",
    "                                      'LFR', EXPERIMENT_NAME, tuned_params_filename)\n",
    "                         for tuned_params_filename in tuned_params_filenames]\n",
    "custom_table_fields_dct['experiment_iteration'] = f'Exp_iter_{exp_iter_num}'\n",
    "\n",
    "exp_iter_data_loader = copy.deepcopy(data_loader)  # Add deepcopy to avoid data leakage\n",
    "models_params_for_tuning = get_folktables_employment_models_params_for_tuning(experiment_seed)"
   ]
  },
  {
   "cell_type": "code",
   "execution_count": null,
   "id": "a5fc7568",
   "metadata": {},
   "outputs": [],
   "source": [
    "run_exp_iter_with_LFR(data_loader=exp_iter_data_loader,\n",
    "                      experiment_seed=experiment_seed,\n",
    "                      test_set_fraction=TEST_SET_FRACTION,\n",
    "                      db_writer_func=db_writer_func,\n",
    "                      fair_intervention_params_lst=FAIR_INTERVENTION_PARAMS_LST,\n",
    "                      models_params_for_tuning=models_params_for_tuning,\n",
    "                      metrics_computation_config=metrics_computation_config,\n",
    "                      custom_table_fields_dct=custom_table_fields_dct,\n",
    "                      # with_tuning=True,\n",
    "                      with_tuning=False,\n",
    "                      tuned_params_df_paths=tuned_params_df_paths,\n",
    "                      save_results_dir_path=SAVE_RESULTS_DIR_PATH,\n",
    "                      dataset_name='ACSIncomeDataset',\n",
    "                      verbose=True)"
   ]
  },
  {
   "cell_type": "code",
   "execution_count": null,
   "id": "97ad1039",
   "metadata": {},
   "outputs": [],
   "source": []
  }
 ],
 "metadata": {
  "kernelspec": {
   "display_name": "Python 3",
   "language": "python",
   "name": "python3"
  },
  "language_info": {
   "codemirror_mode": {
    "name": "ipython",
    "version": 3
   },
   "file_extension": ".py",
   "mimetype": "text/x-python",
   "name": "python",
   "nbconvert_exporter": "python",
   "pygments_lexer": "ipython3",
   "version": "3.8.5"
  }
 },
 "nbformat": 4,
 "nbformat_minor": 5
}
