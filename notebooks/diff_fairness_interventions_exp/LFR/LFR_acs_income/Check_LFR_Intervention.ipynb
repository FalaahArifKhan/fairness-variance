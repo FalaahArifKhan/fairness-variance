{
 "cells": [
  {
   "cell_type": "code",
   "execution_count": 9,
   "id": "770c0215",
   "metadata": {
    "ExecuteTime": {
     "end_time": "2023-12-30T14:50:58.594856Z",
     "start_time": "2023-12-30T14:50:58.556175Z"
    }
   },
   "outputs": [
    {
     "name": "stdout",
     "output_type": "stream",
     "text": [
      "The autoreload extension is already loaded. To reload it, use:\n",
      "  %reload_ext autoreload\n"
     ]
    }
   ],
   "source": [
    "%matplotlib inline\n",
    "%load_ext autoreload\n",
    "%autoreload 2"
   ]
  },
  {
   "cell_type": "code",
   "execution_count": 10,
   "id": "ac896a62",
   "metadata": {
    "ExecuteTime": {
     "end_time": "2023-12-30T14:50:58.607638Z",
     "start_time": "2023-12-30T14:50:58.584166Z"
    }
   },
   "outputs": [],
   "source": [
    "import os\n",
    "import warnings\n",
    "warnings.filterwarnings('ignore')\n",
    "os.environ[\"PYTHONWARNINGS\"] = \"ignore\""
   ]
  },
  {
   "cell_type": "code",
   "execution_count": 11,
   "id": "4e1305f8",
   "metadata": {
    "ExecuteTime": {
     "end_time": "2023-12-30T14:50:58.631073Z",
     "start_time": "2023-12-30T14:50:58.607505Z"
    }
   },
   "outputs": [
    {
     "name": "stdout",
     "output_type": "stream",
     "text": [
      "Current location:  /Users/denys_herasymuk/UCU/4course_2term/Bachelor_Thesis/Code/fairness-variance\n"
     ]
    }
   ],
   "source": [
    "cur_folder_name = os.getcwd().split('/')[-1]\n",
    "if cur_folder_name != \"fairness-variance\":\n",
    "    os.chdir(\"../../../..\")\n",
    "\n",
    "print('Current location: ', os.getcwd())"
   ]
  },
  {
   "cell_type": "code",
   "execution_count": 12,
   "id": "9d42b728",
   "metadata": {
    "ExecuteTime": {
     "end_time": "2023-12-30T14:50:58.648746Z",
     "start_time": "2023-12-30T14:50:58.629143Z"
    }
   },
   "outputs": [],
   "source": [
    "import copy\n",
    "from virny.datasets import StudentPerformancePortugueseDataset\n",
    "from virny.preprocessing.basic_preprocessing import preprocess_dataset\n",
    "from aif360.metrics import BinaryLabelDatasetMetric\n",
    "from aif360.datasets import BinaryLabelDataset\n",
    "\n",
    "from source.preprocessing import get_simple_preprocessor, apply_lfr\n",
    "from configs.constants import EXPERIMENT_SEEDS\n",
    "from IPython.display import Markdown, display"
   ]
  },
  {
   "cell_type": "code",
   "execution_count": 13,
   "id": "b81eeb59",
   "metadata": {
    "ExecuteTime": {
     "end_time": "2023-12-30T14:50:58.717267Z",
     "start_time": "2023-12-30T14:50:58.650321Z"
    }
   },
   "outputs": [
    {
     "data": {
      "text/plain": "   age  Medu  Fedu  traveltime  studytime  failures  famrel  freetime  goout  \\\n0   18     4     4           2          2         0       4         3      4   \n1   17     1     1           1          2         0       5         3      3   \n2   15     1     1           1          2         0       4         3      2   \n3   15     4     2           1          3         0       3         2      2   \n4   16     3     3           1          2         0       4         3      2   \n\n   Dalc  ...  reason  guardian  schoolsup  famsup  paid activities nursery  \\\n0     1  ...  course    mother        yes      no    no         no     yes   \n1     1  ...  course    father         no     yes    no         no      no   \n2     2  ...   other    mother        yes      no    no         no     yes   \n3     1  ...    home    mother         no     yes    no        yes     yes   \n4     1  ...    home    father         no     yes    no         no     yes   \n\n  higher internet romantic  \n0    yes       no       no  \n1    yes      yes       no  \n2    yes      yes       no  \n3    yes      yes      yes  \n4    yes       no       no  \n\n[5 rows x 32 columns]",
      "text/html": "<div>\n<style scoped>\n    .dataframe tbody tr th:only-of-type {\n        vertical-align: middle;\n    }\n\n    .dataframe tbody tr th {\n        vertical-align: top;\n    }\n\n    .dataframe thead th {\n        text-align: right;\n    }\n</style>\n<table border=\"1\" class=\"dataframe\">\n  <thead>\n    <tr style=\"text-align: right;\">\n      <th></th>\n      <th>age</th>\n      <th>Medu</th>\n      <th>Fedu</th>\n      <th>traveltime</th>\n      <th>studytime</th>\n      <th>failures</th>\n      <th>famrel</th>\n      <th>freetime</th>\n      <th>goout</th>\n      <th>Dalc</th>\n      <th>...</th>\n      <th>reason</th>\n      <th>guardian</th>\n      <th>schoolsup</th>\n      <th>famsup</th>\n      <th>paid</th>\n      <th>activities</th>\n      <th>nursery</th>\n      <th>higher</th>\n      <th>internet</th>\n      <th>romantic</th>\n    </tr>\n  </thead>\n  <tbody>\n    <tr>\n      <th>0</th>\n      <td>18</td>\n      <td>4</td>\n      <td>4</td>\n      <td>2</td>\n      <td>2</td>\n      <td>0</td>\n      <td>4</td>\n      <td>3</td>\n      <td>4</td>\n      <td>1</td>\n      <td>...</td>\n      <td>course</td>\n      <td>mother</td>\n      <td>yes</td>\n      <td>no</td>\n      <td>no</td>\n      <td>no</td>\n      <td>yes</td>\n      <td>yes</td>\n      <td>no</td>\n      <td>no</td>\n    </tr>\n    <tr>\n      <th>1</th>\n      <td>17</td>\n      <td>1</td>\n      <td>1</td>\n      <td>1</td>\n      <td>2</td>\n      <td>0</td>\n      <td>5</td>\n      <td>3</td>\n      <td>3</td>\n      <td>1</td>\n      <td>...</td>\n      <td>course</td>\n      <td>father</td>\n      <td>no</td>\n      <td>yes</td>\n      <td>no</td>\n      <td>no</td>\n      <td>no</td>\n      <td>yes</td>\n      <td>yes</td>\n      <td>no</td>\n    </tr>\n    <tr>\n      <th>2</th>\n      <td>15</td>\n      <td>1</td>\n      <td>1</td>\n      <td>1</td>\n      <td>2</td>\n      <td>0</td>\n      <td>4</td>\n      <td>3</td>\n      <td>2</td>\n      <td>2</td>\n      <td>...</td>\n      <td>other</td>\n      <td>mother</td>\n      <td>yes</td>\n      <td>no</td>\n      <td>no</td>\n      <td>no</td>\n      <td>yes</td>\n      <td>yes</td>\n      <td>yes</td>\n      <td>no</td>\n    </tr>\n    <tr>\n      <th>3</th>\n      <td>15</td>\n      <td>4</td>\n      <td>2</td>\n      <td>1</td>\n      <td>3</td>\n      <td>0</td>\n      <td>3</td>\n      <td>2</td>\n      <td>2</td>\n      <td>1</td>\n      <td>...</td>\n      <td>home</td>\n      <td>mother</td>\n      <td>no</td>\n      <td>yes</td>\n      <td>no</td>\n      <td>yes</td>\n      <td>yes</td>\n      <td>yes</td>\n      <td>yes</td>\n      <td>yes</td>\n    </tr>\n    <tr>\n      <th>4</th>\n      <td>16</td>\n      <td>3</td>\n      <td>3</td>\n      <td>1</td>\n      <td>2</td>\n      <td>0</td>\n      <td>4</td>\n      <td>3</td>\n      <td>2</td>\n      <td>1</td>\n      <td>...</td>\n      <td>home</td>\n      <td>father</td>\n      <td>no</td>\n      <td>yes</td>\n      <td>no</td>\n      <td>no</td>\n      <td>yes</td>\n      <td>yes</td>\n      <td>no</td>\n      <td>no</td>\n    </tr>\n  </tbody>\n</table>\n<p>5 rows × 32 columns</p>\n</div>"
     },
     "execution_count": 13,
     "metadata": {},
     "output_type": "execute_result"
    }
   ],
   "source": [
    "exp_iter_num = 1\n",
    "experiment_seed = EXPERIMENT_SEEDS[exp_iter_num - 1]\n",
    "test_set_fraction = 0.25\n",
    "sensitive_attr_for_intervention = 'sex_binary'\n",
    "privileged_groups = [{sensitive_attr_for_intervention: 1}]\n",
    "unprivileged_groups = [{sensitive_attr_for_intervention: 0}]\n",
    "intervention_options = {'k': 10, 'Ax': 0.1, 'Ay': 0.9, 'Az': 2.0}\n",
    "\n",
    "data_loader = StudentPerformancePortugueseDataset()\n",
    "data_loader.X_data.head()"
   ]
  },
  {
   "cell_type": "markdown",
   "source": [
    "## Preprocessing"
   ],
   "metadata": {
    "collapsed": false
   },
   "id": "519e91a8975f2739"
  },
  {
   "cell_type": "code",
   "execution_count": 14,
   "id": "a7f9340c",
   "metadata": {
    "ExecuteTime": {
     "end_time": "2023-12-30T14:50:58.724549Z",
     "start_time": "2023-12-30T14:50:58.716257Z"
    }
   },
   "outputs": [],
   "source": [
    "init_data_loader = copy.deepcopy(data_loader)\n",
    "data_loader.categorical_columns = [col for col in data_loader.categorical_columns if col != 'sex']\n",
    "data_loader.X_data[sensitive_attr_for_intervention] = data_loader.X_data['sex'].apply(lambda x: 1 if x == 'M' else 0)\n",
    "data_loader.full_df = data_loader.full_df.drop(['sex'], axis=1)\n",
    "data_loader.X_data = data_loader.X_data.drop(['sex'], axis=1)\n",
    "\n",
    "# Preprocess the dataset using the defined preprocessor\n",
    "column_transformer = get_simple_preprocessor(data_loader)\n",
    "base_flow_dataset = preprocess_dataset(data_loader, column_transformer, test_set_fraction, experiment_seed)\n",
    "base_flow_dataset.init_features_df = init_data_loader.full_df.drop(init_data_loader.target, axis=1, errors='ignore')\n",
    "\n",
    "# Align indexes of base_flow_dataset with data_loader for sensitive_attr_for_intervention column\n",
    "base_flow_dataset.X_train_val[sensitive_attr_for_intervention] =\\\n",
    "    data_loader.X_data.loc[base_flow_dataset.X_train_val.index, sensitive_attr_for_intervention]\n",
    "base_flow_dataset.X_test[sensitive_attr_for_intervention] =\\\n",
    "    data_loader.X_data.loc[base_flow_dataset.X_test.index, sensitive_attr_for_intervention]"
   ]
  },
  {
   "cell_type": "code",
   "execution_count": 15,
   "id": "debfd5bf",
   "metadata": {
    "ExecuteTime": {
     "end_time": "2023-12-30T14:51:00.080348Z",
     "start_time": "2023-12-30T14:50:58.725035Z"
    }
   },
   "outputs": [
    {
     "name": "stdout",
     "output_type": "stream",
     "text": [
      "step: 0, loss: 0.7781489614434901, L_x: 1.0183954863110314,  L_y: 0.7414509572034835,  L_z: 0.004501775664625898\n",
      "step: 250, loss: 0.778148961731957, L_x: 1.0183954943422897,  L_y: 0.7414509570366035,  L_z: 0.0045017754823924545\n",
      "step: 500, loss: 0.7781489045226891, L_x: 1.018395514727092,  L_y: 0.7414508930165289,  L_z: 0.0045017746675519955\n",
      "RUNNING THE L-BFGS-B CODE\n",
      "\n",
      "           * * *\n",
      "\n",
      "Machine precision = 2.220D-16\n",
      " N =          580     M =           10\n",
      "\n",
      "At X0         0 variables are exactly at the bounds\n",
      "\n",
      "At iterate    0    f=  7.78149D-01    |proj g|=  1.72107D-01\n",
      "step: 750, loss: 0.6340894436050039, L_x: 1.01820749865161,  L_y: 0.5816106725136384,  L_z: 0.0044095442387841605\n",
      "step: 1000, loss: 0.6340894069162193, L_x: 1.0182074755950312,  L_y: 0.5816106352057855,  L_z: 0.004409543835754594\n",
      "\n",
      "At iterate    1    f=  6.34089D-01    |proj g|=  1.08246D-01\n",
      "step: 1250, loss: 0.49504240329393906, L_x: 1.0158754662745966,  L_y: 0.4283572398428771,  L_z: 0.003966670403945005\n",
      "step: 1500, loss: 0.49504239075896705, L_x: 1.0158754615705503,  L_y: 0.4283572333076721,  L_z: 0.00396666731250357\n",
      "\n",
      "At iterate    2    f=  4.95042D-01    |proj g|=  3.43231D-02\n",
      "step: 1750, loss: 0.4842240044504943, L_x: 1.0134420463000384,  L_y: 0.4176430912687567,  L_z: 0.0035005088393047015\n",
      "step: 2000, loss: 0.4842241493751166, L_x: 1.0134420512539837,  L_y: 0.41764325017570253,  L_z: 0.003500509545792972\n",
      "step: 2250, loss: 0.4842241472722333, L_x: 1.0134420550808114,  L_y: 0.4176432461912643,  L_z: 0.0035005100960071437\n",
      "\n",
      "At iterate    3    f=  4.84224D-01    |proj g|=  3.04107D-02\n",
      "step: 2500, loss: 0.481343405596202, L_x: 1.0130696900119855,  L_y: 0.4147437166188222,  L_z: 0.003383545819031708\n",
      "step: 2750, loss: 0.48134340895074024, L_x: 1.0130696406612363,  L_y: 0.41474370390568754,  L_z: 0.003383555684748915\n",
      "\n",
      "At iterate    4    f=  4.81343D-01    |proj g|=  1.37124D-02\n",
      "step: 3000, loss: 0.47639945150896995, L_x: 1.011059365364438,  L_y: 0.41052632010583556,  L_z: 0.0029099134386370755\n",
      "step: 3250, loss: 0.4763994542302544, L_x: 1.0110593951570812,  L_y: 0.41052632696355784,  L_z: 0.002909910223672117\n",
      "\n",
      "At iterate    5    f=  4.76399D-01    |proj g|=  1.04571D-02\n",
      "step: 3500, loss: 0.46417112538673144, L_x: 1.004620087934596,  L_y: 0.3997273985735358,  L_z: 0.0019772289385448063\n",
      "step: 3750, loss: 0.46417110553162416, L_x: 1.0046200637221663,  L_y: 0.39972738265480995,  L_z: 0.0019772273850392737\n",
      "step: 4000, loss: 0.46417112314239195, L_x: 1.0046201283243916,  L_y: 0.3997273841986656,  L_z: 0.001977232265576856\n",
      "\n",
      "At iterate    6    f=  4.64171D-01    |proj g|=  2.38581D-02\n",
      "step: 4250, loss: 0.4220850673576537, L_x: 0.9554569661462737,  L_y: 0.3466667898113318,  L_z: 0.0072696299564138575\n",
      "step: 4500, loss: 0.4220850586949256, L_x: 0.9554569503247373,  L_y: 0.3466667819223207,  L_z: 0.007269629966181619\n",
      "\n",
      "At iterate    7    f=  4.22085D-01    |proj g|=  3.96618D-02\n",
      "step: 4750, loss: 0.39806163406008616, L_x: 0.9170074548892102,  L_y: 0.31481018147339085,  L_z: 0.011515862622556657\n",
      "step: 5000, loss: 0.3980616685393544, L_x: 0.9170074623260321,  L_y: 0.31481018241603054,  L_z: 0.01151587906616183\n",
      "\n",
      "At iterate    8    f=  3.98062D-01    |proj g|=  3.69778D-02\n",
      "\n",
      "           * * *\n",
      "\n",
      "Tit   = total number of iterations\n",
      "Tnf   = total number of function evaluations\n",
      "Tnint = total number of segments explored during Cauchy searches\n",
      "Skip  = number of BFGS updates skipped\n",
      "Nact  = number of active bounds at final generalized Cauchy point\n",
      "Projg = norm of the final projected gradient\n",
      "F     = final function value\n",
      "\n",
      "           * * *\n",
      "\n",
      "   N    Tit     Tnf  Tnint  Skip  Nact     Projg        F\n",
      "  580      8      9     16     0     7   3.698D-02   3.981D-01\n",
      "  F =  0.39806163149596013     \n",
      "\n",
      "STOP: TOTAL NO. of f AND g EVALUATIONS EXCEEDS LIMIT        \n"
     ]
    }
   ],
   "source": [
    "# Fair preprocessing\n",
    "processed_base_flow_dataset = apply_lfr(base_flow_dataset,\n",
    "                                        intervention_options=intervention_options,\n",
    "                                        sensitive_attribute=sensitive_attr_for_intervention)"
   ]
  },
  {
   "cell_type": "markdown",
   "source": [
    "## Check if the intervention was applied correctly"
   ],
   "metadata": {
    "collapsed": false
   },
   "id": "395ac6a213d9f33e"
  },
  {
   "cell_type": "code",
   "execution_count": 17,
   "outputs": [],
   "source": [
    "processed_base_flow_dataset.X_train_val[sensitive_attr_for_intervention] = \\\n",
    "    data_loader.X_data.loc[base_flow_dataset.X_train_val.index, sensitive_attr_for_intervention]\n",
    "processed_base_flow_dataset.X_test[sensitive_attr_for_intervention] = \\\n",
    "    data_loader.X_data.loc[base_flow_dataset.X_test.index, sensitive_attr_for_intervention]\n",
    "\n",
    "# Original\n",
    "original_train_df = base_flow_dataset.X_train_val\n",
    "original_train_df[base_flow_dataset.target] = base_flow_dataset.y_train_val\n",
    "original_test_df = base_flow_dataset.X_test\n",
    "original_test_df[base_flow_dataset.target] = base_flow_dataset.y_test\n",
    "\n",
    "dataset_orig_train = BinaryLabelDataset(df=original_train_df,\n",
    "                                        label_names=[base_flow_dataset.target],\n",
    "                                        protected_attribute_names=[sensitive_attr_for_intervention],\n",
    "                                        favorable_label=1,\n",
    "                                        unfavorable_label=0)\n",
    "dataset_orig_test = BinaryLabelDataset(df=original_test_df,\n",
    "                                       label_names=[base_flow_dataset.target],\n",
    "                                       protected_attribute_names=[sensitive_attr_for_intervention],\n",
    "                                       favorable_label=1,\n",
    "                                       unfavorable_label=0)\n",
    "\n",
    "# Transformed\n",
    "transf_train_df = processed_base_flow_dataset.X_train_val\n",
    "transf_train_df[processed_base_flow_dataset.target] = processed_base_flow_dataset.y_train_val\n",
    "transf_test_df = processed_base_flow_dataset.X_test\n",
    "transf_test_df[processed_base_flow_dataset.target] = processed_base_flow_dataset.y_test\n",
    "\n",
    "dataset_transf_train = BinaryLabelDataset(df=transf_train_df,\n",
    "                                          label_names=[processed_base_flow_dataset.target],\n",
    "                                          protected_attribute_names=[sensitive_attr_for_intervention],\n",
    "                                          favorable_label=1,\n",
    "                                          unfavorable_label=0)\n",
    "dataset_transf_test = BinaryLabelDataset(df=transf_test_df,\n",
    "                                         label_names=[processed_base_flow_dataset.target],\n",
    "                                         protected_attribute_names=[sensitive_attr_for_intervention],\n",
    "                                         favorable_label=1,\n",
    "                                         unfavorable_label=0)"
   ],
   "metadata": {
    "collapsed": false,
    "ExecuteTime": {
     "end_time": "2023-12-30T14:52:52.334640Z",
     "start_time": "2023-12-30T14:52:52.279063Z"
    }
   },
   "id": "f31c60d8ec63b69e"
  },
  {
   "cell_type": "code",
   "execution_count": 18,
   "id": "750ffcab",
   "metadata": {
    "ExecuteTime": {
     "end_time": "2023-12-30T14:52:54.290246Z",
     "start_time": "2023-12-30T14:52:54.267352Z"
    }
   },
   "outputs": [
    {
     "data": {
      "text/plain": "<IPython.core.display.Markdown object>",
      "text/markdown": "#### Training dataset"
     },
     "metadata": {},
     "output_type": "display_data"
    },
    {
     "name": "stdout",
     "output_type": "stream",
     "text": [
      "Transformed: Difference in mean outcomes between unprivileged and privileged groups = 0.013156\n",
      "Original: Difference in mean outcomes between unprivileged and privileged groups = 0.042717\n"
     ]
    },
    {
     "data": {
      "text/plain": "<IPython.core.display.Markdown object>",
      "text/markdown": "#### Test dataset"
     },
     "metadata": {},
     "output_type": "display_data"
    },
    {
     "name": "stdout",
     "output_type": "stream",
     "text": [
      "Transformed: Difference in mean outcomes between unprivileged and privileged groups = 0.043478\n",
      "Original: Difference in mean outcomes between unprivileged and privileged groups = 0.100370\n"
     ]
    }
   ],
   "source": [
    "metric_orig_train = BinaryLabelDatasetMetric(dataset_orig_train,\n",
    "                                             unprivileged_groups=unprivileged_groups,\n",
    "                                             privileged_groups=privileged_groups)\n",
    "metric_transf_train = BinaryLabelDatasetMetric(dataset_transf_train,\n",
    "                                               unprivileged_groups=unprivileged_groups,\n",
    "                                               privileged_groups=privileged_groups)\n",
    "display(Markdown(\"#### Training dataset\"))\n",
    "print(\"Transformed: Difference in mean outcomes between unprivileged and privileged groups = %f\" % metric_transf_train.mean_difference())\n",
    "print(\"Original: Difference in mean outcomes between unprivileged and privileged groups = %f\" % metric_orig_train.mean_difference())\n",
    "\n",
    "metric_orig_test = BinaryLabelDatasetMetric(dataset_orig_test,\n",
    "                                            unprivileged_groups=unprivileged_groups,\n",
    "                                            privileged_groups=privileged_groups)\n",
    "metric_transf_test = BinaryLabelDatasetMetric(dataset_transf_test,\n",
    "                                              unprivileged_groups=unprivileged_groups,\n",
    "                                              privileged_groups=privileged_groups)\n",
    "display(Markdown(\"#### Test dataset\"))\n",
    "print(\"Transformed: Difference in mean outcomes between unprivileged and privileged groups = %f\" % metric_transf_test.mean_difference())\n",
    "print(\"Original: Difference in mean outcomes between unprivileged and privileged groups = %f\" % metric_orig_test.mean_difference())"
   ]
  },
  {
   "cell_type": "code",
   "execution_count": 19,
   "outputs": [
    {
     "data": {
      "text/plain": "<IPython.core.display.Markdown object>",
      "text/markdown": "#### Individual fairness metrics"
     },
     "metadata": {},
     "output_type": "display_data"
    },
    {
     "name": "stdout",
     "output_type": "stream",
     "text": [
      "Consistency of labels in transformed training dataset= 0.987654\n",
      "Consistency of labels in original training dataset= 0.888889\n",
      "Consistency of labels in transformed test dataset= 0.991411\n",
      "Consistency of labels in original test dataset= 0.857669\n"
     ]
    }
   ],
   "source": [
    "display(Markdown(\"#### Individual fairness metrics\"))\n",
    "print(\"Consistency of labels in transformed training dataset= %f\" %metric_transf_train.consistency())\n",
    "print(\"Consistency of labels in original training dataset= %f\" %metric_orig_train.consistency())\n",
    "print(\"Consistency of labels in transformed test dataset= %f\" %metric_transf_test.consistency())\n",
    "print(\"Consistency of labels in original test dataset= %f\" %metric_orig_test.consistency())"
   ],
   "metadata": {
    "collapsed": false,
    "ExecuteTime": {
     "end_time": "2023-12-30T14:53:11.366596Z",
     "start_time": "2023-12-30T14:53:11.304676Z"
    }
   },
   "id": "79ecb41c9dab9012"
  },
  {
   "cell_type": "code",
   "execution_count": 20,
   "outputs": [
    {
     "name": "stdout",
     "output_type": "stream",
     "text": [
      "Success!\n"
     ]
    }
   ],
   "source": [
    "def check_algorithm_success():\n",
    "    \"\"\"Transformed dataset consistency should be greater than original dataset.\"\"\"\n",
    "    assert metric_transf_test.consistency() > metric_orig_test.consistency(), \\\n",
    "        \"Transformed dataset consistency should be greater than original dataset.\"\n",
    "\n",
    "    print('Success!')\n",
    "\n",
    "check_algorithm_success()    "
   ],
   "metadata": {
    "collapsed": false,
    "ExecuteTime": {
     "end_time": "2023-12-30T14:53:20.475626Z",
     "start_time": "2023-12-30T14:53:20.454324Z"
    }
   },
   "id": "173748b25444aad7"
  },
  {
   "cell_type": "code",
   "execution_count": null,
   "outputs": [],
   "source": [],
   "metadata": {
    "collapsed": false,
    "ExecuteTime": {
     "start_time": "2023-12-30T14:51:00.743618Z"
    }
   },
   "id": "c879a3ba3017580f"
  }
 ],
 "metadata": {
  "kernelspec": {
   "display_name": "Python 3",
   "language": "python",
   "name": "python3"
  },
  "language_info": {
   "codemirror_mode": {
    "name": "ipython",
    "version": 3
   },
   "file_extension": ".py",
   "mimetype": "text/x-python",
   "name": "python",
   "nbconvert_exporter": "python",
   "pygments_lexer": "ipython3",
   "version": "3.8.5"
  }
 },
 "nbformat": 4,
 "nbformat_minor": 5
}
