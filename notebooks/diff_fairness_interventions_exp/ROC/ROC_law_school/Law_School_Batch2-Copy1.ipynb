{
 "cells": [
  {
   "cell_type": "code",
   "execution_count": 15,
   "id": "5835ad07",
   "metadata": {},
   "outputs": [],
   "source": [
    "# !pip install -r ./requirements.txt"
   ]
  },
  {
   "cell_type": "code",
   "execution_count": 2,
   "id": "2d434d9d",
   "metadata": {
    "ExecuteTime": {
     "end_time": "2024-01-03T22:06:47.913158Z",
     "start_time": "2024-01-03T22:06:47.899893Z"
    }
   },
   "outputs": [],
   "source": [
    "# !pip uninstall virny -y"
   ]
  },
  {
   "cell_type": "code",
   "execution_count": 4,
   "id": "ade28dcf",
   "metadata": {
    "ExecuteTime": {
     "end_time": "2024-01-03T22:07:04.695699Z",
     "start_time": "2024-01-03T22:07:04.683807Z"
    }
   },
   "outputs": [],
   "source": [
    "# Install using an HTTP link\n",
    "# !pip install git+https://github.com/DataResponsibly/Virny.git@feature/prepare_for_uncertainty_experiments\n",
    "\n",
    "# Install using an SSH link\n",
    "# !pip install git+ssh://git@github.com/DataResponsibly/Virny.git@feature/prepare_for_uncertainty_experiments"
   ]
  },
  {
   "cell_type": "code",
   "execution_count": 1,
   "id": "51f95260",
   "metadata": {
    "is_executing": true
   },
   "outputs": [],
   "source": [
    "%matplotlib inline\n",
    "%load_ext autoreload\n",
    "%autoreload 2"
   ]
  },
  {
   "cell_type": "code",
   "execution_count": 2,
   "id": "aa1c1397",
   "metadata": {
    "ExecuteTime": {
     "end_time": "2024-01-04T22:00:03.593291Z",
     "start_time": "2024-01-04T22:00:03.588235Z"
    }
   },
   "outputs": [],
   "source": [
    "import os\n",
    "import warnings\n",
    "warnings.filterwarnings('ignore')\n",
    "os.environ[\"PYTHONWARNINGS\"] = \"ignore\""
   ]
  },
  {
   "cell_type": "code",
   "execution_count": 3,
   "id": "2197497b",
   "metadata": {
    "ExecuteTime": {
     "end_time": "2024-01-04T22:00:03.860770Z",
     "start_time": "2024-01-04T22:00:03.851235Z"
    }
   },
   "outputs": [
    {
     "name": "stdout",
     "output_type": "stream",
     "text": [
      "Current location:  /home/dh3553/projects/fairness-variance\n"
     ]
    }
   ],
   "source": [
    "cur_folder_name = os.getcwd().split('/')[-1]\n",
    "if cur_folder_name != \"fairness-variance\":\n",
    "    os.chdir(\"../../../..\")\n",
    "\n",
    "print('Current location: ', os.getcwd())"
   ]
  },
  {
   "cell_type": "markdown",
   "id": "7211060c",
   "metadata": {},
   "source": [
    "## Import dependencies"
   ]
  },
  {
   "cell_type": "code",
   "execution_count": 4,
   "id": "9fc66258",
   "metadata": {
    "ExecuteTime": {
     "end_time": "2024-01-04T22:00:04.613108Z",
     "start_time": "2024-01-04T22:00:04.609114Z"
    }
   },
   "outputs": [
    {
     "name": "stderr",
     "output_type": "stream",
     "text": [
      "WARNING:root:No module named 'tempeh': LawSchoolGPADataset will be unavailable. To install, run:\n",
      "pip install 'aif360[LawSchoolGPA]'\n",
      "WARNING:root:No module named 'tensorflow': AdversarialDebiasing will be unavailable. To install, run:\n",
      "pip install 'aif360[AdversarialDebiasing]'\n",
      "WARNING:root:No module named 'tensorflow': AdversarialDebiasing will be unavailable. To install, run:\n",
      "pip install 'aif360[AdversarialDebiasing]'\n"
     ]
    }
   ],
   "source": [
    "import copy\n",
    "\n",
    "from virny.utils.custom_initializers import create_config_obj\n",
    "from virny.datasets import LawSchoolDataset\n",
    "\n",
    "from configs.constants import TEST_SET_FRACTION, EXPERIMENT_SEEDS\n",
    "from configs.models_config_for_tuning import get_folktables_employment_models_params_for_tuning2\n",
    "\n",
    "from source.experiment_interface import run_exp_iter_with_eq_odds"
   ]
  },
  {
   "cell_type": "markdown",
   "id": "858df633",
   "metadata": {},
   "source": [
    "## Define Input Variables"
   ]
  },
  {
   "cell_type": "code",
   "execution_count": 5,
   "id": "1d8d9156",
   "metadata": {
    "ExecuteTime": {
     "end_time": "2024-01-04T22:00:05.166518Z",
     "start_time": "2024-01-04T22:00:05.162406Z"
    }
   },
   "outputs": [],
   "source": [
    "ROOT_DIR = os.getcwd()\n",
    "DATASET_NAME = 'LawSchoolDataset'\n",
    "FAIRNESS_INTERVENTION_NAME = 'ROC'\n",
    "EXPERIMENT_NAME = 'ROC_law_school'\n",
    "DB_COLLECTION_NAME = 'one_repair_lvl_many_models'\n",
    "FAIR_INTERVENTION_PARAMS_LST = [True]\n",
    "SAVE_RESULTS_DIR_PATH = os.path.join(ROOT_DIR, 'results', 'diff_fairness_interventions_exp',\n",
    "                                     FAIRNESS_INTERVENTION_NAME, EXPERIMENT_NAME)\n",
    "\n",
    "config_yaml_path = os.path.join(ROOT_DIR, 'notebooks', 'diff_fairness_interventions_exp',\n",
    "                                FAIRNESS_INTERVENTION_NAME, EXPERIMENT_NAME, 'law_school_config.yaml')\n",
    "metrics_computation_config = create_config_obj(config_yaml_path=config_yaml_path)"
   ]
  },
  {
   "cell_type": "markdown",
   "id": "837e856e",
   "metadata": {},
   "source": [
    "## Define a db writer and custom fields to insert into your database"
   ]
  },
  {
   "cell_type": "code",
   "execution_count": 6,
   "id": "b6efc6c6",
   "metadata": {
    "ExecuteTime": {
     "end_time": "2024-01-04T22:00:05.935156Z",
     "start_time": "2024-01-04T22:00:05.925781Z"
    }
   },
   "outputs": [
    {
     "data": {
      "text/plain": [
       "'fairness_variance'"
      ]
     },
     "execution_count": 6,
     "metadata": {},
     "output_type": "execute_result"
    }
   ],
   "source": [
    "import os\n",
    "from dotenv import load_dotenv\n",
    "\n",
    "load_dotenv('./configs/secrets.env')\n",
    "os.getenv(\"DB_NAME\")"
   ]
  },
  {
   "cell_type": "code",
   "execution_count": 7,
   "id": "ffe63ba7",
   "metadata": {
    "ExecuteTime": {
     "end_time": "2024-01-04T22:00:06.321814Z",
     "start_time": "2024-01-04T22:00:06.169896Z"
    }
   },
   "outputs": [],
   "source": [
    "from source.utils.db_functions import connect_to_mongodb\n",
    "\n",
    "client, collection_obj, db_writer_func = connect_to_mongodb(DB_COLLECTION_NAME)"
   ]
  },
  {
   "cell_type": "code",
   "execution_count": 8,
   "id": "e811f379",
   "metadata": {
    "ExecuteTime": {
     "end_time": "2024-01-04T22:00:06.607501Z",
     "start_time": "2024-01-04T22:00:06.601893Z"
    }
   },
   "outputs": [
    {
     "name": "stdout",
     "output_type": "stream",
     "text": [
      "Current session uuid:  b1f109f5-3def-4da0-872b-6f0f1a9be953\n"
     ]
    }
   ],
   "source": [
    "import uuid\n",
    "\n",
    "custom_table_fields_dct = {\n",
    "#     'session_uuid': str(uuid.uuid4()),\n",
    "    'session_uuid': 'b1f109f5-3def-4da0-872b-6f0f1a9be953',\n",
    "}\n",
    "print('Current session uuid: ', custom_table_fields_dct['session_uuid'])"
   ]
  },
  {
   "cell_type": "markdown",
   "id": "ca16cff5",
   "metadata": {},
   "source": [
    "## Initialize custom objects"
   ]
  },
  {
   "cell_type": "code",
   "execution_count": 9,
   "id": "69a7cd96",
   "metadata": {
    "ExecuteTime": {
     "end_time": "2024-01-04T22:00:07.627425Z",
     "start_time": "2024-01-04T22:00:07.601552Z"
    }
   },
   "outputs": [
    {
     "data": {
      "text/html": [
       "<div>\n",
       "<style scoped>\n",
       "    .dataframe tbody tr th:only-of-type {\n",
       "        vertical-align: middle;\n",
       "    }\n",
       "\n",
       "    .dataframe tbody tr th {\n",
       "        vertical-align: top;\n",
       "    }\n",
       "\n",
       "    .dataframe thead th {\n",
       "        text-align: right;\n",
       "    }\n",
       "</style>\n",
       "<table border=\"1\" class=\"dataframe\">\n",
       "  <thead>\n",
       "    <tr style=\"text-align: right;\">\n",
       "      <th></th>\n",
       "      <th>decile1b</th>\n",
       "      <th>decile3</th>\n",
       "      <th>lsat</th>\n",
       "      <th>ugpa</th>\n",
       "      <th>zfygpa</th>\n",
       "      <th>zgpa</th>\n",
       "      <th>fulltime</th>\n",
       "      <th>fam_inc</th>\n",
       "      <th>male</th>\n",
       "      <th>tier</th>\n",
       "      <th>race</th>\n",
       "    </tr>\n",
       "  </thead>\n",
       "  <tbody>\n",
       "    <tr>\n",
       "      <th>0</th>\n",
       "      <td>10.0</td>\n",
       "      <td>10.0</td>\n",
       "      <td>44.0</td>\n",
       "      <td>3.5</td>\n",
       "      <td>1.33</td>\n",
       "      <td>1.88</td>\n",
       "      <td>1.0</td>\n",
       "      <td>5.0</td>\n",
       "      <td>0.0</td>\n",
       "      <td>4.0</td>\n",
       "      <td>White</td>\n",
       "    </tr>\n",
       "    <tr>\n",
       "      <th>1</th>\n",
       "      <td>5.0</td>\n",
       "      <td>4.0</td>\n",
       "      <td>29.0</td>\n",
       "      <td>3.5</td>\n",
       "      <td>-0.11</td>\n",
       "      <td>-0.57</td>\n",
       "      <td>1.0</td>\n",
       "      <td>4.0</td>\n",
       "      <td>0.0</td>\n",
       "      <td>2.0</td>\n",
       "      <td>White</td>\n",
       "    </tr>\n",
       "    <tr>\n",
       "      <th>2</th>\n",
       "      <td>8.0</td>\n",
       "      <td>7.0</td>\n",
       "      <td>37.0</td>\n",
       "      <td>3.4</td>\n",
       "      <td>0.63</td>\n",
       "      <td>0.37</td>\n",
       "      <td>1.0</td>\n",
       "      <td>3.0</td>\n",
       "      <td>1.0</td>\n",
       "      <td>4.0</td>\n",
       "      <td>White</td>\n",
       "    </tr>\n",
       "    <tr>\n",
       "      <th>3</th>\n",
       "      <td>8.0</td>\n",
       "      <td>7.0</td>\n",
       "      <td>43.0</td>\n",
       "      <td>3.3</td>\n",
       "      <td>0.67</td>\n",
       "      <td>0.34</td>\n",
       "      <td>1.0</td>\n",
       "      <td>4.0</td>\n",
       "      <td>0.0</td>\n",
       "      <td>4.0</td>\n",
       "      <td>White</td>\n",
       "    </tr>\n",
       "    <tr>\n",
       "      <th>4</th>\n",
       "      <td>3.0</td>\n",
       "      <td>2.0</td>\n",
       "      <td>41.0</td>\n",
       "      <td>3.3</td>\n",
       "      <td>-0.67</td>\n",
       "      <td>-1.30</td>\n",
       "      <td>1.0</td>\n",
       "      <td>4.0</td>\n",
       "      <td>0.0</td>\n",
       "      <td>5.0</td>\n",
       "      <td>White</td>\n",
       "    </tr>\n",
       "  </tbody>\n",
       "</table>\n",
       "</div>"
      ],
      "text/plain": [
       "   decile1b  decile3  lsat  ugpa  zfygpa  zgpa fulltime fam_inc male tier  \\\n",
       "0      10.0     10.0  44.0   3.5    1.33  1.88      1.0     5.0  0.0  4.0   \n",
       "1       5.0      4.0  29.0   3.5   -0.11 -0.57      1.0     4.0  0.0  2.0   \n",
       "2       8.0      7.0  37.0   3.4    0.63  0.37      1.0     3.0  1.0  4.0   \n",
       "3       8.0      7.0  43.0   3.3    0.67  0.34      1.0     4.0  0.0  4.0   \n",
       "4       3.0      2.0  41.0   3.3   -0.67 -1.30      1.0     4.0  0.0  5.0   \n",
       "\n",
       "    race  \n",
       "0  White  \n",
       "1  White  \n",
       "2  White  \n",
       "3  White  \n",
       "4  White  "
      ]
     },
     "execution_count": 9,
     "metadata": {},
     "output_type": "execute_result"
    }
   ],
   "source": [
    "data_loader = LawSchoolDataset()\n",
    "data_loader.X_data.head()"
   ]
  },
  {
   "cell_type": "code",
   "execution_count": 10,
   "id": "791cbfc0",
   "metadata": {
    "ExecuteTime": {
     "end_time": "2024-01-04T22:00:09.404464Z",
     "start_time": "2024-01-04T22:00:09.398775Z"
    }
   },
   "outputs": [
    {
     "data": {
      "text/plain": [
       "(20798, 11)"
      ]
     },
     "execution_count": 10,
     "metadata": {},
     "output_type": "execute_result"
    }
   ],
   "source": [
    "data_loader.X_data.shape"
   ]
  },
  {
   "cell_type": "markdown",
   "id": "b0f62f6e",
   "metadata": {},
   "source": [
    "## Run experiment iterations"
   ]
  },
  {
   "cell_type": "markdown",
   "id": "3d467c4c",
   "metadata": {},
   "source": [
    "### Experiment iteration 1"
   ]
  },
  {
   "cell_type": "code",
   "execution_count": 11,
   "id": "e265f377",
   "metadata": {
    "ExecuteTime": {
     "end_time": "2024-01-04T22:00:10.851768Z",
     "start_time": "2024-01-04T22:00:10.849615Z"
    }
   },
   "outputs": [],
   "source": [
    "# tuned_params_filenames = [\n",
    "#     'tuning_results_Law_School_20240104__104605.csv'\n",
    "# ]\n",
    "# tuned_params_df_paths = [os.path.join(ROOT_DIR, 'results', 'diff_fairness_interventions_exp',\n",
    "#                                       FAIRNESS_INTERVENTION_NAME, EXPERIMENT_NAME, tuned_params_filename)\n",
    "#                          for tuned_params_filename in tuned_params_filenames]"
   ]
  },
  {
   "cell_type": "code",
   "execution_count": 12,
   "id": "44701d0a",
   "metadata": {
    "ExecuteTime": {
     "end_time": "2024-01-04T22:00:11.810309Z",
     "start_time": "2024-01-04T22:00:11.803955Z"
    }
   },
   "outputs": [],
   "source": [
    "# Configs for an experiment iteration\n",
    "exp_iter_num = 1\n",
    "experiment_seed = EXPERIMENT_SEEDS[exp_iter_num - 1]\n",
    "custom_table_fields_dct['experiment_iteration'] = f'Exp_iter_{exp_iter_num}'\n",
    "\n",
    "exp_iter_data_loader = copy.deepcopy(data_loader)  # Add deepcopy to avoid data leakage\n",
    "models_params_for_tuning = get_folktables_employment_models_params_for_tuning2(experiment_seed)"
   ]
  },
  {
   "cell_type": "code",
   "execution_count": null,
   "id": "cd8a49cd",
   "metadata": {
    "ExecuteTime": {
     "end_time": "2024-01-04T22:03:52.290520Z",
     "start_time": "2024-01-04T22:00:12.280124Z"
    }
   },
   "outputs": [
    {
     "name": "stderr",
     "output_type": "stream",
     "text": [
      "2024-01-05 12:39:20 experiment_interface.py INFO    : Start an experiment iteration for the following custom params:\n",
      "INFO:root:Start an experiment iteration for the following custom params:\n"
     ]
    },
    {
     "name": "stdout",
     "output_type": "stream",
     "text": [
      "{'dataset_split_seed': 100,\n",
      " 'experiment_iteration': 'Exp_iter_1',\n",
      " 'fair_intervention_params_lst': '[True]',\n",
      " 'model_init_seed': 100,\n",
      " 'session_uuid': 'b1f109f5-3def-4da0-872b-6f0f1a9be953'}\n",
      "\n",
      "\n"
     ]
    },
    {
     "data": {
      "application/vnd.jupyter.widget-view+json": {
       "model_id": "8dff77a72834479cbd5e86f27aff813c",
       "version_major": 2,
       "version_minor": 0
      },
      "text/plain": [
       "Multiple alphas:   0%|          | 0/1 [00:00<?, ?it/s]"
      ]
     },
     "metadata": {},
     "output_type": "display_data"
    },
    {
     "name": "stderr",
     "output_type": "stream",
     "text": [
      "2024-01-05 12:39:20 experiment_interface.py INFO    : The dataset is preprocessed\n",
      "INFO:root:The dataset is preprocessed\n"
     ]
    },
    {
     "name": "stdout",
     "output_type": "stream",
     "text": [
      "intervention_option:  True\n",
      "Using ROC postprocessor\n",
      "cur_base_flow_dataset.X_train_val.columns:  Index(['cat__fulltime_1.0', 'cat__fulltime_2.0', 'cat__fam_inc_1.0',\n",
      "       'cat__fam_inc_2.0', 'cat__fam_inc_3.0', 'cat__fam_inc_4.0',\n",
      "       'cat__fam_inc_5.0', 'cat__tier_1.0', 'cat__tier_2.0', 'cat__tier_3.0',\n",
      "       'cat__tier_4.0', 'cat__tier_5.0', 'cat__tier_6.0', 'num__decile1b',\n",
      "       'num__decile3', 'num__lsat', 'num__ugpa', 'num__zfygpa', 'num__zgpa',\n",
      "       'male&race_binary'],\n",
      "      dtype='object')\n",
      "Top indexes of an X_test in the current base flow dataset:  Int64Index([ 7102,   593, 18841,  5078, 14172,  8064, 13554, 13401, 17015,\n",
      "            18446,  6938,  3450,  9375, 19994, 16100,  4401,   142, 15143,\n",
      "             2188,  4332],\n",
      "           dtype='int64')\n",
      "Top indexes of an y_test in the current base flow dataset:  Int64Index([ 7102,   593, 18841,  5078, 14172,  8064, 13554, 13401, 17015,\n",
      "            18446,  6938,  3450,  9375, 19994, 16100,  4401,   142, 15143,\n",
      "             2188,  4332],\n",
      "           dtype='int64')\n",
      "2024/01/05, 12:39:20: Tuning MLPClassifier...\n",
      "2024/01/05, 12:40:57: Tuning for MLPClassifier is finished [F1 score = 0.6533682935391297, Accuracy = 0.9021668614773057]\n",
      "\n"
     ]
    },
    {
     "name": "stderr",
     "output_type": "stream",
     "text": [
      "2024-01-05 12:40:57 experiment_interface.py INFO    : Models are tuned and saved to a file\n",
      "INFO:root:Models are tuned and saved to a file\n"
     ]
    },
    {
     "data": {
      "application/vnd.jupyter.widget-view+json": {
       "model_id": "f7be74d6bdce41a3b566c0066e4e4405",
       "version_major": 2,
       "version_minor": 0
      },
      "text/plain": [
       "Analyze multiple models:   0%|          | 0/1 [00:00<?, ?it/s]"
      ]
     },
     "metadata": {},
     "output_type": "display_data"
    },
    {
     "name": "stdout",
     "output_type": "stream",
     "text": [
      "Enabled a postprocessing mode\n"
     ]
    },
    {
     "data": {
      "application/vnd.jupyter.widget-view+json": {
       "model_id": "6c389e45e5394b489338bcb7ec9070a3",
       "version_major": 2,
       "version_minor": 0
      },
      "text/plain": [
       "Classifiers testing by bootstrap:   0%|          | 0/200 [00:00<?, ?it/s]"
      ]
     },
     "metadata": {},
     "output_type": "display_data"
    }
   ],
   "source": [
    "run_exp_iter_with_eq_odds(data_loader=exp_iter_data_loader,\n",
    "                          experiment_seed=experiment_seed,\n",
    "                          test_set_fraction=TEST_SET_FRACTION,\n",
    "                          db_writer_func=db_writer_func,\n",
    "                          fair_intervention_params_lst=FAIR_INTERVENTION_PARAMS_LST,\n",
    "                          models_params_for_tuning=models_params_for_tuning,\n",
    "                          metrics_computation_config=metrics_computation_config,\n",
    "                          custom_table_fields_dct=custom_table_fields_dct,\n",
    "                          with_tuning=True,\n",
    "                          # with_tuning=False,\n",
    "                          # tuned_params_df_paths=tuned_params_df_paths,\n",
    "                          save_results_dir_path=SAVE_RESULTS_DIR_PATH,\n",
    "                          dataset_name=DATASET_NAME,\n",
    "                          postprocessor_name='ROC',\n",
    "                          verbose=True)"
   ]
  },
  {
   "cell_type": "markdown",
   "id": "5ccee570",
   "metadata": {},
   "source": [
    "### Experiment iteration 2"
   ]
  },
  {
   "cell_type": "code",
   "execution_count": 11,
   "id": "7befa59c",
   "metadata": {},
   "outputs": [],
   "source": [
    "# Configs for an experiment iteration\n",
    "exp_iter_num = 2\n",
    "experiment_seed = EXPERIMENT_SEEDS[exp_iter_num - 1]\n",
    "tuned_params_filenames = [\n",
    "    'tuning_results_Law_School_20240105__174057.csv'\n",
    "]\n",
    "tuned_params_df_paths = [os.path.join(ROOT_DIR, 'results', 'diff_fairness_interventions_exp',\n",
    "                                      FAIRNESS_INTERVENTION_NAME, EXPERIMENT_NAME, tuned_params_filename)\n",
    "                         for tuned_params_filename in tuned_params_filenames]\n",
    "custom_table_fields_dct['experiment_iteration'] = f'Exp_iter_{exp_iter_num}'\n",
    "\n",
    "exp_iter_data_loader = copy.deepcopy(data_loader)  # Add deepcopy to avoid data leakage\n",
    "models_params_for_tuning = get_folktables_employment_models_params_for_tuning2(experiment_seed)"
   ]
  },
  {
   "cell_type": "code",
   "execution_count": 12,
   "id": "ae0c5c97",
   "metadata": {
    "ExecuteTime": {
     "end_time": "2024-01-03T22:18:14.888610Z",
     "start_time": "2024-01-03T22:18:14.886453Z"
    }
   },
   "outputs": [
    {
     "name": "stderr",
     "output_type": "stream",
     "text": [
      "2024-01-05 12:51:16 experiment_interface.py INFO    : Start an experiment iteration for the following custom params:\n",
      "INFO:root:Start an experiment iteration for the following custom params:\n"
     ]
    },
    {
     "name": "stdout",
     "output_type": "stream",
     "text": [
      "{'dataset_split_seed': 200,\n",
      " 'experiment_iteration': 'Exp_iter_2',\n",
      " 'fair_intervention_params_lst': '[True]',\n",
      " 'model_init_seed': 200,\n",
      " 'session_uuid': 'b1f109f5-3def-4da0-872b-6f0f1a9be953'}\n",
      "\n",
      "\n"
     ]
    },
    {
     "data": {
      "application/vnd.jupyter.widget-view+json": {
       "model_id": "7ee9ad5ac8f9436295e9bd393fcac613",
       "version_major": 2,
       "version_minor": 0
      },
      "text/plain": [
       "Multiple alphas:   0%|          | 0/1 [00:00<?, ?it/s]"
      ]
     },
     "metadata": {},
     "output_type": "display_data"
    },
    {
     "name": "stderr",
     "output_type": "stream",
     "text": [
      "2024-01-05 12:51:16 experiment_interface.py INFO    : The dataset is preprocessed\n",
      "INFO:root:The dataset is preprocessed\n",
      "2024-01-05 12:51:16 experiment_interface.py INFO    : Models config is loaded from the input file\n",
      "INFO:root:Models config is loaded from the input file\n"
     ]
    },
    {
     "name": "stdout",
     "output_type": "stream",
     "text": [
      "intervention_option:  True\n",
      "Using ROC postprocessor\n",
      "cur_base_flow_dataset.X_train_val.columns:  Index(['cat__fulltime_1.0', 'cat__fulltime_2.0', 'cat__fam_inc_1.0',\n",
      "       'cat__fam_inc_2.0', 'cat__fam_inc_3.0', 'cat__fam_inc_4.0',\n",
      "       'cat__fam_inc_5.0', 'cat__tier_1.0', 'cat__tier_2.0', 'cat__tier_3.0',\n",
      "       'cat__tier_4.0', 'cat__tier_5.0', 'cat__tier_6.0', 'num__decile1b',\n",
      "       'num__decile3', 'num__lsat', 'num__ugpa', 'num__zfygpa', 'num__zgpa',\n",
      "       'male&race_binary'],\n",
      "      dtype='object')\n",
      "Top indexes of an X_test in the current base flow dataset:  Int64Index([11154,  2918,  4165, 16989, 11116, 18464,  5262,  2614, 11058,\n",
      "            14769, 11087, 10125, 19318, 10215, 10253,  7587,  2716,   577,\n",
      "             2257,  1011],\n",
      "           dtype='int64')\n",
      "Top indexes of an y_test in the current base flow dataset:  Int64Index([11154,  2918,  4165, 16989, 11116, 18464,  5262,  2614, 11058,\n",
      "            14769, 11087, 10125, 19318, 10215, 10253,  7587,  2716,   577,\n",
      "             2257,  1011],\n",
      "           dtype='int64')\n",
      "Path for tuned params:  /home/dh3553/projects/fairness-variance/results/diff_fairness_interventions_exp/ROC/ROC_law_school/tuning_results_Law_School_20240105__174057.csv\n",
      "MLPClassifier:  {'activation': 'logistic', 'alpha': 0.0001, 'batch_size': 'auto', 'beta_1': 0.9, 'beta_2': 0.999, 'early_stopping': False, 'epsilon': 1e-08, 'hidden_layer_sizes': (100, 100), 'learning_rate': 'constant', 'learning_rate_init': 0.001, 'max_fun': 15000, 'max_iter': 1000, 'momentum': 0.9, 'n_iter_no_change': 10, 'nesterovs_momentum': True, 'power_t': 0.5, 'random_state': 200, 'shuffle': True, 'solver': 'adam', 'tol': 0.0001, 'validation_fraction': 0.1, 'verbose': False, 'warm_start': False}\n"
     ]
    },
    {
     "data": {
      "application/vnd.jupyter.widget-view+json": {
       "model_id": "2f77e12ee9e44e259f86ad5cc442fcf5",
       "version_major": 2,
       "version_minor": 0
      },
      "text/plain": [
       "Analyze multiple models:   0%|          | 0/1 [00:00<?, ?it/s]"
      ]
     },
     "metadata": {},
     "output_type": "display_data"
    },
    {
     "name": "stdout",
     "output_type": "stream",
     "text": [
      "Enabled a postprocessing mode\n"
     ]
    },
    {
     "data": {
      "application/vnd.jupyter.widget-view+json": {
       "model_id": "9a85d9997fbc4e82864b950e47d15d75",
       "version_major": 2,
       "version_minor": 0
      },
      "text/plain": [
       "Classifiers testing by bootstrap:   0%|          | 0/200 [00:00<?, ?it/s]"
      ]
     },
     "metadata": {},
     "output_type": "display_data"
    }
   ],
   "source": [
    "run_exp_iter_with_eq_odds(data_loader=exp_iter_data_loader,\n",
    "                          experiment_seed=experiment_seed,\n",
    "                          test_set_fraction=TEST_SET_FRACTION,\n",
    "                          db_writer_func=db_writer_func,\n",
    "                          fair_intervention_params_lst=FAIR_INTERVENTION_PARAMS_LST,\n",
    "                          models_params_for_tuning=models_params_for_tuning,\n",
    "                          metrics_computation_config=metrics_computation_config,\n",
    "                          custom_table_fields_dct=custom_table_fields_dct,\n",
    "                          # with_tuning=True,\n",
    "                          with_tuning=False,\n",
    "                          tuned_params_df_paths=tuned_params_df_paths,\n",
    "                          save_results_dir_path=SAVE_RESULTS_DIR_PATH,\n",
    "                          dataset_name=DATASET_NAME,\n",
    "                          postprocessor_name='ROC',\n",
    "                          verbose=True)"
   ]
  },
  {
   "cell_type": "markdown",
   "id": "9a83879b",
   "metadata": {},
   "source": [
    "### Experiment iteration 3"
   ]
  },
  {
   "cell_type": "code",
   "execution_count": 23,
   "id": "04549d4b",
   "metadata": {},
   "outputs": [],
   "source": [
    "# Configs for an experiment iteration\n",
    "exp_iter_num = 3\n",
    "experiment_seed = EXPERIMENT_SEEDS[exp_iter_num - 1]\n",
    "tuned_params_filenames = [\n",
    "    'tuning_results_Law_School_20240105__174057.csv'\n",
    "]\n",
    "tuned_params_df_paths = [os.path.join(ROOT_DIR, 'results', 'diff_fairness_interventions_exp',\n",
    "                                      FAIRNESS_INTERVENTION_NAME, EXPERIMENT_NAME, tuned_params_filename)\n",
    "                         for tuned_params_filename in tuned_params_filenames]\n",
    "custom_table_fields_dct['experiment_iteration'] = f'Exp_iter_{exp_iter_num}'\n",
    "\n",
    "exp_iter_data_loader = copy.deepcopy(data_loader)  # Add deepcopy to avoid data leakage\n",
    "models_params_for_tuning = get_folktables_employment_models_params_for_tuning2(experiment_seed)"
   ]
  },
  {
   "cell_type": "code",
   "execution_count": 2,
   "id": "33f9613b",
   "metadata": {
    "ExecuteTime": {
     "end_time": "2024-01-03T22:18:19.039982Z",
     "start_time": "2024-01-03T22:18:19.031586Z"
    }
   },
   "outputs": [],
   "source": [
    "run_exp_iter_with_eq_odds(data_loader=exp_iter_data_loader,\n",
    "                          experiment_seed=experiment_seed,\n",
    "                          test_set_fraction=TEST_SET_FRACTION,\n",
    "                          db_writer_func=db_writer_func,\n",
    "                          fair_intervention_params_lst=FAIR_INTERVENTION_PARAMS_LST,\n",
    "                          models_params_for_tuning=models_params_for_tuning,\n",
    "                          metrics_computation_config=metrics_computation_config,\n",
    "                          custom_table_fields_dct=custom_table_fields_dct,\n",
    "                          # with_tuning=True,\n",
    "                          with_tuning=False,\n",
    "                          tuned_params_df_paths=tuned_params_df_paths,\n",
    "                          save_results_dir_path=SAVE_RESULTS_DIR_PATH,\n",
    "                          dataset_name=DATASET_NAME,\n",
    "                          postprocessor_name='ROC',\n",
    "                          verbose=True)"
   ]
  },
  {
   "cell_type": "markdown",
   "id": "bfac7129",
   "metadata": {},
   "source": [
    "### Experiment iteration 4"
   ]
  },
  {
   "cell_type": "code",
   "execution_count": 25,
   "id": "82317a0a",
   "metadata": {},
   "outputs": [],
   "source": [
    "# Configs for an experiment iteration\n",
    "exp_iter_num = 4\n",
    "experiment_seed = EXPERIMENT_SEEDS[exp_iter_num - 1]\n",
    "tuned_params_filenames = [\n",
    "    'tuning_results_Law_School_20240105__174057.csv'\n",
    "]\n",
    "tuned_params_df_paths = [os.path.join(ROOT_DIR, 'results', 'diff_fairness_interventions_exp',\n",
    "                                      FAIRNESS_INTERVENTION_NAME, EXPERIMENT_NAME, tuned_params_filename)\n",
    "                         for tuned_params_filename in tuned_params_filenames]\n",
    "custom_table_fields_dct['experiment_iteration'] = f'Exp_iter_{exp_iter_num}'\n",
    "\n",
    "exp_iter_data_loader = copy.deepcopy(data_loader)  # Add deepcopy to avoid data leakage\n",
    "models_params_for_tuning = get_folktables_employment_models_params_for_tuning2(experiment_seed)"
   ]
  },
  {
   "cell_type": "code",
   "execution_count": 3,
   "id": "5ae8cb09",
   "metadata": {
    "ExecuteTime": {
     "end_time": "2024-01-03T22:18:24.538103Z",
     "start_time": "2024-01-03T22:18:24.530684Z"
    }
   },
   "outputs": [],
   "source": [
    "run_exp_iter_with_eq_odds(data_loader=exp_iter_data_loader,\n",
    "                          experiment_seed=experiment_seed,\n",
    "                          test_set_fraction=TEST_SET_FRACTION,\n",
    "                          db_writer_func=db_writer_func,\n",
    "                          fair_intervention_params_lst=FAIR_INTERVENTION_PARAMS_LST,\n",
    "                          models_params_for_tuning=models_params_for_tuning,\n",
    "                          metrics_computation_config=metrics_computation_config,\n",
    "                          custom_table_fields_dct=custom_table_fields_dct,\n",
    "                          # with_tuning=True,\n",
    "                          with_tuning=False,\n",
    "                          tuned_params_df_paths=tuned_params_df_paths,\n",
    "                          save_results_dir_path=SAVE_RESULTS_DIR_PATH,\n",
    "                          dataset_name=DATASET_NAME,\n",
    "                          postprocessor_name='ROC',\n",
    "                          verbose=True)"
   ]
  },
  {
   "cell_type": "markdown",
   "id": "0d8f3093",
   "metadata": {},
   "source": [
    "### Experiment iteration 5"
   ]
  },
  {
   "cell_type": "code",
   "execution_count": 27,
   "id": "f9220dcc",
   "metadata": {},
   "outputs": [],
   "source": [
    "# Configs for an experiment iteration\n",
    "exp_iter_num = 5\n",
    "experiment_seed = EXPERIMENT_SEEDS[exp_iter_num - 1]\n",
    "tuned_params_filenames = [\n",
    "    'tuning_results_Law_School_20240105__174057.csv'\n",
    "]\n",
    "tuned_params_df_paths = [os.path.join(ROOT_DIR, 'results', 'diff_fairness_interventions_exp',\n",
    "                                      FAIRNESS_INTERVENTION_NAME, EXPERIMENT_NAME, tuned_params_filename)\n",
    "                         for tuned_params_filename in tuned_params_filenames]\n",
    "custom_table_fields_dct['experiment_iteration'] = f'Exp_iter_{exp_iter_num}'\n",
    "\n",
    "exp_iter_data_loader = copy.deepcopy(data_loader)  # Add deepcopy to avoid data leakage\n",
    "models_params_for_tuning = get_folktables_employment_models_params_for_tuning2(experiment_seed)"
   ]
  },
  {
   "cell_type": "code",
   "execution_count": 4,
   "id": "60f0cb73",
   "metadata": {
    "ExecuteTime": {
     "end_time": "2024-01-03T22:18:29.050787Z",
     "start_time": "2024-01-03T22:18:29.045886Z"
    }
   },
   "outputs": [],
   "source": [
    "run_exp_iter_with_eq_odds(data_loader=exp_iter_data_loader,\n",
    "                          experiment_seed=experiment_seed,\n",
    "                          test_set_fraction=TEST_SET_FRACTION,\n",
    "                          db_writer_func=db_writer_func,\n",
    "                          fair_intervention_params_lst=FAIR_INTERVENTION_PARAMS_LST,\n",
    "                          models_params_for_tuning=models_params_for_tuning,\n",
    "                          metrics_computation_config=metrics_computation_config,\n",
    "                          custom_table_fields_dct=custom_table_fields_dct,\n",
    "                          # with_tuning=True,\n",
    "                          with_tuning=False,\n",
    "                          tuned_params_df_paths=tuned_params_df_paths,\n",
    "                          save_results_dir_path=SAVE_RESULTS_DIR_PATH,\n",
    "                          dataset_name=DATASET_NAME,\n",
    "                          postprocessor_name='ROC',\n",
    "                          verbose=True)"
   ]
  },
  {
   "cell_type": "markdown",
   "id": "3d9677c0",
   "metadata": {},
   "source": [
    "### Experiment iteration 6"
   ]
  },
  {
   "cell_type": "code",
   "execution_count": 29,
   "id": "42b97fea",
   "metadata": {},
   "outputs": [],
   "source": [
    "# Configs for an experiment iteration\n",
    "exp_iter_num = 6\n",
    "experiment_seed = EXPERIMENT_SEEDS[exp_iter_num - 1]\n",
    "tuned_params_filenames = [\n",
    "    'tuning_results_Law_School_20240105__174057.csv'\n",
    "]\n",
    "tuned_params_df_paths = [os.path.join(ROOT_DIR, 'results', 'diff_fairness_interventions_exp',\n",
    "                                      FAIRNESS_INTERVENTION_NAME, EXPERIMENT_NAME, tuned_params_filename)\n",
    "                         for tuned_params_filename in tuned_params_filenames]\n",
    "custom_table_fields_dct['experiment_iteration'] = f'Exp_iter_{exp_iter_num}'\n",
    "\n",
    "exp_iter_data_loader = copy.deepcopy(data_loader)  # Add deepcopy to avoid data leakage\n",
    "models_params_for_tuning = get_folktables_employment_models_params_for_tuning2(experiment_seed)"
   ]
  },
  {
   "cell_type": "code",
   "execution_count": 5,
   "id": "e308ada4",
   "metadata": {
    "ExecuteTime": {
     "end_time": "2024-01-03T22:18:33.438196Z",
     "start_time": "2024-01-03T22:18:33.433760Z"
    }
   },
   "outputs": [],
   "source": [
    "run_exp_iter_with_eq_odds(data_loader=exp_iter_data_loader,\n",
    "                          experiment_seed=experiment_seed,\n",
    "                          test_set_fraction=TEST_SET_FRACTION,\n",
    "                          db_writer_func=db_writer_func,\n",
    "                          fair_intervention_params_lst=FAIR_INTERVENTION_PARAMS_LST,\n",
    "                          models_params_for_tuning=models_params_for_tuning,\n",
    "                          metrics_computation_config=metrics_computation_config,\n",
    "                          custom_table_fields_dct=custom_table_fields_dct,\n",
    "                          # with_tuning=True,\n",
    "                          with_tuning=False,\n",
    "                          tuned_params_df_paths=tuned_params_df_paths,\n",
    "                          save_results_dir_path=SAVE_RESULTS_DIR_PATH,\n",
    "                          dataset_name=DATASET_NAME,\n",
    "                          postprocessor_name='ROC',\n",
    "                          verbose=True)"
   ]
  },
  {
   "cell_type": "code",
   "execution_count": null,
   "id": "fd75f5a9",
   "metadata": {},
   "outputs": [],
   "source": []
  }
 ],
 "metadata": {
  "kernelspec": {
   "display_name": "Python 3",
   "language": "python",
   "name": "python3"
  },
  "language_info": {
   "codemirror_mode": {
    "name": "ipython",
    "version": 3
   },
   "file_extension": ".py",
   "mimetype": "text/x-python",
   "name": "python",
   "nbconvert_exporter": "python",
   "pygments_lexer": "ipython3",
   "version": "3.8.5"
  }
 },
 "nbformat": 4,
 "nbformat_minor": 5
}
