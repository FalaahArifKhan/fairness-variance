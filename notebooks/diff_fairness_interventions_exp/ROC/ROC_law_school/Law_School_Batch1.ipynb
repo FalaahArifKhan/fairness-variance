{
 "cells": [
  {
   "cell_type": "code",
   "execution_count": 15,
   "id": "f87f77f8",
   "metadata": {},
   "outputs": [],
   "source": [
    "# !pip install -r ./requirements.txt"
   ]
  },
  {
   "cell_type": "code",
   "execution_count": 2,
   "id": "2324780f",
   "metadata": {
    "ExecuteTime": {
     "end_time": "2024-01-03T22:06:47.913158Z",
     "start_time": "2024-01-03T22:06:47.899893Z"
    }
   },
   "outputs": [],
   "source": [
    "# !pip uninstall virny -y"
   ]
  },
  {
   "cell_type": "code",
   "execution_count": 4,
   "id": "4fa8d424",
   "metadata": {
    "ExecuteTime": {
     "end_time": "2024-01-03T22:07:04.695699Z",
     "start_time": "2024-01-03T22:07:04.683807Z"
    }
   },
   "outputs": [],
   "source": [
    "# Install using an HTTP link\n",
    "# !pip install git+https://github.com/DataResponsibly/Virny.git@feature/prepare_for_uncertainty_experiments\n",
    "\n",
    "# Install using an SSH link\n",
    "# !pip install git+ssh://git@github.com/DataResponsibly/Virny.git@feature/prepare_for_uncertainty_experiments"
   ]
  },
  {
   "cell_type": "code",
   "execution_count": 1,
   "id": "043bb5f6",
   "metadata": {
    "ExecuteTime": {
     "end_time": "2024-01-05T15:59:53.076626Z",
     "start_time": "2024-01-05T15:59:52.755111Z"
    }
   },
   "outputs": [],
   "source": [
    "%matplotlib inline\n",
    "%load_ext autoreload\n",
    "%autoreload 2"
   ]
  },
  {
   "cell_type": "code",
   "execution_count": 2,
   "id": "ef2c9605",
   "metadata": {
    "ExecuteTime": {
     "end_time": "2024-01-05T15:59:53.086356Z",
     "start_time": "2024-01-05T15:59:53.074916Z"
    }
   },
   "outputs": [],
   "source": [
    "import os\n",
    "import warnings\n",
    "warnings.filterwarnings('ignore')\n",
    "os.environ[\"PYTHONWARNINGS\"] = \"ignore\""
   ]
  },
  {
   "cell_type": "code",
   "execution_count": 3,
   "id": "ae9402ba",
   "metadata": {
    "ExecuteTime": {
     "end_time": "2024-01-05T15:59:53.096469Z",
     "start_time": "2024-01-05T15:59:53.085224Z"
    }
   },
   "outputs": [
    {
     "name": "stdout",
     "output_type": "stream",
     "text": [
      "Current location:  /Users/denys_herasymuk/UCU/4course_2term/Bachelor_Thesis/Code/fairness-variance\n"
     ]
    }
   ],
   "source": [
    "cur_folder_name = os.getcwd().split('/')[-1]\n",
    "if cur_folder_name != \"fairness-variance\":\n",
    "    os.chdir(\"../../../..\")\n",
    "\n",
    "print('Current location: ', os.getcwd())"
   ]
  },
  {
   "cell_type": "markdown",
   "id": "a4260527",
   "metadata": {},
   "source": [
    "## Import dependencies"
   ]
  },
  {
   "cell_type": "code",
   "execution_count": 4,
   "id": "0e7dccaa",
   "metadata": {
    "ExecuteTime": {
     "end_time": "2024-01-05T15:59:54.178205Z",
     "start_time": "2024-01-05T15:59:53.174478Z"
    }
   },
   "outputs": [
    {
     "name": "stderr",
     "output_type": "stream",
     "text": [
      "WARNING:root:No module named 'tempeh': LawSchoolGPADataset will be unavailable. To install, run:\n",
      "pip install 'aif360[LawSchoolGPA]'\n",
      "WARNING:root:No module named 'tensorflow': AdversarialDebiasing will be unavailable. To install, run:\n",
      "pip install 'aif360[AdversarialDebiasing]'\n",
      "WARNING:root:No module named 'tensorflow': AdversarialDebiasing will be unavailable. To install, run:\n",
      "pip install 'aif360[AdversarialDebiasing]'\n"
     ]
    }
   ],
   "source": [
    "import copy\n",
    "\n",
    "from virny.utils.custom_initializers import create_config_obj\n",
    "from virny.datasets import LawSchoolDataset\n",
    "\n",
    "from configs.constants import TEST_SET_FRACTION, EXPERIMENT_SEEDS\n",
    "from configs.models_config_for_tuning import get_folktables_employment_models_params_for_tuning\n",
    "\n",
    "from source.experiment_interface import run_exp_iter_with_eq_odds"
   ]
  },
  {
   "cell_type": "markdown",
   "id": "b05af634",
   "metadata": {},
   "source": [
    "## Define Input Variables"
   ]
  },
  {
   "cell_type": "code",
   "execution_count": 5,
   "id": "4a83a2fa",
   "metadata": {
    "ExecuteTime": {
     "end_time": "2024-01-05T15:59:54.200774Z",
     "start_time": "2024-01-05T15:59:54.178704Z"
    }
   },
   "outputs": [],
   "source": [
    "ROOT_DIR = os.getcwd()\n",
    "DATASET_NAME = 'LawSchoolDataset'\n",
    "FAIRNESS_INTERVENTION_NAME = 'ROC'\n",
    "EXPERIMENT_NAME = 'ROC_law_school'\n",
    "DB_COLLECTION_NAME = 'one_repair_lvl_many_models'\n",
    "FAIR_INTERVENTION_PARAMS_LST = [True]\n",
    "SAVE_RESULTS_DIR_PATH = os.path.join(ROOT_DIR, 'results', 'diff_fairness_interventions_exp',\n",
    "                                     FAIRNESS_INTERVENTION_NAME, EXPERIMENT_NAME)\n",
    "\n",
    "config_yaml_path = os.path.join(ROOT_DIR, 'notebooks', 'diff_fairness_interventions_exp',\n",
    "                                FAIRNESS_INTERVENTION_NAME, EXPERIMENT_NAME, 'law_school_config.yaml')\n",
    "metrics_computation_config = create_config_obj(config_yaml_path=config_yaml_path)"
   ]
  },
  {
   "cell_type": "markdown",
   "id": "30b5ed5e",
   "metadata": {},
   "source": [
    "## Define a db writer and custom fields to insert into your database"
   ]
  },
  {
   "cell_type": "code",
   "execution_count": 6,
   "id": "dd6447d8",
   "metadata": {
    "ExecuteTime": {
     "end_time": "2024-01-05T15:59:54.224287Z",
     "start_time": "2024-01-05T15:59:54.200624Z"
    }
   },
   "outputs": [
    {
     "data": {
      "text/plain": "'fairness_variance'"
     },
     "execution_count": 6,
     "metadata": {},
     "output_type": "execute_result"
    }
   ],
   "source": [
    "import os\n",
    "from dotenv import load_dotenv\n",
    "\n",
    "load_dotenv('./configs/secrets.env')\n",
    "os.getenv(\"DB_NAME\")"
   ]
  },
  {
   "cell_type": "code",
   "execution_count": 7,
   "id": "26e77ef4",
   "metadata": {
    "ExecuteTime": {
     "end_time": "2024-01-05T15:59:54.669988Z",
     "start_time": "2024-01-05T15:59:54.224769Z"
    }
   },
   "outputs": [],
   "source": [
    "from source.utils.db_functions import connect_to_mongodb\n",
    "\n",
    "client, collection_obj, db_writer_func = connect_to_mongodb(DB_COLLECTION_NAME)"
   ]
  },
  {
   "cell_type": "code",
   "execution_count": 8,
   "id": "53bbb8b9",
   "metadata": {
    "ExecuteTime": {
     "end_time": "2024-01-05T15:59:55.345538Z",
     "start_time": "2024-01-05T15:59:55.320897Z"
    }
   },
   "outputs": [
    {
     "name": "stdout",
     "output_type": "stream",
     "text": [
      "Current session uuid:  73b7936a-14e6-4b86-a927-bf1cd81477d3\n"
     ]
    }
   ],
   "source": [
    "import uuid\n",
    "\n",
    "custom_table_fields_dct = {\n",
    "    'session_uuid': str(uuid.uuid4()),\n",
    "    # 'session_uuid': '73b7936a-14e6-4b86-a927-bf1cd81477d3',\n",
    "}\n",
    "print('Current session uuid: ', custom_table_fields_dct['session_uuid'])"
   ]
  },
  {
   "cell_type": "markdown",
   "id": "aae3b0a9",
   "metadata": {},
   "source": [
    "## Initialize custom objects"
   ]
  },
  {
   "cell_type": "code",
   "execution_count": 9,
   "id": "5cedf7cf",
   "metadata": {
    "ExecuteTime": {
     "end_time": "2024-01-05T15:59:55.874220Z",
     "start_time": "2024-01-05T15:59:55.827896Z"
    }
   },
   "outputs": [
    {
     "data": {
      "text/plain": "   decile1b  decile3  lsat  ugpa  zfygpa  zgpa fulltime fam_inc male tier  \\\n0       6.0      8.0  35.0   4.0    0.28  0.81      1.0     2.0  1.0  4.0   \n1       6.0      7.0  41.0   2.9    0.30  0.33      1.0     5.0  0.0  3.0   \n2       4.0      4.0  36.0   3.3   -0.38 -0.46      1.0     4.0  0.0  3.0   \n3      10.0      8.0  34.0   2.5    1.91  0.77      1.0     3.0  1.0  1.0   \n4       6.0      6.0  34.0   2.8    0.10  0.13      1.0     3.0  1.0  3.0   \n\n    race  \n0  White  \n1  White  \n2  White  \n3  White  \n4  White  ",
      "text/html": "<div>\n<style scoped>\n    .dataframe tbody tr th:only-of-type {\n        vertical-align: middle;\n    }\n\n    .dataframe tbody tr th {\n        vertical-align: top;\n    }\n\n    .dataframe thead th {\n        text-align: right;\n    }\n</style>\n<table border=\"1\" class=\"dataframe\">\n  <thead>\n    <tr style=\"text-align: right;\">\n      <th></th>\n      <th>decile1b</th>\n      <th>decile3</th>\n      <th>lsat</th>\n      <th>ugpa</th>\n      <th>zfygpa</th>\n      <th>zgpa</th>\n      <th>fulltime</th>\n      <th>fam_inc</th>\n      <th>male</th>\n      <th>tier</th>\n      <th>race</th>\n    </tr>\n  </thead>\n  <tbody>\n    <tr>\n      <th>0</th>\n      <td>6.0</td>\n      <td>8.0</td>\n      <td>35.0</td>\n      <td>4.0</td>\n      <td>0.28</td>\n      <td>0.81</td>\n      <td>1.0</td>\n      <td>2.0</td>\n      <td>1.0</td>\n      <td>4.0</td>\n      <td>White</td>\n    </tr>\n    <tr>\n      <th>1</th>\n      <td>6.0</td>\n      <td>7.0</td>\n      <td>41.0</td>\n      <td>2.9</td>\n      <td>0.30</td>\n      <td>0.33</td>\n      <td>1.0</td>\n      <td>5.0</td>\n      <td>0.0</td>\n      <td>3.0</td>\n      <td>White</td>\n    </tr>\n    <tr>\n      <th>2</th>\n      <td>4.0</td>\n      <td>4.0</td>\n      <td>36.0</td>\n      <td>3.3</td>\n      <td>-0.38</td>\n      <td>-0.46</td>\n      <td>1.0</td>\n      <td>4.0</td>\n      <td>0.0</td>\n      <td>3.0</td>\n      <td>White</td>\n    </tr>\n    <tr>\n      <th>3</th>\n      <td>10.0</td>\n      <td>8.0</td>\n      <td>34.0</td>\n      <td>2.5</td>\n      <td>1.91</td>\n      <td>0.77</td>\n      <td>1.0</td>\n      <td>3.0</td>\n      <td>1.0</td>\n      <td>1.0</td>\n      <td>White</td>\n    </tr>\n    <tr>\n      <th>4</th>\n      <td>6.0</td>\n      <td>6.0</td>\n      <td>34.0</td>\n      <td>2.8</td>\n      <td>0.10</td>\n      <td>0.13</td>\n      <td>1.0</td>\n      <td>3.0</td>\n      <td>1.0</td>\n      <td>3.0</td>\n      <td>White</td>\n    </tr>\n  </tbody>\n</table>\n</div>"
     },
     "execution_count": 9,
     "metadata": {},
     "output_type": "execute_result"
    }
   ],
   "source": [
    "data_loader = LawSchoolDataset()\n",
    "data_loader.X_data.head()"
   ]
  },
  {
   "cell_type": "code",
   "execution_count": 10,
   "id": "efb1dc9f",
   "metadata": {
    "ExecuteTime": {
     "end_time": "2024-01-05T15:59:56.735496Z",
     "start_time": "2024-01-05T15:59:56.711878Z"
    }
   },
   "outputs": [
    {
     "data": {
      "text/plain": "(3000, 11)"
     },
     "execution_count": 10,
     "metadata": {},
     "output_type": "execute_result"
    }
   ],
   "source": [
    "data_loader.X_data.shape"
   ]
  },
  {
   "cell_type": "markdown",
   "id": "248ddac4",
   "metadata": {},
   "source": [
    "## Run experiment iterations"
   ]
  },
  {
   "cell_type": "markdown",
   "id": "e91cd2aa",
   "metadata": {},
   "source": [
    "### Experiment iteration 1"
   ]
  },
  {
   "cell_type": "code",
   "execution_count": 11,
   "id": "6f615c67",
   "metadata": {
    "ExecuteTime": {
     "end_time": "2024-01-05T15:59:58.076259Z",
     "start_time": "2024-01-05T15:59:58.035726Z"
    }
   },
   "outputs": [],
   "source": [
    "# tuned_params_filenames = [\n",
    "#     'tuning_results_Law_School_20240104__104605.csv'\n",
    "# ]\n",
    "# tuned_params_df_paths = [os.path.join(ROOT_DIR, 'results', 'diff_fairness_interventions_exp',\n",
    "#                                       FAIRNESS_INTERVENTION_NAME, EXPERIMENT_NAME, tuned_params_filename)\n",
    "#                          for tuned_params_filename in tuned_params_filenames]"
   ]
  },
  {
   "cell_type": "code",
   "execution_count": 12,
   "id": "8ab2826b",
   "metadata": {
    "ExecuteTime": {
     "end_time": "2024-01-05T15:59:58.373690Z",
     "start_time": "2024-01-05T15:59:58.346625Z"
    }
   },
   "outputs": [],
   "source": [
    "# Configs for an experiment iteration\n",
    "exp_iter_num = 1\n",
    "experiment_seed = EXPERIMENT_SEEDS[exp_iter_num - 1]\n",
    "custom_table_fields_dct['experiment_iteration'] = f'Exp_iter_{exp_iter_num}'\n",
    "\n",
    "exp_iter_data_loader = copy.deepcopy(data_loader)  # Add deepcopy to avoid data leakage\n",
    "models_params_for_tuning = get_folktables_employment_models_params_for_tuning(experiment_seed)"
   ]
  },
  {
   "cell_type": "code",
   "execution_count": 13,
   "id": "781cc56a",
   "metadata": {
    "ExecuteTime": {
     "end_time": "2024-01-05T16:16:33.531233Z",
     "start_time": "2024-01-05T15:59:58.637910Z"
    }
   },
   "outputs": [
    {
     "name": "stderr",
     "output_type": "stream",
     "text": [
      "2024-01-05 17:59:58 experiment_interface.py INFO    : Start an experiment iteration for the following custom params:\n"
     ]
    },
    {
     "name": "stdout",
     "output_type": "stream",
     "text": [
      "{'dataset_split_seed': 100,\n",
      " 'experiment_iteration': 'Exp_iter_1',\n",
      " 'fair_intervention_params_lst': '[True]',\n",
      " 'model_init_seed': 100,\n",
      " 'session_uuid': '73b7936a-14e6-4b86-a927-bf1cd81477d3'}\n",
      "\n",
      "data_loader.X_data.head(20)\n"
     ]
    },
    {
     "data": {
      "text/plain": "    decile1b  decile3  lsat  ugpa  zfygpa  zgpa fulltime fam_inc male tier  \\\n0        6.0      8.0  35.0   4.0    0.28  0.81      1.0     2.0  1.0  4.0   \n1        6.0      7.0  41.0   2.9    0.30  0.33      1.0     5.0  0.0  3.0   \n2        4.0      4.0  36.0   3.3   -0.38 -0.46      1.0     4.0  0.0  3.0   \n3       10.0      8.0  34.0   2.5    1.91  0.77      1.0     3.0  1.0  1.0   \n4        6.0      6.0  34.0   2.8    0.10  0.13      1.0     3.0  1.0  3.0   \n5        9.0      8.0  37.0   3.0    0.89  0.55      1.0     4.0  0.0  3.0   \n6        7.0      8.0  34.0   3.5    0.47  0.77      1.0     3.0  0.0  3.0   \n7        3.0      4.0  34.0   3.4   -0.43 -0.37      1.0     4.0  1.0  3.0   \n8        6.0      2.0  35.0   3.5    0.12 -0.87      1.0     4.0  1.0  6.0   \n9        3.0      3.0  31.0   3.4   -0.46 -0.59      1.0     4.0  0.0  3.0   \n10      10.0     10.0  37.0   2.6    1.53  1.51      1.0     4.0  0.0  3.0   \n11      10.0     10.0  39.0   2.9    2.03  2.17      1.0     4.0  1.0  3.0   \n12       1.0      1.0  34.0   2.7   -1.56 -1.61      1.0     3.0  1.0  5.0   \n13       9.0     10.0  33.5   3.2    1.12  1.36      1.0     3.0  1.0  3.0   \n14       7.0      5.0  36.0   3.9    0.57  0.00      1.0     5.0  1.0  4.0   \n15       2.0      5.0  37.0   2.9   -0.90 -0.20      1.0     2.0  0.0  4.0   \n16       4.0      3.0  24.0   2.4   -0.24 -0.60      1.0     4.0  1.0  2.0   \n17      10.0     10.0  39.0   3.3    2.47  1.81      1.0     4.0  1.0  3.0   \n18      10.0     10.0  36.0   2.9    2.15  1.85      1.0     4.0  1.0  2.0   \n19       6.0      5.0  34.0   3.5    0.19 -0.12      2.0     2.0  0.0  3.0   \n20       2.0      2.0  36.0   3.2   -0.91 -1.04      1.0     3.0  1.0  4.0   \n21       4.0      4.0  32.0   3.8   -0.39 -0.55      1.0     3.0  0.0  3.0   \n22       2.0      3.0  39.5   2.9   -0.91 -0.67      1.0     2.0  0.0  5.0   \n23       2.0      1.0  37.0   2.1   -0.70 -1.32      1.0     3.0  1.0  3.0   \n24       4.0      6.0  30.5   2.9   -0.37  0.01      1.0     4.0  0.0  3.0   \n25       5.0      4.0  22.0   3.3   -0.16 -0.52      2.0     4.0  0.0  4.0   \n26       6.0      6.0  36.0   2.7    0.29  0.04      1.0     4.0  1.0  3.0   \n27       3.0      2.0  37.0   3.8   -0.60 -1.07      1.0     3.0  0.0  5.0   \n28      10.0     10.0  30.0   3.4    1.56  1.31      1.0     4.0  0.0  3.0   \n29       7.0      6.0  33.0   3.8    0.39  0.26      1.0     4.0  1.0  4.0   \n30       7.0      6.0  47.0   3.6    0.37  0.10      1.0     3.0  1.0  6.0   \n31       8.0      9.0  40.0   2.3    0.86  1.08      1.0     2.0  1.0  5.0   \n32       1.0      7.0  35.0   3.7   -1.22  0.45      1.0     3.0  1.0  4.0   \n33       1.0      1.0  33.5   3.2   -1.40 -1.79      1.0     3.0  1.0  4.0   \n34      10.0     10.0  39.5   3.2    2.24  1.46      1.0     4.0  1.0  5.0   \n35       8.0      9.0  42.0   3.1    0.63  0.93      1.0     4.0  0.0  4.0   \n36       4.0      9.0  38.0   2.7   -0.17  1.15      1.0     3.0  1.0  3.0   \n37       8.0      8.0  32.0   3.5    0.71  0.73      1.0     3.0  0.0  4.0   \n38       5.0      3.0  31.0   3.8   -0.03 -0.61      1.0     2.0  1.0  4.0   \n39       6.0      7.0  40.0   3.0    0.30  0.41      1.0     4.0  1.0  4.0   \n\n         race  male&race_binary  \n0       White                 1  \n1       White                 1  \n2       White                 1  \n3       White                 1  \n4       White                 1  \n5       White                 1  \n6       White                 1  \n7       White                 1  \n8       White                 1  \n9       White                 1  \n10      White                 1  \n11      White                 1  \n12  Non-White                 1  \n13      White                 1  \n14      White                 1  \n15  Non-White                 0  \n16  Non-White                 1  \n17      White                 1  \n18      White                 1  \n19      White                 1  \n20  Non-White                 1  \n21      White                 1  \n22      White                 1  \n23  Non-White                 1  \n24      White                 1  \n25  Non-White                 0  \n26      White                 1  \n27  Non-White                 0  \n28      White                 1  \n29      White                 1  \n30      White                 1  \n31  Non-White                 1  \n32      White                 1  \n33      White                 1  \n34      White                 1  \n35      White                 1  \n36      White                 1  \n37  Non-White                 0  \n38      White                 1  \n39      White                 1  ",
      "text/html": "<div>\n<style scoped>\n    .dataframe tbody tr th:only-of-type {\n        vertical-align: middle;\n    }\n\n    .dataframe tbody tr th {\n        vertical-align: top;\n    }\n\n    .dataframe thead th {\n        text-align: right;\n    }\n</style>\n<table border=\"1\" class=\"dataframe\">\n  <thead>\n    <tr style=\"text-align: right;\">\n      <th></th>\n      <th>decile1b</th>\n      <th>decile3</th>\n      <th>lsat</th>\n      <th>ugpa</th>\n      <th>zfygpa</th>\n      <th>zgpa</th>\n      <th>fulltime</th>\n      <th>fam_inc</th>\n      <th>male</th>\n      <th>tier</th>\n      <th>race</th>\n      <th>male&amp;race_binary</th>\n    </tr>\n  </thead>\n  <tbody>\n    <tr>\n      <th>0</th>\n      <td>6.0</td>\n      <td>8.0</td>\n      <td>35.0</td>\n      <td>4.0</td>\n      <td>0.28</td>\n      <td>0.81</td>\n      <td>1.0</td>\n      <td>2.0</td>\n      <td>1.0</td>\n      <td>4.0</td>\n      <td>White</td>\n      <td>1</td>\n    </tr>\n    <tr>\n      <th>1</th>\n      <td>6.0</td>\n      <td>7.0</td>\n      <td>41.0</td>\n      <td>2.9</td>\n      <td>0.30</td>\n      <td>0.33</td>\n      <td>1.0</td>\n      <td>5.0</td>\n      <td>0.0</td>\n      <td>3.0</td>\n      <td>White</td>\n      <td>1</td>\n    </tr>\n    <tr>\n      <th>2</th>\n      <td>4.0</td>\n      <td>4.0</td>\n      <td>36.0</td>\n      <td>3.3</td>\n      <td>-0.38</td>\n      <td>-0.46</td>\n      <td>1.0</td>\n      <td>4.0</td>\n      <td>0.0</td>\n      <td>3.0</td>\n      <td>White</td>\n      <td>1</td>\n    </tr>\n    <tr>\n      <th>3</th>\n      <td>10.0</td>\n      <td>8.0</td>\n      <td>34.0</td>\n      <td>2.5</td>\n      <td>1.91</td>\n      <td>0.77</td>\n      <td>1.0</td>\n      <td>3.0</td>\n      <td>1.0</td>\n      <td>1.0</td>\n      <td>White</td>\n      <td>1</td>\n    </tr>\n    <tr>\n      <th>4</th>\n      <td>6.0</td>\n      <td>6.0</td>\n      <td>34.0</td>\n      <td>2.8</td>\n      <td>0.10</td>\n      <td>0.13</td>\n      <td>1.0</td>\n      <td>3.0</td>\n      <td>1.0</td>\n      <td>3.0</td>\n      <td>White</td>\n      <td>1</td>\n    </tr>\n    <tr>\n      <th>5</th>\n      <td>9.0</td>\n      <td>8.0</td>\n      <td>37.0</td>\n      <td>3.0</td>\n      <td>0.89</td>\n      <td>0.55</td>\n      <td>1.0</td>\n      <td>4.0</td>\n      <td>0.0</td>\n      <td>3.0</td>\n      <td>White</td>\n      <td>1</td>\n    </tr>\n    <tr>\n      <th>6</th>\n      <td>7.0</td>\n      <td>8.0</td>\n      <td>34.0</td>\n      <td>3.5</td>\n      <td>0.47</td>\n      <td>0.77</td>\n      <td>1.0</td>\n      <td>3.0</td>\n      <td>0.0</td>\n      <td>3.0</td>\n      <td>White</td>\n      <td>1</td>\n    </tr>\n    <tr>\n      <th>7</th>\n      <td>3.0</td>\n      <td>4.0</td>\n      <td>34.0</td>\n      <td>3.4</td>\n      <td>-0.43</td>\n      <td>-0.37</td>\n      <td>1.0</td>\n      <td>4.0</td>\n      <td>1.0</td>\n      <td>3.0</td>\n      <td>White</td>\n      <td>1</td>\n    </tr>\n    <tr>\n      <th>8</th>\n      <td>6.0</td>\n      <td>2.0</td>\n      <td>35.0</td>\n      <td>3.5</td>\n      <td>0.12</td>\n      <td>-0.87</td>\n      <td>1.0</td>\n      <td>4.0</td>\n      <td>1.0</td>\n      <td>6.0</td>\n      <td>White</td>\n      <td>1</td>\n    </tr>\n    <tr>\n      <th>9</th>\n      <td>3.0</td>\n      <td>3.0</td>\n      <td>31.0</td>\n      <td>3.4</td>\n      <td>-0.46</td>\n      <td>-0.59</td>\n      <td>1.0</td>\n      <td>4.0</td>\n      <td>0.0</td>\n      <td>3.0</td>\n      <td>White</td>\n      <td>1</td>\n    </tr>\n    <tr>\n      <th>10</th>\n      <td>10.0</td>\n      <td>10.0</td>\n      <td>37.0</td>\n      <td>2.6</td>\n      <td>1.53</td>\n      <td>1.51</td>\n      <td>1.0</td>\n      <td>4.0</td>\n      <td>0.0</td>\n      <td>3.0</td>\n      <td>White</td>\n      <td>1</td>\n    </tr>\n    <tr>\n      <th>11</th>\n      <td>10.0</td>\n      <td>10.0</td>\n      <td>39.0</td>\n      <td>2.9</td>\n      <td>2.03</td>\n      <td>2.17</td>\n      <td>1.0</td>\n      <td>4.0</td>\n      <td>1.0</td>\n      <td>3.0</td>\n      <td>White</td>\n      <td>1</td>\n    </tr>\n    <tr>\n      <th>12</th>\n      <td>1.0</td>\n      <td>1.0</td>\n      <td>34.0</td>\n      <td>2.7</td>\n      <td>-1.56</td>\n      <td>-1.61</td>\n      <td>1.0</td>\n      <td>3.0</td>\n      <td>1.0</td>\n      <td>5.0</td>\n      <td>Non-White</td>\n      <td>1</td>\n    </tr>\n    <tr>\n      <th>13</th>\n      <td>9.0</td>\n      <td>10.0</td>\n      <td>33.5</td>\n      <td>3.2</td>\n      <td>1.12</td>\n      <td>1.36</td>\n      <td>1.0</td>\n      <td>3.0</td>\n      <td>1.0</td>\n      <td>3.0</td>\n      <td>White</td>\n      <td>1</td>\n    </tr>\n    <tr>\n      <th>14</th>\n      <td>7.0</td>\n      <td>5.0</td>\n      <td>36.0</td>\n      <td>3.9</td>\n      <td>0.57</td>\n      <td>0.00</td>\n      <td>1.0</td>\n      <td>5.0</td>\n      <td>1.0</td>\n      <td>4.0</td>\n      <td>White</td>\n      <td>1</td>\n    </tr>\n    <tr>\n      <th>15</th>\n      <td>2.0</td>\n      <td>5.0</td>\n      <td>37.0</td>\n      <td>2.9</td>\n      <td>-0.90</td>\n      <td>-0.20</td>\n      <td>1.0</td>\n      <td>2.0</td>\n      <td>0.0</td>\n      <td>4.0</td>\n      <td>Non-White</td>\n      <td>0</td>\n    </tr>\n    <tr>\n      <th>16</th>\n      <td>4.0</td>\n      <td>3.0</td>\n      <td>24.0</td>\n      <td>2.4</td>\n      <td>-0.24</td>\n      <td>-0.60</td>\n      <td>1.0</td>\n      <td>4.0</td>\n      <td>1.0</td>\n      <td>2.0</td>\n      <td>Non-White</td>\n      <td>1</td>\n    </tr>\n    <tr>\n      <th>17</th>\n      <td>10.0</td>\n      <td>10.0</td>\n      <td>39.0</td>\n      <td>3.3</td>\n      <td>2.47</td>\n      <td>1.81</td>\n      <td>1.0</td>\n      <td>4.0</td>\n      <td>1.0</td>\n      <td>3.0</td>\n      <td>White</td>\n      <td>1</td>\n    </tr>\n    <tr>\n      <th>18</th>\n      <td>10.0</td>\n      <td>10.0</td>\n      <td>36.0</td>\n      <td>2.9</td>\n      <td>2.15</td>\n      <td>1.85</td>\n      <td>1.0</td>\n      <td>4.0</td>\n      <td>1.0</td>\n      <td>2.0</td>\n      <td>White</td>\n      <td>1</td>\n    </tr>\n    <tr>\n      <th>19</th>\n      <td>6.0</td>\n      <td>5.0</td>\n      <td>34.0</td>\n      <td>3.5</td>\n      <td>0.19</td>\n      <td>-0.12</td>\n      <td>2.0</td>\n      <td>2.0</td>\n      <td>0.0</td>\n      <td>3.0</td>\n      <td>White</td>\n      <td>1</td>\n    </tr>\n    <tr>\n      <th>20</th>\n      <td>2.0</td>\n      <td>2.0</td>\n      <td>36.0</td>\n      <td>3.2</td>\n      <td>-0.91</td>\n      <td>-1.04</td>\n      <td>1.0</td>\n      <td>3.0</td>\n      <td>1.0</td>\n      <td>4.0</td>\n      <td>Non-White</td>\n      <td>1</td>\n    </tr>\n    <tr>\n      <th>21</th>\n      <td>4.0</td>\n      <td>4.0</td>\n      <td>32.0</td>\n      <td>3.8</td>\n      <td>-0.39</td>\n      <td>-0.55</td>\n      <td>1.0</td>\n      <td>3.0</td>\n      <td>0.0</td>\n      <td>3.0</td>\n      <td>White</td>\n      <td>1</td>\n    </tr>\n    <tr>\n      <th>22</th>\n      <td>2.0</td>\n      <td>3.0</td>\n      <td>39.5</td>\n      <td>2.9</td>\n      <td>-0.91</td>\n      <td>-0.67</td>\n      <td>1.0</td>\n      <td>2.0</td>\n      <td>0.0</td>\n      <td>5.0</td>\n      <td>White</td>\n      <td>1</td>\n    </tr>\n    <tr>\n      <th>23</th>\n      <td>2.0</td>\n      <td>1.0</td>\n      <td>37.0</td>\n      <td>2.1</td>\n      <td>-0.70</td>\n      <td>-1.32</td>\n      <td>1.0</td>\n      <td>3.0</td>\n      <td>1.0</td>\n      <td>3.0</td>\n      <td>Non-White</td>\n      <td>1</td>\n    </tr>\n    <tr>\n      <th>24</th>\n      <td>4.0</td>\n      <td>6.0</td>\n      <td>30.5</td>\n      <td>2.9</td>\n      <td>-0.37</td>\n      <td>0.01</td>\n      <td>1.0</td>\n      <td>4.0</td>\n      <td>0.0</td>\n      <td>3.0</td>\n      <td>White</td>\n      <td>1</td>\n    </tr>\n    <tr>\n      <th>25</th>\n      <td>5.0</td>\n      <td>4.0</td>\n      <td>22.0</td>\n      <td>3.3</td>\n      <td>-0.16</td>\n      <td>-0.52</td>\n      <td>2.0</td>\n      <td>4.0</td>\n      <td>0.0</td>\n      <td>4.0</td>\n      <td>Non-White</td>\n      <td>0</td>\n    </tr>\n    <tr>\n      <th>26</th>\n      <td>6.0</td>\n      <td>6.0</td>\n      <td>36.0</td>\n      <td>2.7</td>\n      <td>0.29</td>\n      <td>0.04</td>\n      <td>1.0</td>\n      <td>4.0</td>\n      <td>1.0</td>\n      <td>3.0</td>\n      <td>White</td>\n      <td>1</td>\n    </tr>\n    <tr>\n      <th>27</th>\n      <td>3.0</td>\n      <td>2.0</td>\n      <td>37.0</td>\n      <td>3.8</td>\n      <td>-0.60</td>\n      <td>-1.07</td>\n      <td>1.0</td>\n      <td>3.0</td>\n      <td>0.0</td>\n      <td>5.0</td>\n      <td>Non-White</td>\n      <td>0</td>\n    </tr>\n    <tr>\n      <th>28</th>\n      <td>10.0</td>\n      <td>10.0</td>\n      <td>30.0</td>\n      <td>3.4</td>\n      <td>1.56</td>\n      <td>1.31</td>\n      <td>1.0</td>\n      <td>4.0</td>\n      <td>0.0</td>\n      <td>3.0</td>\n      <td>White</td>\n      <td>1</td>\n    </tr>\n    <tr>\n      <th>29</th>\n      <td>7.0</td>\n      <td>6.0</td>\n      <td>33.0</td>\n      <td>3.8</td>\n      <td>0.39</td>\n      <td>0.26</td>\n      <td>1.0</td>\n      <td>4.0</td>\n      <td>1.0</td>\n      <td>4.0</td>\n      <td>White</td>\n      <td>1</td>\n    </tr>\n    <tr>\n      <th>30</th>\n      <td>7.0</td>\n      <td>6.0</td>\n      <td>47.0</td>\n      <td>3.6</td>\n      <td>0.37</td>\n      <td>0.10</td>\n      <td>1.0</td>\n      <td>3.0</td>\n      <td>1.0</td>\n      <td>6.0</td>\n      <td>White</td>\n      <td>1</td>\n    </tr>\n    <tr>\n      <th>31</th>\n      <td>8.0</td>\n      <td>9.0</td>\n      <td>40.0</td>\n      <td>2.3</td>\n      <td>0.86</td>\n      <td>1.08</td>\n      <td>1.0</td>\n      <td>2.0</td>\n      <td>1.0</td>\n      <td>5.0</td>\n      <td>Non-White</td>\n      <td>1</td>\n    </tr>\n    <tr>\n      <th>32</th>\n      <td>1.0</td>\n      <td>7.0</td>\n      <td>35.0</td>\n      <td>3.7</td>\n      <td>-1.22</td>\n      <td>0.45</td>\n      <td>1.0</td>\n      <td>3.0</td>\n      <td>1.0</td>\n      <td>4.0</td>\n      <td>White</td>\n      <td>1</td>\n    </tr>\n    <tr>\n      <th>33</th>\n      <td>1.0</td>\n      <td>1.0</td>\n      <td>33.5</td>\n      <td>3.2</td>\n      <td>-1.40</td>\n      <td>-1.79</td>\n      <td>1.0</td>\n      <td>3.0</td>\n      <td>1.0</td>\n      <td>4.0</td>\n      <td>White</td>\n      <td>1</td>\n    </tr>\n    <tr>\n      <th>34</th>\n      <td>10.0</td>\n      <td>10.0</td>\n      <td>39.5</td>\n      <td>3.2</td>\n      <td>2.24</td>\n      <td>1.46</td>\n      <td>1.0</td>\n      <td>4.0</td>\n      <td>1.0</td>\n      <td>5.0</td>\n      <td>White</td>\n      <td>1</td>\n    </tr>\n    <tr>\n      <th>35</th>\n      <td>8.0</td>\n      <td>9.0</td>\n      <td>42.0</td>\n      <td>3.1</td>\n      <td>0.63</td>\n      <td>0.93</td>\n      <td>1.0</td>\n      <td>4.0</td>\n      <td>0.0</td>\n      <td>4.0</td>\n      <td>White</td>\n      <td>1</td>\n    </tr>\n    <tr>\n      <th>36</th>\n      <td>4.0</td>\n      <td>9.0</td>\n      <td>38.0</td>\n      <td>2.7</td>\n      <td>-0.17</td>\n      <td>1.15</td>\n      <td>1.0</td>\n      <td>3.0</td>\n      <td>1.0</td>\n      <td>3.0</td>\n      <td>White</td>\n      <td>1</td>\n    </tr>\n    <tr>\n      <th>37</th>\n      <td>8.0</td>\n      <td>8.0</td>\n      <td>32.0</td>\n      <td>3.5</td>\n      <td>0.71</td>\n      <td>0.73</td>\n      <td>1.0</td>\n      <td>3.0</td>\n      <td>0.0</td>\n      <td>4.0</td>\n      <td>Non-White</td>\n      <td>0</td>\n    </tr>\n    <tr>\n      <th>38</th>\n      <td>5.0</td>\n      <td>3.0</td>\n      <td>31.0</td>\n      <td>3.8</td>\n      <td>-0.03</td>\n      <td>-0.61</td>\n      <td>1.0</td>\n      <td>2.0</td>\n      <td>1.0</td>\n      <td>4.0</td>\n      <td>White</td>\n      <td>1</td>\n    </tr>\n    <tr>\n      <th>39</th>\n      <td>6.0</td>\n      <td>7.0</td>\n      <td>40.0</td>\n      <td>3.0</td>\n      <td>0.30</td>\n      <td>0.41</td>\n      <td>1.0</td>\n      <td>4.0</td>\n      <td>1.0</td>\n      <td>4.0</td>\n      <td>White</td>\n      <td>1</td>\n    </tr>\n  </tbody>\n</table>\n</div>"
     },
     "metadata": {},
     "output_type": "display_data"
    },
    {
     "data": {
      "text/plain": "Multiple alphas:   0%|          | 0/1 [00:00<?, ?it/s]",
      "application/vnd.jupyter.widget-view+json": {
       "version_major": 2,
       "version_minor": 0,
       "model_id": "774a28199bf544d097327b8ccd7dfb2a"
      }
     },
     "metadata": {},
     "output_type": "display_data"
    },
    {
     "name": "stderr",
     "output_type": "stream",
     "text": [
      "2024-01-05 17:59:58 experiment_interface.py INFO    : The dataset is preprocessed\n"
     ]
    },
    {
     "name": "stdout",
     "output_type": "stream",
     "text": [
      "intervention_option:  True\n",
      "Using ROC postprocessor\n",
      "cur_base_flow_dataset.X_train_val.columns:  Index(['cat__fulltime_1.0', 'cat__fulltime_2.0', 'cat__fam_inc_1.0',\n",
      "       'cat__fam_inc_2.0', 'cat__fam_inc_3.0', 'cat__fam_inc_4.0',\n",
      "       'cat__fam_inc_5.0', 'cat__tier_1.0', 'cat__tier_2.0', 'cat__tier_3.0',\n",
      "       'cat__tier_4.0', 'cat__tier_5.0', 'cat__tier_6.0', 'num__decile1b',\n",
      "       'num__decile3', 'num__lsat', 'num__ugpa', 'num__zfygpa', 'num__zgpa',\n",
      "       'male&race_binary'],\n",
      "      dtype='object')\n",
      "Top indexes of an X_test in the current base flow dataset:  Int64Index([1273, 1380,  356, 1920,  561,  105,  999, 2563,  584,   31,  610,\n",
      "            1856, 2740, 1804, 2691, 1292, 2305,  221,  291, 1290],\n",
      "           dtype='int64')\n",
      "Top indexes of an y_test in the current base flow dataset:  Int64Index([1273, 1380,  356, 1920,  561,  105,  999, 2563,  584,   31,  610,\n",
      "            1856, 2740, 1804, 2691, 1292, 2305,  221,  291, 1290],\n",
      "           dtype='int64')\n",
      "2024/01/05, 17:59:58: Tuning LogisticRegression...\n",
      "2024/01/05, 17:59:59: Tuning for LogisticRegression is finished [F1 score = 0.6695902853859911, Accuracy = 0.8915555555555557]\n"
     ]
    },
    {
     "name": "stderr",
     "output_type": "stream",
     "text": [
      "2024-01-05 17:59:59 experiment_interface.py INFO    : Models are tuned and saved to a file\n"
     ]
    },
    {
     "data": {
      "text/plain": "Analyze multiple models:   0%|          | 0/1 [00:00<?, ?it/s]",
      "application/vnd.jupyter.widget-view+json": {
       "version_major": 2,
       "version_minor": 0,
       "model_id": "6c02bd9d5a744aa5bca8e836743f75c0"
      }
     },
     "metadata": {},
     "output_type": "display_data"
    },
    {
     "name": "stdout",
     "output_type": "stream",
     "text": [
      "Enabled a postprocessing mode\n"
     ]
    },
    {
     "data": {
      "text/plain": "Classifiers testing by bootstrap:   0%|          | 0/200 [00:00<?, ?it/s]",
      "application/vnd.jupyter.widget-view+json": {
       "version_major": 2,
       "version_minor": 0,
       "model_id": "37e22129cc7747a79abb52a8817eeb2a"
      }
     },
     "metadata": {},
     "output_type": "display_data"
    }
   ],
   "source": [
    "run_exp_iter_with_eq_odds(data_loader=exp_iter_data_loader,\n",
    "                          experiment_seed=experiment_seed,\n",
    "                          test_set_fraction=TEST_SET_FRACTION,\n",
    "                          db_writer_func=db_writer_func,\n",
    "                          fair_intervention_params_lst=FAIR_INTERVENTION_PARAMS_LST,\n",
    "                          models_params_for_tuning=models_params_for_tuning,\n",
    "                          metrics_computation_config=metrics_computation_config,\n",
    "                          custom_table_fields_dct=custom_table_fields_dct,\n",
    "                          with_tuning=True,\n",
    "                          # with_tuning=False,\n",
    "                          # tuned_params_df_paths=tuned_params_df_paths,\n",
    "                          save_results_dir_path=SAVE_RESULTS_DIR_PATH,\n",
    "                          dataset_name=DATASET_NAME,\n",
    "                          postprocessor_name='ROC',\n",
    "                          verbose=True)"
   ]
  },
  {
   "cell_type": "markdown",
   "id": "8d044340",
   "metadata": {},
   "source": [
    "### Experiment iteration 2"
   ]
  },
  {
   "cell_type": "code",
   "execution_count": null,
   "id": "1f3661f3",
   "metadata": {},
   "outputs": [],
   "source": [
    "# Configs for an experiment iteration\n",
    "exp_iter_num = 2\n",
    "experiment_seed = EXPERIMENT_SEEDS[exp_iter_num - 1]\n",
    "tuned_params_filenames = [\n",
    "]\n",
    "tuned_params_df_paths = [os.path.join(ROOT_DIR, 'results', 'diff_fairness_interventions_exp',\n",
    "                                      FAIRNESS_INTERVENTION_NAME, EXPERIMENT_NAME, tuned_params_filename)\n",
    "                         for tuned_params_filename in tuned_params_filenames]\n",
    "custom_table_fields_dct['experiment_iteration'] = f'Exp_iter_{exp_iter_num}'\n",
    "\n",
    "exp_iter_data_loader = copy.deepcopy(data_loader)  # Add deepcopy to avoid data leakage\n",
    "models_params_for_tuning = get_folktables_employment_models_params_for_tuning(experiment_seed)"
   ]
  },
  {
   "cell_type": "code",
   "execution_count": null,
   "id": "526da0cd",
   "metadata": {
    "ExecuteTime": {
     "end_time": "2024-01-03T22:18:14.888610Z",
     "start_time": "2024-01-03T22:18:14.886453Z"
    }
   },
   "outputs": [],
   "source": [
    "run_exp_iter_with_eq_odds(data_loader=exp_iter_data_loader,\n",
    "                          experiment_seed=experiment_seed,\n",
    "                          test_set_fraction=TEST_SET_FRACTION,\n",
    "                          db_writer_func=db_writer_func,\n",
    "                          fair_intervention_params_lst=FAIR_INTERVENTION_PARAMS_LST,\n",
    "                          models_params_for_tuning=models_params_for_tuning,\n",
    "                          metrics_computation_config=metrics_computation_config,\n",
    "                          custom_table_fields_dct=custom_table_fields_dct,\n",
    "                          # with_tuning=True,\n",
    "                          with_tuning=False,\n",
    "                          tuned_params_df_paths=tuned_params_df_paths,\n",
    "                          save_results_dir_path=SAVE_RESULTS_DIR_PATH,\n",
    "                          dataset_name=DATASET_NAME,\n",
    "                          postprocessor_name='ROC',\n",
    "                          verbose=True)"
   ]
  },
  {
   "cell_type": "markdown",
   "id": "49ce0ecc",
   "metadata": {},
   "source": [
    "### Experiment iteration 3"
   ]
  },
  {
   "cell_type": "code",
   "execution_count": 23,
   "id": "20fd9bb3",
   "metadata": {},
   "outputs": [],
   "source": [
    "# Configs for an experiment iteration\n",
    "exp_iter_num = 3\n",
    "experiment_seed = EXPERIMENT_SEEDS[exp_iter_num - 1]\n",
    "tuned_params_filenames = [\n",
    "]\n",
    "tuned_params_df_paths = [os.path.join(ROOT_DIR, 'results', 'diff_fairness_interventions_exp',\n",
    "                                      FAIRNESS_INTERVENTION_NAME, EXPERIMENT_NAME, tuned_params_filename)\n",
    "                         for tuned_params_filename in tuned_params_filenames]\n",
    "custom_table_fields_dct['experiment_iteration'] = f'Exp_iter_{exp_iter_num}'\n",
    "\n",
    "exp_iter_data_loader = copy.deepcopy(data_loader)  # Add deepcopy to avoid data leakage\n",
    "models_params_for_tuning = get_folktables_employment_models_params_for_tuning(experiment_seed)"
   ]
  },
  {
   "cell_type": "code",
   "execution_count": 2,
   "id": "cd97b5d0",
   "metadata": {
    "ExecuteTime": {
     "end_time": "2024-01-03T22:18:19.039982Z",
     "start_time": "2024-01-03T22:18:19.031586Z"
    }
   },
   "outputs": [],
   "source": [
    "run_exp_iter_with_eq_odds(data_loader=exp_iter_data_loader,\n",
    "                          experiment_seed=experiment_seed,\n",
    "                          test_set_fraction=TEST_SET_FRACTION,\n",
    "                          db_writer_func=db_writer_func,\n",
    "                          fair_intervention_params_lst=FAIR_INTERVENTION_PARAMS_LST,\n",
    "                          models_params_for_tuning=models_params_for_tuning,\n",
    "                          metrics_computation_config=metrics_computation_config,\n",
    "                          custom_table_fields_dct=custom_table_fields_dct,\n",
    "                          # with_tuning=True,\n",
    "                          with_tuning=False,\n",
    "                          tuned_params_df_paths=tuned_params_df_paths,\n",
    "                          save_results_dir_path=SAVE_RESULTS_DIR_PATH,\n",
    "                          dataset_name=DATASET_NAME,\n",
    "                          postprocessor_name='ROC',\n",
    "                          verbose=True)"
   ]
  },
  {
   "cell_type": "markdown",
   "id": "fcda3107",
   "metadata": {},
   "source": [
    "### Experiment iteration 4"
   ]
  },
  {
   "cell_type": "code",
   "execution_count": 25,
   "id": "5e2aa3ee",
   "metadata": {},
   "outputs": [],
   "source": [
    "# Configs for an experiment iteration\n",
    "exp_iter_num = 4\n",
    "experiment_seed = EXPERIMENT_SEEDS[exp_iter_num - 1]\n",
    "tuned_params_filenames = [\n",
    "]\n",
    "tuned_params_df_paths = [os.path.join(ROOT_DIR, 'results', 'diff_fairness_interventions_exp',\n",
    "                                      FAIRNESS_INTERVENTION_NAME, EXPERIMENT_NAME, tuned_params_filename)\n",
    "                         for tuned_params_filename in tuned_params_filenames]\n",
    "custom_table_fields_dct['experiment_iteration'] = f'Exp_iter_{exp_iter_num}'\n",
    "\n",
    "exp_iter_data_loader = copy.deepcopy(data_loader)  # Add deepcopy to avoid data leakage\n",
    "models_params_for_tuning = get_folktables_employment_models_params_for_tuning(experiment_seed)"
   ]
  },
  {
   "cell_type": "code",
   "execution_count": 3,
   "id": "72143e04",
   "metadata": {
    "ExecuteTime": {
     "end_time": "2024-01-03T22:18:24.538103Z",
     "start_time": "2024-01-03T22:18:24.530684Z"
    }
   },
   "outputs": [],
   "source": [
    "run_exp_iter_with_eq_odds(data_loader=exp_iter_data_loader,\n",
    "                          experiment_seed=experiment_seed,\n",
    "                          test_set_fraction=TEST_SET_FRACTION,\n",
    "                          db_writer_func=db_writer_func,\n",
    "                          fair_intervention_params_lst=FAIR_INTERVENTION_PARAMS_LST,\n",
    "                          models_params_for_tuning=models_params_for_tuning,\n",
    "                          metrics_computation_config=metrics_computation_config,\n",
    "                          custom_table_fields_dct=custom_table_fields_dct,\n",
    "                          # with_tuning=True,\n",
    "                          with_tuning=False,\n",
    "                          tuned_params_df_paths=tuned_params_df_paths,\n",
    "                          save_results_dir_path=SAVE_RESULTS_DIR_PATH,\n",
    "                          dataset_name=DATASET_NAME,\n",
    "                          postprocessor_name='ROC',\n",
    "                          verbose=True)"
   ]
  },
  {
   "cell_type": "markdown",
   "id": "bff05aab",
   "metadata": {},
   "source": [
    "### Experiment iteration 5"
   ]
  },
  {
   "cell_type": "code",
   "execution_count": 27,
   "id": "e940d641",
   "metadata": {},
   "outputs": [],
   "source": [
    "# Configs for an experiment iteration\n",
    "exp_iter_num = 5\n",
    "experiment_seed = EXPERIMENT_SEEDS[exp_iter_num - 1]\n",
    "tuned_params_filenames = [\n",
    "]\n",
    "tuned_params_df_paths = [os.path.join(ROOT_DIR, 'results', 'diff_fairness_interventions_exp',\n",
    "                                      FAIRNESS_INTERVENTION_NAME, EXPERIMENT_NAME, tuned_params_filename)\n",
    "                         for tuned_params_filename in tuned_params_filenames]\n",
    "custom_table_fields_dct['experiment_iteration'] = f'Exp_iter_{exp_iter_num}'\n",
    "\n",
    "exp_iter_data_loader = copy.deepcopy(data_loader)  # Add deepcopy to avoid data leakage\n",
    "models_params_for_tuning = get_folktables_employment_models_params_for_tuning(experiment_seed)"
   ]
  },
  {
   "cell_type": "code",
   "execution_count": 4,
   "id": "c5515436",
   "metadata": {
    "ExecuteTime": {
     "end_time": "2024-01-03T22:18:29.050787Z",
     "start_time": "2024-01-03T22:18:29.045886Z"
    }
   },
   "outputs": [],
   "source": [
    "run_exp_iter_with_eq_odds(data_loader=exp_iter_data_loader,\n",
    "                          experiment_seed=experiment_seed,\n",
    "                          test_set_fraction=TEST_SET_FRACTION,\n",
    "                          db_writer_func=db_writer_func,\n",
    "                          fair_intervention_params_lst=FAIR_INTERVENTION_PARAMS_LST,\n",
    "                          models_params_for_tuning=models_params_for_tuning,\n",
    "                          metrics_computation_config=metrics_computation_config,\n",
    "                          custom_table_fields_dct=custom_table_fields_dct,\n",
    "                          # with_tuning=True,\n",
    "                          with_tuning=False,\n",
    "                          tuned_params_df_paths=tuned_params_df_paths,\n",
    "                          save_results_dir_path=SAVE_RESULTS_DIR_PATH,\n",
    "                          dataset_name=DATASET_NAME,\n",
    "                          postprocessor_name='ROC',\n",
    "                          verbose=True)"
   ]
  },
  {
   "cell_type": "markdown",
   "id": "eac999fe",
   "metadata": {},
   "source": [
    "### Experiment iteration 6"
   ]
  },
  {
   "cell_type": "code",
   "execution_count": 29,
   "id": "124f431e",
   "metadata": {},
   "outputs": [],
   "source": [
    "# Configs for an experiment iteration\n",
    "exp_iter_num = 6\n",
    "experiment_seed = EXPERIMENT_SEEDS[exp_iter_num - 1]\n",
    "tuned_params_filenames = [\n",
    "]\n",
    "tuned_params_df_paths = [os.path.join(ROOT_DIR, 'results', 'diff_fairness_interventions_exp',\n",
    "                                      FAIRNESS_INTERVENTION_NAME, EXPERIMENT_NAME, tuned_params_filename)\n",
    "                         for tuned_params_filename in tuned_params_filenames]\n",
    "custom_table_fields_dct['experiment_iteration'] = f'Exp_iter_{exp_iter_num}'\n",
    "\n",
    "exp_iter_data_loader = copy.deepcopy(data_loader)  # Add deepcopy to avoid data leakage\n",
    "models_params_for_tuning = get_folktables_employment_models_params_for_tuning(experiment_seed)"
   ]
  },
  {
   "cell_type": "code",
   "execution_count": 5,
   "id": "38b28b25",
   "metadata": {
    "ExecuteTime": {
     "end_time": "2024-01-03T22:18:33.438196Z",
     "start_time": "2024-01-03T22:18:33.433760Z"
    }
   },
   "outputs": [],
   "source": [
    "run_exp_iter_with_eq_odds(data_loader=exp_iter_data_loader,\n",
    "                          experiment_seed=experiment_seed,\n",
    "                          test_set_fraction=TEST_SET_FRACTION,\n",
    "                          db_writer_func=db_writer_func,\n",
    "                          fair_intervention_params_lst=FAIR_INTERVENTION_PARAMS_LST,\n",
    "                          models_params_for_tuning=models_params_for_tuning,\n",
    "                          metrics_computation_config=metrics_computation_config,\n",
    "                          custom_table_fields_dct=custom_table_fields_dct,\n",
    "                          # with_tuning=True,\n",
    "                          with_tuning=False,\n",
    "                          tuned_params_df_paths=tuned_params_df_paths,\n",
    "                          save_results_dir_path=SAVE_RESULTS_DIR_PATH,\n",
    "                          dataset_name=DATASET_NAME,\n",
    "                          postprocessor_name='ROC',\n",
    "                          verbose=True)"
   ]
  },
  {
   "cell_type": "code",
   "execution_count": null,
   "id": "cfd31d72",
   "metadata": {},
   "outputs": [],
   "source": []
  }
 ],
 "metadata": {
  "kernelspec": {
   "display_name": "Python 3",
   "language": "python",
   "name": "python3"
  },
  "language_info": {
   "codemirror_mode": {
    "name": "ipython",
    "version": 3
   },
   "file_extension": ".py",
   "mimetype": "text/x-python",
   "name": "python",
   "nbconvert_exporter": "python",
   "pygments_lexer": "ipython3",
   "version": "3.8.5"
  }
 },
 "nbformat": 4,
 "nbformat_minor": 5
}
