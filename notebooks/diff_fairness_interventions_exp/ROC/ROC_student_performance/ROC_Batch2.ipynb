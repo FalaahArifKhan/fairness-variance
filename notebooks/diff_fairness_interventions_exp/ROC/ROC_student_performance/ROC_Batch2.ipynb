{
 "cells": [
  {
   "cell_type": "code",
   "execution_count": 15,
   "id": "095b8a78",
   "metadata": {},
   "outputs": [],
   "source": [
    "# !pip install -r ./requirements.txt"
   ]
  },
  {
   "cell_type": "code",
   "execution_count": 2,
   "id": "6da3b64e",
   "metadata": {
    "ExecuteTime": {
     "end_time": "2024-01-04T21:04:02.240054Z",
     "start_time": "2024-01-04T21:04:02.222126Z"
    }
   },
   "outputs": [],
   "source": [
    "# !pip uninstall virny -y"
   ]
  },
  {
   "cell_type": "code",
   "execution_count": 4,
   "id": "73e50ff5",
   "metadata": {
    "ExecuteTime": {
     "end_time": "2024-01-04T21:04:19.504270Z",
     "start_time": "2024-01-04T21:04:19.500730Z"
    }
   },
   "outputs": [],
   "source": [
    "# Install using an HTTP link\n",
    "# !pip install git+https://github.com/DataResponsibly/Virny.git@feature/prepare_for_uncertainty_experiments\n",
    "\n",
    "# Install using an SSH link\n",
    "# !pip install git+ssh://git@github.com/DataResponsibly/Virny.git@feature/prepare_for_uncertainty_experiments"
   ]
  },
  {
   "cell_type": "code",
   "execution_count": 1,
   "id": "18e04f33",
   "metadata": {
    "ExecuteTime": {
     "end_time": "2024-01-04T21:08:07.344083Z",
     "start_time": "2024-01-04T21:08:07.055006Z"
    }
   },
   "outputs": [],
   "source": [
    "%matplotlib inline\n",
    "%load_ext autoreload\n",
    "%autoreload 2"
   ]
  },
  {
   "cell_type": "code",
   "execution_count": 2,
   "id": "cf6f0ce4",
   "metadata": {
    "ExecuteTime": {
     "end_time": "2024-01-04T21:08:07.353474Z",
     "start_time": "2024-01-04T21:08:07.344318Z"
    }
   },
   "outputs": [],
   "source": [
    "import os\n",
    "import warnings\n",
    "warnings.filterwarnings('ignore')\n",
    "os.environ[\"PYTHONWARNINGS\"] = \"ignore\""
   ]
  },
  {
   "cell_type": "code",
   "execution_count": 3,
   "id": "134f6e2d",
   "metadata": {
    "ExecuteTime": {
     "end_time": "2024-01-04T21:08:07.424577Z",
     "start_time": "2024-01-04T21:08:07.414575Z"
    }
   },
   "outputs": [
    {
     "name": "stdout",
     "output_type": "stream",
     "text": [
      "Current location:  /home/dh3553/projects/fairness-variance\n"
     ]
    }
   ],
   "source": [
    "cur_folder_name = os.getcwd().split('/')[-1]\n",
    "if cur_folder_name != \"fairness-variance\":\n",
    "    os.chdir(\"../../../..\")\n",
    "\n",
    "print('Current location: ', os.getcwd())"
   ]
  },
  {
   "cell_type": "markdown",
   "id": "d1323627",
   "metadata": {},
   "source": [
    "## Import dependencies"
   ]
  },
  {
   "cell_type": "code",
   "execution_count": 4,
   "id": "b63ba02d",
   "metadata": {
    "ExecuteTime": {
     "end_time": "2024-01-04T21:08:09.776408Z",
     "start_time": "2024-01-04T21:08:08.759957Z"
    }
   },
   "outputs": [
    {
     "name": "stderr",
     "output_type": "stream",
     "text": [
      "WARNING:root:No module named 'tempeh': LawSchoolGPADataset will be unavailable. To install, run:\n",
      "pip install 'aif360[LawSchoolGPA]'\n",
      "WARNING:root:No module named 'tensorflow': AdversarialDebiasing will be unavailable. To install, run:\n",
      "pip install 'aif360[AdversarialDebiasing]'\n",
      "WARNING:root:No module named 'tensorflow': AdversarialDebiasing will be unavailable. To install, run:\n",
      "pip install 'aif360[AdversarialDebiasing]'\n"
     ]
    }
   ],
   "source": [
    "import copy\n",
    "\n",
    "from virny.utils.custom_initializers import create_config_obj\n",
    "from virny.datasets import StudentPerformancePortugueseDataset\n",
    "\n",
    "from configs.constants import TEST_SET_FRACTION, EXPERIMENT_SEEDS\n",
    "from configs.models_config_for_tuning import get_folktables_employment_models_params_for_tuning2\n",
    "\n",
    "from source.experiment_interface import run_exp_iter_with_eq_odds"
   ]
  },
  {
   "cell_type": "markdown",
   "id": "175ef0a1",
   "metadata": {},
   "source": [
    "## Define Input Variables"
   ]
  },
  {
   "cell_type": "code",
   "execution_count": 5,
   "id": "955df8aa",
   "metadata": {
    "ExecuteTime": {
     "end_time": "2024-01-04T21:08:09.796955Z",
     "start_time": "2024-01-04T21:08:09.777100Z"
    }
   },
   "outputs": [],
   "source": [
    "ROOT_DIR = os.getcwd()\n",
    "EXPERIMENT_NAME = 'ROC_student_performance'\n",
    "DB_COLLECTION_NAME = 'one_repair_lvl_many_models'\n",
    "FAIRNESS_INTERVENTION_NAME = 'ROC'\n",
    "FAIR_INTERVENTION_PARAMS_LST = [True]\n",
    "SAVE_RESULTS_DIR_PATH = os.path.join(ROOT_DIR, 'results', 'diff_fairness_interventions_exp',\n",
    "                                     FAIRNESS_INTERVENTION_NAME, EXPERIMENT_NAME)\n",
    "\n",
    "config_yaml_path = os.path.join(ROOT_DIR, 'notebooks', 'diff_fairness_interventions_exp',\n",
    "                                FAIRNESS_INTERVENTION_NAME, EXPERIMENT_NAME, 'student_performance_por_config.yaml')\n",
    "metrics_computation_config = create_config_obj(config_yaml_path=config_yaml_path)"
   ]
  },
  {
   "cell_type": "markdown",
   "id": "9eb8ce7d",
   "metadata": {},
   "source": [
    "## Define a db writer and custom fields to insert into your database"
   ]
  },
  {
   "cell_type": "code",
   "execution_count": 6,
   "id": "0e904362",
   "metadata": {
    "ExecuteTime": {
     "end_time": "2024-01-04T21:08:10.019327Z",
     "start_time": "2024-01-04T21:08:09.994421Z"
    }
   },
   "outputs": [
    {
     "data": {
      "text/plain": [
       "'fairness_variance'"
      ]
     },
     "execution_count": 6,
     "metadata": {},
     "output_type": "execute_result"
    }
   ],
   "source": [
    "import os\n",
    "from dotenv import load_dotenv\n",
    "\n",
    "load_dotenv('./configs/secrets.env')\n",
    "os.getenv(\"DB_NAME\")"
   ]
  },
  {
   "cell_type": "code",
   "execution_count": 7,
   "id": "e9542a9e",
   "metadata": {
    "ExecuteTime": {
     "end_time": "2024-01-04T21:08:10.329496Z",
     "start_time": "2024-01-04T21:08:10.165883Z"
    }
   },
   "outputs": [],
   "source": [
    "from source.utils.db_functions import connect_to_mongodb\n",
    "\n",
    "client, collection_obj, db_writer_func = connect_to_mongodb(DB_COLLECTION_NAME)"
   ]
  },
  {
   "cell_type": "code",
   "execution_count": 8,
   "id": "e4aa3b07",
   "metadata": {
    "ExecuteTime": {
     "end_time": "2024-01-04T21:08:11.217468Z",
     "start_time": "2024-01-04T21:08:11.193539Z"
    }
   },
   "outputs": [
    {
     "name": "stdout",
     "output_type": "stream",
     "text": [
      "Current session uuid:  0626d80f-e288-4f16-b8ab-260eb34d62d3\n"
     ]
    }
   ],
   "source": [
    "import uuid\n",
    "\n",
    "custom_table_fields_dct = {\n",
    "#     'session_uuid': str(uuid.uuid4()),\n",
    "    'session_uuid': '0626d80f-e288-4f16-b8ab-260eb34d62d3',\n",
    "}\n",
    "print('Current session uuid: ', custom_table_fields_dct['session_uuid'])"
   ]
  },
  {
   "cell_type": "markdown",
   "id": "c9815adb",
   "metadata": {},
   "source": [
    "## Initialize custom objects"
   ]
  },
  {
   "cell_type": "code",
   "execution_count": 9,
   "id": "daa4ea2d",
   "metadata": {
    "ExecuteTime": {
     "end_time": "2024-01-04T21:08:11.566012Z",
     "start_time": "2024-01-04T21:08:11.530130Z"
    }
   },
   "outputs": [
    {
     "data": {
      "text/html": [
       "<div>\n",
       "<style scoped>\n",
       "    .dataframe tbody tr th:only-of-type {\n",
       "        vertical-align: middle;\n",
       "    }\n",
       "\n",
       "    .dataframe tbody tr th {\n",
       "        vertical-align: top;\n",
       "    }\n",
       "\n",
       "    .dataframe thead th {\n",
       "        text-align: right;\n",
       "    }\n",
       "</style>\n",
       "<table border=\"1\" class=\"dataframe\">\n",
       "  <thead>\n",
       "    <tr style=\"text-align: right;\">\n",
       "      <th></th>\n",
       "      <th>age</th>\n",
       "      <th>Medu</th>\n",
       "      <th>Fedu</th>\n",
       "      <th>traveltime</th>\n",
       "      <th>studytime</th>\n",
       "      <th>failures</th>\n",
       "      <th>famrel</th>\n",
       "      <th>freetime</th>\n",
       "      <th>goout</th>\n",
       "      <th>Dalc</th>\n",
       "      <th>...</th>\n",
       "      <th>reason</th>\n",
       "      <th>guardian</th>\n",
       "      <th>schoolsup</th>\n",
       "      <th>famsup</th>\n",
       "      <th>paid</th>\n",
       "      <th>activities</th>\n",
       "      <th>nursery</th>\n",
       "      <th>higher</th>\n",
       "      <th>internet</th>\n",
       "      <th>romantic</th>\n",
       "    </tr>\n",
       "  </thead>\n",
       "  <tbody>\n",
       "    <tr>\n",
       "      <th>0</th>\n",
       "      <td>18</td>\n",
       "      <td>4</td>\n",
       "      <td>4</td>\n",
       "      <td>2</td>\n",
       "      <td>2</td>\n",
       "      <td>0</td>\n",
       "      <td>4</td>\n",
       "      <td>3</td>\n",
       "      <td>4</td>\n",
       "      <td>1</td>\n",
       "      <td>...</td>\n",
       "      <td>course</td>\n",
       "      <td>mother</td>\n",
       "      <td>yes</td>\n",
       "      <td>no</td>\n",
       "      <td>no</td>\n",
       "      <td>no</td>\n",
       "      <td>yes</td>\n",
       "      <td>yes</td>\n",
       "      <td>no</td>\n",
       "      <td>no</td>\n",
       "    </tr>\n",
       "    <tr>\n",
       "      <th>1</th>\n",
       "      <td>17</td>\n",
       "      <td>1</td>\n",
       "      <td>1</td>\n",
       "      <td>1</td>\n",
       "      <td>2</td>\n",
       "      <td>0</td>\n",
       "      <td>5</td>\n",
       "      <td>3</td>\n",
       "      <td>3</td>\n",
       "      <td>1</td>\n",
       "      <td>...</td>\n",
       "      <td>course</td>\n",
       "      <td>father</td>\n",
       "      <td>no</td>\n",
       "      <td>yes</td>\n",
       "      <td>no</td>\n",
       "      <td>no</td>\n",
       "      <td>no</td>\n",
       "      <td>yes</td>\n",
       "      <td>yes</td>\n",
       "      <td>no</td>\n",
       "    </tr>\n",
       "    <tr>\n",
       "      <th>2</th>\n",
       "      <td>15</td>\n",
       "      <td>1</td>\n",
       "      <td>1</td>\n",
       "      <td>1</td>\n",
       "      <td>2</td>\n",
       "      <td>0</td>\n",
       "      <td>4</td>\n",
       "      <td>3</td>\n",
       "      <td>2</td>\n",
       "      <td>2</td>\n",
       "      <td>...</td>\n",
       "      <td>other</td>\n",
       "      <td>mother</td>\n",
       "      <td>yes</td>\n",
       "      <td>no</td>\n",
       "      <td>no</td>\n",
       "      <td>no</td>\n",
       "      <td>yes</td>\n",
       "      <td>yes</td>\n",
       "      <td>yes</td>\n",
       "      <td>no</td>\n",
       "    </tr>\n",
       "    <tr>\n",
       "      <th>3</th>\n",
       "      <td>15</td>\n",
       "      <td>4</td>\n",
       "      <td>2</td>\n",
       "      <td>1</td>\n",
       "      <td>3</td>\n",
       "      <td>0</td>\n",
       "      <td>3</td>\n",
       "      <td>2</td>\n",
       "      <td>2</td>\n",
       "      <td>1</td>\n",
       "      <td>...</td>\n",
       "      <td>home</td>\n",
       "      <td>mother</td>\n",
       "      <td>no</td>\n",
       "      <td>yes</td>\n",
       "      <td>no</td>\n",
       "      <td>yes</td>\n",
       "      <td>yes</td>\n",
       "      <td>yes</td>\n",
       "      <td>yes</td>\n",
       "      <td>yes</td>\n",
       "    </tr>\n",
       "    <tr>\n",
       "      <th>4</th>\n",
       "      <td>16</td>\n",
       "      <td>3</td>\n",
       "      <td>3</td>\n",
       "      <td>1</td>\n",
       "      <td>2</td>\n",
       "      <td>0</td>\n",
       "      <td>4</td>\n",
       "      <td>3</td>\n",
       "      <td>2</td>\n",
       "      <td>1</td>\n",
       "      <td>...</td>\n",
       "      <td>home</td>\n",
       "      <td>father</td>\n",
       "      <td>no</td>\n",
       "      <td>yes</td>\n",
       "      <td>no</td>\n",
       "      <td>no</td>\n",
       "      <td>yes</td>\n",
       "      <td>yes</td>\n",
       "      <td>no</td>\n",
       "      <td>no</td>\n",
       "    </tr>\n",
       "  </tbody>\n",
       "</table>\n",
       "<p>5 rows × 32 columns</p>\n",
       "</div>"
      ],
      "text/plain": [
       "   age  Medu  Fedu  traveltime  studytime  failures  famrel  freetime  goout  \\\n",
       "0   18     4     4           2          2         0       4         3      4   \n",
       "1   17     1     1           1          2         0       5         3      3   \n",
       "2   15     1     1           1          2         0       4         3      2   \n",
       "3   15     4     2           1          3         0       3         2      2   \n",
       "4   16     3     3           1          2         0       4         3      2   \n",
       "\n",
       "   Dalc  ...  reason  guardian  schoolsup  famsup  paid activities nursery  \\\n",
       "0     1  ...  course    mother        yes      no    no         no     yes   \n",
       "1     1  ...  course    father         no     yes    no         no      no   \n",
       "2     2  ...   other    mother        yes      no    no         no     yes   \n",
       "3     1  ...    home    mother         no     yes    no        yes     yes   \n",
       "4     1  ...    home    father         no     yes    no         no     yes   \n",
       "\n",
       "  higher internet romantic  \n",
       "0    yes       no       no  \n",
       "1    yes      yes       no  \n",
       "2    yes      yes       no  \n",
       "3    yes      yes      yes  \n",
       "4    yes       no       no  \n",
       "\n",
       "[5 rows x 32 columns]"
      ]
     },
     "execution_count": 9,
     "metadata": {},
     "output_type": "execute_result"
    }
   ],
   "source": [
    "data_loader = StudentPerformancePortugueseDataset()\n",
    "data_loader.X_data.head()"
   ]
  },
  {
   "cell_type": "code",
   "execution_count": 10,
   "id": "37e208a1",
   "metadata": {
    "ExecuteTime": {
     "end_time": "2024-01-04T21:08:12.501898Z",
     "start_time": "2024-01-04T21:08:12.476730Z"
    }
   },
   "outputs": [
    {
     "data": {
      "text/plain": [
       "(649, 32)"
      ]
     },
     "execution_count": 10,
     "metadata": {},
     "output_type": "execute_result"
    }
   ],
   "source": [
    "data_loader.X_data.shape"
   ]
  },
  {
   "cell_type": "markdown",
   "id": "09483ea4",
   "metadata": {},
   "source": [
    "## Run experiment iterations"
   ]
  },
  {
   "cell_type": "markdown",
   "id": "3da7d053",
   "metadata": {},
   "source": [
    "### Experiment iteration 1"
   ]
  },
  {
   "cell_type": "code",
   "execution_count": 11,
   "id": "eb86b1bb",
   "metadata": {
    "ExecuteTime": {
     "end_time": "2024-01-04T21:08:13.101185Z",
     "start_time": "2024-01-04T21:08:13.077158Z"
    }
   },
   "outputs": [],
   "source": [
    "# tuned_params_filenames = ['tuning_results_Folktables_NY_2018_Employment_alpha_0.8_20230706__115508.csv']\n",
    "# tuned_params_df_paths = [os.path.join(ROOT_DIR, 'results', EXPERIMENT_NAME, tuned_params_filename)\n",
    "#                          for tuned_params_filename in tuned_params_filenames]"
   ]
  },
  {
   "cell_type": "code",
   "execution_count": 12,
   "id": "ede6e385",
   "metadata": {
    "ExecuteTime": {
     "end_time": "2024-01-04T21:08:14.167356Z",
     "start_time": "2024-01-04T21:08:14.141549Z"
    }
   },
   "outputs": [],
   "source": [
    "# Configs for an experiment iteration\n",
    "exp_iter_num = 1\n",
    "experiment_seed = EXPERIMENT_SEEDS[exp_iter_num - 1]\n",
    "custom_table_fields_dct['experiment_iteration'] = f'Exp_iter_{exp_iter_num}'\n",
    "\n",
    "exp_iter_data_loader = copy.deepcopy(data_loader)  # Add deepcopy to avoid data leakage\n",
    "models_params_for_tuning = get_folktables_employment_models_params_for_tuning2(experiment_seed)"
   ]
  },
  {
   "cell_type": "code",
   "execution_count": null,
   "id": "1700b4c3",
   "metadata": {
    "ExecuteTime": {
     "end_time": "2024-01-04T21:09:33.343888Z",
     "start_time": "2024-01-04T21:08:14.311170Z"
    }
   },
   "outputs": [
    {
     "name": "stderr",
     "output_type": "stream",
     "text": [
      "2024-01-04 16:31:17 experiment_interface.py INFO    : Start an experiment iteration for the following custom params:\n",
      "INFO:root:Start an experiment iteration for the following custom params:\n"
     ]
    },
    {
     "name": "stdout",
     "output_type": "stream",
     "text": [
      "{'dataset_split_seed': 100,\n",
      " 'experiment_iteration': 'Exp_iter_1',\n",
      " 'fair_intervention_params_lst': '[True]',\n",
      " 'model_init_seed': 100,\n",
      " 'session_uuid': '0626d80f-e288-4f16-b8ab-260eb34d62d3'}\n",
      "\n",
      "\n"
     ]
    },
    {
     "data": {
      "application/vnd.jupyter.widget-view+json": {
       "model_id": "2d66e3a80df64345a085fa88a8e2ed0c",
       "version_major": 2,
       "version_minor": 0
      },
      "text/plain": [
       "Multiple alphas:   0%|          | 0/1 [00:00<?, ?it/s]"
      ]
     },
     "metadata": {},
     "output_type": "display_data"
    },
    {
     "name": "stderr",
     "output_type": "stream",
     "text": [
      "2024-01-04 16:31:17 experiment_interface.py INFO    : The dataset is preprocessed\n",
      "INFO:root:The dataset is preprocessed\n"
     ]
    },
    {
     "name": "stdout",
     "output_type": "stream",
     "text": [
      "intervention_option:  True\n",
      "Using ROC postprocessor\n",
      "cur_base_flow_dataset.X_train_val.columns:  Index(['cat__school_GP', 'cat__school_MS', 'cat__address_R', 'cat__address_U',\n",
      "       'cat__famsize_GT3', 'cat__famsize_LE3', 'cat__Pstatus_A',\n",
      "       'cat__Pstatus_T', 'cat__Mjob_at_home', 'cat__Mjob_health',\n",
      "       'cat__Mjob_other', 'cat__Mjob_services', 'cat__Mjob_teacher',\n",
      "       'cat__Fjob_at_home', 'cat__Fjob_health', 'cat__Fjob_other',\n",
      "       'cat__Fjob_services', 'cat__Fjob_teacher', 'cat__reason_course',\n",
      "       'cat__reason_home', 'cat__reason_other', 'cat__reason_reputation',\n",
      "       'cat__guardian_father', 'cat__guardian_mother', 'cat__guardian_other',\n",
      "       'cat__schoolsup_no', 'cat__schoolsup_yes', 'cat__famsup_no',\n",
      "       'cat__famsup_yes', 'cat__paid_no', 'cat__paid_yes',\n",
      "       'cat__activities_no', 'cat__activities_yes', 'cat__nursery_no',\n",
      "       'cat__nursery_yes', 'cat__higher_no', 'cat__higher_yes',\n",
      "       'cat__internet_no', 'cat__internet_yes', 'cat__romantic_no',\n",
      "       'cat__romantic_yes', 'num__age', 'num__Medu', 'num__Fedu',\n",
      "       'num__traveltime', 'num__studytime', 'num__failures', 'num__famrel',\n",
      "       'num__freetime', 'num__goout', 'num__Dalc', 'num__Walc', 'num__health',\n",
      "       'num__absences', 'num__G1', 'num__G2', 'sex_binary'],\n",
      "      dtype='object')\n",
      "Top indexes of an X_test in the current base flow dataset:  Int64Index([518, 476, 240, 156, 366, 133, 103, 565, 567,  73, 642, 412, 490,\n",
      "            340, 287, 427, 142, 397, 267, 216],\n",
      "           dtype='int64')\n",
      "Top indexes of an y_test in the current base flow dataset:  Int64Index([518, 476, 240, 156, 366, 133, 103, 565, 567,  73, 642, 412, 490,\n",
      "            340, 287, 427, 142, 397, 267, 216],\n",
      "           dtype='int64')\n",
      "2024/01/04, 16:31:17: Tuning MLPClassifier...\n",
      "2024/01/04, 16:31:26: Tuning for MLPClassifier is finished [F1 score = 0.8382364236884553, Accuracy = 0.9197530864197532]\n",
      "\n"
     ]
    },
    {
     "name": "stderr",
     "output_type": "stream",
     "text": [
      "2024-01-04 16:31:26 experiment_interface.py INFO    : Models are tuned and saved to a file\n",
      "INFO:root:Models are tuned and saved to a file\n"
     ]
    },
    {
     "data": {
      "application/vnd.jupyter.widget-view+json": {
       "model_id": "7db90ed866c44c519afc5cc32a023efe",
       "version_major": 2,
       "version_minor": 0
      },
      "text/plain": [
       "Analyze multiple models:   0%|          | 0/1 [00:00<?, ?it/s]"
      ]
     },
     "metadata": {},
     "output_type": "display_data"
    },
    {
     "name": "stdout",
     "output_type": "stream",
     "text": [
      "Enabled a postprocessing mode\n"
     ]
    },
    {
     "data": {
      "application/vnd.jupyter.widget-view+json": {
       "model_id": "dc15d029fcc644d7a6af1c1a4f507e9c",
       "version_major": 2,
       "version_minor": 0
      },
      "text/plain": [
       "Classifiers testing by bootstrap:   0%|          | 0/200 [00:00<?, ?it/s]"
      ]
     },
     "metadata": {},
     "output_type": "display_data"
    }
   ],
   "source": [
    "run_exp_iter_with_eq_odds(data_loader=exp_iter_data_loader,\n",
    "                          experiment_seed=experiment_seed,\n",
    "                          test_set_fraction=TEST_SET_FRACTION,\n",
    "                          db_writer_func=db_writer_func,\n",
    "                          fair_intervention_params_lst=FAIR_INTERVENTION_PARAMS_LST,\n",
    "                          models_params_for_tuning=models_params_for_tuning,\n",
    "                          metrics_computation_config=metrics_computation_config,\n",
    "                          custom_table_fields_dct=custom_table_fields_dct,\n",
    "                          with_tuning=True,\n",
    "                          # with_tuning=False,\n",
    "                          # tuned_params_df_paths=tuned_params_df_paths,\n",
    "                          save_results_dir_path=SAVE_RESULTS_DIR_PATH,\n",
    "                          dataset_name='StudentPerformancePortugueseDataset',\n",
    "                          postprocessor_name='ROC',\n",
    "                          verbose=True)"
   ]
  },
  {
   "cell_type": "markdown",
   "id": "1c8b3a6c",
   "metadata": {},
   "source": [
    "### Experiment iteration 2"
   ]
  },
  {
   "cell_type": "code",
   "execution_count": null,
   "id": "f5e89722",
   "metadata": {},
   "outputs": [],
   "source": [
    "# Configs for an experiment iteration\n",
    "exp_iter_num = 2\n",
    "experiment_seed = EXPERIMENT_SEEDS[exp_iter_num - 1]\n",
    "tuned_params_filenames = [\n",
    "    'tuning_results_Student_Performance_Por_20240104__213126.csv'\n",
    "]\n",
    "tuned_params_df_paths = [os.path.join(ROOT_DIR, 'results', 'diff_fairness_interventions_exp',\n",
    "                                      FAIRNESS_INTERVENTION_NAME, EXPERIMENT_NAME, tuned_params_filename)\n",
    "                         for tuned_params_filename in tuned_params_filenames]\n",
    "custom_table_fields_dct['experiment_iteration'] = f'Exp_iter_{exp_iter_num}'\n",
    "\n",
    "exp_iter_data_loader = copy.deepcopy(data_loader)  # Add deepcopy to avoid data leakage\n",
    "models_params_for_tuning = get_folktables_employment_models_params_for_tuning2(experiment_seed)"
   ]
  },
  {
   "cell_type": "code",
   "execution_count": null,
   "id": "35d8783f",
   "metadata": {
    "ExecuteTime": {
     "end_time": "2024-01-04T20:53:56.249510Z",
     "start_time": "2024-01-04T20:53:56.233525Z"
    }
   },
   "outputs": [],
   "source": [
    "run_exp_iter_with_eq_odds(data_loader=exp_iter_data_loader,\n",
    "                          experiment_seed=experiment_seed,\n",
    "                          test_set_fraction=TEST_SET_FRACTION,\n",
    "                          db_writer_func=db_writer_func,\n",
    "                          fair_intervention_params_lst=FAIR_INTERVENTION_PARAMS_LST,\n",
    "                          models_params_for_tuning=models_params_for_tuning,\n",
    "                          metrics_computation_config=metrics_computation_config,\n",
    "                          custom_table_fields_dct=custom_table_fields_dct,\n",
    "                          # with_tuning=True,\n",
    "                          with_tuning=False,\n",
    "                          tuned_params_df_paths=tuned_params_df_paths,\n",
    "                          save_results_dir_path=SAVE_RESULTS_DIR_PATH,\n",
    "                          dataset_name='StudentPerformancePortugueseDataset',\n",
    "                          postprocessor_name='ROC',\n",
    "                          verbose=True)"
   ]
  },
  {
   "cell_type": "markdown",
   "id": "9cad178c",
   "metadata": {},
   "source": [
    "### Experiment iteration 3"
   ]
  },
  {
   "cell_type": "code",
   "execution_count": null,
   "id": "9ebf6836",
   "metadata": {},
   "outputs": [],
   "source": [
    "# Configs for an experiment iteration\n",
    "exp_iter_num = 3\n",
    "experiment_seed = EXPERIMENT_SEEDS[exp_iter_num - 1]\n",
    "tuned_params_filenames = [\n",
    "    'tuning_results_Student_Performance_Por_20240104__213126.csv'\n",
    "]\n",
    "tuned_params_df_paths = [os.path.join(ROOT_DIR, 'results', 'diff_fairness_interventions_exp',\n",
    "                                      FAIRNESS_INTERVENTION_NAME, EXPERIMENT_NAME, tuned_params_filename)\n",
    "                         for tuned_params_filename in tuned_params_filenames]\n",
    "custom_table_fields_dct['experiment_iteration'] = f'Exp_iter_{exp_iter_num}'\n",
    "\n",
    "exp_iter_data_loader = copy.deepcopy(data_loader)  # Add deepcopy to avoid data leakage\n",
    "models_params_for_tuning = get_folktables_employment_models_params_for_tuning2(experiment_seed)"
   ]
  },
  {
   "cell_type": "code",
   "execution_count": null,
   "id": "30327dc3",
   "metadata": {
    "ExecuteTime": {
     "end_time": "2024-01-04T20:53:46.750905Z",
     "start_time": "2024-01-04T20:53:46.744795Z"
    }
   },
   "outputs": [],
   "source": [
    "run_exp_iter_with_eq_odds(data_loader=exp_iter_data_loader,\n",
    "                          experiment_seed=experiment_seed,\n",
    "                          test_set_fraction=TEST_SET_FRACTION,\n",
    "                          db_writer_func=db_writer_func,\n",
    "                          fair_intervention_params_lst=FAIR_INTERVENTION_PARAMS_LST,\n",
    "                          models_params_for_tuning=models_params_for_tuning,\n",
    "                          metrics_computation_config=metrics_computation_config,\n",
    "                          custom_table_fields_dct=custom_table_fields_dct,\n",
    "                          # with_tuning=True,\n",
    "                          with_tuning=False,\n",
    "                          tuned_params_df_paths=tuned_params_df_paths,\n",
    "                          save_results_dir_path=SAVE_RESULTS_DIR_PATH,\n",
    "                          dataset_name='StudentPerformancePortugueseDataset',\n",
    "                          postprocessor_name='ROC',\n",
    "                          verbose=True)"
   ]
  },
  {
   "cell_type": "markdown",
   "id": "b5570bf7",
   "metadata": {},
   "source": [
    "### Experiment iteration 4"
   ]
  },
  {
   "cell_type": "code",
   "execution_count": null,
   "id": "72b5dee8",
   "metadata": {},
   "outputs": [],
   "source": [
    "# Configs for an experiment iteration\n",
    "exp_iter_num = 4\n",
    "experiment_seed = EXPERIMENT_SEEDS[exp_iter_num - 1]\n",
    "tuned_params_filenames = [\n",
    "    'tuning_results_Student_Performance_Por_20240104__213126.csv'\n",
    "]\n",
    "tuned_params_df_paths = [os.path.join(ROOT_DIR, 'results', 'diff_fairness_interventions_exp',\n",
    "                                      FAIRNESS_INTERVENTION_NAME, EXPERIMENT_NAME, tuned_params_filename)\n",
    "                         for tuned_params_filename in tuned_params_filenames]\n",
    "custom_table_fields_dct['experiment_iteration'] = f'Exp_iter_{exp_iter_num}'\n",
    "\n",
    "exp_iter_data_loader = copy.deepcopy(data_loader)  # Add deepcopy to avoid data leakage\n",
    "models_params_for_tuning = get_folktables_employment_models_params_for_tuning2(experiment_seed)"
   ]
  },
  {
   "cell_type": "code",
   "execution_count": null,
   "id": "c22655dd",
   "metadata": {
    "ExecuteTime": {
     "end_time": "2024-01-04T20:53:37.675129Z",
     "start_time": "2024-01-04T20:53:37.670178Z"
    }
   },
   "outputs": [],
   "source": [
    "run_exp_iter_with_eq_odds(data_loader=exp_iter_data_loader,\n",
    "                          experiment_seed=experiment_seed,\n",
    "                          test_set_fraction=TEST_SET_FRACTION,\n",
    "                          db_writer_func=db_writer_func,\n",
    "                          fair_intervention_params_lst=FAIR_INTERVENTION_PARAMS_LST,\n",
    "                          models_params_for_tuning=models_params_for_tuning,\n",
    "                          metrics_computation_config=metrics_computation_config,\n",
    "                          custom_table_fields_dct=custom_table_fields_dct,\n",
    "                          # with_tuning=True,\n",
    "                          with_tuning=False,\n",
    "                          tuned_params_df_paths=tuned_params_df_paths,\n",
    "                          save_results_dir_path=SAVE_RESULTS_DIR_PATH,\n",
    "                          dataset_name='StudentPerformancePortugueseDataset',\n",
    "                          postprocessor_name='ROC',\n",
    "                          verbose=True)"
   ]
  },
  {
   "cell_type": "markdown",
   "id": "cf6c6a23",
   "metadata": {},
   "source": [
    "### Experiment iteration 5"
   ]
  },
  {
   "cell_type": "code",
   "execution_count": null,
   "id": "f8f71d64",
   "metadata": {},
   "outputs": [],
   "source": [
    "# Configs for an experiment iteration\n",
    "exp_iter_num = 5\n",
    "experiment_seed = EXPERIMENT_SEEDS[exp_iter_num - 1]\n",
    "tuned_params_filenames = [\n",
    "    'tuning_results_Student_Performance_Por_20240104__213126.csv'\n",
    "]\n",
    "tuned_params_df_paths = [os.path.join(ROOT_DIR, 'results', 'diff_fairness_interventions_exp',\n",
    "                                      FAIRNESS_INTERVENTION_NAME, EXPERIMENT_NAME, tuned_params_filename)\n",
    "                         for tuned_params_filename in tuned_params_filenames]\n",
    "custom_table_fields_dct['experiment_iteration'] = f'Exp_iter_{exp_iter_num}'\n",
    "\n",
    "exp_iter_data_loader = copy.deepcopy(data_loader)  # Add deepcopy to avoid data leakage\n",
    "models_params_for_tuning = get_folktables_employment_models_params_for_tuning2(experiment_seed)"
   ]
  },
  {
   "cell_type": "code",
   "execution_count": null,
   "id": "6db7b028",
   "metadata": {
    "ExecuteTime": {
     "end_time": "2024-01-04T20:53:27.080554Z",
     "start_time": "2024-01-04T20:53:27.072313Z"
    }
   },
   "outputs": [],
   "source": [
    "run_exp_iter_with_eq_odds(data_loader=exp_iter_data_loader,\n",
    "                          experiment_seed=experiment_seed,\n",
    "                          test_set_fraction=TEST_SET_FRACTION,\n",
    "                          db_writer_func=db_writer_func,\n",
    "                          fair_intervention_params_lst=FAIR_INTERVENTION_PARAMS_LST,\n",
    "                          models_params_for_tuning=models_params_for_tuning,\n",
    "                          metrics_computation_config=metrics_computation_config,\n",
    "                          custom_table_fields_dct=custom_table_fields_dct,\n",
    "                          # with_tuning=True,\n",
    "                          with_tuning=False,\n",
    "                          tuned_params_df_paths=tuned_params_df_paths,\n",
    "                          save_results_dir_path=SAVE_RESULTS_DIR_PATH,\n",
    "                          dataset_name='StudentPerformancePortugueseDataset',\n",
    "                          postprocessor_name='ROC',\n",
    "                          verbose=True)"
   ]
  },
  {
   "cell_type": "markdown",
   "id": "f46e8c68",
   "metadata": {},
   "source": [
    "### Experiment iteration 6"
   ]
  },
  {
   "cell_type": "code",
   "execution_count": null,
   "id": "794d4481",
   "metadata": {},
   "outputs": [],
   "source": [
    "# Configs for an experiment iteration\n",
    "exp_iter_num = 6\n",
    "experiment_seed = EXPERIMENT_SEEDS[exp_iter_num - 1]\n",
    "tuned_params_filenames = [\n",
    "    'tuning_results_Student_Performance_Por_20240104__213126.csv'\n",
    "]\n",
    "tuned_params_df_paths = [os.path.join(ROOT_DIR, 'results', 'diff_fairness_interventions_exp',\n",
    "                                      FAIRNESS_INTERVENTION_NAME, EXPERIMENT_NAME, tuned_params_filename)\n",
    "                         for tuned_params_filename in tuned_params_filenames]\n",
    "custom_table_fields_dct['experiment_iteration'] = f'Exp_iter_{exp_iter_num}'\n",
    "\n",
    "exp_iter_data_loader = copy.deepcopy(data_loader)  # Add deepcopy to avoid data leakage\n",
    "models_params_for_tuning = get_folktables_employment_models_params_for_tuning2(experiment_seed)"
   ]
  },
  {
   "cell_type": "code",
   "execution_count": null,
   "id": "016f3ead",
   "metadata": {
    "ExecuteTime": {
     "end_time": "2024-01-04T20:53:16.632770Z",
     "start_time": "2024-01-04T20:53:16.629083Z"
    }
   },
   "outputs": [],
   "source": [
    "run_exp_iter_with_eq_odds(data_loader=exp_iter_data_loader,\n",
    "                          experiment_seed=experiment_seed,\n",
    "                          test_set_fraction=TEST_SET_FRACTION,\n",
    "                          db_writer_func=db_writer_func,\n",
    "                          fair_intervention_params_lst=FAIR_INTERVENTION_PARAMS_LST,\n",
    "                          models_params_for_tuning=models_params_for_tuning,\n",
    "                          metrics_computation_config=metrics_computation_config,\n",
    "                          custom_table_fields_dct=custom_table_fields_dct,\n",
    "                          # with_tuning=True,\n",
    "                          with_tuning=False,\n",
    "                          tuned_params_df_paths=tuned_params_df_paths,\n",
    "                          save_results_dir_path=SAVE_RESULTS_DIR_PATH,\n",
    "                          dataset_name='StudentPerformancePortugueseDataset',\n",
    "                          postprocessor_name='ROC',\n",
    "                          verbose=True)"
   ]
  },
  {
   "cell_type": "code",
   "execution_count": null,
   "id": "11eae2fe",
   "metadata": {},
   "outputs": [],
   "source": []
  }
 ],
 "metadata": {
  "kernelspec": {
   "display_name": "Python 3",
   "language": "python",
   "name": "python3"
  },
  "language_info": {
   "codemirror_mode": {
    "name": "ipython",
    "version": 3
   },
   "file_extension": ".py",
   "mimetype": "text/x-python",
   "name": "python",
   "nbconvert_exporter": "python",
   "pygments_lexer": "ipython3",
   "version": "3.8.5"
  }
 },
 "nbformat": 4,
 "nbformat_minor": 5
}
