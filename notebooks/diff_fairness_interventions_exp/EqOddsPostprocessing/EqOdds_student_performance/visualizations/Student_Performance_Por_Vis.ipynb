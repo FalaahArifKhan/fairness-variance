{
 "cells": [
  {
   "cell_type": "code",
   "execution_count": 1,
   "id": "a226901f",
   "metadata": {
    "ExecuteTime": {
     "end_time": "2024-01-03T22:23:29.765489Z",
     "start_time": "2024-01-03T22:23:29.425785Z"
    }
   },
   "outputs": [],
   "source": [
    "%matplotlib inline\n",
    "%load_ext autoreload\n",
    "%autoreload 2"
   ]
  },
  {
   "cell_type": "code",
   "execution_count": 2,
   "id": "fe831d88",
   "metadata": {
    "ExecuteTime": {
     "end_time": "2024-01-03T22:23:29.774687Z",
     "start_time": "2024-01-03T22:23:29.763445Z"
    }
   },
   "outputs": [],
   "source": [
    "import os\n",
    "import warnings\n",
    "warnings.filterwarnings('ignore')\n",
    "os.environ[\"PYTHONWARNINGS\"] = \"ignore\""
   ]
  },
  {
   "cell_type": "code",
   "execution_count": 3,
   "id": "5b8af221",
   "metadata": {
    "ExecuteTime": {
     "end_time": "2024-01-03T22:23:29.782485Z",
     "start_time": "2024-01-03T22:23:29.773658Z"
    }
   },
   "outputs": [
    {
     "name": "stdout",
     "output_type": "stream",
     "text": [
      "Current location:  /home/dh3553/projects/fairness-variance\n"
     ]
    }
   ],
   "source": [
    "cur_folder_name = os.getcwd().split('/')[-1]\n",
    "if cur_folder_name != \"fairness-variance\":\n",
    "    os.chdir(\"../../../../..\")\n",
    "\n",
    "print('Current location: ', os.getcwd())"
   ]
  },
  {
   "cell_type": "markdown",
   "id": "114f408b",
   "metadata": {},
   "source": [
    "# Visualizations"
   ]
  },
  {
   "cell_type": "code",
   "execution_count": 4,
   "id": "beb4640c",
   "metadata": {
    "ExecuteTime": {
     "end_time": "2024-01-03T22:23:30.972815Z",
     "start_time": "2024-01-03T22:23:29.783403Z"
    }
   },
   "outputs": [
    {
     "name": "stderr",
     "output_type": "stream",
     "text": [
      "WARNING:root:No module named 'tempeh': LawSchoolGPADataset will be unavailable. To install, run:\n",
      "pip install 'aif360[LawSchoolGPA]'\n",
      "WARNING:root:No module named 'tensorflow': AdversarialDebiasing will be unavailable. To install, run:\n",
      "pip install 'aif360[AdversarialDebiasing]'\n",
      "WARNING:root:No module named 'tensorflow': AdversarialDebiasing will be unavailable. To install, run:\n",
      "pip install 'aif360[AdversarialDebiasing]'\n"
     ]
    }
   ],
   "source": [
    "from virny.utils.custom_initializers import create_models_metrics_dct_from_database_df\n",
    "\n",
    "from source.utils.db_functions import read_model_metric_dfs_from_db\n",
    "from source.custom_classes.experiments_composer import ExperimentsComposer\n",
    "from source.visualizations import preprocess_metrics, create_group_base_and_fair_models_box_plot, \\\n",
    "    create_scatter_plot, create_bar_plot_for_model_selection"
   ]
  },
  {
   "cell_type": "markdown",
   "id": "7c2d7326",
   "metadata": {},
   "source": [
    "## Initialize Configs"
   ]
  },
  {
   "cell_type": "code",
   "execution_count": 5,
   "id": "8b2a08fe",
   "metadata": {
    "ExecuteTime": {
     "end_time": "2024-01-03T22:23:30.998195Z",
     "start_time": "2024-01-03T22:23:30.974574Z"
    }
   },
   "outputs": [],
   "source": [
    "DB_COLLECTION_NAME = 'one_repair_lvl_many_models'\n",
    "DATASET_NAME = 'Student_Performance_Por'\n",
    "EXPERIMENT_SESSION_UUID = 'b35e31f2-bb03-494f-a24c-b9264e383667'\n",
    "SENSITIVE_ATTRS = ['sex']\n",
    "# MODEL_NAMES = ['LogisticRegression']\n",
    "MODEL_NAMES = ['LGBMClassifier', 'LogisticRegression', 'RandomForestClassifier', 'MLPClassifier']"
   ]
  },
  {
   "cell_type": "code",
   "execution_count": 6,
   "id": "0639e4a7",
   "metadata": {
    "ExecuteTime": {
     "end_time": "2024-01-03T22:23:31.065995Z",
     "start_time": "2024-01-03T22:23:30.996232Z"
    }
   },
   "outputs": [],
   "source": [
    "from source.utils.db_functions import connect_to_mongodb\n",
    "\n",
    "client, collection_obj, db_writer_func = connect_to_mongodb(DB_COLLECTION_NAME)"
   ]
  },
  {
   "cell_type": "markdown",
   "id": "02b48aef",
   "metadata": {},
   "source": [
    "## Group Metrics Composition"
   ]
  },
  {
   "cell_type": "code",
   "execution_count": 7,
   "id": "d78d2b92",
   "metadata": {
    "ExecuteTime": {
     "end_time": "2024-01-03T22:23:33.012738Z",
     "start_time": "2024-01-03T22:23:31.066660Z"
    }
   },
   "outputs": [],
   "source": [
    "model_metric_dfs = read_model_metric_dfs_from_db(collection_obj, EXPERIMENT_SESSION_UUID)\n",
    "models_metrics_dct = create_models_metrics_dct_from_database_df(model_metric_dfs)\n",
    "client.close()"
   ]
  },
  {
   "cell_type": "code",
   "execution_count": 8,
   "id": "a119d788",
   "metadata": {
    "ExecuteTime": {
     "end_time": "2024-01-03T22:23:33.039295Z",
     "start_time": "2024-01-03T22:23:33.014125Z"
    }
   },
   "outputs": [],
   "source": [
    "# Append Test_Set_Index to each result set for models\n",
    "for model_name in models_metrics_dct.keys():\n",
    "    models_metrics_dct[model_name]['Test_Set_Index'] = 0"
   ]
  },
  {
   "cell_type": "code",
   "execution_count": 9,
   "id": "1114381a",
   "metadata": {
    "ExecuteTime": {
     "end_time": "2024-01-03T22:23:33.062136Z",
     "start_time": "2024-01-03T22:23:33.038455Z"
    }
   },
   "outputs": [
    {
     "data": {
      "text/plain": [
       "(72, 21)"
      ]
     },
     "execution_count": 9,
     "metadata": {},
     "output_type": "execute_result"
    }
   ],
   "source": [
    "models_metrics_dct[list(models_metrics_dct.keys())[0]].shape"
   ]
  },
  {
   "cell_type": "code",
   "execution_count": 10,
   "id": "9490d289",
   "metadata": {
    "ExecuteTime": {
     "end_time": "2024-01-03T22:23:33.090683Z",
     "start_time": "2024-01-03T22:23:33.060017Z"
    }
   },
   "outputs": [
    {
     "data": {
      "text/html": [
       "<div>\n",
       "<style scoped>\n",
       "    .dataframe tbody tr th:only-of-type {\n",
       "        vertical-align: middle;\n",
       "    }\n",
       "\n",
       "    .dataframe tbody tr th {\n",
       "        vertical-align: top;\n",
       "    }\n",
       "\n",
       "    .dataframe thead th {\n",
       "        text-align: right;\n",
       "    }\n",
       "</style>\n",
       "<table border=\"1\" class=\"dataframe\">\n",
       "  <thead>\n",
       "    <tr style=\"text-align: right;\">\n",
       "      <th></th>\n",
       "      <th>Metric</th>\n",
       "      <th>Model_Name</th>\n",
       "      <th>Model_Params</th>\n",
       "      <th>Dataset_Name</th>\n",
       "      <th>Num_Estimators</th>\n",
       "      <th>Tag</th>\n",
       "      <th>Record_Create_Date_Time</th>\n",
       "      <th>Session_Uuid</th>\n",
       "      <th>Experiment_Iteration</th>\n",
       "      <th>Dataset_Split_Seed</th>\n",
       "      <th>...</th>\n",
       "      <th>Fair_Intervention_Params_Lst</th>\n",
       "      <th>Intervention_Param</th>\n",
       "      <th>overall</th>\n",
       "      <th>sex_dis</th>\n",
       "      <th>sex_dis_correct</th>\n",
       "      <th>sex_dis_incorrect</th>\n",
       "      <th>sex_priv</th>\n",
       "      <th>sex_priv_correct</th>\n",
       "      <th>sex_priv_incorrect</th>\n",
       "      <th>Test_Set_Index</th>\n",
       "    </tr>\n",
       "  </thead>\n",
       "  <tbody>\n",
       "    <tr>\n",
       "      <th>0</th>\n",
       "      <td>Accuracy</td>\n",
       "      <td>LGBMClassifier</td>\n",
       "      <td>{'boosting_type': 'gbdt', 'class_weight': None...</td>\n",
       "      <td>Student_Performance_Por</td>\n",
       "      <td>200</td>\n",
       "      <td>OK</td>\n",
       "      <td>2024-01-04 11:14:08.099</td>\n",
       "      <td>b35e31f2-bb03-494f-a24c-b9264e383667</td>\n",
       "      <td>Exp_iter_1</td>\n",
       "      <td>100</td>\n",
       "      <td>...</td>\n",
       "      <td>[True]</td>\n",
       "      <td>True</td>\n",
       "      <td>0.938650</td>\n",
       "      <td>0.957447</td>\n",
       "      <td>1.000000</td>\n",
       "      <td>0.00000</td>\n",
       "      <td>0.913043</td>\n",
       "      <td>1.000000</td>\n",
       "      <td>0.000000</td>\n",
       "      <td>0</td>\n",
       "    </tr>\n",
       "    <tr>\n",
       "      <th>19</th>\n",
       "      <td>F1</td>\n",
       "      <td>LGBMClassifier</td>\n",
       "      <td>{'boosting_type': 'gbdt', 'class_weight': None...</td>\n",
       "      <td>Student_Performance_Por</td>\n",
       "      <td>200</td>\n",
       "      <td>OK</td>\n",
       "      <td>2024-01-04 11:14:08.099</td>\n",
       "      <td>b35e31f2-bb03-494f-a24c-b9264e383667</td>\n",
       "      <td>Exp_iter_1</td>\n",
       "      <td>100</td>\n",
       "      <td>...</td>\n",
       "      <td>[True]</td>\n",
       "      <td>True</td>\n",
       "      <td>0.963504</td>\n",
       "      <td>0.975309</td>\n",
       "      <td>1.000000</td>\n",
       "      <td>0.00000</td>\n",
       "      <td>0.946429</td>\n",
       "      <td>1.000000</td>\n",
       "      <td>0.000000</td>\n",
       "      <td>0</td>\n",
       "    </tr>\n",
       "    <tr>\n",
       "      <th>38</th>\n",
       "      <td>FNR</td>\n",
       "      <td>LGBMClassifier</td>\n",
       "      <td>{'boosting_type': 'gbdt', 'class_weight': None...</td>\n",
       "      <td>Student_Performance_Por</td>\n",
       "      <td>200</td>\n",
       "      <td>OK</td>\n",
       "      <td>2024-01-04 11:14:08.099</td>\n",
       "      <td>b35e31f2-bb03-494f-a24c-b9264e383667</td>\n",
       "      <td>Exp_iter_1</td>\n",
       "      <td>100</td>\n",
       "      <td>...</td>\n",
       "      <td>[True]</td>\n",
       "      <td>True</td>\n",
       "      <td>0.036496</td>\n",
       "      <td>0.048193</td>\n",
       "      <td>0.000000</td>\n",
       "      <td>1.00000</td>\n",
       "      <td>0.018519</td>\n",
       "      <td>0.000000</td>\n",
       "      <td>1.000000</td>\n",
       "      <td>0</td>\n",
       "    </tr>\n",
       "    <tr>\n",
       "      <th>57</th>\n",
       "      <td>FPR</td>\n",
       "      <td>LGBMClassifier</td>\n",
       "      <td>{'boosting_type': 'gbdt', 'class_weight': None...</td>\n",
       "      <td>Student_Performance_Por</td>\n",
       "      <td>200</td>\n",
       "      <td>OK</td>\n",
       "      <td>2024-01-04 11:14:08.099</td>\n",
       "      <td>b35e31f2-bb03-494f-a24c-b9264e383667</td>\n",
       "      <td>Exp_iter_1</td>\n",
       "      <td>100</td>\n",
       "      <td>...</td>\n",
       "      <td>[True]</td>\n",
       "      <td>True</td>\n",
       "      <td>0.192308</td>\n",
       "      <td>0.000000</td>\n",
       "      <td>0.000000</td>\n",
       "      <td>NaN</td>\n",
       "      <td>0.333333</td>\n",
       "      <td>0.000000</td>\n",
       "      <td>1.000000</td>\n",
       "      <td>0</td>\n",
       "    </tr>\n",
       "    <tr>\n",
       "      <th>76</th>\n",
       "      <td>Jitter</td>\n",
       "      <td>LGBMClassifier</td>\n",
       "      <td>{'boosting_type': 'gbdt', 'class_weight': None...</td>\n",
       "      <td>Student_Performance_Por</td>\n",
       "      <td>200</td>\n",
       "      <td>OK</td>\n",
       "      <td>2024-01-04 11:14:08.099</td>\n",
       "      <td>b35e31f2-bb03-494f-a24c-b9264e383667</td>\n",
       "      <td>Exp_iter_1</td>\n",
       "      <td>100</td>\n",
       "      <td>...</td>\n",
       "      <td>[True]</td>\n",
       "      <td>True</td>\n",
       "      <td>0.054744</td>\n",
       "      <td>0.041647</td>\n",
       "      <td>0.032229</td>\n",
       "      <td>0.25353</td>\n",
       "      <td>0.072586</td>\n",
       "      <td>0.063859</td>\n",
       "      <td>0.164221</td>\n",
       "      <td>0</td>\n",
       "    </tr>\n",
       "    <tr>\n",
       "      <th>95</th>\n",
       "      <td>Label_Stability</td>\n",
       "      <td>LGBMClassifier</td>\n",
       "      <td>{'boosting_type': 'gbdt', 'class_weight': None...</td>\n",
       "      <td>Student_Performance_Por</td>\n",
       "      <td>200</td>\n",
       "      <td>OK</td>\n",
       "      <td>2024-01-04 11:14:08.099</td>\n",
       "      <td>b35e31f2-bb03-494f-a24c-b9264e383667</td>\n",
       "      <td>Exp_iter_1</td>\n",
       "      <td>100</td>\n",
       "      <td>...</td>\n",
       "      <td>[True]</td>\n",
       "      <td>True</td>\n",
       "      <td>0.925521</td>\n",
       "      <td>0.947660</td>\n",
       "      <td>0.958778</td>\n",
       "      <td>0.69750</td>\n",
       "      <td>0.895362</td>\n",
       "      <td>0.904762</td>\n",
       "      <td>0.796667</td>\n",
       "      <td>0</td>\n",
       "    </tr>\n",
       "    <tr>\n",
       "      <th>114</th>\n",
       "      <td>PPV</td>\n",
       "      <td>LGBMClassifier</td>\n",
       "      <td>{'boosting_type': 'gbdt', 'class_weight': None...</td>\n",
       "      <td>Student_Performance_Por</td>\n",
       "      <td>200</td>\n",
       "      <td>OK</td>\n",
       "      <td>2024-01-04 11:14:08.099</td>\n",
       "      <td>b35e31f2-bb03-494f-a24c-b9264e383667</td>\n",
       "      <td>Exp_iter_1</td>\n",
       "      <td>100</td>\n",
       "      <td>...</td>\n",
       "      <td>[True]</td>\n",
       "      <td>True</td>\n",
       "      <td>0.963504</td>\n",
       "      <td>1.000000</td>\n",
       "      <td>1.000000</td>\n",
       "      <td>NaN</td>\n",
       "      <td>0.913793</td>\n",
       "      <td>1.000000</td>\n",
       "      <td>0.000000</td>\n",
       "      <td>0</td>\n",
       "    </tr>\n",
       "    <tr>\n",
       "      <th>133</th>\n",
       "      <td>Positive-Rate</td>\n",
       "      <td>LGBMClassifier</td>\n",
       "      <td>{'boosting_type': 'gbdt', 'class_weight': None...</td>\n",
       "      <td>Student_Performance_Por</td>\n",
       "      <td>200</td>\n",
       "      <td>OK</td>\n",
       "      <td>2024-01-04 11:14:08.099</td>\n",
       "      <td>b35e31f2-bb03-494f-a24c-b9264e383667</td>\n",
       "      <td>Exp_iter_1</td>\n",
       "      <td>100</td>\n",
       "      <td>...</td>\n",
       "      <td>[True]</td>\n",
       "      <td>True</td>\n",
       "      <td>1.000000</td>\n",
       "      <td>0.951807</td>\n",
       "      <td>1.000000</td>\n",
       "      <td>0.00000</td>\n",
       "      <td>1.074074</td>\n",
       "      <td>1.000000</td>\n",
       "      <td>5.000000</td>\n",
       "      <td>0</td>\n",
       "    </tr>\n",
       "    <tr>\n",
       "      <th>152</th>\n",
       "      <td>Sample_Size</td>\n",
       "      <td>LGBMClassifier</td>\n",
       "      <td>{'boosting_type': 'gbdt', 'class_weight': None...</td>\n",
       "      <td>Student_Performance_Por</td>\n",
       "      <td>200</td>\n",
       "      <td>OK</td>\n",
       "      <td>2024-01-04 11:14:08.099</td>\n",
       "      <td>b35e31f2-bb03-494f-a24c-b9264e383667</td>\n",
       "      <td>Exp_iter_1</td>\n",
       "      <td>100</td>\n",
       "      <td>...</td>\n",
       "      <td>[True]</td>\n",
       "      <td>True</td>\n",
       "      <td>163.000000</td>\n",
       "      <td>94.000000</td>\n",
       "      <td>90.000000</td>\n",
       "      <td>4.00000</td>\n",
       "      <td>69.000000</td>\n",
       "      <td>63.000000</td>\n",
       "      <td>6.000000</td>\n",
       "      <td>0</td>\n",
       "    </tr>\n",
       "    <tr>\n",
       "      <th>171</th>\n",
       "      <td>Selection-Rate</td>\n",
       "      <td>LGBMClassifier</td>\n",
       "      <td>{'boosting_type': 'gbdt', 'class_weight': None...</td>\n",
       "      <td>Student_Performance_Por</td>\n",
       "      <td>200</td>\n",
       "      <td>OK</td>\n",
       "      <td>2024-01-04 11:14:08.099</td>\n",
       "      <td>b35e31f2-bb03-494f-a24c-b9264e383667</td>\n",
       "      <td>Exp_iter_1</td>\n",
       "      <td>100</td>\n",
       "      <td>...</td>\n",
       "      <td>[True]</td>\n",
       "      <td>True</td>\n",
       "      <td>0.840491</td>\n",
       "      <td>0.840426</td>\n",
       "      <td>0.877778</td>\n",
       "      <td>0.00000</td>\n",
       "      <td>0.840580</td>\n",
       "      <td>0.841270</td>\n",
       "      <td>0.833333</td>\n",
       "      <td>0</td>\n",
       "    </tr>\n",
       "    <tr>\n",
       "      <th>190</th>\n",
       "      <td>TNR</td>\n",
       "      <td>LGBMClassifier</td>\n",
       "      <td>{'boosting_type': 'gbdt', 'class_weight': None...</td>\n",
       "      <td>Student_Performance_Por</td>\n",
       "      <td>200</td>\n",
       "      <td>OK</td>\n",
       "      <td>2024-01-04 11:14:08.099</td>\n",
       "      <td>b35e31f2-bb03-494f-a24c-b9264e383667</td>\n",
       "      <td>Exp_iter_1</td>\n",
       "      <td>100</td>\n",
       "      <td>...</td>\n",
       "      <td>[True]</td>\n",
       "      <td>True</td>\n",
       "      <td>0.807692</td>\n",
       "      <td>1.000000</td>\n",
       "      <td>1.000000</td>\n",
       "      <td>NaN</td>\n",
       "      <td>0.666667</td>\n",
       "      <td>1.000000</td>\n",
       "      <td>0.000000</td>\n",
       "      <td>0</td>\n",
       "    </tr>\n",
       "    <tr>\n",
       "      <th>209</th>\n",
       "      <td>TPR</td>\n",
       "      <td>LGBMClassifier</td>\n",
       "      <td>{'boosting_type': 'gbdt', 'class_weight': None...</td>\n",
       "      <td>Student_Performance_Por</td>\n",
       "      <td>200</td>\n",
       "      <td>OK</td>\n",
       "      <td>2024-01-04 11:14:08.099</td>\n",
       "      <td>b35e31f2-bb03-494f-a24c-b9264e383667</td>\n",
       "      <td>Exp_iter_1</td>\n",
       "      <td>100</td>\n",
       "      <td>...</td>\n",
       "      <td>[True]</td>\n",
       "      <td>True</td>\n",
       "      <td>0.963504</td>\n",
       "      <td>0.951807</td>\n",
       "      <td>1.000000</td>\n",
       "      <td>0.00000</td>\n",
       "      <td>0.981481</td>\n",
       "      <td>1.000000</td>\n",
       "      <td>0.000000</td>\n",
       "      <td>0</td>\n",
       "    </tr>\n",
       "  </tbody>\n",
       "</table>\n",
       "<p>12 rows × 21 columns</p>\n",
       "</div>"
      ],
      "text/plain": [
       "              Metric      Model_Name  \\\n",
       "0           Accuracy  LGBMClassifier   \n",
       "19                F1  LGBMClassifier   \n",
       "38               FNR  LGBMClassifier   \n",
       "57               FPR  LGBMClassifier   \n",
       "76            Jitter  LGBMClassifier   \n",
       "95   Label_Stability  LGBMClassifier   \n",
       "114              PPV  LGBMClassifier   \n",
       "133    Positive-Rate  LGBMClassifier   \n",
       "152      Sample_Size  LGBMClassifier   \n",
       "171   Selection-Rate  LGBMClassifier   \n",
       "190              TNR  LGBMClassifier   \n",
       "209              TPR  LGBMClassifier   \n",
       "\n",
       "                                          Model_Params  \\\n",
       "0    {'boosting_type': 'gbdt', 'class_weight': None...   \n",
       "19   {'boosting_type': 'gbdt', 'class_weight': None...   \n",
       "38   {'boosting_type': 'gbdt', 'class_weight': None...   \n",
       "57   {'boosting_type': 'gbdt', 'class_weight': None...   \n",
       "76   {'boosting_type': 'gbdt', 'class_weight': None...   \n",
       "95   {'boosting_type': 'gbdt', 'class_weight': None...   \n",
       "114  {'boosting_type': 'gbdt', 'class_weight': None...   \n",
       "133  {'boosting_type': 'gbdt', 'class_weight': None...   \n",
       "152  {'boosting_type': 'gbdt', 'class_weight': None...   \n",
       "171  {'boosting_type': 'gbdt', 'class_weight': None...   \n",
       "190  {'boosting_type': 'gbdt', 'class_weight': None...   \n",
       "209  {'boosting_type': 'gbdt', 'class_weight': None...   \n",
       "\n",
       "                Dataset_Name  Num_Estimators Tag Record_Create_Date_Time  \\\n",
       "0    Student_Performance_Por             200  OK 2024-01-04 11:14:08.099   \n",
       "19   Student_Performance_Por             200  OK 2024-01-04 11:14:08.099   \n",
       "38   Student_Performance_Por             200  OK 2024-01-04 11:14:08.099   \n",
       "57   Student_Performance_Por             200  OK 2024-01-04 11:14:08.099   \n",
       "76   Student_Performance_Por             200  OK 2024-01-04 11:14:08.099   \n",
       "95   Student_Performance_Por             200  OK 2024-01-04 11:14:08.099   \n",
       "114  Student_Performance_Por             200  OK 2024-01-04 11:14:08.099   \n",
       "133  Student_Performance_Por             200  OK 2024-01-04 11:14:08.099   \n",
       "152  Student_Performance_Por             200  OK 2024-01-04 11:14:08.099   \n",
       "171  Student_Performance_Por             200  OK 2024-01-04 11:14:08.099   \n",
       "190  Student_Performance_Por             200  OK 2024-01-04 11:14:08.099   \n",
       "209  Student_Performance_Por             200  OK 2024-01-04 11:14:08.099   \n",
       "\n",
       "                             Session_Uuid Experiment_Iteration  \\\n",
       "0    b35e31f2-bb03-494f-a24c-b9264e383667           Exp_iter_1   \n",
       "19   b35e31f2-bb03-494f-a24c-b9264e383667           Exp_iter_1   \n",
       "38   b35e31f2-bb03-494f-a24c-b9264e383667           Exp_iter_1   \n",
       "57   b35e31f2-bb03-494f-a24c-b9264e383667           Exp_iter_1   \n",
       "76   b35e31f2-bb03-494f-a24c-b9264e383667           Exp_iter_1   \n",
       "95   b35e31f2-bb03-494f-a24c-b9264e383667           Exp_iter_1   \n",
       "114  b35e31f2-bb03-494f-a24c-b9264e383667           Exp_iter_1   \n",
       "133  b35e31f2-bb03-494f-a24c-b9264e383667           Exp_iter_1   \n",
       "152  b35e31f2-bb03-494f-a24c-b9264e383667           Exp_iter_1   \n",
       "171  b35e31f2-bb03-494f-a24c-b9264e383667           Exp_iter_1   \n",
       "190  b35e31f2-bb03-494f-a24c-b9264e383667           Exp_iter_1   \n",
       "209  b35e31f2-bb03-494f-a24c-b9264e383667           Exp_iter_1   \n",
       "\n",
       "     Dataset_Split_Seed  ...  Fair_Intervention_Params_Lst Intervention_Param  \\\n",
       "0                   100  ...                        [True]               True   \n",
       "19                  100  ...                        [True]               True   \n",
       "38                  100  ...                        [True]               True   \n",
       "57                  100  ...                        [True]               True   \n",
       "76                  100  ...                        [True]               True   \n",
       "95                  100  ...                        [True]               True   \n",
       "114                 100  ...                        [True]               True   \n",
       "133                 100  ...                        [True]               True   \n",
       "152                 100  ...                        [True]               True   \n",
       "171                 100  ...                        [True]               True   \n",
       "190                 100  ...                        [True]               True   \n",
       "209                 100  ...                        [True]               True   \n",
       "\n",
       "        overall    sex_dis  sex_dis_correct  sex_dis_incorrect   sex_priv  \\\n",
       "0      0.938650   0.957447         1.000000            0.00000   0.913043   \n",
       "19     0.963504   0.975309         1.000000            0.00000   0.946429   \n",
       "38     0.036496   0.048193         0.000000            1.00000   0.018519   \n",
       "57     0.192308   0.000000         0.000000                NaN   0.333333   \n",
       "76     0.054744   0.041647         0.032229            0.25353   0.072586   \n",
       "95     0.925521   0.947660         0.958778            0.69750   0.895362   \n",
       "114    0.963504   1.000000         1.000000                NaN   0.913793   \n",
       "133    1.000000   0.951807         1.000000            0.00000   1.074074   \n",
       "152  163.000000  94.000000        90.000000            4.00000  69.000000   \n",
       "171    0.840491   0.840426         0.877778            0.00000   0.840580   \n",
       "190    0.807692   1.000000         1.000000                NaN   0.666667   \n",
       "209    0.963504   0.951807         1.000000            0.00000   0.981481   \n",
       "\n",
       "     sex_priv_correct  sex_priv_incorrect  Test_Set_Index  \n",
       "0            1.000000            0.000000               0  \n",
       "19           1.000000            0.000000               0  \n",
       "38           0.000000            1.000000               0  \n",
       "57           0.000000            1.000000               0  \n",
       "76           0.063859            0.164221               0  \n",
       "95           0.904762            0.796667               0  \n",
       "114          1.000000            0.000000               0  \n",
       "133          1.000000            5.000000               0  \n",
       "152         63.000000            6.000000               0  \n",
       "171          0.841270            0.833333               0  \n",
       "190          1.000000            0.000000               0  \n",
       "209          1.000000            0.000000               0  \n",
       "\n",
       "[12 rows x 21 columns]"
      ]
     },
     "execution_count": 10,
     "metadata": {},
     "output_type": "execute_result"
    }
   ],
   "source": [
    "models_metrics_dct[list(models_metrics_dct.keys())[0]][\n",
    "    models_metrics_dct[list(models_metrics_dct.keys())[0]]['Experiment_Iteration'] == 'Exp_iter_1'\n",
    "].head(20)"
   ]
  },
  {
   "cell_type": "code",
   "execution_count": 11,
   "id": "04160a7c",
   "metadata": {
    "ExecuteTime": {
     "end_time": "2024-01-03T22:23:33.113732Z",
     "start_time": "2024-01-03T22:23:33.090933Z"
    }
   },
   "outputs": [],
   "source": [
    "exp_composer = ExperimentsComposer(models_metrics_dct, SENSITIVE_ATTRS)\n",
    "exp_subgroup_metrics_dct = exp_composer.create_exp_subgroup_metrics_dct_for_mult_test_sets()"
   ]
  },
  {
   "cell_type": "code",
   "execution_count": 12,
   "id": "194c2801",
   "metadata": {
    "ExecuteTime": {
     "end_time": "2024-01-03T22:23:33.155409Z",
     "start_time": "2024-01-03T22:23:33.113025Z"
    }
   },
   "outputs": [],
   "source": [
    "exp_group_metrics_dct = exp_composer.compose_group_metrics_for_mult_test_sets(exp_subgroup_metrics_dct)"
   ]
  },
  {
   "cell_type": "markdown",
   "id": "767c7d90",
   "metadata": {},
   "source": [
    "## Figure 1. Subgroup boxplots."
   ]
  },
  {
   "cell_type": "code",
   "execution_count": 13,
   "id": "89353bf7",
   "metadata": {
    "ExecuteTime": {
     "end_time": "2024-01-03T22:23:33.196495Z",
     "start_time": "2024-01-03T22:23:33.138604Z"
    }
   },
   "outputs": [],
   "source": [
    "melted_all_subgroup_metrics_per_model_dct, melted_all_group_metrics_per_model_dct = \\\n",
    "    preprocess_metrics(exp_subgroup_metrics_dct, exp_group_metrics_dct)"
   ]
  },
  {
   "cell_type": "code",
   "execution_count": 14,
   "id": "e7ac7509",
   "metadata": {
    "ExecuteTime": {
     "end_time": "2024-01-03T22:23:33.199261Z",
     "start_time": "2024-01-03T22:23:33.167891Z"
    }
   },
   "outputs": [],
   "source": [
    "vals_to_replace = {\n",
    "    'Model_Name': {\n",
    "        'LGBMClassifier': 'LGBM',\n",
    "        'LogisticRegression': 'LR',\n",
    "        'RandomForestClassifier': 'RF',\n",
    "        'MLPClassifier': 'MLP'\n",
    "    }\n",
    "}"
   ]
  },
  {
   "cell_type": "code",
   "execution_count": 15,
   "id": "73a3cdd0",
   "metadata": {
    "ExecuteTime": {
     "end_time": "2024-01-03T22:23:33.518585Z",
     "start_time": "2024-01-03T22:23:33.190711Z"
    }
   },
   "outputs": [
    {
     "data": {
      "text/plain": [
       "<Figure size 864x432 with 0 Axes>"
      ]
     },
     "metadata": {},
     "output_type": "display_data"
    },
    {
     "data": {
      "image/png": "[encoded data removed]",
      "text/plain": [
       "<Figure size 1177.33x360 with 3 Axes>"
      ]
     },
     "metadata": {},
     "output_type": "display_data"
    }
   ],
   "source": [
    "create_group_base_and_fair_models_box_plot(melted_all_subgroup_metrics_per_model_dct,\n",
    "                                           ylim=(0.75, 1.0),\n",
    "                                           metric_names=['F1', 'Accuracy', 'Label_Stability'],\n",
    "                                           vals_to_replace=vals_to_replace)"
   ]
  },
  {
   "cell_type": "markdown",
   "id": "8d30d8ac",
   "metadata": {},
   "source": [
    "## Figure 2. Create group boxplots."
   ]
  },
  {
   "cell_type": "code",
   "execution_count": 16,
   "id": "f4fc997b",
   "metadata": {
    "ExecuteTime": {
     "end_time": "2024-01-03T22:23:33.700517Z",
     "start_time": "2024-01-03T22:23:33.519286Z"
    }
   },
   "outputs": [
    {
     "data": {
      "text/plain": [
       "<Figure size 864x432 with 0 Axes>"
      ]
     },
     "metadata": {},
     "output_type": "display_data"
    },
    {
     "data": {
      "image/png": "[encoded data removed]",
      "text/plain": [
       "<Figure size 469.025x360 with 1 Axes>"
      ]
     },
     "metadata": {},
     "output_type": "display_data"
    }
   ],
   "source": [
    "create_group_base_and_fair_models_box_plot(melted_all_group_metrics_per_model_dct,\n",
    "                                           group='sex',\n",
    "                                           metric_names=['Label_Stability_Difference'],\n",
    "                                           vals_to_replace=vals_to_replace)"
   ]
  },
  {
   "cell_type": "code",
   "execution_count": 17,
   "id": "d873edae",
   "metadata": {
    "ExecuteTime": {
     "end_time": "2024-01-03T22:23:49.402693Z",
     "start_time": "2024-01-03T22:23:49.152159Z"
    }
   },
   "outputs": [
    {
     "data": {
      "text/plain": [
       "<Figure size 864x432 with 0 Axes>"
      ]
     },
     "metadata": {},
     "output_type": "display_data"
    },
    {
     "data": {
      "image/png": "[encoded data removed]",
      "text/plain": [
       "<Figure size 829.025x360 with 2 Axes>"
      ]
     },
     "metadata": {},
     "output_type": "display_data"
    }
   ],
   "source": [
    "create_group_base_and_fair_models_box_plot(melted_all_group_metrics_per_model_dct,\n",
    "                                           group='sex',\n",
    "                                           metric_names=['Equalized_Odds_FPR', 'Equalized_Odds_FNR'],\n",
    "                                           vals_to_replace=vals_to_replace)"
   ]
  },
  {
   "cell_type": "code",
   "execution_count": 18,
   "id": "8357ab42",
   "metadata": {
    "ExecuteTime": {
     "end_time": "2024-01-03T22:23:49.648096Z",
     "start_time": "2024-01-03T22:23:49.479049Z"
    }
   },
   "outputs": [
    {
     "data": {
      "text/plain": [
       "<Figure size 864x432 with 0 Axes>"
      ]
     },
     "metadata": {},
     "output_type": "display_data"
    },
    {
     "data": {
      "image/png": "[encoded data removed]",
      "text/plain": [
       "<Figure size 469.025x360 with 1 Axes>"
      ]
     },
     "metadata": {},
     "output_type": "display_data"
    }
   ],
   "source": [
    "create_group_base_and_fair_models_box_plot(melted_all_group_metrics_per_model_dct,\n",
    "                                           group='sex',\n",
    "                                           metric_names=['Statistical_Parity_Difference'],\n",
    "                                           vals_to_replace=vals_to_replace)"
   ]
  },
  {
   "cell_type": "code",
   "execution_count": null,
   "id": "be4f3e85",
   "metadata": {
    "ExecuteTime": {
     "start_time": "2024-01-03T22:23:34.219636Z"
    }
   },
   "outputs": [],
   "source": []
  }
 ],
 "metadata": {
  "kernelspec": {
   "display_name": "Python 3",
   "language": "python",
   "name": "python3"
  },
  "language_info": {
   "codemirror_mode": {
    "name": "ipython",
    "version": 3
   },
   "file_extension": ".py",
   "mimetype": "text/x-python",
   "name": "python",
   "nbconvert_exporter": "python",
   "pygments_lexer": "ipython3",
   "version": "3.8.5"
  },
  "vscode": {
   "interpreter": {
    "hash": "aeeedfdcfbb7d0bd7e8ae453d9cd04ee7ebd63a67f7841163d9437c8723e8c72"
   }
  }
 },
 "nbformat": 4,
 "nbformat_minor": 5
}
