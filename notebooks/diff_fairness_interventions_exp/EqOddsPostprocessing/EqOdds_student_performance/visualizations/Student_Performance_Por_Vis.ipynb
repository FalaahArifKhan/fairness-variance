{
 "cells": [
  {
   "cell_type": "code",
   "execution_count": 1,
   "id": "a58c6bb6",
   "metadata": {
    "ExecuteTime": {
     "end_time": "2024-01-03T22:23:29.765489Z",
     "start_time": "2024-01-03T22:23:29.425785Z"
    }
   },
   "outputs": [],
   "source": [
    "%matplotlib inline\n",
    "%load_ext autoreload\n",
    "%autoreload 2"
   ]
  },
  {
   "cell_type": "code",
   "execution_count": 2,
   "id": "68ccf5e2",
   "metadata": {
    "ExecuteTime": {
     "end_time": "2024-01-03T22:23:29.774687Z",
     "start_time": "2024-01-03T22:23:29.763445Z"
    }
   },
   "outputs": [],
   "source": [
    "import os\n",
    "import warnings\n",
    "warnings.filterwarnings('ignore')\n",
    "os.environ[\"PYTHONWARNINGS\"] = \"ignore\""
   ]
  },
  {
   "cell_type": "code",
   "execution_count": 3,
   "id": "e53c835c",
   "metadata": {
    "ExecuteTime": {
     "end_time": "2024-01-03T22:23:29.782485Z",
     "start_time": "2024-01-03T22:23:29.773658Z"
    }
   },
   "outputs": [
    {
     "name": "stdout",
     "output_type": "stream",
     "text": [
      "Current location:  /home/dh3553/projects/fairness-variance\n"
     ]
    }
   ],
   "source": [
    "cur_folder_name = os.getcwd().split('/')[-1]\n",
    "if cur_folder_name != \"fairness-variance\":\n",
    "    os.chdir(\"../../../../..\")\n",
    "\n",
    "print('Current location: ', os.getcwd())"
   ]
  },
  {
   "cell_type": "markdown",
   "id": "1ca5ac33",
   "metadata": {},
   "source": [
    "# Visualizations"
   ]
  },
  {
   "cell_type": "code",
   "execution_count": 4,
   "id": "f6066c87",
   "metadata": {
    "ExecuteTime": {
     "end_time": "2024-01-03T22:23:30.972815Z",
     "start_time": "2024-01-03T22:23:29.783403Z"
    }
   },
   "outputs": [
    {
     "name": "stderr",
     "output_type": "stream",
     "text": [
      "WARNING:root:No module named 'tempeh': LawSchoolGPADataset will be unavailable. To install, run:\n",
      "pip install 'aif360[LawSchoolGPA]'\n",
      "WARNING:root:No module named 'tensorflow': AdversarialDebiasing will be unavailable. To install, run:\n",
      "pip install 'aif360[AdversarialDebiasing]'\n",
      "WARNING:root:No module named 'tensorflow': AdversarialDebiasing will be unavailable. To install, run:\n",
      "pip install 'aif360[AdversarialDebiasing]'\n"
     ]
    }
   ],
   "source": [
    "from virny.utils.custom_initializers import create_models_metrics_dct_from_database_df\n",
    "\n",
    "from source.utils.db_functions import read_model_metric_dfs_from_db\n",
    "from source.custom_classes.experiments_composer import ExperimentsComposer\n",
    "from source.visualizations import preprocess_metrics, create_group_base_and_fair_models_box_plot, \\\n",
    "    create_scatter_plot, create_bar_plot_for_model_selection"
   ]
  },
  {
   "cell_type": "markdown",
   "id": "8d1651b6",
   "metadata": {},
   "source": [
    "## Initialize Configs"
   ]
  },
  {
   "cell_type": "code",
   "execution_count": 5,
   "id": "1ee9603f",
   "metadata": {
    "ExecuteTime": {
     "end_time": "2024-01-03T22:23:30.998195Z",
     "start_time": "2024-01-03T22:23:30.974574Z"
    }
   },
   "outputs": [],
   "source": [
    "DB_COLLECTION_NAME = 'one_repair_lvl_many_models'\n",
    "DATASET_NAME = 'Student_Performance_Por'\n",
    "EXPERIMENT_SESSION_UUID = '0094ddff-4e1c-4a3e-95de-f044dacd4874'\n",
    "SENSITIVE_ATTRS = ['sex']\n",
    "# MODEL_NAMES = ['LogisticRegression']\n",
    "MODEL_NAMES = ['LGBMClassifier', 'LogisticRegression', 'RandomForestClassifier', 'MLPClassifier']"
   ]
  },
  {
   "cell_type": "code",
   "execution_count": 6,
   "id": "1a5e2287",
   "metadata": {
    "ExecuteTime": {
     "end_time": "2024-01-03T22:23:31.065995Z",
     "start_time": "2024-01-03T22:23:30.996232Z"
    }
   },
   "outputs": [],
   "source": [
    "from source.utils.db_functions import connect_to_mongodb\n",
    "\n",
    "client, collection_obj, db_writer_func = connect_to_mongodb(DB_COLLECTION_NAME)"
   ]
  },
  {
   "cell_type": "markdown",
   "id": "42e01313",
   "metadata": {},
   "source": [
    "## Group Metrics Composition"
   ]
  },
  {
   "cell_type": "code",
   "execution_count": 7,
   "id": "11bed914",
   "metadata": {
    "ExecuteTime": {
     "end_time": "2024-01-03T22:23:33.012738Z",
     "start_time": "2024-01-03T22:23:31.066660Z"
    }
   },
   "outputs": [],
   "source": [
    "model_metric_dfs = read_model_metric_dfs_from_db(collection_obj, EXPERIMENT_SESSION_UUID)\n",
    "models_metrics_dct = create_models_metrics_dct_from_database_df(model_metric_dfs)\n",
    "client.close()"
   ]
  },
  {
   "cell_type": "code",
   "execution_count": 8,
   "id": "fb63c1ee",
   "metadata": {
    "ExecuteTime": {
     "end_time": "2024-01-03T22:23:33.039295Z",
     "start_time": "2024-01-03T22:23:33.014125Z"
    }
   },
   "outputs": [],
   "source": [
    "# Append Test_Set_Index to each result set for models\n",
    "for model_name in models_metrics_dct.keys():\n",
    "    models_metrics_dct[model_name]['Test_Set_Index'] = 0"
   ]
  },
  {
   "cell_type": "code",
   "execution_count": 9,
   "id": "69377bf5",
   "metadata": {
    "ExecuteTime": {
     "end_time": "2024-01-03T22:23:33.062136Z",
     "start_time": "2024-01-03T22:23:33.038455Z"
    }
   },
   "outputs": [
    {
     "data": {
      "text/plain": [
       "(114, 21)"
      ]
     },
     "execution_count": 9,
     "metadata": {},
     "output_type": "execute_result"
    }
   ],
   "source": [
    "models_metrics_dct[list(models_metrics_dct.keys())[0]].shape"
   ]
  },
  {
   "cell_type": "code",
   "execution_count": 10,
   "id": "64ecfcea",
   "metadata": {
    "ExecuteTime": {
     "end_time": "2024-01-03T22:23:33.090683Z",
     "start_time": "2024-01-03T22:23:33.060017Z"
    }
   },
   "outputs": [
    {
     "data": {
      "text/html": [
       "<div>\n",
       "<style scoped>\n",
       "    .dataframe tbody tr th:only-of-type {\n",
       "        vertical-align: middle;\n",
       "    }\n",
       "\n",
       "    .dataframe tbody tr th {\n",
       "        vertical-align: top;\n",
       "    }\n",
       "\n",
       "    .dataframe thead th {\n",
       "        text-align: right;\n",
       "    }\n",
       "</style>\n",
       "<table border=\"1\" class=\"dataframe\">\n",
       "  <thead>\n",
       "    <tr style=\"text-align: right;\">\n",
       "      <th></th>\n",
       "      <th>Metric</th>\n",
       "      <th>Model_Name</th>\n",
       "      <th>Model_Params</th>\n",
       "      <th>Dataset_Name</th>\n",
       "      <th>Num_Estimators</th>\n",
       "      <th>Tag</th>\n",
       "      <th>Record_Create_Date_Time</th>\n",
       "      <th>Session_Uuid</th>\n",
       "      <th>Experiment_Iteration</th>\n",
       "      <th>Dataset_Split_Seed</th>\n",
       "      <th>...</th>\n",
       "      <th>Fair_Intervention_Params_Lst</th>\n",
       "      <th>Intervention_Param</th>\n",
       "      <th>overall</th>\n",
       "      <th>sex_dis</th>\n",
       "      <th>sex_dis_correct</th>\n",
       "      <th>sex_dis_incorrect</th>\n",
       "      <th>sex_priv</th>\n",
       "      <th>sex_priv_correct</th>\n",
       "      <th>sex_priv_incorrect</th>\n",
       "      <th>Test_Set_Index</th>\n",
       "    </tr>\n",
       "  </thead>\n",
       "  <tbody>\n",
       "    <tr>\n",
       "      <th>0</th>\n",
       "      <td>Accuracy</td>\n",
       "      <td>LGBMClassifier</td>\n",
       "      <td>{'boosting_type': 'gbdt', 'class_weight': None...</td>\n",
       "      <td>Student_Performance_Por</td>\n",
       "      <td>200</td>\n",
       "      <td>OK</td>\n",
       "      <td>2024-01-04 09:13:35.503</td>\n",
       "      <td>0094ddff-4e1c-4a3e-95de-f044dacd4874</td>\n",
       "      <td>Exp_iter_1</td>\n",
       "      <td>100</td>\n",
       "      <td>...</td>\n",
       "      <td>[True]</td>\n",
       "      <td>True</td>\n",
       "      <td>0.926380</td>\n",
       "      <td>0.957447</td>\n",
       "      <td>1.000000</td>\n",
       "      <td>0.000000</td>\n",
       "      <td>0.884058</td>\n",
       "      <td>1.000000</td>\n",
       "      <td>0.000000</td>\n",
       "      <td>0</td>\n",
       "    </tr>\n",
       "    <tr>\n",
       "      <th>21</th>\n",
       "      <td>Aleatoric_Uncertainty</td>\n",
       "      <td>LGBMClassifier</td>\n",
       "      <td>{'boosting_type': 'gbdt', 'class_weight': None...</td>\n",
       "      <td>Student_Performance_Por</td>\n",
       "      <td>200</td>\n",
       "      <td>OK</td>\n",
       "      <td>2024-01-04 09:13:35.503</td>\n",
       "      <td>0094ddff-4e1c-4a3e-95de-f044dacd4874</td>\n",
       "      <td>Exp_iter_1</td>\n",
       "      <td>100</td>\n",
       "      <td>...</td>\n",
       "      <td>[True]</td>\n",
       "      <td>True</td>\n",
       "      <td>0.231875</td>\n",
       "      <td>0.196341</td>\n",
       "      <td>0.172415</td>\n",
       "      <td>0.734674</td>\n",
       "      <td>0.280285</td>\n",
       "      <td>0.228359</td>\n",
       "      <td>0.676218</td>\n",
       "      <td>0</td>\n",
       "    </tr>\n",
       "    <tr>\n",
       "      <th>42</th>\n",
       "      <td>Epistemic_Uncertainty</td>\n",
       "      <td>LGBMClassifier</td>\n",
       "      <td>{'boosting_type': 'gbdt', 'class_weight': None...</td>\n",
       "      <td>Student_Performance_Por</td>\n",
       "      <td>200</td>\n",
       "      <td>OK</td>\n",
       "      <td>2024-01-04 09:13:35.503</td>\n",
       "      <td>0094ddff-4e1c-4a3e-95de-f044dacd4874</td>\n",
       "      <td>Exp_iter_1</td>\n",
       "      <td>100</td>\n",
       "      <td>...</td>\n",
       "      <td>[True]</td>\n",
       "      <td>True</td>\n",
       "      <td>0.034128</td>\n",
       "      <td>0.026972</td>\n",
       "      <td>0.022806</td>\n",
       "      <td>0.120714</td>\n",
       "      <td>0.043877</td>\n",
       "      <td>0.035929</td>\n",
       "      <td>0.104482</td>\n",
       "      <td>0</td>\n",
       "    </tr>\n",
       "    <tr>\n",
       "      <th>63</th>\n",
       "      <td>F1</td>\n",
       "      <td>LGBMClassifier</td>\n",
       "      <td>{'boosting_type': 'gbdt', 'class_weight': None...</td>\n",
       "      <td>Student_Performance_Por</td>\n",
       "      <td>200</td>\n",
       "      <td>OK</td>\n",
       "      <td>2024-01-04 09:13:35.503</td>\n",
       "      <td>0094ddff-4e1c-4a3e-95de-f044dacd4874</td>\n",
       "      <td>Exp_iter_1</td>\n",
       "      <td>100</td>\n",
       "      <td>...</td>\n",
       "      <td>[True]</td>\n",
       "      <td>True</td>\n",
       "      <td>0.956522</td>\n",
       "      <td>0.975309</td>\n",
       "      <td>1.000000</td>\n",
       "      <td>0.000000</td>\n",
       "      <td>0.929825</td>\n",
       "      <td>1.000000</td>\n",
       "      <td>0.000000</td>\n",
       "      <td>0</td>\n",
       "    </tr>\n",
       "    <tr>\n",
       "      <th>84</th>\n",
       "      <td>FNR</td>\n",
       "      <td>LGBMClassifier</td>\n",
       "      <td>{'boosting_type': 'gbdt', 'class_weight': None...</td>\n",
       "      <td>Student_Performance_Por</td>\n",
       "      <td>200</td>\n",
       "      <td>OK</td>\n",
       "      <td>2024-01-04 09:13:35.503</td>\n",
       "      <td>0094ddff-4e1c-4a3e-95de-f044dacd4874</td>\n",
       "      <td>Exp_iter_1</td>\n",
       "      <td>100</td>\n",
       "      <td>...</td>\n",
       "      <td>[True]</td>\n",
       "      <td>True</td>\n",
       "      <td>0.036496</td>\n",
       "      <td>0.048193</td>\n",
       "      <td>0.000000</td>\n",
       "      <td>1.000000</td>\n",
       "      <td>0.018519</td>\n",
       "      <td>0.000000</td>\n",
       "      <td>1.000000</td>\n",
       "      <td>0</td>\n",
       "    </tr>\n",
       "    <tr>\n",
       "      <th>105</th>\n",
       "      <td>FPR</td>\n",
       "      <td>LGBMClassifier</td>\n",
       "      <td>{'boosting_type': 'gbdt', 'class_weight': None...</td>\n",
       "      <td>Student_Performance_Por</td>\n",
       "      <td>200</td>\n",
       "      <td>OK</td>\n",
       "      <td>2024-01-04 09:13:35.503</td>\n",
       "      <td>0094ddff-4e1c-4a3e-95de-f044dacd4874</td>\n",
       "      <td>Exp_iter_1</td>\n",
       "      <td>100</td>\n",
       "      <td>...</td>\n",
       "      <td>[True]</td>\n",
       "      <td>True</td>\n",
       "      <td>0.269231</td>\n",
       "      <td>0.000000</td>\n",
       "      <td>0.000000</td>\n",
       "      <td>NaN</td>\n",
       "      <td>0.466667</td>\n",
       "      <td>0.000000</td>\n",
       "      <td>1.000000</td>\n",
       "      <td>0</td>\n",
       "    </tr>\n",
       "    <tr>\n",
       "      <th>126</th>\n",
       "      <td>IQR</td>\n",
       "      <td>LGBMClassifier</td>\n",
       "      <td>{'boosting_type': 'gbdt', 'class_weight': None...</td>\n",
       "      <td>Student_Performance_Por</td>\n",
       "      <td>200</td>\n",
       "      <td>OK</td>\n",
       "      <td>2024-01-04 09:13:35.503</td>\n",
       "      <td>0094ddff-4e1c-4a3e-95de-f044dacd4874</td>\n",
       "      <td>Exp_iter_1</td>\n",
       "      <td>100</td>\n",
       "      <td>...</td>\n",
       "      <td>[True]</td>\n",
       "      <td>True</td>\n",
       "      <td>0.065017</td>\n",
       "      <td>0.051300</td>\n",
       "      <td>0.042391</td>\n",
       "      <td>0.251746</td>\n",
       "      <td>0.083703</td>\n",
       "      <td>0.066708</td>\n",
       "      <td>0.213291</td>\n",
       "      <td>0</td>\n",
       "    </tr>\n",
       "    <tr>\n",
       "      <th>147</th>\n",
       "      <td>Jitter</td>\n",
       "      <td>LGBMClassifier</td>\n",
       "      <td>{'boosting_type': 'gbdt', 'class_weight': None...</td>\n",
       "      <td>Student_Performance_Por</td>\n",
       "      <td>200</td>\n",
       "      <td>OK</td>\n",
       "      <td>2024-01-04 09:13:35.503</td>\n",
       "      <td>0094ddff-4e1c-4a3e-95de-f044dacd4874</td>\n",
       "      <td>Exp_iter_1</td>\n",
       "      <td>100</td>\n",
       "      <td>...</td>\n",
       "      <td>[True]</td>\n",
       "      <td>True</td>\n",
       "      <td>0.049866</td>\n",
       "      <td>0.034691</td>\n",
       "      <td>0.025236</td>\n",
       "      <td>0.247425</td>\n",
       "      <td>0.070540</td>\n",
       "      <td>0.047264</td>\n",
       "      <td>0.248015</td>\n",
       "      <td>0</td>\n",
       "    </tr>\n",
       "    <tr>\n",
       "      <th>168</th>\n",
       "      <td>Label_Stability</td>\n",
       "      <td>LGBMClassifier</td>\n",
       "      <td>{'boosting_type': 'gbdt', 'class_weight': None...</td>\n",
       "      <td>Student_Performance_Por</td>\n",
       "      <td>200</td>\n",
       "      <td>OK</td>\n",
       "      <td>2024-01-04 09:13:35.503</td>\n",
       "      <td>0094ddff-4e1c-4a3e-95de-f044dacd4874</td>\n",
       "      <td>Exp_iter_1</td>\n",
       "      <td>100</td>\n",
       "      <td>...</td>\n",
       "      <td>[True]</td>\n",
       "      <td>True</td>\n",
       "      <td>0.932577</td>\n",
       "      <td>0.954149</td>\n",
       "      <td>0.965556</td>\n",
       "      <td>0.697500</td>\n",
       "      <td>0.903188</td>\n",
       "      <td>0.938361</td>\n",
       "      <td>0.635000</td>\n",
       "      <td>0</td>\n",
       "    </tr>\n",
       "    <tr>\n",
       "      <th>189</th>\n",
       "      <td>Mean_Prediction</td>\n",
       "      <td>LGBMClassifier</td>\n",
       "      <td>{'boosting_type': 'gbdt', 'class_weight': None...</td>\n",
       "      <td>Student_Performance_Por</td>\n",
       "      <td>200</td>\n",
       "      <td>OK</td>\n",
       "      <td>2024-01-04 09:13:35.503</td>\n",
       "      <td>0094ddff-4e1c-4a3e-95de-f044dacd4874</td>\n",
       "      <td>Exp_iter_1</td>\n",
       "      <td>100</td>\n",
       "      <td>...</td>\n",
       "      <td>[True]</td>\n",
       "      <td>True</td>\n",
       "      <td>0.156133</td>\n",
       "      <td>0.138670</td>\n",
       "      <td>0.113380</td>\n",
       "      <td>0.707682</td>\n",
       "      <td>0.179923</td>\n",
       "      <td>0.156679</td>\n",
       "      <td>0.357160</td>\n",
       "      <td>0</td>\n",
       "    </tr>\n",
       "    <tr>\n",
       "      <th>210</th>\n",
       "      <td>Overall_Uncertainty</td>\n",
       "      <td>LGBMClassifier</td>\n",
       "      <td>{'boosting_type': 'gbdt', 'class_weight': None...</td>\n",
       "      <td>Student_Performance_Por</td>\n",
       "      <td>200</td>\n",
       "      <td>OK</td>\n",
       "      <td>2024-01-04 09:13:35.503</td>\n",
       "      <td>0094ddff-4e1c-4a3e-95de-f044dacd4874</td>\n",
       "      <td>Exp_iter_1</td>\n",
       "      <td>100</td>\n",
       "      <td>...</td>\n",
       "      <td>[True]</td>\n",
       "      <td>True</td>\n",
       "      <td>0.266003</td>\n",
       "      <td>0.223313</td>\n",
       "      <td>0.195221</td>\n",
       "      <td>0.855387</td>\n",
       "      <td>0.324162</td>\n",
       "      <td>0.264288</td>\n",
       "      <td>0.780700</td>\n",
       "      <td>0</td>\n",
       "    </tr>\n",
       "    <tr>\n",
       "      <th>231</th>\n",
       "      <td>PPV</td>\n",
       "      <td>LGBMClassifier</td>\n",
       "      <td>{'boosting_type': 'gbdt', 'class_weight': None...</td>\n",
       "      <td>Student_Performance_Por</td>\n",
       "      <td>200</td>\n",
       "      <td>OK</td>\n",
       "      <td>2024-01-04 09:13:35.503</td>\n",
       "      <td>0094ddff-4e1c-4a3e-95de-f044dacd4874</td>\n",
       "      <td>Exp_iter_1</td>\n",
       "      <td>100</td>\n",
       "      <td>...</td>\n",
       "      <td>[True]</td>\n",
       "      <td>True</td>\n",
       "      <td>0.949640</td>\n",
       "      <td>1.000000</td>\n",
       "      <td>1.000000</td>\n",
       "      <td>NaN</td>\n",
       "      <td>0.883333</td>\n",
       "      <td>1.000000</td>\n",
       "      <td>0.000000</td>\n",
       "      <td>0</td>\n",
       "    </tr>\n",
       "    <tr>\n",
       "      <th>252</th>\n",
       "      <td>Positive-Rate</td>\n",
       "      <td>LGBMClassifier</td>\n",
       "      <td>{'boosting_type': 'gbdt', 'class_weight': None...</td>\n",
       "      <td>Student_Performance_Por</td>\n",
       "      <td>200</td>\n",
       "      <td>OK</td>\n",
       "      <td>2024-01-04 09:13:35.503</td>\n",
       "      <td>0094ddff-4e1c-4a3e-95de-f044dacd4874</td>\n",
       "      <td>Exp_iter_1</td>\n",
       "      <td>100</td>\n",
       "      <td>...</td>\n",
       "      <td>[True]</td>\n",
       "      <td>True</td>\n",
       "      <td>1.014599</td>\n",
       "      <td>0.951807</td>\n",
       "      <td>1.000000</td>\n",
       "      <td>0.000000</td>\n",
       "      <td>1.111111</td>\n",
       "      <td>1.000000</td>\n",
       "      <td>7.000000</td>\n",
       "      <td>0</td>\n",
       "    </tr>\n",
       "    <tr>\n",
       "      <th>273</th>\n",
       "      <td>Sample_Size</td>\n",
       "      <td>LGBMClassifier</td>\n",
       "      <td>{'boosting_type': 'gbdt', 'class_weight': None...</td>\n",
       "      <td>Student_Performance_Por</td>\n",
       "      <td>200</td>\n",
       "      <td>OK</td>\n",
       "      <td>2024-01-04 09:13:35.503</td>\n",
       "      <td>0094ddff-4e1c-4a3e-95de-f044dacd4874</td>\n",
       "      <td>Exp_iter_1</td>\n",
       "      <td>100</td>\n",
       "      <td>...</td>\n",
       "      <td>[True]</td>\n",
       "      <td>True</td>\n",
       "      <td>163.000000</td>\n",
       "      <td>94.000000</td>\n",
       "      <td>90.000000</td>\n",
       "      <td>4.000000</td>\n",
       "      <td>69.000000</td>\n",
       "      <td>61.000000</td>\n",
       "      <td>8.000000</td>\n",
       "      <td>0</td>\n",
       "    </tr>\n",
       "    <tr>\n",
       "      <th>294</th>\n",
       "      <td>Selection-Rate</td>\n",
       "      <td>LGBMClassifier</td>\n",
       "      <td>{'boosting_type': 'gbdt', 'class_weight': None...</td>\n",
       "      <td>Student_Performance_Por</td>\n",
       "      <td>200</td>\n",
       "      <td>OK</td>\n",
       "      <td>2024-01-04 09:13:35.503</td>\n",
       "      <td>0094ddff-4e1c-4a3e-95de-f044dacd4874</td>\n",
       "      <td>Exp_iter_1</td>\n",
       "      <td>100</td>\n",
       "      <td>...</td>\n",
       "      <td>[True]</td>\n",
       "      <td>True</td>\n",
       "      <td>0.852761</td>\n",
       "      <td>0.840426</td>\n",
       "      <td>0.877778</td>\n",
       "      <td>0.000000</td>\n",
       "      <td>0.869565</td>\n",
       "      <td>0.868852</td>\n",
       "      <td>0.875000</td>\n",
       "      <td>0</td>\n",
       "    </tr>\n",
       "    <tr>\n",
       "      <th>315</th>\n",
       "      <td>Statistical_Bias</td>\n",
       "      <td>LGBMClassifier</td>\n",
       "      <td>{'boosting_type': 'gbdt', 'class_weight': None...</td>\n",
       "      <td>Student_Performance_Por</td>\n",
       "      <td>200</td>\n",
       "      <td>OK</td>\n",
       "      <td>2024-01-04 09:13:35.503</td>\n",
       "      <td>0094ddff-4e1c-4a3e-95de-f044dacd4874</td>\n",
       "      <td>Exp_iter_1</td>\n",
       "      <td>100</td>\n",
       "      <td>...</td>\n",
       "      <td>[True]</td>\n",
       "      <td>True</td>\n",
       "      <td>0.105733</td>\n",
       "      <td>0.076164</td>\n",
       "      <td>0.048096</td>\n",
       "      <td>0.707682</td>\n",
       "      <td>0.146016</td>\n",
       "      <td>0.070599</td>\n",
       "      <td>0.721072</td>\n",
       "      <td>0</td>\n",
       "    </tr>\n",
       "    <tr>\n",
       "      <th>336</th>\n",
       "      <td>Std</td>\n",
       "      <td>LGBMClassifier</td>\n",
       "      <td>{'boosting_type': 'gbdt', 'class_weight': None...</td>\n",
       "      <td>Student_Performance_Por</td>\n",
       "      <td>200</td>\n",
       "      <td>OK</td>\n",
       "      <td>2024-01-04 09:13:35.503</td>\n",
       "      <td>0094ddff-4e1c-4a3e-95de-f044dacd4874</td>\n",
       "      <td>Exp_iter_1</td>\n",
       "      <td>100</td>\n",
       "      <td>...</td>\n",
       "      <td>[True]</td>\n",
       "      <td>True</td>\n",
       "      <td>0.051982</td>\n",
       "      <td>0.042194</td>\n",
       "      <td>0.035919</td>\n",
       "      <td>0.183371</td>\n",
       "      <td>0.065316</td>\n",
       "      <td>0.052696</td>\n",
       "      <td>0.161537</td>\n",
       "      <td>0</td>\n",
       "    </tr>\n",
       "    <tr>\n",
       "      <th>357</th>\n",
       "      <td>TNR</td>\n",
       "      <td>LGBMClassifier</td>\n",
       "      <td>{'boosting_type': 'gbdt', 'class_weight': None...</td>\n",
       "      <td>Student_Performance_Por</td>\n",
       "      <td>200</td>\n",
       "      <td>OK</td>\n",
       "      <td>2024-01-04 09:13:35.503</td>\n",
       "      <td>0094ddff-4e1c-4a3e-95de-f044dacd4874</td>\n",
       "      <td>Exp_iter_1</td>\n",
       "      <td>100</td>\n",
       "      <td>...</td>\n",
       "      <td>[True]</td>\n",
       "      <td>True</td>\n",
       "      <td>0.730769</td>\n",
       "      <td>1.000000</td>\n",
       "      <td>1.000000</td>\n",
       "      <td>NaN</td>\n",
       "      <td>0.533333</td>\n",
       "      <td>1.000000</td>\n",
       "      <td>0.000000</td>\n",
       "      <td>0</td>\n",
       "    </tr>\n",
       "    <tr>\n",
       "      <th>378</th>\n",
       "      <td>TPR</td>\n",
       "      <td>LGBMClassifier</td>\n",
       "      <td>{'boosting_type': 'gbdt', 'class_weight': None...</td>\n",
       "      <td>Student_Performance_Por</td>\n",
       "      <td>200</td>\n",
       "      <td>OK</td>\n",
       "      <td>2024-01-04 09:13:35.503</td>\n",
       "      <td>0094ddff-4e1c-4a3e-95de-f044dacd4874</td>\n",
       "      <td>Exp_iter_1</td>\n",
       "      <td>100</td>\n",
       "      <td>...</td>\n",
       "      <td>[True]</td>\n",
       "      <td>True</td>\n",
       "      <td>0.963504</td>\n",
       "      <td>0.951807</td>\n",
       "      <td>1.000000</td>\n",
       "      <td>0.000000</td>\n",
       "      <td>0.981481</td>\n",
       "      <td>1.000000</td>\n",
       "      <td>0.000000</td>\n",
       "      <td>0</td>\n",
       "    </tr>\n",
       "  </tbody>\n",
       "</table>\n",
       "<p>19 rows × 21 columns</p>\n",
       "</div>"
      ],
      "text/plain": [
       "                    Metric      Model_Name  \\\n",
       "0                 Accuracy  LGBMClassifier   \n",
       "21   Aleatoric_Uncertainty  LGBMClassifier   \n",
       "42   Epistemic_Uncertainty  LGBMClassifier   \n",
       "63                      F1  LGBMClassifier   \n",
       "84                     FNR  LGBMClassifier   \n",
       "105                    FPR  LGBMClassifier   \n",
       "126                    IQR  LGBMClassifier   \n",
       "147                 Jitter  LGBMClassifier   \n",
       "168        Label_Stability  LGBMClassifier   \n",
       "189        Mean_Prediction  LGBMClassifier   \n",
       "210    Overall_Uncertainty  LGBMClassifier   \n",
       "231                    PPV  LGBMClassifier   \n",
       "252          Positive-Rate  LGBMClassifier   \n",
       "273            Sample_Size  LGBMClassifier   \n",
       "294         Selection-Rate  LGBMClassifier   \n",
       "315       Statistical_Bias  LGBMClassifier   \n",
       "336                    Std  LGBMClassifier   \n",
       "357                    TNR  LGBMClassifier   \n",
       "378                    TPR  LGBMClassifier   \n",
       "\n",
       "                                          Model_Params  \\\n",
       "0    {'boosting_type': 'gbdt', 'class_weight': None...   \n",
       "21   {'boosting_type': 'gbdt', 'class_weight': None...   \n",
       "42   {'boosting_type': 'gbdt', 'class_weight': None...   \n",
       "63   {'boosting_type': 'gbdt', 'class_weight': None...   \n",
       "84   {'boosting_type': 'gbdt', 'class_weight': None...   \n",
       "105  {'boosting_type': 'gbdt', 'class_weight': None...   \n",
       "126  {'boosting_type': 'gbdt', 'class_weight': None...   \n",
       "147  {'boosting_type': 'gbdt', 'class_weight': None...   \n",
       "168  {'boosting_type': 'gbdt', 'class_weight': None...   \n",
       "189  {'boosting_type': 'gbdt', 'class_weight': None...   \n",
       "210  {'boosting_type': 'gbdt', 'class_weight': None...   \n",
       "231  {'boosting_type': 'gbdt', 'class_weight': None...   \n",
       "252  {'boosting_type': 'gbdt', 'class_weight': None...   \n",
       "273  {'boosting_type': 'gbdt', 'class_weight': None...   \n",
       "294  {'boosting_type': 'gbdt', 'class_weight': None...   \n",
       "315  {'boosting_type': 'gbdt', 'class_weight': None...   \n",
       "336  {'boosting_type': 'gbdt', 'class_weight': None...   \n",
       "357  {'boosting_type': 'gbdt', 'class_weight': None...   \n",
       "378  {'boosting_type': 'gbdt', 'class_weight': None...   \n",
       "\n",
       "                Dataset_Name  Num_Estimators Tag Record_Create_Date_Time  \\\n",
       "0    Student_Performance_Por             200  OK 2024-01-04 09:13:35.503   \n",
       "21   Student_Performance_Por             200  OK 2024-01-04 09:13:35.503   \n",
       "42   Student_Performance_Por             200  OK 2024-01-04 09:13:35.503   \n",
       "63   Student_Performance_Por             200  OK 2024-01-04 09:13:35.503   \n",
       "84   Student_Performance_Por             200  OK 2024-01-04 09:13:35.503   \n",
       "105  Student_Performance_Por             200  OK 2024-01-04 09:13:35.503   \n",
       "126  Student_Performance_Por             200  OK 2024-01-04 09:13:35.503   \n",
       "147  Student_Performance_Por             200  OK 2024-01-04 09:13:35.503   \n",
       "168  Student_Performance_Por             200  OK 2024-01-04 09:13:35.503   \n",
       "189  Student_Performance_Por             200  OK 2024-01-04 09:13:35.503   \n",
       "210  Student_Performance_Por             200  OK 2024-01-04 09:13:35.503   \n",
       "231  Student_Performance_Por             200  OK 2024-01-04 09:13:35.503   \n",
       "252  Student_Performance_Por             200  OK 2024-01-04 09:13:35.503   \n",
       "273  Student_Performance_Por             200  OK 2024-01-04 09:13:35.503   \n",
       "294  Student_Performance_Por             200  OK 2024-01-04 09:13:35.503   \n",
       "315  Student_Performance_Por             200  OK 2024-01-04 09:13:35.503   \n",
       "336  Student_Performance_Por             200  OK 2024-01-04 09:13:35.503   \n",
       "357  Student_Performance_Por             200  OK 2024-01-04 09:13:35.503   \n",
       "378  Student_Performance_Por             200  OK 2024-01-04 09:13:35.503   \n",
       "\n",
       "                             Session_Uuid Experiment_Iteration  \\\n",
       "0    0094ddff-4e1c-4a3e-95de-f044dacd4874           Exp_iter_1   \n",
       "21   0094ddff-4e1c-4a3e-95de-f044dacd4874           Exp_iter_1   \n",
       "42   0094ddff-4e1c-4a3e-95de-f044dacd4874           Exp_iter_1   \n",
       "63   0094ddff-4e1c-4a3e-95de-f044dacd4874           Exp_iter_1   \n",
       "84   0094ddff-4e1c-4a3e-95de-f044dacd4874           Exp_iter_1   \n",
       "105  0094ddff-4e1c-4a3e-95de-f044dacd4874           Exp_iter_1   \n",
       "126  0094ddff-4e1c-4a3e-95de-f044dacd4874           Exp_iter_1   \n",
       "147  0094ddff-4e1c-4a3e-95de-f044dacd4874           Exp_iter_1   \n",
       "168  0094ddff-4e1c-4a3e-95de-f044dacd4874           Exp_iter_1   \n",
       "189  0094ddff-4e1c-4a3e-95de-f044dacd4874           Exp_iter_1   \n",
       "210  0094ddff-4e1c-4a3e-95de-f044dacd4874           Exp_iter_1   \n",
       "231  0094ddff-4e1c-4a3e-95de-f044dacd4874           Exp_iter_1   \n",
       "252  0094ddff-4e1c-4a3e-95de-f044dacd4874           Exp_iter_1   \n",
       "273  0094ddff-4e1c-4a3e-95de-f044dacd4874           Exp_iter_1   \n",
       "294  0094ddff-4e1c-4a3e-95de-f044dacd4874           Exp_iter_1   \n",
       "315  0094ddff-4e1c-4a3e-95de-f044dacd4874           Exp_iter_1   \n",
       "336  0094ddff-4e1c-4a3e-95de-f044dacd4874           Exp_iter_1   \n",
       "357  0094ddff-4e1c-4a3e-95de-f044dacd4874           Exp_iter_1   \n",
       "378  0094ddff-4e1c-4a3e-95de-f044dacd4874           Exp_iter_1   \n",
       "\n",
       "     Dataset_Split_Seed  ...  Fair_Intervention_Params_Lst Intervention_Param  \\\n",
       "0                   100  ...                        [True]               True   \n",
       "21                  100  ...                        [True]               True   \n",
       "42                  100  ...                        [True]               True   \n",
       "63                  100  ...                        [True]               True   \n",
       "84                  100  ...                        [True]               True   \n",
       "105                 100  ...                        [True]               True   \n",
       "126                 100  ...                        [True]               True   \n",
       "147                 100  ...                        [True]               True   \n",
       "168                 100  ...                        [True]               True   \n",
       "189                 100  ...                        [True]               True   \n",
       "210                 100  ...                        [True]               True   \n",
       "231                 100  ...                        [True]               True   \n",
       "252                 100  ...                        [True]               True   \n",
       "273                 100  ...                        [True]               True   \n",
       "294                 100  ...                        [True]               True   \n",
       "315                 100  ...                        [True]               True   \n",
       "336                 100  ...                        [True]               True   \n",
       "357                 100  ...                        [True]               True   \n",
       "378                 100  ...                        [True]               True   \n",
       "\n",
       "        overall    sex_dis  sex_dis_correct  sex_dis_incorrect   sex_priv  \\\n",
       "0      0.926380   0.957447         1.000000           0.000000   0.884058   \n",
       "21     0.231875   0.196341         0.172415           0.734674   0.280285   \n",
       "42     0.034128   0.026972         0.022806           0.120714   0.043877   \n",
       "63     0.956522   0.975309         1.000000           0.000000   0.929825   \n",
       "84     0.036496   0.048193         0.000000           1.000000   0.018519   \n",
       "105    0.269231   0.000000         0.000000                NaN   0.466667   \n",
       "126    0.065017   0.051300         0.042391           0.251746   0.083703   \n",
       "147    0.049866   0.034691         0.025236           0.247425   0.070540   \n",
       "168    0.932577   0.954149         0.965556           0.697500   0.903188   \n",
       "189    0.156133   0.138670         0.113380           0.707682   0.179923   \n",
       "210    0.266003   0.223313         0.195221           0.855387   0.324162   \n",
       "231    0.949640   1.000000         1.000000                NaN   0.883333   \n",
       "252    1.014599   0.951807         1.000000           0.000000   1.111111   \n",
       "273  163.000000  94.000000        90.000000           4.000000  69.000000   \n",
       "294    0.852761   0.840426         0.877778           0.000000   0.869565   \n",
       "315    0.105733   0.076164         0.048096           0.707682   0.146016   \n",
       "336    0.051982   0.042194         0.035919           0.183371   0.065316   \n",
       "357    0.730769   1.000000         1.000000                NaN   0.533333   \n",
       "378    0.963504   0.951807         1.000000           0.000000   0.981481   \n",
       "\n",
       "     sex_priv_correct  sex_priv_incorrect  Test_Set_Index  \n",
       "0            1.000000            0.000000               0  \n",
       "21           0.228359            0.676218               0  \n",
       "42           0.035929            0.104482               0  \n",
       "63           1.000000            0.000000               0  \n",
       "84           0.000000            1.000000               0  \n",
       "105          0.000000            1.000000               0  \n",
       "126          0.066708            0.213291               0  \n",
       "147          0.047264            0.248015               0  \n",
       "168          0.938361            0.635000               0  \n",
       "189          0.156679            0.357160               0  \n",
       "210          0.264288            0.780700               0  \n",
       "231          1.000000            0.000000               0  \n",
       "252          1.000000            7.000000               0  \n",
       "273         61.000000            8.000000               0  \n",
       "294          0.868852            0.875000               0  \n",
       "315          0.070599            0.721072               0  \n",
       "336          0.052696            0.161537               0  \n",
       "357          1.000000            0.000000               0  \n",
       "378          1.000000            0.000000               0  \n",
       "\n",
       "[19 rows x 21 columns]"
      ]
     },
     "execution_count": 10,
     "metadata": {},
     "output_type": "execute_result"
    }
   ],
   "source": [
    "models_metrics_dct[list(models_metrics_dct.keys())[0]][\n",
    "    models_metrics_dct[list(models_metrics_dct.keys())[0]]['Experiment_Iteration'] == 'Exp_iter_1'\n",
    "].head(20)"
   ]
  },
  {
   "cell_type": "code",
   "execution_count": 11,
   "id": "5d3c64e6",
   "metadata": {
    "ExecuteTime": {
     "end_time": "2024-01-03T22:23:33.113732Z",
     "start_time": "2024-01-03T22:23:33.090933Z"
    }
   },
   "outputs": [],
   "source": [
    "exp_composer = ExperimentsComposer(models_metrics_dct, SENSITIVE_ATTRS)\n",
    "exp_subgroup_metrics_dct = exp_composer.create_exp_subgroup_metrics_dct_for_mult_test_sets()"
   ]
  },
  {
   "cell_type": "code",
   "execution_count": 12,
   "id": "941b413e",
   "metadata": {
    "ExecuteTime": {
     "end_time": "2024-01-03T22:23:33.155409Z",
     "start_time": "2024-01-03T22:23:33.113025Z"
    }
   },
   "outputs": [],
   "source": [
    "exp_group_metrics_dct = exp_composer.compose_group_metrics_for_mult_test_sets(exp_subgroup_metrics_dct)"
   ]
  },
  {
   "cell_type": "markdown",
   "id": "abbe5518",
   "metadata": {},
   "source": [
    "## Figure 1. Subgroup boxplots."
   ]
  },
  {
   "cell_type": "code",
   "execution_count": 13,
   "id": "fca5713c",
   "metadata": {
    "ExecuteTime": {
     "end_time": "2024-01-03T22:23:33.196495Z",
     "start_time": "2024-01-03T22:23:33.138604Z"
    }
   },
   "outputs": [],
   "source": [
    "melted_all_subgroup_metrics_per_model_dct, melted_all_group_metrics_per_model_dct = \\\n",
    "    preprocess_metrics(exp_subgroup_metrics_dct, exp_group_metrics_dct)"
   ]
  },
  {
   "cell_type": "code",
   "execution_count": 14,
   "id": "79355513",
   "metadata": {
    "ExecuteTime": {
     "end_time": "2024-01-03T22:23:33.199261Z",
     "start_time": "2024-01-03T22:23:33.167891Z"
    }
   },
   "outputs": [],
   "source": [
    "vals_to_replace = {\n",
    "    'Model_Name': {\n",
    "        'LGBMClassifier': 'LGBM',\n",
    "        'LogisticRegression': 'LR',\n",
    "        'RandomForestClassifier': 'RF',\n",
    "        'MLPClassifier': 'MLP'\n",
    "    }\n",
    "}"
   ]
  },
  {
   "cell_type": "code",
   "execution_count": 15,
   "id": "b2092f14",
   "metadata": {
    "ExecuteTime": {
     "end_time": "2024-01-03T22:23:33.518585Z",
     "start_time": "2024-01-03T22:23:33.190711Z"
    }
   },
   "outputs": [
    {
     "data": {
      "text/plain": [
       "<Figure size 864x432 with 0 Axes>"
      ]
     },
     "metadata": {},
     "output_type": "display_data"
    },
    {
     "data": {
      "image/png": "[encoded data removed]",
      "text/plain": [
       "<Figure size 1177.33x360 with 3 Axes>"
      ]
     },
     "metadata": {},
     "output_type": "display_data"
    }
   ],
   "source": [
    "create_group_base_and_fair_models_box_plot(melted_all_subgroup_metrics_per_model_dct,\n",
    "                                           ylim=(0.75, 1.0),\n",
    "                                           metric_names=['F1', 'Accuracy', 'Label_Stability'],\n",
    "                                           vals_to_replace=vals_to_replace)"
   ]
  },
  {
   "cell_type": "markdown",
   "id": "8b0f274f",
   "metadata": {},
   "source": [
    "## Figure 2. Create group boxplots."
   ]
  },
  {
   "cell_type": "code",
   "execution_count": 16,
   "id": "0d504752",
   "metadata": {
    "ExecuteTime": {
     "end_time": "2024-01-03T22:23:33.700517Z",
     "start_time": "2024-01-03T22:23:33.519286Z"
    }
   },
   "outputs": [
    {
     "data": {
      "text/plain": [
       "<Figure size 864x432 with 0 Axes>"
      ]
     },
     "metadata": {},
     "output_type": "display_data"
    },
    {
     "data": {
      "image/png": "[encoded data removed]",
      "text/plain": [
       "<Figure size 469.025x360 with 1 Axes>"
      ]
     },
     "metadata": {},
     "output_type": "display_data"
    }
   ],
   "source": [
    "create_group_base_and_fair_models_box_plot(melted_all_group_metrics_per_model_dct,\n",
    "                                           group='sex',\n",
    "                                           metric_names=['Label_Stability_Difference'],\n",
    "                                           vals_to_replace=vals_to_replace)"
   ]
  },
  {
   "cell_type": "code",
   "execution_count": 17,
   "id": "7fe41ddd",
   "metadata": {
    "ExecuteTime": {
     "end_time": "2024-01-03T22:23:49.402693Z",
     "start_time": "2024-01-03T22:23:49.152159Z"
    }
   },
   "outputs": [
    {
     "data": {
      "text/plain": [
       "<Figure size 864x432 with 0 Axes>"
      ]
     },
     "metadata": {},
     "output_type": "display_data"
    },
    {
     "data": {
      "image/png": "[encoded data removed]",
      "text/plain": [
       "<Figure size 829.025x360 with 2 Axes>"
      ]
     },
     "metadata": {},
     "output_type": "display_data"
    }
   ],
   "source": [
    "create_group_base_and_fair_models_box_plot(melted_all_group_metrics_per_model_dct,\n",
    "                                           group='sex',\n",
    "                                           metric_names=['Equalized_Odds_FPR', 'Equalized_Odds_FNR'],\n",
    "                                           vals_to_replace=vals_to_replace)"
   ]
  },
  {
   "cell_type": "code",
   "execution_count": 18,
   "id": "b22f7185",
   "metadata": {
    "ExecuteTime": {
     "end_time": "2024-01-03T22:23:49.648096Z",
     "start_time": "2024-01-03T22:23:49.479049Z"
    }
   },
   "outputs": [
    {
     "data": {
      "text/plain": [
       "<Figure size 864x432 with 0 Axes>"
      ]
     },
     "metadata": {},
     "output_type": "display_data"
    },
    {
     "data": {
      "image/png": "[encoded data removed]",
      "text/plain": [
       "<Figure size 469.025x360 with 1 Axes>"
      ]
     },
     "metadata": {},
     "output_type": "display_data"
    }
   ],
   "source": [
    "create_group_base_and_fair_models_box_plot(melted_all_group_metrics_per_model_dct,\n",
    "                                           group='sex',\n",
    "                                           metric_names=['Statistical_Parity_Difference'],\n",
    "                                           vals_to_replace=vals_to_replace)"
   ]
  },
  {
   "cell_type": "code",
   "execution_count": null,
   "id": "9d5894c7",
   "metadata": {
    "ExecuteTime": {
     "start_time": "2024-01-03T22:23:34.219636Z"
    }
   },
   "outputs": [],
   "source": []
  }
 ],
 "metadata": {
  "kernelspec": {
   "display_name": "Python 3",
   "language": "python",
   "name": "python3"
  },
  "language_info": {
   "codemirror_mode": {
    "name": "ipython",
    "version": 3
   },
   "file_extension": ".py",
   "mimetype": "text/x-python",
   "name": "python",
   "nbconvert_exporter": "python",
   "pygments_lexer": "ipython3",
   "version": "3.8.5"
  },
  "vscode": {
   "interpreter": {
    "hash": "aeeedfdcfbb7d0bd7e8ae453d9cd04ee7ebd63a67f7841163d9437c8723e8c72"
   }
  }
 },
 "nbformat": 4,
 "nbformat_minor": 5
}
