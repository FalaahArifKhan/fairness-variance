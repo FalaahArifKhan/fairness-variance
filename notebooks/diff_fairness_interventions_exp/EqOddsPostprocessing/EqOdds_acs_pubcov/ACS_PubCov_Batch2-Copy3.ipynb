{
 "cells": [
  {
   "cell_type": "code",
   "execution_count": 15,
   "id": "6fdcbd44",
   "metadata": {},
   "outputs": [],
   "source": [
    "# !pip install -r ./requirements.txt"
   ]
  },
  {
   "cell_type": "code",
   "execution_count": 16,
   "id": "646c9135",
   "metadata": {
    "ExecuteTime": {
     "end_time": "2024-01-03T23:35:19.738404Z",
     "start_time": "2024-01-03T23:35:19.714471Z"
    }
   },
   "outputs": [],
   "source": [
    "# !pip uninstall virny -y"
   ]
  },
  {
   "cell_type": "code",
   "execution_count": 18,
   "id": "dc70c597",
   "metadata": {
    "ExecuteTime": {
     "end_time": "2024-01-03T23:35:37.942410Z",
     "start_time": "2024-01-03T23:35:37.150139Z"
    }
   },
   "outputs": [],
   "source": [
    "# Install using an HTTP link\n",
    "# !pip install git+https://github.com/DataResponsibly/Virny.git@feature/prepare_for_uncertainty_experiments\n",
    "\n",
    "# Install using an SSH link\n",
    "# !pip install git+ssh://git@github.com/DataResponsibly/Virny.git@feature/prepare_for_uncertainty_experiments"
   ]
  },
  {
   "cell_type": "code",
   "execution_count": 1,
   "id": "b5ffe81e",
   "metadata": {
    "ExecuteTime": {
     "end_time": "2024-01-03T23:26:32.626797Z",
     "start_time": "2024-01-03T23:26:32.308711Z"
    }
   },
   "outputs": [],
   "source": [
    "%matplotlib inline\n",
    "%load_ext autoreload\n",
    "%autoreload 2"
   ]
  },
  {
   "cell_type": "code",
   "execution_count": 2,
   "id": "a522f95f",
   "metadata": {
    "ExecuteTime": {
     "end_time": "2024-01-03T23:26:32.632181Z",
     "start_time": "2024-01-03T23:26:32.623733Z"
    }
   },
   "outputs": [],
   "source": [
    "import os\n",
    "import warnings\n",
    "warnings.filterwarnings('ignore')\n",
    "os.environ[\"PYTHONWARNINGS\"] = \"ignore\""
   ]
  },
  {
   "cell_type": "code",
   "execution_count": 3,
   "id": "935a0da6",
   "metadata": {
    "ExecuteTime": {
     "end_time": "2024-01-03T23:26:32.642020Z",
     "start_time": "2024-01-03T23:26:32.632593Z"
    }
   },
   "outputs": [
    {
     "name": "stdout",
     "output_type": "stream",
     "text": [
      "Current location:  /home/dh3553/projects/fairness-variance\n"
     ]
    }
   ],
   "source": [
    "cur_folder_name = os.getcwd().split('/')[-1]\n",
    "if cur_folder_name != \"fairness-variance\":\n",
    "    os.chdir(\"../../../..\")\n",
    "\n",
    "print('Current location: ', os.getcwd())"
   ]
  },
  {
   "cell_type": "markdown",
   "id": "c87a957e",
   "metadata": {},
   "source": [
    "## Import dependencies"
   ]
  },
  {
   "cell_type": "code",
   "execution_count": 4,
   "id": "3ae7e210",
   "metadata": {
    "ExecuteTime": {
     "end_time": "2024-01-03T23:26:35.335196Z",
     "start_time": "2024-01-03T23:26:34.341079Z"
    }
   },
   "outputs": [
    {
     "name": "stderr",
     "output_type": "stream",
     "text": [
      "WARNING:root:No module named 'tempeh': LawSchoolGPADataset will be unavailable. To install, run:\n",
      "pip install 'aif360[LawSchoolGPA]'\n",
      "WARNING:root:No module named 'tensorflow': AdversarialDebiasing will be unavailable. To install, run:\n",
      "pip install 'aif360[AdversarialDebiasing]'\n",
      "WARNING:root:No module named 'tensorflow': AdversarialDebiasing will be unavailable. To install, run:\n",
      "pip install 'aif360[AdversarialDebiasing]'\n"
     ]
    }
   ],
   "source": [
    "import copy\n",
    "\n",
    "from virny.utils.custom_initializers import create_config_obj\n",
    "from virny.datasets import ACSPublicCoverageDataset\n",
    "\n",
    "from configs.constants import TEST_SET_FRACTION, EXPERIMENT_SEEDS\n",
    "from configs.models_config_for_tuning import get_folktables_employment_models_params_for_tuning2\n",
    "\n",
    "from source.experiment_interface import run_exp_iter_with_eq_odds"
   ]
  },
  {
   "cell_type": "markdown",
   "id": "d11e4cce",
   "metadata": {},
   "source": [
    "## Define Input Variables"
   ]
  },
  {
   "cell_type": "code",
   "execution_count": 5,
   "id": "c592f910",
   "metadata": {
    "ExecuteTime": {
     "end_time": "2024-01-03T23:26:35.358215Z",
     "start_time": "2024-01-03T23:26:35.336226Z"
    }
   },
   "outputs": [],
   "source": [
    "ROOT_DIR = os.getcwd()\n",
    "DATASET_NAME = 'ACSPublicCoverageDataset'\n",
    "EXPERIMENT_NAME = 'EqOdds_acs_pubcov'\n",
    "DB_COLLECTION_NAME = 'one_repair_lvl_many_models'\n",
    "FAIR_INTERVENTION_PARAMS_LST = [True]\n",
    "SAVE_RESULTS_DIR_PATH = os.path.join(ROOT_DIR, 'results', 'diff_fairness_interventions_exp',\n",
    "                                     'EqOddsPostprocessing', EXPERIMENT_NAME)\n",
    "\n",
    "config_yaml_path = os.path.join(ROOT_DIR, 'notebooks', 'diff_fairness_interventions_exp',\n",
    "                                'EqOddsPostprocessing', EXPERIMENT_NAME, 'folk_CA_2018_config.yaml')\n",
    "metrics_computation_config = create_config_obj(config_yaml_path=config_yaml_path)"
   ]
  },
  {
   "cell_type": "markdown",
   "id": "ee054eb4",
   "metadata": {},
   "source": [
    "## Define a db writer and custom fields to insert into your database"
   ]
  },
  {
   "cell_type": "code",
   "execution_count": 6,
   "id": "c19ccd41",
   "metadata": {
    "ExecuteTime": {
     "end_time": "2024-01-03T23:26:36.349633Z",
     "start_time": "2024-01-03T23:26:36.310063Z"
    }
   },
   "outputs": [
    {
     "data": {
      "text/plain": [
       "'fairness_variance'"
      ]
     },
     "execution_count": 6,
     "metadata": {},
     "output_type": "execute_result"
    }
   ],
   "source": [
    "import os\n",
    "from dotenv import load_dotenv\n",
    "\n",
    "load_dotenv('./configs/secrets.env')\n",
    "os.getenv(\"DB_NAME\")"
   ]
  },
  {
   "cell_type": "code",
   "execution_count": 7,
   "id": "f0448d06",
   "metadata": {
    "ExecuteTime": {
     "end_time": "2024-01-03T23:26:36.680012Z",
     "start_time": "2024-01-03T23:26:36.510908Z"
    }
   },
   "outputs": [],
   "source": [
    "from source.utils.db_functions import connect_to_mongodb\n",
    "\n",
    "client, collection_obj, db_writer_func = connect_to_mongodb(DB_COLLECTION_NAME)"
   ]
  },
  {
   "cell_type": "code",
   "execution_count": 8,
   "id": "73012b72",
   "metadata": {
    "ExecuteTime": {
     "end_time": "2024-01-03T23:26:46.039502Z",
     "start_time": "2024-01-03T23:26:46.017242Z"
    }
   },
   "outputs": [
    {
     "name": "stdout",
     "output_type": "stream",
     "text": [
      "Current session uuid:  c1fbe1ae-f5e9-4ca1-8f38-abe1b118f95b\n"
     ]
    }
   ],
   "source": [
    "import uuid\n",
    "\n",
    "custom_table_fields_dct = {\n",
    "#     'session_uuid': str(uuid.uuid4()),\n",
    "    'session_uuid': 'c1fbe1ae-f5e9-4ca1-8f38-abe1b118f95b',\n",
    "}\n",
    "print('Current session uuid: ', custom_table_fields_dct['session_uuid'])"
   ]
  },
  {
   "cell_type": "markdown",
   "id": "1006e0b7",
   "metadata": {},
   "source": [
    "## Initialize custom objects"
   ]
  },
  {
   "cell_type": "code",
   "execution_count": 9,
   "id": "599fb529",
   "metadata": {
    "ExecuteTime": {
     "end_time": "2024-01-03T23:26:53.416248Z",
     "start_time": "2024-01-03T23:26:47.435586Z"
    }
   },
   "outputs": [
    {
     "data": {
      "text/html": [
       "<div>\n",
       "<style scoped>\n",
       "    .dataframe tbody tr th:only-of-type {\n",
       "        vertical-align: middle;\n",
       "    }\n",
       "\n",
       "    .dataframe tbody tr th {\n",
       "        vertical-align: top;\n",
       "    }\n",
       "\n",
       "    .dataframe thead th {\n",
       "        text-align: right;\n",
       "    }\n",
       "</style>\n",
       "<table border=\"1\" class=\"dataframe\">\n",
       "  <thead>\n",
       "    <tr style=\"text-align: right;\">\n",
       "      <th></th>\n",
       "      <th>SCHL</th>\n",
       "      <th>MAR</th>\n",
       "      <th>SEX</th>\n",
       "      <th>DIS</th>\n",
       "      <th>ESP</th>\n",
       "      <th>CIT</th>\n",
       "      <th>MIG</th>\n",
       "      <th>MIL</th>\n",
       "      <th>ANC</th>\n",
       "      <th>NATIVITY</th>\n",
       "      <th>DEAR</th>\n",
       "      <th>DEYE</th>\n",
       "      <th>DREM</th>\n",
       "      <th>ESR</th>\n",
       "      <th>ST</th>\n",
       "      <th>FER</th>\n",
       "      <th>RAC1P</th>\n",
       "      <th>AGEP</th>\n",
       "      <th>PINCP</th>\n",
       "    </tr>\n",
       "  </thead>\n",
       "  <tbody>\n",
       "    <tr>\n",
       "      <th>0</th>\n",
       "      <td>19</td>\n",
       "      <td>5</td>\n",
       "      <td>1</td>\n",
       "      <td>2</td>\n",
       "      <td>0</td>\n",
       "      <td>1</td>\n",
       "      <td>3</td>\n",
       "      <td>4</td>\n",
       "      <td>1</td>\n",
       "      <td>1</td>\n",
       "      <td>2</td>\n",
       "      <td>2</td>\n",
       "      <td>2</td>\n",
       "      <td>6</td>\n",
       "      <td>6</td>\n",
       "      <td>0</td>\n",
       "      <td>1</td>\n",
       "      <td>21</td>\n",
       "      <td>3150.0</td>\n",
       "    </tr>\n",
       "    <tr>\n",
       "      <th>1</th>\n",
       "      <td>16</td>\n",
       "      <td>5</td>\n",
       "      <td>1</td>\n",
       "      <td>2</td>\n",
       "      <td>0</td>\n",
       "      <td>3</td>\n",
       "      <td>3</td>\n",
       "      <td>4</td>\n",
       "      <td>4</td>\n",
       "      <td>1</td>\n",
       "      <td>2</td>\n",
       "      <td>2</td>\n",
       "      <td>2</td>\n",
       "      <td>1</td>\n",
       "      <td>6</td>\n",
       "      <td>0</td>\n",
       "      <td>9</td>\n",
       "      <td>18</td>\n",
       "      <td>1600.0</td>\n",
       "    </tr>\n",
       "    <tr>\n",
       "      <th>2</th>\n",
       "      <td>13</td>\n",
       "      <td>5</td>\n",
       "      <td>2</td>\n",
       "      <td>2</td>\n",
       "      <td>1</td>\n",
       "      <td>1</td>\n",
       "      <td>1</td>\n",
       "      <td>0</td>\n",
       "      <td>2</td>\n",
       "      <td>1</td>\n",
       "      <td>2</td>\n",
       "      <td>2</td>\n",
       "      <td>2</td>\n",
       "      <td>6</td>\n",
       "      <td>6</td>\n",
       "      <td>2</td>\n",
       "      <td>1</td>\n",
       "      <td>16</td>\n",
       "      <td>0.0</td>\n",
       "    </tr>\n",
       "    <tr>\n",
       "      <th>3</th>\n",
       "      <td>20</td>\n",
       "      <td>1</td>\n",
       "      <td>2</td>\n",
       "      <td>2</td>\n",
       "      <td>0</td>\n",
       "      <td>4</td>\n",
       "      <td>1</td>\n",
       "      <td>4</td>\n",
       "      <td>1</td>\n",
       "      <td>2</td>\n",
       "      <td>2</td>\n",
       "      <td>2</td>\n",
       "      <td>2</td>\n",
       "      <td>6</td>\n",
       "      <td>6</td>\n",
       "      <td>2</td>\n",
       "      <td>8</td>\n",
       "      <td>43</td>\n",
       "      <td>0.0</td>\n",
       "    </tr>\n",
       "    <tr>\n",
       "      <th>4</th>\n",
       "      <td>16</td>\n",
       "      <td>1</td>\n",
       "      <td>2</td>\n",
       "      <td>2</td>\n",
       "      <td>0</td>\n",
       "      <td>4</td>\n",
       "      <td>1</td>\n",
       "      <td>4</td>\n",
       "      <td>1</td>\n",
       "      <td>2</td>\n",
       "      <td>2</td>\n",
       "      <td>2</td>\n",
       "      <td>2</td>\n",
       "      <td>6</td>\n",
       "      <td>6</td>\n",
       "      <td>0</td>\n",
       "      <td>6</td>\n",
       "      <td>54</td>\n",
       "      <td>0.0</td>\n",
       "    </tr>\n",
       "  </tbody>\n",
       "</table>\n",
       "</div>"
      ],
      "text/plain": [
       "  SCHL MAR SEX DIS ESP CIT MIG MIL ANC NATIVITY DEAR DEYE DREM ESR ST FER  \\\n",
       "0   19   5   1   2   0   1   3   4   1        1    2    2    2   6  6   0   \n",
       "1   16   5   1   2   0   3   3   4   4        1    2    2    2   1  6   0   \n",
       "2   13   5   2   2   1   1   1   0   2        1    2    2    2   6  6   2   \n",
       "3   20   1   2   2   0   4   1   4   1        2    2    2    2   6  6   2   \n",
       "4   16   1   2   2   0   4   1   4   1        2    2    2    2   6  6   0   \n",
       "\n",
       "  RAC1P  AGEP   PINCP  \n",
       "0     1    21  3150.0  \n",
       "1     9    18  1600.0  \n",
       "2     1    16     0.0  \n",
       "3     8    43     0.0  \n",
       "4     6    54     0.0  "
      ]
     },
     "execution_count": 9,
     "metadata": {},
     "output_type": "execute_result"
    }
   ],
   "source": [
    "data_loader = ACSPublicCoverageDataset(state=['CA'], year=2018, with_nulls=False,\n",
    "                                       subsample_size=15_000, subsample_seed=42)\n",
    "data_loader.X_data.head()"
   ]
  },
  {
   "cell_type": "code",
   "execution_count": 10,
   "id": "6ce65d3b",
   "metadata": {
    "ExecuteTime": {
     "end_time": "2024-01-03T23:26:54.127684Z",
     "start_time": "2024-01-03T23:26:54.092935Z"
    }
   },
   "outputs": [
    {
     "data": {
      "text/plain": [
       "(15000, 19)"
      ]
     },
     "execution_count": 10,
     "metadata": {},
     "output_type": "execute_result"
    }
   ],
   "source": [
    "data_loader.X_data.shape"
   ]
  },
  {
   "cell_type": "markdown",
   "id": "e0b8b88b",
   "metadata": {},
   "source": [
    "## Run experiment iterations"
   ]
  },
  {
   "cell_type": "markdown",
   "id": "6a50c8ee",
   "metadata": {},
   "source": [
    "### Experiment iteration 1"
   ]
  },
  {
   "cell_type": "code",
   "execution_count": 11,
   "id": "0b3b9628",
   "metadata": {
    "ExecuteTime": {
     "end_time": "2024-01-03T23:26:55.711376Z",
     "start_time": "2024-01-03T23:26:55.686008Z"
    }
   },
   "outputs": [],
   "source": [
    "# tuned_params_filenames = ['tuning_results_Folktables_NY_2018_Employment_alpha_0.8_20230706__115508.csv']\n",
    "# tuned_params_df_paths = [os.path.join(ROOT_DIR, 'results', EXPERIMENT_NAME, tuned_params_filename)\n",
    "#                          for tuned_params_filename in tuned_params_filenames]"
   ]
  },
  {
   "cell_type": "code",
   "execution_count": 12,
   "id": "d74c145d",
   "metadata": {
    "ExecuteTime": {
     "end_time": "2024-01-03T23:26:55.914187Z",
     "start_time": "2024-01-03T23:26:55.888265Z"
    }
   },
   "outputs": [],
   "source": [
    "# Configs for an experiment iteration\n",
    "exp_iter_num = 1\n",
    "experiment_seed = EXPERIMENT_SEEDS[exp_iter_num - 1]\n",
    "custom_table_fields_dct['experiment_iteration'] = f'Exp_iter_{exp_iter_num}'\n",
    "\n",
    "exp_iter_data_loader = copy.deepcopy(data_loader)  # Add deepcopy to avoid data leakage\n",
    "models_params_for_tuning = get_folktables_employment_models_params_for_tuning2(experiment_seed)"
   ]
  },
  {
   "cell_type": "code",
   "execution_count": null,
   "id": "bd2df855",
   "metadata": {
    "ExecuteTime": {
     "end_time": "2024-01-03T23:29:59.790418Z",
     "start_time": "2024-01-03T23:26:56.170609Z"
    }
   },
   "outputs": [
    {
     "name": "stderr",
     "output_type": "stream",
     "text": [
      "2024-01-04 05:07:24 experiment_interface.py INFO    : Start an experiment iteration for the following custom params:\n",
      "INFO:root:Start an experiment iteration for the following custom params:\n"
     ]
    },
    {
     "name": "stdout",
     "output_type": "stream",
     "text": [
      "{'dataset_split_seed': 100,\n",
      " 'experiment_iteration': 'Exp_iter_1',\n",
      " 'fair_intervention_params_lst': '[True]',\n",
      " 'model_init_seed': 100,\n",
      " 'session_uuid': 'b44b68c9-a58d-4318-9720-76d8891090ac'}\n",
      "\n",
      "\n"
     ]
    },
    {
     "data": {
      "application/vnd.jupyter.widget-view+json": {
       "model_id": "44a1334f38eb45ecafb2b6321524d76f",
       "version_major": 2,
       "version_minor": 0
      },
      "text/plain": [
       "Multiple alphas:   0%|          | 0/1 [00:00<?, ?it/s]"
      ]
     },
     "metadata": {},
     "output_type": "display_data"
    },
    {
     "name": "stderr",
     "output_type": "stream",
     "text": [
      "2024-01-04 05:07:24 experiment_interface.py INFO    : The dataset is preprocessed\n",
      "INFO:root:The dataset is preprocessed\n"
     ]
    },
    {
     "name": "stdout",
     "output_type": "stream",
     "text": [
      "intervention_options:  True\n",
      "cur_base_flow_dataset.X_train_val.columns:  Index(['cat__SCHL_1', 'cat__SCHL_10', 'cat__SCHL_11', 'cat__SCHL_12',\n",
      "       'cat__SCHL_13', 'cat__SCHL_14', 'cat__SCHL_15', 'cat__SCHL_16',\n",
      "       'cat__SCHL_17', 'cat__SCHL_18', 'cat__SCHL_19', 'cat__SCHL_2',\n",
      "       'cat__SCHL_20', 'cat__SCHL_21', 'cat__SCHL_22', 'cat__SCHL_23',\n",
      "       'cat__SCHL_24', 'cat__SCHL_3', 'cat__SCHL_4', 'cat__SCHL_5',\n",
      "       'cat__SCHL_6', 'cat__SCHL_7', 'cat__SCHL_8', 'cat__SCHL_9',\n",
      "       'cat__MAR_1', 'cat__MAR_2', 'cat__MAR_3', 'cat__MAR_4', 'cat__MAR_5',\n",
      "       'cat__DIS_1', 'cat__DIS_2', 'cat__ESP_0', 'cat__ESP_1', 'cat__ESP_2',\n",
      "       'cat__ESP_3', 'cat__ESP_4', 'cat__ESP_5', 'cat__ESP_6', 'cat__ESP_7',\n",
      "       'cat__ESP_8', 'cat__CIT_1', 'cat__CIT_2', 'cat__CIT_3', 'cat__CIT_4',\n",
      "       'cat__CIT_5', 'cat__MIG_1', 'cat__MIG_2', 'cat__MIG_3', 'cat__MIL_0',\n",
      "       'cat__MIL_1', 'cat__MIL_2', 'cat__MIL_3', 'cat__MIL_4', 'cat__ANC_1',\n",
      "       'cat__ANC_2', 'cat__ANC_3', 'cat__ANC_4', 'cat__NATIVITY_1',\n",
      "       'cat__NATIVITY_2', 'cat__DEAR_1', 'cat__DEAR_2', 'cat__DEYE_1',\n",
      "       'cat__DEYE_2', 'cat__DREM_1', 'cat__DREM_2', 'cat__ESR_0', 'cat__ESR_1',\n",
      "       'cat__ESR_2', 'cat__ESR_3', 'cat__ESR_4', 'cat__ESR_6', 'cat__ST_6',\n",
      "       'cat__FER_0', 'cat__FER_1', 'cat__FER_2', 'num__AGEP', 'num__PINCP',\n",
      "       'RACE'],\n",
      "      dtype='object')\n",
      "Top indexes of an X_test in the current base flow dataset:  Int64Index([10155, 11689, 12599, 12193,  8678,  8217,  4670, 12087,  5235,\n",
      "             4189,  7278, 10642,  5284,  7002, 14642, 10594,  7701,  8686,\n",
      "             8665,  6253],\n",
      "           dtype='int64')\n",
      "Top indexes of an y_test in the current base flow dataset:  Int64Index([10155, 11689, 12599, 12193,  8678,  8217,  4670, 12087,  5235,\n",
      "             4189,  7278, 10642,  5284,  7002, 14642, 10594,  7701,  8686,\n",
      "             8665,  6253],\n",
      "           dtype='int64')\n",
      "2024/01/04, 05:07:24: Tuning MLPClassifier...\n",
      "2024/01/04, 05:10:21: Tuning for MLPClassifier is finished [F1 score = 0.6611692552687886, Accuracy = 0.7096]\n",
      "\n"
     ]
    },
    {
     "name": "stderr",
     "output_type": "stream",
     "text": [
      "2024-01-04 05:10:21 experiment_interface.py INFO    : Models are tuned and saved to a file\n",
      "INFO:root:Models are tuned and saved to a file\n"
     ]
    },
    {
     "data": {
      "application/vnd.jupyter.widget-view+json": {
       "model_id": "4d908e36592145c6ae400b4c756f608f",
       "version_major": 2,
       "version_minor": 0
      },
      "text/plain": [
       "Analyze multiple models:   0%|          | 0/1 [00:00<?, ?it/s]"
      ]
     },
     "metadata": {},
     "output_type": "display_data"
    },
    {
     "data": {
      "application/vnd.jupyter.widget-view+json": {
       "model_id": "39766e6ea4e54840b0479b24231613b2",
       "version_major": 2,
       "version_minor": 0
      },
      "text/plain": [
       "Classifiers testing by bootstrap:   0%|          | 0/200 [00:00<?, ?it/s]"
      ]
     },
     "metadata": {},
     "output_type": "display_data"
    }
   ],
   "source": [
    "run_exp_iter_with_eq_odds(data_loader=exp_iter_data_loader,\n",
    "                          experiment_seed=experiment_seed,\n",
    "                          test_set_fraction=TEST_SET_FRACTION,\n",
    "                          db_writer_func=db_writer_func,\n",
    "                          fair_intervention_params_lst=FAIR_INTERVENTION_PARAMS_LST,\n",
    "                          models_params_for_tuning=models_params_for_tuning,\n",
    "                          metrics_computation_config=metrics_computation_config,\n",
    "                          custom_table_fields_dct=custom_table_fields_dct,\n",
    "                          with_tuning=True,\n",
    "                          # with_tuning=False,\n",
    "                          # tuned_params_df_paths=tuned_params_df_paths,\n",
    "                          save_results_dir_path=SAVE_RESULTS_DIR_PATH,\n",
    "                          dataset_name=DATASET_NAME,\n",
    "                          verbose=True)"
   ]
  },
  {
   "cell_type": "markdown",
   "id": "13f624fb",
   "metadata": {},
   "source": [
    "### Experiment iteration 2"
   ]
  },
  {
   "cell_type": "code",
   "execution_count": 21,
   "id": "6f751b79",
   "metadata": {},
   "outputs": [],
   "source": [
    "# Configs for an experiment iteration\n",
    "exp_iter_num = 2\n",
    "experiment_seed = EXPERIMENT_SEEDS[exp_iter_num - 1]\n",
    "tuned_params_filenames = [\n",
    "    'tuning_results_Folktables_CA_2018_Public_Coverage_20240104__101021.csv'\n",
    "]\n",
    "tuned_params_df_paths = [os.path.join(ROOT_DIR, 'results', 'diff_fairness_interventions_exp',\n",
    "                                      'EqOddsPostprocessing', EXPERIMENT_NAME, tuned_params_filename)\n",
    "                         for tuned_params_filename in tuned_params_filenames]\n",
    "custom_table_fields_dct['experiment_iteration'] = f'Exp_iter_{exp_iter_num}'\n",
    "\n",
    "exp_iter_data_loader = copy.deepcopy(data_loader)  # Add deepcopy to avoid data leakage\n",
    "models_params_for_tuning = get_folktables_employment_models_params_for_tuning2(experiment_seed)"
   ]
  },
  {
   "cell_type": "code",
   "execution_count": 1,
   "id": "c0466982",
   "metadata": {
    "ExecuteTime": {
     "end_time": "2024-01-03T22:18:14.888610Z",
     "start_time": "2024-01-03T22:18:14.886453Z"
    }
   },
   "outputs": [],
   "source": [
    "run_exp_iter_with_eq_odds(data_loader=exp_iter_data_loader,\n",
    "                          experiment_seed=experiment_seed,\n",
    "                          test_set_fraction=TEST_SET_FRACTION,\n",
    "                          db_writer_func=db_writer_func,\n",
    "                          fair_intervention_params_lst=FAIR_INTERVENTION_PARAMS_LST,\n",
    "                          models_params_for_tuning=models_params_for_tuning,\n",
    "                          metrics_computation_config=metrics_computation_config,\n",
    "                          custom_table_fields_dct=custom_table_fields_dct,\n",
    "                          # with_tuning=True,\n",
    "                          with_tuning=False,\n",
    "                          tuned_params_df_paths=tuned_params_df_paths,\n",
    "                          save_results_dir_path=SAVE_RESULTS_DIR_PATH,\n",
    "                          dataset_name=DATASET_NAME,\n",
    "                          verbose=True)"
   ]
  },
  {
   "cell_type": "markdown",
   "id": "c0dc6bbe",
   "metadata": {},
   "source": [
    "### Experiment iteration 3"
   ]
  },
  {
   "cell_type": "code",
   "execution_count": 23,
   "id": "63be10ae",
   "metadata": {},
   "outputs": [],
   "source": [
    "# Configs for an experiment iteration\n",
    "exp_iter_num = 3\n",
    "experiment_seed = EXPERIMENT_SEEDS[exp_iter_num - 1]\n",
    "tuned_params_filenames = [\n",
    "    'tuning_results_Folktables_CA_2018_Public_Coverage_20240104__101021.csv'\n",
    "]\n",
    "tuned_params_df_paths = [os.path.join(ROOT_DIR, 'results', 'diff_fairness_interventions_exp',\n",
    "                                      'EqOddsPostprocessing', EXPERIMENT_NAME, tuned_params_filename)\n",
    "                         for tuned_params_filename in tuned_params_filenames]\n",
    "custom_table_fields_dct['experiment_iteration'] = f'Exp_iter_{exp_iter_num}'\n",
    "\n",
    "exp_iter_data_loader = copy.deepcopy(data_loader)  # Add deepcopy to avoid data leakage\n",
    "models_params_for_tuning = get_folktables_employment_models_params_for_tuning2(experiment_seed)"
   ]
  },
  {
   "cell_type": "code",
   "execution_count": 2,
   "id": "3e9bad38",
   "metadata": {
    "ExecuteTime": {
     "end_time": "2024-01-03T22:18:19.039982Z",
     "start_time": "2024-01-03T22:18:19.031586Z"
    }
   },
   "outputs": [],
   "source": [
    "run_exp_iter_with_eq_odds(data_loader=exp_iter_data_loader,\n",
    "                          experiment_seed=experiment_seed,\n",
    "                          test_set_fraction=TEST_SET_FRACTION,\n",
    "                          db_writer_func=db_writer_func,\n",
    "                          fair_intervention_params_lst=FAIR_INTERVENTION_PARAMS_LST,\n",
    "                          models_params_for_tuning=models_params_for_tuning,\n",
    "                          metrics_computation_config=metrics_computation_config,\n",
    "                          custom_table_fields_dct=custom_table_fields_dct,\n",
    "                          # with_tuning=True,\n",
    "                          with_tuning=False,\n",
    "                          tuned_params_df_paths=tuned_params_df_paths,\n",
    "                          save_results_dir_path=SAVE_RESULTS_DIR_PATH,\n",
    "                          dataset_name=DATASET_NAME,\n",
    "                          verbose=True)"
   ]
  },
  {
   "cell_type": "markdown",
   "id": "389fe7b0",
   "metadata": {},
   "source": [
    "### Experiment iteration 4"
   ]
  },
  {
   "cell_type": "code",
   "execution_count": 11,
   "id": "30b64cfa",
   "metadata": {},
   "outputs": [],
   "source": [
    "# Configs for an experiment iteration\n",
    "exp_iter_num = 4\n",
    "experiment_seed = EXPERIMENT_SEEDS[exp_iter_num - 1]\n",
    "tuned_params_filenames = [\n",
    "    'tuning_results_Folktables_CA_2018_Public_Coverage_20240104__101021.csv'\n",
    "]\n",
    "tuned_params_df_paths = [os.path.join(ROOT_DIR, 'results', 'diff_fairness_interventions_exp',\n",
    "                                      'EqOddsPostprocessing', EXPERIMENT_NAME, tuned_params_filename)\n",
    "                         for tuned_params_filename in tuned_params_filenames]\n",
    "custom_table_fields_dct['experiment_iteration'] = f'Exp_iter_{exp_iter_num}'\n",
    "\n",
    "exp_iter_data_loader = copy.deepcopy(data_loader)  # Add deepcopy to avoid data leakage\n",
    "models_params_for_tuning = get_folktables_employment_models_params_for_tuning2(experiment_seed)"
   ]
  },
  {
   "cell_type": "code",
   "execution_count": 12,
   "id": "7eeb28f3",
   "metadata": {
    "ExecuteTime": {
     "end_time": "2024-01-03T22:18:24.538103Z",
     "start_time": "2024-01-03T22:18:24.530684Z"
    }
   },
   "outputs": [
    {
     "name": "stderr",
     "output_type": "stream",
     "text": [
      "2024-01-04 06:38:05 experiment_interface.py INFO    : Start an experiment iteration for the following custom params:\n",
      "INFO:root:Start an experiment iteration for the following custom params:\n"
     ]
    },
    {
     "name": "stdout",
     "output_type": "stream",
     "text": [
      "{'dataset_split_seed': 400,\n",
      " 'experiment_iteration': 'Exp_iter_4',\n",
      " 'fair_intervention_params_lst': '[True]',\n",
      " 'model_init_seed': 400,\n",
      " 'session_uuid': 'c1fbe1ae-f5e9-4ca1-8f38-abe1b118f95b'}\n",
      "\n",
      "\n"
     ]
    },
    {
     "data": {
      "application/vnd.jupyter.widget-view+json": {
       "model_id": "79ec9e406dab47989cd1556a0c6cc9e4",
       "version_major": 2,
       "version_minor": 0
      },
      "text/plain": [
       "Multiple alphas:   0%|          | 0/1 [00:00<?, ?it/s]"
      ]
     },
     "metadata": {},
     "output_type": "display_data"
    },
    {
     "name": "stderr",
     "output_type": "stream",
     "text": [
      "2024-01-04 06:38:05 experiment_interface.py INFO    : The dataset is preprocessed\n",
      "INFO:root:The dataset is preprocessed\n",
      "2024-01-04 06:38:05 experiment_interface.py INFO    : Models config is loaded from the input file\n",
      "INFO:root:Models config is loaded from the input file\n"
     ]
    },
    {
     "name": "stdout",
     "output_type": "stream",
     "text": [
      "intervention_options:  True\n",
      "cur_base_flow_dataset.X_train_val.columns:  Index(['cat__SCHL_1', 'cat__SCHL_10', 'cat__SCHL_11', 'cat__SCHL_12',\n",
      "       'cat__SCHL_13', 'cat__SCHL_14', 'cat__SCHL_15', 'cat__SCHL_16',\n",
      "       'cat__SCHL_17', 'cat__SCHL_18', 'cat__SCHL_19', 'cat__SCHL_2',\n",
      "       'cat__SCHL_20', 'cat__SCHL_21', 'cat__SCHL_22', 'cat__SCHL_23',\n",
      "       'cat__SCHL_24', 'cat__SCHL_3', 'cat__SCHL_4', 'cat__SCHL_5',\n",
      "       'cat__SCHL_6', 'cat__SCHL_7', 'cat__SCHL_8', 'cat__SCHL_9',\n",
      "       'cat__MAR_1', 'cat__MAR_2', 'cat__MAR_3', 'cat__MAR_4', 'cat__MAR_5',\n",
      "       'cat__DIS_1', 'cat__DIS_2', 'cat__ESP_0', 'cat__ESP_1', 'cat__ESP_2',\n",
      "       'cat__ESP_3', 'cat__ESP_4', 'cat__ESP_5', 'cat__ESP_6', 'cat__ESP_7',\n",
      "       'cat__ESP_8', 'cat__CIT_1', 'cat__CIT_2', 'cat__CIT_3', 'cat__CIT_4',\n",
      "       'cat__CIT_5', 'cat__MIG_1', 'cat__MIG_2', 'cat__MIG_3', 'cat__MIL_0',\n",
      "       'cat__MIL_1', 'cat__MIL_2', 'cat__MIL_3', 'cat__MIL_4', 'cat__ANC_1',\n",
      "       'cat__ANC_2', 'cat__ANC_3', 'cat__ANC_4', 'cat__NATIVITY_1',\n",
      "       'cat__NATIVITY_2', 'cat__DEAR_1', 'cat__DEAR_2', 'cat__DEYE_1',\n",
      "       'cat__DEYE_2', 'cat__DREM_1', 'cat__DREM_2', 'cat__ESR_0', 'cat__ESR_1',\n",
      "       'cat__ESR_2', 'cat__ESR_3', 'cat__ESR_4', 'cat__ESR_6', 'cat__ST_6',\n",
      "       'cat__FER_0', 'cat__FER_1', 'cat__FER_2', 'num__AGEP', 'num__PINCP',\n",
      "       'RACE'],\n",
      "      dtype='object')\n",
      "Top indexes of an X_test in the current base flow dataset:  Int64Index([ 6425, 11811, 14319,  3284,  9129,  5763,  7549,  1393, 13879,\n",
      "            14802,  8634, 10336,  1486, 14287,  8890,  5961, 10137, 14550,\n",
      "            14981, 11017],\n",
      "           dtype='int64')\n",
      "Top indexes of an y_test in the current base flow dataset:  Int64Index([ 6425, 11811, 14319,  3284,  9129,  5763,  7549,  1393, 13879,\n",
      "            14802,  8634, 10336,  1486, 14287,  8890,  5961, 10137, 14550,\n",
      "            14981, 11017],\n",
      "           dtype='int64')\n",
      "Path for tuned params:  /home/dh3553/projects/fairness-variance/results/diff_fairness_interventions_exp/EqOddsPostprocessing/EqOdds_acs_pubcov/tuning_results_Folktables_CA_2018_Public_Coverage_20240104__101021.csv\n",
      "MLPClassifier:  {'activation': 'tanh', 'alpha': 0.0001, 'batch_size': 'auto', 'beta_1': 0.9, 'beta_2': 0.999, 'early_stopping': False, 'epsilon': 1e-08, 'hidden_layer_sizes': (100, 100), 'learning_rate': 'adaptive', 'learning_rate_init': 0.001, 'max_fun': 15000, 'max_iter': 1000, 'momentum': 0.9, 'n_iter_no_change': 10, 'nesterovs_momentum': True, 'power_t': 0.5, 'random_state': 400, 'shuffle': True, 'solver': 'sgd', 'tol': 0.0001, 'validation_fraction': 0.1, 'verbose': False, 'warm_start': False}\n"
     ]
    },
    {
     "data": {
      "application/vnd.jupyter.widget-view+json": {
       "model_id": "58d1ddacfa2f47e9949f214eeffb8728",
       "version_major": 2,
       "version_minor": 0
      },
      "text/plain": [
       "Analyze multiple models:   0%|          | 0/1 [00:00<?, ?it/s]"
      ]
     },
     "metadata": {},
     "output_type": "display_data"
    },
    {
     "name": "stdout",
     "output_type": "stream",
     "text": [
      "Enabled a postprocessing mode\n"
     ]
    },
    {
     "data": {
      "application/vnd.jupyter.widget-view+json": {
       "model_id": "1b9af8e077cf4ee4b5309a9e5b605aea",
       "version_major": 2,
       "version_minor": 0
      },
      "text/plain": [
       "Classifiers testing by bootstrap:   0%|          | 0/200 [00:00<?, ?it/s]"
      ]
     },
     "metadata": {},
     "output_type": "display_data"
    }
   ],
   "source": [
    "run_exp_iter_with_eq_odds(data_loader=exp_iter_data_loader,\n",
    "                          experiment_seed=experiment_seed,\n",
    "                          test_set_fraction=TEST_SET_FRACTION,\n",
    "                          db_writer_func=db_writer_func,\n",
    "                          fair_intervention_params_lst=FAIR_INTERVENTION_PARAMS_LST,\n",
    "                          models_params_for_tuning=models_params_for_tuning,\n",
    "                          metrics_computation_config=metrics_computation_config,\n",
    "                          custom_table_fields_dct=custom_table_fields_dct,\n",
    "                          # with_tuning=True,\n",
    "                          with_tuning=False,\n",
    "                          tuned_params_df_paths=tuned_params_df_paths,\n",
    "                          save_results_dir_path=SAVE_RESULTS_DIR_PATH,\n",
    "                          dataset_name=DATASET_NAME,\n",
    "                          verbose=True)"
   ]
  },
  {
   "cell_type": "markdown",
   "id": "b18268f6",
   "metadata": {},
   "source": [
    "### Experiment iteration 5"
   ]
  },
  {
   "cell_type": "code",
   "execution_count": 27,
   "id": "0a27a806",
   "metadata": {},
   "outputs": [],
   "source": [
    "# Configs for an experiment iteration\n",
    "exp_iter_num = 5\n",
    "experiment_seed = EXPERIMENT_SEEDS[exp_iter_num - 1]\n",
    "tuned_params_filenames = [\n",
    "    'tuning_results_Folktables_CA_2018_Public_Coverage_20240104__101021.csv'\n",
    "]\n",
    "tuned_params_df_paths = [os.path.join(ROOT_DIR, 'results', 'diff_fairness_interventions_exp',\n",
    "                                      'EqOddsPostprocessing', EXPERIMENT_NAME, tuned_params_filename)\n",
    "                         for tuned_params_filename in tuned_params_filenames]\n",
    "custom_table_fields_dct['experiment_iteration'] = f'Exp_iter_{exp_iter_num}'\n",
    "\n",
    "exp_iter_data_loader = copy.deepcopy(data_loader)  # Add deepcopy to avoid data leakage\n",
    "models_params_for_tuning = get_folktables_employment_models_params_for_tuning2(experiment_seed)"
   ]
  },
  {
   "cell_type": "code",
   "execution_count": 4,
   "id": "bb64bba8",
   "metadata": {
    "ExecuteTime": {
     "end_time": "2024-01-03T22:18:29.050787Z",
     "start_time": "2024-01-03T22:18:29.045886Z"
    }
   },
   "outputs": [],
   "source": [
    "run_exp_iter_with_eq_odds(data_loader=exp_iter_data_loader,\n",
    "                          experiment_seed=experiment_seed,\n",
    "                          test_set_fraction=TEST_SET_FRACTION,\n",
    "                          db_writer_func=db_writer_func,\n",
    "                          fair_intervention_params_lst=FAIR_INTERVENTION_PARAMS_LST,\n",
    "                          models_params_for_tuning=models_params_for_tuning,\n",
    "                          metrics_computation_config=metrics_computation_config,\n",
    "                          custom_table_fields_dct=custom_table_fields_dct,\n",
    "                          # with_tuning=True,\n",
    "                          with_tuning=False,\n",
    "                          tuned_params_df_paths=tuned_params_df_paths,\n",
    "                          save_results_dir_path=SAVE_RESULTS_DIR_PATH,\n",
    "                          dataset_name=DATASET_NAME,\n",
    "                          verbose=True)"
   ]
  },
  {
   "cell_type": "markdown",
   "id": "26d60280",
   "metadata": {},
   "source": [
    "### Experiment iteration 6"
   ]
  },
  {
   "cell_type": "code",
   "execution_count": 29,
   "id": "d9025244",
   "metadata": {},
   "outputs": [],
   "source": [
    "# Configs for an experiment iteration\n",
    "exp_iter_num = 6\n",
    "experiment_seed = EXPERIMENT_SEEDS[exp_iter_num - 1]\n",
    "tuned_params_filenames = [\n",
    "    'tuning_results_Folktables_CA_2018_Public_Coverage_20240104__101021.csv'\n",
    "]\n",
    "tuned_params_df_paths = [os.path.join(ROOT_DIR, 'results', 'diff_fairness_interventions_exp',\n",
    "                                      'EqOddsPostprocessing', EXPERIMENT_NAME, tuned_params_filename)\n",
    "                         for tuned_params_filename in tuned_params_filenames]\n",
    "custom_table_fields_dct['experiment_iteration'] = f'Exp_iter_{exp_iter_num}'\n",
    "\n",
    "exp_iter_data_loader = copy.deepcopy(data_loader)  # Add deepcopy to avoid data leakage\n",
    "models_params_for_tuning = get_folktables_employment_models_params_for_tuning2(experiment_seed)"
   ]
  },
  {
   "cell_type": "code",
   "execution_count": 5,
   "id": "d3dbed98",
   "metadata": {
    "ExecuteTime": {
     "end_time": "2024-01-03T22:18:33.438196Z",
     "start_time": "2024-01-03T22:18:33.433760Z"
    }
   },
   "outputs": [],
   "source": [
    "run_exp_iter_with_eq_odds(data_loader=exp_iter_data_loader,\n",
    "                          experiment_seed=experiment_seed,\n",
    "                          test_set_fraction=TEST_SET_FRACTION,\n",
    "                          db_writer_func=db_writer_func,\n",
    "                          fair_intervention_params_lst=FAIR_INTERVENTION_PARAMS_LST,\n",
    "                          models_params_for_tuning=models_params_for_tuning,\n",
    "                          metrics_computation_config=metrics_computation_config,\n",
    "                          custom_table_fields_dct=custom_table_fields_dct,\n",
    "                          # with_tuning=True,\n",
    "                          with_tuning=False,\n",
    "                          tuned_params_df_paths=tuned_params_df_paths,\n",
    "                          save_results_dir_path=SAVE_RESULTS_DIR_PATH,\n",
    "                          dataset_name=DATASET_NAME,\n",
    "                          verbose=True)"
   ]
  },
  {
   "cell_type": "code",
   "execution_count": null,
   "id": "65d7d36b",
   "metadata": {},
   "outputs": [],
   "source": []
  }
 ],
 "metadata": {
  "kernelspec": {
   "display_name": "Python 3",
   "language": "python",
   "name": "python3"
  },
  "language_info": {
   "codemirror_mode": {
    "name": "ipython",
    "version": 3
   },
   "file_extension": ".py",
   "mimetype": "text/x-python",
   "name": "python",
   "nbconvert_exporter": "python",
   "pygments_lexer": "ipython3",
   "version": "3.8.5"
  }
 },
 "nbformat": 4,
 "nbformat_minor": 5
}
