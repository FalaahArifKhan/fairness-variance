{
 "cells": [
  {
   "cell_type": "code",
   "execution_count": 15,
   "id": "d9ffc03a",
   "metadata": {},
   "outputs": [],
   "source": [
    "# !pip install -r ./requirements.txt"
   ]
  },
  {
   "cell_type": "code",
   "execution_count": 6,
   "id": "2d3cfc43",
   "metadata": {},
   "outputs": [],
   "source": [
    "# !pip uninstall virny -y"
   ]
  },
  {
   "cell_type": "code",
   "execution_count": 8,
   "id": "d9be2c2a",
   "metadata": {},
   "outputs": [],
   "source": [
    "# Install using an HTTP link\n",
    "# !pip install git+https://github.com/DataResponsibly/Virny.git@development\n",
    "\n",
    "# Install using an SSH link\n",
    "# !pip install git+ssh://git@github.com/DataResponsibly/Virny.git@development"
   ]
  },
  {
   "cell_type": "code",
   "execution_count": 9,
   "id": "3a66f486",
   "metadata": {},
   "outputs": [],
   "source": [
    "# !pip install aif360"
   ]
  },
  {
   "cell_type": "code",
   "execution_count": 10,
   "id": "457f0f9f",
   "metadata": {},
   "outputs": [],
   "source": [
    "# !pip install BlackBoxAuditing==0.1.54"
   ]
  },
  {
   "cell_type": "code",
   "execution_count": 1,
   "id": "b2a7c2da",
   "metadata": {},
   "outputs": [],
   "source": [
    "%matplotlib inline\n",
    "%load_ext autoreload\n",
    "%autoreload 2"
   ]
  },
  {
   "cell_type": "code",
   "execution_count": 2,
   "id": "d0f31e26",
   "metadata": {},
   "outputs": [],
   "source": [
    "import os\n",
    "import warnings\n",
    "warnings.filterwarnings('ignore')\n",
    "os.environ[\"PYTHONWARNINGS\"] = \"ignore\""
   ]
  },
  {
   "cell_type": "code",
   "execution_count": 3,
   "id": "d551a663",
   "metadata": {},
   "outputs": [
    {
     "name": "stdout",
     "output_type": "stream",
     "text": [
      "Current location:  /home/dh3553/projects/fairness-variance\n"
     ]
    }
   ],
   "source": [
    "cur_folder_name = os.getcwd().split('/')[-1]\n",
    "if cur_folder_name != \"fairness-variance\":\n",
    "    os.chdir(\"../..\")\n",
    "\n",
    "print('Current location: ', os.getcwd())"
   ]
  },
  {
   "cell_type": "markdown",
   "id": "15f461e7",
   "metadata": {},
   "source": [
    "## Import dependencies"
   ]
  },
  {
   "cell_type": "code",
   "execution_count": 4,
   "id": "ab145ef7",
   "metadata": {},
   "outputs": [
    {
     "name": "stderr",
     "output_type": "stream",
     "text": [
      "WARNING:root:No module named 'tempeh': LawSchoolGPADataset will be unavailable. To install, run:\n",
      "pip install 'aif360[LawSchoolGPA]'\n",
      "WARNING:root:No module named 'tensorflow': AdversarialDebiasing will be unavailable. To install, run:\n",
      "pip install 'aif360[AdversarialDebiasing]'\n",
      "WARNING:root:No module named 'tensorflow': AdversarialDebiasing will be unavailable. To install, run:\n",
      "pip install 'aif360[AdversarialDebiasing]'\n"
     ]
    }
   ],
   "source": [
    "import os\n",
    "import copy\n",
    "\n",
    "from virny.utils.custom_initializers import create_config_obj\n",
    "from virny.datasets import LawSchoolDataset\n",
    "\n",
    "from configs.constants import TEST_SET_FRACTION, EXPERIMENT_SEEDS\n",
    "from configs.models_config_for_tuning import get_model_params_for_mult_repair_levels\n",
    "\n",
    "from source.preprocessing import get_simple_preprocessor\n",
    "from source.experiment_interface import run_exp_iter_with_disparate_impact"
   ]
  },
  {
   "cell_type": "markdown",
   "id": "f12caeaf",
   "metadata": {},
   "source": [
    "## Define Input Variables"
   ]
  },
  {
   "cell_type": "code",
   "execution_count": 5,
   "id": "4507445c",
   "metadata": {},
   "outputs": [],
   "source": [
    "# ROOT_DIR = os.path.join(os.getcwd(), \"..\", \"..\")\n",
    "ROOT_DIR = os.getcwd()\n",
    "EXPERIMENT_NAME = 'mult_repair_levels_law_school'\n",
    "DB_COLLECTION_NAME = 'exp_mult_repair_levels'\n",
    "DATASET_NAME = 'LawSchoolDataset'\n",
    "SAVE_RESULTS_DIR_PATH = os.path.join(ROOT_DIR, 'results', EXPERIMENT_NAME)\n",
    "# FAIR_INTERVENTION_PARAMS_LST = [0.0, 0.1, 0.2, 0.3, 0.4, 0.5, 0.6, 0.7, 0.8, 0.9, 1.0]\n",
    "FAIR_INTERVENTION_PARAMS_LST = [0.1, 0.9]\n",
    "\n",
    "config_yaml_path = os.path.join(ROOT_DIR, 'notebooks', EXPERIMENT_NAME, 'law_school_2018_config.yaml')\n",
    "metrics_computation_config = create_config_obj(config_yaml_path=config_yaml_path)"
   ]
  },
  {
   "cell_type": "markdown",
   "id": "c0751997",
   "metadata": {},
   "source": [
    "## Define a db writer and custom fields to insert into your database"
   ]
  },
  {
   "cell_type": "code",
   "execution_count": 6,
   "id": "4c30a0e0",
   "metadata": {},
   "outputs": [
    {
     "data": {
      "text/plain": [
       "'fairness_variance'"
      ]
     },
     "execution_count": 6,
     "metadata": {},
     "output_type": "execute_result"
    }
   ],
   "source": [
    "import os\n",
    "from dotenv import load_dotenv\n",
    "\n",
    "load_dotenv('./configs/secrets.env')\n",
    "os.getenv(\"DB_NAME\")"
   ]
  },
  {
   "cell_type": "code",
   "execution_count": 7,
   "id": "bca7dde9",
   "metadata": {},
   "outputs": [],
   "source": [
    "from source.utils.db_functions import connect_to_mongodb\n",
    "\n",
    "client, collection_obj, db_writer_func = connect_to_mongodb(DB_COLLECTION_NAME)"
   ]
  },
  {
   "cell_type": "code",
   "execution_count": 8,
   "id": "b082f77f",
   "metadata": {},
   "outputs": [
    {
     "name": "stdout",
     "output_type": "stream",
     "text": [
      "Current session uuid:  9430484b-bec6-42a0-ac65-11c53446a61f\n"
     ]
    }
   ],
   "source": [
    "import uuid\n",
    "\n",
    "custom_table_fields_dct = {\n",
    "#     'session_uuid': str(uuid.uuid4()),\n",
    "    'session_uuid': '9430484b-bec6-42a0-ac65-11c53446a61f',\n",
    "}\n",
    "print('Current session uuid: ', custom_table_fields_dct['session_uuid'])"
   ]
  },
  {
   "cell_type": "markdown",
   "id": "31ffe3e2",
   "metadata": {},
   "source": [
    "## Initialize custom objects"
   ]
  },
  {
   "cell_type": "code",
   "execution_count": 9,
   "id": "23b6707e",
   "metadata": {},
   "outputs": [
    {
     "data": {
      "text/html": [
       "<div>\n",
       "<style scoped>\n",
       "    .dataframe tbody tr th:only-of-type {\n",
       "        vertical-align: middle;\n",
       "    }\n",
       "\n",
       "    .dataframe tbody tr th {\n",
       "        vertical-align: top;\n",
       "    }\n",
       "\n",
       "    .dataframe thead th {\n",
       "        text-align: right;\n",
       "    }\n",
       "</style>\n",
       "<table border=\"1\" class=\"dataframe\">\n",
       "  <thead>\n",
       "    <tr style=\"text-align: right;\">\n",
       "      <th></th>\n",
       "      <th>decile1b</th>\n",
       "      <th>decile3</th>\n",
       "      <th>lsat</th>\n",
       "      <th>ugpa</th>\n",
       "      <th>zfygpa</th>\n",
       "      <th>zgpa</th>\n",
       "      <th>fulltime</th>\n",
       "      <th>fam_inc</th>\n",
       "      <th>male</th>\n",
       "      <th>tier</th>\n",
       "      <th>race</th>\n",
       "    </tr>\n",
       "  </thead>\n",
       "  <tbody>\n",
       "    <tr>\n",
       "      <th>0</th>\n",
       "      <td>10.0</td>\n",
       "      <td>10.0</td>\n",
       "      <td>44.0</td>\n",
       "      <td>3.5</td>\n",
       "      <td>1.33</td>\n",
       "      <td>1.88</td>\n",
       "      <td>1.0</td>\n",
       "      <td>5.0</td>\n",
       "      <td>0.0</td>\n",
       "      <td>4.0</td>\n",
       "      <td>White</td>\n",
       "    </tr>\n",
       "    <tr>\n",
       "      <th>1</th>\n",
       "      <td>5.0</td>\n",
       "      <td>4.0</td>\n",
       "      <td>29.0</td>\n",
       "      <td>3.5</td>\n",
       "      <td>-0.11</td>\n",
       "      <td>-0.57</td>\n",
       "      <td>1.0</td>\n",
       "      <td>4.0</td>\n",
       "      <td>0.0</td>\n",
       "      <td>2.0</td>\n",
       "      <td>White</td>\n",
       "    </tr>\n",
       "    <tr>\n",
       "      <th>2</th>\n",
       "      <td>8.0</td>\n",
       "      <td>7.0</td>\n",
       "      <td>37.0</td>\n",
       "      <td>3.4</td>\n",
       "      <td>0.63</td>\n",
       "      <td>0.37</td>\n",
       "      <td>1.0</td>\n",
       "      <td>3.0</td>\n",
       "      <td>1.0</td>\n",
       "      <td>4.0</td>\n",
       "      <td>White</td>\n",
       "    </tr>\n",
       "    <tr>\n",
       "      <th>3</th>\n",
       "      <td>8.0</td>\n",
       "      <td>7.0</td>\n",
       "      <td>43.0</td>\n",
       "      <td>3.3</td>\n",
       "      <td>0.67</td>\n",
       "      <td>0.34</td>\n",
       "      <td>1.0</td>\n",
       "      <td>4.0</td>\n",
       "      <td>0.0</td>\n",
       "      <td>4.0</td>\n",
       "      <td>White</td>\n",
       "    </tr>\n",
       "    <tr>\n",
       "      <th>4</th>\n",
       "      <td>3.0</td>\n",
       "      <td>2.0</td>\n",
       "      <td>41.0</td>\n",
       "      <td>3.3</td>\n",
       "      <td>-0.67</td>\n",
       "      <td>-1.30</td>\n",
       "      <td>1.0</td>\n",
       "      <td>4.0</td>\n",
       "      <td>0.0</td>\n",
       "      <td>5.0</td>\n",
       "      <td>White</td>\n",
       "    </tr>\n",
       "  </tbody>\n",
       "</table>\n",
       "</div>"
      ],
      "text/plain": [
       "   decile1b  decile3  lsat  ugpa  zfygpa  zgpa fulltime fam_inc male tier  \\\n",
       "0      10.0     10.0  44.0   3.5    1.33  1.88      1.0     5.0  0.0  4.0   \n",
       "1       5.0      4.0  29.0   3.5   -0.11 -0.57      1.0     4.0  0.0  2.0   \n",
       "2       8.0      7.0  37.0   3.4    0.63  0.37      1.0     3.0  1.0  4.0   \n",
       "3       8.0      7.0  43.0   3.3    0.67  0.34      1.0     4.0  0.0  4.0   \n",
       "4       3.0      2.0  41.0   3.3   -0.67 -1.30      1.0     4.0  0.0  5.0   \n",
       "\n",
       "    race  \n",
       "0  White  \n",
       "1  White  \n",
       "2  White  \n",
       "3  White  \n",
       "4  White  "
      ]
     },
     "execution_count": 9,
     "metadata": {},
     "output_type": "execute_result"
    }
   ],
   "source": [
    "data_loader = LawSchoolDataset()\n",
    "data_loader.X_data.head()"
   ]
  },
  {
   "cell_type": "code",
   "execution_count": 10,
   "id": "9368d030",
   "metadata": {},
   "outputs": [
    {
     "data": {
      "text/plain": [
       "(20798, 11)"
      ]
     },
     "execution_count": 10,
     "metadata": {},
     "output_type": "execute_result"
    }
   ],
   "source": [
    "data_loader.X_data.shape"
   ]
  },
  {
   "cell_type": "code",
   "execution_count": 11,
   "id": "bd8f74d0",
   "metadata": {},
   "outputs": [
    {
     "data": {
      "text/plain": [
       "decile1b    float64\n",
       "decile3     float64\n",
       "lsat        float64\n",
       "ugpa        float64\n",
       "zfygpa      float64\n",
       "zgpa        float64\n",
       "fulltime     object\n",
       "fam_inc      object\n",
       "male         object\n",
       "tier         object\n",
       "race         object\n",
       "dtype: object"
      ]
     },
     "execution_count": 11,
     "metadata": {},
     "output_type": "execute_result"
    }
   ],
   "source": [
    "data_loader.X_data.dtypes"
   ]
  },
  {
   "cell_type": "code",
   "execution_count": 12,
   "id": "5df4194a",
   "metadata": {},
   "outputs": [
    {
     "data": {
      "text/plain": [
       "1.0    18505\n",
       "0.0     2293\n",
       "Name: pass_bar, dtype: int64"
      ]
     },
     "execution_count": 12,
     "metadata": {},
     "output_type": "execute_result"
    }
   ],
   "source": [
    "data_loader.y_data.value_counts()"
   ]
  },
  {
   "cell_type": "code",
   "execution_count": 13,
   "id": "26dc5afa",
   "metadata": {},
   "outputs": [
    {
     "data": {
      "text/plain": [
       "White        17491\n",
       "Non-White     3307\n",
       "Name: race, dtype: int64"
      ]
     },
     "execution_count": 13,
     "metadata": {},
     "output_type": "execute_result"
    }
   ],
   "source": [
    "data_loader.X_data['race'].value_counts()"
   ]
  },
  {
   "cell_type": "code",
   "execution_count": 14,
   "id": "141f35e3",
   "metadata": {},
   "outputs": [
    {
     "data": {
      "text/plain": [
       "1.0    11675\n",
       "0.0     9123\n",
       "Name: male, dtype: int64"
      ]
     },
     "execution_count": 14,
     "metadata": {},
     "output_type": "execute_result"
    }
   ],
   "source": [
    "data_loader.X_data['male'].value_counts()"
   ]
  },
  {
   "cell_type": "markdown",
   "id": "f4093e51",
   "metadata": {},
   "source": [
    "## Run experiment iterations"
   ]
  },
  {
   "cell_type": "markdown",
   "id": "3654849d",
   "metadata": {},
   "source": [
    "### Experiment iteration 1"
   ]
  },
  {
   "cell_type": "code",
   "execution_count": 79,
   "id": "a28ac3ba",
   "metadata": {},
   "outputs": [],
   "source": [
    "# tuned_params_filenames = ['tuning_results_Folktables_NY_2018_Employment_alpha_0.8_20230706__115508.csv']\n",
    "# tuned_params_df_paths = [os.path.join(ROOT_DIR, 'results', EXPERIMENT_NAME, tuned_params_filename)\n",
    "#                          for tuned_params_filename in tuned_params_filenames]"
   ]
  },
  {
   "cell_type": "code",
   "execution_count": 80,
   "id": "8c385ea5",
   "metadata": {},
   "outputs": [],
   "source": [
    "# Configs for an experiment iteration\n",
    "exp_iter_num = 1\n",
    "experiment_seed = EXPERIMENT_SEEDS[exp_iter_num - 1]\n",
    "custom_table_fields_dct['experiment_iteration'] = f'Exp_iter_{exp_iter_num}'\n",
    "\n",
    "exp_iter_data_loader = copy.deepcopy(data_loader)  # Add deepcopy to avoid data leakage\n",
    "models_params_for_tuning = get_model_params_for_mult_repair_levels(experiment_seed)"
   ]
  },
  {
   "cell_type": "code",
   "execution_count": 81,
   "id": "c62a4367",
   "metadata": {},
   "outputs": [
    {
     "name": "stderr",
     "output_type": "stream",
     "text": [
      "2023-08-06 15:52:20 experiment_interface.py INFO    : Start an experiment iteration for the following custom params:\n",
      "INFO:root:Start an experiment iteration for the following custom params:\n"
     ]
    },
    {
     "name": "stdout",
     "output_type": "stream",
     "text": [
      "{'dataset_split_seed': 100,\n",
      " 'experiment_iteration': 'Exp_iter_1',\n",
      " 'fair_intervention_params_lst': '[0.1, 0.3]',\n",
      " 'model_init_seed': 100,\n",
      " 'session_uuid': '9430484b-bec6-42a0-ac65-11c53446a61f'}\n",
      "\n",
      "\n"
     ]
    },
    {
     "name": "stderr",
     "output_type": "stream",
     "text": [
      "2023-08-06 15:52:20 experiment_interface.py INFO    : The dataset is preprocessed\n",
      "INFO:root:The dataset is preprocessed\n"
     ]
    },
    {
     "name": "stdout",
     "output_type": "stream",
     "text": [
      "Top indexes of an X_test in a base flow dataset:  Int64Index([ 7102,   593, 18841,  5078, 14172,  8064, 13554, 13401, 17015,\n",
      "            18446,  6938,  3450,  9375, 19994, 16100,  4401,   142, 15143,\n",
      "             2188,  4332],\n",
      "           dtype='int64')\n",
      "Top indexes of an y_test in a base flow dataset:  Int64Index([ 7102,   593, 18841,  5078, 14172,  8064, 13554, 13401, 17015,\n",
      "            18446,  6938,  3450,  9375, 19994, 16100,  4401,   142, 15143,\n",
      "             2188,  4332],\n",
      "           dtype='int64')\n"
     ]
    },
    {
     "data": {
      "application/vnd.jupyter.widget-view+json": {
       "model_id": "8ce0b7c840cf42c483246532114ab7c0",
       "version_major": 2,
       "version_minor": 0
      },
      "text/plain": [
       "Multiple alphas:   0%|          | 0/2 [00:00<?, ?it/s]"
      ]
     },
     "metadata": {},
     "output_type": "display_data"
    },
    {
     "name": "stdout",
     "output_type": "stream",
     "text": [
      "intervention_param:  0.1\n",
      "2023/08/06, 15:52:22: Tuning RandomForestClassifier...\n"
     ]
    },
    {
     "name": "stderr",
     "output_type": "stream",
     "text": [
      "2023-08-06 15:58:40 experiment_interface.py INFO    : Models are tuned and saved to a file\n",
      "INFO:root:Models are tuned and saved to a file\n"
     ]
    },
    {
     "name": "stdout",
     "output_type": "stream",
     "text": [
      "2023/08/06, 15:58:40: Tuning for RandomForestClassifier is finished [F1 score = 0.6426024902408707, Accuracy = 0.8900641025641026]\n",
      "\n"
     ]
    },
    {
     "data": {
      "application/vnd.jupyter.widget-view+json": {
       "model_id": "81b5e596be904c8e882647a123089b32",
       "version_major": 2,
       "version_minor": 0
      },
      "text/plain": [
       "Multiple runs progress:   0%|          | 0/1 [00:00<?, ?it/s]"
      ]
     },
     "metadata": {},
     "output_type": "display_data"
    },
    {
     "data": {
      "application/vnd.jupyter.widget-view+json": {
       "model_id": "35f78738004546a49ff06d5058f9c40d",
       "version_major": 2,
       "version_minor": 0
      },
      "text/plain": [
       "Analyze models in one run:   0%|          | 0/1 [00:00<?, ?it/s]"
      ]
     },
     "metadata": {},
     "output_type": "display_data"
    },
    {
     "data": {
      "application/vnd.jupyter.widget-view+json": {
       "model_id": "9a4ca16074fc46eaa6e1915f07602c6c",
       "version_major": 2,
       "version_minor": 0
      },
      "text/plain": [
       "Classifiers testing by bootstrap:   0%|          | 0/200 [00:00<?, ?it/s]"
      ]
     },
     "metadata": {},
     "output_type": "display_data"
    },
    {
     "name": "stdout",
     "output_type": "stream",
     "text": [
      "intervention_param:  0.3\n",
      "2023/08/06, 16:24:58: Tuning RandomForestClassifier...\n",
      "2023/08/06, 16:31:10: Tuning for RandomForestClassifier is finished [F1 score = 0.6450669297827822, Accuracy = 0.8963141025641025]\n",
      "\n"
     ]
    },
    {
     "data": {
      "application/vnd.jupyter.widget-view+json": {
       "model_id": "0d22e4b6678c4331b4bbc2fd0a29a710",
       "version_major": 2,
       "version_minor": 0
      },
      "text/plain": [
       "Multiple runs progress:   0%|          | 0/1 [00:00<?, ?it/s]"
      ]
     },
     "metadata": {},
     "output_type": "display_data"
    },
    {
     "data": {
      "application/vnd.jupyter.widget-view+json": {
       "model_id": "067553a5a63e40aca909e9f09c5b2e48",
       "version_major": 2,
       "version_minor": 0
      },
      "text/plain": [
       "Analyze models in one run:   0%|          | 0/1 [00:00<?, ?it/s]"
      ]
     },
     "metadata": {},
     "output_type": "display_data"
    },
    {
     "data": {
      "application/vnd.jupyter.widget-view+json": {
       "model_id": "1325afbfad9e4072aac2a78e178ccc67",
       "version_major": 2,
       "version_minor": 0
      },
      "text/plain": [
       "Classifiers testing by bootstrap:   0%|          | 0/200 [00:00<?, ?it/s]"
      ]
     },
     "metadata": {},
     "output_type": "display_data"
    }
   ],
   "source": [
    "run_exp_iter_with_disparate_impact(data_loader=exp_iter_data_loader,\n",
    "                                   experiment_seed=experiment_seed,\n",
    "                                   test_set_fraction=TEST_SET_FRACTION,\n",
    "                                   db_writer_func=db_writer_func,\n",
    "                                   fair_intervention_params_lst=FAIR_INTERVENTION_PARAMS_LST,\n",
    "                                   models_params_for_tuning=models_params_for_tuning,\n",
    "                                   metrics_computation_config=metrics_computation_config,\n",
    "                                   custom_table_fields_dct=custom_table_fields_dct,\n",
    "                                   with_tuning=True,\n",
    "                                   # with_tuning=False,\n",
    "                                   # tuned_params_df_paths=tuned_params_df_paths,\n",
    "                                   save_results_dir_path=SAVE_RESULTS_DIR_PATH,\n",
    "                                   verbose=True, \n",
    "                                   dataset_name=DATASET_NAME)"
   ]
  },
  {
   "cell_type": "markdown",
   "id": "4a0373ae",
   "metadata": {},
   "source": [
    "### Experiment iteration 2"
   ]
  },
  {
   "cell_type": "code",
   "execution_count": 44,
   "id": "15d5757a",
   "metadata": {},
   "outputs": [],
   "source": [
    "# Configs for an experiment iteration\n",
    "exp_iter_num = 2\n",
    "experiment_seed = EXPERIMENT_SEEDS[exp_iter_num - 1]\n",
    "tuned_params_filenames = [\n",
    "    'tuning_results_Law_School_alpha_0.1_20230806__195840.csv',\n",
    "    'tuning_results_Law_School_alpha_0.9_20230806__195951.csv',\n",
    "]\n",
    "tuned_params_df_paths = [os.path.join(ROOT_DIR, 'results', EXPERIMENT_NAME, tuned_params_filename)\n",
    "                         for tuned_params_filename in tuned_params_filenames]\n",
    "custom_table_fields_dct['experiment_iteration'] = f'Exp_iter_{exp_iter_num}'\n",
    "\n",
    "exp_iter_data_loader = copy.deepcopy(data_loader)  # Add deepcopy to avoid data leakage\n",
    "models_params_for_tuning = get_model_params_for_mult_repair_levels(experiment_seed)"
   ]
  },
  {
   "cell_type": "code",
   "execution_count": 45,
   "id": "0346df57",
   "metadata": {},
   "outputs": [
    {
     "name": "stderr",
     "output_type": "stream",
     "text": [
      "2023-07-31 14:43:04 experiment_interface.py INFO    : Start an experiment iteration for the following custom params:\n",
      "INFO:root:Start an experiment iteration for the following custom params:\n"
     ]
    },
    {
     "name": "stdout",
     "output_type": "stream",
     "text": [
      "{'dataset_split_seed': 200,\n",
      " 'experiment_iteration': 'Exp_iter_2',\n",
      " 'fair_intervention_params_lst': '[0.0, 0.1, 0.2, 0.3, 0.4]',\n",
      " 'model_init_seed': 200,\n",
      " 'session_uuid': '116104d6-7d63-4564-ae57-82b19b260fa5'}\n",
      "\n",
      "\n"
     ]
    },
    {
     "name": "stderr",
     "output_type": "stream",
     "text": [
      "2023-07-31 14:43:04 experiment_interface.py INFO    : The dataset is preprocessed\n",
      "INFO:root:The dataset is preprocessed\n"
     ]
    },
    {
     "name": "stdout",
     "output_type": "stream",
     "text": [
      "Top indexes of an X_test in a base flow dataset:  Int64Index([ 6043,  3745,  5159,  7241,  7820,  3695, 11501, 11432,  1163,\n",
      "             8994,  7972,  2554,  9884,  2008,  6884, 11995,  5200,  4649,\n",
      "            10244, 13775],\n",
      "           dtype='int64')\n",
      "Top indexes of an y_test in a base flow dataset:  Int64Index([ 6043,  3745,  5159,  7241,  7820,  3695, 11501, 11432,  1163,\n",
      "             8994,  7972,  2554,  9884,  2008,  6884, 11995,  5200,  4649,\n",
      "            10244, 13775],\n",
      "           dtype='int64')\n"
     ]
    },
    {
     "data": {
      "application/vnd.jupyter.widget-view+json": {
       "model_id": "a61112d4f671449ea75500898e668cf2",
       "version_major": 2,
       "version_minor": 0
      },
      "text/plain": [
       "Multiple alphas:   0%|          | 0/5 [00:00<?, ?it/s]"
      ]
     },
     "metadata": {},
     "output_type": "display_data"
    },
    {
     "name": "stdout",
     "output_type": "stream",
     "text": [
      "intervention_param:  0.0\n"
     ]
    },
    {
     "name": "stderr",
     "output_type": "stream",
     "text": [
      "2023-07-31 14:43:07 experiment_interface.py INFO    : Models config is loaded from the input file\n",
      "INFO:root:Models config is loaded from the input file\n"
     ]
    },
    {
     "name": "stdout",
     "output_type": "stream",
     "text": [
      "Path for tuned params:  /home/dh3553/projects/fairness-variance/results/mult_repair_levels_pubcov_CA/tuning_results_Folktables_CA_2018_Public_Coverage_alpha_0.0_20230731__173053.csv\n",
      "RandomForestClassifier:  {'bootstrap': True, 'ccp_alpha': 0.0, 'class_weight': None, 'criterion': 'gini', 'max_depth': 30, 'max_features': 'sqrt', 'max_leaf_nodes': None, 'max_samples': None, 'min_impurity_decrease': 0.0, 'min_samples_leaf': 2, 'min_samples_split': 2, 'min_weight_fraction_leaf': 0.0, 'n_estimators': 100, 'n_jobs': None, 'oob_score': False, 'random_state': 200, 'verbose': 0, 'warm_start': False}\n"
     ]
    },
    {
     "data": {
      "application/vnd.jupyter.widget-view+json": {
       "model_id": "cf858e906e464a2d8d6ef38b1292b045",
       "version_major": 2,
       "version_minor": 0
      },
      "text/plain": [
       "Multiple runs progress:   0%|          | 0/1 [00:00<?, ?it/s]"
      ]
     },
     "metadata": {},
     "output_type": "display_data"
    },
    {
     "data": {
      "application/vnd.jupyter.widget-view+json": {
       "model_id": "e8610f51651f42ce9904495d1e7ad1af",
       "version_major": 2,
       "version_minor": 0
      },
      "text/plain": [
       "Analyze models in one run:   0%|          | 0/1 [00:00<?, ?it/s]"
      ]
     },
     "metadata": {},
     "output_type": "display_data"
    },
    {
     "data": {
      "application/vnd.jupyter.widget-view+json": {
       "model_id": "357be48bb32f4419a6a52f2f52fb8288",
       "version_major": 2,
       "version_minor": 0
      },
      "text/plain": [
       "Classifiers testing by bootstrap:   0%|          | 0/200 [00:00<?, ?it/s]"
      ]
     },
     "metadata": {},
     "output_type": "display_data"
    },
    {
     "name": "stdout",
     "output_type": "stream",
     "text": [
      "intervention_param:  0.1\n",
      "Path for tuned params:  /home/dh3553/projects/fairness-variance/results/mult_repair_levels_pubcov_CA/tuning_results_Folktables_CA_2018_Public_Coverage_alpha_0.1_20230731__174151.csv\n",
      "RandomForestClassifier:  {'bootstrap': False, 'ccp_alpha': 0.0, 'class_weight': None, 'criterion': 'gini', 'max_depth': 40, 'max_features': 'sqrt', 'max_leaf_nodes': None, 'max_samples': None, 'min_impurity_decrease': 0.0, 'min_samples_leaf': 2, 'min_samples_split': 10, 'min_weight_fraction_leaf': 0.0, 'n_estimators': 100, 'n_jobs': None, 'oob_score': False, 'random_state': 201, 'verbose': 0, 'warm_start': False}\n"
     ]
    },
    {
     "data": {
      "application/vnd.jupyter.widget-view+json": {
       "model_id": "fe5f5a656c024752a4d2eba155c40544",
       "version_major": 2,
       "version_minor": 0
      },
      "text/plain": [
       "Multiple runs progress:   0%|          | 0/1 [00:00<?, ?it/s]"
      ]
     },
     "metadata": {},
     "output_type": "display_data"
    },
    {
     "data": {
      "application/vnd.jupyter.widget-view+json": {
       "model_id": "dea80e750b054925a6311b8a6ef50bdf",
       "version_major": 2,
       "version_minor": 0
      },
      "text/plain": [
       "Analyze models in one run:   0%|          | 0/1 [00:00<?, ?it/s]"
      ]
     },
     "metadata": {},
     "output_type": "display_data"
    },
    {
     "data": {
      "application/vnd.jupyter.widget-view+json": {
       "model_id": "5f2809aadd424ece82c08630e8c75148",
       "version_major": 2,
       "version_minor": 0
      },
      "text/plain": [
       "Classifiers testing by bootstrap:   0%|          | 0/200 [00:00<?, ?it/s]"
      ]
     },
     "metadata": {},
     "output_type": "display_data"
    },
    {
     "name": "stdout",
     "output_type": "stream",
     "text": [
      "intervention_param:  0.2\n",
      "Path for tuned params:  /home/dh3553/projects/fairness-variance/results/mult_repair_levels_pubcov_CA/tuning_results_Folktables_CA_2018_Public_Coverage_alpha_0.2_20230731__173153.csv\n",
      "RandomForestClassifier:  {'bootstrap': True, 'ccp_alpha': 0.0, 'class_weight': None, 'criterion': 'gini', 'max_depth': 30, 'max_features': 'sqrt', 'max_leaf_nodes': None, 'max_samples': None, 'min_impurity_decrease': 0.0, 'min_samples_leaf': 1, 'min_samples_split': 10, 'min_weight_fraction_leaf': 0.0, 'n_estimators': 100, 'n_jobs': None, 'oob_score': False, 'random_state': 201, 'verbose': 0, 'warm_start': False}\n"
     ]
    },
    {
     "data": {
      "application/vnd.jupyter.widget-view+json": {
       "model_id": "6bfa050434834f8ebb1ee09c0f1e5c09",
       "version_major": 2,
       "version_minor": 0
      },
      "text/plain": [
       "Multiple runs progress:   0%|          | 0/1 [00:00<?, ?it/s]"
      ]
     },
     "metadata": {},
     "output_type": "display_data"
    },
    {
     "data": {
      "application/vnd.jupyter.widget-view+json": {
       "model_id": "64400f50c7a242dfbece40249228a91d",
       "version_major": 2,
       "version_minor": 0
      },
      "text/plain": [
       "Analyze models in one run:   0%|          | 0/1 [00:00<?, ?it/s]"
      ]
     },
     "metadata": {},
     "output_type": "display_data"
    },
    {
     "data": {
      "application/vnd.jupyter.widget-view+json": {
       "model_id": "24d8192bde474723b49f1060d4cba74e",
       "version_major": 2,
       "version_minor": 0
      },
      "text/plain": [
       "Classifiers testing by bootstrap:   0%|          | 0/200 [00:00<?, ?it/s]"
      ]
     },
     "metadata": {},
     "output_type": "display_data"
    },
    {
     "name": "stdout",
     "output_type": "stream",
     "text": [
      "intervention_param:  0.3\n",
      "Path for tuned params:  /home/dh3553/projects/fairness-variance/results/mult_repair_levels_pubcov_CA/tuning_results_Folktables_CA_2018_Public_Coverage_alpha_0.3_20230731__174153.csv\n",
      "RandomForestClassifier:  {'bootstrap': True, 'ccp_alpha': 0.0, 'class_weight': None, 'criterion': 'gini', 'max_depth': 30, 'max_features': 'sqrt', 'max_leaf_nodes': None, 'max_samples': None, 'min_impurity_decrease': 0.0, 'min_samples_leaf': 2, 'min_samples_split': 5, 'min_weight_fraction_leaf': 0.0, 'n_estimators': 100, 'n_jobs': None, 'oob_score': False, 'random_state': 201, 'verbose': 0, 'warm_start': False}\n"
     ]
    },
    {
     "data": {
      "application/vnd.jupyter.widget-view+json": {
       "model_id": "30f9103e12cd4dd8b0177e26924a366d",
       "version_major": 2,
       "version_minor": 0
      },
      "text/plain": [
       "Multiple runs progress:   0%|          | 0/1 [00:00<?, ?it/s]"
      ]
     },
     "metadata": {},
     "output_type": "display_data"
    },
    {
     "data": {
      "application/vnd.jupyter.widget-view+json": {
       "model_id": "d72a8dd49bd5477280e68b6e82baefc4",
       "version_major": 2,
       "version_minor": 0
      },
      "text/plain": [
       "Analyze models in one run:   0%|          | 0/1 [00:00<?, ?it/s]"
      ]
     },
     "metadata": {},
     "output_type": "display_data"
    },
    {
     "data": {
      "application/vnd.jupyter.widget-view+json": {
       "model_id": "2c849efcd1c1481e8938d1b393b045aa",
       "version_major": 2,
       "version_minor": 0
      },
      "text/plain": [
       "Classifiers testing by bootstrap:   0%|          | 0/200 [00:00<?, ?it/s]"
      ]
     },
     "metadata": {},
     "output_type": "display_data"
    },
    {
     "name": "stdout",
     "output_type": "stream",
     "text": [
      "intervention_param:  0.4\n",
      "Path for tuned params:  /home/dh3553/projects/fairness-variance/results/mult_repair_levels_pubcov_CA/tuning_results_Folktables_CA_2018_Public_Coverage_alpha_0.4_20230731__173254.csv\n",
      "RandomForestClassifier:  {'bootstrap': True, 'ccp_alpha': 0.0, 'class_weight': None, 'criterion': 'gini', 'max_depth': 40, 'max_features': 'sqrt', 'max_leaf_nodes': None, 'max_samples': None, 'min_impurity_decrease': 0.0, 'min_samples_leaf': 1, 'min_samples_split': 10, 'min_weight_fraction_leaf': 0.0, 'n_estimators': 100, 'n_jobs': None, 'oob_score': False, 'random_state': 201, 'verbose': 0, 'warm_start': False}\n"
     ]
    },
    {
     "data": {
      "application/vnd.jupyter.widget-view+json": {
       "model_id": "1e685daf549749468cf5447696b40ee4",
       "version_major": 2,
       "version_minor": 0
      },
      "text/plain": [
       "Multiple runs progress:   0%|          | 0/1 [00:00<?, ?it/s]"
      ]
     },
     "metadata": {},
     "output_type": "display_data"
    },
    {
     "data": {
      "application/vnd.jupyter.widget-view+json": {
       "model_id": "6513ab7eddfb4e9f827be11f7258fe72",
       "version_major": 2,
       "version_minor": 0
      },
      "text/plain": [
       "Analyze models in one run:   0%|          | 0/1 [00:00<?, ?it/s]"
      ]
     },
     "metadata": {},
     "output_type": "display_data"
    },
    {
     "data": {
      "application/vnd.jupyter.widget-view+json": {
       "model_id": "066a5fe53a314243a95e055a9ef84f85",
       "version_major": 2,
       "version_minor": 0
      },
      "text/plain": [
       "Classifiers testing by bootstrap:   0%|          | 0/200 [00:00<?, ?it/s]"
      ]
     },
     "metadata": {},
     "output_type": "display_data"
    }
   ],
   "source": [
    "run_exp_iter_with_disparate_impact(data_loader=exp_iter_data_loader,\n",
    "                                   experiment_seed=experiment_seed,\n",
    "                                   test_set_fraction=TEST_SET_FRACTION,\n",
    "                                   db_writer_func=db_writer_func,\n",
    "                                   fair_intervention_params_lst=FAIR_INTERVENTION_PARAMS_LST,\n",
    "                                   models_params_for_tuning=models_params_for_tuning,\n",
    "                                   metrics_computation_config=metrics_computation_config,\n",
    "                                   custom_table_fields_dct=custom_table_fields_dct,\n",
    "#                                    with_tuning=True,\n",
    "                                   with_tuning=False,\n",
    "                                   tuned_params_df_paths=tuned_params_df_paths,\n",
    "                                   save_results_dir_path=SAVE_RESULTS_DIR_PATH,\n",
    "                                   verbose=True, \n",
    "                                   dataset_name=DATASET_NAME)"
   ]
  },
  {
   "cell_type": "markdown",
   "id": "509e907e",
   "metadata": {},
   "source": [
    "### Experiment iteration 3"
   ]
  },
  {
   "cell_type": "code",
   "execution_count": 15,
   "id": "311c8b0b",
   "metadata": {},
   "outputs": [],
   "source": [
    "# Configs for an experiment iteration\n",
    "exp_iter_num = 3\n",
    "experiment_seed = EXPERIMENT_SEEDS[exp_iter_num - 1]\n",
    "tuned_params_filenames = [\n",
    "    'tuning_results_Law_School_alpha_0.1_20230806__195840.csv',\n",
    "    'tuning_results_Law_School_alpha_0.9_20230806__195951.csv',\n",
    "]\n",
    "tuned_params_df_paths = [os.path.join(ROOT_DIR, 'results', EXPERIMENT_NAME, tuned_params_filename)\n",
    "                         for tuned_params_filename in tuned_params_filenames]\n",
    "custom_table_fields_dct['experiment_iteration'] = f'Exp_iter_{exp_iter_num}'\n",
    "\n",
    "exp_iter_data_loader = copy.deepcopy(data_loader)  # Add deepcopy to avoid data leakage\n",
    "models_params_for_tuning = get_model_params_for_mult_repair_levels(experiment_seed)"
   ]
  },
  {
   "cell_type": "code",
   "execution_count": 16,
   "id": "ac7bc3fe",
   "metadata": {},
   "outputs": [
    {
     "name": "stderr",
     "output_type": "stream",
     "text": [
      "2023-08-06 17:51:03 experiment_interface.py INFO    : Start an experiment iteration for the following custom params:\n",
      "INFO:root:Start an experiment iteration for the following custom params:\n"
     ]
    },
    {
     "name": "stdout",
     "output_type": "stream",
     "text": [
      "{'dataset_split_seed': 300,\n",
      " 'experiment_iteration': 'Exp_iter_3',\n",
      " 'fair_intervention_params_lst': '[0.1, 0.9]',\n",
      " 'model_init_seed': 300,\n",
      " 'session_uuid': '9430484b-bec6-42a0-ac65-11c53446a61f'}\n",
      "\n",
      "\n"
     ]
    },
    {
     "name": "stderr",
     "output_type": "stream",
     "text": [
      "2023-08-06 17:51:03 experiment_interface.py INFO    : The dataset is preprocessed\n",
      "INFO:root:The dataset is preprocessed\n"
     ]
    },
    {
     "name": "stdout",
     "output_type": "stream",
     "text": [
      "Top indexes of an X_test in a base flow dataset:  Int64Index([19898, 14980, 13028,  5574, 17599,  3210, 11359, 19768, 19647,\n",
      "             5966, 12835,  9832,  4098,  6607, 11751,   861, 11502, 17873,\n",
      "            10882, 17470],\n",
      "           dtype='int64')\n",
      "Top indexes of an y_test in a base flow dataset:  Int64Index([19898, 14980, 13028,  5574, 17599,  3210, 11359, 19768, 19647,\n",
      "             5966, 12835,  9832,  4098,  6607, 11751,   861, 11502, 17873,\n",
      "            10882, 17470],\n",
      "           dtype='int64')\n"
     ]
    },
    {
     "data": {
      "application/vnd.jupyter.widget-view+json": {
       "model_id": "933fa19eed8f43138766581caccd0720",
       "version_major": 2,
       "version_minor": 0
      },
      "text/plain": [
       "Multiple alphas:   0%|          | 0/2 [00:00<?, ?it/s]"
      ]
     },
     "metadata": {},
     "output_type": "display_data"
    },
    {
     "name": "stdout",
     "output_type": "stream",
     "text": [
      "intervention_param:  0.1\n"
     ]
    },
    {
     "name": "stderr",
     "output_type": "stream",
     "text": [
      "2023-08-06 17:51:05 experiment_interface.py INFO    : Models config is loaded from the input file\n",
      "INFO:root:Models config is loaded from the input file\n"
     ]
    },
    {
     "name": "stdout",
     "output_type": "stream",
     "text": [
      "Path for tuned params:  /home/dh3553/projects/fairness-variance/results/mult_repair_levels_law_school/tuning_results_Law_School_alpha_0.1_20230806__195840.csv\n",
      "RandomForestClassifier:  {'bootstrap': False, 'ccp_alpha': 0.0, 'class_weight': None, 'criterion': 'gini', 'max_depth': 30, 'max_features': 'sqrt', 'max_leaf_nodes': None, 'max_samples': None, 'min_impurity_decrease': 0.0, 'min_samples_leaf': 1, 'min_samples_split': 2, 'min_weight_fraction_leaf': 0.0, 'n_estimators': 500, 'n_jobs': None, 'oob_score': False, 'random_state': 300, 'verbose': 0, 'warm_start': False}\n"
     ]
    },
    {
     "data": {
      "application/vnd.jupyter.widget-view+json": {
       "model_id": "f528c8bb43574ae4aca815db99bb5c5f",
       "version_major": 2,
       "version_minor": 0
      },
      "text/plain": [
       "Multiple runs progress:   0%|          | 0/1 [00:00<?, ?it/s]"
      ]
     },
     "metadata": {},
     "output_type": "display_data"
    },
    {
     "data": {
      "application/vnd.jupyter.widget-view+json": {
       "model_id": "7651c2ffd0134a3ca4e761f64b37d8bf",
       "version_major": 2,
       "version_minor": 0
      },
      "text/plain": [
       "Analyze models in one run:   0%|          | 0/1 [00:00<?, ?it/s]"
      ]
     },
     "metadata": {},
     "output_type": "display_data"
    },
    {
     "name": "stdout",
     "output_type": "stream",
     "text": [
      "##############################  [Model 1 / 1] Analyze RandomForestClassifier  ##############################\n",
      "Model seed:  301\n",
      "\n",
      "Protected groups splits:\n",
      "male_priv (1165, 2)\n",
      "male_dis (915, 2)\n",
      "race_priv (1760, 2)\n",
      "race_dis (320, 2)\n",
      "male&race_priv (1908, 2)\n",
      "male&race_dis (172, 2)\n",
      "\n",
      "\n"
     ]
    },
    {
     "name": "stderr",
     "output_type": "stream",
     "text": [
      "2023-08-06 17:51:05 abstract_overall_variance_analyzer.py INFO    : Start classifiers testing by bootstrap\n",
      "INFO:root:Start classifiers testing by bootstrap\n"
     ]
    },
    {
     "data": {
      "application/vnd.jupyter.widget-view+json": {
       "model_id": "512d8bec80684b9783cc7835df9e9a14",
       "version_major": 2,
       "version_minor": 0
      },
      "text/plain": [
       "Classifiers testing by bootstrap:   0%|          | 0/200 [00:00<?, ?it/s]"
      ]
     },
     "metadata": {},
     "output_type": "display_data"
    },
    {
     "name": "stdout",
     "output_type": "stream",
     "text": [
      "\n",
      "\n"
     ]
    },
    {
     "name": "stderr",
     "output_type": "stream",
     "text": [
      "2023-08-06 18:15:03 abstract_overall_variance_analyzer.py INFO    : Successfully tested classifiers by bootstrap\n",
      "INFO:root:Successfully tested classifiers by bootstrap\n",
      "2023-08-06 18:15:21 abstract_overall_variance_analyzer.py INFO    : Successfully computed predict proba metrics\n",
      "INFO:root:Successfully computed predict proba metrics\n"
     ]
    },
    {
     "name": "stdout",
     "output_type": "stream",
     "text": [
      "\n",
      "[RandomForestClassifier] Metrics matrix:\n"
     ]
    },
    {
     "data": {
      "text/html": [
       "<div>\n",
       "<style scoped>\n",
       "    .dataframe tbody tr th:only-of-type {\n",
       "        vertical-align: middle;\n",
       "    }\n",
       "\n",
       "    .dataframe tbody tr th {\n",
       "        vertical-align: top;\n",
       "    }\n",
       "\n",
       "    .dataframe thead th {\n",
       "        text-align: right;\n",
       "    }\n",
       "</style>\n",
       "<table border=\"1\" class=\"dataframe\">\n",
       "  <thead>\n",
       "    <tr style=\"text-align: right;\">\n",
       "      <th></th>\n",
       "      <th>Metric</th>\n",
       "      <th>overall</th>\n",
       "      <th>male_priv</th>\n",
       "      <th>male_priv_correct</th>\n",
       "      <th>male_priv_incorrect</th>\n",
       "      <th>male_dis</th>\n",
       "      <th>male_dis_correct</th>\n",
       "      <th>male_dis_incorrect</th>\n",
       "      <th>race_priv</th>\n",
       "      <th>race_priv_correct</th>\n",
       "      <th>...</th>\n",
       "      <th>race_dis_incorrect</th>\n",
       "      <th>male&amp;race_priv</th>\n",
       "      <th>male&amp;race_priv_correct</th>\n",
       "      <th>male&amp;race_priv_incorrect</th>\n",
       "      <th>male&amp;race_dis</th>\n",
       "      <th>male&amp;race_dis_correct</th>\n",
       "      <th>male&amp;race_dis_incorrect</th>\n",
       "      <th>Model_Seed</th>\n",
       "      <th>Model_Name</th>\n",
       "      <th>Model_Params</th>\n",
       "    </tr>\n",
       "  </thead>\n",
       "  <tbody>\n",
       "    <tr>\n",
       "      <th>0</th>\n",
       "      <td>Mean</td>\n",
       "      <td>0.118273</td>\n",
       "      <td>0.118203</td>\n",
       "      <td>0.096816</td>\n",
       "      <td>0.338712</td>\n",
       "      <td>0.118363</td>\n",
       "      <td>0.092352</td>\n",
       "      <td>0.327995</td>\n",
       "      <td>0.089980</td>\n",
       "      <td>0.074235</td>\n",
       "      <td>...</td>\n",
       "      <td>0.392713</td>\n",
       "      <td>0.104134</td>\n",
       "      <td>0.084834</td>\n",
       "      <td>0.314988</td>\n",
       "      <td>0.275123</td>\n",
       "      <td>0.232065</td>\n",
       "      <td>0.400381</td>\n",
       "      <td>301</td>\n",
       "      <td>RandomForestClassifier</td>\n",
       "      <td>{'bootstrap': False, 'ccp_alpha': 0.0, 'class_...</td>\n",
       "    </tr>\n",
       "    <tr>\n",
       "      <th>1</th>\n",
       "      <td>Std</td>\n",
       "      <td>0.044124</td>\n",
       "      <td>0.044545</td>\n",
       "      <td>0.039489</td>\n",
       "      <td>0.096674</td>\n",
       "      <td>0.043589</td>\n",
       "      <td>0.037143</td>\n",
       "      <td>0.095540</td>\n",
       "      <td>0.038340</td>\n",
       "      <td>0.034174</td>\n",
       "      <td>...</td>\n",
       "      <td>0.101285</td>\n",
       "      <td>0.041163</td>\n",
       "      <td>0.036261</td>\n",
       "      <td>0.094720</td>\n",
       "      <td>0.076970</td>\n",
       "      <td>0.068649</td>\n",
       "      <td>0.101176</td>\n",
       "      <td>301</td>\n",
       "      <td>RandomForestClassifier</td>\n",
       "      <td>{'bootstrap': False, 'ccp_alpha': 0.0, 'class_...</td>\n",
       "    </tr>\n",
       "    <tr>\n",
       "      <th>2</th>\n",
       "      <td>IQR</td>\n",
       "      <td>0.062876</td>\n",
       "      <td>0.063540</td>\n",
       "      <td>0.056272</td>\n",
       "      <td>0.138480</td>\n",
       "      <td>0.062031</td>\n",
       "      <td>0.052676</td>\n",
       "      <td>0.137429</td>\n",
       "      <td>0.054439</td>\n",
       "      <td>0.048468</td>\n",
       "      <td>...</td>\n",
       "      <td>0.146537</td>\n",
       "      <td>0.058509</td>\n",
       "      <td>0.051455</td>\n",
       "      <td>0.135567</td>\n",
       "      <td>0.111328</td>\n",
       "      <td>0.099183</td>\n",
       "      <td>0.146660</td>\n",
       "      <td>301</td>\n",
       "      <td>RandomForestClassifier</td>\n",
       "      <td>{'bootstrap': False, 'ccp_alpha': 0.0, 'class_...</td>\n",
       "    </tr>\n",
       "    <tr>\n",
       "      <th>3</th>\n",
       "      <td>Aleatoric_Uncertainty</td>\n",
       "      <td>0.338780</td>\n",
       "      <td>0.342586</td>\n",
       "      <td>0.303792</td>\n",
       "      <td>0.742570</td>\n",
       "      <td>0.333935</td>\n",
       "      <td>0.284476</td>\n",
       "      <td>0.732537</td>\n",
       "      <td>0.288318</td>\n",
       "      <td>0.256950</td>\n",
       "      <td>...</td>\n",
       "      <td>0.799302</td>\n",
       "      <td>0.313483</td>\n",
       "      <td>0.276201</td>\n",
       "      <td>0.720800</td>\n",
       "      <td>0.619395</td>\n",
       "      <td>0.557757</td>\n",
       "      <td>0.798706</td>\n",
       "      <td>301</td>\n",
       "      <td>RandomForestClassifier</td>\n",
       "      <td>{'bootstrap': False, 'ccp_alpha': 0.0, 'class_...</td>\n",
       "    </tr>\n",
       "    <tr>\n",
       "      <th>4</th>\n",
       "      <td>Overall_Uncertainty</td>\n",
       "      <td>0.359334</td>\n",
       "      <td>0.363470</td>\n",
       "      <td>0.322752</td>\n",
       "      <td>0.783299</td>\n",
       "      <td>0.354068</td>\n",
       "      <td>0.302230</td>\n",
       "      <td>0.771849</td>\n",
       "      <td>0.306975</td>\n",
       "      <td>0.273969</td>\n",
       "      <td>...</td>\n",
       "      <td>0.839247</td>\n",
       "      <td>0.333065</td>\n",
       "      <td>0.293892</td>\n",
       "      <td>0.761029</td>\n",
       "      <td>0.650738</td>\n",
       "      <td>0.586368</td>\n",
       "      <td>0.837996</td>\n",
       "      <td>301</td>\n",
       "      <td>RandomForestClassifier</td>\n",
       "      <td>{'bootstrap': False, 'ccp_alpha': 0.0, 'class_...</td>\n",
       "    </tr>\n",
       "    <tr>\n",
       "      <th>5</th>\n",
       "      <td>Statistical_Bias</td>\n",
       "      <td>0.147405</td>\n",
       "      <td>0.143418</td>\n",
       "      <td>0.088835</td>\n",
       "      <td>0.706209</td>\n",
       "      <td>0.152482</td>\n",
       "      <td>0.082621</td>\n",
       "      <td>0.715515</td>\n",
       "      <td>0.118344</td>\n",
       "      <td>0.071272</td>\n",
       "      <td>...</td>\n",
       "      <td>0.674057</td>\n",
       "      <td>0.132383</td>\n",
       "      <td>0.078636</td>\n",
       "      <td>0.719563</td>\n",
       "      <td>0.314045</td>\n",
       "      <td>0.188589</td>\n",
       "      <td>0.679009</td>\n",
       "      <td>301</td>\n",
       "      <td>RandomForestClassifier</td>\n",
       "      <td>{'bootstrap': False, 'ccp_alpha': 0.0, 'class_...</td>\n",
       "    </tr>\n",
       "    <tr>\n",
       "      <th>6</th>\n",
       "      <td>Jitter</td>\n",
       "      <td>0.042482</td>\n",
       "      <td>0.041980</td>\n",
       "      <td>0.027641</td>\n",
       "      <td>0.189824</td>\n",
       "      <td>0.043122</td>\n",
       "      <td>0.025912</td>\n",
       "      <td>0.181822</td>\n",
       "      <td>0.029781</td>\n",
       "      <td>0.019878</td>\n",
       "      <td>...</td>\n",
       "      <td>0.227856</td>\n",
       "      <td>0.036142</td>\n",
       "      <td>0.023267</td>\n",
       "      <td>0.176800</td>\n",
       "      <td>0.112819</td>\n",
       "      <td>0.076382</td>\n",
       "      <td>0.218816</td>\n",
       "      <td>301</td>\n",
       "      <td>RandomForestClassifier</td>\n",
       "      <td>{'bootstrap': False, 'ccp_alpha': 0.0, 'class_...</td>\n",
       "    </tr>\n",
       "    <tr>\n",
       "      <th>7</th>\n",
       "      <td>Per_Sample_Accuracy</td>\n",
       "      <td>0.898637</td>\n",
       "      <td>0.906807</td>\n",
       "      <td>0.980866</td>\n",
       "      <td>0.143204</td>\n",
       "      <td>0.888235</td>\n",
       "      <td>0.982131</td>\n",
       "      <td>0.131485</td>\n",
       "      <td>0.924676</td>\n",
       "      <td>0.986312</td>\n",
       "      <td>...</td>\n",
       "      <td>0.167342</td>\n",
       "      <td>0.912424</td>\n",
       "      <td>0.983839</td>\n",
       "      <td>0.132219</td>\n",
       "      <td>0.745698</td>\n",
       "      <td>0.948320</td>\n",
       "      <td>0.156250</td>\n",
       "      <td>301</td>\n",
       "      <td>RandomForestClassifier</td>\n",
       "      <td>{'bootstrap': False, 'ccp_alpha': 0.0, 'class_...</td>\n",
       "    </tr>\n",
       "    <tr>\n",
       "      <th>8</th>\n",
       "      <td>Label_Stability</td>\n",
       "      <td>0.939947</td>\n",
       "      <td>0.940343</td>\n",
       "      <td>0.961977</td>\n",
       "      <td>0.717282</td>\n",
       "      <td>0.939443</td>\n",
       "      <td>0.964263</td>\n",
       "      <td>0.739406</td>\n",
       "      <td>0.957898</td>\n",
       "      <td>0.972783</td>\n",
       "      <td>...</td>\n",
       "      <td>0.672911</td>\n",
       "      <td>0.948559</td>\n",
       "      <td>0.967826</td>\n",
       "      <td>0.738063</td>\n",
       "      <td>0.844419</td>\n",
       "      <td>0.896641</td>\n",
       "      <td>0.692500</td>\n",
       "      <td>301</td>\n",
       "      <td>RandomForestClassifier</td>\n",
       "      <td>{'bootstrap': False, 'ccp_alpha': 0.0, 'class_...</td>\n",
       "    </tr>\n",
       "    <tr>\n",
       "      <th>9</th>\n",
       "      <td>TPR</td>\n",
       "      <td>0.973769</td>\n",
       "      <td>0.975518</td>\n",
       "      <td>1.000000</td>\n",
       "      <td>0.000000</td>\n",
       "      <td>0.971464</td>\n",
       "      <td>1.000000</td>\n",
       "      <td>0.000000</td>\n",
       "      <td>0.985357</td>\n",
       "      <td>1.000000</td>\n",
       "      <td>...</td>\n",
       "      <td>0.000000</td>\n",
       "      <td>0.981067</td>\n",
       "      <td>1.000000</td>\n",
       "      <td>0.000000</td>\n",
       "      <td>0.872000</td>\n",
       "      <td>1.000000</td>\n",
       "      <td>0.000000</td>\n",
       "      <td>301</td>\n",
       "      <td>RandomForestClassifier</td>\n",
       "      <td>{'bootstrap': False, 'ccp_alpha': 0.0, 'class_...</td>\n",
       "    </tr>\n",
       "    <tr>\n",
       "      <th>10</th>\n",
       "      <td>TNR</td>\n",
       "      <td>0.268868</td>\n",
       "      <td>0.252427</td>\n",
       "      <td>1.000000</td>\n",
       "      <td>0.000000</td>\n",
       "      <td>0.284404</td>\n",
       "      <td>1.000000</td>\n",
       "      <td>0.000000</td>\n",
       "      <td>0.165289</td>\n",
       "      <td>1.000000</td>\n",
       "      <td>...</td>\n",
       "      <td>0.000000</td>\n",
       "      <td>0.230303</td>\n",
       "      <td>1.000000</td>\n",
       "      <td>0.000000</td>\n",
       "      <td>0.404255</td>\n",
       "      <td>1.000000</td>\n",
       "      <td>0.000000</td>\n",
       "      <td>301</td>\n",
       "      <td>RandomForestClassifier</td>\n",
       "      <td>{'bootstrap': False, 'ccp_alpha': 0.0, 'class_...</td>\n",
       "    </tr>\n",
       "    <tr>\n",
       "      <th>11</th>\n",
       "      <td>PPV</td>\n",
       "      <td>0.921479</td>\n",
       "      <td>0.930818</td>\n",
       "      <td>1.000000</td>\n",
       "      <td>0.000000</td>\n",
       "      <td>0.909408</td>\n",
       "      <td>1.000000</td>\n",
       "      <td>0.000000</td>\n",
       "      <td>0.941142</td>\n",
       "      <td>1.000000</td>\n",
       "      <td>...</td>\n",
       "      <td>0.000000</td>\n",
       "      <td>0.930866</td>\n",
       "      <td>1.000000</td>\n",
       "      <td>0.000000</td>\n",
       "      <td>0.795620</td>\n",
       "      <td>1.000000</td>\n",
       "      <td>0.000000</td>\n",
       "      <td>301</td>\n",
       "      <td>RandomForestClassifier</td>\n",
       "      <td>{'bootstrap': False, 'ccp_alpha': 0.0, 'class_...</td>\n",
       "    </tr>\n",
       "    <tr>\n",
       "      <th>12</th>\n",
       "      <td>FNR</td>\n",
       "      <td>0.026231</td>\n",
       "      <td>0.024482</td>\n",
       "      <td>0.000000</td>\n",
       "      <td>1.000000</td>\n",
       "      <td>0.028536</td>\n",
       "      <td>0.000000</td>\n",
       "      <td>1.000000</td>\n",
       "      <td>0.014643</td>\n",
       "      <td>0.000000</td>\n",
       "      <td>...</td>\n",
       "      <td>1.000000</td>\n",
       "      <td>0.018933</td>\n",
       "      <td>0.000000</td>\n",
       "      <td>1.000000</td>\n",
       "      <td>0.128000</td>\n",
       "      <td>0.000000</td>\n",
       "      <td>1.000000</td>\n",
       "      <td>301</td>\n",
       "      <td>RandomForestClassifier</td>\n",
       "      <td>{'bootstrap': False, 'ccp_alpha': 0.0, 'class_...</td>\n",
       "    </tr>\n",
       "    <tr>\n",
       "      <th>13</th>\n",
       "      <td>FPR</td>\n",
       "      <td>0.731132</td>\n",
       "      <td>0.747573</td>\n",
       "      <td>0.000000</td>\n",
       "      <td>1.000000</td>\n",
       "      <td>0.715596</td>\n",
       "      <td>0.000000</td>\n",
       "      <td>1.000000</td>\n",
       "      <td>0.834711</td>\n",
       "      <td>0.000000</td>\n",
       "      <td>...</td>\n",
       "      <td>1.000000</td>\n",
       "      <td>0.769697</td>\n",
       "      <td>0.000000</td>\n",
       "      <td>1.000000</td>\n",
       "      <td>0.595745</td>\n",
       "      <td>0.000000</td>\n",
       "      <td>1.000000</td>\n",
       "      <td>301</td>\n",
       "      <td>RandomForestClassifier</td>\n",
       "      <td>{'bootstrap': False, 'ccp_alpha': 0.0, 'class_...</td>\n",
       "    </tr>\n",
       "    <tr>\n",
       "      <th>14</th>\n",
       "      <td>Accuracy</td>\n",
       "      <td>0.901923</td>\n",
       "      <td>0.911588</td>\n",
       "      <td>1.000000</td>\n",
       "      <td>0.000000</td>\n",
       "      <td>0.889617</td>\n",
       "      <td>1.000000</td>\n",
       "      <td>0.000000</td>\n",
       "      <td>0.928977</td>\n",
       "      <td>1.000000</td>\n",
       "      <td>...</td>\n",
       "      <td>0.000000</td>\n",
       "      <td>0.916143</td>\n",
       "      <td>1.000000</td>\n",
       "      <td>0.000000</td>\n",
       "      <td>0.744186</td>\n",
       "      <td>1.000000</td>\n",
       "      <td>0.000000</td>\n",
       "      <td>301</td>\n",
       "      <td>RandomForestClassifier</td>\n",
       "      <td>{'bootstrap': False, 'ccp_alpha': 0.0, 'class_...</td>\n",
       "    </tr>\n",
       "    <tr>\n",
       "      <th>15</th>\n",
       "      <td>F1</td>\n",
       "      <td>0.946903</td>\n",
       "      <td>0.952644</td>\n",
       "      <td>1.000000</td>\n",
       "      <td>0.000000</td>\n",
       "      <td>0.939412</td>\n",
       "      <td>1.000000</td>\n",
       "      <td>0.000000</td>\n",
       "      <td>0.962742</td>\n",
       "      <td>1.000000</td>\n",
       "      <td>...</td>\n",
       "      <td>0.000000</td>\n",
       "      <td>0.955307</td>\n",
       "      <td>1.000000</td>\n",
       "      <td>0.000000</td>\n",
       "      <td>0.832061</td>\n",
       "      <td>1.000000</td>\n",
       "      <td>0.000000</td>\n",
       "      <td>301</td>\n",
       "      <td>RandomForestClassifier</td>\n",
       "      <td>{'bootstrap': False, 'ccp_alpha': 0.0, 'class_...</td>\n",
       "    </tr>\n",
       "    <tr>\n",
       "      <th>16</th>\n",
       "      <td>Selection-Rate</td>\n",
       "      <td>0.949038</td>\n",
       "      <td>0.955365</td>\n",
       "      <td>0.975518</td>\n",
       "      <td>0.747573</td>\n",
       "      <td>0.940984</td>\n",
       "      <td>0.961916</td>\n",
       "      <td>0.772277</td>\n",
       "      <td>0.975000</td>\n",
       "      <td>0.987768</td>\n",
       "      <td>...</td>\n",
       "      <td>0.683544</td>\n",
       "      <td>0.962788</td>\n",
       "      <td>0.978261</td>\n",
       "      <td>0.793750</td>\n",
       "      <td>0.796512</td>\n",
       "      <td>0.851562</td>\n",
       "      <td>0.636364</td>\n",
       "      <td>301</td>\n",
       "      <td>RandomForestClassifier</td>\n",
       "      <td>{'bootstrap': False, 'ccp_alpha': 0.0, 'class_...</td>\n",
       "    </tr>\n",
       "    <tr>\n",
       "      <th>17</th>\n",
       "      <td>Positive-Rate</td>\n",
       "      <td>1.056745</td>\n",
       "      <td>1.048023</td>\n",
       "      <td>1.000000</td>\n",
       "      <td>2.961538</td>\n",
       "      <td>1.068238</td>\n",
       "      <td>1.000000</td>\n",
       "      <td>3.391304</td>\n",
       "      <td>1.046980</td>\n",
       "      <td>1.000000</td>\n",
       "      <td>...</td>\n",
       "      <td>2.160000</td>\n",
       "      <td>1.053930</td>\n",
       "      <td>1.000000</td>\n",
       "      <td>3.848485</td>\n",
       "      <td>1.096000</td>\n",
       "      <td>1.000000</td>\n",
       "      <td>1.750000</td>\n",
       "      <td>301</td>\n",
       "      <td>RandomForestClassifier</td>\n",
       "      <td>{'bootstrap': False, 'ccp_alpha': 0.0, 'class_...</td>\n",
       "    </tr>\n",
       "    <tr>\n",
       "      <th>18</th>\n",
       "      <td>Sample_Size</td>\n",
       "      <td>2080.000000</td>\n",
       "      <td>1165.000000</td>\n",
       "      <td>1062.000000</td>\n",
       "      <td>103.000000</td>\n",
       "      <td>915.000000</td>\n",
       "      <td>814.000000</td>\n",
       "      <td>101.000000</td>\n",
       "      <td>1760.000000</td>\n",
       "      <td>1635.000000</td>\n",
       "      <td>...</td>\n",
       "      <td>79.000000</td>\n",
       "      <td>1908.000000</td>\n",
       "      <td>1748.000000</td>\n",
       "      <td>160.000000</td>\n",
       "      <td>172.000000</td>\n",
       "      <td>128.000000</td>\n",
       "      <td>44.000000</td>\n",
       "      <td>301</td>\n",
       "      <td>RandomForestClassifier</td>\n",
       "      <td>{'bootstrap': False, 'ccp_alpha': 0.0, 'class_...</td>\n",
       "    </tr>\n",
       "  </tbody>\n",
       "</table>\n",
       "<p>19 rows × 23 columns</p>\n",
       "</div>"
      ],
      "text/plain": [
       "                   Metric      overall    male_priv  male_priv_correct  \\\n",
       "0                    Mean     0.118273     0.118203           0.096816   \n",
       "1                     Std     0.044124     0.044545           0.039489   \n",
       "2                     IQR     0.062876     0.063540           0.056272   \n",
       "3   Aleatoric_Uncertainty     0.338780     0.342586           0.303792   \n",
       "4     Overall_Uncertainty     0.359334     0.363470           0.322752   \n",
       "5        Statistical_Bias     0.147405     0.143418           0.088835   \n",
       "6                  Jitter     0.042482     0.041980           0.027641   \n",
       "7     Per_Sample_Accuracy     0.898637     0.906807           0.980866   \n",
       "8         Label_Stability     0.939947     0.940343           0.961977   \n",
       "9                     TPR     0.973769     0.975518           1.000000   \n",
       "10                    TNR     0.268868     0.252427           1.000000   \n",
       "11                    PPV     0.921479     0.930818           1.000000   \n",
       "12                    FNR     0.026231     0.024482           0.000000   \n",
       "13                    FPR     0.731132     0.747573           0.000000   \n",
       "14               Accuracy     0.901923     0.911588           1.000000   \n",
       "15                     F1     0.946903     0.952644           1.000000   \n",
       "16         Selection-Rate     0.949038     0.955365           0.975518   \n",
       "17          Positive-Rate     1.056745     1.048023           1.000000   \n",
       "18            Sample_Size  2080.000000  1165.000000        1062.000000   \n",
       "\n",
       "    male_priv_incorrect    male_dis  male_dis_correct  male_dis_incorrect  \\\n",
       "0              0.338712    0.118363          0.092352            0.327995   \n",
       "1              0.096674    0.043589          0.037143            0.095540   \n",
       "2              0.138480    0.062031          0.052676            0.137429   \n",
       "3              0.742570    0.333935          0.284476            0.732537   \n",
       "4              0.783299    0.354068          0.302230            0.771849   \n",
       "5              0.706209    0.152482          0.082621            0.715515   \n",
       "6              0.189824    0.043122          0.025912            0.181822   \n",
       "7              0.143204    0.888235          0.982131            0.131485   \n",
       "8              0.717282    0.939443          0.964263            0.739406   \n",
       "9              0.000000    0.971464          1.000000            0.000000   \n",
       "10             0.000000    0.284404          1.000000            0.000000   \n",
       "11             0.000000    0.909408          1.000000            0.000000   \n",
       "12             1.000000    0.028536          0.000000            1.000000   \n",
       "13             1.000000    0.715596          0.000000            1.000000   \n",
       "14             0.000000    0.889617          1.000000            0.000000   \n",
       "15             0.000000    0.939412          1.000000            0.000000   \n",
       "16             0.747573    0.940984          0.961916            0.772277   \n",
       "17             2.961538    1.068238          1.000000            3.391304   \n",
       "18           103.000000  915.000000        814.000000          101.000000   \n",
       "\n",
       "      race_priv  race_priv_correct  ...  race_dis_incorrect  male&race_priv  \\\n",
       "0      0.089980           0.074235  ...            0.392713        0.104134   \n",
       "1      0.038340           0.034174  ...            0.101285        0.041163   \n",
       "2      0.054439           0.048468  ...            0.146537        0.058509   \n",
       "3      0.288318           0.256950  ...            0.799302        0.313483   \n",
       "4      0.306975           0.273969  ...            0.839247        0.333065   \n",
       "5      0.118344           0.071272  ...            0.674057        0.132383   \n",
       "6      0.029781           0.019878  ...            0.227856        0.036142   \n",
       "7      0.924676           0.986312  ...            0.167342        0.912424   \n",
       "8      0.957898           0.972783  ...            0.672911        0.948559   \n",
       "9      0.985357           1.000000  ...            0.000000        0.981067   \n",
       "10     0.165289           1.000000  ...            0.000000        0.230303   \n",
       "11     0.941142           1.000000  ...            0.000000        0.930866   \n",
       "12     0.014643           0.000000  ...            1.000000        0.018933   \n",
       "13     0.834711           0.000000  ...            1.000000        0.769697   \n",
       "14     0.928977           1.000000  ...            0.000000        0.916143   \n",
       "15     0.962742           1.000000  ...            0.000000        0.955307   \n",
       "16     0.975000           0.987768  ...            0.683544        0.962788   \n",
       "17     1.046980           1.000000  ...            2.160000        1.053930   \n",
       "18  1760.000000        1635.000000  ...           79.000000     1908.000000   \n",
       "\n",
       "    male&race_priv_correct  male&race_priv_incorrect  male&race_dis  \\\n",
       "0                 0.084834                  0.314988       0.275123   \n",
       "1                 0.036261                  0.094720       0.076970   \n",
       "2                 0.051455                  0.135567       0.111328   \n",
       "3                 0.276201                  0.720800       0.619395   \n",
       "4                 0.293892                  0.761029       0.650738   \n",
       "5                 0.078636                  0.719563       0.314045   \n",
       "6                 0.023267                  0.176800       0.112819   \n",
       "7                 0.983839                  0.132219       0.745698   \n",
       "8                 0.967826                  0.738063       0.844419   \n",
       "9                 1.000000                  0.000000       0.872000   \n",
       "10                1.000000                  0.000000       0.404255   \n",
       "11                1.000000                  0.000000       0.795620   \n",
       "12                0.000000                  1.000000       0.128000   \n",
       "13                0.000000                  1.000000       0.595745   \n",
       "14                1.000000                  0.000000       0.744186   \n",
       "15                1.000000                  0.000000       0.832061   \n",
       "16                0.978261                  0.793750       0.796512   \n",
       "17                1.000000                  3.848485       1.096000   \n",
       "18             1748.000000                160.000000     172.000000   \n",
       "\n",
       "    male&race_dis_correct  male&race_dis_incorrect  Model_Seed  \\\n",
       "0                0.232065                 0.400381         301   \n",
       "1                0.068649                 0.101176         301   \n",
       "2                0.099183                 0.146660         301   \n",
       "3                0.557757                 0.798706         301   \n",
       "4                0.586368                 0.837996         301   \n",
       "5                0.188589                 0.679009         301   \n",
       "6                0.076382                 0.218816         301   \n",
       "7                0.948320                 0.156250         301   \n",
       "8                0.896641                 0.692500         301   \n",
       "9                1.000000                 0.000000         301   \n",
       "10               1.000000                 0.000000         301   \n",
       "11               1.000000                 0.000000         301   \n",
       "12               0.000000                 1.000000         301   \n",
       "13               0.000000                 1.000000         301   \n",
       "14               1.000000                 0.000000         301   \n",
       "15               1.000000                 0.000000         301   \n",
       "16               0.851562                 0.636364         301   \n",
       "17               1.000000                 1.750000         301   \n",
       "18             128.000000                44.000000         301   \n",
       "\n",
       "                Model_Name                                       Model_Params  \n",
       "0   RandomForestClassifier  {'bootstrap': False, 'ccp_alpha': 0.0, 'class_...  \n",
       "1   RandomForestClassifier  {'bootstrap': False, 'ccp_alpha': 0.0, 'class_...  \n",
       "2   RandomForestClassifier  {'bootstrap': False, 'ccp_alpha': 0.0, 'class_...  \n",
       "3   RandomForestClassifier  {'bootstrap': False, 'ccp_alpha': 0.0, 'class_...  \n",
       "4   RandomForestClassifier  {'bootstrap': False, 'ccp_alpha': 0.0, 'class_...  \n",
       "5   RandomForestClassifier  {'bootstrap': False, 'ccp_alpha': 0.0, 'class_...  \n",
       "6   RandomForestClassifier  {'bootstrap': False, 'ccp_alpha': 0.0, 'class_...  \n",
       "7   RandomForestClassifier  {'bootstrap': False, 'ccp_alpha': 0.0, 'class_...  \n",
       "8   RandomForestClassifier  {'bootstrap': False, 'ccp_alpha': 0.0, 'class_...  \n",
       "9   RandomForestClassifier  {'bootstrap': False, 'ccp_alpha': 0.0, 'class_...  \n",
       "10  RandomForestClassifier  {'bootstrap': False, 'ccp_alpha': 0.0, 'class_...  \n",
       "11  RandomForestClassifier  {'bootstrap': False, 'ccp_alpha': 0.0, 'class_...  \n",
       "12  RandomForestClassifier  {'bootstrap': False, 'ccp_alpha': 0.0, 'class_...  \n",
       "13  RandomForestClassifier  {'bootstrap': False, 'ccp_alpha': 0.0, 'class_...  \n",
       "14  RandomForestClassifier  {'bootstrap': False, 'ccp_alpha': 0.0, 'class_...  \n",
       "15  RandomForestClassifier  {'bootstrap': False, 'ccp_alpha': 0.0, 'class_...  \n",
       "16  RandomForestClassifier  {'bootstrap': False, 'ccp_alpha': 0.0, 'class_...  \n",
       "17  RandomForestClassifier  {'bootstrap': False, 'ccp_alpha': 0.0, 'class_...  \n",
       "18  RandomForestClassifier  {'bootstrap': False, 'ccp_alpha': 0.0, 'class_...  \n",
       "\n",
       "[19 rows x 23 columns]"
      ]
     },
     "metadata": {},
     "output_type": "display_data"
    },
    {
     "name": "stdout",
     "output_type": "stream",
     "text": [
      "\n",
      "\n",
      "\n",
      "\n",
      "intervention_param:  0.9\n"
     ]
    },
    {
     "name": "stderr",
     "output_type": "stream",
     "text": [
      "2023-08-06 18:17:13 experiment_interface.py INFO    : Models config is loaded from the input file\n",
      "INFO:root:Models config is loaded from the input file\n"
     ]
    },
    {
     "name": "stdout",
     "output_type": "stream",
     "text": [
      "Path for tuned params:  /home/dh3553/projects/fairness-variance/results/mult_repair_levels_law_school/tuning_results_Law_School_alpha_0.9_20230806__195951.csv\n",
      "RandomForestClassifier:  {'bootstrap': False, 'ccp_alpha': 0.0, 'class_weight': None, 'criterion': 'gini', 'max_depth': 30, 'max_features': 'sqrt', 'max_leaf_nodes': None, 'max_samples': None, 'min_impurity_decrease': 0.0, 'min_samples_leaf': 1, 'min_samples_split': 2, 'min_weight_fraction_leaf': 0.0, 'n_estimators': 500, 'n_jobs': None, 'oob_score': False, 'random_state': 301, 'verbose': 0, 'warm_start': False}\n"
     ]
    },
    {
     "data": {
      "application/vnd.jupyter.widget-view+json": {
       "model_id": "950d78b73599408f8a58ff156fb7a7c4",
       "version_major": 2,
       "version_minor": 0
      },
      "text/plain": [
       "Multiple runs progress:   0%|          | 0/1 [00:00<?, ?it/s]"
      ]
     },
     "metadata": {},
     "output_type": "display_data"
    },
    {
     "data": {
      "application/vnd.jupyter.widget-view+json": {
       "model_id": "8d833db1a5334751bbc9718ff31b14a4",
       "version_major": 2,
       "version_minor": 0
      },
      "text/plain": [
       "Analyze models in one run:   0%|          | 0/1 [00:00<?, ?it/s]"
      ]
     },
     "metadata": {},
     "output_type": "display_data"
    },
    {
     "name": "stdout",
     "output_type": "stream",
     "text": [
      "##############################  [Model 1 / 1] Analyze RandomForestClassifier  ##############################\n",
      "Model seed:  301\n",
      "\n",
      "Protected groups splits:\n",
      "male_priv (1165, 2)\n",
      "male_dis (915, 2)\n",
      "race_priv (1760, 2)\n",
      "race_dis (320, 2)\n",
      "male&race_priv (1908, 2)\n",
      "male&race_dis (172, 2)\n",
      "\n",
      "\n"
     ]
    },
    {
     "name": "stderr",
     "output_type": "stream",
     "text": [
      "2023-08-06 18:17:13 abstract_overall_variance_analyzer.py INFO    : Start classifiers testing by bootstrap\n",
      "INFO:root:Start classifiers testing by bootstrap\n"
     ]
    },
    {
     "data": {
      "application/vnd.jupyter.widget-view+json": {
       "model_id": "ad9188a4b7e24d53b2fc85407408a629",
       "version_major": 2,
       "version_minor": 0
      },
      "text/plain": [
       "Classifiers testing by bootstrap:   0%|          | 0/200 [00:00<?, ?it/s]"
      ]
     },
     "metadata": {},
     "output_type": "display_data"
    },
    {
     "name": "stdout",
     "output_type": "stream",
     "text": [
      "\n",
      "\n"
     ]
    },
    {
     "name": "stderr",
     "output_type": "stream",
     "text": [
      "2023-08-06 18:41:10 abstract_overall_variance_analyzer.py INFO    : Successfully tested classifiers by bootstrap\n",
      "INFO:root:Successfully tested classifiers by bootstrap\n",
      "2023-08-06 18:41:28 abstract_overall_variance_analyzer.py INFO    : Successfully computed predict proba metrics\n",
      "INFO:root:Successfully computed predict proba metrics\n"
     ]
    },
    {
     "name": "stdout",
     "output_type": "stream",
     "text": [
      "\n",
      "[RandomForestClassifier] Metrics matrix:\n"
     ]
    },
    {
     "data": {
      "text/html": [
       "<div>\n",
       "<style scoped>\n",
       "    .dataframe tbody tr th:only-of-type {\n",
       "        vertical-align: middle;\n",
       "    }\n",
       "\n",
       "    .dataframe tbody tr th {\n",
       "        vertical-align: top;\n",
       "    }\n",
       "\n",
       "    .dataframe thead th {\n",
       "        text-align: right;\n",
       "    }\n",
       "</style>\n",
       "<table border=\"1\" class=\"dataframe\">\n",
       "  <thead>\n",
       "    <tr style=\"text-align: right;\">\n",
       "      <th></th>\n",
       "      <th>Metric</th>\n",
       "      <th>overall</th>\n",
       "      <th>male_priv</th>\n",
       "      <th>male_priv_correct</th>\n",
       "      <th>male_priv_incorrect</th>\n",
       "      <th>male_dis</th>\n",
       "      <th>male_dis_correct</th>\n",
       "      <th>male_dis_incorrect</th>\n",
       "      <th>race_priv</th>\n",
       "      <th>race_priv_correct</th>\n",
       "      <th>...</th>\n",
       "      <th>race_dis_incorrect</th>\n",
       "      <th>male&amp;race_priv</th>\n",
       "      <th>male&amp;race_priv_correct</th>\n",
       "      <th>male&amp;race_priv_incorrect</th>\n",
       "      <th>male&amp;race_dis</th>\n",
       "      <th>male&amp;race_dis_correct</th>\n",
       "      <th>male&amp;race_dis_incorrect</th>\n",
       "      <th>Model_Seed</th>\n",
       "      <th>Model_Name</th>\n",
       "      <th>Model_Params</th>\n",
       "    </tr>\n",
       "  </thead>\n",
       "  <tbody>\n",
       "    <tr>\n",
       "      <th>0</th>\n",
       "      <td>Mean</td>\n",
       "      <td>0.136022</td>\n",
       "      <td>0.135940</td>\n",
       "      <td>0.116270</td>\n",
       "      <td>0.338744</td>\n",
       "      <td>0.136126</td>\n",
       "      <td>0.112677</td>\n",
       "      <td>0.331613</td>\n",
       "      <td>0.111918</td>\n",
       "      <td>0.097968</td>\n",
       "      <td>...</td>\n",
       "      <td>0.380218</td>\n",
       "      <td>0.123927</td>\n",
       "      <td>0.106417</td>\n",
       "      <td>0.320580</td>\n",
       "      <td>0.270183</td>\n",
       "      <td>0.229080</td>\n",
       "      <td>0.386184</td>\n",
       "      <td>301</td>\n",
       "      <td>RandomForestClassifier</td>\n",
       "      <td>{'bootstrap': False, 'ccp_alpha': 0.0, 'class_...</td>\n",
       "    </tr>\n",
       "    <tr>\n",
       "      <th>1</th>\n",
       "      <td>Std</td>\n",
       "      <td>0.047445</td>\n",
       "      <td>0.047584</td>\n",
       "      <td>0.043186</td>\n",
       "      <td>0.092932</td>\n",
       "      <td>0.047268</td>\n",
       "      <td>0.041663</td>\n",
       "      <td>0.093993</td>\n",
       "      <td>0.042654</td>\n",
       "      <td>0.039190</td>\n",
       "      <td>...</td>\n",
       "      <td>0.097847</td>\n",
       "      <td>0.045116</td>\n",
       "      <td>0.040875</td>\n",
       "      <td>0.092750</td>\n",
       "      <td>0.073276</td>\n",
       "      <td>0.065269</td>\n",
       "      <td>0.095872</td>\n",
       "      <td>301</td>\n",
       "      <td>RandomForestClassifier</td>\n",
       "      <td>{'bootstrap': False, 'ccp_alpha': 0.0, 'class_...</td>\n",
       "    </tr>\n",
       "    <tr>\n",
       "      <th>2</th>\n",
       "      <td>IQR</td>\n",
       "      <td>0.067773</td>\n",
       "      <td>0.067880</td>\n",
       "      <td>0.061717</td>\n",
       "      <td>0.131431</td>\n",
       "      <td>0.067637</td>\n",
       "      <td>0.059622</td>\n",
       "      <td>0.134454</td>\n",
       "      <td>0.060958</td>\n",
       "      <td>0.056069</td>\n",
       "      <td>...</td>\n",
       "      <td>0.139478</td>\n",
       "      <td>0.064395</td>\n",
       "      <td>0.058421</td>\n",
       "      <td>0.131484</td>\n",
       "      <td>0.105245</td>\n",
       "      <td>0.093699</td>\n",
       "      <td>0.137831</td>\n",
       "      <td>301</td>\n",
       "      <td>RandomForestClassifier</td>\n",
       "      <td>{'bootstrap': False, 'ccp_alpha': 0.0, 'class_...</td>\n",
       "    </tr>\n",
       "    <tr>\n",
       "      <th>3</th>\n",
       "      <td>Aleatoric_Uncertainty</td>\n",
       "      <td>0.410666</td>\n",
       "      <td>0.414124</td>\n",
       "      <td>0.380054</td>\n",
       "      <td>0.765410</td>\n",
       "      <td>0.406262</td>\n",
       "      <td>0.361360</td>\n",
       "      <td>0.780596</td>\n",
       "      <td>0.369203</td>\n",
       "      <td>0.342608</td>\n",
       "      <td>...</td>\n",
       "      <td>0.826331</td>\n",
       "      <td>0.389674</td>\n",
       "      <td>0.357010</td>\n",
       "      <td>0.756507</td>\n",
       "      <td>0.643528</td>\n",
       "      <td>0.577687</td>\n",
       "      <td>0.829347</td>\n",
       "      <td>301</td>\n",
       "      <td>RandomForestClassifier</td>\n",
       "      <td>{'bootstrap': False, 'ccp_alpha': 0.0, 'class_...</td>\n",
       "    </tr>\n",
       "    <tr>\n",
       "      <th>4</th>\n",
       "      <td>Overall_Uncertainty</td>\n",
       "      <td>0.430264</td>\n",
       "      <td>0.433732</td>\n",
       "      <td>0.398106</td>\n",
       "      <td>0.801063</td>\n",
       "      <td>0.425847</td>\n",
       "      <td>0.378898</td>\n",
       "      <td>0.817254</td>\n",
       "      <td>0.387216</td>\n",
       "      <td>0.359302</td>\n",
       "      <td>...</td>\n",
       "      <td>0.862369</td>\n",
       "      <td>0.408554</td>\n",
       "      <td>0.374316</td>\n",
       "      <td>0.793080</td>\n",
       "      <td>0.671083</td>\n",
       "      <td>0.602727</td>\n",
       "      <td>0.863999</td>\n",
       "      <td>301</td>\n",
       "      <td>RandomForestClassifier</td>\n",
       "      <td>{'bootstrap': False, 'ccp_alpha': 0.0, 'class_...</td>\n",
       "    </tr>\n",
       "    <tr>\n",
       "      <th>5</th>\n",
       "      <td>Statistical_Bias</td>\n",
       "      <td>0.163988</td>\n",
       "      <td>0.161190</td>\n",
       "      <td>0.109006</td>\n",
       "      <td>0.699243</td>\n",
       "      <td>0.167551</td>\n",
       "      <td>0.104209</td>\n",
       "      <td>0.695616</td>\n",
       "      <td>0.136930</td>\n",
       "      <td>0.094500</td>\n",
       "      <td>...</td>\n",
       "      <td>0.661836</td>\n",
       "      <td>0.149976</td>\n",
       "      <td>0.100313</td>\n",
       "      <td>0.707719</td>\n",
       "      <td>0.319431</td>\n",
       "      <td>0.198063</td>\n",
       "      <td>0.661960</td>\n",
       "      <td>301</td>\n",
       "      <td>RandomForestClassifier</td>\n",
       "      <td>{'bootstrap': False, 'ccp_alpha': 0.0, 'class_...</td>\n",
       "    </tr>\n",
       "    <tr>\n",
       "      <th>6</th>\n",
       "      <td>Jitter</td>\n",
       "      <td>0.044792</td>\n",
       "      <td>0.042988</td>\n",
       "      <td>0.028647</td>\n",
       "      <td>0.190848</td>\n",
       "      <td>0.047089</td>\n",
       "      <td>0.030786</td>\n",
       "      <td>0.183006</td>\n",
       "      <td>0.031982</td>\n",
       "      <td>0.023168</td>\n",
       "      <td>...</td>\n",
       "      <td>0.235634</td>\n",
       "      <td>0.038007</td>\n",
       "      <td>0.025710</td>\n",
       "      <td>0.176108</td>\n",
       "      <td>0.120058</td>\n",
       "      <td>0.082921</td>\n",
       "      <td>0.224869</td>\n",
       "      <td>301</td>\n",
       "      <td>RandomForestClassifier</td>\n",
       "      <td>{'bootstrap': False, 'ccp_alpha': 0.0, 'class_...</td>\n",
       "    </tr>\n",
       "    <tr>\n",
       "      <th>7</th>\n",
       "      <td>Per_Sample_Accuracy</td>\n",
       "      <td>0.897534</td>\n",
       "      <td>0.905292</td>\n",
       "      <td>0.979237</td>\n",
       "      <td>0.142864</td>\n",
       "      <td>0.887656</td>\n",
       "      <td>0.978709</td>\n",
       "      <td>0.128571</td>\n",
       "      <td>0.924278</td>\n",
       "      <td>0.983297</td>\n",
       "      <td>...</td>\n",
       "      <td>0.172866</td>\n",
       "      <td>0.911889</td>\n",
       "      <td>0.981575</td>\n",
       "      <td>0.129263</td>\n",
       "      <td>0.738285</td>\n",
       "      <td>0.943583</td>\n",
       "      <td>0.158889</td>\n",
       "      <td>301</td>\n",
       "      <td>RandomForestClassifier</td>\n",
       "      <td>{'bootstrap': False, 'ccp_alpha': 0.0, 'class_...</td>\n",
       "    </tr>\n",
       "    <tr>\n",
       "      <th>8</th>\n",
       "      <td>Label_Stability</td>\n",
       "      <td>0.935904</td>\n",
       "      <td>0.937056</td>\n",
       "      <td>0.958644</td>\n",
       "      <td>0.714466</td>\n",
       "      <td>0.934437</td>\n",
       "      <td>0.957417</td>\n",
       "      <td>0.742857</td>\n",
       "      <td>0.954011</td>\n",
       "      <td>0.966691</td>\n",
       "      <td>...</td>\n",
       "      <td>0.654512</td>\n",
       "      <td>0.945131</td>\n",
       "      <td>0.963253</td>\n",
       "      <td>0.741603</td>\n",
       "      <td>0.833547</td>\n",
       "      <td>0.887165</td>\n",
       "      <td>0.682222</td>\n",
       "      <td>301</td>\n",
       "      <td>RandomForestClassifier</td>\n",
       "      <td>{'bootstrap': False, 'ccp_alpha': 0.0, 'class_...</td>\n",
       "    </tr>\n",
       "    <tr>\n",
       "      <th>9</th>\n",
       "      <td>TPR</td>\n",
       "      <td>0.976981</td>\n",
       "      <td>0.977401</td>\n",
       "      <td>1.000000</td>\n",
       "      <td>0.000000</td>\n",
       "      <td>0.976427</td>\n",
       "      <td>1.000000</td>\n",
       "      <td>0.000000</td>\n",
       "      <td>0.987187</td>\n",
       "      <td>1.000000</td>\n",
       "      <td>...</td>\n",
       "      <td>0.000000</td>\n",
       "      <td>0.983362</td>\n",
       "      <td>1.000000</td>\n",
       "      <td>0.000000</td>\n",
       "      <td>0.888000</td>\n",
       "      <td>1.000000</td>\n",
       "      <td>0.000000</td>\n",
       "      <td>301</td>\n",
       "      <td>RandomForestClassifier</td>\n",
       "      <td>{'bootstrap': False, 'ccp_alpha': 0.0, 'class_...</td>\n",
       "    </tr>\n",
       "    <tr>\n",
       "      <th>10</th>\n",
       "      <td>TNR</td>\n",
       "      <td>0.254717</td>\n",
       "      <td>0.233010</td>\n",
       "      <td>1.000000</td>\n",
       "      <td>0.000000</td>\n",
       "      <td>0.275229</td>\n",
       "      <td>1.000000</td>\n",
       "      <td>0.000000</td>\n",
       "      <td>0.190083</td>\n",
       "      <td>1.000000</td>\n",
       "      <td>...</td>\n",
       "      <td>0.000000</td>\n",
       "      <td>0.230303</td>\n",
       "      <td>1.000000</td>\n",
       "      <td>0.000000</td>\n",
       "      <td>0.340426</td>\n",
       "      <td>1.000000</td>\n",
       "      <td>0.000000</td>\n",
       "      <td>301</td>\n",
       "      <td>RandomForestClassifier</td>\n",
       "      <td>{'bootstrap': False, 'ccp_alpha': 0.0, 'class_...</td>\n",
       "    </tr>\n",
       "    <tr>\n",
       "      <th>11</th>\n",
       "      <td>PPV</td>\n",
       "      <td>0.920323</td>\n",
       "      <td>0.929275</td>\n",
       "      <td>1.000000</td>\n",
       "      <td>0.000000</td>\n",
       "      <td>0.908776</td>\n",
       "      <td>1.000000</td>\n",
       "      <td>0.000000</td>\n",
       "      <td>0.942890</td>\n",
       "      <td>1.000000</td>\n",
       "      <td>...</td>\n",
       "      <td>0.000000</td>\n",
       "      <td>0.931016</td>\n",
       "      <td>1.000000</td>\n",
       "      <td>0.000000</td>\n",
       "      <td>0.781690</td>\n",
       "      <td>1.000000</td>\n",
       "      <td>0.000000</td>\n",
       "      <td>301</td>\n",
       "      <td>RandomForestClassifier</td>\n",
       "      <td>{'bootstrap': False, 'ccp_alpha': 0.0, 'class_...</td>\n",
       "    </tr>\n",
       "    <tr>\n",
       "      <th>12</th>\n",
       "      <td>FNR</td>\n",
       "      <td>0.023019</td>\n",
       "      <td>0.022599</td>\n",
       "      <td>0.000000</td>\n",
       "      <td>1.000000</td>\n",
       "      <td>0.023573</td>\n",
       "      <td>0.000000</td>\n",
       "      <td>1.000000</td>\n",
       "      <td>0.012813</td>\n",
       "      <td>0.000000</td>\n",
       "      <td>...</td>\n",
       "      <td>1.000000</td>\n",
       "      <td>0.016638</td>\n",
       "      <td>0.000000</td>\n",
       "      <td>1.000000</td>\n",
       "      <td>0.112000</td>\n",
       "      <td>0.000000</td>\n",
       "      <td>1.000000</td>\n",
       "      <td>301</td>\n",
       "      <td>RandomForestClassifier</td>\n",
       "      <td>{'bootstrap': False, 'ccp_alpha': 0.0, 'class_...</td>\n",
       "    </tr>\n",
       "    <tr>\n",
       "      <th>13</th>\n",
       "      <td>FPR</td>\n",
       "      <td>0.745283</td>\n",
       "      <td>0.766990</td>\n",
       "      <td>0.000000</td>\n",
       "      <td>1.000000</td>\n",
       "      <td>0.724771</td>\n",
       "      <td>0.000000</td>\n",
       "      <td>1.000000</td>\n",
       "      <td>0.809917</td>\n",
       "      <td>0.000000</td>\n",
       "      <td>...</td>\n",
       "      <td>1.000000</td>\n",
       "      <td>0.769697</td>\n",
       "      <td>0.000000</td>\n",
       "      <td>1.000000</td>\n",
       "      <td>0.659574</td>\n",
       "      <td>0.000000</td>\n",
       "      <td>1.000000</td>\n",
       "      <td>301</td>\n",
       "      <td>RandomForestClassifier</td>\n",
       "      <td>{'bootstrap': False, 'ccp_alpha': 0.0, 'class_...</td>\n",
       "    </tr>\n",
       "    <tr>\n",
       "      <th>14</th>\n",
       "      <td>Accuracy</td>\n",
       "      <td>0.903365</td>\n",
       "      <td>0.911588</td>\n",
       "      <td>1.000000</td>\n",
       "      <td>0.000000</td>\n",
       "      <td>0.892896</td>\n",
       "      <td>1.000000</td>\n",
       "      <td>0.000000</td>\n",
       "      <td>0.932386</td>\n",
       "      <td>1.000000</td>\n",
       "      <td>...</td>\n",
       "      <td>0.000000</td>\n",
       "      <td>0.918239</td>\n",
       "      <td>1.000000</td>\n",
       "      <td>0.000000</td>\n",
       "      <td>0.738372</td>\n",
       "      <td>1.000000</td>\n",
       "      <td>0.000000</td>\n",
       "      <td>301</td>\n",
       "      <td>RandomForestClassifier</td>\n",
       "      <td>{'bootstrap': False, 'ccp_alpha': 0.0, 'class_...</td>\n",
       "    </tr>\n",
       "    <tr>\n",
       "      <th>15</th>\n",
       "      <td>F1</td>\n",
       "      <td>0.947806</td>\n",
       "      <td>0.952731</td>\n",
       "      <td>1.000000</td>\n",
       "      <td>0.000000</td>\n",
       "      <td>0.941388</td>\n",
       "      <td>1.000000</td>\n",
       "      <td>0.000000</td>\n",
       "      <td>0.964531</td>\n",
       "      <td>1.000000</td>\n",
       "      <td>...</td>\n",
       "      <td>0.000000</td>\n",
       "      <td>0.956473</td>\n",
       "      <td>1.000000</td>\n",
       "      <td>0.000000</td>\n",
       "      <td>0.831461</td>\n",
       "      <td>1.000000</td>\n",
       "      <td>0.000000</td>\n",
       "      <td>301</td>\n",
       "      <td>RandomForestClassifier</td>\n",
       "      <td>{'bootstrap': False, 'ccp_alpha': 0.0, 'class_...</td>\n",
       "    </tr>\n",
       "    <tr>\n",
       "      <th>16</th>\n",
       "      <td>Selection-Rate</td>\n",
       "      <td>0.953365</td>\n",
       "      <td>0.958798</td>\n",
       "      <td>0.977401</td>\n",
       "      <td>0.766990</td>\n",
       "      <td>0.946448</td>\n",
       "      <td>0.963280</td>\n",
       "      <td>0.806122</td>\n",
       "      <td>0.975000</td>\n",
       "      <td>0.985984</td>\n",
       "      <td>...</td>\n",
       "      <td>0.731707</td>\n",
       "      <td>0.964885</td>\n",
       "      <td>0.978311</td>\n",
       "      <td>0.814103</td>\n",
       "      <td>0.825581</td>\n",
       "      <td>0.874016</td>\n",
       "      <td>0.688889</td>\n",
       "      <td>301</td>\n",
       "      <td>RandomForestClassifier</td>\n",
       "      <td>{'bootstrap': False, 'ccp_alpha': 0.0, 'class_...</td>\n",
       "    </tr>\n",
       "    <tr>\n",
       "      <th>17</th>\n",
       "      <td>Positive-Rate</td>\n",
       "      <td>1.061563</td>\n",
       "      <td>1.051789</td>\n",
       "      <td>1.000000</td>\n",
       "      <td>3.291667</td>\n",
       "      <td>1.074442</td>\n",
       "      <td>1.000000</td>\n",
       "      <td>4.157895</td>\n",
       "      <td>1.046980</td>\n",
       "      <td>1.000000</td>\n",
       "      <td>...</td>\n",
       "      <td>2.727273</td>\n",
       "      <td>1.056225</td>\n",
       "      <td>1.000000</td>\n",
       "      <td>4.379310</td>\n",
       "      <td>1.136000</td>\n",
       "      <td>1.000000</td>\n",
       "      <td>2.214286</td>\n",
       "      <td>301</td>\n",
       "      <td>RandomForestClassifier</td>\n",
       "      <td>{'bootstrap': False, 'ccp_alpha': 0.0, 'class_...</td>\n",
       "    </tr>\n",
       "    <tr>\n",
       "      <th>18</th>\n",
       "      <td>Sample_Size</td>\n",
       "      <td>2080.000000</td>\n",
       "      <td>1165.000000</td>\n",
       "      <td>1062.000000</td>\n",
       "      <td>103.000000</td>\n",
       "      <td>915.000000</td>\n",
       "      <td>817.000000</td>\n",
       "      <td>98.000000</td>\n",
       "      <td>1760.000000</td>\n",
       "      <td>1641.000000</td>\n",
       "      <td>...</td>\n",
       "      <td>82.000000</td>\n",
       "      <td>1908.000000</td>\n",
       "      <td>1752.000000</td>\n",
       "      <td>156.000000</td>\n",
       "      <td>172.000000</td>\n",
       "      <td>127.000000</td>\n",
       "      <td>45.000000</td>\n",
       "      <td>301</td>\n",
       "      <td>RandomForestClassifier</td>\n",
       "      <td>{'bootstrap': False, 'ccp_alpha': 0.0, 'class_...</td>\n",
       "    </tr>\n",
       "  </tbody>\n",
       "</table>\n",
       "<p>19 rows × 23 columns</p>\n",
       "</div>"
      ],
      "text/plain": [
       "                   Metric      overall    male_priv  male_priv_correct  \\\n",
       "0                    Mean     0.136022     0.135940           0.116270   \n",
       "1                     Std     0.047445     0.047584           0.043186   \n",
       "2                     IQR     0.067773     0.067880           0.061717   \n",
       "3   Aleatoric_Uncertainty     0.410666     0.414124           0.380054   \n",
       "4     Overall_Uncertainty     0.430264     0.433732           0.398106   \n",
       "5        Statistical_Bias     0.163988     0.161190           0.109006   \n",
       "6                  Jitter     0.044792     0.042988           0.028647   \n",
       "7     Per_Sample_Accuracy     0.897534     0.905292           0.979237   \n",
       "8         Label_Stability     0.935904     0.937056           0.958644   \n",
       "9                     TPR     0.976981     0.977401           1.000000   \n",
       "10                    TNR     0.254717     0.233010           1.000000   \n",
       "11                    PPV     0.920323     0.929275           1.000000   \n",
       "12                    FNR     0.023019     0.022599           0.000000   \n",
       "13                    FPR     0.745283     0.766990           0.000000   \n",
       "14               Accuracy     0.903365     0.911588           1.000000   \n",
       "15                     F1     0.947806     0.952731           1.000000   \n",
       "16         Selection-Rate     0.953365     0.958798           0.977401   \n",
       "17          Positive-Rate     1.061563     1.051789           1.000000   \n",
       "18            Sample_Size  2080.000000  1165.000000        1062.000000   \n",
       "\n",
       "    male_priv_incorrect    male_dis  male_dis_correct  male_dis_incorrect  \\\n",
       "0              0.338744    0.136126          0.112677            0.331613   \n",
       "1              0.092932    0.047268          0.041663            0.093993   \n",
       "2              0.131431    0.067637          0.059622            0.134454   \n",
       "3              0.765410    0.406262          0.361360            0.780596   \n",
       "4              0.801063    0.425847          0.378898            0.817254   \n",
       "5              0.699243    0.167551          0.104209            0.695616   \n",
       "6              0.190848    0.047089          0.030786            0.183006   \n",
       "7              0.142864    0.887656          0.978709            0.128571   \n",
       "8              0.714466    0.934437          0.957417            0.742857   \n",
       "9              0.000000    0.976427          1.000000            0.000000   \n",
       "10             0.000000    0.275229          1.000000            0.000000   \n",
       "11             0.000000    0.908776          1.000000            0.000000   \n",
       "12             1.000000    0.023573          0.000000            1.000000   \n",
       "13             1.000000    0.724771          0.000000            1.000000   \n",
       "14             0.000000    0.892896          1.000000            0.000000   \n",
       "15             0.000000    0.941388          1.000000            0.000000   \n",
       "16             0.766990    0.946448          0.963280            0.806122   \n",
       "17             3.291667    1.074442          1.000000            4.157895   \n",
       "18           103.000000  915.000000        817.000000           98.000000   \n",
       "\n",
       "      race_priv  race_priv_correct  ...  race_dis_incorrect  male&race_priv  \\\n",
       "0      0.111918           0.097968  ...            0.380218        0.123927   \n",
       "1      0.042654           0.039190  ...            0.097847        0.045116   \n",
       "2      0.060958           0.056069  ...            0.139478        0.064395   \n",
       "3      0.369203           0.342608  ...            0.826331        0.389674   \n",
       "4      0.387216           0.359302  ...            0.862369        0.408554   \n",
       "5      0.136930           0.094500  ...            0.661836        0.149976   \n",
       "6      0.031982           0.023168  ...            0.235634        0.038007   \n",
       "7      0.924278           0.983297  ...            0.172866        0.911889   \n",
       "8      0.954011           0.966691  ...            0.654512        0.945131   \n",
       "9      0.987187           1.000000  ...            0.000000        0.983362   \n",
       "10     0.190083           1.000000  ...            0.000000        0.230303   \n",
       "11     0.942890           1.000000  ...            0.000000        0.931016   \n",
       "12     0.012813           0.000000  ...            1.000000        0.016638   \n",
       "13     0.809917           0.000000  ...            1.000000        0.769697   \n",
       "14     0.932386           1.000000  ...            0.000000        0.918239   \n",
       "15     0.964531           1.000000  ...            0.000000        0.956473   \n",
       "16     0.975000           0.985984  ...            0.731707        0.964885   \n",
       "17     1.046980           1.000000  ...            2.727273        1.056225   \n",
       "18  1760.000000        1641.000000  ...           82.000000     1908.000000   \n",
       "\n",
       "    male&race_priv_correct  male&race_priv_incorrect  male&race_dis  \\\n",
       "0                 0.106417                  0.320580       0.270183   \n",
       "1                 0.040875                  0.092750       0.073276   \n",
       "2                 0.058421                  0.131484       0.105245   \n",
       "3                 0.357010                  0.756507       0.643528   \n",
       "4                 0.374316                  0.793080       0.671083   \n",
       "5                 0.100313                  0.707719       0.319431   \n",
       "6                 0.025710                  0.176108       0.120058   \n",
       "7                 0.981575                  0.129263       0.738285   \n",
       "8                 0.963253                  0.741603       0.833547   \n",
       "9                 1.000000                  0.000000       0.888000   \n",
       "10                1.000000                  0.000000       0.340426   \n",
       "11                1.000000                  0.000000       0.781690   \n",
       "12                0.000000                  1.000000       0.112000   \n",
       "13                0.000000                  1.000000       0.659574   \n",
       "14                1.000000                  0.000000       0.738372   \n",
       "15                1.000000                  0.000000       0.831461   \n",
       "16                0.978311                  0.814103       0.825581   \n",
       "17                1.000000                  4.379310       1.136000   \n",
       "18             1752.000000                156.000000     172.000000   \n",
       "\n",
       "    male&race_dis_correct  male&race_dis_incorrect  Model_Seed  \\\n",
       "0                0.229080                 0.386184         301   \n",
       "1                0.065269                 0.095872         301   \n",
       "2                0.093699                 0.137831         301   \n",
       "3                0.577687                 0.829347         301   \n",
       "4                0.602727                 0.863999         301   \n",
       "5                0.198063                 0.661960         301   \n",
       "6                0.082921                 0.224869         301   \n",
       "7                0.943583                 0.158889         301   \n",
       "8                0.887165                 0.682222         301   \n",
       "9                1.000000                 0.000000         301   \n",
       "10               1.000000                 0.000000         301   \n",
       "11               1.000000                 0.000000         301   \n",
       "12               0.000000                 1.000000         301   \n",
       "13               0.000000                 1.000000         301   \n",
       "14               1.000000                 0.000000         301   \n",
       "15               1.000000                 0.000000         301   \n",
       "16               0.874016                 0.688889         301   \n",
       "17               1.000000                 2.214286         301   \n",
       "18             127.000000                45.000000         301   \n",
       "\n",
       "                Model_Name                                       Model_Params  \n",
       "0   RandomForestClassifier  {'bootstrap': False, 'ccp_alpha': 0.0, 'class_...  \n",
       "1   RandomForestClassifier  {'bootstrap': False, 'ccp_alpha': 0.0, 'class_...  \n",
       "2   RandomForestClassifier  {'bootstrap': False, 'ccp_alpha': 0.0, 'class_...  \n",
       "3   RandomForestClassifier  {'bootstrap': False, 'ccp_alpha': 0.0, 'class_...  \n",
       "4   RandomForestClassifier  {'bootstrap': False, 'ccp_alpha': 0.0, 'class_...  \n",
       "5   RandomForestClassifier  {'bootstrap': False, 'ccp_alpha': 0.0, 'class_...  \n",
       "6   RandomForestClassifier  {'bootstrap': False, 'ccp_alpha': 0.0, 'class_...  \n",
       "7   RandomForestClassifier  {'bootstrap': False, 'ccp_alpha': 0.0, 'class_...  \n",
       "8   RandomForestClassifier  {'bootstrap': False, 'ccp_alpha': 0.0, 'class_...  \n",
       "9   RandomForestClassifier  {'bootstrap': False, 'ccp_alpha': 0.0, 'class_...  \n",
       "10  RandomForestClassifier  {'bootstrap': False, 'ccp_alpha': 0.0, 'class_...  \n",
       "11  RandomForestClassifier  {'bootstrap': False, 'ccp_alpha': 0.0, 'class_...  \n",
       "12  RandomForestClassifier  {'bootstrap': False, 'ccp_alpha': 0.0, 'class_...  \n",
       "13  RandomForestClassifier  {'bootstrap': False, 'ccp_alpha': 0.0, 'class_...  \n",
       "14  RandomForestClassifier  {'bootstrap': False, 'ccp_alpha': 0.0, 'class_...  \n",
       "15  RandomForestClassifier  {'bootstrap': False, 'ccp_alpha': 0.0, 'class_...  \n",
       "16  RandomForestClassifier  {'bootstrap': False, 'ccp_alpha': 0.0, 'class_...  \n",
       "17  RandomForestClassifier  {'bootstrap': False, 'ccp_alpha': 0.0, 'class_...  \n",
       "18  RandomForestClassifier  {'bootstrap': False, 'ccp_alpha': 0.0, 'class_...  \n",
       "\n",
       "[19 rows x 23 columns]"
      ]
     },
     "metadata": {},
     "output_type": "display_data"
    },
    {
     "name": "stdout",
     "output_type": "stream",
     "text": [
      "\n",
      "\n",
      "\n",
      "\n"
     ]
    },
    {
     "name": "stderr",
     "output_type": "stream",
     "text": [
      "2023-08-06 18:43:21 experiment_interface.py INFO    : Experiment run was successful!\n",
      "INFO:root:Experiment run was successful!\n"
     ]
    }
   ],
   "source": [
    "run_exp_iter_with_disparate_impact(data_loader=exp_iter_data_loader,\n",
    "                                   experiment_seed=experiment_seed,\n",
    "                                   test_set_fraction=TEST_SET_FRACTION,\n",
    "                                   db_writer_func=db_writer_func,\n",
    "                                   fair_intervention_params_lst=FAIR_INTERVENTION_PARAMS_LST,\n",
    "                                   models_params_for_tuning=models_params_for_tuning,\n",
    "                                   metrics_computation_config=metrics_computation_config,\n",
    "                                   custom_table_fields_dct=custom_table_fields_dct,\n",
    "#                                    with_tuning=True,\n",
    "                                   with_tuning=False,\n",
    "                                   tuned_params_df_paths=tuned_params_df_paths,\n",
    "                                   save_results_dir_path=SAVE_RESULTS_DIR_PATH,\n",
    "                                   verbose=True, \n",
    "                                   dataset_name=DATASET_NAME)"
   ]
  },
  {
   "cell_type": "markdown",
   "id": "e9929895",
   "metadata": {},
   "source": [
    "### Experiment iteration 4"
   ]
  },
  {
   "cell_type": "code",
   "execution_count": null,
   "id": "87cfca51",
   "metadata": {},
   "outputs": [],
   "source": [
    "# Configs for an experiment iteration\n",
    "exp_iter_num = 4\n",
    "experiment_seed = EXPERIMENT_SEEDS[exp_iter_num - 1]\n",
    "tuned_params_filenames = [\n",
    "    'tuning_results_Law_School_alpha_0.1_20230806__195840.csv',\n",
    "    'tuning_results_Law_School_alpha_0.9_20230806__195951.csv',\n",
    "]\n",
    "tuned_params_df_paths = [os.path.join(ROOT_DIR, 'results', EXPERIMENT_NAME, tuned_params_filename)\n",
    "                         for tuned_params_filename in tuned_params_filenames]\n",
    "custom_table_fields_dct['experiment_iteration'] = f'Exp_iter_{exp_iter_num}'\n",
    "\n",
    "exp_iter_data_loader = copy.deepcopy(data_loader)  # Add deepcopy to avoid data leakage\n",
    "models_params_for_tuning = get_model_params_for_mult_repair_levels(experiment_seed)"
   ]
  },
  {
   "cell_type": "code",
   "execution_count": 46,
   "id": "e8c03bb0",
   "metadata": {},
   "outputs": [],
   "source": [
    "run_exp_iter_with_disparate_impact(data_loader=exp_iter_data_loader,\n",
    "                                   experiment_seed=experiment_seed,\n",
    "                                   test_set_fraction=TEST_SET_FRACTION,\n",
    "                                   db_writer_func=db_writer_func,\n",
    "                                   fair_intervention_params_lst=FAIR_INTERVENTION_PARAMS_LST,\n",
    "                                   models_params_for_tuning=models_params_for_tuning,\n",
    "                                   metrics_computation_config=metrics_computation_config,\n",
    "                                   custom_table_fields_dct=custom_table_fields_dct,\n",
    "#                                    with_tuning=True,\n",
    "                                   with_tuning=False,\n",
    "                                   tuned_params_df_paths=tuned_params_df_paths,\n",
    "                                   save_results_dir_path=SAVE_RESULTS_DIR_PATH,\n",
    "                                   verbose=True, \n",
    "                                   dataset_name=DATASET_NAME)"
   ]
  },
  {
   "cell_type": "markdown",
   "id": "fd6aa34e",
   "metadata": {},
   "source": [
    "### Experiment iteration 5"
   ]
  },
  {
   "cell_type": "code",
   "execution_count": null,
   "id": "54ae4492",
   "metadata": {},
   "outputs": [],
   "source": [
    "# Configs for an experiment iteration\n",
    "exp_iter_num = 5\n",
    "experiment_seed = EXPERIMENT_SEEDS[exp_iter_num - 1]\n",
    "tuned_params_filenames = [\n",
    "    'tuning_results_Law_School_alpha_0.1_20230806__195840.csv',\n",
    "    'tuning_results_Law_School_alpha_0.9_20230806__195951.csv',\n",
    "]\n",
    "tuned_params_df_paths = [os.path.join(ROOT_DIR, 'results', EXPERIMENT_NAME, tuned_params_filename)\n",
    "                         for tuned_params_filename in tuned_params_filenames]\n",
    "custom_table_fields_dct['experiment_iteration'] = f'Exp_iter_{exp_iter_num}'\n",
    "\n",
    "exp_iter_data_loader = copy.deepcopy(data_loader)  # Add deepcopy to avoid data leakage\n",
    "models_params_for_tuning = get_model_params_for_mult_repair_levels(experiment_seed)"
   ]
  },
  {
   "cell_type": "code",
   "execution_count": null,
   "id": "de31479b",
   "metadata": {},
   "outputs": [],
   "source": [
    "run_exp_iter_with_disparate_impact(data_loader=exp_iter_data_loader,\n",
    "                                   experiment_seed=experiment_seed,\n",
    "                                   test_set_fraction=TEST_SET_FRACTION,\n",
    "                                   db_writer_func=db_writer_func,\n",
    "                                   fair_intervention_params_lst=FAIR_INTERVENTION_PARAMS_LST,\n",
    "                                   models_params_for_tuning=models_params_for_tuning,\n",
    "                                   metrics_computation_config=metrics_computation_config,\n",
    "                                   custom_table_fields_dct=custom_table_fields_dct,\n",
    "#                                    with_tuning=True,\n",
    "                                   with_tuning=False,\n",
    "                                   tuned_params_df_paths=tuned_params_df_paths,\n",
    "                                   save_results_dir_path=SAVE_RESULTS_DIR_PATH,\n",
    "                                   verbose=True, \n",
    "                                   dataset_name=DATASET_NAME)"
   ]
  },
  {
   "cell_type": "markdown",
   "id": "673ef32f",
   "metadata": {},
   "source": [
    "### Experiment iteration 6"
   ]
  },
  {
   "cell_type": "code",
   "execution_count": null,
   "id": "614cf6f0",
   "metadata": {},
   "outputs": [],
   "source": [
    "# Configs for an experiment iteration\n",
    "exp_iter_num = 6\n",
    "experiment_seed = EXPERIMENT_SEEDS[exp_iter_num - 1]\n",
    "tuned_params_filenames = [\n",
    "    'tuning_results_Law_School_alpha_0.1_20230806__195840.csv',\n",
    "    'tuning_results_Law_School_alpha_0.9_20230806__195951.csv',\n",
    "]\n",
    "tuned_params_df_paths = [os.path.join(ROOT_DIR, 'results', EXPERIMENT_NAME, tuned_params_filename)\n",
    "                         for tuned_params_filename in tuned_params_filenames]\n",
    "custom_table_fields_dct['experiment_iteration'] = f'Exp_iter_{exp_iter_num}'\n",
    "\n",
    "exp_iter_data_loader = copy.deepcopy(data_loader)  # Add deepcopy to avoid data leakage\n",
    "models_params_for_tuning = get_model_params_for_mult_repair_levels(experiment_seed)"
   ]
  },
  {
   "cell_type": "code",
   "execution_count": null,
   "id": "1fd848a2",
   "metadata": {},
   "outputs": [],
   "source": [
    "run_exp_iter_with_disparate_impact(data_loader=exp_iter_data_loader,\n",
    "                                   experiment_seed=experiment_seed,\n",
    "                                   test_set_fraction=TEST_SET_FRACTION,\n",
    "                                   db_writer_func=db_writer_func,\n",
    "                                   fair_intervention_params_lst=FAIR_INTERVENTION_PARAMS_LST,\n",
    "                                   models_params_for_tuning=models_params_for_tuning,\n",
    "                                   metrics_computation_config=metrics_computation_config,\n",
    "                                   custom_table_fields_dct=custom_table_fields_dct,\n",
    "#                                    with_tuning=True,\n",
    "                                   with_tuning=False,\n",
    "                                   tuned_params_df_paths=tuned_params_df_paths,\n",
    "                                   save_results_dir_path=SAVE_RESULTS_DIR_PATH,\n",
    "                                   verbose=True, \n",
    "                                   dataset_name=DATASET_NAME)"
   ]
  },
  {
   "cell_type": "code",
   "execution_count": null,
   "id": "a2e2e110",
   "metadata": {},
   "outputs": [],
   "source": []
  }
 ],
 "metadata": {
  "kernelspec": {
   "display_name": "Python 3",
   "language": "python",
   "name": "python3"
  },
  "language_info": {
   "codemirror_mode": {
    "name": "ipython",
    "version": 3
   },
   "file_extension": ".py",
   "mimetype": "text/x-python",
   "name": "python",
   "nbconvert_exporter": "python",
   "pygments_lexer": "ipython3",
   "version": "3.8.5"
  }
 },
 "nbformat": 4,
 "nbformat_minor": 5
}
