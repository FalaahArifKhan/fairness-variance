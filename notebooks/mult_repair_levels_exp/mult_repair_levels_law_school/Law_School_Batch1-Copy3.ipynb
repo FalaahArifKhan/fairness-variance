{
 "cells": [
  {
   "cell_type": "code",
   "execution_count": 15,
   "id": "a8f9bc53",
   "metadata": {},
   "outputs": [],
   "source": [
    "# !pip install -r ./requirements.txt"
   ]
  },
  {
   "cell_type": "code",
   "execution_count": 6,
   "id": "856db1ee",
   "metadata": {},
   "outputs": [],
   "source": [
    "# !pip uninstall virny -y"
   ]
  },
  {
   "cell_type": "code",
   "execution_count": 8,
   "id": "8c5cc360",
   "metadata": {},
   "outputs": [],
   "source": [
    "# Install using an HTTP link\n",
    "# !pip install git+https://github.com/DataResponsibly/Virny.git@development\n",
    "\n",
    "# Install using an SSH link\n",
    "# !pip install git+ssh://git@github.com/DataResponsibly/Virny.git@development"
   ]
  },
  {
   "cell_type": "code",
   "execution_count": 9,
   "id": "2c76abac",
   "metadata": {},
   "outputs": [],
   "source": [
    "# !pip install aif360"
   ]
  },
  {
   "cell_type": "code",
   "execution_count": 10,
   "id": "bda31cf7",
   "metadata": {},
   "outputs": [],
   "source": [
    "# !pip install BlackBoxAuditing==0.1.54"
   ]
  },
  {
   "cell_type": "code",
   "execution_count": 1,
   "id": "9c9ef4de",
   "metadata": {},
   "outputs": [],
   "source": [
    "%matplotlib inline\n",
    "%load_ext autoreload\n",
    "%autoreload 2"
   ]
  },
  {
   "cell_type": "code",
   "execution_count": 2,
   "id": "0295231c",
   "metadata": {},
   "outputs": [],
   "source": [
    "import os\n",
    "import warnings\n",
    "warnings.filterwarnings('ignore')\n",
    "os.environ[\"PYTHONWARNINGS\"] = \"ignore\""
   ]
  },
  {
   "cell_type": "code",
   "execution_count": 3,
   "id": "bce384b4",
   "metadata": {},
   "outputs": [
    {
     "name": "stdout",
     "output_type": "stream",
     "text": [
      "Current location:  /home/dh3553/projects/fairness-variance\n"
     ]
    }
   ],
   "source": [
    "cur_folder_name = os.getcwd().split('/')[-1]\n",
    "if cur_folder_name != \"fairness-variance\":\n",
    "    os.chdir(\"../..\")\n",
    "\n",
    "print('Current location: ', os.getcwd())"
   ]
  },
  {
   "cell_type": "markdown",
   "id": "e4fca109",
   "metadata": {},
   "source": [
    "## Import dependencies"
   ]
  },
  {
   "cell_type": "code",
   "execution_count": 4,
   "id": "fef183ba",
   "metadata": {},
   "outputs": [
    {
     "name": "stderr",
     "output_type": "stream",
     "text": [
      "WARNING:root:No module named 'tempeh': LawSchoolGPADataset will be unavailable. To install, run:\n",
      "pip install 'aif360[LawSchoolGPA]'\n",
      "WARNING:root:No module named 'tensorflow': AdversarialDebiasing will be unavailable. To install, run:\n",
      "pip install 'aif360[AdversarialDebiasing]'\n",
      "WARNING:root:No module named 'tensorflow': AdversarialDebiasing will be unavailable. To install, run:\n",
      "pip install 'aif360[AdversarialDebiasing]'\n"
     ]
    }
   ],
   "source": [
    "import os\n",
    "import copy\n",
    "\n",
    "from virny.utils.custom_initializers import create_config_obj\n",
    "from virny.datasets import LawSchoolDataset\n",
    "\n",
    "from configs.constants import TEST_SET_FRACTION, EXPERIMENT_SEEDS\n",
    "from configs.models_config_for_tuning import get_model_params_for_mult_repair_levels\n",
    "\n",
    "from source.preprocessing import get_simple_preprocessor\n",
    "from source.experiment_interface import run_exp_iter_with_disparate_impact"
   ]
  },
  {
   "cell_type": "markdown",
   "id": "28bc6ba5",
   "metadata": {},
   "source": [
    "## Define Input Variables"
   ]
  },
  {
   "cell_type": "code",
   "execution_count": 5,
   "id": "62621077",
   "metadata": {},
   "outputs": [],
   "source": [
    "# ROOT_DIR = os.path.join(os.getcwd(), \"..\", \"..\")\n",
    "ROOT_DIR = os.getcwd()\n",
    "EXPERIMENT_NAME = 'mult_repair_levels_law_school'\n",
    "DB_COLLECTION_NAME = 'exp_mult_repair_levels'\n",
    "DATASET_NAME = 'LawSchoolDataset'\n",
    "SAVE_RESULTS_DIR_PATH = os.path.join(ROOT_DIR, 'results', EXPERIMENT_NAME)\n",
    "# FAIR_INTERVENTION_PARAMS_LST = [0.0, 0.1, 0.2, 0.3, 0.4, 0.5, 0.6, 0.7, 0.8, 0.9, 1.0]\n",
    "FAIR_INTERVENTION_PARAMS_LST = [0.1, 0.9]\n",
    "\n",
    "config_yaml_path = os.path.join(ROOT_DIR, 'notebooks', EXPERIMENT_NAME, 'law_school_2018_config.yaml')\n",
    "metrics_computation_config = create_config_obj(config_yaml_path=config_yaml_path)"
   ]
  },
  {
   "cell_type": "markdown",
   "id": "d7f1a72c",
   "metadata": {},
   "source": [
    "## Define a db writer and custom fields to insert into your database"
   ]
  },
  {
   "cell_type": "code",
   "execution_count": 6,
   "id": "0ba13a4b",
   "metadata": {},
   "outputs": [
    {
     "data": {
      "text/plain": [
       "'fairness_variance'"
      ]
     },
     "execution_count": 6,
     "metadata": {},
     "output_type": "execute_result"
    }
   ],
   "source": [
    "import os\n",
    "from dotenv import load_dotenv\n",
    "\n",
    "load_dotenv('./configs/secrets.env')\n",
    "os.getenv(\"DB_NAME\")"
   ]
  },
  {
   "cell_type": "code",
   "execution_count": 7,
   "id": "e7a2dad1",
   "metadata": {},
   "outputs": [],
   "source": [
    "from source.utils.db_functions import connect_to_mongodb\n",
    "\n",
    "client, collection_obj, db_writer_func = connect_to_mongodb(DB_COLLECTION_NAME)"
   ]
  },
  {
   "cell_type": "code",
   "execution_count": 8,
   "id": "90b40ee4",
   "metadata": {},
   "outputs": [
    {
     "name": "stdout",
     "output_type": "stream",
     "text": [
      "Current session uuid:  9430484b-bec6-42a0-ac65-11c53446a61f\n"
     ]
    }
   ],
   "source": [
    "import uuid\n",
    "\n",
    "custom_table_fields_dct = {\n",
    "#     'session_uuid': str(uuid.uuid4()),\n",
    "    'session_uuid': '9430484b-bec6-42a0-ac65-11c53446a61f',\n",
    "}\n",
    "print('Current session uuid: ', custom_table_fields_dct['session_uuid'])"
   ]
  },
  {
   "cell_type": "markdown",
   "id": "91cb9794",
   "metadata": {},
   "source": [
    "## Initialize custom objects"
   ]
  },
  {
   "cell_type": "code",
   "execution_count": 9,
   "id": "aa05a876",
   "metadata": {},
   "outputs": [
    {
     "data": {
      "text/html": [
       "<div>\n",
       "<style scoped>\n",
       "    .dataframe tbody tr th:only-of-type {\n",
       "        vertical-align: middle;\n",
       "    }\n",
       "\n",
       "    .dataframe tbody tr th {\n",
       "        vertical-align: top;\n",
       "    }\n",
       "\n",
       "    .dataframe thead th {\n",
       "        text-align: right;\n",
       "    }\n",
       "</style>\n",
       "<table border=\"1\" class=\"dataframe\">\n",
       "  <thead>\n",
       "    <tr style=\"text-align: right;\">\n",
       "      <th></th>\n",
       "      <th>decile1b</th>\n",
       "      <th>decile3</th>\n",
       "      <th>lsat</th>\n",
       "      <th>ugpa</th>\n",
       "      <th>zfygpa</th>\n",
       "      <th>zgpa</th>\n",
       "      <th>fulltime</th>\n",
       "      <th>fam_inc</th>\n",
       "      <th>male</th>\n",
       "      <th>tier</th>\n",
       "      <th>race</th>\n",
       "    </tr>\n",
       "  </thead>\n",
       "  <tbody>\n",
       "    <tr>\n",
       "      <th>0</th>\n",
       "      <td>10.0</td>\n",
       "      <td>10.0</td>\n",
       "      <td>44.0</td>\n",
       "      <td>3.5</td>\n",
       "      <td>1.33</td>\n",
       "      <td>1.88</td>\n",
       "      <td>1.0</td>\n",
       "      <td>5.0</td>\n",
       "      <td>0.0</td>\n",
       "      <td>4.0</td>\n",
       "      <td>White</td>\n",
       "    </tr>\n",
       "    <tr>\n",
       "      <th>1</th>\n",
       "      <td>5.0</td>\n",
       "      <td>4.0</td>\n",
       "      <td>29.0</td>\n",
       "      <td>3.5</td>\n",
       "      <td>-0.11</td>\n",
       "      <td>-0.57</td>\n",
       "      <td>1.0</td>\n",
       "      <td>4.0</td>\n",
       "      <td>0.0</td>\n",
       "      <td>2.0</td>\n",
       "      <td>White</td>\n",
       "    </tr>\n",
       "    <tr>\n",
       "      <th>2</th>\n",
       "      <td>8.0</td>\n",
       "      <td>7.0</td>\n",
       "      <td>37.0</td>\n",
       "      <td>3.4</td>\n",
       "      <td>0.63</td>\n",
       "      <td>0.37</td>\n",
       "      <td>1.0</td>\n",
       "      <td>3.0</td>\n",
       "      <td>1.0</td>\n",
       "      <td>4.0</td>\n",
       "      <td>White</td>\n",
       "    </tr>\n",
       "    <tr>\n",
       "      <th>3</th>\n",
       "      <td>8.0</td>\n",
       "      <td>7.0</td>\n",
       "      <td>43.0</td>\n",
       "      <td>3.3</td>\n",
       "      <td>0.67</td>\n",
       "      <td>0.34</td>\n",
       "      <td>1.0</td>\n",
       "      <td>4.0</td>\n",
       "      <td>0.0</td>\n",
       "      <td>4.0</td>\n",
       "      <td>White</td>\n",
       "    </tr>\n",
       "    <tr>\n",
       "      <th>4</th>\n",
       "      <td>3.0</td>\n",
       "      <td>2.0</td>\n",
       "      <td>41.0</td>\n",
       "      <td>3.3</td>\n",
       "      <td>-0.67</td>\n",
       "      <td>-1.30</td>\n",
       "      <td>1.0</td>\n",
       "      <td>4.0</td>\n",
       "      <td>0.0</td>\n",
       "      <td>5.0</td>\n",
       "      <td>White</td>\n",
       "    </tr>\n",
       "  </tbody>\n",
       "</table>\n",
       "</div>"
      ],
      "text/plain": [
       "   decile1b  decile3  lsat  ugpa  zfygpa  zgpa fulltime fam_inc male tier  \\\n",
       "0      10.0     10.0  44.0   3.5    1.33  1.88      1.0     5.0  0.0  4.0   \n",
       "1       5.0      4.0  29.0   3.5   -0.11 -0.57      1.0     4.0  0.0  2.0   \n",
       "2       8.0      7.0  37.0   3.4    0.63  0.37      1.0     3.0  1.0  4.0   \n",
       "3       8.0      7.0  43.0   3.3    0.67  0.34      1.0     4.0  0.0  4.0   \n",
       "4       3.0      2.0  41.0   3.3   -0.67 -1.30      1.0     4.0  0.0  5.0   \n",
       "\n",
       "    race  \n",
       "0  White  \n",
       "1  White  \n",
       "2  White  \n",
       "3  White  \n",
       "4  White  "
      ]
     },
     "execution_count": 9,
     "metadata": {},
     "output_type": "execute_result"
    }
   ],
   "source": [
    "data_loader = LawSchoolDataset()\n",
    "data_loader.X_data.head()"
   ]
  },
  {
   "cell_type": "code",
   "execution_count": 10,
   "id": "b657d957",
   "metadata": {},
   "outputs": [
    {
     "data": {
      "text/plain": [
       "(20798, 11)"
      ]
     },
     "execution_count": 10,
     "metadata": {},
     "output_type": "execute_result"
    }
   ],
   "source": [
    "data_loader.X_data.shape"
   ]
  },
  {
   "cell_type": "code",
   "execution_count": 11,
   "id": "6c60fec9",
   "metadata": {},
   "outputs": [
    {
     "data": {
      "text/plain": [
       "decile1b    float64\n",
       "decile3     float64\n",
       "lsat        float64\n",
       "ugpa        float64\n",
       "zfygpa      float64\n",
       "zgpa        float64\n",
       "fulltime     object\n",
       "fam_inc      object\n",
       "male         object\n",
       "tier         object\n",
       "race         object\n",
       "dtype: object"
      ]
     },
     "execution_count": 11,
     "metadata": {},
     "output_type": "execute_result"
    }
   ],
   "source": [
    "data_loader.X_data.dtypes"
   ]
  },
  {
   "cell_type": "code",
   "execution_count": 12,
   "id": "b839bb34",
   "metadata": {},
   "outputs": [
    {
     "data": {
      "text/plain": [
       "1.0    18505\n",
       "0.0     2293\n",
       "Name: pass_bar, dtype: int64"
      ]
     },
     "execution_count": 12,
     "metadata": {},
     "output_type": "execute_result"
    }
   ],
   "source": [
    "data_loader.y_data.value_counts()"
   ]
  },
  {
   "cell_type": "code",
   "execution_count": 13,
   "id": "0abe0962",
   "metadata": {},
   "outputs": [
    {
     "data": {
      "text/plain": [
       "White        17491\n",
       "Non-White     3307\n",
       "Name: race, dtype: int64"
      ]
     },
     "execution_count": 13,
     "metadata": {},
     "output_type": "execute_result"
    }
   ],
   "source": [
    "data_loader.X_data['race'].value_counts()"
   ]
  },
  {
   "cell_type": "code",
   "execution_count": 14,
   "id": "f42bee3f",
   "metadata": {},
   "outputs": [
    {
     "data": {
      "text/plain": [
       "1.0    11675\n",
       "0.0     9123\n",
       "Name: male, dtype: int64"
      ]
     },
     "execution_count": 14,
     "metadata": {},
     "output_type": "execute_result"
    }
   ],
   "source": [
    "data_loader.X_data['male'].value_counts()"
   ]
  },
  {
   "cell_type": "markdown",
   "id": "8989169c",
   "metadata": {},
   "source": [
    "## Run experiment iterations"
   ]
  },
  {
   "cell_type": "markdown",
   "id": "8d4a3a77",
   "metadata": {},
   "source": [
    "### Experiment iteration 1"
   ]
  },
  {
   "cell_type": "code",
   "execution_count": 79,
   "id": "3381d96f",
   "metadata": {},
   "outputs": [],
   "source": [
    "# tuned_params_filenames = ['tuning_results_Folktables_NY_2018_Employment_alpha_0.8_20230706__115508.csv']\n",
    "# tuned_params_df_paths = [os.path.join(ROOT_DIR, 'results', EXPERIMENT_NAME, tuned_params_filename)\n",
    "#                          for tuned_params_filename in tuned_params_filenames]"
   ]
  },
  {
   "cell_type": "code",
   "execution_count": 80,
   "id": "f4417fa7",
   "metadata": {},
   "outputs": [],
   "source": [
    "# Configs for an experiment iteration\n",
    "exp_iter_num = 1\n",
    "experiment_seed = EXPERIMENT_SEEDS[exp_iter_num - 1]\n",
    "custom_table_fields_dct['experiment_iteration'] = f'Exp_iter_{exp_iter_num}'\n",
    "\n",
    "exp_iter_data_loader = copy.deepcopy(data_loader)  # Add deepcopy to avoid data leakage\n",
    "models_params_for_tuning = get_model_params_for_mult_repair_levels(experiment_seed)"
   ]
  },
  {
   "cell_type": "code",
   "execution_count": 81,
   "id": "ca1d2055",
   "metadata": {},
   "outputs": [
    {
     "name": "stderr",
     "output_type": "stream",
     "text": [
      "2023-08-06 15:52:20 experiment_interface.py INFO    : Start an experiment iteration for the following custom params:\n",
      "INFO:root:Start an experiment iteration for the following custom params:\n"
     ]
    },
    {
     "name": "stdout",
     "output_type": "stream",
     "text": [
      "{'dataset_split_seed': 100,\n",
      " 'experiment_iteration': 'Exp_iter_1',\n",
      " 'fair_intervention_params_lst': '[0.1, 0.3]',\n",
      " 'model_init_seed': 100,\n",
      " 'session_uuid': '9430484b-bec6-42a0-ac65-11c53446a61f'}\n",
      "\n",
      "\n"
     ]
    },
    {
     "name": "stderr",
     "output_type": "stream",
     "text": [
      "2023-08-06 15:52:20 experiment_interface.py INFO    : The dataset is preprocessed\n",
      "INFO:root:The dataset is preprocessed\n"
     ]
    },
    {
     "name": "stdout",
     "output_type": "stream",
     "text": [
      "Top indexes of an X_test in a base flow dataset:  Int64Index([ 7102,   593, 18841,  5078, 14172,  8064, 13554, 13401, 17015,\n",
      "            18446,  6938,  3450,  9375, 19994, 16100,  4401,   142, 15143,\n",
      "             2188,  4332],\n",
      "           dtype='int64')\n",
      "Top indexes of an y_test in a base flow dataset:  Int64Index([ 7102,   593, 18841,  5078, 14172,  8064, 13554, 13401, 17015,\n",
      "            18446,  6938,  3450,  9375, 19994, 16100,  4401,   142, 15143,\n",
      "             2188,  4332],\n",
      "           dtype='int64')\n"
     ]
    },
    {
     "data": {
      "application/vnd.jupyter.widget-view+json": {
       "model_id": "8ce0b7c840cf42c483246532114ab7c0",
       "version_major": 2,
       "version_minor": 0
      },
      "text/plain": [
       "Multiple alphas:   0%|          | 0/2 [00:00<?, ?it/s]"
      ]
     },
     "metadata": {},
     "output_type": "display_data"
    },
    {
     "name": "stdout",
     "output_type": "stream",
     "text": [
      "intervention_param:  0.1\n",
      "2023/08/06, 15:52:22: Tuning RandomForestClassifier...\n"
     ]
    },
    {
     "name": "stderr",
     "output_type": "stream",
     "text": [
      "2023-08-06 15:58:40 experiment_interface.py INFO    : Models are tuned and saved to a file\n",
      "INFO:root:Models are tuned and saved to a file\n"
     ]
    },
    {
     "name": "stdout",
     "output_type": "stream",
     "text": [
      "2023/08/06, 15:58:40: Tuning for RandomForestClassifier is finished [F1 score = 0.6426024902408707, Accuracy = 0.8900641025641026]\n",
      "\n"
     ]
    },
    {
     "data": {
      "application/vnd.jupyter.widget-view+json": {
       "model_id": "81b5e596be904c8e882647a123089b32",
       "version_major": 2,
       "version_minor": 0
      },
      "text/plain": [
       "Multiple runs progress:   0%|          | 0/1 [00:00<?, ?it/s]"
      ]
     },
     "metadata": {},
     "output_type": "display_data"
    },
    {
     "data": {
      "application/vnd.jupyter.widget-view+json": {
       "model_id": "35f78738004546a49ff06d5058f9c40d",
       "version_major": 2,
       "version_minor": 0
      },
      "text/plain": [
       "Analyze models in one run:   0%|          | 0/1 [00:00<?, ?it/s]"
      ]
     },
     "metadata": {},
     "output_type": "display_data"
    },
    {
     "data": {
      "application/vnd.jupyter.widget-view+json": {
       "model_id": "9a4ca16074fc46eaa6e1915f07602c6c",
       "version_major": 2,
       "version_minor": 0
      },
      "text/plain": [
       "Classifiers testing by bootstrap:   0%|          | 0/200 [00:00<?, ?it/s]"
      ]
     },
     "metadata": {},
     "output_type": "display_data"
    },
    {
     "name": "stdout",
     "output_type": "stream",
     "text": [
      "intervention_param:  0.3\n",
      "2023/08/06, 16:24:58: Tuning RandomForestClassifier...\n",
      "2023/08/06, 16:31:10: Tuning for RandomForestClassifier is finished [F1 score = 0.6450669297827822, Accuracy = 0.8963141025641025]\n",
      "\n"
     ]
    },
    {
     "data": {
      "application/vnd.jupyter.widget-view+json": {
       "model_id": "0d22e4b6678c4331b4bbc2fd0a29a710",
       "version_major": 2,
       "version_minor": 0
      },
      "text/plain": [
       "Multiple runs progress:   0%|          | 0/1 [00:00<?, ?it/s]"
      ]
     },
     "metadata": {},
     "output_type": "display_data"
    },
    {
     "data": {
      "application/vnd.jupyter.widget-view+json": {
       "model_id": "067553a5a63e40aca909e9f09c5b2e48",
       "version_major": 2,
       "version_minor": 0
      },
      "text/plain": [
       "Analyze models in one run:   0%|          | 0/1 [00:00<?, ?it/s]"
      ]
     },
     "metadata": {},
     "output_type": "display_data"
    },
    {
     "data": {
      "application/vnd.jupyter.widget-view+json": {
       "model_id": "1325afbfad9e4072aac2a78e178ccc67",
       "version_major": 2,
       "version_minor": 0
      },
      "text/plain": [
       "Classifiers testing by bootstrap:   0%|          | 0/200 [00:00<?, ?it/s]"
      ]
     },
     "metadata": {},
     "output_type": "display_data"
    }
   ],
   "source": [
    "run_exp_iter_with_disparate_impact(data_loader=exp_iter_data_loader,\n",
    "                                   experiment_seed=experiment_seed,\n",
    "                                   test_set_fraction=TEST_SET_FRACTION,\n",
    "                                   db_writer_func=db_writer_func,\n",
    "                                   fair_intervention_params_lst=FAIR_INTERVENTION_PARAMS_LST,\n",
    "                                   models_params_for_tuning=models_params_for_tuning,\n",
    "                                   metrics_computation_config=metrics_computation_config,\n",
    "                                   custom_table_fields_dct=custom_table_fields_dct,\n",
    "                                   with_tuning=True,\n",
    "                                   # with_tuning=False,\n",
    "                                   # tuned_params_df_paths=tuned_params_df_paths,\n",
    "                                   save_results_dir_path=SAVE_RESULTS_DIR_PATH,\n",
    "                                   verbose=True, \n",
    "                                   dataset_name=DATASET_NAME)"
   ]
  },
  {
   "cell_type": "markdown",
   "id": "298bab51",
   "metadata": {},
   "source": [
    "### Experiment iteration 2"
   ]
  },
  {
   "cell_type": "code",
   "execution_count": 44,
   "id": "08d15faa",
   "metadata": {},
   "outputs": [],
   "source": [
    "# Configs for an experiment iteration\n",
    "exp_iter_num = 2\n",
    "experiment_seed = EXPERIMENT_SEEDS[exp_iter_num - 1]\n",
    "tuned_params_filenames = [\n",
    "    'tuning_results_Law_School_alpha_0.1_20230806__195840.csv',\n",
    "    'tuning_results_Law_School_alpha_0.9_20230806__195951.csv',\n",
    "]\n",
    "tuned_params_df_paths = [os.path.join(ROOT_DIR, 'results', EXPERIMENT_NAME, tuned_params_filename)\n",
    "                         for tuned_params_filename in tuned_params_filenames]\n",
    "custom_table_fields_dct['experiment_iteration'] = f'Exp_iter_{exp_iter_num}'\n",
    "\n",
    "exp_iter_data_loader = copy.deepcopy(data_loader)  # Add deepcopy to avoid data leakage\n",
    "models_params_for_tuning = get_model_params_for_mult_repair_levels(experiment_seed)"
   ]
  },
  {
   "cell_type": "code",
   "execution_count": 45,
   "id": "995b90da",
   "metadata": {},
   "outputs": [
    {
     "name": "stderr",
     "output_type": "stream",
     "text": [
      "2023-07-31 14:43:04 experiment_interface.py INFO    : Start an experiment iteration for the following custom params:\n",
      "INFO:root:Start an experiment iteration for the following custom params:\n"
     ]
    },
    {
     "name": "stdout",
     "output_type": "stream",
     "text": [
      "{'dataset_split_seed': 200,\n",
      " 'experiment_iteration': 'Exp_iter_2',\n",
      " 'fair_intervention_params_lst': '[0.0, 0.1, 0.2, 0.3, 0.4]',\n",
      " 'model_init_seed': 200,\n",
      " 'session_uuid': '116104d6-7d63-4564-ae57-82b19b260fa5'}\n",
      "\n",
      "\n"
     ]
    },
    {
     "name": "stderr",
     "output_type": "stream",
     "text": [
      "2023-07-31 14:43:04 experiment_interface.py INFO    : The dataset is preprocessed\n",
      "INFO:root:The dataset is preprocessed\n"
     ]
    },
    {
     "name": "stdout",
     "output_type": "stream",
     "text": [
      "Top indexes of an X_test in a base flow dataset:  Int64Index([ 6043,  3745,  5159,  7241,  7820,  3695, 11501, 11432,  1163,\n",
      "             8994,  7972,  2554,  9884,  2008,  6884, 11995,  5200,  4649,\n",
      "            10244, 13775],\n",
      "           dtype='int64')\n",
      "Top indexes of an y_test in a base flow dataset:  Int64Index([ 6043,  3745,  5159,  7241,  7820,  3695, 11501, 11432,  1163,\n",
      "             8994,  7972,  2554,  9884,  2008,  6884, 11995,  5200,  4649,\n",
      "            10244, 13775],\n",
      "           dtype='int64')\n"
     ]
    },
    {
     "data": {
      "application/vnd.jupyter.widget-view+json": {
       "model_id": "a61112d4f671449ea75500898e668cf2",
       "version_major": 2,
       "version_minor": 0
      },
      "text/plain": [
       "Multiple alphas:   0%|          | 0/5 [00:00<?, ?it/s]"
      ]
     },
     "metadata": {},
     "output_type": "display_data"
    },
    {
     "name": "stdout",
     "output_type": "stream",
     "text": [
      "intervention_param:  0.0\n"
     ]
    },
    {
     "name": "stderr",
     "output_type": "stream",
     "text": [
      "2023-07-31 14:43:07 experiment_interface.py INFO    : Models config is loaded from the input file\n",
      "INFO:root:Models config is loaded from the input file\n"
     ]
    },
    {
     "name": "stdout",
     "output_type": "stream",
     "text": [
      "Path for tuned params:  /home/dh3553/projects/fairness-variance/results/mult_repair_levels_pubcov_CA/tuning_results_Folktables_CA_2018_Public_Coverage_alpha_0.0_20230731__173053.csv\n",
      "RandomForestClassifier:  {'bootstrap': True, 'ccp_alpha': 0.0, 'class_weight': None, 'criterion': 'gini', 'max_depth': 30, 'max_features': 'sqrt', 'max_leaf_nodes': None, 'max_samples': None, 'min_impurity_decrease': 0.0, 'min_samples_leaf': 2, 'min_samples_split': 2, 'min_weight_fraction_leaf': 0.0, 'n_estimators': 100, 'n_jobs': None, 'oob_score': False, 'random_state': 200, 'verbose': 0, 'warm_start': False}\n"
     ]
    },
    {
     "data": {
      "application/vnd.jupyter.widget-view+json": {
       "model_id": "cf858e906e464a2d8d6ef38b1292b045",
       "version_major": 2,
       "version_minor": 0
      },
      "text/plain": [
       "Multiple runs progress:   0%|          | 0/1 [00:00<?, ?it/s]"
      ]
     },
     "metadata": {},
     "output_type": "display_data"
    },
    {
     "data": {
      "application/vnd.jupyter.widget-view+json": {
       "model_id": "e8610f51651f42ce9904495d1e7ad1af",
       "version_major": 2,
       "version_minor": 0
      },
      "text/plain": [
       "Analyze models in one run:   0%|          | 0/1 [00:00<?, ?it/s]"
      ]
     },
     "metadata": {},
     "output_type": "display_data"
    },
    {
     "data": {
      "application/vnd.jupyter.widget-view+json": {
       "model_id": "357be48bb32f4419a6a52f2f52fb8288",
       "version_major": 2,
       "version_minor": 0
      },
      "text/plain": [
       "Classifiers testing by bootstrap:   0%|          | 0/200 [00:00<?, ?it/s]"
      ]
     },
     "metadata": {},
     "output_type": "display_data"
    },
    {
     "name": "stdout",
     "output_type": "stream",
     "text": [
      "intervention_param:  0.1\n",
      "Path for tuned params:  /home/dh3553/projects/fairness-variance/results/mult_repair_levels_pubcov_CA/tuning_results_Folktables_CA_2018_Public_Coverage_alpha_0.1_20230731__174151.csv\n",
      "RandomForestClassifier:  {'bootstrap': False, 'ccp_alpha': 0.0, 'class_weight': None, 'criterion': 'gini', 'max_depth': 40, 'max_features': 'sqrt', 'max_leaf_nodes': None, 'max_samples': None, 'min_impurity_decrease': 0.0, 'min_samples_leaf': 2, 'min_samples_split': 10, 'min_weight_fraction_leaf': 0.0, 'n_estimators': 100, 'n_jobs': None, 'oob_score': False, 'random_state': 201, 'verbose': 0, 'warm_start': False}\n"
     ]
    },
    {
     "data": {
      "application/vnd.jupyter.widget-view+json": {
       "model_id": "fe5f5a656c024752a4d2eba155c40544",
       "version_major": 2,
       "version_minor": 0
      },
      "text/plain": [
       "Multiple runs progress:   0%|          | 0/1 [00:00<?, ?it/s]"
      ]
     },
     "metadata": {},
     "output_type": "display_data"
    },
    {
     "data": {
      "application/vnd.jupyter.widget-view+json": {
       "model_id": "dea80e750b054925a6311b8a6ef50bdf",
       "version_major": 2,
       "version_minor": 0
      },
      "text/plain": [
       "Analyze models in one run:   0%|          | 0/1 [00:00<?, ?it/s]"
      ]
     },
     "metadata": {},
     "output_type": "display_data"
    },
    {
     "data": {
      "application/vnd.jupyter.widget-view+json": {
       "model_id": "5f2809aadd424ece82c08630e8c75148",
       "version_major": 2,
       "version_minor": 0
      },
      "text/plain": [
       "Classifiers testing by bootstrap:   0%|          | 0/200 [00:00<?, ?it/s]"
      ]
     },
     "metadata": {},
     "output_type": "display_data"
    },
    {
     "name": "stdout",
     "output_type": "stream",
     "text": [
      "intervention_param:  0.2\n",
      "Path for tuned params:  /home/dh3553/projects/fairness-variance/results/mult_repair_levels_pubcov_CA/tuning_results_Folktables_CA_2018_Public_Coverage_alpha_0.2_20230731__173153.csv\n",
      "RandomForestClassifier:  {'bootstrap': True, 'ccp_alpha': 0.0, 'class_weight': None, 'criterion': 'gini', 'max_depth': 30, 'max_features': 'sqrt', 'max_leaf_nodes': None, 'max_samples': None, 'min_impurity_decrease': 0.0, 'min_samples_leaf': 1, 'min_samples_split': 10, 'min_weight_fraction_leaf': 0.0, 'n_estimators': 100, 'n_jobs': None, 'oob_score': False, 'random_state': 201, 'verbose': 0, 'warm_start': False}\n"
     ]
    },
    {
     "data": {
      "application/vnd.jupyter.widget-view+json": {
       "model_id": "6bfa050434834f8ebb1ee09c0f1e5c09",
       "version_major": 2,
       "version_minor": 0
      },
      "text/plain": [
       "Multiple runs progress:   0%|          | 0/1 [00:00<?, ?it/s]"
      ]
     },
     "metadata": {},
     "output_type": "display_data"
    },
    {
     "data": {
      "application/vnd.jupyter.widget-view+json": {
       "model_id": "64400f50c7a242dfbece40249228a91d",
       "version_major": 2,
       "version_minor": 0
      },
      "text/plain": [
       "Analyze models in one run:   0%|          | 0/1 [00:00<?, ?it/s]"
      ]
     },
     "metadata": {},
     "output_type": "display_data"
    },
    {
     "data": {
      "application/vnd.jupyter.widget-view+json": {
       "model_id": "24d8192bde474723b49f1060d4cba74e",
       "version_major": 2,
       "version_minor": 0
      },
      "text/plain": [
       "Classifiers testing by bootstrap:   0%|          | 0/200 [00:00<?, ?it/s]"
      ]
     },
     "metadata": {},
     "output_type": "display_data"
    },
    {
     "name": "stdout",
     "output_type": "stream",
     "text": [
      "intervention_param:  0.3\n",
      "Path for tuned params:  /home/dh3553/projects/fairness-variance/results/mult_repair_levels_pubcov_CA/tuning_results_Folktables_CA_2018_Public_Coverage_alpha_0.3_20230731__174153.csv\n",
      "RandomForestClassifier:  {'bootstrap': True, 'ccp_alpha': 0.0, 'class_weight': None, 'criterion': 'gini', 'max_depth': 30, 'max_features': 'sqrt', 'max_leaf_nodes': None, 'max_samples': None, 'min_impurity_decrease': 0.0, 'min_samples_leaf': 2, 'min_samples_split': 5, 'min_weight_fraction_leaf': 0.0, 'n_estimators': 100, 'n_jobs': None, 'oob_score': False, 'random_state': 201, 'verbose': 0, 'warm_start': False}\n"
     ]
    },
    {
     "data": {
      "application/vnd.jupyter.widget-view+json": {
       "model_id": "30f9103e12cd4dd8b0177e26924a366d",
       "version_major": 2,
       "version_minor": 0
      },
      "text/plain": [
       "Multiple runs progress:   0%|          | 0/1 [00:00<?, ?it/s]"
      ]
     },
     "metadata": {},
     "output_type": "display_data"
    },
    {
     "data": {
      "application/vnd.jupyter.widget-view+json": {
       "model_id": "d72a8dd49bd5477280e68b6e82baefc4",
       "version_major": 2,
       "version_minor": 0
      },
      "text/plain": [
       "Analyze models in one run:   0%|          | 0/1 [00:00<?, ?it/s]"
      ]
     },
     "metadata": {},
     "output_type": "display_data"
    },
    {
     "data": {
      "application/vnd.jupyter.widget-view+json": {
       "model_id": "2c849efcd1c1481e8938d1b393b045aa",
       "version_major": 2,
       "version_minor": 0
      },
      "text/plain": [
       "Classifiers testing by bootstrap:   0%|          | 0/200 [00:00<?, ?it/s]"
      ]
     },
     "metadata": {},
     "output_type": "display_data"
    },
    {
     "name": "stdout",
     "output_type": "stream",
     "text": [
      "intervention_param:  0.4\n",
      "Path for tuned params:  /home/dh3553/projects/fairness-variance/results/mult_repair_levels_pubcov_CA/tuning_results_Folktables_CA_2018_Public_Coverage_alpha_0.4_20230731__173254.csv\n",
      "RandomForestClassifier:  {'bootstrap': True, 'ccp_alpha': 0.0, 'class_weight': None, 'criterion': 'gini', 'max_depth': 40, 'max_features': 'sqrt', 'max_leaf_nodes': None, 'max_samples': None, 'min_impurity_decrease': 0.0, 'min_samples_leaf': 1, 'min_samples_split': 10, 'min_weight_fraction_leaf': 0.0, 'n_estimators': 100, 'n_jobs': None, 'oob_score': False, 'random_state': 201, 'verbose': 0, 'warm_start': False}\n"
     ]
    },
    {
     "data": {
      "application/vnd.jupyter.widget-view+json": {
       "model_id": "1e685daf549749468cf5447696b40ee4",
       "version_major": 2,
       "version_minor": 0
      },
      "text/plain": [
       "Multiple runs progress:   0%|          | 0/1 [00:00<?, ?it/s]"
      ]
     },
     "metadata": {},
     "output_type": "display_data"
    },
    {
     "data": {
      "application/vnd.jupyter.widget-view+json": {
       "model_id": "6513ab7eddfb4e9f827be11f7258fe72",
       "version_major": 2,
       "version_minor": 0
      },
      "text/plain": [
       "Analyze models in one run:   0%|          | 0/1 [00:00<?, ?it/s]"
      ]
     },
     "metadata": {},
     "output_type": "display_data"
    },
    {
     "data": {
      "application/vnd.jupyter.widget-view+json": {
       "model_id": "066a5fe53a314243a95e055a9ef84f85",
       "version_major": 2,
       "version_minor": 0
      },
      "text/plain": [
       "Classifiers testing by bootstrap:   0%|          | 0/200 [00:00<?, ?it/s]"
      ]
     },
     "metadata": {},
     "output_type": "display_data"
    }
   ],
   "source": [
    "run_exp_iter_with_disparate_impact(data_loader=exp_iter_data_loader,\n",
    "                                   experiment_seed=experiment_seed,\n",
    "                                   test_set_fraction=TEST_SET_FRACTION,\n",
    "                                   db_writer_func=db_writer_func,\n",
    "                                   fair_intervention_params_lst=FAIR_INTERVENTION_PARAMS_LST,\n",
    "                                   models_params_for_tuning=models_params_for_tuning,\n",
    "                                   metrics_computation_config=metrics_computation_config,\n",
    "                                   custom_table_fields_dct=custom_table_fields_dct,\n",
    "#                                    with_tuning=True,\n",
    "                                   with_tuning=False,\n",
    "                                   tuned_params_df_paths=tuned_params_df_paths,\n",
    "                                   save_results_dir_path=SAVE_RESULTS_DIR_PATH,\n",
    "                                   verbose=True, \n",
    "                                   dataset_name=DATASET_NAME)"
   ]
  },
  {
   "cell_type": "markdown",
   "id": "f592cc91",
   "metadata": {},
   "source": [
    "### Experiment iteration 3"
   ]
  },
  {
   "cell_type": "code",
   "execution_count": null,
   "id": "b6e08195",
   "metadata": {},
   "outputs": [],
   "source": [
    "# Configs for an experiment iteration\n",
    "exp_iter_num = 3\n",
    "experiment_seed = EXPERIMENT_SEEDS[exp_iter_num - 1]\n",
    "tuned_params_filenames = [\n",
    "    'tuning_results_Law_School_alpha_0.1_20230806__195840.csv',\n",
    "    'tuning_results_Law_School_alpha_0.9_20230806__195951.csv',\n",
    "]\n",
    "tuned_params_df_paths = [os.path.join(ROOT_DIR, 'results', EXPERIMENT_NAME, tuned_params_filename)\n",
    "                         for tuned_params_filename in tuned_params_filenames]\n",
    "custom_table_fields_dct['experiment_iteration'] = f'Exp_iter_{exp_iter_num}'\n",
    "\n",
    "exp_iter_data_loader = copy.deepcopy(data_loader)  # Add deepcopy to avoid data leakage\n",
    "models_params_for_tuning = get_model_params_for_mult_repair_levels(experiment_seed)"
   ]
  },
  {
   "cell_type": "code",
   "execution_count": null,
   "id": "56270df3",
   "metadata": {},
   "outputs": [],
   "source": [
    "run_exp_iter_with_disparate_impact(data_loader=exp_iter_data_loader,\n",
    "                                   experiment_seed=experiment_seed,\n",
    "                                   test_set_fraction=TEST_SET_FRACTION,\n",
    "                                   db_writer_func=db_writer_func,\n",
    "                                   fair_intervention_params_lst=FAIR_INTERVENTION_PARAMS_LST,\n",
    "                                   models_params_for_tuning=models_params_for_tuning,\n",
    "                                   metrics_computation_config=metrics_computation_config,\n",
    "                                   custom_table_fields_dct=custom_table_fields_dct,\n",
    "#                                    with_tuning=True,\n",
    "                                   with_tuning=False,\n",
    "                                   tuned_params_df_paths=tuned_params_df_paths,\n",
    "                                   save_results_dir_path=SAVE_RESULTS_DIR_PATH,\n",
    "                                   verbose=True, \n",
    "                                   dataset_name=DATASET_NAME)"
   ]
  },
  {
   "cell_type": "markdown",
   "id": "7c136c60",
   "metadata": {},
   "source": [
    "### Experiment iteration 4"
   ]
  },
  {
   "cell_type": "code",
   "execution_count": null,
   "id": "496873c6",
   "metadata": {},
   "outputs": [],
   "source": [
    "# Configs for an experiment iteration\n",
    "exp_iter_num = 4\n",
    "experiment_seed = EXPERIMENT_SEEDS[exp_iter_num - 1]\n",
    "tuned_params_filenames = [\n",
    "    'tuning_results_Law_School_alpha_0.1_20230806__195840.csv',\n",
    "    'tuning_results_Law_School_alpha_0.9_20230806__195951.csv',\n",
    "]\n",
    "tuned_params_df_paths = [os.path.join(ROOT_DIR, 'results', EXPERIMENT_NAME, tuned_params_filename)\n",
    "                         for tuned_params_filename in tuned_params_filenames]\n",
    "custom_table_fields_dct['experiment_iteration'] = f'Exp_iter_{exp_iter_num}'\n",
    "\n",
    "exp_iter_data_loader = copy.deepcopy(data_loader)  # Add deepcopy to avoid data leakage\n",
    "models_params_for_tuning = get_model_params_for_mult_repair_levels(experiment_seed)"
   ]
  },
  {
   "cell_type": "code",
   "execution_count": 46,
   "id": "85a43db0",
   "metadata": {},
   "outputs": [],
   "source": [
    "run_exp_iter_with_disparate_impact(data_loader=exp_iter_data_loader,\n",
    "                                   experiment_seed=experiment_seed,\n",
    "                                   test_set_fraction=TEST_SET_FRACTION,\n",
    "                                   db_writer_func=db_writer_func,\n",
    "                                   fair_intervention_params_lst=FAIR_INTERVENTION_PARAMS_LST,\n",
    "                                   models_params_for_tuning=models_params_for_tuning,\n",
    "                                   metrics_computation_config=metrics_computation_config,\n",
    "                                   custom_table_fields_dct=custom_table_fields_dct,\n",
    "#                                    with_tuning=True,\n",
    "                                   with_tuning=False,\n",
    "                                   tuned_params_df_paths=tuned_params_df_paths,\n",
    "                                   save_results_dir_path=SAVE_RESULTS_DIR_PATH,\n",
    "                                   verbose=True, \n",
    "                                   dataset_name=DATASET_NAME)"
   ]
  },
  {
   "cell_type": "markdown",
   "id": "df320754",
   "metadata": {},
   "source": [
    "### Experiment iteration 5"
   ]
  },
  {
   "cell_type": "code",
   "execution_count": 15,
   "id": "f6b84337",
   "metadata": {},
   "outputs": [],
   "source": [
    "# Configs for an experiment iteration\n",
    "exp_iter_num = 5\n",
    "experiment_seed = EXPERIMENT_SEEDS[exp_iter_num - 1]\n",
    "tuned_params_filenames = [\n",
    "    'tuning_results_Law_School_alpha_0.1_20230806__195840.csv',\n",
    "    'tuning_results_Law_School_alpha_0.9_20230806__195951.csv',\n",
    "]\n",
    "tuned_params_df_paths = [os.path.join(ROOT_DIR, 'results', EXPERIMENT_NAME, tuned_params_filename)\n",
    "                         for tuned_params_filename in tuned_params_filenames]\n",
    "custom_table_fields_dct['experiment_iteration'] = f'Exp_iter_{exp_iter_num}'\n",
    "\n",
    "exp_iter_data_loader = copy.deepcopy(data_loader)  # Add deepcopy to avoid data leakage\n",
    "models_params_for_tuning = get_model_params_for_mult_repair_levels(experiment_seed)"
   ]
  },
  {
   "cell_type": "code",
   "execution_count": 16,
   "id": "9a967aa8",
   "metadata": {},
   "outputs": [
    {
     "name": "stderr",
     "output_type": "stream",
     "text": [
      "2023-08-06 17:51:50 experiment_interface.py INFO    : Start an experiment iteration for the following custom params:\n",
      "INFO:root:Start an experiment iteration for the following custom params:\n"
     ]
    },
    {
     "name": "stdout",
     "output_type": "stream",
     "text": [
      "{'dataset_split_seed': 500,\n",
      " 'experiment_iteration': 'Exp_iter_5',\n",
      " 'fair_intervention_params_lst': '[0.1, 0.9]',\n",
      " 'model_init_seed': 500,\n",
      " 'session_uuid': '9430484b-bec6-42a0-ac65-11c53446a61f'}\n",
      "\n",
      "\n"
     ]
    },
    {
     "name": "stderr",
     "output_type": "stream",
     "text": [
      "2023-08-06 17:51:50 experiment_interface.py INFO    : The dataset is preprocessed\n",
      "INFO:root:The dataset is preprocessed\n"
     ]
    },
    {
     "name": "stdout",
     "output_type": "stream",
     "text": [
      "Top indexes of an X_test in a base flow dataset:  Int64Index([12269, 18551, 11422,  4842,  2061, 12046, 16727, 11861, 14580,\n",
      "            19701, 12917,  7538, 17610, 19120,  5581, 18072, 13209, 20500,\n",
      "            14741, 11309],\n",
      "           dtype='int64')\n",
      "Top indexes of an y_test in a base flow dataset:  Int64Index([12269, 18551, 11422,  4842,  2061, 12046, 16727, 11861, 14580,\n",
      "            19701, 12917,  7538, 17610, 19120,  5581, 18072, 13209, 20500,\n",
      "            14741, 11309],\n",
      "           dtype='int64')\n"
     ]
    },
    {
     "data": {
      "application/vnd.jupyter.widget-view+json": {
       "model_id": "8dc365db8f414cb1a9d97fff0358cd44",
       "version_major": 2,
       "version_minor": 0
      },
      "text/plain": [
       "Multiple alphas:   0%|          | 0/2 [00:00<?, ?it/s]"
      ]
     },
     "metadata": {},
     "output_type": "display_data"
    },
    {
     "name": "stdout",
     "output_type": "stream",
     "text": [
      "intervention_param:  0.1\n"
     ]
    },
    {
     "name": "stderr",
     "output_type": "stream",
     "text": [
      "2023-08-06 17:51:52 experiment_interface.py INFO    : Models config is loaded from the input file\n",
      "INFO:root:Models config is loaded from the input file\n"
     ]
    },
    {
     "name": "stdout",
     "output_type": "stream",
     "text": [
      "Path for tuned params:  /home/dh3553/projects/fairness-variance/results/mult_repair_levels_law_school/tuning_results_Law_School_alpha_0.1_20230806__195840.csv\n",
      "RandomForestClassifier:  {'bootstrap': False, 'ccp_alpha': 0.0, 'class_weight': None, 'criterion': 'gini', 'max_depth': 30, 'max_features': 'sqrt', 'max_leaf_nodes': None, 'max_samples': None, 'min_impurity_decrease': 0.0, 'min_samples_leaf': 1, 'min_samples_split': 2, 'min_weight_fraction_leaf': 0.0, 'n_estimators': 500, 'n_jobs': None, 'oob_score': False, 'random_state': 500, 'verbose': 0, 'warm_start': False}\n"
     ]
    },
    {
     "data": {
      "application/vnd.jupyter.widget-view+json": {
       "model_id": "ac5e9b9c8a3147198323e4eb8b768e38",
       "version_major": 2,
       "version_minor": 0
      },
      "text/plain": [
       "Multiple runs progress:   0%|          | 0/1 [00:00<?, ?it/s]"
      ]
     },
     "metadata": {},
     "output_type": "display_data"
    },
    {
     "data": {
      "application/vnd.jupyter.widget-view+json": {
       "model_id": "db56389a79f1419da8b4cbff9d19ea91",
       "version_major": 2,
       "version_minor": 0
      },
      "text/plain": [
       "Analyze models in one run:   0%|          | 0/1 [00:00<?, ?it/s]"
      ]
     },
     "metadata": {},
     "output_type": "display_data"
    },
    {
     "name": "stdout",
     "output_type": "stream",
     "text": [
      "##############################  [Model 1 / 1] Analyze RandomForestClassifier  ##############################\n",
      "Model seed:  501\n",
      "\n",
      "Protected groups splits:\n",
      "male_priv (1180, 2)\n",
      "male_dis (900, 2)\n",
      "race_priv (1729, 2)\n",
      "race_dis (351, 2)\n",
      "male&race_priv (1903, 2)\n",
      "male&race_dis (177, 2)\n",
      "\n",
      "\n"
     ]
    },
    {
     "name": "stderr",
     "output_type": "stream",
     "text": [
      "2023-08-06 17:51:52 abstract_overall_variance_analyzer.py INFO    : Start classifiers testing by bootstrap\n",
      "INFO:root:Start classifiers testing by bootstrap\n"
     ]
    },
    {
     "data": {
      "application/vnd.jupyter.widget-view+json": {
       "model_id": "068b4e634a06440aa6be966a8f4f6f4f",
       "version_major": 2,
       "version_minor": 0
      },
      "text/plain": [
       "Classifiers testing by bootstrap:   0%|          | 0/200 [00:00<?, ?it/s]"
      ]
     },
     "metadata": {},
     "output_type": "display_data"
    },
    {
     "name": "stdout",
     "output_type": "stream",
     "text": [
      "\n",
      "\n"
     ]
    },
    {
     "name": "stderr",
     "output_type": "stream",
     "text": [
      "2023-08-06 18:16:53 abstract_overall_variance_analyzer.py INFO    : Successfully tested classifiers by bootstrap\n",
      "INFO:root:Successfully tested classifiers by bootstrap\n",
      "2023-08-06 18:17:11 abstract_overall_variance_analyzer.py INFO    : Successfully computed predict proba metrics\n",
      "INFO:root:Successfully computed predict proba metrics\n"
     ]
    },
    {
     "name": "stdout",
     "output_type": "stream",
     "text": [
      "\n",
      "[RandomForestClassifier] Metrics matrix:\n"
     ]
    },
    {
     "data": {
      "text/html": [
       "<div>\n",
       "<style scoped>\n",
       "    .dataframe tbody tr th:only-of-type {\n",
       "        vertical-align: middle;\n",
       "    }\n",
       "\n",
       "    .dataframe tbody tr th {\n",
       "        vertical-align: top;\n",
       "    }\n",
       "\n",
       "    .dataframe thead th {\n",
       "        text-align: right;\n",
       "    }\n",
       "</style>\n",
       "<table border=\"1\" class=\"dataframe\">\n",
       "  <thead>\n",
       "    <tr style=\"text-align: right;\">\n",
       "      <th></th>\n",
       "      <th>Metric</th>\n",
       "      <th>overall</th>\n",
       "      <th>male_priv</th>\n",
       "      <th>male_priv_correct</th>\n",
       "      <th>male_priv_incorrect</th>\n",
       "      <th>male_dis</th>\n",
       "      <th>male_dis_correct</th>\n",
       "      <th>male_dis_incorrect</th>\n",
       "      <th>race_priv</th>\n",
       "      <th>race_priv_correct</th>\n",
       "      <th>...</th>\n",
       "      <th>race_dis_incorrect</th>\n",
       "      <th>male&amp;race_priv</th>\n",
       "      <th>male&amp;race_priv_correct</th>\n",
       "      <th>male&amp;race_priv_incorrect</th>\n",
       "      <th>male&amp;race_dis</th>\n",
       "      <th>male&amp;race_dis_correct</th>\n",
       "      <th>male&amp;race_dis_incorrect</th>\n",
       "      <th>Model_Seed</th>\n",
       "      <th>Model_Name</th>\n",
       "      <th>Model_Params</th>\n",
       "    </tr>\n",
       "  </thead>\n",
       "  <tbody>\n",
       "    <tr>\n",
       "      <th>0</th>\n",
       "      <td>Mean</td>\n",
       "      <td>0.118325</td>\n",
       "      <td>0.122566</td>\n",
       "      <td>0.100953</td>\n",
       "      <td>0.320803</td>\n",
       "      <td>0.112766</td>\n",
       "      <td>0.085605</td>\n",
       "      <td>0.332520</td>\n",
       "      <td>0.091767</td>\n",
       "      <td>0.074492</td>\n",
       "      <td>...</td>\n",
       "      <td>0.389407</td>\n",
       "      <td>0.106467</td>\n",
       "      <td>0.086926</td>\n",
       "      <td>0.306965</td>\n",
       "      <td>0.245824</td>\n",
       "      <td>0.192787</td>\n",
       "      <td>0.396863</td>\n",
       "      <td>501</td>\n",
       "      <td>RandomForestClassifier</td>\n",
       "      <td>{'bootstrap': False, 'ccp_alpha': 0.0, 'class_...</td>\n",
       "    </tr>\n",
       "    <tr>\n",
       "      <th>1</th>\n",
       "      <td>Std</td>\n",
       "      <td>0.042984</td>\n",
       "      <td>0.044106</td>\n",
       "      <td>0.038910</td>\n",
       "      <td>0.091767</td>\n",
       "      <td>0.041512</td>\n",
       "      <td>0.035427</td>\n",
       "      <td>0.090744</td>\n",
       "      <td>0.037893</td>\n",
       "      <td>0.033780</td>\n",
       "      <td>...</td>\n",
       "      <td>0.102034</td>\n",
       "      <td>0.040569</td>\n",
       "      <td>0.035912</td>\n",
       "      <td>0.088349</td>\n",
       "      <td>0.068947</td>\n",
       "      <td>0.057297</td>\n",
       "      <td>0.102123</td>\n",
       "      <td>501</td>\n",
       "      <td>RandomForestClassifier</td>\n",
       "      <td>{'bootstrap': False, 'ccp_alpha': 0.0, 'class_...</td>\n",
       "    </tr>\n",
       "    <tr>\n",
       "      <th>2</th>\n",
       "      <td>IQR</td>\n",
       "      <td>0.061201</td>\n",
       "      <td>0.063022</td>\n",
       "      <td>0.055260</td>\n",
       "      <td>0.134220</td>\n",
       "      <td>0.058814</td>\n",
       "      <td>0.050079</td>\n",
       "      <td>0.129489</td>\n",
       "      <td>0.053756</td>\n",
       "      <td>0.047889</td>\n",
       "      <td>...</td>\n",
       "      <td>0.151134</td>\n",
       "      <td>0.057670</td>\n",
       "      <td>0.050878</td>\n",
       "      <td>0.127352</td>\n",
       "      <td>0.099167</td>\n",
       "      <td>0.081575</td>\n",
       "      <td>0.149268</td>\n",
       "      <td>501</td>\n",
       "      <td>RandomForestClassifier</td>\n",
       "      <td>{'bootstrap': False, 'ccp_alpha': 0.0, 'class_...</td>\n",
       "    </tr>\n",
       "    <tr>\n",
       "      <th>3</th>\n",
       "      <td>Aleatoric_Uncertainty</td>\n",
       "      <td>0.331475</td>\n",
       "      <td>0.340578</td>\n",
       "      <td>0.300606</td>\n",
       "      <td>0.707211</td>\n",
       "      <td>0.319541</td>\n",
       "      <td>0.270804</td>\n",
       "      <td>0.713875</td>\n",
       "      <td>0.288380</td>\n",
       "      <td>0.255438</td>\n",
       "      <td>...</td>\n",
       "      <td>0.785754</td>\n",
       "      <td>0.311275</td>\n",
       "      <td>0.274868</td>\n",
       "      <td>0.684827</td>\n",
       "      <td>0.548653</td>\n",
       "      <td>0.459063</td>\n",
       "      <td>0.803792</td>\n",
       "      <td>501</td>\n",
       "      <td>RandomForestClassifier</td>\n",
       "      <td>{'bootstrap': False, 'ccp_alpha': 0.0, 'class_...</td>\n",
       "    </tr>\n",
       "    <tr>\n",
       "      <th>4</th>\n",
       "      <td>Overall_Uncertainty</td>\n",
       "      <td>0.351560</td>\n",
       "      <td>0.361150</td>\n",
       "      <td>0.319261</td>\n",
       "      <td>0.745371</td>\n",
       "      <td>0.338987</td>\n",
       "      <td>0.288123</td>\n",
       "      <td>0.750522</td>\n",
       "      <td>0.306721</td>\n",
       "      <td>0.272361</td>\n",
       "      <td>...</td>\n",
       "      <td>0.828184</td>\n",
       "      <td>0.330519</td>\n",
       "      <td>0.292444</td>\n",
       "      <td>0.721181</td>\n",
       "      <td>0.577785</td>\n",
       "      <td>0.483838</td>\n",
       "      <td>0.845328</td>\n",
       "      <td>501</td>\n",
       "      <td>RandomForestClassifier</td>\n",
       "      <td>{'bootstrap': False, 'ccp_alpha': 0.0, 'class_...</td>\n",
       "    </tr>\n",
       "    <tr>\n",
       "      <th>5</th>\n",
       "      <td>Statistical_Bias</td>\n",
       "      <td>0.150285</td>\n",
       "      <td>0.151782</td>\n",
       "      <td>0.088890</td>\n",
       "      <td>0.728657</td>\n",
       "      <td>0.148322</td>\n",
       "      <td>0.078135</td>\n",
       "      <td>0.716198</td>\n",
       "      <td>0.125117</td>\n",
       "      <td>0.071277</td>\n",
       "      <td>...</td>\n",
       "      <td>0.681844</td>\n",
       "      <td>0.137145</td>\n",
       "      <td>0.078741</td>\n",
       "      <td>0.736395</td>\n",
       "      <td>0.291553</td>\n",
       "      <td>0.157466</td>\n",
       "      <td>0.673411</td>\n",
       "      <td>501</td>\n",
       "      <td>RandomForestClassifier</td>\n",
       "      <td>{'bootstrap': False, 'ccp_alpha': 0.0, 'class_...</td>\n",
       "    </tr>\n",
       "    <tr>\n",
       "      <th>6</th>\n",
       "      <td>Jitter</td>\n",
       "      <td>0.043263</td>\n",
       "      <td>0.042197</td>\n",
       "      <td>0.028632</td>\n",
       "      <td>0.166628</td>\n",
       "      <td>0.044661</td>\n",
       "      <td>0.025989</td>\n",
       "      <td>0.195736</td>\n",
       "      <td>0.031485</td>\n",
       "      <td>0.020485</td>\n",
       "      <td>...</td>\n",
       "      <td>0.218976</td>\n",
       "      <td>0.036459</td>\n",
       "      <td>0.023752</td>\n",
       "      <td>0.166838</td>\n",
       "      <td>0.116418</td>\n",
       "      <td>0.077060</td>\n",
       "      <td>0.228503</td>\n",
       "      <td>501</td>\n",
       "      <td>RandomForestClassifier</td>\n",
       "      <td>{'bootstrap': False, 'ccp_alpha': 0.0, 'class_...</td>\n",
       "    </tr>\n",
       "    <tr>\n",
       "      <th>7</th>\n",
       "      <td>Per_Sample_Accuracy</td>\n",
       "      <td>0.892899</td>\n",
       "      <td>0.895775</td>\n",
       "      <td>0.979925</td>\n",
       "      <td>0.123922</td>\n",
       "      <td>0.889128</td>\n",
       "      <td>0.981361</td>\n",
       "      <td>0.142879</td>\n",
       "      <td>0.916319</td>\n",
       "      <td>0.985707</td>\n",
       "      <td>...</td>\n",
       "      <td>0.161883</td>\n",
       "      <td>0.906981</td>\n",
       "      <td>0.983365</td>\n",
       "      <td>0.123254</td>\n",
       "      <td>0.741497</td>\n",
       "      <td>0.943168</td>\n",
       "      <td>0.167174</td>\n",
       "      <td>501</td>\n",
       "      <td>RandomForestClassifier</td>\n",
       "      <td>{'bootstrap': False, 'ccp_alpha': 0.0, 'class_...</td>\n",
       "    </tr>\n",
       "    <tr>\n",
       "      <th>8</th>\n",
       "      <td>Label_Stability</td>\n",
       "      <td>0.938135</td>\n",
       "      <td>0.939907</td>\n",
       "      <td>0.960132</td>\n",
       "      <td>0.754397</td>\n",
       "      <td>0.935811</td>\n",
       "      <td>0.963021</td>\n",
       "      <td>0.715657</td>\n",
       "      <td>0.955414</td>\n",
       "      <td>0.971603</td>\n",
       "      <td>...</td>\n",
       "      <td>0.678831</td>\n",
       "      <td>0.948129</td>\n",
       "      <td>0.966903</td>\n",
       "      <td>0.755503</td>\n",
       "      <td>0.830678</td>\n",
       "      <td>0.888168</td>\n",
       "      <td>0.666957</td>\n",
       "      <td>501</td>\n",
       "      <td>RandomForestClassifier</td>\n",
       "      <td>{'bootstrap': False, 'ccp_alpha': 0.0, 'class_...</td>\n",
       "    </tr>\n",
       "    <tr>\n",
       "      <th>9</th>\n",
       "      <td>TPR</td>\n",
       "      <td>0.970414</td>\n",
       "      <td>0.970727</td>\n",
       "      <td>1.000000</td>\n",
       "      <td>0.000000</td>\n",
       "      <td>0.970000</td>\n",
       "      <td>1.000000</td>\n",
       "      <td>0.000000</td>\n",
       "      <td>0.982456</td>\n",
       "      <td>1.000000</td>\n",
       "      <td>...</td>\n",
       "      <td>0.000000</td>\n",
       "      <td>0.977431</td>\n",
       "      <td>1.000000</td>\n",
       "      <td>0.000000</td>\n",
       "      <td>0.877863</td>\n",
       "      <td>1.000000</td>\n",
       "      <td>0.000000</td>\n",
       "      <td>501</td>\n",
       "      <td>RandomForestClassifier</td>\n",
       "      <td>{'bootstrap': False, 'ccp_alpha': 0.0, 'class_...</td>\n",
       "    </tr>\n",
       "    <tr>\n",
       "      <th>10</th>\n",
       "      <td>TNR</td>\n",
       "      <td>0.276018</td>\n",
       "      <td>0.297521</td>\n",
       "      <td>1.000000</td>\n",
       "      <td>0.000000</td>\n",
       "      <td>0.250000</td>\n",
       "      <td>1.000000</td>\n",
       "      <td>0.000000</td>\n",
       "      <td>0.172932</td>\n",
       "      <td>1.000000</td>\n",
       "      <td>...</td>\n",
       "      <td>0.000000</td>\n",
       "      <td>0.257143</td>\n",
       "      <td>1.000000</td>\n",
       "      <td>0.000000</td>\n",
       "      <td>0.347826</td>\n",
       "      <td>1.000000</td>\n",
       "      <td>0.000000</td>\n",
       "      <td>501</td>\n",
       "      <td>RandomForestClassifier</td>\n",
       "      <td>{'bootstrap': False, 'ccp_alpha': 0.0, 'class_...</td>\n",
       "    </tr>\n",
       "    <tr>\n",
       "      <th>11</th>\n",
       "      <td>PPV</td>\n",
       "      <td>0.918534</td>\n",
       "      <td>0.923630</td>\n",
       "      <td>1.000000</td>\n",
       "      <td>0.000000</td>\n",
       "      <td>0.911868</td>\n",
       "      <td>1.000000</td>\n",
       "      <td>0.000000</td>\n",
       "      <td>0.934446</td>\n",
       "      <td>1.000000</td>\n",
       "      <td>...</td>\n",
       "      <td>0.000000</td>\n",
       "      <td>0.928532</td>\n",
       "      <td>1.000000</td>\n",
       "      <td>0.000000</td>\n",
       "      <td>0.793103</td>\n",
       "      <td>1.000000</td>\n",
       "      <td>0.000000</td>\n",
       "      <td>501</td>\n",
       "      <td>RandomForestClassifier</td>\n",
       "      <td>{'bootstrap': False, 'ccp_alpha': 0.0, 'class_...</td>\n",
       "    </tr>\n",
       "    <tr>\n",
       "      <th>12</th>\n",
       "      <td>FNR</td>\n",
       "      <td>0.029586</td>\n",
       "      <td>0.029273</td>\n",
       "      <td>0.000000</td>\n",
       "      <td>1.000000</td>\n",
       "      <td>0.030000</td>\n",
       "      <td>0.000000</td>\n",
       "      <td>1.000000</td>\n",
       "      <td>0.017544</td>\n",
       "      <td>0.000000</td>\n",
       "      <td>...</td>\n",
       "      <td>1.000000</td>\n",
       "      <td>0.022569</td>\n",
       "      <td>0.000000</td>\n",
       "      <td>1.000000</td>\n",
       "      <td>0.122137</td>\n",
       "      <td>0.000000</td>\n",
       "      <td>1.000000</td>\n",
       "      <td>501</td>\n",
       "      <td>RandomForestClassifier</td>\n",
       "      <td>{'bootstrap': False, 'ccp_alpha': 0.0, 'class_...</td>\n",
       "    </tr>\n",
       "    <tr>\n",
       "      <th>13</th>\n",
       "      <td>FPR</td>\n",
       "      <td>0.723982</td>\n",
       "      <td>0.702479</td>\n",
       "      <td>0.000000</td>\n",
       "      <td>1.000000</td>\n",
       "      <td>0.750000</td>\n",
       "      <td>0.000000</td>\n",
       "      <td>1.000000</td>\n",
       "      <td>0.827068</td>\n",
       "      <td>0.000000</td>\n",
       "      <td>...</td>\n",
       "      <td>1.000000</td>\n",
       "      <td>0.742857</td>\n",
       "      <td>0.000000</td>\n",
       "      <td>1.000000</td>\n",
       "      <td>0.652174</td>\n",
       "      <td>0.000000</td>\n",
       "      <td>1.000000</td>\n",
       "      <td>501</td>\n",
       "      <td>RandomForestClassifier</td>\n",
       "      <td>{'bootstrap': False, 'ccp_alpha': 0.0, 'class_...</td>\n",
       "    </tr>\n",
       "    <tr>\n",
       "      <th>14</th>\n",
       "      <td>Accuracy</td>\n",
       "      <td>0.896635</td>\n",
       "      <td>0.901695</td>\n",
       "      <td>1.000000</td>\n",
       "      <td>0.000000</td>\n",
       "      <td>0.890000</td>\n",
       "      <td>1.000000</td>\n",
       "      <td>0.000000</td>\n",
       "      <td>0.920185</td>\n",
       "      <td>1.000000</td>\n",
       "      <td>...</td>\n",
       "      <td>0.000000</td>\n",
       "      <td>0.911193</td>\n",
       "      <td>1.000000</td>\n",
       "      <td>0.000000</td>\n",
       "      <td>0.740113</td>\n",
       "      <td>1.000000</td>\n",
       "      <td>0.000000</td>\n",
       "      <td>501</td>\n",
       "      <td>RandomForestClassifier</td>\n",
       "      <td>{'bootstrap': False, 'ccp_alpha': 0.0, 'class_...</td>\n",
       "    </tr>\n",
       "    <tr>\n",
       "      <th>15</th>\n",
       "      <td>F1</td>\n",
       "      <td>0.943761</td>\n",
       "      <td>0.946593</td>\n",
       "      <td>1.000000</td>\n",
       "      <td>0.000000</td>\n",
       "      <td>0.940036</td>\n",
       "      <td>1.000000</td>\n",
       "      <td>0.000000</td>\n",
       "      <td>0.957850</td>\n",
       "      <td>1.000000</td>\n",
       "      <td>...</td>\n",
       "      <td>0.000000</td>\n",
       "      <td>0.952354</td>\n",
       "      <td>1.000000</td>\n",
       "      <td>0.000000</td>\n",
       "      <td>0.833333</td>\n",
       "      <td>1.000000</td>\n",
       "      <td>0.000000</td>\n",
       "      <td>501</td>\n",
       "      <td>RandomForestClassifier</td>\n",
       "      <td>{'bootstrap': False, 'ccp_alpha': 0.0, 'class_...</td>\n",
       "    </tr>\n",
       "    <tr>\n",
       "      <th>16</th>\n",
       "      <td>Selection-Rate</td>\n",
       "      <td>0.944231</td>\n",
       "      <td>0.943220</td>\n",
       "      <td>0.966165</td>\n",
       "      <td>0.732759</td>\n",
       "      <td>0.945556</td>\n",
       "      <td>0.968789</td>\n",
       "      <td>0.757576</td>\n",
       "      <td>0.970503</td>\n",
       "      <td>0.985544</td>\n",
       "      <td>...</td>\n",
       "      <td>0.649351</td>\n",
       "      <td>0.955859</td>\n",
       "      <td>0.974048</td>\n",
       "      <td>0.769231</td>\n",
       "      <td>0.819209</td>\n",
       "      <td>0.877863</td>\n",
       "      <td>0.652174</td>\n",
       "      <td>501</td>\n",
       "      <td>RandomForestClassifier</td>\n",
       "      <td>{'bootstrap': False, 'ccp_alpha': 0.0, 'class_...</td>\n",
       "    </tr>\n",
       "    <tr>\n",
       "      <th>17</th>\n",
       "      <td>Positive-Rate</td>\n",
       "      <td>1.056482</td>\n",
       "      <td>1.050992</td>\n",
       "      <td>1.000000</td>\n",
       "      <td>2.741935</td>\n",
       "      <td>1.063750</td>\n",
       "      <td>1.000000</td>\n",
       "      <td>3.125000</td>\n",
       "      <td>1.051378</td>\n",
       "      <td>1.000000</td>\n",
       "      <td>...</td>\n",
       "      <td>1.851852</td>\n",
       "      <td>1.052662</td>\n",
       "      <td>1.000000</td>\n",
       "      <td>3.333333</td>\n",
       "      <td>1.106870</td>\n",
       "      <td>1.000000</td>\n",
       "      <td>1.875000</td>\n",
       "      <td>501</td>\n",
       "      <td>RandomForestClassifier</td>\n",
       "      <td>{'bootstrap': False, 'ccp_alpha': 0.0, 'class_...</td>\n",
       "    </tr>\n",
       "    <tr>\n",
       "      <th>18</th>\n",
       "      <td>Sample_Size</td>\n",
       "      <td>2080.000000</td>\n",
       "      <td>1180.000000</td>\n",
       "      <td>1064.000000</td>\n",
       "      <td>116.000000</td>\n",
       "      <td>900.000000</td>\n",
       "      <td>801.000000</td>\n",
       "      <td>99.000000</td>\n",
       "      <td>1729.000000</td>\n",
       "      <td>1591.000000</td>\n",
       "      <td>...</td>\n",
       "      <td>77.000000</td>\n",
       "      <td>1903.000000</td>\n",
       "      <td>1734.000000</td>\n",
       "      <td>169.000000</td>\n",
       "      <td>177.000000</td>\n",
       "      <td>131.000000</td>\n",
       "      <td>46.000000</td>\n",
       "      <td>501</td>\n",
       "      <td>RandomForestClassifier</td>\n",
       "      <td>{'bootstrap': False, 'ccp_alpha': 0.0, 'class_...</td>\n",
       "    </tr>\n",
       "  </tbody>\n",
       "</table>\n",
       "<p>19 rows × 23 columns</p>\n",
       "</div>"
      ],
      "text/plain": [
       "                   Metric      overall    male_priv  male_priv_correct  \\\n",
       "0                    Mean     0.118325     0.122566           0.100953   \n",
       "1                     Std     0.042984     0.044106           0.038910   \n",
       "2                     IQR     0.061201     0.063022           0.055260   \n",
       "3   Aleatoric_Uncertainty     0.331475     0.340578           0.300606   \n",
       "4     Overall_Uncertainty     0.351560     0.361150           0.319261   \n",
       "5        Statistical_Bias     0.150285     0.151782           0.088890   \n",
       "6                  Jitter     0.043263     0.042197           0.028632   \n",
       "7     Per_Sample_Accuracy     0.892899     0.895775           0.979925   \n",
       "8         Label_Stability     0.938135     0.939907           0.960132   \n",
       "9                     TPR     0.970414     0.970727           1.000000   \n",
       "10                    TNR     0.276018     0.297521           1.000000   \n",
       "11                    PPV     0.918534     0.923630           1.000000   \n",
       "12                    FNR     0.029586     0.029273           0.000000   \n",
       "13                    FPR     0.723982     0.702479           0.000000   \n",
       "14               Accuracy     0.896635     0.901695           1.000000   \n",
       "15                     F1     0.943761     0.946593           1.000000   \n",
       "16         Selection-Rate     0.944231     0.943220           0.966165   \n",
       "17          Positive-Rate     1.056482     1.050992           1.000000   \n",
       "18            Sample_Size  2080.000000  1180.000000        1064.000000   \n",
       "\n",
       "    male_priv_incorrect    male_dis  male_dis_correct  male_dis_incorrect  \\\n",
       "0              0.320803    0.112766          0.085605            0.332520   \n",
       "1              0.091767    0.041512          0.035427            0.090744   \n",
       "2              0.134220    0.058814          0.050079            0.129489   \n",
       "3              0.707211    0.319541          0.270804            0.713875   \n",
       "4              0.745371    0.338987          0.288123            0.750522   \n",
       "5              0.728657    0.148322          0.078135            0.716198   \n",
       "6              0.166628    0.044661          0.025989            0.195736   \n",
       "7              0.123922    0.889128          0.981361            0.142879   \n",
       "8              0.754397    0.935811          0.963021            0.715657   \n",
       "9              0.000000    0.970000          1.000000            0.000000   \n",
       "10             0.000000    0.250000          1.000000            0.000000   \n",
       "11             0.000000    0.911868          1.000000            0.000000   \n",
       "12             1.000000    0.030000          0.000000            1.000000   \n",
       "13             1.000000    0.750000          0.000000            1.000000   \n",
       "14             0.000000    0.890000          1.000000            0.000000   \n",
       "15             0.000000    0.940036          1.000000            0.000000   \n",
       "16             0.732759    0.945556          0.968789            0.757576   \n",
       "17             2.741935    1.063750          1.000000            3.125000   \n",
       "18           116.000000  900.000000        801.000000           99.000000   \n",
       "\n",
       "      race_priv  race_priv_correct  ...  race_dis_incorrect  male&race_priv  \\\n",
       "0      0.091767           0.074492  ...            0.389407        0.106467   \n",
       "1      0.037893           0.033780  ...            0.102034        0.040569   \n",
       "2      0.053756           0.047889  ...            0.151134        0.057670   \n",
       "3      0.288380           0.255438  ...            0.785754        0.311275   \n",
       "4      0.306721           0.272361  ...            0.828184        0.330519   \n",
       "5      0.125117           0.071277  ...            0.681844        0.137145   \n",
       "6      0.031485           0.020485  ...            0.218976        0.036459   \n",
       "7      0.916319           0.985707  ...            0.161883        0.906981   \n",
       "8      0.955414           0.971603  ...            0.678831        0.948129   \n",
       "9      0.982456           1.000000  ...            0.000000        0.977431   \n",
       "10     0.172932           1.000000  ...            0.000000        0.257143   \n",
       "11     0.934446           1.000000  ...            0.000000        0.928532   \n",
       "12     0.017544           0.000000  ...            1.000000        0.022569   \n",
       "13     0.827068           0.000000  ...            1.000000        0.742857   \n",
       "14     0.920185           1.000000  ...            0.000000        0.911193   \n",
       "15     0.957850           1.000000  ...            0.000000        0.952354   \n",
       "16     0.970503           0.985544  ...            0.649351        0.955859   \n",
       "17     1.051378           1.000000  ...            1.851852        1.052662   \n",
       "18  1729.000000        1591.000000  ...           77.000000     1903.000000   \n",
       "\n",
       "    male&race_priv_correct  male&race_priv_incorrect  male&race_dis  \\\n",
       "0                 0.086926                  0.306965       0.245824   \n",
       "1                 0.035912                  0.088349       0.068947   \n",
       "2                 0.050878                  0.127352       0.099167   \n",
       "3                 0.274868                  0.684827       0.548653   \n",
       "4                 0.292444                  0.721181       0.577785   \n",
       "5                 0.078741                  0.736395       0.291553   \n",
       "6                 0.023752                  0.166838       0.116418   \n",
       "7                 0.983365                  0.123254       0.741497   \n",
       "8                 0.966903                  0.755503       0.830678   \n",
       "9                 1.000000                  0.000000       0.877863   \n",
       "10                1.000000                  0.000000       0.347826   \n",
       "11                1.000000                  0.000000       0.793103   \n",
       "12                0.000000                  1.000000       0.122137   \n",
       "13                0.000000                  1.000000       0.652174   \n",
       "14                1.000000                  0.000000       0.740113   \n",
       "15                1.000000                  0.000000       0.833333   \n",
       "16                0.974048                  0.769231       0.819209   \n",
       "17                1.000000                  3.333333       1.106870   \n",
       "18             1734.000000                169.000000     177.000000   \n",
       "\n",
       "    male&race_dis_correct  male&race_dis_incorrect  Model_Seed  \\\n",
       "0                0.192787                 0.396863         501   \n",
       "1                0.057297                 0.102123         501   \n",
       "2                0.081575                 0.149268         501   \n",
       "3                0.459063                 0.803792         501   \n",
       "4                0.483838                 0.845328         501   \n",
       "5                0.157466                 0.673411         501   \n",
       "6                0.077060                 0.228503         501   \n",
       "7                0.943168                 0.167174         501   \n",
       "8                0.888168                 0.666957         501   \n",
       "9                1.000000                 0.000000         501   \n",
       "10               1.000000                 0.000000         501   \n",
       "11               1.000000                 0.000000         501   \n",
       "12               0.000000                 1.000000         501   \n",
       "13               0.000000                 1.000000         501   \n",
       "14               1.000000                 0.000000         501   \n",
       "15               1.000000                 0.000000         501   \n",
       "16               0.877863                 0.652174         501   \n",
       "17               1.000000                 1.875000         501   \n",
       "18             131.000000                46.000000         501   \n",
       "\n",
       "                Model_Name                                       Model_Params  \n",
       "0   RandomForestClassifier  {'bootstrap': False, 'ccp_alpha': 0.0, 'class_...  \n",
       "1   RandomForestClassifier  {'bootstrap': False, 'ccp_alpha': 0.0, 'class_...  \n",
       "2   RandomForestClassifier  {'bootstrap': False, 'ccp_alpha': 0.0, 'class_...  \n",
       "3   RandomForestClassifier  {'bootstrap': False, 'ccp_alpha': 0.0, 'class_...  \n",
       "4   RandomForestClassifier  {'bootstrap': False, 'ccp_alpha': 0.0, 'class_...  \n",
       "5   RandomForestClassifier  {'bootstrap': False, 'ccp_alpha': 0.0, 'class_...  \n",
       "6   RandomForestClassifier  {'bootstrap': False, 'ccp_alpha': 0.0, 'class_...  \n",
       "7   RandomForestClassifier  {'bootstrap': False, 'ccp_alpha': 0.0, 'class_...  \n",
       "8   RandomForestClassifier  {'bootstrap': False, 'ccp_alpha': 0.0, 'class_...  \n",
       "9   RandomForestClassifier  {'bootstrap': False, 'ccp_alpha': 0.0, 'class_...  \n",
       "10  RandomForestClassifier  {'bootstrap': False, 'ccp_alpha': 0.0, 'class_...  \n",
       "11  RandomForestClassifier  {'bootstrap': False, 'ccp_alpha': 0.0, 'class_...  \n",
       "12  RandomForestClassifier  {'bootstrap': False, 'ccp_alpha': 0.0, 'class_...  \n",
       "13  RandomForestClassifier  {'bootstrap': False, 'ccp_alpha': 0.0, 'class_...  \n",
       "14  RandomForestClassifier  {'bootstrap': False, 'ccp_alpha': 0.0, 'class_...  \n",
       "15  RandomForestClassifier  {'bootstrap': False, 'ccp_alpha': 0.0, 'class_...  \n",
       "16  RandomForestClassifier  {'bootstrap': False, 'ccp_alpha': 0.0, 'class_...  \n",
       "17  RandomForestClassifier  {'bootstrap': False, 'ccp_alpha': 0.0, 'class_...  \n",
       "18  RandomForestClassifier  {'bootstrap': False, 'ccp_alpha': 0.0, 'class_...  \n",
       "\n",
       "[19 rows x 23 columns]"
      ]
     },
     "metadata": {},
     "output_type": "display_data"
    },
    {
     "name": "stdout",
     "output_type": "stream",
     "text": [
      "\n",
      "\n",
      "\n",
      "\n",
      "intervention_param:  0.9\n"
     ]
    },
    {
     "name": "stderr",
     "output_type": "stream",
     "text": [
      "2023-08-06 18:19:04 experiment_interface.py INFO    : Models config is loaded from the input file\n",
      "INFO:root:Models config is loaded from the input file\n"
     ]
    },
    {
     "name": "stdout",
     "output_type": "stream",
     "text": [
      "Path for tuned params:  /home/dh3553/projects/fairness-variance/results/mult_repair_levels_law_school/tuning_results_Law_School_alpha_0.9_20230806__195951.csv\n",
      "RandomForestClassifier:  {'bootstrap': False, 'ccp_alpha': 0.0, 'class_weight': None, 'criterion': 'gini', 'max_depth': 30, 'max_features': 'sqrt', 'max_leaf_nodes': None, 'max_samples': None, 'min_impurity_decrease': 0.0, 'min_samples_leaf': 1, 'min_samples_split': 2, 'min_weight_fraction_leaf': 0.0, 'n_estimators': 500, 'n_jobs': None, 'oob_score': False, 'random_state': 501, 'verbose': 0, 'warm_start': False}\n"
     ]
    },
    {
     "data": {
      "application/vnd.jupyter.widget-view+json": {
       "model_id": "6ef66034780342a181f9214cefe8dc5b",
       "version_major": 2,
       "version_minor": 0
      },
      "text/plain": [
       "Multiple runs progress:   0%|          | 0/1 [00:00<?, ?it/s]"
      ]
     },
     "metadata": {},
     "output_type": "display_data"
    },
    {
     "data": {
      "application/vnd.jupyter.widget-view+json": {
       "model_id": "e9121633147e49b289fe3a5125b11224",
       "version_major": 2,
       "version_minor": 0
      },
      "text/plain": [
       "Analyze models in one run:   0%|          | 0/1 [00:00<?, ?it/s]"
      ]
     },
     "metadata": {},
     "output_type": "display_data"
    },
    {
     "name": "stdout",
     "output_type": "stream",
     "text": [
      "##############################  [Model 1 / 1] Analyze RandomForestClassifier  ##############################\n",
      "Model seed:  501\n",
      "\n",
      "Protected groups splits:\n",
      "male_priv (1180, 2)\n",
      "male_dis (900, 2)\n",
      "race_priv (1729, 2)\n",
      "race_dis (351, 2)\n",
      "male&race_priv (1903, 2)\n",
      "male&race_dis (177, 2)\n",
      "\n",
      "\n"
     ]
    },
    {
     "name": "stderr",
     "output_type": "stream",
     "text": [
      "2023-08-06 18:19:04 abstract_overall_variance_analyzer.py INFO    : Start classifiers testing by bootstrap\n",
      "INFO:root:Start classifiers testing by bootstrap\n"
     ]
    },
    {
     "data": {
      "application/vnd.jupyter.widget-view+json": {
       "model_id": "a33ca6045d314647b1380ff5481fa737",
       "version_major": 2,
       "version_minor": 0
      },
      "text/plain": [
       "Classifiers testing by bootstrap:   0%|          | 0/200 [00:00<?, ?it/s]"
      ]
     },
     "metadata": {},
     "output_type": "display_data"
    },
    {
     "name": "stdout",
     "output_type": "stream",
     "text": [
      "\n",
      "\n"
     ]
    },
    {
     "name": "stderr",
     "output_type": "stream",
     "text": [
      "2023-08-06 18:43:41 abstract_overall_variance_analyzer.py INFO    : Successfully tested classifiers by bootstrap\n",
      "INFO:root:Successfully tested classifiers by bootstrap\n",
      "2023-08-06 18:43:59 abstract_overall_variance_analyzer.py INFO    : Successfully computed predict proba metrics\n",
      "INFO:root:Successfully computed predict proba metrics\n"
     ]
    },
    {
     "name": "stdout",
     "output_type": "stream",
     "text": [
      "\n",
      "[RandomForestClassifier] Metrics matrix:\n"
     ]
    },
    {
     "data": {
      "text/html": [
       "<div>\n",
       "<style scoped>\n",
       "    .dataframe tbody tr th:only-of-type {\n",
       "        vertical-align: middle;\n",
       "    }\n",
       "\n",
       "    .dataframe tbody tr th {\n",
       "        vertical-align: top;\n",
       "    }\n",
       "\n",
       "    .dataframe thead th {\n",
       "        text-align: right;\n",
       "    }\n",
       "</style>\n",
       "<table border=\"1\" class=\"dataframe\">\n",
       "  <thead>\n",
       "    <tr style=\"text-align: right;\">\n",
       "      <th></th>\n",
       "      <th>Metric</th>\n",
       "      <th>overall</th>\n",
       "      <th>male_priv</th>\n",
       "      <th>male_priv_correct</th>\n",
       "      <th>male_priv_incorrect</th>\n",
       "      <th>male_dis</th>\n",
       "      <th>male_dis_correct</th>\n",
       "      <th>male_dis_incorrect</th>\n",
       "      <th>race_priv</th>\n",
       "      <th>race_priv_correct</th>\n",
       "      <th>...</th>\n",
       "      <th>race_dis_incorrect</th>\n",
       "      <th>male&amp;race_priv</th>\n",
       "      <th>male&amp;race_priv_correct</th>\n",
       "      <th>male&amp;race_priv_incorrect</th>\n",
       "      <th>male&amp;race_dis</th>\n",
       "      <th>male&amp;race_dis_correct</th>\n",
       "      <th>male&amp;race_dis_incorrect</th>\n",
       "      <th>Model_Seed</th>\n",
       "      <th>Model_Name</th>\n",
       "      <th>Model_Params</th>\n",
       "    </tr>\n",
       "  </thead>\n",
       "  <tbody>\n",
       "    <tr>\n",
       "      <th>0</th>\n",
       "      <td>Mean</td>\n",
       "      <td>0.122477</td>\n",
       "      <td>0.127824</td>\n",
       "      <td>0.105914</td>\n",
       "      <td>0.326889</td>\n",
       "      <td>0.115465</td>\n",
       "      <td>0.093411</td>\n",
       "      <td>0.306844</td>\n",
       "      <td>0.097320</td>\n",
       "      <td>0.080138</td>\n",
       "      <td>...</td>\n",
       "      <td>0.365274</td>\n",
       "      <td>0.111257</td>\n",
       "      <td>0.092454</td>\n",
       "      <td>0.305437</td>\n",
       "      <td>0.243107</td>\n",
       "      <td>0.204156</td>\n",
       "      <td>0.368309</td>\n",
       "      <td>501</td>\n",
       "      <td>RandomForestClassifier</td>\n",
       "      <td>{'bootstrap': False, 'ccp_alpha': 0.0, 'class_...</td>\n",
       "    </tr>\n",
       "    <tr>\n",
       "      <th>1</th>\n",
       "      <td>Std</td>\n",
       "      <td>0.043239</td>\n",
       "      <td>0.045122</td>\n",
       "      <td>0.040440</td>\n",
       "      <td>0.087655</td>\n",
       "      <td>0.040771</td>\n",
       "      <td>0.035355</td>\n",
       "      <td>0.087769</td>\n",
       "      <td>0.038551</td>\n",
       "      <td>0.034613</td>\n",
       "      <td>...</td>\n",
       "      <td>0.095731</td>\n",
       "      <td>0.041095</td>\n",
       "      <td>0.036872</td>\n",
       "      <td>0.084708</td>\n",
       "      <td>0.066292</td>\n",
       "      <td>0.055899</td>\n",
       "      <td>0.099697</td>\n",
       "      <td>501</td>\n",
       "      <td>RandomForestClassifier</td>\n",
       "      <td>{'bootstrap': False, 'ccp_alpha': 0.0, 'class_...</td>\n",
       "    </tr>\n",
       "    <tr>\n",
       "      <th>2</th>\n",
       "      <td>IQR</td>\n",
       "      <td>0.062532</td>\n",
       "      <td>0.065633</td>\n",
       "      <td>0.058832</td>\n",
       "      <td>0.127423</td>\n",
       "      <td>0.058466</td>\n",
       "      <td>0.050481</td>\n",
       "      <td>0.127760</td>\n",
       "      <td>0.055787</td>\n",
       "      <td>0.050077</td>\n",
       "      <td>...</td>\n",
       "      <td>0.140241</td>\n",
       "      <td>0.059412</td>\n",
       "      <td>0.053324</td>\n",
       "      <td>0.122285</td>\n",
       "      <td>0.096079</td>\n",
       "      <td>0.079701</td>\n",
       "      <td>0.148722</td>\n",
       "      <td>501</td>\n",
       "      <td>RandomForestClassifier</td>\n",
       "      <td>{'bootstrap': False, 'ccp_alpha': 0.0, 'class_...</td>\n",
       "    </tr>\n",
       "    <tr>\n",
       "      <th>3</th>\n",
       "      <td>Aleatoric_Uncertainty</td>\n",
       "      <td>0.358971</td>\n",
       "      <td>0.368686</td>\n",
       "      <td>0.328042</td>\n",
       "      <td>0.737950</td>\n",
       "      <td>0.346234</td>\n",
       "      <td>0.303557</td>\n",
       "      <td>0.716558</td>\n",
       "      <td>0.316390</td>\n",
       "      <td>0.282742</td>\n",
       "      <td>...</td>\n",
       "      <td>0.781714</td>\n",
       "      <td>0.339374</td>\n",
       "      <td>0.303271</td>\n",
       "      <td>0.712225</td>\n",
       "      <td>0.569665</td>\n",
       "      <td>0.500033</td>\n",
       "      <td>0.793482</td>\n",
       "      <td>501</td>\n",
       "      <td>RandomForestClassifier</td>\n",
       "      <td>{'bootstrap': False, 'ccp_alpha': 0.0, 'class_...</td>\n",
       "    </tr>\n",
       "    <tr>\n",
       "      <th>4</th>\n",
       "      <td>Overall_Uncertainty</td>\n",
       "      <td>0.378003</td>\n",
       "      <td>0.388732</td>\n",
       "      <td>0.346670</td>\n",
       "      <td>0.770894</td>\n",
       "      <td>0.363934</td>\n",
       "      <td>0.319293</td>\n",
       "      <td>0.751310</td>\n",
       "      <td>0.334019</td>\n",
       "      <td>0.299104</td>\n",
       "      <td>...</td>\n",
       "      <td>0.818634</td>\n",
       "      <td>0.357744</td>\n",
       "      <td>0.320300</td>\n",
       "      <td>0.744439</td>\n",
       "      <td>0.595815</td>\n",
       "      <td>0.521915</td>\n",
       "      <td>0.833349</td>\n",
       "      <td>501</td>\n",
       "      <td>RandomForestClassifier</td>\n",
       "      <td>{'bootstrap': False, 'ccp_alpha': 0.0, 'class_...</td>\n",
       "    </tr>\n",
       "    <tr>\n",
       "      <th>5</th>\n",
       "      <td>Statistical_Bias</td>\n",
       "      <td>0.155639</td>\n",
       "      <td>0.157883</td>\n",
       "      <td>0.096269</td>\n",
       "      <td>0.717680</td>\n",
       "      <td>0.152698</td>\n",
       "      <td>0.086670</td>\n",
       "      <td>0.725645</td>\n",
       "      <td>0.129973</td>\n",
       "      <td>0.077121</td>\n",
       "      <td>...</td>\n",
       "      <td>0.695110</td>\n",
       "      <td>0.142624</td>\n",
       "      <td>0.085719</td>\n",
       "      <td>0.730295</td>\n",
       "      <td>0.295578</td>\n",
       "      <td>0.174470</td>\n",
       "      <td>0.684856</td>\n",
       "      <td>501</td>\n",
       "      <td>RandomForestClassifier</td>\n",
       "      <td>{'bootstrap': False, 'ccp_alpha': 0.0, 'class_...</td>\n",
       "    </tr>\n",
       "    <tr>\n",
       "      <th>6</th>\n",
       "      <td>Jitter</td>\n",
       "      <td>0.041057</td>\n",
       "      <td>0.042635</td>\n",
       "      <td>0.028705</td>\n",
       "      <td>0.169194</td>\n",
       "      <td>0.038987</td>\n",
       "      <td>0.023986</td>\n",
       "      <td>0.169159</td>\n",
       "      <td>0.027961</td>\n",
       "      <td>0.016734</td>\n",
       "      <td>...</td>\n",
       "      <td>0.194222</td>\n",
       "      <td>0.034083</td>\n",
       "      <td>0.022183</td>\n",
       "      <td>0.156977</td>\n",
       "      <td>0.116034</td>\n",
       "      <td>0.084317</td>\n",
       "      <td>0.217984</td>\n",
       "      <td>501</td>\n",
       "      <td>RandomForestClassifier</td>\n",
       "      <td>{'bootstrap': False, 'ccp_alpha': 0.0, 'class_...</td>\n",
       "    </tr>\n",
       "    <tr>\n",
       "      <th>7</th>\n",
       "      <td>Per_Sample_Accuracy</td>\n",
       "      <td>0.894130</td>\n",
       "      <td>0.894589</td>\n",
       "      <td>0.979247</td>\n",
       "      <td>0.125427</td>\n",
       "      <td>0.893528</td>\n",
       "      <td>0.982082</td>\n",
       "      <td>0.125108</td>\n",
       "      <td>0.918129</td>\n",
       "      <td>0.988167</td>\n",
       "      <td>...</td>\n",
       "      <td>0.141549</td>\n",
       "      <td>0.907604</td>\n",
       "      <td>0.984164</td>\n",
       "      <td>0.116935</td>\n",
       "      <td>0.749266</td>\n",
       "      <td>0.933000</td>\n",
       "      <td>0.158690</td>\n",
       "      <td>501</td>\n",
       "      <td>RandomForestClassifier</td>\n",
       "      <td>{'bootstrap': False, 'ccp_alpha': 0.0, 'class_...</td>\n",
       "    </tr>\n",
       "    <tr>\n",
       "      <th>8</th>\n",
       "      <td>Label_Stability</td>\n",
       "      <td>0.939904</td>\n",
       "      <td>0.938093</td>\n",
       "      <td>0.958833</td>\n",
       "      <td>0.749658</td>\n",
       "      <td>0.942278</td>\n",
       "      <td>0.964312</td>\n",
       "      <td>0.751075</td>\n",
       "      <td>0.959589</td>\n",
       "      <td>0.976472</td>\n",
       "      <td>...</td>\n",
       "      <td>0.718592</td>\n",
       "      <td>0.950699</td>\n",
       "      <td>0.968536</td>\n",
       "      <td>0.766488</td>\n",
       "      <td>0.823842</td>\n",
       "      <td>0.866889</td>\n",
       "      <td>0.685476</td>\n",
       "      <td>501</td>\n",
       "      <td>RandomForestClassifier</td>\n",
       "      <td>{'bootstrap': False, 'ccp_alpha': 0.0, 'class_...</td>\n",
       "    </tr>\n",
       "    <tr>\n",
       "      <th>9</th>\n",
       "      <td>TPR</td>\n",
       "      <td>0.975793</td>\n",
       "      <td>0.973560</td>\n",
       "      <td>1.000000</td>\n",
       "      <td>0.000000</td>\n",
       "      <td>0.978750</td>\n",
       "      <td>1.000000</td>\n",
       "      <td>0.000000</td>\n",
       "      <td>0.984336</td>\n",
       "      <td>1.000000</td>\n",
       "      <td>...</td>\n",
       "      <td>0.000000</td>\n",
       "      <td>0.980324</td>\n",
       "      <td>1.000000</td>\n",
       "      <td>0.000000</td>\n",
       "      <td>0.916031</td>\n",
       "      <td>1.000000</td>\n",
       "      <td>0.000000</td>\n",
       "      <td>501</td>\n",
       "      <td>RandomForestClassifier</td>\n",
       "      <td>{'bootstrap': False, 'ccp_alpha': 0.0, 'class_...</td>\n",
       "    </tr>\n",
       "    <tr>\n",
       "      <th>10</th>\n",
       "      <td>TNR</td>\n",
       "      <td>0.253394</td>\n",
       "      <td>0.264463</td>\n",
       "      <td>1.000000</td>\n",
       "      <td>0.000000</td>\n",
       "      <td>0.240000</td>\n",
       "      <td>1.000000</td>\n",
       "      <td>0.000000</td>\n",
       "      <td>0.142857</td>\n",
       "      <td>1.000000</td>\n",
       "      <td>...</td>\n",
       "      <td>0.000000</td>\n",
       "      <td>0.234286</td>\n",
       "      <td>1.000000</td>\n",
       "      <td>0.000000</td>\n",
       "      <td>0.326087</td>\n",
       "      <td>1.000000</td>\n",
       "      <td>0.000000</td>\n",
       "      <td>501</td>\n",
       "      <td>RandomForestClassifier</td>\n",
       "      <td>{'bootstrap': False, 'ccp_alpha': 0.0, 'class_...</td>\n",
       "    </tr>\n",
       "    <tr>\n",
       "      <th>11</th>\n",
       "      <td>PPV</td>\n",
       "      <td>0.916625</td>\n",
       "      <td>0.920536</td>\n",
       "      <td>1.000000</td>\n",
       "      <td>0.000000</td>\n",
       "      <td>0.911525</td>\n",
       "      <td>1.000000</td>\n",
       "      <td>0.000000</td>\n",
       "      <td>0.932344</td>\n",
       "      <td>1.000000</td>\n",
       "      <td>...</td>\n",
       "      <td>0.000000</td>\n",
       "      <td>0.926696</td>\n",
       "      <td>1.000000</td>\n",
       "      <td>0.000000</td>\n",
       "      <td>0.794702</td>\n",
       "      <td>1.000000</td>\n",
       "      <td>0.000000</td>\n",
       "      <td>501</td>\n",
       "      <td>RandomForestClassifier</td>\n",
       "      <td>{'bootstrap': False, 'ccp_alpha': 0.0, 'class_...</td>\n",
       "    </tr>\n",
       "    <tr>\n",
       "      <th>12</th>\n",
       "      <td>FNR</td>\n",
       "      <td>0.024207</td>\n",
       "      <td>0.026440</td>\n",
       "      <td>0.000000</td>\n",
       "      <td>1.000000</td>\n",
       "      <td>0.021250</td>\n",
       "      <td>0.000000</td>\n",
       "      <td>1.000000</td>\n",
       "      <td>0.015664</td>\n",
       "      <td>0.000000</td>\n",
       "      <td>...</td>\n",
       "      <td>1.000000</td>\n",
       "      <td>0.019676</td>\n",
       "      <td>0.000000</td>\n",
       "      <td>1.000000</td>\n",
       "      <td>0.083969</td>\n",
       "      <td>0.000000</td>\n",
       "      <td>1.000000</td>\n",
       "      <td>501</td>\n",
       "      <td>RandomForestClassifier</td>\n",
       "      <td>{'bootstrap': False, 'ccp_alpha': 0.0, 'class_...</td>\n",
       "    </tr>\n",
       "    <tr>\n",
       "      <th>13</th>\n",
       "      <td>FPR</td>\n",
       "      <td>0.746606</td>\n",
       "      <td>0.735537</td>\n",
       "      <td>0.000000</td>\n",
       "      <td>1.000000</td>\n",
       "      <td>0.760000</td>\n",
       "      <td>0.000000</td>\n",
       "      <td>1.000000</td>\n",
       "      <td>0.857143</td>\n",
       "      <td>0.000000</td>\n",
       "      <td>...</td>\n",
       "      <td>1.000000</td>\n",
       "      <td>0.765714</td>\n",
       "      <td>0.000000</td>\n",
       "      <td>1.000000</td>\n",
       "      <td>0.673913</td>\n",
       "      <td>0.000000</td>\n",
       "      <td>1.000000</td>\n",
       "      <td>501</td>\n",
       "      <td>RandomForestClassifier</td>\n",
       "      <td>{'bootstrap': False, 'ccp_alpha': 0.0, 'class_...</td>\n",
       "    </tr>\n",
       "    <tr>\n",
       "      <th>14</th>\n",
       "      <td>Accuracy</td>\n",
       "      <td>0.899038</td>\n",
       "      <td>0.900847</td>\n",
       "      <td>1.000000</td>\n",
       "      <td>0.000000</td>\n",
       "      <td>0.896667</td>\n",
       "      <td>1.000000</td>\n",
       "      <td>0.000000</td>\n",
       "      <td>0.919607</td>\n",
       "      <td>1.000000</td>\n",
       "      <td>...</td>\n",
       "      <td>0.000000</td>\n",
       "      <td>0.911718</td>\n",
       "      <td>1.000000</td>\n",
       "      <td>0.000000</td>\n",
       "      <td>0.762712</td>\n",
       "      <td>1.000000</td>\n",
       "      <td>0.000000</td>\n",
       "      <td>501</td>\n",
       "      <td>RandomForestClassifier</td>\n",
       "      <td>{'bootstrap': False, 'ccp_alpha': 0.0, 'class_...</td>\n",
       "    </tr>\n",
       "    <tr>\n",
       "      <th>15</th>\n",
       "      <td>F1</td>\n",
       "      <td>0.945284</td>\n",
       "      <td>0.946306</td>\n",
       "      <td>1.000000</td>\n",
       "      <td>0.000000</td>\n",
       "      <td>0.943942</td>\n",
       "      <td>1.000000</td>\n",
       "      <td>0.000000</td>\n",
       "      <td>0.957635</td>\n",
       "      <td>1.000000</td>\n",
       "      <td>...</td>\n",
       "      <td>0.000000</td>\n",
       "      <td>0.952756</td>\n",
       "      <td>1.000000</td>\n",
       "      <td>0.000000</td>\n",
       "      <td>0.851064</td>\n",
       "      <td>1.000000</td>\n",
       "      <td>0.000000</td>\n",
       "      <td>501</td>\n",
       "      <td>RandomForestClassifier</td>\n",
       "      <td>{'bootstrap': False, 'ccp_alpha': 0.0, 'class_...</td>\n",
       "    </tr>\n",
       "    <tr>\n",
       "      <th>16</th>\n",
       "      <td>Selection-Rate</td>\n",
       "      <td>0.951442</td>\n",
       "      <td>0.949153</td>\n",
       "      <td>0.969897</td>\n",
       "      <td>0.760684</td>\n",
       "      <td>0.954444</td>\n",
       "      <td>0.970260</td>\n",
       "      <td>0.817204</td>\n",
       "      <td>0.974552</td>\n",
       "      <td>0.988050</td>\n",
       "      <td>...</td>\n",
       "      <td>0.718310</td>\n",
       "      <td>0.960589</td>\n",
       "      <td>0.976369</td>\n",
       "      <td>0.797619</td>\n",
       "      <td>0.853107</td>\n",
       "      <td>0.888889</td>\n",
       "      <td>0.738095</td>\n",
       "      <td>501</td>\n",
       "      <td>RandomForestClassifier</td>\n",
       "      <td>{'bootstrap': False, 'ccp_alpha': 0.0, 'class_...</td>\n",
       "    </tr>\n",
       "    <tr>\n",
       "      <th>17</th>\n",
       "      <td>Positive-Rate</td>\n",
       "      <td>1.064551</td>\n",
       "      <td>1.057602</td>\n",
       "      <td>1.000000</td>\n",
       "      <td>3.178571</td>\n",
       "      <td>1.073750</td>\n",
       "      <td>1.000000</td>\n",
       "      <td>4.470588</td>\n",
       "      <td>1.055764</td>\n",
       "      <td>1.000000</td>\n",
       "      <td>...</td>\n",
       "      <td>2.550000</td>\n",
       "      <td>1.057870</td>\n",
       "      <td>1.000000</td>\n",
       "      <td>3.941176</td>\n",
       "      <td>1.152672</td>\n",
       "      <td>1.000000</td>\n",
       "      <td>2.818182</td>\n",
       "      <td>501</td>\n",
       "      <td>RandomForestClassifier</td>\n",
       "      <td>{'bootstrap': False, 'ccp_alpha': 0.0, 'class_...</td>\n",
       "    </tr>\n",
       "    <tr>\n",
       "      <th>18</th>\n",
       "      <td>Sample_Size</td>\n",
       "      <td>2080.000000</td>\n",
       "      <td>1180.000000</td>\n",
       "      <td>1063.000000</td>\n",
       "      <td>117.000000</td>\n",
       "      <td>900.000000</td>\n",
       "      <td>807.000000</td>\n",
       "      <td>93.000000</td>\n",
       "      <td>1729.000000</td>\n",
       "      <td>1590.000000</td>\n",
       "      <td>...</td>\n",
       "      <td>71.000000</td>\n",
       "      <td>1903.000000</td>\n",
       "      <td>1735.000000</td>\n",
       "      <td>168.000000</td>\n",
       "      <td>177.000000</td>\n",
       "      <td>135.000000</td>\n",
       "      <td>42.000000</td>\n",
       "      <td>501</td>\n",
       "      <td>RandomForestClassifier</td>\n",
       "      <td>{'bootstrap': False, 'ccp_alpha': 0.0, 'class_...</td>\n",
       "    </tr>\n",
       "  </tbody>\n",
       "</table>\n",
       "<p>19 rows × 23 columns</p>\n",
       "</div>"
      ],
      "text/plain": [
       "                   Metric      overall    male_priv  male_priv_correct  \\\n",
       "0                    Mean     0.122477     0.127824           0.105914   \n",
       "1                     Std     0.043239     0.045122           0.040440   \n",
       "2                     IQR     0.062532     0.065633           0.058832   \n",
       "3   Aleatoric_Uncertainty     0.358971     0.368686           0.328042   \n",
       "4     Overall_Uncertainty     0.378003     0.388732           0.346670   \n",
       "5        Statistical_Bias     0.155639     0.157883           0.096269   \n",
       "6                  Jitter     0.041057     0.042635           0.028705   \n",
       "7     Per_Sample_Accuracy     0.894130     0.894589           0.979247   \n",
       "8         Label_Stability     0.939904     0.938093           0.958833   \n",
       "9                     TPR     0.975793     0.973560           1.000000   \n",
       "10                    TNR     0.253394     0.264463           1.000000   \n",
       "11                    PPV     0.916625     0.920536           1.000000   \n",
       "12                    FNR     0.024207     0.026440           0.000000   \n",
       "13                    FPR     0.746606     0.735537           0.000000   \n",
       "14               Accuracy     0.899038     0.900847           1.000000   \n",
       "15                     F1     0.945284     0.946306           1.000000   \n",
       "16         Selection-Rate     0.951442     0.949153           0.969897   \n",
       "17          Positive-Rate     1.064551     1.057602           1.000000   \n",
       "18            Sample_Size  2080.000000  1180.000000        1063.000000   \n",
       "\n",
       "    male_priv_incorrect    male_dis  male_dis_correct  male_dis_incorrect  \\\n",
       "0              0.326889    0.115465          0.093411            0.306844   \n",
       "1              0.087655    0.040771          0.035355            0.087769   \n",
       "2              0.127423    0.058466          0.050481            0.127760   \n",
       "3              0.737950    0.346234          0.303557            0.716558   \n",
       "4              0.770894    0.363934          0.319293            0.751310   \n",
       "5              0.717680    0.152698          0.086670            0.725645   \n",
       "6              0.169194    0.038987          0.023986            0.169159   \n",
       "7              0.125427    0.893528          0.982082            0.125108   \n",
       "8              0.749658    0.942278          0.964312            0.751075   \n",
       "9              0.000000    0.978750          1.000000            0.000000   \n",
       "10             0.000000    0.240000          1.000000            0.000000   \n",
       "11             0.000000    0.911525          1.000000            0.000000   \n",
       "12             1.000000    0.021250          0.000000            1.000000   \n",
       "13             1.000000    0.760000          0.000000            1.000000   \n",
       "14             0.000000    0.896667          1.000000            0.000000   \n",
       "15             0.000000    0.943942          1.000000            0.000000   \n",
       "16             0.760684    0.954444          0.970260            0.817204   \n",
       "17             3.178571    1.073750          1.000000            4.470588   \n",
       "18           117.000000  900.000000        807.000000           93.000000   \n",
       "\n",
       "      race_priv  race_priv_correct  ...  race_dis_incorrect  male&race_priv  \\\n",
       "0      0.097320           0.080138  ...            0.365274        0.111257   \n",
       "1      0.038551           0.034613  ...            0.095731        0.041095   \n",
       "2      0.055787           0.050077  ...            0.140241        0.059412   \n",
       "3      0.316390           0.282742  ...            0.781714        0.339374   \n",
       "4      0.334019           0.299104  ...            0.818634        0.357744   \n",
       "5      0.129973           0.077121  ...            0.695110        0.142624   \n",
       "6      0.027961           0.016734  ...            0.194222        0.034083   \n",
       "7      0.918129           0.988167  ...            0.141549        0.907604   \n",
       "8      0.959589           0.976472  ...            0.718592        0.950699   \n",
       "9      0.984336           1.000000  ...            0.000000        0.980324   \n",
       "10     0.142857           1.000000  ...            0.000000        0.234286   \n",
       "11     0.932344           1.000000  ...            0.000000        0.926696   \n",
       "12     0.015664           0.000000  ...            1.000000        0.019676   \n",
       "13     0.857143           0.000000  ...            1.000000        0.765714   \n",
       "14     0.919607           1.000000  ...            0.000000        0.911718   \n",
       "15     0.957635           1.000000  ...            0.000000        0.952756   \n",
       "16     0.974552           0.988050  ...            0.718310        0.960589   \n",
       "17     1.055764           1.000000  ...            2.550000        1.057870   \n",
       "18  1729.000000        1590.000000  ...           71.000000     1903.000000   \n",
       "\n",
       "    male&race_priv_correct  male&race_priv_incorrect  male&race_dis  \\\n",
       "0                 0.092454                  0.305437       0.243107   \n",
       "1                 0.036872                  0.084708       0.066292   \n",
       "2                 0.053324                  0.122285       0.096079   \n",
       "3                 0.303271                  0.712225       0.569665   \n",
       "4                 0.320300                  0.744439       0.595815   \n",
       "5                 0.085719                  0.730295       0.295578   \n",
       "6                 0.022183                  0.156977       0.116034   \n",
       "7                 0.984164                  0.116935       0.749266   \n",
       "8                 0.968536                  0.766488       0.823842   \n",
       "9                 1.000000                  0.000000       0.916031   \n",
       "10                1.000000                  0.000000       0.326087   \n",
       "11                1.000000                  0.000000       0.794702   \n",
       "12                0.000000                  1.000000       0.083969   \n",
       "13                0.000000                  1.000000       0.673913   \n",
       "14                1.000000                  0.000000       0.762712   \n",
       "15                1.000000                  0.000000       0.851064   \n",
       "16                0.976369                  0.797619       0.853107   \n",
       "17                1.000000                  3.941176       1.152672   \n",
       "18             1735.000000                168.000000     177.000000   \n",
       "\n",
       "    male&race_dis_correct  male&race_dis_incorrect  Model_Seed  \\\n",
       "0                0.204156                 0.368309         501   \n",
       "1                0.055899                 0.099697         501   \n",
       "2                0.079701                 0.148722         501   \n",
       "3                0.500033                 0.793482         501   \n",
       "4                0.521915                 0.833349         501   \n",
       "5                0.174470                 0.684856         501   \n",
       "6                0.084317                 0.217984         501   \n",
       "7                0.933000                 0.158690         501   \n",
       "8                0.866889                 0.685476         501   \n",
       "9                1.000000                 0.000000         501   \n",
       "10               1.000000                 0.000000         501   \n",
       "11               1.000000                 0.000000         501   \n",
       "12               0.000000                 1.000000         501   \n",
       "13               0.000000                 1.000000         501   \n",
       "14               1.000000                 0.000000         501   \n",
       "15               1.000000                 0.000000         501   \n",
       "16               0.888889                 0.738095         501   \n",
       "17               1.000000                 2.818182         501   \n",
       "18             135.000000                42.000000         501   \n",
       "\n",
       "                Model_Name                                       Model_Params  \n",
       "0   RandomForestClassifier  {'bootstrap': False, 'ccp_alpha': 0.0, 'class_...  \n",
       "1   RandomForestClassifier  {'bootstrap': False, 'ccp_alpha': 0.0, 'class_...  \n",
       "2   RandomForestClassifier  {'bootstrap': False, 'ccp_alpha': 0.0, 'class_...  \n",
       "3   RandomForestClassifier  {'bootstrap': False, 'ccp_alpha': 0.0, 'class_...  \n",
       "4   RandomForestClassifier  {'bootstrap': False, 'ccp_alpha': 0.0, 'class_...  \n",
       "5   RandomForestClassifier  {'bootstrap': False, 'ccp_alpha': 0.0, 'class_...  \n",
       "6   RandomForestClassifier  {'bootstrap': False, 'ccp_alpha': 0.0, 'class_...  \n",
       "7   RandomForestClassifier  {'bootstrap': False, 'ccp_alpha': 0.0, 'class_...  \n",
       "8   RandomForestClassifier  {'bootstrap': False, 'ccp_alpha': 0.0, 'class_...  \n",
       "9   RandomForestClassifier  {'bootstrap': False, 'ccp_alpha': 0.0, 'class_...  \n",
       "10  RandomForestClassifier  {'bootstrap': False, 'ccp_alpha': 0.0, 'class_...  \n",
       "11  RandomForestClassifier  {'bootstrap': False, 'ccp_alpha': 0.0, 'class_...  \n",
       "12  RandomForestClassifier  {'bootstrap': False, 'ccp_alpha': 0.0, 'class_...  \n",
       "13  RandomForestClassifier  {'bootstrap': False, 'ccp_alpha': 0.0, 'class_...  \n",
       "14  RandomForestClassifier  {'bootstrap': False, 'ccp_alpha': 0.0, 'class_...  \n",
       "15  RandomForestClassifier  {'bootstrap': False, 'ccp_alpha': 0.0, 'class_...  \n",
       "16  RandomForestClassifier  {'bootstrap': False, 'ccp_alpha': 0.0, 'class_...  \n",
       "17  RandomForestClassifier  {'bootstrap': False, 'ccp_alpha': 0.0, 'class_...  \n",
       "18  RandomForestClassifier  {'bootstrap': False, 'ccp_alpha': 0.0, 'class_...  \n",
       "\n",
       "[19 rows x 23 columns]"
      ]
     },
     "metadata": {},
     "output_type": "display_data"
    },
    {
     "name": "stdout",
     "output_type": "stream",
     "text": [
      "\n",
      "\n",
      "\n",
      "\n"
     ]
    },
    {
     "name": "stderr",
     "output_type": "stream",
     "text": [
      "2023-08-06 18:45:51 experiment_interface.py INFO    : Experiment run was successful!\n",
      "INFO:root:Experiment run was successful!\n"
     ]
    }
   ],
   "source": [
    "run_exp_iter_with_disparate_impact(data_loader=exp_iter_data_loader,\n",
    "                                   experiment_seed=experiment_seed,\n",
    "                                   test_set_fraction=TEST_SET_FRACTION,\n",
    "                                   db_writer_func=db_writer_func,\n",
    "                                   fair_intervention_params_lst=FAIR_INTERVENTION_PARAMS_LST,\n",
    "                                   models_params_for_tuning=models_params_for_tuning,\n",
    "                                   metrics_computation_config=metrics_computation_config,\n",
    "                                   custom_table_fields_dct=custom_table_fields_dct,\n",
    "#                                    with_tuning=True,\n",
    "                                   with_tuning=False,\n",
    "                                   tuned_params_df_paths=tuned_params_df_paths,\n",
    "                                   save_results_dir_path=SAVE_RESULTS_DIR_PATH,\n",
    "                                   verbose=True, \n",
    "                                   dataset_name=DATASET_NAME)"
   ]
  },
  {
   "cell_type": "markdown",
   "id": "bcbc1121",
   "metadata": {},
   "source": [
    "### Experiment iteration 6"
   ]
  },
  {
   "cell_type": "code",
   "execution_count": null,
   "id": "8b080d85",
   "metadata": {},
   "outputs": [],
   "source": [
    "# Configs for an experiment iteration\n",
    "exp_iter_num = 6\n",
    "experiment_seed = EXPERIMENT_SEEDS[exp_iter_num - 1]\n",
    "tuned_params_filenames = [\n",
    "    'tuning_results_Law_School_alpha_0.1_20230806__195840.csv',\n",
    "    'tuning_results_Law_School_alpha_0.9_20230806__195951.csv',\n",
    "]\n",
    "tuned_params_df_paths = [os.path.join(ROOT_DIR, 'results', EXPERIMENT_NAME, tuned_params_filename)\n",
    "                         for tuned_params_filename in tuned_params_filenames]\n",
    "custom_table_fields_dct['experiment_iteration'] = f'Exp_iter_{exp_iter_num}'\n",
    "\n",
    "exp_iter_data_loader = copy.deepcopy(data_loader)  # Add deepcopy to avoid data leakage\n",
    "models_params_for_tuning = get_model_params_for_mult_repair_levels(experiment_seed)"
   ]
  },
  {
   "cell_type": "code",
   "execution_count": null,
   "id": "6143d55e",
   "metadata": {},
   "outputs": [],
   "source": [
    "run_exp_iter_with_disparate_impact(data_loader=exp_iter_data_loader,\n",
    "                                   experiment_seed=experiment_seed,\n",
    "                                   test_set_fraction=TEST_SET_FRACTION,\n",
    "                                   db_writer_func=db_writer_func,\n",
    "                                   fair_intervention_params_lst=FAIR_INTERVENTION_PARAMS_LST,\n",
    "                                   models_params_for_tuning=models_params_for_tuning,\n",
    "                                   metrics_computation_config=metrics_computation_config,\n",
    "                                   custom_table_fields_dct=custom_table_fields_dct,\n",
    "#                                    with_tuning=True,\n",
    "                                   with_tuning=False,\n",
    "                                   tuned_params_df_paths=tuned_params_df_paths,\n",
    "                                   save_results_dir_path=SAVE_RESULTS_DIR_PATH,\n",
    "                                   verbose=True, \n",
    "                                   dataset_name=DATASET_NAME)"
   ]
  },
  {
   "cell_type": "code",
   "execution_count": null,
   "id": "d1ef78b4",
   "metadata": {},
   "outputs": [],
   "source": []
  }
 ],
 "metadata": {
  "kernelspec": {
   "display_name": "Python 3",
   "language": "python",
   "name": "python3"
  },
  "language_info": {
   "codemirror_mode": {
    "name": "ipython",
    "version": 3
   },
   "file_extension": ".py",
   "mimetype": "text/x-python",
   "name": "python",
   "nbconvert_exporter": "python",
   "pygments_lexer": "ipython3",
   "version": "3.8.5"
  }
 },
 "nbformat": 4,
 "nbformat_minor": 5
}
