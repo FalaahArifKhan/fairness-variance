{
 "cells": [
  {
   "cell_type": "code",
   "execution_count": 15,
   "id": "acffe80a",
   "metadata": {},
   "outputs": [],
   "source": [
    "# !pip install -r ./requirements.txt"
   ]
  },
  {
   "cell_type": "code",
   "execution_count": 6,
   "id": "f3acb055",
   "metadata": {},
   "outputs": [],
   "source": [
    "# !pip uninstall virny -y"
   ]
  },
  {
   "cell_type": "code",
   "execution_count": 8,
   "id": "9529c7b2",
   "metadata": {},
   "outputs": [],
   "source": [
    "# Install using an HTTP link\n",
    "# !pip install git+https://github.com/DataResponsibly/Virny.git@development\n",
    "\n",
    "# Install using an SSH link\n",
    "# !pip install git+ssh://git@github.com/DataResponsibly/Virny.git@development"
   ]
  },
  {
   "cell_type": "code",
   "execution_count": 9,
   "id": "3e4aed2b",
   "metadata": {},
   "outputs": [],
   "source": [
    "# !pip install aif360"
   ]
  },
  {
   "cell_type": "code",
   "execution_count": 10,
   "id": "2f3bee01",
   "metadata": {},
   "outputs": [],
   "source": [
    "# !pip install BlackBoxAuditing==0.1.54"
   ]
  },
  {
   "cell_type": "code",
   "execution_count": 1,
   "id": "c8fee700",
   "metadata": {},
   "outputs": [],
   "source": [
    "%matplotlib inline\n",
    "%load_ext autoreload\n",
    "%autoreload 2"
   ]
  },
  {
   "cell_type": "code",
   "execution_count": 2,
   "id": "619098db",
   "metadata": {},
   "outputs": [],
   "source": [
    "import os\n",
    "import warnings\n",
    "warnings.filterwarnings('ignore')\n",
    "os.environ[\"PYTHONWARNINGS\"] = \"ignore\""
   ]
  },
  {
   "cell_type": "code",
   "execution_count": 3,
   "id": "ab405e25",
   "metadata": {},
   "outputs": [
    {
     "name": "stdout",
     "output_type": "stream",
     "text": [
      "Current location:  /home/dh3553/projects/fairness-variance\n"
     ]
    }
   ],
   "source": [
    "cur_folder_name = os.getcwd().split('/')[-1]\n",
    "if cur_folder_name != \"fairness-variance\":\n",
    "    os.chdir(\"../..\")\n",
    "\n",
    "print('Current location: ', os.getcwd())"
   ]
  },
  {
   "cell_type": "markdown",
   "id": "974709a0",
   "metadata": {},
   "source": [
    "## Import dependencies"
   ]
  },
  {
   "cell_type": "code",
   "execution_count": 4,
   "id": "661f1be6",
   "metadata": {},
   "outputs": [
    {
     "name": "stderr",
     "output_type": "stream",
     "text": [
      "WARNING:root:No module named 'tempeh': LawSchoolGPADataset will be unavailable. To install, run:\n",
      "pip install 'aif360[LawSchoolGPA]'\n",
      "WARNING:root:No module named 'tensorflow': AdversarialDebiasing will be unavailable. To install, run:\n",
      "pip install 'aif360[AdversarialDebiasing]'\n",
      "WARNING:root:No module named 'tensorflow': AdversarialDebiasing will be unavailable. To install, run:\n",
      "pip install 'aif360[AdversarialDebiasing]'\n"
     ]
    }
   ],
   "source": [
    "import os\n",
    "import copy\n",
    "\n",
    "from virny.utils.custom_initializers import create_config_obj\n",
    "from virny.datasets import LawSchoolDataset\n",
    "\n",
    "from configs.constants import TEST_SET_FRACTION, EXPERIMENT_SEEDS\n",
    "from configs.models_config_for_tuning import get_model_params_for_mult_repair_levels\n",
    "\n",
    "from source.preprocessing import get_simple_preprocessor\n",
    "from source.experiment_interface import run_exp_iter_with_disparate_impact"
   ]
  },
  {
   "cell_type": "markdown",
   "id": "74fc7c7b",
   "metadata": {},
   "source": [
    "## Define Input Variables"
   ]
  },
  {
   "cell_type": "code",
   "execution_count": 5,
   "id": "e1180197",
   "metadata": {},
   "outputs": [],
   "source": [
    "# ROOT_DIR = os.path.join(os.getcwd(), \"..\", \"..\")\n",
    "ROOT_DIR = os.getcwd()\n",
    "EXPERIMENT_NAME = 'mult_repair_levels_law_school'\n",
    "DB_COLLECTION_NAME = 'exp_mult_repair_levels'\n",
    "DATASET_NAME = 'LawSchoolDataset'\n",
    "SAVE_RESULTS_DIR_PATH = os.path.join(ROOT_DIR, 'results', EXPERIMENT_NAME)\n",
    "# FAIR_INTERVENTION_PARAMS_LST = [0.0, 0.1, 0.2, 0.3, 0.4, 0.5, 0.6, 0.7, 0.8, 0.9, 1.0]\n",
    "FAIR_INTERVENTION_PARAMS_LST = [0.1, 0.9]\n",
    "\n",
    "config_yaml_path = os.path.join(ROOT_DIR, 'notebooks', EXPERIMENT_NAME, 'law_school_2018_config.yaml')\n",
    "metrics_computation_config = create_config_obj(config_yaml_path=config_yaml_path)"
   ]
  },
  {
   "cell_type": "markdown",
   "id": "f953ce01",
   "metadata": {},
   "source": [
    "## Define a db writer and custom fields to insert into your database"
   ]
  },
  {
   "cell_type": "code",
   "execution_count": 6,
   "id": "e0e2cee1",
   "metadata": {},
   "outputs": [
    {
     "data": {
      "text/plain": [
       "'fairness_variance'"
      ]
     },
     "execution_count": 6,
     "metadata": {},
     "output_type": "execute_result"
    }
   ],
   "source": [
    "import os\n",
    "from dotenv import load_dotenv\n",
    "\n",
    "load_dotenv('./configs/secrets.env')\n",
    "os.getenv(\"DB_NAME\")"
   ]
  },
  {
   "cell_type": "code",
   "execution_count": 7,
   "id": "c20855ba",
   "metadata": {},
   "outputs": [],
   "source": [
    "from source.utils.db_functions import connect_to_mongodb\n",
    "\n",
    "client, collection_obj, db_writer_func = connect_to_mongodb(DB_COLLECTION_NAME)"
   ]
  },
  {
   "cell_type": "code",
   "execution_count": 8,
   "id": "cea35cb7",
   "metadata": {},
   "outputs": [
    {
     "name": "stdout",
     "output_type": "stream",
     "text": [
      "Current session uuid:  9430484b-bec6-42a0-ac65-11c53446a61f\n"
     ]
    }
   ],
   "source": [
    "import uuid\n",
    "\n",
    "custom_table_fields_dct = {\n",
    "#     'session_uuid': str(uuid.uuid4()),\n",
    "    'session_uuid': '9430484b-bec6-42a0-ac65-11c53446a61f',\n",
    "}\n",
    "print('Current session uuid: ', custom_table_fields_dct['session_uuid'])"
   ]
  },
  {
   "cell_type": "markdown",
   "id": "60c3f22c",
   "metadata": {},
   "source": [
    "## Initialize custom objects"
   ]
  },
  {
   "cell_type": "code",
   "execution_count": 9,
   "id": "8e47f156",
   "metadata": {},
   "outputs": [
    {
     "data": {
      "text/html": [
       "<div>\n",
       "<style scoped>\n",
       "    .dataframe tbody tr th:only-of-type {\n",
       "        vertical-align: middle;\n",
       "    }\n",
       "\n",
       "    .dataframe tbody tr th {\n",
       "        vertical-align: top;\n",
       "    }\n",
       "\n",
       "    .dataframe thead th {\n",
       "        text-align: right;\n",
       "    }\n",
       "</style>\n",
       "<table border=\"1\" class=\"dataframe\">\n",
       "  <thead>\n",
       "    <tr style=\"text-align: right;\">\n",
       "      <th></th>\n",
       "      <th>decile1b</th>\n",
       "      <th>decile3</th>\n",
       "      <th>lsat</th>\n",
       "      <th>ugpa</th>\n",
       "      <th>zfygpa</th>\n",
       "      <th>zgpa</th>\n",
       "      <th>fulltime</th>\n",
       "      <th>fam_inc</th>\n",
       "      <th>male</th>\n",
       "      <th>tier</th>\n",
       "      <th>race</th>\n",
       "    </tr>\n",
       "  </thead>\n",
       "  <tbody>\n",
       "    <tr>\n",
       "      <th>0</th>\n",
       "      <td>10.0</td>\n",
       "      <td>10.0</td>\n",
       "      <td>44.0</td>\n",
       "      <td>3.5</td>\n",
       "      <td>1.33</td>\n",
       "      <td>1.88</td>\n",
       "      <td>1.0</td>\n",
       "      <td>5.0</td>\n",
       "      <td>0.0</td>\n",
       "      <td>4.0</td>\n",
       "      <td>White</td>\n",
       "    </tr>\n",
       "    <tr>\n",
       "      <th>1</th>\n",
       "      <td>5.0</td>\n",
       "      <td>4.0</td>\n",
       "      <td>29.0</td>\n",
       "      <td>3.5</td>\n",
       "      <td>-0.11</td>\n",
       "      <td>-0.57</td>\n",
       "      <td>1.0</td>\n",
       "      <td>4.0</td>\n",
       "      <td>0.0</td>\n",
       "      <td>2.0</td>\n",
       "      <td>White</td>\n",
       "    </tr>\n",
       "    <tr>\n",
       "      <th>2</th>\n",
       "      <td>8.0</td>\n",
       "      <td>7.0</td>\n",
       "      <td>37.0</td>\n",
       "      <td>3.4</td>\n",
       "      <td>0.63</td>\n",
       "      <td>0.37</td>\n",
       "      <td>1.0</td>\n",
       "      <td>3.0</td>\n",
       "      <td>1.0</td>\n",
       "      <td>4.0</td>\n",
       "      <td>White</td>\n",
       "    </tr>\n",
       "    <tr>\n",
       "      <th>3</th>\n",
       "      <td>8.0</td>\n",
       "      <td>7.0</td>\n",
       "      <td>43.0</td>\n",
       "      <td>3.3</td>\n",
       "      <td>0.67</td>\n",
       "      <td>0.34</td>\n",
       "      <td>1.0</td>\n",
       "      <td>4.0</td>\n",
       "      <td>0.0</td>\n",
       "      <td>4.0</td>\n",
       "      <td>White</td>\n",
       "    </tr>\n",
       "    <tr>\n",
       "      <th>4</th>\n",
       "      <td>3.0</td>\n",
       "      <td>2.0</td>\n",
       "      <td>41.0</td>\n",
       "      <td>3.3</td>\n",
       "      <td>-0.67</td>\n",
       "      <td>-1.30</td>\n",
       "      <td>1.0</td>\n",
       "      <td>4.0</td>\n",
       "      <td>0.0</td>\n",
       "      <td>5.0</td>\n",
       "      <td>White</td>\n",
       "    </tr>\n",
       "  </tbody>\n",
       "</table>\n",
       "</div>"
      ],
      "text/plain": [
       "   decile1b  decile3  lsat  ugpa  zfygpa  zgpa fulltime fam_inc male tier  \\\n",
       "0      10.0     10.0  44.0   3.5    1.33  1.88      1.0     5.0  0.0  4.0   \n",
       "1       5.0      4.0  29.0   3.5   -0.11 -0.57      1.0     4.0  0.0  2.0   \n",
       "2       8.0      7.0  37.0   3.4    0.63  0.37      1.0     3.0  1.0  4.0   \n",
       "3       8.0      7.0  43.0   3.3    0.67  0.34      1.0     4.0  0.0  4.0   \n",
       "4       3.0      2.0  41.0   3.3   -0.67 -1.30      1.0     4.0  0.0  5.0   \n",
       "\n",
       "    race  \n",
       "0  White  \n",
       "1  White  \n",
       "2  White  \n",
       "3  White  \n",
       "4  White  "
      ]
     },
     "execution_count": 9,
     "metadata": {},
     "output_type": "execute_result"
    }
   ],
   "source": [
    "data_loader = LawSchoolDataset()\n",
    "data_loader.X_data.head()"
   ]
  },
  {
   "cell_type": "code",
   "execution_count": 10,
   "id": "e3918d6f",
   "metadata": {},
   "outputs": [
    {
     "data": {
      "text/plain": [
       "(20798, 11)"
      ]
     },
     "execution_count": 10,
     "metadata": {},
     "output_type": "execute_result"
    }
   ],
   "source": [
    "data_loader.X_data.shape"
   ]
  },
  {
   "cell_type": "code",
   "execution_count": 11,
   "id": "7c701fd8",
   "metadata": {},
   "outputs": [
    {
     "data": {
      "text/plain": [
       "decile1b    float64\n",
       "decile3     float64\n",
       "lsat        float64\n",
       "ugpa        float64\n",
       "zfygpa      float64\n",
       "zgpa        float64\n",
       "fulltime     object\n",
       "fam_inc      object\n",
       "male         object\n",
       "tier         object\n",
       "race         object\n",
       "dtype: object"
      ]
     },
     "execution_count": 11,
     "metadata": {},
     "output_type": "execute_result"
    }
   ],
   "source": [
    "data_loader.X_data.dtypes"
   ]
  },
  {
   "cell_type": "code",
   "execution_count": 12,
   "id": "930caabd",
   "metadata": {},
   "outputs": [
    {
     "data": {
      "text/plain": [
       "1.0    18505\n",
       "0.0     2293\n",
       "Name: pass_bar, dtype: int64"
      ]
     },
     "execution_count": 12,
     "metadata": {},
     "output_type": "execute_result"
    }
   ],
   "source": [
    "data_loader.y_data.value_counts()"
   ]
  },
  {
   "cell_type": "code",
   "execution_count": 13,
   "id": "67769d30",
   "metadata": {},
   "outputs": [
    {
     "data": {
      "text/plain": [
       "White        17491\n",
       "Non-White     3307\n",
       "Name: race, dtype: int64"
      ]
     },
     "execution_count": 13,
     "metadata": {},
     "output_type": "execute_result"
    }
   ],
   "source": [
    "data_loader.X_data['race'].value_counts()"
   ]
  },
  {
   "cell_type": "code",
   "execution_count": 14,
   "id": "be9f5334",
   "metadata": {},
   "outputs": [
    {
     "data": {
      "text/plain": [
       "1.0    11675\n",
       "0.0     9123\n",
       "Name: male, dtype: int64"
      ]
     },
     "execution_count": 14,
     "metadata": {},
     "output_type": "execute_result"
    }
   ],
   "source": [
    "data_loader.X_data['male'].value_counts()"
   ]
  },
  {
   "cell_type": "markdown",
   "id": "a10268d9",
   "metadata": {},
   "source": [
    "## Run experiment iterations"
   ]
  },
  {
   "cell_type": "markdown",
   "id": "f92cbb6a",
   "metadata": {},
   "source": [
    "### Experiment iteration 1"
   ]
  },
  {
   "cell_type": "code",
   "execution_count": 79,
   "id": "d30d451f",
   "metadata": {},
   "outputs": [],
   "source": [
    "# tuned_params_filenames = ['tuning_results_Folktables_NY_2018_Employment_alpha_0.8_20230706__115508.csv']\n",
    "# tuned_params_df_paths = [os.path.join(ROOT_DIR, 'results', EXPERIMENT_NAME, tuned_params_filename)\n",
    "#                          for tuned_params_filename in tuned_params_filenames]"
   ]
  },
  {
   "cell_type": "code",
   "execution_count": 80,
   "id": "c0373297",
   "metadata": {},
   "outputs": [],
   "source": [
    "# Configs for an experiment iteration\n",
    "exp_iter_num = 1\n",
    "experiment_seed = EXPERIMENT_SEEDS[exp_iter_num - 1]\n",
    "custom_table_fields_dct['experiment_iteration'] = f'Exp_iter_{exp_iter_num}'\n",
    "\n",
    "exp_iter_data_loader = copy.deepcopy(data_loader)  # Add deepcopy to avoid data leakage\n",
    "models_params_for_tuning = get_model_params_for_mult_repair_levels(experiment_seed)"
   ]
  },
  {
   "cell_type": "code",
   "execution_count": 81,
   "id": "7a73a96f",
   "metadata": {},
   "outputs": [
    {
     "name": "stderr",
     "output_type": "stream",
     "text": [
      "2023-08-06 15:52:20 experiment_interface.py INFO    : Start an experiment iteration for the following custom params:\n",
      "INFO:root:Start an experiment iteration for the following custom params:\n"
     ]
    },
    {
     "name": "stdout",
     "output_type": "stream",
     "text": [
      "{'dataset_split_seed': 100,\n",
      " 'experiment_iteration': 'Exp_iter_1',\n",
      " 'fair_intervention_params_lst': '[0.1, 0.3]',\n",
      " 'model_init_seed': 100,\n",
      " 'session_uuid': '9430484b-bec6-42a0-ac65-11c53446a61f'}\n",
      "\n",
      "\n"
     ]
    },
    {
     "name": "stderr",
     "output_type": "stream",
     "text": [
      "2023-08-06 15:52:20 experiment_interface.py INFO    : The dataset is preprocessed\n",
      "INFO:root:The dataset is preprocessed\n"
     ]
    },
    {
     "name": "stdout",
     "output_type": "stream",
     "text": [
      "Top indexes of an X_test in a base flow dataset:  Int64Index([ 7102,   593, 18841,  5078, 14172,  8064, 13554, 13401, 17015,\n",
      "            18446,  6938,  3450,  9375, 19994, 16100,  4401,   142, 15143,\n",
      "             2188,  4332],\n",
      "           dtype='int64')\n",
      "Top indexes of an y_test in a base flow dataset:  Int64Index([ 7102,   593, 18841,  5078, 14172,  8064, 13554, 13401, 17015,\n",
      "            18446,  6938,  3450,  9375, 19994, 16100,  4401,   142, 15143,\n",
      "             2188,  4332],\n",
      "           dtype='int64')\n"
     ]
    },
    {
     "data": {
      "application/vnd.jupyter.widget-view+json": {
       "model_id": "8ce0b7c840cf42c483246532114ab7c0",
       "version_major": 2,
       "version_minor": 0
      },
      "text/plain": [
       "Multiple alphas:   0%|          | 0/2 [00:00<?, ?it/s]"
      ]
     },
     "metadata": {},
     "output_type": "display_data"
    },
    {
     "name": "stdout",
     "output_type": "stream",
     "text": [
      "intervention_param:  0.1\n",
      "2023/08/06, 15:52:22: Tuning RandomForestClassifier...\n"
     ]
    },
    {
     "name": "stderr",
     "output_type": "stream",
     "text": [
      "2023-08-06 15:58:40 experiment_interface.py INFO    : Models are tuned and saved to a file\n",
      "INFO:root:Models are tuned and saved to a file\n"
     ]
    },
    {
     "name": "stdout",
     "output_type": "stream",
     "text": [
      "2023/08/06, 15:58:40: Tuning for RandomForestClassifier is finished [F1 score = 0.6426024902408707, Accuracy = 0.8900641025641026]\n",
      "\n"
     ]
    },
    {
     "data": {
      "application/vnd.jupyter.widget-view+json": {
       "model_id": "81b5e596be904c8e882647a123089b32",
       "version_major": 2,
       "version_minor": 0
      },
      "text/plain": [
       "Multiple runs progress:   0%|          | 0/1 [00:00<?, ?it/s]"
      ]
     },
     "metadata": {},
     "output_type": "display_data"
    },
    {
     "data": {
      "application/vnd.jupyter.widget-view+json": {
       "model_id": "35f78738004546a49ff06d5058f9c40d",
       "version_major": 2,
       "version_minor": 0
      },
      "text/plain": [
       "Analyze models in one run:   0%|          | 0/1 [00:00<?, ?it/s]"
      ]
     },
     "metadata": {},
     "output_type": "display_data"
    },
    {
     "data": {
      "application/vnd.jupyter.widget-view+json": {
       "model_id": "9a4ca16074fc46eaa6e1915f07602c6c",
       "version_major": 2,
       "version_minor": 0
      },
      "text/plain": [
       "Classifiers testing by bootstrap:   0%|          | 0/200 [00:00<?, ?it/s]"
      ]
     },
     "metadata": {},
     "output_type": "display_data"
    },
    {
     "name": "stdout",
     "output_type": "stream",
     "text": [
      "intervention_param:  0.3\n",
      "2023/08/06, 16:24:58: Tuning RandomForestClassifier...\n",
      "2023/08/06, 16:31:10: Tuning for RandomForestClassifier is finished [F1 score = 0.6450669297827822, Accuracy = 0.8963141025641025]\n",
      "\n"
     ]
    },
    {
     "data": {
      "application/vnd.jupyter.widget-view+json": {
       "model_id": "0d22e4b6678c4331b4bbc2fd0a29a710",
       "version_major": 2,
       "version_minor": 0
      },
      "text/plain": [
       "Multiple runs progress:   0%|          | 0/1 [00:00<?, ?it/s]"
      ]
     },
     "metadata": {},
     "output_type": "display_data"
    },
    {
     "data": {
      "application/vnd.jupyter.widget-view+json": {
       "model_id": "067553a5a63e40aca909e9f09c5b2e48",
       "version_major": 2,
       "version_minor": 0
      },
      "text/plain": [
       "Analyze models in one run:   0%|          | 0/1 [00:00<?, ?it/s]"
      ]
     },
     "metadata": {},
     "output_type": "display_data"
    },
    {
     "data": {
      "application/vnd.jupyter.widget-view+json": {
       "model_id": "1325afbfad9e4072aac2a78e178ccc67",
       "version_major": 2,
       "version_minor": 0
      },
      "text/plain": [
       "Classifiers testing by bootstrap:   0%|          | 0/200 [00:00<?, ?it/s]"
      ]
     },
     "metadata": {},
     "output_type": "display_data"
    }
   ],
   "source": [
    "run_exp_iter_with_disparate_impact(data_loader=exp_iter_data_loader,\n",
    "                                   experiment_seed=experiment_seed,\n",
    "                                   test_set_fraction=TEST_SET_FRACTION,\n",
    "                                   db_writer_func=db_writer_func,\n",
    "                                   fair_intervention_params_lst=FAIR_INTERVENTION_PARAMS_LST,\n",
    "                                   models_params_for_tuning=models_params_for_tuning,\n",
    "                                   metrics_computation_config=metrics_computation_config,\n",
    "                                   custom_table_fields_dct=custom_table_fields_dct,\n",
    "                                   with_tuning=True,\n",
    "                                   # with_tuning=False,\n",
    "                                   # tuned_params_df_paths=tuned_params_df_paths,\n",
    "                                   save_results_dir_path=SAVE_RESULTS_DIR_PATH,\n",
    "                                   verbose=True, \n",
    "                                   dataset_name=DATASET_NAME)"
   ]
  },
  {
   "cell_type": "markdown",
   "id": "1ced1d3b",
   "metadata": {},
   "source": [
    "### Experiment iteration 2"
   ]
  },
  {
   "cell_type": "code",
   "execution_count": 44,
   "id": "933bc0c1",
   "metadata": {},
   "outputs": [],
   "source": [
    "# Configs for an experiment iteration\n",
    "exp_iter_num = 2\n",
    "experiment_seed = EXPERIMENT_SEEDS[exp_iter_num - 1]\n",
    "tuned_params_filenames = [\n",
    "    'tuning_results_Law_School_alpha_0.1_20230806__195840.csv',\n",
    "    'tuning_results_Law_School_alpha_0.9_20230806__195951.csv',\n",
    "]\n",
    "tuned_params_df_paths = [os.path.join(ROOT_DIR, 'results', EXPERIMENT_NAME, tuned_params_filename)\n",
    "                         for tuned_params_filename in tuned_params_filenames]\n",
    "custom_table_fields_dct['experiment_iteration'] = f'Exp_iter_{exp_iter_num}'\n",
    "\n",
    "exp_iter_data_loader = copy.deepcopy(data_loader)  # Add deepcopy to avoid data leakage\n",
    "models_params_for_tuning = get_model_params_for_mult_repair_levels(experiment_seed)"
   ]
  },
  {
   "cell_type": "code",
   "execution_count": 45,
   "id": "382cf161",
   "metadata": {},
   "outputs": [
    {
     "name": "stderr",
     "output_type": "stream",
     "text": [
      "2023-07-31 14:43:04 experiment_interface.py INFO    : Start an experiment iteration for the following custom params:\n",
      "INFO:root:Start an experiment iteration for the following custom params:\n"
     ]
    },
    {
     "name": "stdout",
     "output_type": "stream",
     "text": [
      "{'dataset_split_seed': 200,\n",
      " 'experiment_iteration': 'Exp_iter_2',\n",
      " 'fair_intervention_params_lst': '[0.0, 0.1, 0.2, 0.3, 0.4]',\n",
      " 'model_init_seed': 200,\n",
      " 'session_uuid': '116104d6-7d63-4564-ae57-82b19b260fa5'}\n",
      "\n",
      "\n"
     ]
    },
    {
     "name": "stderr",
     "output_type": "stream",
     "text": [
      "2023-07-31 14:43:04 experiment_interface.py INFO    : The dataset is preprocessed\n",
      "INFO:root:The dataset is preprocessed\n"
     ]
    },
    {
     "name": "stdout",
     "output_type": "stream",
     "text": [
      "Top indexes of an X_test in a base flow dataset:  Int64Index([ 6043,  3745,  5159,  7241,  7820,  3695, 11501, 11432,  1163,\n",
      "             8994,  7972,  2554,  9884,  2008,  6884, 11995,  5200,  4649,\n",
      "            10244, 13775],\n",
      "           dtype='int64')\n",
      "Top indexes of an y_test in a base flow dataset:  Int64Index([ 6043,  3745,  5159,  7241,  7820,  3695, 11501, 11432,  1163,\n",
      "             8994,  7972,  2554,  9884,  2008,  6884, 11995,  5200,  4649,\n",
      "            10244, 13775],\n",
      "           dtype='int64')\n"
     ]
    },
    {
     "data": {
      "application/vnd.jupyter.widget-view+json": {
       "model_id": "a61112d4f671449ea75500898e668cf2",
       "version_major": 2,
       "version_minor": 0
      },
      "text/plain": [
       "Multiple alphas:   0%|          | 0/5 [00:00<?, ?it/s]"
      ]
     },
     "metadata": {},
     "output_type": "display_data"
    },
    {
     "name": "stdout",
     "output_type": "stream",
     "text": [
      "intervention_param:  0.0\n"
     ]
    },
    {
     "name": "stderr",
     "output_type": "stream",
     "text": [
      "2023-07-31 14:43:07 experiment_interface.py INFO    : Models config is loaded from the input file\n",
      "INFO:root:Models config is loaded from the input file\n"
     ]
    },
    {
     "name": "stdout",
     "output_type": "stream",
     "text": [
      "Path for tuned params:  /home/dh3553/projects/fairness-variance/results/mult_repair_levels_pubcov_CA/tuning_results_Folktables_CA_2018_Public_Coverage_alpha_0.0_20230731__173053.csv\n",
      "RandomForestClassifier:  {'bootstrap': True, 'ccp_alpha': 0.0, 'class_weight': None, 'criterion': 'gini', 'max_depth': 30, 'max_features': 'sqrt', 'max_leaf_nodes': None, 'max_samples': None, 'min_impurity_decrease': 0.0, 'min_samples_leaf': 2, 'min_samples_split': 2, 'min_weight_fraction_leaf': 0.0, 'n_estimators': 100, 'n_jobs': None, 'oob_score': False, 'random_state': 200, 'verbose': 0, 'warm_start': False}\n"
     ]
    },
    {
     "data": {
      "application/vnd.jupyter.widget-view+json": {
       "model_id": "cf858e906e464a2d8d6ef38b1292b045",
       "version_major": 2,
       "version_minor": 0
      },
      "text/plain": [
       "Multiple runs progress:   0%|          | 0/1 [00:00<?, ?it/s]"
      ]
     },
     "metadata": {},
     "output_type": "display_data"
    },
    {
     "data": {
      "application/vnd.jupyter.widget-view+json": {
       "model_id": "e8610f51651f42ce9904495d1e7ad1af",
       "version_major": 2,
       "version_minor": 0
      },
      "text/plain": [
       "Analyze models in one run:   0%|          | 0/1 [00:00<?, ?it/s]"
      ]
     },
     "metadata": {},
     "output_type": "display_data"
    },
    {
     "data": {
      "application/vnd.jupyter.widget-view+json": {
       "model_id": "357be48bb32f4419a6a52f2f52fb8288",
       "version_major": 2,
       "version_minor": 0
      },
      "text/plain": [
       "Classifiers testing by bootstrap:   0%|          | 0/200 [00:00<?, ?it/s]"
      ]
     },
     "metadata": {},
     "output_type": "display_data"
    },
    {
     "name": "stdout",
     "output_type": "stream",
     "text": [
      "intervention_param:  0.1\n",
      "Path for tuned params:  /home/dh3553/projects/fairness-variance/results/mult_repair_levels_pubcov_CA/tuning_results_Folktables_CA_2018_Public_Coverage_alpha_0.1_20230731__174151.csv\n",
      "RandomForestClassifier:  {'bootstrap': False, 'ccp_alpha': 0.0, 'class_weight': None, 'criterion': 'gini', 'max_depth': 40, 'max_features': 'sqrt', 'max_leaf_nodes': None, 'max_samples': None, 'min_impurity_decrease': 0.0, 'min_samples_leaf': 2, 'min_samples_split': 10, 'min_weight_fraction_leaf': 0.0, 'n_estimators': 100, 'n_jobs': None, 'oob_score': False, 'random_state': 201, 'verbose': 0, 'warm_start': False}\n"
     ]
    },
    {
     "data": {
      "application/vnd.jupyter.widget-view+json": {
       "model_id": "fe5f5a656c024752a4d2eba155c40544",
       "version_major": 2,
       "version_minor": 0
      },
      "text/plain": [
       "Multiple runs progress:   0%|          | 0/1 [00:00<?, ?it/s]"
      ]
     },
     "metadata": {},
     "output_type": "display_data"
    },
    {
     "data": {
      "application/vnd.jupyter.widget-view+json": {
       "model_id": "dea80e750b054925a6311b8a6ef50bdf",
       "version_major": 2,
       "version_minor": 0
      },
      "text/plain": [
       "Analyze models in one run:   0%|          | 0/1 [00:00<?, ?it/s]"
      ]
     },
     "metadata": {},
     "output_type": "display_data"
    },
    {
     "data": {
      "application/vnd.jupyter.widget-view+json": {
       "model_id": "5f2809aadd424ece82c08630e8c75148",
       "version_major": 2,
       "version_minor": 0
      },
      "text/plain": [
       "Classifiers testing by bootstrap:   0%|          | 0/200 [00:00<?, ?it/s]"
      ]
     },
     "metadata": {},
     "output_type": "display_data"
    },
    {
     "name": "stdout",
     "output_type": "stream",
     "text": [
      "intervention_param:  0.2\n",
      "Path for tuned params:  /home/dh3553/projects/fairness-variance/results/mult_repair_levels_pubcov_CA/tuning_results_Folktables_CA_2018_Public_Coverage_alpha_0.2_20230731__173153.csv\n",
      "RandomForestClassifier:  {'bootstrap': True, 'ccp_alpha': 0.0, 'class_weight': None, 'criterion': 'gini', 'max_depth': 30, 'max_features': 'sqrt', 'max_leaf_nodes': None, 'max_samples': None, 'min_impurity_decrease': 0.0, 'min_samples_leaf': 1, 'min_samples_split': 10, 'min_weight_fraction_leaf': 0.0, 'n_estimators': 100, 'n_jobs': None, 'oob_score': False, 'random_state': 201, 'verbose': 0, 'warm_start': False}\n"
     ]
    },
    {
     "data": {
      "application/vnd.jupyter.widget-view+json": {
       "model_id": "6bfa050434834f8ebb1ee09c0f1e5c09",
       "version_major": 2,
       "version_minor": 0
      },
      "text/plain": [
       "Multiple runs progress:   0%|          | 0/1 [00:00<?, ?it/s]"
      ]
     },
     "metadata": {},
     "output_type": "display_data"
    },
    {
     "data": {
      "application/vnd.jupyter.widget-view+json": {
       "model_id": "64400f50c7a242dfbece40249228a91d",
       "version_major": 2,
       "version_minor": 0
      },
      "text/plain": [
       "Analyze models in one run:   0%|          | 0/1 [00:00<?, ?it/s]"
      ]
     },
     "metadata": {},
     "output_type": "display_data"
    },
    {
     "data": {
      "application/vnd.jupyter.widget-view+json": {
       "model_id": "24d8192bde474723b49f1060d4cba74e",
       "version_major": 2,
       "version_minor": 0
      },
      "text/plain": [
       "Classifiers testing by bootstrap:   0%|          | 0/200 [00:00<?, ?it/s]"
      ]
     },
     "metadata": {},
     "output_type": "display_data"
    },
    {
     "name": "stdout",
     "output_type": "stream",
     "text": [
      "intervention_param:  0.3\n",
      "Path for tuned params:  /home/dh3553/projects/fairness-variance/results/mult_repair_levels_pubcov_CA/tuning_results_Folktables_CA_2018_Public_Coverage_alpha_0.3_20230731__174153.csv\n",
      "RandomForestClassifier:  {'bootstrap': True, 'ccp_alpha': 0.0, 'class_weight': None, 'criterion': 'gini', 'max_depth': 30, 'max_features': 'sqrt', 'max_leaf_nodes': None, 'max_samples': None, 'min_impurity_decrease': 0.0, 'min_samples_leaf': 2, 'min_samples_split': 5, 'min_weight_fraction_leaf': 0.0, 'n_estimators': 100, 'n_jobs': None, 'oob_score': False, 'random_state': 201, 'verbose': 0, 'warm_start': False}\n"
     ]
    },
    {
     "data": {
      "application/vnd.jupyter.widget-view+json": {
       "model_id": "30f9103e12cd4dd8b0177e26924a366d",
       "version_major": 2,
       "version_minor": 0
      },
      "text/plain": [
       "Multiple runs progress:   0%|          | 0/1 [00:00<?, ?it/s]"
      ]
     },
     "metadata": {},
     "output_type": "display_data"
    },
    {
     "data": {
      "application/vnd.jupyter.widget-view+json": {
       "model_id": "d72a8dd49bd5477280e68b6e82baefc4",
       "version_major": 2,
       "version_minor": 0
      },
      "text/plain": [
       "Analyze models in one run:   0%|          | 0/1 [00:00<?, ?it/s]"
      ]
     },
     "metadata": {},
     "output_type": "display_data"
    },
    {
     "data": {
      "application/vnd.jupyter.widget-view+json": {
       "model_id": "2c849efcd1c1481e8938d1b393b045aa",
       "version_major": 2,
       "version_minor": 0
      },
      "text/plain": [
       "Classifiers testing by bootstrap:   0%|          | 0/200 [00:00<?, ?it/s]"
      ]
     },
     "metadata": {},
     "output_type": "display_data"
    },
    {
     "name": "stdout",
     "output_type": "stream",
     "text": [
      "intervention_param:  0.4\n",
      "Path for tuned params:  /home/dh3553/projects/fairness-variance/results/mult_repair_levels_pubcov_CA/tuning_results_Folktables_CA_2018_Public_Coverage_alpha_0.4_20230731__173254.csv\n",
      "RandomForestClassifier:  {'bootstrap': True, 'ccp_alpha': 0.0, 'class_weight': None, 'criterion': 'gini', 'max_depth': 40, 'max_features': 'sqrt', 'max_leaf_nodes': None, 'max_samples': None, 'min_impurity_decrease': 0.0, 'min_samples_leaf': 1, 'min_samples_split': 10, 'min_weight_fraction_leaf': 0.0, 'n_estimators': 100, 'n_jobs': None, 'oob_score': False, 'random_state': 201, 'verbose': 0, 'warm_start': False}\n"
     ]
    },
    {
     "data": {
      "application/vnd.jupyter.widget-view+json": {
       "model_id": "1e685daf549749468cf5447696b40ee4",
       "version_major": 2,
       "version_minor": 0
      },
      "text/plain": [
       "Multiple runs progress:   0%|          | 0/1 [00:00<?, ?it/s]"
      ]
     },
     "metadata": {},
     "output_type": "display_data"
    },
    {
     "data": {
      "application/vnd.jupyter.widget-view+json": {
       "model_id": "6513ab7eddfb4e9f827be11f7258fe72",
       "version_major": 2,
       "version_minor": 0
      },
      "text/plain": [
       "Analyze models in one run:   0%|          | 0/1 [00:00<?, ?it/s]"
      ]
     },
     "metadata": {},
     "output_type": "display_data"
    },
    {
     "data": {
      "application/vnd.jupyter.widget-view+json": {
       "model_id": "066a5fe53a314243a95e055a9ef84f85",
       "version_major": 2,
       "version_minor": 0
      },
      "text/plain": [
       "Classifiers testing by bootstrap:   0%|          | 0/200 [00:00<?, ?it/s]"
      ]
     },
     "metadata": {},
     "output_type": "display_data"
    }
   ],
   "source": [
    "run_exp_iter_with_disparate_impact(data_loader=exp_iter_data_loader,\n",
    "                                   experiment_seed=experiment_seed,\n",
    "                                   test_set_fraction=TEST_SET_FRACTION,\n",
    "                                   db_writer_func=db_writer_func,\n",
    "                                   fair_intervention_params_lst=FAIR_INTERVENTION_PARAMS_LST,\n",
    "                                   models_params_for_tuning=models_params_for_tuning,\n",
    "                                   metrics_computation_config=metrics_computation_config,\n",
    "                                   custom_table_fields_dct=custom_table_fields_dct,\n",
    "#                                    with_tuning=True,\n",
    "                                   with_tuning=False,\n",
    "                                   tuned_params_df_paths=tuned_params_df_paths,\n",
    "                                   save_results_dir_path=SAVE_RESULTS_DIR_PATH,\n",
    "                                   verbose=True, \n",
    "                                   dataset_name=DATASET_NAME)"
   ]
  },
  {
   "cell_type": "markdown",
   "id": "75ac584a",
   "metadata": {},
   "source": [
    "### Experiment iteration 3"
   ]
  },
  {
   "cell_type": "code",
   "execution_count": null,
   "id": "fc3274e6",
   "metadata": {},
   "outputs": [],
   "source": [
    "# Configs for an experiment iteration\n",
    "exp_iter_num = 3\n",
    "experiment_seed = EXPERIMENT_SEEDS[exp_iter_num - 1]\n",
    "tuned_params_filenames = [\n",
    "    'tuning_results_Law_School_alpha_0.1_20230806__195840.csv',\n",
    "    'tuning_results_Law_School_alpha_0.9_20230806__195951.csv',\n",
    "]\n",
    "tuned_params_df_paths = [os.path.join(ROOT_DIR, 'results', EXPERIMENT_NAME, tuned_params_filename)\n",
    "                         for tuned_params_filename in tuned_params_filenames]\n",
    "custom_table_fields_dct['experiment_iteration'] = f'Exp_iter_{exp_iter_num}'\n",
    "\n",
    "exp_iter_data_loader = copy.deepcopy(data_loader)  # Add deepcopy to avoid data leakage\n",
    "models_params_for_tuning = get_model_params_for_mult_repair_levels(experiment_seed)"
   ]
  },
  {
   "cell_type": "code",
   "execution_count": null,
   "id": "54801b43",
   "metadata": {},
   "outputs": [],
   "source": [
    "run_exp_iter_with_disparate_impact(data_loader=exp_iter_data_loader,\n",
    "                                   experiment_seed=experiment_seed,\n",
    "                                   test_set_fraction=TEST_SET_FRACTION,\n",
    "                                   db_writer_func=db_writer_func,\n",
    "                                   fair_intervention_params_lst=FAIR_INTERVENTION_PARAMS_LST,\n",
    "                                   models_params_for_tuning=models_params_for_tuning,\n",
    "                                   metrics_computation_config=metrics_computation_config,\n",
    "                                   custom_table_fields_dct=custom_table_fields_dct,\n",
    "#                                    with_tuning=True,\n",
    "                                   with_tuning=False,\n",
    "                                   tuned_params_df_paths=tuned_params_df_paths,\n",
    "                                   save_results_dir_path=SAVE_RESULTS_DIR_PATH,\n",
    "                                   verbose=True, \n",
    "                                   dataset_name=DATASET_NAME)"
   ]
  },
  {
   "cell_type": "markdown",
   "id": "c7ebbdee",
   "metadata": {},
   "source": [
    "### Experiment iteration 4"
   ]
  },
  {
   "cell_type": "code",
   "execution_count": 15,
   "id": "6e3104e3",
   "metadata": {},
   "outputs": [],
   "source": [
    "# Configs for an experiment iteration\n",
    "exp_iter_num = 4\n",
    "experiment_seed = EXPERIMENT_SEEDS[exp_iter_num - 1]\n",
    "tuned_params_filenames = [\n",
    "    'tuning_results_Law_School_alpha_0.1_20230806__195840.csv',\n",
    "    'tuning_results_Law_School_alpha_0.9_20230806__195951.csv',\n",
    "]\n",
    "tuned_params_df_paths = [os.path.join(ROOT_DIR, 'results', EXPERIMENT_NAME, tuned_params_filename)\n",
    "                         for tuned_params_filename in tuned_params_filenames]\n",
    "custom_table_fields_dct['experiment_iteration'] = f'Exp_iter_{exp_iter_num}'\n",
    "\n",
    "exp_iter_data_loader = copy.deepcopy(data_loader)  # Add deepcopy to avoid data leakage\n",
    "models_params_for_tuning = get_model_params_for_mult_repair_levels(experiment_seed)"
   ]
  },
  {
   "cell_type": "code",
   "execution_count": 16,
   "id": "dd297ec5",
   "metadata": {},
   "outputs": [
    {
     "name": "stderr",
     "output_type": "stream",
     "text": [
      "2023-08-06 17:51:31 experiment_interface.py INFO    : Start an experiment iteration for the following custom params:\n",
      "INFO:root:Start an experiment iteration for the following custom params:\n"
     ]
    },
    {
     "name": "stdout",
     "output_type": "stream",
     "text": [
      "{'dataset_split_seed': 400,\n",
      " 'experiment_iteration': 'Exp_iter_4',\n",
      " 'fair_intervention_params_lst': '[0.1, 0.9]',\n",
      " 'model_init_seed': 400,\n",
      " 'session_uuid': '9430484b-bec6-42a0-ac65-11c53446a61f'}\n",
      "\n",
      "\n"
     ]
    },
    {
     "name": "stderr",
     "output_type": "stream",
     "text": [
      "2023-08-06 17:51:31 experiment_interface.py INFO    : The dataset is preprocessed\n",
      "INFO:root:The dataset is preprocessed\n"
     ]
    },
    {
     "name": "stdout",
     "output_type": "stream",
     "text": [
      "Top indexes of an X_test in a base flow dataset:  Int64Index([ 5178,  6668, 11759,   242, 15137, 15320, 16824, 15370, 10348,\n",
      "            18018,   684, 12169,   822,  4052,  5211,  8436,   126,  9549,\n",
      "            13980,   403],\n",
      "           dtype='int64')\n",
      "Top indexes of an y_test in a base flow dataset:  Int64Index([ 5178,  6668, 11759,   242, 15137, 15320, 16824, 15370, 10348,\n",
      "            18018,   684, 12169,   822,  4052,  5211,  8436,   126,  9549,\n",
      "            13980,   403],\n",
      "           dtype='int64')\n"
     ]
    },
    {
     "data": {
      "application/vnd.jupyter.widget-view+json": {
       "model_id": "9e6a13c88672490f984e94c262d357fa",
       "version_major": 2,
       "version_minor": 0
      },
      "text/plain": [
       "Multiple alphas:   0%|          | 0/2 [00:00<?, ?it/s]"
      ]
     },
     "metadata": {},
     "output_type": "display_data"
    },
    {
     "name": "stdout",
     "output_type": "stream",
     "text": [
      "intervention_param:  0.1\n"
     ]
    },
    {
     "name": "stderr",
     "output_type": "stream",
     "text": [
      "2023-08-06 17:51:33 experiment_interface.py INFO    : Models config is loaded from the input file\n",
      "INFO:root:Models config is loaded from the input file\n"
     ]
    },
    {
     "name": "stdout",
     "output_type": "stream",
     "text": [
      "Path for tuned params:  /home/dh3553/projects/fairness-variance/results/mult_repair_levels_law_school/tuning_results_Law_School_alpha_0.1_20230806__195840.csv\n",
      "RandomForestClassifier:  {'bootstrap': False, 'ccp_alpha': 0.0, 'class_weight': None, 'criterion': 'gini', 'max_depth': 30, 'max_features': 'sqrt', 'max_leaf_nodes': None, 'max_samples': None, 'min_impurity_decrease': 0.0, 'min_samples_leaf': 1, 'min_samples_split': 2, 'min_weight_fraction_leaf': 0.0, 'n_estimators': 500, 'n_jobs': None, 'oob_score': False, 'random_state': 400, 'verbose': 0, 'warm_start': False}\n"
     ]
    },
    {
     "data": {
      "application/vnd.jupyter.widget-view+json": {
       "model_id": "99135656437c4719bdad99ab1ea96c32",
       "version_major": 2,
       "version_minor": 0
      },
      "text/plain": [
       "Multiple runs progress:   0%|          | 0/1 [00:00<?, ?it/s]"
      ]
     },
     "metadata": {},
     "output_type": "display_data"
    },
    {
     "data": {
      "application/vnd.jupyter.widget-view+json": {
       "model_id": "6a10cb43464f45f49f1e81f9e2603a84",
       "version_major": 2,
       "version_minor": 0
      },
      "text/plain": [
       "Analyze models in one run:   0%|          | 0/1 [00:00<?, ?it/s]"
      ]
     },
     "metadata": {},
     "output_type": "display_data"
    },
    {
     "name": "stdout",
     "output_type": "stream",
     "text": [
      "##############################  [Model 1 / 1] Analyze RandomForestClassifier  ##############################\n",
      "Model seed:  401\n",
      "\n",
      "Protected groups splits:\n",
      "male_priv (1140, 2)\n",
      "male_dis (940, 2)\n",
      "race_priv (1774, 2)\n",
      "race_dis (306, 2)\n",
      "male&race_priv (1917, 2)\n",
      "male&race_dis (163, 2)\n",
      "\n",
      "\n"
     ]
    },
    {
     "name": "stderr",
     "output_type": "stream",
     "text": [
      "2023-08-06 17:51:33 abstract_overall_variance_analyzer.py INFO    : Start classifiers testing by bootstrap\n",
      "INFO:root:Start classifiers testing by bootstrap\n"
     ]
    },
    {
     "data": {
      "application/vnd.jupyter.widget-view+json": {
       "model_id": "259d8c4466c74030a153742f48afebf5",
       "version_major": 2,
       "version_minor": 0
      },
      "text/plain": [
       "Classifiers testing by bootstrap:   0%|          | 0/200 [00:00<?, ?it/s]"
      ]
     },
     "metadata": {},
     "output_type": "display_data"
    },
    {
     "name": "stdout",
     "output_type": "stream",
     "text": [
      "\n",
      "\n"
     ]
    },
    {
     "name": "stderr",
     "output_type": "stream",
     "text": [
      "2023-08-06 18:16:06 abstract_overall_variance_analyzer.py INFO    : Successfully tested classifiers by bootstrap\n",
      "INFO:root:Successfully tested classifiers by bootstrap\n",
      "2023-08-06 18:16:24 abstract_overall_variance_analyzer.py INFO    : Successfully computed predict proba metrics\n",
      "INFO:root:Successfully computed predict proba metrics\n"
     ]
    },
    {
     "name": "stdout",
     "output_type": "stream",
     "text": [
      "\n",
      "[RandomForestClassifier] Metrics matrix:\n"
     ]
    },
    {
     "data": {
      "text/html": [
       "<div>\n",
       "<style scoped>\n",
       "    .dataframe tbody tr th:only-of-type {\n",
       "        vertical-align: middle;\n",
       "    }\n",
       "\n",
       "    .dataframe tbody tr th {\n",
       "        vertical-align: top;\n",
       "    }\n",
       "\n",
       "    .dataframe thead th {\n",
       "        text-align: right;\n",
       "    }\n",
       "</style>\n",
       "<table border=\"1\" class=\"dataframe\">\n",
       "  <thead>\n",
       "    <tr style=\"text-align: right;\">\n",
       "      <th></th>\n",
       "      <th>Metric</th>\n",
       "      <th>overall</th>\n",
       "      <th>male_priv</th>\n",
       "      <th>male_priv_correct</th>\n",
       "      <th>male_priv_incorrect</th>\n",
       "      <th>male_dis</th>\n",
       "      <th>male_dis_correct</th>\n",
       "      <th>male_dis_incorrect</th>\n",
       "      <th>race_priv</th>\n",
       "      <th>race_priv_correct</th>\n",
       "      <th>...</th>\n",
       "      <th>race_dis_incorrect</th>\n",
       "      <th>male&amp;race_priv</th>\n",
       "      <th>male&amp;race_priv_correct</th>\n",
       "      <th>male&amp;race_priv_incorrect</th>\n",
       "      <th>male&amp;race_dis</th>\n",
       "      <th>male&amp;race_dis_correct</th>\n",
       "      <th>male&amp;race_dis_incorrect</th>\n",
       "      <th>Model_Seed</th>\n",
       "      <th>Model_Name</th>\n",
       "      <th>Model_Params</th>\n",
       "    </tr>\n",
       "  </thead>\n",
       "  <tbody>\n",
       "    <tr>\n",
       "      <th>0</th>\n",
       "      <td>Mean</td>\n",
       "      <td>0.114805</td>\n",
       "      <td>0.115587</td>\n",
       "      <td>0.090328</td>\n",
       "      <td>0.313552</td>\n",
       "      <td>0.113856</td>\n",
       "      <td>0.090475</td>\n",
       "      <td>0.305943</td>\n",
       "      <td>0.086679</td>\n",
       "      <td>0.067151</td>\n",
       "      <td>...</td>\n",
       "      <td>0.388041</td>\n",
       "      <td>0.101738</td>\n",
       "      <td>0.078915</td>\n",
       "      <td>0.301002</td>\n",
       "      <td>0.268483</td>\n",
       "      <td>0.243455</td>\n",
       "      <td>0.363443</td>\n",
       "      <td>401</td>\n",
       "      <td>RandomForestClassifier</td>\n",
       "      <td>{'bootstrap': False, 'ccp_alpha': 0.0, 'class_...</td>\n",
       "    </tr>\n",
       "    <tr>\n",
       "      <th>1</th>\n",
       "      <td>Std</td>\n",
       "      <td>0.041616</td>\n",
       "      <td>0.042762</td>\n",
       "      <td>0.036678</td>\n",
       "      <td>0.090441</td>\n",
       "      <td>0.040226</td>\n",
       "      <td>0.034644</td>\n",
       "      <td>0.086094</td>\n",
       "      <td>0.036442</td>\n",
       "      <td>0.031446</td>\n",
       "      <td>...</td>\n",
       "      <td>0.095946</td>\n",
       "      <td>0.039521</td>\n",
       "      <td>0.033753</td>\n",
       "      <td>0.089888</td>\n",
       "      <td>0.066249</td>\n",
       "      <td>0.062465</td>\n",
       "      <td>0.080604</td>\n",
       "      <td>401</td>\n",
       "      <td>RandomForestClassifier</td>\n",
       "      <td>{'bootstrap': False, 'ccp_alpha': 0.0, 'class_...</td>\n",
       "    </tr>\n",
       "    <tr>\n",
       "      <th>2</th>\n",
       "      <td>IQR</td>\n",
       "      <td>0.059494</td>\n",
       "      <td>0.061445</td>\n",
       "      <td>0.052498</td>\n",
       "      <td>0.131562</td>\n",
       "      <td>0.057127</td>\n",
       "      <td>0.049252</td>\n",
       "      <td>0.121827</td>\n",
       "      <td>0.051976</td>\n",
       "      <td>0.044787</td>\n",
       "      <td>...</td>\n",
       "      <td>0.138805</td>\n",
       "      <td>0.056596</td>\n",
       "      <td>0.048125</td>\n",
       "      <td>0.130558</td>\n",
       "      <td>0.093575</td>\n",
       "      <td>0.089727</td>\n",
       "      <td>0.108174</td>\n",
       "      <td>401</td>\n",
       "      <td>RandomForestClassifier</td>\n",
       "      <td>{'bootstrap': False, 'ccp_alpha': 0.0, 'class_...</td>\n",
       "    </tr>\n",
       "    <tr>\n",
       "      <th>3</th>\n",
       "      <td>Aleatoric_Uncertainty</td>\n",
       "      <td>0.324121</td>\n",
       "      <td>0.328668</td>\n",
       "      <td>0.279339</td>\n",
       "      <td>0.715269</td>\n",
       "      <td>0.318607</td>\n",
       "      <td>0.270236</td>\n",
       "      <td>0.716008</td>\n",
       "      <td>0.279958</td>\n",
       "      <td>0.238613</td>\n",
       "      <td>...</td>\n",
       "      <td>0.788426</td>\n",
       "      <td>0.304204</td>\n",
       "      <td>0.257605</td>\n",
       "      <td>0.711063</td>\n",
       "      <td>0.558353</td>\n",
       "      <td>0.509988</td>\n",
       "      <td>0.741855</td>\n",
       "      <td>401</td>\n",
       "      <td>RandomForestClassifier</td>\n",
       "      <td>{'bootstrap': False, 'ccp_alpha': 0.0, 'class_...</td>\n",
       "    </tr>\n",
       "    <tr>\n",
       "      <th>4</th>\n",
       "      <td>Overall_Uncertainty</td>\n",
       "      <td>0.343461</td>\n",
       "      <td>0.348716</td>\n",
       "      <td>0.297294</td>\n",
       "      <td>0.751720</td>\n",
       "      <td>0.337087</td>\n",
       "      <td>0.286926</td>\n",
       "      <td>0.749194</td>\n",
       "      <td>0.297580</td>\n",
       "      <td>0.254550</td>\n",
       "      <td>...</td>\n",
       "      <td>0.825491</td>\n",
       "      <td>0.322975</td>\n",
       "      <td>0.274363</td>\n",
       "      <td>0.747405</td>\n",
       "      <td>0.584388</td>\n",
       "      <td>0.535693</td>\n",
       "      <td>0.769143</td>\n",
       "      <td>401</td>\n",
       "      <td>RandomForestClassifier</td>\n",
       "      <td>{'bootstrap': False, 'ccp_alpha': 0.0, 'class_...</td>\n",
       "    </tr>\n",
       "    <tr>\n",
       "      <th>5</th>\n",
       "      <td>Statistical_Bias</td>\n",
       "      <td>0.151899</td>\n",
       "      <td>0.153897</td>\n",
       "      <td>0.081060</td>\n",
       "      <td>0.724734</td>\n",
       "      <td>0.149477</td>\n",
       "      <td>0.078742</td>\n",
       "      <td>0.730619</td>\n",
       "      <td>0.127380</td>\n",
       "      <td>0.064522</td>\n",
       "      <td>...</td>\n",
       "      <td>0.685401</td>\n",
       "      <td>0.140010</td>\n",
       "      <td>0.072568</td>\n",
       "      <td>0.728844</td>\n",
       "      <td>0.291728</td>\n",
       "      <td>0.179224</td>\n",
       "      <td>0.718579</td>\n",
       "      <td>401</td>\n",
       "      <td>RandomForestClassifier</td>\n",
       "      <td>{'bootstrap': False, 'ccp_alpha': 0.0, 'class_...</td>\n",
       "    </tr>\n",
       "    <tr>\n",
       "      <th>6</th>\n",
       "      <td>Jitter</td>\n",
       "      <td>0.040083</td>\n",
       "      <td>0.040635</td>\n",
       "      <td>0.024714</td>\n",
       "      <td>0.165408</td>\n",
       "      <td>0.039413</td>\n",
       "      <td>0.026000</td>\n",
       "      <td>0.149602</td>\n",
       "      <td>0.027242</td>\n",
       "      <td>0.015591</td>\n",
       "      <td>...</td>\n",
       "      <td>0.199556</td>\n",
       "      <td>0.035029</td>\n",
       "      <td>0.020813</td>\n",
       "      <td>0.159149</td>\n",
       "      <td>0.099511</td>\n",
       "      <td>0.085083</td>\n",
       "      <td>0.154255</td>\n",
       "      <td>401</td>\n",
       "      <td>RandomForestClassifier</td>\n",
       "      <td>{'bootstrap': False, 'ccp_alpha': 0.0, 'class_...</td>\n",
       "    </tr>\n",
       "    <tr>\n",
       "      <th>7</th>\n",
       "      <td>Per_Sample_Accuracy</td>\n",
       "      <td>0.885498</td>\n",
       "      <td>0.885088</td>\n",
       "      <td>0.982028</td>\n",
       "      <td>0.125349</td>\n",
       "      <td>0.885995</td>\n",
       "      <td>0.980424</td>\n",
       "      <td>0.110196</td>\n",
       "      <td>0.906747</td>\n",
       "      <td>0.988652</td>\n",
       "      <td>...</td>\n",
       "      <td>0.157761</td>\n",
       "      <td>0.895973</td>\n",
       "      <td>0.984828</td>\n",
       "      <td>0.120178</td>\n",
       "      <td>0.762301</td>\n",
       "      <td>0.934264</td>\n",
       "      <td>0.109853</td>\n",
       "      <td>401</td>\n",
       "      <td>RandomForestClassifier</td>\n",
       "      <td>{'bootstrap': False, 'ccp_alpha': 0.0, 'class_...</td>\n",
       "    </tr>\n",
       "    <tr>\n",
       "      <th>8</th>\n",
       "      <td>Label_Stability</td>\n",
       "      <td>0.941284</td>\n",
       "      <td>0.940561</td>\n",
       "      <td>0.964491</td>\n",
       "      <td>0.753023</td>\n",
       "      <td>0.942160</td>\n",
       "      <td>0.961611</td>\n",
       "      <td>0.782353</td>\n",
       "      <td>0.960800</td>\n",
       "      <td>0.977553</td>\n",
       "      <td>...</td>\n",
       "      <td>0.691642</td>\n",
       "      <td>0.948712</td>\n",
       "      <td>0.969924</td>\n",
       "      <td>0.763503</td>\n",
       "      <td>0.853926</td>\n",
       "      <td>0.873333</td>\n",
       "      <td>0.780294</td>\n",
       "      <td>401</td>\n",
       "      <td>RandomForestClassifier</td>\n",
       "      <td>{'bootstrap': False, 'ccp_alpha': 0.0, 'class_...</td>\n",
       "    </tr>\n",
       "    <tr>\n",
       "      <th>9</th>\n",
       "      <td>TPR</td>\n",
       "      <td>0.977011</td>\n",
       "      <td>0.972250</td>\n",
       "      <td>1.000000</td>\n",
       "      <td>0.000000</td>\n",
       "      <td>0.982885</td>\n",
       "      <td>1.000000</td>\n",
       "      <td>0.000000</td>\n",
       "      <td>0.985121</td>\n",
       "      <td>1.000000</td>\n",
       "      <td>...</td>\n",
       "      <td>0.000000</td>\n",
       "      <td>0.980747</td>\n",
       "      <td>1.000000</td>\n",
       "      <td>0.000000</td>\n",
       "      <td>0.920354</td>\n",
       "      <td>1.000000</td>\n",
       "      <td>0.000000</td>\n",
       "      <td>401</td>\n",
       "      <td>RandomForestClassifier</td>\n",
       "      <td>{'bootstrap': False, 'ccp_alpha': 0.0, 'class_...</td>\n",
       "    </tr>\n",
       "    <tr>\n",
       "      <th>10</th>\n",
       "      <td>TNR</td>\n",
       "      <td>0.252964</td>\n",
       "      <td>0.229008</td>\n",
       "      <td>1.000000</td>\n",
       "      <td>0.000000</td>\n",
       "      <td>0.278689</td>\n",
       "      <td>1.000000</td>\n",
       "      <td>0.000000</td>\n",
       "      <td>0.130435</td>\n",
       "      <td>1.000000</td>\n",
       "      <td>...</td>\n",
       "      <td>0.000000</td>\n",
       "      <td>0.192118</td>\n",
       "      <td>1.000000</td>\n",
       "      <td>0.000000</td>\n",
       "      <td>0.500000</td>\n",
       "      <td>1.000000</td>\n",
       "      <td>0.000000</td>\n",
       "      <td>401</td>\n",
       "      <td>RandomForestClassifier</td>\n",
       "      <td>{'bootstrap': False, 'ccp_alpha': 0.0, 'class_...</td>\n",
       "    </tr>\n",
       "    <tr>\n",
       "      <th>11</th>\n",
       "      <td>PPV</td>\n",
       "      <td>0.904255</td>\n",
       "      <td>0.906654</td>\n",
       "      <td>1.000000</td>\n",
       "      <td>0.000000</td>\n",
       "      <td>0.901345</td>\n",
       "      <td>1.000000</td>\n",
       "      <td>0.000000</td>\n",
       "      <td>0.919028</td>\n",
       "      <td>1.000000</td>\n",
       "      <td>...</td>\n",
       "      <td>0.000000</td>\n",
       "      <td>0.911111</td>\n",
       "      <td>1.000000</td>\n",
       "      <td>0.000000</td>\n",
       "      <td>0.806202</td>\n",
       "      <td>1.000000</td>\n",
       "      <td>0.000000</td>\n",
       "      <td>401</td>\n",
       "      <td>RandomForestClassifier</td>\n",
       "      <td>{'bootstrap': False, 'ccp_alpha': 0.0, 'class_...</td>\n",
       "    </tr>\n",
       "    <tr>\n",
       "      <th>12</th>\n",
       "      <td>FNR</td>\n",
       "      <td>0.022989</td>\n",
       "      <td>0.027750</td>\n",
       "      <td>0.000000</td>\n",
       "      <td>1.000000</td>\n",
       "      <td>0.017115</td>\n",
       "      <td>0.000000</td>\n",
       "      <td>1.000000</td>\n",
       "      <td>0.014879</td>\n",
       "      <td>0.000000</td>\n",
       "      <td>...</td>\n",
       "      <td>1.000000</td>\n",
       "      <td>0.019253</td>\n",
       "      <td>0.000000</td>\n",
       "      <td>1.000000</td>\n",
       "      <td>0.079646</td>\n",
       "      <td>0.000000</td>\n",
       "      <td>1.000000</td>\n",
       "      <td>401</td>\n",
       "      <td>RandomForestClassifier</td>\n",
       "      <td>{'bootstrap': False, 'ccp_alpha': 0.0, 'class_...</td>\n",
       "    </tr>\n",
       "    <tr>\n",
       "      <th>13</th>\n",
       "      <td>FPR</td>\n",
       "      <td>0.747036</td>\n",
       "      <td>0.770992</td>\n",
       "      <td>0.000000</td>\n",
       "      <td>1.000000</td>\n",
       "      <td>0.721311</td>\n",
       "      <td>0.000000</td>\n",
       "      <td>1.000000</td>\n",
       "      <td>0.869565</td>\n",
       "      <td>0.000000</td>\n",
       "      <td>...</td>\n",
       "      <td>1.000000</td>\n",
       "      <td>0.807882</td>\n",
       "      <td>0.000000</td>\n",
       "      <td>1.000000</td>\n",
       "      <td>0.500000</td>\n",
       "      <td>0.000000</td>\n",
       "      <td>1.000000</td>\n",
       "      <td>401</td>\n",
       "      <td>RandomForestClassifier</td>\n",
       "      <td>{'bootstrap': False, 'ccp_alpha': 0.0, 'class_...</td>\n",
       "    </tr>\n",
       "    <tr>\n",
       "      <th>14</th>\n",
       "      <td>Accuracy</td>\n",
       "      <td>0.888942</td>\n",
       "      <td>0.886842</td>\n",
       "      <td>1.000000</td>\n",
       "      <td>0.000000</td>\n",
       "      <td>0.891489</td>\n",
       "      <td>1.000000</td>\n",
       "      <td>0.000000</td>\n",
       "      <td>0.907554</td>\n",
       "      <td>1.000000</td>\n",
       "      <td>...</td>\n",
       "      <td>0.000000</td>\n",
       "      <td>0.897235</td>\n",
       "      <td>1.000000</td>\n",
       "      <td>0.000000</td>\n",
       "      <td>0.791411</td>\n",
       "      <td>1.000000</td>\n",
       "      <td>0.000000</td>\n",
       "      <td>401</td>\n",
       "      <td>RandomForestClassifier</td>\n",
       "      <td>{'bootstrap': False, 'ccp_alpha': 0.0, 'class_...</td>\n",
       "    </tr>\n",
       "    <tr>\n",
       "      <th>15</th>\n",
       "      <td>F1</td>\n",
       "      <td>0.939227</td>\n",
       "      <td>0.938307</td>\n",
       "      <td>1.000000</td>\n",
       "      <td>0.000000</td>\n",
       "      <td>0.940351</td>\n",
       "      <td>1.000000</td>\n",
       "      <td>0.000000</td>\n",
       "      <td>0.950928</td>\n",
       "      <td>1.000000</td>\n",
       "      <td>...</td>\n",
       "      <td>0.000000</td>\n",
       "      <td>0.944647</td>\n",
       "      <td>1.000000</td>\n",
       "      <td>0.000000</td>\n",
       "      <td>0.859504</td>\n",
       "      <td>1.000000</td>\n",
       "      <td>0.000000</td>\n",
       "      <td>401</td>\n",
       "      <td>RandomForestClassifier</td>\n",
       "      <td>{'bootstrap': False, 'ccp_alpha': 0.0, 'class_...</td>\n",
       "    </tr>\n",
       "    <tr>\n",
       "      <th>16</th>\n",
       "      <td>Selection-Rate</td>\n",
       "      <td>0.949038</td>\n",
       "      <td>0.949123</td>\n",
       "      <td>0.970326</td>\n",
       "      <td>0.782946</td>\n",
       "      <td>0.948936</td>\n",
       "      <td>0.959427</td>\n",
       "      <td>0.862745</td>\n",
       "      <td>0.974634</td>\n",
       "      <td>0.986957</td>\n",
       "      <td>...</td>\n",
       "      <td>0.731343</td>\n",
       "      <td>0.962441</td>\n",
       "      <td>0.977326</td>\n",
       "      <td>0.832487</td>\n",
       "      <td>0.791411</td>\n",
       "      <td>0.806202</td>\n",
       "      <td>0.735294</td>\n",
       "      <td>401</td>\n",
       "      <td>RandomForestClassifier</td>\n",
       "      <td>{'bootstrap': False, 'ccp_alpha': 0.0, 'class_...</td>\n",
       "    </tr>\n",
       "    <tr>\n",
       "      <th>17</th>\n",
       "      <td>Positive-Rate</td>\n",
       "      <td>1.080460</td>\n",
       "      <td>1.072349</td>\n",
       "      <td>1.000000</td>\n",
       "      <td>3.607143</td>\n",
       "      <td>1.090465</td>\n",
       "      <td>1.000000</td>\n",
       "      <td>6.285714</td>\n",
       "      <td>1.071916</td>\n",
       "      <td>1.000000</td>\n",
       "      <td>...</td>\n",
       "      <td>2.722222</td>\n",
       "      <td>1.076429</td>\n",
       "      <td>1.000000</td>\n",
       "      <td>4.969697</td>\n",
       "      <td>1.141593</td>\n",
       "      <td>1.000000</td>\n",
       "      <td>2.777778</td>\n",
       "      <td>401</td>\n",
       "      <td>RandomForestClassifier</td>\n",
       "      <td>{'bootstrap': False, 'ccp_alpha': 0.0, 'class_...</td>\n",
       "    </tr>\n",
       "    <tr>\n",
       "      <th>18</th>\n",
       "      <td>Sample_Size</td>\n",
       "      <td>2080.000000</td>\n",
       "      <td>1140.000000</td>\n",
       "      <td>1011.000000</td>\n",
       "      <td>129.000000</td>\n",
       "      <td>940.000000</td>\n",
       "      <td>838.000000</td>\n",
       "      <td>102.000000</td>\n",
       "      <td>1774.000000</td>\n",
       "      <td>1610.000000</td>\n",
       "      <td>...</td>\n",
       "      <td>67.000000</td>\n",
       "      <td>1917.000000</td>\n",
       "      <td>1720.000000</td>\n",
       "      <td>197.000000</td>\n",
       "      <td>163.000000</td>\n",
       "      <td>129.000000</td>\n",
       "      <td>34.000000</td>\n",
       "      <td>401</td>\n",
       "      <td>RandomForestClassifier</td>\n",
       "      <td>{'bootstrap': False, 'ccp_alpha': 0.0, 'class_...</td>\n",
       "    </tr>\n",
       "  </tbody>\n",
       "</table>\n",
       "<p>19 rows × 23 columns</p>\n",
       "</div>"
      ],
      "text/plain": [
       "                   Metric      overall    male_priv  male_priv_correct  \\\n",
       "0                    Mean     0.114805     0.115587           0.090328   \n",
       "1                     Std     0.041616     0.042762           0.036678   \n",
       "2                     IQR     0.059494     0.061445           0.052498   \n",
       "3   Aleatoric_Uncertainty     0.324121     0.328668           0.279339   \n",
       "4     Overall_Uncertainty     0.343461     0.348716           0.297294   \n",
       "5        Statistical_Bias     0.151899     0.153897           0.081060   \n",
       "6                  Jitter     0.040083     0.040635           0.024714   \n",
       "7     Per_Sample_Accuracy     0.885498     0.885088           0.982028   \n",
       "8         Label_Stability     0.941284     0.940561           0.964491   \n",
       "9                     TPR     0.977011     0.972250           1.000000   \n",
       "10                    TNR     0.252964     0.229008           1.000000   \n",
       "11                    PPV     0.904255     0.906654           1.000000   \n",
       "12                    FNR     0.022989     0.027750           0.000000   \n",
       "13                    FPR     0.747036     0.770992           0.000000   \n",
       "14               Accuracy     0.888942     0.886842           1.000000   \n",
       "15                     F1     0.939227     0.938307           1.000000   \n",
       "16         Selection-Rate     0.949038     0.949123           0.970326   \n",
       "17          Positive-Rate     1.080460     1.072349           1.000000   \n",
       "18            Sample_Size  2080.000000  1140.000000        1011.000000   \n",
       "\n",
       "    male_priv_incorrect    male_dis  male_dis_correct  male_dis_incorrect  \\\n",
       "0              0.313552    0.113856          0.090475            0.305943   \n",
       "1              0.090441    0.040226          0.034644            0.086094   \n",
       "2              0.131562    0.057127          0.049252            0.121827   \n",
       "3              0.715269    0.318607          0.270236            0.716008   \n",
       "4              0.751720    0.337087          0.286926            0.749194   \n",
       "5              0.724734    0.149477          0.078742            0.730619   \n",
       "6              0.165408    0.039413          0.026000            0.149602   \n",
       "7              0.125349    0.885995          0.980424            0.110196   \n",
       "8              0.753023    0.942160          0.961611            0.782353   \n",
       "9              0.000000    0.982885          1.000000            0.000000   \n",
       "10             0.000000    0.278689          1.000000            0.000000   \n",
       "11             0.000000    0.901345          1.000000            0.000000   \n",
       "12             1.000000    0.017115          0.000000            1.000000   \n",
       "13             1.000000    0.721311          0.000000            1.000000   \n",
       "14             0.000000    0.891489          1.000000            0.000000   \n",
       "15             0.000000    0.940351          1.000000            0.000000   \n",
       "16             0.782946    0.948936          0.959427            0.862745   \n",
       "17             3.607143    1.090465          1.000000            6.285714   \n",
       "18           129.000000  940.000000        838.000000          102.000000   \n",
       "\n",
       "      race_priv  race_priv_correct  ...  race_dis_incorrect  male&race_priv  \\\n",
       "0      0.086679           0.067151  ...            0.388041        0.101738   \n",
       "1      0.036442           0.031446  ...            0.095946        0.039521   \n",
       "2      0.051976           0.044787  ...            0.138805        0.056596   \n",
       "3      0.279958           0.238613  ...            0.788426        0.304204   \n",
       "4      0.297580           0.254550  ...            0.825491        0.322975   \n",
       "5      0.127380           0.064522  ...            0.685401        0.140010   \n",
       "6      0.027242           0.015591  ...            0.199556        0.035029   \n",
       "7      0.906747           0.988652  ...            0.157761        0.895973   \n",
       "8      0.960800           0.977553  ...            0.691642        0.948712   \n",
       "9      0.985121           1.000000  ...            0.000000        0.980747   \n",
       "10     0.130435           1.000000  ...            0.000000        0.192118   \n",
       "11     0.919028           1.000000  ...            0.000000        0.911111   \n",
       "12     0.014879           0.000000  ...            1.000000        0.019253   \n",
       "13     0.869565           0.000000  ...            1.000000        0.807882   \n",
       "14     0.907554           1.000000  ...            0.000000        0.897235   \n",
       "15     0.950928           1.000000  ...            0.000000        0.944647   \n",
       "16     0.974634           0.986957  ...            0.731343        0.962441   \n",
       "17     1.071916           1.000000  ...            2.722222        1.076429   \n",
       "18  1774.000000        1610.000000  ...           67.000000     1917.000000   \n",
       "\n",
       "    male&race_priv_correct  male&race_priv_incorrect  male&race_dis  \\\n",
       "0                 0.078915                  0.301002       0.268483   \n",
       "1                 0.033753                  0.089888       0.066249   \n",
       "2                 0.048125                  0.130558       0.093575   \n",
       "3                 0.257605                  0.711063       0.558353   \n",
       "4                 0.274363                  0.747405       0.584388   \n",
       "5                 0.072568                  0.728844       0.291728   \n",
       "6                 0.020813                  0.159149       0.099511   \n",
       "7                 0.984828                  0.120178       0.762301   \n",
       "8                 0.969924                  0.763503       0.853926   \n",
       "9                 1.000000                  0.000000       0.920354   \n",
       "10                1.000000                  0.000000       0.500000   \n",
       "11                1.000000                  0.000000       0.806202   \n",
       "12                0.000000                  1.000000       0.079646   \n",
       "13                0.000000                  1.000000       0.500000   \n",
       "14                1.000000                  0.000000       0.791411   \n",
       "15                1.000000                  0.000000       0.859504   \n",
       "16                0.977326                  0.832487       0.791411   \n",
       "17                1.000000                  4.969697       1.141593   \n",
       "18             1720.000000                197.000000     163.000000   \n",
       "\n",
       "    male&race_dis_correct  male&race_dis_incorrect  Model_Seed  \\\n",
       "0                0.243455                 0.363443         401   \n",
       "1                0.062465                 0.080604         401   \n",
       "2                0.089727                 0.108174         401   \n",
       "3                0.509988                 0.741855         401   \n",
       "4                0.535693                 0.769143         401   \n",
       "5                0.179224                 0.718579         401   \n",
       "6                0.085083                 0.154255         401   \n",
       "7                0.934264                 0.109853         401   \n",
       "8                0.873333                 0.780294         401   \n",
       "9                1.000000                 0.000000         401   \n",
       "10               1.000000                 0.000000         401   \n",
       "11               1.000000                 0.000000         401   \n",
       "12               0.000000                 1.000000         401   \n",
       "13               0.000000                 1.000000         401   \n",
       "14               1.000000                 0.000000         401   \n",
       "15               1.000000                 0.000000         401   \n",
       "16               0.806202                 0.735294         401   \n",
       "17               1.000000                 2.777778         401   \n",
       "18             129.000000                34.000000         401   \n",
       "\n",
       "                Model_Name                                       Model_Params  \n",
       "0   RandomForestClassifier  {'bootstrap': False, 'ccp_alpha': 0.0, 'class_...  \n",
       "1   RandomForestClassifier  {'bootstrap': False, 'ccp_alpha': 0.0, 'class_...  \n",
       "2   RandomForestClassifier  {'bootstrap': False, 'ccp_alpha': 0.0, 'class_...  \n",
       "3   RandomForestClassifier  {'bootstrap': False, 'ccp_alpha': 0.0, 'class_...  \n",
       "4   RandomForestClassifier  {'bootstrap': False, 'ccp_alpha': 0.0, 'class_...  \n",
       "5   RandomForestClassifier  {'bootstrap': False, 'ccp_alpha': 0.0, 'class_...  \n",
       "6   RandomForestClassifier  {'bootstrap': False, 'ccp_alpha': 0.0, 'class_...  \n",
       "7   RandomForestClassifier  {'bootstrap': False, 'ccp_alpha': 0.0, 'class_...  \n",
       "8   RandomForestClassifier  {'bootstrap': False, 'ccp_alpha': 0.0, 'class_...  \n",
       "9   RandomForestClassifier  {'bootstrap': False, 'ccp_alpha': 0.0, 'class_...  \n",
       "10  RandomForestClassifier  {'bootstrap': False, 'ccp_alpha': 0.0, 'class_...  \n",
       "11  RandomForestClassifier  {'bootstrap': False, 'ccp_alpha': 0.0, 'class_...  \n",
       "12  RandomForestClassifier  {'bootstrap': False, 'ccp_alpha': 0.0, 'class_...  \n",
       "13  RandomForestClassifier  {'bootstrap': False, 'ccp_alpha': 0.0, 'class_...  \n",
       "14  RandomForestClassifier  {'bootstrap': False, 'ccp_alpha': 0.0, 'class_...  \n",
       "15  RandomForestClassifier  {'bootstrap': False, 'ccp_alpha': 0.0, 'class_...  \n",
       "16  RandomForestClassifier  {'bootstrap': False, 'ccp_alpha': 0.0, 'class_...  \n",
       "17  RandomForestClassifier  {'bootstrap': False, 'ccp_alpha': 0.0, 'class_...  \n",
       "18  RandomForestClassifier  {'bootstrap': False, 'ccp_alpha': 0.0, 'class_...  \n",
       "\n",
       "[19 rows x 23 columns]"
      ]
     },
     "metadata": {},
     "output_type": "display_data"
    },
    {
     "name": "stdout",
     "output_type": "stream",
     "text": [
      "\n",
      "\n",
      "\n",
      "\n",
      "intervention_param:  0.9\n"
     ]
    },
    {
     "name": "stderr",
     "output_type": "stream",
     "text": [
      "2023-08-06 18:18:15 experiment_interface.py INFO    : Models config is loaded from the input file\n",
      "INFO:root:Models config is loaded from the input file\n"
     ]
    },
    {
     "name": "stdout",
     "output_type": "stream",
     "text": [
      "Path for tuned params:  /home/dh3553/projects/fairness-variance/results/mult_repair_levels_law_school/tuning_results_Law_School_alpha_0.9_20230806__195951.csv\n",
      "RandomForestClassifier:  {'bootstrap': False, 'ccp_alpha': 0.0, 'class_weight': None, 'criterion': 'gini', 'max_depth': 30, 'max_features': 'sqrt', 'max_leaf_nodes': None, 'max_samples': None, 'min_impurity_decrease': 0.0, 'min_samples_leaf': 1, 'min_samples_split': 2, 'min_weight_fraction_leaf': 0.0, 'n_estimators': 500, 'n_jobs': None, 'oob_score': False, 'random_state': 401, 'verbose': 0, 'warm_start': False}\n"
     ]
    },
    {
     "data": {
      "application/vnd.jupyter.widget-view+json": {
       "model_id": "3c581a89df75491c97fd538dcfeb82e2",
       "version_major": 2,
       "version_minor": 0
      },
      "text/plain": [
       "Multiple runs progress:   0%|          | 0/1 [00:00<?, ?it/s]"
      ]
     },
     "metadata": {},
     "output_type": "display_data"
    },
    {
     "data": {
      "application/vnd.jupyter.widget-view+json": {
       "model_id": "01f5512adebd4372aef4c81d71ca5c14",
       "version_major": 2,
       "version_minor": 0
      },
      "text/plain": [
       "Analyze models in one run:   0%|          | 0/1 [00:00<?, ?it/s]"
      ]
     },
     "metadata": {},
     "output_type": "display_data"
    },
    {
     "name": "stdout",
     "output_type": "stream",
     "text": [
      "##############################  [Model 1 / 1] Analyze RandomForestClassifier  ##############################\n",
      "Model seed:  401\n",
      "\n",
      "Protected groups splits:\n",
      "male_priv (1140, 2)\n",
      "male_dis (940, 2)\n",
      "race_priv (1774, 2)\n",
      "race_dis (306, 2)\n",
      "male&race_priv (1917, 2)\n",
      "male&race_dis (163, 2)\n",
      "\n",
      "\n"
     ]
    },
    {
     "name": "stderr",
     "output_type": "stream",
     "text": [
      "2023-08-06 18:18:15 abstract_overall_variance_analyzer.py INFO    : Start classifiers testing by bootstrap\n",
      "INFO:root:Start classifiers testing by bootstrap\n"
     ]
    },
    {
     "data": {
      "application/vnd.jupyter.widget-view+json": {
       "model_id": "ad6faf81325c4937809a173b2ac08ea0",
       "version_major": 2,
       "version_minor": 0
      },
      "text/plain": [
       "Classifiers testing by bootstrap:   0%|          | 0/200 [00:00<?, ?it/s]"
      ]
     },
     "metadata": {},
     "output_type": "display_data"
    },
    {
     "name": "stdout",
     "output_type": "stream",
     "text": [
      "\n",
      "\n"
     ]
    },
    {
     "name": "stderr",
     "output_type": "stream",
     "text": [
      "2023-08-06 18:42:46 abstract_overall_variance_analyzer.py INFO    : Successfully tested classifiers by bootstrap\n",
      "INFO:root:Successfully tested classifiers by bootstrap\n",
      "2023-08-06 18:43:04 abstract_overall_variance_analyzer.py INFO    : Successfully computed predict proba metrics\n",
      "INFO:root:Successfully computed predict proba metrics\n"
     ]
    },
    {
     "name": "stdout",
     "output_type": "stream",
     "text": [
      "\n",
      "[RandomForestClassifier] Metrics matrix:\n"
     ]
    },
    {
     "data": {
      "text/html": [
       "<div>\n",
       "<style scoped>\n",
       "    .dataframe tbody tr th:only-of-type {\n",
       "        vertical-align: middle;\n",
       "    }\n",
       "\n",
       "    .dataframe tbody tr th {\n",
       "        vertical-align: top;\n",
       "    }\n",
       "\n",
       "    .dataframe thead th {\n",
       "        text-align: right;\n",
       "    }\n",
       "</style>\n",
       "<table border=\"1\" class=\"dataframe\">\n",
       "  <thead>\n",
       "    <tr style=\"text-align: right;\">\n",
       "      <th></th>\n",
       "      <th>Metric</th>\n",
       "      <th>overall</th>\n",
       "      <th>male_priv</th>\n",
       "      <th>male_priv_correct</th>\n",
       "      <th>male_priv_incorrect</th>\n",
       "      <th>male_dis</th>\n",
       "      <th>male_dis_correct</th>\n",
       "      <th>male_dis_incorrect</th>\n",
       "      <th>race_priv</th>\n",
       "      <th>race_priv_correct</th>\n",
       "      <th>...</th>\n",
       "      <th>race_dis_incorrect</th>\n",
       "      <th>male&amp;race_priv</th>\n",
       "      <th>male&amp;race_priv_correct</th>\n",
       "      <th>male&amp;race_priv_incorrect</th>\n",
       "      <th>male&amp;race_dis</th>\n",
       "      <th>male&amp;race_dis_correct</th>\n",
       "      <th>male&amp;race_dis_incorrect</th>\n",
       "      <th>Model_Seed</th>\n",
       "      <th>Model_Name</th>\n",
       "      <th>Model_Params</th>\n",
       "    </tr>\n",
       "  </thead>\n",
       "  <tbody>\n",
       "    <tr>\n",
       "      <th>0</th>\n",
       "      <td>Mean</td>\n",
       "      <td>0.133031</td>\n",
       "      <td>0.133084</td>\n",
       "      <td>0.108422</td>\n",
       "      <td>0.321413</td>\n",
       "      <td>0.132967</td>\n",
       "      <td>0.109020</td>\n",
       "      <td>0.323396</td>\n",
       "      <td>0.110318</td>\n",
       "      <td>0.092441</td>\n",
       "      <td>...</td>\n",
       "      <td>0.388024</td>\n",
       "      <td>0.122599</td>\n",
       "      <td>0.100345</td>\n",
       "      <td>0.314717</td>\n",
       "      <td>0.255719</td>\n",
       "      <td>0.223422</td>\n",
       "      <td>0.361960</td>\n",
       "      <td>401</td>\n",
       "      <td>RandomForestClassifier</td>\n",
       "      <td>{'bootstrap': False, 'ccp_alpha': 0.0, 'class_...</td>\n",
       "    </tr>\n",
       "    <tr>\n",
       "      <th>1</th>\n",
       "      <td>Std</td>\n",
       "      <td>0.045383</td>\n",
       "      <td>0.045537</td>\n",
       "      <td>0.039510</td>\n",
       "      <td>0.091559</td>\n",
       "      <td>0.045197</td>\n",
       "      <td>0.039812</td>\n",
       "      <td>0.088024</td>\n",
       "      <td>0.041612</td>\n",
       "      <td>0.037152</td>\n",
       "      <td>...</td>\n",
       "      <td>0.097044</td>\n",
       "      <td>0.043758</td>\n",
       "      <td>0.038356</td>\n",
       "      <td>0.090391</td>\n",
       "      <td>0.064501</td>\n",
       "      <td>0.057385</td>\n",
       "      <td>0.087907</td>\n",
       "      <td>401</td>\n",
       "      <td>RandomForestClassifier</td>\n",
       "      <td>{'bootstrap': False, 'ccp_alpha': 0.0, 'class_...</td>\n",
       "    </tr>\n",
       "    <tr>\n",
       "      <th>2</th>\n",
       "      <td>IQR</td>\n",
       "      <td>0.064684</td>\n",
       "      <td>0.064684</td>\n",
       "      <td>0.055823</td>\n",
       "      <td>0.132350</td>\n",
       "      <td>0.064685</td>\n",
       "      <td>0.056834</td>\n",
       "      <td>0.127115</td>\n",
       "      <td>0.059361</td>\n",
       "      <td>0.052824</td>\n",
       "      <td>...</td>\n",
       "      <td>0.139853</td>\n",
       "      <td>0.062457</td>\n",
       "      <td>0.054492</td>\n",
       "      <td>0.131224</td>\n",
       "      <td>0.090875</td>\n",
       "      <td>0.080872</td>\n",
       "      <td>0.123782</td>\n",
       "      <td>401</td>\n",
       "      <td>RandomForestClassifier</td>\n",
       "      <td>{'bootstrap': False, 'ccp_alpha': 0.0, 'class_...</td>\n",
       "    </tr>\n",
       "    <tr>\n",
       "      <th>3</th>\n",
       "      <td>Aleatoric_Uncertainty</td>\n",
       "      <td>0.401965</td>\n",
       "      <td>0.403313</td>\n",
       "      <td>0.358473</td>\n",
       "      <td>0.745723</td>\n",
       "      <td>0.400330</td>\n",
       "      <td>0.354355</td>\n",
       "      <td>0.765941</td>\n",
       "      <td>0.369301</td>\n",
       "      <td>0.334416</td>\n",
       "      <td>...</td>\n",
       "      <td>0.824230</td>\n",
       "      <td>0.386826</td>\n",
       "      <td>0.345003</td>\n",
       "      <td>0.747891</td>\n",
       "      <td>0.580008</td>\n",
       "      <td>0.516099</td>\n",
       "      <td>0.790237</td>\n",
       "      <td>401</td>\n",
       "      <td>RandomForestClassifier</td>\n",
       "      <td>{'bootstrap': False, 'ccp_alpha': 0.0, 'class_...</td>\n",
       "    </tr>\n",
       "    <tr>\n",
       "      <th>4</th>\n",
       "      <td>Overall_Uncertainty</td>\n",
       "      <td>0.420310</td>\n",
       "      <td>0.421731</td>\n",
       "      <td>0.374512</td>\n",
       "      <td>0.782316</td>\n",
       "      <td>0.418586</td>\n",
       "      <td>0.370854</td>\n",
       "      <td>0.798170</td>\n",
       "      <td>0.386451</td>\n",
       "      <td>0.349881</td>\n",
       "      <td>...</td>\n",
       "      <td>0.859948</td>\n",
       "      <td>0.404713</td>\n",
       "      <td>0.360852</td>\n",
       "      <td>0.783372</td>\n",
       "      <td>0.603741</td>\n",
       "      <td>0.537818</td>\n",
       "      <td>0.820594</td>\n",
       "      <td>401</td>\n",
       "      <td>RandomForestClassifier</td>\n",
       "      <td>{'bootstrap': False, 'ccp_alpha': 0.0, 'class_...</td>\n",
       "    </tr>\n",
       "    <tr>\n",
       "      <th>5</th>\n",
       "      <td>Statistical_Bias</td>\n",
       "      <td>0.168774</td>\n",
       "      <td>0.169951</td>\n",
       "      <td>0.098774</td>\n",
       "      <td>0.713483</td>\n",
       "      <td>0.167348</td>\n",
       "      <td>0.099032</td>\n",
       "      <td>0.710624</td>\n",
       "      <td>0.146866</td>\n",
       "      <td>0.088811</td>\n",
       "      <td>...</td>\n",
       "      <td>0.670056</td>\n",
       "      <td>0.157797</td>\n",
       "      <td>0.093274</td>\n",
       "      <td>0.714842</td>\n",
       "      <td>0.297871</td>\n",
       "      <td>0.176090</td>\n",
       "      <td>0.698465</td>\n",
       "      <td>401</td>\n",
       "      <td>RandomForestClassifier</td>\n",
       "      <td>{'bootstrap': False, 'ccp_alpha': 0.0, 'class_...</td>\n",
       "    </tr>\n",
       "    <tr>\n",
       "      <th>6</th>\n",
       "      <td>Jitter</td>\n",
       "      <td>0.039256</td>\n",
       "      <td>0.038722</td>\n",
       "      <td>0.021738</td>\n",
       "      <td>0.168419</td>\n",
       "      <td>0.039903</td>\n",
       "      <td>0.025552</td>\n",
       "      <td>0.154034</td>\n",
       "      <td>0.028561</td>\n",
       "      <td>0.017560</td>\n",
       "      <td>...</td>\n",
       "      <td>0.208831</td>\n",
       "      <td>0.034416</td>\n",
       "      <td>0.019616</td>\n",
       "      <td>0.162182</td>\n",
       "      <td>0.096183</td>\n",
       "      <td>0.076377</td>\n",
       "      <td>0.161334</td>\n",
       "      <td>401</td>\n",
       "      <td>RandomForestClassifier</td>\n",
       "      <td>{'bootstrap': False, 'ccp_alpha': 0.0, 'class_...</td>\n",
       "    </tr>\n",
       "    <tr>\n",
       "      <th>7</th>\n",
       "      <td>Per_Sample_Accuracy</td>\n",
       "      <td>0.885692</td>\n",
       "      <td>0.885566</td>\n",
       "      <td>0.984936</td>\n",
       "      <td>0.126742</td>\n",
       "      <td>0.885846</td>\n",
       "      <td>0.982647</td>\n",
       "      <td>0.116048</td>\n",
       "      <td>0.908275</td>\n",
       "      <td>0.988002</td>\n",
       "      <td>...</td>\n",
       "      <td>0.159351</td>\n",
       "      <td>0.896964</td>\n",
       "      <td>0.986717</td>\n",
       "      <td>0.122111</td>\n",
       "      <td>0.753129</td>\n",
       "      <td>0.945160</td>\n",
       "      <td>0.121447</td>\n",
       "      <td>401</td>\n",
       "      <td>RandomForestClassifier</td>\n",
       "      <td>{'bootstrap': False, 'ccp_alpha': 0.0, 'class_...</td>\n",
       "    </tr>\n",
       "    <tr>\n",
       "      <th>8</th>\n",
       "      <td>Label_Stability</td>\n",
       "      <td>0.943942</td>\n",
       "      <td>0.944360</td>\n",
       "      <td>0.970109</td>\n",
       "      <td>0.747727</td>\n",
       "      <td>0.943436</td>\n",
       "      <td>0.965317</td>\n",
       "      <td>0.769429</td>\n",
       "      <td>0.959684</td>\n",
       "      <td>0.976152</td>\n",
       "      <td>...</td>\n",
       "      <td>0.682078</td>\n",
       "      <td>0.951132</td>\n",
       "      <td>0.973574</td>\n",
       "      <td>0.757387</td>\n",
       "      <td>0.859387</td>\n",
       "      <td>0.890480</td>\n",
       "      <td>0.757105</td>\n",
       "      <td>401</td>\n",
       "      <td>RandomForestClassifier</td>\n",
       "      <td>{'bootstrap': False, 'ccp_alpha': 0.0, 'class_...</td>\n",
       "    </tr>\n",
       "    <tr>\n",
       "      <th>9</th>\n",
       "      <td>TPR</td>\n",
       "      <td>0.977559</td>\n",
       "      <td>0.972250</td>\n",
       "      <td>1.000000</td>\n",
       "      <td>0.000000</td>\n",
       "      <td>0.984108</td>\n",
       "      <td>1.000000</td>\n",
       "      <td>0.000000</td>\n",
       "      <td>0.986361</td>\n",
       "      <td>1.000000</td>\n",
       "      <td>...</td>\n",
       "      <td>0.000000</td>\n",
       "      <td>0.980163</td>\n",
       "      <td>1.000000</td>\n",
       "      <td>0.000000</td>\n",
       "      <td>0.938053</td>\n",
       "      <td>1.000000</td>\n",
       "      <td>0.000000</td>\n",
       "      <td>401</td>\n",
       "      <td>RandomForestClassifier</td>\n",
       "      <td>{'bootstrap': False, 'ccp_alpha': 0.0, 'class_...</td>\n",
       "    </tr>\n",
       "    <tr>\n",
       "      <th>10</th>\n",
       "      <td>TNR</td>\n",
       "      <td>0.225296</td>\n",
       "      <td>0.206107</td>\n",
       "      <td>1.000000</td>\n",
       "      <td>0.000000</td>\n",
       "      <td>0.245902</td>\n",
       "      <td>1.000000</td>\n",
       "      <td>0.000000</td>\n",
       "      <td>0.142857</td>\n",
       "      <td>1.000000</td>\n",
       "      <td>...</td>\n",
       "      <td>0.000000</td>\n",
       "      <td>0.187192</td>\n",
       "      <td>1.000000</td>\n",
       "      <td>0.000000</td>\n",
       "      <td>0.380000</td>\n",
       "      <td>1.000000</td>\n",
       "      <td>0.000000</td>\n",
       "      <td>401</td>\n",
       "      <td>RandomForestClassifier</td>\n",
       "      <td>{'bootstrap': False, 'ccp_alpha': 0.0, 'class_...</td>\n",
       "    </tr>\n",
       "    <tr>\n",
       "      <th>11</th>\n",
       "      <td>PPV</td>\n",
       "      <td>0.901110</td>\n",
       "      <td>0.904147</td>\n",
       "      <td>1.000000</td>\n",
       "      <td>0.000000</td>\n",
       "      <td>0.897436</td>\n",
       "      <td>1.000000</td>\n",
       "      <td>0.000000</td>\n",
       "      <td>0.920185</td>\n",
       "      <td>1.000000</td>\n",
       "      <td>...</td>\n",
       "      <td>0.000000</td>\n",
       "      <td>0.910569</td>\n",
       "      <td>1.000000</td>\n",
       "      <td>0.000000</td>\n",
       "      <td>0.773723</td>\n",
       "      <td>1.000000</td>\n",
       "      <td>0.000000</td>\n",
       "      <td>401</td>\n",
       "      <td>RandomForestClassifier</td>\n",
       "      <td>{'bootstrap': False, 'ccp_alpha': 0.0, 'class_...</td>\n",
       "    </tr>\n",
       "    <tr>\n",
       "      <th>12</th>\n",
       "      <td>FNR</td>\n",
       "      <td>0.022441</td>\n",
       "      <td>0.027750</td>\n",
       "      <td>0.000000</td>\n",
       "      <td>1.000000</td>\n",
       "      <td>0.015892</td>\n",
       "      <td>0.000000</td>\n",
       "      <td>1.000000</td>\n",
       "      <td>0.013639</td>\n",
       "      <td>0.000000</td>\n",
       "      <td>...</td>\n",
       "      <td>1.000000</td>\n",
       "      <td>0.019837</td>\n",
       "      <td>0.000000</td>\n",
       "      <td>1.000000</td>\n",
       "      <td>0.061947</td>\n",
       "      <td>0.000000</td>\n",
       "      <td>1.000000</td>\n",
       "      <td>401</td>\n",
       "      <td>RandomForestClassifier</td>\n",
       "      <td>{'bootstrap': False, 'ccp_alpha': 0.0, 'class_...</td>\n",
       "    </tr>\n",
       "    <tr>\n",
       "      <th>13</th>\n",
       "      <td>FPR</td>\n",
       "      <td>0.774704</td>\n",
       "      <td>0.793893</td>\n",
       "      <td>0.000000</td>\n",
       "      <td>1.000000</td>\n",
       "      <td>0.754098</td>\n",
       "      <td>0.000000</td>\n",
       "      <td>1.000000</td>\n",
       "      <td>0.857143</td>\n",
       "      <td>0.000000</td>\n",
       "      <td>...</td>\n",
       "      <td>1.000000</td>\n",
       "      <td>0.812808</td>\n",
       "      <td>0.000000</td>\n",
       "      <td>1.000000</td>\n",
       "      <td>0.620000</td>\n",
       "      <td>0.000000</td>\n",
       "      <td>1.000000</td>\n",
       "      <td>401</td>\n",
       "      <td>RandomForestClassifier</td>\n",
       "      <td>{'bootstrap': False, 'ccp_alpha': 0.0, 'class_...</td>\n",
       "    </tr>\n",
       "    <tr>\n",
       "      <th>14</th>\n",
       "      <td>Accuracy</td>\n",
       "      <td>0.886058</td>\n",
       "      <td>0.884211</td>\n",
       "      <td>1.000000</td>\n",
       "      <td>0.000000</td>\n",
       "      <td>0.888298</td>\n",
       "      <td>1.000000</td>\n",
       "      <td>0.000000</td>\n",
       "      <td>0.909808</td>\n",
       "      <td>1.000000</td>\n",
       "      <td>...</td>\n",
       "      <td>0.000000</td>\n",
       "      <td>0.896192</td>\n",
       "      <td>1.000000</td>\n",
       "      <td>0.000000</td>\n",
       "      <td>0.766871</td>\n",
       "      <td>1.000000</td>\n",
       "      <td>0.000000</td>\n",
       "      <td>401</td>\n",
       "      <td>RandomForestClassifier</td>\n",
       "      <td>{'bootstrap': False, 'ccp_alpha': 0.0, 'class_...</td>\n",
       "    </tr>\n",
       "    <tr>\n",
       "      <th>15</th>\n",
       "      <td>F1</td>\n",
       "      <td>0.937779</td>\n",
       "      <td>0.936963</td>\n",
       "      <td>1.000000</td>\n",
       "      <td>0.000000</td>\n",
       "      <td>0.938776</td>\n",
       "      <td>1.000000</td>\n",
       "      <td>0.000000</td>\n",
       "      <td>0.952124</td>\n",
       "      <td>1.000000</td>\n",
       "      <td>...</td>\n",
       "      <td>0.000000</td>\n",
       "      <td>0.944085</td>\n",
       "      <td>1.000000</td>\n",
       "      <td>0.000000</td>\n",
       "      <td>0.848000</td>\n",
       "      <td>1.000000</td>\n",
       "      <td>0.000000</td>\n",
       "      <td>401</td>\n",
       "      <td>RandomForestClassifier</td>\n",
       "      <td>{'bootstrap': False, 'ccp_alpha': 0.0, 'class_...</td>\n",
       "    </tr>\n",
       "    <tr>\n",
       "      <th>16</th>\n",
       "      <td>Selection-Rate</td>\n",
       "      <td>0.952885</td>\n",
       "      <td>0.951754</td>\n",
       "      <td>0.973214</td>\n",
       "      <td>0.787879</td>\n",
       "      <td>0.954255</td>\n",
       "      <td>0.964072</td>\n",
       "      <td>0.876190</td>\n",
       "      <td>0.974634</td>\n",
       "      <td>0.985750</td>\n",
       "      <td>...</td>\n",
       "      <td>0.753247</td>\n",
       "      <td>0.962441</td>\n",
       "      <td>0.977881</td>\n",
       "      <td>0.829146</td>\n",
       "      <td>0.840491</td>\n",
       "      <td>0.848000</td>\n",
       "      <td>0.815789</td>\n",
       "      <td>401</td>\n",
       "      <td>RandomForestClassifier</td>\n",
       "      <td>{'bootstrap': False, 'ccp_alpha': 0.0, 'class_...</td>\n",
       "    </tr>\n",
       "    <tr>\n",
       "      <th>17</th>\n",
       "      <td>Positive-Rate</td>\n",
       "      <td>1.084839</td>\n",
       "      <td>1.075322</td>\n",
       "      <td>1.000000</td>\n",
       "      <td>3.714286</td>\n",
       "      <td>1.096577</td>\n",
       "      <td>1.000000</td>\n",
       "      <td>7.076923</td>\n",
       "      <td>1.071916</td>\n",
       "      <td>1.000000</td>\n",
       "      <td>...</td>\n",
       "      <td>3.052632</td>\n",
       "      <td>1.076429</td>\n",
       "      <td>1.000000</td>\n",
       "      <td>4.852941</td>\n",
       "      <td>1.212389</td>\n",
       "      <td>1.000000</td>\n",
       "      <td>4.428571</td>\n",
       "      <td>401</td>\n",
       "      <td>RandomForestClassifier</td>\n",
       "      <td>{'bootstrap': False, 'ccp_alpha': 0.0, 'class_...</td>\n",
       "    </tr>\n",
       "    <tr>\n",
       "      <th>18</th>\n",
       "      <td>Sample_Size</td>\n",
       "      <td>2080.000000</td>\n",
       "      <td>1140.000000</td>\n",
       "      <td>1008.000000</td>\n",
       "      <td>132.000000</td>\n",
       "      <td>940.000000</td>\n",
       "      <td>835.000000</td>\n",
       "      <td>105.000000</td>\n",
       "      <td>1774.000000</td>\n",
       "      <td>1614.000000</td>\n",
       "      <td>...</td>\n",
       "      <td>77.000000</td>\n",
       "      <td>1917.000000</td>\n",
       "      <td>1718.000000</td>\n",
       "      <td>199.000000</td>\n",
       "      <td>163.000000</td>\n",
       "      <td>125.000000</td>\n",
       "      <td>38.000000</td>\n",
       "      <td>401</td>\n",
       "      <td>RandomForestClassifier</td>\n",
       "      <td>{'bootstrap': False, 'ccp_alpha': 0.0, 'class_...</td>\n",
       "    </tr>\n",
       "  </tbody>\n",
       "</table>\n",
       "<p>19 rows × 23 columns</p>\n",
       "</div>"
      ],
      "text/plain": [
       "                   Metric      overall    male_priv  male_priv_correct  \\\n",
       "0                    Mean     0.133031     0.133084           0.108422   \n",
       "1                     Std     0.045383     0.045537           0.039510   \n",
       "2                     IQR     0.064684     0.064684           0.055823   \n",
       "3   Aleatoric_Uncertainty     0.401965     0.403313           0.358473   \n",
       "4     Overall_Uncertainty     0.420310     0.421731           0.374512   \n",
       "5        Statistical_Bias     0.168774     0.169951           0.098774   \n",
       "6                  Jitter     0.039256     0.038722           0.021738   \n",
       "7     Per_Sample_Accuracy     0.885692     0.885566           0.984936   \n",
       "8         Label_Stability     0.943942     0.944360           0.970109   \n",
       "9                     TPR     0.977559     0.972250           1.000000   \n",
       "10                    TNR     0.225296     0.206107           1.000000   \n",
       "11                    PPV     0.901110     0.904147           1.000000   \n",
       "12                    FNR     0.022441     0.027750           0.000000   \n",
       "13                    FPR     0.774704     0.793893           0.000000   \n",
       "14               Accuracy     0.886058     0.884211           1.000000   \n",
       "15                     F1     0.937779     0.936963           1.000000   \n",
       "16         Selection-Rate     0.952885     0.951754           0.973214   \n",
       "17          Positive-Rate     1.084839     1.075322           1.000000   \n",
       "18            Sample_Size  2080.000000  1140.000000        1008.000000   \n",
       "\n",
       "    male_priv_incorrect    male_dis  male_dis_correct  male_dis_incorrect  \\\n",
       "0              0.321413    0.132967          0.109020            0.323396   \n",
       "1              0.091559    0.045197          0.039812            0.088024   \n",
       "2              0.132350    0.064685          0.056834            0.127115   \n",
       "3              0.745723    0.400330          0.354355            0.765941   \n",
       "4              0.782316    0.418586          0.370854            0.798170   \n",
       "5              0.713483    0.167348          0.099032            0.710624   \n",
       "6              0.168419    0.039903          0.025552            0.154034   \n",
       "7              0.126742    0.885846          0.982647            0.116048   \n",
       "8              0.747727    0.943436          0.965317            0.769429   \n",
       "9              0.000000    0.984108          1.000000            0.000000   \n",
       "10             0.000000    0.245902          1.000000            0.000000   \n",
       "11             0.000000    0.897436          1.000000            0.000000   \n",
       "12             1.000000    0.015892          0.000000            1.000000   \n",
       "13             1.000000    0.754098          0.000000            1.000000   \n",
       "14             0.000000    0.888298          1.000000            0.000000   \n",
       "15             0.000000    0.938776          1.000000            0.000000   \n",
       "16             0.787879    0.954255          0.964072            0.876190   \n",
       "17             3.714286    1.096577          1.000000            7.076923   \n",
       "18           132.000000  940.000000        835.000000          105.000000   \n",
       "\n",
       "      race_priv  race_priv_correct  ...  race_dis_incorrect  male&race_priv  \\\n",
       "0      0.110318           0.092441  ...            0.388024        0.122599   \n",
       "1      0.041612           0.037152  ...            0.097044        0.043758   \n",
       "2      0.059361           0.052824  ...            0.139853        0.062457   \n",
       "3      0.369301           0.334416  ...            0.824230        0.386826   \n",
       "4      0.386451           0.349881  ...            0.859948        0.404713   \n",
       "5      0.146866           0.088811  ...            0.670056        0.157797   \n",
       "6      0.028561           0.017560  ...            0.208831        0.034416   \n",
       "7      0.908275           0.988002  ...            0.159351        0.896964   \n",
       "8      0.959684           0.976152  ...            0.682078        0.951132   \n",
       "9      0.986361           1.000000  ...            0.000000        0.980163   \n",
       "10     0.142857           1.000000  ...            0.000000        0.187192   \n",
       "11     0.920185           1.000000  ...            0.000000        0.910569   \n",
       "12     0.013639           0.000000  ...            1.000000        0.019837   \n",
       "13     0.857143           0.000000  ...            1.000000        0.812808   \n",
       "14     0.909808           1.000000  ...            0.000000        0.896192   \n",
       "15     0.952124           1.000000  ...            0.000000        0.944085   \n",
       "16     0.974634           0.985750  ...            0.753247        0.962441   \n",
       "17     1.071916           1.000000  ...            3.052632        1.076429   \n",
       "18  1774.000000        1614.000000  ...           77.000000     1917.000000   \n",
       "\n",
       "    male&race_priv_correct  male&race_priv_incorrect  male&race_dis  \\\n",
       "0                 0.100345                  0.314717       0.255719   \n",
       "1                 0.038356                  0.090391       0.064501   \n",
       "2                 0.054492                  0.131224       0.090875   \n",
       "3                 0.345003                  0.747891       0.580008   \n",
       "4                 0.360852                  0.783372       0.603741   \n",
       "5                 0.093274                  0.714842       0.297871   \n",
       "6                 0.019616                  0.162182       0.096183   \n",
       "7                 0.986717                  0.122111       0.753129   \n",
       "8                 0.973574                  0.757387       0.859387   \n",
       "9                 1.000000                  0.000000       0.938053   \n",
       "10                1.000000                  0.000000       0.380000   \n",
       "11                1.000000                  0.000000       0.773723   \n",
       "12                0.000000                  1.000000       0.061947   \n",
       "13                0.000000                  1.000000       0.620000   \n",
       "14                1.000000                  0.000000       0.766871   \n",
       "15                1.000000                  0.000000       0.848000   \n",
       "16                0.977881                  0.829146       0.840491   \n",
       "17                1.000000                  4.852941       1.212389   \n",
       "18             1718.000000                199.000000     163.000000   \n",
       "\n",
       "    male&race_dis_correct  male&race_dis_incorrect  Model_Seed  \\\n",
       "0                0.223422                 0.361960         401   \n",
       "1                0.057385                 0.087907         401   \n",
       "2                0.080872                 0.123782         401   \n",
       "3                0.516099                 0.790237         401   \n",
       "4                0.537818                 0.820594         401   \n",
       "5                0.176090                 0.698465         401   \n",
       "6                0.076377                 0.161334         401   \n",
       "7                0.945160                 0.121447         401   \n",
       "8                0.890480                 0.757105         401   \n",
       "9                1.000000                 0.000000         401   \n",
       "10               1.000000                 0.000000         401   \n",
       "11               1.000000                 0.000000         401   \n",
       "12               0.000000                 1.000000         401   \n",
       "13               0.000000                 1.000000         401   \n",
       "14               1.000000                 0.000000         401   \n",
       "15               1.000000                 0.000000         401   \n",
       "16               0.848000                 0.815789         401   \n",
       "17               1.000000                 4.428571         401   \n",
       "18             125.000000                38.000000         401   \n",
       "\n",
       "                Model_Name                                       Model_Params  \n",
       "0   RandomForestClassifier  {'bootstrap': False, 'ccp_alpha': 0.0, 'class_...  \n",
       "1   RandomForestClassifier  {'bootstrap': False, 'ccp_alpha': 0.0, 'class_...  \n",
       "2   RandomForestClassifier  {'bootstrap': False, 'ccp_alpha': 0.0, 'class_...  \n",
       "3   RandomForestClassifier  {'bootstrap': False, 'ccp_alpha': 0.0, 'class_...  \n",
       "4   RandomForestClassifier  {'bootstrap': False, 'ccp_alpha': 0.0, 'class_...  \n",
       "5   RandomForestClassifier  {'bootstrap': False, 'ccp_alpha': 0.0, 'class_...  \n",
       "6   RandomForestClassifier  {'bootstrap': False, 'ccp_alpha': 0.0, 'class_...  \n",
       "7   RandomForestClassifier  {'bootstrap': False, 'ccp_alpha': 0.0, 'class_...  \n",
       "8   RandomForestClassifier  {'bootstrap': False, 'ccp_alpha': 0.0, 'class_...  \n",
       "9   RandomForestClassifier  {'bootstrap': False, 'ccp_alpha': 0.0, 'class_...  \n",
       "10  RandomForestClassifier  {'bootstrap': False, 'ccp_alpha': 0.0, 'class_...  \n",
       "11  RandomForestClassifier  {'bootstrap': False, 'ccp_alpha': 0.0, 'class_...  \n",
       "12  RandomForestClassifier  {'bootstrap': False, 'ccp_alpha': 0.0, 'class_...  \n",
       "13  RandomForestClassifier  {'bootstrap': False, 'ccp_alpha': 0.0, 'class_...  \n",
       "14  RandomForestClassifier  {'bootstrap': False, 'ccp_alpha': 0.0, 'class_...  \n",
       "15  RandomForestClassifier  {'bootstrap': False, 'ccp_alpha': 0.0, 'class_...  \n",
       "16  RandomForestClassifier  {'bootstrap': False, 'ccp_alpha': 0.0, 'class_...  \n",
       "17  RandomForestClassifier  {'bootstrap': False, 'ccp_alpha': 0.0, 'class_...  \n",
       "18  RandomForestClassifier  {'bootstrap': False, 'ccp_alpha': 0.0, 'class_...  \n",
       "\n",
       "[19 rows x 23 columns]"
      ]
     },
     "metadata": {},
     "output_type": "display_data"
    },
    {
     "name": "stdout",
     "output_type": "stream",
     "text": [
      "\n",
      "\n",
      "\n",
      "\n"
     ]
    },
    {
     "name": "stderr",
     "output_type": "stream",
     "text": [
      "2023-08-06 18:44:54 experiment_interface.py INFO    : Experiment run was successful!\n",
      "INFO:root:Experiment run was successful!\n"
     ]
    }
   ],
   "source": [
    "run_exp_iter_with_disparate_impact(data_loader=exp_iter_data_loader,\n",
    "                                   experiment_seed=experiment_seed,\n",
    "                                   test_set_fraction=TEST_SET_FRACTION,\n",
    "                                   db_writer_func=db_writer_func,\n",
    "                                   fair_intervention_params_lst=FAIR_INTERVENTION_PARAMS_LST,\n",
    "                                   models_params_for_tuning=models_params_for_tuning,\n",
    "                                   metrics_computation_config=metrics_computation_config,\n",
    "                                   custom_table_fields_dct=custom_table_fields_dct,\n",
    "#                                    with_tuning=True,\n",
    "                                   with_tuning=False,\n",
    "                                   tuned_params_df_paths=tuned_params_df_paths,\n",
    "                                   save_results_dir_path=SAVE_RESULTS_DIR_PATH,\n",
    "                                   verbose=True, \n",
    "                                   dataset_name=DATASET_NAME)"
   ]
  },
  {
   "cell_type": "markdown",
   "id": "6a91dcd4",
   "metadata": {},
   "source": [
    "### Experiment iteration 5"
   ]
  },
  {
   "cell_type": "code",
   "execution_count": null,
   "id": "adba7e37",
   "metadata": {},
   "outputs": [],
   "source": [
    "# Configs for an experiment iteration\n",
    "exp_iter_num = 5\n",
    "experiment_seed = EXPERIMENT_SEEDS[exp_iter_num - 1]\n",
    "tuned_params_filenames = [\n",
    "    'tuning_results_Law_School_alpha_0.1_20230806__195840.csv',\n",
    "    'tuning_results_Law_School_alpha_0.9_20230806__195951.csv',\n",
    "]\n",
    "tuned_params_df_paths = [os.path.join(ROOT_DIR, 'results', EXPERIMENT_NAME, tuned_params_filename)\n",
    "                         for tuned_params_filename in tuned_params_filenames]\n",
    "custom_table_fields_dct['experiment_iteration'] = f'Exp_iter_{exp_iter_num}'\n",
    "\n",
    "exp_iter_data_loader = copy.deepcopy(data_loader)  # Add deepcopy to avoid data leakage\n",
    "models_params_for_tuning = get_model_params_for_mult_repair_levels(experiment_seed)"
   ]
  },
  {
   "cell_type": "code",
   "execution_count": null,
   "id": "1039aa91",
   "metadata": {},
   "outputs": [],
   "source": [
    "run_exp_iter_with_disparate_impact(data_loader=exp_iter_data_loader,\n",
    "                                   experiment_seed=experiment_seed,\n",
    "                                   test_set_fraction=TEST_SET_FRACTION,\n",
    "                                   db_writer_func=db_writer_func,\n",
    "                                   fair_intervention_params_lst=FAIR_INTERVENTION_PARAMS_LST,\n",
    "                                   models_params_for_tuning=models_params_for_tuning,\n",
    "                                   metrics_computation_config=metrics_computation_config,\n",
    "                                   custom_table_fields_dct=custom_table_fields_dct,\n",
    "#                                    with_tuning=True,\n",
    "                                   with_tuning=False,\n",
    "                                   tuned_params_df_paths=tuned_params_df_paths,\n",
    "                                   save_results_dir_path=SAVE_RESULTS_DIR_PATH,\n",
    "                                   verbose=True, \n",
    "                                   dataset_name=DATASET_NAME)"
   ]
  },
  {
   "cell_type": "markdown",
   "id": "2af08116",
   "metadata": {},
   "source": [
    "### Experiment iteration 6"
   ]
  },
  {
   "cell_type": "code",
   "execution_count": null,
   "id": "06ba0505",
   "metadata": {},
   "outputs": [],
   "source": [
    "# Configs for an experiment iteration\n",
    "exp_iter_num = 6\n",
    "experiment_seed = EXPERIMENT_SEEDS[exp_iter_num - 1]\n",
    "tuned_params_filenames = [\n",
    "    'tuning_results_Law_School_alpha_0.1_20230806__195840.csv',\n",
    "    'tuning_results_Law_School_alpha_0.9_20230806__195951.csv',\n",
    "]\n",
    "tuned_params_df_paths = [os.path.join(ROOT_DIR, 'results', EXPERIMENT_NAME, tuned_params_filename)\n",
    "                         for tuned_params_filename in tuned_params_filenames]\n",
    "custom_table_fields_dct['experiment_iteration'] = f'Exp_iter_{exp_iter_num}'\n",
    "\n",
    "exp_iter_data_loader = copy.deepcopy(data_loader)  # Add deepcopy to avoid data leakage\n",
    "models_params_for_tuning = get_model_params_for_mult_repair_levels(experiment_seed)"
   ]
  },
  {
   "cell_type": "code",
   "execution_count": null,
   "id": "5c0aadf5",
   "metadata": {},
   "outputs": [],
   "source": [
    "run_exp_iter_with_disparate_impact(data_loader=exp_iter_data_loader,\n",
    "                                   experiment_seed=experiment_seed,\n",
    "                                   test_set_fraction=TEST_SET_FRACTION,\n",
    "                                   db_writer_func=db_writer_func,\n",
    "                                   fair_intervention_params_lst=FAIR_INTERVENTION_PARAMS_LST,\n",
    "                                   models_params_for_tuning=models_params_for_tuning,\n",
    "                                   metrics_computation_config=metrics_computation_config,\n",
    "                                   custom_table_fields_dct=custom_table_fields_dct,\n",
    "#                                    with_tuning=True,\n",
    "                                   with_tuning=False,\n",
    "                                   tuned_params_df_paths=tuned_params_df_paths,\n",
    "                                   save_results_dir_path=SAVE_RESULTS_DIR_PATH,\n",
    "                                   verbose=True, \n",
    "                                   dataset_name=DATASET_NAME)"
   ]
  },
  {
   "cell_type": "code",
   "execution_count": null,
   "id": "c7a1c280",
   "metadata": {},
   "outputs": [],
   "source": []
  }
 ],
 "metadata": {
  "kernelspec": {
   "display_name": "Python 3",
   "language": "python",
   "name": "python3"
  },
  "language_info": {
   "codemirror_mode": {
    "name": "ipython",
    "version": 3
   },
   "file_extension": ".py",
   "mimetype": "text/x-python",
   "name": "python",
   "nbconvert_exporter": "python",
   "pygments_lexer": "ipython3",
   "version": "3.8.5"
  }
 },
 "nbformat": 4,
 "nbformat_minor": 5
}
