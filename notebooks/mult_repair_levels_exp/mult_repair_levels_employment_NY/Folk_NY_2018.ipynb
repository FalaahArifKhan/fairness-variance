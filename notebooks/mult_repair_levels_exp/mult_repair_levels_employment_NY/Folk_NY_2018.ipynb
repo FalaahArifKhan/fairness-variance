{
 "cells": [
  {
   "cell_type": "code",
   "execution_count": null,
   "id": "a68c4d88",
   "metadata": {},
   "outputs": [],
   "source": [
    "# !pip install -r ./requirements.txt"
   ]
  },
  {
   "cell_type": "code",
   "execution_count": null,
   "id": "12d767d0",
   "metadata": {},
   "outputs": [],
   "source": [
    "# !pip uninstall virny -y"
   ]
  },
  {
   "cell_type": "code",
   "execution_count": null,
   "id": "67c25c97",
   "metadata": {},
   "outputs": [],
   "source": [
    "# Install using an HTTP link\n",
    "# !pip install git+https://github.com/DataResponsibly/Virny.git@development\n",
    "\n",
    "# Install using an SSH link\n",
    "# !pip install git+ssh://git@github.com/DataResponsibly/Virny.git@development"
   ]
  },
  {
   "cell_type": "code",
   "execution_count": null,
   "id": "92689c0b",
   "metadata": {},
   "outputs": [],
   "source": [
    "# !pip install lightgbm==3.3.5"
   ]
  },
  {
   "cell_type": "code",
   "execution_count": null,
   "id": "fed8d3f3",
   "metadata": {},
   "outputs": [],
   "source": [
    "%matplotlib inline\n",
    "%load_ext autoreload\n",
    "%autoreload 2"
   ]
  },
  {
   "cell_type": "code",
   "execution_count": null,
   "id": "2c9d59c0",
   "metadata": {},
   "outputs": [],
   "source": [
    "import os\n",
    "import warnings\n",
    "warnings.filterwarnings('ignore')\n",
    "os.environ[\"PYTHONWARNINGS\"] = \"ignore\""
   ]
  },
  {
   "cell_type": "code",
   "execution_count": null,
   "id": "033ab8f8",
   "metadata": {},
   "outputs": [],
   "source": [
    "cur_folder_name = os.getcwd().split('/')[-1]\n",
    "if cur_folder_name != \"fairness-variance\":\n",
    "    os.chdir(\"../..\")\n",
    "\n",
    "print('Current location: ', os.getcwd())"
   ]
  },
  {
   "cell_type": "markdown",
   "id": "ab236302",
   "metadata": {},
   "source": [
    "## Import dependencies"
   ]
  },
  {
   "cell_type": "code",
   "execution_count": null,
   "id": "be346724",
   "metadata": {},
   "outputs": [],
   "source": [
    "import os\n",
    "import copy\n",
    "\n",
    "from virny.utils.custom_initializers import create_config_obj\n",
    "from virny.datasets import ACSEmploymentDataset\n",
    "\n",
    "from configs.constants import TEST_SET_FRACTION, EXPERIMENT_SEEDS\n",
    "from configs.models_config_for_tuning import get_folktables_employment_models_params_for_tuning\n",
    "\n",
    "from source.preprocessing import get_simple_preprocessor\n",
    "from source.experiment_interface import run_exp_iter_with_preprocessing_intervention"
   ]
  },
  {
   "cell_type": "markdown",
   "id": "8918e2eb",
   "metadata": {},
   "source": [
    "## Define Input Variables"
   ]
  },
  {
   "cell_type": "code",
   "execution_count": null,
   "id": "b6483c8b",
   "metadata": {},
   "outputs": [],
   "source": [
    "# ROOT_DIR = os.path.join(os.getcwd(), \"..\", \"..\")\n",
    "ROOT_DIR = os.getcwd()\n",
    "EXPERIMENT_NAME = 'mult_repair_levels'\n",
    "DB_COLLECTION_NAME = f'exp_{EXPERIMENT_NAME}'\n",
    "SAVE_RESULTS_DIR_PATH = os.path.join(ROOT_DIR, 'results', EXPERIMENT_NAME)\n",
    "# FAIR_INTERVENTION_PARAMS_LST = [0.0 + 0.1 * i for i in range(11)]\n",
    "FAIR_INTERVENTION_PARAMS_LST = [0.0, 0.1, 0.2, 0.30000000000000004, 0.4, 0.5,\n",
    "                                0.6000000000000001, 0.7, 0.8, 0.9, 1.0]\n",
    "\n",
    "config_yaml_path = os.path.join(ROOT_DIR, 'notebooks', EXPERIMENT_NAME, 'folk_ny_2018_config.yaml')\n",
    "metrics_computation_config = create_config_obj(config_yaml_path=config_yaml_path)"
   ]
  },
  {
   "cell_type": "markdown",
   "id": "b2834a9c",
   "metadata": {},
   "source": [
    "## Define a db writer and custom fields to insert into your database"
   ]
  },
  {
   "cell_type": "code",
   "execution_count": null,
   "id": "f702bd45",
   "metadata": {},
   "outputs": [],
   "source": [
    "import os\n",
    "from dotenv import load_dotenv\n",
    "\n",
    "load_dotenv('./configs/secrets.env')\n",
    "os.getenv(\"DB_NAME\")"
   ]
  },
  {
   "cell_type": "code",
   "execution_count": null,
   "id": "2795f789",
   "metadata": {},
   "outputs": [],
   "source": [
    "from source.utils.db_functions import connect_to_mongodb\n",
    "\n",
    "client, collection_obj, db_writer_func = connect_to_mongodb(DB_COLLECTION_NAME)"
   ]
  },
  {
   "cell_type": "code",
   "execution_count": null,
   "id": "79d733c7",
   "metadata": {},
   "outputs": [],
   "source": [
    "import uuid\n",
    "\n",
    "custom_table_fields_dct = {\n",
    "#     'session_uuid': str(uuid.uuid4()),\n",
    "    'session_uuid': 'e6bca5bf-8de7-46ce-bb59-4c2b28dcaaf5',\n",
    "}\n",
    "print('Current session uuid: ', custom_table_fields_dct['session_uuid'])"
   ]
  },
  {
   "cell_type": "markdown",
   "id": "5c2f4e76",
   "metadata": {},
   "source": [
    "## Initialize custom objects"
   ]
  },
  {
   "cell_type": "code",
   "execution_count": null,
   "id": "c18e7cf3",
   "metadata": {},
   "outputs": [],
   "source": [
    "data_loader = ACSEmploymentDataset(state=['NY'], year=2018, with_nulls=False,\n",
    "                                   subsample_size=20_000, subsample_seed=42)\n",
    "data_loader.X_data.head()"
   ]
  },
  {
   "cell_type": "code",
   "execution_count": null,
   "id": "b01b9ed6",
   "metadata": {},
   "outputs": [],
   "source": [
    "data_loader.X_data.shape"
   ]
  },
  {
   "cell_type": "markdown",
   "id": "b9fc5b5c",
   "metadata": {},
   "source": [
    "## Run experiment iterations"
   ]
  },
  {
   "cell_type": "markdown",
   "id": "6ccc4965",
   "metadata": {},
   "source": [
    "### Experiment iteration 1"
   ]
  },
  {
   "cell_type": "code",
   "execution_count": null,
   "id": "5d0bc29c",
   "metadata": {},
   "outputs": [],
   "source": [
    "# tuned_params_filenames = ['tuning_results_Folktables_NY_2018_Employment_alpha_0.8_20230706__115508.csv']\n",
    "# tuned_params_df_paths = [os.path.join(ROOT_DIR, 'results', EXPERIMENT_NAME, tuned_params_filename)\n",
    "#                          for tuned_params_filename in tuned_params_filenames]"
   ]
  },
  {
   "cell_type": "code",
   "execution_count": null,
   "id": "3d9a94bc",
   "metadata": {},
   "outputs": [],
   "source": [
    "# Configs for an experiment iteration\n",
    "exp_iter_num = 1\n",
    "experiment_seed = EXPERIMENT_SEEDS[exp_iter_num - 1]\n",
    "custom_table_fields_dct['experiment_iteration'] = f'Exp_iter_{exp_iter_num}'\n",
    "\n",
    "exp_iter_data_loader = copy.deepcopy(data_loader)  # Add deepcopy to avoid data leakage\n",
    "models_params_for_tuning = get_folktables_employment_models_params_for_tuning(experiment_seed)\n",
    "preprocessor = get_simple_preprocessor(exp_iter_data_loader)"
   ]
  },
  {
   "cell_type": "code",
   "execution_count": null,
   "id": "a1eef90c",
   "metadata": {},
   "outputs": [],
   "source": [
    "run_exp_iter_with_preprocessing_intervention(data_loader=exp_iter_data_loader,\n",
    "                                             experiment_seed=experiment_seed,\n",
    "                                             test_set_fraction=TEST_SET_FRACTION,\n",
    "                                             db_writer_func=db_writer_func,\n",
    "                                             fair_intervention_params_lst=FAIR_INTERVENTION_PARAMS_LST,\n",
    "                                             column_transformer=preprocessor,\n",
    "                                             models_params_for_tuning=models_params_for_tuning,\n",
    "                                             metrics_computation_config=metrics_computation_config,\n",
    "                                             custom_table_fields_dct=custom_table_fields_dct,\n",
    "                                             with_tuning=True,\n",
    "#                                              with_tuning=False,\n",
    "#                                              tuned_params_df_paths=tuned_params_df_paths,\n",
    "                                             save_results_dir_path=SAVE_RESULTS_DIR_PATH,\n",
    "                                             verbose=True)"
   ]
  },
  {
   "cell_type": "markdown",
   "id": "b167cf3c",
   "metadata": {},
   "source": [
    "### Experiment iteration 2"
   ]
  },
  {
   "cell_type": "code",
   "execution_count": null,
   "id": "689778ed",
   "metadata": {},
   "outputs": [],
   "source": [
    "# Configs for an experiment iteration\n",
    "exp_iter_num = 2\n",
    "experiment_seed = EXPERIMENT_SEEDS[exp_iter_num - 1]\n",
    "tuned_params_filenames = [\n",
    "    'tuning_results_Folktables_NY_2018_Employment_alpha_0.0_20230705__174859.csv',\n",
    "    'tuning_results_Folktables_NY_2018_Employment_alpha_0.1_20230705__182108.csv',\n",
    "    'tuning_results_Folktables_NY_2018_Employment_alpha_0.2_20230705__185830.csv',\n",
    "    'tuning_results_Folktables_NY_2018_Employment_alpha_0.30000000000000004_20230705__194739.csv',\n",
    "    'tuning_results_Folktables_NY_2018_Employment_alpha_0.4_20230705__202544.csv',\n",
    "    'tuning_results_Folktables_NY_2018_Employment_alpha_0.5_20230705__210307.csv',\n",
    "    'tuning_results_Folktables_NY_2018_Employment_alpha_0.6000000000000001_20230705__214028.csv',\n",
    "    'tuning_results_Folktables_NY_2018_Employment_alpha_0.7_20230706__095236.csv',\n",
    "    'tuning_results_Folktables_NY_2018_Employment_alpha_0.8_20230706__115508.csv',\n",
    "    'tuning_results_Folktables_NY_2018_Employment_alpha_0.9_20230706__161158.csv',\n",
    "    'tuning_results_Folktables_NY_2018_Employment_alpha_1.0_20230706__175511.csv'\n",
    "]\n",
    "tuned_params_df_paths = [os.path.join(ROOT_DIR, 'results', EXPERIMENT_NAME, tuned_params_filename)\n",
    "                         for tuned_params_filename in tuned_params_filenames]\n",
    "custom_table_fields_dct['experiment_iteration'] = f'Exp_iter_{exp_iter_num}'\n",
    "\n",
    "exp_iter_data_loader = copy.deepcopy(data_loader)  # Add deepcopy to avoid data leakage\n",
    "models_params_for_tuning = get_folktables_employment_models_params_for_tuning(experiment_seed)\n",
    "preprocessor = get_simple_preprocessor(exp_iter_data_loader)"
   ]
  },
  {
   "cell_type": "code",
   "execution_count": null,
   "id": "8c1c1a55",
   "metadata": {},
   "outputs": [],
   "source": [
    "run_exp_iter_with_preprocessing_intervention(data_loader=exp_iter_data_loader,\n",
    "                                             experiment_seed=experiment_seed,\n",
    "                                             test_set_fraction=TEST_SET_FRACTION,\n",
    "                                             db_writer_func=db_writer_func,\n",
    "                                             fair_intervention_params_lst=FAIR_INTERVENTION_PARAMS_LST,\n",
    "                                             column_transformer=preprocessor,\n",
    "                                             models_params_for_tuning=models_params_for_tuning,\n",
    "                                             metrics_computation_config=metrics_computation_config,\n",
    "                                             custom_table_fields_dct=custom_table_fields_dct,\n",
    "                                             # with_tuning=True,\n",
    "                                             with_tuning=False,\n",
    "                                             tuned_params_df_paths=tuned_params_df_paths,\n",
    "                                             save_results_dir_path=SAVE_RESULTS_DIR_PATH,\n",
    "                                             verbose=True)"
   ]
  },
  {
   "cell_type": "markdown",
   "id": "970b002b",
   "metadata": {},
   "source": [
    "### Experiment iteration 3"
   ]
  },
  {
   "cell_type": "code",
   "execution_count": null,
   "id": "602a4c84",
   "metadata": {},
   "outputs": [],
   "source": [
    "# Configs for an experiment iteration\n",
    "exp_iter_num = 3\n",
    "experiment_seed = EXPERIMENT_SEEDS[exp_iter_num - 1]\n",
    "tuned_params_filenames = [\n",
    "    'tuning_results_Folktables_NY_2018_Employment_alpha_0.0_20230705__174859.csv',\n",
    "    'tuning_results_Folktables_NY_2018_Employment_alpha_0.1_20230705__182108.csv',\n",
    "    'tuning_results_Folktables_NY_2018_Employment_alpha_0.2_20230705__185830.csv',\n",
    "    'tuning_results_Folktables_NY_2018_Employment_alpha_0.30000000000000004_20230705__194739.csv',\n",
    "    'tuning_results_Folktables_NY_2018_Employment_alpha_0.4_20230705__202544.csv',\n",
    "    'tuning_results_Folktables_NY_2018_Employment_alpha_0.5_20230705__210307.csv',\n",
    "    'tuning_results_Folktables_NY_2018_Employment_alpha_0.6000000000000001_20230705__214028.csv',\n",
    "    'tuning_results_Folktables_NY_2018_Employment_alpha_0.7_20230706__095236.csv',\n",
    "    'tuning_results_Folktables_NY_2018_Employment_alpha_0.8_20230706__115508.csv',\n",
    "    'tuning_results_Folktables_NY_2018_Employment_alpha_0.9_20230706__161158.csv',\n",
    "    'tuning_results_Folktables_NY_2018_Employment_alpha_1.0_20230706__175511.csv'\n",
    "]\n",
    "tuned_params_df_paths = [os.path.join(ROOT_DIR, 'results', EXPERIMENT_NAME, tuned_params_filename)\n",
    "                         for tuned_params_filename in tuned_params_filenames]\n",
    "custom_table_fields_dct['experiment_iteration'] = f'Exp_iter_{exp_iter_num}'\n",
    "\n",
    "exp_iter_data_loader = copy.deepcopy(data_loader)  # Add deepcopy to avoid data leakage\n",
    "models_params_for_tuning = get_folktables_employment_models_params_for_tuning(experiment_seed)\n",
    "preprocessor = get_simple_preprocessor(exp_iter_data_loader)"
   ]
  },
  {
   "cell_type": "code",
   "execution_count": null,
   "id": "220b6264",
   "metadata": {},
   "outputs": [],
   "source": [
    "run_exp_iter_with_preprocessing_intervention(data_loader=exp_iter_data_loader,\n",
    "                                             experiment_seed=experiment_seed,\n",
    "                                             test_set_fraction=TEST_SET_FRACTION,\n",
    "                                             db_writer_func=db_writer_func,\n",
    "                                             fair_intervention_params_lst=FAIR_INTERVENTION_PARAMS_LST,\n",
    "                                             column_transformer=preprocessor,\n",
    "                                             models_params_for_tuning=models_params_for_tuning,\n",
    "                                             metrics_computation_config=metrics_computation_config,\n",
    "                                             custom_table_fields_dct=custom_table_fields_dct,\n",
    "                                             # with_tuning=True,\n",
    "                                             with_tuning=False,\n",
    "                                             tuned_params_df_paths=tuned_params_df_paths,\n",
    "                                             save_results_dir_path=SAVE_RESULTS_DIR_PATH,\n",
    "                                             verbose=True)"
   ]
  },
  {
   "cell_type": "markdown",
   "id": "701df000",
   "metadata": {},
   "source": [
    "### Experiment iteration 4"
   ]
  },
  {
   "cell_type": "code",
   "execution_count": null,
   "id": "23ee5c59",
   "metadata": {},
   "outputs": [],
   "source": [
    "# Configs for an experiment iteration\n",
    "exp_iter_num = 4\n",
    "experiment_seed = EXPERIMENT_SEEDS[exp_iter_num - 1]\n",
    "tuned_params_filenames = [\n",
    "    'tuning_results_Folktables_NY_2018_Employment_alpha_0.0_20230705__174859.csv',\n",
    "    'tuning_results_Folktables_NY_2018_Employment_alpha_0.1_20230705__182108.csv',\n",
    "    'tuning_results_Folktables_NY_2018_Employment_alpha_0.2_20230705__185830.csv',\n",
    "    'tuning_results_Folktables_NY_2018_Employment_alpha_0.30000000000000004_20230705__194739.csv',\n",
    "    'tuning_results_Folktables_NY_2018_Employment_alpha_0.4_20230705__202544.csv',\n",
    "    'tuning_results_Folktables_NY_2018_Employment_alpha_0.5_20230705__210307.csv',\n",
    "    'tuning_results_Folktables_NY_2018_Employment_alpha_0.6000000000000001_20230705__214028.csv',\n",
    "    'tuning_results_Folktables_NY_2018_Employment_alpha_0.7_20230706__095236.csv',\n",
    "    'tuning_results_Folktables_NY_2018_Employment_alpha_0.8_20230706__115508.csv',\n",
    "    'tuning_results_Folktables_NY_2018_Employment_alpha_0.9_20230706__161158.csv',\n",
    "    'tuning_results_Folktables_NY_2018_Employment_alpha_1.0_20230706__175511.csv'\n",
    "]\n",
    "tuned_params_df_paths = [os.path.join(ROOT_DIR, 'results', EXPERIMENT_NAME, tuned_params_filename)\n",
    "                         for tuned_params_filename in tuned_params_filenames]\n",
    "custom_table_fields_dct['experiment_iteration'] = f'Exp_iter_{exp_iter_num}'\n",
    "\n",
    "exp_iter_data_loader = copy.deepcopy(data_loader)  # Add deepcopy to avoid data leakage\n",
    "models_params_for_tuning = get_folktables_employment_models_params_for_tuning(experiment_seed)\n",
    "preprocessor = get_simple_preprocessor(exp_iter_data_loader)"
   ]
  },
  {
   "cell_type": "code",
   "execution_count": null,
   "id": "95097e91",
   "metadata": {},
   "outputs": [],
   "source": [
    "run_exp_iter_with_preprocessing_intervention(data_loader=exp_iter_data_loader,\n",
    "                                             experiment_seed=experiment_seed,\n",
    "                                             test_set_fraction=TEST_SET_FRACTION,\n",
    "                                             db_writer_func=db_writer_func,\n",
    "                                             fair_intervention_params_lst=FAIR_INTERVENTION_PARAMS_LST,\n",
    "                                             column_transformer=preprocessor,\n",
    "                                             models_params_for_tuning=models_params_for_tuning,\n",
    "                                             metrics_computation_config=metrics_computation_config,\n",
    "                                             custom_table_fields_dct=custom_table_fields_dct,\n",
    "                                             # with_tuning=True,\n",
    "                                             with_tuning=False,\n",
    "                                             tuned_params_df_paths=tuned_params_df_paths,\n",
    "                                             save_results_dir_path=SAVE_RESULTS_DIR_PATH,\n",
    "                                             verbose=True)"
   ]
  },
  {
   "cell_type": "markdown",
   "id": "b1cad037",
   "metadata": {},
   "source": [
    "### Experiment iteration 5"
   ]
  },
  {
   "cell_type": "code",
   "execution_count": null,
   "id": "986d9ead",
   "metadata": {},
   "outputs": [],
   "source": [
    "# Configs for an experiment iteration\n",
    "exp_iter_num = 5\n",
    "experiment_seed = EXPERIMENT_SEEDS[exp_iter_num - 1]\n",
    "tuned_params_filenames = [\n",
    "    'tuning_results_Folktables_NY_2018_Employment_alpha_0.0_20230705__174859.csv',\n",
    "    'tuning_results_Folktables_NY_2018_Employment_alpha_0.1_20230705__182108.csv',\n",
    "    'tuning_results_Folktables_NY_2018_Employment_alpha_0.2_20230705__185830.csv',\n",
    "    'tuning_results_Folktables_NY_2018_Employment_alpha_0.30000000000000004_20230705__194739.csv',\n",
    "    'tuning_results_Folktables_NY_2018_Employment_alpha_0.4_20230705__202544.csv',\n",
    "    'tuning_results_Folktables_NY_2018_Employment_alpha_0.5_20230705__210307.csv',\n",
    "    'tuning_results_Folktables_NY_2018_Employment_alpha_0.6000000000000001_20230705__214028.csv',\n",
    "    'tuning_results_Folktables_NY_2018_Employment_alpha_0.7_20230706__095236.csv',\n",
    "    'tuning_results_Folktables_NY_2018_Employment_alpha_0.8_20230706__115508.csv',\n",
    "    'tuning_results_Folktables_NY_2018_Employment_alpha_0.9_20230706__161158.csv',\n",
    "    'tuning_results_Folktables_NY_2018_Employment_alpha_1.0_20230706__175511.csv'\n",
    "]\n",
    "tuned_params_df_paths = [os.path.join(ROOT_DIR, 'results', EXPERIMENT_NAME, tuned_params_filename)\n",
    "                         for tuned_params_filename in tuned_params_filenames]\n",
    "custom_table_fields_dct['experiment_iteration'] = f'Exp_iter_{exp_iter_num}'\n",
    "\n",
    "exp_iter_data_loader = copy.deepcopy(data_loader)  # Add deepcopy to avoid data leakage\n",
    "models_params_for_tuning = get_folktables_employment_models_params_for_tuning(experiment_seed)\n",
    "preprocessor = get_simple_preprocessor(exp_iter_data_loader)"
   ]
  },
  {
   "cell_type": "code",
   "execution_count": null,
   "id": "f8786b82",
   "metadata": {},
   "outputs": [],
   "source": [
    "run_exp_iter_with_preprocessing_intervention(data_loader=exp_iter_data_loader,\n",
    "                                             experiment_seed=experiment_seed,\n",
    "                                             test_set_fraction=TEST_SET_FRACTION,\n",
    "                                             db_writer_func=db_writer_func,\n",
    "                                             fair_intervention_params_lst=FAIR_INTERVENTION_PARAMS_LST,\n",
    "                                             column_transformer=preprocessor,\n",
    "                                             models_params_for_tuning=models_params_for_tuning,\n",
    "                                             metrics_computation_config=metrics_computation_config,\n",
    "                                             custom_table_fields_dct=custom_table_fields_dct,\n",
    "                                             # with_tuning=True,\n",
    "                                             with_tuning=False,\n",
    "                                             tuned_params_df_paths=tuned_params_df_paths,\n",
    "                                             save_results_dir_path=SAVE_RESULTS_DIR_PATH,\n",
    "                                             verbose=True)"
   ]
  },
  {
   "cell_type": "markdown",
   "id": "64847d6c",
   "metadata": {},
   "source": [
    "### Experiment iteration 6"
   ]
  },
  {
   "cell_type": "code",
   "execution_count": null,
   "id": "b7a76d47",
   "metadata": {},
   "outputs": [],
   "source": [
    "# Configs for an experiment iteration\n",
    "exp_iter_num = 6\n",
    "experiment_seed = EXPERIMENT_SEEDS[exp_iter_num - 1]\n",
    "tuned_params_filenames = [\n",
    "    'tuning_results_Folktables_NY_2018_Employment_alpha_0.0_20230705__174859.csv',\n",
    "    'tuning_results_Folktables_NY_2018_Employment_alpha_0.1_20230705__182108.csv',\n",
    "    'tuning_results_Folktables_NY_2018_Employment_alpha_0.2_20230705__185830.csv',\n",
    "    'tuning_results_Folktables_NY_2018_Employment_alpha_0.30000000000000004_20230705__194739.csv',\n",
    "    'tuning_results_Folktables_NY_2018_Employment_alpha_0.4_20230705__202544.csv',\n",
    "    'tuning_results_Folktables_NY_2018_Employment_alpha_0.5_20230705__210307.csv',\n",
    "    'tuning_results_Folktables_NY_2018_Employment_alpha_0.6000000000000001_20230705__214028.csv',\n",
    "    'tuning_results_Folktables_NY_2018_Employment_alpha_0.7_20230706__095236.csv',\n",
    "    'tuning_results_Folktables_NY_2018_Employment_alpha_0.8_20230706__115508.csv',\n",
    "    'tuning_results_Folktables_NY_2018_Employment_alpha_0.9_20230706__161158.csv',\n",
    "    'tuning_results_Folktables_NY_2018_Employment_alpha_1.0_20230706__175511.csv'\n",
    "]\n",
    "tuned_params_df_paths = [os.path.join(ROOT_DIR, 'results', EXPERIMENT_NAME, tuned_params_filename)\n",
    "                         for tuned_params_filename in tuned_params_filenames]\n",
    "custom_table_fields_dct['experiment_iteration'] = f'Exp_iter_{exp_iter_num}'\n",
    "\n",
    "exp_iter_data_loader = copy.deepcopy(data_loader)  # Add deepcopy to avoid data leakage\n",
    "models_params_for_tuning = get_folktables_employment_models_params_for_tuning(experiment_seed)\n",
    "preprocessor = get_simple_preprocessor(exp_iter_data_loader)"
   ]
  },
  {
   "cell_type": "code",
   "execution_count": null,
   "id": "f7283005",
   "metadata": {},
   "outputs": [],
   "source": [
    "run_exp_iter_with_preprocessing_intervention(data_loader=exp_iter_data_loader,\n",
    "                                             experiment_seed=experiment_seed,\n",
    "                                             test_set_fraction=TEST_SET_FRACTION,\n",
    "                                             db_writer_func=db_writer_func,\n",
    "                                             fair_intervention_params_lst=FAIR_INTERVENTION_PARAMS_LST,\n",
    "                                             column_transformer=preprocessor,\n",
    "                                             models_params_for_tuning=models_params_for_tuning,\n",
    "                                             metrics_computation_config=metrics_computation_config,\n",
    "                                             custom_table_fields_dct=custom_table_fields_dct,\n",
    "                                             # with_tuning=True,\n",
    "                                             with_tuning=False,\n",
    "                                             tuned_params_df_paths=tuned_params_df_paths,\n",
    "                                             save_results_dir_path=SAVE_RESULTS_DIR_PATH,\n",
    "                                             verbose=True)"
   ]
  },
  {
   "cell_type": "markdown",
   "id": "de1fd97c",
   "metadata": {},
   "source": [
    "### Experiment iteration 7"
   ]
  },
  {
   "cell_type": "code",
   "execution_count": null,
   "id": "f39ec720",
   "metadata": {},
   "outputs": [],
   "source": [
    "# Configs for an experiment iteration\n",
    "exp_iter_num = 7\n",
    "experiment_seed = EXPERIMENT_SEEDS[exp_iter_num - 1]\n",
    "tuned_params_filenames = [\n",
    "    'tuning_results_Folktables_NY_2018_Employment_alpha_0.0_20230705__174859.csv',\n",
    "    'tuning_results_Folktables_NY_2018_Employment_alpha_0.1_20230705__182108.csv',\n",
    "    'tuning_results_Folktables_NY_2018_Employment_alpha_0.2_20230705__185830.csv',\n",
    "    'tuning_results_Folktables_NY_2018_Employment_alpha_0.30000000000000004_20230705__194739.csv',\n",
    "    'tuning_results_Folktables_NY_2018_Employment_alpha_0.4_20230705__202544.csv',\n",
    "    'tuning_results_Folktables_NY_2018_Employment_alpha_0.5_20230705__210307.csv',\n",
    "    'tuning_results_Folktables_NY_2018_Employment_alpha_0.6000000000000001_20230705__214028.csv',\n",
    "    'tuning_results_Folktables_NY_2018_Employment_alpha_0.7_20230706__095236.csv',\n",
    "    'tuning_results_Folktables_NY_2018_Employment_alpha_0.8_20230706__115508.csv',\n",
    "    'tuning_results_Folktables_NY_2018_Employment_alpha_0.9_20230706__161158.csv',\n",
    "    'tuning_results_Folktables_NY_2018_Employment_alpha_1.0_20230706__175511.csv'\n",
    "]\n",
    "tuned_params_df_paths = [os.path.join(ROOT_DIR, 'results', EXPERIMENT_NAME, tuned_params_filename)\n",
    "                         for tuned_params_filename in tuned_params_filenames]\n",
    "custom_table_fields_dct['experiment_iteration'] = f'Exp_iter_{exp_iter_num}'\n",
    "\n",
    "exp_iter_data_loader = copy.deepcopy(data_loader)  # Add deepcopy to avoid data leakage\n",
    "models_params_for_tuning = get_folktables_employment_models_params_for_tuning(experiment_seed)\n",
    "preprocessor = get_simple_preprocessor(exp_iter_data_loader)"
   ]
  },
  {
   "cell_type": "code",
   "execution_count": null,
   "id": "65653e21",
   "metadata": {},
   "outputs": [],
   "source": [
    "run_exp_iter_with_preprocessing_intervention(data_loader=exp_iter_data_loader,\n",
    "                                             experiment_seed=experiment_seed,\n",
    "                                             test_set_fraction=TEST_SET_FRACTION,\n",
    "                                             db_writer_func=db_writer_func,\n",
    "                                             fair_intervention_params_lst=FAIR_INTERVENTION_PARAMS_LST,\n",
    "                                             column_transformer=preprocessor,\n",
    "                                             models_params_for_tuning=models_params_for_tuning,\n",
    "                                             metrics_computation_config=metrics_computation_config,\n",
    "                                             custom_table_fields_dct=custom_table_fields_dct,\n",
    "                                             # with_tuning=True,\n",
    "                                             with_tuning=False,\n",
    "                                             tuned_params_df_paths=tuned_params_df_paths,\n",
    "                                             save_results_dir_path=SAVE_RESULTS_DIR_PATH,\n",
    "                                             verbose=True)"
   ]
  },
  {
   "cell_type": "markdown",
   "id": "e50ccb10",
   "metadata": {},
   "source": [
    "### Experiment iteration 8"
   ]
  },
  {
   "cell_type": "code",
   "execution_count": null,
   "id": "12703aa4",
   "metadata": {},
   "outputs": [],
   "source": [
    "# Configs for an experiment iteration\n",
    "exp_iter_num = 8\n",
    "experiment_seed = EXPERIMENT_SEEDS[exp_iter_num - 1]\n",
    "tuned_params_filenames = [\n",
    "    'tuning_results_Folktables_NY_2018_Employment_alpha_0.0_20230705__174859.csv',\n",
    "    'tuning_results_Folktables_NY_2018_Employment_alpha_0.1_20230705__182108.csv',\n",
    "    'tuning_results_Folktables_NY_2018_Employment_alpha_0.2_20230705__185830.csv',\n",
    "    'tuning_results_Folktables_NY_2018_Employment_alpha_0.30000000000000004_20230705__194739.csv',\n",
    "    'tuning_results_Folktables_NY_2018_Employment_alpha_0.4_20230705__202544.csv',\n",
    "    'tuning_results_Folktables_NY_2018_Employment_alpha_0.5_20230705__210307.csv',\n",
    "    'tuning_results_Folktables_NY_2018_Employment_alpha_0.6000000000000001_20230705__214028.csv',\n",
    "    'tuning_results_Folktables_NY_2018_Employment_alpha_0.7_20230706__095236.csv',\n",
    "    'tuning_results_Folktables_NY_2018_Employment_alpha_0.8_20230706__115508.csv',\n",
    "    'tuning_results_Folktables_NY_2018_Employment_alpha_0.9_20230706__161158.csv',\n",
    "    'tuning_results_Folktables_NY_2018_Employment_alpha_1.0_20230706__175511.csv'\n",
    "]\n",
    "tuned_params_df_paths = [os.path.join(ROOT_DIR, 'results', EXPERIMENT_NAME, tuned_params_filename)\n",
    "                         for tuned_params_filename in tuned_params_filenames]\n",
    "custom_table_fields_dct['experiment_iteration'] = f'Exp_iter_{exp_iter_num}'\n",
    "\n",
    "exp_iter_data_loader = copy.deepcopy(data_loader)  # Add deepcopy to avoid data leakage\n",
    "models_params_for_tuning = get_folktables_employment_models_params_for_tuning(experiment_seed)\n",
    "preprocessor = get_simple_preprocessor(exp_iter_data_loader)"
   ]
  },
  {
   "cell_type": "code",
   "execution_count": null,
   "id": "6dfa4f2e",
   "metadata": {},
   "outputs": [],
   "source": [
    "run_exp_iter_with_preprocessing_intervention(data_loader=exp_iter_data_loader,\n",
    "                                             experiment_seed=experiment_seed,\n",
    "                                             test_set_fraction=TEST_SET_FRACTION,\n",
    "                                             db_writer_func=db_writer_func,\n",
    "                                             fair_intervention_params_lst=FAIR_INTERVENTION_PARAMS_LST,\n",
    "                                             column_transformer=preprocessor,\n",
    "                                             models_params_for_tuning=models_params_for_tuning,\n",
    "                                             metrics_computation_config=metrics_computation_config,\n",
    "                                             custom_table_fields_dct=custom_table_fields_dct,\n",
    "                                             # with_tuning=True,\n",
    "                                             with_tuning=False,\n",
    "                                             tuned_params_df_paths=tuned_params_df_paths,\n",
    "                                             save_results_dir_path=SAVE_RESULTS_DIR_PATH,\n",
    "                                             verbose=True)"
   ]
  },
  {
   "cell_type": "markdown",
   "id": "e2749022",
   "metadata": {},
   "source": [
    "### Experiment iteration 9"
   ]
  },
  {
   "cell_type": "code",
   "execution_count": null,
   "id": "a7feb0f4",
   "metadata": {},
   "outputs": [],
   "source": [
    "# Configs for an experiment iteration\n",
    "exp_iter_num = 9\n",
    "experiment_seed = EXPERIMENT_SEEDS[exp_iter_num - 1]\n",
    "tuned_params_filenames = [\n",
    "    'tuning_results_Folktables_NY_2018_Employment_alpha_0.0_20230705__174859.csv',\n",
    "    'tuning_results_Folktables_NY_2018_Employment_alpha_0.1_20230705__182108.csv',\n",
    "    'tuning_results_Folktables_NY_2018_Employment_alpha_0.2_20230705__185830.csv',\n",
    "    'tuning_results_Folktables_NY_2018_Employment_alpha_0.30000000000000004_20230705__194739.csv',\n",
    "    'tuning_results_Folktables_NY_2018_Employment_alpha_0.4_20230705__202544.csv',\n",
    "    'tuning_results_Folktables_NY_2018_Employment_alpha_0.5_20230705__210307.csv',\n",
    "    'tuning_results_Folktables_NY_2018_Employment_alpha_0.6000000000000001_20230705__214028.csv',\n",
    "    'tuning_results_Folktables_NY_2018_Employment_alpha_0.7_20230706__095236.csv',\n",
    "    'tuning_results_Folktables_NY_2018_Employment_alpha_0.8_20230706__115508.csv',\n",
    "    'tuning_results_Folktables_NY_2018_Employment_alpha_0.9_20230706__161158.csv',\n",
    "    'tuning_results_Folktables_NY_2018_Employment_alpha_1.0_20230706__175511.csv'\n",
    "]\n",
    "tuned_params_df_paths = [os.path.join(ROOT_DIR, 'results', EXPERIMENT_NAME, tuned_params_filename)\n",
    "                         for tuned_params_filename in tuned_params_filenames]\n",
    "custom_table_fields_dct['experiment_iteration'] = f'Exp_iter_{exp_iter_num}'\n",
    "\n",
    "exp_iter_data_loader = copy.deepcopy(data_loader)  # Add deepcopy to avoid data leakage\n",
    "models_params_for_tuning = get_folktables_employment_models_params_for_tuning(experiment_seed)\n",
    "preprocessor = get_simple_preprocessor(exp_iter_data_loader)"
   ]
  },
  {
   "cell_type": "code",
   "execution_count": null,
   "id": "c77fbd96",
   "metadata": {},
   "outputs": [],
   "source": [
    "run_exp_iter_with_preprocessing_intervention(data_loader=exp_iter_data_loader,\n",
    "                                             experiment_seed=experiment_seed,\n",
    "                                             test_set_fraction=TEST_SET_FRACTION,\n",
    "                                             db_writer_func=db_writer_func,\n",
    "                                             fair_intervention_params_lst=FAIR_INTERVENTION_PARAMS_LST,\n",
    "                                             column_transformer=preprocessor,\n",
    "                                             models_params_for_tuning=models_params_for_tuning,\n",
    "                                             metrics_computation_config=metrics_computation_config,\n",
    "                                             custom_table_fields_dct=custom_table_fields_dct,\n",
    "                                             # with_tuning=True,\n",
    "                                             with_tuning=False,\n",
    "                                             tuned_params_df_paths=tuned_params_df_paths,\n",
    "                                             save_results_dir_path=SAVE_RESULTS_DIR_PATH,\n",
    "                                             verbose=True)"
   ]
  },
  {
   "cell_type": "markdown",
   "id": "664be243",
   "metadata": {},
   "source": [
    "### Experiment iteration 10"
   ]
  },
  {
   "cell_type": "code",
   "execution_count": null,
   "id": "00d4e8bf",
   "metadata": {},
   "outputs": [],
   "source": [
    "# Configs for an experiment iteration\n",
    "exp_iter_num = 10\n",
    "experiment_seed = EXPERIMENT_SEEDS[exp_iter_num - 1]\n",
    "tuned_params_filenames = [\n",
    "    'tuning_results_Folktables_NY_2018_Employment_alpha_0.0_20230705__174859.csv',\n",
    "    'tuning_results_Folktables_NY_2018_Employment_alpha_0.1_20230705__182108.csv',\n",
    "    'tuning_results_Folktables_NY_2018_Employment_alpha_0.2_20230705__185830.csv',\n",
    "    'tuning_results_Folktables_NY_2018_Employment_alpha_0.30000000000000004_20230705__194739.csv',\n",
    "    'tuning_results_Folktables_NY_2018_Employment_alpha_0.4_20230705__202544.csv',\n",
    "    'tuning_results_Folktables_NY_2018_Employment_alpha_0.5_20230705__210307.csv',\n",
    "    'tuning_results_Folktables_NY_2018_Employment_alpha_0.6000000000000001_20230705__214028.csv',\n",
    "    'tuning_results_Folktables_NY_2018_Employment_alpha_0.7_20230706__095236.csv',\n",
    "    'tuning_results_Folktables_NY_2018_Employment_alpha_0.8_20230706__115508.csv',\n",
    "    'tuning_results_Folktables_NY_2018_Employment_alpha_0.9_20230706__161158.csv',\n",
    "    'tuning_results_Folktables_NY_2018_Employment_alpha_1.0_20230706__175511.csv'\n",
    "]\n",
    "tuned_params_df_paths = [os.path.join(ROOT_DIR, 'results', EXPERIMENT_NAME, tuned_params_filename)\n",
    "                         for tuned_params_filename in tuned_params_filenames]\n",
    "custom_table_fields_dct['experiment_iteration'] = f'Exp_iter_{exp_iter_num}'\n",
    "\n",
    "exp_iter_data_loader = copy.deepcopy(data_loader)  # Add deepcopy to avoid data leakage\n",
    "models_params_for_tuning = get_folktables_employment_models_params_for_tuning(experiment_seed)\n",
    "preprocessor = get_simple_preprocessor(exp_iter_data_loader)"
   ]
  },
  {
   "cell_type": "code",
   "execution_count": null,
   "id": "7f557b5d",
   "metadata": {},
   "outputs": [],
   "source": [
    "run_exp_iter_with_preprocessing_intervention(data_loader=exp_iter_data_loader,\n",
    "                                             experiment_seed=experiment_seed,\n",
    "                                             test_set_fraction=TEST_SET_FRACTION,\n",
    "                                             db_writer_func=db_writer_func,\n",
    "                                             fair_intervention_params_lst=FAIR_INTERVENTION_PARAMS_LST,\n",
    "                                             column_transformer=preprocessor,\n",
    "                                             models_params_for_tuning=models_params_for_tuning,\n",
    "                                             metrics_computation_config=metrics_computation_config,\n",
    "                                             custom_table_fields_dct=custom_table_fields_dct,\n",
    "                                             # with_tuning=True,\n",
    "                                             with_tuning=False,\n",
    "                                             tuned_params_df_paths=tuned_params_df_paths,\n",
    "                                             save_results_dir_path=SAVE_RESULTS_DIR_PATH,\n",
    "                                             verbose=True)"
   ]
  },
  {
   "cell_type": "code",
   "execution_count": null,
   "id": "a9468de0",
   "metadata": {},
   "outputs": [],
   "source": []
  }
 ],
 "metadata": {
  "kernelspec": {
   "display_name": "Python 3",
   "language": "python",
   "name": "python3"
  },
  "language_info": {
   "codemirror_mode": {
    "name": "ipython",
    "version": 3
   },
   "file_extension": ".py",
   "mimetype": "text/x-python",
   "name": "python",
   "nbconvert_exporter": "python",
   "pygments_lexer": "ipython3",
   "version": "3.8.5"
  }
 },
 "nbformat": 4,
 "nbformat_minor": 5
}
