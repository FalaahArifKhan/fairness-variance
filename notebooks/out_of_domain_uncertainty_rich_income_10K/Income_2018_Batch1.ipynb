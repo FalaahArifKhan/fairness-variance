{
 "cells": [
  {
   "cell_type": "code",
   "execution_count": 1,
   "id": "90548157",
   "metadata": {
    "ExecuteTime": {
     "end_time": "2023-10-18T11:18:50.825923Z",
     "start_time": "2023-10-18T11:18:50.824677Z"
    }
   },
   "outputs": [],
   "source": [
    "# !pip install -r ./requirements.txt"
   ]
  },
  {
   "cell_type": "code",
   "execution_count": 2,
   "id": "d0f1e528",
   "metadata": {
    "ExecuteTime": {
     "end_time": "2023-10-18T11:18:50.830003Z",
     "start_time": "2023-10-18T11:18:50.825773Z"
    }
   },
   "outputs": [],
   "source": [
    "# !pip uninstall virny -y"
   ]
  },
  {
   "cell_type": "code",
   "execution_count": 3,
   "id": "d0a4ef74",
   "metadata": {
    "ExecuteTime": {
     "end_time": "2023-10-18T11:18:50.830170Z",
     "start_time": "2023-10-18T11:18:50.827812Z"
    }
   },
   "outputs": [],
   "source": [
    "# Install using an HTTP link\n",
    "# !pip install git+https://github.com/DataResponsibly/Virny.git@development\n",
    "\n",
    "# Install using an SSH link\n",
    "# !pip install git+ssh://git@github.com/DataResponsibly/Virny.git@development"
   ]
  },
  {
   "cell_type": "code",
   "execution_count": 4,
   "id": "057bfc81",
   "metadata": {
    "ExecuteTime": {
     "end_time": "2023-10-18T11:18:50.834062Z",
     "start_time": "2023-10-18T11:18:50.831078Z"
    }
   },
   "outputs": [],
   "source": [
    "# !pip install aif360"
   ]
  },
  {
   "cell_type": "code",
   "execution_count": 5,
   "id": "766f306d",
   "metadata": {
    "ExecuteTime": {
     "end_time": "2023-10-18T11:18:50.837448Z",
     "start_time": "2023-10-18T11:18:50.832904Z"
    }
   },
   "outputs": [],
   "source": [
    "# !pip install BlackBoxAuditing==0.1.54"
   ]
  },
  {
   "cell_type": "code",
   "execution_count": 6,
   "id": "4a8e4b30",
   "metadata": {
    "ExecuteTime": {
     "end_time": "2023-10-18T11:18:51.238616Z",
     "start_time": "2023-10-18T11:18:50.838103Z"
    }
   },
   "outputs": [],
   "source": [
    "%matplotlib inline\n",
    "%load_ext autoreload\n",
    "%autoreload 2"
   ]
  },
  {
   "cell_type": "code",
   "execution_count": 7,
   "id": "ba4992c2",
   "metadata": {
    "ExecuteTime": {
     "end_time": "2023-10-18T11:18:51.247405Z",
     "start_time": "2023-10-18T11:18:51.236364Z"
    }
   },
   "outputs": [],
   "source": [
    "import os\n",
    "import warnings\n",
    "warnings.filterwarnings('ignore')\n",
    "os.environ[\"PYTHONWARNINGS\"] = \"ignore\""
   ]
  },
  {
   "cell_type": "code",
   "execution_count": 8,
   "id": "482801a3",
   "metadata": {
    "ExecuteTime": {
     "end_time": "2023-10-18T11:18:51.255890Z",
     "start_time": "2023-10-18T11:18:51.246183Z"
    }
   },
   "outputs": [
    {
     "name": "stdout",
     "output_type": "stream",
     "text": [
      "Current location:  /Users/denys_herasymuk/UCU/4course_2term/Bachelor_Thesis/Code/fairness-variance\n"
     ]
    }
   ],
   "source": [
    "cur_folder_name = os.getcwd().split('/')[-1]\n",
    "if cur_folder_name != \"fairness-variance\":\n",
    "    os.chdir(\"../..\")\n",
    "\n",
    "print('Current location: ', os.getcwd())"
   ]
  },
  {
   "cell_type": "markdown",
   "id": "03888039",
   "metadata": {},
   "source": [
    "## Import dependencies"
   ]
  },
  {
   "cell_type": "code",
   "execution_count": 9,
   "id": "8f8dfd52",
   "metadata": {
    "ExecuteTime": {
     "end_time": "2023-10-18T11:18:52.832881Z",
     "start_time": "2023-10-18T11:18:51.255347Z"
    }
   },
   "outputs": [
    {
     "name": "stderr",
     "output_type": "stream",
     "text": [
      "WARNING:root:No module named 'tempeh': LawSchoolGPADataset will be unavailable. To install, run:\n",
      "pip install 'aif360[LawSchoolGPA]'\n",
      "WARNING:root:No module named 'tensorflow': AdversarialDebiasing will be unavailable. To install, run:\n",
      "pip install 'aif360[AdversarialDebiasing]'\n",
      "WARNING:root:No module named 'tensorflow': AdversarialDebiasing will be unavailable. To install, run:\n",
      "pip install 'aif360[AdversarialDebiasing]'\n"
     ]
    }
   ],
   "source": [
    "import os\n",
    "import copy\n",
    "\n",
    "from virny.utils.custom_initializers import create_config_obj\n",
    "from virny.datasets import ACSIncomeDataset\n",
    "\n",
    "from configs.constants import TEST_SET_FRACTION, EXPERIMENT_SEEDS\n",
    "from configs.models_config_for_tuning import get_folktables_employment_models_params_for_tuning\n",
    "\n",
    "from source.experiment_interface import run_exp_iter_with_disparate_impact_and_mult_sets"
   ]
  },
  {
   "cell_type": "markdown",
   "id": "887ea2b3",
   "metadata": {},
   "source": [
    "## Define Input Variables"
   ]
  },
  {
   "cell_type": "code",
   "execution_count": 10,
   "id": "d23309ca",
   "metadata": {
    "ExecuteTime": {
     "end_time": "2023-10-18T11:18:52.854642Z",
     "start_time": "2023-10-18T11:18:52.832133Z"
    }
   },
   "outputs": [],
   "source": [
    "# ROOT_DIR = os.path.join(os.getcwd(), \"..\", \"..\")\n",
    "ROOT_DIR = os.getcwd()\n",
    "EXPERIMENT_NAME = 'out_of_domain_uncertainty_rich_income_10K'\n",
    "DB_COLLECTION_NAME = 'out_of_domain_uncertainty'\n",
    "SAVE_RESULTS_DIR_PATH = os.path.join(ROOT_DIR, 'results', EXPERIMENT_NAME)\n",
    "FAIR_INTERVENTION_PARAMS_LST = [0.7]\n",
    "TRAIN_SET_SUBSAMPLE_SIZE = 10_000\n",
    "SAMPLES_PER_FOLD_FOR_TUNING = TRAIN_SET_SUBSAMPLE_SIZE // 3\n",
    "\n",
    "config_yaml_path = os.path.join(ROOT_DIR, 'notebooks', EXPERIMENT_NAME, 'rich_income_2018_config.yaml')\n",
    "metrics_computation_config = create_config_obj(config_yaml_path=config_yaml_path)"
   ]
  },
  {
   "cell_type": "markdown",
   "id": "9b9ed68d",
   "metadata": {},
   "source": [
    "## Define a db writer and custom fields to insert into your database"
   ]
  },
  {
   "cell_type": "code",
   "execution_count": 11,
   "id": "78100cb0",
   "metadata": {
    "ExecuteTime": {
     "end_time": "2023-10-18T11:18:52.879154Z",
     "start_time": "2023-10-18T11:18:52.854936Z"
    }
   },
   "outputs": [
    {
     "data": {
      "text/plain": "'fairness_variance'"
     },
     "execution_count": 11,
     "metadata": {},
     "output_type": "execute_result"
    }
   ],
   "source": [
    "import os\n",
    "from dotenv import load_dotenv\n",
    "\n",
    "load_dotenv('./configs/secrets.env')\n",
    "os.getenv(\"DB_NAME\")"
   ]
  },
  {
   "cell_type": "code",
   "execution_count": 12,
   "id": "e75e8ff3",
   "metadata": {
    "ExecuteTime": {
     "end_time": "2023-10-18T11:18:53.229388Z",
     "start_time": "2023-10-18T11:18:52.878562Z"
    }
   },
   "outputs": [],
   "source": [
    "from source.utils.db_functions import connect_to_mongodb\n",
    "\n",
    "client, collection_obj, db_writer_func = connect_to_mongodb(DB_COLLECTION_NAME)"
   ]
  },
  {
   "cell_type": "code",
   "execution_count": 13,
   "id": "22a66ca0",
   "metadata": {
    "ExecuteTime": {
     "end_time": "2023-10-18T11:18:53.258109Z",
     "start_time": "2023-10-18T11:18:53.229616Z"
    }
   },
   "outputs": [
    {
     "name": "stdout",
     "output_type": "stream",
     "text": [
      "Current session uuid:  9b899f2c-978a-49e9-8b68-17377f123a57\n"
     ]
    }
   ],
   "source": [
    "import uuid\n",
    "\n",
    "custom_table_fields_dct = {\n",
    "    # 'session_uuid': str(uuid.uuid4()),\n",
    "    'session_uuid': '843b4c65-dae3-4360-9238-a116414cb4a8',\n",
    "}\n",
    "print('Current session uuid: ', custom_table_fields_dct['session_uuid'])"
   ]
  },
  {
   "cell_type": "markdown",
   "id": "87f5e81c",
   "metadata": {},
   "source": [
    "## Initialize custom objects"
   ]
  },
  {
   "cell_type": "code",
   "execution_count": 14,
   "id": "e8f73216",
   "metadata": {
    "ExecuteTime": {
     "end_time": "2023-10-18T11:18:56.752938Z",
     "start_time": "2023-10-18T11:18:53.256761Z"
    }
   },
   "outputs": [
    {
     "data": {
      "text/plain": "  SCHL COW MAR  OCCP POBP RELP SEX RAC1P  AGEP  WKHP\n0   20   1   1  4000   25    1   1     1    44  60.0\n1   15   1   4  4030  329    0   2     8    37  40.0\n2   22   1   1   735  128    0   1     1    64  45.0\n3   21   1   1  4810   51    0   2     1    61  23.0\n4   23   1   1  1760  202    1   1     6    46  45.0",
      "text/html": "<div>\n<style scoped>\n    .dataframe tbody tr th:only-of-type {\n        vertical-align: middle;\n    }\n\n    .dataframe tbody tr th {\n        vertical-align: top;\n    }\n\n    .dataframe thead th {\n        text-align: right;\n    }\n</style>\n<table border=\"1\" class=\"dataframe\">\n  <thead>\n    <tr style=\"text-align: right;\">\n      <th></th>\n      <th>SCHL</th>\n      <th>COW</th>\n      <th>MAR</th>\n      <th>OCCP</th>\n      <th>POBP</th>\n      <th>RELP</th>\n      <th>SEX</th>\n      <th>RAC1P</th>\n      <th>AGEP</th>\n      <th>WKHP</th>\n    </tr>\n  </thead>\n  <tbody>\n    <tr>\n      <th>0</th>\n      <td>20</td>\n      <td>1</td>\n      <td>1</td>\n      <td>4000</td>\n      <td>25</td>\n      <td>1</td>\n      <td>1</td>\n      <td>1</td>\n      <td>44</td>\n      <td>60.0</td>\n    </tr>\n    <tr>\n      <th>1</th>\n      <td>15</td>\n      <td>1</td>\n      <td>4</td>\n      <td>4030</td>\n      <td>329</td>\n      <td>0</td>\n      <td>2</td>\n      <td>8</td>\n      <td>37</td>\n      <td>40.0</td>\n    </tr>\n    <tr>\n      <th>2</th>\n      <td>22</td>\n      <td>1</td>\n      <td>1</td>\n      <td>735</td>\n      <td>128</td>\n      <td>0</td>\n      <td>1</td>\n      <td>1</td>\n      <td>64</td>\n      <td>45.0</td>\n    </tr>\n    <tr>\n      <th>3</th>\n      <td>21</td>\n      <td>1</td>\n      <td>1</td>\n      <td>4810</td>\n      <td>51</td>\n      <td>0</td>\n      <td>2</td>\n      <td>1</td>\n      <td>61</td>\n      <td>23.0</td>\n    </tr>\n    <tr>\n      <th>4</th>\n      <td>23</td>\n      <td>1</td>\n      <td>1</td>\n      <td>1760</td>\n      <td>202</td>\n      <td>1</td>\n      <td>1</td>\n      <td>6</td>\n      <td>46</td>\n      <td>45.0</td>\n    </tr>\n  </tbody>\n</table>\n</div>"
     },
     "execution_count": 14,
     "metadata": {},
     "output_type": "execute_result"
    }
   ],
   "source": [
    "data_loader_rich = ACSIncomeDataset(state=['MD', 'NJ', 'MA'], year=2018, with_nulls=False,\n",
    "                                    subsample_size=100_000, subsample_seed=42)\n",
    "data_loader_rich.X_data.head()"
   ]
  },
  {
   "cell_type": "code",
   "execution_count": 15,
   "id": "0e074ae6",
   "metadata": {
    "ExecuteTime": {
     "end_time": "2023-10-18T11:18:56.777582Z",
     "start_time": "2023-10-18T11:18:56.750557Z"
    }
   },
   "outputs": [
    {
     "data": {
      "text/plain": "(100000, 10)"
     },
     "execution_count": 15,
     "metadata": {},
     "output_type": "execute_result"
    }
   ],
   "source": [
    "data_loader_rich.X_data.shape"
   ]
  },
  {
   "cell_type": "code",
   "execution_count": 16,
   "id": "034e070e",
   "metadata": {
    "ExecuteTime": {
     "end_time": "2023-10-18T11:18:59.891764Z",
     "start_time": "2023-10-18T11:18:56.775269Z"
    }
   },
   "outputs": [
    {
     "data": {
      "text/plain": "  SCHL COW MAR  OCCP POBP RELP SEX RAC1P  AGEP  WKHP\n0   16   1   3  4230    1    0   2     2    61  15.0\n1   23   5   1  3090  134    0   1     1    74  50.0\n2   19   1   3  9645   26    2   1     2    59  40.0\n3   14   2   5  4251    5   16   1     1    17  18.0\n4   21   1   1  1021  217    1   1     6    33  45.0",
      "text/html": "<div>\n<style scoped>\n    .dataframe tbody tr th:only-of-type {\n        vertical-align: middle;\n    }\n\n    .dataframe tbody tr th {\n        vertical-align: top;\n    }\n\n    .dataframe thead th {\n        text-align: right;\n    }\n</style>\n<table border=\"1\" class=\"dataframe\">\n  <thead>\n    <tr style=\"text-align: right;\">\n      <th></th>\n      <th>SCHL</th>\n      <th>COW</th>\n      <th>MAR</th>\n      <th>OCCP</th>\n      <th>POBP</th>\n      <th>RELP</th>\n      <th>SEX</th>\n      <th>RAC1P</th>\n      <th>AGEP</th>\n      <th>WKHP</th>\n    </tr>\n  </thead>\n  <tbody>\n    <tr>\n      <th>0</th>\n      <td>16</td>\n      <td>1</td>\n      <td>3</td>\n      <td>4230</td>\n      <td>1</td>\n      <td>0</td>\n      <td>2</td>\n      <td>2</td>\n      <td>61</td>\n      <td>15.0</td>\n    </tr>\n    <tr>\n      <th>1</th>\n      <td>23</td>\n      <td>5</td>\n      <td>1</td>\n      <td>3090</td>\n      <td>134</td>\n      <td>0</td>\n      <td>1</td>\n      <td>1</td>\n      <td>74</td>\n      <td>50.0</td>\n    </tr>\n    <tr>\n      <th>2</th>\n      <td>19</td>\n      <td>1</td>\n      <td>3</td>\n      <td>9645</td>\n      <td>26</td>\n      <td>2</td>\n      <td>1</td>\n      <td>2</td>\n      <td>59</td>\n      <td>40.0</td>\n    </tr>\n    <tr>\n      <th>3</th>\n      <td>14</td>\n      <td>2</td>\n      <td>5</td>\n      <td>4251</td>\n      <td>5</td>\n      <td>16</td>\n      <td>1</td>\n      <td>1</td>\n      <td>17</td>\n      <td>18.0</td>\n    </tr>\n    <tr>\n      <th>4</th>\n      <td>21</td>\n      <td>1</td>\n      <td>1</td>\n      <td>1021</td>\n      <td>217</td>\n      <td>1</td>\n      <td>1</td>\n      <td>6</td>\n      <td>33</td>\n      <td>45.0</td>\n    </tr>\n  </tbody>\n</table>\n</div>"
     },
     "execution_count": 16,
     "metadata": {},
     "output_type": "execute_result"
    }
   ],
   "source": [
    "data_loader_poor = ACSIncomeDataset(state=['WV', 'MS', 'AR', 'NM', 'LA', 'AL', 'KY'], year=2018, with_nulls=False,\n",
    "                                    subsample_size=100_000, subsample_seed=42)\n",
    "data_loader_poor.X_data.head()"
   ]
  },
  {
   "cell_type": "code",
   "execution_count": 17,
   "id": "cac8bede",
   "metadata": {
    "ExecuteTime": {
     "end_time": "2023-10-18T11:18:59.949415Z",
     "start_time": "2023-10-18T11:18:59.891039Z"
    }
   },
   "outputs": [
    {
     "data": {
      "text/plain": "(100000, 10)"
     },
     "execution_count": 17,
     "metadata": {},
     "output_type": "execute_result"
    }
   ],
   "source": [
    "data_loader_poor.X_data.shape"
   ]
  },
  {
   "cell_type": "code",
   "execution_count": 18,
   "id": "0410c54a",
   "metadata": {
    "ExecuteTime": {
     "end_time": "2023-10-18T11:18:59.958879Z",
     "start_time": "2023-10-18T11:18:59.917650Z"
    }
   },
   "outputs": [],
   "source": [
    "extra_data_loaders = [data_loader_poor]"
   ]
  },
  {
   "cell_type": "markdown",
   "id": "beb4ca58",
   "metadata": {},
   "source": [
    "## Run experiment iterations"
   ]
  },
  {
   "cell_type": "markdown",
   "id": "be2b1936",
   "metadata": {},
   "source": [
    "### Experiment iteration 1"
   ]
  },
  {
   "cell_type": "code",
   "execution_count": 19,
   "id": "f18aeffa",
   "metadata": {
    "ExecuteTime": {
     "end_time": "2023-10-18T11:18:59.973850Z",
     "start_time": "2023-10-18T11:18:59.940479Z"
    }
   },
   "outputs": [],
   "source": [
    "# tuned_params_filenames = ['tuning_results_Folktables_NY_2018_Employment_alpha_0.8_20230706__115508.csv']\n",
    "# tuned_params_df_paths = [os.path.join(ROOT_DIR, 'results', EXPERIMENT_NAME, tuned_params_filename)\n",
    "#                          for tuned_params_filename in tuned_params_filenames]"
   ]
  },
  {
   "cell_type": "code",
   "execution_count": 20,
   "id": "5bda729b",
   "metadata": {
    "ExecuteTime": {
     "end_time": "2023-10-18T11:19:00.023397Z",
     "start_time": "2023-10-18T11:18:59.962459Z"
    }
   },
   "outputs": [],
   "source": [
    "# Configs for an experiment iteration\n",
    "exp_iter_num = 1\n",
    "experiment_seed = EXPERIMENT_SEEDS[exp_iter_num - 1]\n",
    "custom_table_fields_dct['experiment_iteration'] = f'Exp_iter_{exp_iter_num}'\n",
    "\n",
    "exp_iter_data_loader = copy.deepcopy(data_loader_rich)  # Add deepcopy to avoid data leakage\n",
    "exp_extra_data_loaders = copy.deepcopy(extra_data_loaders)  # Add deepcopy to avoid data leakage\n",
    "models_params_for_tuning = get_folktables_employment_models_params_for_tuning(experiment_seed)"
   ]
  },
  {
   "cell_type": "code",
   "execution_count": 21,
   "id": "e60d9216",
   "metadata": {
    "ExecuteTime": {
     "end_time": "2023-10-18T11:25:26.886638Z",
     "start_time": "2023-10-18T11:19:00.023833Z"
    }
   },
   "outputs": [
    {
     "name": "stderr",
     "output_type": "stream",
     "text": [
      "2023-10-18 14:19:00 experiment_interface.py INFO    : Start an experiment iteration for the following custom params:\n"
     ]
    },
    {
     "name": "stdout",
     "output_type": "stream",
     "text": [
      "{'dataset_split_seed': 100,\n",
      " 'experiment_iteration': 'Exp_iter_1',\n",
      " 'fair_intervention_params_lst': '[0.7]',\n",
      " 'model_init_seed': 100,\n",
      " 'session_uuid': '9b899f2c-978a-49e9-8b68-17377f123a57'}\n",
      "\n",
      "X_train_val.shape --  (10000, 9)\n",
      "X_test.shape --  (10000, 9)\n",
      "full_df.shape --  (20000, 9)\n",
      "X_train_val display:\n"
     ]
    },
    {
     "data": {
      "text/plain": "      SCHL COW MAR  OCCP POBP RELP  AGEP  WKHP  RACE\n69976   20   1   1  8300   25    0    58  31.0     1\n19372   20   1   3  9050   17    0    57  30.0     1\n34404   16   1   5  5350   34    2    20  30.0     1\n45923   15   1   5  8000    1    0    54  40.0     0\n59143   21   1   5  3310   25    2    32  10.0     1\n57651   16   1   5  4720   42    2    18  16.0     1\n20972   21   7   1  4760   25    1    68  48.0     1\n73179   21   1   1  5120   34    0    31  40.0     1\n93151   18   6   5  5110   25   15    56  10.0     1\n103     22   1   1  3550   42    1    47  40.0     1",
      "text/html": "<div>\n<style scoped>\n    .dataframe tbody tr th:only-of-type {\n        vertical-align: middle;\n    }\n\n    .dataframe tbody tr th {\n        vertical-align: top;\n    }\n\n    .dataframe thead th {\n        text-align: right;\n    }\n</style>\n<table border=\"1\" class=\"dataframe\">\n  <thead>\n    <tr style=\"text-align: right;\">\n      <th></th>\n      <th>SCHL</th>\n      <th>COW</th>\n      <th>MAR</th>\n      <th>OCCP</th>\n      <th>POBP</th>\n      <th>RELP</th>\n      <th>AGEP</th>\n      <th>WKHP</th>\n      <th>RACE</th>\n    </tr>\n  </thead>\n  <tbody>\n    <tr>\n      <th>69976</th>\n      <td>20</td>\n      <td>1</td>\n      <td>1</td>\n      <td>8300</td>\n      <td>25</td>\n      <td>0</td>\n      <td>58</td>\n      <td>31.0</td>\n      <td>1</td>\n    </tr>\n    <tr>\n      <th>19372</th>\n      <td>20</td>\n      <td>1</td>\n      <td>3</td>\n      <td>9050</td>\n      <td>17</td>\n      <td>0</td>\n      <td>57</td>\n      <td>30.0</td>\n      <td>1</td>\n    </tr>\n    <tr>\n      <th>34404</th>\n      <td>16</td>\n      <td>1</td>\n      <td>5</td>\n      <td>5350</td>\n      <td>34</td>\n      <td>2</td>\n      <td>20</td>\n      <td>30.0</td>\n      <td>1</td>\n    </tr>\n    <tr>\n      <th>45923</th>\n      <td>15</td>\n      <td>1</td>\n      <td>5</td>\n      <td>8000</td>\n      <td>1</td>\n      <td>0</td>\n      <td>54</td>\n      <td>40.0</td>\n      <td>0</td>\n    </tr>\n    <tr>\n      <th>59143</th>\n      <td>21</td>\n      <td>1</td>\n      <td>5</td>\n      <td>3310</td>\n      <td>25</td>\n      <td>2</td>\n      <td>32</td>\n      <td>10.0</td>\n      <td>1</td>\n    </tr>\n    <tr>\n      <th>57651</th>\n      <td>16</td>\n      <td>1</td>\n      <td>5</td>\n      <td>4720</td>\n      <td>42</td>\n      <td>2</td>\n      <td>18</td>\n      <td>16.0</td>\n      <td>1</td>\n    </tr>\n    <tr>\n      <th>20972</th>\n      <td>21</td>\n      <td>7</td>\n      <td>1</td>\n      <td>4760</td>\n      <td>25</td>\n      <td>1</td>\n      <td>68</td>\n      <td>48.0</td>\n      <td>1</td>\n    </tr>\n    <tr>\n      <th>73179</th>\n      <td>21</td>\n      <td>1</td>\n      <td>1</td>\n      <td>5120</td>\n      <td>34</td>\n      <td>0</td>\n      <td>31</td>\n      <td>40.0</td>\n      <td>1</td>\n    </tr>\n    <tr>\n      <th>93151</th>\n      <td>18</td>\n      <td>6</td>\n      <td>5</td>\n      <td>5110</td>\n      <td>25</td>\n      <td>15</td>\n      <td>56</td>\n      <td>10.0</td>\n      <td>1</td>\n    </tr>\n    <tr>\n      <th>103</th>\n      <td>22</td>\n      <td>1</td>\n      <td>1</td>\n      <td>3550</td>\n      <td>42</td>\n      <td>1</td>\n      <td>47</td>\n      <td>40.0</td>\n      <td>1</td>\n    </tr>\n  </tbody>\n</table>\n</div>"
     },
     "metadata": {},
     "output_type": "display_data"
    },
    {
     "name": "stdout",
     "output_type": "stream",
     "text": [
      "full_df display:\n"
     ]
    },
    {
     "data": {
      "text/plain": "      SCHL COW MAR  OCCP POBP RELP  AGEP  WKHP  RACE\n69976   20   1   1  8300   25    0    58  31.0     1\n19372   20   1   3  9050   17    0    57  30.0     1\n34404   16   1   5  5350   34    2    20  30.0     1\n45923   15   1   5  8000    1    0    54  40.0     0\n59143   21   1   5  3310   25    2    32  10.0     1\n57651   16   1   5  4720   42    2    18  16.0     1\n20972   21   7   1  4760   25    1    68  48.0     1\n73179   21   1   1  5120   34    0    31  40.0     1\n93151   18   6   5  5110   25   15    56  10.0     1\n103     22   1   1  3550   42    1    47  40.0     1",
      "text/html": "<div>\n<style scoped>\n    .dataframe tbody tr th:only-of-type {\n        vertical-align: middle;\n    }\n\n    .dataframe tbody tr th {\n        vertical-align: top;\n    }\n\n    .dataframe thead th {\n        text-align: right;\n    }\n</style>\n<table border=\"1\" class=\"dataframe\">\n  <thead>\n    <tr style=\"text-align: right;\">\n      <th></th>\n      <th>SCHL</th>\n      <th>COW</th>\n      <th>MAR</th>\n      <th>OCCP</th>\n      <th>POBP</th>\n      <th>RELP</th>\n      <th>AGEP</th>\n      <th>WKHP</th>\n      <th>RACE</th>\n    </tr>\n  </thead>\n  <tbody>\n    <tr>\n      <th>69976</th>\n      <td>20</td>\n      <td>1</td>\n      <td>1</td>\n      <td>8300</td>\n      <td>25</td>\n      <td>0</td>\n      <td>58</td>\n      <td>31.0</td>\n      <td>1</td>\n    </tr>\n    <tr>\n      <th>19372</th>\n      <td>20</td>\n      <td>1</td>\n      <td>3</td>\n      <td>9050</td>\n      <td>17</td>\n      <td>0</td>\n      <td>57</td>\n      <td>30.0</td>\n      <td>1</td>\n    </tr>\n    <tr>\n      <th>34404</th>\n      <td>16</td>\n      <td>1</td>\n      <td>5</td>\n      <td>5350</td>\n      <td>34</td>\n      <td>2</td>\n      <td>20</td>\n      <td>30.0</td>\n      <td>1</td>\n    </tr>\n    <tr>\n      <th>45923</th>\n      <td>15</td>\n      <td>1</td>\n      <td>5</td>\n      <td>8000</td>\n      <td>1</td>\n      <td>0</td>\n      <td>54</td>\n      <td>40.0</td>\n      <td>0</td>\n    </tr>\n    <tr>\n      <th>59143</th>\n      <td>21</td>\n      <td>1</td>\n      <td>5</td>\n      <td>3310</td>\n      <td>25</td>\n      <td>2</td>\n      <td>32</td>\n      <td>10.0</td>\n      <td>1</td>\n    </tr>\n    <tr>\n      <th>57651</th>\n      <td>16</td>\n      <td>1</td>\n      <td>5</td>\n      <td>4720</td>\n      <td>42</td>\n      <td>2</td>\n      <td>18</td>\n      <td>16.0</td>\n      <td>1</td>\n    </tr>\n    <tr>\n      <th>20972</th>\n      <td>21</td>\n      <td>7</td>\n      <td>1</td>\n      <td>4760</td>\n      <td>25</td>\n      <td>1</td>\n      <td>68</td>\n      <td>48.0</td>\n      <td>1</td>\n    </tr>\n    <tr>\n      <th>73179</th>\n      <td>21</td>\n      <td>1</td>\n      <td>1</td>\n      <td>5120</td>\n      <td>34</td>\n      <td>0</td>\n      <td>31</td>\n      <td>40.0</td>\n      <td>1</td>\n    </tr>\n    <tr>\n      <th>93151</th>\n      <td>18</td>\n      <td>6</td>\n      <td>5</td>\n      <td>5110</td>\n      <td>25</td>\n      <td>15</td>\n      <td>56</td>\n      <td>10.0</td>\n      <td>1</td>\n    </tr>\n    <tr>\n      <th>103</th>\n      <td>22</td>\n      <td>1</td>\n      <td>1</td>\n      <td>3550</td>\n      <td>42</td>\n      <td>1</td>\n      <td>47</td>\n      <td>40.0</td>\n      <td>1</td>\n    </tr>\n  </tbody>\n</table>\n</div>"
     },
     "metadata": {},
     "output_type": "display_data"
    },
    {
     "name": "stdout",
     "output_type": "stream",
     "text": [
      "main_base_flow_dataset.init_features_df.shape --  (20000, 10)\n"
     ]
    },
    {
     "name": "stderr",
     "output_type": "stream",
     "text": [
      "2023-10-18 14:19:00 experiment_interface.py INFO    : The dataset is preprocessed\n"
     ]
    },
    {
     "name": "stdout",
     "output_type": "stream",
     "text": [
      "Top indexes of an X_test in a base flow dataset:  Int64Index([22422, 25747, 13795, 68724, 38923, 43064, 86918, 71138, 82508,\n",
      "            89200, 55279,  7966, 83751, 37701,  2718, 65519, 77797,  8956,\n",
      "            33713, 34621],\n",
      "           dtype='int64')\n",
      "Top indexes of an y_test in a base flow dataset:  Int64Index([22422, 25747, 13795, 68724, 38923, 43064, 86918, 71138, 82508,\n",
      "            89200, 55279,  7966, 83751, 37701,  2718, 65519, 77797,  8956,\n",
      "            33713, 34621],\n",
      "           dtype='int64')\n"
     ]
    },
    {
     "data": {
      "text/plain": "Multiple alphas:   0%|          | 0/1 [00:00<?, ?it/s]",
      "application/vnd.jupyter.widget-view+json": {
       "version_major": 2,
       "version_minor": 0,
       "model_id": "d1766627fac24445be0d4ddeffa7ea17"
      }
     },
     "metadata": {},
     "output_type": "display_data"
    },
    {
     "name": "stdout",
     "output_type": "stream",
     "text": [
      "intervention_param:  0.7\n",
      "cur_extra_test_sets[0].shape --  (100000, 730)\n",
      "2023/10/18, 14:23:45: Tuning RandomForestClassifier...\n"
     ]
    },
    {
     "name": "stderr",
     "output_type": "stream",
     "text": [
      "2023-10-18 14:23:48 experiment_interface.py INFO    : Models are tuned and saved to a file\n"
     ]
    },
    {
     "name": "stdout",
     "output_type": "stream",
     "text": [
      "2023/10/18, 14:23:48: Tuning for RandomForestClassifier is finished [F1 score = 0.635297136421543, Accuracy = 0.6933693369336934]\n"
     ]
    },
    {
     "data": {
      "text/plain": "Analyze models in one run:   0%|          | 0/1 [00:00<?, ?it/s]",
      "application/vnd.jupyter.widget-view+json": {
       "version_major": 2,
       "version_minor": 0,
       "model_id": "42e44527aea540fb9c19b4345d084085"
      }
     },
     "metadata": {},
     "output_type": "display_data"
    },
    {
     "data": {
      "text/plain": "Classifiers testing by bootstrap:   0%|          | 0/2 [00:00<?, ?it/s]",
      "application/vnd.jupyter.widget-view+json": {
       "version_major": 2,
       "version_minor": 0,
       "model_id": "9c76cb96bb4a4d229de1dbc940c41548"
      }
     },
     "metadata": {},
     "output_type": "display_data"
    }
   ],
   "source": [
    "run_exp_iter_with_disparate_impact_and_mult_sets(data_loader=exp_iter_data_loader,\n",
    "                                                 extra_data_loaders=exp_extra_data_loaders,\n",
    "                                                 experiment_seed=experiment_seed,\n",
    "                                                 test_set_fraction=TEST_SET_FRACTION,\n",
    "                                                 db_writer_func=db_writer_func,\n",
    "                                                 fair_intervention_params_lst=FAIR_INTERVENTION_PARAMS_LST,\n",
    "                                                 models_params_for_tuning=models_params_for_tuning,\n",
    "                                                 metrics_computation_config=metrics_computation_config,\n",
    "                                                 custom_table_fields_dct=custom_table_fields_dct,\n",
    "                                                 with_tuning=True,\n",
    "                                                 # with_tuning=False,\n",
    "                                                 # tuned_params_df_paths=tuned_params_df_paths,\n",
    "                                                 save_results_dir_path=SAVE_RESULTS_DIR_PATH,\n",
    "                                                 samples_per_fold=SAMPLES_PER_FOLD_FOR_TUNING,\n",
    "                                                 train_set_subsample_size=TRAIN_SET_SUBSAMPLE_SIZE,\n",
    "                                                 verbose=True)"
   ]
  },
  {
   "cell_type": "markdown",
   "id": "95595ebc",
   "metadata": {},
   "source": [
    "### Experiment iteration 2"
   ]
  },
  {
   "cell_type": "markdown",
   "id": "50241653",
   "metadata": {},
   "source": [
    "### Experiment iteration 3"
   ]
  },
  {
   "cell_type": "markdown",
   "id": "4eab6aef",
   "metadata": {},
   "source": [
    "### Experiment iteration 4"
   ]
  },
  {
   "cell_type": "markdown",
   "id": "6334d653",
   "metadata": {},
   "source": [
    "### Experiment iteration 5"
   ]
  },
  {
   "cell_type": "markdown",
   "id": "94d4a072",
   "metadata": {},
   "source": [
    "### Experiment iteration 6"
   ]
  },
  {
   "cell_type": "code",
   "execution_count": 21,
   "id": "56362633",
   "metadata": {
    "ExecuteTime": {
     "end_time": "2023-10-18T11:25:26.890046Z",
     "start_time": "2023-10-18T11:25:26.886362Z"
    }
   },
   "outputs": [],
   "source": []
  }
 ],
 "metadata": {
  "kernelspec": {
   "display_name": "Python 3",
   "language": "python",
   "name": "python3"
  },
  "language_info": {
   "codemirror_mode": {
    "name": "ipython",
    "version": 3
   },
   "file_extension": ".py",
   "mimetype": "text/x-python",
   "name": "python",
   "nbconvert_exporter": "python",
   "pygments_lexer": "ipython3",
   "version": "3.8.5"
  }
 },
 "nbformat": 4,
 "nbformat_minor": 5
}
