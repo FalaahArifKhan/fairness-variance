{
 "cells": [
  {
   "cell_type": "code",
   "execution_count": 1,
   "id": "3a46d981",
   "metadata": {
    "ExecuteTime": {
     "end_time": "2023-10-21T14:39:11.939958Z",
     "start_time": "2023-10-21T14:39:11.821815Z"
    }
   },
   "outputs": [],
   "source": [
    "# !pip install -r ./requirements.txt"
   ]
  },
  {
   "cell_type": "code",
   "execution_count": 2,
   "id": "27a05649",
   "metadata": {
    "ExecuteTime": {
     "end_time": "2023-10-21T14:39:11.940191Z",
     "start_time": "2023-10-21T14:39:11.823392Z"
    }
   },
   "outputs": [],
   "source": [
    "# !pip uninstall virny -y"
   ]
  },
  {
   "cell_type": "code",
   "execution_count": 3,
   "id": "226d181f",
   "metadata": {
    "ExecuteTime": {
     "end_time": "2023-10-21T14:39:11.940246Z",
     "start_time": "2023-10-21T14:39:11.826594Z"
    }
   },
   "outputs": [],
   "source": [
    "# Install using an HTTP link\n",
    "# !pip install git+https://github.com/DataResponsibly/Virny.git@development\n",
    "\n",
    "# Install using an SSH link\n",
    "# !pip install git+ssh://git@github.com/DataResponsibly/Virny.git@development"
   ]
  },
  {
   "cell_type": "code",
   "execution_count": 4,
   "id": "06c7cc86",
   "metadata": {
    "ExecuteTime": {
     "end_time": "2023-10-21T14:39:11.940308Z",
     "start_time": "2023-10-21T14:39:11.828707Z"
    }
   },
   "outputs": [],
   "source": [
    "# !pip install aif360"
   ]
  },
  {
   "cell_type": "code",
   "execution_count": 5,
   "id": "d6dcd25d",
   "metadata": {
    "ExecuteTime": {
     "end_time": "2023-10-21T14:39:11.991523Z",
     "start_time": "2023-10-21T14:39:11.830819Z"
    }
   },
   "outputs": [],
   "source": [
    "# !pip install BlackBoxAuditing==0.1.54"
   ]
  },
  {
   "cell_type": "code",
   "execution_count": 6,
   "id": "f9005144",
   "metadata": {
    "ExecuteTime": {
     "end_time": "2023-10-21T14:39:12.189165Z",
     "start_time": "2023-10-21T14:39:11.832919Z"
    }
   },
   "outputs": [],
   "source": [
    "%matplotlib inline\n",
    "%load_ext autoreload\n",
    "%autoreload 2"
   ]
  },
  {
   "cell_type": "code",
   "execution_count": 7,
   "id": "acfc3143",
   "metadata": {
    "ExecuteTime": {
     "end_time": "2023-10-21T14:39:12.198434Z",
     "start_time": "2023-10-21T14:39:12.189517Z"
    }
   },
   "outputs": [],
   "source": [
    "import os\n",
    "import warnings\n",
    "warnings.filterwarnings('ignore')\n",
    "os.environ[\"PYTHONWARNINGS\"] = \"ignore\""
   ]
  },
  {
   "cell_type": "code",
   "execution_count": 8,
   "id": "f5e1d089",
   "metadata": {
    "ExecuteTime": {
     "end_time": "2023-10-21T14:39:12.209264Z",
     "start_time": "2023-10-21T14:39:12.198729Z"
    }
   },
   "outputs": [
    {
     "name": "stdout",
     "output_type": "stream",
     "text": [
      "Current location:  /Users/denys_herasymuk/UCU/4course_2term/Bachelor_Thesis/Code/fairness-variance\n"
     ]
    }
   ],
   "source": [
    "cur_folder_name = os.getcwd().split('/')[-1]\n",
    "if cur_folder_name != \"fairness-variance\":\n",
    "    os.chdir(\"../..\")\n",
    "\n",
    "print('Current location: ', os.getcwd())"
   ]
  },
  {
   "cell_type": "markdown",
   "id": "1b669d78",
   "metadata": {},
   "source": [
    "## Import dependencies"
   ]
  },
  {
   "cell_type": "code",
   "execution_count": 9,
   "id": "e1c0dc45",
   "metadata": {
    "ExecuteTime": {
     "end_time": "2023-10-21T14:39:13.529009Z",
     "start_time": "2023-10-21T14:39:12.208382Z"
    }
   },
   "outputs": [
    {
     "name": "stderr",
     "output_type": "stream",
     "text": [
      "WARNING:root:No module named 'tempeh': LawSchoolGPADataset will be unavailable. To install, run:\n",
      "pip install 'aif360[LawSchoolGPA]'\n",
      "WARNING:root:No module named 'tensorflow': AdversarialDebiasing will be unavailable. To install, run:\n",
      "pip install 'aif360[AdversarialDebiasing]'\n",
      "WARNING:root:No module named 'tensorflow': AdversarialDebiasing will be unavailable. To install, run:\n",
      "pip install 'aif360[AdversarialDebiasing]'\n"
     ]
    }
   ],
   "source": [
    "import os\n",
    "import copy\n",
    "\n",
    "from virny.utils.custom_initializers import create_config_obj\n",
    "from virny.datasets import ACSIncomeDataset\n",
    "\n",
    "from configs.constants import TEST_SET_FRACTION, EXPERIMENT_SEEDS\n",
    "from configs.models_config_for_tuning import get_folktables_employment_models_params_for_tuning\n",
    "\n",
    "from source.experiment_interface import run_exp_iter_with_disparate_impact_and_mult_sets"
   ]
  },
  {
   "cell_type": "markdown",
   "id": "b90ad32e",
   "metadata": {},
   "source": [
    "## Define Input Variables"
   ]
  },
  {
   "cell_type": "code",
   "execution_count": 10,
   "id": "e3bb4756",
   "metadata": {
    "ExecuteTime": {
     "end_time": "2023-10-21T14:39:13.558108Z",
     "start_time": "2023-10-21T14:39:13.532785Z"
    }
   },
   "outputs": [],
   "source": [
    "# ROOT_DIR = os.path.join(os.getcwd(), \"..\", \"..\")\n",
    "ROOT_DIR = os.getcwd()\n",
    "EXPERIMENT_NAME = 'out_of_domain_uncertainty_rich_income_10K'\n",
    "DB_COLLECTION_NAME = 'out_of_domain_uncertainty'\n",
    "SAVE_RESULTS_DIR_PATH = os.path.join(ROOT_DIR, 'results', EXPERIMENT_NAME)\n",
    "FAIR_INTERVENTION_PARAMS_LST = [0.7]\n",
    "TRAIN_SET_SUBSAMPLE_SIZE = 10_000\n",
    "SAMPLES_PER_FOLD_FOR_TUNING = TRAIN_SET_SUBSAMPLE_SIZE // 3\n",
    "\n",
    "config_yaml_path = os.path.join(ROOT_DIR, 'notebooks', EXPERIMENT_NAME, 'rich_income_2018_config.yaml')\n",
    "metrics_computation_config = create_config_obj(config_yaml_path=config_yaml_path)"
   ]
  },
  {
   "cell_type": "markdown",
   "id": "7454c5aa",
   "metadata": {},
   "source": [
    "## Define a db writer and custom fields to insert into your database"
   ]
  },
  {
   "cell_type": "code",
   "execution_count": 11,
   "id": "803a6cdd",
   "metadata": {
    "ExecuteTime": {
     "end_time": "2023-10-21T14:39:13.595757Z",
     "start_time": "2023-10-21T14:39:13.556385Z"
    }
   },
   "outputs": [
    {
     "data": {
      "text/plain": "'fairness_variance'"
     },
     "execution_count": 11,
     "metadata": {},
     "output_type": "execute_result"
    }
   ],
   "source": [
    "import os\n",
    "from dotenv import load_dotenv\n",
    "\n",
    "load_dotenv('./configs/secrets.env')\n",
    "os.getenv(\"DB_NAME\")"
   ]
  },
  {
   "cell_type": "code",
   "execution_count": 12,
   "id": "b6141032",
   "metadata": {
    "ExecuteTime": {
     "end_time": "2023-10-21T14:39:13.910167Z",
     "start_time": "2023-10-21T14:39:13.581857Z"
    }
   },
   "outputs": [],
   "source": [
    "from source.utils.db_functions import connect_to_mongodb\n",
    "\n",
    "client, collection_obj, db_writer_func = connect_to_mongodb(DB_COLLECTION_NAME)"
   ]
  },
  {
   "cell_type": "code",
   "execution_count": 13,
   "id": "6d369e0d",
   "metadata": {
    "ExecuteTime": {
     "end_time": "2023-10-21T14:39:13.948441Z",
     "start_time": "2023-10-21T14:39:13.910432Z"
    }
   },
   "outputs": [
    {
     "name": "stdout",
     "output_type": "stream",
     "text": [
      "Current session uuid:  7b6c6e54-9a73-40c5-97ce-1d36d8734d26\n"
     ]
    }
   ],
   "source": [
    "import uuid\n",
    "\n",
    "custom_table_fields_dct = {\n",
    "    # 'session_uuid': str(uuid.uuid4()),\n",
    "    'session_uuid': '7b6c6e54-9a73-40c5-97ce-1d36d8734d26',\n",
    "}\n",
    "print('Current session uuid: ', custom_table_fields_dct['session_uuid'])"
   ]
  },
  {
   "cell_type": "markdown",
   "id": "d7cdb8ef",
   "metadata": {},
   "source": [
    "## Initialize custom objects"
   ]
  },
  {
   "cell_type": "code",
   "execution_count": 14,
   "id": "c4d3a49c",
   "metadata": {
    "ExecuteTime": {
     "end_time": "2023-10-21T14:39:17.133342Z",
     "start_time": "2023-10-21T14:39:13.932143Z"
    }
   },
   "outputs": [
    {
     "data": {
      "text/plain": "  SCHL COW MAR  OCCP POBP RELP SEX RAC1P  AGEP  WKHP\n0   20   1   1  4000   25    1   1     1    44  60.0\n1   15   1   4  4030  329    0   2     8    37  40.0\n2   22   1   1   735  128    0   1     1    64  45.0\n3   21   1   1  4810   51    0   2     1    61  23.0\n4   23   1   1  1760  202    1   1     6    46  45.0",
      "text/html": "<div>\n<style scoped>\n    .dataframe tbody tr th:only-of-type {\n        vertical-align: middle;\n    }\n\n    .dataframe tbody tr th {\n        vertical-align: top;\n    }\n\n    .dataframe thead th {\n        text-align: right;\n    }\n</style>\n<table border=\"1\" class=\"dataframe\">\n  <thead>\n    <tr style=\"text-align: right;\">\n      <th></th>\n      <th>SCHL</th>\n      <th>COW</th>\n      <th>MAR</th>\n      <th>OCCP</th>\n      <th>POBP</th>\n      <th>RELP</th>\n      <th>SEX</th>\n      <th>RAC1P</th>\n      <th>AGEP</th>\n      <th>WKHP</th>\n    </tr>\n  </thead>\n  <tbody>\n    <tr>\n      <th>0</th>\n      <td>20</td>\n      <td>1</td>\n      <td>1</td>\n      <td>4000</td>\n      <td>25</td>\n      <td>1</td>\n      <td>1</td>\n      <td>1</td>\n      <td>44</td>\n      <td>60.0</td>\n    </tr>\n    <tr>\n      <th>1</th>\n      <td>15</td>\n      <td>1</td>\n      <td>4</td>\n      <td>4030</td>\n      <td>329</td>\n      <td>0</td>\n      <td>2</td>\n      <td>8</td>\n      <td>37</td>\n      <td>40.0</td>\n    </tr>\n    <tr>\n      <th>2</th>\n      <td>22</td>\n      <td>1</td>\n      <td>1</td>\n      <td>735</td>\n      <td>128</td>\n      <td>0</td>\n      <td>1</td>\n      <td>1</td>\n      <td>64</td>\n      <td>45.0</td>\n    </tr>\n    <tr>\n      <th>3</th>\n      <td>21</td>\n      <td>1</td>\n      <td>1</td>\n      <td>4810</td>\n      <td>51</td>\n      <td>0</td>\n      <td>2</td>\n      <td>1</td>\n      <td>61</td>\n      <td>23.0</td>\n    </tr>\n    <tr>\n      <th>4</th>\n      <td>23</td>\n      <td>1</td>\n      <td>1</td>\n      <td>1760</td>\n      <td>202</td>\n      <td>1</td>\n      <td>1</td>\n      <td>6</td>\n      <td>46</td>\n      <td>45.0</td>\n    </tr>\n  </tbody>\n</table>\n</div>"
     },
     "execution_count": 14,
     "metadata": {},
     "output_type": "execute_result"
    }
   ],
   "source": [
    "data_loader_rich = ACSIncomeDataset(state=['MD', 'NJ', 'MA'], year=2018, with_nulls=False,\n",
    "                                    subsample_size=100_000, subsample_seed=42)\n",
    "data_loader_rich.X_data.head()"
   ]
  },
  {
   "cell_type": "code",
   "execution_count": 15,
   "id": "fedb8440",
   "metadata": {
    "ExecuteTime": {
     "end_time": "2023-10-21T14:39:17.161158Z",
     "start_time": "2023-10-21T14:39:17.132969Z"
    }
   },
   "outputs": [
    {
     "data": {
      "text/plain": "(100000, 10)"
     },
     "execution_count": 15,
     "metadata": {},
     "output_type": "execute_result"
    }
   ],
   "source": [
    "data_loader_rich.X_data.shape"
   ]
  },
  {
   "cell_type": "code",
   "execution_count": 16,
   "id": "d9671e8f",
   "metadata": {
    "ExecuteTime": {
     "end_time": "2023-10-21T14:39:20.242171Z",
     "start_time": "2023-10-21T14:39:17.157439Z"
    }
   },
   "outputs": [
    {
     "data": {
      "text/plain": "  SCHL COW MAR  OCCP POBP RELP SEX RAC1P  AGEP  WKHP\n0   16   1   3  4230    1    0   2     2    61  15.0\n1   23   5   1  3090  134    0   1     1    74  50.0\n2   19   1   3  9645   26    2   1     2    59  40.0\n3   14   2   5  4251    5   16   1     1    17  18.0\n4   21   1   1  1021  217    1   1     6    33  45.0",
      "text/html": "<div>\n<style scoped>\n    .dataframe tbody tr th:only-of-type {\n        vertical-align: middle;\n    }\n\n    .dataframe tbody tr th {\n        vertical-align: top;\n    }\n\n    .dataframe thead th {\n        text-align: right;\n    }\n</style>\n<table border=\"1\" class=\"dataframe\">\n  <thead>\n    <tr style=\"text-align: right;\">\n      <th></th>\n      <th>SCHL</th>\n      <th>COW</th>\n      <th>MAR</th>\n      <th>OCCP</th>\n      <th>POBP</th>\n      <th>RELP</th>\n      <th>SEX</th>\n      <th>RAC1P</th>\n      <th>AGEP</th>\n      <th>WKHP</th>\n    </tr>\n  </thead>\n  <tbody>\n    <tr>\n      <th>0</th>\n      <td>16</td>\n      <td>1</td>\n      <td>3</td>\n      <td>4230</td>\n      <td>1</td>\n      <td>0</td>\n      <td>2</td>\n      <td>2</td>\n      <td>61</td>\n      <td>15.0</td>\n    </tr>\n    <tr>\n      <th>1</th>\n      <td>23</td>\n      <td>5</td>\n      <td>1</td>\n      <td>3090</td>\n      <td>134</td>\n      <td>0</td>\n      <td>1</td>\n      <td>1</td>\n      <td>74</td>\n      <td>50.0</td>\n    </tr>\n    <tr>\n      <th>2</th>\n      <td>19</td>\n      <td>1</td>\n      <td>3</td>\n      <td>9645</td>\n      <td>26</td>\n      <td>2</td>\n      <td>1</td>\n      <td>2</td>\n      <td>59</td>\n      <td>40.0</td>\n    </tr>\n    <tr>\n      <th>3</th>\n      <td>14</td>\n      <td>2</td>\n      <td>5</td>\n      <td>4251</td>\n      <td>5</td>\n      <td>16</td>\n      <td>1</td>\n      <td>1</td>\n      <td>17</td>\n      <td>18.0</td>\n    </tr>\n    <tr>\n      <th>4</th>\n      <td>21</td>\n      <td>1</td>\n      <td>1</td>\n      <td>1021</td>\n      <td>217</td>\n      <td>1</td>\n      <td>1</td>\n      <td>6</td>\n      <td>33</td>\n      <td>45.0</td>\n    </tr>\n  </tbody>\n</table>\n</div>"
     },
     "execution_count": 16,
     "metadata": {},
     "output_type": "execute_result"
    }
   ],
   "source": [
    "data_loader_poor = ACSIncomeDataset(state=['WV', 'MS', 'AR', 'NM', 'LA', 'AL', 'KY'], year=2018, with_nulls=False,\n",
    "                                    subsample_size=100_000, subsample_seed=42)\n",
    "data_loader_poor.X_data.head()"
   ]
  },
  {
   "cell_type": "code",
   "execution_count": 17,
   "id": "a9f9d6ed",
   "metadata": {
    "ExecuteTime": {
     "end_time": "2023-10-21T14:39:20.275583Z",
     "start_time": "2023-10-21T14:39:20.240986Z"
    }
   },
   "outputs": [
    {
     "data": {
      "text/plain": "(100000, 10)"
     },
     "execution_count": 17,
     "metadata": {},
     "output_type": "execute_result"
    }
   ],
   "source": [
    "data_loader_poor.X_data.shape"
   ]
  },
  {
   "cell_type": "code",
   "execution_count": 18,
   "id": "6705f0e5",
   "metadata": {
    "ExecuteTime": {
     "end_time": "2023-10-21T14:39:20.305051Z",
     "start_time": "2023-10-21T14:39:20.267215Z"
    }
   },
   "outputs": [],
   "source": [
    "extra_data_loaders = [data_loader_poor]"
   ]
  },
  {
   "cell_type": "markdown",
   "id": "bc98c6e6",
   "metadata": {},
   "source": [
    "## Run experiment iterations"
   ]
  },
  {
   "cell_type": "markdown",
   "id": "6aa26ef0",
   "metadata": {},
   "source": [
    "### Experiment iteration 1"
   ]
  },
  {
   "cell_type": "code",
   "execution_count": 19,
   "id": "13e02be6",
   "metadata": {
    "ExecuteTime": {
     "end_time": "2023-10-21T14:39:20.316446Z",
     "start_time": "2023-10-21T14:39:20.291954Z"
    }
   },
   "outputs": [],
   "source": [
    "# tuned_params_filenames = ['tuning_results_Folktables_NY_2018_Employment_alpha_0.8_20230706__115508.csv']\n",
    "# tuned_params_df_paths = [os.path.join(ROOT_DIR, 'results', EXPERIMENT_NAME, tuned_params_filename)\n",
    "#                          for tuned_params_filename in tuned_params_filenames]"
   ]
  },
  {
   "cell_type": "code",
   "execution_count": 20,
   "id": "884932f5",
   "metadata": {
    "ExecuteTime": {
     "end_time": "2023-10-21T14:39:20.362224Z",
     "start_time": "2023-10-21T14:39:20.315235Z"
    }
   },
   "outputs": [],
   "source": [
    "# Configs for an experiment iteration\n",
    "exp_iter_num = 1\n",
    "experiment_seed = EXPERIMENT_SEEDS[exp_iter_num - 1]\n",
    "custom_table_fields_dct['experiment_iteration'] = f'Exp_iter_{exp_iter_num}'\n",
    "\n",
    "exp_iter_data_loader = copy.deepcopy(data_loader_rich)  # Add deepcopy to avoid data leakage\n",
    "exp_extra_data_loaders = copy.deepcopy(extra_data_loaders)  # Add deepcopy to avoid data leakage\n",
    "models_params_for_tuning = get_folktables_employment_models_params_for_tuning(experiment_seed)"
   ]
  },
  {
   "cell_type": "code",
   "execution_count": 21,
   "id": "e16bea94",
   "metadata": {
    "ExecuteTime": {
     "end_time": "2023-10-21T14:40:54.977759Z",
     "start_time": "2023-10-21T14:39:20.362510Z"
    }
   },
   "outputs": [
    {
     "name": "stderr",
     "output_type": "stream",
     "text": [
      "2023-10-21 17:39:20 experiment_interface.py INFO    : Start an experiment iteration for the following custom params:\n"
     ]
    },
    {
     "name": "stdout",
     "output_type": "stream",
     "text": [
      "{'dataset_split_seed': 100,\n",
      " 'experiment_iteration': 'Exp_iter_1',\n",
      " 'fair_intervention_params_lst': '[0.7]',\n",
      " 'model_init_seed': 100,\n",
      " 'session_uuid': '7b6c6e54-9a73-40c5-97ce-1d36d8734d26'}\n"
     ]
    },
    {
     "name": "stderr",
     "output_type": "stream",
     "text": [
      "2023-10-21 17:39:20 experiment_interface.py INFO    : Start dataset preprocessing\n"
     ]
    },
    {
     "name": "stdout",
     "output_type": "stream",
     "text": [
      "In-domain full_df.shape --  (20000, 9)\n",
      "In-domain init_features_df.shape --  (20000, 10)\n",
      "In-domain X_train_val.shape --  (10000, 731)\n",
      "In-domain X_test.shape --  (10000, 731)\n"
     ]
    },
    {
     "name": "stderr",
     "output_type": "stream",
     "text": [
      "2023-10-21 17:39:20 experiment_interface.py INFO    : The dataset is preprocessed\n"
     ]
    },
    {
     "name": "stdout",
     "output_type": "stream",
     "text": [
      "Out-of-domain 1 init_features_df.shape --  (100000, 10)\n",
      "Out-of-domain 1 X_train_val.shape --  (0, 0)\n",
      "Out-of-domain 1 X_test.shape --  (10000, 731)\n"
     ]
    },
    {
     "data": {
      "text/plain": "Multiple alphas:   0%|          | 0/1 [00:00<?, ?it/s]",
      "application/vnd.jupyter.widget-view+json": {
       "version_major": 2,
       "version_minor": 0,
       "model_id": "b39570266b884c36b3021afdb9a7df7d"
      }
     },
     "metadata": {},
     "output_type": "display_data"
    },
    {
     "name": "stderr",
     "output_type": "stream",
     "text": [
      "2023-10-21 17:39:20 experiment_interface.py INFO    : Start fairness intervention\n"
     ]
    },
    {
     "name": "stdout",
     "output_type": "stream",
     "text": [
      "intervention_param:  0.7\n"
     ]
    },
    {
     "name": "stderr",
     "output_type": "stream",
     "text": [
      "2023-10-21 17:40:23 experiment_interface.py INFO    : Fairness intervention is completed\n"
     ]
    },
    {
     "name": "stdout",
     "output_type": "stream",
     "text": [
      "Shape of in-domain X_test (10000, 730)\n",
      "Top indexes of an X_test in an in-domain base flow dataset:  Int64Index([22422, 25747, 13795, 68724, 38923, 43064, 86918, 71138, 82508,\n",
      "            89200, 55279,  7966, 83751, 37701,  2718, 65519, 77797,  8956,\n",
      "            33713, 34621],\n",
      "           dtype='int64')\n",
      "Top indexes of an y_test in an in-domain base flow dataset:  Int64Index([22422, 25747, 13795, 68724, 38923, 43064, 86918, 71138, 82508,\n",
      "            89200, 55279,  7966, 83751, 37701,  2718, 65519, 77797,  8956,\n",
      "            33713, 34621],\n",
      "           dtype='int64')\n"
     ]
    },
    {
     "data": {
      "text/plain": "       cat__SCHL_1  cat__SCHL_10  cat__SCHL_11  cat__SCHL_12  cat__SCHL_13  \\\n22422          1.0           0.0           0.0           0.0           0.0   \n25747          0.0           0.0           0.0           0.0           0.0   \n13795          0.0           0.0           0.0           0.0           0.0   \n68724          0.0           0.0           0.0           0.0           0.0   \n38923          0.0           0.0           0.0           0.0           0.0   \n\n       cat__SCHL_14  cat__SCHL_15  cat__SCHL_16  cat__SCHL_17  cat__SCHL_18  \\\n22422           0.0           0.0           0.0           0.0           0.0   \n25747           0.0           0.0           1.0           0.0           0.0   \n13795           0.0           0.0           0.0           0.0           1.0   \n68724           0.0           0.0           0.0           0.0           0.0   \n38923           0.0           0.0           1.0           0.0           0.0   \n\n       ...  cat__RELP_2  cat__RELP_3  cat__RELP_4  cat__RELP_5  cat__RELP_6  \\\n22422  ...          0.0          0.0          0.0          0.0          0.0   \n25747  ...          0.0          0.0          0.0          0.0          0.0   \n13795  ...          0.0          0.0          0.0          0.0          0.0   \n68724  ...          0.0          0.0          0.0          0.0          0.0   \n38923  ...          0.0          0.0          0.0          0.0          0.0   \n\n       cat__RELP_7  cat__RELP_8  cat__RELP_9  num__AGEP  num__WKHP  \n22422          0.0          0.0          0.0   1.242279   0.148651  \n25747          0.0          0.0          0.0   1.501591  -2.274840  \n13795          0.0          0.0          0.0   0.334687   0.072917  \n68724          0.0          0.0          0.0  -1.480496  -0.608690  \n38923          0.0          0.0          0.0  -1.545324  -1.063095  \n\n[5 rows x 730 columns]",
      "text/html": "<div>\n<style scoped>\n    .dataframe tbody tr th:only-of-type {\n        vertical-align: middle;\n    }\n\n    .dataframe tbody tr th {\n        vertical-align: top;\n    }\n\n    .dataframe thead th {\n        text-align: right;\n    }\n</style>\n<table border=\"1\" class=\"dataframe\">\n  <thead>\n    <tr style=\"text-align: right;\">\n      <th></th>\n      <th>cat__SCHL_1</th>\n      <th>cat__SCHL_10</th>\n      <th>cat__SCHL_11</th>\n      <th>cat__SCHL_12</th>\n      <th>cat__SCHL_13</th>\n      <th>cat__SCHL_14</th>\n      <th>cat__SCHL_15</th>\n      <th>cat__SCHL_16</th>\n      <th>cat__SCHL_17</th>\n      <th>cat__SCHL_18</th>\n      <th>...</th>\n      <th>cat__RELP_2</th>\n      <th>cat__RELP_3</th>\n      <th>cat__RELP_4</th>\n      <th>cat__RELP_5</th>\n      <th>cat__RELP_6</th>\n      <th>cat__RELP_7</th>\n      <th>cat__RELP_8</th>\n      <th>cat__RELP_9</th>\n      <th>num__AGEP</th>\n      <th>num__WKHP</th>\n    </tr>\n  </thead>\n  <tbody>\n    <tr>\n      <th>22422</th>\n      <td>1.0</td>\n      <td>0.0</td>\n      <td>0.0</td>\n      <td>0.0</td>\n      <td>0.0</td>\n      <td>0.0</td>\n      <td>0.0</td>\n      <td>0.0</td>\n      <td>0.0</td>\n      <td>0.0</td>\n      <td>...</td>\n      <td>0.0</td>\n      <td>0.0</td>\n      <td>0.0</td>\n      <td>0.0</td>\n      <td>0.0</td>\n      <td>0.0</td>\n      <td>0.0</td>\n      <td>0.0</td>\n      <td>1.242279</td>\n      <td>0.148651</td>\n    </tr>\n    <tr>\n      <th>25747</th>\n      <td>0.0</td>\n      <td>0.0</td>\n      <td>0.0</td>\n      <td>0.0</td>\n      <td>0.0</td>\n      <td>0.0</td>\n      <td>0.0</td>\n      <td>1.0</td>\n      <td>0.0</td>\n      <td>0.0</td>\n      <td>...</td>\n      <td>0.0</td>\n      <td>0.0</td>\n      <td>0.0</td>\n      <td>0.0</td>\n      <td>0.0</td>\n      <td>0.0</td>\n      <td>0.0</td>\n      <td>0.0</td>\n      <td>1.501591</td>\n      <td>-2.274840</td>\n    </tr>\n    <tr>\n      <th>13795</th>\n      <td>0.0</td>\n      <td>0.0</td>\n      <td>0.0</td>\n      <td>0.0</td>\n      <td>0.0</td>\n      <td>0.0</td>\n      <td>0.0</td>\n      <td>0.0</td>\n      <td>0.0</td>\n      <td>1.0</td>\n      <td>...</td>\n      <td>0.0</td>\n      <td>0.0</td>\n      <td>0.0</td>\n      <td>0.0</td>\n      <td>0.0</td>\n      <td>0.0</td>\n      <td>0.0</td>\n      <td>0.0</td>\n      <td>0.334687</td>\n      <td>0.072917</td>\n    </tr>\n    <tr>\n      <th>68724</th>\n      <td>0.0</td>\n      <td>0.0</td>\n      <td>0.0</td>\n      <td>0.0</td>\n      <td>0.0</td>\n      <td>0.0</td>\n      <td>0.0</td>\n      <td>0.0</td>\n      <td>0.0</td>\n      <td>0.0</td>\n      <td>...</td>\n      <td>0.0</td>\n      <td>0.0</td>\n      <td>0.0</td>\n      <td>0.0</td>\n      <td>0.0</td>\n      <td>0.0</td>\n      <td>0.0</td>\n      <td>0.0</td>\n      <td>-1.480496</td>\n      <td>-0.608690</td>\n    </tr>\n    <tr>\n      <th>38923</th>\n      <td>0.0</td>\n      <td>0.0</td>\n      <td>0.0</td>\n      <td>0.0</td>\n      <td>0.0</td>\n      <td>0.0</td>\n      <td>0.0</td>\n      <td>1.0</td>\n      <td>0.0</td>\n      <td>0.0</td>\n      <td>...</td>\n      <td>0.0</td>\n      <td>0.0</td>\n      <td>0.0</td>\n      <td>0.0</td>\n      <td>0.0</td>\n      <td>0.0</td>\n      <td>0.0</td>\n      <td>0.0</td>\n      <td>-1.545324</td>\n      <td>-1.063095</td>\n    </tr>\n  </tbody>\n</table>\n<p>5 rows × 730 columns</p>\n</div>"
     },
     "metadata": {},
     "output_type": "display_data"
    },
    {
     "name": "stdout",
     "output_type": "stream",
     "text": [
      "\n",
      "\n",
      "\n",
      "Shape of out-of-domain X_test (10000, 730)\n",
      "Top indexes of an X_test in an out-of-domain base flow dataset:  Int64Index([22422, 25747, 13795, 68724, 38923, 43064, 86918, 71138, 82508,\n",
      "            89200, 55279,  7966, 83751, 37701,  2718, 65519, 77797,  8956,\n",
      "            33713, 34621],\n",
      "           dtype='int64')\n",
      "Top indexes of an y_test in an out-of-domain base flow dataset:  Int64Index([22422, 25747, 13795, 68724, 38923, 43064, 86918, 71138, 82508,\n",
      "            89200, 55279,  7966, 83751, 37701,  2718, 65519, 77797,  8956,\n",
      "            33713, 34621],\n",
      "           dtype='int64')\n"
     ]
    },
    {
     "data": {
      "text/plain": "       cat__SCHL_1  cat__SCHL_10  cat__SCHL_11  cat__SCHL_12  cat__SCHL_13  \\\n22422          0.0           0.0           0.0           0.0           0.0   \n25747          0.0           0.0           0.0           0.0           0.0   \n13795          0.0           0.0           0.0           0.0           0.0   \n68724          0.0           0.0           0.0           0.0           0.0   \n38923          0.0           0.0           0.0           0.0           0.0   \n\n       cat__SCHL_14  cat__SCHL_15  cat__SCHL_16  cat__SCHL_17  cat__SCHL_18  \\\n22422           0.0           0.0           1.0           0.0           0.0   \n25747           0.0           0.0           0.0           0.0           0.0   \n13795           0.0           0.0           0.0           0.0           0.0   \n68724           0.0           0.0           0.0           0.0           0.0   \n38923           0.0           0.0           1.0           0.0           0.0   \n\n       ...  cat__RELP_2  cat__RELP_3  cat__RELP_4  cat__RELP_5  cat__RELP_6  \\\n22422  ...          0.0          0.0          0.0          0.0          0.0   \n25747  ...          0.0          0.0          0.0          0.0          0.0   \n13795  ...          0.0          0.0          0.0          0.0          0.0   \n68724  ...          0.0          0.0          0.0          0.0          0.0   \n38923  ...          0.0          0.0          0.0          0.0          0.0   \n\n       cat__RELP_7  cat__RELP_8  cat__RELP_9  num__AGEP  num__WKHP  \n22422          0.0          0.0          0.0   0.658827  -0.154286  \n25747          0.0          0.0          0.0   0.140203   0.830258  \n13795          0.0          0.0          0.0  -0.961872   0.148651  \n68724          0.0          0.0          0.0  -0.637732  -2.577777  \n38923          0.0          0.0          0.0   0.529171   0.224385  \n\n[5 rows x 730 columns]",
      "text/html": "<div>\n<style scoped>\n    .dataframe tbody tr th:only-of-type {\n        vertical-align: middle;\n    }\n\n    .dataframe tbody tr th {\n        vertical-align: top;\n    }\n\n    .dataframe thead th {\n        text-align: right;\n    }\n</style>\n<table border=\"1\" class=\"dataframe\">\n  <thead>\n    <tr style=\"text-align: right;\">\n      <th></th>\n      <th>cat__SCHL_1</th>\n      <th>cat__SCHL_10</th>\n      <th>cat__SCHL_11</th>\n      <th>cat__SCHL_12</th>\n      <th>cat__SCHL_13</th>\n      <th>cat__SCHL_14</th>\n      <th>cat__SCHL_15</th>\n      <th>cat__SCHL_16</th>\n      <th>cat__SCHL_17</th>\n      <th>cat__SCHL_18</th>\n      <th>...</th>\n      <th>cat__RELP_2</th>\n      <th>cat__RELP_3</th>\n      <th>cat__RELP_4</th>\n      <th>cat__RELP_5</th>\n      <th>cat__RELP_6</th>\n      <th>cat__RELP_7</th>\n      <th>cat__RELP_8</th>\n      <th>cat__RELP_9</th>\n      <th>num__AGEP</th>\n      <th>num__WKHP</th>\n    </tr>\n  </thead>\n  <tbody>\n    <tr>\n      <th>22422</th>\n      <td>0.0</td>\n      <td>0.0</td>\n      <td>0.0</td>\n      <td>0.0</td>\n      <td>0.0</td>\n      <td>0.0</td>\n      <td>0.0</td>\n      <td>1.0</td>\n      <td>0.0</td>\n      <td>0.0</td>\n      <td>...</td>\n      <td>0.0</td>\n      <td>0.0</td>\n      <td>0.0</td>\n      <td>0.0</td>\n      <td>0.0</td>\n      <td>0.0</td>\n      <td>0.0</td>\n      <td>0.0</td>\n      <td>0.658827</td>\n      <td>-0.154286</td>\n    </tr>\n    <tr>\n      <th>25747</th>\n      <td>0.0</td>\n      <td>0.0</td>\n      <td>0.0</td>\n      <td>0.0</td>\n      <td>0.0</td>\n      <td>0.0</td>\n      <td>0.0</td>\n      <td>0.0</td>\n      <td>0.0</td>\n      <td>0.0</td>\n      <td>...</td>\n      <td>0.0</td>\n      <td>0.0</td>\n      <td>0.0</td>\n      <td>0.0</td>\n      <td>0.0</td>\n      <td>0.0</td>\n      <td>0.0</td>\n      <td>0.0</td>\n      <td>0.140203</td>\n      <td>0.830258</td>\n    </tr>\n    <tr>\n      <th>13795</th>\n      <td>0.0</td>\n      <td>0.0</td>\n      <td>0.0</td>\n      <td>0.0</td>\n      <td>0.0</td>\n      <td>0.0</td>\n      <td>0.0</td>\n      <td>0.0</td>\n      <td>0.0</td>\n      <td>0.0</td>\n      <td>...</td>\n      <td>0.0</td>\n      <td>0.0</td>\n      <td>0.0</td>\n      <td>0.0</td>\n      <td>0.0</td>\n      <td>0.0</td>\n      <td>0.0</td>\n      <td>0.0</td>\n      <td>-0.961872</td>\n      <td>0.148651</td>\n    </tr>\n    <tr>\n      <th>68724</th>\n      <td>0.0</td>\n      <td>0.0</td>\n      <td>0.0</td>\n      <td>0.0</td>\n      <td>0.0</td>\n      <td>0.0</td>\n      <td>0.0</td>\n      <td>0.0</td>\n      <td>0.0</td>\n      <td>0.0</td>\n      <td>...</td>\n      <td>0.0</td>\n      <td>0.0</td>\n      <td>0.0</td>\n      <td>0.0</td>\n      <td>0.0</td>\n      <td>0.0</td>\n      <td>0.0</td>\n      <td>0.0</td>\n      <td>-0.637732</td>\n      <td>-2.577777</td>\n    </tr>\n    <tr>\n      <th>38923</th>\n      <td>0.0</td>\n      <td>0.0</td>\n      <td>0.0</td>\n      <td>0.0</td>\n      <td>0.0</td>\n      <td>0.0</td>\n      <td>0.0</td>\n      <td>1.0</td>\n      <td>0.0</td>\n      <td>0.0</td>\n      <td>...</td>\n      <td>0.0</td>\n      <td>0.0</td>\n      <td>0.0</td>\n      <td>0.0</td>\n      <td>0.0</td>\n      <td>0.0</td>\n      <td>0.0</td>\n      <td>0.0</td>\n      <td>0.529171</td>\n      <td>0.224385</td>\n    </tr>\n  </tbody>\n</table>\n<p>5 rows × 730 columns</p>\n</div>"
     },
     "metadata": {},
     "output_type": "display_data"
    },
    {
     "name": "stdout",
     "output_type": "stream",
     "text": [
      "2023/10/21, 17:40:23: Tuning RandomForestClassifier...\n",
      "2023/10/21, 17:40:27: Tuning for RandomForestClassifier is finished [F1 score = 0.635297136421543, Accuracy = 0.6933693369336934]\n"
     ]
    },
    {
     "name": "stderr",
     "output_type": "stream",
     "text": [
      "2023-10-21 17:40:27 experiment_interface.py INFO    : Models are tuned and saved to a file\n"
     ]
    },
    {
     "data": {
      "text/plain": "Analyze models in one run:   0%|          | 0/1 [00:00<?, ?it/s]",
      "application/vnd.jupyter.widget-view+json": {
       "version_major": 2,
       "version_minor": 0,
       "model_id": "c229b0e897484fc388a587e153ce883c"
      }
     },
     "metadata": {},
     "output_type": "display_data"
    },
    {
     "data": {
      "text/plain": "Classifiers testing by bootstrap:   0%|          | 0/5 [00:00<?, ?it/s]",
      "application/vnd.jupyter.widget-view+json": {
       "version_major": 2,
       "version_minor": 0,
       "model_id": "86eb4148ffa04701b000874886bd41f6"
      }
     },
     "metadata": {},
     "output_type": "display_data"
    }
   ],
   "source": [
    "run_exp_iter_with_disparate_impact_and_mult_sets(data_loader=exp_iter_data_loader,\n",
    "                                                 extra_data_loaders=exp_extra_data_loaders,\n",
    "                                                 experiment_seed=experiment_seed,\n",
    "                                                 test_set_fraction=TEST_SET_FRACTION,\n",
    "                                                 db_writer_func=db_writer_func,\n",
    "                                                 fair_intervention_params_lst=FAIR_INTERVENTION_PARAMS_LST,\n",
    "                                                 models_params_for_tuning=models_params_for_tuning,\n",
    "                                                 metrics_computation_config=metrics_computation_config,\n",
    "                                                 custom_table_fields_dct=custom_table_fields_dct,\n",
    "                                                 with_tuning=True,\n",
    "                                                 # with_tuning=False,\n",
    "                                                 # tuned_params_df_paths=tuned_params_df_paths,\n",
    "                                                 save_results_dir_path=SAVE_RESULTS_DIR_PATH,\n",
    "                                                 samples_per_fold=SAMPLES_PER_FOLD_FOR_TUNING,\n",
    "                                                 train_set_subsample_size=TRAIN_SET_SUBSAMPLE_SIZE,\n",
    "                                                 verbose=True)"
   ]
  },
  {
   "cell_type": "markdown",
   "id": "b74df6d4",
   "metadata": {},
   "source": [
    "### Experiment iteration 2"
   ]
  },
  {
   "cell_type": "markdown",
   "id": "495c451a",
   "metadata": {},
   "source": [
    "### Experiment iteration 3"
   ]
  },
  {
   "cell_type": "markdown",
   "id": "49e173e9",
   "metadata": {},
   "source": [
    "### Experiment iteration 4"
   ]
  },
  {
   "cell_type": "markdown",
   "id": "37bf2431",
   "metadata": {},
   "source": [
    "### Experiment iteration 5"
   ]
  },
  {
   "cell_type": "markdown",
   "id": "54c26dd3",
   "metadata": {},
   "source": [
    "### Experiment iteration 6"
   ]
  },
  {
   "cell_type": "code",
   "execution_count": 21,
   "id": "3b222a3e",
   "metadata": {
    "ExecuteTime": {
     "end_time": "2023-10-21T14:40:54.980444Z",
     "start_time": "2023-10-21T14:40:54.979098Z"
    }
   },
   "outputs": [],
   "source": []
  }
 ],
 "metadata": {
  "kernelspec": {
   "display_name": "Python 3",
   "language": "python",
   "name": "python3"
  },
  "language_info": {
   "codemirror_mode": {
    "name": "ipython",
    "version": 3
   },
   "file_extension": ".py",
   "mimetype": "text/x-python",
   "name": "python",
   "nbconvert_exporter": "python",
   "pygments_lexer": "ipython3",
   "version": "3.8.5"
  }
 },
 "nbformat": 4,
 "nbformat_minor": 5
}
