{
 "cells": [
  {
   "cell_type": "code",
   "execution_count": 1,
   "id": "39e91cd0",
   "metadata": {
    "ExecuteTime": {
     "end_time": "2024-01-11T10:33:21.388604Z",
     "start_time": "2024-01-11T10:33:20.896317Z"
    }
   },
   "outputs": [],
   "source": [
    "%matplotlib inline\n",
    "%load_ext autoreload\n",
    "%autoreload 2"
   ]
  },
  {
   "cell_type": "code",
   "execution_count": 2,
   "id": "4efe89f5",
   "metadata": {
    "ExecuteTime": {
     "end_time": "2024-01-11T10:33:21.396848Z",
     "start_time": "2024-01-11T10:33:21.386805Z"
    }
   },
   "outputs": [],
   "source": [
    "import os\n",
    "import warnings\n",
    "warnings.filterwarnings('ignore')\n",
    "os.environ[\"PYTHONWARNINGS\"] = \"ignore\""
   ]
  },
  {
   "cell_type": "code",
   "execution_count": 3,
   "id": "6a451e2e",
   "metadata": {
    "ExecuteTime": {
     "end_time": "2024-01-11T10:33:21.406744Z",
     "start_time": "2024-01-11T10:33:21.397137Z"
    }
   },
   "outputs": [
    {
     "name": "stdout",
     "output_type": "stream",
     "text": [
      "Current location:  /Users/denys_herasymuk/UCU/4course_2term/Bachelor_Thesis/Code/fairness-variance\n"
     ]
    }
   ],
   "source": [
    "cur_folder_name = os.getcwd().split('/')[-1]\n",
    "if cur_folder_name != \"fairness-variance\":\n",
    "    os.chdir(\"../..\")\n",
    "\n",
    "print('Current location: ', os.getcwd())"
   ]
  },
  {
   "cell_type": "markdown",
   "id": "eb58106e",
   "metadata": {},
   "source": [
    "# Model Selection Bar Charts"
   ]
  },
  {
   "cell_type": "code",
   "execution_count": 4,
   "id": "18cb3aa6",
   "metadata": {
    "ExecuteTime": {
     "end_time": "2024-01-11T10:33:32.783619Z",
     "start_time": "2024-01-11T10:33:21.406848Z"
    }
   },
   "outputs": [
    {
     "name": "stderr",
     "output_type": "stream",
     "text": [
      "WARNING:root:No module named 'tempeh': LawSchoolGPADataset will be unavailable. To install, run:\n",
      "pip install 'aif360[LawSchoolGPA]'\n"
     ]
    }
   ],
   "source": [
    "from source.visualizations import create_bar_chart_for_model_selection\n",
    "from source.utils.data_vis_utils import create_metrics_dicts_for_diff_fairness_interventions"
   ]
  },
  {
   "cell_type": "markdown",
   "id": "0184daf8",
   "metadata": {},
   "source": [
    "## Initialize Configs"
   ]
  },
  {
   "cell_type": "code",
   "execution_count": 5,
   "id": "37622cae",
   "metadata": {
    "ExecuteTime": {
     "end_time": "2024-01-11T10:33:32.821743Z",
     "start_time": "2024-01-11T10:33:32.784172Z"
    }
   },
   "outputs": [],
   "source": [
    "DB_COLLECTION_NAME = 'one_repair_lvl_many_models'\n",
    "DATASETS_DB_CONFIG = {\n",
    "    'Folktables_GA_2018_Income': {\n",
    "        'Baseline': 'ac796b56-9c83-474a-8e7a-2d95ee5efa7e',\n",
    "        'LFR': '3855ad0b-4d2e-4baf-a5a8-6e3e92f624ba',\n",
    "        'DIR': 'f009c98f-b732-44cf-9084-4bf12c11bdcf',\n",
    "        'AdversarialDebiasing': 'bbba3cc4-760b-4e93-bb97-3a2077202cce',\n",
    "        'ExponentiatedGradientReduction': '9c5d2ffc-834e-4a7d-abc0-49dd26950c6d',\n",
    "        'EqOddsPostprocessing': '3976c1bf-99fa-49f4-97ec-44b13cb64ef4',\n",
    "        'ROC': '426f4b41-5b22-4118-b5c8-15a0ab4aa18f',\n",
    "    },\n",
    "    # 'Folktables_CA_2018_Public_Coverage': {\n",
    "    #     'Baseline': 'c36d3f62-2edd-4df4-97db-a9c3cb5be8ed',\n",
    "    #     'LFR': '3021b0c7-483d-4682-9dc6-bb4a2cf90020',\n",
    "    #     'DIR': 'ac38ec40-c789-4f7e-91be-9ffb55bc3e6f',\n",
    "    #     'AdversarialDebiasing': 'bf843ff8-62e9-4aac-83bc-d805e3299fdc',\n",
    "    #     'ExponentiatedGradientReduction': 'dffb2122-b870-40d5-92b2-f0f6bfb730f0',\n",
    "    #     'EqOddsPostprocessing': 'c1fbe1ae-f5e9-4ca1-8f38-abe1b118f95b',\n",
    "    #     'ROC': 'aa7a7273-bf7c-44f9-becc-3b0384b722c5',\n",
    "    # },\n",
    "    # 'Law_School': {\n",
    "    #     'Baseline': 'b37c9c58-ed69-425c-b3d5-8f1ffd3adcd6',\n",
    "    #     'LFR': 'a1345526-1623-4fc7-b1a4-2a7790c4eef5',\n",
    "    #     'DIR': '336e4621-fef9-4722-a3c1-b2ecca7e7f45',\n",
    "    #     'AdversarialDebiasing': '594152d2-738f-43f3-87ac-e98b98a17b4a',\n",
    "    #     'ExponentiatedGradientReduction': '5a766803-decf-487f-bc23-bade50373a6e',\n",
    "    #     'EqOddsPostprocessing': '567e7e80-5ed4-4a45-8927-2f7b61ba5647',\n",
    "    #     'ROC': 'b1f109f5-3def-4da0-872b-6f0f1a9be953',\n",
    "    # },\n",
    "    # 'Student_Performance_Por': {\n",
    "    #     'Baseline': '647daccf-7c14-463c-99ab-ef16972dba80',\n",
    "    #     'LFR': '638da338-6a90-44a7-a835-17f062b941fb',\n",
    "    #     'DIR': '647daccf-7c14-463c-99ab-ef16972dba80',\n",
    "    #     'AdversarialDebiasing': '7bd775d4-0821-4711-8eed-902c990fbc94',\n",
    "    #     'ExponentiatedGradientReduction': '65f39387-1ed2-4e6d-9670-ae8c552a0f65',\n",
    "    #     'EqOddsPostprocessing': 'b35e31f2-bb03-494f-a24c-b9264e383667',\n",
    "    #     'ROC': '0626d80f-e288-4f16-b8ab-260eb34d62d3',\n",
    "    # },\n",
    "}\n",
    "DATASET_NAMES = list(DATASETS_DB_CONFIG.keys())\n",
    "DATASETS_SENSITIVE_ATTRS = {\n",
    "    'Folktables_GA_2018_Income': ['SEX', 'RAC1P', 'SEX&RAC1P'],\n",
    "    'Law_School': ['male', 'race', 'male&race'],\n",
    "    'Folktables_CA_2018_Public_Coverage': ['SEX', 'RAC1P', 'SEX&RAC1P'],\n",
    "    'Student_Performance_Por': ['sex'],\n",
    "}"
   ]
  },
  {
   "cell_type": "markdown",
   "id": "49aebdbb",
   "metadata": {},
   "source": [
    "## Group Metrics Composition"
   ]
  },
  {
   "cell_type": "code",
   "execution_count": 6,
   "id": "34efd295",
   "metadata": {
    "ExecuteTime": {
     "end_time": "2024-01-11T10:33:46.634691Z",
     "start_time": "2024-01-11T10:33:32.822250Z"
    }
   },
   "outputs": [
    {
     "name": "stdout",
     "output_type": "stream",
     "text": [
      "Extracted metrics for Folktables_GA_2018_Income dataset and Baseline intervention\n",
      "Extracted metrics for Folktables_GA_2018_Income dataset and LFR intervention\n",
      "Extracted metrics for Folktables_GA_2018_Income dataset and DIR intervention\n",
      "Extracted metrics for Folktables_GA_2018_Income dataset and AdversarialDebiasing intervention\n",
      "Extracted metrics for Folktables_GA_2018_Income dataset and ExponentiatedGradientReduction intervention\n",
      "Extracted metrics for Folktables_GA_2018_Income dataset and EqOddsPostprocessing intervention\n",
      "Extracted metrics for Folktables_GA_2018_Income dataset and ROC intervention\n"
     ]
    }
   ],
   "source": [
    "all_subgroup_metrics_df, all_group_metrics_df = (\n",
    "    create_metrics_dicts_for_diff_fairness_interventions(datasets_db_config=DATASETS_DB_CONFIG,\n",
    "                                                         datasets_sensitive_attrs_dct=DATASETS_SENSITIVE_ATTRS,\n",
    "                                                         db_collection_name=DB_COLLECTION_NAME))"
   ]
  },
  {
   "cell_type": "code",
   "execution_count": 7,
   "id": "8f1c2a29",
   "metadata": {
    "ExecuteTime": {
     "end_time": "2024-01-11T10:33:46.715752Z",
     "start_time": "2024-01-11T10:33:46.630480Z"
    }
   },
   "outputs": [
    {
     "data": {
      "text/plain": "                   Metric      Model_Name               Dataset_Name  \\\n0        Statistical_Bias  LGBMClassifier  Folktables_GA_2018_Income   \n1                     Std  LGBMClassifier  Folktables_GA_2018_Income   \n2                     IQR  LGBMClassifier  Folktables_GA_2018_Income   \n3     Overall_Uncertainty  LGBMClassifier  Folktables_GA_2018_Income   \n4   Aleatoric_Uncertainty  LGBMClassifier  Folktables_GA_2018_Income   \n5         Mean_Prediction  LGBMClassifier  Folktables_GA_2018_Income   \n6   Epistemic_Uncertainty  LGBMClassifier  Folktables_GA_2018_Income   \n7         Label_Stability  LGBMClassifier  Folktables_GA_2018_Income   \n8                  Jitter  LGBMClassifier  Folktables_GA_2018_Income   \n9                     TPR  LGBMClassifier  Folktables_GA_2018_Income   \n10                    TNR  LGBMClassifier  Folktables_GA_2018_Income   \n11                    PPV  LGBMClassifier  Folktables_GA_2018_Income   \n12                    FNR  LGBMClassifier  Folktables_GA_2018_Income   \n13                    FPR  LGBMClassifier  Folktables_GA_2018_Income   \n14               Accuracy  LGBMClassifier  Folktables_GA_2018_Income   \n15                     F1  LGBMClassifier  Folktables_GA_2018_Income   \n16         Selection-Rate  LGBMClassifier  Folktables_GA_2018_Income   \n17          Positive-Rate  LGBMClassifier  Folktables_GA_2018_Income   \n18       Statistical_Bias  LGBMClassifier  Folktables_GA_2018_Income   \n19                    Std  LGBMClassifier  Folktables_GA_2018_Income   \n\n    Num_Estimators Record_Create_Date_Time  \\\n0              200 2024-01-06 18:59:47.583   \n1              200 2024-01-06 18:59:47.583   \n2              200 2024-01-06 18:59:47.583   \n3              200 2024-01-06 18:59:47.583   \n4              200 2024-01-06 18:59:47.583   \n5              200 2024-01-06 18:59:47.583   \n6              200 2024-01-06 18:59:47.583   \n7              200 2024-01-06 18:59:47.583   \n8              200 2024-01-06 18:59:47.583   \n9              200 2024-01-06 18:59:47.583   \n10             200 2024-01-06 18:59:47.583   \n11             200 2024-01-06 18:59:47.583   \n12             200 2024-01-06 18:59:47.583   \n13             200 2024-01-06 18:59:47.583   \n14             200 2024-01-06 18:59:47.583   \n15             200 2024-01-06 18:59:47.583   \n16             200 2024-01-06 18:59:47.583   \n17             200 2024-01-06 18:59:47.583   \n18             200 2024-01-06 18:59:47.583   \n19             200 2024-01-06 18:59:47.583   \n\n                            Session_Uuid Experiment_Iteration  \\\n0   ac796b56-9c83-474a-8e7a-2d95ee5efa7e           Exp_iter_1   \n1   ac796b56-9c83-474a-8e7a-2d95ee5efa7e           Exp_iter_1   \n2   ac796b56-9c83-474a-8e7a-2d95ee5efa7e           Exp_iter_1   \n3   ac796b56-9c83-474a-8e7a-2d95ee5efa7e           Exp_iter_1   \n4   ac796b56-9c83-474a-8e7a-2d95ee5efa7e           Exp_iter_1   \n5   ac796b56-9c83-474a-8e7a-2d95ee5efa7e           Exp_iter_1   \n6   ac796b56-9c83-474a-8e7a-2d95ee5efa7e           Exp_iter_1   \n7   ac796b56-9c83-474a-8e7a-2d95ee5efa7e           Exp_iter_1   \n8   ac796b56-9c83-474a-8e7a-2d95ee5efa7e           Exp_iter_1   \n9   ac796b56-9c83-474a-8e7a-2d95ee5efa7e           Exp_iter_1   \n10  ac796b56-9c83-474a-8e7a-2d95ee5efa7e           Exp_iter_1   \n11  ac796b56-9c83-474a-8e7a-2d95ee5efa7e           Exp_iter_1   \n12  ac796b56-9c83-474a-8e7a-2d95ee5efa7e           Exp_iter_1   \n13  ac796b56-9c83-474a-8e7a-2d95ee5efa7e           Exp_iter_1   \n14  ac796b56-9c83-474a-8e7a-2d95ee5efa7e           Exp_iter_1   \n15  ac796b56-9c83-474a-8e7a-2d95ee5efa7e           Exp_iter_1   \n16  ac796b56-9c83-474a-8e7a-2d95ee5efa7e           Exp_iter_1   \n17  ac796b56-9c83-474a-8e7a-2d95ee5efa7e           Exp_iter_1   \n18  ac796b56-9c83-474a-8e7a-2d95ee5efa7e           Exp_iter_1   \n19  ac796b56-9c83-474a-8e7a-2d95ee5efa7e           Exp_iter_1   \n\n    Dataset_Split_Seed Fair_Intervention_Params_Lst Intervention_Param  \\\n0                  100                        [0.0]                0.0   \n1                  100                        [0.0]                0.0   \n2                  100                        [0.0]                0.0   \n3                  100                        [0.0]                0.0   \n4                  100                        [0.0]                0.0   \n5                  100                        [0.0]                0.0   \n6                  100                        [0.0]                0.0   \n7                  100                        [0.0]                0.0   \n8                  100                        [0.0]                0.0   \n9                  100                        [0.0]                0.0   \n10                 100                        [0.0]                0.0   \n11                 100                        [0.0]                0.0   \n12                 100                        [0.0]                0.0   \n13                 100                        [0.0]                0.0   \n14                 100                        [0.0]                0.0   \n15                 100                        [0.0]                0.0   \n16                 100                        [0.0]                0.0   \n17                 100                        [0.0]                0.0   \n18                 100                        [0.0]                0.0   \n19                 100                        [0.0]                0.0   \n\n            Subgroup  Metric_Value Fairness_Intervention  \n0           SEX_priv      0.297552              Baseline  \n1           SEX_priv      0.049091              Baseline  \n2           SEX_priv      0.065426              Baseline  \n3           SEX_priv      0.647023              Baseline  \n4           SEX_priv      0.634515              Baseline  \n5           SEX_priv      0.616530              Baseline  \n6           SEX_priv      0.012508              Baseline  \n7           SEX_priv      0.909105              Baseline  \n8           SEX_priv      0.064624              Baseline  \n9           SEX_priv      0.656289              Baseline  \n10          SEX_priv      0.854167              Baseline  \n11          SEX_priv      0.758273              Baseline  \n12          SEX_priv      0.343711              Baseline  \n13          SEX_priv      0.145833              Baseline  \n14          SEX_priv      0.772890              Baseline  \n15          SEX_priv      0.703605              Baseline  \n16          SEX_priv      0.355499              Baseline  \n17          SEX_priv      0.865504              Baseline  \n18  SEX_priv_correct      0.184170              Baseline  \n19  SEX_priv_correct      0.044042              Baseline  ",
      "text/html": "<div>\n<style scoped>\n    .dataframe tbody tr th:only-of-type {\n        vertical-align: middle;\n    }\n\n    .dataframe tbody tr th {\n        vertical-align: top;\n    }\n\n    .dataframe thead th {\n        text-align: right;\n    }\n</style>\n<table border=\"1\" class=\"dataframe\">\n  <thead>\n    <tr style=\"text-align: right;\">\n      <th></th>\n      <th>Metric</th>\n      <th>Model_Name</th>\n      <th>Dataset_Name</th>\n      <th>Num_Estimators</th>\n      <th>Record_Create_Date_Time</th>\n      <th>Session_Uuid</th>\n      <th>Experiment_Iteration</th>\n      <th>Dataset_Split_Seed</th>\n      <th>Fair_Intervention_Params_Lst</th>\n      <th>Intervention_Param</th>\n      <th>Subgroup</th>\n      <th>Metric_Value</th>\n      <th>Fairness_Intervention</th>\n    </tr>\n  </thead>\n  <tbody>\n    <tr>\n      <th>0</th>\n      <td>Statistical_Bias</td>\n      <td>LGBMClassifier</td>\n      <td>Folktables_GA_2018_Income</td>\n      <td>200</td>\n      <td>2024-01-06 18:59:47.583</td>\n      <td>ac796b56-9c83-474a-8e7a-2d95ee5efa7e</td>\n      <td>Exp_iter_1</td>\n      <td>100</td>\n      <td>[0.0]</td>\n      <td>0.0</td>\n      <td>SEX_priv</td>\n      <td>0.297552</td>\n      <td>Baseline</td>\n    </tr>\n    <tr>\n      <th>1</th>\n      <td>Std</td>\n      <td>LGBMClassifier</td>\n      <td>Folktables_GA_2018_Income</td>\n      <td>200</td>\n      <td>2024-01-06 18:59:47.583</td>\n      <td>ac796b56-9c83-474a-8e7a-2d95ee5efa7e</td>\n      <td>Exp_iter_1</td>\n      <td>100</td>\n      <td>[0.0]</td>\n      <td>0.0</td>\n      <td>SEX_priv</td>\n      <td>0.049091</td>\n      <td>Baseline</td>\n    </tr>\n    <tr>\n      <th>2</th>\n      <td>IQR</td>\n      <td>LGBMClassifier</td>\n      <td>Folktables_GA_2018_Income</td>\n      <td>200</td>\n      <td>2024-01-06 18:59:47.583</td>\n      <td>ac796b56-9c83-474a-8e7a-2d95ee5efa7e</td>\n      <td>Exp_iter_1</td>\n      <td>100</td>\n      <td>[0.0]</td>\n      <td>0.0</td>\n      <td>SEX_priv</td>\n      <td>0.065426</td>\n      <td>Baseline</td>\n    </tr>\n    <tr>\n      <th>3</th>\n      <td>Overall_Uncertainty</td>\n      <td>LGBMClassifier</td>\n      <td>Folktables_GA_2018_Income</td>\n      <td>200</td>\n      <td>2024-01-06 18:59:47.583</td>\n      <td>ac796b56-9c83-474a-8e7a-2d95ee5efa7e</td>\n      <td>Exp_iter_1</td>\n      <td>100</td>\n      <td>[0.0]</td>\n      <td>0.0</td>\n      <td>SEX_priv</td>\n      <td>0.647023</td>\n      <td>Baseline</td>\n    </tr>\n    <tr>\n      <th>4</th>\n      <td>Aleatoric_Uncertainty</td>\n      <td>LGBMClassifier</td>\n      <td>Folktables_GA_2018_Income</td>\n      <td>200</td>\n      <td>2024-01-06 18:59:47.583</td>\n      <td>ac796b56-9c83-474a-8e7a-2d95ee5efa7e</td>\n      <td>Exp_iter_1</td>\n      <td>100</td>\n      <td>[0.0]</td>\n      <td>0.0</td>\n      <td>SEX_priv</td>\n      <td>0.634515</td>\n      <td>Baseline</td>\n    </tr>\n    <tr>\n      <th>5</th>\n      <td>Mean_Prediction</td>\n      <td>LGBMClassifier</td>\n      <td>Folktables_GA_2018_Income</td>\n      <td>200</td>\n      <td>2024-01-06 18:59:47.583</td>\n      <td>ac796b56-9c83-474a-8e7a-2d95ee5efa7e</td>\n      <td>Exp_iter_1</td>\n      <td>100</td>\n      <td>[0.0]</td>\n      <td>0.0</td>\n      <td>SEX_priv</td>\n      <td>0.616530</td>\n      <td>Baseline</td>\n    </tr>\n    <tr>\n      <th>6</th>\n      <td>Epistemic_Uncertainty</td>\n      <td>LGBMClassifier</td>\n      <td>Folktables_GA_2018_Income</td>\n      <td>200</td>\n      <td>2024-01-06 18:59:47.583</td>\n      <td>ac796b56-9c83-474a-8e7a-2d95ee5efa7e</td>\n      <td>Exp_iter_1</td>\n      <td>100</td>\n      <td>[0.0]</td>\n      <td>0.0</td>\n      <td>SEX_priv</td>\n      <td>0.012508</td>\n      <td>Baseline</td>\n    </tr>\n    <tr>\n      <th>7</th>\n      <td>Label_Stability</td>\n      <td>LGBMClassifier</td>\n      <td>Folktables_GA_2018_Income</td>\n      <td>200</td>\n      <td>2024-01-06 18:59:47.583</td>\n      <td>ac796b56-9c83-474a-8e7a-2d95ee5efa7e</td>\n      <td>Exp_iter_1</td>\n      <td>100</td>\n      <td>[0.0]</td>\n      <td>0.0</td>\n      <td>SEX_priv</td>\n      <td>0.909105</td>\n      <td>Baseline</td>\n    </tr>\n    <tr>\n      <th>8</th>\n      <td>Jitter</td>\n      <td>LGBMClassifier</td>\n      <td>Folktables_GA_2018_Income</td>\n      <td>200</td>\n      <td>2024-01-06 18:59:47.583</td>\n      <td>ac796b56-9c83-474a-8e7a-2d95ee5efa7e</td>\n      <td>Exp_iter_1</td>\n      <td>100</td>\n      <td>[0.0]</td>\n      <td>0.0</td>\n      <td>SEX_priv</td>\n      <td>0.064624</td>\n      <td>Baseline</td>\n    </tr>\n    <tr>\n      <th>9</th>\n      <td>TPR</td>\n      <td>LGBMClassifier</td>\n      <td>Folktables_GA_2018_Income</td>\n      <td>200</td>\n      <td>2024-01-06 18:59:47.583</td>\n      <td>ac796b56-9c83-474a-8e7a-2d95ee5efa7e</td>\n      <td>Exp_iter_1</td>\n      <td>100</td>\n      <td>[0.0]</td>\n      <td>0.0</td>\n      <td>SEX_priv</td>\n      <td>0.656289</td>\n      <td>Baseline</td>\n    </tr>\n    <tr>\n      <th>10</th>\n      <td>TNR</td>\n      <td>LGBMClassifier</td>\n      <td>Folktables_GA_2018_Income</td>\n      <td>200</td>\n      <td>2024-01-06 18:59:47.583</td>\n      <td>ac796b56-9c83-474a-8e7a-2d95ee5efa7e</td>\n      <td>Exp_iter_1</td>\n      <td>100</td>\n      <td>[0.0]</td>\n      <td>0.0</td>\n      <td>SEX_priv</td>\n      <td>0.854167</td>\n      <td>Baseline</td>\n    </tr>\n    <tr>\n      <th>11</th>\n      <td>PPV</td>\n      <td>LGBMClassifier</td>\n      <td>Folktables_GA_2018_Income</td>\n      <td>200</td>\n      <td>2024-01-06 18:59:47.583</td>\n      <td>ac796b56-9c83-474a-8e7a-2d95ee5efa7e</td>\n      <td>Exp_iter_1</td>\n      <td>100</td>\n      <td>[0.0]</td>\n      <td>0.0</td>\n      <td>SEX_priv</td>\n      <td>0.758273</td>\n      <td>Baseline</td>\n    </tr>\n    <tr>\n      <th>12</th>\n      <td>FNR</td>\n      <td>LGBMClassifier</td>\n      <td>Folktables_GA_2018_Income</td>\n      <td>200</td>\n      <td>2024-01-06 18:59:47.583</td>\n      <td>ac796b56-9c83-474a-8e7a-2d95ee5efa7e</td>\n      <td>Exp_iter_1</td>\n      <td>100</td>\n      <td>[0.0]</td>\n      <td>0.0</td>\n      <td>SEX_priv</td>\n      <td>0.343711</td>\n      <td>Baseline</td>\n    </tr>\n    <tr>\n      <th>13</th>\n      <td>FPR</td>\n      <td>LGBMClassifier</td>\n      <td>Folktables_GA_2018_Income</td>\n      <td>200</td>\n      <td>2024-01-06 18:59:47.583</td>\n      <td>ac796b56-9c83-474a-8e7a-2d95ee5efa7e</td>\n      <td>Exp_iter_1</td>\n      <td>100</td>\n      <td>[0.0]</td>\n      <td>0.0</td>\n      <td>SEX_priv</td>\n      <td>0.145833</td>\n      <td>Baseline</td>\n    </tr>\n    <tr>\n      <th>14</th>\n      <td>Accuracy</td>\n      <td>LGBMClassifier</td>\n      <td>Folktables_GA_2018_Income</td>\n      <td>200</td>\n      <td>2024-01-06 18:59:47.583</td>\n      <td>ac796b56-9c83-474a-8e7a-2d95ee5efa7e</td>\n      <td>Exp_iter_1</td>\n      <td>100</td>\n      <td>[0.0]</td>\n      <td>0.0</td>\n      <td>SEX_priv</td>\n      <td>0.772890</td>\n      <td>Baseline</td>\n    </tr>\n    <tr>\n      <th>15</th>\n      <td>F1</td>\n      <td>LGBMClassifier</td>\n      <td>Folktables_GA_2018_Income</td>\n      <td>200</td>\n      <td>2024-01-06 18:59:47.583</td>\n      <td>ac796b56-9c83-474a-8e7a-2d95ee5efa7e</td>\n      <td>Exp_iter_1</td>\n      <td>100</td>\n      <td>[0.0]</td>\n      <td>0.0</td>\n      <td>SEX_priv</td>\n      <td>0.703605</td>\n      <td>Baseline</td>\n    </tr>\n    <tr>\n      <th>16</th>\n      <td>Selection-Rate</td>\n      <td>LGBMClassifier</td>\n      <td>Folktables_GA_2018_Income</td>\n      <td>200</td>\n      <td>2024-01-06 18:59:47.583</td>\n      <td>ac796b56-9c83-474a-8e7a-2d95ee5efa7e</td>\n      <td>Exp_iter_1</td>\n      <td>100</td>\n      <td>[0.0]</td>\n      <td>0.0</td>\n      <td>SEX_priv</td>\n      <td>0.355499</td>\n      <td>Baseline</td>\n    </tr>\n    <tr>\n      <th>17</th>\n      <td>Positive-Rate</td>\n      <td>LGBMClassifier</td>\n      <td>Folktables_GA_2018_Income</td>\n      <td>200</td>\n      <td>2024-01-06 18:59:47.583</td>\n      <td>ac796b56-9c83-474a-8e7a-2d95ee5efa7e</td>\n      <td>Exp_iter_1</td>\n      <td>100</td>\n      <td>[0.0]</td>\n      <td>0.0</td>\n      <td>SEX_priv</td>\n      <td>0.865504</td>\n      <td>Baseline</td>\n    </tr>\n    <tr>\n      <th>18</th>\n      <td>Statistical_Bias</td>\n      <td>LGBMClassifier</td>\n      <td>Folktables_GA_2018_Income</td>\n      <td>200</td>\n      <td>2024-01-06 18:59:47.583</td>\n      <td>ac796b56-9c83-474a-8e7a-2d95ee5efa7e</td>\n      <td>Exp_iter_1</td>\n      <td>100</td>\n      <td>[0.0]</td>\n      <td>0.0</td>\n      <td>SEX_priv_correct</td>\n      <td>0.184170</td>\n      <td>Baseline</td>\n    </tr>\n    <tr>\n      <th>19</th>\n      <td>Std</td>\n      <td>LGBMClassifier</td>\n      <td>Folktables_GA_2018_Income</td>\n      <td>200</td>\n      <td>2024-01-06 18:59:47.583</td>\n      <td>ac796b56-9c83-474a-8e7a-2d95ee5efa7e</td>\n      <td>Exp_iter_1</td>\n      <td>100</td>\n      <td>[0.0]</td>\n      <td>0.0</td>\n      <td>SEX_priv_correct</td>\n      <td>0.044042</td>\n      <td>Baseline</td>\n    </tr>\n  </tbody>\n</table>\n</div>"
     },
     "execution_count": 7,
     "metadata": {},
     "output_type": "execute_result"
    }
   ],
   "source": [
    "all_subgroup_metrics_df.head(20)"
   ]
  },
  {
   "cell_type": "code",
   "execution_count": 8,
   "id": "e70c2fe9",
   "metadata": {
    "ExecuteTime": {
     "end_time": "2024-01-11T10:33:46.774285Z",
     "start_time": "2024-01-11T10:33:46.714715Z"
    }
   },
   "outputs": [
    {
     "data": {
      "text/plain": "                           Metric          Model_Name  \\\n0                 Accuracy_Parity      LGBMClassifier   \n1    Aleatoric_Uncertainty_Parity      LGBMClassifier   \n2     Aleatoric_Uncertainty_Ratio      LGBMClassifier   \n3    Epistemic_Uncertainty_Parity      LGBMClassifier   \n4     Epistemic_Uncertainty_Ratio      LGBMClassifier   \n5              Equalized_Odds_FNR      LGBMClassifier   \n6              Equalized_Odds_FPR      LGBMClassifier   \n7                      IQR_Parity      LGBMClassifier   \n8                   Jitter_Parity      LGBMClassifier   \n9           Label_Stability_Ratio      LGBMClassifier   \n10     Label_Stability_Difference      LGBMClassifier   \n11     Overall_Uncertainty_Parity      LGBMClassifier   \n12      Overall_Uncertainty_Ratio      LGBMClassifier   \n13               Disparate_Impact      LGBMClassifier   \n14  Statistical_Parity_Difference      LGBMClassifier   \n15                     Std_Parity      LGBMClassifier   \n16                      Std_Ratio      LGBMClassifier   \n17             Equalized_Odds_TNR      LGBMClassifier   \n18             Equalized_Odds_TPR      LGBMClassifier   \n19                Accuracy_Parity  LogisticRegression   \n\n                 Dataset_Name Fairness_Intervention Experiment_Iteration  \\\n0   Folktables_GA_2018_Income              Baseline           Exp_iter_1   \n1   Folktables_GA_2018_Income              Baseline           Exp_iter_1   \n2   Folktables_GA_2018_Income              Baseline           Exp_iter_1   \n3   Folktables_GA_2018_Income              Baseline           Exp_iter_1   \n4   Folktables_GA_2018_Income              Baseline           Exp_iter_1   \n5   Folktables_GA_2018_Income              Baseline           Exp_iter_1   \n6   Folktables_GA_2018_Income              Baseline           Exp_iter_1   \n7   Folktables_GA_2018_Income              Baseline           Exp_iter_1   \n8   Folktables_GA_2018_Income              Baseline           Exp_iter_1   \n9   Folktables_GA_2018_Income              Baseline           Exp_iter_1   \n10  Folktables_GA_2018_Income              Baseline           Exp_iter_1   \n11  Folktables_GA_2018_Income              Baseline           Exp_iter_1   \n12  Folktables_GA_2018_Income              Baseline           Exp_iter_1   \n13  Folktables_GA_2018_Income              Baseline           Exp_iter_1   \n14  Folktables_GA_2018_Income              Baseline           Exp_iter_1   \n15  Folktables_GA_2018_Income              Baseline           Exp_iter_1   \n16  Folktables_GA_2018_Income              Baseline           Exp_iter_1   \n17  Folktables_GA_2018_Income              Baseline           Exp_iter_1   \n18  Folktables_GA_2018_Income              Baseline           Exp_iter_1   \n19  Folktables_GA_2018_Income              Baseline           Exp_iter_1   \n\n   Group  Metric_Value  \n0    SEX      0.046051  \n1    SEX     -0.039453  \n2    SEX      0.937821  \n3    SEX      0.000196  \n4    SEX      1.015684  \n5    SEX      0.029783  \n6    SEX     -0.038663  \n7    SEX     -0.001807  \n8    SEX     -0.005488  \n9    SEX      1.006402  \n10   SEX      0.005820  \n11   SEX     -0.039257  \n12   SEX      0.939326  \n13   SEX      1.046352  \n14   SEX     -0.104245  \n15   SEX     -0.001342  \n16   SEX      0.972660  \n17   SEX      0.038663  \n18   SEX     -0.029783  \n19   SEX      0.042669  ",
      "text/html": "<div>\n<style scoped>\n    .dataframe tbody tr th:only-of-type {\n        vertical-align: middle;\n    }\n\n    .dataframe tbody tr th {\n        vertical-align: top;\n    }\n\n    .dataframe thead th {\n        text-align: right;\n    }\n</style>\n<table border=\"1\" class=\"dataframe\">\n  <thead>\n    <tr style=\"text-align: right;\">\n      <th></th>\n      <th>Metric</th>\n      <th>Model_Name</th>\n      <th>Dataset_Name</th>\n      <th>Fairness_Intervention</th>\n      <th>Experiment_Iteration</th>\n      <th>Group</th>\n      <th>Metric_Value</th>\n    </tr>\n  </thead>\n  <tbody>\n    <tr>\n      <th>0</th>\n      <td>Accuracy_Parity</td>\n      <td>LGBMClassifier</td>\n      <td>Folktables_GA_2018_Income</td>\n      <td>Baseline</td>\n      <td>Exp_iter_1</td>\n      <td>SEX</td>\n      <td>0.046051</td>\n    </tr>\n    <tr>\n      <th>1</th>\n      <td>Aleatoric_Uncertainty_Parity</td>\n      <td>LGBMClassifier</td>\n      <td>Folktables_GA_2018_Income</td>\n      <td>Baseline</td>\n      <td>Exp_iter_1</td>\n      <td>SEX</td>\n      <td>-0.039453</td>\n    </tr>\n    <tr>\n      <th>2</th>\n      <td>Aleatoric_Uncertainty_Ratio</td>\n      <td>LGBMClassifier</td>\n      <td>Folktables_GA_2018_Income</td>\n      <td>Baseline</td>\n      <td>Exp_iter_1</td>\n      <td>SEX</td>\n      <td>0.937821</td>\n    </tr>\n    <tr>\n      <th>3</th>\n      <td>Epistemic_Uncertainty_Parity</td>\n      <td>LGBMClassifier</td>\n      <td>Folktables_GA_2018_Income</td>\n      <td>Baseline</td>\n      <td>Exp_iter_1</td>\n      <td>SEX</td>\n      <td>0.000196</td>\n    </tr>\n    <tr>\n      <th>4</th>\n      <td>Epistemic_Uncertainty_Ratio</td>\n      <td>LGBMClassifier</td>\n      <td>Folktables_GA_2018_Income</td>\n      <td>Baseline</td>\n      <td>Exp_iter_1</td>\n      <td>SEX</td>\n      <td>1.015684</td>\n    </tr>\n    <tr>\n      <th>5</th>\n      <td>Equalized_Odds_FNR</td>\n      <td>LGBMClassifier</td>\n      <td>Folktables_GA_2018_Income</td>\n      <td>Baseline</td>\n      <td>Exp_iter_1</td>\n      <td>SEX</td>\n      <td>0.029783</td>\n    </tr>\n    <tr>\n      <th>6</th>\n      <td>Equalized_Odds_FPR</td>\n      <td>LGBMClassifier</td>\n      <td>Folktables_GA_2018_Income</td>\n      <td>Baseline</td>\n      <td>Exp_iter_1</td>\n      <td>SEX</td>\n      <td>-0.038663</td>\n    </tr>\n    <tr>\n      <th>7</th>\n      <td>IQR_Parity</td>\n      <td>LGBMClassifier</td>\n      <td>Folktables_GA_2018_Income</td>\n      <td>Baseline</td>\n      <td>Exp_iter_1</td>\n      <td>SEX</td>\n      <td>-0.001807</td>\n    </tr>\n    <tr>\n      <th>8</th>\n      <td>Jitter_Parity</td>\n      <td>LGBMClassifier</td>\n      <td>Folktables_GA_2018_Income</td>\n      <td>Baseline</td>\n      <td>Exp_iter_1</td>\n      <td>SEX</td>\n      <td>-0.005488</td>\n    </tr>\n    <tr>\n      <th>9</th>\n      <td>Label_Stability_Ratio</td>\n      <td>LGBMClassifier</td>\n      <td>Folktables_GA_2018_Income</td>\n      <td>Baseline</td>\n      <td>Exp_iter_1</td>\n      <td>SEX</td>\n      <td>1.006402</td>\n    </tr>\n    <tr>\n      <th>10</th>\n      <td>Label_Stability_Difference</td>\n      <td>LGBMClassifier</td>\n      <td>Folktables_GA_2018_Income</td>\n      <td>Baseline</td>\n      <td>Exp_iter_1</td>\n      <td>SEX</td>\n      <td>0.005820</td>\n    </tr>\n    <tr>\n      <th>11</th>\n      <td>Overall_Uncertainty_Parity</td>\n      <td>LGBMClassifier</td>\n      <td>Folktables_GA_2018_Income</td>\n      <td>Baseline</td>\n      <td>Exp_iter_1</td>\n      <td>SEX</td>\n      <td>-0.039257</td>\n    </tr>\n    <tr>\n      <th>12</th>\n      <td>Overall_Uncertainty_Ratio</td>\n      <td>LGBMClassifier</td>\n      <td>Folktables_GA_2018_Income</td>\n      <td>Baseline</td>\n      <td>Exp_iter_1</td>\n      <td>SEX</td>\n      <td>0.939326</td>\n    </tr>\n    <tr>\n      <th>13</th>\n      <td>Disparate_Impact</td>\n      <td>LGBMClassifier</td>\n      <td>Folktables_GA_2018_Income</td>\n      <td>Baseline</td>\n      <td>Exp_iter_1</td>\n      <td>SEX</td>\n      <td>1.046352</td>\n    </tr>\n    <tr>\n      <th>14</th>\n      <td>Statistical_Parity_Difference</td>\n      <td>LGBMClassifier</td>\n      <td>Folktables_GA_2018_Income</td>\n      <td>Baseline</td>\n      <td>Exp_iter_1</td>\n      <td>SEX</td>\n      <td>-0.104245</td>\n    </tr>\n    <tr>\n      <th>15</th>\n      <td>Std_Parity</td>\n      <td>LGBMClassifier</td>\n      <td>Folktables_GA_2018_Income</td>\n      <td>Baseline</td>\n      <td>Exp_iter_1</td>\n      <td>SEX</td>\n      <td>-0.001342</td>\n    </tr>\n    <tr>\n      <th>16</th>\n      <td>Std_Ratio</td>\n      <td>LGBMClassifier</td>\n      <td>Folktables_GA_2018_Income</td>\n      <td>Baseline</td>\n      <td>Exp_iter_1</td>\n      <td>SEX</td>\n      <td>0.972660</td>\n    </tr>\n    <tr>\n      <th>17</th>\n      <td>Equalized_Odds_TNR</td>\n      <td>LGBMClassifier</td>\n      <td>Folktables_GA_2018_Income</td>\n      <td>Baseline</td>\n      <td>Exp_iter_1</td>\n      <td>SEX</td>\n      <td>0.038663</td>\n    </tr>\n    <tr>\n      <th>18</th>\n      <td>Equalized_Odds_TPR</td>\n      <td>LGBMClassifier</td>\n      <td>Folktables_GA_2018_Income</td>\n      <td>Baseline</td>\n      <td>Exp_iter_1</td>\n      <td>SEX</td>\n      <td>-0.029783</td>\n    </tr>\n    <tr>\n      <th>19</th>\n      <td>Accuracy_Parity</td>\n      <td>LogisticRegression</td>\n      <td>Folktables_GA_2018_Income</td>\n      <td>Baseline</td>\n      <td>Exp_iter_1</td>\n      <td>SEX</td>\n      <td>0.042669</td>\n    </tr>\n  </tbody>\n</table>\n</div>"
     },
     "execution_count": 8,
     "metadata": {},
     "output_type": "execute_result"
    }
   ],
   "source": [
    "all_group_metrics_df.head(20)"
   ]
  },
  {
   "cell_type": "markdown",
   "source": [
    "## Bar Charts"
   ],
   "metadata": {
    "collapsed": false
   },
   "id": "31183ef57b1377f3"
  },
  {
   "cell_type": "code",
   "execution_count": 9,
   "outputs": [],
   "source": [
    "vals_to_replace = {\n",
    "    'Model_Name': {\n",
    "        'LGBMClassifier': 'LGBM',\n",
    "        'LogisticRegression': 'LR',\n",
    "        'RandomForestClassifier': 'RF',\n",
    "        'MLPClassifier': 'MLP',\n",
    "        'AdversarialDebiasing': 'ADB',\n",
    "        'ExponentiatedGradientReduction': 'EGR',\n",
    "    }\n",
    "}"
   ],
   "metadata": {
    "collapsed": false,
    "ExecuteTime": {
     "end_time": "2024-01-11T10:33:46.891717Z",
     "start_time": "2024-01-11T10:33:46.753310Z"
    }
   },
   "id": "24563de4d07aa6bc"
  },
  {
   "cell_type": "code",
   "execution_count": 10,
   "outputs": [
    {
     "data": {
      "text/plain": "         Metric              Model_Name               Dataset_Name  \\\n338    Accuracy          LGBMClassifier  Folktables_GA_2018_Income   \n680    Accuracy      LogisticRegression  Folktables_GA_2018_Income   \n1022   Accuracy  RandomForestClassifier  Folktables_GA_2018_Income   \n1364   Accuracy          LGBMClassifier  Folktables_GA_2018_Income   \n1706   Accuracy      LogisticRegression  Folktables_GA_2018_Income   \n...         ...                     ...                        ...   \n37920  Accuracy           MLPClassifier  Folktables_GA_2018_Income   \n38129  Accuracy           MLPClassifier  Folktables_GA_2018_Income   \n38338  Accuracy           MLPClassifier  Folktables_GA_2018_Income   \n38547  Accuracy           MLPClassifier  Folktables_GA_2018_Income   \n38756  Accuracy           MLPClassifier  Folktables_GA_2018_Income   \n\n       Num_Estimators Record_Create_Date_Time  \\\n338               200 2024-01-06 18:59:47.583   \n680               200 2024-01-06 18:59:47.594   \n1022              200 2024-01-06 18:59:47.604   \n1364              200 2024-01-06 19:12:28.161   \n1706              200 2024-01-06 19:12:28.172   \n...               ...                     ...   \n37920             200 2024-01-06 07:22:34.326   \n38129             200 2024-01-06 07:30:19.862   \n38338             200 2024-01-06 07:37:05.689   \n38547             200 2024-01-06 08:29:58.271   \n38756             200 2024-01-06 08:32:52.181   \n\n                               Session_Uuid Experiment_Iteration  \\\n338    ac796b56-9c83-474a-8e7a-2d95ee5efa7e           Exp_iter_1   \n680    ac796b56-9c83-474a-8e7a-2d95ee5efa7e           Exp_iter_1   \n1022   ac796b56-9c83-474a-8e7a-2d95ee5efa7e           Exp_iter_1   \n1364   ac796b56-9c83-474a-8e7a-2d95ee5efa7e           Exp_iter_4   \n1706   ac796b56-9c83-474a-8e7a-2d95ee5efa7e           Exp_iter_4   \n...                                     ...                  ...   \n37920  426f4b41-5b22-4118-b5c8-15a0ab4aa18f           Exp_iter_1   \n38129  426f4b41-5b22-4118-b5c8-15a0ab4aa18f           Exp_iter_2   \n38338  426f4b41-5b22-4118-b5c8-15a0ab4aa18f           Exp_iter_6   \n38547  426f4b41-5b22-4118-b5c8-15a0ab4aa18f           Exp_iter_5   \n38756  426f4b41-5b22-4118-b5c8-15a0ab4aa18f           Exp_iter_3   \n\n       Dataset_Split_Seed Fair_Intervention_Params_Lst Intervention_Param  \\\n338                   100                        [0.0]                0.0   \n680                   100                        [0.0]                0.0   \n1022                  100                        [0.0]                0.0   \n1364                  400                        [0.0]                0.0   \n1706                  400                        [0.0]                0.0   \n...                   ...                          ...                ...   \n37920                 100                       [True]               True   \n38129                 200                       [True]               True   \n38338                 600                       [True]               True   \n38547                 500                       [True]               True   \n38756                 300                       [True]               True   \n\n      Subgroup  Metric_Value Fairness_Intervention  \n338    overall      0.794933              Baseline  \n680    overall      0.817867              Baseline  \n1022   overall      0.812533              Baseline  \n1364   overall      0.797867              Baseline  \n1706   overall      0.817600              Baseline  \n...        ...           ...                   ...  \n37920  overall      0.558667                   ROC  \n38129  overall      0.575733                   ROC  \n38338  overall      0.564800                   ROC  \n38547  overall      0.566667                   ROC  \n38756  overall      0.587200                   ROC  \n\n[132 rows x 13 columns]",
      "text/html": "<div>\n<style scoped>\n    .dataframe tbody tr th:only-of-type {\n        vertical-align: middle;\n    }\n\n    .dataframe tbody tr th {\n        vertical-align: top;\n    }\n\n    .dataframe thead th {\n        text-align: right;\n    }\n</style>\n<table border=\"1\" class=\"dataframe\">\n  <thead>\n    <tr style=\"text-align: right;\">\n      <th></th>\n      <th>Metric</th>\n      <th>Model_Name</th>\n      <th>Dataset_Name</th>\n      <th>Num_Estimators</th>\n      <th>Record_Create_Date_Time</th>\n      <th>Session_Uuid</th>\n      <th>Experiment_Iteration</th>\n      <th>Dataset_Split_Seed</th>\n      <th>Fair_Intervention_Params_Lst</th>\n      <th>Intervention_Param</th>\n      <th>Subgroup</th>\n      <th>Metric_Value</th>\n      <th>Fairness_Intervention</th>\n    </tr>\n  </thead>\n  <tbody>\n    <tr>\n      <th>338</th>\n      <td>Accuracy</td>\n      <td>LGBMClassifier</td>\n      <td>Folktables_GA_2018_Income</td>\n      <td>200</td>\n      <td>2024-01-06 18:59:47.583</td>\n      <td>ac796b56-9c83-474a-8e7a-2d95ee5efa7e</td>\n      <td>Exp_iter_1</td>\n      <td>100</td>\n      <td>[0.0]</td>\n      <td>0.0</td>\n      <td>overall</td>\n      <td>0.794933</td>\n      <td>Baseline</td>\n    </tr>\n    <tr>\n      <th>680</th>\n      <td>Accuracy</td>\n      <td>LogisticRegression</td>\n      <td>Folktables_GA_2018_Income</td>\n      <td>200</td>\n      <td>2024-01-06 18:59:47.594</td>\n      <td>ac796b56-9c83-474a-8e7a-2d95ee5efa7e</td>\n      <td>Exp_iter_1</td>\n      <td>100</td>\n      <td>[0.0]</td>\n      <td>0.0</td>\n      <td>overall</td>\n      <td>0.817867</td>\n      <td>Baseline</td>\n    </tr>\n    <tr>\n      <th>1022</th>\n      <td>Accuracy</td>\n      <td>RandomForestClassifier</td>\n      <td>Folktables_GA_2018_Income</td>\n      <td>200</td>\n      <td>2024-01-06 18:59:47.604</td>\n      <td>ac796b56-9c83-474a-8e7a-2d95ee5efa7e</td>\n      <td>Exp_iter_1</td>\n      <td>100</td>\n      <td>[0.0]</td>\n      <td>0.0</td>\n      <td>overall</td>\n      <td>0.812533</td>\n      <td>Baseline</td>\n    </tr>\n    <tr>\n      <th>1364</th>\n      <td>Accuracy</td>\n      <td>LGBMClassifier</td>\n      <td>Folktables_GA_2018_Income</td>\n      <td>200</td>\n      <td>2024-01-06 19:12:28.161</td>\n      <td>ac796b56-9c83-474a-8e7a-2d95ee5efa7e</td>\n      <td>Exp_iter_4</td>\n      <td>400</td>\n      <td>[0.0]</td>\n      <td>0.0</td>\n      <td>overall</td>\n      <td>0.797867</td>\n      <td>Baseline</td>\n    </tr>\n    <tr>\n      <th>1706</th>\n      <td>Accuracy</td>\n      <td>LogisticRegression</td>\n      <td>Folktables_GA_2018_Income</td>\n      <td>200</td>\n      <td>2024-01-06 19:12:28.172</td>\n      <td>ac796b56-9c83-474a-8e7a-2d95ee5efa7e</td>\n      <td>Exp_iter_4</td>\n      <td>400</td>\n      <td>[0.0]</td>\n      <td>0.0</td>\n      <td>overall</td>\n      <td>0.817600</td>\n      <td>Baseline</td>\n    </tr>\n    <tr>\n      <th>...</th>\n      <td>...</td>\n      <td>...</td>\n      <td>...</td>\n      <td>...</td>\n      <td>...</td>\n      <td>...</td>\n      <td>...</td>\n      <td>...</td>\n      <td>...</td>\n      <td>...</td>\n      <td>...</td>\n      <td>...</td>\n      <td>...</td>\n    </tr>\n    <tr>\n      <th>37920</th>\n      <td>Accuracy</td>\n      <td>MLPClassifier</td>\n      <td>Folktables_GA_2018_Income</td>\n      <td>200</td>\n      <td>2024-01-06 07:22:34.326</td>\n      <td>426f4b41-5b22-4118-b5c8-15a0ab4aa18f</td>\n      <td>Exp_iter_1</td>\n      <td>100</td>\n      <td>[True]</td>\n      <td>True</td>\n      <td>overall</td>\n      <td>0.558667</td>\n      <td>ROC</td>\n    </tr>\n    <tr>\n      <th>38129</th>\n      <td>Accuracy</td>\n      <td>MLPClassifier</td>\n      <td>Folktables_GA_2018_Income</td>\n      <td>200</td>\n      <td>2024-01-06 07:30:19.862</td>\n      <td>426f4b41-5b22-4118-b5c8-15a0ab4aa18f</td>\n      <td>Exp_iter_2</td>\n      <td>200</td>\n      <td>[True]</td>\n      <td>True</td>\n      <td>overall</td>\n      <td>0.575733</td>\n      <td>ROC</td>\n    </tr>\n    <tr>\n      <th>38338</th>\n      <td>Accuracy</td>\n      <td>MLPClassifier</td>\n      <td>Folktables_GA_2018_Income</td>\n      <td>200</td>\n      <td>2024-01-06 07:37:05.689</td>\n      <td>426f4b41-5b22-4118-b5c8-15a0ab4aa18f</td>\n      <td>Exp_iter_6</td>\n      <td>600</td>\n      <td>[True]</td>\n      <td>True</td>\n      <td>overall</td>\n      <td>0.564800</td>\n      <td>ROC</td>\n    </tr>\n    <tr>\n      <th>38547</th>\n      <td>Accuracy</td>\n      <td>MLPClassifier</td>\n      <td>Folktables_GA_2018_Income</td>\n      <td>200</td>\n      <td>2024-01-06 08:29:58.271</td>\n      <td>426f4b41-5b22-4118-b5c8-15a0ab4aa18f</td>\n      <td>Exp_iter_5</td>\n      <td>500</td>\n      <td>[True]</td>\n      <td>True</td>\n      <td>overall</td>\n      <td>0.566667</td>\n      <td>ROC</td>\n    </tr>\n    <tr>\n      <th>38756</th>\n      <td>Accuracy</td>\n      <td>MLPClassifier</td>\n      <td>Folktables_GA_2018_Income</td>\n      <td>200</td>\n      <td>2024-01-06 08:32:52.181</td>\n      <td>426f4b41-5b22-4118-b5c8-15a0ab4aa18f</td>\n      <td>Exp_iter_3</td>\n      <td>300</td>\n      <td>[True]</td>\n      <td>True</td>\n      <td>overall</td>\n      <td>0.587200</td>\n      <td>ROC</td>\n    </tr>\n  </tbody>\n</table>\n<p>132 rows × 13 columns</p>\n</div>"
     },
     "execution_count": 10,
     "metadata": {},
     "output_type": "execute_result"
    }
   ],
   "source": [
    "all_subgroup_metrics_df[\n",
    "    (all_subgroup_metrics_df['Dataset_Name'] == 'Folktables_GA_2018_Income') &\n",
    "    (all_subgroup_metrics_df['Metric'] == 'Accuracy')  &\n",
    "    (all_subgroup_metrics_df['Subgroup'] == 'overall')\n",
    "].head(20)"
   ],
   "metadata": {
    "collapsed": false,
    "ExecuteTime": {
     "end_time": "2024-01-10T20:49:01.474658Z",
     "start_time": "2024-01-10T20:49:01.273733Z"
    }
   },
   "id": "a8faf412978bf689"
  },
  {
   "cell_type": "code",
   "execution_count": 11,
   "outputs": [
    {
     "data": {
      "text/plain": "                  Metric              Model_Name               Dataset_Name  \\\n158   Equalized_Odds_FPR          LGBMClassifier  Folktables_GA_2018_Income   \n177   Equalized_Odds_FPR      LogisticRegression  Folktables_GA_2018_Income   \n196   Equalized_Odds_FPR           MLPClassifier  Folktables_GA_2018_Income   \n215   Equalized_Odds_FPR  RandomForestClassifier  Folktables_GA_2018_Income   \n386   Equalized_Odds_FPR          LGBMClassifier  Folktables_GA_2018_Income   \n...                  ...                     ...                        ...   \n6100  Equalized_Odds_FPR  RandomForestClassifier  Folktables_GA_2018_Income   \n6190  Equalized_Odds_FPR          LGBMClassifier  Folktables_GA_2018_Income   \n6200  Equalized_Odds_FPR      LogisticRegression  Folktables_GA_2018_Income   \n6210  Equalized_Odds_FPR           MLPClassifier  Folktables_GA_2018_Income   \n6220  Equalized_Odds_FPR  RandomForestClassifier  Folktables_GA_2018_Income   \n\n     Fairness_Intervention Experiment_Iteration      Group  Metric_Value  \n158               Baseline           Exp_iter_1  SEX&RAC1P     -0.014271  \n177               Baseline           Exp_iter_1  SEX&RAC1P     -0.042114  \n196               Baseline           Exp_iter_1  SEX&RAC1P     -0.061046  \n215               Baseline           Exp_iter_1  SEX&RAC1P     -0.014208  \n386               Baseline           Exp_iter_4  SEX&RAC1P     -0.000594  \n...                    ...                  ...        ...           ...  \n6100                   ROC           Exp_iter_1  SEX&RAC1P      0.005580  \n6190                   ROC           Exp_iter_5  SEX&RAC1P     -0.008573  \n6200                   ROC           Exp_iter_5  SEX&RAC1P     -0.027286  \n6210                   ROC           Exp_iter_5  SEX&RAC1P     -0.066199  \n6220                   ROC           Exp_iter_5  SEX&RAC1P      0.009949  \n\n[132 rows x 7 columns]",
      "text/html": "<div>\n<style scoped>\n    .dataframe tbody tr th:only-of-type {\n        vertical-align: middle;\n    }\n\n    .dataframe tbody tr th {\n        vertical-align: top;\n    }\n\n    .dataframe thead th {\n        text-align: right;\n    }\n</style>\n<table border=\"1\" class=\"dataframe\">\n  <thead>\n    <tr style=\"text-align: right;\">\n      <th></th>\n      <th>Metric</th>\n      <th>Model_Name</th>\n      <th>Dataset_Name</th>\n      <th>Fairness_Intervention</th>\n      <th>Experiment_Iteration</th>\n      <th>Group</th>\n      <th>Metric_Value</th>\n    </tr>\n  </thead>\n  <tbody>\n    <tr>\n      <th>158</th>\n      <td>Equalized_Odds_FPR</td>\n      <td>LGBMClassifier</td>\n      <td>Folktables_GA_2018_Income</td>\n      <td>Baseline</td>\n      <td>Exp_iter_1</td>\n      <td>SEX&amp;RAC1P</td>\n      <td>-0.014271</td>\n    </tr>\n    <tr>\n      <th>177</th>\n      <td>Equalized_Odds_FPR</td>\n      <td>LogisticRegression</td>\n      <td>Folktables_GA_2018_Income</td>\n      <td>Baseline</td>\n      <td>Exp_iter_1</td>\n      <td>SEX&amp;RAC1P</td>\n      <td>-0.042114</td>\n    </tr>\n    <tr>\n      <th>196</th>\n      <td>Equalized_Odds_FPR</td>\n      <td>MLPClassifier</td>\n      <td>Folktables_GA_2018_Income</td>\n      <td>Baseline</td>\n      <td>Exp_iter_1</td>\n      <td>SEX&amp;RAC1P</td>\n      <td>-0.061046</td>\n    </tr>\n    <tr>\n      <th>215</th>\n      <td>Equalized_Odds_FPR</td>\n      <td>RandomForestClassifier</td>\n      <td>Folktables_GA_2018_Income</td>\n      <td>Baseline</td>\n      <td>Exp_iter_1</td>\n      <td>SEX&amp;RAC1P</td>\n      <td>-0.014208</td>\n    </tr>\n    <tr>\n      <th>386</th>\n      <td>Equalized_Odds_FPR</td>\n      <td>LGBMClassifier</td>\n      <td>Folktables_GA_2018_Income</td>\n      <td>Baseline</td>\n      <td>Exp_iter_4</td>\n      <td>SEX&amp;RAC1P</td>\n      <td>-0.000594</td>\n    </tr>\n    <tr>\n      <th>...</th>\n      <td>...</td>\n      <td>...</td>\n      <td>...</td>\n      <td>...</td>\n      <td>...</td>\n      <td>...</td>\n      <td>...</td>\n    </tr>\n    <tr>\n      <th>6100</th>\n      <td>Equalized_Odds_FPR</td>\n      <td>RandomForestClassifier</td>\n      <td>Folktables_GA_2018_Income</td>\n      <td>ROC</td>\n      <td>Exp_iter_1</td>\n      <td>SEX&amp;RAC1P</td>\n      <td>0.005580</td>\n    </tr>\n    <tr>\n      <th>6190</th>\n      <td>Equalized_Odds_FPR</td>\n      <td>LGBMClassifier</td>\n      <td>Folktables_GA_2018_Income</td>\n      <td>ROC</td>\n      <td>Exp_iter_5</td>\n      <td>SEX&amp;RAC1P</td>\n      <td>-0.008573</td>\n    </tr>\n    <tr>\n      <th>6200</th>\n      <td>Equalized_Odds_FPR</td>\n      <td>LogisticRegression</td>\n      <td>Folktables_GA_2018_Income</td>\n      <td>ROC</td>\n      <td>Exp_iter_5</td>\n      <td>SEX&amp;RAC1P</td>\n      <td>-0.027286</td>\n    </tr>\n    <tr>\n      <th>6210</th>\n      <td>Equalized_Odds_FPR</td>\n      <td>MLPClassifier</td>\n      <td>Folktables_GA_2018_Income</td>\n      <td>ROC</td>\n      <td>Exp_iter_5</td>\n      <td>SEX&amp;RAC1P</td>\n      <td>-0.066199</td>\n    </tr>\n    <tr>\n      <th>6220</th>\n      <td>Equalized_Odds_FPR</td>\n      <td>RandomForestClassifier</td>\n      <td>Folktables_GA_2018_Income</td>\n      <td>ROC</td>\n      <td>Exp_iter_5</td>\n      <td>SEX&amp;RAC1P</td>\n      <td>0.009949</td>\n    </tr>\n  </tbody>\n</table>\n<p>132 rows × 7 columns</p>\n</div>"
     },
     "execution_count": 11,
     "metadata": {},
     "output_type": "execute_result"
    }
   ],
   "source": [
    "all_group_metrics_df[\n",
    "    (all_group_metrics_df['Dataset_Name'] == 'Folktables_GA_2018_Income') &\n",
    "    (all_group_metrics_df['Metric'] == 'Equalized_Odds_FPR')  &\n",
    "    (all_group_metrics_df['Group'] == 'SEX&RAC1P')\n",
    "].head(20)"
   ],
   "metadata": {
    "collapsed": false,
    "ExecuteTime": {
     "end_time": "2024-01-10T20:49:01.558401Z",
     "start_time": "2024-01-10T20:49:01.329085Z"
    }
   },
   "id": "7027d32a8ffa7978"
  },
  {
   "cell_type": "code",
   "execution_count": 12,
   "outputs": [
    {
     "name": "stdout",
     "output_type": "stream",
     "text": [
      "Models that satisfy all 4 constraints:\n"
     ]
    },
    {
     "data": {
      "text/plain": "  Model_Name           Fairness_Intervention Experiment_Iteration\n0        EGR  ExponentiatedGradientReduction           Exp_iter_1\n1        EGR  ExponentiatedGradientReduction           Exp_iter_2\n2        EGR  ExponentiatedGradientReduction           Exp_iter_4\n3        EGR  ExponentiatedGradientReduction           Exp_iter_5",
      "text/html": "<div>\n<style scoped>\n    .dataframe tbody tr th:only-of-type {\n        vertical-align: middle;\n    }\n\n    .dataframe tbody tr th {\n        vertical-align: top;\n    }\n\n    .dataframe thead th {\n        text-align: right;\n    }\n</style>\n<table border=\"1\" class=\"dataframe\">\n  <thead>\n    <tr style=\"text-align: right;\">\n      <th></th>\n      <th>Model_Name</th>\n      <th>Fairness_Intervention</th>\n      <th>Experiment_Iteration</th>\n    </tr>\n  </thead>\n  <tbody>\n    <tr>\n      <th>0</th>\n      <td>EGR</td>\n      <td>ExponentiatedGradientReduction</td>\n      <td>Exp_iter_1</td>\n    </tr>\n    <tr>\n      <th>1</th>\n      <td>EGR</td>\n      <td>ExponentiatedGradientReduction</td>\n      <td>Exp_iter_2</td>\n    </tr>\n    <tr>\n      <th>2</th>\n      <td>EGR</td>\n      <td>ExponentiatedGradientReduction</td>\n      <td>Exp_iter_4</td>\n    </tr>\n    <tr>\n      <th>3</th>\n      <td>EGR</td>\n      <td>ExponentiatedGradientReduction</td>\n      <td>Exp_iter_5</td>\n    </tr>\n  </tbody>\n</table>\n</div>"
     },
     "metadata": {},
     "output_type": "display_data"
    },
    {
     "data": {
      "text/html": "\n<div id=\"altair-viz-060509da2f9b4a04ac6f5861365c2308\"></div>\n<script type=\"text/javascript\">\n  var VEGA_DEBUG = (typeof VEGA_DEBUG == \"undefined\") ? {} : VEGA_DEBUG;\n  (function(spec, embedOpt){\n    let outputDiv = document.currentScript.previousElementSibling;\n    if (outputDiv.id !== \"altair-viz-060509da2f9b4a04ac6f5861365c2308\") {\n      outputDiv = document.getElementById(\"altair-viz-060509da2f9b4a04ac6f5861365c2308\");\n    }\n    const paths = {\n      \"vega\": \"https://cdn.jsdelivr.net/npm//vega@5?noext\",\n      \"vega-lib\": \"https://cdn.jsdelivr.net/npm//vega-lib?noext\",\n      \"vega-lite\": \"https://cdn.jsdelivr.net/npm//vega-lite@4.17.0?noext\",\n      \"vega-embed\": \"https://cdn.jsdelivr.net/npm//vega-embed@6?noext\",\n    };\n\n    function maybeLoadScript(lib, version) {\n      var key = `${lib.replace(\"-\", \"\")}_version`;\n      return (VEGA_DEBUG[key] == version) ?\n        Promise.resolve(paths[lib]) :\n        new Promise(function(resolve, reject) {\n          var s = document.createElement('script');\n          document.getElementsByTagName(\"head\")[0].appendChild(s);\n          s.async = true;\n          s.onload = () => {\n            VEGA_DEBUG[key] = version;\n            return resolve(paths[lib]);\n          };\n          s.onerror = () => reject(`Error loading script: ${paths[lib]}`);\n          s.src = paths[lib];\n        });\n    }\n\n    function showError(err) {\n      outputDiv.innerHTML = `<div class=\"error\" style=\"color:red;\">${err}</div>`;\n      throw err;\n    }\n\n    function displayChart(vegaEmbed) {\n      vegaEmbed(outputDiv, spec, embedOpt)\n        .catch(err => showError(`Javascript Error: ${err.message}<br>This usually means there's a typo in your chart specification. See the javascript console for the full traceback.`));\n    }\n\n    if(typeof define === \"function\" && define.amd) {\n      requirejs.config({paths});\n      require([\"vega-embed\"], displayChart, err => showError(`Error loading script: ${err.message}`));\n    } else {\n      maybeLoadScript(\"vega\", \"5\")\n        .then(() => maybeLoadScript(\"vega-lite\", \"4.17.0\"))\n        .then(() => maybeLoadScript(\"vega-embed\", \"6\"))\n        .catch(showError)\n        .then(() => displayChart(vegaEmbed));\n    }\n  })({\"config\": {\"view\": {\"continuousWidth\": 400, \"continuousHeight\": 300}, \"axis\": {\"labelFontSize\": 27, \"labelFontWeight\": \"normal\", \"labelLimit\": 300, \"tickMinStep\": 1, \"titleFontSize\": 29, \"titleFontWeight\": \"normal\"}, \"legend\": {\"columns\": 2, \"labelFontSize\": 25, \"labelLimit\": 300, \"legendX\": 450, \"legendY\": 10, \"orient\": \"none\", \"symbolStrokeWidth\": 4, \"titleFontSize\": 27, \"titleLimit\": 220}, \"title\": {\"fontSize\": 27}}, \"data\": {\"name\": \"data-4005e0b24834652ff78cbc445d6fded3\"}, \"mark\": \"bar\", \"encoding\": {\"color\": {\"field\": \"Model_Name\", \"legend\": {\"title\": \"Model Name\"}, \"type\": \"nominal\"}, \"x\": {\"axis\": {\"labelAngle\": -30}, \"field\": \"Title\", \"sort\": {\"order\": \"ascending\"}, \"title\": \"Metric Group\", \"type\": \"nominal\"}, \"y\": {\"field\": \"Number_of_Models\", \"title\": \"Number of Models\", \"type\": \"quantitative\"}}, \"height\": 450, \"width\": 650, \"$schema\": \"https://vega.github.io/schema/vega-lite/v4.17.0.json\", \"datasets\": {\"data-4005e0b24834652ff78cbc445d6fded3\": [{\"Model_Name\": \"MLP\", \"Number_of_Models\": 17, \"Metric_Group\": \"Accuracy\", \"Alias\": \"C1\", \"Title\": \"C1\"}, {\"Model_Name\": \"RF\", \"Number_of_Models\": 17, \"Metric_Group\": \"Accuracy\", \"Alias\": \"C1\", \"Title\": \"C1\"}, {\"Model_Name\": \"LR\", \"Number_of_Models\": 16, \"Metric_Group\": \"Accuracy\", \"Alias\": \"C1\", \"Title\": \"C1\"}, {\"Model_Name\": \"LGBM\", \"Number_of_Models\": 7, \"Metric_Group\": \"Accuracy\", \"Alias\": \"C1\", \"Title\": \"C1\"}, {\"Model_Name\": \"ADB\", \"Number_of_Models\": 5, \"Metric_Group\": \"Accuracy\", \"Alias\": \"C1\", \"Title\": \"C1\"}, {\"Model_Name\": \"EGR\", \"Number_of_Models\": 4, \"Metric_Group\": \"Accuracy\", \"Alias\": \"C1\", \"Title\": \"C1\"}, {\"Model_Name\": \"LGBM\", \"Number_of_Models\": 22, \"Metric_Group\": \"Equalized_Odds_FPR\", \"Alias\": \"C2\", \"Title\": \"C2\"}, {\"Model_Name\": \"RF\", \"Number_of_Models\": 19, \"Metric_Group\": \"Equalized_Odds_FPR\", \"Alias\": \"C2\", \"Title\": \"C2\"}, {\"Model_Name\": \"LR\", \"Number_of_Models\": 15, \"Metric_Group\": \"Equalized_Odds_FPR\", \"Alias\": \"C2\", \"Title\": \"C2\"}, {\"Model_Name\": \"MLP\", \"Number_of_Models\": 15, \"Metric_Group\": \"Equalized_Odds_FPR\", \"Alias\": \"C2\", \"Title\": \"C2\"}, {\"Model_Name\": \"EGR\", \"Number_of_Models\": 6, \"Metric_Group\": \"Equalized_Odds_FPR\", \"Alias\": \"C2\", \"Title\": \"C2\"}, {\"Model_Name\": \"EGR\", \"Number_of_Models\": 6, \"Metric_Group\": \"Aleatoric_Uncertainty\", \"Alias\": \"C3\", \"Title\": \"C3\"}, {\"Model_Name\": \"LGBM\", \"Number_of_Models\": 18, \"Metric_Group\": \"Std_Parity\", \"Alias\": \"C4\", \"Title\": \"C4\"}, {\"Model_Name\": \"LR\", \"Number_of_Models\": 18, \"Metric_Group\": \"Std_Parity\", \"Alias\": \"C4\", \"Title\": \"C4\"}, {\"Model_Name\": \"MLP\", \"Number_of_Models\": 18, \"Metric_Group\": \"Std_Parity\", \"Alias\": \"C4\", \"Title\": \"C4\"}, {\"Model_Name\": \"RF\", \"Number_of_Models\": 18, \"Metric_Group\": \"Std_Parity\", \"Alias\": \"C4\", \"Title\": \"C4\"}, {\"Model_Name\": \"EGR\", \"Number_of_Models\": 6, \"Metric_Group\": \"Std_Parity\", \"Alias\": \"C4\", \"Title\": \"C4\"}, {\"Model_Name\": \"ADB\", \"Number_of_Models\": 5, \"Metric_Group\": \"Std_Parity\", \"Alias\": \"C4\", \"Title\": \"C4\"}, {\"Model_Name\": \"RF\", \"Number_of_Models\": 11, \"Metric_Group\": \"Accuracy&Equalized_Odds_FPR\", \"Alias\": \"C1 & C2\", \"Title\": \"C1 & C2\"}, {\"Model_Name\": \"MLP\", \"Number_of_Models\": 9, \"Metric_Group\": \"Accuracy&Equalized_Odds_FPR\", \"Alias\": \"C1 & C2\", \"Title\": \"C1 & C2\"}, {\"Model_Name\": \"LGBM\", \"Number_of_Models\": 5, \"Metric_Group\": \"Accuracy&Equalized_Odds_FPR\", \"Alias\": \"C1 & C2\", \"Title\": \"C1 & C2\"}, {\"Model_Name\": \"LR\", \"Number_of_Models\": 5, \"Metric_Group\": \"Accuracy&Equalized_Odds_FPR\", \"Alias\": \"C1 & C2\", \"Title\": \"C1 & C2\"}, {\"Model_Name\": \"EGR\", \"Number_of_Models\": 4, \"Metric_Group\": \"Accuracy&Equalized_Odds_FPR\", \"Alias\": \"C1 & C2\", \"Title\": \"C1 & C2\"}, {\"Model_Name\": \"EGR\", \"Number_of_Models\": 4, \"Metric_Group\": \"Accuracy&Aleatoric_Uncertainty\", \"Alias\": \"C1 & C3\", \"Title\": \"C1 & C3\"}, {\"Model_Name\": \"MLP\", \"Number_of_Models\": 11, \"Metric_Group\": \"Accuracy&Std_Parity\", \"Alias\": \"C1 & C4\", \"Title\": \"C1 & C4\"}, {\"Model_Name\": \"RF\", \"Number_of_Models\": 11, \"Metric_Group\": \"Accuracy&Std_Parity\", \"Alias\": \"C1 & C4\", \"Title\": \"C1 & C4\"}, {\"Model_Name\": \"LR\", \"Number_of_Models\": 10, \"Metric_Group\": \"Accuracy&Std_Parity\", \"Alias\": \"C1 & C4\", \"Title\": \"C1 & C4\"}, {\"Model_Name\": \"LGBM\", \"Number_of_Models\": 5, \"Metric_Group\": \"Accuracy&Std_Parity\", \"Alias\": \"C1 & C4\", \"Title\": \"C1 & C4\"}, {\"Model_Name\": \"ADB\", \"Number_of_Models\": 4, \"Metric_Group\": \"Accuracy&Std_Parity\", \"Alias\": \"C1 & C4\", \"Title\": \"C1 & C4\"}, {\"Model_Name\": \"EGR\", \"Number_of_Models\": 4, \"Metric_Group\": \"Accuracy&Std_Parity\", \"Alias\": \"C1 & C4\", \"Title\": \"C1 & C4\"}, {\"Model_Name\": \"EGR\", \"Number_of_Models\": 4, \"Metric_Group\": \"Accuracy&Equalized_Odds_FPR&Aleatoric_Uncertainty&Std_Parity\", \"Alias\": \"C1 & C2 & C3 & C4\", \"Title\": \"C1 & C2 & C3 & C4\"}]}}, {\"mode\": \"vega-lite\"});\n</script>",
      "text/plain": "alt.Chart(...)"
     },
     "execution_count": 12,
     "metadata": {},
     "output_type": "execute_result"
    }
   ],
   "source": [
    "metrics_value_range_dct = {\n",
    "    'Accuracy': [0.8, 1.0], # C1\n",
    "    'Equalized_Odds_FPR': [-0.03, 0.03], # C2\n",
    "    'Aleatoric_Uncertainty': [0.0, 0.07], # C3\n",
    "    'Std_Parity': [-0.04, 0.04], # C4\n",
    "    'Accuracy&Equalized_Odds_FPR': None, # C1 + C2\n",
    "    'Accuracy&Aleatoric_Uncertainty': None, # C1 + C3\n",
    "    'Accuracy&Std_Parity': None, # C1 + C4\n",
    "    'Accuracy&Equalized_Odds_FPR&Aleatoric_Uncertainty&Std_Parity': None, # C1 + C2 + C3 + C4\n",
    "}\n",
    "create_bar_chart_for_model_selection(all_subgroup_metrics_df,\n",
    "                                     all_group_metrics_df,\n",
    "                                     metrics_value_range_dct,\n",
    "                                     dataset_name='Folktables_GA_2018_Income',\n",
    "                                     group='SEX&RAC1P',\n",
    "                                     vals_to_replace=vals_to_replace)"
   ],
   "metadata": {
    "collapsed": false,
    "ExecuteTime": {
     "end_time": "2024-01-11T10:39:22.665427Z",
     "start_time": "2024-01-11T10:39:22.384008Z"
    }
   },
   "id": "94a77c9c612a6e56"
  },
  {
   "cell_type": "code",
   "execution_count": 18,
   "outputs": [
    {
     "name": "stdout",
     "output_type": "stream",
     "text": [
      "Models that satisfy all 4 constraints:\n"
     ]
    },
    {
     "data": {
      "text/plain": "  Model_Name           Fairness_Intervention Experiment_Iteration\n0        EGR  ExponentiatedGradientReduction           Exp_iter_2\n1         LR                        Baseline           Exp_iter_2\n2         LR            EqOddsPostprocessing           Exp_iter_1\n3         LR            EqOddsPostprocessing           Exp_iter_2",
      "text/html": "<div>\n<style scoped>\n    .dataframe tbody tr th:only-of-type {\n        vertical-align: middle;\n    }\n\n    .dataframe tbody tr th {\n        vertical-align: top;\n    }\n\n    .dataframe thead th {\n        text-align: right;\n    }\n</style>\n<table border=\"1\" class=\"dataframe\">\n  <thead>\n    <tr style=\"text-align: right;\">\n      <th></th>\n      <th>Model_Name</th>\n      <th>Fairness_Intervention</th>\n      <th>Experiment_Iteration</th>\n    </tr>\n  </thead>\n  <tbody>\n    <tr>\n      <th>0</th>\n      <td>EGR</td>\n      <td>ExponentiatedGradientReduction</td>\n      <td>Exp_iter_2</td>\n    </tr>\n    <tr>\n      <th>1</th>\n      <td>LR</td>\n      <td>Baseline</td>\n      <td>Exp_iter_2</td>\n    </tr>\n    <tr>\n      <th>2</th>\n      <td>LR</td>\n      <td>EqOddsPostprocessing</td>\n      <td>Exp_iter_1</td>\n    </tr>\n    <tr>\n      <th>3</th>\n      <td>LR</td>\n      <td>EqOddsPostprocessing</td>\n      <td>Exp_iter_2</td>\n    </tr>\n  </tbody>\n</table>\n</div>"
     },
     "metadata": {},
     "output_type": "display_data"
    },
    {
     "data": {
      "text/html": "\n<div id=\"altair-viz-6d0397748e2b4348a5b8e998141a566e\"></div>\n<script type=\"text/javascript\">\n  var VEGA_DEBUG = (typeof VEGA_DEBUG == \"undefined\") ? {} : VEGA_DEBUG;\n  (function(spec, embedOpt){\n    let outputDiv = document.currentScript.previousElementSibling;\n    if (outputDiv.id !== \"altair-viz-6d0397748e2b4348a5b8e998141a566e\") {\n      outputDiv = document.getElementById(\"altair-viz-6d0397748e2b4348a5b8e998141a566e\");\n    }\n    const paths = {\n      \"vega\": \"https://cdn.jsdelivr.net/npm//vega@5?noext\",\n      \"vega-lib\": \"https://cdn.jsdelivr.net/npm//vega-lib?noext\",\n      \"vega-lite\": \"https://cdn.jsdelivr.net/npm//vega-lite@4.17.0?noext\",\n      \"vega-embed\": \"https://cdn.jsdelivr.net/npm//vega-embed@6?noext\",\n    };\n\n    function maybeLoadScript(lib, version) {\n      var key = `${lib.replace(\"-\", \"\")}_version`;\n      return (VEGA_DEBUG[key] == version) ?\n        Promise.resolve(paths[lib]) :\n        new Promise(function(resolve, reject) {\n          var s = document.createElement('script');\n          document.getElementsByTagName(\"head\")[0].appendChild(s);\n          s.async = true;\n          s.onload = () => {\n            VEGA_DEBUG[key] = version;\n            return resolve(paths[lib]);\n          };\n          s.onerror = () => reject(`Error loading script: ${paths[lib]}`);\n          s.src = paths[lib];\n        });\n    }\n\n    function showError(err) {\n      outputDiv.innerHTML = `<div class=\"error\" style=\"color:red;\">${err}</div>`;\n      throw err;\n    }\n\n    function displayChart(vegaEmbed) {\n      vegaEmbed(outputDiv, spec, embedOpt)\n        .catch(err => showError(`Javascript Error: ${err.message}<br>This usually means there's a typo in your chart specification. See the javascript console for the full traceback.`));\n    }\n\n    if(typeof define === \"function\" && define.amd) {\n      requirejs.config({paths});\n      require([\"vega-embed\"], displayChart, err => showError(`Error loading script: ${err.message}`));\n    } else {\n      maybeLoadScript(\"vega\", \"5\")\n        .then(() => maybeLoadScript(\"vega-lite\", \"4.17.0\"))\n        .then(() => maybeLoadScript(\"vega-embed\", \"6\"))\n        .catch(showError)\n        .then(() => displayChart(vegaEmbed));\n    }\n  })({\"config\": {\"view\": {\"continuousWidth\": 400, \"continuousHeight\": 300}, \"axis\": {\"labelFontSize\": 27, \"labelFontWeight\": \"normal\", \"labelLimit\": 300, \"tickMinStep\": 1, \"titleFontSize\": 29, \"titleFontWeight\": \"normal\"}, \"legend\": {\"columns\": 2, \"labelFontSize\": 25, \"labelLimit\": 300, \"legendX\": 450, \"legendY\": 10, \"orient\": \"none\", \"symbolStrokeWidth\": 4, \"titleFontSize\": 27, \"titleLimit\": 220}, \"title\": {\"fontSize\": 27}}, \"data\": {\"name\": \"data-f957c134c71d6e6bc3acae1ca2f02c6b\"}, \"mark\": \"bar\", \"encoding\": {\"color\": {\"field\": \"Model_Name\", \"legend\": {\"title\": \"Model Name\"}, \"type\": \"nominal\"}, \"x\": {\"axis\": {\"labelAngle\": -30}, \"field\": \"Title\", \"sort\": {\"order\": \"ascending\"}, \"title\": \"Metric Group\", \"type\": \"nominal\"}, \"y\": {\"field\": \"Number_of_Models\", \"title\": \"Number of Models\", \"type\": \"quantitative\"}}, \"height\": 450, \"width\": 650, \"$schema\": \"https://vega.github.io/schema/vega-lite/v4.17.0.json\", \"datasets\": {\"data-f957c134c71d6e6bc3acae1ca2f02c6b\": [{\"Model_Name\": \"LGBM\", \"Number_of_Models\": 18, \"Metric_Group\": \"Accuracy\", \"Alias\": \"C1\", \"Title\": \"C1\"}, {\"Model_Name\": \"MLP\", \"Number_of_Models\": 18, \"Metric_Group\": \"Accuracy\", \"Alias\": \"C1\", \"Title\": \"C1\"}, {\"Model_Name\": \"RF\", \"Number_of_Models\": 13, \"Metric_Group\": \"Accuracy\", \"Alias\": \"C1\", \"Title\": \"C1\"}, {\"Model_Name\": \"ADB\", \"Number_of_Models\": 5, \"Metric_Group\": \"Accuracy\", \"Alias\": \"C1\", \"Title\": \"C1\"}, {\"Model_Name\": \"LR\", \"Number_of_Models\": 4, \"Metric_Group\": \"Accuracy\", \"Alias\": \"C1\", \"Title\": \"C1\"}, {\"Model_Name\": \"EGR\", \"Number_of_Models\": 1, \"Metric_Group\": \"Accuracy\", \"Alias\": \"C1\", \"Title\": \"C1\"}, {\"Model_Name\": \"LGBM\", \"Number_of_Models\": 28, \"Metric_Group\": \"Equalized_Odds_FPR\", \"Alias\": \"C2\", \"Title\": \"C2\"}, {\"Model_Name\": \"RF\", \"Number_of_Models\": 27, \"Metric_Group\": \"Equalized_Odds_FPR\", \"Alias\": \"C2\", \"Title\": \"C2\"}, {\"Model_Name\": \"LR\", \"Number_of_Models\": 26, \"Metric_Group\": \"Equalized_Odds_FPR\", \"Alias\": \"C2\", \"Title\": \"C2\"}, {\"Model_Name\": \"MLP\", \"Number_of_Models\": 26, \"Metric_Group\": \"Equalized_Odds_FPR\", \"Alias\": \"C2\", \"Title\": \"C2\"}, {\"Model_Name\": \"EGR\", \"Number_of_Models\": 6, \"Metric_Group\": \"Equalized_Odds_FPR\", \"Alias\": \"C2\", \"Title\": \"C2\"}, {\"Model_Name\": \"ADB\", \"Number_of_Models\": 5, \"Metric_Group\": \"Equalized_Odds_FPR\", \"Alias\": \"C2\", \"Title\": \"C2\"}, {\"Model_Name\": \"LR\", \"Number_of_Models\": 30, \"Metric_Group\": \"Label_Stability\", \"Alias\": \"C3\", \"Title\": \"C3\"}, {\"Model_Name\": \"MLP\", \"Number_of_Models\": 12, \"Metric_Group\": \"Label_Stability\", \"Alias\": \"C3\", \"Title\": \"C3\"}, {\"Model_Name\": \"EGR\", \"Number_of_Models\": 6, \"Metric_Group\": \"Label_Stability\", \"Alias\": \"C3\", \"Title\": \"C3\"}, {\"Model_Name\": \"LGBM\", \"Number_of_Models\": 6, \"Metric_Group\": \"Label_Stability\", \"Alias\": \"C3\", \"Title\": \"C3\"}, {\"Model_Name\": \"RF\", \"Number_of_Models\": 6, \"Metric_Group\": \"Label_Stability\", \"Alias\": \"C3\", \"Title\": \"C3\"}, {\"Model_Name\": \"LGBM\", \"Number_of_Models\": 30, \"Metric_Group\": \"Label_Stability_Ratio\", \"Alias\": \"C4\", \"Title\": \"C4\"}, {\"Model_Name\": \"LR\", \"Number_of_Models\": 30, \"Metric_Group\": \"Label_Stability_Ratio\", \"Alias\": \"C4\", \"Title\": \"C4\"}, {\"Model_Name\": \"MLP\", \"Number_of_Models\": 30, \"Metric_Group\": \"Label_Stability_Ratio\", \"Alias\": \"C4\", \"Title\": \"C4\"}, {\"Model_Name\": \"RF\", \"Number_of_Models\": 30, \"Metric_Group\": \"Label_Stability_Ratio\", \"Alias\": \"C4\", \"Title\": \"C4\"}, {\"Model_Name\": \"ADB\", \"Number_of_Models\": 6, \"Metric_Group\": \"Label_Stability_Ratio\", \"Alias\": \"C4\", \"Title\": \"C4\"}, {\"Model_Name\": \"EGR\", \"Number_of_Models\": 6, \"Metric_Group\": \"Label_Stability_Ratio\", \"Alias\": \"C4\", \"Title\": \"C4\"}, {\"Model_Name\": \"LGBM\", \"Number_of_Models\": 17, \"Metric_Group\": \"Accuracy&Equalized_Odds_FPR\", \"Alias\": \"C1 & C2\", \"Title\": \"C1 & C2\"}, {\"Model_Name\": \"MLP\", \"Number_of_Models\": 17, \"Metric_Group\": \"Accuracy&Equalized_Odds_FPR\", \"Alias\": \"C1 & C2\", \"Title\": \"C1 & C2\"}, {\"Model_Name\": \"RF\", \"Number_of_Models\": 13, \"Metric_Group\": \"Accuracy&Equalized_Odds_FPR\", \"Alias\": \"C1 & C2\", \"Title\": \"C1 & C2\"}, {\"Model_Name\": \"ADB\", \"Number_of_Models\": 4, \"Metric_Group\": \"Accuracy&Equalized_Odds_FPR\", \"Alias\": \"C1 & C2\", \"Title\": \"C1 & C2\"}, {\"Model_Name\": \"LR\", \"Number_of_Models\": 3, \"Metric_Group\": \"Accuracy&Equalized_Odds_FPR\", \"Alias\": \"C1 & C2\", \"Title\": \"C1 & C2\"}, {\"Model_Name\": \"EGR\", \"Number_of_Models\": 1, \"Metric_Group\": \"Accuracy&Equalized_Odds_FPR\", \"Alias\": \"C1 & C2\", \"Title\": \"C1 & C2\"}, {\"Model_Name\": \"LR\", \"Number_of_Models\": 4, \"Metric_Group\": \"Accuracy&Label_Stability\", \"Alias\": \"C1 & C3\", \"Title\": \"C1 & C3\"}, {\"Model_Name\": \"EGR\", \"Number_of_Models\": 1, \"Metric_Group\": \"Accuracy&Label_Stability\", \"Alias\": \"C1 & C3\", \"Title\": \"C1 & C3\"}, {\"Model_Name\": \"LGBM\", \"Number_of_Models\": 18, \"Metric_Group\": \"Accuracy&Label_Stability_Ratio\", \"Alias\": \"C1 & C4\", \"Title\": \"C1 & C4\"}, {\"Model_Name\": \"MLP\", \"Number_of_Models\": 18, \"Metric_Group\": \"Accuracy&Label_Stability_Ratio\", \"Alias\": \"C1 & C4\", \"Title\": \"C1 & C4\"}, {\"Model_Name\": \"RF\", \"Number_of_Models\": 13, \"Metric_Group\": \"Accuracy&Label_Stability_Ratio\", \"Alias\": \"C1 & C4\", \"Title\": \"C1 & C4\"}, {\"Model_Name\": \"ADB\", \"Number_of_Models\": 5, \"Metric_Group\": \"Accuracy&Label_Stability_Ratio\", \"Alias\": \"C1 & C4\", \"Title\": \"C1 & C4\"}, {\"Model_Name\": \"LR\", \"Number_of_Models\": 4, \"Metric_Group\": \"Accuracy&Label_Stability_Ratio\", \"Alias\": \"C1 & C4\", \"Title\": \"C1 & C4\"}, {\"Model_Name\": \"EGR\", \"Number_of_Models\": 1, \"Metric_Group\": \"Accuracy&Label_Stability_Ratio\", \"Alias\": \"C1 & C4\", \"Title\": \"C1 & C4\"}, {\"Model_Name\": \"LR\", \"Number_of_Models\": 3, \"Metric_Group\": \"Accuracy&Equalized_Odds_FPR&Label_Stability&Label_Stability_Ratio\", \"Alias\": \"C1 & C2 & C3 & C4\", \"Title\": \"C1 & C2 & C3 & C4\"}, {\"Model_Name\": \"EGR\", \"Number_of_Models\": 1, \"Metric_Group\": \"Accuracy&Equalized_Odds_FPR&Label_Stability&Label_Stability_Ratio\", \"Alias\": \"C1 & C2 & C3 & C4\", \"Title\": \"C1 & C2 & C3 & C4\"}]}}, {\"mode\": \"vega-lite\"});\n</script>",
      "text/plain": "alt.Chart(...)"
     },
     "execution_count": 18,
     "metadata": {},
     "output_type": "execute_result"
    }
   ],
   "source": [
    "metrics_value_range_dct = {\n",
    "    'Accuracy': [0.7, 1.0], # C1\n",
    "    'Equalized_Odds_FPR': [-0.03, 0.03], # C2\n",
    "    'Label_Stability': [0.87, 1.0], # C3\n",
    "    'Label_Stability_Ratio': [0.93, 1.07], # C4\n",
    "    'Accuracy&Equalized_Odds_FPR': None, # C1 + C2\n",
    "    'Accuracy&Label_Stability': None, # C1 + C3\n",
    "    'Accuracy&Label_Stability_Ratio': None, # C1 + C4\n",
    "    'Accuracy&Equalized_Odds_FPR&Label_Stability&Label_Stability_Ratio': None, # C1 + C2 + C3 + C4\n",
    "}\n",
    "create_bar_chart_for_model_selection(all_subgroup_metrics_df,\n",
    "                                     all_group_metrics_df,\n",
    "                                     metrics_value_range_dct,\n",
    "                                     dataset_name='Folktables_CA_2018_Public_Coverage',\n",
    "                                     group='SEX&RAC1P',\n",
    "                                     vals_to_replace=vals_to_replace)"
   ],
   "metadata": {
    "collapsed": false,
    "ExecuteTime": {
     "end_time": "2024-01-10T21:20:19.068570Z",
     "start_time": "2024-01-10T21:20:18.835227Z"
    }
   },
   "id": "6f73aaabadda46c2"
  },
  {
   "cell_type": "code",
   "execution_count": 13,
   "outputs": [
    {
     "name": "stdout",
     "output_type": "stream",
     "text": [
      "Models that satisfy all 4 constraints:\n"
     ]
    },
    {
     "data": {
      "text/plain": "  Model_Name           Fairness_Intervention Experiment_Iteration\n0        EGR  ExponentiatedGradientReduction           Exp_iter_2\n1       LGBM                             ROC           Exp_iter_2\n2         LR                             ROC           Exp_iter_2\n3        MLP                             DIR           Exp_iter_3\n4        MLP                             ROC           Exp_iter_2",
      "text/html": "<div>\n<style scoped>\n    .dataframe tbody tr th:only-of-type {\n        vertical-align: middle;\n    }\n\n    .dataframe tbody tr th {\n        vertical-align: top;\n    }\n\n    .dataframe thead th {\n        text-align: right;\n    }\n</style>\n<table border=\"1\" class=\"dataframe\">\n  <thead>\n    <tr style=\"text-align: right;\">\n      <th></th>\n      <th>Model_Name</th>\n      <th>Fairness_Intervention</th>\n      <th>Experiment_Iteration</th>\n    </tr>\n  </thead>\n  <tbody>\n    <tr>\n      <th>0</th>\n      <td>EGR</td>\n      <td>ExponentiatedGradientReduction</td>\n      <td>Exp_iter_2</td>\n    </tr>\n    <tr>\n      <th>1</th>\n      <td>LGBM</td>\n      <td>ROC</td>\n      <td>Exp_iter_2</td>\n    </tr>\n    <tr>\n      <th>2</th>\n      <td>LR</td>\n      <td>ROC</td>\n      <td>Exp_iter_2</td>\n    </tr>\n    <tr>\n      <th>3</th>\n      <td>MLP</td>\n      <td>DIR</td>\n      <td>Exp_iter_3</td>\n    </tr>\n    <tr>\n      <th>4</th>\n      <td>MLP</td>\n      <td>ROC</td>\n      <td>Exp_iter_2</td>\n    </tr>\n  </tbody>\n</table>\n</div>"
     },
     "metadata": {},
     "output_type": "display_data"
    },
    {
     "data": {
      "text/html": "\n<div id=\"altair-viz-c71ef63f2d6547049ccf14eb01a18db8\"></div>\n<script type=\"text/javascript\">\n  var VEGA_DEBUG = (typeof VEGA_DEBUG == \"undefined\") ? {} : VEGA_DEBUG;\n  (function(spec, embedOpt){\n    let outputDiv = document.currentScript.previousElementSibling;\n    if (outputDiv.id !== \"altair-viz-c71ef63f2d6547049ccf14eb01a18db8\") {\n      outputDiv = document.getElementById(\"altair-viz-c71ef63f2d6547049ccf14eb01a18db8\");\n    }\n    const paths = {\n      \"vega\": \"https://cdn.jsdelivr.net/npm//vega@5?noext\",\n      \"vega-lib\": \"https://cdn.jsdelivr.net/npm//vega-lib?noext\",\n      \"vega-lite\": \"https://cdn.jsdelivr.net/npm//vega-lite@4.17.0?noext\",\n      \"vega-embed\": \"https://cdn.jsdelivr.net/npm//vega-embed@6?noext\",\n    };\n\n    function maybeLoadScript(lib, version) {\n      var key = `${lib.replace(\"-\", \"\")}_version`;\n      return (VEGA_DEBUG[key] == version) ?\n        Promise.resolve(paths[lib]) :\n        new Promise(function(resolve, reject) {\n          var s = document.createElement('script');\n          document.getElementsByTagName(\"head\")[0].appendChild(s);\n          s.async = true;\n          s.onload = () => {\n            VEGA_DEBUG[key] = version;\n            return resolve(paths[lib]);\n          };\n          s.onerror = () => reject(`Error loading script: ${paths[lib]}`);\n          s.src = paths[lib];\n        });\n    }\n\n    function showError(err) {\n      outputDiv.innerHTML = `<div class=\"error\" style=\"color:red;\">${err}</div>`;\n      throw err;\n    }\n\n    function displayChart(vegaEmbed) {\n      vegaEmbed(outputDiv, spec, embedOpt)\n        .catch(err => showError(`Javascript Error: ${err.message}<br>This usually means there's a typo in your chart specification. See the javascript console for the full traceback.`));\n    }\n\n    if(typeof define === \"function\" && define.amd) {\n      requirejs.config({paths});\n      require([\"vega-embed\"], displayChart, err => showError(`Error loading script: ${err.message}`));\n    } else {\n      maybeLoadScript(\"vega\", \"5\")\n        .then(() => maybeLoadScript(\"vega-lite\", \"4.17.0\"))\n        .then(() => maybeLoadScript(\"vega-embed\", \"6\"))\n        .catch(showError)\n        .then(() => displayChart(vegaEmbed));\n    }\n  })({\"config\": {\"view\": {\"continuousWidth\": 400, \"continuousHeight\": 300}, \"axis\": {\"labelFontSize\": 27, \"labelFontWeight\": \"normal\", \"labelLimit\": 300, \"tickMinStep\": 1, \"titleFontSize\": 29, \"titleFontWeight\": \"normal\"}, \"legend\": {\"columns\": 2, \"labelFontSize\": 25, \"labelLimit\": 300, \"legendX\": 450, \"legendY\": 10, \"orient\": \"none\", \"symbolStrokeWidth\": 4, \"titleFontSize\": 27, \"titleLimit\": 220}, \"title\": {\"fontSize\": 27}}, \"data\": {\"name\": \"data-6d7d09be05dc71414947bf5140e45068\"}, \"mark\": \"bar\", \"encoding\": {\"color\": {\"field\": \"Model_Name\", \"legend\": {\"title\": \"Model Name\"}, \"type\": \"nominal\"}, \"x\": {\"axis\": {\"labelAngle\": -30}, \"field\": \"Title\", \"sort\": {\"order\": \"ascending\"}, \"title\": \"Metric Group\", \"type\": \"nominal\"}, \"y\": {\"field\": \"Number_of_Models\", \"title\": \"Number of Models\", \"type\": \"quantitative\"}}, \"height\": 450, \"width\": 650, \"$schema\": \"https://vega.github.io/schema/vega-lite/v4.17.0.json\", \"datasets\": {\"data-6d7d09be05dc71414947bf5140e45068\": [{\"Model_Name\": \"LGBM\", \"Number_of_Models\": 11, \"Metric_Group\": \"Accuracy\", \"Alias\": \"C1\", \"Title\": \"C1\"}, {\"Model_Name\": \"MLP\", \"Number_of_Models\": 9, \"Metric_Group\": \"Accuracy\", \"Alias\": \"C1\", \"Title\": \"C1\"}, {\"Model_Name\": \"LR\", \"Number_of_Models\": 8, \"Metric_Group\": \"Accuracy\", \"Alias\": \"C1\", \"Title\": \"C1\"}, {\"Model_Name\": \"RF\", \"Number_of_Models\": 4, \"Metric_Group\": \"Accuracy\", \"Alias\": \"C1\", \"Title\": \"C1\"}, {\"Model_Name\": \"ADB\", \"Number_of_Models\": 3, \"Metric_Group\": \"Accuracy\", \"Alias\": \"C1\", \"Title\": \"C1\"}, {\"Model_Name\": \"EGR\", \"Number_of_Models\": 1, \"Metric_Group\": \"Accuracy\", \"Alias\": \"C1\", \"Title\": \"C1\"}, {\"Model_Name\": \"LGBM\", \"Number_of_Models\": 19, \"Metric_Group\": \"Equalized_Odds_FNR\", \"Alias\": \"C2\", \"Title\": \"C2\"}, {\"Model_Name\": \"LR\", \"Number_of_Models\": 18, \"Metric_Group\": \"Equalized_Odds_FNR\", \"Alias\": \"C2\", \"Title\": \"C2\"}, {\"Model_Name\": \"MLP\", \"Number_of_Models\": 15, \"Metric_Group\": \"Equalized_Odds_FNR\", \"Alias\": \"C2\", \"Title\": \"C2\"}, {\"Model_Name\": \"RF\", \"Number_of_Models\": 11, \"Metric_Group\": \"Equalized_Odds_FNR\", \"Alias\": \"C2\", \"Title\": \"C2\"}, {\"Model_Name\": \"EGR\", \"Number_of_Models\": 6, \"Metric_Group\": \"Equalized_Odds_FNR\", \"Alias\": \"C2\", \"Title\": \"C2\"}, {\"Model_Name\": \"ADB\", \"Number_of_Models\": 1, \"Metric_Group\": \"Equalized_Odds_FNR\", \"Alias\": \"C2\", \"Title\": \"C2\"}, {\"Model_Name\": \"LGBM\", \"Number_of_Models\": 30, \"Metric_Group\": \"Label_Stability\", \"Alias\": \"C3\", \"Title\": \"C3\"}, {\"Model_Name\": \"LR\", \"Number_of_Models\": 30, \"Metric_Group\": \"Label_Stability\", \"Alias\": \"C3\", \"Title\": \"C3\"}, {\"Model_Name\": \"RF\", \"Number_of_Models\": 29, \"Metric_Group\": \"Label_Stability\", \"Alias\": \"C3\", \"Title\": \"C3\"}, {\"Model_Name\": \"MLP\", \"Number_of_Models\": 24, \"Metric_Group\": \"Label_Stability\", \"Alias\": \"C3\", \"Title\": \"C3\"}, {\"Model_Name\": \"ADB\", \"Number_of_Models\": 6, \"Metric_Group\": \"Label_Stability\", \"Alias\": \"C3\", \"Title\": \"C3\"}, {\"Model_Name\": \"EGR\", \"Number_of_Models\": 6, \"Metric_Group\": \"Label_Stability\", \"Alias\": \"C3\", \"Title\": \"C3\"}, {\"Model_Name\": \"LR\", \"Number_of_Models\": 23, \"Metric_Group\": \"Label_Stability_Ratio\", \"Alias\": \"C4\", \"Title\": \"C4\"}, {\"Model_Name\": \"MLP\", \"Number_of_Models\": 17, \"Metric_Group\": \"Label_Stability_Ratio\", \"Alias\": \"C4\", \"Title\": \"C4\"}, {\"Model_Name\": \"LGBM\", \"Number_of_Models\": 8, \"Metric_Group\": \"Label_Stability_Ratio\", \"Alias\": \"C4\", \"Title\": \"C4\"}, {\"Model_Name\": \"EGR\", \"Number_of_Models\": 6, \"Metric_Group\": \"Label_Stability_Ratio\", \"Alias\": \"C4\", \"Title\": \"C4\"}, {\"Model_Name\": \"RF\", \"Number_of_Models\": 5, \"Metric_Group\": \"Label_Stability_Ratio\", \"Alias\": \"C4\", \"Title\": \"C4\"}, {\"Model_Name\": \"LGBM\", \"Number_of_Models\": 3, \"Metric_Group\": \"Accuracy&Equalized_Odds_FNR\", \"Alias\": \"C1 & C2\", \"Title\": \"C1 & C2\"}, {\"Model_Name\": \"MLP\", \"Number_of_Models\": 2, \"Metric_Group\": \"Accuracy&Equalized_Odds_FNR\", \"Alias\": \"C1 & C2\", \"Title\": \"C1 & C2\"}, {\"Model_Name\": \"ADB\", \"Number_of_Models\": 1, \"Metric_Group\": \"Accuracy&Equalized_Odds_FNR\", \"Alias\": \"C1 & C2\", \"Title\": \"C1 & C2\"}, {\"Model_Name\": \"EGR\", \"Number_of_Models\": 1, \"Metric_Group\": \"Accuracy&Equalized_Odds_FNR\", \"Alias\": \"C1 & C2\", \"Title\": \"C1 & C2\"}, {\"Model_Name\": \"LR\", \"Number_of_Models\": 1, \"Metric_Group\": \"Accuracy&Equalized_Odds_FNR\", \"Alias\": \"C1 & C2\", \"Title\": \"C1 & C2\"}, {\"Model_Name\": \"LGBM\", \"Number_of_Models\": 11, \"Metric_Group\": \"Accuracy&Label_Stability\", \"Alias\": \"C1 & C3\", \"Title\": \"C1 & C3\"}, {\"Model_Name\": \"MLP\", \"Number_of_Models\": 9, \"Metric_Group\": \"Accuracy&Label_Stability\", \"Alias\": \"C1 & C3\", \"Title\": \"C1 & C3\"}, {\"Model_Name\": \"LR\", \"Number_of_Models\": 8, \"Metric_Group\": \"Accuracy&Label_Stability\", \"Alias\": \"C1 & C3\", \"Title\": \"C1 & C3\"}, {\"Model_Name\": \"RF\", \"Number_of_Models\": 4, \"Metric_Group\": \"Accuracy&Label_Stability\", \"Alias\": \"C1 & C3\", \"Title\": \"C1 & C3\"}, {\"Model_Name\": \"ADB\", \"Number_of_Models\": 3, \"Metric_Group\": \"Accuracy&Label_Stability\", \"Alias\": \"C1 & C3\", \"Title\": \"C1 & C3\"}, {\"Model_Name\": \"EGR\", \"Number_of_Models\": 1, \"Metric_Group\": \"Accuracy&Label_Stability\", \"Alias\": \"C1 & C3\", \"Title\": \"C1 & C3\"}, {\"Model_Name\": \"LR\", \"Number_of_Models\": 7, \"Metric_Group\": \"Accuracy&Label_Stability_Ratio\", \"Alias\": \"C1 & C4\", \"Title\": \"C1 & C4\"}, {\"Model_Name\": \"MLP\", \"Number_of_Models\": 4, \"Metric_Group\": \"Accuracy&Label_Stability_Ratio\", \"Alias\": \"C1 & C4\", \"Title\": \"C1 & C4\"}, {\"Model_Name\": \"EGR\", \"Number_of_Models\": 1, \"Metric_Group\": \"Accuracy&Label_Stability_Ratio\", \"Alias\": \"C1 & C4\", \"Title\": \"C1 & C4\"}, {\"Model_Name\": \"LGBM\", \"Number_of_Models\": 1, \"Metric_Group\": \"Accuracy&Label_Stability_Ratio\", \"Alias\": \"C1 & C4\", \"Title\": \"C1 & C4\"}, {\"Model_Name\": \"MLP\", \"Number_of_Models\": 2, \"Metric_Group\": \"Accuracy&Equalized_Odds_FNR&Label_Stability&Label_Stability_Ratio\", \"Alias\": \"C1 & C2 & C3 & C4\", \"Title\": \"C1 & C2 & C3 & C4\"}, {\"Model_Name\": \"EGR\", \"Number_of_Models\": 1, \"Metric_Group\": \"Accuracy&Equalized_Odds_FNR&Label_Stability&Label_Stability_Ratio\", \"Alias\": \"C1 & C2 & C3 & C4\", \"Title\": \"C1 & C2 & C3 & C4\"}, {\"Model_Name\": \"LGBM\", \"Number_of_Models\": 1, \"Metric_Group\": \"Accuracy&Equalized_Odds_FNR&Label_Stability&Label_Stability_Ratio\", \"Alias\": \"C1 & C2 & C3 & C4\", \"Title\": \"C1 & C2 & C3 & C4\"}, {\"Model_Name\": \"LR\", \"Number_of_Models\": 1, \"Metric_Group\": \"Accuracy&Equalized_Odds_FNR&Label_Stability&Label_Stability_Ratio\", \"Alias\": \"C1 & C2 & C3 & C4\", \"Title\": \"C1 & C2 & C3 & C4\"}]}}, {\"mode\": \"vega-lite\"});\n</script>",
      "text/plain": "alt.Chart(...)"
     },
     "execution_count": 13,
     "metadata": {},
     "output_type": "execute_result"
    }
   ],
   "source": [
    "metrics_value_range_dct = {\n",
    "    'Accuracy': [0.9, 1.0], # C1\n",
    "    'Equalized_Odds_FNR': [-0.05, 0.05], # C2\n",
    "    'Label_Stability': [0.92, 1.0], # C3\n",
    "    'Label_Stability_Ratio': [0.95, 1.05], # C4\n",
    "    'Accuracy&Equalized_Odds_FNR': None, # C1 + C2\n",
    "    'Accuracy&Label_Stability': None, # C1 + C3\n",
    "    'Accuracy&Label_Stability_Ratio': None, # C1 + C4\n",
    "    'Accuracy&Equalized_Odds_FNR&Label_Stability&Label_Stability_Ratio': None, # C1 + C2 + C3 + C4\n",
    "}\n",
    "create_bar_chart_for_model_selection(all_subgroup_metrics_df,\n",
    "                                     all_group_metrics_df,\n",
    "                                     metrics_value_range_dct,\n",
    "                                     dataset_name='Law_School',\n",
    "                                     group='male&race',\n",
    "                                     vals_to_replace=vals_to_replace)"
   ],
   "metadata": {
    "collapsed": false,
    "ExecuteTime": {
     "end_time": "2024-01-10T21:22:46.104779Z",
     "start_time": "2024-01-10T21:22:45.935148Z"
    }
   },
   "id": "276ca925586836f4"
  },
  {
   "cell_type": "code",
   "execution_count": 14,
   "outputs": [
    {
     "name": "stdout",
     "output_type": "stream",
     "text": [
      "Models that satisfy all 4 constraints:\n"
     ]
    },
    {
     "data": {
      "text/plain": "  Model_Name           Fairness_Intervention Experiment_Iteration\n0        EGR  ExponentiatedGradientReduction           Exp_iter_4\n1        MLP                             DIR           Exp_iter_4\n2         RF                        Baseline           Exp_iter_5\n3         RF                             DIR           Exp_iter_5\n4         RF            EqOddsPostprocessing           Exp_iter_5",
      "text/html": "<div>\n<style scoped>\n    .dataframe tbody tr th:only-of-type {\n        vertical-align: middle;\n    }\n\n    .dataframe tbody tr th {\n        vertical-align: top;\n    }\n\n    .dataframe thead th {\n        text-align: right;\n    }\n</style>\n<table border=\"1\" class=\"dataframe\">\n  <thead>\n    <tr style=\"text-align: right;\">\n      <th></th>\n      <th>Model_Name</th>\n      <th>Fairness_Intervention</th>\n      <th>Experiment_Iteration</th>\n    </tr>\n  </thead>\n  <tbody>\n    <tr>\n      <th>0</th>\n      <td>EGR</td>\n      <td>ExponentiatedGradientReduction</td>\n      <td>Exp_iter_4</td>\n    </tr>\n    <tr>\n      <th>1</th>\n      <td>MLP</td>\n      <td>DIR</td>\n      <td>Exp_iter_4</td>\n    </tr>\n    <tr>\n      <th>2</th>\n      <td>RF</td>\n      <td>Baseline</td>\n      <td>Exp_iter_5</td>\n    </tr>\n    <tr>\n      <th>3</th>\n      <td>RF</td>\n      <td>DIR</td>\n      <td>Exp_iter_5</td>\n    </tr>\n    <tr>\n      <th>4</th>\n      <td>RF</td>\n      <td>EqOddsPostprocessing</td>\n      <td>Exp_iter_5</td>\n    </tr>\n  </tbody>\n</table>\n</div>"
     },
     "metadata": {},
     "output_type": "display_data"
    },
    {
     "data": {
      "text/html": "\n<div id=\"altair-viz-1e832b9b4cba451f86b619d8a61888a9\"></div>\n<script type=\"text/javascript\">\n  var VEGA_DEBUG = (typeof VEGA_DEBUG == \"undefined\") ? {} : VEGA_DEBUG;\n  (function(spec, embedOpt){\n    let outputDiv = document.currentScript.previousElementSibling;\n    if (outputDiv.id !== \"altair-viz-1e832b9b4cba451f86b619d8a61888a9\") {\n      outputDiv = document.getElementById(\"altair-viz-1e832b9b4cba451f86b619d8a61888a9\");\n    }\n    const paths = {\n      \"vega\": \"https://cdn.jsdelivr.net/npm//vega@5?noext\",\n      \"vega-lib\": \"https://cdn.jsdelivr.net/npm//vega-lib?noext\",\n      \"vega-lite\": \"https://cdn.jsdelivr.net/npm//vega-lite@4.17.0?noext\",\n      \"vega-embed\": \"https://cdn.jsdelivr.net/npm//vega-embed@6?noext\",\n    };\n\n    function maybeLoadScript(lib, version) {\n      var key = `${lib.replace(\"-\", \"\")}_version`;\n      return (VEGA_DEBUG[key] == version) ?\n        Promise.resolve(paths[lib]) :\n        new Promise(function(resolve, reject) {\n          var s = document.createElement('script');\n          document.getElementsByTagName(\"head\")[0].appendChild(s);\n          s.async = true;\n          s.onload = () => {\n            VEGA_DEBUG[key] = version;\n            return resolve(paths[lib]);\n          };\n          s.onerror = () => reject(`Error loading script: ${paths[lib]}`);\n          s.src = paths[lib];\n        });\n    }\n\n    function showError(err) {\n      outputDiv.innerHTML = `<div class=\"error\" style=\"color:red;\">${err}</div>`;\n      throw err;\n    }\n\n    function displayChart(vegaEmbed) {\n      vegaEmbed(outputDiv, spec, embedOpt)\n        .catch(err => showError(`Javascript Error: ${err.message}<br>This usually means there's a typo in your chart specification. See the javascript console for the full traceback.`));\n    }\n\n    if(typeof define === \"function\" && define.amd) {\n      requirejs.config({paths});\n      require([\"vega-embed\"], displayChart, err => showError(`Error loading script: ${err.message}`));\n    } else {\n      maybeLoadScript(\"vega\", \"5\")\n        .then(() => maybeLoadScript(\"vega-lite\", \"4.17.0\"))\n        .then(() => maybeLoadScript(\"vega-embed\", \"6\"))\n        .catch(showError)\n        .then(() => displayChart(vegaEmbed));\n    }\n  })({\"config\": {\"view\": {\"continuousWidth\": 400, \"continuousHeight\": 300}, \"axis\": {\"labelFontSize\": 27, \"labelFontWeight\": \"normal\", \"labelLimit\": 300, \"tickMinStep\": 1, \"titleFontSize\": 29, \"titleFontWeight\": \"normal\"}, \"legend\": {\"columns\": 2, \"labelFontSize\": 25, \"labelLimit\": 300, \"legendX\": 450, \"legendY\": 10, \"orient\": \"none\", \"symbolStrokeWidth\": 4, \"titleFontSize\": 27, \"titleLimit\": 220}, \"title\": {\"fontSize\": 27}}, \"data\": {\"name\": \"data-6c8fa09a142b4ca76c72431043ed3729\"}, \"mark\": \"bar\", \"encoding\": {\"color\": {\"field\": \"Model_Name\", \"legend\": {\"title\": \"Model Name\"}, \"type\": \"nominal\"}, \"x\": {\"axis\": {\"labelAngle\": -30}, \"field\": \"Title\", \"sort\": {\"order\": \"ascending\"}, \"title\": \"Metric Group\", \"type\": \"nominal\"}, \"y\": {\"field\": \"Number_of_Models\", \"title\": \"Number of Models\", \"type\": \"quantitative\"}}, \"height\": 450, \"width\": 650, \"$schema\": \"https://vega.github.io/schema/vega-lite/v4.17.0.json\", \"datasets\": {\"data-6c8fa09a142b4ca76c72431043ed3729\": [{\"Model_Name\": \"LR\", \"Number_of_Models\": 18, \"Metric_Group\": \"Accuracy\", \"Alias\": \"C1\", \"Title\": \"C1\"}, {\"Model_Name\": \"LGBM\", \"Number_of_Models\": 17, \"Metric_Group\": \"Accuracy\", \"Alias\": \"C1\", \"Title\": \"C1\"}, {\"Model_Name\": \"RF\", \"Number_of_Models\": 17, \"Metric_Group\": \"Accuracy\", \"Alias\": \"C1\", \"Title\": \"C1\"}, {\"Model_Name\": \"MLP\", \"Number_of_Models\": 16, \"Metric_Group\": \"Accuracy\", \"Alias\": \"C1\", \"Title\": \"C1\"}, {\"Model_Name\": \"EGR\", \"Number_of_Models\": 6, \"Metric_Group\": \"Accuracy\", \"Alias\": \"C1\", \"Title\": \"C1\"}, {\"Model_Name\": \"ADB\", \"Number_of_Models\": 5, \"Metric_Group\": \"Accuracy\", \"Alias\": \"C1\", \"Title\": \"C1\"}, {\"Model_Name\": \"RF\", \"Number_of_Models\": 10, \"Metric_Group\": \"Equalized_Odds_FPR\", \"Alias\": \"C2\", \"Title\": \"C2\"}, {\"Model_Name\": \"LGBM\", \"Number_of_Models\": 8, \"Metric_Group\": \"Equalized_Odds_FPR\", \"Alias\": \"C2\", \"Title\": \"C2\"}, {\"Model_Name\": \"MLP\", \"Number_of_Models\": 7, \"Metric_Group\": \"Equalized_Odds_FPR\", \"Alias\": \"C2\", \"Title\": \"C2\"}, {\"Model_Name\": \"ADB\", \"Number_of_Models\": 3, \"Metric_Group\": \"Equalized_Odds_FPR\", \"Alias\": \"C2\", \"Title\": \"C2\"}, {\"Model_Name\": \"LR\", \"Number_of_Models\": 3, \"Metric_Group\": \"Equalized_Odds_FPR\", \"Alias\": \"C2\", \"Title\": \"C2\"}, {\"Model_Name\": \"EGR\", \"Number_of_Models\": 2, \"Metric_Group\": \"Equalized_Odds_FPR\", \"Alias\": \"C2\", \"Title\": \"C2\"}, {\"Model_Name\": \"RF\", \"Number_of_Models\": 29, \"Metric_Group\": \"Label_Stability\", \"Alias\": \"C3\", \"Title\": \"C3\"}, {\"Model_Name\": \"LR\", \"Number_of_Models\": 28, \"Metric_Group\": \"Label_Stability\", \"Alias\": \"C3\", \"Title\": \"C3\"}, {\"Model_Name\": \"LGBM\", \"Number_of_Models\": 25, \"Metric_Group\": \"Label_Stability\", \"Alias\": \"C3\", \"Title\": \"C3\"}, {\"Model_Name\": \"MLP\", \"Number_of_Models\": 16, \"Metric_Group\": \"Label_Stability\", \"Alias\": \"C3\", \"Title\": \"C3\"}, {\"Model_Name\": \"EGR\", \"Number_of_Models\": 2, \"Metric_Group\": \"Label_Stability\", \"Alias\": \"C3\", \"Title\": \"C3\"}, {\"Model_Name\": \"RF\", \"Number_of_Models\": 22, \"Metric_Group\": \"Label_Stability_Ratio\", \"Alias\": \"C4\", \"Title\": \"C4\"}, {\"Model_Name\": \"LR\", \"Number_of_Models\": 18, \"Metric_Group\": \"Label_Stability_Ratio\", \"Alias\": \"C4\", \"Title\": \"C4\"}, {\"Model_Name\": \"LGBM\", \"Number_of_Models\": 16, \"Metric_Group\": \"Label_Stability_Ratio\", \"Alias\": \"C4\", \"Title\": \"C4\"}, {\"Model_Name\": \"MLP\", \"Number_of_Models\": 14, \"Metric_Group\": \"Label_Stability_Ratio\", \"Alias\": \"C4\", \"Title\": \"C4\"}, {\"Model_Name\": \"EGR\", \"Number_of_Models\": 2, \"Metric_Group\": \"Label_Stability_Ratio\", \"Alias\": \"C4\", \"Title\": \"C4\"}, {\"Model_Name\": \"ADB\", \"Number_of_Models\": 1, \"Metric_Group\": \"Label_Stability_Ratio\", \"Alias\": \"C4\", \"Title\": \"C4\"}, {\"Model_Name\": \"ADB\", \"Number_of_Models\": 3, \"Metric_Group\": \"Accuracy&Equalized_Odds_FPR\", \"Alias\": \"C1 & C2\", \"Title\": \"C1 & C2\"}, {\"Model_Name\": \"MLP\", \"Number_of_Models\": 3, \"Metric_Group\": \"Accuracy&Equalized_Odds_FPR\", \"Alias\": \"C1 & C2\", \"Title\": \"C1 & C2\"}, {\"Model_Name\": \"RF\", \"Number_of_Models\": 3, \"Metric_Group\": \"Accuracy&Equalized_Odds_FPR\", \"Alias\": \"C1 & C2\", \"Title\": \"C1 & C2\"}, {\"Model_Name\": \"EGR\", \"Number_of_Models\": 2, \"Metric_Group\": \"Accuracy&Equalized_Odds_FPR\", \"Alias\": \"C1 & C2\", \"Title\": \"C1 & C2\"}, {\"Model_Name\": \"LGBM\", \"Number_of_Models\": 2, \"Metric_Group\": \"Accuracy&Equalized_Odds_FPR\", \"Alias\": \"C1 & C2\", \"Title\": \"C1 & C2\"}, {\"Model_Name\": \"LR\", \"Number_of_Models\": 1, \"Metric_Group\": \"Accuracy&Equalized_Odds_FPR\", \"Alias\": \"C1 & C2\", \"Title\": \"C1 & C2\"}, {\"Model_Name\": \"LGBM\", \"Number_of_Models\": 17, \"Metric_Group\": \"Accuracy&Label_Stability\", \"Alias\": \"C1 & C3\", \"Title\": \"C1 & C3\"}, {\"Model_Name\": \"RF\", \"Number_of_Models\": 17, \"Metric_Group\": \"Accuracy&Label_Stability\", \"Alias\": \"C1 & C3\", \"Title\": \"C1 & C3\"}, {\"Model_Name\": \"LR\", \"Number_of_Models\": 16, \"Metric_Group\": \"Accuracy&Label_Stability\", \"Alias\": \"C1 & C3\", \"Title\": \"C1 & C3\"}, {\"Model_Name\": \"MLP\", \"Number_of_Models\": 9, \"Metric_Group\": \"Accuracy&Label_Stability\", \"Alias\": \"C1 & C3\", \"Title\": \"C1 & C3\"}, {\"Model_Name\": \"EGR\", \"Number_of_Models\": 2, \"Metric_Group\": \"Accuracy&Label_Stability\", \"Alias\": \"C1 & C3\", \"Title\": \"C1 & C3\"}, {\"Model_Name\": \"RF\", \"Number_of_Models\": 11, \"Metric_Group\": \"Accuracy&Label_Stability_Ratio\", \"Alias\": \"C1 & C4\", \"Title\": \"C1 & C4\"}, {\"Model_Name\": \"LR\", \"Number_of_Models\": 9, \"Metric_Group\": \"Accuracy&Label_Stability_Ratio\", \"Alias\": \"C1 & C4\", \"Title\": \"C1 & C4\"}, {\"Model_Name\": \"LGBM\", \"Number_of_Models\": 7, \"Metric_Group\": \"Accuracy&Label_Stability_Ratio\", \"Alias\": \"C1 & C4\", \"Title\": \"C1 & C4\"}, {\"Model_Name\": \"MLP\", \"Number_of_Models\": 5, \"Metric_Group\": \"Accuracy&Label_Stability_Ratio\", \"Alias\": \"C1 & C4\", \"Title\": \"C1 & C4\"}, {\"Model_Name\": \"EGR\", \"Number_of_Models\": 2, \"Metric_Group\": \"Accuracy&Label_Stability_Ratio\", \"Alias\": \"C1 & C4\", \"Title\": \"C1 & C4\"}, {\"Model_Name\": \"ADB\", \"Number_of_Models\": 1, \"Metric_Group\": \"Accuracy&Label_Stability_Ratio\", \"Alias\": \"C1 & C4\", \"Title\": \"C1 & C4\"}, {\"Model_Name\": \"RF\", \"Number_of_Models\": 3, \"Metric_Group\": \"Accuracy&Equalized_Odds_FPR&Label_Stability&Label_Stability_Ratio\", \"Alias\": \"C1 & C2 & C3 & C4\", \"Title\": \"C1 & C2 & C3 & C4\"}, {\"Model_Name\": \"EGR\", \"Number_of_Models\": 1, \"Metric_Group\": \"Accuracy&Equalized_Odds_FPR&Label_Stability&Label_Stability_Ratio\", \"Alias\": \"C1 & C2 & C3 & C4\", \"Title\": \"C1 & C2 & C3 & C4\"}, {\"Model_Name\": \"MLP\", \"Number_of_Models\": 1, \"Metric_Group\": \"Accuracy&Equalized_Odds_FPR&Label_Stability&Label_Stability_Ratio\", \"Alias\": \"C1 & C2 & C3 & C4\", \"Title\": \"C1 & C2 & C3 & C4\"}]}}, {\"mode\": \"vega-lite\"});\n</script>",
      "text/plain": "alt.Chart(...)"
     },
     "execution_count": 14,
     "metadata": {},
     "output_type": "execute_result"
    }
   ],
   "source": [
    "metrics_value_range_dct = {\n",
    "    'Accuracy': [0.91, 1.0], # C1\n",
    "    'Equalized_Odds_FPR': [-0.04, 0.04], # C2\n",
    "    'Label_Stability': [0.9, 1.0], # C3\n",
    "    'Label_Stability_Ratio': [0.98, 1.02], # C4\n",
    "    'Accuracy&Equalized_Odds_FPR': None, # C1 + C2\n",
    "    'Accuracy&Label_Stability': None, # C1 + C3\n",
    "    'Accuracy&Label_Stability_Ratio': None, # C1 + C4\n",
    "    'Accuracy&Equalized_Odds_FPR&Label_Stability&Label_Stability_Ratio': None, # C1 + C2 + C3 + C4\n",
    "}\n",
    "create_bar_chart_for_model_selection(all_subgroup_metrics_df,\n",
    "                                     all_group_metrics_df,\n",
    "                                     metrics_value_range_dct,\n",
    "                                     dataset_name='Student_Performance_Por',\n",
    "                                     group='sex',\n",
    "                                     vals_to_replace=vals_to_replace)"
   ],
   "metadata": {
    "collapsed": false,
    "ExecuteTime": {
     "end_time": "2024-01-10T21:24:51.418034Z",
     "start_time": "2024-01-10T21:24:51.282026Z"
    }
   },
   "id": "63885f5bf4757c97"
  },
  {
   "cell_type": "code",
   "execution_count": null,
   "outputs": [],
   "source": [],
   "metadata": {
    "collapsed": false,
    "ExecuteTime": {
     "start_time": "2024-01-10T20:49:02.672603Z"
    }
   },
   "id": "a9ce924b1af33f85"
  }
 ],
 "metadata": {
  "kernelspec": {
   "display_name": "Python 3",
   "language": "python",
   "name": "python3"
  },
  "language_info": {
   "codemirror_mode": {
    "name": "ipython",
    "version": 3
   },
   "file_extension": ".py",
   "mimetype": "text/x-python",
   "name": "python",
   "nbconvert_exporter": "python",
   "pygments_lexer": "ipython3",
   "version": "3.8.5"
  },
  "vscode": {
   "interpreter": {
    "hash": "aeeedfdcfbb7d0bd7e8ae453d9cd04ee7ebd63a67f7841163d9437c8723e8c72"
   }
  }
 },
 "nbformat": 4,
 "nbformat_minor": 5
}
