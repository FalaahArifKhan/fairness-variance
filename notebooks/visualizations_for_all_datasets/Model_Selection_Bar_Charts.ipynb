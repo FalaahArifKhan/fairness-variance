{
 "cells": [
  {
   "cell_type": "code",
   "execution_count": 1,
   "id": "39e91cd0",
   "metadata": {
    "ExecuteTime": {
     "end_time": "2024-01-10T21:23:29.597821Z",
     "start_time": "2024-01-10T21:23:29.262358Z"
    }
   },
   "outputs": [],
   "source": [
    "%matplotlib inline\n",
    "%load_ext autoreload\n",
    "%autoreload 2"
   ]
  },
  {
   "cell_type": "code",
   "execution_count": 2,
   "id": "4efe89f5",
   "metadata": {
    "ExecuteTime": {
     "end_time": "2024-01-10T21:23:29.608282Z",
     "start_time": "2024-01-10T21:23:29.597923Z"
    }
   },
   "outputs": [],
   "source": [
    "import os\n",
    "import warnings\n",
    "warnings.filterwarnings('ignore')\n",
    "os.environ[\"PYTHONWARNINGS\"] = \"ignore\""
   ]
  },
  {
   "cell_type": "code",
   "execution_count": 3,
   "id": "6a451e2e",
   "metadata": {
    "ExecuteTime": {
     "end_time": "2024-01-10T21:23:29.617521Z",
     "start_time": "2024-01-10T21:23:29.607366Z"
    }
   },
   "outputs": [
    {
     "name": "stdout",
     "output_type": "stream",
     "text": [
      "Current location:  /Users/denys_herasymuk/UCU/4course_2term/Bachelor_Thesis/Code/fairness-variance\n"
     ]
    }
   ],
   "source": [
    "cur_folder_name = os.getcwd().split('/')[-1]\n",
    "if cur_folder_name != \"fairness-variance\":\n",
    "    os.chdir(\"../..\")\n",
    "\n",
    "print('Current location: ', os.getcwd())"
   ]
  },
  {
   "cell_type": "markdown",
   "id": "eb58106e",
   "metadata": {},
   "source": [
    "# Model Selection Bar Charts"
   ]
  },
  {
   "cell_type": "code",
   "execution_count": 4,
   "id": "18cb3aa6",
   "metadata": {
    "ExecuteTime": {
     "end_time": "2024-01-10T21:23:34.484910Z",
     "start_time": "2024-01-10T21:23:30.602632Z"
    }
   },
   "outputs": [
    {
     "name": "stderr",
     "output_type": "stream",
     "text": [
      "WARNING:root:No module named 'tempeh': LawSchoolGPADataset will be unavailable. To install, run:\n",
      "pip install 'aif360[LawSchoolGPA]'\n"
     ]
    }
   ],
   "source": [
    "from source.visualizations import create_bar_chart_for_model_selection\n",
    "from source.utils.data_vis_utils import create_metrics_dicts_for_diff_fairness_interventions"
   ]
  },
  {
   "cell_type": "markdown",
   "id": "0184daf8",
   "metadata": {},
   "source": [
    "## Initialize Configs"
   ]
  },
  {
   "cell_type": "code",
   "execution_count": 5,
   "id": "37622cae",
   "metadata": {
    "ExecuteTime": {
     "end_time": "2024-01-10T21:23:34.521536Z",
     "start_time": "2024-01-10T21:23:34.486503Z"
    }
   },
   "outputs": [],
   "source": [
    "DB_COLLECTION_NAME = 'one_repair_lvl_many_models'\n",
    "DATASETS_DB_CONFIG = {\n",
    "    # 'Folktables_GA_2018_Income': {\n",
    "    #     'Baseline': 'ac796b56-9c83-474a-8e7a-2d95ee5efa7e',\n",
    "    #     'LFR': '3855ad0b-4d2e-4baf-a5a8-6e3e92f624ba',\n",
    "    #     'DIR': 'f009c98f-b732-44cf-9084-4bf12c11bdcf',\n",
    "    #     'AdversarialDebiasing': 'bbba3cc4-760b-4e93-bb97-3a2077202cce',\n",
    "    #     'ExponentiatedGradientReduction': '9c5d2ffc-834e-4a7d-abc0-49dd26950c6d',\n",
    "    #     'EqOddsPostprocessing': '3976c1bf-99fa-49f4-97ec-44b13cb64ef4',\n",
    "    #     'ROC': '426f4b41-5b22-4118-b5c8-15a0ab4aa18f',\n",
    "    # },\n",
    "    # 'Folktables_CA_2018_Public_Coverage': {\n",
    "    #     'Baseline': 'c36d3f62-2edd-4df4-97db-a9c3cb5be8ed',\n",
    "    #     'LFR': '3021b0c7-483d-4682-9dc6-bb4a2cf90020',\n",
    "    #     'DIR': 'ac38ec40-c789-4f7e-91be-9ffb55bc3e6f',\n",
    "    #     'AdversarialDebiasing': 'bf843ff8-62e9-4aac-83bc-d805e3299fdc',\n",
    "    #     'ExponentiatedGradientReduction': 'dffb2122-b870-40d5-92b2-f0f6bfb730f0',\n",
    "    #     'EqOddsPostprocessing': 'c1fbe1ae-f5e9-4ca1-8f38-abe1b118f95b',\n",
    "    #     'ROC': 'aa7a7273-bf7c-44f9-becc-3b0384b722c5',\n",
    "    # },\n",
    "    # 'Law_School': {\n",
    "    #     'Baseline': 'b37c9c58-ed69-425c-b3d5-8f1ffd3adcd6',\n",
    "    #     'LFR': 'a1345526-1623-4fc7-b1a4-2a7790c4eef5',\n",
    "    #     'DIR': '336e4621-fef9-4722-a3c1-b2ecca7e7f45',\n",
    "    #     'AdversarialDebiasing': '594152d2-738f-43f3-87ac-e98b98a17b4a',\n",
    "    #     'ExponentiatedGradientReduction': '5a766803-decf-487f-bc23-bade50373a6e',\n",
    "    #     'EqOddsPostprocessing': '567e7e80-5ed4-4a45-8927-2f7b61ba5647',\n",
    "    #     'ROC': 'b1f109f5-3def-4da0-872b-6f0f1a9be953',\n",
    "    # },\n",
    "    'Student_Performance_Por': {\n",
    "        'Baseline': '647daccf-7c14-463c-99ab-ef16972dba80',\n",
    "        'LFR': '638da338-6a90-44a7-a835-17f062b941fb',\n",
    "        'DIR': '647daccf-7c14-463c-99ab-ef16972dba80',\n",
    "        'AdversarialDebiasing': '7bd775d4-0821-4711-8eed-902c990fbc94',\n",
    "        'ExponentiatedGradientReduction': '65f39387-1ed2-4e6d-9670-ae8c552a0f65',\n",
    "        'EqOddsPostprocessing': 'b35e31f2-bb03-494f-a24c-b9264e383667',\n",
    "        'ROC': '0626d80f-e288-4f16-b8ab-260eb34d62d3',\n",
    "    },\n",
    "}\n",
    "DATASET_NAMES = list(DATASETS_DB_CONFIG.keys())\n",
    "DATASETS_SENSITIVE_ATTRS = {\n",
    "    'Folktables_GA_2018_Income': ['SEX', 'RAC1P', 'SEX&RAC1P'],\n",
    "    'Law_School': ['male', 'race', 'male&race'],\n",
    "    'Folktables_CA_2018_Public_Coverage': ['SEX', 'RAC1P', 'SEX&RAC1P'],\n",
    "    'Student_Performance_Por': ['sex'],\n",
    "}"
   ]
  },
  {
   "cell_type": "markdown",
   "id": "49aebdbb",
   "metadata": {},
   "source": [
    "## Group Metrics Composition"
   ]
  },
  {
   "cell_type": "code",
   "execution_count": 6,
   "id": "34efd295",
   "metadata": {
    "ExecuteTime": {
     "end_time": "2024-01-10T21:23:53.514793Z",
     "start_time": "2024-01-10T21:23:34.522186Z"
    }
   },
   "outputs": [
    {
     "name": "stdout",
     "output_type": "stream",
     "text": [
      "Filtered to alpha = 0.0 for baseline\n",
      "Extracted metrics for Student_Performance_Por dataset and Baseline intervention\n",
      "Extracted metrics for Student_Performance_Por dataset and LFR intervention\n",
      "Filtered to alpha = 0.7 for DIR\n",
      "Extracted metrics for Student_Performance_Por dataset and DIR intervention\n",
      "Extracted metrics for Student_Performance_Por dataset and AdversarialDebiasing intervention\n",
      "Extracted metrics for Student_Performance_Por dataset and ExponentiatedGradientReduction intervention\n",
      "Extracted metrics for Student_Performance_Por dataset and EqOddsPostprocessing intervention\n",
      "Extracted metrics for Student_Performance_Por dataset and ROC intervention\n"
     ]
    }
   ],
   "source": [
    "all_subgroup_metrics_df, all_group_metrics_df = (\n",
    "    create_metrics_dicts_for_diff_fairness_interventions(datasets_db_config=DATASETS_DB_CONFIG,\n",
    "                                                         datasets_sensitive_attrs_dct=DATASETS_SENSITIVE_ATTRS,\n",
    "                                                         db_collection_name=DB_COLLECTION_NAME))"
   ]
  },
  {
   "cell_type": "code",
   "execution_count": 7,
   "id": "8f1c2a29",
   "metadata": {
    "ExecuteTime": {
     "end_time": "2024-01-10T21:23:53.578404Z",
     "start_time": "2024-01-10T21:23:53.512938Z"
    }
   },
   "outputs": [
    {
     "data": {
      "text/plain": "                   Metric      Model_Name             Dataset_Name  \\\n0                     Std  LGBMClassifier  Student_Performance_Por   \n1         Mean_Prediction  LGBMClassifier  Student_Performance_Por   \n2   Aleatoric_Uncertainty  LGBMClassifier  Student_Performance_Por   \n3     Overall_Uncertainty  LGBMClassifier  Student_Performance_Por   \n4        Statistical_Bias  LGBMClassifier  Student_Performance_Por   \n5                     IQR  LGBMClassifier  Student_Performance_Por   \n6                  Jitter  LGBMClassifier  Student_Performance_Por   \n7         Label_Stability  LGBMClassifier  Student_Performance_Por   \n8                     TPR  LGBMClassifier  Student_Performance_Por   \n9                     TNR  LGBMClassifier  Student_Performance_Por   \n10                    PPV  LGBMClassifier  Student_Performance_Por   \n11                    FNR  LGBMClassifier  Student_Performance_Por   \n12                    FPR  LGBMClassifier  Student_Performance_Por   \n13               Accuracy  LGBMClassifier  Student_Performance_Por   \n14                     F1  LGBMClassifier  Student_Performance_Por   \n15         Selection-Rate  LGBMClassifier  Student_Performance_Por   \n16          Positive-Rate  LGBMClassifier  Student_Performance_Por   \n17  Epistemic_Uncertainty  LGBMClassifier  Student_Performance_Por   \n18                    Std  LGBMClassifier  Student_Performance_Por   \n19        Mean_Prediction  LGBMClassifier  Student_Performance_Por   \n\n    Num_Estimators Record_Create_Date_Time  \\\n0              200 2023-12-26 23:47:19.513   \n1              200 2023-12-26 23:47:19.513   \n2              200 2023-12-26 23:47:19.513   \n3              200 2023-12-26 23:47:19.513   \n4              200 2023-12-26 23:47:19.513   \n5              200 2023-12-26 23:47:19.513   \n6              200 2023-12-26 23:47:19.513   \n7              200 2023-12-26 23:47:19.513   \n8              200 2023-12-26 23:47:19.513   \n9              200 2023-12-26 23:47:19.513   \n10             200 2023-12-26 23:47:19.513   \n11             200 2023-12-26 23:47:19.513   \n12             200 2023-12-26 23:47:19.513   \n13             200 2023-12-26 23:47:19.513   \n14             200 2023-12-26 23:47:19.513   \n15             200 2023-12-26 23:47:19.513   \n16             200 2023-12-26 23:47:19.513   \n17             200 2023-12-26 23:47:19.513   \n18             200 2023-12-26 23:47:19.513   \n19             200 2023-12-26 23:47:19.513   \n\n                            Session_Uuid Experiment_Iteration  \\\n0   647daccf-7c14-463c-99ab-ef16972dba80           Exp_iter_1   \n1   647daccf-7c14-463c-99ab-ef16972dba80           Exp_iter_1   \n2   647daccf-7c14-463c-99ab-ef16972dba80           Exp_iter_1   \n3   647daccf-7c14-463c-99ab-ef16972dba80           Exp_iter_1   \n4   647daccf-7c14-463c-99ab-ef16972dba80           Exp_iter_1   \n5   647daccf-7c14-463c-99ab-ef16972dba80           Exp_iter_1   \n6   647daccf-7c14-463c-99ab-ef16972dba80           Exp_iter_1   \n7   647daccf-7c14-463c-99ab-ef16972dba80           Exp_iter_1   \n8   647daccf-7c14-463c-99ab-ef16972dba80           Exp_iter_1   \n9   647daccf-7c14-463c-99ab-ef16972dba80           Exp_iter_1   \n10  647daccf-7c14-463c-99ab-ef16972dba80           Exp_iter_1   \n11  647daccf-7c14-463c-99ab-ef16972dba80           Exp_iter_1   \n12  647daccf-7c14-463c-99ab-ef16972dba80           Exp_iter_1   \n13  647daccf-7c14-463c-99ab-ef16972dba80           Exp_iter_1   \n14  647daccf-7c14-463c-99ab-ef16972dba80           Exp_iter_1   \n15  647daccf-7c14-463c-99ab-ef16972dba80           Exp_iter_1   \n16  647daccf-7c14-463c-99ab-ef16972dba80           Exp_iter_1   \n17  647daccf-7c14-463c-99ab-ef16972dba80           Exp_iter_1   \n18  647daccf-7c14-463c-99ab-ef16972dba80           Exp_iter_1   \n19  647daccf-7c14-463c-99ab-ef16972dba80           Exp_iter_1   \n\n    Dataset_Split_Seed Fair_Intervention_Params_Lst Intervention_Param  \\\n0                  100                   [0.0, 0.7]                0.0   \n1                  100                   [0.0, 0.7]                0.0   \n2                  100                   [0.0, 0.7]                0.0   \n3                  100                   [0.0, 0.7]                0.0   \n4                  100                   [0.0, 0.7]                0.0   \n5                  100                   [0.0, 0.7]                0.0   \n6                  100                   [0.0, 0.7]                0.0   \n7                  100                   [0.0, 0.7]                0.0   \n8                  100                   [0.0, 0.7]                0.0   \n9                  100                   [0.0, 0.7]                0.0   \n10                 100                   [0.0, 0.7]                0.0   \n11                 100                   [0.0, 0.7]                0.0   \n12                 100                   [0.0, 0.7]                0.0   \n13                 100                   [0.0, 0.7]                0.0   \n14                 100                   [0.0, 0.7]                0.0   \n15                 100                   [0.0, 0.7]                0.0   \n16                 100                   [0.0, 0.7]                0.0   \n17                 100                   [0.0, 0.7]                0.0   \n18                 100                   [0.0, 0.7]                0.0   \n19                 100                   [0.0, 0.7]                0.0   \n\n            Subgroup  Metric_Value Fairness_Intervention  \n0           sex_priv      0.064487              Baseline  \n1           sex_priv      0.177426              Baseline  \n2           sex_priv      0.274451              Baseline  \n3           sex_priv      0.317900              Baseline  \n4           sex_priv      0.144581              Baseline  \n5           sex_priv      0.086061              Baseline  \n6           sex_priv      0.069824              Baseline  \n7           sex_priv      0.901594              Baseline  \n8           sex_priv      0.981481              Baseline  \n9           sex_priv      0.533333              Baseline  \n10          sex_priv      0.883333              Baseline  \n11          sex_priv      0.018519              Baseline  \n12          sex_priv      0.466667              Baseline  \n13          sex_priv      0.884058              Baseline  \n14          sex_priv      0.929825              Baseline  \n15          sex_priv      0.869565              Baseline  \n16          sex_priv      1.111111              Baseline  \n17          sex_priv      0.043449              Baseline  \n18  sex_priv_correct      0.052369              Baseline  \n19  sex_priv_correct      0.153491              Baseline  ",
      "text/html": "<div>\n<style scoped>\n    .dataframe tbody tr th:only-of-type {\n        vertical-align: middle;\n    }\n\n    .dataframe tbody tr th {\n        vertical-align: top;\n    }\n\n    .dataframe thead th {\n        text-align: right;\n    }\n</style>\n<table border=\"1\" class=\"dataframe\">\n  <thead>\n    <tr style=\"text-align: right;\">\n      <th></th>\n      <th>Metric</th>\n      <th>Model_Name</th>\n      <th>Dataset_Name</th>\n      <th>Num_Estimators</th>\n      <th>Record_Create_Date_Time</th>\n      <th>Session_Uuid</th>\n      <th>Experiment_Iteration</th>\n      <th>Dataset_Split_Seed</th>\n      <th>Fair_Intervention_Params_Lst</th>\n      <th>Intervention_Param</th>\n      <th>Subgroup</th>\n      <th>Metric_Value</th>\n      <th>Fairness_Intervention</th>\n    </tr>\n  </thead>\n  <tbody>\n    <tr>\n      <th>0</th>\n      <td>Std</td>\n      <td>LGBMClassifier</td>\n      <td>Student_Performance_Por</td>\n      <td>200</td>\n      <td>2023-12-26 23:47:19.513</td>\n      <td>647daccf-7c14-463c-99ab-ef16972dba80</td>\n      <td>Exp_iter_1</td>\n      <td>100</td>\n      <td>[0.0, 0.7]</td>\n      <td>0.0</td>\n      <td>sex_priv</td>\n      <td>0.064487</td>\n      <td>Baseline</td>\n    </tr>\n    <tr>\n      <th>1</th>\n      <td>Mean_Prediction</td>\n      <td>LGBMClassifier</td>\n      <td>Student_Performance_Por</td>\n      <td>200</td>\n      <td>2023-12-26 23:47:19.513</td>\n      <td>647daccf-7c14-463c-99ab-ef16972dba80</td>\n      <td>Exp_iter_1</td>\n      <td>100</td>\n      <td>[0.0, 0.7]</td>\n      <td>0.0</td>\n      <td>sex_priv</td>\n      <td>0.177426</td>\n      <td>Baseline</td>\n    </tr>\n    <tr>\n      <th>2</th>\n      <td>Aleatoric_Uncertainty</td>\n      <td>LGBMClassifier</td>\n      <td>Student_Performance_Por</td>\n      <td>200</td>\n      <td>2023-12-26 23:47:19.513</td>\n      <td>647daccf-7c14-463c-99ab-ef16972dba80</td>\n      <td>Exp_iter_1</td>\n      <td>100</td>\n      <td>[0.0, 0.7]</td>\n      <td>0.0</td>\n      <td>sex_priv</td>\n      <td>0.274451</td>\n      <td>Baseline</td>\n    </tr>\n    <tr>\n      <th>3</th>\n      <td>Overall_Uncertainty</td>\n      <td>LGBMClassifier</td>\n      <td>Student_Performance_Por</td>\n      <td>200</td>\n      <td>2023-12-26 23:47:19.513</td>\n      <td>647daccf-7c14-463c-99ab-ef16972dba80</td>\n      <td>Exp_iter_1</td>\n      <td>100</td>\n      <td>[0.0, 0.7]</td>\n      <td>0.0</td>\n      <td>sex_priv</td>\n      <td>0.317900</td>\n      <td>Baseline</td>\n    </tr>\n    <tr>\n      <th>4</th>\n      <td>Statistical_Bias</td>\n      <td>LGBMClassifier</td>\n      <td>Student_Performance_Por</td>\n      <td>200</td>\n      <td>2023-12-26 23:47:19.513</td>\n      <td>647daccf-7c14-463c-99ab-ef16972dba80</td>\n      <td>Exp_iter_1</td>\n      <td>100</td>\n      <td>[0.0, 0.7]</td>\n      <td>0.0</td>\n      <td>sex_priv</td>\n      <td>0.144581</td>\n      <td>Baseline</td>\n    </tr>\n    <tr>\n      <th>5</th>\n      <td>IQR</td>\n      <td>LGBMClassifier</td>\n      <td>Student_Performance_Por</td>\n      <td>200</td>\n      <td>2023-12-26 23:47:19.513</td>\n      <td>647daccf-7c14-463c-99ab-ef16972dba80</td>\n      <td>Exp_iter_1</td>\n      <td>100</td>\n      <td>[0.0, 0.7]</td>\n      <td>0.0</td>\n      <td>sex_priv</td>\n      <td>0.086061</td>\n      <td>Baseline</td>\n    </tr>\n    <tr>\n      <th>6</th>\n      <td>Jitter</td>\n      <td>LGBMClassifier</td>\n      <td>Student_Performance_Por</td>\n      <td>200</td>\n      <td>2023-12-26 23:47:19.513</td>\n      <td>647daccf-7c14-463c-99ab-ef16972dba80</td>\n      <td>Exp_iter_1</td>\n      <td>100</td>\n      <td>[0.0, 0.7]</td>\n      <td>0.0</td>\n      <td>sex_priv</td>\n      <td>0.069824</td>\n      <td>Baseline</td>\n    </tr>\n    <tr>\n      <th>7</th>\n      <td>Label_Stability</td>\n      <td>LGBMClassifier</td>\n      <td>Student_Performance_Por</td>\n      <td>200</td>\n      <td>2023-12-26 23:47:19.513</td>\n      <td>647daccf-7c14-463c-99ab-ef16972dba80</td>\n      <td>Exp_iter_1</td>\n      <td>100</td>\n      <td>[0.0, 0.7]</td>\n      <td>0.0</td>\n      <td>sex_priv</td>\n      <td>0.901594</td>\n      <td>Baseline</td>\n    </tr>\n    <tr>\n      <th>8</th>\n      <td>TPR</td>\n      <td>LGBMClassifier</td>\n      <td>Student_Performance_Por</td>\n      <td>200</td>\n      <td>2023-12-26 23:47:19.513</td>\n      <td>647daccf-7c14-463c-99ab-ef16972dba80</td>\n      <td>Exp_iter_1</td>\n      <td>100</td>\n      <td>[0.0, 0.7]</td>\n      <td>0.0</td>\n      <td>sex_priv</td>\n      <td>0.981481</td>\n      <td>Baseline</td>\n    </tr>\n    <tr>\n      <th>9</th>\n      <td>TNR</td>\n      <td>LGBMClassifier</td>\n      <td>Student_Performance_Por</td>\n      <td>200</td>\n      <td>2023-12-26 23:47:19.513</td>\n      <td>647daccf-7c14-463c-99ab-ef16972dba80</td>\n      <td>Exp_iter_1</td>\n      <td>100</td>\n      <td>[0.0, 0.7]</td>\n      <td>0.0</td>\n      <td>sex_priv</td>\n      <td>0.533333</td>\n      <td>Baseline</td>\n    </tr>\n    <tr>\n      <th>10</th>\n      <td>PPV</td>\n      <td>LGBMClassifier</td>\n      <td>Student_Performance_Por</td>\n      <td>200</td>\n      <td>2023-12-26 23:47:19.513</td>\n      <td>647daccf-7c14-463c-99ab-ef16972dba80</td>\n      <td>Exp_iter_1</td>\n      <td>100</td>\n      <td>[0.0, 0.7]</td>\n      <td>0.0</td>\n      <td>sex_priv</td>\n      <td>0.883333</td>\n      <td>Baseline</td>\n    </tr>\n    <tr>\n      <th>11</th>\n      <td>FNR</td>\n      <td>LGBMClassifier</td>\n      <td>Student_Performance_Por</td>\n      <td>200</td>\n      <td>2023-12-26 23:47:19.513</td>\n      <td>647daccf-7c14-463c-99ab-ef16972dba80</td>\n      <td>Exp_iter_1</td>\n      <td>100</td>\n      <td>[0.0, 0.7]</td>\n      <td>0.0</td>\n      <td>sex_priv</td>\n      <td>0.018519</td>\n      <td>Baseline</td>\n    </tr>\n    <tr>\n      <th>12</th>\n      <td>FPR</td>\n      <td>LGBMClassifier</td>\n      <td>Student_Performance_Por</td>\n      <td>200</td>\n      <td>2023-12-26 23:47:19.513</td>\n      <td>647daccf-7c14-463c-99ab-ef16972dba80</td>\n      <td>Exp_iter_1</td>\n      <td>100</td>\n      <td>[0.0, 0.7]</td>\n      <td>0.0</td>\n      <td>sex_priv</td>\n      <td>0.466667</td>\n      <td>Baseline</td>\n    </tr>\n    <tr>\n      <th>13</th>\n      <td>Accuracy</td>\n      <td>LGBMClassifier</td>\n      <td>Student_Performance_Por</td>\n      <td>200</td>\n      <td>2023-12-26 23:47:19.513</td>\n      <td>647daccf-7c14-463c-99ab-ef16972dba80</td>\n      <td>Exp_iter_1</td>\n      <td>100</td>\n      <td>[0.0, 0.7]</td>\n      <td>0.0</td>\n      <td>sex_priv</td>\n      <td>0.884058</td>\n      <td>Baseline</td>\n    </tr>\n    <tr>\n      <th>14</th>\n      <td>F1</td>\n      <td>LGBMClassifier</td>\n      <td>Student_Performance_Por</td>\n      <td>200</td>\n      <td>2023-12-26 23:47:19.513</td>\n      <td>647daccf-7c14-463c-99ab-ef16972dba80</td>\n      <td>Exp_iter_1</td>\n      <td>100</td>\n      <td>[0.0, 0.7]</td>\n      <td>0.0</td>\n      <td>sex_priv</td>\n      <td>0.929825</td>\n      <td>Baseline</td>\n    </tr>\n    <tr>\n      <th>15</th>\n      <td>Selection-Rate</td>\n      <td>LGBMClassifier</td>\n      <td>Student_Performance_Por</td>\n      <td>200</td>\n      <td>2023-12-26 23:47:19.513</td>\n      <td>647daccf-7c14-463c-99ab-ef16972dba80</td>\n      <td>Exp_iter_1</td>\n      <td>100</td>\n      <td>[0.0, 0.7]</td>\n      <td>0.0</td>\n      <td>sex_priv</td>\n      <td>0.869565</td>\n      <td>Baseline</td>\n    </tr>\n    <tr>\n      <th>16</th>\n      <td>Positive-Rate</td>\n      <td>LGBMClassifier</td>\n      <td>Student_Performance_Por</td>\n      <td>200</td>\n      <td>2023-12-26 23:47:19.513</td>\n      <td>647daccf-7c14-463c-99ab-ef16972dba80</td>\n      <td>Exp_iter_1</td>\n      <td>100</td>\n      <td>[0.0, 0.7]</td>\n      <td>0.0</td>\n      <td>sex_priv</td>\n      <td>1.111111</td>\n      <td>Baseline</td>\n    </tr>\n    <tr>\n      <th>17</th>\n      <td>Epistemic_Uncertainty</td>\n      <td>LGBMClassifier</td>\n      <td>Student_Performance_Por</td>\n      <td>200</td>\n      <td>2023-12-26 23:47:19.513</td>\n      <td>647daccf-7c14-463c-99ab-ef16972dba80</td>\n      <td>Exp_iter_1</td>\n      <td>100</td>\n      <td>[0.0, 0.7]</td>\n      <td>0.0</td>\n      <td>sex_priv</td>\n      <td>0.043449</td>\n      <td>Baseline</td>\n    </tr>\n    <tr>\n      <th>18</th>\n      <td>Std</td>\n      <td>LGBMClassifier</td>\n      <td>Student_Performance_Por</td>\n      <td>200</td>\n      <td>2023-12-26 23:47:19.513</td>\n      <td>647daccf-7c14-463c-99ab-ef16972dba80</td>\n      <td>Exp_iter_1</td>\n      <td>100</td>\n      <td>[0.0, 0.7]</td>\n      <td>0.0</td>\n      <td>sex_priv_correct</td>\n      <td>0.052369</td>\n      <td>Baseline</td>\n    </tr>\n    <tr>\n      <th>19</th>\n      <td>Mean_Prediction</td>\n      <td>LGBMClassifier</td>\n      <td>Student_Performance_Por</td>\n      <td>200</td>\n      <td>2023-12-26 23:47:19.513</td>\n      <td>647daccf-7c14-463c-99ab-ef16972dba80</td>\n      <td>Exp_iter_1</td>\n      <td>100</td>\n      <td>[0.0, 0.7]</td>\n      <td>0.0</td>\n      <td>sex_priv_correct</td>\n      <td>0.153491</td>\n      <td>Baseline</td>\n    </tr>\n  </tbody>\n</table>\n</div>"
     },
     "execution_count": 7,
     "metadata": {},
     "output_type": "execute_result"
    }
   ],
   "source": [
    "all_subgroup_metrics_df.head(20)"
   ]
  },
  {
   "cell_type": "code",
   "execution_count": 8,
   "id": "e70c2fe9",
   "metadata": {
    "ExecuteTime": {
     "end_time": "2024-01-10T21:23:53.648675Z",
     "start_time": "2024-01-10T21:23:53.576265Z"
    }
   },
   "outputs": [
    {
     "data": {
      "text/plain": "                           Metric          Model_Name  \\\n0                 Accuracy_Parity      LGBMClassifier   \n1    Aleatoric_Uncertainty_Parity      LGBMClassifier   \n2     Aleatoric_Uncertainty_Ratio      LGBMClassifier   \n3                Disparate_Impact      LGBMClassifier   \n4    Epistemic_Uncertainty_Parity      LGBMClassifier   \n5     Epistemic_Uncertainty_Ratio      LGBMClassifier   \n6              Equalized_Odds_FNR      LGBMClassifier   \n7              Equalized_Odds_FPR      LGBMClassifier   \n8              Equalized_Odds_TNR      LGBMClassifier   \n9              Equalized_Odds_TPR      LGBMClassifier   \n10                     IQR_Parity      LGBMClassifier   \n11                  Jitter_Parity      LGBMClassifier   \n12     Label_Stability_Difference      LGBMClassifier   \n13          Label_Stability_Ratio      LGBMClassifier   \n14     Overall_Uncertainty_Parity      LGBMClassifier   \n15      Overall_Uncertainty_Ratio      LGBMClassifier   \n16  Statistical_Parity_Difference      LGBMClassifier   \n17                     Std_Parity      LGBMClassifier   \n18                      Std_Ratio      LGBMClassifier   \n19                Accuracy_Parity  LogisticRegression   \n\n               Dataset_Name Fairness_Intervention Experiment_Iteration Group  \\\n0   Student_Performance_Por              Baseline           Exp_iter_1   sex   \n1   Student_Performance_Por              Baseline           Exp_iter_1   sex   \n2   Student_Performance_Por              Baseline           Exp_iter_1   sex   \n3   Student_Performance_Por              Baseline           Exp_iter_1   sex   \n4   Student_Performance_Por              Baseline           Exp_iter_1   sex   \n5   Student_Performance_Por              Baseline           Exp_iter_1   sex   \n6   Student_Performance_Por              Baseline           Exp_iter_1   sex   \n7   Student_Performance_Por              Baseline           Exp_iter_1   sex   \n8   Student_Performance_Por              Baseline           Exp_iter_1   sex   \n9   Student_Performance_Por              Baseline           Exp_iter_1   sex   \n10  Student_Performance_Por              Baseline           Exp_iter_1   sex   \n11  Student_Performance_Por              Baseline           Exp_iter_1   sex   \n12  Student_Performance_Por              Baseline           Exp_iter_1   sex   \n13  Student_Performance_Por              Baseline           Exp_iter_1   sex   \n14  Student_Performance_Por              Baseline           Exp_iter_1   sex   \n15  Student_Performance_Por              Baseline           Exp_iter_1   sex   \n16  Student_Performance_Por              Baseline           Exp_iter_1   sex   \n17  Student_Performance_Por              Baseline           Exp_iter_1   sex   \n18  Student_Performance_Por              Baseline           Exp_iter_1   sex   \n19  Student_Performance_Por              Baseline           Exp_iter_1   sex   \n\n    Metric_Value  \n0       0.073389  \n1      -0.072361  \n2       0.736341  \n3       0.856627  \n4      -0.017271  \n5       0.602493  \n6       0.029674  \n7      -0.466667  \n8       0.466667  \n9      -0.029674  \n10     -0.036102  \n11     -0.039842  \n12      0.061597  \n13      1.068320  \n14     -0.089633  \n15      0.718047  \n16     -0.029140  \n17     -0.022393  \n18      0.652756  \n19      0.058896  ",
      "text/html": "<div>\n<style scoped>\n    .dataframe tbody tr th:only-of-type {\n        vertical-align: middle;\n    }\n\n    .dataframe tbody tr th {\n        vertical-align: top;\n    }\n\n    .dataframe thead th {\n        text-align: right;\n    }\n</style>\n<table border=\"1\" class=\"dataframe\">\n  <thead>\n    <tr style=\"text-align: right;\">\n      <th></th>\n      <th>Metric</th>\n      <th>Model_Name</th>\n      <th>Dataset_Name</th>\n      <th>Fairness_Intervention</th>\n      <th>Experiment_Iteration</th>\n      <th>Group</th>\n      <th>Metric_Value</th>\n    </tr>\n  </thead>\n  <tbody>\n    <tr>\n      <th>0</th>\n      <td>Accuracy_Parity</td>\n      <td>LGBMClassifier</td>\n      <td>Student_Performance_Por</td>\n      <td>Baseline</td>\n      <td>Exp_iter_1</td>\n      <td>sex</td>\n      <td>0.073389</td>\n    </tr>\n    <tr>\n      <th>1</th>\n      <td>Aleatoric_Uncertainty_Parity</td>\n      <td>LGBMClassifier</td>\n      <td>Student_Performance_Por</td>\n      <td>Baseline</td>\n      <td>Exp_iter_1</td>\n      <td>sex</td>\n      <td>-0.072361</td>\n    </tr>\n    <tr>\n      <th>2</th>\n      <td>Aleatoric_Uncertainty_Ratio</td>\n      <td>LGBMClassifier</td>\n      <td>Student_Performance_Por</td>\n      <td>Baseline</td>\n      <td>Exp_iter_1</td>\n      <td>sex</td>\n      <td>0.736341</td>\n    </tr>\n    <tr>\n      <th>3</th>\n      <td>Disparate_Impact</td>\n      <td>LGBMClassifier</td>\n      <td>Student_Performance_Por</td>\n      <td>Baseline</td>\n      <td>Exp_iter_1</td>\n      <td>sex</td>\n      <td>0.856627</td>\n    </tr>\n    <tr>\n      <th>4</th>\n      <td>Epistemic_Uncertainty_Parity</td>\n      <td>LGBMClassifier</td>\n      <td>Student_Performance_Por</td>\n      <td>Baseline</td>\n      <td>Exp_iter_1</td>\n      <td>sex</td>\n      <td>-0.017271</td>\n    </tr>\n    <tr>\n      <th>5</th>\n      <td>Epistemic_Uncertainty_Ratio</td>\n      <td>LGBMClassifier</td>\n      <td>Student_Performance_Por</td>\n      <td>Baseline</td>\n      <td>Exp_iter_1</td>\n      <td>sex</td>\n      <td>0.602493</td>\n    </tr>\n    <tr>\n      <th>6</th>\n      <td>Equalized_Odds_FNR</td>\n      <td>LGBMClassifier</td>\n      <td>Student_Performance_Por</td>\n      <td>Baseline</td>\n      <td>Exp_iter_1</td>\n      <td>sex</td>\n      <td>0.029674</td>\n    </tr>\n    <tr>\n      <th>7</th>\n      <td>Equalized_Odds_FPR</td>\n      <td>LGBMClassifier</td>\n      <td>Student_Performance_Por</td>\n      <td>Baseline</td>\n      <td>Exp_iter_1</td>\n      <td>sex</td>\n      <td>-0.466667</td>\n    </tr>\n    <tr>\n      <th>8</th>\n      <td>Equalized_Odds_TNR</td>\n      <td>LGBMClassifier</td>\n      <td>Student_Performance_Por</td>\n      <td>Baseline</td>\n      <td>Exp_iter_1</td>\n      <td>sex</td>\n      <td>0.466667</td>\n    </tr>\n    <tr>\n      <th>9</th>\n      <td>Equalized_Odds_TPR</td>\n      <td>LGBMClassifier</td>\n      <td>Student_Performance_Por</td>\n      <td>Baseline</td>\n      <td>Exp_iter_1</td>\n      <td>sex</td>\n      <td>-0.029674</td>\n    </tr>\n    <tr>\n      <th>10</th>\n      <td>IQR_Parity</td>\n      <td>LGBMClassifier</td>\n      <td>Student_Performance_Por</td>\n      <td>Baseline</td>\n      <td>Exp_iter_1</td>\n      <td>sex</td>\n      <td>-0.036102</td>\n    </tr>\n    <tr>\n      <th>11</th>\n      <td>Jitter_Parity</td>\n      <td>LGBMClassifier</td>\n      <td>Student_Performance_Por</td>\n      <td>Baseline</td>\n      <td>Exp_iter_1</td>\n      <td>sex</td>\n      <td>-0.039842</td>\n    </tr>\n    <tr>\n      <th>12</th>\n      <td>Label_Stability_Difference</td>\n      <td>LGBMClassifier</td>\n      <td>Student_Performance_Por</td>\n      <td>Baseline</td>\n      <td>Exp_iter_1</td>\n      <td>sex</td>\n      <td>0.061597</td>\n    </tr>\n    <tr>\n      <th>13</th>\n      <td>Label_Stability_Ratio</td>\n      <td>LGBMClassifier</td>\n      <td>Student_Performance_Por</td>\n      <td>Baseline</td>\n      <td>Exp_iter_1</td>\n      <td>sex</td>\n      <td>1.068320</td>\n    </tr>\n    <tr>\n      <th>14</th>\n      <td>Overall_Uncertainty_Parity</td>\n      <td>LGBMClassifier</td>\n      <td>Student_Performance_Por</td>\n      <td>Baseline</td>\n      <td>Exp_iter_1</td>\n      <td>sex</td>\n      <td>-0.089633</td>\n    </tr>\n    <tr>\n      <th>15</th>\n      <td>Overall_Uncertainty_Ratio</td>\n      <td>LGBMClassifier</td>\n      <td>Student_Performance_Por</td>\n      <td>Baseline</td>\n      <td>Exp_iter_1</td>\n      <td>sex</td>\n      <td>0.718047</td>\n    </tr>\n    <tr>\n      <th>16</th>\n      <td>Statistical_Parity_Difference</td>\n      <td>LGBMClassifier</td>\n      <td>Student_Performance_Por</td>\n      <td>Baseline</td>\n      <td>Exp_iter_1</td>\n      <td>sex</td>\n      <td>-0.029140</td>\n    </tr>\n    <tr>\n      <th>17</th>\n      <td>Std_Parity</td>\n      <td>LGBMClassifier</td>\n      <td>Student_Performance_Por</td>\n      <td>Baseline</td>\n      <td>Exp_iter_1</td>\n      <td>sex</td>\n      <td>-0.022393</td>\n    </tr>\n    <tr>\n      <th>18</th>\n      <td>Std_Ratio</td>\n      <td>LGBMClassifier</td>\n      <td>Student_Performance_Por</td>\n      <td>Baseline</td>\n      <td>Exp_iter_1</td>\n      <td>sex</td>\n      <td>0.652756</td>\n    </tr>\n    <tr>\n      <th>19</th>\n      <td>Accuracy_Parity</td>\n      <td>LogisticRegression</td>\n      <td>Student_Performance_Por</td>\n      <td>Baseline</td>\n      <td>Exp_iter_1</td>\n      <td>sex</td>\n      <td>0.058896</td>\n    </tr>\n  </tbody>\n</table>\n</div>"
     },
     "execution_count": 8,
     "metadata": {},
     "output_type": "execute_result"
    }
   ],
   "source": [
    "all_group_metrics_df.head(20)"
   ]
  },
  {
   "cell_type": "markdown",
   "source": [
    "## Bar Charts"
   ],
   "metadata": {
    "collapsed": false
   },
   "id": "31183ef57b1377f3"
  },
  {
   "cell_type": "code",
   "execution_count": 9,
   "outputs": [],
   "source": [
    "vals_to_replace = {\n",
    "    'Model_Name': {\n",
    "        'LGBMClassifier': 'LGBM',\n",
    "        'LogisticRegression': 'LR',\n",
    "        'RandomForestClassifier': 'RF',\n",
    "        'MLPClassifier': 'MLP',\n",
    "        'AdversarialDebiasing': 'ADB',\n",
    "        'ExponentiatedGradientReduction': 'EGR',\n",
    "    }\n",
    "}"
   ],
   "metadata": {
    "collapsed": false,
    "ExecuteTime": {
     "end_time": "2024-01-10T21:23:53.665107Z",
     "start_time": "2024-01-10T21:23:53.618194Z"
    }
   },
   "id": "24563de4d07aa6bc"
  },
  {
   "cell_type": "code",
   "execution_count": 10,
   "outputs": [
    {
     "data": {
      "text/plain": "         Metric              Model_Name               Dataset_Name  \\\n338    Accuracy          LGBMClassifier  Folktables_GA_2018_Income   \n680    Accuracy      LogisticRegression  Folktables_GA_2018_Income   \n1022   Accuracy  RandomForestClassifier  Folktables_GA_2018_Income   \n1364   Accuracy          LGBMClassifier  Folktables_GA_2018_Income   \n1706   Accuracy      LogisticRegression  Folktables_GA_2018_Income   \n...         ...                     ...                        ...   \n37920  Accuracy           MLPClassifier  Folktables_GA_2018_Income   \n38129  Accuracy           MLPClassifier  Folktables_GA_2018_Income   \n38338  Accuracy           MLPClassifier  Folktables_GA_2018_Income   \n38547  Accuracy           MLPClassifier  Folktables_GA_2018_Income   \n38756  Accuracy           MLPClassifier  Folktables_GA_2018_Income   \n\n       Num_Estimators Record_Create_Date_Time  \\\n338               200 2024-01-06 18:59:47.583   \n680               200 2024-01-06 18:59:47.594   \n1022              200 2024-01-06 18:59:47.604   \n1364              200 2024-01-06 19:12:28.161   \n1706              200 2024-01-06 19:12:28.172   \n...               ...                     ...   \n37920             200 2024-01-06 07:22:34.326   \n38129             200 2024-01-06 07:30:19.862   \n38338             200 2024-01-06 07:37:05.689   \n38547             200 2024-01-06 08:29:58.271   \n38756             200 2024-01-06 08:32:52.181   \n\n                               Session_Uuid Experiment_Iteration  \\\n338    ac796b56-9c83-474a-8e7a-2d95ee5efa7e           Exp_iter_1   \n680    ac796b56-9c83-474a-8e7a-2d95ee5efa7e           Exp_iter_1   \n1022   ac796b56-9c83-474a-8e7a-2d95ee5efa7e           Exp_iter_1   \n1364   ac796b56-9c83-474a-8e7a-2d95ee5efa7e           Exp_iter_4   \n1706   ac796b56-9c83-474a-8e7a-2d95ee5efa7e           Exp_iter_4   \n...                                     ...                  ...   \n37920  426f4b41-5b22-4118-b5c8-15a0ab4aa18f           Exp_iter_1   \n38129  426f4b41-5b22-4118-b5c8-15a0ab4aa18f           Exp_iter_2   \n38338  426f4b41-5b22-4118-b5c8-15a0ab4aa18f           Exp_iter_6   \n38547  426f4b41-5b22-4118-b5c8-15a0ab4aa18f           Exp_iter_5   \n38756  426f4b41-5b22-4118-b5c8-15a0ab4aa18f           Exp_iter_3   \n\n       Dataset_Split_Seed Fair_Intervention_Params_Lst Intervention_Param  \\\n338                   100                        [0.0]                0.0   \n680                   100                        [0.0]                0.0   \n1022                  100                        [0.0]                0.0   \n1364                  400                        [0.0]                0.0   \n1706                  400                        [0.0]                0.0   \n...                   ...                          ...                ...   \n37920                 100                       [True]               True   \n38129                 200                       [True]               True   \n38338                 600                       [True]               True   \n38547                 500                       [True]               True   \n38756                 300                       [True]               True   \n\n      Subgroup  Metric_Value Fairness_Intervention  \n338    overall      0.794933              Baseline  \n680    overall      0.817867              Baseline  \n1022   overall      0.812533              Baseline  \n1364   overall      0.797867              Baseline  \n1706   overall      0.817600              Baseline  \n...        ...           ...                   ...  \n37920  overall      0.558667                   ROC  \n38129  overall      0.575733                   ROC  \n38338  overall      0.564800                   ROC  \n38547  overall      0.566667                   ROC  \n38756  overall      0.587200                   ROC  \n\n[132 rows x 13 columns]",
      "text/html": "<div>\n<style scoped>\n    .dataframe tbody tr th:only-of-type {\n        vertical-align: middle;\n    }\n\n    .dataframe tbody tr th {\n        vertical-align: top;\n    }\n\n    .dataframe thead th {\n        text-align: right;\n    }\n</style>\n<table border=\"1\" class=\"dataframe\">\n  <thead>\n    <tr style=\"text-align: right;\">\n      <th></th>\n      <th>Metric</th>\n      <th>Model_Name</th>\n      <th>Dataset_Name</th>\n      <th>Num_Estimators</th>\n      <th>Record_Create_Date_Time</th>\n      <th>Session_Uuid</th>\n      <th>Experiment_Iteration</th>\n      <th>Dataset_Split_Seed</th>\n      <th>Fair_Intervention_Params_Lst</th>\n      <th>Intervention_Param</th>\n      <th>Subgroup</th>\n      <th>Metric_Value</th>\n      <th>Fairness_Intervention</th>\n    </tr>\n  </thead>\n  <tbody>\n    <tr>\n      <th>338</th>\n      <td>Accuracy</td>\n      <td>LGBMClassifier</td>\n      <td>Folktables_GA_2018_Income</td>\n      <td>200</td>\n      <td>2024-01-06 18:59:47.583</td>\n      <td>ac796b56-9c83-474a-8e7a-2d95ee5efa7e</td>\n      <td>Exp_iter_1</td>\n      <td>100</td>\n      <td>[0.0]</td>\n      <td>0.0</td>\n      <td>overall</td>\n      <td>0.794933</td>\n      <td>Baseline</td>\n    </tr>\n    <tr>\n      <th>680</th>\n      <td>Accuracy</td>\n      <td>LogisticRegression</td>\n      <td>Folktables_GA_2018_Income</td>\n      <td>200</td>\n      <td>2024-01-06 18:59:47.594</td>\n      <td>ac796b56-9c83-474a-8e7a-2d95ee5efa7e</td>\n      <td>Exp_iter_1</td>\n      <td>100</td>\n      <td>[0.0]</td>\n      <td>0.0</td>\n      <td>overall</td>\n      <td>0.817867</td>\n      <td>Baseline</td>\n    </tr>\n    <tr>\n      <th>1022</th>\n      <td>Accuracy</td>\n      <td>RandomForestClassifier</td>\n      <td>Folktables_GA_2018_Income</td>\n      <td>200</td>\n      <td>2024-01-06 18:59:47.604</td>\n      <td>ac796b56-9c83-474a-8e7a-2d95ee5efa7e</td>\n      <td>Exp_iter_1</td>\n      <td>100</td>\n      <td>[0.0]</td>\n      <td>0.0</td>\n      <td>overall</td>\n      <td>0.812533</td>\n      <td>Baseline</td>\n    </tr>\n    <tr>\n      <th>1364</th>\n      <td>Accuracy</td>\n      <td>LGBMClassifier</td>\n      <td>Folktables_GA_2018_Income</td>\n      <td>200</td>\n      <td>2024-01-06 19:12:28.161</td>\n      <td>ac796b56-9c83-474a-8e7a-2d95ee5efa7e</td>\n      <td>Exp_iter_4</td>\n      <td>400</td>\n      <td>[0.0]</td>\n      <td>0.0</td>\n      <td>overall</td>\n      <td>0.797867</td>\n      <td>Baseline</td>\n    </tr>\n    <tr>\n      <th>1706</th>\n      <td>Accuracy</td>\n      <td>LogisticRegression</td>\n      <td>Folktables_GA_2018_Income</td>\n      <td>200</td>\n      <td>2024-01-06 19:12:28.172</td>\n      <td>ac796b56-9c83-474a-8e7a-2d95ee5efa7e</td>\n      <td>Exp_iter_4</td>\n      <td>400</td>\n      <td>[0.0]</td>\n      <td>0.0</td>\n      <td>overall</td>\n      <td>0.817600</td>\n      <td>Baseline</td>\n    </tr>\n    <tr>\n      <th>...</th>\n      <td>...</td>\n      <td>...</td>\n      <td>...</td>\n      <td>...</td>\n      <td>...</td>\n      <td>...</td>\n      <td>...</td>\n      <td>...</td>\n      <td>...</td>\n      <td>...</td>\n      <td>...</td>\n      <td>...</td>\n      <td>...</td>\n    </tr>\n    <tr>\n      <th>37920</th>\n      <td>Accuracy</td>\n      <td>MLPClassifier</td>\n      <td>Folktables_GA_2018_Income</td>\n      <td>200</td>\n      <td>2024-01-06 07:22:34.326</td>\n      <td>426f4b41-5b22-4118-b5c8-15a0ab4aa18f</td>\n      <td>Exp_iter_1</td>\n      <td>100</td>\n      <td>[True]</td>\n      <td>True</td>\n      <td>overall</td>\n      <td>0.558667</td>\n      <td>ROC</td>\n    </tr>\n    <tr>\n      <th>38129</th>\n      <td>Accuracy</td>\n      <td>MLPClassifier</td>\n      <td>Folktables_GA_2018_Income</td>\n      <td>200</td>\n      <td>2024-01-06 07:30:19.862</td>\n      <td>426f4b41-5b22-4118-b5c8-15a0ab4aa18f</td>\n      <td>Exp_iter_2</td>\n      <td>200</td>\n      <td>[True]</td>\n      <td>True</td>\n      <td>overall</td>\n      <td>0.575733</td>\n      <td>ROC</td>\n    </tr>\n    <tr>\n      <th>38338</th>\n      <td>Accuracy</td>\n      <td>MLPClassifier</td>\n      <td>Folktables_GA_2018_Income</td>\n      <td>200</td>\n      <td>2024-01-06 07:37:05.689</td>\n      <td>426f4b41-5b22-4118-b5c8-15a0ab4aa18f</td>\n      <td>Exp_iter_6</td>\n      <td>600</td>\n      <td>[True]</td>\n      <td>True</td>\n      <td>overall</td>\n      <td>0.564800</td>\n      <td>ROC</td>\n    </tr>\n    <tr>\n      <th>38547</th>\n      <td>Accuracy</td>\n      <td>MLPClassifier</td>\n      <td>Folktables_GA_2018_Income</td>\n      <td>200</td>\n      <td>2024-01-06 08:29:58.271</td>\n      <td>426f4b41-5b22-4118-b5c8-15a0ab4aa18f</td>\n      <td>Exp_iter_5</td>\n      <td>500</td>\n      <td>[True]</td>\n      <td>True</td>\n      <td>overall</td>\n      <td>0.566667</td>\n      <td>ROC</td>\n    </tr>\n    <tr>\n      <th>38756</th>\n      <td>Accuracy</td>\n      <td>MLPClassifier</td>\n      <td>Folktables_GA_2018_Income</td>\n      <td>200</td>\n      <td>2024-01-06 08:32:52.181</td>\n      <td>426f4b41-5b22-4118-b5c8-15a0ab4aa18f</td>\n      <td>Exp_iter_3</td>\n      <td>300</td>\n      <td>[True]</td>\n      <td>True</td>\n      <td>overall</td>\n      <td>0.587200</td>\n      <td>ROC</td>\n    </tr>\n  </tbody>\n</table>\n<p>132 rows × 13 columns</p>\n</div>"
     },
     "execution_count": 10,
     "metadata": {},
     "output_type": "execute_result"
    }
   ],
   "source": [
    "all_subgroup_metrics_df[\n",
    "    (all_subgroup_metrics_df['Dataset_Name'] == 'Folktables_GA_2018_Income') &\n",
    "    (all_subgroup_metrics_df['Metric'] == 'Accuracy')  &\n",
    "    (all_subgroup_metrics_df['Subgroup'] == 'overall')\n",
    "].head(20)"
   ],
   "metadata": {
    "collapsed": false,
    "ExecuteTime": {
     "end_time": "2024-01-10T20:49:01.474658Z",
     "start_time": "2024-01-10T20:49:01.273733Z"
    }
   },
   "id": "a8faf412978bf689"
  },
  {
   "cell_type": "code",
   "execution_count": 11,
   "outputs": [
    {
     "data": {
      "text/plain": "                  Metric              Model_Name               Dataset_Name  \\\n158   Equalized_Odds_FPR          LGBMClassifier  Folktables_GA_2018_Income   \n177   Equalized_Odds_FPR      LogisticRegression  Folktables_GA_2018_Income   \n196   Equalized_Odds_FPR           MLPClassifier  Folktables_GA_2018_Income   \n215   Equalized_Odds_FPR  RandomForestClassifier  Folktables_GA_2018_Income   \n386   Equalized_Odds_FPR          LGBMClassifier  Folktables_GA_2018_Income   \n...                  ...                     ...                        ...   \n6100  Equalized_Odds_FPR  RandomForestClassifier  Folktables_GA_2018_Income   \n6190  Equalized_Odds_FPR          LGBMClassifier  Folktables_GA_2018_Income   \n6200  Equalized_Odds_FPR      LogisticRegression  Folktables_GA_2018_Income   \n6210  Equalized_Odds_FPR           MLPClassifier  Folktables_GA_2018_Income   \n6220  Equalized_Odds_FPR  RandomForestClassifier  Folktables_GA_2018_Income   \n\n     Fairness_Intervention Experiment_Iteration      Group  Metric_Value  \n158               Baseline           Exp_iter_1  SEX&RAC1P     -0.014271  \n177               Baseline           Exp_iter_1  SEX&RAC1P     -0.042114  \n196               Baseline           Exp_iter_1  SEX&RAC1P     -0.061046  \n215               Baseline           Exp_iter_1  SEX&RAC1P     -0.014208  \n386               Baseline           Exp_iter_4  SEX&RAC1P     -0.000594  \n...                    ...                  ...        ...           ...  \n6100                   ROC           Exp_iter_1  SEX&RAC1P      0.005580  \n6190                   ROC           Exp_iter_5  SEX&RAC1P     -0.008573  \n6200                   ROC           Exp_iter_5  SEX&RAC1P     -0.027286  \n6210                   ROC           Exp_iter_5  SEX&RAC1P     -0.066199  \n6220                   ROC           Exp_iter_5  SEX&RAC1P      0.009949  \n\n[132 rows x 7 columns]",
      "text/html": "<div>\n<style scoped>\n    .dataframe tbody tr th:only-of-type {\n        vertical-align: middle;\n    }\n\n    .dataframe tbody tr th {\n        vertical-align: top;\n    }\n\n    .dataframe thead th {\n        text-align: right;\n    }\n</style>\n<table border=\"1\" class=\"dataframe\">\n  <thead>\n    <tr style=\"text-align: right;\">\n      <th></th>\n      <th>Metric</th>\n      <th>Model_Name</th>\n      <th>Dataset_Name</th>\n      <th>Fairness_Intervention</th>\n      <th>Experiment_Iteration</th>\n      <th>Group</th>\n      <th>Metric_Value</th>\n    </tr>\n  </thead>\n  <tbody>\n    <tr>\n      <th>158</th>\n      <td>Equalized_Odds_FPR</td>\n      <td>LGBMClassifier</td>\n      <td>Folktables_GA_2018_Income</td>\n      <td>Baseline</td>\n      <td>Exp_iter_1</td>\n      <td>SEX&amp;RAC1P</td>\n      <td>-0.014271</td>\n    </tr>\n    <tr>\n      <th>177</th>\n      <td>Equalized_Odds_FPR</td>\n      <td>LogisticRegression</td>\n      <td>Folktables_GA_2018_Income</td>\n      <td>Baseline</td>\n      <td>Exp_iter_1</td>\n      <td>SEX&amp;RAC1P</td>\n      <td>-0.042114</td>\n    </tr>\n    <tr>\n      <th>196</th>\n      <td>Equalized_Odds_FPR</td>\n      <td>MLPClassifier</td>\n      <td>Folktables_GA_2018_Income</td>\n      <td>Baseline</td>\n      <td>Exp_iter_1</td>\n      <td>SEX&amp;RAC1P</td>\n      <td>-0.061046</td>\n    </tr>\n    <tr>\n      <th>215</th>\n      <td>Equalized_Odds_FPR</td>\n      <td>RandomForestClassifier</td>\n      <td>Folktables_GA_2018_Income</td>\n      <td>Baseline</td>\n      <td>Exp_iter_1</td>\n      <td>SEX&amp;RAC1P</td>\n      <td>-0.014208</td>\n    </tr>\n    <tr>\n      <th>386</th>\n      <td>Equalized_Odds_FPR</td>\n      <td>LGBMClassifier</td>\n      <td>Folktables_GA_2018_Income</td>\n      <td>Baseline</td>\n      <td>Exp_iter_4</td>\n      <td>SEX&amp;RAC1P</td>\n      <td>-0.000594</td>\n    </tr>\n    <tr>\n      <th>...</th>\n      <td>...</td>\n      <td>...</td>\n      <td>...</td>\n      <td>...</td>\n      <td>...</td>\n      <td>...</td>\n      <td>...</td>\n    </tr>\n    <tr>\n      <th>6100</th>\n      <td>Equalized_Odds_FPR</td>\n      <td>RandomForestClassifier</td>\n      <td>Folktables_GA_2018_Income</td>\n      <td>ROC</td>\n      <td>Exp_iter_1</td>\n      <td>SEX&amp;RAC1P</td>\n      <td>0.005580</td>\n    </tr>\n    <tr>\n      <th>6190</th>\n      <td>Equalized_Odds_FPR</td>\n      <td>LGBMClassifier</td>\n      <td>Folktables_GA_2018_Income</td>\n      <td>ROC</td>\n      <td>Exp_iter_5</td>\n      <td>SEX&amp;RAC1P</td>\n      <td>-0.008573</td>\n    </tr>\n    <tr>\n      <th>6200</th>\n      <td>Equalized_Odds_FPR</td>\n      <td>LogisticRegression</td>\n      <td>Folktables_GA_2018_Income</td>\n      <td>ROC</td>\n      <td>Exp_iter_5</td>\n      <td>SEX&amp;RAC1P</td>\n      <td>-0.027286</td>\n    </tr>\n    <tr>\n      <th>6210</th>\n      <td>Equalized_Odds_FPR</td>\n      <td>MLPClassifier</td>\n      <td>Folktables_GA_2018_Income</td>\n      <td>ROC</td>\n      <td>Exp_iter_5</td>\n      <td>SEX&amp;RAC1P</td>\n      <td>-0.066199</td>\n    </tr>\n    <tr>\n      <th>6220</th>\n      <td>Equalized_Odds_FPR</td>\n      <td>RandomForestClassifier</td>\n      <td>Folktables_GA_2018_Income</td>\n      <td>ROC</td>\n      <td>Exp_iter_5</td>\n      <td>SEX&amp;RAC1P</td>\n      <td>0.009949</td>\n    </tr>\n  </tbody>\n</table>\n<p>132 rows × 7 columns</p>\n</div>"
     },
     "execution_count": 11,
     "metadata": {},
     "output_type": "execute_result"
    }
   ],
   "source": [
    "all_group_metrics_df[\n",
    "    (all_group_metrics_df['Dataset_Name'] == 'Folktables_GA_2018_Income') &\n",
    "    (all_group_metrics_df['Metric'] == 'Equalized_Odds_FPR')  &\n",
    "    (all_group_metrics_df['Group'] == 'SEX&RAC1P')\n",
    "].head(20)"
   ],
   "metadata": {
    "collapsed": false,
    "ExecuteTime": {
     "end_time": "2024-01-10T20:49:01.558401Z",
     "start_time": "2024-01-10T20:49:01.329085Z"
    }
   },
   "id": "7027d32a8ffa7978"
  },
  {
   "cell_type": "code",
   "execution_count": 12,
   "outputs": [
    {
     "name": "stdout",
     "output_type": "stream",
     "text": [
      "Models that satisfy all 4 constraints:\n"
     ]
    },
    {
     "data": {
      "text/plain": "  Model_Name Fairness_Intervention Experiment_Iteration\n0       LGBM              Baseline           Exp_iter_2\n1       LGBM              Baseline           Exp_iter_5\n2       LGBM                   DIR           Exp_iter_5\n3         LR                   DIR           Exp_iter_1\n4         LR                   DIR           Exp_iter_2\n5         LR                   DIR           Exp_iter_4\n6         LR                   DIR           Exp_iter_5\n7         RF              Baseline           Exp_iter_4\n8         RF                   DIR           Exp_iter_1\n9         RF                   DIR           Exp_iter_4",
      "text/html": "<div>\n<style scoped>\n    .dataframe tbody tr th:only-of-type {\n        vertical-align: middle;\n    }\n\n    .dataframe tbody tr th {\n        vertical-align: top;\n    }\n\n    .dataframe thead th {\n        text-align: right;\n    }\n</style>\n<table border=\"1\" class=\"dataframe\">\n  <thead>\n    <tr style=\"text-align: right;\">\n      <th></th>\n      <th>Model_Name</th>\n      <th>Fairness_Intervention</th>\n      <th>Experiment_Iteration</th>\n    </tr>\n  </thead>\n  <tbody>\n    <tr>\n      <th>0</th>\n      <td>LGBM</td>\n      <td>Baseline</td>\n      <td>Exp_iter_2</td>\n    </tr>\n    <tr>\n      <th>1</th>\n      <td>LGBM</td>\n      <td>Baseline</td>\n      <td>Exp_iter_5</td>\n    </tr>\n    <tr>\n      <th>2</th>\n      <td>LGBM</td>\n      <td>DIR</td>\n      <td>Exp_iter_5</td>\n    </tr>\n    <tr>\n      <th>3</th>\n      <td>LR</td>\n      <td>DIR</td>\n      <td>Exp_iter_1</td>\n    </tr>\n    <tr>\n      <th>4</th>\n      <td>LR</td>\n      <td>DIR</td>\n      <td>Exp_iter_2</td>\n    </tr>\n    <tr>\n      <th>5</th>\n      <td>LR</td>\n      <td>DIR</td>\n      <td>Exp_iter_4</td>\n    </tr>\n    <tr>\n      <th>6</th>\n      <td>LR</td>\n      <td>DIR</td>\n      <td>Exp_iter_5</td>\n    </tr>\n    <tr>\n      <th>7</th>\n      <td>RF</td>\n      <td>Baseline</td>\n      <td>Exp_iter_4</td>\n    </tr>\n    <tr>\n      <th>8</th>\n      <td>RF</td>\n      <td>DIR</td>\n      <td>Exp_iter_1</td>\n    </tr>\n    <tr>\n      <th>9</th>\n      <td>RF</td>\n      <td>DIR</td>\n      <td>Exp_iter_4</td>\n    </tr>\n  </tbody>\n</table>\n</div>"
     },
     "metadata": {},
     "output_type": "display_data"
    },
    {
     "data": {
      "text/html": "\n<div id=\"altair-viz-093854c7aa374b7eb3112e69a0f0e4a0\"></div>\n<script type=\"text/javascript\">\n  var VEGA_DEBUG = (typeof VEGA_DEBUG == \"undefined\") ? {} : VEGA_DEBUG;\n  (function(spec, embedOpt){\n    let outputDiv = document.currentScript.previousElementSibling;\n    if (outputDiv.id !== \"altair-viz-093854c7aa374b7eb3112e69a0f0e4a0\") {\n      outputDiv = document.getElementById(\"altair-viz-093854c7aa374b7eb3112e69a0f0e4a0\");\n    }\n    const paths = {\n      \"vega\": \"https://cdn.jsdelivr.net/npm//vega@5?noext\",\n      \"vega-lib\": \"https://cdn.jsdelivr.net/npm//vega-lib?noext\",\n      \"vega-lite\": \"https://cdn.jsdelivr.net/npm//vega-lite@4.17.0?noext\",\n      \"vega-embed\": \"https://cdn.jsdelivr.net/npm//vega-embed@6?noext\",\n    };\n\n    function maybeLoadScript(lib, version) {\n      var key = `${lib.replace(\"-\", \"\")}_version`;\n      return (VEGA_DEBUG[key] == version) ?\n        Promise.resolve(paths[lib]) :\n        new Promise(function(resolve, reject) {\n          var s = document.createElement('script');\n          document.getElementsByTagName(\"head\")[0].appendChild(s);\n          s.async = true;\n          s.onload = () => {\n            VEGA_DEBUG[key] = version;\n            return resolve(paths[lib]);\n          };\n          s.onerror = () => reject(`Error loading script: ${paths[lib]}`);\n          s.src = paths[lib];\n        });\n    }\n\n    function showError(err) {\n      outputDiv.innerHTML = `<div class=\"error\" style=\"color:red;\">${err}</div>`;\n      throw err;\n    }\n\n    function displayChart(vegaEmbed) {\n      vegaEmbed(outputDiv, spec, embedOpt)\n        .catch(err => showError(`Javascript Error: ${err.message}<br>This usually means there's a typo in your chart specification. See the javascript console for the full traceback.`));\n    }\n\n    if(typeof define === \"function\" && define.amd) {\n      requirejs.config({paths});\n      require([\"vega-embed\"], displayChart, err => showError(`Error loading script: ${err.message}`));\n    } else {\n      maybeLoadScript(\"vega\", \"5\")\n        .then(() => maybeLoadScript(\"vega-lite\", \"4.17.0\"))\n        .then(() => maybeLoadScript(\"vega-embed\", \"6\"))\n        .catch(showError)\n        .then(() => displayChart(vegaEmbed));\n    }\n  })({\"config\": {\"view\": {\"continuousWidth\": 400, \"continuousHeight\": 300}, \"axis\": {\"labelFontSize\": 27, \"labelFontWeight\": \"normal\", \"labelLimit\": 300, \"tickMinStep\": 1, \"titleFontSize\": 29, \"titleFontWeight\": \"normal\"}, \"legend\": {\"columns\": 2, \"labelFontSize\": 25, \"labelLimit\": 300, \"legendX\": 450, \"legendY\": 10, \"orient\": \"none\", \"symbolStrokeWidth\": 4, \"titleFontSize\": 27, \"titleLimit\": 220}, \"title\": {\"fontSize\": 27}}, \"data\": {\"name\": \"data-e84fc5fe72e5167c482e6971b53957dd\"}, \"mark\": \"bar\", \"encoding\": {\"color\": {\"field\": \"Model_Name\", \"legend\": {\"title\": \"Model Name\"}, \"type\": \"nominal\"}, \"x\": {\"axis\": {\"labelAngle\": -30}, \"field\": \"Title\", \"sort\": {\"order\": \"ascending\"}, \"title\": \"Metric Group\", \"type\": \"nominal\"}, \"y\": {\"field\": \"Number_of_Models\", \"title\": \"Number of Models\", \"type\": \"quantitative\"}}, \"height\": 450, \"width\": 650, \"$schema\": \"https://vega.github.io/schema/vega-lite/v4.17.0.json\", \"datasets\": {\"data-e84fc5fe72e5167c482e6971b53957dd\": [{\"Model_Name\": \"MLP\", \"Number_of_Models\": 17, \"Metric_Group\": \"Accuracy\", \"Alias\": \"C1\", \"Title\": \"C1\"}, {\"Model_Name\": \"RF\", \"Number_of_Models\": 17, \"Metric_Group\": \"Accuracy\", \"Alias\": \"C1\", \"Title\": \"C1\"}, {\"Model_Name\": \"LR\", \"Number_of_Models\": 16, \"Metric_Group\": \"Accuracy\", \"Alias\": \"C1\", \"Title\": \"C1\"}, {\"Model_Name\": \"LGBM\", \"Number_of_Models\": 7, \"Metric_Group\": \"Accuracy\", \"Alias\": \"C1\", \"Title\": \"C1\"}, {\"Model_Name\": \"ADB\", \"Number_of_Models\": 5, \"Metric_Group\": \"Accuracy\", \"Alias\": \"C1\", \"Title\": \"C1\"}, {\"Model_Name\": \"EGR\", \"Number_of_Models\": 4, \"Metric_Group\": \"Accuracy\", \"Alias\": \"C1\", \"Title\": \"C1\"}, {\"Model_Name\": \"LGBM\", \"Number_of_Models\": 22, \"Metric_Group\": \"Equalized_Odds_FPR\", \"Alias\": \"C2\", \"Title\": \"C2\"}, {\"Model_Name\": \"RF\", \"Number_of_Models\": 19, \"Metric_Group\": \"Equalized_Odds_FPR\", \"Alias\": \"C2\", \"Title\": \"C2\"}, {\"Model_Name\": \"LR\", \"Number_of_Models\": 15, \"Metric_Group\": \"Equalized_Odds_FPR\", \"Alias\": \"C2\", \"Title\": \"C2\"}, {\"Model_Name\": \"MLP\", \"Number_of_Models\": 15, \"Metric_Group\": \"Equalized_Odds_FPR\", \"Alias\": \"C2\", \"Title\": \"C2\"}, {\"Model_Name\": \"EGR\", \"Number_of_Models\": 6, \"Metric_Group\": \"Equalized_Odds_FPR\", \"Alias\": \"C2\", \"Title\": \"C2\"}, {\"Model_Name\": \"LR\", \"Number_of_Models\": 23, \"Metric_Group\": \"Label_Stability\", \"Alias\": \"C3\", \"Title\": \"C3\"}, {\"Model_Name\": \"LGBM\", \"Number_of_Models\": 13, \"Metric_Group\": \"Label_Stability\", \"Alias\": \"C3\", \"Title\": \"C3\"}, {\"Model_Name\": \"RF\", \"Number_of_Models\": 10, \"Metric_Group\": \"Label_Stability\", \"Alias\": \"C3\", \"Title\": \"C3\"}, {\"Model_Name\": \"MLP\", \"Number_of_Models\": 5, \"Metric_Group\": \"Label_Stability\", \"Alias\": \"C3\", \"Title\": \"C3\"}, {\"Model_Name\": \"LR\", \"Number_of_Models\": 25, \"Metric_Group\": \"Label_Stability_Ratio\", \"Alias\": \"C4\", \"Title\": \"C4\"}, {\"Model_Name\": \"LGBM\", \"Number_of_Models\": 21, \"Metric_Group\": \"Label_Stability_Ratio\", \"Alias\": \"C4\", \"Title\": \"C4\"}, {\"Model_Name\": \"RF\", \"Number_of_Models\": 18, \"Metric_Group\": \"Label_Stability_Ratio\", \"Alias\": \"C4\", \"Title\": \"C4\"}, {\"Model_Name\": \"MLP\", \"Number_of_Models\": 14, \"Metric_Group\": \"Label_Stability_Ratio\", \"Alias\": \"C4\", \"Title\": \"C4\"}, {\"Model_Name\": \"EGR\", \"Number_of_Models\": 6, \"Metric_Group\": \"Label_Stability_Ratio\", \"Alias\": \"C4\", \"Title\": \"C4\"}, {\"Model_Name\": \"ADB\", \"Number_of_Models\": 5, \"Metric_Group\": \"Label_Stability_Ratio\", \"Alias\": \"C4\", \"Title\": \"C4\"}, {\"Model_Name\": \"RF\", \"Number_of_Models\": 11, \"Metric_Group\": \"Accuracy&Equalized_Odds_FPR\", \"Alias\": \"C1 & C2\", \"Title\": \"C1 & C2\"}, {\"Model_Name\": \"MLP\", \"Number_of_Models\": 9, \"Metric_Group\": \"Accuracy&Equalized_Odds_FPR\", \"Alias\": \"C1 & C2\", \"Title\": \"C1 & C2\"}, {\"Model_Name\": \"LGBM\", \"Number_of_Models\": 5, \"Metric_Group\": \"Accuracy&Equalized_Odds_FPR\", \"Alias\": \"C1 & C2\", \"Title\": \"C1 & C2\"}, {\"Model_Name\": \"LR\", \"Number_of_Models\": 5, \"Metric_Group\": \"Accuracy&Equalized_Odds_FPR\", \"Alias\": \"C1 & C2\", \"Title\": \"C1 & C2\"}, {\"Model_Name\": \"EGR\", \"Number_of_Models\": 4, \"Metric_Group\": \"Accuracy&Equalized_Odds_FPR\", \"Alias\": \"C1 & C2\", \"Title\": \"C1 & C2\"}, {\"Model_Name\": \"LR\", \"Number_of_Models\": 9, \"Metric_Group\": \"Accuracy&Label_Stability\", \"Alias\": \"C1 & C3\", \"Title\": \"C1 & C3\"}, {\"Model_Name\": \"LGBM\", \"Number_of_Models\": 3, \"Metric_Group\": \"Accuracy&Label_Stability\", \"Alias\": \"C1 & C3\", \"Title\": \"C1 & C3\"}, {\"Model_Name\": \"RF\", \"Number_of_Models\": 3, \"Metric_Group\": \"Accuracy&Label_Stability\", \"Alias\": \"C1 & C3\", \"Title\": \"C1 & C3\"}, {\"Model_Name\": \"LR\", \"Number_of_Models\": 14, \"Metric_Group\": \"Accuracy&Label_Stability_Ratio\", \"Alias\": \"C1 & C4\", \"Title\": \"C1 & C4\"}, {\"Model_Name\": \"MLP\", \"Number_of_Models\": 9, \"Metric_Group\": \"Accuracy&Label_Stability_Ratio\", \"Alias\": \"C1 & C4\", \"Title\": \"C1 & C4\"}, {\"Model_Name\": \"RF\", \"Number_of_Models\": 9, \"Metric_Group\": \"Accuracy&Label_Stability_Ratio\", \"Alias\": \"C1 & C4\", \"Title\": \"C1 & C4\"}, {\"Model_Name\": \"LGBM\", \"Number_of_Models\": 6, \"Metric_Group\": \"Accuracy&Label_Stability_Ratio\", \"Alias\": \"C1 & C4\", \"Title\": \"C1 & C4\"}, {\"Model_Name\": \"ADB\", \"Number_of_Models\": 4, \"Metric_Group\": \"Accuracy&Label_Stability_Ratio\", \"Alias\": \"C1 & C4\", \"Title\": \"C1 & C4\"}, {\"Model_Name\": \"EGR\", \"Number_of_Models\": 4, \"Metric_Group\": \"Accuracy&Label_Stability_Ratio\", \"Alias\": \"C1 & C4\", \"Title\": \"C1 & C4\"}, {\"Model_Name\": \"LR\", \"Number_of_Models\": 4, \"Metric_Group\": \"Accuracy&Equalized_Odds_FPR&Label_Stability&Label_Stability_Ratio\", \"Alias\": \"C1 & C2 & C3 & C4\", \"Title\": \"C1 & C2 & C3 & C4\"}, {\"Model_Name\": \"LGBM\", \"Number_of_Models\": 3, \"Metric_Group\": \"Accuracy&Equalized_Odds_FPR&Label_Stability&Label_Stability_Ratio\", \"Alias\": \"C1 & C2 & C3 & C4\", \"Title\": \"C1 & C2 & C3 & C4\"}, {\"Model_Name\": \"RF\", \"Number_of_Models\": 3, \"Metric_Group\": \"Accuracy&Equalized_Odds_FPR&Label_Stability&Label_Stability_Ratio\", \"Alias\": \"C1 & C2 & C3 & C4\", \"Title\": \"C1 & C2 & C3 & C4\"}]}}, {\"mode\": \"vega-lite\"});\n</script>",
      "text/plain": "alt.Chart(...)"
     },
     "execution_count": 12,
     "metadata": {},
     "output_type": "execute_result"
    }
   ],
   "source": [
    "metrics_value_range_dct = {\n",
    "    'Accuracy': [0.8, 1.0], # C1\n",
    "    'Equalized_Odds_FPR': [-0.03, 0.03], # C2\n",
    "    'Label_Stability': [0.9, 1.0], # C3\n",
    "    'Label_Stability_Ratio': [0.97, 1.03], # C4\n",
    "    'Accuracy&Equalized_Odds_FPR': None, # C1 + C2\n",
    "    'Accuracy&Label_Stability': None, # C1 + C3\n",
    "    'Accuracy&Label_Stability_Ratio': None, # C1 + C4\n",
    "    'Accuracy&Equalized_Odds_FPR&Label_Stability&Label_Stability_Ratio': None, # C1 + C2 + C3 + C4\n",
    "}\n",
    "create_bar_chart_for_model_selection(all_subgroup_metrics_df,\n",
    "                                     all_group_metrics_df,\n",
    "                                     metrics_value_range_dct,\n",
    "                                     dataset_name='Folktables_GA_2018_Income',\n",
    "                                     group='SEX&RAC1P',\n",
    "                                     vals_to_replace=vals_to_replace)"
   ],
   "metadata": {
    "collapsed": false,
    "ExecuteTime": {
     "end_time": "2024-01-10T20:49:01.579111Z",
     "start_time": "2024-01-10T20:49:01.369902Z"
    }
   },
   "id": "94a77c9c612a6e56"
  },
  {
   "cell_type": "code",
   "execution_count": 18,
   "outputs": [
    {
     "name": "stdout",
     "output_type": "stream",
     "text": [
      "Models that satisfy all 4 constraints:\n"
     ]
    },
    {
     "data": {
      "text/plain": "  Model_Name           Fairness_Intervention Experiment_Iteration\n0        EGR  ExponentiatedGradientReduction           Exp_iter_2\n1         LR                        Baseline           Exp_iter_2\n2         LR            EqOddsPostprocessing           Exp_iter_1\n3         LR            EqOddsPostprocessing           Exp_iter_2",
      "text/html": "<div>\n<style scoped>\n    .dataframe tbody tr th:only-of-type {\n        vertical-align: middle;\n    }\n\n    .dataframe tbody tr th {\n        vertical-align: top;\n    }\n\n    .dataframe thead th {\n        text-align: right;\n    }\n</style>\n<table border=\"1\" class=\"dataframe\">\n  <thead>\n    <tr style=\"text-align: right;\">\n      <th></th>\n      <th>Model_Name</th>\n      <th>Fairness_Intervention</th>\n      <th>Experiment_Iteration</th>\n    </tr>\n  </thead>\n  <tbody>\n    <tr>\n      <th>0</th>\n      <td>EGR</td>\n      <td>ExponentiatedGradientReduction</td>\n      <td>Exp_iter_2</td>\n    </tr>\n    <tr>\n      <th>1</th>\n      <td>LR</td>\n      <td>Baseline</td>\n      <td>Exp_iter_2</td>\n    </tr>\n    <tr>\n      <th>2</th>\n      <td>LR</td>\n      <td>EqOddsPostprocessing</td>\n      <td>Exp_iter_1</td>\n    </tr>\n    <tr>\n      <th>3</th>\n      <td>LR</td>\n      <td>EqOddsPostprocessing</td>\n      <td>Exp_iter_2</td>\n    </tr>\n  </tbody>\n</table>\n</div>"
     },
     "metadata": {},
     "output_type": "display_data"
    },
    {
     "data": {
      "text/html": "\n<div id=\"altair-viz-6d0397748e2b4348a5b8e998141a566e\"></div>\n<script type=\"text/javascript\">\n  var VEGA_DEBUG = (typeof VEGA_DEBUG == \"undefined\") ? {} : VEGA_DEBUG;\n  (function(spec, embedOpt){\n    let outputDiv = document.currentScript.previousElementSibling;\n    if (outputDiv.id !== \"altair-viz-6d0397748e2b4348a5b8e998141a566e\") {\n      outputDiv = document.getElementById(\"altair-viz-6d0397748e2b4348a5b8e998141a566e\");\n    }\n    const paths = {\n      \"vega\": \"https://cdn.jsdelivr.net/npm//vega@5?noext\",\n      \"vega-lib\": \"https://cdn.jsdelivr.net/npm//vega-lib?noext\",\n      \"vega-lite\": \"https://cdn.jsdelivr.net/npm//vega-lite@4.17.0?noext\",\n      \"vega-embed\": \"https://cdn.jsdelivr.net/npm//vega-embed@6?noext\",\n    };\n\n    function maybeLoadScript(lib, version) {\n      var key = `${lib.replace(\"-\", \"\")}_version`;\n      return (VEGA_DEBUG[key] == version) ?\n        Promise.resolve(paths[lib]) :\n        new Promise(function(resolve, reject) {\n          var s = document.createElement('script');\n          document.getElementsByTagName(\"head\")[0].appendChild(s);\n          s.async = true;\n          s.onload = () => {\n            VEGA_DEBUG[key] = version;\n            return resolve(paths[lib]);\n          };\n          s.onerror = () => reject(`Error loading script: ${paths[lib]}`);\n          s.src = paths[lib];\n        });\n    }\n\n    function showError(err) {\n      outputDiv.innerHTML = `<div class=\"error\" style=\"color:red;\">${err}</div>`;\n      throw err;\n    }\n\n    function displayChart(vegaEmbed) {\n      vegaEmbed(outputDiv, spec, embedOpt)\n        .catch(err => showError(`Javascript Error: ${err.message}<br>This usually means there's a typo in your chart specification. See the javascript console for the full traceback.`));\n    }\n\n    if(typeof define === \"function\" && define.amd) {\n      requirejs.config({paths});\n      require([\"vega-embed\"], displayChart, err => showError(`Error loading script: ${err.message}`));\n    } else {\n      maybeLoadScript(\"vega\", \"5\")\n        .then(() => maybeLoadScript(\"vega-lite\", \"4.17.0\"))\n        .then(() => maybeLoadScript(\"vega-embed\", \"6\"))\n        .catch(showError)\n        .then(() => displayChart(vegaEmbed));\n    }\n  })({\"config\": {\"view\": {\"continuousWidth\": 400, \"continuousHeight\": 300}, \"axis\": {\"labelFontSize\": 27, \"labelFontWeight\": \"normal\", \"labelLimit\": 300, \"tickMinStep\": 1, \"titleFontSize\": 29, \"titleFontWeight\": \"normal\"}, \"legend\": {\"columns\": 2, \"labelFontSize\": 25, \"labelLimit\": 300, \"legendX\": 450, \"legendY\": 10, \"orient\": \"none\", \"symbolStrokeWidth\": 4, \"titleFontSize\": 27, \"titleLimit\": 220}, \"title\": {\"fontSize\": 27}}, \"data\": {\"name\": \"data-f957c134c71d6e6bc3acae1ca2f02c6b\"}, \"mark\": \"bar\", \"encoding\": {\"color\": {\"field\": \"Model_Name\", \"legend\": {\"title\": \"Model Name\"}, \"type\": \"nominal\"}, \"x\": {\"axis\": {\"labelAngle\": -30}, \"field\": \"Title\", \"sort\": {\"order\": \"ascending\"}, \"title\": \"Metric Group\", \"type\": \"nominal\"}, \"y\": {\"field\": \"Number_of_Models\", \"title\": \"Number of Models\", \"type\": \"quantitative\"}}, \"height\": 450, \"width\": 650, \"$schema\": \"https://vega.github.io/schema/vega-lite/v4.17.0.json\", \"datasets\": {\"data-f957c134c71d6e6bc3acae1ca2f02c6b\": [{\"Model_Name\": \"LGBM\", \"Number_of_Models\": 18, \"Metric_Group\": \"Accuracy\", \"Alias\": \"C1\", \"Title\": \"C1\"}, {\"Model_Name\": \"MLP\", \"Number_of_Models\": 18, \"Metric_Group\": \"Accuracy\", \"Alias\": \"C1\", \"Title\": \"C1\"}, {\"Model_Name\": \"RF\", \"Number_of_Models\": 13, \"Metric_Group\": \"Accuracy\", \"Alias\": \"C1\", \"Title\": \"C1\"}, {\"Model_Name\": \"ADB\", \"Number_of_Models\": 5, \"Metric_Group\": \"Accuracy\", \"Alias\": \"C1\", \"Title\": \"C1\"}, {\"Model_Name\": \"LR\", \"Number_of_Models\": 4, \"Metric_Group\": \"Accuracy\", \"Alias\": \"C1\", \"Title\": \"C1\"}, {\"Model_Name\": \"EGR\", \"Number_of_Models\": 1, \"Metric_Group\": \"Accuracy\", \"Alias\": \"C1\", \"Title\": \"C1\"}, {\"Model_Name\": \"LGBM\", \"Number_of_Models\": 28, \"Metric_Group\": \"Equalized_Odds_FPR\", \"Alias\": \"C2\", \"Title\": \"C2\"}, {\"Model_Name\": \"RF\", \"Number_of_Models\": 27, \"Metric_Group\": \"Equalized_Odds_FPR\", \"Alias\": \"C2\", \"Title\": \"C2\"}, {\"Model_Name\": \"LR\", \"Number_of_Models\": 26, \"Metric_Group\": \"Equalized_Odds_FPR\", \"Alias\": \"C2\", \"Title\": \"C2\"}, {\"Model_Name\": \"MLP\", \"Number_of_Models\": 26, \"Metric_Group\": \"Equalized_Odds_FPR\", \"Alias\": \"C2\", \"Title\": \"C2\"}, {\"Model_Name\": \"EGR\", \"Number_of_Models\": 6, \"Metric_Group\": \"Equalized_Odds_FPR\", \"Alias\": \"C2\", \"Title\": \"C2\"}, {\"Model_Name\": \"ADB\", \"Number_of_Models\": 5, \"Metric_Group\": \"Equalized_Odds_FPR\", \"Alias\": \"C2\", \"Title\": \"C2\"}, {\"Model_Name\": \"LR\", \"Number_of_Models\": 30, \"Metric_Group\": \"Label_Stability\", \"Alias\": \"C3\", \"Title\": \"C3\"}, {\"Model_Name\": \"MLP\", \"Number_of_Models\": 12, \"Metric_Group\": \"Label_Stability\", \"Alias\": \"C3\", \"Title\": \"C3\"}, {\"Model_Name\": \"EGR\", \"Number_of_Models\": 6, \"Metric_Group\": \"Label_Stability\", \"Alias\": \"C3\", \"Title\": \"C3\"}, {\"Model_Name\": \"LGBM\", \"Number_of_Models\": 6, \"Metric_Group\": \"Label_Stability\", \"Alias\": \"C3\", \"Title\": \"C3\"}, {\"Model_Name\": \"RF\", \"Number_of_Models\": 6, \"Metric_Group\": \"Label_Stability\", \"Alias\": \"C3\", \"Title\": \"C3\"}, {\"Model_Name\": \"LGBM\", \"Number_of_Models\": 30, \"Metric_Group\": \"Label_Stability_Ratio\", \"Alias\": \"C4\", \"Title\": \"C4\"}, {\"Model_Name\": \"LR\", \"Number_of_Models\": 30, \"Metric_Group\": \"Label_Stability_Ratio\", \"Alias\": \"C4\", \"Title\": \"C4\"}, {\"Model_Name\": \"MLP\", \"Number_of_Models\": 30, \"Metric_Group\": \"Label_Stability_Ratio\", \"Alias\": \"C4\", \"Title\": \"C4\"}, {\"Model_Name\": \"RF\", \"Number_of_Models\": 30, \"Metric_Group\": \"Label_Stability_Ratio\", \"Alias\": \"C4\", \"Title\": \"C4\"}, {\"Model_Name\": \"ADB\", \"Number_of_Models\": 6, \"Metric_Group\": \"Label_Stability_Ratio\", \"Alias\": \"C4\", \"Title\": \"C4\"}, {\"Model_Name\": \"EGR\", \"Number_of_Models\": 6, \"Metric_Group\": \"Label_Stability_Ratio\", \"Alias\": \"C4\", \"Title\": \"C4\"}, {\"Model_Name\": \"LGBM\", \"Number_of_Models\": 17, \"Metric_Group\": \"Accuracy&Equalized_Odds_FPR\", \"Alias\": \"C1 & C2\", \"Title\": \"C1 & C2\"}, {\"Model_Name\": \"MLP\", \"Number_of_Models\": 17, \"Metric_Group\": \"Accuracy&Equalized_Odds_FPR\", \"Alias\": \"C1 & C2\", \"Title\": \"C1 & C2\"}, {\"Model_Name\": \"RF\", \"Number_of_Models\": 13, \"Metric_Group\": \"Accuracy&Equalized_Odds_FPR\", \"Alias\": \"C1 & C2\", \"Title\": \"C1 & C2\"}, {\"Model_Name\": \"ADB\", \"Number_of_Models\": 4, \"Metric_Group\": \"Accuracy&Equalized_Odds_FPR\", \"Alias\": \"C1 & C2\", \"Title\": \"C1 & C2\"}, {\"Model_Name\": \"LR\", \"Number_of_Models\": 3, \"Metric_Group\": \"Accuracy&Equalized_Odds_FPR\", \"Alias\": \"C1 & C2\", \"Title\": \"C1 & C2\"}, {\"Model_Name\": \"EGR\", \"Number_of_Models\": 1, \"Metric_Group\": \"Accuracy&Equalized_Odds_FPR\", \"Alias\": \"C1 & C2\", \"Title\": \"C1 & C2\"}, {\"Model_Name\": \"LR\", \"Number_of_Models\": 4, \"Metric_Group\": \"Accuracy&Label_Stability\", \"Alias\": \"C1 & C3\", \"Title\": \"C1 & C3\"}, {\"Model_Name\": \"EGR\", \"Number_of_Models\": 1, \"Metric_Group\": \"Accuracy&Label_Stability\", \"Alias\": \"C1 & C3\", \"Title\": \"C1 & C3\"}, {\"Model_Name\": \"LGBM\", \"Number_of_Models\": 18, \"Metric_Group\": \"Accuracy&Label_Stability_Ratio\", \"Alias\": \"C1 & C4\", \"Title\": \"C1 & C4\"}, {\"Model_Name\": \"MLP\", \"Number_of_Models\": 18, \"Metric_Group\": \"Accuracy&Label_Stability_Ratio\", \"Alias\": \"C1 & C4\", \"Title\": \"C1 & C4\"}, {\"Model_Name\": \"RF\", \"Number_of_Models\": 13, \"Metric_Group\": \"Accuracy&Label_Stability_Ratio\", \"Alias\": \"C1 & C4\", \"Title\": \"C1 & C4\"}, {\"Model_Name\": \"ADB\", \"Number_of_Models\": 5, \"Metric_Group\": \"Accuracy&Label_Stability_Ratio\", \"Alias\": \"C1 & C4\", \"Title\": \"C1 & C4\"}, {\"Model_Name\": \"LR\", \"Number_of_Models\": 4, \"Metric_Group\": \"Accuracy&Label_Stability_Ratio\", \"Alias\": \"C1 & C4\", \"Title\": \"C1 & C4\"}, {\"Model_Name\": \"EGR\", \"Number_of_Models\": 1, \"Metric_Group\": \"Accuracy&Label_Stability_Ratio\", \"Alias\": \"C1 & C4\", \"Title\": \"C1 & C4\"}, {\"Model_Name\": \"LR\", \"Number_of_Models\": 3, \"Metric_Group\": \"Accuracy&Equalized_Odds_FPR&Label_Stability&Label_Stability_Ratio\", \"Alias\": \"C1 & C2 & C3 & C4\", \"Title\": \"C1 & C2 & C3 & C4\"}, {\"Model_Name\": \"EGR\", \"Number_of_Models\": 1, \"Metric_Group\": \"Accuracy&Equalized_Odds_FPR&Label_Stability&Label_Stability_Ratio\", \"Alias\": \"C1 & C2 & C3 & C4\", \"Title\": \"C1 & C2 & C3 & C4\"}]}}, {\"mode\": \"vega-lite\"});\n</script>",
      "text/plain": "alt.Chart(...)"
     },
     "execution_count": 18,
     "metadata": {},
     "output_type": "execute_result"
    }
   ],
   "source": [
    "metrics_value_range_dct = {\n",
    "    'Accuracy': [0.7, 1.0], # C1\n",
    "    'Equalized_Odds_FPR': [-0.03, 0.03], # C2\n",
    "    'Label_Stability': [0.87, 1.0], # C3\n",
    "    'Label_Stability_Ratio': [0.93, 1.07], # C4\n",
    "    'Accuracy&Equalized_Odds_FPR': None, # C1 + C2\n",
    "    'Accuracy&Label_Stability': None, # C1 + C3\n",
    "    'Accuracy&Label_Stability_Ratio': None, # C1 + C4\n",
    "    'Accuracy&Equalized_Odds_FPR&Label_Stability&Label_Stability_Ratio': None, # C1 + C2 + C3 + C4\n",
    "}\n",
    "create_bar_chart_for_model_selection(all_subgroup_metrics_df,\n",
    "                                     all_group_metrics_df,\n",
    "                                     metrics_value_range_dct,\n",
    "                                     dataset_name='Folktables_CA_2018_Public_Coverage',\n",
    "                                     group='SEX&RAC1P',\n",
    "                                     vals_to_replace=vals_to_replace)"
   ],
   "metadata": {
    "collapsed": false,
    "ExecuteTime": {
     "end_time": "2024-01-10T21:20:19.068570Z",
     "start_time": "2024-01-10T21:20:18.835227Z"
    }
   },
   "id": "6f73aaabadda46c2"
  },
  {
   "cell_type": "code",
   "execution_count": 13,
   "outputs": [
    {
     "name": "stdout",
     "output_type": "stream",
     "text": [
      "Models that satisfy all 4 constraints:\n"
     ]
    },
    {
     "data": {
      "text/plain": "  Model_Name           Fairness_Intervention Experiment_Iteration\n0        EGR  ExponentiatedGradientReduction           Exp_iter_2\n1       LGBM                             ROC           Exp_iter_2\n2         LR                             ROC           Exp_iter_2\n3        MLP                             DIR           Exp_iter_3\n4        MLP                             ROC           Exp_iter_2",
      "text/html": "<div>\n<style scoped>\n    .dataframe tbody tr th:only-of-type {\n        vertical-align: middle;\n    }\n\n    .dataframe tbody tr th {\n        vertical-align: top;\n    }\n\n    .dataframe thead th {\n        text-align: right;\n    }\n</style>\n<table border=\"1\" class=\"dataframe\">\n  <thead>\n    <tr style=\"text-align: right;\">\n      <th></th>\n      <th>Model_Name</th>\n      <th>Fairness_Intervention</th>\n      <th>Experiment_Iteration</th>\n    </tr>\n  </thead>\n  <tbody>\n    <tr>\n      <th>0</th>\n      <td>EGR</td>\n      <td>ExponentiatedGradientReduction</td>\n      <td>Exp_iter_2</td>\n    </tr>\n    <tr>\n      <th>1</th>\n      <td>LGBM</td>\n      <td>ROC</td>\n      <td>Exp_iter_2</td>\n    </tr>\n    <tr>\n      <th>2</th>\n      <td>LR</td>\n      <td>ROC</td>\n      <td>Exp_iter_2</td>\n    </tr>\n    <tr>\n      <th>3</th>\n      <td>MLP</td>\n      <td>DIR</td>\n      <td>Exp_iter_3</td>\n    </tr>\n    <tr>\n      <th>4</th>\n      <td>MLP</td>\n      <td>ROC</td>\n      <td>Exp_iter_2</td>\n    </tr>\n  </tbody>\n</table>\n</div>"
     },
     "metadata": {},
     "output_type": "display_data"
    },
    {
     "data": {
      "text/html": "\n<div id=\"altair-viz-c71ef63f2d6547049ccf14eb01a18db8\"></div>\n<script type=\"text/javascript\">\n  var VEGA_DEBUG = (typeof VEGA_DEBUG == \"undefined\") ? {} : VEGA_DEBUG;\n  (function(spec, embedOpt){\n    let outputDiv = document.currentScript.previousElementSibling;\n    if (outputDiv.id !== \"altair-viz-c71ef63f2d6547049ccf14eb01a18db8\") {\n      outputDiv = document.getElementById(\"altair-viz-c71ef63f2d6547049ccf14eb01a18db8\");\n    }\n    const paths = {\n      \"vega\": \"https://cdn.jsdelivr.net/npm//vega@5?noext\",\n      \"vega-lib\": \"https://cdn.jsdelivr.net/npm//vega-lib?noext\",\n      \"vega-lite\": \"https://cdn.jsdelivr.net/npm//vega-lite@4.17.0?noext\",\n      \"vega-embed\": \"https://cdn.jsdelivr.net/npm//vega-embed@6?noext\",\n    };\n\n    function maybeLoadScript(lib, version) {\n      var key = `${lib.replace(\"-\", \"\")}_version`;\n      return (VEGA_DEBUG[key] == version) ?\n        Promise.resolve(paths[lib]) :\n        new Promise(function(resolve, reject) {\n          var s = document.createElement('script');\n          document.getElementsByTagName(\"head\")[0].appendChild(s);\n          s.async = true;\n          s.onload = () => {\n            VEGA_DEBUG[key] = version;\n            return resolve(paths[lib]);\n          };\n          s.onerror = () => reject(`Error loading script: ${paths[lib]}`);\n          s.src = paths[lib];\n        });\n    }\n\n    function showError(err) {\n      outputDiv.innerHTML = `<div class=\"error\" style=\"color:red;\">${err}</div>`;\n      throw err;\n    }\n\n    function displayChart(vegaEmbed) {\n      vegaEmbed(outputDiv, spec, embedOpt)\n        .catch(err => showError(`Javascript Error: ${err.message}<br>This usually means there's a typo in your chart specification. See the javascript console for the full traceback.`));\n    }\n\n    if(typeof define === \"function\" && define.amd) {\n      requirejs.config({paths});\n      require([\"vega-embed\"], displayChart, err => showError(`Error loading script: ${err.message}`));\n    } else {\n      maybeLoadScript(\"vega\", \"5\")\n        .then(() => maybeLoadScript(\"vega-lite\", \"4.17.0\"))\n        .then(() => maybeLoadScript(\"vega-embed\", \"6\"))\n        .catch(showError)\n        .then(() => displayChart(vegaEmbed));\n    }\n  })({\"config\": {\"view\": {\"continuousWidth\": 400, \"continuousHeight\": 300}, \"axis\": {\"labelFontSize\": 27, \"labelFontWeight\": \"normal\", \"labelLimit\": 300, \"tickMinStep\": 1, \"titleFontSize\": 29, \"titleFontWeight\": \"normal\"}, \"legend\": {\"columns\": 2, \"labelFontSize\": 25, \"labelLimit\": 300, \"legendX\": 450, \"legendY\": 10, \"orient\": \"none\", \"symbolStrokeWidth\": 4, \"titleFontSize\": 27, \"titleLimit\": 220}, \"title\": {\"fontSize\": 27}}, \"data\": {\"name\": \"data-6d7d09be05dc71414947bf5140e45068\"}, \"mark\": \"bar\", \"encoding\": {\"color\": {\"field\": \"Model_Name\", \"legend\": {\"title\": \"Model Name\"}, \"type\": \"nominal\"}, \"x\": {\"axis\": {\"labelAngle\": -30}, \"field\": \"Title\", \"sort\": {\"order\": \"ascending\"}, \"title\": \"Metric Group\", \"type\": \"nominal\"}, \"y\": {\"field\": \"Number_of_Models\", \"title\": \"Number of Models\", \"type\": \"quantitative\"}}, \"height\": 450, \"width\": 650, \"$schema\": \"https://vega.github.io/schema/vega-lite/v4.17.0.json\", \"datasets\": {\"data-6d7d09be05dc71414947bf5140e45068\": [{\"Model_Name\": \"LGBM\", \"Number_of_Models\": 11, \"Metric_Group\": \"Accuracy\", \"Alias\": \"C1\", \"Title\": \"C1\"}, {\"Model_Name\": \"MLP\", \"Number_of_Models\": 9, \"Metric_Group\": \"Accuracy\", \"Alias\": \"C1\", \"Title\": \"C1\"}, {\"Model_Name\": \"LR\", \"Number_of_Models\": 8, \"Metric_Group\": \"Accuracy\", \"Alias\": \"C1\", \"Title\": \"C1\"}, {\"Model_Name\": \"RF\", \"Number_of_Models\": 4, \"Metric_Group\": \"Accuracy\", \"Alias\": \"C1\", \"Title\": \"C1\"}, {\"Model_Name\": \"ADB\", \"Number_of_Models\": 3, \"Metric_Group\": \"Accuracy\", \"Alias\": \"C1\", \"Title\": \"C1\"}, {\"Model_Name\": \"EGR\", \"Number_of_Models\": 1, \"Metric_Group\": \"Accuracy\", \"Alias\": \"C1\", \"Title\": \"C1\"}, {\"Model_Name\": \"LGBM\", \"Number_of_Models\": 19, \"Metric_Group\": \"Equalized_Odds_FNR\", \"Alias\": \"C2\", \"Title\": \"C2\"}, {\"Model_Name\": \"LR\", \"Number_of_Models\": 18, \"Metric_Group\": \"Equalized_Odds_FNR\", \"Alias\": \"C2\", \"Title\": \"C2\"}, {\"Model_Name\": \"MLP\", \"Number_of_Models\": 15, \"Metric_Group\": \"Equalized_Odds_FNR\", \"Alias\": \"C2\", \"Title\": \"C2\"}, {\"Model_Name\": \"RF\", \"Number_of_Models\": 11, \"Metric_Group\": \"Equalized_Odds_FNR\", \"Alias\": \"C2\", \"Title\": \"C2\"}, {\"Model_Name\": \"EGR\", \"Number_of_Models\": 6, \"Metric_Group\": \"Equalized_Odds_FNR\", \"Alias\": \"C2\", \"Title\": \"C2\"}, {\"Model_Name\": \"ADB\", \"Number_of_Models\": 1, \"Metric_Group\": \"Equalized_Odds_FNR\", \"Alias\": \"C2\", \"Title\": \"C2\"}, {\"Model_Name\": \"LGBM\", \"Number_of_Models\": 30, \"Metric_Group\": \"Label_Stability\", \"Alias\": \"C3\", \"Title\": \"C3\"}, {\"Model_Name\": \"LR\", \"Number_of_Models\": 30, \"Metric_Group\": \"Label_Stability\", \"Alias\": \"C3\", \"Title\": \"C3\"}, {\"Model_Name\": \"RF\", \"Number_of_Models\": 29, \"Metric_Group\": \"Label_Stability\", \"Alias\": \"C3\", \"Title\": \"C3\"}, {\"Model_Name\": \"MLP\", \"Number_of_Models\": 24, \"Metric_Group\": \"Label_Stability\", \"Alias\": \"C3\", \"Title\": \"C3\"}, {\"Model_Name\": \"ADB\", \"Number_of_Models\": 6, \"Metric_Group\": \"Label_Stability\", \"Alias\": \"C3\", \"Title\": \"C3\"}, {\"Model_Name\": \"EGR\", \"Number_of_Models\": 6, \"Metric_Group\": \"Label_Stability\", \"Alias\": \"C3\", \"Title\": \"C3\"}, {\"Model_Name\": \"LR\", \"Number_of_Models\": 23, \"Metric_Group\": \"Label_Stability_Ratio\", \"Alias\": \"C4\", \"Title\": \"C4\"}, {\"Model_Name\": \"MLP\", \"Number_of_Models\": 17, \"Metric_Group\": \"Label_Stability_Ratio\", \"Alias\": \"C4\", \"Title\": \"C4\"}, {\"Model_Name\": \"LGBM\", \"Number_of_Models\": 8, \"Metric_Group\": \"Label_Stability_Ratio\", \"Alias\": \"C4\", \"Title\": \"C4\"}, {\"Model_Name\": \"EGR\", \"Number_of_Models\": 6, \"Metric_Group\": \"Label_Stability_Ratio\", \"Alias\": \"C4\", \"Title\": \"C4\"}, {\"Model_Name\": \"RF\", \"Number_of_Models\": 5, \"Metric_Group\": \"Label_Stability_Ratio\", \"Alias\": \"C4\", \"Title\": \"C4\"}, {\"Model_Name\": \"LGBM\", \"Number_of_Models\": 3, \"Metric_Group\": \"Accuracy&Equalized_Odds_FNR\", \"Alias\": \"C1 & C2\", \"Title\": \"C1 & C2\"}, {\"Model_Name\": \"MLP\", \"Number_of_Models\": 2, \"Metric_Group\": \"Accuracy&Equalized_Odds_FNR\", \"Alias\": \"C1 & C2\", \"Title\": \"C1 & C2\"}, {\"Model_Name\": \"ADB\", \"Number_of_Models\": 1, \"Metric_Group\": \"Accuracy&Equalized_Odds_FNR\", \"Alias\": \"C1 & C2\", \"Title\": \"C1 & C2\"}, {\"Model_Name\": \"EGR\", \"Number_of_Models\": 1, \"Metric_Group\": \"Accuracy&Equalized_Odds_FNR\", \"Alias\": \"C1 & C2\", \"Title\": \"C1 & C2\"}, {\"Model_Name\": \"LR\", \"Number_of_Models\": 1, \"Metric_Group\": \"Accuracy&Equalized_Odds_FNR\", \"Alias\": \"C1 & C2\", \"Title\": \"C1 & C2\"}, {\"Model_Name\": \"LGBM\", \"Number_of_Models\": 11, \"Metric_Group\": \"Accuracy&Label_Stability\", \"Alias\": \"C1 & C3\", \"Title\": \"C1 & C3\"}, {\"Model_Name\": \"MLP\", \"Number_of_Models\": 9, \"Metric_Group\": \"Accuracy&Label_Stability\", \"Alias\": \"C1 & C3\", \"Title\": \"C1 & C3\"}, {\"Model_Name\": \"LR\", \"Number_of_Models\": 8, \"Metric_Group\": \"Accuracy&Label_Stability\", \"Alias\": \"C1 & C3\", \"Title\": \"C1 & C3\"}, {\"Model_Name\": \"RF\", \"Number_of_Models\": 4, \"Metric_Group\": \"Accuracy&Label_Stability\", \"Alias\": \"C1 & C3\", \"Title\": \"C1 & C3\"}, {\"Model_Name\": \"ADB\", \"Number_of_Models\": 3, \"Metric_Group\": \"Accuracy&Label_Stability\", \"Alias\": \"C1 & C3\", \"Title\": \"C1 & C3\"}, {\"Model_Name\": \"EGR\", \"Number_of_Models\": 1, \"Metric_Group\": \"Accuracy&Label_Stability\", \"Alias\": \"C1 & C3\", \"Title\": \"C1 & C3\"}, {\"Model_Name\": \"LR\", \"Number_of_Models\": 7, \"Metric_Group\": \"Accuracy&Label_Stability_Ratio\", \"Alias\": \"C1 & C4\", \"Title\": \"C1 & C4\"}, {\"Model_Name\": \"MLP\", \"Number_of_Models\": 4, \"Metric_Group\": \"Accuracy&Label_Stability_Ratio\", \"Alias\": \"C1 & C4\", \"Title\": \"C1 & C4\"}, {\"Model_Name\": \"EGR\", \"Number_of_Models\": 1, \"Metric_Group\": \"Accuracy&Label_Stability_Ratio\", \"Alias\": \"C1 & C4\", \"Title\": \"C1 & C4\"}, {\"Model_Name\": \"LGBM\", \"Number_of_Models\": 1, \"Metric_Group\": \"Accuracy&Label_Stability_Ratio\", \"Alias\": \"C1 & C4\", \"Title\": \"C1 & C4\"}, {\"Model_Name\": \"MLP\", \"Number_of_Models\": 2, \"Metric_Group\": \"Accuracy&Equalized_Odds_FNR&Label_Stability&Label_Stability_Ratio\", \"Alias\": \"C1 & C2 & C3 & C4\", \"Title\": \"C1 & C2 & C3 & C4\"}, {\"Model_Name\": \"EGR\", \"Number_of_Models\": 1, \"Metric_Group\": \"Accuracy&Equalized_Odds_FNR&Label_Stability&Label_Stability_Ratio\", \"Alias\": \"C1 & C2 & C3 & C4\", \"Title\": \"C1 & C2 & C3 & C4\"}, {\"Model_Name\": \"LGBM\", \"Number_of_Models\": 1, \"Metric_Group\": \"Accuracy&Equalized_Odds_FNR&Label_Stability&Label_Stability_Ratio\", \"Alias\": \"C1 & C2 & C3 & C4\", \"Title\": \"C1 & C2 & C3 & C4\"}, {\"Model_Name\": \"LR\", \"Number_of_Models\": 1, \"Metric_Group\": \"Accuracy&Equalized_Odds_FNR&Label_Stability&Label_Stability_Ratio\", \"Alias\": \"C1 & C2 & C3 & C4\", \"Title\": \"C1 & C2 & C3 & C4\"}]}}, {\"mode\": \"vega-lite\"});\n</script>",
      "text/plain": "alt.Chart(...)"
     },
     "execution_count": 13,
     "metadata": {},
     "output_type": "execute_result"
    }
   ],
   "source": [
    "metrics_value_range_dct = {\n",
    "    'Accuracy': [0.9, 1.0], # C1\n",
    "    'Equalized_Odds_FNR': [-0.05, 0.05], # C2\n",
    "    'Label_Stability': [0.92, 1.0], # C3\n",
    "    'Label_Stability_Ratio': [0.95, 1.05], # C4\n",
    "    'Accuracy&Equalized_Odds_FNR': None, # C1 + C2\n",
    "    'Accuracy&Label_Stability': None, # C1 + C3\n",
    "    'Accuracy&Label_Stability_Ratio': None, # C1 + C4\n",
    "    'Accuracy&Equalized_Odds_FNR&Label_Stability&Label_Stability_Ratio': None, # C1 + C2 + C3 + C4\n",
    "}\n",
    "create_bar_chart_for_model_selection(all_subgroup_metrics_df,\n",
    "                                     all_group_metrics_df,\n",
    "                                     metrics_value_range_dct,\n",
    "                                     dataset_name='Law_School',\n",
    "                                     group='male&race',\n",
    "                                     vals_to_replace=vals_to_replace)"
   ],
   "metadata": {
    "collapsed": false,
    "ExecuteTime": {
     "end_time": "2024-01-10T21:22:46.104779Z",
     "start_time": "2024-01-10T21:22:45.935148Z"
    }
   },
   "id": "276ca925586836f4"
  },
  {
   "cell_type": "code",
   "execution_count": 14,
   "outputs": [
    {
     "name": "stdout",
     "output_type": "stream",
     "text": [
      "Models that satisfy all 4 constraints:\n"
     ]
    },
    {
     "data": {
      "text/plain": "  Model_Name           Fairness_Intervention Experiment_Iteration\n0        EGR  ExponentiatedGradientReduction           Exp_iter_4\n1        MLP                             DIR           Exp_iter_4\n2         RF                        Baseline           Exp_iter_5\n3         RF                             DIR           Exp_iter_5\n4         RF            EqOddsPostprocessing           Exp_iter_5",
      "text/html": "<div>\n<style scoped>\n    .dataframe tbody tr th:only-of-type {\n        vertical-align: middle;\n    }\n\n    .dataframe tbody tr th {\n        vertical-align: top;\n    }\n\n    .dataframe thead th {\n        text-align: right;\n    }\n</style>\n<table border=\"1\" class=\"dataframe\">\n  <thead>\n    <tr style=\"text-align: right;\">\n      <th></th>\n      <th>Model_Name</th>\n      <th>Fairness_Intervention</th>\n      <th>Experiment_Iteration</th>\n    </tr>\n  </thead>\n  <tbody>\n    <tr>\n      <th>0</th>\n      <td>EGR</td>\n      <td>ExponentiatedGradientReduction</td>\n      <td>Exp_iter_4</td>\n    </tr>\n    <tr>\n      <th>1</th>\n      <td>MLP</td>\n      <td>DIR</td>\n      <td>Exp_iter_4</td>\n    </tr>\n    <tr>\n      <th>2</th>\n      <td>RF</td>\n      <td>Baseline</td>\n      <td>Exp_iter_5</td>\n    </tr>\n    <tr>\n      <th>3</th>\n      <td>RF</td>\n      <td>DIR</td>\n      <td>Exp_iter_5</td>\n    </tr>\n    <tr>\n      <th>4</th>\n      <td>RF</td>\n      <td>EqOddsPostprocessing</td>\n      <td>Exp_iter_5</td>\n    </tr>\n  </tbody>\n</table>\n</div>"
     },
     "metadata": {},
     "output_type": "display_data"
    },
    {
     "data": {
      "text/html": "\n<div id=\"altair-viz-1e832b9b4cba451f86b619d8a61888a9\"></div>\n<script type=\"text/javascript\">\n  var VEGA_DEBUG = (typeof VEGA_DEBUG == \"undefined\") ? {} : VEGA_DEBUG;\n  (function(spec, embedOpt){\n    let outputDiv = document.currentScript.previousElementSibling;\n    if (outputDiv.id !== \"altair-viz-1e832b9b4cba451f86b619d8a61888a9\") {\n      outputDiv = document.getElementById(\"altair-viz-1e832b9b4cba451f86b619d8a61888a9\");\n    }\n    const paths = {\n      \"vega\": \"https://cdn.jsdelivr.net/npm//vega@5?noext\",\n      \"vega-lib\": \"https://cdn.jsdelivr.net/npm//vega-lib?noext\",\n      \"vega-lite\": \"https://cdn.jsdelivr.net/npm//vega-lite@4.17.0?noext\",\n      \"vega-embed\": \"https://cdn.jsdelivr.net/npm//vega-embed@6?noext\",\n    };\n\n    function maybeLoadScript(lib, version) {\n      var key = `${lib.replace(\"-\", \"\")}_version`;\n      return (VEGA_DEBUG[key] == version) ?\n        Promise.resolve(paths[lib]) :\n        new Promise(function(resolve, reject) {\n          var s = document.createElement('script');\n          document.getElementsByTagName(\"head\")[0].appendChild(s);\n          s.async = true;\n          s.onload = () => {\n            VEGA_DEBUG[key] = version;\n            return resolve(paths[lib]);\n          };\n          s.onerror = () => reject(`Error loading script: ${paths[lib]}`);\n          s.src = paths[lib];\n        });\n    }\n\n    function showError(err) {\n      outputDiv.innerHTML = `<div class=\"error\" style=\"color:red;\">${err}</div>`;\n      throw err;\n    }\n\n    function displayChart(vegaEmbed) {\n      vegaEmbed(outputDiv, spec, embedOpt)\n        .catch(err => showError(`Javascript Error: ${err.message}<br>This usually means there's a typo in your chart specification. See the javascript console for the full traceback.`));\n    }\n\n    if(typeof define === \"function\" && define.amd) {\n      requirejs.config({paths});\n      require([\"vega-embed\"], displayChart, err => showError(`Error loading script: ${err.message}`));\n    } else {\n      maybeLoadScript(\"vega\", \"5\")\n        .then(() => maybeLoadScript(\"vega-lite\", \"4.17.0\"))\n        .then(() => maybeLoadScript(\"vega-embed\", \"6\"))\n        .catch(showError)\n        .then(() => displayChart(vegaEmbed));\n    }\n  })({\"config\": {\"view\": {\"continuousWidth\": 400, \"continuousHeight\": 300}, \"axis\": {\"labelFontSize\": 27, \"labelFontWeight\": \"normal\", \"labelLimit\": 300, \"tickMinStep\": 1, \"titleFontSize\": 29, \"titleFontWeight\": \"normal\"}, \"legend\": {\"columns\": 2, \"labelFontSize\": 25, \"labelLimit\": 300, \"legendX\": 450, \"legendY\": 10, \"orient\": \"none\", \"symbolStrokeWidth\": 4, \"titleFontSize\": 27, \"titleLimit\": 220}, \"title\": {\"fontSize\": 27}}, \"data\": {\"name\": \"data-6c8fa09a142b4ca76c72431043ed3729\"}, \"mark\": \"bar\", \"encoding\": {\"color\": {\"field\": \"Model_Name\", \"legend\": {\"title\": \"Model Name\"}, \"type\": \"nominal\"}, \"x\": {\"axis\": {\"labelAngle\": -30}, \"field\": \"Title\", \"sort\": {\"order\": \"ascending\"}, \"title\": \"Metric Group\", \"type\": \"nominal\"}, \"y\": {\"field\": \"Number_of_Models\", \"title\": \"Number of Models\", \"type\": \"quantitative\"}}, \"height\": 450, \"width\": 650, \"$schema\": \"https://vega.github.io/schema/vega-lite/v4.17.0.json\", \"datasets\": {\"data-6c8fa09a142b4ca76c72431043ed3729\": [{\"Model_Name\": \"LR\", \"Number_of_Models\": 18, \"Metric_Group\": \"Accuracy\", \"Alias\": \"C1\", \"Title\": \"C1\"}, {\"Model_Name\": \"LGBM\", \"Number_of_Models\": 17, \"Metric_Group\": \"Accuracy\", \"Alias\": \"C1\", \"Title\": \"C1\"}, {\"Model_Name\": \"RF\", \"Number_of_Models\": 17, \"Metric_Group\": \"Accuracy\", \"Alias\": \"C1\", \"Title\": \"C1\"}, {\"Model_Name\": \"MLP\", \"Number_of_Models\": 16, \"Metric_Group\": \"Accuracy\", \"Alias\": \"C1\", \"Title\": \"C1\"}, {\"Model_Name\": \"EGR\", \"Number_of_Models\": 6, \"Metric_Group\": \"Accuracy\", \"Alias\": \"C1\", \"Title\": \"C1\"}, {\"Model_Name\": \"ADB\", \"Number_of_Models\": 5, \"Metric_Group\": \"Accuracy\", \"Alias\": \"C1\", \"Title\": \"C1\"}, {\"Model_Name\": \"RF\", \"Number_of_Models\": 10, \"Metric_Group\": \"Equalized_Odds_FPR\", \"Alias\": \"C2\", \"Title\": \"C2\"}, {\"Model_Name\": \"LGBM\", \"Number_of_Models\": 8, \"Metric_Group\": \"Equalized_Odds_FPR\", \"Alias\": \"C2\", \"Title\": \"C2\"}, {\"Model_Name\": \"MLP\", \"Number_of_Models\": 7, \"Metric_Group\": \"Equalized_Odds_FPR\", \"Alias\": \"C2\", \"Title\": \"C2\"}, {\"Model_Name\": \"ADB\", \"Number_of_Models\": 3, \"Metric_Group\": \"Equalized_Odds_FPR\", \"Alias\": \"C2\", \"Title\": \"C2\"}, {\"Model_Name\": \"LR\", \"Number_of_Models\": 3, \"Metric_Group\": \"Equalized_Odds_FPR\", \"Alias\": \"C2\", \"Title\": \"C2\"}, {\"Model_Name\": \"EGR\", \"Number_of_Models\": 2, \"Metric_Group\": \"Equalized_Odds_FPR\", \"Alias\": \"C2\", \"Title\": \"C2\"}, {\"Model_Name\": \"RF\", \"Number_of_Models\": 29, \"Metric_Group\": \"Label_Stability\", \"Alias\": \"C3\", \"Title\": \"C3\"}, {\"Model_Name\": \"LR\", \"Number_of_Models\": 28, \"Metric_Group\": \"Label_Stability\", \"Alias\": \"C3\", \"Title\": \"C3\"}, {\"Model_Name\": \"LGBM\", \"Number_of_Models\": 25, \"Metric_Group\": \"Label_Stability\", \"Alias\": \"C3\", \"Title\": \"C3\"}, {\"Model_Name\": \"MLP\", \"Number_of_Models\": 16, \"Metric_Group\": \"Label_Stability\", \"Alias\": \"C3\", \"Title\": \"C3\"}, {\"Model_Name\": \"EGR\", \"Number_of_Models\": 2, \"Metric_Group\": \"Label_Stability\", \"Alias\": \"C3\", \"Title\": \"C3\"}, {\"Model_Name\": \"RF\", \"Number_of_Models\": 22, \"Metric_Group\": \"Label_Stability_Ratio\", \"Alias\": \"C4\", \"Title\": \"C4\"}, {\"Model_Name\": \"LR\", \"Number_of_Models\": 18, \"Metric_Group\": \"Label_Stability_Ratio\", \"Alias\": \"C4\", \"Title\": \"C4\"}, {\"Model_Name\": \"LGBM\", \"Number_of_Models\": 16, \"Metric_Group\": \"Label_Stability_Ratio\", \"Alias\": \"C4\", \"Title\": \"C4\"}, {\"Model_Name\": \"MLP\", \"Number_of_Models\": 14, \"Metric_Group\": \"Label_Stability_Ratio\", \"Alias\": \"C4\", \"Title\": \"C4\"}, {\"Model_Name\": \"EGR\", \"Number_of_Models\": 2, \"Metric_Group\": \"Label_Stability_Ratio\", \"Alias\": \"C4\", \"Title\": \"C4\"}, {\"Model_Name\": \"ADB\", \"Number_of_Models\": 1, \"Metric_Group\": \"Label_Stability_Ratio\", \"Alias\": \"C4\", \"Title\": \"C4\"}, {\"Model_Name\": \"ADB\", \"Number_of_Models\": 3, \"Metric_Group\": \"Accuracy&Equalized_Odds_FPR\", \"Alias\": \"C1 & C2\", \"Title\": \"C1 & C2\"}, {\"Model_Name\": \"MLP\", \"Number_of_Models\": 3, \"Metric_Group\": \"Accuracy&Equalized_Odds_FPR\", \"Alias\": \"C1 & C2\", \"Title\": \"C1 & C2\"}, {\"Model_Name\": \"RF\", \"Number_of_Models\": 3, \"Metric_Group\": \"Accuracy&Equalized_Odds_FPR\", \"Alias\": \"C1 & C2\", \"Title\": \"C1 & C2\"}, {\"Model_Name\": \"EGR\", \"Number_of_Models\": 2, \"Metric_Group\": \"Accuracy&Equalized_Odds_FPR\", \"Alias\": \"C1 & C2\", \"Title\": \"C1 & C2\"}, {\"Model_Name\": \"LGBM\", \"Number_of_Models\": 2, \"Metric_Group\": \"Accuracy&Equalized_Odds_FPR\", \"Alias\": \"C1 & C2\", \"Title\": \"C1 & C2\"}, {\"Model_Name\": \"LR\", \"Number_of_Models\": 1, \"Metric_Group\": \"Accuracy&Equalized_Odds_FPR\", \"Alias\": \"C1 & C2\", \"Title\": \"C1 & C2\"}, {\"Model_Name\": \"LGBM\", \"Number_of_Models\": 17, \"Metric_Group\": \"Accuracy&Label_Stability\", \"Alias\": \"C1 & C3\", \"Title\": \"C1 & C3\"}, {\"Model_Name\": \"RF\", \"Number_of_Models\": 17, \"Metric_Group\": \"Accuracy&Label_Stability\", \"Alias\": \"C1 & C3\", \"Title\": \"C1 & C3\"}, {\"Model_Name\": \"LR\", \"Number_of_Models\": 16, \"Metric_Group\": \"Accuracy&Label_Stability\", \"Alias\": \"C1 & C3\", \"Title\": \"C1 & C3\"}, {\"Model_Name\": \"MLP\", \"Number_of_Models\": 9, \"Metric_Group\": \"Accuracy&Label_Stability\", \"Alias\": \"C1 & C3\", \"Title\": \"C1 & C3\"}, {\"Model_Name\": \"EGR\", \"Number_of_Models\": 2, \"Metric_Group\": \"Accuracy&Label_Stability\", \"Alias\": \"C1 & C3\", \"Title\": \"C1 & C3\"}, {\"Model_Name\": \"RF\", \"Number_of_Models\": 11, \"Metric_Group\": \"Accuracy&Label_Stability_Ratio\", \"Alias\": \"C1 & C4\", \"Title\": \"C1 & C4\"}, {\"Model_Name\": \"LR\", \"Number_of_Models\": 9, \"Metric_Group\": \"Accuracy&Label_Stability_Ratio\", \"Alias\": \"C1 & C4\", \"Title\": \"C1 & C4\"}, {\"Model_Name\": \"LGBM\", \"Number_of_Models\": 7, \"Metric_Group\": \"Accuracy&Label_Stability_Ratio\", \"Alias\": \"C1 & C4\", \"Title\": \"C1 & C4\"}, {\"Model_Name\": \"MLP\", \"Number_of_Models\": 5, \"Metric_Group\": \"Accuracy&Label_Stability_Ratio\", \"Alias\": \"C1 & C4\", \"Title\": \"C1 & C4\"}, {\"Model_Name\": \"EGR\", \"Number_of_Models\": 2, \"Metric_Group\": \"Accuracy&Label_Stability_Ratio\", \"Alias\": \"C1 & C4\", \"Title\": \"C1 & C4\"}, {\"Model_Name\": \"ADB\", \"Number_of_Models\": 1, \"Metric_Group\": \"Accuracy&Label_Stability_Ratio\", \"Alias\": \"C1 & C4\", \"Title\": \"C1 & C4\"}, {\"Model_Name\": \"RF\", \"Number_of_Models\": 3, \"Metric_Group\": \"Accuracy&Equalized_Odds_FPR&Label_Stability&Label_Stability_Ratio\", \"Alias\": \"C1 & C2 & C3 & C4\", \"Title\": \"C1 & C2 & C3 & C4\"}, {\"Model_Name\": \"EGR\", \"Number_of_Models\": 1, \"Metric_Group\": \"Accuracy&Equalized_Odds_FPR&Label_Stability&Label_Stability_Ratio\", \"Alias\": \"C1 & C2 & C3 & C4\", \"Title\": \"C1 & C2 & C3 & C4\"}, {\"Model_Name\": \"MLP\", \"Number_of_Models\": 1, \"Metric_Group\": \"Accuracy&Equalized_Odds_FPR&Label_Stability&Label_Stability_Ratio\", \"Alias\": \"C1 & C2 & C3 & C4\", \"Title\": \"C1 & C2 & C3 & C4\"}]}}, {\"mode\": \"vega-lite\"});\n</script>",
      "text/plain": "alt.Chart(...)"
     },
     "execution_count": 14,
     "metadata": {},
     "output_type": "execute_result"
    }
   ],
   "source": [
    "metrics_value_range_dct = {\n",
    "    'Accuracy': [0.91, 1.0], # C1\n",
    "    'Equalized_Odds_FPR': [-0.04, 0.04], # C2\n",
    "    'Label_Stability': [0.9, 1.0], # C3\n",
    "    'Label_Stability_Ratio': [0.98, 1.02], # C4\n",
    "    'Accuracy&Equalized_Odds_FPR': None, # C1 + C2\n",
    "    'Accuracy&Label_Stability': None, # C1 + C3\n",
    "    'Accuracy&Label_Stability_Ratio': None, # C1 + C4\n",
    "    'Accuracy&Equalized_Odds_FPR&Label_Stability&Label_Stability_Ratio': None, # C1 + C2 + C3 + C4\n",
    "}\n",
    "create_bar_chart_for_model_selection(all_subgroup_metrics_df,\n",
    "                                     all_group_metrics_df,\n",
    "                                     metrics_value_range_dct,\n",
    "                                     dataset_name='Student_Performance_Por',\n",
    "                                     group='sex',\n",
    "                                     vals_to_replace=vals_to_replace)"
   ],
   "metadata": {
    "collapsed": false,
    "ExecuteTime": {
     "end_time": "2024-01-10T21:24:51.418034Z",
     "start_time": "2024-01-10T21:24:51.282026Z"
    }
   },
   "id": "63885f5bf4757c97"
  },
  {
   "cell_type": "code",
   "execution_count": null,
   "outputs": [],
   "source": [],
   "metadata": {
    "collapsed": false,
    "ExecuteTime": {
     "start_time": "2024-01-10T20:49:02.672603Z"
    }
   },
   "id": "a9ce924b1af33f85"
  }
 ],
 "metadata": {
  "kernelspec": {
   "display_name": "Python 3",
   "language": "python",
   "name": "python3"
  },
  "language_info": {
   "codemirror_mode": {
    "name": "ipython",
    "version": 3
   },
   "file_extension": ".py",
   "mimetype": "text/x-python",
   "name": "python",
   "nbconvert_exporter": "python",
   "pygments_lexer": "ipython3",
   "version": "3.8.5"
  },
  "vscode": {
   "interpreter": {
    "hash": "aeeedfdcfbb7d0bd7e8ae453d9cd04ee7ebd63a67f7841163d9437c8723e8c72"
   }
  }
 },
 "nbformat": 4,
 "nbformat_minor": 5
}
