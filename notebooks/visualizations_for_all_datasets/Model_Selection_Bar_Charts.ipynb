{
 "cells": [
  {
   "cell_type": "code",
   "execution_count": 1,
   "id": "39e91cd0",
   "metadata": {
    "ExecuteTime": {
     "end_time": "2024-01-23T02:32:14.594367Z",
     "start_time": "2024-01-23T02:32:14.129092Z"
    }
   },
   "outputs": [],
   "source": [
    "%matplotlib inline\n",
    "%load_ext autoreload\n",
    "%autoreload 2"
   ]
  },
  {
   "cell_type": "code",
   "execution_count": 2,
   "id": "4efe89f5",
   "metadata": {
    "ExecuteTime": {
     "end_time": "2024-01-23T02:32:14.604120Z",
     "start_time": "2024-01-23T02:32:14.594569Z"
    }
   },
   "outputs": [],
   "source": [
    "import os\n",
    "import warnings\n",
    "warnings.filterwarnings('ignore')\n",
    "os.environ[\"PYTHONWARNINGS\"] = \"ignore\""
   ]
  },
  {
   "cell_type": "code",
   "execution_count": 3,
   "id": "6a451e2e",
   "metadata": {
    "ExecuteTime": {
     "end_time": "2024-01-23T02:32:14.614233Z",
     "start_time": "2024-01-23T02:32:14.604381Z"
    }
   },
   "outputs": [
    {
     "name": "stdout",
     "output_type": "stream",
     "text": [
      "Current location:  /Users/denys_herasymuk/UCU/4course_2term/Bachelor_Thesis/Code/fairness-variance\n"
     ]
    }
   ],
   "source": [
    "cur_folder_name = os.getcwd().split('/')[-1]\n",
    "if cur_folder_name != \"fairness-variance\":\n",
    "    os.chdir(\"../..\")\n",
    "\n",
    "print('Current location: ', os.getcwd())"
   ]
  },
  {
   "cell_type": "markdown",
   "id": "eb58106e",
   "metadata": {},
   "source": [
    "# Model Selection Bar Charts"
   ]
  },
  {
   "cell_type": "code",
   "execution_count": 4,
   "id": "18cb3aa6",
   "metadata": {
    "ExecuteTime": {
     "end_time": "2024-01-23T02:32:19.254884Z",
     "start_time": "2024-01-23T02:32:14.614583Z"
    }
   },
   "outputs": [
    {
     "name": "stderr",
     "output_type": "stream",
     "text": [
      "WARNING:root:No module named 'tempeh': LawSchoolGPADataset will be unavailable. To install, run:\n",
      "pip install 'aif360[LawSchoolGPA]'\n"
     ]
    }
   ],
   "source": [
    "from source.visualizations import create_bar_chart_for_model_selection, create_metrics_bar_chart_per_one_model\n",
    "from source.utils.data_vis_utils import create_metrics_dicts_for_diff_fairness_interventions"
   ]
  },
  {
   "cell_type": "markdown",
   "id": "0184daf8",
   "metadata": {},
   "source": [
    "## Initialize Configs"
   ]
  },
  {
   "cell_type": "code",
   "execution_count": 5,
   "id": "37622cae",
   "metadata": {
    "ExecuteTime": {
     "end_time": "2024-01-23T02:32:19.294299Z",
     "start_time": "2024-01-23T02:32:19.257342Z"
    }
   },
   "outputs": [],
   "source": [
    "DB_COLLECTION_NAME = 'one_repair_lvl_many_models'\n",
    "DATASETS_DB_CONFIG = {\n",
    "    # 'Folktables_GA_2018_Income': {\n",
    "    #     'Baseline': 'ac796b56-9c83-474a-8e7a-2d95ee5efa7e',\n",
    "    #     'LFR': '3855ad0b-4d2e-4baf-a5a8-6e3e92f624ba',\n",
    "    #     'DIR': 'f009c98f-b732-44cf-9084-4bf12c11bdcf',\n",
    "    #     'AdversarialDebiasing': 'bbba3cc4-760b-4e93-bb97-3a2077202cce',\n",
    "    #     'ExponentiatedGradientReduction': '9c5d2ffc-834e-4a7d-abc0-49dd26950c6d',\n",
    "    #     'EqOddsPostprocessing': '3976c1bf-99fa-49f4-97ec-44b13cb64ef4',\n",
    "    #     'ROC': '426f4b41-5b22-4118-b5c8-15a0ab4aa18f',\n",
    "    # },\n",
    "    # 'Folktables_CA_2018_Public_Coverage': {\n",
    "    #     'Baseline': 'c36d3f62-2edd-4df4-97db-a9c3cb5be8ed',\n",
    "    #     'LFR': '3021b0c7-483d-4682-9dc6-bb4a2cf90020',\n",
    "    #     'DIR': 'ac38ec40-c789-4f7e-91be-9ffb55bc3e6f',\n",
    "    #     'AdversarialDebiasing': 'bf843ff8-62e9-4aac-83bc-d805e3299fdc',\n",
    "    #     'ExponentiatedGradientReduction': 'dffb2122-b870-40d5-92b2-f0f6bfb730f0',\n",
    "    #     'EqOddsPostprocessing': 'c1fbe1ae-f5e9-4ca1-8f38-abe1b118f95b',\n",
    "    #     'ROC': 'aa7a7273-bf7c-44f9-becc-3b0384b722c5',\n",
    "    # },\n",
    "    # 'Law_School': {\n",
    "    #     'Baseline': 'b37c9c58-ed69-425c-b3d5-8f1ffd3adcd6',\n",
    "    #     'LFR': 'a1345526-1623-4fc7-b1a4-2a7790c4eef5',\n",
    "    #     'DIR': '336e4621-fef9-4722-a3c1-b2ecca7e7f45',\n",
    "    #     'AdversarialDebiasing': '594152d2-738f-43f3-87ac-e98b98a17b4a',\n",
    "    #     'ExponentiatedGradientReduction': '5a766803-decf-487f-bc23-bade50373a6e',\n",
    "    #     'EqOddsPostprocessing': '567e7e80-5ed4-4a45-8927-2f7b61ba5647',\n",
    "    #     'ROC': 'b1f109f5-3def-4da0-872b-6f0f1a9be953',\n",
    "    # },\n",
    "    'Student_Performance_Por': {\n",
    "        'Baseline': '647daccf-7c14-463c-99ab-ef16972dba80',\n",
    "        'LFR': '638da338-6a90-44a7-a835-17f062b941fb',\n",
    "        'DIR': '647daccf-7c14-463c-99ab-ef16972dba80',\n",
    "        'AdversarialDebiasing': '7bd775d4-0821-4711-8eed-902c990fbc94',\n",
    "        'ExponentiatedGradientReduction': '65f39387-1ed2-4e6d-9670-ae8c552a0f65',\n",
    "        'EqOddsPostprocessing': 'b35e31f2-bb03-494f-a24c-b9264e383667',\n",
    "        'ROC': '0626d80f-e288-4f16-b8ab-260eb34d62d3',\n",
    "    },\n",
    "}\n",
    "DATASET_NAMES = list(DATASETS_DB_CONFIG.keys())\n",
    "DATASETS_SENSITIVE_ATTRS = {\n",
    "    'Folktables_GA_2018_Income': ['SEX', 'RAC1P', 'SEX&RAC1P'],\n",
    "    'Law_School': ['male', 'race', 'male&race'],\n",
    "    'Folktables_CA_2018_Public_Coverage': ['SEX', 'RAC1P', 'SEX&RAC1P'],\n",
    "    'Student_Performance_Por': ['sex'],\n",
    "}"
   ]
  },
  {
   "cell_type": "markdown",
   "id": "49aebdbb",
   "metadata": {},
   "source": [
    "## Group Metrics Composition"
   ]
  },
  {
   "cell_type": "code",
   "execution_count": 6,
   "id": "34efd295",
   "metadata": {
    "ExecuteTime": {
     "end_time": "2024-01-23T02:32:35.953990Z",
     "start_time": "2024-01-23T02:32:19.294842Z"
    }
   },
   "outputs": [
    {
     "name": "stdout",
     "output_type": "stream",
     "text": [
      "Filtered to alpha = 0.0 for baseline\n",
      "Extracted metrics for Student_Performance_Por dataset and Baseline intervention\n",
      "Extracted metrics for Student_Performance_Por dataset and LFR intervention\n",
      "Filtered to alpha = 0.7 for DIR\n",
      "Extracted metrics for Student_Performance_Por dataset and DIR intervention\n",
      "Extracted metrics for Student_Performance_Por dataset and AdversarialDebiasing intervention\n",
      "Extracted metrics for Student_Performance_Por dataset and ExponentiatedGradientReduction intervention\n",
      "Extracted metrics for Student_Performance_Por dataset and EqOddsPostprocessing intervention\n",
      "Extracted metrics for Student_Performance_Por dataset and ROC intervention\n"
     ]
    }
   ],
   "source": [
    "all_subgroup_metrics_df, all_group_metrics_df = (\n",
    "    create_metrics_dicts_for_diff_fairness_interventions(datasets_db_config=DATASETS_DB_CONFIG,\n",
    "                                                         datasets_sensitive_attrs_dct=DATASETS_SENSITIVE_ATTRS,\n",
    "                                                         db_collection_name=DB_COLLECTION_NAME))"
   ]
  },
  {
   "cell_type": "code",
   "execution_count": 7,
   "id": "8f1c2a29",
   "metadata": {
    "ExecuteTime": {
     "end_time": "2024-01-23T02:32:36.009235Z",
     "start_time": "2024-01-23T02:32:35.948860Z"
    }
   },
   "outputs": [
    {
     "data": {
      "text/plain": "                   Metric      Model_Name             Dataset_Name  \\\n0                     Std  LGBMClassifier  Student_Performance_Por   \n1     Overall_Uncertainty  LGBMClassifier  Student_Performance_Por   \n2                     TNR  LGBMClassifier  Student_Performance_Por   \n3                     FNR  LGBMClassifier  Student_Performance_Por   \n4                Accuracy  LGBMClassifier  Student_Performance_Por   \n5         Mean_Prediction  LGBMClassifier  Student_Performance_Por   \n6                  Jitter  LGBMClassifier  Student_Performance_Por   \n7                     TPR  LGBMClassifier  Student_Performance_Por   \n8   Aleatoric_Uncertainty  LGBMClassifier  Student_Performance_Por   \n9                      F1  LGBMClassifier  Student_Performance_Por   \n10          Positive-Rate  LGBMClassifier  Student_Performance_Por   \n11       Statistical_Bias  LGBMClassifier  Student_Performance_Por   \n12                    IQR  LGBMClassifier  Student_Performance_Por   \n13        Label_Stability  LGBMClassifier  Student_Performance_Por   \n14                    PPV  LGBMClassifier  Student_Performance_Por   \n15                    FPR  LGBMClassifier  Student_Performance_Por   \n16         Selection-Rate  LGBMClassifier  Student_Performance_Por   \n17  Epistemic_Uncertainty  LGBMClassifier  Student_Performance_Por   \n18                    IQR  LGBMClassifier  Student_Performance_Por   \n19                    TPR  LGBMClassifier  Student_Performance_Por   \n\n    Num_Estimators Record_Create_Date_Time  \\\n0              200 2023-12-26 23:47:19.513   \n1              200 2023-12-26 23:47:19.513   \n2              200 2023-12-26 23:47:19.513   \n3              200 2023-12-26 23:47:19.513   \n4              200 2023-12-26 23:47:19.513   \n5              200 2023-12-26 23:47:19.513   \n6              200 2023-12-26 23:47:19.513   \n7              200 2023-12-26 23:47:19.513   \n8              200 2023-12-26 23:47:19.513   \n9              200 2023-12-26 23:47:19.513   \n10             200 2023-12-26 23:47:19.513   \n11             200 2023-12-26 23:47:19.513   \n12             200 2023-12-26 23:47:19.513   \n13             200 2023-12-26 23:47:19.513   \n14             200 2023-12-26 23:47:19.513   \n15             200 2023-12-26 23:47:19.513   \n16             200 2023-12-26 23:47:19.513   \n17             200 2023-12-26 23:47:19.513   \n18             200 2023-12-26 23:47:19.513   \n19             200 2023-12-26 23:47:19.513   \n\n                            Session_Uuid Experiment_Iteration  \\\n0   647daccf-7c14-463c-99ab-ef16972dba80           Exp_iter_1   \n1   647daccf-7c14-463c-99ab-ef16972dba80           Exp_iter_1   \n2   647daccf-7c14-463c-99ab-ef16972dba80           Exp_iter_1   \n3   647daccf-7c14-463c-99ab-ef16972dba80           Exp_iter_1   \n4   647daccf-7c14-463c-99ab-ef16972dba80           Exp_iter_1   \n5   647daccf-7c14-463c-99ab-ef16972dba80           Exp_iter_1   \n6   647daccf-7c14-463c-99ab-ef16972dba80           Exp_iter_1   \n7   647daccf-7c14-463c-99ab-ef16972dba80           Exp_iter_1   \n8   647daccf-7c14-463c-99ab-ef16972dba80           Exp_iter_1   \n9   647daccf-7c14-463c-99ab-ef16972dba80           Exp_iter_1   \n10  647daccf-7c14-463c-99ab-ef16972dba80           Exp_iter_1   \n11  647daccf-7c14-463c-99ab-ef16972dba80           Exp_iter_1   \n12  647daccf-7c14-463c-99ab-ef16972dba80           Exp_iter_1   \n13  647daccf-7c14-463c-99ab-ef16972dba80           Exp_iter_1   \n14  647daccf-7c14-463c-99ab-ef16972dba80           Exp_iter_1   \n15  647daccf-7c14-463c-99ab-ef16972dba80           Exp_iter_1   \n16  647daccf-7c14-463c-99ab-ef16972dba80           Exp_iter_1   \n17  647daccf-7c14-463c-99ab-ef16972dba80           Exp_iter_1   \n18  647daccf-7c14-463c-99ab-ef16972dba80           Exp_iter_1   \n19  647daccf-7c14-463c-99ab-ef16972dba80           Exp_iter_1   \n\n    Dataset_Split_Seed Fair_Intervention_Params_Lst Intervention_Param  \\\n0                  100                   [0.0, 0.7]                0.0   \n1                  100                   [0.0, 0.7]                0.0   \n2                  100                   [0.0, 0.7]                0.0   \n3                  100                   [0.0, 0.7]                0.0   \n4                  100                   [0.0, 0.7]                0.0   \n5                  100                   [0.0, 0.7]                0.0   \n6                  100                   [0.0, 0.7]                0.0   \n7                  100                   [0.0, 0.7]                0.0   \n8                  100                   [0.0, 0.7]                0.0   \n9                  100                   [0.0, 0.7]                0.0   \n10                 100                   [0.0, 0.7]                0.0   \n11                 100                   [0.0, 0.7]                0.0   \n12                 100                   [0.0, 0.7]                0.0   \n13                 100                   [0.0, 0.7]                0.0   \n14                 100                   [0.0, 0.7]                0.0   \n15                 100                   [0.0, 0.7]                0.0   \n16                 100                   [0.0, 0.7]                0.0   \n17                 100                   [0.0, 0.7]                0.0   \n18                 100                   [0.0, 0.7]                0.0   \n19                 100                   [0.0, 0.7]                0.0   \n\n            Subgroup  Metric_Value Fairness_Intervention  \n0           sex_priv      0.064487              Baseline  \n1           sex_priv      0.317900              Baseline  \n2           sex_priv      0.533333              Baseline  \n3           sex_priv      0.018519              Baseline  \n4           sex_priv      0.884058              Baseline  \n5           sex_priv      0.177426              Baseline  \n6           sex_priv      0.069824              Baseline  \n7           sex_priv      0.981481              Baseline  \n8           sex_priv      0.274451              Baseline  \n9           sex_priv      0.929825              Baseline  \n10          sex_priv      1.111111              Baseline  \n11          sex_priv      0.144581              Baseline  \n12          sex_priv      0.086061              Baseline  \n13          sex_priv      0.901594              Baseline  \n14          sex_priv      0.883333              Baseline  \n15          sex_priv      0.466667              Baseline  \n16          sex_priv      0.869565              Baseline  \n17          sex_priv      0.043449              Baseline  \n18  sex_priv_correct      0.067948              Baseline  \n19  sex_priv_correct      1.000000              Baseline  ",
      "text/html": "<div>\n<style scoped>\n    .dataframe tbody tr th:only-of-type {\n        vertical-align: middle;\n    }\n\n    .dataframe tbody tr th {\n        vertical-align: top;\n    }\n\n    .dataframe thead th {\n        text-align: right;\n    }\n</style>\n<table border=\"1\" class=\"dataframe\">\n  <thead>\n    <tr style=\"text-align: right;\">\n      <th></th>\n      <th>Metric</th>\n      <th>Model_Name</th>\n      <th>Dataset_Name</th>\n      <th>Num_Estimators</th>\n      <th>Record_Create_Date_Time</th>\n      <th>Session_Uuid</th>\n      <th>Experiment_Iteration</th>\n      <th>Dataset_Split_Seed</th>\n      <th>Fair_Intervention_Params_Lst</th>\n      <th>Intervention_Param</th>\n      <th>Subgroup</th>\n      <th>Metric_Value</th>\n      <th>Fairness_Intervention</th>\n    </tr>\n  </thead>\n  <tbody>\n    <tr>\n      <th>0</th>\n      <td>Std</td>\n      <td>LGBMClassifier</td>\n      <td>Student_Performance_Por</td>\n      <td>200</td>\n      <td>2023-12-26 23:47:19.513</td>\n      <td>647daccf-7c14-463c-99ab-ef16972dba80</td>\n      <td>Exp_iter_1</td>\n      <td>100</td>\n      <td>[0.0, 0.7]</td>\n      <td>0.0</td>\n      <td>sex_priv</td>\n      <td>0.064487</td>\n      <td>Baseline</td>\n    </tr>\n    <tr>\n      <th>1</th>\n      <td>Overall_Uncertainty</td>\n      <td>LGBMClassifier</td>\n      <td>Student_Performance_Por</td>\n      <td>200</td>\n      <td>2023-12-26 23:47:19.513</td>\n      <td>647daccf-7c14-463c-99ab-ef16972dba80</td>\n      <td>Exp_iter_1</td>\n      <td>100</td>\n      <td>[0.0, 0.7]</td>\n      <td>0.0</td>\n      <td>sex_priv</td>\n      <td>0.317900</td>\n      <td>Baseline</td>\n    </tr>\n    <tr>\n      <th>2</th>\n      <td>TNR</td>\n      <td>LGBMClassifier</td>\n      <td>Student_Performance_Por</td>\n      <td>200</td>\n      <td>2023-12-26 23:47:19.513</td>\n      <td>647daccf-7c14-463c-99ab-ef16972dba80</td>\n      <td>Exp_iter_1</td>\n      <td>100</td>\n      <td>[0.0, 0.7]</td>\n      <td>0.0</td>\n      <td>sex_priv</td>\n      <td>0.533333</td>\n      <td>Baseline</td>\n    </tr>\n    <tr>\n      <th>3</th>\n      <td>FNR</td>\n      <td>LGBMClassifier</td>\n      <td>Student_Performance_Por</td>\n      <td>200</td>\n      <td>2023-12-26 23:47:19.513</td>\n      <td>647daccf-7c14-463c-99ab-ef16972dba80</td>\n      <td>Exp_iter_1</td>\n      <td>100</td>\n      <td>[0.0, 0.7]</td>\n      <td>0.0</td>\n      <td>sex_priv</td>\n      <td>0.018519</td>\n      <td>Baseline</td>\n    </tr>\n    <tr>\n      <th>4</th>\n      <td>Accuracy</td>\n      <td>LGBMClassifier</td>\n      <td>Student_Performance_Por</td>\n      <td>200</td>\n      <td>2023-12-26 23:47:19.513</td>\n      <td>647daccf-7c14-463c-99ab-ef16972dba80</td>\n      <td>Exp_iter_1</td>\n      <td>100</td>\n      <td>[0.0, 0.7]</td>\n      <td>0.0</td>\n      <td>sex_priv</td>\n      <td>0.884058</td>\n      <td>Baseline</td>\n    </tr>\n    <tr>\n      <th>5</th>\n      <td>Mean_Prediction</td>\n      <td>LGBMClassifier</td>\n      <td>Student_Performance_Por</td>\n      <td>200</td>\n      <td>2023-12-26 23:47:19.513</td>\n      <td>647daccf-7c14-463c-99ab-ef16972dba80</td>\n      <td>Exp_iter_1</td>\n      <td>100</td>\n      <td>[0.0, 0.7]</td>\n      <td>0.0</td>\n      <td>sex_priv</td>\n      <td>0.177426</td>\n      <td>Baseline</td>\n    </tr>\n    <tr>\n      <th>6</th>\n      <td>Jitter</td>\n      <td>LGBMClassifier</td>\n      <td>Student_Performance_Por</td>\n      <td>200</td>\n      <td>2023-12-26 23:47:19.513</td>\n      <td>647daccf-7c14-463c-99ab-ef16972dba80</td>\n      <td>Exp_iter_1</td>\n      <td>100</td>\n      <td>[0.0, 0.7]</td>\n      <td>0.0</td>\n      <td>sex_priv</td>\n      <td>0.069824</td>\n      <td>Baseline</td>\n    </tr>\n    <tr>\n      <th>7</th>\n      <td>TPR</td>\n      <td>LGBMClassifier</td>\n      <td>Student_Performance_Por</td>\n      <td>200</td>\n      <td>2023-12-26 23:47:19.513</td>\n      <td>647daccf-7c14-463c-99ab-ef16972dba80</td>\n      <td>Exp_iter_1</td>\n      <td>100</td>\n      <td>[0.0, 0.7]</td>\n      <td>0.0</td>\n      <td>sex_priv</td>\n      <td>0.981481</td>\n      <td>Baseline</td>\n    </tr>\n    <tr>\n      <th>8</th>\n      <td>Aleatoric_Uncertainty</td>\n      <td>LGBMClassifier</td>\n      <td>Student_Performance_Por</td>\n      <td>200</td>\n      <td>2023-12-26 23:47:19.513</td>\n      <td>647daccf-7c14-463c-99ab-ef16972dba80</td>\n      <td>Exp_iter_1</td>\n      <td>100</td>\n      <td>[0.0, 0.7]</td>\n      <td>0.0</td>\n      <td>sex_priv</td>\n      <td>0.274451</td>\n      <td>Baseline</td>\n    </tr>\n    <tr>\n      <th>9</th>\n      <td>F1</td>\n      <td>LGBMClassifier</td>\n      <td>Student_Performance_Por</td>\n      <td>200</td>\n      <td>2023-12-26 23:47:19.513</td>\n      <td>647daccf-7c14-463c-99ab-ef16972dba80</td>\n      <td>Exp_iter_1</td>\n      <td>100</td>\n      <td>[0.0, 0.7]</td>\n      <td>0.0</td>\n      <td>sex_priv</td>\n      <td>0.929825</td>\n      <td>Baseline</td>\n    </tr>\n    <tr>\n      <th>10</th>\n      <td>Positive-Rate</td>\n      <td>LGBMClassifier</td>\n      <td>Student_Performance_Por</td>\n      <td>200</td>\n      <td>2023-12-26 23:47:19.513</td>\n      <td>647daccf-7c14-463c-99ab-ef16972dba80</td>\n      <td>Exp_iter_1</td>\n      <td>100</td>\n      <td>[0.0, 0.7]</td>\n      <td>0.0</td>\n      <td>sex_priv</td>\n      <td>1.111111</td>\n      <td>Baseline</td>\n    </tr>\n    <tr>\n      <th>11</th>\n      <td>Statistical_Bias</td>\n      <td>LGBMClassifier</td>\n      <td>Student_Performance_Por</td>\n      <td>200</td>\n      <td>2023-12-26 23:47:19.513</td>\n      <td>647daccf-7c14-463c-99ab-ef16972dba80</td>\n      <td>Exp_iter_1</td>\n      <td>100</td>\n      <td>[0.0, 0.7]</td>\n      <td>0.0</td>\n      <td>sex_priv</td>\n      <td>0.144581</td>\n      <td>Baseline</td>\n    </tr>\n    <tr>\n      <th>12</th>\n      <td>IQR</td>\n      <td>LGBMClassifier</td>\n      <td>Student_Performance_Por</td>\n      <td>200</td>\n      <td>2023-12-26 23:47:19.513</td>\n      <td>647daccf-7c14-463c-99ab-ef16972dba80</td>\n      <td>Exp_iter_1</td>\n      <td>100</td>\n      <td>[0.0, 0.7]</td>\n      <td>0.0</td>\n      <td>sex_priv</td>\n      <td>0.086061</td>\n      <td>Baseline</td>\n    </tr>\n    <tr>\n      <th>13</th>\n      <td>Label_Stability</td>\n      <td>LGBMClassifier</td>\n      <td>Student_Performance_Por</td>\n      <td>200</td>\n      <td>2023-12-26 23:47:19.513</td>\n      <td>647daccf-7c14-463c-99ab-ef16972dba80</td>\n      <td>Exp_iter_1</td>\n      <td>100</td>\n      <td>[0.0, 0.7]</td>\n      <td>0.0</td>\n      <td>sex_priv</td>\n      <td>0.901594</td>\n      <td>Baseline</td>\n    </tr>\n    <tr>\n      <th>14</th>\n      <td>PPV</td>\n      <td>LGBMClassifier</td>\n      <td>Student_Performance_Por</td>\n      <td>200</td>\n      <td>2023-12-26 23:47:19.513</td>\n      <td>647daccf-7c14-463c-99ab-ef16972dba80</td>\n      <td>Exp_iter_1</td>\n      <td>100</td>\n      <td>[0.0, 0.7]</td>\n      <td>0.0</td>\n      <td>sex_priv</td>\n      <td>0.883333</td>\n      <td>Baseline</td>\n    </tr>\n    <tr>\n      <th>15</th>\n      <td>FPR</td>\n      <td>LGBMClassifier</td>\n      <td>Student_Performance_Por</td>\n      <td>200</td>\n      <td>2023-12-26 23:47:19.513</td>\n      <td>647daccf-7c14-463c-99ab-ef16972dba80</td>\n      <td>Exp_iter_1</td>\n      <td>100</td>\n      <td>[0.0, 0.7]</td>\n      <td>0.0</td>\n      <td>sex_priv</td>\n      <td>0.466667</td>\n      <td>Baseline</td>\n    </tr>\n    <tr>\n      <th>16</th>\n      <td>Selection-Rate</td>\n      <td>LGBMClassifier</td>\n      <td>Student_Performance_Por</td>\n      <td>200</td>\n      <td>2023-12-26 23:47:19.513</td>\n      <td>647daccf-7c14-463c-99ab-ef16972dba80</td>\n      <td>Exp_iter_1</td>\n      <td>100</td>\n      <td>[0.0, 0.7]</td>\n      <td>0.0</td>\n      <td>sex_priv</td>\n      <td>0.869565</td>\n      <td>Baseline</td>\n    </tr>\n    <tr>\n      <th>17</th>\n      <td>Epistemic_Uncertainty</td>\n      <td>LGBMClassifier</td>\n      <td>Student_Performance_Por</td>\n      <td>200</td>\n      <td>2023-12-26 23:47:19.513</td>\n      <td>647daccf-7c14-463c-99ab-ef16972dba80</td>\n      <td>Exp_iter_1</td>\n      <td>100</td>\n      <td>[0.0, 0.7]</td>\n      <td>0.0</td>\n      <td>sex_priv</td>\n      <td>0.043449</td>\n      <td>Baseline</td>\n    </tr>\n    <tr>\n      <th>18</th>\n      <td>IQR</td>\n      <td>LGBMClassifier</td>\n      <td>Student_Performance_Por</td>\n      <td>200</td>\n      <td>2023-12-26 23:47:19.513</td>\n      <td>647daccf-7c14-463c-99ab-ef16972dba80</td>\n      <td>Exp_iter_1</td>\n      <td>100</td>\n      <td>[0.0, 0.7]</td>\n      <td>0.0</td>\n      <td>sex_priv_correct</td>\n      <td>0.067948</td>\n      <td>Baseline</td>\n    </tr>\n    <tr>\n      <th>19</th>\n      <td>TPR</td>\n      <td>LGBMClassifier</td>\n      <td>Student_Performance_Por</td>\n      <td>200</td>\n      <td>2023-12-26 23:47:19.513</td>\n      <td>647daccf-7c14-463c-99ab-ef16972dba80</td>\n      <td>Exp_iter_1</td>\n      <td>100</td>\n      <td>[0.0, 0.7]</td>\n      <td>0.0</td>\n      <td>sex_priv_correct</td>\n      <td>1.000000</td>\n      <td>Baseline</td>\n    </tr>\n  </tbody>\n</table>\n</div>"
     },
     "execution_count": 7,
     "metadata": {},
     "output_type": "execute_result"
    }
   ],
   "source": [
    "all_subgroup_metrics_df.head(20)"
   ]
  },
  {
   "cell_type": "code",
   "execution_count": 8,
   "id": "e70c2fe9",
   "metadata": {
    "ExecuteTime": {
     "end_time": "2024-01-23T02:32:36.104618Z",
     "start_time": "2024-01-23T02:32:36.006606Z"
    }
   },
   "outputs": [
    {
     "data": {
      "text/plain": "                           Metric          Model_Name  \\\n0                 Accuracy_Parity      LGBMClassifier   \n1    Aleatoric_Uncertainty_Parity      LGBMClassifier   \n2     Aleatoric_Uncertainty_Ratio      LGBMClassifier   \n3                Disparate_Impact      LGBMClassifier   \n4    Epistemic_Uncertainty_Parity      LGBMClassifier   \n5     Epistemic_Uncertainty_Ratio      LGBMClassifier   \n6              Equalized_Odds_FNR      LGBMClassifier   \n7              Equalized_Odds_FPR      LGBMClassifier   \n8              Equalized_Odds_TNR      LGBMClassifier   \n9              Equalized_Odds_TPR      LGBMClassifier   \n10                     IQR_Parity      LGBMClassifier   \n11                  Jitter_Parity      LGBMClassifier   \n12     Label_Stability_Difference      LGBMClassifier   \n13          Label_Stability_Ratio      LGBMClassifier   \n14     Overall_Uncertainty_Parity      LGBMClassifier   \n15      Overall_Uncertainty_Ratio      LGBMClassifier   \n16  Statistical_Parity_Difference      LGBMClassifier   \n17                     Std_Parity      LGBMClassifier   \n18                      Std_Ratio      LGBMClassifier   \n19                Accuracy_Parity  LogisticRegression   \n\n               Dataset_Name Fairness_Intervention Experiment_Iteration Group  \\\n0   Student_Performance_Por              Baseline           Exp_iter_1   sex   \n1   Student_Performance_Por              Baseline           Exp_iter_1   sex   \n2   Student_Performance_Por              Baseline           Exp_iter_1   sex   \n3   Student_Performance_Por              Baseline           Exp_iter_1   sex   \n4   Student_Performance_Por              Baseline           Exp_iter_1   sex   \n5   Student_Performance_Por              Baseline           Exp_iter_1   sex   \n6   Student_Performance_Por              Baseline           Exp_iter_1   sex   \n7   Student_Performance_Por              Baseline           Exp_iter_1   sex   \n8   Student_Performance_Por              Baseline           Exp_iter_1   sex   \n9   Student_Performance_Por              Baseline           Exp_iter_1   sex   \n10  Student_Performance_Por              Baseline           Exp_iter_1   sex   \n11  Student_Performance_Por              Baseline           Exp_iter_1   sex   \n12  Student_Performance_Por              Baseline           Exp_iter_1   sex   \n13  Student_Performance_Por              Baseline           Exp_iter_1   sex   \n14  Student_Performance_Por              Baseline           Exp_iter_1   sex   \n15  Student_Performance_Por              Baseline           Exp_iter_1   sex   \n16  Student_Performance_Por              Baseline           Exp_iter_1   sex   \n17  Student_Performance_Por              Baseline           Exp_iter_1   sex   \n18  Student_Performance_Por              Baseline           Exp_iter_1   sex   \n19  Student_Performance_Por              Baseline           Exp_iter_1   sex   \n\n    Metric_Value  \n0       0.073389  \n1      -0.072361  \n2       0.736341  \n3       0.856627  \n4      -0.017271  \n5       0.602493  \n6       0.029674  \n7      -0.466667  \n8       0.466667  \n9      -0.029674  \n10     -0.036102  \n11     -0.039842  \n12      0.061597  \n13      1.068320  \n14     -0.089633  \n15      0.718047  \n16     -0.029140  \n17     -0.022393  \n18      0.652756  \n19      0.058896  ",
      "text/html": "<div>\n<style scoped>\n    .dataframe tbody tr th:only-of-type {\n        vertical-align: middle;\n    }\n\n    .dataframe tbody tr th {\n        vertical-align: top;\n    }\n\n    .dataframe thead th {\n        text-align: right;\n    }\n</style>\n<table border=\"1\" class=\"dataframe\">\n  <thead>\n    <tr style=\"text-align: right;\">\n      <th></th>\n      <th>Metric</th>\n      <th>Model_Name</th>\n      <th>Dataset_Name</th>\n      <th>Fairness_Intervention</th>\n      <th>Experiment_Iteration</th>\n      <th>Group</th>\n      <th>Metric_Value</th>\n    </tr>\n  </thead>\n  <tbody>\n    <tr>\n      <th>0</th>\n      <td>Accuracy_Parity</td>\n      <td>LGBMClassifier</td>\n      <td>Student_Performance_Por</td>\n      <td>Baseline</td>\n      <td>Exp_iter_1</td>\n      <td>sex</td>\n      <td>0.073389</td>\n    </tr>\n    <tr>\n      <th>1</th>\n      <td>Aleatoric_Uncertainty_Parity</td>\n      <td>LGBMClassifier</td>\n      <td>Student_Performance_Por</td>\n      <td>Baseline</td>\n      <td>Exp_iter_1</td>\n      <td>sex</td>\n      <td>-0.072361</td>\n    </tr>\n    <tr>\n      <th>2</th>\n      <td>Aleatoric_Uncertainty_Ratio</td>\n      <td>LGBMClassifier</td>\n      <td>Student_Performance_Por</td>\n      <td>Baseline</td>\n      <td>Exp_iter_1</td>\n      <td>sex</td>\n      <td>0.736341</td>\n    </tr>\n    <tr>\n      <th>3</th>\n      <td>Disparate_Impact</td>\n      <td>LGBMClassifier</td>\n      <td>Student_Performance_Por</td>\n      <td>Baseline</td>\n      <td>Exp_iter_1</td>\n      <td>sex</td>\n      <td>0.856627</td>\n    </tr>\n    <tr>\n      <th>4</th>\n      <td>Epistemic_Uncertainty_Parity</td>\n      <td>LGBMClassifier</td>\n      <td>Student_Performance_Por</td>\n      <td>Baseline</td>\n      <td>Exp_iter_1</td>\n      <td>sex</td>\n      <td>-0.017271</td>\n    </tr>\n    <tr>\n      <th>5</th>\n      <td>Epistemic_Uncertainty_Ratio</td>\n      <td>LGBMClassifier</td>\n      <td>Student_Performance_Por</td>\n      <td>Baseline</td>\n      <td>Exp_iter_1</td>\n      <td>sex</td>\n      <td>0.602493</td>\n    </tr>\n    <tr>\n      <th>6</th>\n      <td>Equalized_Odds_FNR</td>\n      <td>LGBMClassifier</td>\n      <td>Student_Performance_Por</td>\n      <td>Baseline</td>\n      <td>Exp_iter_1</td>\n      <td>sex</td>\n      <td>0.029674</td>\n    </tr>\n    <tr>\n      <th>7</th>\n      <td>Equalized_Odds_FPR</td>\n      <td>LGBMClassifier</td>\n      <td>Student_Performance_Por</td>\n      <td>Baseline</td>\n      <td>Exp_iter_1</td>\n      <td>sex</td>\n      <td>-0.466667</td>\n    </tr>\n    <tr>\n      <th>8</th>\n      <td>Equalized_Odds_TNR</td>\n      <td>LGBMClassifier</td>\n      <td>Student_Performance_Por</td>\n      <td>Baseline</td>\n      <td>Exp_iter_1</td>\n      <td>sex</td>\n      <td>0.466667</td>\n    </tr>\n    <tr>\n      <th>9</th>\n      <td>Equalized_Odds_TPR</td>\n      <td>LGBMClassifier</td>\n      <td>Student_Performance_Por</td>\n      <td>Baseline</td>\n      <td>Exp_iter_1</td>\n      <td>sex</td>\n      <td>-0.029674</td>\n    </tr>\n    <tr>\n      <th>10</th>\n      <td>IQR_Parity</td>\n      <td>LGBMClassifier</td>\n      <td>Student_Performance_Por</td>\n      <td>Baseline</td>\n      <td>Exp_iter_1</td>\n      <td>sex</td>\n      <td>-0.036102</td>\n    </tr>\n    <tr>\n      <th>11</th>\n      <td>Jitter_Parity</td>\n      <td>LGBMClassifier</td>\n      <td>Student_Performance_Por</td>\n      <td>Baseline</td>\n      <td>Exp_iter_1</td>\n      <td>sex</td>\n      <td>-0.039842</td>\n    </tr>\n    <tr>\n      <th>12</th>\n      <td>Label_Stability_Difference</td>\n      <td>LGBMClassifier</td>\n      <td>Student_Performance_Por</td>\n      <td>Baseline</td>\n      <td>Exp_iter_1</td>\n      <td>sex</td>\n      <td>0.061597</td>\n    </tr>\n    <tr>\n      <th>13</th>\n      <td>Label_Stability_Ratio</td>\n      <td>LGBMClassifier</td>\n      <td>Student_Performance_Por</td>\n      <td>Baseline</td>\n      <td>Exp_iter_1</td>\n      <td>sex</td>\n      <td>1.068320</td>\n    </tr>\n    <tr>\n      <th>14</th>\n      <td>Overall_Uncertainty_Parity</td>\n      <td>LGBMClassifier</td>\n      <td>Student_Performance_Por</td>\n      <td>Baseline</td>\n      <td>Exp_iter_1</td>\n      <td>sex</td>\n      <td>-0.089633</td>\n    </tr>\n    <tr>\n      <th>15</th>\n      <td>Overall_Uncertainty_Ratio</td>\n      <td>LGBMClassifier</td>\n      <td>Student_Performance_Por</td>\n      <td>Baseline</td>\n      <td>Exp_iter_1</td>\n      <td>sex</td>\n      <td>0.718047</td>\n    </tr>\n    <tr>\n      <th>16</th>\n      <td>Statistical_Parity_Difference</td>\n      <td>LGBMClassifier</td>\n      <td>Student_Performance_Por</td>\n      <td>Baseline</td>\n      <td>Exp_iter_1</td>\n      <td>sex</td>\n      <td>-0.029140</td>\n    </tr>\n    <tr>\n      <th>17</th>\n      <td>Std_Parity</td>\n      <td>LGBMClassifier</td>\n      <td>Student_Performance_Por</td>\n      <td>Baseline</td>\n      <td>Exp_iter_1</td>\n      <td>sex</td>\n      <td>-0.022393</td>\n    </tr>\n    <tr>\n      <th>18</th>\n      <td>Std_Ratio</td>\n      <td>LGBMClassifier</td>\n      <td>Student_Performance_Por</td>\n      <td>Baseline</td>\n      <td>Exp_iter_1</td>\n      <td>sex</td>\n      <td>0.652756</td>\n    </tr>\n    <tr>\n      <th>19</th>\n      <td>Accuracy_Parity</td>\n      <td>LogisticRegression</td>\n      <td>Student_Performance_Por</td>\n      <td>Baseline</td>\n      <td>Exp_iter_1</td>\n      <td>sex</td>\n      <td>0.058896</td>\n    </tr>\n  </tbody>\n</table>\n</div>"
     },
     "execution_count": 8,
     "metadata": {},
     "output_type": "execute_result"
    }
   ],
   "source": [
    "all_group_metrics_df.head(20)"
   ]
  },
  {
   "cell_type": "markdown",
   "id": "31183ef57b1377f3",
   "metadata": {
    "collapsed": false
   },
   "source": [
    "## Bar Charts"
   ]
  },
  {
   "cell_type": "code",
   "execution_count": 9,
   "id": "24563de4d07aa6bc",
   "metadata": {
    "collapsed": false,
    "ExecuteTime": {
     "end_time": "2024-01-23T02:32:36.106172Z",
     "start_time": "2024-01-23T02:32:36.050539Z"
    }
   },
   "outputs": [],
   "source": [
    "vals_to_replace = {\n",
    "    'Model_Name': {\n",
    "        'LGBMClassifier': 'LGBM',\n",
    "        'LogisticRegression': 'LR',\n",
    "        'RandomForestClassifier': 'RF',\n",
    "        'MLPClassifier': 'MLP',\n",
    "        'AdversarialDebiasing': 'ADB',\n",
    "        'ExponentiatedGradientReduction': 'EGR',\n",
    "    }\n",
    "}"
   ]
  },
  {
   "cell_type": "code",
   "execution_count": 10,
   "id": "a8faf412978bf689",
   "metadata": {
    "collapsed": false,
    "ExecuteTime": {
     "end_time": "2024-01-23T02:00:36.967737Z",
     "start_time": "2024-01-23T02:00:36.867534Z"
    }
   },
   "outputs": [
    {
     "data": {
      "text/plain": "Empty DataFrame\nColumns: [Metric, Model_Name, Dataset_Name, Num_Estimators, Record_Create_Date_Time, Session_Uuid, Experiment_Iteration, Dataset_Split_Seed, Fair_Intervention_Params_Lst, Intervention_Param, Subgroup, Metric_Value, Fairness_Intervention]\nIndex: []",
      "text/html": "<div>\n<style scoped>\n    .dataframe tbody tr th:only-of-type {\n        vertical-align: middle;\n    }\n\n    .dataframe tbody tr th {\n        vertical-align: top;\n    }\n\n    .dataframe thead th {\n        text-align: right;\n    }\n</style>\n<table border=\"1\" class=\"dataframe\">\n  <thead>\n    <tr style=\"text-align: right;\">\n      <th></th>\n      <th>Metric</th>\n      <th>Model_Name</th>\n      <th>Dataset_Name</th>\n      <th>Num_Estimators</th>\n      <th>Record_Create_Date_Time</th>\n      <th>Session_Uuid</th>\n      <th>Experiment_Iteration</th>\n      <th>Dataset_Split_Seed</th>\n      <th>Fair_Intervention_Params_Lst</th>\n      <th>Intervention_Param</th>\n      <th>Subgroup</th>\n      <th>Metric_Value</th>\n      <th>Fairness_Intervention</th>\n    </tr>\n  </thead>\n  <tbody>\n  </tbody>\n</table>\n</div>"
     },
     "execution_count": 10,
     "metadata": {},
     "output_type": "execute_result"
    }
   ],
   "source": [
    "all_subgroup_metrics_df[\n",
    "    (all_subgroup_metrics_df['Dataset_Name'] == 'Folktables_GA_2018_Income') &\n",
    "    (all_subgroup_metrics_df['Metric'] == 'Accuracy')  &\n",
    "    (all_subgroup_metrics_df['Subgroup'] == 'overall')\n",
    "].head(20)"
   ]
  },
  {
   "cell_type": "code",
   "execution_count": 11,
   "id": "7027d32a8ffa7978",
   "metadata": {
    "collapsed": false,
    "ExecuteTime": {
     "end_time": "2024-01-23T02:00:36.968383Z",
     "start_time": "2024-01-23T02:00:36.917641Z"
    }
   },
   "outputs": [
    {
     "data": {
      "text/plain": "Empty DataFrame\nColumns: [Metric, Model_Name, Dataset_Name, Fairness_Intervention, Experiment_Iteration, Group, Metric_Value]\nIndex: []",
      "text/html": "<div>\n<style scoped>\n    .dataframe tbody tr th:only-of-type {\n        vertical-align: middle;\n    }\n\n    .dataframe tbody tr th {\n        vertical-align: top;\n    }\n\n    .dataframe thead th {\n        text-align: right;\n    }\n</style>\n<table border=\"1\" class=\"dataframe\">\n  <thead>\n    <tr style=\"text-align: right;\">\n      <th></th>\n      <th>Metric</th>\n      <th>Model_Name</th>\n      <th>Dataset_Name</th>\n      <th>Fairness_Intervention</th>\n      <th>Experiment_Iteration</th>\n      <th>Group</th>\n      <th>Metric_Value</th>\n    </tr>\n  </thead>\n  <tbody>\n  </tbody>\n</table>\n</div>"
     },
     "execution_count": 11,
     "metadata": {},
     "output_type": "execute_result"
    }
   ],
   "source": [
    "all_group_metrics_df[\n",
    "    (all_group_metrics_df['Dataset_Name'] == 'Folktables_GA_2018_Income') &\n",
    "    (all_group_metrics_df['Metric'] == 'Equalized_Odds_FPR')  &\n",
    "    (all_group_metrics_df['Group'] == 'SEX&RAC1P')\n",
    "].head(20)"
   ]
  },
  {
   "cell_type": "markdown",
   "id": "435615d056d10c2f",
   "metadata": {
    "collapsed": false
   },
   "source": [
    "### ACS Income"
   ]
  },
  {
   "cell_type": "code",
   "execution_count": 12,
   "id": "8699b696",
   "metadata": {
    "ExecuteTime": {
     "end_time": "2024-01-23T00:03:43.581148Z",
     "start_time": "2024-01-23T00:03:43.367756Z"
    }
   },
   "outputs": [
    {
     "name": "stdout",
     "output_type": "stream",
     "text": [
      "Models that satisfy all 4 constraints:\n"
     ]
    },
    {
     "data": {
      "text/html": [
       "<div>\n",
       "<style scoped>\n",
       "    .dataframe tbody tr th:only-of-type {\n",
       "        vertical-align: middle;\n",
       "    }\n",
       "\n",
       "    .dataframe tbody tr th {\n",
       "        vertical-align: top;\n",
       "    }\n",
       "\n",
       "    .dataframe thead th {\n",
       "        text-align: right;\n",
       "    }\n",
       "</style>\n",
       "<table border=\"1\" class=\"dataframe\">\n",
       "  <thead>\n",
       "    <tr style=\"text-align: right;\">\n",
       "      <th></th>\n",
       "      <th>Model_Name</th>\n",
       "      <th>Fairness_Intervention</th>\n",
       "      <th>Experiment_Iteration</th>\n",
       "    </tr>\n",
       "  </thead>\n",
       "  <tbody>\n",
       "    <tr>\n",
       "      <th>0</th>\n",
       "      <td>LGBM</td>\n",
       "      <td>DIR</td>\n",
       "      <td>Exp_iter_5</td>\n",
       "    </tr>\n",
       "    <tr>\n",
       "      <th>1</th>\n",
       "      <td>MLP</td>\n",
       "      <td>DIR</td>\n",
       "      <td>Exp_iter_6</td>\n",
       "    </tr>\n",
       "  </tbody>\n",
       "</table>\n",
       "</div>"
      ],
      "text/plain": [
       "  Model_Name Fairness_Intervention Experiment_Iteration\n",
       "0       LGBM                   DIR           Exp_iter_5\n",
       "1        MLP                   DIR           Exp_iter_6"
      ]
     },
     "metadata": {},
     "output_type": "display_data"
    },
    {
     "data": {
      "text/html": [
       "\n",
       "<div id=\"altair-viz-42cf4a0ce6c646b1b2b6a34d3f4d9ab9\"></div>\n",
       "<script type=\"text/javascript\">\n",
       "  var VEGA_DEBUG = (typeof VEGA_DEBUG == \"undefined\") ? {} : VEGA_DEBUG;\n",
       "  (function(spec, embedOpt){\n",
       "    let outputDiv = document.currentScript.previousElementSibling;\n",
       "    if (outputDiv.id !== \"altair-viz-42cf4a0ce6c646b1b2b6a34d3f4d9ab9\") {\n",
       "      outputDiv = document.getElementById(\"altair-viz-42cf4a0ce6c646b1b2b6a34d3f4d9ab9\");\n",
       "    }\n",
       "    const paths = {\n",
       "      \"vega\": \"https://cdn.jsdelivr.net/npm//vega@5?noext\",\n",
       "      \"vega-lib\": \"https://cdn.jsdelivr.net/npm//vega-lib?noext\",\n",
       "      \"vega-lite\": \"https://cdn.jsdelivr.net/npm//vega-lite@4.17.0?noext\",\n",
       "      \"vega-embed\": \"https://cdn.jsdelivr.net/npm//vega-embed@6?noext\",\n",
       "    };\n",
       "\n",
       "    function maybeLoadScript(lib, version) {\n",
       "      var key = `${lib.replace(\"-\", \"\")}_version`;\n",
       "      return (VEGA_DEBUG[key] == version) ?\n",
       "        Promise.resolve(paths[lib]) :\n",
       "        new Promise(function(resolve, reject) {\n",
       "          var s = document.createElement('script');\n",
       "          document.getElementsByTagName(\"head\")[0].appendChild(s);\n",
       "          s.async = true;\n",
       "          s.onload = () => {\n",
       "            VEGA_DEBUG[key] = version;\n",
       "            return resolve(paths[lib]);\n",
       "          };\n",
       "          s.onerror = () => reject(`Error loading script: ${paths[lib]}`);\n",
       "          s.src = paths[lib];\n",
       "        });\n",
       "    }\n",
       "\n",
       "    function showError(err) {\n",
       "      outputDiv.innerHTML = `<div class=\"error\" style=\"color:red;\">${err}</div>`;\n",
       "      throw err;\n",
       "    }\n",
       "\n",
       "    function displayChart(vegaEmbed) {\n",
       "      vegaEmbed(outputDiv, spec, embedOpt)\n",
       "        .catch(err => showError(`Javascript Error: ${err.message}<br>This usually means there's a typo in your chart specification. See the javascript console for the full traceback.`));\n",
       "    }\n",
       "\n",
       "    if(typeof define === \"function\" && define.amd) {\n",
       "      requirejs.config({paths});\n",
       "      require([\"vega-embed\"], displayChart, err => showError(`Error loading script: ${err.message}`));\n",
       "    } else {\n",
       "      maybeLoadScript(\"vega\", \"5\")\n",
       "        .then(() => maybeLoadScript(\"vega-lite\", \"4.17.0\"))\n",
       "        .then(() => maybeLoadScript(\"vega-embed\", \"6\"))\n",
       "        .catch(showError)\n",
       "        .then(() => displayChart(vegaEmbed));\n",
       "    }\n",
       "  })({\"config\": {\"view\": {\"continuousWidth\": 400, \"continuousHeight\": 300}, \"axis\": {\"labelFontSize\": 27, \"labelFontWeight\": \"normal\", \"labelLimit\": 300, \"tickMinStep\": 1, \"titleFontSize\": 29, \"titleFontWeight\": \"normal\"}, \"legend\": {\"columns\": 2, \"labelFontSize\": 25, \"labelLimit\": 300, \"legendX\": 450, \"legendY\": 10, \"orient\": \"none\", \"symbolStrokeWidth\": 4, \"titleFontSize\": 27, \"titleLimit\": 220}, \"title\": {\"fontSize\": 27}}, \"data\": {\"name\": \"data-cb51d71863fd13cd570825b17458f2b7\"}, \"mark\": \"bar\", \"encoding\": {\"color\": {\"field\": \"Model_Name\", \"legend\": {\"title\": \"Model Name\"}, \"type\": \"nominal\"}, \"x\": {\"axis\": {\"labelAngle\": -30}, \"field\": \"Title\", \"sort\": {\"order\": \"ascending\"}, \"title\": \"Metric Group\", \"type\": \"nominal\"}, \"y\": {\"field\": \"Number_of_Models\", \"title\": \"Number of Models\", \"type\": \"quantitative\"}}, \"height\": 450, \"width\": 650, \"$schema\": \"https://vega.github.io/schema/vega-lite/v4.17.0.json\", \"datasets\": {\"data-cb51d71863fd13cd570825b17458f2b7\": [{\"Model_Name\": \"MLP\", \"Number_of_Models\": 17, \"Metric_Group\": \"Accuracy\", \"Alias\": \"C1\", \"Title\": \"C1\"}, {\"Model_Name\": \"RF\", \"Number_of_Models\": 17, \"Metric_Group\": \"Accuracy\", \"Alias\": \"C1\", \"Title\": \"C1\"}, {\"Model_Name\": \"LR\", \"Number_of_Models\": 16, \"Metric_Group\": \"Accuracy\", \"Alias\": \"C1\", \"Title\": \"C1\"}, {\"Model_Name\": \"LGBM\", \"Number_of_Models\": 7, \"Metric_Group\": \"Accuracy\", \"Alias\": \"C1\", \"Title\": \"C1\"}, {\"Model_Name\": \"ADB\", \"Number_of_Models\": 5, \"Metric_Group\": \"Accuracy\", \"Alias\": \"C1\", \"Title\": \"C1\"}, {\"Model_Name\": \"EGR\", \"Number_of_Models\": 4, \"Metric_Group\": \"Accuracy\", \"Alias\": \"C1\", \"Title\": \"C1\"}, {\"Model_Name\": \"LGBM\", \"Number_of_Models\": 16, \"Metric_Group\": \"Equalized_Odds_FPR\", \"Alias\": \"C2\", \"Title\": \"C2\"}, {\"Model_Name\": \"RF\", \"Number_of_Models\": 14, \"Metric_Group\": \"Equalized_Odds_FPR\", \"Alias\": \"C2\", \"Title\": \"C2\"}, {\"Model_Name\": \"LR\", \"Number_of_Models\": 11, \"Metric_Group\": \"Equalized_Odds_FPR\", \"Alias\": \"C2\", \"Title\": \"C2\"}, {\"Model_Name\": \"MLP\", \"Number_of_Models\": 8, \"Metric_Group\": \"Equalized_Odds_FPR\", \"Alias\": \"C2\", \"Title\": \"C2\"}, {\"Model_Name\": \"EGR\", \"Number_of_Models\": 3, \"Metric_Group\": \"Equalized_Odds_FPR\", \"Alias\": \"C2\", \"Title\": \"C2\"}, {\"Model_Name\": \"LR\", \"Number_of_Models\": 12, \"Metric_Group\": \"Label_Stability_Ratio\", \"Alias\": \"C3\", \"Title\": \"C3\"}, {\"Model_Name\": \"RF\", \"Number_of_Models\": 6, \"Metric_Group\": \"Label_Stability_Ratio\", \"Alias\": \"C3\", \"Title\": \"C3\"}, {\"Model_Name\": \"LGBM\", \"Number_of_Models\": 5, \"Metric_Group\": \"Label_Stability_Ratio\", \"Alias\": \"C3\", \"Title\": \"C3\"}, {\"Model_Name\": \"MLP\", \"Number_of_Models\": 5, \"Metric_Group\": \"Label_Stability_Ratio\", \"Alias\": \"C3\", \"Title\": \"C3\"}, {\"Model_Name\": \"EGR\", \"Number_of_Models\": 2, \"Metric_Group\": \"Label_Stability_Ratio\", \"Alias\": \"C3\", \"Title\": \"C3\"}, {\"Model_Name\": \"LR\", \"Number_of_Models\": 6, \"Metric_Group\": \"Std_Parity\", \"Alias\": \"C4\", \"Title\": \"C4\"}, {\"Model_Name\": \"LGBM\", \"Number_of_Models\": 4, \"Metric_Group\": \"Std_Parity\", \"Alias\": \"C4\", \"Title\": \"C4\"}, {\"Model_Name\": \"MLP\", \"Number_of_Models\": 4, \"Metric_Group\": \"Std_Parity\", \"Alias\": \"C4\", \"Title\": \"C4\"}, {\"Model_Name\": \"RF\", \"Number_of_Models\": 3, \"Metric_Group\": \"Std_Parity\", \"Alias\": \"C4\", \"Title\": \"C4\"}, {\"Model_Name\": \"RF\", \"Number_of_Models\": 10, \"Metric_Group\": \"Accuracy&Equalized_Odds_FPR\", \"Alias\": \"C1 & C2\", \"Title\": \"C1 & C2\"}, {\"Model_Name\": \"LGBM\", \"Number_of_Models\": 4, \"Metric_Group\": \"Accuracy&Equalized_Odds_FPR\", \"Alias\": \"C1 & C2\", \"Title\": \"C1 & C2\"}, {\"Model_Name\": \"LR\", \"Number_of_Models\": 4, \"Metric_Group\": \"Accuracy&Equalized_Odds_FPR\", \"Alias\": \"C1 & C2\", \"Title\": \"C1 & C2\"}, {\"Model_Name\": \"MLP\", \"Number_of_Models\": 3, \"Metric_Group\": \"Accuracy&Equalized_Odds_FPR\", \"Alias\": \"C1 & C2\", \"Title\": \"C1 & C2\"}, {\"Model_Name\": \"EGR\", \"Number_of_Models\": 1, \"Metric_Group\": \"Accuracy&Equalized_Odds_FPR\", \"Alias\": \"C1 & C2\", \"Title\": \"C1 & C2\"}, {\"Model_Name\": \"LR\", \"Number_of_Models\": 5, \"Metric_Group\": \"Accuracy&Label_Stability_Ratio\", \"Alias\": \"C1 & C3\", \"Title\": \"C1 & C3\"}, {\"Model_Name\": \"LGBM\", \"Number_of_Models\": 3, \"Metric_Group\": \"Accuracy&Label_Stability_Ratio\", \"Alias\": \"C1 & C3\", \"Title\": \"C1 & C3\"}, {\"Model_Name\": \"MLP\", \"Number_of_Models\": 3, \"Metric_Group\": \"Accuracy&Label_Stability_Ratio\", \"Alias\": \"C1 & C3\", \"Title\": \"C1 & C3\"}, {\"Model_Name\": \"EGR\", \"Number_of_Models\": 2, \"Metric_Group\": \"Accuracy&Label_Stability_Ratio\", \"Alias\": \"C1 & C3\", \"Title\": \"C1 & C3\"}, {\"Model_Name\": \"RF\", \"Number_of_Models\": 1, \"Metric_Group\": \"Accuracy&Label_Stability_Ratio\", \"Alias\": \"C1 & C3\", \"Title\": \"C1 & C3\"}, {\"Model_Name\": \"LGBM\", \"Number_of_Models\": 1, \"Metric_Group\": \"Accuracy&Std_Parity\", \"Alias\": \"C1 & C4\", \"Title\": \"C1 & C4\"}, {\"Model_Name\": \"MLP\", \"Number_of_Models\": 1, \"Metric_Group\": \"Accuracy&Std_Parity\", \"Alias\": \"C1 & C4\", \"Title\": \"C1 & C4\"}, {\"Model_Name\": \"LGBM\", \"Number_of_Models\": 1, \"Metric_Group\": \"Accuracy&Equalized_Odds_FPR&Label_Stability_Ratio&Std_Parity\", \"Alias\": \"C1 & C2 & C3 & C4\", \"Title\": \"C1 & C2 & C3 & C4\"}, {\"Model_Name\": \"MLP\", \"Number_of_Models\": 1, \"Metric_Group\": \"Accuracy&Equalized_Odds_FPR&Label_Stability_Ratio&Std_Parity\", \"Alias\": \"C1 & C2 & C3 & C4\", \"Title\": \"C1 & C2 & C3 & C4\"}]}}, {\"mode\": \"vega-lite\"});\n",
       "</script>"
      ],
      "text/plain": [
       "alt.Chart(...)"
      ]
     },
     "execution_count": 12,
     "metadata": {},
     "output_type": "execute_result"
    }
   ],
   "source": [
    "# WYSIWYG\n",
    "# Metrics for constraints: [C1, C2, C3, C4]\n",
    "metrics = ['Accuracy', 'Equalized_Odds_FPR', 'Label_Stability_Ratio', 'Std_Parity']\n",
    "metrics_value_range_dct = {\n",
    "    metrics[0]: [0.8, 1.0], # C1\n",
    "    metrics[1]: [-0.02, 0.02], # C2\n",
    "    metrics[2]: [0.99, 1.01], # C3\n",
    "    metrics[3]: [-0.001, 0.001], # C4\n",
    "    f'{metrics[0]}&{metrics[1]}': None, # C1 + C2\n",
    "    f'{metrics[0]}&{metrics[2]}': None, # C1 + C3\n",
    "    f'{metrics[0]}&{metrics[3]}': None, # C1 + C4\n",
    "    f'{metrics[0]}&{metrics[1]}&{metrics[2]}&{metrics[3]}': None, # C1 + C2 + C3 + C4\n",
    "}\n",
    "create_bar_chart_for_model_selection(all_subgroup_metrics_df,\n",
    "                                     all_group_metrics_df,\n",
    "                                     metrics_value_range_dct,\n",
    "                                     dataset_name='Folktables_GA_2018_Income',\n",
    "                                     group='SEX&RAC1P',\n",
    "                                     vals_to_replace=vals_to_replace)"
   ]
  },
  {
   "cell_type": "code",
   "execution_count": 13,
   "id": "94a77c9c612a6e56",
   "metadata": {
    "ExecuteTime": {
     "end_time": "2024-01-23T00:03:44.822389Z",
     "start_time": "2024-01-23T00:03:44.641632Z"
    },
    "collapsed": false
   },
   "outputs": [
    {
     "name": "stdout",
     "output_type": "stream",
     "text": [
      "Models that satisfy all 4 constraints:\n"
     ]
    },
    {
     "data": {
      "text/html": [
       "<div>\n",
       "<style scoped>\n",
       "    .dataframe tbody tr th:only-of-type {\n",
       "        vertical-align: middle;\n",
       "    }\n",
       "\n",
       "    .dataframe tbody tr th {\n",
       "        vertical-align: top;\n",
       "    }\n",
       "\n",
       "    .dataframe thead th {\n",
       "        text-align: right;\n",
       "    }\n",
       "</style>\n",
       "<table border=\"1\" class=\"dataframe\">\n",
       "  <thead>\n",
       "    <tr style=\"text-align: right;\">\n",
       "      <th></th>\n",
       "      <th>Model_Name</th>\n",
       "      <th>Fairness_Intervention</th>\n",
       "      <th>Experiment_Iteration</th>\n",
       "    </tr>\n",
       "  </thead>\n",
       "  <tbody>\n",
       "    <tr>\n",
       "      <th>0</th>\n",
       "      <td>LGBM</td>\n",
       "      <td>DIR</td>\n",
       "      <td>Exp_iter_5</td>\n",
       "    </tr>\n",
       "  </tbody>\n",
       "</table>\n",
       "</div>"
      ],
      "text/plain": [
       "  Model_Name Fairness_Intervention Experiment_Iteration\n",
       "0       LGBM                   DIR           Exp_iter_5"
      ]
     },
     "metadata": {},
     "output_type": "display_data"
    },
    {
     "data": {
      "text/html": [
       "\n",
       "<div id=\"altair-viz-9176375563334038ac17cdbec905a340\"></div>\n",
       "<script type=\"text/javascript\">\n",
       "  var VEGA_DEBUG = (typeof VEGA_DEBUG == \"undefined\") ? {} : VEGA_DEBUG;\n",
       "  (function(spec, embedOpt){\n",
       "    let outputDiv = document.currentScript.previousElementSibling;\n",
       "    if (outputDiv.id !== \"altair-viz-9176375563334038ac17cdbec905a340\") {\n",
       "      outputDiv = document.getElementById(\"altair-viz-9176375563334038ac17cdbec905a340\");\n",
       "    }\n",
       "    const paths = {\n",
       "      \"vega\": \"https://cdn.jsdelivr.net/npm//vega@5?noext\",\n",
       "      \"vega-lib\": \"https://cdn.jsdelivr.net/npm//vega-lib?noext\",\n",
       "      \"vega-lite\": \"https://cdn.jsdelivr.net/npm//vega-lite@4.17.0?noext\",\n",
       "      \"vega-embed\": \"https://cdn.jsdelivr.net/npm//vega-embed@6?noext\",\n",
       "    };\n",
       "\n",
       "    function maybeLoadScript(lib, version) {\n",
       "      var key = `${lib.replace(\"-\", \"\")}_version`;\n",
       "      return (VEGA_DEBUG[key] == version) ?\n",
       "        Promise.resolve(paths[lib]) :\n",
       "        new Promise(function(resolve, reject) {\n",
       "          var s = document.createElement('script');\n",
       "          document.getElementsByTagName(\"head\")[0].appendChild(s);\n",
       "          s.async = true;\n",
       "          s.onload = () => {\n",
       "            VEGA_DEBUG[key] = version;\n",
       "            return resolve(paths[lib]);\n",
       "          };\n",
       "          s.onerror = () => reject(`Error loading script: ${paths[lib]}`);\n",
       "          s.src = paths[lib];\n",
       "        });\n",
       "    }\n",
       "\n",
       "    function showError(err) {\n",
       "      outputDiv.innerHTML = `<div class=\"error\" style=\"color:red;\">${err}</div>`;\n",
       "      throw err;\n",
       "    }\n",
       "\n",
       "    function displayChart(vegaEmbed) {\n",
       "      vegaEmbed(outputDiv, spec, embedOpt)\n",
       "        .catch(err => showError(`Javascript Error: ${err.message}<br>This usually means there's a typo in your chart specification. See the javascript console for the full traceback.`));\n",
       "    }\n",
       "\n",
       "    if(typeof define === \"function\" && define.amd) {\n",
       "      requirejs.config({paths});\n",
       "      require([\"vega-embed\"], displayChart, err => showError(`Error loading script: ${err.message}`));\n",
       "    } else {\n",
       "      maybeLoadScript(\"vega\", \"5\")\n",
       "        .then(() => maybeLoadScript(\"vega-lite\", \"4.17.0\"))\n",
       "        .then(() => maybeLoadScript(\"vega-embed\", \"6\"))\n",
       "        .catch(showError)\n",
       "        .then(() => displayChart(vegaEmbed));\n",
       "    }\n",
       "  })({\"config\": {\"view\": {\"continuousWidth\": 400, \"continuousHeight\": 300}, \"axis\": {\"labelFontSize\": 27, \"labelFontWeight\": \"normal\", \"labelLimit\": 300, \"tickMinStep\": 1, \"titleFontSize\": 29, \"titleFontWeight\": \"normal\"}, \"legend\": {\"columns\": 2, \"labelFontSize\": 25, \"labelLimit\": 300, \"legendX\": 450, \"legendY\": 10, \"orient\": \"none\", \"symbolStrokeWidth\": 4, \"titleFontSize\": 27, \"titleLimit\": 220}, \"title\": {\"fontSize\": 27}}, \"data\": {\"name\": \"data-99ddd9ebcd85dfc4fb14a04f16571064\"}, \"mark\": \"bar\", \"encoding\": {\"color\": {\"field\": \"Model_Name\", \"legend\": {\"title\": \"Model Name\"}, \"type\": \"nominal\"}, \"x\": {\"axis\": {\"labelAngle\": -30}, \"field\": \"Title\", \"sort\": {\"order\": \"ascending\"}, \"title\": \"Metric Group\", \"type\": \"nominal\"}, \"y\": {\"field\": \"Number_of_Models\", \"title\": \"Number of Models\", \"type\": \"quantitative\"}}, \"height\": 450, \"width\": 650, \"$schema\": \"https://vega.github.io/schema/vega-lite/v4.17.0.json\", \"datasets\": {\"data-99ddd9ebcd85dfc4fb14a04f16571064\": [{\"Model_Name\": \"MLP\", \"Number_of_Models\": 17, \"Metric_Group\": \"Accuracy\", \"Alias\": \"C1\", \"Title\": \"C1\"}, {\"Model_Name\": \"RF\", \"Number_of_Models\": 17, \"Metric_Group\": \"Accuracy\", \"Alias\": \"C1\", \"Title\": \"C1\"}, {\"Model_Name\": \"LR\", \"Number_of_Models\": 16, \"Metric_Group\": \"Accuracy\", \"Alias\": \"C1\", \"Title\": \"C1\"}, {\"Model_Name\": \"LGBM\", \"Number_of_Models\": 7, \"Metric_Group\": \"Accuracy\", \"Alias\": \"C1\", \"Title\": \"C1\"}, {\"Model_Name\": \"ADB\", \"Number_of_Models\": 5, \"Metric_Group\": \"Accuracy\", \"Alias\": \"C1\", \"Title\": \"C1\"}, {\"Model_Name\": \"EGR\", \"Number_of_Models\": 4, \"Metric_Group\": \"Accuracy\", \"Alias\": \"C1\", \"Title\": \"C1\"}, {\"Model_Name\": \"LGBM\", \"Number_of_Models\": 16, \"Metric_Group\": \"Equalized_Odds_FPR\", \"Alias\": \"C2\", \"Title\": \"C2\"}, {\"Model_Name\": \"RF\", \"Number_of_Models\": 14, \"Metric_Group\": \"Equalized_Odds_FPR\", \"Alias\": \"C2\", \"Title\": \"C2\"}, {\"Model_Name\": \"LR\", \"Number_of_Models\": 11, \"Metric_Group\": \"Equalized_Odds_FPR\", \"Alias\": \"C2\", \"Title\": \"C2\"}, {\"Model_Name\": \"MLP\", \"Number_of_Models\": 8, \"Metric_Group\": \"Equalized_Odds_FPR\", \"Alias\": \"C2\", \"Title\": \"C2\"}, {\"Model_Name\": \"EGR\", \"Number_of_Models\": 3, \"Metric_Group\": \"Equalized_Odds_FPR\", \"Alias\": \"C2\", \"Title\": \"C2\"}, {\"Model_Name\": \"LR\", \"Number_of_Models\": 6, \"Metric_Group\": \"Std_Parity\", \"Alias\": \"C3\", \"Title\": \"C3\"}, {\"Model_Name\": \"LGBM\", \"Number_of_Models\": 4, \"Metric_Group\": \"Std_Parity\", \"Alias\": \"C3\", \"Title\": \"C3\"}, {\"Model_Name\": \"MLP\", \"Number_of_Models\": 4, \"Metric_Group\": \"Std_Parity\", \"Alias\": \"C3\", \"Title\": \"C3\"}, {\"Model_Name\": \"RF\", \"Number_of_Models\": 3, \"Metric_Group\": \"Std_Parity\", \"Alias\": \"C3\", \"Title\": \"C3\"}, {\"Model_Name\": \"EGR\", \"Number_of_Models\": 6, \"Metric_Group\": \"Aleatoric_Uncertainty_Parity\", \"Alias\": \"C4\", \"Title\": \"C4\"}, {\"Model_Name\": \"RF\", \"Number_of_Models\": 6, \"Metric_Group\": \"Aleatoric_Uncertainty_Parity\", \"Alias\": \"C4\", \"Title\": \"C4\"}, {\"Model_Name\": \"LGBM\", \"Number_of_Models\": 4, \"Metric_Group\": \"Aleatoric_Uncertainty_Parity\", \"Alias\": \"C4\", \"Title\": \"C4\"}, {\"Model_Name\": \"LR\", \"Number_of_Models\": 3, \"Metric_Group\": \"Aleatoric_Uncertainty_Parity\", \"Alias\": \"C4\", \"Title\": \"C4\"}, {\"Model_Name\": \"MLP\", \"Number_of_Models\": 3, \"Metric_Group\": \"Aleatoric_Uncertainty_Parity\", \"Alias\": \"C4\", \"Title\": \"C4\"}, {\"Model_Name\": \"ADB\", \"Number_of_Models\": 1, \"Metric_Group\": \"Aleatoric_Uncertainty_Parity\", \"Alias\": \"C4\", \"Title\": \"C4\"}, {\"Model_Name\": \"RF\", \"Number_of_Models\": 10, \"Metric_Group\": \"Accuracy&Equalized_Odds_FPR\", \"Alias\": \"C1 & C2\", \"Title\": \"C1 & C2\"}, {\"Model_Name\": \"LGBM\", \"Number_of_Models\": 4, \"Metric_Group\": \"Accuracy&Equalized_Odds_FPR\", \"Alias\": \"C1 & C2\", \"Title\": \"C1 & C2\"}, {\"Model_Name\": \"LR\", \"Number_of_Models\": 4, \"Metric_Group\": \"Accuracy&Equalized_Odds_FPR\", \"Alias\": \"C1 & C2\", \"Title\": \"C1 & C2\"}, {\"Model_Name\": \"MLP\", \"Number_of_Models\": 3, \"Metric_Group\": \"Accuracy&Equalized_Odds_FPR\", \"Alias\": \"C1 & C2\", \"Title\": \"C1 & C2\"}, {\"Model_Name\": \"EGR\", \"Number_of_Models\": 1, \"Metric_Group\": \"Accuracy&Equalized_Odds_FPR\", \"Alias\": \"C1 & C2\", \"Title\": \"C1 & C2\"}, {\"Model_Name\": \"LGBM\", \"Number_of_Models\": 1, \"Metric_Group\": \"Accuracy&Std_Parity\", \"Alias\": \"C1 & C3\", \"Title\": \"C1 & C3\"}, {\"Model_Name\": \"MLP\", \"Number_of_Models\": 1, \"Metric_Group\": \"Accuracy&Std_Parity\", \"Alias\": \"C1 & C3\", \"Title\": \"C1 & C3\"}, {\"Model_Name\": \"EGR\", \"Number_of_Models\": 4, \"Metric_Group\": \"Accuracy&Aleatoric_Uncertainty_Parity\", \"Alias\": \"C1 & C4\", \"Title\": \"C1 & C4\"}, {\"Model_Name\": \"RF\", \"Number_of_Models\": 2, \"Metric_Group\": \"Accuracy&Aleatoric_Uncertainty_Parity\", \"Alias\": \"C1 & C4\", \"Title\": \"C1 & C4\"}, {\"Model_Name\": \"ADB\", \"Number_of_Models\": 1, \"Metric_Group\": \"Accuracy&Aleatoric_Uncertainty_Parity\", \"Alias\": \"C1 & C4\", \"Title\": \"C1 & C4\"}, {\"Model_Name\": \"LGBM\", \"Number_of_Models\": 1, \"Metric_Group\": \"Accuracy&Aleatoric_Uncertainty_Parity\", \"Alias\": \"C1 & C4\", \"Title\": \"C1 & C4\"}, {\"Model_Name\": \"LGBM\", \"Number_of_Models\": 1, \"Metric_Group\": \"Accuracy&Equalized_Odds_FPR&Std_Parity&Aleatoric_Uncertainty_Parity\", \"Alias\": \"C1 & C2 & C3 & C4\", \"Title\": \"C1 & C2 & C3 & C4\"}]}}, {\"mode\": \"vega-lite\"});\n",
       "</script>"
      ],
      "text/plain": [
       "alt.Chart(...)"
      ]
     },
     "execution_count": 13,
     "metadata": {},
     "output_type": "execute_result"
    }
   ],
   "source": [
    "# WAE\n",
    "# Metrics for constraints: [C1, C2, C3, C4]\n",
    "metrics = ['Accuracy', 'Equalized_Odds_FPR', 'Std_Parity', 'Aleatoric_Uncertainty_Parity']\n",
    "metrics_value_range_dct = {\n",
    "    metrics[0]: [0.8, 1.0], # C1\n",
    "    metrics[1]: [-0.02, 0.02], # C2\n",
    "    metrics[2]: [-0.001, 0.001], # C3\n",
    "    metrics[3]: [-0.02, 0.02], # C4\n",
    "    f'{metrics[0]}&{metrics[1]}': None, # C1 + C2\n",
    "    f'{metrics[0]}&{metrics[2]}': None, # C1 + C3\n",
    "    f'{metrics[0]}&{metrics[3]}': None, # C1 + C4\n",
    "    f'{metrics[0]}&{metrics[1]}&{metrics[2]}&{metrics[3]}': None, # C1 + C2 + C3 + C4\n",
    "}\n",
    "create_bar_chart_for_model_selection(all_subgroup_metrics_df,\n",
    "                                     all_group_metrics_df,\n",
    "                                     metrics_value_range_dct,\n",
    "                                     dataset_name='Folktables_GA_2018_Income',\n",
    "                                     group='SEX&RAC1P',\n",
    "                                     vals_to_replace=vals_to_replace)"
   ]
  },
  {
   "cell_type": "code",
   "execution_count": 13,
   "id": "dd3bdbf0fc75cbd1",
   "metadata": {
    "collapsed": false,
    "ExecuteTime": {
     "end_time": "2024-01-23T02:01:07.726472Z",
     "start_time": "2024-01-23T02:01:07.635598Z"
    }
   },
   "outputs": [],
   "source": [
    "# create_metrics_bar_chart_per_one_model(metrics_df=all_subgroup_metrics_df,\n",
    "#                                        dataset_name='Folktables_GA_2018_Income',\n",
    "#                                        fairness_intervention='DIR',\n",
    "#                                        exp_iter='Exp_iter_5',\n",
    "#                                        model_name='LGBM',\n",
    "#                                        metrics_type='subgroup',\n",
    "#                                        metrics_names=['Accuracy', 'F1', 'Label_Stability', 'Std', 'Aleatoric_Uncertainty'],\n",
    "#                                        vals_to_replace=vals_to_replace)"
   ]
  },
  {
   "cell_type": "code",
   "execution_count": 14,
   "id": "7b308900bca256f0",
   "metadata": {
    "collapsed": false,
    "ExecuteTime": {
     "end_time": "2024-01-23T02:01:10.995794Z",
     "start_time": "2024-01-23T02:01:10.921191Z"
    }
   },
   "outputs": [],
   "source": [
    "# create_metrics_bar_chart_per_one_model(metrics_df=all_group_metrics_df,\n",
    "#                                        dataset_name='Folktables_GA_2018_Income',\n",
    "#                                        fairness_intervention='DIR',\n",
    "#                                        exp_iter='Exp_iter_5',\n",
    "#                                        model_name='LGBM',\n",
    "#                                        metrics_type='group',\n",
    "#                                        metrics_names=['Equalized_Odds_TPR', 'Equalized_Odds_FPR', 'Disparate_Impact',\n",
    "#                                                       'Label_Stability_Difference', 'Std_Parity', 'Aleatoric_Uncertainty_Parity'],\n",
    "#                                        vals_to_replace=vals_to_replace)"
   ]
  },
  {
   "cell_type": "code",
   "execution_count": 15,
   "id": "e2e6fda5",
   "metadata": {
    "ExecuteTime": {
     "end_time": "2024-01-23T02:01:13.806436Z",
     "start_time": "2024-01-23T02:01:13.697688Z"
    }
   },
   "outputs": [],
   "source": [
    "# create_metrics_bar_chart_per_one_model(metrics_df=all_subgroup_metrics_df,\n",
    "#                                        dataset_name='Folktables_GA_2018_Income',\n",
    "#                                        fairness_intervention='DIR',\n",
    "#                                        exp_iter='Exp_iter_6',\n",
    "#                                        model_name='MLP',\n",
    "#                                        metrics_type='subgroup',\n",
    "#                                        metrics_names=['Accuracy', 'F1', 'Label_Stability', 'Std', 'Aleatoric_Uncertainty'],\n",
    "#                                        vals_to_replace=vals_to_replace)"
   ]
  },
  {
   "cell_type": "code",
   "execution_count": 16,
   "id": "adfaadb5",
   "metadata": {
    "ExecuteTime": {
     "end_time": "2024-01-23T02:01:16.622723Z",
     "start_time": "2024-01-23T02:01:16.580969Z"
    }
   },
   "outputs": [],
   "source": [
    "# create_metrics_bar_chart_per_one_model(metrics_df=all_group_metrics_df,\n",
    "#                                        dataset_name='Folktables_GA_2018_Income',\n",
    "#                                        fairness_intervention='DIR',\n",
    "#                                        exp_iter='Exp_iter_6',\n",
    "#                                        model_name='MLP',\n",
    "#                                        metrics_type='group',\n",
    "#                                        metrics_names=['Equalized_Odds_TPR', 'Equalized_Odds_FPR', 'Disparate_Impact',\n",
    "#                                                       'Label_Stability_Difference', 'Std_Parity', 'Aleatoric_Uncertainty_Parity'],\n",
    "#                                        vals_to_replace=vals_to_replace)"
   ]
  },
  {
   "cell_type": "markdown",
   "id": "bf97ac5e3b4f5b0a",
   "metadata": {
    "collapsed": false
   },
   "source": [
    "### ACS Public Coverage"
   ]
  },
  {
   "cell_type": "code",
   "execution_count": 17,
   "id": "6f73aaabadda46c2",
   "metadata": {
    "collapsed": false,
    "ExecuteTime": {
     "end_time": "2024-01-23T02:01:26.637710Z",
     "start_time": "2024-01-23T02:01:26.370290Z"
    }
   },
   "outputs": [
    {
     "name": "stdout",
     "output_type": "stream",
     "text": [
      "Models that satisfy all 4 constraints:\n"
     ]
    },
    {
     "data": {
      "text/plain": "  Model_Name Fairness_Intervention Experiment_Iteration\n0       LGBM                   DIR           Exp_iter_2\n1       LGBM                   DIR           Exp_iter_3\n2         LR              Baseline           Exp_iter_2",
      "text/html": "<div>\n<style scoped>\n    .dataframe tbody tr th:only-of-type {\n        vertical-align: middle;\n    }\n\n    .dataframe tbody tr th {\n        vertical-align: top;\n    }\n\n    .dataframe thead th {\n        text-align: right;\n    }\n</style>\n<table border=\"1\" class=\"dataframe\">\n  <thead>\n    <tr style=\"text-align: right;\">\n      <th></th>\n      <th>Model_Name</th>\n      <th>Fairness_Intervention</th>\n      <th>Experiment_Iteration</th>\n    </tr>\n  </thead>\n  <tbody>\n    <tr>\n      <th>0</th>\n      <td>LGBM</td>\n      <td>DIR</td>\n      <td>Exp_iter_2</td>\n    </tr>\n    <tr>\n      <th>1</th>\n      <td>LGBM</td>\n      <td>DIR</td>\n      <td>Exp_iter_3</td>\n    </tr>\n    <tr>\n      <th>2</th>\n      <td>LR</td>\n      <td>Baseline</td>\n      <td>Exp_iter_2</td>\n    </tr>\n  </tbody>\n</table>\n</div>"
     },
     "metadata": {},
     "output_type": "display_data"
    },
    {
     "data": {
      "text/html": "\n<div id=\"altair-viz-56ceb84a61824af8a18523e2a0bf299d\"></div>\n<script type=\"text/javascript\">\n  var VEGA_DEBUG = (typeof VEGA_DEBUG == \"undefined\") ? {} : VEGA_DEBUG;\n  (function(spec, embedOpt){\n    let outputDiv = document.currentScript.previousElementSibling;\n    if (outputDiv.id !== \"altair-viz-56ceb84a61824af8a18523e2a0bf299d\") {\n      outputDiv = document.getElementById(\"altair-viz-56ceb84a61824af8a18523e2a0bf299d\");\n    }\n    const paths = {\n      \"vega\": \"https://cdn.jsdelivr.net/npm//vega@5?noext\",\n      \"vega-lib\": \"https://cdn.jsdelivr.net/npm//vega-lib?noext\",\n      \"vega-lite\": \"https://cdn.jsdelivr.net/npm//vega-lite@4.17.0?noext\",\n      \"vega-embed\": \"https://cdn.jsdelivr.net/npm//vega-embed@6?noext\",\n    };\n\n    function maybeLoadScript(lib, version) {\n      var key = `${lib.replace(\"-\", \"\")}_version`;\n      return (VEGA_DEBUG[key] == version) ?\n        Promise.resolve(paths[lib]) :\n        new Promise(function(resolve, reject) {\n          var s = document.createElement('script');\n          document.getElementsByTagName(\"head\")[0].appendChild(s);\n          s.async = true;\n          s.onload = () => {\n            VEGA_DEBUG[key] = version;\n            return resolve(paths[lib]);\n          };\n          s.onerror = () => reject(`Error loading script: ${paths[lib]}`);\n          s.src = paths[lib];\n        });\n    }\n\n    function showError(err) {\n      outputDiv.innerHTML = `<div class=\"error\" style=\"color:red;\">${err}</div>`;\n      throw err;\n    }\n\n    function displayChart(vegaEmbed) {\n      vegaEmbed(outputDiv, spec, embedOpt)\n        .catch(err => showError(`Javascript Error: ${err.message}<br>This usually means there's a typo in your chart specification. See the javascript console for the full traceback.`));\n    }\n\n    if(typeof define === \"function\" && define.amd) {\n      requirejs.config({paths});\n      require([\"vega-embed\"], displayChart, err => showError(`Error loading script: ${err.message}`));\n    } else {\n      maybeLoadScript(\"vega\", \"5\")\n        .then(() => maybeLoadScript(\"vega-lite\", \"4.17.0\"))\n        .then(() => maybeLoadScript(\"vega-embed\", \"6\"))\n        .catch(showError)\n        .then(() => displayChart(vegaEmbed));\n    }\n  })({\"config\": {\"view\": {\"continuousWidth\": 400, \"continuousHeight\": 300}, \"axis\": {\"labelFontSize\": 27, \"labelFontWeight\": \"normal\", \"labelLimit\": 300, \"tickMinStep\": 1, \"titleFontSize\": 29, \"titleFontWeight\": \"normal\"}, \"legend\": {\"columns\": 2, \"labelFontSize\": 25, \"labelLimit\": 300, \"legendX\": 450, \"legendY\": 10, \"orient\": \"none\", \"symbolStrokeWidth\": 4, \"titleFontSize\": 27, \"titleLimit\": 220}, \"title\": {\"fontSize\": 27}}, \"data\": {\"name\": \"data-89ff1868a338d9e561b726bd976c0edb\"}, \"mark\": \"bar\", \"encoding\": {\"color\": {\"field\": \"Model_Name\", \"legend\": {\"title\": \"Model Name\"}, \"type\": \"nominal\"}, \"x\": {\"axis\": {\"labelAngle\": -30}, \"field\": \"Title\", \"sort\": {\"order\": \"ascending\"}, \"title\": \"Metric Group\", \"type\": \"nominal\"}, \"y\": {\"field\": \"Number_of_Models\", \"title\": \"Number of Models\", \"type\": \"quantitative\"}}, \"height\": 450, \"width\": 650, \"$schema\": \"https://vega.github.io/schema/vega-lite/v4.17.0.json\", \"datasets\": {\"data-89ff1868a338d9e561b726bd976c0edb\": [{\"Model_Name\": \"LGBM\", \"Number_of_Models\": 18, \"Metric_Group\": \"Accuracy\", \"Alias\": \"C1\", \"Title\": \"C1\"}, {\"Model_Name\": \"MLP\", \"Number_of_Models\": 18, \"Metric_Group\": \"Accuracy\", \"Alias\": \"C1\", \"Title\": \"C1\"}, {\"Model_Name\": \"RF\", \"Number_of_Models\": 13, \"Metric_Group\": \"Accuracy\", \"Alias\": \"C1\", \"Title\": \"C1\"}, {\"Model_Name\": \"ADB\", \"Number_of_Models\": 5, \"Metric_Group\": \"Accuracy\", \"Alias\": \"C1\", \"Title\": \"C1\"}, {\"Model_Name\": \"LR\", \"Number_of_Models\": 4, \"Metric_Group\": \"Accuracy\", \"Alias\": \"C1\", \"Title\": \"C1\"}, {\"Model_Name\": \"EGR\", \"Number_of_Models\": 1, \"Metric_Group\": \"Accuracy\", \"Alias\": \"C1\", \"Title\": \"C1\"}, {\"Model_Name\": \"LGBM\", \"Number_of_Models\": 28, \"Metric_Group\": \"Equalized_Odds_FPR\", \"Alias\": \"C2\", \"Title\": \"C2\"}, {\"Model_Name\": \"RF\", \"Number_of_Models\": 27, \"Metric_Group\": \"Equalized_Odds_FPR\", \"Alias\": \"C2\", \"Title\": \"C2\"}, {\"Model_Name\": \"LR\", \"Number_of_Models\": 26, \"Metric_Group\": \"Equalized_Odds_FPR\", \"Alias\": \"C2\", \"Title\": \"C2\"}, {\"Model_Name\": \"MLP\", \"Number_of_Models\": 26, \"Metric_Group\": \"Equalized_Odds_FPR\", \"Alias\": \"C2\", \"Title\": \"C2\"}, {\"Model_Name\": \"EGR\", \"Number_of_Models\": 6, \"Metric_Group\": \"Equalized_Odds_FPR\", \"Alias\": \"C2\", \"Title\": \"C2\"}, {\"Model_Name\": \"ADB\", \"Number_of_Models\": 5, \"Metric_Group\": \"Equalized_Odds_FPR\", \"Alias\": \"C2\", \"Title\": \"C2\"}, {\"Model_Name\": \"MLP\", \"Number_of_Models\": 29, \"Metric_Group\": \"Label_Stability_Ratio\", \"Alias\": \"C3\", \"Title\": \"C3\"}, {\"Model_Name\": \"LR\", \"Number_of_Models\": 28, \"Metric_Group\": \"Label_Stability_Ratio\", \"Alias\": \"C3\", \"Title\": \"C3\"}, {\"Model_Name\": \"LGBM\", \"Number_of_Models\": 27, \"Metric_Group\": \"Label_Stability_Ratio\", \"Alias\": \"C3\", \"Title\": \"C3\"}, {\"Model_Name\": \"RF\", \"Number_of_Models\": 24, \"Metric_Group\": \"Label_Stability_Ratio\", \"Alias\": \"C3\", \"Title\": \"C3\"}, {\"Model_Name\": \"EGR\", \"Number_of_Models\": 6, \"Metric_Group\": \"Label_Stability_Ratio\", \"Alias\": \"C3\", \"Title\": \"C3\"}, {\"Model_Name\": \"LR\", \"Number_of_Models\": 16, \"Metric_Group\": \"Std_Parity\", \"Alias\": \"C4\", \"Title\": \"C4\"}, {\"Model_Name\": \"LGBM\", \"Number_of_Models\": 3, \"Metric_Group\": \"Std_Parity\", \"Alias\": \"C4\", \"Title\": \"C4\"}, {\"Model_Name\": \"MLP\", \"Number_of_Models\": 2, \"Metric_Group\": \"Std_Parity\", \"Alias\": \"C4\", \"Title\": \"C4\"}, {\"Model_Name\": \"LGBM\", \"Number_of_Models\": 17, \"Metric_Group\": \"Accuracy&Equalized_Odds_FPR\", \"Alias\": \"C1 & C2\", \"Title\": \"C1 & C2\"}, {\"Model_Name\": \"MLP\", \"Number_of_Models\": 17, \"Metric_Group\": \"Accuracy&Equalized_Odds_FPR\", \"Alias\": \"C1 & C2\", \"Title\": \"C1 & C2\"}, {\"Model_Name\": \"RF\", \"Number_of_Models\": 13, \"Metric_Group\": \"Accuracy&Equalized_Odds_FPR\", \"Alias\": \"C1 & C2\", \"Title\": \"C1 & C2\"}, {\"Model_Name\": \"ADB\", \"Number_of_Models\": 4, \"Metric_Group\": \"Accuracy&Equalized_Odds_FPR\", \"Alias\": \"C1 & C2\", \"Title\": \"C1 & C2\"}, {\"Model_Name\": \"LR\", \"Number_of_Models\": 3, \"Metric_Group\": \"Accuracy&Equalized_Odds_FPR\", \"Alias\": \"C1 & C2\", \"Title\": \"C1 & C2\"}, {\"Model_Name\": \"EGR\", \"Number_of_Models\": 1, \"Metric_Group\": \"Accuracy&Equalized_Odds_FPR\", \"Alias\": \"C1 & C2\", \"Title\": \"C1 & C2\"}, {\"Model_Name\": \"LGBM\", \"Number_of_Models\": 18, \"Metric_Group\": \"Accuracy&Label_Stability_Ratio\", \"Alias\": \"C1 & C3\", \"Title\": \"C1 & C3\"}, {\"Model_Name\": \"MLP\", \"Number_of_Models\": 17, \"Metric_Group\": \"Accuracy&Label_Stability_Ratio\", \"Alias\": \"C1 & C3\", \"Title\": \"C1 & C3\"}, {\"Model_Name\": \"RF\", \"Number_of_Models\": 10, \"Metric_Group\": \"Accuracy&Label_Stability_Ratio\", \"Alias\": \"C1 & C3\", \"Title\": \"C1 & C3\"}, {\"Model_Name\": \"LR\", \"Number_of_Models\": 2, \"Metric_Group\": \"Accuracy&Label_Stability_Ratio\", \"Alias\": \"C1 & C3\", \"Title\": \"C1 & C3\"}, {\"Model_Name\": \"EGR\", \"Number_of_Models\": 1, \"Metric_Group\": \"Accuracy&Label_Stability_Ratio\", \"Alias\": \"C1 & C3\", \"Title\": \"C1 & C3\"}, {\"Model_Name\": \"LGBM\", \"Number_of_Models\": 3, \"Metric_Group\": \"Accuracy&Std_Parity\", \"Alias\": \"C1 & C4\", \"Title\": \"C1 & C4\"}, {\"Model_Name\": \"LR\", \"Number_of_Models\": 2, \"Metric_Group\": \"Accuracy&Std_Parity\", \"Alias\": \"C1 & C4\", \"Title\": \"C1 & C4\"}, {\"Model_Name\": \"LGBM\", \"Number_of_Models\": 2, \"Metric_Group\": \"Accuracy&Equalized_Odds_FPR&Label_Stability_Ratio&Std_Parity\", \"Alias\": \"C1 & C2 & C3 & C4\", \"Title\": \"C1 & C2 & C3 & C4\"}, {\"Model_Name\": \"LR\", \"Number_of_Models\": 1, \"Metric_Group\": \"Accuracy&Equalized_Odds_FPR&Label_Stability_Ratio&Std_Parity\", \"Alias\": \"C1 & C2 & C3 & C4\", \"Title\": \"C1 & C2 & C3 & C4\"}]}}, {\"mode\": \"vega-lite\"});\n</script>",
      "text/plain": "alt.Chart(...)"
     },
     "execution_count": 17,
     "metadata": {},
     "output_type": "execute_result"
    }
   ],
   "source": [
    "# WYSIWYG\n",
    "# Metrics for constraints: [C1, C2, C3, C4]\n",
    "metrics = ['Accuracy', 'Equalized_Odds_FPR', 'Label_Stability_Ratio', 'Std_Parity']\n",
    "metrics_value_range_dct = {\n",
    "    metrics[0]: [0.7, 1.0], # C1\n",
    "    metrics[1]: [-0.03, 0.03], # C2\n",
    "    metrics[2]: [0.97, 1.03], # C3\n",
    "    metrics[3]: [-0.001, 0.001], # C4\n",
    "    f'{metrics[0]}&{metrics[1]}': None, # C1 + C2\n",
    "    f'{metrics[0]}&{metrics[2]}': None, # C1 + C3\n",
    "    f'{metrics[0]}&{metrics[3]}': None, # C1 + C4\n",
    "    f'{metrics[0]}&{metrics[1]}&{metrics[2]}&{metrics[3]}': None, # C1 + C2 + C3 + C4\n",
    "}\n",
    "create_bar_chart_for_model_selection(all_subgroup_metrics_df,\n",
    "                                     all_group_metrics_df,\n",
    "                                     metrics_value_range_dct,\n",
    "                                     dataset_name='Folktables_CA_2018_Public_Coverage',\n",
    "                                     group='SEX&RAC1P',\n",
    "                                     vals_to_replace=vals_to_replace)"
   ]
  },
  {
   "cell_type": "code",
   "execution_count": 18,
   "outputs": [
    {
     "name": "stdout",
     "output_type": "stream",
     "text": [
      "Models that satisfy all 4 constraints:\n"
     ]
    },
    {
     "data": {
      "text/plain": "  Model_Name Fairness_Intervention Experiment_Iteration\n0       LGBM                   DIR           Exp_iter_2\n1       LGBM                   DIR           Exp_iter_3",
      "text/html": "<div>\n<style scoped>\n    .dataframe tbody tr th:only-of-type {\n        vertical-align: middle;\n    }\n\n    .dataframe tbody tr th {\n        vertical-align: top;\n    }\n\n    .dataframe thead th {\n        text-align: right;\n    }\n</style>\n<table border=\"1\" class=\"dataframe\">\n  <thead>\n    <tr style=\"text-align: right;\">\n      <th></th>\n      <th>Model_Name</th>\n      <th>Fairness_Intervention</th>\n      <th>Experiment_Iteration</th>\n    </tr>\n  </thead>\n  <tbody>\n    <tr>\n      <th>0</th>\n      <td>LGBM</td>\n      <td>DIR</td>\n      <td>Exp_iter_2</td>\n    </tr>\n    <tr>\n      <th>1</th>\n      <td>LGBM</td>\n      <td>DIR</td>\n      <td>Exp_iter_3</td>\n    </tr>\n  </tbody>\n</table>\n</div>"
     },
     "metadata": {},
     "output_type": "display_data"
    },
    {
     "data": {
      "text/html": "\n<div id=\"altair-viz-6cf35fb2494b46fc99b029e921d560ac\"></div>\n<script type=\"text/javascript\">\n  var VEGA_DEBUG = (typeof VEGA_DEBUG == \"undefined\") ? {} : VEGA_DEBUG;\n  (function(spec, embedOpt){\n    let outputDiv = document.currentScript.previousElementSibling;\n    if (outputDiv.id !== \"altair-viz-6cf35fb2494b46fc99b029e921d560ac\") {\n      outputDiv = document.getElementById(\"altair-viz-6cf35fb2494b46fc99b029e921d560ac\");\n    }\n    const paths = {\n      \"vega\": \"https://cdn.jsdelivr.net/npm//vega@5?noext\",\n      \"vega-lib\": \"https://cdn.jsdelivr.net/npm//vega-lib?noext\",\n      \"vega-lite\": \"https://cdn.jsdelivr.net/npm//vega-lite@4.17.0?noext\",\n      \"vega-embed\": \"https://cdn.jsdelivr.net/npm//vega-embed@6?noext\",\n    };\n\n    function maybeLoadScript(lib, version) {\n      var key = `${lib.replace(\"-\", \"\")}_version`;\n      return (VEGA_DEBUG[key] == version) ?\n        Promise.resolve(paths[lib]) :\n        new Promise(function(resolve, reject) {\n          var s = document.createElement('script');\n          document.getElementsByTagName(\"head\")[0].appendChild(s);\n          s.async = true;\n          s.onload = () => {\n            VEGA_DEBUG[key] = version;\n            return resolve(paths[lib]);\n          };\n          s.onerror = () => reject(`Error loading script: ${paths[lib]}`);\n          s.src = paths[lib];\n        });\n    }\n\n    function showError(err) {\n      outputDiv.innerHTML = `<div class=\"error\" style=\"color:red;\">${err}</div>`;\n      throw err;\n    }\n\n    function displayChart(vegaEmbed) {\n      vegaEmbed(outputDiv, spec, embedOpt)\n        .catch(err => showError(`Javascript Error: ${err.message}<br>This usually means there's a typo in your chart specification. See the javascript console for the full traceback.`));\n    }\n\n    if(typeof define === \"function\" && define.amd) {\n      requirejs.config({paths});\n      require([\"vega-embed\"], displayChart, err => showError(`Error loading script: ${err.message}`));\n    } else {\n      maybeLoadScript(\"vega\", \"5\")\n        .then(() => maybeLoadScript(\"vega-lite\", \"4.17.0\"))\n        .then(() => maybeLoadScript(\"vega-embed\", \"6\"))\n        .catch(showError)\n        .then(() => displayChart(vegaEmbed));\n    }\n  })({\"config\": {\"view\": {\"continuousWidth\": 400, \"continuousHeight\": 300}, \"axis\": {\"labelFontSize\": 27, \"labelFontWeight\": \"normal\", \"labelLimit\": 300, \"tickMinStep\": 1, \"titleFontSize\": 29, \"titleFontWeight\": \"normal\"}, \"legend\": {\"columns\": 2, \"labelFontSize\": 25, \"labelLimit\": 300, \"legendX\": 450, \"legendY\": 10, \"orient\": \"none\", \"symbolStrokeWidth\": 4, \"titleFontSize\": 27, \"titleLimit\": 220}, \"title\": {\"fontSize\": 27}}, \"data\": {\"name\": \"data-2606c248959294c90a50ffec7ae06127\"}, \"mark\": \"bar\", \"encoding\": {\"color\": {\"field\": \"Model_Name\", \"legend\": {\"title\": \"Model Name\"}, \"type\": \"nominal\"}, \"x\": {\"axis\": {\"labelAngle\": -30}, \"field\": \"Title\", \"sort\": {\"order\": \"ascending\"}, \"title\": \"Metric Group\", \"type\": \"nominal\"}, \"y\": {\"field\": \"Number_of_Models\", \"title\": \"Number of Models\", \"type\": \"quantitative\"}}, \"height\": 450, \"width\": 650, \"$schema\": \"https://vega.github.io/schema/vega-lite/v4.17.0.json\", \"datasets\": {\"data-2606c248959294c90a50ffec7ae06127\": [{\"Model_Name\": \"LGBM\", \"Number_of_Models\": 18, \"Metric_Group\": \"Accuracy\", \"Alias\": \"C1\", \"Title\": \"C1\"}, {\"Model_Name\": \"MLP\", \"Number_of_Models\": 18, \"Metric_Group\": \"Accuracy\", \"Alias\": \"C1\", \"Title\": \"C1\"}, {\"Model_Name\": \"RF\", \"Number_of_Models\": 13, \"Metric_Group\": \"Accuracy\", \"Alias\": \"C1\", \"Title\": \"C1\"}, {\"Model_Name\": \"ADB\", \"Number_of_Models\": 5, \"Metric_Group\": \"Accuracy\", \"Alias\": \"C1\", \"Title\": \"C1\"}, {\"Model_Name\": \"LR\", \"Number_of_Models\": 4, \"Metric_Group\": \"Accuracy\", \"Alias\": \"C1\", \"Title\": \"C1\"}, {\"Model_Name\": \"EGR\", \"Number_of_Models\": 1, \"Metric_Group\": \"Accuracy\", \"Alias\": \"C1\", \"Title\": \"C1\"}, {\"Model_Name\": \"LGBM\", \"Number_of_Models\": 28, \"Metric_Group\": \"Equalized_Odds_FPR\", \"Alias\": \"C2\", \"Title\": \"C2\"}, {\"Model_Name\": \"RF\", \"Number_of_Models\": 27, \"Metric_Group\": \"Equalized_Odds_FPR\", \"Alias\": \"C2\", \"Title\": \"C2\"}, {\"Model_Name\": \"LR\", \"Number_of_Models\": 26, \"Metric_Group\": \"Equalized_Odds_FPR\", \"Alias\": \"C2\", \"Title\": \"C2\"}, {\"Model_Name\": \"MLP\", \"Number_of_Models\": 26, \"Metric_Group\": \"Equalized_Odds_FPR\", \"Alias\": \"C2\", \"Title\": \"C2\"}, {\"Model_Name\": \"EGR\", \"Number_of_Models\": 6, \"Metric_Group\": \"Equalized_Odds_FPR\", \"Alias\": \"C2\", \"Title\": \"C2\"}, {\"Model_Name\": \"ADB\", \"Number_of_Models\": 5, \"Metric_Group\": \"Equalized_Odds_FPR\", \"Alias\": \"C2\", \"Title\": \"C2\"}, {\"Model_Name\": \"LR\", \"Number_of_Models\": 16, \"Metric_Group\": \"Std_Parity\", \"Alias\": \"C3\", \"Title\": \"C3\"}, {\"Model_Name\": \"LGBM\", \"Number_of_Models\": 3, \"Metric_Group\": \"Std_Parity\", \"Alias\": \"C3\", \"Title\": \"C3\"}, {\"Model_Name\": \"MLP\", \"Number_of_Models\": 2, \"Metric_Group\": \"Std_Parity\", \"Alias\": \"C3\", \"Title\": \"C3\"}, {\"Model_Name\": \"LR\", \"Number_of_Models\": 7, \"Metric_Group\": \"Aleatoric_Uncertainty_Parity\", \"Alias\": \"C4\", \"Title\": \"C4\"}, {\"Model_Name\": \"EGR\", \"Number_of_Models\": 6, \"Metric_Group\": \"Aleatoric_Uncertainty_Parity\", \"Alias\": \"C4\", \"Title\": \"C4\"}, {\"Model_Name\": \"LGBM\", \"Number_of_Models\": 3, \"Metric_Group\": \"Aleatoric_Uncertainty_Parity\", \"Alias\": \"C4\", \"Title\": \"C4\"}, {\"Model_Name\": \"RF\", \"Number_of_Models\": 3, \"Metric_Group\": \"Aleatoric_Uncertainty_Parity\", \"Alias\": \"C4\", \"Title\": \"C4\"}, {\"Model_Name\": \"MLP\", \"Number_of_Models\": 2, \"Metric_Group\": \"Aleatoric_Uncertainty_Parity\", \"Alias\": \"C4\", \"Title\": \"C4\"}, {\"Model_Name\": \"LGBM\", \"Number_of_Models\": 17, \"Metric_Group\": \"Accuracy&Equalized_Odds_FPR\", \"Alias\": \"C1 & C2\", \"Title\": \"C1 & C2\"}, {\"Model_Name\": \"MLP\", \"Number_of_Models\": 17, \"Metric_Group\": \"Accuracy&Equalized_Odds_FPR\", \"Alias\": \"C1 & C2\", \"Title\": \"C1 & C2\"}, {\"Model_Name\": \"RF\", \"Number_of_Models\": 13, \"Metric_Group\": \"Accuracy&Equalized_Odds_FPR\", \"Alias\": \"C1 & C2\", \"Title\": \"C1 & C2\"}, {\"Model_Name\": \"ADB\", \"Number_of_Models\": 4, \"Metric_Group\": \"Accuracy&Equalized_Odds_FPR\", \"Alias\": \"C1 & C2\", \"Title\": \"C1 & C2\"}, {\"Model_Name\": \"LR\", \"Number_of_Models\": 3, \"Metric_Group\": \"Accuracy&Equalized_Odds_FPR\", \"Alias\": \"C1 & C2\", \"Title\": \"C1 & C2\"}, {\"Model_Name\": \"EGR\", \"Number_of_Models\": 1, \"Metric_Group\": \"Accuracy&Equalized_Odds_FPR\", \"Alias\": \"C1 & C2\", \"Title\": \"C1 & C2\"}, {\"Model_Name\": \"LGBM\", \"Number_of_Models\": 3, \"Metric_Group\": \"Accuracy&Std_Parity\", \"Alias\": \"C1 & C3\", \"Title\": \"C1 & C3\"}, {\"Model_Name\": \"LR\", \"Number_of_Models\": 2, \"Metric_Group\": \"Accuracy&Std_Parity\", \"Alias\": \"C1 & C3\", \"Title\": \"C1 & C3\"}, {\"Model_Name\": \"LGBM\", \"Number_of_Models\": 3, \"Metric_Group\": \"Accuracy&Aleatoric_Uncertainty_Parity\", \"Alias\": \"C1 & C4\", \"Title\": \"C1 & C4\"}, {\"Model_Name\": \"MLP\", \"Number_of_Models\": 2, \"Metric_Group\": \"Accuracy&Aleatoric_Uncertainty_Parity\", \"Alias\": \"C1 & C4\", \"Title\": \"C1 & C4\"}, {\"Model_Name\": \"EGR\", \"Number_of_Models\": 1, \"Metric_Group\": \"Accuracy&Aleatoric_Uncertainty_Parity\", \"Alias\": \"C1 & C4\", \"Title\": \"C1 & C4\"}, {\"Model_Name\": \"RF\", \"Number_of_Models\": 1, \"Metric_Group\": \"Accuracy&Aleatoric_Uncertainty_Parity\", \"Alias\": \"C1 & C4\", \"Title\": \"C1 & C4\"}, {\"Model_Name\": \"LGBM\", \"Number_of_Models\": 2, \"Metric_Group\": \"Accuracy&Equalized_Odds_FPR&Std_Parity&Aleatoric_Uncertainty_Parity\", \"Alias\": \"C1 & C2 & C3 & C4\", \"Title\": \"C1 & C2 & C3 & C4\"}]}}, {\"mode\": \"vega-lite\"});\n</script>",
      "text/plain": "alt.Chart(...)"
     },
     "execution_count": 18,
     "metadata": {},
     "output_type": "execute_result"
    }
   ],
   "source": [
    "# WAE\n",
    "# Metrics for constraints: [C1, C2, C3, C4]\n",
    "metrics = ['Accuracy', 'Equalized_Odds_FPR', 'Std_Parity', 'Aleatoric_Uncertainty_Parity']\n",
    "metrics_value_range_dct = {\n",
    "    metrics[0]: [0.7, 1.0], # C1\n",
    "    metrics[1]: [-0.03, 0.03], # C2\n",
    "    metrics[2]: [-0.001, 0.001], # C3\n",
    "    metrics[3]: [-0.01, 0.01], # C4\n",
    "    f'{metrics[0]}&{metrics[1]}': None, # C1 + C2\n",
    "    f'{metrics[0]}&{metrics[2]}': None, # C1 + C3\n",
    "    f'{metrics[0]}&{metrics[3]}': None, # C1 + C4\n",
    "    f'{metrics[0]}&{metrics[1]}&{metrics[2]}&{metrics[3]}': None, # C1 + C2 + C3 + C4\n",
    "}\n",
    "create_bar_chart_for_model_selection(all_subgroup_metrics_df,\n",
    "                                     all_group_metrics_df,\n",
    "                                     metrics_value_range_dct,\n",
    "                                     dataset_name='Folktables_CA_2018_Public_Coverage',\n",
    "                                     group='SEX&RAC1P',\n",
    "                                     vals_to_replace=vals_to_replace)"
   ],
   "metadata": {
    "collapsed": false,
    "ExecuteTime": {
     "end_time": "2024-01-23T02:01:32.080189Z",
     "start_time": "2024-01-23T02:01:31.925341Z"
    }
   },
   "id": "647c1e320efdd3e5"
  },
  {
   "cell_type": "markdown",
   "id": "35574f251a19838d",
   "metadata": {
    "collapsed": false
   },
   "source": [
    "### Law School"
   ]
  },
  {
   "cell_type": "code",
   "execution_count": 13,
   "id": "276ca925586836f4",
   "metadata": {
    "collapsed": false,
    "ExecuteTime": {
     "end_time": "2024-01-23T02:20:43.909553Z",
     "start_time": "2024-01-23T02:20:43.603722Z"
    }
   },
   "outputs": [
    {
     "name": "stdout",
     "output_type": "stream",
     "text": [
      "Models that satisfy all 4 constraints:\n"
     ]
    },
    {
     "data": {
      "text/plain": "  Model_Name           Fairness_Intervention Experiment_Iteration\n0        EGR  ExponentiatedGradientReduction           Exp_iter_2\n1       LGBM                             LFR           Exp_iter_2",
      "text/html": "<div>\n<style scoped>\n    .dataframe tbody tr th:only-of-type {\n        vertical-align: middle;\n    }\n\n    .dataframe tbody tr th {\n        vertical-align: top;\n    }\n\n    .dataframe thead th {\n        text-align: right;\n    }\n</style>\n<table border=\"1\" class=\"dataframe\">\n  <thead>\n    <tr style=\"text-align: right;\">\n      <th></th>\n      <th>Model_Name</th>\n      <th>Fairness_Intervention</th>\n      <th>Experiment_Iteration</th>\n    </tr>\n  </thead>\n  <tbody>\n    <tr>\n      <th>0</th>\n      <td>EGR</td>\n      <td>ExponentiatedGradientReduction</td>\n      <td>Exp_iter_2</td>\n    </tr>\n    <tr>\n      <th>1</th>\n      <td>LGBM</td>\n      <td>LFR</td>\n      <td>Exp_iter_2</td>\n    </tr>\n  </tbody>\n</table>\n</div>"
     },
     "metadata": {},
     "output_type": "display_data"
    },
    {
     "data": {
      "text/html": "\n<div id=\"altair-viz-43366a785ce7487ab616b5ffd24fe50e\"></div>\n<script type=\"text/javascript\">\n  var VEGA_DEBUG = (typeof VEGA_DEBUG == \"undefined\") ? {} : VEGA_DEBUG;\n  (function(spec, embedOpt){\n    let outputDiv = document.currentScript.previousElementSibling;\n    if (outputDiv.id !== \"altair-viz-43366a785ce7487ab616b5ffd24fe50e\") {\n      outputDiv = document.getElementById(\"altair-viz-43366a785ce7487ab616b5ffd24fe50e\");\n    }\n    const paths = {\n      \"vega\": \"https://cdn.jsdelivr.net/npm//vega@5?noext\",\n      \"vega-lib\": \"https://cdn.jsdelivr.net/npm//vega-lib?noext\",\n      \"vega-lite\": \"https://cdn.jsdelivr.net/npm//vega-lite@4.17.0?noext\",\n      \"vega-embed\": \"https://cdn.jsdelivr.net/npm//vega-embed@6?noext\",\n    };\n\n    function maybeLoadScript(lib, version) {\n      var key = `${lib.replace(\"-\", \"\")}_version`;\n      return (VEGA_DEBUG[key] == version) ?\n        Promise.resolve(paths[lib]) :\n        new Promise(function(resolve, reject) {\n          var s = document.createElement('script');\n          document.getElementsByTagName(\"head\")[0].appendChild(s);\n          s.async = true;\n          s.onload = () => {\n            VEGA_DEBUG[key] = version;\n            return resolve(paths[lib]);\n          };\n          s.onerror = () => reject(`Error loading script: ${paths[lib]}`);\n          s.src = paths[lib];\n        });\n    }\n\n    function showError(err) {\n      outputDiv.innerHTML = `<div class=\"error\" style=\"color:red;\">${err}</div>`;\n      throw err;\n    }\n\n    function displayChart(vegaEmbed) {\n      vegaEmbed(outputDiv, spec, embedOpt)\n        .catch(err => showError(`Javascript Error: ${err.message}<br>This usually means there's a typo in your chart specification. See the javascript console for the full traceback.`));\n    }\n\n    if(typeof define === \"function\" && define.amd) {\n      requirejs.config({paths});\n      require([\"vega-embed\"], displayChart, err => showError(`Error loading script: ${err.message}`));\n    } else {\n      maybeLoadScript(\"vega\", \"5\")\n        .then(() => maybeLoadScript(\"vega-lite\", \"4.17.0\"))\n        .then(() => maybeLoadScript(\"vega-embed\", \"6\"))\n        .catch(showError)\n        .then(() => displayChart(vegaEmbed));\n    }\n  })({\"config\": {\"view\": {\"continuousWidth\": 400, \"continuousHeight\": 300}, \"axis\": {\"labelFontSize\": 27, \"labelFontWeight\": \"normal\", \"labelLimit\": 300, \"tickMinStep\": 1, \"titleFontSize\": 29, \"titleFontWeight\": \"normal\"}, \"legend\": {\"columns\": 2, \"labelFontSize\": 25, \"labelLimit\": 300, \"legendX\": 450, \"legendY\": 10, \"orient\": \"none\", \"symbolStrokeWidth\": 4, \"titleFontSize\": 27, \"titleLimit\": 220}, \"title\": {\"fontSize\": 27}}, \"data\": {\"name\": \"data-74a0f2413e28b5daf2d134eee5df95c9\"}, \"mark\": \"bar\", \"encoding\": {\"color\": {\"field\": \"Model_Name\", \"legend\": {\"title\": \"Model Name\"}, \"type\": \"nominal\"}, \"x\": {\"axis\": {\"labelAngle\": -30}, \"field\": \"Title\", \"sort\": {\"order\": \"ascending\"}, \"title\": \"Metric Group\", \"type\": \"nominal\"}, \"y\": {\"field\": \"Number_of_Models\", \"title\": \"Number of Models\", \"type\": \"quantitative\"}}, \"height\": 450, \"width\": 650, \"$schema\": \"https://vega.github.io/schema/vega-lite/v4.17.0.json\", \"datasets\": {\"data-74a0f2413e28b5daf2d134eee5df95c9\": [{\"Model_Name\": \"LGBM\", \"Number_of_Models\": 11, \"Metric_Group\": \"Accuracy\", \"Alias\": \"C1\", \"Title\": \"C1\"}, {\"Model_Name\": \"MLP\", \"Number_of_Models\": 9, \"Metric_Group\": \"Accuracy\", \"Alias\": \"C1\", \"Title\": \"C1\"}, {\"Model_Name\": \"LR\", \"Number_of_Models\": 8, \"Metric_Group\": \"Accuracy\", \"Alias\": \"C1\", \"Title\": \"C1\"}, {\"Model_Name\": \"RF\", \"Number_of_Models\": 4, \"Metric_Group\": \"Accuracy\", \"Alias\": \"C1\", \"Title\": \"C1\"}, {\"Model_Name\": \"ADB\", \"Number_of_Models\": 3, \"Metric_Group\": \"Accuracy\", \"Alias\": \"C1\", \"Title\": \"C1\"}, {\"Model_Name\": \"EGR\", \"Number_of_Models\": 1, \"Metric_Group\": \"Accuracy\", \"Alias\": \"C1\", \"Title\": \"C1\"}, {\"Model_Name\": \"LGBM\", \"Number_of_Models\": 18, \"Metric_Group\": \"Equalized_Odds_FNR\", \"Alias\": \"C2\", \"Title\": \"C2\"}, {\"Model_Name\": \"LR\", \"Number_of_Models\": 18, \"Metric_Group\": \"Equalized_Odds_FNR\", \"Alias\": \"C2\", \"Title\": \"C2\"}, {\"Model_Name\": \"MLP\", \"Number_of_Models\": 14, \"Metric_Group\": \"Equalized_Odds_FNR\", \"Alias\": \"C2\", \"Title\": \"C2\"}, {\"Model_Name\": \"RF\", \"Number_of_Models\": 11, \"Metric_Group\": \"Equalized_Odds_FNR\", \"Alias\": \"C2\", \"Title\": \"C2\"}, {\"Model_Name\": \"EGR\", \"Number_of_Models\": 6, \"Metric_Group\": \"Equalized_Odds_FNR\", \"Alias\": \"C2\", \"Title\": \"C2\"}, {\"Model_Name\": \"LR\", \"Number_of_Models\": 24, \"Metric_Group\": \"Label_Stability_Ratio\", \"Alias\": \"C3\", \"Title\": \"C3\"}, {\"Model_Name\": \"MLP\", \"Number_of_Models\": 20, \"Metric_Group\": \"Label_Stability_Ratio\", \"Alias\": \"C3\", \"Title\": \"C3\"}, {\"Model_Name\": \"LGBM\", \"Number_of_Models\": 11, \"Metric_Group\": \"Label_Stability_Ratio\", \"Alias\": \"C3\", \"Title\": \"C3\"}, {\"Model_Name\": \"RF\", \"Number_of_Models\": 7, \"Metric_Group\": \"Label_Stability_Ratio\", \"Alias\": \"C3\", \"Title\": \"C3\"}, {\"Model_Name\": \"EGR\", \"Number_of_Models\": 6, \"Metric_Group\": \"Label_Stability_Ratio\", \"Alias\": \"C3\", \"Title\": \"C3\"}, {\"Model_Name\": \"LR\", \"Number_of_Models\": 18, \"Metric_Group\": \"Std_Parity\", \"Alias\": \"C4\", \"Title\": \"C4\"}, {\"Model_Name\": \"MLP\", \"Number_of_Models\": 18, \"Metric_Group\": \"Std_Parity\", \"Alias\": \"C4\", \"Title\": \"C4\"}, {\"Model_Name\": \"EGR\", \"Number_of_Models\": 6, \"Metric_Group\": \"Std_Parity\", \"Alias\": \"C4\", \"Title\": \"C4\"}, {\"Model_Name\": \"LGBM\", \"Number_of_Models\": 5, \"Metric_Group\": \"Std_Parity\", \"Alias\": \"C4\", \"Title\": \"C4\"}, {\"Model_Name\": \"RF\", \"Number_of_Models\": 4, \"Metric_Group\": \"Std_Parity\", \"Alias\": \"C4\", \"Title\": \"C4\"}, {\"Model_Name\": \"LGBM\", \"Number_of_Models\": 2, \"Metric_Group\": \"Accuracy&Equalized_Odds_FNR\", \"Alias\": \"C1 & C2\", \"Title\": \"C1 & C2\"}, {\"Model_Name\": \"EGR\", \"Number_of_Models\": 1, \"Metric_Group\": \"Accuracy&Equalized_Odds_FNR\", \"Alias\": \"C1 & C2\", \"Title\": \"C1 & C2\"}, {\"Model_Name\": \"LR\", \"Number_of_Models\": 1, \"Metric_Group\": \"Accuracy&Equalized_Odds_FNR\", \"Alias\": \"C1 & C2\", \"Title\": \"C1 & C2\"}, {\"Model_Name\": \"MLP\", \"Number_of_Models\": 1, \"Metric_Group\": \"Accuracy&Equalized_Odds_FNR\", \"Alias\": \"C1 & C2\", \"Title\": \"C1 & C2\"}, {\"Model_Name\": \"LR\", \"Number_of_Models\": 8, \"Metric_Group\": \"Accuracy&Label_Stability_Ratio\", \"Alias\": \"C1 & C3\", \"Title\": \"C1 & C3\"}, {\"Model_Name\": \"MLP\", \"Number_of_Models\": 7, \"Metric_Group\": \"Accuracy&Label_Stability_Ratio\", \"Alias\": \"C1 & C3\", \"Title\": \"C1 & C3\"}, {\"Model_Name\": \"LGBM\", \"Number_of_Models\": 2, \"Metric_Group\": \"Accuracy&Label_Stability_Ratio\", \"Alias\": \"C1 & C3\", \"Title\": \"C1 & C3\"}, {\"Model_Name\": \"EGR\", \"Number_of_Models\": 1, \"Metric_Group\": \"Accuracy&Label_Stability_Ratio\", \"Alias\": \"C1 & C3\", \"Title\": \"C1 & C3\"}, {\"Model_Name\": \"MLP\", \"Number_of_Models\": 8, \"Metric_Group\": \"Accuracy&Std_Parity\", \"Alias\": \"C1 & C4\", \"Title\": \"C1 & C4\"}, {\"Model_Name\": \"LR\", \"Number_of_Models\": 7, \"Metric_Group\": \"Accuracy&Std_Parity\", \"Alias\": \"C1 & C4\", \"Title\": \"C1 & C4\"}, {\"Model_Name\": \"EGR\", \"Number_of_Models\": 1, \"Metric_Group\": \"Accuracy&Std_Parity\", \"Alias\": \"C1 & C4\", \"Title\": \"C1 & C4\"}, {\"Model_Name\": \"LGBM\", \"Number_of_Models\": 1, \"Metric_Group\": \"Accuracy&Std_Parity\", \"Alias\": \"C1 & C4\", \"Title\": \"C1 & C4\"}, {\"Model_Name\": \"EGR\", \"Number_of_Models\": 1, \"Metric_Group\": \"Accuracy&Equalized_Odds_FNR&Label_Stability_Ratio&Std_Parity\", \"Alias\": \"C1 & C2 & C3 & C4\", \"Title\": \"C1 & C2 & C3 & C4\"}, {\"Model_Name\": \"LGBM\", \"Number_of_Models\": 1, \"Metric_Group\": \"Accuracy&Equalized_Odds_FNR&Label_Stability_Ratio&Std_Parity\", \"Alias\": \"C1 & C2 & C3 & C4\", \"Title\": \"C1 & C2 & C3 & C4\"}]}}, {\"mode\": \"vega-lite\"});\n</script>",
      "text/plain": "alt.Chart(...)"
     },
     "execution_count": 13,
     "metadata": {},
     "output_type": "execute_result"
    }
   ],
   "source": [
    "# WYSIWYG\n",
    "# Metrics for constraints: [C1, C2, C3, C4]\n",
    "metrics = ['Accuracy', 'Equalized_Odds_FNR', 'Label_Stability_Ratio', 'Std_Parity']\n",
    "metrics_value_range_dct = {\n",
    "    metrics[0]: [0.9, 1.0], # C1\n",
    "    metrics[1]: [-0.02, 0.02], # C2\n",
    "    metrics[2]: [0.94, 1.06], # C3\n",
    "    metrics[3]: [-0.02, 0.02], # C4\n",
    "    f'{metrics[0]}&{metrics[1]}': None, # C1 + C2\n",
    "    f'{metrics[0]}&{metrics[2]}': None, # C1 + C3\n",
    "    f'{metrics[0]}&{metrics[3]}': None, # C1 + C4\n",
    "    f'{metrics[0]}&{metrics[1]}&{metrics[2]}&{metrics[3]}': None, # C1 + C2 + C3 + C4\n",
    "}\n",
    "create_bar_chart_for_model_selection(all_subgroup_metrics_df,\n",
    "                                     all_group_metrics_df,\n",
    "                                     metrics_value_range_dct,\n",
    "                                     dataset_name='Law_School',\n",
    "                                     group='male&race',\n",
    "                                     vals_to_replace=vals_to_replace)"
   ]
  },
  {
   "cell_type": "code",
   "execution_count": 14,
   "id": "427a4275",
   "metadata": {
    "ExecuteTime": {
     "end_time": "2024-01-23T02:23:51.355295Z",
     "start_time": "2024-01-23T02:23:51.115385Z"
    }
   },
   "outputs": [
    {
     "name": "stdout",
     "output_type": "stream",
     "text": [
      "Models that satisfy all 4 constraints:\n"
     ]
    },
    {
     "data": {
      "text/plain": "  Model_Name           Fairness_Intervention Experiment_Iteration\n0        EGR  ExponentiatedGradientReduction           Exp_iter_2",
      "text/html": "<div>\n<style scoped>\n    .dataframe tbody tr th:only-of-type {\n        vertical-align: middle;\n    }\n\n    .dataframe tbody tr th {\n        vertical-align: top;\n    }\n\n    .dataframe thead th {\n        text-align: right;\n    }\n</style>\n<table border=\"1\" class=\"dataframe\">\n  <thead>\n    <tr style=\"text-align: right;\">\n      <th></th>\n      <th>Model_Name</th>\n      <th>Fairness_Intervention</th>\n      <th>Experiment_Iteration</th>\n    </tr>\n  </thead>\n  <tbody>\n    <tr>\n      <th>0</th>\n      <td>EGR</td>\n      <td>ExponentiatedGradientReduction</td>\n      <td>Exp_iter_2</td>\n    </tr>\n  </tbody>\n</table>\n</div>"
     },
     "metadata": {},
     "output_type": "display_data"
    },
    {
     "data": {
      "text/html": "\n<div id=\"altair-viz-8944a5a15ad04d2fa0b45c8f615ea9ef\"></div>\n<script type=\"text/javascript\">\n  var VEGA_DEBUG = (typeof VEGA_DEBUG == \"undefined\") ? {} : VEGA_DEBUG;\n  (function(spec, embedOpt){\n    let outputDiv = document.currentScript.previousElementSibling;\n    if (outputDiv.id !== \"altair-viz-8944a5a15ad04d2fa0b45c8f615ea9ef\") {\n      outputDiv = document.getElementById(\"altair-viz-8944a5a15ad04d2fa0b45c8f615ea9ef\");\n    }\n    const paths = {\n      \"vega\": \"https://cdn.jsdelivr.net/npm//vega@5?noext\",\n      \"vega-lib\": \"https://cdn.jsdelivr.net/npm//vega-lib?noext\",\n      \"vega-lite\": \"https://cdn.jsdelivr.net/npm//vega-lite@4.17.0?noext\",\n      \"vega-embed\": \"https://cdn.jsdelivr.net/npm//vega-embed@6?noext\",\n    };\n\n    function maybeLoadScript(lib, version) {\n      var key = `${lib.replace(\"-\", \"\")}_version`;\n      return (VEGA_DEBUG[key] == version) ?\n        Promise.resolve(paths[lib]) :\n        new Promise(function(resolve, reject) {\n          var s = document.createElement('script');\n          document.getElementsByTagName(\"head\")[0].appendChild(s);\n          s.async = true;\n          s.onload = () => {\n            VEGA_DEBUG[key] = version;\n            return resolve(paths[lib]);\n          };\n          s.onerror = () => reject(`Error loading script: ${paths[lib]}`);\n          s.src = paths[lib];\n        });\n    }\n\n    function showError(err) {\n      outputDiv.innerHTML = `<div class=\"error\" style=\"color:red;\">${err}</div>`;\n      throw err;\n    }\n\n    function displayChart(vegaEmbed) {\n      vegaEmbed(outputDiv, spec, embedOpt)\n        .catch(err => showError(`Javascript Error: ${err.message}<br>This usually means there's a typo in your chart specification. See the javascript console for the full traceback.`));\n    }\n\n    if(typeof define === \"function\" && define.amd) {\n      requirejs.config({paths});\n      require([\"vega-embed\"], displayChart, err => showError(`Error loading script: ${err.message}`));\n    } else {\n      maybeLoadScript(\"vega\", \"5\")\n        .then(() => maybeLoadScript(\"vega-lite\", \"4.17.0\"))\n        .then(() => maybeLoadScript(\"vega-embed\", \"6\"))\n        .catch(showError)\n        .then(() => displayChart(vegaEmbed));\n    }\n  })({\"config\": {\"view\": {\"continuousWidth\": 400, \"continuousHeight\": 300}, \"axis\": {\"labelFontSize\": 27, \"labelFontWeight\": \"normal\", \"labelLimit\": 300, \"tickMinStep\": 1, \"titleFontSize\": 29, \"titleFontWeight\": \"normal\"}, \"legend\": {\"columns\": 2, \"labelFontSize\": 25, \"labelLimit\": 300, \"legendX\": 450, \"legendY\": 10, \"orient\": \"none\", \"symbolStrokeWidth\": 4, \"titleFontSize\": 27, \"titleLimit\": 220}, \"title\": {\"fontSize\": 27}}, \"data\": {\"name\": \"data-eb3f2d04c7a6cb3ad909bbe180305e1a\"}, \"mark\": \"bar\", \"encoding\": {\"color\": {\"field\": \"Model_Name\", \"legend\": {\"title\": \"Model Name\"}, \"type\": \"nominal\"}, \"x\": {\"axis\": {\"labelAngle\": -30}, \"field\": \"Title\", \"sort\": {\"order\": \"ascending\"}, \"title\": \"Metric Group\", \"type\": \"nominal\"}, \"y\": {\"field\": \"Number_of_Models\", \"title\": \"Number of Models\", \"type\": \"quantitative\"}}, \"height\": 450, \"width\": 650, \"$schema\": \"https://vega.github.io/schema/vega-lite/v4.17.0.json\", \"datasets\": {\"data-eb3f2d04c7a6cb3ad909bbe180305e1a\": [{\"Model_Name\": \"LGBM\", \"Number_of_Models\": 11, \"Metric_Group\": \"Accuracy\", \"Alias\": \"C1\", \"Title\": \"C1\"}, {\"Model_Name\": \"MLP\", \"Number_of_Models\": 9, \"Metric_Group\": \"Accuracy\", \"Alias\": \"C1\", \"Title\": \"C1\"}, {\"Model_Name\": \"LR\", \"Number_of_Models\": 8, \"Metric_Group\": \"Accuracy\", \"Alias\": \"C1\", \"Title\": \"C1\"}, {\"Model_Name\": \"RF\", \"Number_of_Models\": 4, \"Metric_Group\": \"Accuracy\", \"Alias\": \"C1\", \"Title\": \"C1\"}, {\"Model_Name\": \"ADB\", \"Number_of_Models\": 3, \"Metric_Group\": \"Accuracy\", \"Alias\": \"C1\", \"Title\": \"C1\"}, {\"Model_Name\": \"EGR\", \"Number_of_Models\": 1, \"Metric_Group\": \"Accuracy\", \"Alias\": \"C1\", \"Title\": \"C1\"}, {\"Model_Name\": \"LGBM\", \"Number_of_Models\": 18, \"Metric_Group\": \"Equalized_Odds_FNR\", \"Alias\": \"C2\", \"Title\": \"C2\"}, {\"Model_Name\": \"LR\", \"Number_of_Models\": 18, \"Metric_Group\": \"Equalized_Odds_FNR\", \"Alias\": \"C2\", \"Title\": \"C2\"}, {\"Model_Name\": \"MLP\", \"Number_of_Models\": 14, \"Metric_Group\": \"Equalized_Odds_FNR\", \"Alias\": \"C2\", \"Title\": \"C2\"}, {\"Model_Name\": \"RF\", \"Number_of_Models\": 11, \"Metric_Group\": \"Equalized_Odds_FNR\", \"Alias\": \"C2\", \"Title\": \"C2\"}, {\"Model_Name\": \"EGR\", \"Number_of_Models\": 6, \"Metric_Group\": \"Equalized_Odds_FNR\", \"Alias\": \"C2\", \"Title\": \"C2\"}, {\"Model_Name\": \"LR\", \"Number_of_Models\": 18, \"Metric_Group\": \"Std_Parity\", \"Alias\": \"C3\", \"Title\": \"C3\"}, {\"Model_Name\": \"MLP\", \"Number_of_Models\": 18, \"Metric_Group\": \"Std_Parity\", \"Alias\": \"C3\", \"Title\": \"C3\"}, {\"Model_Name\": \"EGR\", \"Number_of_Models\": 6, \"Metric_Group\": \"Std_Parity\", \"Alias\": \"C3\", \"Title\": \"C3\"}, {\"Model_Name\": \"LGBM\", \"Number_of_Models\": 5, \"Metric_Group\": \"Std_Parity\", \"Alias\": \"C3\", \"Title\": \"C3\"}, {\"Model_Name\": \"RF\", \"Number_of_Models\": 4, \"Metric_Group\": \"Std_Parity\", \"Alias\": \"C3\", \"Title\": \"C3\"}, {\"Model_Name\": \"EGR\", \"Number_of_Models\": 6, \"Metric_Group\": \"Aleatoric_Uncertainty_Parity\", \"Alias\": \"C4\", \"Title\": \"C4\"}, {\"Model_Name\": \"LR\", \"Number_of_Models\": 3, \"Metric_Group\": \"Aleatoric_Uncertainty_Parity\", \"Alias\": \"C4\", \"Title\": \"C4\"}, {\"Model_Name\": \"MLP\", \"Number_of_Models\": 3, \"Metric_Group\": \"Aleatoric_Uncertainty_Parity\", \"Alias\": \"C4\", \"Title\": \"C4\"}, {\"Model_Name\": \"LGBM\", \"Number_of_Models\": 2, \"Metric_Group\": \"Accuracy&Equalized_Odds_FNR\", \"Alias\": \"C1 & C2\", \"Title\": \"C1 & C2\"}, {\"Model_Name\": \"EGR\", \"Number_of_Models\": 1, \"Metric_Group\": \"Accuracy&Equalized_Odds_FNR\", \"Alias\": \"C1 & C2\", \"Title\": \"C1 & C2\"}, {\"Model_Name\": \"LR\", \"Number_of_Models\": 1, \"Metric_Group\": \"Accuracy&Equalized_Odds_FNR\", \"Alias\": \"C1 & C2\", \"Title\": \"C1 & C2\"}, {\"Model_Name\": \"MLP\", \"Number_of_Models\": 1, \"Metric_Group\": \"Accuracy&Equalized_Odds_FNR\", \"Alias\": \"C1 & C2\", \"Title\": \"C1 & C2\"}, {\"Model_Name\": \"MLP\", \"Number_of_Models\": 8, \"Metric_Group\": \"Accuracy&Std_Parity\", \"Alias\": \"C1 & C3\", \"Title\": \"C1 & C3\"}, {\"Model_Name\": \"LR\", \"Number_of_Models\": 7, \"Metric_Group\": \"Accuracy&Std_Parity\", \"Alias\": \"C1 & C3\", \"Title\": \"C1 & C3\"}, {\"Model_Name\": \"EGR\", \"Number_of_Models\": 1, \"Metric_Group\": \"Accuracy&Std_Parity\", \"Alias\": \"C1 & C3\", \"Title\": \"C1 & C3\"}, {\"Model_Name\": \"LGBM\", \"Number_of_Models\": 1, \"Metric_Group\": \"Accuracy&Std_Parity\", \"Alias\": \"C1 & C3\", \"Title\": \"C1 & C3\"}, {\"Model_Name\": \"EGR\", \"Number_of_Models\": 1, \"Metric_Group\": \"Accuracy&Aleatoric_Uncertainty_Parity\", \"Alias\": \"C1 & C4\", \"Title\": \"C1 & C4\"}, {\"Model_Name\": \"EGR\", \"Number_of_Models\": 1, \"Metric_Group\": \"Accuracy&Equalized_Odds_FNR&Std_Parity&Aleatoric_Uncertainty_Parity\", \"Alias\": \"C1 & C2 & C3 & C4\", \"Title\": \"C1 & C2 & C3 & C4\"}]}}, {\"mode\": \"vega-lite\"});\n</script>",
      "text/plain": "alt.Chart(...)"
     },
     "execution_count": 14,
     "metadata": {},
     "output_type": "execute_result"
    }
   ],
   "source": [
    "# WAE\n",
    "# Metrics for constraints: [C1, C2, C3, C4]\n",
    "metrics = ['Accuracy', 'Equalized_Odds_FNR', 'Std_Parity', 'Aleatoric_Uncertainty_Parity']\n",
    "metrics_value_range_dct = {\n",
    "    metrics[0]: [0.9, 1.0], # C1\n",
    "    metrics[1]: [-0.02, 0.02], # C2\n",
    "    metrics[2]: [-0.02, 0.02], # C3\n",
    "    metrics[3]: [-0.02, 0.02], # C4\n",
    "    f'{metrics[0]}&{metrics[1]}': None, # C1 + C2\n",
    "    f'{metrics[0]}&{metrics[2]}': None, # C1 + C3\n",
    "    f'{metrics[0]}&{metrics[3]}': None, # C1 + C4\n",
    "    f'{metrics[0]}&{metrics[1]}&{metrics[2]}&{metrics[3]}': None, # C1 + C2 + C3 + C4\n",
    "}\n",
    "create_bar_chart_for_model_selection(all_subgroup_metrics_df,\n",
    "                                     all_group_metrics_df,\n",
    "                                     metrics_value_range_dct,\n",
    "                                     dataset_name='Law_School',\n",
    "                                     group='male&race',\n",
    "                                     vals_to_replace=vals_to_replace)"
   ]
  },
  {
   "cell_type": "markdown",
   "id": "77dfe0240b7bb620",
   "metadata": {
    "collapsed": false
   },
   "source": [
    "### Student Performance"
   ]
  },
  {
   "cell_type": "code",
   "execution_count": 21,
   "id": "63885f5bf4757c97",
   "metadata": {
    "collapsed": false,
    "ExecuteTime": {
     "end_time": "2024-01-23T02:38:31.691649Z",
     "start_time": "2024-01-23T02:38:31.474748Z"
    }
   },
   "outputs": [
    {
     "name": "stdout",
     "output_type": "stream",
     "text": [
      "Models that satisfy all 4 constraints:\n"
     ]
    },
    {
     "data": {
      "text/plain": "  Model_Name Fairness_Intervention Experiment_Iteration\n0        MLP                   DIR           Exp_iter_4\n1         RF              Baseline           Exp_iter_5\n2         RF                   DIR           Exp_iter_5",
      "text/html": "<div>\n<style scoped>\n    .dataframe tbody tr th:only-of-type {\n        vertical-align: middle;\n    }\n\n    .dataframe tbody tr th {\n        vertical-align: top;\n    }\n\n    .dataframe thead th {\n        text-align: right;\n    }\n</style>\n<table border=\"1\" class=\"dataframe\">\n  <thead>\n    <tr style=\"text-align: right;\">\n      <th></th>\n      <th>Model_Name</th>\n      <th>Fairness_Intervention</th>\n      <th>Experiment_Iteration</th>\n    </tr>\n  </thead>\n  <tbody>\n    <tr>\n      <th>0</th>\n      <td>MLP</td>\n      <td>DIR</td>\n      <td>Exp_iter_4</td>\n    </tr>\n    <tr>\n      <th>1</th>\n      <td>RF</td>\n      <td>Baseline</td>\n      <td>Exp_iter_5</td>\n    </tr>\n    <tr>\n      <th>2</th>\n      <td>RF</td>\n      <td>DIR</td>\n      <td>Exp_iter_5</td>\n    </tr>\n  </tbody>\n</table>\n</div>"
     },
     "metadata": {},
     "output_type": "display_data"
    },
    {
     "data": {
      "text/html": "\n<div id=\"altair-viz-8d9c934514524550b636535d3396d37e\"></div>\n<script type=\"text/javascript\">\n  var VEGA_DEBUG = (typeof VEGA_DEBUG == \"undefined\") ? {} : VEGA_DEBUG;\n  (function(spec, embedOpt){\n    let outputDiv = document.currentScript.previousElementSibling;\n    if (outputDiv.id !== \"altair-viz-8d9c934514524550b636535d3396d37e\") {\n      outputDiv = document.getElementById(\"altair-viz-8d9c934514524550b636535d3396d37e\");\n    }\n    const paths = {\n      \"vega\": \"https://cdn.jsdelivr.net/npm//vega@5?noext\",\n      \"vega-lib\": \"https://cdn.jsdelivr.net/npm//vega-lib?noext\",\n      \"vega-lite\": \"https://cdn.jsdelivr.net/npm//vega-lite@4.17.0?noext\",\n      \"vega-embed\": \"https://cdn.jsdelivr.net/npm//vega-embed@6?noext\",\n    };\n\n    function maybeLoadScript(lib, version) {\n      var key = `${lib.replace(\"-\", \"\")}_version`;\n      return (VEGA_DEBUG[key] == version) ?\n        Promise.resolve(paths[lib]) :\n        new Promise(function(resolve, reject) {\n          var s = document.createElement('script');\n          document.getElementsByTagName(\"head\")[0].appendChild(s);\n          s.async = true;\n          s.onload = () => {\n            VEGA_DEBUG[key] = version;\n            return resolve(paths[lib]);\n          };\n          s.onerror = () => reject(`Error loading script: ${paths[lib]}`);\n          s.src = paths[lib];\n        });\n    }\n\n    function showError(err) {\n      outputDiv.innerHTML = `<div class=\"error\" style=\"color:red;\">${err}</div>`;\n      throw err;\n    }\n\n    function displayChart(vegaEmbed) {\n      vegaEmbed(outputDiv, spec, embedOpt)\n        .catch(err => showError(`Javascript Error: ${err.message}<br>This usually means there's a typo in your chart specification. See the javascript console for the full traceback.`));\n    }\n\n    if(typeof define === \"function\" && define.amd) {\n      requirejs.config({paths});\n      require([\"vega-embed\"], displayChart, err => showError(`Error loading script: ${err.message}`));\n    } else {\n      maybeLoadScript(\"vega\", \"5\")\n        .then(() => maybeLoadScript(\"vega-lite\", \"4.17.0\"))\n        .then(() => maybeLoadScript(\"vega-embed\", \"6\"))\n        .catch(showError)\n        .then(() => displayChart(vegaEmbed));\n    }\n  })({\"config\": {\"view\": {\"continuousWidth\": 400, \"continuousHeight\": 300}, \"axis\": {\"labelFontSize\": 27, \"labelFontWeight\": \"normal\", \"labelLimit\": 300, \"tickMinStep\": 1, \"titleFontSize\": 29, \"titleFontWeight\": \"normal\"}, \"legend\": {\"columns\": 2, \"labelFontSize\": 25, \"labelLimit\": 300, \"legendX\": 450, \"legendY\": 10, \"orient\": \"none\", \"symbolStrokeWidth\": 4, \"titleFontSize\": 27, \"titleLimit\": 220}, \"title\": {\"fontSize\": 27}}, \"data\": {\"name\": \"data-c45f682d37c8aa47c40a298b76715862\"}, \"mark\": \"bar\", \"encoding\": {\"color\": {\"field\": \"Model_Name\", \"legend\": {\"title\": \"Model Name\"}, \"type\": \"nominal\"}, \"x\": {\"axis\": {\"labelAngle\": -30}, \"field\": \"Title\", \"sort\": {\"order\": \"ascending\"}, \"title\": \"Metric Group\", \"type\": \"nominal\"}, \"y\": {\"field\": \"Number_of_Models\", \"title\": \"Number of Models\", \"type\": \"quantitative\"}}, \"height\": 450, \"width\": 650, \"$schema\": \"https://vega.github.io/schema/vega-lite/v4.17.0.json\", \"datasets\": {\"data-c45f682d37c8aa47c40a298b76715862\": [{\"Model_Name\": \"LR\", \"Number_of_Models\": 17, \"Metric_Group\": \"Accuracy\", \"Alias\": \"C1\", \"Title\": \"C1\"}, {\"Model_Name\": \"LGBM\", \"Number_of_Models\": 13, \"Metric_Group\": \"Accuracy\", \"Alias\": \"C1\", \"Title\": \"C1\"}, {\"Model_Name\": \"RF\", \"Number_of_Models\": 8, \"Metric_Group\": \"Accuracy\", \"Alias\": \"C1\", \"Title\": \"C1\"}, {\"Model_Name\": \"MLP\", \"Number_of_Models\": 5, \"Metric_Group\": \"Accuracy\", \"Alias\": \"C1\", \"Title\": \"C1\"}, {\"Model_Name\": \"ADB\", \"Number_of_Models\": 3, \"Metric_Group\": \"Accuracy\", \"Alias\": \"C1\", \"Title\": \"C1\"}, {\"Model_Name\": \"EGR\", \"Number_of_Models\": 2, \"Metric_Group\": \"Accuracy\", \"Alias\": \"C1\", \"Title\": \"C1\"}, {\"Model_Name\": \"RF\", \"Number_of_Models\": 10, \"Metric_Group\": \"Equalized_Odds_FPR\", \"Alias\": \"C2\", \"Title\": \"C2\"}, {\"Model_Name\": \"LGBM\", \"Number_of_Models\": 8, \"Metric_Group\": \"Equalized_Odds_FPR\", \"Alias\": \"C2\", \"Title\": \"C2\"}, {\"Model_Name\": \"MLP\", \"Number_of_Models\": 7, \"Metric_Group\": \"Equalized_Odds_FPR\", \"Alias\": \"C2\", \"Title\": \"C2\"}, {\"Model_Name\": \"ADB\", \"Number_of_Models\": 3, \"Metric_Group\": \"Equalized_Odds_FPR\", \"Alias\": \"C2\", \"Title\": \"C2\"}, {\"Model_Name\": \"LR\", \"Number_of_Models\": 3, \"Metric_Group\": \"Equalized_Odds_FPR\", \"Alias\": \"C2\", \"Title\": \"C2\"}, {\"Model_Name\": \"EGR\", \"Number_of_Models\": 2, \"Metric_Group\": \"Equalized_Odds_FPR\", \"Alias\": \"C2\", \"Title\": \"C2\"}, {\"Model_Name\": \"RF\", \"Number_of_Models\": 22, \"Metric_Group\": \"Label_Stability_Ratio\", \"Alias\": \"C3\", \"Title\": \"C3\"}, {\"Model_Name\": \"LR\", \"Number_of_Models\": 18, \"Metric_Group\": \"Label_Stability_Ratio\", \"Alias\": \"C3\", \"Title\": \"C3\"}, {\"Model_Name\": \"LGBM\", \"Number_of_Models\": 16, \"Metric_Group\": \"Label_Stability_Ratio\", \"Alias\": \"C3\", \"Title\": \"C3\"}, {\"Model_Name\": \"MLP\", \"Number_of_Models\": 14, \"Metric_Group\": \"Label_Stability_Ratio\", \"Alias\": \"C3\", \"Title\": \"C3\"}, {\"Model_Name\": \"EGR\", \"Number_of_Models\": 2, \"Metric_Group\": \"Label_Stability_Ratio\", \"Alias\": \"C3\", \"Title\": \"C3\"}, {\"Model_Name\": \"ADB\", \"Number_of_Models\": 1, \"Metric_Group\": \"Label_Stability_Ratio\", \"Alias\": \"C3\", \"Title\": \"C3\"}, {\"Model_Name\": \"RF\", \"Number_of_Models\": 12, \"Metric_Group\": \"Std_Parity\", \"Alias\": \"C4\", \"Title\": \"C4\"}, {\"Model_Name\": \"LR\", \"Number_of_Models\": 11, \"Metric_Group\": \"Std_Parity\", \"Alias\": \"C4\", \"Title\": \"C4\"}, {\"Model_Name\": \"MLP\", \"Number_of_Models\": 3, \"Metric_Group\": \"Std_Parity\", \"Alias\": \"C4\", \"Title\": \"C4\"}, {\"Model_Name\": \"LGBM\", \"Number_of_Models\": 2, \"Metric_Group\": \"Std_Parity\", \"Alias\": \"C4\", \"Title\": \"C4\"}, {\"Model_Name\": \"RF\", \"Number_of_Models\": 3, \"Metric_Group\": \"Accuracy&Equalized_Odds_FPR\", \"Alias\": \"C1 & C2\", \"Title\": \"C1 & C2\"}, {\"Model_Name\": \"ADB\", \"Number_of_Models\": 2, \"Metric_Group\": \"Accuracy&Equalized_Odds_FPR\", \"Alias\": \"C1 & C2\", \"Title\": \"C1 & C2\"}, {\"Model_Name\": \"LGBM\", \"Number_of_Models\": 2, \"Metric_Group\": \"Accuracy&Equalized_Odds_FPR\", \"Alias\": \"C1 & C2\", \"Title\": \"C1 & C2\"}, {\"Model_Name\": \"LR\", \"Number_of_Models\": 1, \"Metric_Group\": \"Accuracy&Equalized_Odds_FPR\", \"Alias\": \"C1 & C2\", \"Title\": \"C1 & C2\"}, {\"Model_Name\": \"MLP\", \"Number_of_Models\": 1, \"Metric_Group\": \"Accuracy&Equalized_Odds_FPR\", \"Alias\": \"C1 & C2\", \"Title\": \"C1 & C2\"}, {\"Model_Name\": \"LR\", \"Number_of_Models\": 8, \"Metric_Group\": \"Accuracy&Label_Stability_Ratio\", \"Alias\": \"C1 & C3\", \"Title\": \"C1 & C3\"}, {\"Model_Name\": \"LGBM\", \"Number_of_Models\": 6, \"Metric_Group\": \"Accuracy&Label_Stability_Ratio\", \"Alias\": \"C1 & C3\", \"Title\": \"C1 & C3\"}, {\"Model_Name\": \"RF\", \"Number_of_Models\": 6, \"Metric_Group\": \"Accuracy&Label_Stability_Ratio\", \"Alias\": \"C1 & C3\", \"Title\": \"C1 & C3\"}, {\"Model_Name\": \"MLP\", \"Number_of_Models\": 3, \"Metric_Group\": \"Accuracy&Label_Stability_Ratio\", \"Alias\": \"C1 & C3\", \"Title\": \"C1 & C3\"}, {\"Model_Name\": \"ADB\", \"Number_of_Models\": 1, \"Metric_Group\": \"Accuracy&Label_Stability_Ratio\", \"Alias\": \"C1 & C3\", \"Title\": \"C1 & C3\"}, {\"Model_Name\": \"EGR\", \"Number_of_Models\": 1, \"Metric_Group\": \"Accuracy&Label_Stability_Ratio\", \"Alias\": \"C1 & C3\", \"Title\": \"C1 & C3\"}, {\"Model_Name\": \"LR\", \"Number_of_Models\": 5, \"Metric_Group\": \"Accuracy&Std_Parity\", \"Alias\": \"C1 & C4\", \"Title\": \"C1 & C4\"}, {\"Model_Name\": \"RF\", \"Number_of_Models\": 4, \"Metric_Group\": \"Accuracy&Std_Parity\", \"Alias\": \"C1 & C4\", \"Title\": \"C1 & C4\"}, {\"Model_Name\": \"MLP\", \"Number_of_Models\": 1, \"Metric_Group\": \"Accuracy&Std_Parity\", \"Alias\": \"C1 & C4\", \"Title\": \"C1 & C4\"}, {\"Model_Name\": \"RF\", \"Number_of_Models\": 2, \"Metric_Group\": \"Accuracy&Equalized_Odds_FPR&Label_Stability_Ratio&Std_Parity\", \"Alias\": \"C1 & C2 & C3 & C4\", \"Title\": \"C1 & C2 & C3 & C4\"}, {\"Model_Name\": \"MLP\", \"Number_of_Models\": 1, \"Metric_Group\": \"Accuracy&Equalized_Odds_FPR&Label_Stability_Ratio&Std_Parity\", \"Alias\": \"C1 & C2 & C3 & C4\", \"Title\": \"C1 & C2 & C3 & C4\"}]}}, {\"mode\": \"vega-lite\"});\n</script>",
      "text/plain": "alt.Chart(...)"
     },
     "execution_count": 21,
     "metadata": {},
     "output_type": "execute_result"
    }
   ],
   "source": [
    "# WYSIWYG\n",
    "# Metrics for constraints: [C1, C2, C3, C4]\n",
    "metrics = ['Accuracy', 'Equalized_Odds_FPR', 'Label_Stability_Ratio', 'Std_Parity']\n",
    "metrics_value_range_dct = {\n",
    "    metrics[0]: [0.93, 1.0], # C1\n",
    "    metrics[1]: [-0.04, 0.04], # C2\n",
    "    metrics[2]: [0.98, 1.02], # C3\n",
    "    metrics[3]: [-0.01, 0.01], # C4\n",
    "    f'{metrics[0]}&{metrics[1]}': None, # C1 + C2\n",
    "    f'{metrics[0]}&{metrics[2]}': None, # C1 + C3\n",
    "    f'{metrics[0]}&{metrics[3]}': None, # C1 + C4\n",
    "    f'{metrics[0]}&{metrics[1]}&{metrics[2]}&{metrics[3]}': None, # C1 + C2 + C3 + C4\n",
    "}\n",
    "create_bar_chart_for_model_selection(all_subgroup_metrics_df,\n",
    "                                     all_group_metrics_df,\n",
    "                                     metrics_value_range_dct,\n",
    "                                     dataset_name='Student_Performance_Por',\n",
    "                                     group='sex',\n",
    "                                     vals_to_replace=vals_to_replace)"
   ]
  },
  {
   "cell_type": "code",
   "execution_count": 20,
   "outputs": [
    {
     "name": "stdout",
     "output_type": "stream",
     "text": [
      "Models that satisfy all 4 constraints:\n"
     ]
    },
    {
     "data": {
      "text/plain": "  Model_Name Fairness_Intervention Experiment_Iteration\n0         LR                   DIR           Exp_iter_5\n1         RF                   DIR           Exp_iter_5",
      "text/html": "<div>\n<style scoped>\n    .dataframe tbody tr th:only-of-type {\n        vertical-align: middle;\n    }\n\n    .dataframe tbody tr th {\n        vertical-align: top;\n    }\n\n    .dataframe thead th {\n        text-align: right;\n    }\n</style>\n<table border=\"1\" class=\"dataframe\">\n  <thead>\n    <tr style=\"text-align: right;\">\n      <th></th>\n      <th>Model_Name</th>\n      <th>Fairness_Intervention</th>\n      <th>Experiment_Iteration</th>\n    </tr>\n  </thead>\n  <tbody>\n    <tr>\n      <th>0</th>\n      <td>LR</td>\n      <td>DIR</td>\n      <td>Exp_iter_5</td>\n    </tr>\n    <tr>\n      <th>1</th>\n      <td>RF</td>\n      <td>DIR</td>\n      <td>Exp_iter_5</td>\n    </tr>\n  </tbody>\n</table>\n</div>"
     },
     "metadata": {},
     "output_type": "display_data"
    },
    {
     "data": {
      "text/html": "\n<div id=\"altair-viz-6122a73c04e64839b8ee9fc58e9b2eeb\"></div>\n<script type=\"text/javascript\">\n  var VEGA_DEBUG = (typeof VEGA_DEBUG == \"undefined\") ? {} : VEGA_DEBUG;\n  (function(spec, embedOpt){\n    let outputDiv = document.currentScript.previousElementSibling;\n    if (outputDiv.id !== \"altair-viz-6122a73c04e64839b8ee9fc58e9b2eeb\") {\n      outputDiv = document.getElementById(\"altair-viz-6122a73c04e64839b8ee9fc58e9b2eeb\");\n    }\n    const paths = {\n      \"vega\": \"https://cdn.jsdelivr.net/npm//vega@5?noext\",\n      \"vega-lib\": \"https://cdn.jsdelivr.net/npm//vega-lib?noext\",\n      \"vega-lite\": \"https://cdn.jsdelivr.net/npm//vega-lite@4.17.0?noext\",\n      \"vega-embed\": \"https://cdn.jsdelivr.net/npm//vega-embed@6?noext\",\n    };\n\n    function maybeLoadScript(lib, version) {\n      var key = `${lib.replace(\"-\", \"\")}_version`;\n      return (VEGA_DEBUG[key] == version) ?\n        Promise.resolve(paths[lib]) :\n        new Promise(function(resolve, reject) {\n          var s = document.createElement('script');\n          document.getElementsByTagName(\"head\")[0].appendChild(s);\n          s.async = true;\n          s.onload = () => {\n            VEGA_DEBUG[key] = version;\n            return resolve(paths[lib]);\n          };\n          s.onerror = () => reject(`Error loading script: ${paths[lib]}`);\n          s.src = paths[lib];\n        });\n    }\n\n    function showError(err) {\n      outputDiv.innerHTML = `<div class=\"error\" style=\"color:red;\">${err}</div>`;\n      throw err;\n    }\n\n    function displayChart(vegaEmbed) {\n      vegaEmbed(outputDiv, spec, embedOpt)\n        .catch(err => showError(`Javascript Error: ${err.message}<br>This usually means there's a typo in your chart specification. See the javascript console for the full traceback.`));\n    }\n\n    if(typeof define === \"function\" && define.amd) {\n      requirejs.config({paths});\n      require([\"vega-embed\"], displayChart, err => showError(`Error loading script: ${err.message}`));\n    } else {\n      maybeLoadScript(\"vega\", \"5\")\n        .then(() => maybeLoadScript(\"vega-lite\", \"4.17.0\"))\n        .then(() => maybeLoadScript(\"vega-embed\", \"6\"))\n        .catch(showError)\n        .then(() => displayChart(vegaEmbed));\n    }\n  })({\"config\": {\"view\": {\"continuousWidth\": 400, \"continuousHeight\": 300}, \"axis\": {\"labelFontSize\": 27, \"labelFontWeight\": \"normal\", \"labelLimit\": 300, \"tickMinStep\": 1, \"titleFontSize\": 29, \"titleFontWeight\": \"normal\"}, \"legend\": {\"columns\": 2, \"labelFontSize\": 25, \"labelLimit\": 300, \"legendX\": 450, \"legendY\": 10, \"orient\": \"none\", \"symbolStrokeWidth\": 4, \"titleFontSize\": 27, \"titleLimit\": 220}, \"title\": {\"fontSize\": 27}}, \"data\": {\"name\": \"data-ce6f5404715c0220b90fdbbf909c0593\"}, \"mark\": \"bar\", \"encoding\": {\"color\": {\"field\": \"Model_Name\", \"legend\": {\"title\": \"Model Name\"}, \"type\": \"nominal\"}, \"x\": {\"axis\": {\"labelAngle\": -30}, \"field\": \"Title\", \"sort\": {\"order\": \"ascending\"}, \"title\": \"Metric Group\", \"type\": \"nominal\"}, \"y\": {\"field\": \"Number_of_Models\", \"title\": \"Number of Models\", \"type\": \"quantitative\"}}, \"height\": 450, \"width\": 650, \"$schema\": \"https://vega.github.io/schema/vega-lite/v4.17.0.json\", \"datasets\": {\"data-ce6f5404715c0220b90fdbbf909c0593\": [{\"Model_Name\": \"LR\", \"Number_of_Models\": 17, \"Metric_Group\": \"Accuracy\", \"Alias\": \"C1\", \"Title\": \"C1\"}, {\"Model_Name\": \"LGBM\", \"Number_of_Models\": 13, \"Metric_Group\": \"Accuracy\", \"Alias\": \"C1\", \"Title\": \"C1\"}, {\"Model_Name\": \"RF\", \"Number_of_Models\": 8, \"Metric_Group\": \"Accuracy\", \"Alias\": \"C1\", \"Title\": \"C1\"}, {\"Model_Name\": \"MLP\", \"Number_of_Models\": 5, \"Metric_Group\": \"Accuracy\", \"Alias\": \"C1\", \"Title\": \"C1\"}, {\"Model_Name\": \"ADB\", \"Number_of_Models\": 3, \"Metric_Group\": \"Accuracy\", \"Alias\": \"C1\", \"Title\": \"C1\"}, {\"Model_Name\": \"EGR\", \"Number_of_Models\": 2, \"Metric_Group\": \"Accuracy\", \"Alias\": \"C1\", \"Title\": \"C1\"}, {\"Model_Name\": \"RF\", \"Number_of_Models\": 10, \"Metric_Group\": \"Equalized_Odds_FPR\", \"Alias\": \"C2\", \"Title\": \"C2\"}, {\"Model_Name\": \"LGBM\", \"Number_of_Models\": 8, \"Metric_Group\": \"Equalized_Odds_FPR\", \"Alias\": \"C2\", \"Title\": \"C2\"}, {\"Model_Name\": \"MLP\", \"Number_of_Models\": 7, \"Metric_Group\": \"Equalized_Odds_FPR\", \"Alias\": \"C2\", \"Title\": \"C2\"}, {\"Model_Name\": \"ADB\", \"Number_of_Models\": 3, \"Metric_Group\": \"Equalized_Odds_FPR\", \"Alias\": \"C2\", \"Title\": \"C2\"}, {\"Model_Name\": \"LR\", \"Number_of_Models\": 3, \"Metric_Group\": \"Equalized_Odds_FPR\", \"Alias\": \"C2\", \"Title\": \"C2\"}, {\"Model_Name\": \"EGR\", \"Number_of_Models\": 2, \"Metric_Group\": \"Equalized_Odds_FPR\", \"Alias\": \"C2\", \"Title\": \"C2\"}, {\"Model_Name\": \"RF\", \"Number_of_Models\": 12, \"Metric_Group\": \"Std_Parity\", \"Alias\": \"C3\", \"Title\": \"C3\"}, {\"Model_Name\": \"LR\", \"Number_of_Models\": 11, \"Metric_Group\": \"Std_Parity\", \"Alias\": \"C3\", \"Title\": \"C3\"}, {\"Model_Name\": \"MLP\", \"Number_of_Models\": 3, \"Metric_Group\": \"Std_Parity\", \"Alias\": \"C3\", \"Title\": \"C3\"}, {\"Model_Name\": \"LGBM\", \"Number_of_Models\": 2, \"Metric_Group\": \"Std_Parity\", \"Alias\": \"C3\", \"Title\": \"C3\"}, {\"Model_Name\": \"MLP\", \"Number_of_Models\": 9, \"Metric_Group\": \"Aleatoric_Uncertainty_Parity\", \"Alias\": \"C4\", \"Title\": \"C4\"}, {\"Model_Name\": \"EGR\", \"Number_of_Models\": 6, \"Metric_Group\": \"Aleatoric_Uncertainty_Parity\", \"Alias\": \"C4\", \"Title\": \"C4\"}, {\"Model_Name\": \"LR\", \"Number_of_Models\": 6, \"Metric_Group\": \"Aleatoric_Uncertainty_Parity\", \"Alias\": \"C4\", \"Title\": \"C4\"}, {\"Model_Name\": \"LGBM\", \"Number_of_Models\": 4, \"Metric_Group\": \"Aleatoric_Uncertainty_Parity\", \"Alias\": \"C4\", \"Title\": \"C4\"}, {\"Model_Name\": \"ADB\", \"Number_of_Models\": 3, \"Metric_Group\": \"Aleatoric_Uncertainty_Parity\", \"Alias\": \"C4\", \"Title\": \"C4\"}, {\"Model_Name\": \"RF\", \"Number_of_Models\": 2, \"Metric_Group\": \"Aleatoric_Uncertainty_Parity\", \"Alias\": \"C4\", \"Title\": \"C4\"}, {\"Model_Name\": \"RF\", \"Number_of_Models\": 3, \"Metric_Group\": \"Accuracy&Equalized_Odds_FPR\", \"Alias\": \"C1 & C2\", \"Title\": \"C1 & C2\"}, {\"Model_Name\": \"ADB\", \"Number_of_Models\": 2, \"Metric_Group\": \"Accuracy&Equalized_Odds_FPR\", \"Alias\": \"C1 & C2\", \"Title\": \"C1 & C2\"}, {\"Model_Name\": \"LGBM\", \"Number_of_Models\": 2, \"Metric_Group\": \"Accuracy&Equalized_Odds_FPR\", \"Alias\": \"C1 & C2\", \"Title\": \"C1 & C2\"}, {\"Model_Name\": \"LR\", \"Number_of_Models\": 1, \"Metric_Group\": \"Accuracy&Equalized_Odds_FPR\", \"Alias\": \"C1 & C2\", \"Title\": \"C1 & C2\"}, {\"Model_Name\": \"MLP\", \"Number_of_Models\": 1, \"Metric_Group\": \"Accuracy&Equalized_Odds_FPR\", \"Alias\": \"C1 & C2\", \"Title\": \"C1 & C2\"}, {\"Model_Name\": \"LR\", \"Number_of_Models\": 5, \"Metric_Group\": \"Accuracy&Std_Parity\", \"Alias\": \"C1 & C3\", \"Title\": \"C1 & C3\"}, {\"Model_Name\": \"RF\", \"Number_of_Models\": 4, \"Metric_Group\": \"Accuracy&Std_Parity\", \"Alias\": \"C1 & C3\", \"Title\": \"C1 & C3\"}, {\"Model_Name\": \"MLP\", \"Number_of_Models\": 1, \"Metric_Group\": \"Accuracy&Std_Parity\", \"Alias\": \"C1 & C3\", \"Title\": \"C1 & C3\"}, {\"Model_Name\": \"LR\", \"Number_of_Models\": 3, \"Metric_Group\": \"Accuracy&Aleatoric_Uncertainty_Parity\", \"Alias\": \"C1 & C4\", \"Title\": \"C1 & C4\"}, {\"Model_Name\": \"ADB\", \"Number_of_Models\": 2, \"Metric_Group\": \"Accuracy&Aleatoric_Uncertainty_Parity\", \"Alias\": \"C1 & C4\", \"Title\": \"C1 & C4\"}, {\"Model_Name\": \"EGR\", \"Number_of_Models\": 2, \"Metric_Group\": \"Accuracy&Aleatoric_Uncertainty_Parity\", \"Alias\": \"C1 & C4\", \"Title\": \"C1 & C4\"}, {\"Model_Name\": \"LGBM\", \"Number_of_Models\": 1, \"Metric_Group\": \"Accuracy&Aleatoric_Uncertainty_Parity\", \"Alias\": \"C1 & C4\", \"Title\": \"C1 & C4\"}, {\"Model_Name\": \"MLP\", \"Number_of_Models\": 1, \"Metric_Group\": \"Accuracy&Aleatoric_Uncertainty_Parity\", \"Alias\": \"C1 & C4\", \"Title\": \"C1 & C4\"}, {\"Model_Name\": \"RF\", \"Number_of_Models\": 1, \"Metric_Group\": \"Accuracy&Aleatoric_Uncertainty_Parity\", \"Alias\": \"C1 & C4\", \"Title\": \"C1 & C4\"}, {\"Model_Name\": \"LR\", \"Number_of_Models\": 1, \"Metric_Group\": \"Accuracy&Equalized_Odds_FPR&Std_Parity&Aleatoric_Uncertainty_Parity\", \"Alias\": \"C1 & C2 & C3 & C4\", \"Title\": \"C1 & C2 & C3 & C4\"}, {\"Model_Name\": \"RF\", \"Number_of_Models\": 1, \"Metric_Group\": \"Accuracy&Equalized_Odds_FPR&Std_Parity&Aleatoric_Uncertainty_Parity\", \"Alias\": \"C1 & C2 & C3 & C4\", \"Title\": \"C1 & C2 & C3 & C4\"}]}}, {\"mode\": \"vega-lite\"});\n</script>",
      "text/plain": "alt.Chart(...)"
     },
     "execution_count": 20,
     "metadata": {},
     "output_type": "execute_result"
    }
   ],
   "source": [
    "# WAE\n",
    "# Metrics for constraints: [C1, C2, C3, C4]\n",
    "metrics = ['Accuracy', 'Equalized_Odds_FPR', 'Std_Parity', 'Aleatoric_Uncertainty_Parity']\n",
    "metrics_value_range_dct = {\n",
    "    metrics[0]: [0.93, 1.0], # C1\n",
    "    metrics[1]: [-0.04, 0.04], # C2\n",
    "    metrics[2]: [-0.01, 0.01], # C3\n",
    "    metrics[3]: [-0.045, 0.045], # C4\n",
    "    f'{metrics[0]}&{metrics[1]}': None, # C1 + C2\n",
    "    f'{metrics[0]}&{metrics[2]}': None, # C1 + C3\n",
    "    f'{metrics[0]}&{metrics[3]}': None, # C1 + C4\n",
    "    f'{metrics[0]}&{metrics[1]}&{metrics[2]}&{metrics[3]}': None, # C1 + C2 + C3 + C4\n",
    "}\n",
    "create_bar_chart_for_model_selection(all_subgroup_metrics_df,\n",
    "                                     all_group_metrics_df,\n",
    "                                     metrics_value_range_dct,\n",
    "                                     dataset_name='Student_Performance_Por',\n",
    "                                     group='sex',\n",
    "                                     vals_to_replace=vals_to_replace)"
   ],
   "metadata": {
    "collapsed": false,
    "ExecuteTime": {
     "end_time": "2024-01-23T02:38:05.084709Z",
     "start_time": "2024-01-23T02:38:04.954924Z"
    }
   },
   "id": "18c5e1ad65063132"
  },
  {
   "cell_type": "code",
   "execution_count": null,
   "outputs": [],
   "source": [],
   "metadata": {
    "collapsed": false
   },
   "id": "6315b2767b698403"
  }
 ],
 "metadata": {
  "kernelspec": {
   "display_name": "Python 3 (ipykernel)",
   "language": "python",
   "name": "python3"
  },
  "language_info": {
   "codemirror_mode": {
    "name": "ipython",
    "version": 3
   },
   "file_extension": ".py",
   "mimetype": "text/x-python",
   "name": "python",
   "nbconvert_exporter": "python",
   "pygments_lexer": "ipython3",
   "version": "3.9.6"
  },
  "vscode": {
   "interpreter": {
    "hash": "aeeedfdcfbb7d0bd7e8ae453d9cd04ee7ebd63a67f7841163d9437c8723e8c72"
   }
  }
 },
 "nbformat": 4,
 "nbformat_minor": 5
}
