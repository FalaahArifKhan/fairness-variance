{
 "cells": [
  {
   "cell_type": "code",
   "execution_count": 1,
   "id": "initial_id",
   "metadata": {
    "collapsed": true,
    "ExecuteTime": {
     "end_time": "2024-04-04T20:34:48.443239Z",
     "start_time": "2024-04-04T20:34:48.030863Z"
    }
   },
   "outputs": [],
   "source": [
    "%matplotlib inline\n",
    "%load_ext autoreload\n",
    "%autoreload 2"
   ]
  },
  {
   "cell_type": "code",
   "execution_count": 2,
   "outputs": [],
   "source": [
    "import os\n",
    "import warnings\n",
    "warnings.filterwarnings('ignore')\n",
    "os.environ[\"PYTHONWARNINGS\"] = \"ignore\""
   ],
   "metadata": {
    "collapsed": false,
    "ExecuteTime": {
     "end_time": "2024-04-04T20:34:48.452312Z",
     "start_time": "2024-04-04T20:34:48.442838Z"
    }
   },
   "id": "1265cf0fe4eed7df"
  },
  {
   "cell_type": "code",
   "execution_count": 3,
   "outputs": [
    {
     "name": "stdout",
     "output_type": "stream",
     "text": [
      "Current location:  /Users/denys_herasymuk/UCU/4course_2term/Bachelor_Thesis/Code/fairness-variance\n"
     ]
    }
   ],
   "source": [
    "cur_folder_name = os.getcwd().split('/')[-1]\n",
    "if cur_folder_name != \"fairness-variance\":\n",
    "    os.chdir(\"..\")\n",
    "\n",
    "print('Current location: ', os.getcwd())"
   ],
   "metadata": {
    "collapsed": false,
    "ExecuteTime": {
     "end_time": "2024-04-04T20:34:48.464699Z",
     "start_time": "2024-04-04T20:34:48.452614Z"
    }
   },
   "id": "98d68df45a9d0aa7"
  },
  {
   "cell_type": "markdown",
   "source": [
    "# Visualizations for Different Fairness Interventions"
   ],
   "metadata": {
    "collapsed": false
   },
   "id": "16c6dbd6e3a7c4b9"
  },
  {
   "cell_type": "code",
   "execution_count": 4,
   "outputs": [],
   "source": [
    "from source.utils.data_vis_utils import create_metrics_dicts_for_diff_fairness_interventions"
   ],
   "metadata": {
    "collapsed": false,
    "ExecuteTime": {
     "end_time": "2024-04-04T20:34:50.607616Z",
     "start_time": "2024-04-04T20:34:48.462585Z"
    }
   },
   "id": "9b15cd5fc9688a78"
  },
  {
   "cell_type": "markdown",
   "source": [
    "## Initialize Configs"
   ],
   "metadata": {
    "collapsed": false
   },
   "id": "314436639a088474"
  },
  {
   "cell_type": "code",
   "execution_count": 5,
   "outputs": [],
   "source": [
    "DB_COLLECTION_NAME = 'one_repair_lvl_many_models'\n",
    "DATASETS_DB_CONFIG = {\n",
    "    'Folktables_GA_2018_Income': {\n",
    "        'Baseline': 'ac796b56-9c83-474a-8e7a-2d95ee5efa7e',\n",
    "        'LFR': '3855ad0b-4d2e-4baf-a5a8-6e3e92f624ba',\n",
    "        'DIR': 'f009c98f-b732-44cf-9084-4bf12c11bdcf',\n",
    "        'AdversarialDebiasing': 'bbba3cc4-760b-4e93-bb97-3a2077202cce',\n",
    "        'ExponentiatedGradientReduction': '9c5d2ffc-834e-4a7d-abc0-49dd26950c6d',\n",
    "        'EqOddsPostprocessing': '3976c1bf-99fa-49f4-97ec-44b13cb64ef4',\n",
    "        'ROC': '426f4b41-5b22-4118-b5c8-15a0ab4aa18f',\n",
    "    },\n",
    "    'Folktables_CA_2018_Public_Coverage': {\n",
    "        'Baseline': 'c36d3f62-2edd-4df4-97db-a9c3cb5be8ed',\n",
    "        'LFR': '3021b0c7-483d-4682-9dc6-bb4a2cf90020',\n",
    "        'DIR': 'ac38ec40-c789-4f7e-91be-9ffb55bc3e6f',\n",
    "        'AdversarialDebiasing': 'bf843ff8-62e9-4aac-83bc-d805e3299fdc',\n",
    "        'ExponentiatedGradientReduction': 'dffb2122-b870-40d5-92b2-f0f6bfb730f0',\n",
    "        'EqOddsPostprocessing': 'c1fbe1ae-f5e9-4ca1-8f38-abe1b118f95b',\n",
    "        'ROC': 'aa7a7273-bf7c-44f9-becc-3b0384b722c5',\n",
    "    },\n",
    "    'Law_School': {\n",
    "        'Baseline': 'b37c9c58-ed69-425c-b3d5-8f1ffd3adcd6',\n",
    "        'LFR': 'a1345526-1623-4fc7-b1a4-2a7790c4eef5',\n",
    "        'DIR': '336e4621-fef9-4722-a3c1-b2ecca7e7f45',\n",
    "        'AdversarialDebiasing': '594152d2-738f-43f3-87ac-e98b98a17b4a',\n",
    "        'ExponentiatedGradientReduction': '5a766803-decf-487f-bc23-bade50373a6e',\n",
    "        'EqOddsPostprocessing': '567e7e80-5ed4-4a45-8927-2f7b61ba5647',\n",
    "        'ROC': 'b1f109f5-3def-4da0-872b-6f0f1a9be953',\n",
    "    },\n",
    "    'Student_Performance_Por': {\n",
    "        'Baseline': '647daccf-7c14-463c-99ab-ef16972dba80',\n",
    "        'LFR': '638da338-6a90-44a7-a835-17f062b941fb',\n",
    "        'DIR': '647daccf-7c14-463c-99ab-ef16972dba80',\n",
    "        'AdversarialDebiasing': '7bd775d4-0821-4711-8eed-902c990fbc94',\n",
    "        'ExponentiatedGradientReduction': '65f39387-1ed2-4e6d-9670-ae8c552a0f65',\n",
    "        'EqOddsPostprocessing': 'b35e31f2-bb03-494f-a24c-b9264e383667',\n",
    "        'ROC': '0626d80f-e288-4f16-b8ab-260eb34d62d3',\n",
    "    },\n",
    "}\n",
    "DATASET_NAMES = list(DATASETS_DB_CONFIG.keys())\n",
    "SENSITIVE_ATTR_FOR_INTERVENTION = 'sex'\n",
    "DATASETS_SENSITIVE_ATTRS = {\n",
    "    'Folktables_GA_2018_Income': ['SEX', 'RAC1P', 'SEX&RAC1P'],\n",
    "    'Law_School': ['male', 'race', 'male&race'],\n",
    "    'Folktables_CA_2018_Public_Coverage': ['SEX', 'RAC1P', 'SEX&RAC1P'],\n",
    "    'Student_Performance_Por': ['sex'],\n",
    "}"
   ],
   "metadata": {
    "collapsed": false,
    "ExecuteTime": {
     "end_time": "2024-04-04T20:34:50.636710Z",
     "start_time": "2024-04-04T20:34:50.611410Z"
    }
   },
   "id": "8bb630838771304f"
  },
  {
   "cell_type": "markdown",
   "source": [
    "## Group Metrics Composition"
   ],
   "metadata": {
    "collapsed": false
   },
   "id": "b38bce361c504b91"
  },
  {
   "cell_type": "code",
   "execution_count": 6,
   "outputs": [
    {
     "name": "stdout",
     "output_type": "stream",
     "text": [
      "Extracted metrics for Folktables_GA_2018_Income dataset and Baseline intervention\n",
      "Extracted metrics for Folktables_GA_2018_Income dataset and LFR intervention\n",
      "Extracted metrics for Folktables_GA_2018_Income dataset and DIR intervention\n",
      "Extracted metrics for Folktables_GA_2018_Income dataset and AdversarialDebiasing intervention\n",
      "Extracted metrics for Folktables_GA_2018_Income dataset and ExponentiatedGradientReduction intervention\n",
      "Extracted metrics for Folktables_GA_2018_Income dataset and EqOddsPostprocessing intervention\n",
      "Extracted metrics for Folktables_GA_2018_Income dataset and ROC intervention\n",
      "Extracted metrics for Folktables_CA_2018_Public_Coverage dataset and Baseline intervention\n",
      "Extracted metrics for Folktables_CA_2018_Public_Coverage dataset and LFR intervention\n",
      "Extracted metrics for Folktables_CA_2018_Public_Coverage dataset and DIR intervention\n",
      "Extracted metrics for Folktables_CA_2018_Public_Coverage dataset and AdversarialDebiasing intervention\n",
      "Extracted metrics for Folktables_CA_2018_Public_Coverage dataset and ExponentiatedGradientReduction intervention\n",
      "Extracted metrics for Folktables_CA_2018_Public_Coverage dataset and EqOddsPostprocessing intervention\n",
      "Extracted metrics for Folktables_CA_2018_Public_Coverage dataset and ROC intervention\n",
      "Extracted metrics for Law_School dataset and Baseline intervention\n",
      "Extracted metrics for Law_School dataset and LFR intervention\n",
      "Extracted metrics for Law_School dataset and DIR intervention\n",
      "Extracted metrics for Law_School dataset and AdversarialDebiasing intervention\n",
      "Extracted metrics for Law_School dataset and ExponentiatedGradientReduction intervention\n",
      "Extracted metrics for Law_School dataset and EqOddsPostprocessing intervention\n",
      "Extracted metrics for Law_School dataset and ROC intervention\n",
      "Filtered to alpha = 0.0 for baseline\n",
      "Extracted metrics for Student_Performance_Por dataset and Baseline intervention\n",
      "Extracted metrics for Student_Performance_Por dataset and LFR intervention\n",
      "Filtered to alpha = 0.7 for DIR\n",
      "Extracted metrics for Student_Performance_Por dataset and DIR intervention\n",
      "Extracted metrics for Student_Performance_Por dataset and AdversarialDebiasing intervention\n",
      "Extracted metrics for Student_Performance_Por dataset and ExponentiatedGradientReduction intervention\n",
      "Extracted metrics for Student_Performance_Por dataset and EqOddsPostprocessing intervention\n",
      "Extracted metrics for Student_Performance_Por dataset and ROC intervention\n"
     ]
    }
   ],
   "source": [
    "all_subgroup_metrics_df, all_group_metrics_df = (\n",
    "    create_metrics_dicts_for_diff_fairness_interventions(datasets_db_config=DATASETS_DB_CONFIG,\n",
    "                                                         datasets_sensitive_attrs_dct=DATASETS_SENSITIVE_ATTRS,\n",
    "                                                         db_collection_name=DB_COLLECTION_NAME))"
   ],
   "metadata": {
    "collapsed": false,
    "ExecuteTime": {
     "end_time": "2024-04-04T20:35:38.709484Z",
     "start_time": "2024-04-04T20:34:50.634601Z"
    }
   },
   "id": "ff623b479a8903a2"
  },
  {
   "cell_type": "code",
   "execution_count": 7,
   "outputs": [
    {
     "data": {
      "text/plain": "                   Metric      Model_Name               Dataset_Name  \\\n0                     IQR  LGBMClassifier  Folktables_GA_2018_Income   \n1         Mean_Prediction  LGBMClassifier  Folktables_GA_2018_Income   \n2     Overall_Uncertainty  LGBMClassifier  Folktables_GA_2018_Income   \n3   Aleatoric_Uncertainty  LGBMClassifier  Folktables_GA_2018_Income   \n4   Epistemic_Uncertainty  LGBMClassifier  Folktables_GA_2018_Income   \n5                     PPV  LGBMClassifier  Folktables_GA_2018_Income   \n6                     FPR  LGBMClassifier  Folktables_GA_2018_Income   \n7     Overall_Uncertainty  LGBMClassifier  Folktables_GA_2018_Income   \n8   Epistemic_Uncertainty  LGBMClassifier  Folktables_GA_2018_Income   \n9         Label_Stability  LGBMClassifier  Folktables_GA_2018_Income   \n10                    FNR  LGBMClassifier  Folktables_GA_2018_Income   \n11                     F1  LGBMClassifier  Folktables_GA_2018_Income   \n12          Positive-Rate  LGBMClassifier  Folktables_GA_2018_Income   \n13                    Std  LGBMClassifier  Folktables_GA_2018_Income   \n14    Overall_Uncertainty  LGBMClassifier  Folktables_GA_2018_Income   \n15                    PPV  LGBMClassifier  Folktables_GA_2018_Income   \n16                    FPR  LGBMClassifier  Folktables_GA_2018_Income   \n17          Positive-Rate  LGBMClassifier  Folktables_GA_2018_Income   \n18                    IQR  LGBMClassifier  Folktables_GA_2018_Income   \n19  Epistemic_Uncertainty  LGBMClassifier  Folktables_GA_2018_Income   \n\n    Num_Estimators Record_Create_Date_Time  \\\n0              200 2024-01-06 18:59:47.583   \n1              200 2024-01-06 18:59:47.583   \n2              200 2024-01-06 18:59:47.583   \n3              200 2024-01-06 18:59:47.583   \n4              200 2024-01-06 18:59:47.583   \n5              200 2024-01-06 18:59:47.583   \n6              200 2024-01-06 18:59:47.583   \n7              200 2024-01-06 18:59:47.583   \n8              200 2024-01-06 18:59:47.583   \n9              200 2024-01-06 18:59:47.583   \n10             200 2024-01-06 18:59:47.583   \n11             200 2024-01-06 18:59:47.583   \n12             200 2024-01-06 18:59:47.583   \n13             200 2024-01-06 18:59:47.583   \n14             200 2024-01-06 18:59:47.583   \n15             200 2024-01-06 18:59:47.583   \n16             200 2024-01-06 18:59:47.583   \n17             200 2024-01-06 18:59:47.583   \n18             200 2024-01-06 18:59:47.583   \n19             200 2024-01-06 18:59:47.583   \n\n                            Session_Uuid Experiment_Iteration  \\\n0   ac796b56-9c83-474a-8e7a-2d95ee5efa7e           Exp_iter_1   \n1   ac796b56-9c83-474a-8e7a-2d95ee5efa7e           Exp_iter_1   \n2   ac796b56-9c83-474a-8e7a-2d95ee5efa7e           Exp_iter_1   \n3   ac796b56-9c83-474a-8e7a-2d95ee5efa7e           Exp_iter_1   \n4   ac796b56-9c83-474a-8e7a-2d95ee5efa7e           Exp_iter_1   \n5   ac796b56-9c83-474a-8e7a-2d95ee5efa7e           Exp_iter_1   \n6   ac796b56-9c83-474a-8e7a-2d95ee5efa7e           Exp_iter_1   \n7   ac796b56-9c83-474a-8e7a-2d95ee5efa7e           Exp_iter_1   \n8   ac796b56-9c83-474a-8e7a-2d95ee5efa7e           Exp_iter_1   \n9   ac796b56-9c83-474a-8e7a-2d95ee5efa7e           Exp_iter_1   \n10  ac796b56-9c83-474a-8e7a-2d95ee5efa7e           Exp_iter_1   \n11  ac796b56-9c83-474a-8e7a-2d95ee5efa7e           Exp_iter_1   \n12  ac796b56-9c83-474a-8e7a-2d95ee5efa7e           Exp_iter_1   \n13  ac796b56-9c83-474a-8e7a-2d95ee5efa7e           Exp_iter_1   \n14  ac796b56-9c83-474a-8e7a-2d95ee5efa7e           Exp_iter_1   \n15  ac796b56-9c83-474a-8e7a-2d95ee5efa7e           Exp_iter_1   \n16  ac796b56-9c83-474a-8e7a-2d95ee5efa7e           Exp_iter_1   \n17  ac796b56-9c83-474a-8e7a-2d95ee5efa7e           Exp_iter_1   \n18  ac796b56-9c83-474a-8e7a-2d95ee5efa7e           Exp_iter_1   \n19  ac796b56-9c83-474a-8e7a-2d95ee5efa7e           Exp_iter_1   \n\n    Dataset_Split_Seed Fair_Intervention_Params_Lst Intervention_Param  \\\n0                  100                        [0.0]                0.0   \n1                  100                        [0.0]                0.0   \n2                  100                        [0.0]                0.0   \n3                  100                        [0.0]                0.0   \n4                  100                        [0.0]                0.0   \n5                  100                        [0.0]                0.0   \n6                  100                        [0.0]                0.0   \n7                  100                        [0.0]                0.0   \n8                  100                        [0.0]                0.0   \n9                  100                        [0.0]                0.0   \n10                 100                        [0.0]                0.0   \n11                 100                        [0.0]                0.0   \n12                 100                        [0.0]                0.0   \n13                 100                        [0.0]                0.0   \n14                 100                        [0.0]                0.0   \n15                 100                        [0.0]                0.0   \n16                 100                        [0.0]                0.0   \n17                 100                        [0.0]                0.0   \n18                 100                        [0.0]                0.0   \n19                 100                        [0.0]                0.0   \n\n              Subgroup  Metric_Value Fairness_Intervention  \n0             SEX_priv      0.065426              Baseline  \n1             SEX_priv      0.616530              Baseline  \n2             SEX_priv      0.647023              Baseline  \n3             SEX_priv      0.634515              Baseline  \n4             SEX_priv      0.012508              Baseline  \n5             SEX_priv      0.758273              Baseline  \n6             SEX_priv      0.145833              Baseline  \n7     SEX_priv_correct      0.587053              Baseline  \n8     SEX_priv_correct      0.011259              Baseline  \n9     SEX_priv_correct      0.936248              Baseline  \n10    SEX_priv_correct      0.000000              Baseline  \n11    SEX_priv_correct      1.000000              Baseline  \n12    SEX_priv_correct      1.000000              Baseline  \n13  SEX_priv_incorrect      0.066275              Baseline  \n14  SEX_priv_incorrect      0.851111              Baseline  \n15  SEX_priv_incorrect      0.000000              Baseline  \n16  SEX_priv_incorrect      1.000000              Baseline  \n17  SEX_priv_incorrect      0.608696              Baseline  \n18             SEX_dis      0.063619              Baseline  \n19             SEX_dis      0.012704              Baseline  ",
      "text/html": "<div>\n<style scoped>\n    .dataframe tbody tr th:only-of-type {\n        vertical-align: middle;\n    }\n\n    .dataframe tbody tr th {\n        vertical-align: top;\n    }\n\n    .dataframe thead th {\n        text-align: right;\n    }\n</style>\n<table border=\"1\" class=\"dataframe\">\n  <thead>\n    <tr style=\"text-align: right;\">\n      <th></th>\n      <th>Metric</th>\n      <th>Model_Name</th>\n      <th>Dataset_Name</th>\n      <th>Num_Estimators</th>\n      <th>Record_Create_Date_Time</th>\n      <th>Session_Uuid</th>\n      <th>Experiment_Iteration</th>\n      <th>Dataset_Split_Seed</th>\n      <th>Fair_Intervention_Params_Lst</th>\n      <th>Intervention_Param</th>\n      <th>Subgroup</th>\n      <th>Metric_Value</th>\n      <th>Fairness_Intervention</th>\n    </tr>\n  </thead>\n  <tbody>\n    <tr>\n      <th>0</th>\n      <td>IQR</td>\n      <td>LGBMClassifier</td>\n      <td>Folktables_GA_2018_Income</td>\n      <td>200</td>\n      <td>2024-01-06 18:59:47.583</td>\n      <td>ac796b56-9c83-474a-8e7a-2d95ee5efa7e</td>\n      <td>Exp_iter_1</td>\n      <td>100</td>\n      <td>[0.0]</td>\n      <td>0.0</td>\n      <td>SEX_priv</td>\n      <td>0.065426</td>\n      <td>Baseline</td>\n    </tr>\n    <tr>\n      <th>1</th>\n      <td>Mean_Prediction</td>\n      <td>LGBMClassifier</td>\n      <td>Folktables_GA_2018_Income</td>\n      <td>200</td>\n      <td>2024-01-06 18:59:47.583</td>\n      <td>ac796b56-9c83-474a-8e7a-2d95ee5efa7e</td>\n      <td>Exp_iter_1</td>\n      <td>100</td>\n      <td>[0.0]</td>\n      <td>0.0</td>\n      <td>SEX_priv</td>\n      <td>0.616530</td>\n      <td>Baseline</td>\n    </tr>\n    <tr>\n      <th>2</th>\n      <td>Overall_Uncertainty</td>\n      <td>LGBMClassifier</td>\n      <td>Folktables_GA_2018_Income</td>\n      <td>200</td>\n      <td>2024-01-06 18:59:47.583</td>\n      <td>ac796b56-9c83-474a-8e7a-2d95ee5efa7e</td>\n      <td>Exp_iter_1</td>\n      <td>100</td>\n      <td>[0.0]</td>\n      <td>0.0</td>\n      <td>SEX_priv</td>\n      <td>0.647023</td>\n      <td>Baseline</td>\n    </tr>\n    <tr>\n      <th>3</th>\n      <td>Aleatoric_Uncertainty</td>\n      <td>LGBMClassifier</td>\n      <td>Folktables_GA_2018_Income</td>\n      <td>200</td>\n      <td>2024-01-06 18:59:47.583</td>\n      <td>ac796b56-9c83-474a-8e7a-2d95ee5efa7e</td>\n      <td>Exp_iter_1</td>\n      <td>100</td>\n      <td>[0.0]</td>\n      <td>0.0</td>\n      <td>SEX_priv</td>\n      <td>0.634515</td>\n      <td>Baseline</td>\n    </tr>\n    <tr>\n      <th>4</th>\n      <td>Epistemic_Uncertainty</td>\n      <td>LGBMClassifier</td>\n      <td>Folktables_GA_2018_Income</td>\n      <td>200</td>\n      <td>2024-01-06 18:59:47.583</td>\n      <td>ac796b56-9c83-474a-8e7a-2d95ee5efa7e</td>\n      <td>Exp_iter_1</td>\n      <td>100</td>\n      <td>[0.0]</td>\n      <td>0.0</td>\n      <td>SEX_priv</td>\n      <td>0.012508</td>\n      <td>Baseline</td>\n    </tr>\n    <tr>\n      <th>5</th>\n      <td>PPV</td>\n      <td>LGBMClassifier</td>\n      <td>Folktables_GA_2018_Income</td>\n      <td>200</td>\n      <td>2024-01-06 18:59:47.583</td>\n      <td>ac796b56-9c83-474a-8e7a-2d95ee5efa7e</td>\n      <td>Exp_iter_1</td>\n      <td>100</td>\n      <td>[0.0]</td>\n      <td>0.0</td>\n      <td>SEX_priv</td>\n      <td>0.758273</td>\n      <td>Baseline</td>\n    </tr>\n    <tr>\n      <th>6</th>\n      <td>FPR</td>\n      <td>LGBMClassifier</td>\n      <td>Folktables_GA_2018_Income</td>\n      <td>200</td>\n      <td>2024-01-06 18:59:47.583</td>\n      <td>ac796b56-9c83-474a-8e7a-2d95ee5efa7e</td>\n      <td>Exp_iter_1</td>\n      <td>100</td>\n      <td>[0.0]</td>\n      <td>0.0</td>\n      <td>SEX_priv</td>\n      <td>0.145833</td>\n      <td>Baseline</td>\n    </tr>\n    <tr>\n      <th>7</th>\n      <td>Overall_Uncertainty</td>\n      <td>LGBMClassifier</td>\n      <td>Folktables_GA_2018_Income</td>\n      <td>200</td>\n      <td>2024-01-06 18:59:47.583</td>\n      <td>ac796b56-9c83-474a-8e7a-2d95ee5efa7e</td>\n      <td>Exp_iter_1</td>\n      <td>100</td>\n      <td>[0.0]</td>\n      <td>0.0</td>\n      <td>SEX_priv_correct</td>\n      <td>0.587053</td>\n      <td>Baseline</td>\n    </tr>\n    <tr>\n      <th>8</th>\n      <td>Epistemic_Uncertainty</td>\n      <td>LGBMClassifier</td>\n      <td>Folktables_GA_2018_Income</td>\n      <td>200</td>\n      <td>2024-01-06 18:59:47.583</td>\n      <td>ac796b56-9c83-474a-8e7a-2d95ee5efa7e</td>\n      <td>Exp_iter_1</td>\n      <td>100</td>\n      <td>[0.0]</td>\n      <td>0.0</td>\n      <td>SEX_priv_correct</td>\n      <td>0.011259</td>\n      <td>Baseline</td>\n    </tr>\n    <tr>\n      <th>9</th>\n      <td>Label_Stability</td>\n      <td>LGBMClassifier</td>\n      <td>Folktables_GA_2018_Income</td>\n      <td>200</td>\n      <td>2024-01-06 18:59:47.583</td>\n      <td>ac796b56-9c83-474a-8e7a-2d95ee5efa7e</td>\n      <td>Exp_iter_1</td>\n      <td>100</td>\n      <td>[0.0]</td>\n      <td>0.0</td>\n      <td>SEX_priv_correct</td>\n      <td>0.936248</td>\n      <td>Baseline</td>\n    </tr>\n    <tr>\n      <th>10</th>\n      <td>FNR</td>\n      <td>LGBMClassifier</td>\n      <td>Folktables_GA_2018_Income</td>\n      <td>200</td>\n      <td>2024-01-06 18:59:47.583</td>\n      <td>ac796b56-9c83-474a-8e7a-2d95ee5efa7e</td>\n      <td>Exp_iter_1</td>\n      <td>100</td>\n      <td>[0.0]</td>\n      <td>0.0</td>\n      <td>SEX_priv_correct</td>\n      <td>0.000000</td>\n      <td>Baseline</td>\n    </tr>\n    <tr>\n      <th>11</th>\n      <td>F1</td>\n      <td>LGBMClassifier</td>\n      <td>Folktables_GA_2018_Income</td>\n      <td>200</td>\n      <td>2024-01-06 18:59:47.583</td>\n      <td>ac796b56-9c83-474a-8e7a-2d95ee5efa7e</td>\n      <td>Exp_iter_1</td>\n      <td>100</td>\n      <td>[0.0]</td>\n      <td>0.0</td>\n      <td>SEX_priv_correct</td>\n      <td>1.000000</td>\n      <td>Baseline</td>\n    </tr>\n    <tr>\n      <th>12</th>\n      <td>Positive-Rate</td>\n      <td>LGBMClassifier</td>\n      <td>Folktables_GA_2018_Income</td>\n      <td>200</td>\n      <td>2024-01-06 18:59:47.583</td>\n      <td>ac796b56-9c83-474a-8e7a-2d95ee5efa7e</td>\n      <td>Exp_iter_1</td>\n      <td>100</td>\n      <td>[0.0]</td>\n      <td>0.0</td>\n      <td>SEX_priv_correct</td>\n      <td>1.000000</td>\n      <td>Baseline</td>\n    </tr>\n    <tr>\n      <th>13</th>\n      <td>Std</td>\n      <td>LGBMClassifier</td>\n      <td>Folktables_GA_2018_Income</td>\n      <td>200</td>\n      <td>2024-01-06 18:59:47.583</td>\n      <td>ac796b56-9c83-474a-8e7a-2d95ee5efa7e</td>\n      <td>Exp_iter_1</td>\n      <td>100</td>\n      <td>[0.0]</td>\n      <td>0.0</td>\n      <td>SEX_priv_incorrect</td>\n      <td>0.066275</td>\n      <td>Baseline</td>\n    </tr>\n    <tr>\n      <th>14</th>\n      <td>Overall_Uncertainty</td>\n      <td>LGBMClassifier</td>\n      <td>Folktables_GA_2018_Income</td>\n      <td>200</td>\n      <td>2024-01-06 18:59:47.583</td>\n      <td>ac796b56-9c83-474a-8e7a-2d95ee5efa7e</td>\n      <td>Exp_iter_1</td>\n      <td>100</td>\n      <td>[0.0]</td>\n      <td>0.0</td>\n      <td>SEX_priv_incorrect</td>\n      <td>0.851111</td>\n      <td>Baseline</td>\n    </tr>\n    <tr>\n      <th>15</th>\n      <td>PPV</td>\n      <td>LGBMClassifier</td>\n      <td>Folktables_GA_2018_Income</td>\n      <td>200</td>\n      <td>2024-01-06 18:59:47.583</td>\n      <td>ac796b56-9c83-474a-8e7a-2d95ee5efa7e</td>\n      <td>Exp_iter_1</td>\n      <td>100</td>\n      <td>[0.0]</td>\n      <td>0.0</td>\n      <td>SEX_priv_incorrect</td>\n      <td>0.000000</td>\n      <td>Baseline</td>\n    </tr>\n    <tr>\n      <th>16</th>\n      <td>FPR</td>\n      <td>LGBMClassifier</td>\n      <td>Folktables_GA_2018_Income</td>\n      <td>200</td>\n      <td>2024-01-06 18:59:47.583</td>\n      <td>ac796b56-9c83-474a-8e7a-2d95ee5efa7e</td>\n      <td>Exp_iter_1</td>\n      <td>100</td>\n      <td>[0.0]</td>\n      <td>0.0</td>\n      <td>SEX_priv_incorrect</td>\n      <td>1.000000</td>\n      <td>Baseline</td>\n    </tr>\n    <tr>\n      <th>17</th>\n      <td>Positive-Rate</td>\n      <td>LGBMClassifier</td>\n      <td>Folktables_GA_2018_Income</td>\n      <td>200</td>\n      <td>2024-01-06 18:59:47.583</td>\n      <td>ac796b56-9c83-474a-8e7a-2d95ee5efa7e</td>\n      <td>Exp_iter_1</td>\n      <td>100</td>\n      <td>[0.0]</td>\n      <td>0.0</td>\n      <td>SEX_priv_incorrect</td>\n      <td>0.608696</td>\n      <td>Baseline</td>\n    </tr>\n    <tr>\n      <th>18</th>\n      <td>IQR</td>\n      <td>LGBMClassifier</td>\n      <td>Folktables_GA_2018_Income</td>\n      <td>200</td>\n      <td>2024-01-06 18:59:47.583</td>\n      <td>ac796b56-9c83-474a-8e7a-2d95ee5efa7e</td>\n      <td>Exp_iter_1</td>\n      <td>100</td>\n      <td>[0.0]</td>\n      <td>0.0</td>\n      <td>SEX_dis</td>\n      <td>0.063619</td>\n      <td>Baseline</td>\n    </tr>\n    <tr>\n      <th>19</th>\n      <td>Epistemic_Uncertainty</td>\n      <td>LGBMClassifier</td>\n      <td>Folktables_GA_2018_Income</td>\n      <td>200</td>\n      <td>2024-01-06 18:59:47.583</td>\n      <td>ac796b56-9c83-474a-8e7a-2d95ee5efa7e</td>\n      <td>Exp_iter_1</td>\n      <td>100</td>\n      <td>[0.0]</td>\n      <td>0.0</td>\n      <td>SEX_dis</td>\n      <td>0.012704</td>\n      <td>Baseline</td>\n    </tr>\n  </tbody>\n</table>\n</div>"
     },
     "execution_count": 7,
     "metadata": {},
     "output_type": "execute_result"
    }
   ],
   "source": [
    "all_subgroup_metrics_df.head(20)"
   ],
   "metadata": {
    "collapsed": false,
    "ExecuteTime": {
     "end_time": "2024-04-04T20:35:38.745169Z",
     "start_time": "2024-04-04T20:35:38.706397Z"
    }
   },
   "id": "b8530d0be25a23f8"
  },
  {
   "cell_type": "code",
   "execution_count": 8,
   "outputs": [
    {
     "data": {
      "text/plain": "                              Metric          Model_Name  \\\n0                Accuracy_Difference      LGBMClassifier   \n1   Aleatoric_Uncertainty_Difference      LGBMClassifier   \n2        Aleatoric_Uncertainty_Ratio      LGBMClassifier   \n3   Epistemic_Uncertainty_Difference      LGBMClassifier   \n4        Epistemic_Uncertainty_Ratio      LGBMClassifier   \n5                 Equalized_Odds_FNR      LGBMClassifier   \n6                 Equalized_Odds_FPR      LGBMClassifier   \n7                     IQR_Difference      LGBMClassifier   \n8                  Jitter_Difference      LGBMClassifier   \n9              Label_Stability_Ratio      LGBMClassifier   \n10        Label_Stability_Difference      LGBMClassifier   \n11    Overall_Uncertainty_Difference      LGBMClassifier   \n12         Overall_Uncertainty_Ratio      LGBMClassifier   \n13     Statistical_Parity_Difference      LGBMClassifier   \n14                  Disparate_Impact      LGBMClassifier   \n15                    Std_Difference      LGBMClassifier   \n16                         Std_Ratio      LGBMClassifier   \n17                Equalized_Odds_TNR      LGBMClassifier   \n18                Equalized_Odds_TPR      LGBMClassifier   \n19               Accuracy_Difference  LogisticRegression   \n\n                 Dataset_Name Fairness_Intervention Experiment_Iteration  \\\n0   Folktables_GA_2018_Income              Baseline           Exp_iter_1   \n1   Folktables_GA_2018_Income              Baseline           Exp_iter_1   \n2   Folktables_GA_2018_Income              Baseline           Exp_iter_1   \n3   Folktables_GA_2018_Income              Baseline           Exp_iter_1   \n4   Folktables_GA_2018_Income              Baseline           Exp_iter_1   \n5   Folktables_GA_2018_Income              Baseline           Exp_iter_1   \n6   Folktables_GA_2018_Income              Baseline           Exp_iter_1   \n7   Folktables_GA_2018_Income              Baseline           Exp_iter_1   \n8   Folktables_GA_2018_Income              Baseline           Exp_iter_1   \n9   Folktables_GA_2018_Income              Baseline           Exp_iter_1   \n10  Folktables_GA_2018_Income              Baseline           Exp_iter_1   \n11  Folktables_GA_2018_Income              Baseline           Exp_iter_1   \n12  Folktables_GA_2018_Income              Baseline           Exp_iter_1   \n13  Folktables_GA_2018_Income              Baseline           Exp_iter_1   \n14  Folktables_GA_2018_Income              Baseline           Exp_iter_1   \n15  Folktables_GA_2018_Income              Baseline           Exp_iter_1   \n16  Folktables_GA_2018_Income              Baseline           Exp_iter_1   \n17  Folktables_GA_2018_Income              Baseline           Exp_iter_1   \n18  Folktables_GA_2018_Income              Baseline           Exp_iter_1   \n19  Folktables_GA_2018_Income              Baseline           Exp_iter_1   \n\n   Group  Metric_Value  \n0    SEX      0.046051  \n1    SEX     -0.039453  \n2    SEX      0.937821  \n3    SEX      0.000196  \n4    SEX      1.015684  \n5    SEX      0.029783  \n6    SEX     -0.038663  \n7    SEX     -0.001807  \n8    SEX     -0.005488  \n9    SEX      1.006402  \n10   SEX      0.005820  \n11   SEX     -0.039257  \n12   SEX      0.939326  \n13   SEX     -0.104245  \n14   SEX      0.706763  \n15   SEX     -0.001342  \n16   SEX      0.972660  \n17   SEX      0.038663  \n18   SEX     -0.029783  \n19   SEX      0.042669  ",
      "text/html": "<div>\n<style scoped>\n    .dataframe tbody tr th:only-of-type {\n        vertical-align: middle;\n    }\n\n    .dataframe tbody tr th {\n        vertical-align: top;\n    }\n\n    .dataframe thead th {\n        text-align: right;\n    }\n</style>\n<table border=\"1\" class=\"dataframe\">\n  <thead>\n    <tr style=\"text-align: right;\">\n      <th></th>\n      <th>Metric</th>\n      <th>Model_Name</th>\n      <th>Dataset_Name</th>\n      <th>Fairness_Intervention</th>\n      <th>Experiment_Iteration</th>\n      <th>Group</th>\n      <th>Metric_Value</th>\n    </tr>\n  </thead>\n  <tbody>\n    <tr>\n      <th>0</th>\n      <td>Accuracy_Difference</td>\n      <td>LGBMClassifier</td>\n      <td>Folktables_GA_2018_Income</td>\n      <td>Baseline</td>\n      <td>Exp_iter_1</td>\n      <td>SEX</td>\n      <td>0.046051</td>\n    </tr>\n    <tr>\n      <th>1</th>\n      <td>Aleatoric_Uncertainty_Difference</td>\n      <td>LGBMClassifier</td>\n      <td>Folktables_GA_2018_Income</td>\n      <td>Baseline</td>\n      <td>Exp_iter_1</td>\n      <td>SEX</td>\n      <td>-0.039453</td>\n    </tr>\n    <tr>\n      <th>2</th>\n      <td>Aleatoric_Uncertainty_Ratio</td>\n      <td>LGBMClassifier</td>\n      <td>Folktables_GA_2018_Income</td>\n      <td>Baseline</td>\n      <td>Exp_iter_1</td>\n      <td>SEX</td>\n      <td>0.937821</td>\n    </tr>\n    <tr>\n      <th>3</th>\n      <td>Epistemic_Uncertainty_Difference</td>\n      <td>LGBMClassifier</td>\n      <td>Folktables_GA_2018_Income</td>\n      <td>Baseline</td>\n      <td>Exp_iter_1</td>\n      <td>SEX</td>\n      <td>0.000196</td>\n    </tr>\n    <tr>\n      <th>4</th>\n      <td>Epistemic_Uncertainty_Ratio</td>\n      <td>LGBMClassifier</td>\n      <td>Folktables_GA_2018_Income</td>\n      <td>Baseline</td>\n      <td>Exp_iter_1</td>\n      <td>SEX</td>\n      <td>1.015684</td>\n    </tr>\n    <tr>\n      <th>5</th>\n      <td>Equalized_Odds_FNR</td>\n      <td>LGBMClassifier</td>\n      <td>Folktables_GA_2018_Income</td>\n      <td>Baseline</td>\n      <td>Exp_iter_1</td>\n      <td>SEX</td>\n      <td>0.029783</td>\n    </tr>\n    <tr>\n      <th>6</th>\n      <td>Equalized_Odds_FPR</td>\n      <td>LGBMClassifier</td>\n      <td>Folktables_GA_2018_Income</td>\n      <td>Baseline</td>\n      <td>Exp_iter_1</td>\n      <td>SEX</td>\n      <td>-0.038663</td>\n    </tr>\n    <tr>\n      <th>7</th>\n      <td>IQR_Difference</td>\n      <td>LGBMClassifier</td>\n      <td>Folktables_GA_2018_Income</td>\n      <td>Baseline</td>\n      <td>Exp_iter_1</td>\n      <td>SEX</td>\n      <td>-0.001807</td>\n    </tr>\n    <tr>\n      <th>8</th>\n      <td>Jitter_Difference</td>\n      <td>LGBMClassifier</td>\n      <td>Folktables_GA_2018_Income</td>\n      <td>Baseline</td>\n      <td>Exp_iter_1</td>\n      <td>SEX</td>\n      <td>-0.005488</td>\n    </tr>\n    <tr>\n      <th>9</th>\n      <td>Label_Stability_Ratio</td>\n      <td>LGBMClassifier</td>\n      <td>Folktables_GA_2018_Income</td>\n      <td>Baseline</td>\n      <td>Exp_iter_1</td>\n      <td>SEX</td>\n      <td>1.006402</td>\n    </tr>\n    <tr>\n      <th>10</th>\n      <td>Label_Stability_Difference</td>\n      <td>LGBMClassifier</td>\n      <td>Folktables_GA_2018_Income</td>\n      <td>Baseline</td>\n      <td>Exp_iter_1</td>\n      <td>SEX</td>\n      <td>0.005820</td>\n    </tr>\n    <tr>\n      <th>11</th>\n      <td>Overall_Uncertainty_Difference</td>\n      <td>LGBMClassifier</td>\n      <td>Folktables_GA_2018_Income</td>\n      <td>Baseline</td>\n      <td>Exp_iter_1</td>\n      <td>SEX</td>\n      <td>-0.039257</td>\n    </tr>\n    <tr>\n      <th>12</th>\n      <td>Overall_Uncertainty_Ratio</td>\n      <td>LGBMClassifier</td>\n      <td>Folktables_GA_2018_Income</td>\n      <td>Baseline</td>\n      <td>Exp_iter_1</td>\n      <td>SEX</td>\n      <td>0.939326</td>\n    </tr>\n    <tr>\n      <th>13</th>\n      <td>Statistical_Parity_Difference</td>\n      <td>LGBMClassifier</td>\n      <td>Folktables_GA_2018_Income</td>\n      <td>Baseline</td>\n      <td>Exp_iter_1</td>\n      <td>SEX</td>\n      <td>-0.104245</td>\n    </tr>\n    <tr>\n      <th>14</th>\n      <td>Disparate_Impact</td>\n      <td>LGBMClassifier</td>\n      <td>Folktables_GA_2018_Income</td>\n      <td>Baseline</td>\n      <td>Exp_iter_1</td>\n      <td>SEX</td>\n      <td>0.706763</td>\n    </tr>\n    <tr>\n      <th>15</th>\n      <td>Std_Difference</td>\n      <td>LGBMClassifier</td>\n      <td>Folktables_GA_2018_Income</td>\n      <td>Baseline</td>\n      <td>Exp_iter_1</td>\n      <td>SEX</td>\n      <td>-0.001342</td>\n    </tr>\n    <tr>\n      <th>16</th>\n      <td>Std_Ratio</td>\n      <td>LGBMClassifier</td>\n      <td>Folktables_GA_2018_Income</td>\n      <td>Baseline</td>\n      <td>Exp_iter_1</td>\n      <td>SEX</td>\n      <td>0.972660</td>\n    </tr>\n    <tr>\n      <th>17</th>\n      <td>Equalized_Odds_TNR</td>\n      <td>LGBMClassifier</td>\n      <td>Folktables_GA_2018_Income</td>\n      <td>Baseline</td>\n      <td>Exp_iter_1</td>\n      <td>SEX</td>\n      <td>0.038663</td>\n    </tr>\n    <tr>\n      <th>18</th>\n      <td>Equalized_Odds_TPR</td>\n      <td>LGBMClassifier</td>\n      <td>Folktables_GA_2018_Income</td>\n      <td>Baseline</td>\n      <td>Exp_iter_1</td>\n      <td>SEX</td>\n      <td>-0.029783</td>\n    </tr>\n    <tr>\n      <th>19</th>\n      <td>Accuracy_Difference</td>\n      <td>LogisticRegression</td>\n      <td>Folktables_GA_2018_Income</td>\n      <td>Baseline</td>\n      <td>Exp_iter_1</td>\n      <td>SEX</td>\n      <td>0.042669</td>\n    </tr>\n  </tbody>\n</table>\n</div>"
     },
     "execution_count": 8,
     "metadata": {},
     "output_type": "execute_result"
    }
   ],
   "source": [
    "all_group_metrics_df.head(20)"
   ],
   "metadata": {
    "collapsed": false,
    "ExecuteTime": {
     "end_time": "2024-04-04T20:35:38.776062Z",
     "start_time": "2024-04-04T20:35:38.743880Z"
    }
   },
   "id": "4466294174ea3d7c"
  },
  {
   "cell_type": "code",
   "execution_count": 9,
   "outputs": [
    {
     "data": {
      "text/plain": "array(['IQR', 'Mean_Prediction', 'Overall_Uncertainty',\n       'Aleatoric_Uncertainty', 'Epistemic_Uncertainty', 'PPV', 'FPR',\n       'Label_Stability', 'FNR', 'F1', 'Positive-Rate', 'Std', 'TNR',\n       'Accuracy', 'Selection-Rate', 'TPR', 'Statistical_Bias', 'Jitter'],\n      dtype=object)"
     },
     "execution_count": 9,
     "metadata": {},
     "output_type": "execute_result"
    }
   ],
   "source": [
    "all_subgroup_metrics_df['Metric'].unique()"
   ],
   "metadata": {
    "collapsed": false,
    "ExecuteTime": {
     "end_time": "2024-04-04T20:35:38.893937Z",
     "start_time": "2024-04-04T20:35:38.772887Z"
    }
   },
   "id": "f34893a5476fc419"
  },
  {
   "cell_type": "code",
   "execution_count": 10,
   "outputs": [
    {
     "data": {
      "text/plain": "array(['Accuracy_Difference', 'Aleatoric_Uncertainty_Difference',\n       'Aleatoric_Uncertainty_Ratio', 'Epistemic_Uncertainty_Difference',\n       'Epistemic_Uncertainty_Ratio', 'Equalized_Odds_FNR',\n       'Equalized_Odds_FPR', 'IQR_Difference', 'Jitter_Difference',\n       'Label_Stability_Ratio', 'Label_Stability_Difference',\n       'Overall_Uncertainty_Difference', 'Overall_Uncertainty_Ratio',\n       'Statistical_Parity_Difference', 'Disparate_Impact',\n       'Std_Difference', 'Std_Ratio', 'Equalized_Odds_TNR',\n       'Equalized_Odds_TPR'], dtype=object)"
     },
     "execution_count": 10,
     "metadata": {},
     "output_type": "execute_result"
    }
   ],
   "source": [
    "all_group_metrics_df['Metric'].unique()"
   ],
   "metadata": {
    "collapsed": false,
    "ExecuteTime": {
     "end_time": "2024-04-04T20:35:38.894807Z",
     "start_time": "2024-04-04T20:35:38.808229Z"
    }
   },
   "id": "6a761ee986d8c457"
  },
  {
   "cell_type": "code",
   "execution_count": 11,
   "outputs": [],
   "source": [
    "all_subgroup_metrics_df.to_csv('./results/diff_fairness_interventions_subgroup_metrics.csv', header=True, index=False)\n",
    "all_group_metrics_df.to_csv('./results/diff_fairness_interventions_group_metrics.csv', header=True, index=False)"
   ],
   "metadata": {
    "collapsed": false,
    "ExecuteTime": {
     "end_time": "2024-04-04T20:35:39.616311Z",
     "start_time": "2024-04-04T20:35:38.833606Z"
    }
   },
   "id": "62279e10ff913355"
  },
  {
   "cell_type": "markdown",
   "source": [
    "## Metric Visualizations"
   ],
   "metadata": {
    "collapsed": false
   },
   "id": "3a479516acefba91"
  },
  {
   "cell_type": "code",
   "execution_count": 11,
   "outputs": [],
   "source": [],
   "metadata": {
    "collapsed": false,
    "ExecuteTime": {
     "end_time": "2024-04-04T20:35:39.616577Z",
     "start_time": "2024-04-04T20:35:39.600021Z"
    }
   },
   "id": "b788ab94406e4ac1"
  }
 ],
 "metadata": {
  "kernelspec": {
   "display_name": "Python 3",
   "language": "python",
   "name": "python3"
  },
  "language_info": {
   "codemirror_mode": {
    "name": "ipython",
    "version": 2
   },
   "file_extension": ".py",
   "mimetype": "text/x-python",
   "name": "python",
   "nbconvert_exporter": "python",
   "pygments_lexer": "ipython2",
   "version": "2.7.6"
  }
 },
 "nbformat": 4,
 "nbformat_minor": 5
}
