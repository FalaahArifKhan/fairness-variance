{
 "cells": [
  {
   "cell_type": "code",
   "execution_count": 1,
   "id": "5c0af0c6",
   "metadata": {
    "ExecuteTime": {
     "end_time": "2024-03-04T22:47:02.042412Z",
     "start_time": "2024-03-04T22:47:02.014880Z"
    }
   },
   "outputs": [],
   "source": [
    "# !pip install -r ./requirements.txt"
   ]
  },
  {
   "cell_type": "code",
   "execution_count": 2,
   "id": "fb27268a",
   "metadata": {
    "ExecuteTime": {
     "end_time": "2024-03-04T22:47:02.042724Z",
     "start_time": "2024-03-04T22:47:02.017181Z"
    }
   },
   "outputs": [],
   "source": [
    "# !pip uninstall virny -y"
   ]
  },
  {
   "cell_type": "code",
   "execution_count": 3,
   "id": "9094c498",
   "metadata": {
    "ExecuteTime": {
     "end_time": "2024-03-04T22:47:02.042859Z",
     "start_time": "2024-03-04T22:47:02.018164Z"
    }
   },
   "outputs": [],
   "source": [
    "# Install using an HTTP link\n",
    "# !pip install git+https://github.com/DataResponsibly/Virny.git@feature/add_meta_learner_computation_mode\n",
    "\n",
    "# Install using an SSH link\n",
    "# !pip install git+ssh://git@github.com/DataResponsibly/Virny.git@feature/add_meta_learner_computation_mode"
   ]
  },
  {
   "cell_type": "code",
   "execution_count": 4,
   "id": "040d8b71",
   "metadata": {
    "ExecuteTime": {
     "end_time": "2024-03-04T22:47:02.404159Z",
     "start_time": "2024-03-04T22:47:02.019702Z"
    }
   },
   "outputs": [],
   "source": [
    "%matplotlib inline\n",
    "%load_ext autoreload\n",
    "%autoreload 2"
   ]
  },
  {
   "cell_type": "code",
   "execution_count": 5,
   "id": "85601d17",
   "metadata": {
    "ExecuteTime": {
     "end_time": "2024-03-04T22:47:02.417867Z",
     "start_time": "2024-03-04T22:47:02.406522Z"
    }
   },
   "outputs": [],
   "source": [
    "import os\n",
    "import warnings\n",
    "warnings.filterwarnings('ignore')\n",
    "os.environ[\"PYTHONWARNINGS\"] = \"ignore\""
   ]
  },
  {
   "cell_type": "code",
   "execution_count": 6,
   "id": "48e0651d",
   "metadata": {
    "ExecuteTime": {
     "end_time": "2024-03-04T22:47:02.430233Z",
     "start_time": "2024-03-04T22:47:02.416775Z"
    }
   },
   "outputs": [
    {
     "name": "stdout",
     "output_type": "stream",
     "text": [
      "Current location:  /Users/denys_herasymuk/UCU/4course_2term/Bachelor_Thesis/Code/fairness-variance\n"
     ]
    }
   ],
   "source": [
    "cur_folder_name = os.getcwd().split('/')[-1]\n",
    "if cur_folder_name != \"fairness-variance\":\n",
    "    os.chdir(\"../../..\")\n",
    "\n",
    "print('Current location: ', os.getcwd())"
   ]
  },
  {
   "cell_type": "markdown",
   "id": "345b2f8a",
   "metadata": {},
   "source": [
    "## Import dependencies"
   ]
  },
  {
   "cell_type": "code",
   "execution_count": 7,
   "id": "ae36bf7d",
   "metadata": {
    "ExecuteTime": {
     "end_time": "2024-03-04T22:47:07.893721Z",
     "start_time": "2024-03-04T22:47:02.427599Z"
    }
   },
   "outputs": [
    {
     "name": "stderr",
     "output_type": "stream",
     "text": [
      "WARNING:root:No module named 'tempeh': LawSchoolGPADataset will be unavailable. To install, run:\n",
      "pip install 'aif360[LawSchoolGPA]'\n"
     ]
    }
   ],
   "source": [
    "import copy\n",
    "\n",
    "from virny.utils.custom_initializers import create_config_obj\n",
    "from virny.datasets import LawSchoolDataset\n",
    "\n",
    "from configs.constants import TEST_SET_FRACTION, EXPERIMENT_SEEDS\n",
    "from configs.models_config_for_tuning import get_folktables_employment_models_params_for_tuning\n",
    "\n",
    "from source.experiment_interface import run_exp_iter_with_disparate_impact"
   ]
  },
  {
   "cell_type": "markdown",
   "id": "2a55e611",
   "metadata": {},
   "source": [
    "## Define Input Variables"
   ]
  },
  {
   "cell_type": "code",
   "execution_count": 8,
   "id": "414813d0",
   "metadata": {
    "ExecuteTime": {
     "end_time": "2024-03-04T22:47:07.936810Z",
     "start_time": "2024-03-04T22:47:07.894785Z"
    }
   },
   "outputs": [],
   "source": [
    "ROOT_DIR = os.getcwd()\n",
    "EXPERIMENT_NAME = 'law_school'\n",
    "DB_COLLECTION_NAME = 'one_repair_lvl_many_models'\n",
    "FAIR_INTERVENTION_PARAMS_LST = [0.0]\n",
    "SAVE_RESULTS_DIR_PATH = os.path.join(ROOT_DIR, 'results', 'test_meta_learner', EXPERIMENT_NAME)\n",
    "\n",
    "config_yaml_path = os.path.join(ROOT_DIR, 'notebooks', 'test_meta_learner', EXPERIMENT_NAME, 'law_school_config.yaml')\n",
    "metrics_computation_config = create_config_obj(config_yaml_path=config_yaml_path)"
   ]
  },
  {
   "cell_type": "markdown",
   "id": "c6a2072b",
   "metadata": {},
   "source": [
    "## Define a db writer and custom fields to insert into your database"
   ]
  },
  {
   "cell_type": "code",
   "execution_count": 9,
   "id": "dba6d939",
   "metadata": {
    "ExecuteTime": {
     "end_time": "2024-03-04T22:47:07.982012Z",
     "start_time": "2024-03-04T22:47:07.937307Z"
    }
   },
   "outputs": [
    {
     "data": {
      "text/plain": "'fairness_variance'"
     },
     "execution_count": 9,
     "metadata": {},
     "output_type": "execute_result"
    }
   ],
   "source": [
    "import os\n",
    "from dotenv import load_dotenv\n",
    "\n",
    "load_dotenv('./configs/secrets.env')\n",
    "os.getenv(\"DB_NAME\")"
   ]
  },
  {
   "cell_type": "code",
   "execution_count": 10,
   "id": "197629de",
   "metadata": {
    "ExecuteTime": {
     "end_time": "2024-03-04T22:47:08.264345Z",
     "start_time": "2024-03-04T22:47:07.979897Z"
    }
   },
   "outputs": [],
   "source": [
    "from source.utils.db_functions import connect_to_mongodb\n",
    "\n",
    "client, collection_obj, db_writer_func = connect_to_mongodb(DB_COLLECTION_NAME)"
   ]
  },
  {
   "cell_type": "code",
   "execution_count": 11,
   "id": "bcf765f9",
   "metadata": {
    "ExecuteTime": {
     "end_time": "2024-03-04T22:47:08.318048Z",
     "start_time": "2024-03-04T22:47:08.266378Z"
    }
   },
   "outputs": [
    {
     "name": "stdout",
     "output_type": "stream",
     "text": [
      "Current session uuid:  9c3f16a8-fc31-4bb1-b6a8-c535326d57d4\n"
     ]
    }
   ],
   "source": [
    "import uuid\n",
    "\n",
    "custom_table_fields_dct = {\n",
    "    # 'session_uuid': str(uuid.uuid4()),\n",
    "    'session_uuid': '9c3f16a8-fc31-4bb1-b6a8-c535326d57d4',\n",
    "}\n",
    "print('Current session uuid: ', custom_table_fields_dct['session_uuid'])"
   ]
  },
  {
   "cell_type": "markdown",
   "id": "17bd13ba",
   "metadata": {},
   "source": [
    "## Initialize custom objects"
   ]
  },
  {
   "cell_type": "code",
   "execution_count": 12,
   "id": "95a804f3",
   "metadata": {
    "ExecuteTime": {
     "end_time": "2024-03-04T22:47:08.405355Z",
     "start_time": "2024-03-04T22:47:08.315844Z"
    }
   },
   "outputs": [
    {
     "data": {
      "text/plain": "   decile1b  decile3  lsat  ugpa  zfygpa  zgpa fulltime fam_inc male tier  \\\n0      10.0     10.0  44.0   3.5    1.33  1.88      1.0     5.0  0.0  4.0   \n1       5.0      4.0  29.0   3.5   -0.11 -0.57      1.0     4.0  0.0  2.0   \n2       8.0      7.0  37.0   3.4    0.63  0.37      1.0     3.0  1.0  4.0   \n3       8.0      7.0  43.0   3.3    0.67  0.34      1.0     4.0  0.0  4.0   \n4       3.0      2.0  41.0   3.3   -0.67 -1.30      1.0     4.0  0.0  5.0   \n\n    race  \n0  White  \n1  White  \n2  White  \n3  White  \n4  White  ",
      "text/html": "<div>\n<style scoped>\n    .dataframe tbody tr th:only-of-type {\n        vertical-align: middle;\n    }\n\n    .dataframe tbody tr th {\n        vertical-align: top;\n    }\n\n    .dataframe thead th {\n        text-align: right;\n    }\n</style>\n<table border=\"1\" class=\"dataframe\">\n  <thead>\n    <tr style=\"text-align: right;\">\n      <th></th>\n      <th>decile1b</th>\n      <th>decile3</th>\n      <th>lsat</th>\n      <th>ugpa</th>\n      <th>zfygpa</th>\n      <th>zgpa</th>\n      <th>fulltime</th>\n      <th>fam_inc</th>\n      <th>male</th>\n      <th>tier</th>\n      <th>race</th>\n    </tr>\n  </thead>\n  <tbody>\n    <tr>\n      <th>0</th>\n      <td>10.0</td>\n      <td>10.0</td>\n      <td>44.0</td>\n      <td>3.5</td>\n      <td>1.33</td>\n      <td>1.88</td>\n      <td>1.0</td>\n      <td>5.0</td>\n      <td>0.0</td>\n      <td>4.0</td>\n      <td>White</td>\n    </tr>\n    <tr>\n      <th>1</th>\n      <td>5.0</td>\n      <td>4.0</td>\n      <td>29.0</td>\n      <td>3.5</td>\n      <td>-0.11</td>\n      <td>-0.57</td>\n      <td>1.0</td>\n      <td>4.0</td>\n      <td>0.0</td>\n      <td>2.0</td>\n      <td>White</td>\n    </tr>\n    <tr>\n      <th>2</th>\n      <td>8.0</td>\n      <td>7.0</td>\n      <td>37.0</td>\n      <td>3.4</td>\n      <td>0.63</td>\n      <td>0.37</td>\n      <td>1.0</td>\n      <td>3.0</td>\n      <td>1.0</td>\n      <td>4.0</td>\n      <td>White</td>\n    </tr>\n    <tr>\n      <th>3</th>\n      <td>8.0</td>\n      <td>7.0</td>\n      <td>43.0</td>\n      <td>3.3</td>\n      <td>0.67</td>\n      <td>0.34</td>\n      <td>1.0</td>\n      <td>4.0</td>\n      <td>0.0</td>\n      <td>4.0</td>\n      <td>White</td>\n    </tr>\n    <tr>\n      <th>4</th>\n      <td>3.0</td>\n      <td>2.0</td>\n      <td>41.0</td>\n      <td>3.3</td>\n      <td>-0.67</td>\n      <td>-1.30</td>\n      <td>1.0</td>\n      <td>4.0</td>\n      <td>0.0</td>\n      <td>5.0</td>\n      <td>White</td>\n    </tr>\n  </tbody>\n</table>\n</div>"
     },
     "execution_count": 12,
     "metadata": {},
     "output_type": "execute_result"
    }
   ],
   "source": [
    "data_loader = LawSchoolDataset()\n",
    "data_loader.X_data.head()"
   ]
  },
  {
   "cell_type": "code",
   "execution_count": 13,
   "id": "2042867d",
   "metadata": {
    "ExecuteTime": {
     "end_time": "2024-03-04T22:47:08.492332Z",
     "start_time": "2024-03-04T22:47:08.405482Z"
    }
   },
   "outputs": [
    {
     "data": {
      "text/plain": "(20798, 11)"
     },
     "execution_count": 13,
     "metadata": {},
     "output_type": "execute_result"
    }
   ],
   "source": [
    "data_loader.X_data.shape"
   ]
  },
  {
   "cell_type": "markdown",
   "id": "a6aa50ed",
   "metadata": {},
   "source": [
    "## Run experiment iterations"
   ]
  },
  {
   "cell_type": "markdown",
   "id": "e933f251",
   "metadata": {},
   "source": [
    "### Experiment iteration 1"
   ]
  },
  {
   "cell_type": "code",
   "execution_count": 14,
   "id": "72fe833a",
   "metadata": {
    "ExecuteTime": {
     "end_time": "2024-03-04T22:47:08.494965Z",
     "start_time": "2024-03-04T22:47:08.447464Z"
    }
   },
   "outputs": [],
   "source": [
    "tuned_params_filenames = [\n",
    "    'tuning_results_Law_School_alpha_0.0.csv'\n",
    "]\n",
    "tuned_params_df_paths = [os.path.join(ROOT_DIR, 'results', 'test_meta_learner', EXPERIMENT_NAME, tuned_params_filename)\n",
    "                         for tuned_params_filename in tuned_params_filenames]"
   ]
  },
  {
   "cell_type": "code",
   "execution_count": 15,
   "id": "a59e0dc6",
   "metadata": {
    "ExecuteTime": {
     "end_time": "2024-03-04T22:47:08.540367Z",
     "start_time": "2024-03-04T22:47:08.487577Z"
    }
   },
   "outputs": [],
   "source": [
    "# Configs for an experiment iteration\n",
    "exp_iter_num = 1\n",
    "experiment_seed = EXPERIMENT_SEEDS[exp_iter_num - 1]\n",
    "custom_table_fields_dct['experiment_iteration'] = f'Exp_iter_{exp_iter_num}'\n",
    "\n",
    "exp_iter_data_loader = copy.deepcopy(data_loader)  # Add deepcopy to avoid data leakage\n",
    "models_params_for_tuning = get_folktables_employment_models_params_for_tuning(experiment_seed)\n",
    "models_params_for_tuning = {\n",
    "    'LogisticRegression': models_params_for_tuning['LogisticRegression']\n",
    "}"
   ]
  },
  {
   "cell_type": "code",
   "execution_count": 16,
   "id": "9d429c81",
   "metadata": {
    "ExecuteTime": {
     "end_time": "2024-03-04T22:57:31.184043Z",
     "start_time": "2024-03-04T22:47:08.528968Z"
    }
   },
   "outputs": [
    {
     "name": "stderr",
     "output_type": "stream",
     "text": [
      "2024-03-05 00:47:08 experiment_interface.py INFO    : Start an experiment iteration for the following custom params:\n"
     ]
    },
    {
     "name": "stdout",
     "output_type": "stream",
     "text": [
      "{'dataset_split_seed': 100,\n",
      " 'experiment_iteration': 'Exp_iter_1',\n",
      " 'fair_intervention_params_lst': '[0.0]',\n",
      " 'model_init_seed': 100,\n",
      " 'session_uuid': '9c3f16a8-fc31-4bb1-b6a8-c535326d57d4'}\n"
     ]
    },
    {
     "data": {
      "text/plain": "Multiple alphas:   0%|          | 0/1 [00:00<?, ?it/s]",
      "application/vnd.jupyter.widget-view+json": {
       "version_major": 2,
       "version_minor": 0,
       "model_id": "5e24e07d1d804e17a6d45dceeaa16a71"
      }
     },
     "metadata": {},
     "output_type": "display_data"
    },
    {
     "name": "stderr",
     "output_type": "stream",
     "text": [
      "2024-03-05 00:47:08 experiment_interface.py INFO    : The dataset is preprocessed\n",
      "2024-03-05 00:47:08 experiment_interface.py INFO    : Models config is loaded from the input file\n"
     ]
    },
    {
     "name": "stdout",
     "output_type": "stream",
     "text": [
      "intervention_param:  0.0\n",
      "Skip preprocessing\n",
      "cur_base_flow_dataset.X_train_val.columns:  Index(['cat__fulltime_1.0', 'cat__fulltime_2.0', 'cat__fam_inc_1.0',\n",
      "       'cat__fam_inc_2.0', 'cat__fam_inc_3.0', 'cat__fam_inc_4.0',\n",
      "       'cat__fam_inc_5.0', 'cat__tier_1.0', 'cat__tier_2.0', 'cat__tier_3.0',\n",
      "       'cat__tier_4.0', 'cat__tier_5.0', 'cat__tier_6.0', 'num__decile1b',\n",
      "       'num__decile3', 'num__lsat', 'num__ugpa', 'num__zfygpa', 'num__zgpa'],\n",
      "      dtype='object')\n",
      "Top indexes of an X_test in the current base flow dataset:  Int64Index([ 7102,   593, 18841,  5078, 14172,  8064, 13554, 13401, 17015,\n",
      "            18446,  6938,  3450,  9375, 19994, 16100,  4401,   142, 15143,\n",
      "             2188,  4332],\n",
      "           dtype='int64')\n",
      "Top indexes of an y_test in the current base flow dataset:  Int64Index([ 7102,   593, 18841,  5078, 14172,  8064, 13554, 13401, 17015,\n",
      "            18446,  6938,  3450,  9375, 19994, 16100,  4401,   142, 15143,\n",
      "             2188,  4332],\n",
      "           dtype='int64')\n",
      "Path for tuned params:  /Users/denys_herasymuk/UCU/4course_2term/Bachelor_Thesis/Code/fairness-variance/results/test_meta_learner/law_school/tuning_results_Law_School_alpha_0.0.csv\n",
      "LogisticRegression:  {'C': 1, 'class_weight': None, 'dual': False, 'fit_intercept': True, 'intercept_scaling': 1, 'l1_ratio': None, 'max_iter': 1000, 'multi_class': 'auto', 'n_jobs': None, 'penalty': 'l1', 'random_state': 100, 'solver': 'saga', 'tol': 0.0001, 'verbose': 0, 'warm_start': False}\n"
     ]
    },
    {
     "data": {
      "text/plain": "Analyze multiple models:   0%|          | 0/1 [00:00<?, ?it/s]",
      "application/vnd.jupyter.widget-view+json": {
       "version_major": 2,
       "version_minor": 0,
       "model_id": "c7cb74299fb14291bf1ed18cd9e03e11"
      }
     },
     "metadata": {},
     "output_type": "display_data"
    },
    {
     "name": "stdout",
     "output_type": "stream",
     "text": [
      "Enabled a 'meta_learner' mode\n",
      "self.y_pred_test.index[:10] --  Int64Index([7102, 593, 18841, 5078, 14172, 8064, 13554, 13401, 17015, 18446], dtype='int64')\n",
      "self.error_test.index[:10] --  Int64Index([7102, 593, 18841, 5078, 14172, 8064, 13554, 13401, 17015, 18446], dtype='int64')\n",
      "[Voting] ................... (1 of 10) Processing gbt-1, total=  46.0s\n",
      "[Voting] ................... (2 of 10) Processing gbt-2, total=  42.0s\n",
      "[Voting] ................... (3 of 10) Processing gbt-3, total=  41.4s\n",
      "[Voting] ................... (4 of 10) Processing gbt-4, total= 1.0min\n",
      "[Voting] ................... (5 of 10) Processing gbt-5, total= 1.2min\n",
      "[Voting] ................... (6 of 10) Processing gbt-6, total= 1.1min\n",
      "[Voting] ................... (7 of 10) Processing gbt-7, total= 1.2min\n",
      "[Voting] ................... (8 of 10) Processing gbt-8, total= 1.3min\n",
      "[Voting] ................... (9 of 10) Processing gbt-9, total= 1.1min\n",
      "[Voting] ................. (10 of 10) Processing gbt-10, total= 1.2min\n",
      "\n",
      "\n",
      "Best params for estimators in the meta-learner ensemble\n",
      "gbt-1: {'max_depth': 4, 'n_estimators': 100, 'subsample': 0.75}\n",
      "gbt-2: {'max_depth': 4, 'n_estimators': 100, 'subsample': 0.5}\n",
      "gbt-3: {'max_depth': 4, 'n_estimators': 100, 'subsample': 0.5}\n",
      "gbt-4: {'max_depth': 4, 'n_estimators': 100, 'subsample': 0.5}\n",
      "gbt-5: {'max_depth': 4, 'n_estimators': 100, 'subsample': 0.5}\n",
      "gbt-6: {'max_depth': 4, 'n_estimators': 100, 'subsample': 0.75}\n",
      "gbt-7: {'max_depth': 4, 'n_estimators': 100, 'subsample': 0.5}\n",
      "gbt-8: {'max_depth': 4, 'n_estimators': 100, 'subsample': 0.75}\n",
      "gbt-9: {'max_depth': 5, 'n_estimators': 100, 'subsample': 0.75}\n",
      "gbt-10: {'max_depth': 4, 'n_estimators': 100, 'subsample': 0.75}\n"
     ]
    }
   ],
   "source": [
    "run_exp_iter_with_disparate_impact(data_loader=exp_iter_data_loader,\n",
    "                                   experiment_seed=experiment_seed,\n",
    "                                   test_set_fraction=TEST_SET_FRACTION,\n",
    "                                   db_writer_func=db_writer_func,\n",
    "                                   fair_intervention_params_lst=FAIR_INTERVENTION_PARAMS_LST,\n",
    "                                   models_params_for_tuning=models_params_for_tuning,\n",
    "                                   metrics_computation_config=metrics_computation_config,\n",
    "                                   custom_table_fields_dct=custom_table_fields_dct,\n",
    "                                   # with_tuning=True,\n",
    "                                   with_tuning=False,\n",
    "                                   tuned_params_df_paths=tuned_params_df_paths,\n",
    "                                   save_results_dir_path=SAVE_RESULTS_DIR_PATH,\n",
    "                                   dataset_name='LawSchoolDataset',\n",
    "                                   verbose=True)"
   ]
  },
  {
   "cell_type": "markdown",
   "id": "dc876a4b",
   "metadata": {},
   "source": [
    "### Experiment iteration 2"
   ]
  },
  {
   "cell_type": "code",
   "execution_count": 17,
   "id": "bcd0259d",
   "metadata": {
    "ExecuteTime": {
     "end_time": "2024-03-04T22:57:31.253433Z",
     "start_time": "2024-03-04T22:57:31.190245Z"
    }
   },
   "outputs": [],
   "source": [
    "# Configs for an experiment iteration\n",
    "exp_iter_num = 2\n",
    "experiment_seed = EXPERIMENT_SEEDS[exp_iter_num - 1]\n",
    "tuned_params_filenames = [\n",
    "    'tuning_results_Law_School_alpha_0.0.csv'\n",
    "]\n",
    "tuned_params_df_paths = [os.path.join(ROOT_DIR, 'results', 'test_meta_learner', EXPERIMENT_NAME, tuned_params_filename)\n",
    "                         for tuned_params_filename in tuned_params_filenames]\n",
    "custom_table_fields_dct['experiment_iteration'] = f'Exp_iter_{exp_iter_num}'\n",
    "\n",
    "exp_iter_data_loader = copy.deepcopy(data_loader)  # Add deepcopy to avoid data leakage\n",
    "models_params_for_tuning = get_folktables_employment_models_params_for_tuning(experiment_seed)\n",
    "models_params_for_tuning = {\n",
    "    'LogisticRegression': models_params_for_tuning['LogisticRegression']\n",
    "}"
   ]
  },
  {
   "cell_type": "code",
   "execution_count": 18,
   "id": "bf9b9ca6",
   "metadata": {
    "ExecuteTime": {
     "end_time": "2024-03-04T23:06:27.583587Z",
     "start_time": "2024-03-04T22:57:31.253791Z"
    }
   },
   "outputs": [
    {
     "name": "stderr",
     "output_type": "stream",
     "text": [
      "2024-03-05 00:57:31 experiment_interface.py INFO    : Start an experiment iteration for the following custom params:\n"
     ]
    },
    {
     "name": "stdout",
     "output_type": "stream",
     "text": [
      "{'dataset_split_seed': 200,\n",
      " 'experiment_iteration': 'Exp_iter_2',\n",
      " 'fair_intervention_params_lst': '[0.0]',\n",
      " 'intervention_param': 0.0,\n",
      " 'model_init_seed': 200,\n",
      " 'run_start_date_time': datetime.datetime(2024, 3, 4, 22, 47, 8, 700069, tzinfo=datetime.timezone.utc),\n",
      " 'session_uuid': '9c3f16a8-fc31-4bb1-b6a8-c535326d57d4'}\n"
     ]
    },
    {
     "data": {
      "text/plain": "Multiple alphas:   0%|          | 0/1 [00:00<?, ?it/s]",
      "application/vnd.jupyter.widget-view+json": {
       "version_major": 2,
       "version_minor": 0,
       "model_id": "f4b52b416ec646bab18a2af20ce46fb3"
      }
     },
     "metadata": {},
     "output_type": "display_data"
    },
    {
     "name": "stderr",
     "output_type": "stream",
     "text": [
      "2024-03-05 00:57:31 experiment_interface.py INFO    : The dataset is preprocessed\n",
      "2024-03-05 00:57:31 experiment_interface.py INFO    : Models config is loaded from the input file\n"
     ]
    },
    {
     "name": "stdout",
     "output_type": "stream",
     "text": [
      "intervention_param:  0.0\n",
      "Skip preprocessing\n",
      "cur_base_flow_dataset.X_train_val.columns:  Index(['cat__fulltime_1.0', 'cat__fulltime_2.0', 'cat__fam_inc_1.0',\n",
      "       'cat__fam_inc_2.0', 'cat__fam_inc_3.0', 'cat__fam_inc_4.0',\n",
      "       'cat__fam_inc_5.0', 'cat__tier_1.0', 'cat__tier_2.0', 'cat__tier_3.0',\n",
      "       'cat__tier_4.0', 'cat__tier_5.0', 'cat__tier_6.0', 'num__decile1b',\n",
      "       'num__decile3', 'num__lsat', 'num__ugpa', 'num__zfygpa', 'num__zgpa'],\n",
      "      dtype='object')\n",
      "Top indexes of an X_test in the current base flow dataset:  Int64Index([11154,  2918,  4165, 16989, 11116, 18464,  5262,  2614, 11058,\n",
      "            14769, 11087, 10125, 19318, 10215, 10253,  7587,  2716,   577,\n",
      "             2257,  1011],\n",
      "           dtype='int64')\n",
      "Top indexes of an y_test in the current base flow dataset:  Int64Index([11154,  2918,  4165, 16989, 11116, 18464,  5262,  2614, 11058,\n",
      "            14769, 11087, 10125, 19318, 10215, 10253,  7587,  2716,   577,\n",
      "             2257,  1011],\n",
      "           dtype='int64')\n",
      "Path for tuned params:  /Users/denys_herasymuk/UCU/4course_2term/Bachelor_Thesis/Code/fairness-variance/results/test_meta_learner/law_school/tuning_results_Law_School_alpha_0.0.csv\n",
      "LogisticRegression:  {'C': 1, 'class_weight': None, 'dual': False, 'fit_intercept': True, 'intercept_scaling': 1, 'l1_ratio': None, 'max_iter': 1000, 'multi_class': 'auto', 'n_jobs': None, 'penalty': 'l1', 'random_state': 200, 'solver': 'saga', 'tol': 0.0001, 'verbose': 0, 'warm_start': False}\n"
     ]
    },
    {
     "data": {
      "text/plain": "Analyze multiple models:   0%|          | 0/1 [00:00<?, ?it/s]",
      "application/vnd.jupyter.widget-view+json": {
       "version_major": 2,
       "version_minor": 0,
       "model_id": "2cfff068b09a461b938acc8238a5eb9f"
      }
     },
     "metadata": {},
     "output_type": "display_data"
    },
    {
     "name": "stdout",
     "output_type": "stream",
     "text": [
      "Enabled a 'meta_learner' mode\n",
      "self.y_pred_test.index[:10] --  Int64Index([11154, 2918, 4165, 16989, 11116, 18464, 5262, 2614, 11058, 14769], dtype='int64')\n",
      "self.error_test.index[:10] --  Int64Index([11154, 2918, 4165, 16989, 11116, 18464, 5262, 2614, 11058, 14769], dtype='int64')\n",
      "[Voting] ................... (1 of 10) Processing gbt-1, total= 1.1min\n",
      "[Voting] ................... (2 of 10) Processing gbt-2, total= 1.1min\n",
      "[Voting] ................... (3 of 10) Processing gbt-3, total= 1.2min\n",
      "[Voting] ................... (4 of 10) Processing gbt-4, total= 1.1min\n",
      "[Voting] ................... (5 of 10) Processing gbt-5, total=  44.4s\n",
      "[Voting] ................... (6 of 10) Processing gbt-6, total=  43.1s\n",
      "[Voting] ................... (7 of 10) Processing gbt-7, total=  43.4s\n",
      "[Voting] ................... (8 of 10) Processing gbt-8, total=  43.3s\n",
      "[Voting] ................... (9 of 10) Processing gbt-9, total=  44.7s\n",
      "[Voting] ................. (10 of 10) Processing gbt-10, total=  43.2s\n",
      "\n",
      "\n",
      "Best params for estimators in the meta-learner ensemble\n",
      "gbt-1: {'max_depth': 4, 'n_estimators': 100, 'subsample': 0.75}\n",
      "gbt-2: {'max_depth': 4, 'n_estimators': 100, 'subsample': 0.75}\n",
      "gbt-3: {'max_depth': 4, 'n_estimators': 100, 'subsample': 0.75}\n",
      "gbt-4: {'max_depth': 4, 'n_estimators': 100, 'subsample': 0.75}\n",
      "gbt-5: {'max_depth': 4, 'n_estimators': 100, 'subsample': 0.75}\n",
      "gbt-6: {'max_depth': 4, 'n_estimators': 100, 'subsample': 0.75}\n",
      "gbt-7: {'max_depth': 4, 'n_estimators': 100, 'subsample': 0.75}\n",
      "gbt-8: {'max_depth': 4, 'n_estimators': 100, 'subsample': 0.75}\n",
      "gbt-9: {'max_depth': 4, 'n_estimators': 100, 'subsample': 0.75}\n",
      "gbt-10: {'max_depth': 4, 'n_estimators': 100, 'subsample': 0.75}\n"
     ]
    }
   ],
   "source": [
    "run_exp_iter_with_disparate_impact(data_loader=exp_iter_data_loader,\n",
    "                                   experiment_seed=experiment_seed,\n",
    "                                   test_set_fraction=TEST_SET_FRACTION,\n",
    "                                   db_writer_func=db_writer_func,\n",
    "                                   fair_intervention_params_lst=FAIR_INTERVENTION_PARAMS_LST,\n",
    "                                   models_params_for_tuning=models_params_for_tuning,\n",
    "                                   metrics_computation_config=metrics_computation_config,\n",
    "                                   custom_table_fields_dct=custom_table_fields_dct,\n",
    "                                   # with_tuning=True,\n",
    "                                   with_tuning=False,\n",
    "                                   tuned_params_df_paths=tuned_params_df_paths,\n",
    "                                   save_results_dir_path=SAVE_RESULTS_DIR_PATH,\n",
    "                                   dataset_name='LawSchoolDataset',\n",
    "                                   verbose=True)"
   ]
  },
  {
   "cell_type": "markdown",
   "id": "25dafe12",
   "metadata": {},
   "source": [
    "### Experiment iteration 3"
   ]
  },
  {
   "cell_type": "code",
   "execution_count": 19,
   "id": "663a7eaf",
   "metadata": {
    "ExecuteTime": {
     "end_time": "2024-03-04T23:06:27.644563Z",
     "start_time": "2024-03-04T23:06:27.584588Z"
    }
   },
   "outputs": [],
   "source": [
    "# Configs for an experiment iteration\n",
    "exp_iter_num = 3\n",
    "experiment_seed = EXPERIMENT_SEEDS[exp_iter_num - 1]\n",
    "tuned_params_filenames = [\n",
    "    'tuning_results_Law_School_alpha_0.0.csv'\n",
    "]\n",
    "tuned_params_df_paths = [os.path.join(ROOT_DIR, 'results', 'test_meta_learner', EXPERIMENT_NAME, tuned_params_filename)\n",
    "                         for tuned_params_filename in tuned_params_filenames]\n",
    "custom_table_fields_dct['experiment_iteration'] = f'Exp_iter_{exp_iter_num}'\n",
    "\n",
    "exp_iter_data_loader = copy.deepcopy(data_loader)  # Add deepcopy to avoid data leakage\n",
    "models_params_for_tuning = get_folktables_employment_models_params_for_tuning(experiment_seed)\n",
    "models_params_for_tuning = {\n",
    "    'LogisticRegression': models_params_for_tuning['LogisticRegression']\n",
    "}"
   ]
  },
  {
   "cell_type": "code",
   "execution_count": 20,
   "id": "39717477",
   "metadata": {
    "ExecuteTime": {
     "end_time": "2024-03-04T23:19:07.648328Z",
     "start_time": "2024-03-04T23:06:27.645490Z"
    }
   },
   "outputs": [
    {
     "name": "stderr",
     "output_type": "stream",
     "text": [
      "2024-03-05 01:06:27 experiment_interface.py INFO    : Start an experiment iteration for the following custom params:\n"
     ]
    },
    {
     "name": "stdout",
     "output_type": "stream",
     "text": [
      "{'dataset_split_seed': 300,\n",
      " 'experiment_iteration': 'Exp_iter_3',\n",
      " 'fair_intervention_params_lst': '[0.0]',\n",
      " 'intervention_param': 0.0,\n",
      " 'model_init_seed': 300,\n",
      " 'run_start_date_time': datetime.datetime(2024, 3, 4, 22, 57, 31, 449113, tzinfo=datetime.timezone.utc),\n",
      " 'session_uuid': '9c3f16a8-fc31-4bb1-b6a8-c535326d57d4'}\n"
     ]
    },
    {
     "data": {
      "text/plain": "Multiple alphas:   0%|          | 0/1 [00:00<?, ?it/s]",
      "application/vnd.jupyter.widget-view+json": {
       "version_major": 2,
       "version_minor": 0,
       "model_id": "bb8c80b175fa465cb09bc47e7725719a"
      }
     },
     "metadata": {},
     "output_type": "display_data"
    },
    {
     "name": "stderr",
     "output_type": "stream",
     "text": [
      "2024-03-05 01:06:27 experiment_interface.py INFO    : The dataset is preprocessed\n",
      "2024-03-05 01:06:27 experiment_interface.py INFO    : Models config is loaded from the input file\n"
     ]
    },
    {
     "name": "stdout",
     "output_type": "stream",
     "text": [
      "intervention_param:  0.0\n",
      "Skip preprocessing\n",
      "cur_base_flow_dataset.X_train_val.columns:  Index(['cat__fulltime_1.0', 'cat__fulltime_2.0', 'cat__fam_inc_1.0',\n",
      "       'cat__fam_inc_2.0', 'cat__fam_inc_3.0', 'cat__fam_inc_4.0',\n",
      "       'cat__fam_inc_5.0', 'cat__tier_1.0', 'cat__tier_2.0', 'cat__tier_3.0',\n",
      "       'cat__tier_4.0', 'cat__tier_5.0', 'cat__tier_6.0', 'num__decile1b',\n",
      "       'num__decile3', 'num__lsat', 'num__ugpa', 'num__zfygpa', 'num__zgpa'],\n",
      "      dtype='object')\n",
      "Top indexes of an X_test in the current base flow dataset:  Int64Index([19898, 14980, 13028,  5574, 17599,  3210, 11359, 19768, 19647,\n",
      "             5966, 12835,  9832,  4098,  6607, 11751,   861, 11502, 17873,\n",
      "            10882, 17470],\n",
      "           dtype='int64')\n",
      "Top indexes of an y_test in the current base flow dataset:  Int64Index([19898, 14980, 13028,  5574, 17599,  3210, 11359, 19768, 19647,\n",
      "             5966, 12835,  9832,  4098,  6607, 11751,   861, 11502, 17873,\n",
      "            10882, 17470],\n",
      "           dtype='int64')\n",
      "Path for tuned params:  /Users/denys_herasymuk/UCU/4course_2term/Bachelor_Thesis/Code/fairness-variance/results/test_meta_learner/law_school/tuning_results_Law_School_alpha_0.0.csv\n",
      "LogisticRegression:  {'C': 1, 'class_weight': None, 'dual': False, 'fit_intercept': True, 'intercept_scaling': 1, 'l1_ratio': None, 'max_iter': 1000, 'multi_class': 'auto', 'n_jobs': None, 'penalty': 'l1', 'random_state': 300, 'solver': 'saga', 'tol': 0.0001, 'verbose': 0, 'warm_start': False}\n"
     ]
    },
    {
     "data": {
      "text/plain": "Analyze multiple models:   0%|          | 0/1 [00:00<?, ?it/s]",
      "application/vnd.jupyter.widget-view+json": {
       "version_major": 2,
       "version_minor": 0,
       "model_id": "b44118d636534501aef7f8d670f0ea94"
      }
     },
     "metadata": {},
     "output_type": "display_data"
    },
    {
     "name": "stdout",
     "output_type": "stream",
     "text": [
      "Enabled a 'meta_learner' mode\n",
      "self.y_pred_test.index[:10] --  Int64Index([19898, 14980, 13028, 5574, 17599, 3210, 11359, 19768, 19647, 5966], dtype='int64')\n",
      "self.error_test.index[:10] --  Int64Index([19898, 14980, 13028, 5574, 17599, 3210, 11359, 19768, 19647, 5966], dtype='int64')\n",
      "[Voting] ................... (1 of 10) Processing gbt-1, total=  57.0s\n",
      "[Voting] ................... (2 of 10) Processing gbt-2, total= 1.5min\n",
      "[Voting] ................... (3 of 10) Processing gbt-3, total= 1.1min\n",
      "[Voting] ................... (4 of 10) Processing gbt-4, total= 1.5min\n",
      "[Voting] ................... (5 of 10) Processing gbt-5, total= 1.5min\n",
      "[Voting] ................... (6 of 10) Processing gbt-6, total= 1.3min\n",
      "[Voting] ................... (7 of 10) Processing gbt-7, total=  56.6s\n",
      "[Voting] ................... (8 of 10) Processing gbt-8, total=  56.4s\n",
      "[Voting] ................... (9 of 10) Processing gbt-9, total= 1.5min\n",
      "[Voting] ................. (10 of 10) Processing gbt-10, total= 1.5min\n",
      "\n",
      "\n",
      "Best params for estimators in the meta-learner ensemble\n",
      "gbt-1: {'max_depth': 4, 'n_estimators': 100, 'subsample': 0.75}\n",
      "gbt-2: {'max_depth': 4, 'n_estimators': 100, 'subsample': 0.75}\n",
      "gbt-3: {'max_depth': 4, 'n_estimators': 100, 'subsample': 0.5}\n",
      "gbt-4: {'max_depth': 4, 'n_estimators': 100, 'subsample': 0.75}\n",
      "gbt-5: {'max_depth': 4, 'n_estimators': 100, 'subsample': 0.75}\n",
      "gbt-6: {'max_depth': 4, 'n_estimators': 100, 'subsample': 0.75}\n",
      "gbt-7: {'max_depth': 4, 'n_estimators': 100, 'subsample': 0.75}\n",
      "gbt-8: {'max_depth': 4, 'n_estimators': 100, 'subsample': 0.75}\n",
      "gbt-9: {'max_depth': 4, 'n_estimators': 100, 'subsample': 0.5}\n",
      "gbt-10: {'max_depth': 4, 'n_estimators': 100, 'subsample': 0.75}\n"
     ]
    }
   ],
   "source": [
    "run_exp_iter_with_disparate_impact(data_loader=exp_iter_data_loader,\n",
    "                                   experiment_seed=experiment_seed,\n",
    "                                   test_set_fraction=TEST_SET_FRACTION,\n",
    "                                   db_writer_func=db_writer_func,\n",
    "                                   fair_intervention_params_lst=FAIR_INTERVENTION_PARAMS_LST,\n",
    "                                   models_params_for_tuning=models_params_for_tuning,\n",
    "                                   metrics_computation_config=metrics_computation_config,\n",
    "                                   custom_table_fields_dct=custom_table_fields_dct,\n",
    "                                   # with_tuning=True,\n",
    "                                   with_tuning=False,\n",
    "                                   tuned_params_df_paths=tuned_params_df_paths,\n",
    "                                   save_results_dir_path=SAVE_RESULTS_DIR_PATH,\n",
    "                                   dataset_name='LawSchoolDataset',\n",
    "                                   verbose=True)"
   ]
  },
  {
   "cell_type": "markdown",
   "id": "9c5499e9",
   "metadata": {},
   "source": [
    "### Experiment iteration 4"
   ]
  },
  {
   "cell_type": "code",
   "execution_count": 21,
   "id": "5e78a60b",
   "metadata": {
    "ExecuteTime": {
     "end_time": "2024-03-04T23:19:07.760022Z",
     "start_time": "2024-03-04T23:19:07.662424Z"
    }
   },
   "outputs": [],
   "source": [
    "# Configs for an experiment iteration\n",
    "exp_iter_num = 4\n",
    "experiment_seed = EXPERIMENT_SEEDS[exp_iter_num - 1]\n",
    "tuned_params_filenames = [\n",
    "    'tuning_results_Law_School_alpha_0.0.csv'\n",
    "]\n",
    "tuned_params_df_paths = [os.path.join(ROOT_DIR, 'results', 'test_meta_learner', EXPERIMENT_NAME, tuned_params_filename)\n",
    "                         for tuned_params_filename in tuned_params_filenames]\n",
    "custom_table_fields_dct['experiment_iteration'] = f'Exp_iter_{exp_iter_num}'\n",
    "\n",
    "exp_iter_data_loader = copy.deepcopy(data_loader)  # Add deepcopy to avoid data leakage\n",
    "models_params_for_tuning = get_folktables_employment_models_params_for_tuning(experiment_seed)\n",
    "models_params_for_tuning = {\n",
    "    'LogisticRegression': models_params_for_tuning['LogisticRegression']\n",
    "}"
   ]
  },
  {
   "cell_type": "code",
   "execution_count": 22,
   "id": "87bbbb74",
   "metadata": {
    "ExecuteTime": {
     "end_time": "2024-03-04T23:30:01.451847Z",
     "start_time": "2024-03-04T23:19:07.765568Z"
    }
   },
   "outputs": [
    {
     "name": "stderr",
     "output_type": "stream",
     "text": [
      "2024-03-05 01:19:07 experiment_interface.py INFO    : Start an experiment iteration for the following custom params:\n"
     ]
    },
    {
     "name": "stdout",
     "output_type": "stream",
     "text": [
      "{'dataset_split_seed': 400,\n",
      " 'experiment_iteration': 'Exp_iter_4',\n",
      " 'fair_intervention_params_lst': '[0.0]',\n",
      " 'intervention_param': 0.0,\n",
      " 'model_init_seed': 400,\n",
      " 'run_start_date_time': datetime.datetime(2024, 3, 4, 23, 6, 27, 790660, tzinfo=datetime.timezone.utc),\n",
      " 'session_uuid': '9c3f16a8-fc31-4bb1-b6a8-c535326d57d4'}\n"
     ]
    },
    {
     "data": {
      "text/plain": "Multiple alphas:   0%|          | 0/1 [00:00<?, ?it/s]",
      "application/vnd.jupyter.widget-view+json": {
       "version_major": 2,
       "version_minor": 0,
       "model_id": "d249d9f2aaa24a89b5255dbf5060ffe1"
      }
     },
     "metadata": {},
     "output_type": "display_data"
    },
    {
     "name": "stderr",
     "output_type": "stream",
     "text": [
      "2024-03-05 01:19:07 experiment_interface.py INFO    : The dataset is preprocessed\n",
      "2024-03-05 01:19:08 experiment_interface.py INFO    : Models config is loaded from the input file\n"
     ]
    },
    {
     "name": "stdout",
     "output_type": "stream",
     "text": [
      "intervention_param:  0.0\n",
      "Skip preprocessing\n",
      "cur_base_flow_dataset.X_train_val.columns:  Index(['cat__fulltime_1.0', 'cat__fulltime_2.0', 'cat__fam_inc_1.0',\n",
      "       'cat__fam_inc_2.0', 'cat__fam_inc_3.0', 'cat__fam_inc_4.0',\n",
      "       'cat__fam_inc_5.0', 'cat__tier_1.0', 'cat__tier_2.0', 'cat__tier_3.0',\n",
      "       'cat__tier_4.0', 'cat__tier_5.0', 'cat__tier_6.0', 'num__decile1b',\n",
      "       'num__decile3', 'num__lsat', 'num__ugpa', 'num__zfygpa', 'num__zgpa'],\n",
      "      dtype='object')\n",
      "Top indexes of an X_test in the current base flow dataset:  Int64Index([ 5178,  6668, 11759,   242, 15137, 15320, 16824, 15370, 10348,\n",
      "            18018,   684, 12169,   822,  4052,  5211,  8436,   126,  9549,\n",
      "            13980,   403],\n",
      "           dtype='int64')\n",
      "Top indexes of an y_test in the current base flow dataset:  Int64Index([ 5178,  6668, 11759,   242, 15137, 15320, 16824, 15370, 10348,\n",
      "            18018,   684, 12169,   822,  4052,  5211,  8436,   126,  9549,\n",
      "            13980,   403],\n",
      "           dtype='int64')\n",
      "Path for tuned params:  /Users/denys_herasymuk/UCU/4course_2term/Bachelor_Thesis/Code/fairness-variance/results/test_meta_learner/law_school/tuning_results_Law_School_alpha_0.0.csv\n",
      "LogisticRegression:  {'C': 1, 'class_weight': None, 'dual': False, 'fit_intercept': True, 'intercept_scaling': 1, 'l1_ratio': None, 'max_iter': 1000, 'multi_class': 'auto', 'n_jobs': None, 'penalty': 'l1', 'random_state': 400, 'solver': 'saga', 'tol': 0.0001, 'verbose': 0, 'warm_start': False}\n"
     ]
    },
    {
     "data": {
      "text/plain": "Analyze multiple models:   0%|          | 0/1 [00:00<?, ?it/s]",
      "application/vnd.jupyter.widget-view+json": {
       "version_major": 2,
       "version_minor": 0,
       "model_id": "83f96be955ea489e92bb2e4ec1b4b0c1"
      }
     },
     "metadata": {},
     "output_type": "display_data"
    },
    {
     "name": "stdout",
     "output_type": "stream",
     "text": [
      "Enabled a 'meta_learner' mode\n",
      "self.y_pred_test.index[:10] --  Int64Index([5178, 6668, 11759, 242, 15137, 15320, 16824, 15370, 10348, 18018], dtype='int64')\n",
      "self.error_test.index[:10] --  Int64Index([5178, 6668, 11759, 242, 15137, 15320, 16824, 15370, 10348, 18018], dtype='int64')\n",
      "[Voting] ................... (1 of 10) Processing gbt-1, total= 1.3min\n",
      "[Voting] ................... (2 of 10) Processing gbt-2, total=  58.9s\n",
      "[Voting] ................... (3 of 10) Processing gbt-3, total=  49.4s\n",
      "[Voting] ................... (4 of 10) Processing gbt-4, total=  46.2s\n",
      "[Voting] ................... (5 of 10) Processing gbt-5, total=  46.1s\n",
      "[Voting] ................... (6 of 10) Processing gbt-6, total= 1.0min\n",
      "[Voting] ................... (7 of 10) Processing gbt-7, total= 1.5min\n",
      "[Voting] ................... (8 of 10) Processing gbt-8, total= 1.5min\n",
      "[Voting] ................... (9 of 10) Processing gbt-9, total= 1.3min\n",
      "[Voting] ................. (10 of 10) Processing gbt-10, total=  56.8s\n",
      "\n",
      "\n",
      "Best params for estimators in the meta-learner ensemble\n",
      "gbt-1: {'max_depth': 4, 'n_estimators': 100, 'subsample': 0.75}\n",
      "gbt-2: {'max_depth': 4, 'n_estimators': 100, 'subsample': 0.75}\n",
      "gbt-3: {'max_depth': 4, 'n_estimators': 100, 'subsample': 0.75}\n",
      "gbt-4: {'max_depth': 4, 'n_estimators': 100, 'subsample': 0.75}\n",
      "gbt-5: {'max_depth': 4, 'n_estimators': 100, 'subsample': 0.75}\n",
      "gbt-6: {'max_depth': 5, 'n_estimators': 100, 'subsample': 0.75}\n",
      "gbt-7: {'max_depth': 4, 'n_estimators': 100, 'subsample': 0.5}\n",
      "gbt-8: {'max_depth': 4, 'n_estimators': 100, 'subsample': 0.5}\n",
      "gbt-9: {'max_depth': 4, 'n_estimators': 100, 'subsample': 0.75}\n",
      "gbt-10: {'max_depth': 4, 'n_estimators': 100, 'subsample': 0.5}\n"
     ]
    }
   ],
   "source": [
    "run_exp_iter_with_disparate_impact(data_loader=exp_iter_data_loader,\n",
    "                                   experiment_seed=experiment_seed,\n",
    "                                   test_set_fraction=TEST_SET_FRACTION,\n",
    "                                   db_writer_func=db_writer_func,\n",
    "                                   fair_intervention_params_lst=FAIR_INTERVENTION_PARAMS_LST,\n",
    "                                   models_params_for_tuning=models_params_for_tuning,\n",
    "                                   metrics_computation_config=metrics_computation_config,\n",
    "                                   custom_table_fields_dct=custom_table_fields_dct,\n",
    "                                   # with_tuning=True,\n",
    "                                   with_tuning=False,\n",
    "                                   tuned_params_df_paths=tuned_params_df_paths,\n",
    "                                   save_results_dir_path=SAVE_RESULTS_DIR_PATH,\n",
    "                                   dataset_name='LawSchoolDataset',\n",
    "                                   verbose=True)"
   ]
  },
  {
   "cell_type": "markdown",
   "id": "d1f96c80",
   "metadata": {},
   "source": [
    "### Experiment iteration 5"
   ]
  },
  {
   "cell_type": "code",
   "execution_count": 23,
   "id": "d1e1ff77",
   "metadata": {
    "ExecuteTime": {
     "end_time": "2024-03-04T23:30:01.516275Z",
     "start_time": "2024-03-04T23:30:01.471508Z"
    }
   },
   "outputs": [],
   "source": [
    "# Configs for an experiment iteration\n",
    "exp_iter_num = 5\n",
    "experiment_seed = EXPERIMENT_SEEDS[exp_iter_num - 1]\n",
    "tuned_params_filenames = [\n",
    "    'tuning_results_Law_School_alpha_0.0.csv'\n",
    "]\n",
    "tuned_params_df_paths = [os.path.join(ROOT_DIR, 'results', 'test_meta_learner', EXPERIMENT_NAME, tuned_params_filename)\n",
    "                         for tuned_params_filename in tuned_params_filenames]\n",
    "custom_table_fields_dct['experiment_iteration'] = f'Exp_iter_{exp_iter_num}'\n",
    "\n",
    "exp_iter_data_loader = copy.deepcopy(data_loader)  # Add deepcopy to avoid data leakage\n",
    "models_params_for_tuning = get_folktables_employment_models_params_for_tuning(experiment_seed)\n",
    "models_params_for_tuning = {\n",
    "    'LogisticRegression': models_params_for_tuning['LogisticRegression']\n",
    "}"
   ]
  },
  {
   "cell_type": "code",
   "execution_count": 24,
   "id": "3b62d86c",
   "metadata": {
    "ExecuteTime": {
     "end_time": "2024-03-04T23:40:16.494509Z",
     "start_time": "2024-03-04T23:30:01.515825Z"
    }
   },
   "outputs": [
    {
     "name": "stderr",
     "output_type": "stream",
     "text": [
      "2024-03-05 01:30:01 experiment_interface.py INFO    : Start an experiment iteration for the following custom params:\n"
     ]
    },
    {
     "name": "stdout",
     "output_type": "stream",
     "text": [
      "{'dataset_split_seed': 500,\n",
      " 'experiment_iteration': 'Exp_iter_5',\n",
      " 'fair_intervention_params_lst': '[0.0]',\n",
      " 'intervention_param': 0.0,\n",
      " 'model_init_seed': 500,\n",
      " 'run_start_date_time': datetime.datetime(2024, 3, 4, 23, 19, 8, 5657, tzinfo=datetime.timezone.utc),\n",
      " 'session_uuid': '9c3f16a8-fc31-4bb1-b6a8-c535326d57d4'}\n"
     ]
    },
    {
     "data": {
      "text/plain": "Multiple alphas:   0%|          | 0/1 [00:00<?, ?it/s]",
      "application/vnd.jupyter.widget-view+json": {
       "version_major": 2,
       "version_minor": 0,
       "model_id": "e7aa96a35a834109a5ebc6d4b14a2dfa"
      }
     },
     "metadata": {},
     "output_type": "display_data"
    },
    {
     "name": "stderr",
     "output_type": "stream",
     "text": [
      "2024-03-05 01:30:01 experiment_interface.py INFO    : The dataset is preprocessed\n",
      "2024-03-05 01:30:01 experiment_interface.py INFO    : Models config is loaded from the input file\n"
     ]
    },
    {
     "name": "stdout",
     "output_type": "stream",
     "text": [
      "intervention_param:  0.0\n",
      "Skip preprocessing\n",
      "cur_base_flow_dataset.X_train_val.columns:  Index(['cat__fulltime_1.0', 'cat__fulltime_2.0', 'cat__fam_inc_1.0',\n",
      "       'cat__fam_inc_2.0', 'cat__fam_inc_3.0', 'cat__fam_inc_4.0',\n",
      "       'cat__fam_inc_5.0', 'cat__tier_1.0', 'cat__tier_2.0', 'cat__tier_3.0',\n",
      "       'cat__tier_4.0', 'cat__tier_5.0', 'cat__tier_6.0', 'num__decile1b',\n",
      "       'num__decile3', 'num__lsat', 'num__ugpa', 'num__zfygpa', 'num__zgpa'],\n",
      "      dtype='object')\n",
      "Top indexes of an X_test in the current base flow dataset:  Int64Index([12269, 18551, 11422,  4842,  2061, 12046, 16727, 11861, 14580,\n",
      "            19701, 12917,  7538, 17610, 19120,  5581, 18072, 13209, 20500,\n",
      "            14741, 11309],\n",
      "           dtype='int64')\n",
      "Top indexes of an y_test in the current base flow dataset:  Int64Index([12269, 18551, 11422,  4842,  2061, 12046, 16727, 11861, 14580,\n",
      "            19701, 12917,  7538, 17610, 19120,  5581, 18072, 13209, 20500,\n",
      "            14741, 11309],\n",
      "           dtype='int64')\n",
      "Path for tuned params:  /Users/denys_herasymuk/UCU/4course_2term/Bachelor_Thesis/Code/fairness-variance/results/test_meta_learner/law_school/tuning_results_Law_School_alpha_0.0.csv\n",
      "LogisticRegression:  {'C': 1, 'class_weight': None, 'dual': False, 'fit_intercept': True, 'intercept_scaling': 1, 'l1_ratio': None, 'max_iter': 1000, 'multi_class': 'auto', 'n_jobs': None, 'penalty': 'l1', 'random_state': 500, 'solver': 'saga', 'tol': 0.0001, 'verbose': 0, 'warm_start': False}\n"
     ]
    },
    {
     "data": {
      "text/plain": "Analyze multiple models:   0%|          | 0/1 [00:00<?, ?it/s]",
      "application/vnd.jupyter.widget-view+json": {
       "version_major": 2,
       "version_minor": 0,
       "model_id": "63337c142f174cceb85825d21dcb6149"
      }
     },
     "metadata": {},
     "output_type": "display_data"
    },
    {
     "name": "stdout",
     "output_type": "stream",
     "text": [
      "Enabled a 'meta_learner' mode\n",
      "self.y_pred_test.index[:10] --  Int64Index([12269, 18551, 11422, 4842, 2061, 12046, 16727, 11861, 14580,\n",
      "            19701],\n",
      "           dtype='int64')\n",
      "self.error_test.index[:10] --  Int64Index([12269, 18551, 11422, 4842, 2061, 12046, 16727, 11861, 14580,\n",
      "            19701],\n",
      "           dtype='int64')\n",
      "[Voting] ................... (1 of 10) Processing gbt-1, total=  49.9s\n",
      "[Voting] ................... (2 of 10) Processing gbt-2, total=  46.4s\n",
      "[Voting] ................... (3 of 10) Processing gbt-3, total=  50.4s\n",
      "[Voting] ................... (4 of 10) Processing gbt-4, total= 1.5min\n",
      "[Voting] ................... (5 of 10) Processing gbt-5, total= 1.5min\n",
      "[Voting] ................... (6 of 10) Processing gbt-6, total= 1.3min\n",
      "[Voting] ................... (7 of 10) Processing gbt-7, total= 1.1min\n",
      "[Voting] ................... (8 of 10) Processing gbt-8, total=  51.7s\n",
      "[Voting] ................... (9 of 10) Processing gbt-9, total=  46.3s\n",
      "[Voting] ................. (10 of 10) Processing gbt-10, total=  47.4s\n",
      "\n",
      "\n",
      "Best params for estimators in the meta-learner ensemble\n",
      "gbt-1: {'max_depth': 4, 'n_estimators': 100, 'subsample': 0.5}\n",
      "gbt-2: {'max_depth': 4, 'n_estimators': 100, 'subsample': 0.75}\n",
      "gbt-3: {'max_depth': 4, 'n_estimators': 100, 'subsample': 0.75}\n",
      "gbt-4: {'max_depth': 4, 'n_estimators': 100, 'subsample': 0.5}\n",
      "gbt-5: {'max_depth': 4, 'n_estimators': 100, 'subsample': 0.75}\n",
      "gbt-6: {'max_depth': 4, 'n_estimators': 100, 'subsample': 0.75}\n",
      "gbt-7: {'max_depth': 4, 'n_estimators': 100, 'subsample': 0.5}\n",
      "gbt-8: {'max_depth': 4, 'n_estimators': 100, 'subsample': 0.75}\n",
      "gbt-9: {'max_depth': 4, 'n_estimators': 100, 'subsample': 0.5}\n",
      "gbt-10: {'max_depth': 4, 'n_estimators': 100, 'subsample': 0.75}\n"
     ]
    }
   ],
   "source": [
    "run_exp_iter_with_disparate_impact(data_loader=exp_iter_data_loader,\n",
    "                                   experiment_seed=experiment_seed,\n",
    "                                   test_set_fraction=TEST_SET_FRACTION,\n",
    "                                   db_writer_func=db_writer_func,\n",
    "                                   fair_intervention_params_lst=FAIR_INTERVENTION_PARAMS_LST,\n",
    "                                   models_params_for_tuning=models_params_for_tuning,\n",
    "                                   metrics_computation_config=metrics_computation_config,\n",
    "                                   custom_table_fields_dct=custom_table_fields_dct,\n",
    "                                   # with_tuning=True,\n",
    "                                   with_tuning=False,\n",
    "                                   tuned_params_df_paths=tuned_params_df_paths,\n",
    "                                   save_results_dir_path=SAVE_RESULTS_DIR_PATH,\n",
    "                                   dataset_name='LawSchoolDataset',\n",
    "                                   verbose=True)"
   ]
  },
  {
   "cell_type": "markdown",
   "id": "977e7e5e",
   "metadata": {},
   "source": [
    "### Experiment iteration 6"
   ]
  },
  {
   "cell_type": "code",
   "execution_count": 25,
   "id": "70050088",
   "metadata": {
    "ExecuteTime": {
     "end_time": "2024-03-04T23:40:16.542614Z",
     "start_time": "2024-03-04T23:40:16.502586Z"
    }
   },
   "outputs": [],
   "source": [
    "# Configs for an experiment iteration\n",
    "exp_iter_num = 6\n",
    "experiment_seed = EXPERIMENT_SEEDS[exp_iter_num - 1]\n",
    "tuned_params_filenames = [\n",
    "    'tuning_results_Law_School_alpha_0.0.csv'\n",
    "]\n",
    "tuned_params_df_paths = [os.path.join(ROOT_DIR, 'results', 'test_meta_learner', EXPERIMENT_NAME, tuned_params_filename)\n",
    "                         for tuned_params_filename in tuned_params_filenames]\n",
    "custom_table_fields_dct['experiment_iteration'] = f'Exp_iter_{exp_iter_num}'\n",
    "\n",
    "exp_iter_data_loader = copy.deepcopy(data_loader)  # Add deepcopy to avoid data leakage\n",
    "models_params_for_tuning = get_folktables_employment_models_params_for_tuning(experiment_seed)\n",
    "models_params_for_tuning = {\n",
    "    'LogisticRegression': models_params_for_tuning['LogisticRegression']\n",
    "}"
   ]
  },
  {
   "cell_type": "code",
   "execution_count": 26,
   "id": "e8d47024",
   "metadata": {
    "ExecuteTime": {
     "end_time": "2024-03-04T23:52:56.302431Z",
     "start_time": "2024-03-04T23:40:16.543242Z"
    }
   },
   "outputs": [
    {
     "name": "stderr",
     "output_type": "stream",
     "text": [
      "2024-03-05 01:40:16 experiment_interface.py INFO    : Start an experiment iteration for the following custom params:\n"
     ]
    },
    {
     "name": "stdout",
     "output_type": "stream",
     "text": [
      "{'dataset_split_seed': 600,\n",
      " 'experiment_iteration': 'Exp_iter_6',\n",
      " 'fair_intervention_params_lst': '[0.0]',\n",
      " 'intervention_param': 0.0,\n",
      " 'model_init_seed': 600,\n",
      " 'run_start_date_time': datetime.datetime(2024, 3, 4, 23, 30, 1, 690647, tzinfo=datetime.timezone.utc),\n",
      " 'session_uuid': '9c3f16a8-fc31-4bb1-b6a8-c535326d57d4'}\n"
     ]
    },
    {
     "data": {
      "text/plain": "Multiple alphas:   0%|          | 0/1 [00:00<?, ?it/s]",
      "application/vnd.jupyter.widget-view+json": {
       "version_major": 2,
       "version_minor": 0,
       "model_id": "2f74c89d51da46c79ca38cd65e8cc0f6"
      }
     },
     "metadata": {},
     "output_type": "display_data"
    },
    {
     "name": "stderr",
     "output_type": "stream",
     "text": [
      "2024-03-05 01:40:16 experiment_interface.py INFO    : The dataset is preprocessed\n",
      "2024-03-05 01:40:16 experiment_interface.py INFO    : Models config is loaded from the input file\n"
     ]
    },
    {
     "name": "stdout",
     "output_type": "stream",
     "text": [
      "intervention_param:  0.0\n",
      "Skip preprocessing\n",
      "cur_base_flow_dataset.X_train_val.columns:  Index(['cat__fulltime_1.0', 'cat__fulltime_2.0', 'cat__fam_inc_1.0',\n",
      "       'cat__fam_inc_2.0', 'cat__fam_inc_3.0', 'cat__fam_inc_4.0',\n",
      "       'cat__fam_inc_5.0', 'cat__tier_1.0', 'cat__tier_2.0', 'cat__tier_3.0',\n",
      "       'cat__tier_4.0', 'cat__tier_5.0', 'cat__tier_6.0', 'num__decile1b',\n",
      "       'num__decile3', 'num__lsat', 'num__ugpa', 'num__zfygpa', 'num__zgpa'],\n",
      "      dtype='object')\n",
      "Top indexes of an X_test in the current base flow dataset:  Int64Index([ 9347, 19474, 17223,  1292, 13480,  5501,  2413, 10309,  6657,\n",
      "            14802,  4565,  5107,  5436, 20504,  5959,  3443, 20524,  4751,\n",
      "            18806,   198],\n",
      "           dtype='int64')\n",
      "Top indexes of an y_test in the current base flow dataset:  Int64Index([ 9347, 19474, 17223,  1292, 13480,  5501,  2413, 10309,  6657,\n",
      "            14802,  4565,  5107,  5436, 20504,  5959,  3443, 20524,  4751,\n",
      "            18806,   198],\n",
      "           dtype='int64')\n",
      "Path for tuned params:  /Users/denys_herasymuk/UCU/4course_2term/Bachelor_Thesis/Code/fairness-variance/results/test_meta_learner/law_school/tuning_results_Law_School_alpha_0.0.csv\n",
      "LogisticRegression:  {'C': 1, 'class_weight': None, 'dual': False, 'fit_intercept': True, 'intercept_scaling': 1, 'l1_ratio': None, 'max_iter': 1000, 'multi_class': 'auto', 'n_jobs': None, 'penalty': 'l1', 'random_state': 600, 'solver': 'saga', 'tol': 0.0001, 'verbose': 0, 'warm_start': False}\n"
     ]
    },
    {
     "data": {
      "text/plain": "Analyze multiple models:   0%|          | 0/1 [00:00<?, ?it/s]",
      "application/vnd.jupyter.widget-view+json": {
       "version_major": 2,
       "version_minor": 0,
       "model_id": "79f7fd97bbcc4d2082f587fde63687d2"
      }
     },
     "metadata": {},
     "output_type": "display_data"
    },
    {
     "name": "stdout",
     "output_type": "stream",
     "text": [
      "Enabled a 'meta_learner' mode\n",
      "self.y_pred_test.index[:10] --  Int64Index([9347, 19474, 17223, 1292, 13480, 5501, 2413, 10309, 6657, 14802], dtype='int64')\n",
      "self.error_test.index[:10] --  Int64Index([9347, 19474, 17223, 1292, 13480, 5501, 2413, 10309, 6657, 14802], dtype='int64')\n",
      "[Voting] ................... (1 of 10) Processing gbt-1, total= 1.3min\n",
      "[Voting] ................... (2 of 10) Processing gbt-2, total= 1.5min\n",
      "[Voting] ................... (3 of 10) Processing gbt-3, total= 1.4min\n",
      "[Voting] ................... (4 of 10) Processing gbt-4, total= 1.2min\n",
      "[Voting] ................... (5 of 10) Processing gbt-5, total=  56.1s\n",
      "[Voting] ................... (6 of 10) Processing gbt-6, total= 1.3min\n",
      "[Voting] ................... (7 of 10) Processing gbt-7, total= 1.5min\n",
      "[Voting] ................... (8 of 10) Processing gbt-8, total= 1.4min\n",
      "[Voting] ................... (9 of 10) Processing gbt-9, total= 1.2min\n",
      "[Voting] ................. (10 of 10) Processing gbt-10, total=  53.3s\n",
      "\n",
      "\n",
      "Best params for estimators in the meta-learner ensemble\n",
      "gbt-1: {'max_depth': 4, 'n_estimators': 100, 'subsample': 0.75}\n",
      "gbt-2: {'max_depth': 4, 'n_estimators': 100, 'subsample': 0.75}\n",
      "gbt-3: {'max_depth': 4, 'n_estimators': 100, 'subsample': 0.75}\n",
      "gbt-4: {'max_depth': 4, 'n_estimators': 100, 'subsample': 0.5}\n",
      "gbt-5: {'max_depth': 4, 'n_estimators': 100, 'subsample': 0.75}\n",
      "gbt-6: {'max_depth': 4, 'n_estimators': 100, 'subsample': 0.75}\n",
      "gbt-7: {'max_depth': 4, 'n_estimators': 100, 'subsample': 0.75}\n",
      "gbt-8: {'max_depth': 4, 'n_estimators': 100, 'subsample': 0.75}\n",
      "gbt-9: {'max_depth': 4, 'n_estimators': 100, 'subsample': 0.75}\n",
      "gbt-10: {'max_depth': 4, 'n_estimators': 100, 'subsample': 0.5}\n"
     ]
    }
   ],
   "source": [
    "run_exp_iter_with_disparate_impact(data_loader=exp_iter_data_loader,\n",
    "                                   experiment_seed=experiment_seed,\n",
    "                                   test_set_fraction=TEST_SET_FRACTION,\n",
    "                                   db_writer_func=db_writer_func,\n",
    "                                   fair_intervention_params_lst=FAIR_INTERVENTION_PARAMS_LST,\n",
    "                                   models_params_for_tuning=models_params_for_tuning,\n",
    "                                   metrics_computation_config=metrics_computation_config,\n",
    "                                   custom_table_fields_dct=custom_table_fields_dct,\n",
    "                                   # with_tuning=True,\n",
    "                                   with_tuning=False,\n",
    "                                   tuned_params_df_paths=tuned_params_df_paths,\n",
    "                                   save_results_dir_path=SAVE_RESULTS_DIR_PATH,\n",
    "                                   dataset_name='LawSchoolDataset',\n",
    "                                   verbose=True)"
   ]
  },
  {
   "cell_type": "code",
   "execution_count": 26,
   "id": "ba3aca15",
   "metadata": {
    "ExecuteTime": {
     "end_time": "2024-03-04T23:52:56.305774Z",
     "start_time": "2024-03-04T23:52:56.304791Z"
    }
   },
   "outputs": [],
   "source": []
  }
 ],
 "metadata": {
  "kernelspec": {
   "display_name": "Python 3",
   "language": "python",
   "name": "python3"
  },
  "language_info": {
   "codemirror_mode": {
    "name": "ipython",
    "version": 3
   },
   "file_extension": ".py",
   "mimetype": "text/x-python",
   "name": "python",
   "nbconvert_exporter": "python",
   "pygments_lexer": "ipython3",
   "version": "3.8.5"
  }
 },
 "nbformat": 4,
 "nbformat_minor": 5
}
