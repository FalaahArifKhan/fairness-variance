{
 "cells": [
  {
   "cell_type": "code",
   "execution_count": 1,
   "id": "d78aeb7d",
   "metadata": {
    "ExecuteTime": {
     "end_time": "2024-03-05T00:03:28.370407Z",
     "start_time": "2024-03-05T00:03:28.326326Z"
    }
   },
   "outputs": [],
   "source": [
    "# !pip install -r ./requirements.txt"
   ]
  },
  {
   "cell_type": "code",
   "execution_count": 2,
   "id": "d706f602",
   "metadata": {
    "ExecuteTime": {
     "end_time": "2024-03-05T00:03:28.371654Z",
     "start_time": "2024-03-05T00:03:28.327944Z"
    }
   },
   "outputs": [],
   "source": [
    "# !pip uninstall virny -y"
   ]
  },
  {
   "cell_type": "code",
   "execution_count": 3,
   "id": "e89a5669",
   "metadata": {
    "ExecuteTime": {
     "end_time": "2024-03-05T00:03:28.371904Z",
     "start_time": "2024-03-05T00:03:28.330711Z"
    }
   },
   "outputs": [],
   "source": [
    "# Install using an HTTP link\n",
    "# !pip install git+https://github.com/DataResponsibly/Virny.git@feature/add_meta_learner_computation_mode\n",
    "\n",
    "# Install using an SSH link\n",
    "# !pip install git+ssh://git@github.com/DataResponsibly/Virny.git@feature/add_meta_learner_computation_mode"
   ]
  },
  {
   "cell_type": "code",
   "execution_count": 4,
   "id": "128eed2c",
   "metadata": {
    "ExecuteTime": {
     "end_time": "2024-03-05T00:03:28.764288Z",
     "start_time": "2024-03-05T00:03:28.336407Z"
    }
   },
   "outputs": [],
   "source": [
    "%matplotlib inline\n",
    "%load_ext autoreload\n",
    "%autoreload 2"
   ]
  },
  {
   "cell_type": "code",
   "execution_count": 5,
   "id": "6ed040a3",
   "metadata": {
    "ExecuteTime": {
     "end_time": "2024-03-05T00:03:28.777679Z",
     "start_time": "2024-03-05T00:03:28.762260Z"
    }
   },
   "outputs": [],
   "source": [
    "import os\n",
    "import warnings\n",
    "warnings.filterwarnings('ignore')\n",
    "os.environ[\"PYTHONWARNINGS\"] = \"ignore\""
   ]
  },
  {
   "cell_type": "code",
   "execution_count": 6,
   "id": "435ed8bd",
   "metadata": {
    "ExecuteTime": {
     "end_time": "2024-03-05T00:03:28.797989Z",
     "start_time": "2024-03-05T00:03:28.775102Z"
    }
   },
   "outputs": [
    {
     "name": "stdout",
     "output_type": "stream",
     "text": [
      "Current location:  /Users/denys_herasymuk/UCU/4course_2term/Bachelor_Thesis/Code/fairness-variance\n"
     ]
    }
   ],
   "source": [
    "cur_folder_name = os.getcwd().split('/')[-1]\n",
    "if cur_folder_name != \"fairness-variance\":\n",
    "    os.chdir(\"../../..\")\n",
    "\n",
    "print('Current location: ', os.getcwd())"
   ]
  },
  {
   "cell_type": "markdown",
   "id": "9d51bca1",
   "metadata": {},
   "source": [
    "## Import dependencies"
   ]
  },
  {
   "cell_type": "code",
   "execution_count": 7,
   "id": "9714b452",
   "metadata": {
    "ExecuteTime": {
     "end_time": "2024-03-05T00:03:34.602686Z",
     "start_time": "2024-03-05T00:03:28.788091Z"
    }
   },
   "outputs": [
    {
     "name": "stderr",
     "output_type": "stream",
     "text": [
      "WARNING:root:No module named 'tempeh': LawSchoolGPADataset will be unavailable. To install, run:\n",
      "pip install 'aif360[LawSchoolGPA]'\n"
     ]
    }
   ],
   "source": [
    "import copy\n",
    "\n",
    "from virny.utils.custom_initializers import create_config_obj\n",
    "from virny.datasets import ACSIncomeDataset\n",
    "\n",
    "from configs.constants import TEST_SET_FRACTION, EXPERIMENT_SEEDS\n",
    "from configs.models_config_for_tuning import get_folktables_employment_models_params_for_tuning\n",
    "\n",
    "from source.experiment_interface import run_exp_iter_with_disparate_impact"
   ]
  },
  {
   "cell_type": "markdown",
   "id": "cc384354",
   "metadata": {},
   "source": [
    "## Define Input Variables"
   ]
  },
  {
   "cell_type": "code",
   "execution_count": 8,
   "id": "4e66ac44",
   "metadata": {
    "ExecuteTime": {
     "end_time": "2024-03-05T00:03:34.650305Z",
     "start_time": "2024-03-05T00:03:34.603636Z"
    }
   },
   "outputs": [],
   "source": [
    "ROOT_DIR = os.getcwd()\n",
    "EXPERIMENT_NAME = 'acs_income'\n",
    "DB_COLLECTION_NAME = 'one_repair_lvl_many_models'\n",
    "FAIR_INTERVENTION_PARAMS_LST = [0.0]\n",
    "SAVE_RESULTS_DIR_PATH = os.path.join(ROOT_DIR, 'results', 'test_meta_learner', EXPERIMENT_NAME)\n",
    "\n",
    "config_yaml_path = os.path.join(ROOT_DIR, 'notebooks', 'test_meta_learner', EXPERIMENT_NAME, 'folk_GA_2018_config.yaml')\n",
    "metrics_computation_config = create_config_obj(config_yaml_path=config_yaml_path)"
   ]
  },
  {
   "cell_type": "markdown",
   "id": "0db425af",
   "metadata": {},
   "source": [
    "## Define a db writer and custom fields to insert into your database"
   ]
  },
  {
   "cell_type": "code",
   "execution_count": 9,
   "id": "6bf5b49a",
   "metadata": {
    "ExecuteTime": {
     "end_time": "2024-03-05T00:03:34.706613Z",
     "start_time": "2024-03-05T00:03:34.650901Z"
    }
   },
   "outputs": [
    {
     "data": {
      "text/plain": "'fairness_variance'"
     },
     "execution_count": 9,
     "metadata": {},
     "output_type": "execute_result"
    }
   ],
   "source": [
    "import os\n",
    "from dotenv import load_dotenv\n",
    "\n",
    "load_dotenv('./configs/secrets.env')\n",
    "os.getenv(\"DB_NAME\")"
   ]
  },
  {
   "cell_type": "code",
   "execution_count": 10,
   "id": "5e42af71",
   "metadata": {
    "ExecuteTime": {
     "end_time": "2024-03-05T00:03:34.946548Z",
     "start_time": "2024-03-05T00:03:34.702927Z"
    }
   },
   "outputs": [],
   "source": [
    "from source.utils.db_functions import connect_to_mongodb\n",
    "\n",
    "client, collection_obj, db_writer_func = connect_to_mongodb(DB_COLLECTION_NAME)"
   ]
  },
  {
   "cell_type": "code",
   "execution_count": 11,
   "id": "06e3ba9d",
   "metadata": {
    "ExecuteTime": {
     "end_time": "2024-03-05T00:03:34.995922Z",
     "start_time": "2024-03-05T00:03:34.947137Z"
    }
   },
   "outputs": [
    {
     "name": "stdout",
     "output_type": "stream",
     "text": [
      "Current session uuid:  8c9cf23a-9b8f-49fd-a7e2-270c2c3db69c\n"
     ]
    }
   ],
   "source": [
    "import uuid\n",
    "\n",
    "custom_table_fields_dct = {\n",
    "    # 'session_uuid': str(uuid.uuid4()),\n",
    "    'session_uuid': '8c9cf23a-9b8f-49fd-a7e2-270c2c3db69c',\n",
    "}\n",
    "print('Current session uuid: ', custom_table_fields_dct['session_uuid'])"
   ]
  },
  {
   "cell_type": "markdown",
   "id": "2f77d238",
   "metadata": {},
   "source": [
    "## Initialize custom objects"
   ]
  },
  {
   "cell_type": "code",
   "execution_count": 12,
   "id": "69534170",
   "metadata": {
    "ExecuteTime": {
     "end_time": "2024-03-05T00:03:36.455565Z",
     "start_time": "2024-03-05T00:03:34.992555Z"
    }
   },
   "outputs": [
    {
     "data": {
      "text/plain": "  SCHL COW MAR  OCCP POBP RELP SEX RAC1P  AGEP  WKHP\n0   23   7   3   230   36    0   1     1    55  55.0\n1   16   1   5  4110   13    2   2     1    20  35.0\n2   16   4   3  4130   51    0   2     1    59  30.0\n3   18   4   1  4020   13    0   1     2    43  40.0\n4   14   1   1  8300   20    1   2     2    33  20.0",
      "text/html": "<div>\n<style scoped>\n    .dataframe tbody tr th:only-of-type {\n        vertical-align: middle;\n    }\n\n    .dataframe tbody tr th {\n        vertical-align: top;\n    }\n\n    .dataframe thead th {\n        text-align: right;\n    }\n</style>\n<table border=\"1\" class=\"dataframe\">\n  <thead>\n    <tr style=\"text-align: right;\">\n      <th></th>\n      <th>SCHL</th>\n      <th>COW</th>\n      <th>MAR</th>\n      <th>OCCP</th>\n      <th>POBP</th>\n      <th>RELP</th>\n      <th>SEX</th>\n      <th>RAC1P</th>\n      <th>AGEP</th>\n      <th>WKHP</th>\n    </tr>\n  </thead>\n  <tbody>\n    <tr>\n      <th>0</th>\n      <td>23</td>\n      <td>7</td>\n      <td>3</td>\n      <td>230</td>\n      <td>36</td>\n      <td>0</td>\n      <td>1</td>\n      <td>1</td>\n      <td>55</td>\n      <td>55.0</td>\n    </tr>\n    <tr>\n      <th>1</th>\n      <td>16</td>\n      <td>1</td>\n      <td>5</td>\n      <td>4110</td>\n      <td>13</td>\n      <td>2</td>\n      <td>2</td>\n      <td>1</td>\n      <td>20</td>\n      <td>35.0</td>\n    </tr>\n    <tr>\n      <th>2</th>\n      <td>16</td>\n      <td>4</td>\n      <td>3</td>\n      <td>4130</td>\n      <td>51</td>\n      <td>0</td>\n      <td>2</td>\n      <td>1</td>\n      <td>59</td>\n      <td>30.0</td>\n    </tr>\n    <tr>\n      <th>3</th>\n      <td>18</td>\n      <td>4</td>\n      <td>1</td>\n      <td>4020</td>\n      <td>13</td>\n      <td>0</td>\n      <td>1</td>\n      <td>2</td>\n      <td>43</td>\n      <td>40.0</td>\n    </tr>\n    <tr>\n      <th>4</th>\n      <td>14</td>\n      <td>1</td>\n      <td>1</td>\n      <td>8300</td>\n      <td>20</td>\n      <td>1</td>\n      <td>2</td>\n      <td>2</td>\n      <td>33</td>\n      <td>20.0</td>\n    </tr>\n  </tbody>\n</table>\n</div>"
     },
     "execution_count": 12,
     "metadata": {},
     "output_type": "execute_result"
    }
   ],
   "source": [
    "data_loader = ACSIncomeDataset(state=['GA'], year=2018, with_nulls=False,\n",
    "                               subsample_size=15_000, subsample_seed=42)\n",
    "data_loader.X_data.head()"
   ]
  },
  {
   "cell_type": "code",
   "execution_count": 13,
   "id": "ba126e4e",
   "metadata": {
    "ExecuteTime": {
     "end_time": "2024-03-05T00:03:36.514465Z",
     "start_time": "2024-03-05T00:03:36.454517Z"
    }
   },
   "outputs": [
    {
     "data": {
      "text/plain": "(15000, 10)"
     },
     "execution_count": 13,
     "metadata": {},
     "output_type": "execute_result"
    }
   ],
   "source": [
    "data_loader.X_data.shape"
   ]
  },
  {
   "cell_type": "markdown",
   "id": "2f454a0b",
   "metadata": {},
   "source": [
    "## Run experiment iterations"
   ]
  },
  {
   "cell_type": "markdown",
   "id": "2a957b86",
   "metadata": {},
   "source": [
    "### Experiment iteration 1"
   ]
  },
  {
   "cell_type": "code",
   "execution_count": 14,
   "id": "12438df8",
   "metadata": {
    "ExecuteTime": {
     "end_time": "2024-03-05T00:03:36.561142Z",
     "start_time": "2024-03-05T00:03:36.498745Z"
    }
   },
   "outputs": [],
   "source": [
    "tuned_params_filenames = [\n",
    "    'tuning_results_Folktables_GA_2018_Income_alpha_0.0.csv'\n",
    "]\n",
    "tuned_params_df_paths = [os.path.join(ROOT_DIR, 'results', 'test_meta_learner', EXPERIMENT_NAME, tuned_params_filename)\n",
    "                         for tuned_params_filename in tuned_params_filenames]"
   ]
  },
  {
   "cell_type": "code",
   "execution_count": 15,
   "id": "dc6e1377",
   "metadata": {
    "ExecuteTime": {
     "end_time": "2024-03-05T00:03:36.585059Z",
     "start_time": "2024-03-05T00:03:36.540926Z"
    }
   },
   "outputs": [],
   "source": [
    "# Configs for an experiment iteration\n",
    "exp_iter_num = 1\n",
    "experiment_seed = EXPERIMENT_SEEDS[exp_iter_num - 1]\n",
    "custom_table_fields_dct['experiment_iteration'] = f'Exp_iter_{exp_iter_num}'\n",
    "\n",
    "exp_iter_data_loader = copy.deepcopy(data_loader)  # Add deepcopy to avoid data leakage\n",
    "models_params_for_tuning = get_folktables_employment_models_params_for_tuning(experiment_seed)\n",
    "models_params_for_tuning = {\n",
    "    'RandomForestClassifier': models_params_for_tuning['RandomForestClassifier']\n",
    "}"
   ]
  },
  {
   "cell_type": "code",
   "execution_count": 16,
   "id": "1783feb5",
   "metadata": {
    "ExecuteTime": {
     "end_time": "2024-03-05T01:09:40.162524Z",
     "start_time": "2024-03-05T00:03:36.585194Z"
    }
   },
   "outputs": [
    {
     "name": "stderr",
     "output_type": "stream",
     "text": [
      "2024-03-05 02:03:36 experiment_interface.py INFO    : Start an experiment iteration for the following custom params:\n"
     ]
    },
    {
     "name": "stdout",
     "output_type": "stream",
     "text": [
      "{'dataset_split_seed': 100,\n",
      " 'experiment_iteration': 'Exp_iter_1',\n",
      " 'fair_intervention_params_lst': '[0.0]',\n",
      " 'model_init_seed': 100,\n",
      " 'session_uuid': '8c9cf23a-9b8f-49fd-a7e2-270c2c3db69c'}\n"
     ]
    },
    {
     "data": {
      "text/plain": "Multiple alphas:   0%|          | 0/1 [00:00<?, ?it/s]",
      "application/vnd.jupyter.widget-view+json": {
       "version_major": 2,
       "version_minor": 0,
       "model_id": "f4609eec5afd4e00b7a1a1df78df147a"
      }
     },
     "metadata": {},
     "output_type": "display_data"
    },
    {
     "name": "stdout",
     "output_type": "stream",
     "text": [
      "intervention_param:  0.0\n"
     ]
    },
    {
     "name": "stderr",
     "output_type": "stream",
     "text": [
      "2024-03-05 02:03:36 experiment_interface.py INFO    : The dataset is preprocessed\n",
      "2024-03-05 02:03:36 experiment_interface.py INFO    : Models config is loaded from the input file\n"
     ]
    },
    {
     "name": "stdout",
     "output_type": "stream",
     "text": [
      "Skip preprocessing\n",
      "cur_base_flow_dataset.X_train_val.columns:  Index(['cat__SCHL_1', 'cat__SCHL_10', 'cat__SCHL_11', 'cat__SCHL_12',\n",
      "       'cat__SCHL_13', 'cat__SCHL_14', 'cat__SCHL_15', 'cat__SCHL_16',\n",
      "       'cat__SCHL_17', 'cat__SCHL_18',\n",
      "       ...\n",
      "       'cat__RELP_2', 'cat__RELP_3', 'cat__RELP_4', 'cat__RELP_5',\n",
      "       'cat__RELP_6', 'cat__RELP_7', 'cat__RELP_8', 'cat__RELP_9', 'num__AGEP',\n",
      "       'num__WKHP'],\n",
      "      dtype='object', length=723)\n",
      "Top indexes of an X_test in the current base flow dataset:  Int64Index([10155, 11689, 12599, 12193,  8678,  8217,  4670, 12087,  5235,\n",
      "             4189,  7278, 10642,  5284,  7002, 14642, 10594,  7701,  8686,\n",
      "             8665,  6253],\n",
      "           dtype='int64')\n",
      "Top indexes of an y_test in the current base flow dataset:  Int64Index([10155, 11689, 12599, 12193,  8678,  8217,  4670, 12087,  5235,\n",
      "             4189,  7278, 10642,  5284,  7002, 14642, 10594,  7701,  8686,\n",
      "             8665,  6253],\n",
      "           dtype='int64')\n",
      "Path for tuned params:  /Users/denys_herasymuk/UCU/4course_2term/Bachelor_Thesis/Code/fairness-variance/results/test_meta_learner/acs_income/tuning_results_Folktables_GA_2018_Income_alpha_0.0.csv\n",
      "RandomForestClassifier:  {'bootstrap': True, 'ccp_alpha': 0.0, 'class_weight': None, 'criterion': 'gini', 'max_depth': 100, 'max_features': 'sqrt', 'max_leaf_nodes': None, 'max_samples': None, 'min_impurity_decrease': 0.0, 'min_samples_leaf': 1, 'min_samples_split': 10, 'min_weight_fraction_leaf': 0.0, 'n_estimators': 100, 'n_jobs': None, 'oob_score': False, 'random_state': 100, 'verbose': 0, 'warm_start': False}\n"
     ]
    },
    {
     "data": {
      "text/plain": "Analyze multiple models:   0%|          | 0/1 [00:00<?, ?it/s]",
      "application/vnd.jupyter.widget-view+json": {
       "version_major": 2,
       "version_minor": 0,
       "model_id": "045673c4995f42ee981faa60428561c3"
      }
     },
     "metadata": {},
     "output_type": "display_data"
    },
    {
     "name": "stdout",
     "output_type": "stream",
     "text": [
      "Enabled a 'meta_learner' mode\n",
      "self.y_pred_test.index[:10] --  Int64Index([10155, 11689, 12599, 12193, 8678, 8217, 4670, 12087, 5235, 4189], dtype='int64')\n",
      "self.error_test.index[:10] --  Int64Index([10155, 11689, 12599, 12193, 8678, 8217, 4670, 12087, 5235, 4189], dtype='int64')\n",
      "[Voting] ................... (1 of 10) Processing gbt-1, total= 7.4min\n",
      "[Voting] ................... (2 of 10) Processing gbt-2, total= 7.0min\n",
      "[Voting] ................... (3 of 10) Processing gbt-3, total= 6.0min\n",
      "[Voting] ................... (4 of 10) Processing gbt-4, total= 7.0min\n",
      "[Voting] ................... (5 of 10) Processing gbt-5, total= 6.7min\n",
      "[Voting] ................... (6 of 10) Processing gbt-6, total= 5.0min\n",
      "[Voting] ................... (7 of 10) Processing gbt-7, total= 6.6min\n",
      "[Voting] ................... (8 of 10) Processing gbt-8, total= 6.6min\n",
      "[Voting] ................... (9 of 10) Processing gbt-9, total= 7.0min\n",
      "[Voting] ................. (10 of 10) Processing gbt-10, total= 6.6min\n",
      "\n",
      "\n",
      "Best params for estimators in the meta-learner ensemble\n",
      "gbt-1: {'max_depth': 6, 'n_estimators': 500, 'subsample': 0.75}\n",
      "gbt-2: {'max_depth': 6, 'n_estimators': 500, 'subsample': 0.75}\n",
      "gbt-3: {'max_depth': 5, 'n_estimators': 500, 'subsample': 0.75}\n",
      "gbt-4: {'max_depth': 6, 'n_estimators': 500, 'subsample': 0.75}\n",
      "gbt-5: {'max_depth': 6, 'n_estimators': 500, 'subsample': 0.75}\n",
      "gbt-6: {'max_depth': 6, 'n_estimators': 100, 'subsample': 0.75}\n",
      "gbt-7: {'max_depth': 6, 'n_estimators': 500, 'subsample': 0.75}\n",
      "gbt-8: {'max_depth': 6, 'n_estimators': 500, 'subsample': 0.75}\n",
      "gbt-9: {'max_depth': 5, 'n_estimators': 500, 'subsample': 0.75}\n",
      "gbt-10: {'max_depth': 6, 'n_estimators': 500, 'subsample': 0.75}\n"
     ]
    }
   ],
   "source": [
    "run_exp_iter_with_disparate_impact(data_loader=exp_iter_data_loader,\n",
    "                                   experiment_seed=experiment_seed,\n",
    "                                   test_set_fraction=TEST_SET_FRACTION,\n",
    "                                   db_writer_func=db_writer_func,\n",
    "                                   fair_intervention_params_lst=FAIR_INTERVENTION_PARAMS_LST,\n",
    "                                   models_params_for_tuning=models_params_for_tuning,\n",
    "                                   metrics_computation_config=metrics_computation_config,\n",
    "                                   custom_table_fields_dct=custom_table_fields_dct,\n",
    "                                   # with_tuning=True,\n",
    "                                   with_tuning=False,\n",
    "                                   tuned_params_df_paths=tuned_params_df_paths,\n",
    "                                   save_results_dir_path=SAVE_RESULTS_DIR_PATH,\n",
    "                                   dataset_name='ACSIncomeDataset',\n",
    "                                   verbose=True)"
   ]
  },
  {
   "cell_type": "markdown",
   "id": "302369cc",
   "metadata": {},
   "source": [
    "### Experiment iteration 2"
   ]
  },
  {
   "cell_type": "code",
   "execution_count": 17,
   "id": "e8a5b441",
   "metadata": {
    "ExecuteTime": {
     "end_time": "2024-03-05T01:09:40.267901Z",
     "start_time": "2024-03-05T01:09:40.169323Z"
    }
   },
   "outputs": [],
   "source": [
    "# Configs for an experiment iteration\n",
    "exp_iter_num = 2\n",
    "experiment_seed = EXPERIMENT_SEEDS[exp_iter_num - 1]\n",
    "tuned_params_filenames = [\n",
    "    'tuning_results_Folktables_GA_2018_Income_alpha_0.0.csv'\n",
    "]\n",
    "tuned_params_df_paths = [os.path.join(ROOT_DIR, 'results', 'test_meta_learner', EXPERIMENT_NAME, tuned_params_filename)\n",
    "                         for tuned_params_filename in tuned_params_filenames]\n",
    "custom_table_fields_dct['experiment_iteration'] = f'Exp_iter_{exp_iter_num}'\n",
    "\n",
    "exp_iter_data_loader = copy.deepcopy(data_loader)  # Add deepcopy to avoid data leakage\n",
    "models_params_for_tuning = get_folktables_employment_models_params_for_tuning(experiment_seed)\n",
    "models_params_for_tuning = {\n",
    "    'RandomForestClassifier': models_params_for_tuning['RandomForestClassifier']\n",
    "}"
   ]
  },
  {
   "cell_type": "code",
   "execution_count": 18,
   "id": "c780e803",
   "metadata": {
    "ExecuteTime": {
     "end_time": "2024-03-05T02:09:24.793145Z",
     "start_time": "2024-03-05T01:09:40.261835Z"
    }
   },
   "outputs": [
    {
     "name": "stderr",
     "output_type": "stream",
     "text": [
      "2024-03-05 03:09:40 experiment_interface.py INFO    : Start an experiment iteration for the following custom params:\n"
     ]
    },
    {
     "name": "stdout",
     "output_type": "stream",
     "text": [
      "{'dataset_split_seed': 200,\n",
      " 'experiment_iteration': 'Exp_iter_2',\n",
      " 'fair_intervention_params_lst': '[0.0]',\n",
      " 'intervention_param': 0.0,\n",
      " 'model_init_seed': 200,\n",
      " 'run_start_date_time': datetime.datetime(2024, 3, 5, 0, 3, 36, 875294, tzinfo=datetime.timezone.utc),\n",
      " 'session_uuid': '8c9cf23a-9b8f-49fd-a7e2-270c2c3db69c'}\n"
     ]
    },
    {
     "data": {
      "text/plain": "Multiple alphas:   0%|          | 0/1 [00:00<?, ?it/s]",
      "application/vnd.jupyter.widget-view+json": {
       "version_major": 2,
       "version_minor": 0,
       "model_id": "ef9fdf1f982940368d5d3a3b04fb8834"
      }
     },
     "metadata": {},
     "output_type": "display_data"
    },
    {
     "name": "stderr",
     "output_type": "stream",
     "text": [
      "2024-03-05 03:09:40 experiment_interface.py INFO    : The dataset is preprocessed\n",
      "2024-03-05 03:09:40 experiment_interface.py INFO    : Models config is loaded from the input file\n"
     ]
    },
    {
     "name": "stdout",
     "output_type": "stream",
     "text": [
      "intervention_param:  0.0\n",
      "Skip preprocessing\n",
      "cur_base_flow_dataset.X_train_val.columns:  Index(['cat__SCHL_1', 'cat__SCHL_10', 'cat__SCHL_11', 'cat__SCHL_12',\n",
      "       'cat__SCHL_13', 'cat__SCHL_14', 'cat__SCHL_15', 'cat__SCHL_16',\n",
      "       'cat__SCHL_17', 'cat__SCHL_18',\n",
      "       ...\n",
      "       'cat__RELP_2', 'cat__RELP_3', 'cat__RELP_4', 'cat__RELP_5',\n",
      "       'cat__RELP_6', 'cat__RELP_7', 'cat__RELP_8', 'cat__RELP_9', 'num__AGEP',\n",
      "       'num__WKHP'],\n",
      "      dtype='object', length=729)\n",
      "Top indexes of an X_test in the current base flow dataset:  Int64Index([ 6043,  3745,  5159,  7241,  7820,  3695, 11501, 11432,  1163,\n",
      "             8994,  7972,  2554,  9884,  2008,  6884, 11995,  5200,  4649,\n",
      "            10244, 13775],\n",
      "           dtype='int64')\n",
      "Top indexes of an y_test in the current base flow dataset:  Int64Index([ 6043,  3745,  5159,  7241,  7820,  3695, 11501, 11432,  1163,\n",
      "             8994,  7972,  2554,  9884,  2008,  6884, 11995,  5200,  4649,\n",
      "            10244, 13775],\n",
      "           dtype='int64')\n",
      "Path for tuned params:  /Users/denys_herasymuk/UCU/4course_2term/Bachelor_Thesis/Code/fairness-variance/results/test_meta_learner/acs_income/tuning_results_Folktables_GA_2018_Income_alpha_0.0.csv\n",
      "RandomForestClassifier:  {'bootstrap': True, 'ccp_alpha': 0.0, 'class_weight': None, 'criterion': 'gini', 'max_depth': 100, 'max_features': 'sqrt', 'max_leaf_nodes': None, 'max_samples': None, 'min_impurity_decrease': 0.0, 'min_samples_leaf': 1, 'min_samples_split': 10, 'min_weight_fraction_leaf': 0.0, 'n_estimators': 100, 'n_jobs': None, 'oob_score': False, 'random_state': 200, 'verbose': 0, 'warm_start': False}\n"
     ]
    },
    {
     "data": {
      "text/plain": "Analyze multiple models:   0%|          | 0/1 [00:00<?, ?it/s]",
      "application/vnd.jupyter.widget-view+json": {
       "version_major": 2,
       "version_minor": 0,
       "model_id": "8ce4d4f4303247caab83c29de9bee89f"
      }
     },
     "metadata": {},
     "output_type": "display_data"
    },
    {
     "name": "stdout",
     "output_type": "stream",
     "text": [
      "Enabled a 'meta_learner' mode\n",
      "self.y_pred_test.index[:10] --  Int64Index([6043, 3745, 5159, 7241, 7820, 3695, 11501, 11432, 1163, 8994], dtype='int64')\n",
      "self.error_test.index[:10] --  Int64Index([6043, 3745, 5159, 7241, 7820, 3695, 11501, 11432, 1163, 8994], dtype='int64')\n",
      "[Voting] ................... (1 of 10) Processing gbt-1, total= 6.0min\n",
      "[Voting] ................... (2 of 10) Processing gbt-2, total= 7.2min\n",
      "[Voting] ................... (3 of 10) Processing gbt-3, total= 4.9min\n",
      "[Voting] ................... (4 of 10) Processing gbt-4, total= 4.9min\n",
      "[Voting] ................... (5 of 10) Processing gbt-5, total= 4.9min\n",
      "[Voting] ................... (6 of 10) Processing gbt-6, total= 4.9min\n",
      "[Voting] ................... (7 of 10) Processing gbt-7, total= 7.2min\n",
      "[Voting] ................... (8 of 10) Processing gbt-8, total= 6.5min\n",
      "[Voting] ................... (9 of 10) Processing gbt-9, total= 6.2min\n",
      "[Voting] ................. (10 of 10) Processing gbt-10, total= 7.0min\n",
      "\n",
      "\n",
      "Best params for estimators in the meta-learner ensemble\n",
      "gbt-1: {'max_depth': 5, 'n_estimators': 500, 'subsample': 0.75}\n",
      "gbt-2: {'max_depth': 6, 'n_estimators': 500, 'subsample': 0.75}\n",
      "gbt-3: {'max_depth': 6, 'n_estimators': 100, 'subsample': 0.75}\n",
      "gbt-4: {'max_depth': 6, 'n_estimators': 100, 'subsample': 0.75}\n",
      "gbt-5: {'max_depth': 6, 'n_estimators': 100, 'subsample': 0.75}\n",
      "gbt-6: {'max_depth': 6, 'n_estimators': 100, 'subsample': 0.75}\n",
      "gbt-7: {'max_depth': 6, 'n_estimators': 500, 'subsample': 0.75}\n",
      "gbt-8: {'max_depth': 6, 'n_estimators': 500, 'subsample': 0.75}\n",
      "gbt-9: {'max_depth': 5, 'n_estimators': 500, 'subsample': 0.75}\n",
      "gbt-10: {'max_depth': 5, 'n_estimators': 500, 'subsample': 0.75}\n"
     ]
    }
   ],
   "source": [
    "run_exp_iter_with_disparate_impact(data_loader=exp_iter_data_loader,\n",
    "                                   experiment_seed=experiment_seed,\n",
    "                                   test_set_fraction=TEST_SET_FRACTION,\n",
    "                                   db_writer_func=db_writer_func,\n",
    "                                   fair_intervention_params_lst=FAIR_INTERVENTION_PARAMS_LST,\n",
    "                                   models_params_for_tuning=models_params_for_tuning,\n",
    "                                   metrics_computation_config=metrics_computation_config,\n",
    "                                   custom_table_fields_dct=custom_table_fields_dct,\n",
    "                                   # with_tuning=True,\n",
    "                                   with_tuning=False,\n",
    "                                   tuned_params_df_paths=tuned_params_df_paths,\n",
    "                                   save_results_dir_path=SAVE_RESULTS_DIR_PATH,\n",
    "                                   dataset_name='ACSIncomeDataset',\n",
    "                                   verbose=True)"
   ]
  },
  {
   "cell_type": "markdown",
   "id": "78897f51",
   "metadata": {},
   "source": [
    "### Experiment iteration 3"
   ]
  },
  {
   "cell_type": "code",
   "execution_count": 19,
   "id": "6516a68e",
   "metadata": {
    "ExecuteTime": {
     "end_time": "2024-03-05T02:09:24.887789Z",
     "start_time": "2024-03-05T02:09:24.805323Z"
    }
   },
   "outputs": [],
   "source": [
    "# Configs for an experiment iteration\n",
    "exp_iter_num = 3\n",
    "experiment_seed = EXPERIMENT_SEEDS[exp_iter_num - 1]\n",
    "tuned_params_filenames = [\n",
    "    'tuning_results_Folktables_GA_2018_Income_alpha_0.0.csv'\n",
    "]\n",
    "tuned_params_df_paths = [os.path.join(ROOT_DIR, 'results', 'test_meta_learner', EXPERIMENT_NAME, tuned_params_filename)\n",
    "                         for tuned_params_filename in tuned_params_filenames]\n",
    "custom_table_fields_dct['experiment_iteration'] = f'Exp_iter_{exp_iter_num}'\n",
    "\n",
    "exp_iter_data_loader = copy.deepcopy(data_loader)  # Add deepcopy to avoid data leakage\n",
    "models_params_for_tuning = get_folktables_employment_models_params_for_tuning(experiment_seed)\n",
    "models_params_for_tuning = {\n",
    "    'RandomForestClassifier': models_params_for_tuning['RandomForestClassifier']\n",
    "}"
   ]
  },
  {
   "cell_type": "code",
   "execution_count": 20,
   "id": "7ab04171",
   "metadata": {
    "ExecuteTime": {
     "end_time": "2024-03-05T03:09:49.841346Z",
     "start_time": "2024-03-05T02:09:24.890505Z"
    }
   },
   "outputs": [
    {
     "name": "stderr",
     "output_type": "stream",
     "text": [
      "2024-03-05 04:09:24 experiment_interface.py INFO    : Start an experiment iteration for the following custom params:\n"
     ]
    },
    {
     "name": "stdout",
     "output_type": "stream",
     "text": [
      "{'dataset_split_seed': 300,\n",
      " 'experiment_iteration': 'Exp_iter_3',\n",
      " 'fair_intervention_params_lst': '[0.0]',\n",
      " 'intervention_param': 0.0,\n",
      " 'model_init_seed': 300,\n",
      " 'run_start_date_time': datetime.datetime(2024, 3, 5, 1, 9, 40, 684959, tzinfo=datetime.timezone.utc),\n",
      " 'session_uuid': '8c9cf23a-9b8f-49fd-a7e2-270c2c3db69c'}\n"
     ]
    },
    {
     "data": {
      "text/plain": "Multiple alphas:   0%|          | 0/1 [00:00<?, ?it/s]",
      "application/vnd.jupyter.widget-view+json": {
       "version_major": 2,
       "version_minor": 0,
       "model_id": "4fd0efa62cfb40b7a96e4deeb9785d98"
      }
     },
     "metadata": {},
     "output_type": "display_data"
    },
    {
     "name": "stderr",
     "output_type": "stream",
     "text": [
      "2024-03-05 04:09:25 experiment_interface.py INFO    : The dataset is preprocessed\n",
      "2024-03-05 04:09:25 experiment_interface.py INFO    : Models config is loaded from the input file\n"
     ]
    },
    {
     "name": "stdout",
     "output_type": "stream",
     "text": [
      "intervention_param:  0.0\n",
      "Skip preprocessing\n",
      "cur_base_flow_dataset.X_train_val.columns:  Index(['cat__SCHL_1', 'cat__SCHL_10', 'cat__SCHL_11', 'cat__SCHL_12',\n",
      "       'cat__SCHL_13', 'cat__SCHL_14', 'cat__SCHL_15', 'cat__SCHL_16',\n",
      "       'cat__SCHL_17', 'cat__SCHL_18',\n",
      "       ...\n",
      "       'cat__RELP_2', 'cat__RELP_3', 'cat__RELP_4', 'cat__RELP_5',\n",
      "       'cat__RELP_6', 'cat__RELP_7', 'cat__RELP_8', 'cat__RELP_9', 'num__AGEP',\n",
      "       'num__WKHP'],\n",
      "      dtype='object', length=727)\n",
      "Top indexes of an X_test in the current base flow dataset:  Int64Index([ 4329,   723,  8157,  8934,  5880,  1877,  9980,  9115, 13634,\n",
      "            12168,  6957,  9083, 14260,  5349,  7879,  3078, 10032, 13643,\n",
      "            12025,  7489],\n",
      "           dtype='int64')\n",
      "Top indexes of an y_test in the current base flow dataset:  Int64Index([ 4329,   723,  8157,  8934,  5880,  1877,  9980,  9115, 13634,\n",
      "            12168,  6957,  9083, 14260,  5349,  7879,  3078, 10032, 13643,\n",
      "            12025,  7489],\n",
      "           dtype='int64')\n",
      "Path for tuned params:  /Users/denys_herasymuk/UCU/4course_2term/Bachelor_Thesis/Code/fairness-variance/results/test_meta_learner/acs_income/tuning_results_Folktables_GA_2018_Income_alpha_0.0.csv\n",
      "RandomForestClassifier:  {'bootstrap': True, 'ccp_alpha': 0.0, 'class_weight': None, 'criterion': 'gini', 'max_depth': 100, 'max_features': 'sqrt', 'max_leaf_nodes': None, 'max_samples': None, 'min_impurity_decrease': 0.0, 'min_samples_leaf': 1, 'min_samples_split': 10, 'min_weight_fraction_leaf': 0.0, 'n_estimators': 100, 'n_jobs': None, 'oob_score': False, 'random_state': 300, 'verbose': 0, 'warm_start': False}\n"
     ]
    },
    {
     "data": {
      "text/plain": "Analyze multiple models:   0%|          | 0/1 [00:00<?, ?it/s]",
      "application/vnd.jupyter.widget-view+json": {
       "version_major": 2,
       "version_minor": 0,
       "model_id": "26d935c4b77346b487cb794fb0633eb3"
      }
     },
     "metadata": {},
     "output_type": "display_data"
    },
    {
     "name": "stdout",
     "output_type": "stream",
     "text": [
      "Enabled a 'meta_learner' mode\n",
      "self.y_pred_test.index[:10] --  Int64Index([4329, 723, 8157, 8934, 5880, 1877, 9980, 9115, 13634, 12168], dtype='int64')\n",
      "self.error_test.index[:10] --  Int64Index([4329, 723, 8157, 8934, 5880, 1877, 9980, 9115, 13634, 12168], dtype='int64')\n",
      "[Voting] ................... (1 of 10) Processing gbt-1, total= 4.9min\n",
      "[Voting] ................... (2 of 10) Processing gbt-2, total= 7.1min\n",
      "[Voting] ................... (3 of 10) Processing gbt-3, total= 6.7min\n",
      "[Voting] ................... (4 of 10) Processing gbt-4, total= 6.1min\n",
      "[Voting] ................... (5 of 10) Processing gbt-5, total= 7.1min\n",
      "[Voting] ................... (6 of 10) Processing gbt-6, total= 4.9min\n",
      "[Voting] ................... (7 of 10) Processing gbt-7, total= 6.9min\n",
      "[Voting] ................... (8 of 10) Processing gbt-8, total= 6.6min\n",
      "[Voting] ................... (9 of 10) Processing gbt-9, total= 4.9min\n",
      "[Voting] ................. (10 of 10) Processing gbt-10, total= 5.0min\n",
      "\n",
      "\n",
      "Best params for estimators in the meta-learner ensemble\n",
      "gbt-1: {'max_depth': 6, 'n_estimators': 100, 'subsample': 0.75}\n",
      "gbt-2: {'max_depth': 6, 'n_estimators': 500, 'subsample': 0.75}\n",
      "gbt-3: {'max_depth': 6, 'n_estimators': 500, 'subsample': 0.75}\n",
      "gbt-4: {'max_depth': 5, 'n_estimators': 500, 'subsample': 0.75}\n",
      "gbt-5: {'max_depth': 6, 'n_estimators': 500, 'subsample': 0.75}\n",
      "gbt-6: {'max_depth': 6, 'n_estimators': 100, 'subsample': 0.75}\n",
      "gbt-7: {'max_depth': 6, 'n_estimators': 500, 'subsample': 0.75}\n",
      "gbt-8: {'max_depth': 6, 'n_estimators': 500, 'subsample': 0.75}\n",
      "gbt-9: {'max_depth': 6, 'n_estimators': 100, 'subsample': 0.75}\n",
      "gbt-10: {'max_depth': 6, 'n_estimators': 100, 'subsample': 0.75}\n"
     ]
    }
   ],
   "source": [
    "run_exp_iter_with_disparate_impact(data_loader=exp_iter_data_loader,\n",
    "                                   experiment_seed=experiment_seed,\n",
    "                                   test_set_fraction=TEST_SET_FRACTION,\n",
    "                                   db_writer_func=db_writer_func,\n",
    "                                   fair_intervention_params_lst=FAIR_INTERVENTION_PARAMS_LST,\n",
    "                                   models_params_for_tuning=models_params_for_tuning,\n",
    "                                   metrics_computation_config=metrics_computation_config,\n",
    "                                   custom_table_fields_dct=custom_table_fields_dct,\n",
    "                                   # with_tuning=True,\n",
    "                                   with_tuning=False,\n",
    "                                   tuned_params_df_paths=tuned_params_df_paths,\n",
    "                                   save_results_dir_path=SAVE_RESULTS_DIR_PATH,\n",
    "                                   dataset_name='ACSIncomeDataset',\n",
    "                                   verbose=True)"
   ]
  },
  {
   "cell_type": "markdown",
   "id": "e229123d",
   "metadata": {},
   "source": [
    "### Experiment iteration 4"
   ]
  },
  {
   "cell_type": "code",
   "execution_count": 21,
   "id": "d65487cc",
   "metadata": {
    "ExecuteTime": {
     "end_time": "2024-03-05T03:09:49.921807Z",
     "start_time": "2024-03-05T03:09:49.847859Z"
    }
   },
   "outputs": [],
   "source": [
    "# Configs for an experiment iteration\n",
    "exp_iter_num = 4\n",
    "experiment_seed = EXPERIMENT_SEEDS[exp_iter_num - 1]\n",
    "tuned_params_filenames = [\n",
    "    'tuning_results_Folktables_GA_2018_Income_alpha_0.0.csv'\n",
    "]\n",
    "tuned_params_df_paths = [os.path.join(ROOT_DIR, 'results', 'test_meta_learner', EXPERIMENT_NAME, tuned_params_filename)\n",
    "                         for tuned_params_filename in tuned_params_filenames]\n",
    "custom_table_fields_dct['experiment_iteration'] = f'Exp_iter_{exp_iter_num}'\n",
    "\n",
    "exp_iter_data_loader = copy.deepcopy(data_loader)  # Add deepcopy to avoid data leakage\n",
    "models_params_for_tuning = get_folktables_employment_models_params_for_tuning(experiment_seed)\n",
    "models_params_for_tuning = {\n",
    "    'RandomForestClassifier': models_params_for_tuning['RandomForestClassifier']\n",
    "}"
   ]
  },
  {
   "cell_type": "code",
   "execution_count": 22,
   "id": "a437f806",
   "metadata": {
    "ExecuteTime": {
     "end_time": "2024-03-05T04:04:05.391287Z",
     "start_time": "2024-03-05T03:09:49.929210Z"
    }
   },
   "outputs": [
    {
     "name": "stderr",
     "output_type": "stream",
     "text": [
      "2024-03-05 05:09:49 experiment_interface.py INFO    : Start an experiment iteration for the following custom params:\n"
     ]
    },
    {
     "name": "stdout",
     "output_type": "stream",
     "text": [
      "{'dataset_split_seed': 400,\n",
      " 'experiment_iteration': 'Exp_iter_4',\n",
      " 'fair_intervention_params_lst': '[0.0]',\n",
      " 'intervention_param': 0.0,\n",
      " 'model_init_seed': 400,\n",
      " 'run_start_date_time': datetime.datetime(2024, 3, 5, 2, 9, 25, 412182, tzinfo=datetime.timezone.utc),\n",
      " 'session_uuid': '8c9cf23a-9b8f-49fd-a7e2-270c2c3db69c'}\n"
     ]
    },
    {
     "data": {
      "text/plain": "Multiple alphas:   0%|          | 0/1 [00:00<?, ?it/s]",
      "application/vnd.jupyter.widget-view+json": {
       "version_major": 2,
       "version_minor": 0,
       "model_id": "640f74a8423f4d51a2091d8b766cbaec"
      }
     },
     "metadata": {},
     "output_type": "display_data"
    },
    {
     "name": "stderr",
     "output_type": "stream",
     "text": [
      "2024-03-05 05:09:50 experiment_interface.py INFO    : The dataset is preprocessed\n",
      "2024-03-05 05:09:50 experiment_interface.py INFO    : Models config is loaded from the input file\n"
     ]
    },
    {
     "name": "stdout",
     "output_type": "stream",
     "text": [
      "intervention_param:  0.0\n",
      "Skip preprocessing\n",
      "cur_base_flow_dataset.X_train_val.columns:  Index(['cat__SCHL_1', 'cat__SCHL_10', 'cat__SCHL_11', 'cat__SCHL_12',\n",
      "       'cat__SCHL_13', 'cat__SCHL_14', 'cat__SCHL_15', 'cat__SCHL_16',\n",
      "       'cat__SCHL_17', 'cat__SCHL_18',\n",
      "       ...\n",
      "       'cat__RELP_2', 'cat__RELP_3', 'cat__RELP_4', 'cat__RELP_5',\n",
      "       'cat__RELP_6', 'cat__RELP_7', 'cat__RELP_8', 'cat__RELP_9', 'num__AGEP',\n",
      "       'num__WKHP'],\n",
      "      dtype='object', length=718)\n",
      "Top indexes of an X_test in the current base flow dataset:  Int64Index([ 6425, 11811, 14319,  3284,  9129,  5763,  7549,  1393, 13879,\n",
      "            14802,  8634, 10336,  1486, 14287,  8890,  5961, 10137, 14550,\n",
      "            14981, 11017],\n",
      "           dtype='int64')\n",
      "Top indexes of an y_test in the current base flow dataset:  Int64Index([ 6425, 11811, 14319,  3284,  9129,  5763,  7549,  1393, 13879,\n",
      "            14802,  8634, 10336,  1486, 14287,  8890,  5961, 10137, 14550,\n",
      "            14981, 11017],\n",
      "           dtype='int64')\n",
      "Path for tuned params:  /Users/denys_herasymuk/UCU/4course_2term/Bachelor_Thesis/Code/fairness-variance/results/test_meta_learner/acs_income/tuning_results_Folktables_GA_2018_Income_alpha_0.0.csv\n",
      "RandomForestClassifier:  {'bootstrap': True, 'ccp_alpha': 0.0, 'class_weight': None, 'criterion': 'gini', 'max_depth': 100, 'max_features': 'sqrt', 'max_leaf_nodes': None, 'max_samples': None, 'min_impurity_decrease': 0.0, 'min_samples_leaf': 1, 'min_samples_split': 10, 'min_weight_fraction_leaf': 0.0, 'n_estimators': 100, 'n_jobs': None, 'oob_score': False, 'random_state': 400, 'verbose': 0, 'warm_start': False}\n"
     ]
    },
    {
     "data": {
      "text/plain": "Analyze multiple models:   0%|          | 0/1 [00:00<?, ?it/s]",
      "application/vnd.jupyter.widget-view+json": {
       "version_major": 2,
       "version_minor": 0,
       "model_id": "1a6483584b0b4f6498e7a3a41587bd32"
      }
     },
     "metadata": {},
     "output_type": "display_data"
    },
    {
     "name": "stdout",
     "output_type": "stream",
     "text": [
      "Enabled a 'meta_learner' mode\n",
      "self.y_pred_test.index[:10] --  Int64Index([6425, 11811, 14319, 3284, 9129, 5763, 7549, 1393, 13879, 14802], dtype='int64')\n",
      "self.error_test.index[:10] --  Int64Index([6425, 11811, 14319, 3284, 9129, 5763, 7549, 1393, 13879, 14802], dtype='int64')\n",
      "[Voting] ................... (1 of 10) Processing gbt-1, total= 5.8min\n",
      "[Voting] ................... (2 of 10) Processing gbt-2, total= 4.7min\n",
      "[Voting] ................... (3 of 10) Processing gbt-3, total= 6.6min\n",
      "[Voting] ................... (4 of 10) Processing gbt-4, total= 6.5min\n",
      "[Voting] ................... (5 of 10) Processing gbt-5, total= 7.0min\n",
      "[Voting] ................... (6 of 10) Processing gbt-6, total= 5.4min\n",
      "[Voting] ................... (7 of 10) Processing gbt-7, total= 6.8min\n",
      "[Voting] ................... (8 of 10) Processing gbt-8, total= 4.9min\n",
      "[Voting] ................... (9 of 10) Processing gbt-9, total= 3.3min\n",
      "[Voting] ................. (10 of 10) Processing gbt-10, total= 3.0min\n",
      "\n",
      "\n",
      "Best params for estimators in the meta-learner ensemble\n",
      "gbt-1: {'max_depth': 6, 'n_estimators': 500, 'subsample': 0.5}\n",
      "gbt-2: {'max_depth': 6, 'n_estimators': 100, 'subsample': 0.75}\n",
      "gbt-3: {'max_depth': 6, 'n_estimators': 500, 'subsample': 0.75}\n",
      "gbt-4: {'max_depth': 6, 'n_estimators': 500, 'subsample': 0.75}\n",
      "gbt-5: {'max_depth': 6, 'n_estimators': 500, 'subsample': 0.75}\n",
      "gbt-6: {'max_depth': 6, 'n_estimators': 500, 'subsample': 0.5}\n",
      "gbt-7: {'max_depth': 5, 'n_estimators': 500, 'subsample': 0.75}\n",
      "gbt-8: {'max_depth': 6, 'n_estimators': 100, 'subsample': 0.75}\n",
      "gbt-9: {'max_depth': 6, 'n_estimators': 500, 'subsample': 0.75}\n",
      "gbt-10: {'max_depth': 6, 'n_estimators': 500, 'subsample': 0.75}\n"
     ]
    }
   ],
   "source": [
    "run_exp_iter_with_disparate_impact(data_loader=exp_iter_data_loader,\n",
    "                                   experiment_seed=experiment_seed,\n",
    "                                   test_set_fraction=TEST_SET_FRACTION,\n",
    "                                   db_writer_func=db_writer_func,\n",
    "                                   fair_intervention_params_lst=FAIR_INTERVENTION_PARAMS_LST,\n",
    "                                   models_params_for_tuning=models_params_for_tuning,\n",
    "                                   metrics_computation_config=metrics_computation_config,\n",
    "                                   custom_table_fields_dct=custom_table_fields_dct,\n",
    "                                   # with_tuning=True,\n",
    "                                   with_tuning=False,\n",
    "                                   tuned_params_df_paths=tuned_params_df_paths,\n",
    "                                   save_results_dir_path=SAVE_RESULTS_DIR_PATH,\n",
    "                                   dataset_name='ACSIncomeDataset',\n",
    "                                   verbose=True)"
   ]
  },
  {
   "cell_type": "markdown",
   "id": "5ece7d3c",
   "metadata": {},
   "source": [
    "### Experiment iteration 5"
   ]
  },
  {
   "cell_type": "code",
   "execution_count": 23,
   "id": "2b355f19",
   "metadata": {
    "ExecuteTime": {
     "end_time": "2024-03-05T04:04:05.451362Z",
     "start_time": "2024-03-05T04:04:05.394853Z"
    }
   },
   "outputs": [],
   "source": [
    "# Configs for an experiment iteration\n",
    "exp_iter_num = 5\n",
    "experiment_seed = EXPERIMENT_SEEDS[exp_iter_num - 1]\n",
    "tuned_params_filenames = [\n",
    "    'tuning_results_Folktables_GA_2018_Income_alpha_0.0.csv'\n",
    "]\n",
    "tuned_params_df_paths = [os.path.join(ROOT_DIR, 'results', 'test_meta_learner', EXPERIMENT_NAME, tuned_params_filename)\n",
    "                         for tuned_params_filename in tuned_params_filenames]\n",
    "custom_table_fields_dct['experiment_iteration'] = f'Exp_iter_{exp_iter_num}'\n",
    "\n",
    "exp_iter_data_loader = copy.deepcopy(data_loader)  # Add deepcopy to avoid data leakage\n",
    "models_params_for_tuning = get_folktables_employment_models_params_for_tuning(experiment_seed)\n",
    "models_params_for_tuning = {\n",
    "    'RandomForestClassifier': models_params_for_tuning['RandomForestClassifier']\n",
    "}"
   ]
  },
  {
   "cell_type": "code",
   "execution_count": 24,
   "id": "5ccedf69",
   "metadata": {
    "ExecuteTime": {
     "end_time": "2024-03-05T04:29:48.087297Z",
     "start_time": "2024-03-05T04:04:05.451990Z"
    }
   },
   "outputs": [
    {
     "name": "stderr",
     "output_type": "stream",
     "text": [
      "2024-03-05 06:04:05 experiment_interface.py INFO    : Start an experiment iteration for the following custom params:\n"
     ]
    },
    {
     "name": "stdout",
     "output_type": "stream",
     "text": [
      "{'dataset_split_seed': 500,\n",
      " 'experiment_iteration': 'Exp_iter_5',\n",
      " 'fair_intervention_params_lst': '[0.0]',\n",
      " 'intervention_param': 0.0,\n",
      " 'model_init_seed': 500,\n",
      " 'run_start_date_time': datetime.datetime(2024, 3, 5, 3, 9, 50, 379641, tzinfo=datetime.timezone.utc),\n",
      " 'session_uuid': '8c9cf23a-9b8f-49fd-a7e2-270c2c3db69c'}\n"
     ]
    },
    {
     "data": {
      "text/plain": "Multiple alphas:   0%|          | 0/1 [00:00<?, ?it/s]",
      "application/vnd.jupyter.widget-view+json": {
       "version_major": 2,
       "version_minor": 0,
       "model_id": "c65582d3f2ef4398871d91732a05a1c2"
      }
     },
     "metadata": {},
     "output_type": "display_data"
    },
    {
     "name": "stdout",
     "output_type": "stream",
     "text": [
      "intervention_param:  0.0\n",
      "Skip preprocessing\n"
     ]
    },
    {
     "name": "stderr",
     "output_type": "stream",
     "text": [
      "2024-03-05 06:04:05 experiment_interface.py INFO    : The dataset is preprocessed\n",
      "2024-03-05 06:04:05 experiment_interface.py INFO    : Models config is loaded from the input file\n"
     ]
    },
    {
     "name": "stdout",
     "output_type": "stream",
     "text": [
      "cur_base_flow_dataset.X_train_val.columns:  Index(['cat__SCHL_1', 'cat__SCHL_10', 'cat__SCHL_11', 'cat__SCHL_12',\n",
      "       'cat__SCHL_13', 'cat__SCHL_14', 'cat__SCHL_15', 'cat__SCHL_16',\n",
      "       'cat__SCHL_17', 'cat__SCHL_18',\n",
      "       ...\n",
      "       'cat__RELP_2', 'cat__RELP_3', 'cat__RELP_4', 'cat__RELP_5',\n",
      "       'cat__RELP_6', 'cat__RELP_7', 'cat__RELP_8', 'cat__RELP_9', 'num__AGEP',\n",
      "       'num__WKHP'],\n",
      "      dtype='object', length=729)\n",
      "Top indexes of an X_test in the current base flow dataset:  Int64Index([ 8104,   580,  8954,  6500,  5436,  3490,  1621, 11610,  7067,\n",
      "            10637,   767, 10997,  6202,  4468,  8440, 10810, 11409,  3682,\n",
      "            12856, 14104],\n",
      "           dtype='int64')\n",
      "Top indexes of an y_test in the current base flow dataset:  Int64Index([ 8104,   580,  8954,  6500,  5436,  3490,  1621, 11610,  7067,\n",
      "            10637,   767, 10997,  6202,  4468,  8440, 10810, 11409,  3682,\n",
      "            12856, 14104],\n",
      "           dtype='int64')\n",
      "Path for tuned params:  /Users/denys_herasymuk/UCU/4course_2term/Bachelor_Thesis/Code/fairness-variance/results/test_meta_learner/acs_income/tuning_results_Folktables_GA_2018_Income_alpha_0.0.csv\n",
      "RandomForestClassifier:  {'bootstrap': True, 'ccp_alpha': 0.0, 'class_weight': None, 'criterion': 'gini', 'max_depth': 100, 'max_features': 'sqrt', 'max_leaf_nodes': None, 'max_samples': None, 'min_impurity_decrease': 0.0, 'min_samples_leaf': 1, 'min_samples_split': 10, 'min_weight_fraction_leaf': 0.0, 'n_estimators': 100, 'n_jobs': None, 'oob_score': False, 'random_state': 500, 'verbose': 0, 'warm_start': False}\n"
     ]
    },
    {
     "data": {
      "text/plain": "Analyze multiple models:   0%|          | 0/1 [00:00<?, ?it/s]",
      "application/vnd.jupyter.widget-view+json": {
       "version_major": 2,
       "version_minor": 0,
       "model_id": "b332cac8d4dd4274a3360f96e972b9e5"
      }
     },
     "metadata": {},
     "output_type": "display_data"
    },
    {
     "name": "stdout",
     "output_type": "stream",
     "text": [
      "Enabled a 'meta_learner' mode\n",
      "self.y_pred_test.index[:10] --  Int64Index([8104, 580, 8954, 6500, 5436, 3490, 1621, 11610, 7067, 10637], dtype='int64')\n",
      "self.error_test.index[:10] --  Int64Index([8104, 580, 8954, 6500, 5436, 3490, 1621, 11610, 7067, 10637], dtype='int64')\n",
      "[Voting] ................... (1 of 10) Processing gbt-1, total= 2.4min\n",
      "[Voting] ................... (2 of 10) Processing gbt-2, total= 2.4min\n",
      "[Voting] ................... (3 of 10) Processing gbt-3, total= 2.5min\n",
      "[Voting] ................... (4 of 10) Processing gbt-4, total= 2.4min\n",
      "[Voting] ................... (5 of 10) Processing gbt-5, total= 2.4min\n",
      "[Voting] ................... (6 of 10) Processing gbt-6, total= 3.1min\n",
      "[Voting] ................... (7 of 10) Processing gbt-7, total= 3.1min\n",
      "[Voting] ................... (8 of 10) Processing gbt-8, total= 2.5min\n",
      "[Voting] ................... (9 of 10) Processing gbt-9, total= 2.4min\n",
      "[Voting] ................. (10 of 10) Processing gbt-10, total= 2.5min\n",
      "\n",
      "\n",
      "Best params for estimators in the meta-learner ensemble\n",
      "gbt-1: {'max_depth': 6, 'n_estimators': 100, 'subsample': 0.75}\n",
      "gbt-2: {'max_depth': 5, 'n_estimators': 100, 'subsample': 0.75}\n",
      "gbt-3: {'max_depth': 6, 'n_estimators': 100, 'subsample': 0.75}\n",
      "gbt-4: {'max_depth': 6, 'n_estimators': 100, 'subsample': 0.75}\n",
      "gbt-5: {'max_depth': 6, 'n_estimators': 100, 'subsample': 0.75}\n",
      "gbt-6: {'max_depth': 6, 'n_estimators': 500, 'subsample': 0.75}\n",
      "gbt-7: {'max_depth': 6, 'n_estimators': 500, 'subsample': 0.75}\n",
      "gbt-8: {'max_depth': 6, 'n_estimators': 100, 'subsample': 0.75}\n",
      "gbt-9: {'max_depth': 6, 'n_estimators': 100, 'subsample': 0.5}\n",
      "gbt-10: {'max_depth': 6, 'n_estimators': 100, 'subsample': 0.75}\n"
     ]
    }
   ],
   "source": [
    "run_exp_iter_with_disparate_impact(data_loader=exp_iter_data_loader,\n",
    "                                   experiment_seed=experiment_seed,\n",
    "                                   test_set_fraction=TEST_SET_FRACTION,\n",
    "                                   db_writer_func=db_writer_func,\n",
    "                                   fair_intervention_params_lst=FAIR_INTERVENTION_PARAMS_LST,\n",
    "                                   models_params_for_tuning=models_params_for_tuning,\n",
    "                                   metrics_computation_config=metrics_computation_config,\n",
    "                                   custom_table_fields_dct=custom_table_fields_dct,\n",
    "                                   # with_tuning=True,\n",
    "                                   with_tuning=False,\n",
    "                                   tuned_params_df_paths=tuned_params_df_paths,\n",
    "                                   save_results_dir_path=SAVE_RESULTS_DIR_PATH,\n",
    "                                   dataset_name='ACSIncomeDataset',\n",
    "                                   verbose=True)"
   ]
  },
  {
   "cell_type": "markdown",
   "id": "78503d81",
   "metadata": {},
   "source": [
    "### Experiment iteration 6"
   ]
  },
  {
   "cell_type": "code",
   "execution_count": 25,
   "id": "70aa9c3b",
   "metadata": {
    "ExecuteTime": {
     "end_time": "2024-03-05T04:29:48.144377Z",
     "start_time": "2024-03-05T04:29:48.090976Z"
    }
   },
   "outputs": [],
   "source": [
    "# Configs for an experiment iteration\n",
    "exp_iter_num = 6\n",
    "experiment_seed = EXPERIMENT_SEEDS[exp_iter_num - 1]\n",
    "tuned_params_filenames = [\n",
    "    'tuning_results_Folktables_GA_2018_Income_alpha_0.0.csv'\n",
    "]\n",
    "tuned_params_df_paths = [os.path.join(ROOT_DIR, 'results', 'test_meta_learner', EXPERIMENT_NAME, tuned_params_filename)\n",
    "                         for tuned_params_filename in tuned_params_filenames]\n",
    "custom_table_fields_dct['experiment_iteration'] = f'Exp_iter_{exp_iter_num}'\n",
    "\n",
    "exp_iter_data_loader = copy.deepcopy(data_loader)  # Add deepcopy to avoid data leakage\n",
    "models_params_for_tuning = get_folktables_employment_models_params_for_tuning(experiment_seed)\n",
    "models_params_for_tuning = {\n",
    "    'RandomForestClassifier': models_params_for_tuning['RandomForestClassifier']\n",
    "}"
   ]
  },
  {
   "cell_type": "code",
   "execution_count": 26,
   "id": "680806fa",
   "metadata": {
    "ExecuteTime": {
     "end_time": "2024-03-05T05:00:27.150956Z",
     "start_time": "2024-03-05T04:29:48.144839Z"
    }
   },
   "outputs": [
    {
     "name": "stderr",
     "output_type": "stream",
     "text": [
      "2024-03-05 06:29:48 experiment_interface.py INFO    : Start an experiment iteration for the following custom params:\n"
     ]
    },
    {
     "name": "stdout",
     "output_type": "stream",
     "text": [
      "{'dataset_split_seed': 600,\n",
      " 'experiment_iteration': 'Exp_iter_6',\n",
      " 'fair_intervention_params_lst': '[0.0]',\n",
      " 'intervention_param': 0.0,\n",
      " 'model_init_seed': 600,\n",
      " 'run_start_date_time': datetime.datetime(2024, 3, 5, 4, 4, 5, 704373, tzinfo=datetime.timezone.utc),\n",
      " 'session_uuid': '8c9cf23a-9b8f-49fd-a7e2-270c2c3db69c'}\n"
     ]
    },
    {
     "data": {
      "text/plain": "Multiple alphas:   0%|          | 0/1 [00:00<?, ?it/s]",
      "application/vnd.jupyter.widget-view+json": {
       "version_major": 2,
       "version_minor": 0,
       "model_id": "6b001d41347449428d83de298ae0aec4"
      }
     },
     "metadata": {},
     "output_type": "display_data"
    },
    {
     "name": "stderr",
     "output_type": "stream",
     "text": [
      "2024-03-05 06:29:48 experiment_interface.py INFO    : The dataset is preprocessed\n"
     ]
    },
    {
     "name": "stdout",
     "output_type": "stream",
     "text": [
      "intervention_param:  0.0\n",
      "Skip preprocessing\n"
     ]
    },
    {
     "name": "stderr",
     "output_type": "stream",
     "text": [
      "2024-03-05 06:29:48 experiment_interface.py INFO    : Models config is loaded from the input file\n"
     ]
    },
    {
     "name": "stdout",
     "output_type": "stream",
     "text": [
      "cur_base_flow_dataset.X_train_val.columns:  Index(['cat__SCHL_1', 'cat__SCHL_10', 'cat__SCHL_11', 'cat__SCHL_12',\n",
      "       'cat__SCHL_13', 'cat__SCHL_14', 'cat__SCHL_15', 'cat__SCHL_16',\n",
      "       'cat__SCHL_17', 'cat__SCHL_18',\n",
      "       ...\n",
      "       'cat__RELP_2', 'cat__RELP_3', 'cat__RELP_4', 'cat__RELP_5',\n",
      "       'cat__RELP_6', 'cat__RELP_7', 'cat__RELP_8', 'cat__RELP_9', 'num__AGEP',\n",
      "       'num__WKHP'],\n",
      "      dtype='object', length=730)\n",
      "Top indexes of an X_test in the current base flow dataset:  Int64Index([ 2649,  1964, 14464,  4377, 14152,  5747,  1529, 10243, 12578,\n",
      "             9794,  7142, 14347,  6387,  2917,   317,  9085,  5821, 11007,\n",
      "             8142,  3719],\n",
      "           dtype='int64')\n",
      "Top indexes of an y_test in the current base flow dataset:  Int64Index([ 2649,  1964, 14464,  4377, 14152,  5747,  1529, 10243, 12578,\n",
      "             9794,  7142, 14347,  6387,  2917,   317,  9085,  5821, 11007,\n",
      "             8142,  3719],\n",
      "           dtype='int64')\n",
      "Path for tuned params:  /Users/denys_herasymuk/UCU/4course_2term/Bachelor_Thesis/Code/fairness-variance/results/test_meta_learner/acs_income/tuning_results_Folktables_GA_2018_Income_alpha_0.0.csv\n",
      "RandomForestClassifier:  {'bootstrap': True, 'ccp_alpha': 0.0, 'class_weight': None, 'criterion': 'gini', 'max_depth': 100, 'max_features': 'sqrt', 'max_leaf_nodes': None, 'max_samples': None, 'min_impurity_decrease': 0.0, 'min_samples_leaf': 1, 'min_samples_split': 10, 'min_weight_fraction_leaf': 0.0, 'n_estimators': 100, 'n_jobs': None, 'oob_score': False, 'random_state': 600, 'verbose': 0, 'warm_start': False}\n"
     ]
    },
    {
     "data": {
      "text/plain": "Analyze multiple models:   0%|          | 0/1 [00:00<?, ?it/s]",
      "application/vnd.jupyter.widget-view+json": {
       "version_major": 2,
       "version_minor": 0,
       "model_id": "975b2b101b67472093abb474f385a558"
      }
     },
     "metadata": {},
     "output_type": "display_data"
    },
    {
     "name": "stdout",
     "output_type": "stream",
     "text": [
      "Enabled a 'meta_learner' mode\n",
      "self.y_pred_test.index[:10] --  Int64Index([2649, 1964, 14464, 4377, 14152, 5747, 1529, 10243, 12578, 9794], dtype='int64')\n",
      "self.error_test.index[:10] --  Int64Index([2649, 1964, 14464, 4377, 14152, 5747, 1529, 10243, 12578, 9794], dtype='int64')\n",
      "[Voting] ................... (1 of 10) Processing gbt-1, total= 3.0min\n",
      "[Voting] ................... (2 of 10) Processing gbt-2, total= 3.1min\n",
      "[Voting] ................... (3 of 10) Processing gbt-3, total= 3.1min\n",
      "[Voting] ................... (4 of 10) Processing gbt-4, total= 3.1min\n",
      "[Voting] ................... (5 of 10) Processing gbt-5, total= 3.1min\n",
      "[Voting] ................... (6 of 10) Processing gbt-6, total= 3.0min\n",
      "[Voting] ................... (7 of 10) Processing gbt-7, total= 3.1min\n",
      "[Voting] ................... (8 of 10) Processing gbt-8, total= 3.1min\n",
      "[Voting] ................... (9 of 10) Processing gbt-9, total= 3.1min\n",
      "[Voting] ................. (10 of 10) Processing gbt-10, total= 3.1min\n",
      "\n",
      "\n",
      "Best params for estimators in the meta-learner ensemble\n",
      "gbt-1: {'max_depth': 6, 'n_estimators': 500, 'subsample': 0.75}\n",
      "gbt-2: {'max_depth': 6, 'n_estimators': 500, 'subsample': 0.75}\n",
      "gbt-3: {'max_depth': 6, 'n_estimators': 500, 'subsample': 0.75}\n",
      "gbt-4: {'max_depth': 6, 'n_estimators': 500, 'subsample': 0.75}\n",
      "gbt-5: {'max_depth': 6, 'n_estimators': 500, 'subsample': 0.75}\n",
      "gbt-6: {'max_depth': 6, 'n_estimators': 500, 'subsample': 0.75}\n",
      "gbt-7: {'max_depth': 6, 'n_estimators': 500, 'subsample': 0.75}\n",
      "gbt-8: {'max_depth': 6, 'n_estimators': 500, 'subsample': 0.75}\n",
      "gbt-9: {'max_depth': 6, 'n_estimators': 500, 'subsample': 0.75}\n",
      "gbt-10: {'max_depth': 6, 'n_estimators': 500, 'subsample': 0.75}\n"
     ]
    }
   ],
   "source": [
    "run_exp_iter_with_disparate_impact(data_loader=exp_iter_data_loader,\n",
    "                                   experiment_seed=experiment_seed,\n",
    "                                   test_set_fraction=TEST_SET_FRACTION,\n",
    "                                   db_writer_func=db_writer_func,\n",
    "                                   fair_intervention_params_lst=FAIR_INTERVENTION_PARAMS_LST,\n",
    "                                   models_params_for_tuning=models_params_for_tuning,\n",
    "                                   metrics_computation_config=metrics_computation_config,\n",
    "                                   custom_table_fields_dct=custom_table_fields_dct,\n",
    "                                   # with_tuning=True,\n",
    "                                   with_tuning=False,\n",
    "                                   tuned_params_df_paths=tuned_params_df_paths,\n",
    "                                   save_results_dir_path=SAVE_RESULTS_DIR_PATH,\n",
    "                                   dataset_name='ACSIncomeDataset',\n",
    "                                   verbose=True)"
   ]
  },
  {
   "cell_type": "code",
   "execution_count": 26,
   "id": "d0c842dd",
   "metadata": {
    "ExecuteTime": {
     "end_time": "2024-03-05T05:00:27.155597Z",
     "start_time": "2024-03-05T05:00:27.154664Z"
    }
   },
   "outputs": [],
   "source": []
  }
 ],
 "metadata": {
  "kernelspec": {
   "display_name": "Python 3",
   "language": "python",
   "name": "python3"
  },
  "language_info": {
   "codemirror_mode": {
    "name": "ipython",
    "version": 3
   },
   "file_extension": ".py",
   "mimetype": "text/x-python",
   "name": "python",
   "nbconvert_exporter": "python",
   "pygments_lexer": "ipython3",
   "version": "3.8.5"
  }
 },
 "nbformat": 4,
 "nbformat_minor": 5
}
